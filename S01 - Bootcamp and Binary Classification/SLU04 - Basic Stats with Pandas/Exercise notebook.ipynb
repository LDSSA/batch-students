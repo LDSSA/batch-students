{
 "cells": [
  {
   "cell_type": "markdown",
   "id": "844ece24-8e60-4316-8db7-5439605b2858",
   "metadata": {
    "deletable": false,
    "editable": false,
    "nbgrader": {
     "grade": false,
     "grade_id": "cell-cf4bdd4b839f17c5",
     "locked": true,
     "schema_version": 3,
     "solution": false,
     "task": false
    }
   },
   "source": [
    "# SLU04 - Basic Stats with Pandas: Exercise notebook\n",
    "\n",
    "In these exercises, we'll use a dataset with information on books from [Goodreads](https://www.goodreads.com/). Goodreads is a platform that allows users to rate and review books. The dataset has been extracted from [Kaggle](https://www.kaggle.com/).\n",
    "\n",
    "## Objective\n",
    "\n",
    "The goal of these exercises is for you to learn how to use pandas to obtain simple statistics from datasets. The following will be tested:\n",
    "- Minimum, maximum, argmin, argmax\n",
    "- Mean, median & mode\n",
    "- Standard deviation and variance\n",
    "- Skewness & Kurtosis\n",
    "- Quantiles\n",
    "- Outliers & how to deal with them"
   ]
  },
  {
   "cell_type": "markdown",
   "id": "19d3eba4-8daf-4331-b2cb-ed0494df4224",
   "metadata": {
    "deletable": false,
    "editable": false,
    "nbgrader": {
     "grade": false,
     "grade_id": "cell-310bdcceebbb8d52",
     "locked": true,
     "schema_version": 3,
     "solution": false,
     "task": false
    }
   },
   "source": [
    "## Dataset information\n",
    "\n",
    "![](media/goodreads.jpg)"
   ]
  },
  {
   "cell_type": "markdown",
   "id": "d406b255-d924-4a3b-99f2-0aa5b686062e",
   "metadata": {
    "deletable": false,
    "editable": false,
    "nbgrader": {
     "grade": false,
     "grade_id": "cell-35b412ab3e4d0f71",
     "locked": true,
     "schema_version": 3,
     "solution": false,
     "task": false
    }
   },
   "source": [
    "This dataset contains a sample of ~57,000 books rated and reviewed by users on Goodreads.\n",
    "\n",
    "The fields in the dataset are the following:\n",
    "\n",
    "- `Id`: Book ID on Goodreads\n",
    "- `Name`: Book title\n",
    "- `pagesNumber`: Number of pages\n",
    "- `Publisher`: Publisher name\n",
    "- `CountsOfReview`: Counts of text review\n",
    "- `PublishYear`: Year the book was published\n",
    "- `Authors`: Book author\n",
    "- `Rating`: Average rating of the book (0.0 - 5.0)\n",
    "- `ISBN`: Unique book identifier (International Standard Book Number)"
   ]
  },
  {
   "cell_type": "code",
   "execution_count": null,
   "id": "16b0c039",
   "metadata": {
    "deletable": false,
    "editable": false,
    "nbgrader": {
     "grade": false,
     "grade_id": "cell-3a7c752ca246892c",
     "locked": true,
     "schema_version": 3,
     "solution": false,
     "task": false
    }
   },
   "outputs": [],
   "source": [
    "import pandas as pd\n",
    "import numpy as np\n",
    "import matplotlib.pyplot as plt\n",
    "import hashlib\n",
    "\n",
    "def _hash(s):\n",
    "    return hashlib.blake2b(bytes(str(s), encoding='utf8'), digest_size=5).hexdigest()"
   ]
  },
  {
   "cell_type": "code",
   "execution_count": null,
   "id": "6611cad7",
   "metadata": {
    "deletable": false,
    "editable": false,
    "nbgrader": {
     "grade": false,
     "grade_id": "cell-05bad370cf6d127e",
     "locked": true,
     "schema_version": 3,
     "solution": false,
     "task": false
    }
   },
   "outputs": [],
   "source": [
    "data = pd.read_csv('data/books.csv', delimiter=';').set_index(\"Id\")\n",
    "data.head()"
   ]
  },
  {
   "cell_type": "markdown",
   "id": "4b80582f",
   "metadata": {
    "deletable": false,
    "editable": false,
    "nbgrader": {
     "grade": false,
     "grade_id": "cell-bcc1b9b0dd6afbdc",
     "locked": true,
     "schema_version": 3,
     "solution": false,
     "task": false
    }
   },
   "source": [
    "## Exercise 1 - Basic stats\n",
    "\n",
    "Let's start by performing basic descriptive statistics:\n",
    "\n",
    "- Check how many non-missing values exist for each column, the result should be a pandas series\n",
    "- Sum the `Rating` variable and round the result to 2 decimal digits to supress double-precision floating-point numbers accuracy issues\n",
    "- Obtain a NumPy array of all the unique values in the `PublishYear` column"
   ]
  },
  {
   "cell_type": "code",
   "execution_count": null,
   "id": "321d14e2",
   "metadata": {
    "deletable": false,
    "nbgrader": {
     "grade": false,
     "grade_id": "cell-db3ef45dd2026289",
     "locked": false,
     "schema_version": 3,
     "solution": true,
     "task": false
    }
   },
   "outputs": [],
   "source": [
    "# count_values = ...\n",
    "# sum_rating = ...\n",
    "# publish_years = ... # Hint: Using the first 3 rows of the dataframe\n",
    "#                       as example, the result should be:\n",
    "#                       array([2004, 2003, 2005, ...])\n",
    "\n",
    "# YOUR CODE HERE\n",
    "raise NotImplementedError()"
   ]
  },
  {
   "cell_type": "code",
   "execution_count": null,
   "id": "828d6d9a",
   "metadata": {
    "deletable": false,
    "editable": false,
    "nbgrader": {
     "grade": true,
     "grade_id": "cell-6a0888b546093ca7",
     "locked": true,
     "points": 3,
     "schema_version": 3,
     "solution": false,
     "task": false
    }
   },
   "outputs": [],
   "source": [
    "assert isinstance(count_values, pd.Series), 'The count_values variable should be a pandas series.'\n",
    "assert _hash(count_values) == '5426500012', 'The count_values variable is not correct.'\n",
    "assert isinstance(sum_rating, float), 'The sum_rating variable should be a float.'\n",
    "assert _hash(sum_rating) == 'b01928ee4e', 'The sum of the ratings is not correct.'\n",
    "assert isinstance(publish_years, np.ndarray), 'The publish_years variable should be a numpy array.'\n",
    "assert _hash(np.sort(publish_years)) == 'd40c638f66', 'The values of the years are not correct.'\n",
    "print(\"---- Yay! All asserts passed ---- \")"
   ]
  },
  {
   "cell_type": "markdown",
   "id": "d71d082a",
   "metadata": {
    "deletable": false,
    "editable": false,
    "nbgrader": {
     "grade": false,
     "grade_id": "cell-f0238b42976e21b6",
     "locked": true,
     "schema_version": 3,
     "solution": false,
     "task": false
    }
   },
   "source": [
    "## Exercise 2 - Rating stats\n",
    "\n",
    "Let's have a look at the `Rating` variable. Find the following information:\n",
    "\n",
    "- What are the minimum and maximum rating values?\n",
    "- What is the most common rating?\n",
    "- What is the average rating?\n",
    "- What is the median rating?\n",
    "- What is the standard deviation of the rating?"
   ]
  },
  {
   "cell_type": "code",
   "execution_count": null,
   "id": "c8514142",
   "metadata": {
    "deletable": false,
    "nbgrader": {
     "grade": false,
     "grade_id": "cell-f893ab0625857775",
     "locked": false,
     "schema_version": 3,
     "solution": true,
     "task": false
    }
   },
   "outputs": [],
   "source": [
    "# rating_maximum = ...\n",
    "# rating_minimum = ...\n",
    "# rating_most_common = ...  # Hint: you should return a number, not a pandas Series :)\n",
    "# rating_mean = ...\n",
    "# rating_median = ...\n",
    "# rating_std_dev = ...\n",
    "\n",
    "# YOUR CODE HERE\n",
    "raise NotImplementedError()"
   ]
  },
  {
   "cell_type": "code",
   "execution_count": null,
   "id": "41f0e52a",
   "metadata": {
    "deletable": false,
    "editable": false,
    "nbgrader": {
     "grade": true,
     "grade_id": "cell-2e1e593c4b90770a",
     "locked": true,
     "points": 3,
     "schema_version": 3,
     "solution": false,
     "task": false
    }
   },
   "outputs": [],
   "source": [
    "assert rating_maximum==5, 'The maximum is not correct.'\n",
    "assert rating_minimum==0, 'The minimum is not correct.'\n",
    "assert isinstance(rating_most_common, float), \"most_common should be of type float\"\n",
    "assert rating_most_common==0, 'The most_common value is not correct.'\n",
    "np.testing.assert_approx_equal(rating_mean, 3.66, 2, err_msg='The rating mean is not correct.')\n",
    "np.testing.assert_approx_equal(rating_median, 3.90, 2, err_msg='The rating median is not correct.')\n",
    "np.testing.assert_approx_equal(rating_std_dev, 1.01, 2, err_msg='The rating standard deviation is not correct.')\n",
    "print(\"---- Well Done! All asserts passed ---- \")"
   ]
  },
  {
   "cell_type": "markdown",
   "id": "f3c0e709",
   "metadata": {
    "deletable": false,
    "editable": false,
    "nbgrader": {
     "grade": false,
     "grade_id": "cell-679bef613b182f8b",
     "locked": true,
     "schema_version": 3,
     "solution": false,
     "task": false
    }
   },
   "source": [
    "## Exercise 3 - Longest and shortest books\n",
    "\n",
    "Let's have a look at the `pagesNumber` variable.\n",
    "\n",
    "- How many pages has the longest book? What is its `Id`? What is its `Title`?\n",
    "- How many pages has the shortest book? What is its `Id`? What is its `Title`?\n",
    "\n",
    "Note: find the first book in the list that has the maximum/minimum number of pages."
   ]
  },
  {
   "cell_type": "code",
   "execution_count": null,
   "id": "1a5c542d",
   "metadata": {
    "deletable": false,
    "nbgrader": {
     "grade": false,
     "grade_id": "cell-b300d2b022a8934a",
     "locked": false,
     "schema_version": 3,
     "solution": true,
     "task": false
    }
   },
   "outputs": [],
   "source": [
    "# number_pages_longest_book = ...\n",
    "# id_longest_book = ...\n",
    "# title_longest_book = ...\n",
    "\n",
    "# number_pages_shortest_book = ...\n",
    "# id_shortest_book = ...\n",
    "# title_shortest_book = ...\n",
    "\n",
    "# YOUR CODE HERE\n",
    "raise NotImplementedError()"
   ]
  },
  {
   "cell_type": "code",
   "execution_count": null,
   "id": "b977c90d",
   "metadata": {
    "deletable": false,
    "editable": false,
    "nbgrader": {
     "grade": true,
     "grade_id": "cell-67191ee0157260db",
     "locked": true,
     "points": 2,
     "schema_version": 3,
     "solution": false,
     "task": false
    }
   },
   "outputs": [],
   "source": [
    "assert _hash(number_pages_longest_book) == 'f51e03e20b', \"Not correct. Check the number of pages of the longest book.\"\n",
    "assert _hash(id_longest_book) == 'b52d9ab6c9', \"Not correct. Check the id of the longest book.\"\n",
    "assert _hash(title_longest_book) == '0eba5341e2', \"Not correct. Check the title of the longest book.\"\n",
    "assert _hash(number_pages_shortest_book) == '5b4838043f', \"Not correct. Check the number of pages of the shortest book.\"\n",
    "assert _hash(id_shortest_book) == 'a020898a9d', \"Not correct. Check the id of the shortest book.\"\n",
    "assert _hash(title_shortest_book) == '9e83dcedfd', \"Not correct. Check the title of the shortest book.\"\n",
    "print(\"---- UhuuuuL! All asserts passed ---- \")"
   ]
  },
  {
   "cell_type": "markdown",
   "id": "97490715",
   "metadata": {
    "deletable": false,
    "editable": false,
    "nbgrader": {
     "grade": false,
     "grade_id": "cell-57947ea652e2cb18",
     "locked": true,
     "schema_version": 3,
     "solution": false,
     "task": false
    }
   },
   "source": [
    "## Exercise 4 - Books with maximum rating\n",
    "\n",
    "However, remember that `idxmax` and `idxmin` only return the index of the first of occurrence.\n",
    "\n",
    "Find how many books are rated with the maximum value."
   ]
  },
  {
   "cell_type": "code",
   "execution_count": null,
   "id": "7bc5d797",
   "metadata": {
    "deletable": false,
    "nbgrader": {
     "grade": false,
     "grade_id": "cell-6b22a0341d2f6385",
     "locked": false,
     "schema_version": 3,
     "solution": true,
     "task": false
    }
   },
   "outputs": [],
   "source": [
    "# max_rated_books = ...\n",
    "\n",
    "# YOUR CODE HERE\n",
    "raise NotImplementedError()"
   ]
  },
  {
   "cell_type": "code",
   "execution_count": null,
   "id": "d11f7a38",
   "metadata": {
    "deletable": false,
    "editable": false,
    "nbgrader": {
     "grade": true,
     "grade_id": "cell-144553185cf84ebb",
     "locked": true,
     "points": 2,
     "schema_version": 3,
     "solution": false,
     "task": false
    }
   },
   "outputs": [],
   "source": [
    "assert _hash(max_rated_books) == '0003ecef67', 'Not correct, try again.'\n",
    "print(\"---- Correct! Assert passed ---- \")"
   ]
  },
  {
   "cell_type": "markdown",
   "id": "08744361",
   "metadata": {
    "deletable": false,
    "editable": false,
    "nbgrader": {
     "grade": false,
     "grade_id": "cell-e5e777f2beb78dc4",
     "locked": true,
     "schema_version": 3,
     "solution": false,
     "task": false
    }
   },
   "source": [
    "## Exercise 5.1 - Skewness of the rating distribution\n",
    "\n",
    "Let's check the distribution of `Rating`.\n",
    "\n",
    "- plot a histogram for the distribution of `Rating` with 20 bins\n",
    "- check the skewness of the distribution (do you expect it to be positive or negative?)"
   ]
  },
  {
   "cell_type": "code",
   "execution_count": null,
   "id": "eea25c3d",
   "metadata": {
    "deletable": false,
    "nbgrader": {
     "grade": false,
     "grade_id": "cell-fbf5c7cb68a8f754",
     "locked": false,
     "schema_version": 3,
     "solution": true,
     "task": false
    }
   },
   "outputs": [],
   "source": [
    "# plot a histogram with 20 bins\n",
    "# ...\n",
    "\n",
    "# compute the skewness measure\n",
    "# skew = ...\n",
    "\n",
    "# YOUR CODE HERE\n",
    "raise NotImplementedError()\n",
    "\n",
    "print(\"The skewness measure is {:.3f}.\".format(skew))"
   ]
  },
  {
   "cell_type": "code",
   "execution_count": null,
   "id": "7c15635d",
   "metadata": {
    "deletable": false,
    "editable": false,
    "nbgrader": {
     "grade": true,
     "grade_id": "cell-ddf87542e1483998",
     "locked": true,
     "points": 2,
     "schema_version": 3,
     "solution": false,
     "task": false
    }
   },
   "outputs": [],
   "source": [
    "np.testing.assert_approx_equal(skew, -2.776, 2)\n",
    "print(\"---- Horay! Assert passed ---- \")"
   ]
  },
  {
   "cell_type": "markdown",
   "id": "87101e9a",
   "metadata": {
    "deletable": false,
    "editable": false,
    "nbgrader": {
     "grade": false,
     "grade_id": "cell-873d137d825b3b2e",
     "locked": true,
     "schema_version": 3,
     "solution": false,
     "task": false
    }
   },
   "source": [
    "## Exercise 5.2 - Kurtosis of the rating distribution\n",
    "\n",
    "Let's now check the kurtosis for the plotted `Rating` distribution and compare it with a normal distribution with the same characteristics.\n",
    "\n",
    "We generate a normal distribution for you below:"
   ]
  },
  {
   "cell_type": "code",
   "execution_count": null,
   "id": "32cad67a",
   "metadata": {
    "deletable": false,
    "editable": false,
    "nbgrader": {
     "grade": false,
     "grade_id": "cell-6bce3d40ad0eb946",
     "locked": true,
     "schema_version": 3,
     "solution": false,
     "task": false
    }
   },
   "outputs": [],
   "source": [
    "np.random.seed(42) # we set a random seed so all notebooks generate the same random numbers\n",
    "\n",
    "mean, std, n = (data[\"Rating\"].mean(), \n",
    "                data[\"Rating\"].std(), \n",
    "                data[\"Rating\"].shape[0])\n",
    "random_normal_returns = np.random.normal(mean, std, n)  # here, we generate the random normal distribution\n",
    "data_normal = pd.Series(data=random_normal_returns, index=data.index)\n",
    "\n",
    "data_normal.plot.hist(bins=20);"
   ]
  },
  {
   "cell_type": "code",
   "execution_count": null,
   "id": "971800cd",
   "metadata": {
    "deletable": false,
    "nbgrader": {
     "grade": false,
     "grade_id": "cell-e381fd1f6015b1d0",
     "locked": false,
     "schema_version": 3,
     "solution": true,
     "task": false
    }
   },
   "outputs": [],
   "source": [
    "# compute the kurtosis measures\n",
    "# kurt_rating = ...\n",
    "# kurt_normal = ...\n",
    "\n",
    "# YOUR CODE HERE\n",
    "raise NotImplementedError()\n",
    "\n",
    "print(\"The kurtosis measure for the data distribution is {:.1f}.\".format(kurt_rating))\n",
    "print(\"The kurtosis measure for the random normal distribution is {:.1f}.\"\n",
    "      .format(kurt_normal))"
   ]
  },
  {
   "cell_type": "code",
   "execution_count": null,
   "id": "d4dfdf72",
   "metadata": {
    "deletable": false,
    "editable": false,
    "nbgrader": {
     "grade": true,
     "grade_id": "cell-14cbf73f0cbf5bfa",
     "locked": true,
     "points": 2,
     "schema_version": 3,
     "solution": false,
     "task": false
    }
   },
   "outputs": [],
   "source": [
    "np.testing.assert_approx_equal(kurt_rating, 7.5, 2, err_msg='The rating kurtosis is not correct.')\n",
    "np.testing.assert_approx_equal(kurt_normal, 0, 0, err_msg='The normal kurtosis is not correct.')\n",
    "print(\"---- Yeah! all asserts passed ---- \")"
   ]
  },
  {
   "cell_type": "markdown",
   "id": "e0c0a337",
   "metadata": {
    "deletable": false,
    "editable": false,
    "nbgrader": {
     "grade": false,
     "grade_id": "cell-c5fca6a083d1649b",
     "locked": true,
     "schema_version": 3,
     "solution": false,
     "task": false
    }
   },
   "source": [
    "## Exercise 6 - Quantiles\n",
    "\n",
    "Find the value of the first, second, and third quartiles of the `Rating` distribution. Find also the value of the mean. Is the second quartile equal to the mean?"
   ]
  },
  {
   "cell_type": "code",
   "execution_count": null,
   "id": "27795126",
   "metadata": {
    "deletable": false,
    "nbgrader": {
     "grade": false,
     "grade_id": "cell-bc6507803312a481",
     "locked": false,
     "schema_version": 3,
     "solution": true,
     "task": false
    }
   },
   "outputs": [],
   "source": [
    "# output the quartiles as a pandas series\n",
    "# quartiles_rating = ...\n",
    "# mean_rating = ...\n",
    "\n",
    "# YOUR CODE HERE\n",
    "raise NotImplementedError()"
   ]
  },
  {
   "cell_type": "code",
   "execution_count": null,
   "id": "33be67e9",
   "metadata": {
    "deletable": false,
    "editable": false,
    "nbgrader": {
     "grade": true,
     "grade_id": "cell-2bb50c9c7ec62870",
     "locked": true,
     "points": 2,
     "schema_version": 3,
     "solution": false,
     "task": false
    }
   },
   "outputs": [],
   "source": [
    "assert isinstance(quartiles_rating, pd.Series), 'The quartiles_rating variable should be a pandas series.'\n",
    "assert _hash(quartiles_rating) == 'f3ded9e818', 'The quartiles values are not correct.'\n",
    "np.testing.assert_almost_equal(mean_rating, 3.6579095, 3, err_msg='The mean rating is not correct.')\n",
    "print(\"---- Yoooo! All asserts passed ---- \")"
   ]
  },
  {
   "cell_type": "markdown",
   "id": "76f8d29a",
   "metadata": {
    "deletable": false,
    "editable": false,
    "nbgrader": {
     "grade": false,
     "grade_id": "cell-9b49894718f512f0",
     "locked": true,
     "schema_version": 3,
     "solution": false,
     "task": false
    }
   },
   "source": [
    "## Exercise 7 - Summary stats\n",
    "\n",
    "There's a pandas method really useful to summarize variables. Do you remember what it is?\n",
    "\n",
    "Apply the method on the `CountsOfReview` column and investigate the results."
   ]
  },
  {
   "cell_type": "code",
   "execution_count": null,
   "id": "e6df7cef",
   "metadata": {
    "deletable": false,
    "nbgrader": {
     "grade": false,
     "grade_id": "cell-71c1572ac509ebc6",
     "locked": false,
     "schema_version": 3,
     "solution": true,
     "task": false
    }
   },
   "outputs": [],
   "source": [
    "# CountsOfReview_summary ...\n",
    "\n",
    "# YOUR CODE HERE\n",
    "raise NotImplementedError()"
   ]
  },
  {
   "cell_type": "code",
   "execution_count": null,
   "id": "6c858f41",
   "metadata": {
    "deletable": false,
    "editable": false,
    "nbgrader": {
     "grade": true,
     "grade_id": "cell-6afcb287625277e3",
     "locked": true,
     "points": 1,
     "schema_version": 3,
     "solution": false,
     "task": false
    }
   },
   "outputs": [],
   "source": [
    "assert isinstance(CountsOfReview_summary, pd.Series), \"Make sure to apply the correct method.\"\n",
    "assert _hash(CountsOfReview_summary) == '5acbbe74f6', 'The result is not correct.'\n",
    "\n",
    "print(\"---- Weee! All asserts passed ---- \")"
   ]
  },
  {
   "cell_type": "markdown",
   "id": "297d5dbc",
   "metadata": {
    "deletable": false,
    "editable": false,
    "nbgrader": {
     "grade": false,
     "grade_id": "cell-2b4043cfc26c4dcd",
     "locked": true,
     "schema_version": 3,
     "solution": false,
     "task": false
    }
   },
   "source": [
    "## Exercise 8 - Outliers and log transformations\n",
    "\n",
    "Let's focus on the outliers for the `CountsOfReview`. First let's clean up the `CountOfReview` column and check if our data has 0 counts of review:"
   ]
  },
  {
   "cell_type": "code",
   "execution_count": null,
   "id": "d2ac246d",
   "metadata": {
    "deletable": false,
    "editable": false,
    "nbgrader": {
     "grade": false,
     "grade_id": "cell-b0f6c3df8056eeb1",
     "locked": true,
     "schema_version": 3,
     "solution": false,
     "task": false
    }
   },
   "outputs": [],
   "source": [
    "data.loc[data[\"CountsOfReview\"] == 0].head()"
   ]
  },
  {
   "cell_type": "markdown",
   "id": "ed893477",
   "metadata": {
    "deletable": false,
    "editable": false,
    "nbgrader": {
     "grade": false,
     "grade_id": "cell-622fb473302c4c9d",
     "locked": true,
     "schema_version": 3,
     "solution": false,
     "task": false
    }
   },
   "source": [
    "There are several `CountsOfReview` with 0. To simplify for now, let's drop these entries."
   ]
  },
  {
   "cell_type": "code",
   "execution_count": null,
   "id": "df6af666",
   "metadata": {
    "deletable": false,
    "editable": false,
    "nbgrader": {
     "grade": false,
     "grade_id": "cell-8da6533b323210b6",
     "locked": true,
     "schema_version": 3,
     "solution": false,
     "task": false
    }
   },
   "outputs": [],
   "source": [
    "data_non_zero = data.drop(data.loc[data[\"CountsOfReview\"] == 0].index, axis=0)"
   ]
  },
  {
   "cell_type": "markdown",
   "id": "204e5661",
   "metadata": {
    "deletable": false,
    "editable": false,
    "nbgrader": {
     "grade": false,
     "grade_id": "cell-d0f4464e0207ec05",
     "locked": true,
     "schema_version": 3,
     "solution": false,
     "task": false
    }
   },
   "source": [
    "How to deal with the outliers?\n",
    "\n",
    "In the learning notebook, you learned a few ways to deal with the outliers In this exercise, we'll explore the log transformation and see if it helps us in this case.\n",
    "\n",
    "Do the following:\n",
    "\n",
    "- Obtain the mean and the median of the `CountsOfReview`; which one is greater?\n",
    "- Create a new column named `log_CountsOfReview` with the log of `CountsOfReview`;\n",
    "- Obtain the mean and the median of the `log_CountsOfReview`; are they very different from each other?\n",
    "- Plot `log_CountsOfReview` using a histogram with 20 bins and compare it with the original distribution.\n",
    "- What do you think? Were the outliers dealt with?"
   ]
  },
  {
   "cell_type": "code",
   "execution_count": null,
   "id": "624c597b",
   "metadata": {
    "deletable": false,
    "nbgrader": {
     "grade": false,
     "grade_id": "cell-2b472fdac56e8a22",
     "locked": false,
     "schema_version": 3,
     "solution": true,
     "task": false
    }
   },
   "outputs": [],
   "source": [
    "# counts_of_review_mean = ...\n",
    "# counts_of_review_median = ...\n",
    "# data_non_zero[\"log_CountsOfReview\"] = ...\n",
    "# log_counts_of_review_mean = ...\n",
    "# log_counts_of_review_median = ...\n",
    "\n",
    "# plot a histogram with 20 bins\n",
    "\n",
    "# YOUR CODE HERE\n",
    "raise NotImplementedError()\n",
    "\n",
    "print('The CountsOfReview has mean %d and median %d' % (\n",
    "    counts_of_review_mean, counts_of_review_median))\n",
    "print('The log of the CountsOfReview has mean %0.1f and median %0.1f' % (\n",
    "    log_counts_of_review_mean, log_counts_of_review_median))"
   ]
  },
  {
   "cell_type": "code",
   "execution_count": null,
   "id": "d02223a3",
   "metadata": {
    "deletable": false,
    "editable": false,
    "nbgrader": {
     "grade": true,
     "grade_id": "cell-a74bd72b6c871c6d",
     "locked": true,
     "points": 3,
     "schema_version": 3,
     "solution": false,
     "task": false
    }
   },
   "outputs": [],
   "source": [
    "np.testing.assert_almost_equal(counts_of_review_mean, 188.161, decimal=2, err_msg='The mean is not correct.')\n",
    "np.testing.assert_almost_equal(counts_of_review_median, 12.0, decimal=1, err_msg='The median is not correct.')\n",
    "np.testing.assert_almost_equal(data_non_zero['log_CountsOfReview'].sum(), 114053.234, decimal=2, \n",
    "                               err_msg='The transformed column is not correct.')\n",
    "np.testing.assert_almost_equal(log_counts_of_review_mean, 2.721, decimal=2, err_msg='The log mean is not correct.')\n",
    "np.testing.assert_almost_equal(log_counts_of_review_median, 2.484, decimal=2, err_msg='The log median is not correct.')\n",
    "print(\"---- You did it!! All asserts passed! ---- \")"
   ]
  },
  {
   "cell_type": "markdown",
   "id": "b72ade33",
   "metadata": {
    "deletable": false,
    "editable": false,
    "nbgrader": {
     "grade": false,
     "grade_id": "cell-ab0e4d148dab7cfd",
     "locked": true,
     "schema_version": 3,
     "solution": false,
     "task": false
    }
   },
   "source": [
    "Congratulations! You have finished. Don't forget to [submit your work](https://github.com/LDSSA/batch-students/blob/main/guides/ldssa-workflow.md#34-commit-and-push-the-exercise-notebook-to-your-repo) and good luck with the upcoming SLUs!\n",
    "\n",
    "![](media/complete.gif)"
   ]
  }
 ],
 "metadata": {
  "kernelspec": {
   "display_name": "Python 3 (ipykernel)",
   "language": "python",
   "name": "python3"
  },
  "language_info": {
   "codemirror_mode": {
    "name": "ipython",
    "version": 3
   },
   "file_extension": ".py",
   "mimetype": "text/x-python",
   "name": "python",
   "nbconvert_exporter": "python",
   "pygments_lexer": "ipython3",
   "version": "3.12.11"
  },
  "varInspector": {
   "cols": {
    "lenName": 16,
    "lenType": 16,
    "lenVar": 40
   },
   "kernels_config": {
    "python": {
     "delete_cmd_postfix": "",
     "delete_cmd_prefix": "del ",
     "library": "var_list.py",
     "varRefreshCmd": "print(var_dic_list())"
    },
    "r": {
     "delete_cmd_postfix": ") ",
     "delete_cmd_prefix": "rm(",
     "library": "var_list.r",
     "varRefreshCmd": "cat(var_dic_list()) "
    }
   },
   "types_to_exclude": [
    "module",
    "function",
    "builtin_function_or_method",
    "instance",
    "_Feature"
   ],
   "window_display": false
  },
  "widgets": {
   "application/vnd.jupyter.widget-state+json": {
    "state": {},
    "version_major": 2,
    "version_minor": 0
   }
  }
 },
 "nbformat": 4,
 "nbformat_minor": 5
}
