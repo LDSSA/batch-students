{
 "cells": [
  {
   "cell_type": "markdown",
   "metadata": {},
   "source": [
    "# SLU04 - Basic Stats with Pandas: Examples notebook"
   ]
  },
  {
   "cell_type": "code",
   "execution_count": 1,
   "metadata": {
    "execution": {
     "iopub.execute_input": "2024-09-14T13:44:37.671589Z",
     "iopub.status.busy": "2024-09-14T13:44:37.670872Z",
     "iopub.status.idle": "2024-09-14T13:44:37.968262Z",
     "shell.execute_reply": "2024-09-14T13:44:37.967922Z",
     "shell.execute_reply.started": "2024-09-14T13:44:37.671537Z"
    }
   },
   "outputs": [],
   "source": [
    "import numpy as np\n",
    "import pandas as pd\n",
    "import matplotlib\n",
    "import matplotlib.pyplot as plt\n",
    "\n",
    "from utils import prepare_dataset, get_company_salaries_and_plot, \\\n",
    "    plot_log_function"
   ]
  },
  {
   "cell_type": "code",
   "execution_count": 2,
   "metadata": {
    "execution": {
     "iopub.execute_input": "2024-09-14T13:44:38.114813Z",
     "iopub.status.busy": "2024-09-14T13:44:38.114202Z",
     "iopub.status.idle": "2024-09-14T13:44:38.119166Z",
     "shell.execute_reply": "2024-09-14T13:44:38.118722Z",
     "shell.execute_reply.started": "2024-09-14T13:44:38.114774Z"
    }
   },
   "outputs": [],
   "source": [
    "# Some global plot configurations\n",
    "plt.rc('figure', dpi=200)  # Resolution\n",
    "plt.rc('font', size=5, family='serif')   # Font size and family\n",
    "plt.rc('axes', titlesize=7, labelsize=6, facecolor='white')  # Some axes \n",
    "                                                             # properties\n",
    "plt.rc('lines', linewidth=1, color='blue')  # Some line properties"
   ]
  },
  {
   "cell_type": "code",
   "execution_count": 3,
   "metadata": {
    "execution": {
     "iopub.execute_input": "2024-09-14T13:44:39.064924Z",
     "iopub.status.busy": "2024-09-14T13:44:39.064337Z",
     "iopub.status.idle": "2024-09-14T13:44:39.087610Z",
     "shell.execute_reply": "2024-09-14T13:44:39.087178Z",
     "shell.execute_reply.started": "2024-09-14T13:44:39.064882Z"
    },
    "scrolled": true
   },
   "outputs": [],
   "source": [
    "lego = pd.read_csv('data/sets.csv')"
   ]
  },
  {
   "cell_type": "markdown",
   "metadata": {},
   "source": [
    "## Count"
   ]
  },
  {
   "cell_type": "code",
   "execution_count": 4,
   "metadata": {
    "execution": {
     "iopub.execute_input": "2024-09-14T13:44:39.924265Z",
     "iopub.status.busy": "2024-09-14T13:44:39.923674Z",
     "iopub.status.idle": "2024-09-14T13:44:39.938295Z",
     "shell.execute_reply": "2024-09-14T13:44:39.937732Z",
     "shell.execute_reply.started": "2024-09-14T13:44:39.924228Z"
    }
   },
   "outputs": [
    {
     "data": {
      "text/plain": [
       "set_num      11673\n",
       "name         11673\n",
       "year         11673\n",
       "theme_id     11673\n",
       "num_parts    11673\n",
       "dtype: int64"
      ]
     },
     "execution_count": 4,
     "metadata": {},
     "output_type": "execute_result"
    }
   ],
   "source": [
    "lego.count()"
   ]
  },
  {
   "cell_type": "markdown",
   "metadata": {},
   "source": [
    "## Max, idxmax, min, idxmin "
   ]
  },
  {
   "cell_type": "code",
   "execution_count": 5,
   "metadata": {
    "execution": {
     "iopub.execute_input": "2024-09-14T13:44:40.868746Z",
     "iopub.status.busy": "2024-09-14T13:44:40.867790Z",
     "iopub.status.idle": "2024-09-14T13:44:40.875851Z",
     "shell.execute_reply": "2024-09-14T13:44:40.874923Z",
     "shell.execute_reply.started": "2024-09-14T13:44:40.868707Z"
    }
   },
   "outputs": [
    {
     "data": {
      "text/plain": [
       "np.int64(5922)"
      ]
     },
     "execution_count": 5,
     "metadata": {},
     "output_type": "execute_result"
    }
   ],
   "source": [
    "lego.num_parts.max()"
   ]
  },
  {
   "cell_type": "code",
   "execution_count": 6,
   "metadata": {
    "execution": {
     "iopub.execute_input": "2024-09-14T13:44:41.543641Z",
     "iopub.status.busy": "2024-09-14T13:44:41.542669Z",
     "iopub.status.idle": "2024-09-14T13:44:41.549907Z",
     "shell.execute_reply": "2024-09-14T13:44:41.549023Z",
     "shell.execute_reply.started": "2024-09-14T13:44:41.543604Z"
    }
   },
   "outputs": [
    {
     "data": {
      "text/plain": [
       "170"
      ]
     },
     "execution_count": 6,
     "metadata": {},
     "output_type": "execute_result"
    }
   ],
   "source": [
    "lego.num_parts.idxmax()"
   ]
  },
  {
   "cell_type": "code",
   "execution_count": 7,
   "metadata": {
    "execution": {
     "iopub.execute_input": "2024-09-14T13:44:42.060550Z",
     "iopub.status.busy": "2024-09-14T13:44:42.059819Z",
     "iopub.status.idle": "2024-09-14T13:44:42.068356Z",
     "shell.execute_reply": "2024-09-14T13:44:42.067508Z",
     "shell.execute_reply.started": "2024-09-14T13:44:42.060498Z"
    }
   },
   "outputs": [
    {
     "data": {
      "text/plain": [
       "'10189-1'"
      ]
     },
     "execution_count": 7,
     "metadata": {},
     "output_type": "execute_result"
    }
   ],
   "source": [
    "lego.loc[lego.num_parts.idxmax(), 'set_num']"
   ]
  },
  {
   "cell_type": "code",
   "execution_count": 8,
   "metadata": {
    "execution": {
     "iopub.execute_input": "2024-09-14T13:44:42.780840Z",
     "iopub.status.busy": "2024-09-14T13:44:42.780256Z",
     "iopub.status.idle": "2024-09-14T13:44:42.787498Z",
     "shell.execute_reply": "2024-09-14T13:44:42.786644Z",
     "shell.execute_reply.started": "2024-09-14T13:44:42.780802Z"
    }
   },
   "outputs": [
    {
     "data": {
      "text/plain": [
       "1683"
      ]
     },
     "execution_count": 8,
     "metadata": {},
     "output_type": "execute_result"
    }
   ],
   "source": [
    "lego.num_parts.idxmin()"
   ]
  },
  {
   "cell_type": "code",
   "execution_count": 9,
   "metadata": {
    "execution": {
     "iopub.execute_input": "2024-09-14T13:44:43.454283Z",
     "iopub.status.busy": "2024-09-14T13:44:43.453737Z",
     "iopub.status.idle": "2024-09-14T13:44:43.460666Z",
     "shell.execute_reply": "2024-09-14T13:44:43.459790Z",
     "shell.execute_reply.started": "2024-09-14T13:44:43.454247Z"
    }
   },
   "outputs": [
    {
     "data": {
      "text/plain": [
       "np.int64(-1)"
      ]
     },
     "execution_count": 9,
     "metadata": {},
     "output_type": "execute_result"
    }
   ],
   "source": [
    "lego.num_parts.min()"
   ]
  },
  {
   "cell_type": "code",
   "execution_count": 10,
   "metadata": {
    "execution": {
     "iopub.execute_input": "2024-09-14T13:44:44.148447Z",
     "iopub.status.busy": "2024-09-14T13:44:44.147946Z",
     "iopub.status.idle": "2024-09-14T13:44:44.156880Z",
     "shell.execute_reply": "2024-09-14T13:44:44.156133Z",
     "shell.execute_reply.started": "2024-09-14T13:44:44.148414Z"
    }
   },
   "outputs": [],
   "source": [
    "lego = lego.drop(lego.loc[lego.num_parts == lego.num_parts.min()].index, \n",
    "                 axis=0)"
   ]
  },
  {
   "cell_type": "markdown",
   "metadata": {},
   "source": [
    "## Mode"
   ]
  },
  {
   "cell_type": "code",
   "execution_count": 11,
   "metadata": {
    "execution": {
     "iopub.execute_input": "2024-09-14T13:44:45.344430Z",
     "iopub.status.busy": "2024-09-14T13:44:45.343875Z",
     "iopub.status.idle": "2024-09-14T13:44:45.353088Z",
     "shell.execute_reply": "2024-09-14T13:44:45.352156Z",
     "shell.execute_reply.started": "2024-09-14T13:44:45.344395Z"
    }
   },
   "outputs": [
    {
     "data": {
      "text/plain": [
       "0    2014\n",
       "Name: year, dtype: int64"
      ]
     },
     "execution_count": 11,
     "metadata": {},
     "output_type": "execute_result"
    }
   ],
   "source": [
    "lego.year.mode()  # seems like 2014 was the year where more sets were published"
   ]
  },
  {
   "cell_type": "markdown",
   "metadata": {},
   "source": [
    "# Mean and Median"
   ]
  },
  {
   "cell_type": "code",
   "execution_count": 12,
   "metadata": {
    "execution": {
     "iopub.execute_input": "2024-09-14T13:44:46.428632Z",
     "iopub.status.busy": "2024-09-14T13:44:46.427839Z",
     "iopub.status.idle": "2024-09-14T13:44:46.436217Z",
     "shell.execute_reply": "2024-09-14T13:44:46.435422Z",
     "shell.execute_reply.started": "2024-09-14T13:44:46.428549Z"
    }
   },
   "outputs": [
    {
     "data": {
      "text/plain": [
       "np.float64(162.3043701799486)"
      ]
     },
     "execution_count": 12,
     "metadata": {},
     "output_type": "execute_result"
    }
   ],
   "source": [
    "lego.num_parts.mean()  # In terms of code, it's as simple as this. We have a \n",
    "                       # mean of 162 numbers of parts."
   ]
  },
  {
   "cell_type": "code",
   "execution_count": 13,
   "metadata": {
    "execution": {
     "iopub.execute_input": "2024-09-14T13:44:46.896265Z",
     "iopub.status.busy": "2024-09-14T13:44:46.895738Z",
     "iopub.status.idle": "2024-09-14T13:44:46.904695Z",
     "shell.execute_reply": "2024-09-14T13:44:46.903983Z",
     "shell.execute_reply.started": "2024-09-14T13:44:46.896233Z"
    }
   },
   "outputs": [
    {
     "data": {
      "text/plain": [
       "np.float64(45.0)"
      ]
     },
     "execution_count": 13,
     "metadata": {},
     "output_type": "execute_result"
    }
   ],
   "source": [
    "lego.num_parts.median()  "
   ]
  },
  {
   "cell_type": "markdown",
   "metadata": {},
   "source": [
    "## Skewness"
   ]
  },
  {
   "cell_type": "code",
   "execution_count": 14,
   "metadata": {
    "execution": {
     "iopub.execute_input": "2024-09-14T13:44:48.157972Z",
     "iopub.status.busy": "2024-09-14T13:44:48.157040Z",
     "iopub.status.idle": "2024-09-14T13:44:48.287170Z",
     "shell.execute_reply": "2024-09-14T13:44:48.286918Z",
     "shell.execute_reply.started": "2024-09-14T13:44:48.157934Z"
    }
   },
   "outputs": [
    {
     "data": {
      "image/png": "[encoded data removed]",
      "text/plain": [
       "<Figure size 1200x600 with 1 Axes>"
      ]
     },
     "metadata": {},
     "output_type": "display_data"
    }
   ],
   "source": [
    "lego.num_parts.plot.hist(bins=50, figsize=(6, 3))\n",
    "plt.xlim(0,2000)\n",
    "plt.xlabel('num_parts')\n",
    "plt.title('Distribution of number of parts of Lego sets');"
   ]
  },
  {
   "cell_type": "code",
   "execution_count": 15,
   "metadata": {
    "execution": {
     "iopub.execute_input": "2024-09-14T13:44:49.036430Z",
     "iopub.status.busy": "2024-09-14T13:44:49.035870Z",
     "iopub.status.idle": "2024-09-14T13:44:49.043664Z",
     "shell.execute_reply": "2024-09-14T13:44:49.042925Z",
     "shell.execute_reply.started": "2024-09-14T13:44:49.036395Z"
    }
   },
   "outputs": [
    {
     "data": {
      "text/plain": [
       "np.float64(5.7704793806916514)"
      ]
     },
     "execution_count": 15,
     "metadata": {},
     "output_type": "execute_result"
    }
   ],
   "source": [
    "lego.num_parts.skew()"
   ]
  },
  {
   "cell_type": "markdown",
   "metadata": {},
   "source": [
    "## Standard Deviation and Variance"
   ]
  },
  {
   "cell_type": "code",
   "execution_count": 16,
   "metadata": {
    "execution": {
     "iopub.execute_input": "2024-09-14T13:44:50.025469Z",
     "iopub.status.busy": "2024-09-14T13:44:50.024415Z",
     "iopub.status.idle": "2024-09-14T13:44:50.031857Z",
     "shell.execute_reply": "2024-09-14T13:44:50.031031Z",
     "shell.execute_reply.started": "2024-09-14T13:44:50.025431Z"
    }
   },
   "outputs": [
    {
     "name": "stdout",
     "output_type": "stream",
     "text": [
      "Mean:               162.30\n",
      "Variance:           109048.00\n",
      "Standard Deviation: 330.22\n"
     ]
    }
   ],
   "source": [
    "print('Mean:               %0.2f' % lego.num_parts.mean())\n",
    "print('Variance:           %0.2f' % lego.num_parts.var())\n",
    "print('Standard Deviation: %0.2f' % lego.num_parts.std())"
   ]
  },
  {
   "cell_type": "markdown",
   "metadata": {},
   "source": [
    "## Kurtosis"
   ]
  },
  {
   "cell_type": "code",
   "execution_count": 17,
   "metadata": {
    "execution": {
     "iopub.execute_input": "2024-09-14T13:44:51.038897Z",
     "iopub.status.busy": "2024-09-14T13:44:51.038265Z",
     "iopub.status.idle": "2024-09-14T13:44:51.154259Z",
     "shell.execute_reply": "2024-09-14T13:44:51.154009Z",
     "shell.execute_reply.started": "2024-09-14T13:44:51.038853Z"
    }
   },
   "outputs": [
    {
     "data": {
      "image/png": "[encoded data removed]",
      "text/plain": [
       "<Figure size 1200x600 with 1 Axes>"
      ]
     },
     "metadata": {},
     "output_type": "display_data"
    }
   ],
   "source": [
    "company_a, company_b = get_company_salaries_and_plot()"
   ]
  },
  {
   "cell_type": "code",
   "execution_count": 18,
   "metadata": {
    "execution": {
     "iopub.execute_input": "2024-09-14T13:44:53.807803Z",
     "iopub.status.busy": "2024-09-14T13:44:53.807183Z",
     "iopub.status.idle": "2024-09-14T13:44:53.814743Z",
     "shell.execute_reply": "2024-09-14T13:44:53.814049Z",
     "shell.execute_reply.started": "2024-09-14T13:44:53.807760Z"
    }
   },
   "outputs": [
    {
     "data": {
      "text/plain": [
       "np.float64(0.22420229095281652)"
      ]
     },
     "execution_count": 18,
     "metadata": {},
     "output_type": "execute_result"
    }
   ],
   "source": [
    "company_a.kurt()"
   ]
  },
  {
   "cell_type": "code",
   "execution_count": 19,
   "metadata": {
    "execution": {
     "iopub.execute_input": "2024-09-14T13:44:54.367017Z",
     "iopub.status.busy": "2024-09-14T13:44:54.366482Z",
     "iopub.status.idle": "2024-09-14T13:44:54.374682Z",
     "shell.execute_reply": "2024-09-14T13:44:54.373792Z",
     "shell.execute_reply.started": "2024-09-14T13:44:54.366982Z"
    }
   },
   "outputs": [
    {
     "data": {
      "text/plain": [
       "np.float64(4.0409689366297314)"
      ]
     },
     "execution_count": 19,
     "metadata": {},
     "output_type": "execute_result"
    }
   ],
   "source": [
    "company_b.kurt()"
   ]
  },
  {
   "cell_type": "markdown",
   "metadata": {},
   "source": [
    "## Quantiles"
   ]
  },
  {
   "cell_type": "code",
   "execution_count": 20,
   "metadata": {
    "execution": {
     "iopub.execute_input": "2024-09-14T13:44:57.485071Z",
     "iopub.status.busy": "2024-09-14T13:44:57.484466Z",
     "iopub.status.idle": "2024-09-14T13:44:57.495985Z",
     "shell.execute_reply": "2024-09-14T13:44:57.495136Z",
     "shell.execute_reply.started": "2024-09-14T13:44:57.485029Z"
    },
    "scrolled": true
   },
   "outputs": [
    {
     "data": {
      "text/plain": [
       "0.25     10.0\n",
       "0.50     45.0\n",
       "0.75    172.0\n",
       "Name: num_parts, dtype: float64"
      ]
     },
     "execution_count": 20,
     "metadata": {},
     "output_type": "execute_result"
    }
   ],
   "source": [
    "quartiles = [.25, .5, .75]\n",
    "lego.num_parts.quantile(q=quartiles)"
   ]
  },
  {
   "cell_type": "markdown",
   "metadata": {},
   "source": [
    "## Summarizing"
   ]
  },
  {
   "cell_type": "code",
   "execution_count": 21,
   "metadata": {
    "execution": {
     "iopub.execute_input": "2024-09-14T13:44:58.754725Z",
     "iopub.status.busy": "2024-09-14T13:44:58.754172Z",
     "iopub.status.idle": "2024-09-14T13:44:58.766702Z",
     "shell.execute_reply": "2024-09-14T13:44:58.766037Z",
     "shell.execute_reply.started": "2024-09-14T13:44:58.754690Z"
    }
   },
   "outputs": [
    {
     "data": {
      "text/plain": [
       "count    11670.000000\n",
       "mean       162.304370\n",
       "std        330.224172\n",
       "min          0.000000\n",
       "25%         10.000000\n",
       "50%         45.000000\n",
       "75%        172.000000\n",
       "max       5922.000000\n",
       "Name: num_parts, dtype: float64"
      ]
     },
     "execution_count": 21,
     "metadata": {},
     "output_type": "execute_result"
    }
   ],
   "source": [
    "lego.num_parts.describe()"
   ]
  },
  {
   "cell_type": "markdown",
   "metadata": {},
   "source": [
    "## Unique and nunique"
   ]
  },
  {
   "cell_type": "code",
   "execution_count": 22,
   "metadata": {
    "execution": {
     "iopub.execute_input": "2024-09-14T13:44:59.722564Z",
     "iopub.status.busy": "2024-09-14T13:44:59.722072Z",
     "iopub.status.idle": "2024-09-14T13:44:59.730024Z",
     "shell.execute_reply": "2024-09-14T13:44:59.729185Z",
     "shell.execute_reply.started": "2024-09-14T13:44:59.722532Z"
    },
    "scrolled": true
   },
   "outputs": [
    {
     "data": {
      "text/plain": [
       "array([1970, 1978, 1987, 1979, 1976, 1965, 1985, 1968, 1999, 1967, 1969,\n",
       "       2001, 1966, 2003, 2002, 2004, 2006, 2005, 2010, 2007, 2008, 2009,\n",
       "       2011, 2012, 2013, 2014, 2015, 2016, 2017, 1977, 1983, 1986, 1984,\n",
       "       1973, 1981, 2000, 1980, 1982, 1988, 1997, 1998, 1971, 1955, 1956,\n",
       "       1957, 1958, 1974, 1972, 1975, 1992, 1991, 1989, 1990, 1993, 1994,\n",
       "       1996, 1995, 1959, 1962, 1961, 1960, 1963, 1964, 1950, 1953, 1954])"
      ]
     },
     "execution_count": 22,
     "metadata": {},
     "output_type": "execute_result"
    }
   ],
   "source": [
    "lego.year.unique()"
   ]
  },
  {
   "cell_type": "code",
   "execution_count": 23,
   "metadata": {
    "execution": {
     "iopub.execute_input": "2024-09-14T13:45:01.069018Z",
     "iopub.status.busy": "2024-09-14T13:45:01.068318Z",
     "iopub.status.idle": "2024-09-14T13:45:01.076971Z",
     "shell.execute_reply": "2024-09-14T13:45:01.076012Z",
     "shell.execute_reply.started": "2024-09-14T13:45:01.068971Z"
    }
   },
   "outputs": [
    {
     "data": {
      "text/plain": [
       "66"
      ]
     },
     "execution_count": 23,
     "metadata": {},
     "output_type": "execute_result"
    }
   ],
   "source": [
    "lego.year.nunique()"
   ]
  },
  {
   "cell_type": "code",
   "execution_count": 24,
   "metadata": {
    "execution": {
     "iopub.execute_input": "2024-09-14T13:45:01.435664Z",
     "iopub.status.busy": "2024-09-14T13:45:01.434253Z",
     "iopub.status.idle": "2024-09-14T13:45:01.450952Z",
     "shell.execute_reply": "2024-09-14T13:45:01.450361Z",
     "shell.execute_reply.started": "2024-09-14T13:45:01.435623Z"
    }
   },
   "outputs": [
    {
     "data": {
      "text/plain": [
       "set_num      11670\n",
       "name         10367\n",
       "year            66\n",
       "theme_id       574\n",
       "num_parts     1091\n",
       "dtype: int64"
      ]
     },
     "execution_count": 24,
     "metadata": {},
     "output_type": "execute_result"
    }
   ],
   "source": [
    "lego.nunique()"
   ]
  },
  {
   "cell_type": "markdown",
   "metadata": {},
   "source": [
    "## Dealing with outliers and skewed distributions"
   ]
  },
  {
   "cell_type": "markdown",
   "metadata": {},
   "source": [
    "### Log transformation"
   ]
  },
  {
   "cell_type": "code",
   "execution_count": 25,
   "metadata": {
    "execution": {
     "iopub.execute_input": "2024-09-14T13:45:03.500858Z",
     "iopub.status.busy": "2024-09-14T13:45:03.500194Z",
     "iopub.status.idle": "2024-09-14T13:45:03.508852Z",
     "shell.execute_reply": "2024-09-14T13:45:03.508030Z",
     "shell.execute_reply.started": "2024-09-14T13:45:03.500815Z"
    }
   },
   "outputs": [],
   "source": [
    "lego_non_zero = lego.drop(lego.loc[lego.num_parts == 0].index, axis=0)"
   ]
  },
  {
   "cell_type": "code",
   "execution_count": 26,
   "metadata": {
    "execution": {
     "iopub.execute_input": "2024-09-14T13:45:03.840260Z",
     "iopub.status.busy": "2024-09-14T13:45:03.839376Z",
     "iopub.status.idle": "2024-09-14T13:45:03.970274Z",
     "shell.execute_reply": "2024-09-14T13:45:03.970040Z",
     "shell.execute_reply.started": "2024-09-14T13:45:03.840225Z"
    }
   },
   "outputs": [
    {
     "data": {
      "image/png": "[encoded data removed]",
      "text/plain": [
       "<Figure size 1200x600 with 1 Axes>"
      ]
     },
     "metadata": {},
     "output_type": "display_data"
    }
   ],
   "source": [
    "lego_non_zero.num_parts.plot.hist(bins=100, figsize=(6, 3))\n",
    "plt.xlim(0,2000)\n",
    "plt.xlabel('num_parts')\n",
    "plt.title('Distribution of number of parts of Lego sets');"
   ]
  },
  {
   "cell_type": "code",
   "execution_count": 27,
   "metadata": {
    "execution": {
     "iopub.execute_input": "2024-09-14T13:45:04.828422Z",
     "iopub.status.busy": "2024-09-14T13:45:04.827822Z",
     "iopub.status.idle": "2024-09-14T13:45:04.835557Z",
     "shell.execute_reply": "2024-09-14T13:45:04.834496Z",
     "shell.execute_reply.started": "2024-09-14T13:45:04.828381Z"
    }
   },
   "outputs": [],
   "source": [
    "lego_non_zero['log_num_parts'] = np.log(lego_non_zero.num_parts)"
   ]
  },
  {
   "cell_type": "code",
   "execution_count": 28,
   "metadata": {
    "execution": {
     "iopub.execute_input": "2024-09-14T13:45:06.066538Z",
     "iopub.status.busy": "2024-09-14T13:45:06.065984Z",
     "iopub.status.idle": "2024-09-14T13:45:06.175047Z",
     "shell.execute_reply": "2024-09-14T13:45:06.174784Z",
     "shell.execute_reply.started": "2024-09-14T13:45:06.066502Z"
    }
   },
   "outputs": [
    {
     "data": {
      "image/png": "[encoded data removed]",
      "text/plain": [
       "<Figure size 1200x600 with 1 Axes>"
      ]
     },
     "metadata": {},
     "output_type": "display_data"
    }
   ],
   "source": [
    "lego_non_zero.log_num_parts.plot.hist(bins=50, figsize=(6, 3))\n",
    "plt.xlabel('log_num_parts')\n",
    "plt.title('Distribution of number of parts of Lego sets');"
   ]
  }
 ],
 "metadata": {
  "kernelspec": {
   "display_name": "Python 3 (ipykernel)",
   "language": "python",
   "name": "python3"
  },
  "language_info": {
   "codemirror_mode": {
    "name": "ipython",
    "version": 3
   },
   "file_extension": ".py",
   "mimetype": "text/x-python",
   "name": "python",
   "nbconvert_exporter": "python",
   "pygments_lexer": "ipython3",
   "version": "3.12.2"
  },
  "varInspector": {
   "cols": {
    "lenName": 16,
    "lenType": 16,
    "lenVar": 40
   },
   "kernels_config": {
    "python": {
     "delete_cmd_postfix": "",
     "delete_cmd_prefix": "del ",
     "library": "var_list.py",
     "varRefreshCmd": "print(var_dic_list())"
    },
    "r": {
     "delete_cmd_postfix": ") ",
     "delete_cmd_prefix": "rm(",
     "library": "var_list.r",
     "varRefreshCmd": "cat(var_dic_list()) "
    }
   },
   "types_to_exclude": [
    "module",
    "function",
    "builtin_function_or_method",
    "instance",
    "_Feature"
   ],
   "window_display": false
  }
 },
 "nbformat": 4,
 "nbformat_minor": 4
}
