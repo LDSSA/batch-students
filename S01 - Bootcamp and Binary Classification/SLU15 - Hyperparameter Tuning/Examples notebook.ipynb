{
 "cells": [
  {
   "attachments": {},
   "cell_type": "markdown",
   "metadata": {},
   "source": [
    "# SLU15 - Hyperparameter tunning: Examples notebook\n",
    "\n",
    "## 1. Load and prepare the data"
   ]
  },
  {
   "cell_type": "code",
   "execution_count": 1,
   "metadata": {},
   "outputs": [],
   "source": [
    "import pandas as pd\n",
    "from sklearn.datasets import load_breast_cancer\n",
    "from sklearn.model_selection import train_test_split\n",
    "from sklearn.tree import DecisionTreeClassifier\n",
    "\n",
    "cancer_data = load_breast_cancer()\n",
    "X = pd.DataFrame(cancer_data[\"data\"], columns=cancer_data[\"feature_names\"])\n",
    "y = cancer_data.target\n",
    "\n",
    "X_train, X_test, y_train, y_test = train_test_split(X, y, test_size=0.2, \n",
    "                                                    random_state=0)\n",
    "estimator = DecisionTreeClassifier()"
   ]
  },
  {
   "cell_type": "markdown",
   "metadata": {},
   "source": [
    "## 2. Grid search"
   ]
  },
  {
   "cell_type": "code",
   "execution_count": 2,
   "metadata": {},
   "outputs": [],
   "source": [
    "from sklearn.model_selection import GridSearchCV\n",
    "\n",
    "parameters = {'max_depth': range(1, 10),\n",
    "              'max_features': range(1, X.shape[1])}\n",
    "\n",
    "grid_search = GridSearchCV(estimator, parameters, cv=5, scoring=\"roc_auc\")\n",
    "grid_search.fit(X_train, y_train)\n",
    "\n",
    "y_pred = grid_search.predict(X_test)"
   ]
  },
  {
   "cell_type": "markdown",
   "metadata": {},
   "source": [
    "## 3. Random search"
   ]
  },
  {
   "cell_type": "code",
   "execution_count": 3,
   "metadata": {},
   "outputs": [],
   "source": [
    "from scipy.stats import randint\n",
    "from sklearn.model_selection import RandomizedSearchCV\n",
    "\n",
    "parameters_dist = {\"max_depth\": randint(1, 100),\n",
    "                   \"max_features\": randint(1, X.shape[1]),\n",
    "                   \"class_weight\": [\"balanced\", None]}\n",
    "\n",
    "random_search = RandomizedSearchCV(estimator, parameters_dist, cv=5, n_iter=250, \n",
    "                                   random_state=0)\n",
    "\n",
    "random_search.fit(X_train, y_train)\n",
    "y_pred = random_search.predict(X_test)"
   ]
  },
  {
   "cell_type": "markdown",
   "metadata": {},
   "source": [
    "## 4. Model selection by crossvalidation"
   ]
  },
  {
   "cell_type": "code",
   "execution_count": 4,
   "metadata": {},
   "outputs": [
    {
     "data": {
      "text/plain": [
       "fit_time       0.003709\n",
       "score_time     0.005283\n",
       "test_score     0.921356\n",
       "train_score    0.988846\n",
       "dtype: float64"
      ]
     },
     "execution_count": 4,
     "metadata": {},
     "output_type": "execute_result"
    }
   ],
   "source": [
    "# example for the grid search\n",
    "from sklearn.model_selection import cross_validate\n",
    "\n",
    "grid_results = cross_validate(grid_search.best_estimator_, X_test, y_test, scoring=\"roc_auc\", \n",
    "                              return_train_score=True, cv=3)\n",
    "pd.DataFrame(grid_results).mean()"
   ]
  },
  {
   "cell_type": "code",
   "execution_count": 5,
   "metadata": {},
   "outputs": [
    {
     "data": {
      "text/plain": [
       "fit_time       0.004128\n",
       "score_time     0.003631\n",
       "test_score     0.902462\n",
       "train_score    1.000000\n",
       "dtype: float64"
      ]
     },
     "execution_count": 5,
     "metadata": {},
     "output_type": "execute_result"
    }
   ],
   "source": [
    "# example for the random search\n",
    "random_results = cross_validate(random_search.best_estimator_,\n",
    "                                X_test, y_test, scoring=\"roc_auc\",\n",
    "                                return_train_score=True, cv=3)\n",
    "pd.DataFrame(random_results).mean()"
   ]
  }
 ],
 "metadata": {
  "hide_input": false,
  "kernelspec": {
   "display_name": "Python 3 (ipykernel)",
   "language": "python",
   "name": "python3"
  },
  "language_info": {
   "codemirror_mode": {
    "name": "ipython",
    "version": 3
   },
   "file_extension": ".py",
   "mimetype": "text/x-python",
   "name": "python",
   "nbconvert_exporter": "python",
   "pygments_lexer": "ipython3",
   "version": "3.12.5"
  }
 },
 "nbformat": 4,
 "nbformat_minor": 4
}
