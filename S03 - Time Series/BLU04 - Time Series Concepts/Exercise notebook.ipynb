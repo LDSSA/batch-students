{
 "cells": [
  {
   "cell_type": "markdown",
   "metadata": {
    "deletable": false,
    "editable": false,
    "nbgrader": {
     "grade": false,
     "grade_id": "cell-82a8cd0054634b6e",
     "locked": true,
     "schema_version": 3,
     "solution": false,
     "task": false
    }
   },
   "source": [
    "# BLU04 - Time Series Concepts: Exercise notebook"
   ]
  },
  {
   "cell_type": "markdown",
   "metadata": {
    "deletable": false,
    "editable": false,
    "nbgrader": {
     "grade": false,
     "grade_id": "cell-db2d786acdddc37d",
     "locked": true,
     "schema_version": 3,
     "solution": false
    }
   },
   "source": [
    "Yay! Exercises! "
   ]
  },
  {
   "cell_type": "code",
   "execution_count": null,
   "metadata": {
    "deletable": false,
    "editable": false,
    "nbgrader": {
     "grade": false,
     "grade_id": "cell-5631f63a56ce36ad",
     "locked": true,
     "schema_version": 3,
     "solution": false,
     "task": false
    }
   },
   "outputs": [],
   "source": [
    "import pandas as pd\n",
    "from sklearn.linear_model import LinearRegression\n",
    "import numpy as np\n",
    "import hashlib # for grading purposes\n",
    "import json\n",
    "import utils\n",
    "from sklearn.impute import KNNImputer"
   ]
  },
  {
   "cell_type": "markdown",
   "metadata": {
    "deletable": false,
    "editable": false,
    "nbgrader": {
     "grade": false,
     "grade_id": "cell-5a13c9450f7cf9c8",
     "locked": true,
     "schema_version": 3,
     "solution": false
    }
   },
   "source": [
    "You've been hired (once again :) your career is going pretty well!) as a data scientist for a supermarket chain that wants to start extracting insights from their data.\n",
    "\n",
    "You start by analyzing customer flow in one of the stores. Let's get our data:"
   ]
  },
  {
   "cell_type": "code",
   "execution_count": null,
   "metadata": {
    "deletable": false,
    "editable": false,
    "nbgrader": {
     "grade": false,
     "grade_id": "cell-1cf2c842a2026f77",
     "locked": true,
     "schema_version": 3,
     "solution": false,
     "task": false
    }
   },
   "outputs": [],
   "source": [
    "store = utils.get_store_data()\n",
    "store.head()"
   ]
  },
  {
   "attachments": {},
   "cell_type": "markdown",
   "metadata": {
    "deletable": false,
    "editable": false,
    "nbgrader": {
     "grade": false,
     "grade_id": "cell-b8706c80d1b446cd",
     "locked": true,
     "schema_version": 3,
     "solution": false,
     "task": false
    }
   },
   "source": [
    "## Exercise 1 - Date to index\n",
    "\n",
    "Convert the `date` column to `datetime` and set it as index of the `store` dataframe.\n",
    "\n",
    "Don't forget the best practice for datetime indexes!"
   ]
  },
  {
   "cell_type": "code",
   "execution_count": null,
   "metadata": {
    "deletable": false,
    "nbgrader": {
     "grade": false,
     "grade_id": "cell-c5dde6c9d4e1e881",
     "locked": false,
     "schema_version": 3,
     "solution": true,
     "task": false
    }
   },
   "outputs": [],
   "source": [
    "# store = ...\n",
    "# YOUR CODE HERE\n",
    "raise NotImplementedError()"
   ]
  },
  {
   "cell_type": "code",
   "execution_count": null,
   "metadata": {
    "deletable": false,
    "editable": false,
    "nbgrader": {
     "grade": true,
     "grade_id": "cell-018ff5132531d38c",
     "locked": true,
     "points": 1,
     "schema_version": 3,
     "solution": false,
     "task": false
    }
   },
   "outputs": [],
   "source": [
    "assert hashlib.sha256(json.dumps(''.join([str(i) for i in store.columns.to_numpy()])).encode()).hexdigest() == \\\n",
    "'055ab105b7156113b812cde9f7e935768c6d5899150523cd269ba767fb4f8d7f', 'Did you set the date column as index?'\n",
    "assert isinstance(store.index,pd.DatetimeIndex), 'Did you convert the index to datetime?'\n",
    "assert hashlib.sha256(json.dumps(''.join([str(i) for i in store.index])).encode()).hexdigest() == \\\n",
    "'6b85e1eefc04198fc82eb98f0256ff132bd99170a60f4393f4288a8d128313dc', 'Did you follow the best practices for datetime indexes?'"
   ]
  },
  {
   "attachments": {},
   "cell_type": "markdown",
   "metadata": {
    "deletable": false,
    "editable": false,
    "nbgrader": {
     "grade": false,
     "grade_id": "cell-9d46ace3ca1ca427",
     "locked": true,
     "schema_version": 3,
     "solution": false,
     "task": false
    }
   },
   "source": [
    "## Exercise 2 - Time series preprocessing\n",
    "\n",
    "### Exercise 2.1 - Look out for duplicate timestamps (ungraded)\n",
    "\n",
    "When working with time series, we should make sure that we don't have more than one value for the same timestamp. How would you check if there are any duplicates?"
   ]
  },
  {
   "cell_type": "code",
   "execution_count": null,
   "metadata": {},
   "outputs": [],
   "source": [
    "## UNGRADED CELL\n",
    "# use this cell to write your code\n",
    "# ..."
   ]
  },
  {
   "attachments": {},
   "cell_type": "markdown",
   "metadata": {
    "deletable": false,
    "editable": false,
    "nbgrader": {
     "grade": false,
     "grade_id": "cell-407c9dd513e07ee5",
     "locked": true,
     "schema_version": 3,
     "solution": false,
     "task": false
    }
   },
   "source": [
    "### Exercise 2.2 - Missing days\n",
    "\n",
    "Sometimes datasets don't have rows corresponding to all timestamps, as a data scientist you should check if this is the case. Copy `store` to a new variable called `store_complete`, with no gap days. Fill the missing data with null values."
   ]
  },
  {
   "cell_type": "code",
   "execution_count": null,
   "metadata": {
    "deletable": false,
    "nbgrader": {
     "grade": false,
     "grade_id": "cell-e56f020937a5b22f",
     "locked": false,
     "schema_version": 3,
     "solution": true,
     "task": false
    }
   },
   "outputs": [],
   "source": [
    "store_complete = store.copy()\n",
    "# store_complete = \n",
    "\n",
    "# YOUR CODE HERE\n",
    "raise NotImplementedError()"
   ]
  },
  {
   "cell_type": "code",
   "execution_count": null,
   "metadata": {
    "deletable": false,
    "editable": false,
    "nbgrader": {
     "grade": true,
     "grade_id": "cell-fa53996d480dd867",
     "locked": true,
     "points": 1,
     "schema_version": 3,
     "solution": false,
     "task": false
    }
   },
   "outputs": [],
   "source": [
    "assert store_complete.shape == (1672,1), 'Did you add the missing timestamps?'\n",
    "assert store_complete.isnull().sum().iloc[0] == 11, \"Did you fill in the missing values with nulls?\"\n",
    "assert hashlib.sha256(json.dumps(''.join([str(i) for i in store_complete.loc[store_complete.isnull().customers].index])\n",
    ").encode()).hexdigest() == '02e28bdebe0533aee335a1cabf9d5126924e254d1739eb7796040e7add8c0a0f', \\\n",
    "\"Did you fill in the correct missing days?\"\n",
    "assert hashlib.sha256(json.dumps(''.join([str(i) for i in store_complete.index])).encode()).hexdigest() == \\\n",
    "'f3feff5cbde9ed0ac3a05893cbaac73001c1f5554ae9627bb68cf595b5399056', 'Is the index ordered?'"
   ]
  },
  {
   "attachments": {},
   "cell_type": "markdown",
   "metadata": {
    "deletable": false,
    "editable": false,
    "nbgrader": {
     "grade": false,
     "grade_id": "cell-b6278339d5f6e6bf",
     "locked": true,
     "schema_version": 3,
     "solution": false,
     "task": false
    }
   },
   "source": [
    "## Exercise 3 - Working with timestamps\n",
    "\n",
    "### Exercise 3.1 - Worst day in 2016\n",
    "\n",
    "What was the worst day in terms of customers in 2016? Find the timestamp of the day with the least number of customers in 2016 and assign it to the variable `worst_day_2016`."
   ]
  },
  {
   "cell_type": "code",
   "execution_count": null,
   "metadata": {
    "deletable": false,
    "nbgrader": {
     "grade": false,
     "grade_id": "cell-f3ba0f907ca7e1b7",
     "locked": false,
     "schema_version": 3,
     "solution": true
    }
   },
   "outputs": [],
   "source": [
    "#worst_day_2016 =\n",
    "\n",
    "# YOUR CODE HERE\n",
    "raise NotImplementedError()"
   ]
  },
  {
   "cell_type": "code",
   "execution_count": null,
   "metadata": {
    "deletable": false,
    "editable": false,
    "nbgrader": {
     "grade": true,
     "grade_id": "cell-141eb4112e911043",
     "locked": true,
     "points": 1,
     "schema_version": 3,
     "solution": false,
     "task": false
    }
   },
   "outputs": [],
   "source": [
    "assert isinstance(worst_day_2016, pd.Timestamp), 'The answer should be a timestamp.'\n",
    "assert hashlib.sha256(json.dumps(str(worst_day_2016)).encode()).hexdigest() == \\\n",
    "'e8c2fa791b4ca2388706faceea087d1b380f8697281caa58b468a6f0092e328b', 'Not correct, try again.'\n",
    "print(f\"The worst day in 2016 was {worst_day_2016.day} of {worst_day_2016.month_name()}. Talk about new year's blues!\")"
   ]
  },
  {
   "cell_type": "markdown",
   "metadata": {
    "deletable": false,
    "editable": false,
    "nbgrader": {
     "grade": false,
     "grade_id": "cell-20106072ecdc80bd",
     "locked": true,
     "schema_version": 3,
     "solution": false,
     "task": false
    }
   },
   "source": [
    "### Exercise 3.2 - Best Friday\n",
    "\n",
    "Last Friday there were 3000 customers, and your boss said they've never seen such a high count of customers on a Friday. To check if your boss is correct, can you find the maximum number of customers that we've ever had on a Friday? Assign the answer to the variable `max_customers_friday`. The answer should be a number."
   ]
  },
  {
   "cell_type": "code",
   "execution_count": null,
   "metadata": {
    "deletable": false,
    "nbgrader": {
     "grade": false,
     "grade_id": "cell-089cdded3864f17b",
     "locked": false,
     "schema_version": 3,
     "solution": true,
     "task": false
    }
   },
   "outputs": [],
   "source": [
    "# max_customers_friday = ...\n",
    "\n",
    "# YOUR CODE HERE\n",
    "raise NotImplementedError()"
   ]
  },
  {
   "cell_type": "code",
   "execution_count": null,
   "metadata": {
    "deletable": false,
    "editable": false,
    "nbgrader": {
     "grade": true,
     "grade_id": "cell-6d882e41cf9413ae",
     "locked": true,
     "points": 2,
     "schema_version": 3,
     "solution": false,
     "task": false
    }
   },
   "outputs": [],
   "source": [
    "assert hashlib.sha256(json.dumps(str(int(max_customers_friday))).encode()).hexdigest() == \\\n",
    "'3d08b44ebd3b36f488ee9ed3f608fff67f88dbcfefa3e4d3c7ca46244e26d670', 'Not correct, try again.'\n",
    "print(f\"Yep! The highest count we ever had on a Friday was {int(max_customers_friday)} customers. Don't tell your boss.\")"
   ]
  },
  {
   "attachments": {},
   "cell_type": "markdown",
   "metadata": {
    "deletable": false,
    "editable": false,
    "nbgrader": {
     "grade": false,
     "grade_id": "cell-0b8da8c48b4de3af",
     "locked": true,
     "schema_version": 3,
     "solution": false,
     "task": false
    }
   },
   "source": [
    "## Exercise 4 - Time series methods\n",
    "\n",
    "### Exercise 4.1 - Shopping rush\n",
    "\n",
    "A new pandemic has started, and everyone came to buy soap and isopropyl alcohol. Your boss swears to have never seen such an absolute increase in customers from one day to the next - \"Yesterday there were 100 customers, today there were 5000.\"\n",
    "\n",
    "To confirm if that's true, can you find the maximum increase in customers from one day to the next? Assign the answer to the variable `max_increase`. The answer should be a number."
   ]
  },
  {
   "cell_type": "code",
   "execution_count": null,
   "metadata": {
    "deletable": false,
    "nbgrader": {
     "grade": false,
     "grade_id": "cell-f19f56a68b7febcb",
     "locked": false,
     "schema_version": 3,
     "solution": true,
     "task": false
    }
   },
   "outputs": [],
   "source": [
    "# max_increase = ...\n",
    "\n",
    "# YOUR CODE HERE\n",
    "raise NotImplementedError()"
   ]
  },
  {
   "cell_type": "code",
   "execution_count": null,
   "metadata": {
    "deletable": false,
    "editable": false,
    "nbgrader": {
     "grade": true,
     "grade_id": "cell-0703bbeda85d0834",
     "locked": true,
     "points": 1,
     "schema_version": 3,
     "solution": false,
     "task": false
    }
   },
   "outputs": [],
   "source": [
    "assert hashlib.sha256(json.dumps(str(int(max_increase))).encode()).hexdigest() == \\\n",
    "'e4c02700f464096a5eafc2286588982c0f5905a92fd6c1c3c3d73908669b1fcd', 'Not correct, try again.'"
   ]
  },
  {
   "cell_type": "markdown",
   "metadata": {
    "deletable": false,
    "editable": false,
    "nbgrader": {
     "grade": false,
     "grade_id": "cell-63c93292193b0090",
     "locked": true,
     "schema_version": 3,
     "solution": false,
     "task": false
    }
   },
   "source": [
    "### Exercise 4.2 - Bad month\n",
    "\n",
    "Despite the shopping rush of the last few days, we had a bad month, with a monthly sum of customers < 45000. What was the last month we had less than 45000 customers? Assign the answer to the variable `last_bad_month`. The answer should be a timestamp, not the name of the month."
   ]
  },
  {
   "cell_type": "code",
   "execution_count": null,
   "metadata": {
    "deletable": false,
    "nbgrader": {
     "grade": false,
     "grade_id": "cell-3745ea4d56722003",
     "locked": false,
     "schema_version": 3,
     "solution": true,
     "task": false
    }
   },
   "outputs": [],
   "source": [
    "# last_bad_month = \n",
    "\n",
    "# YOUR CODE HERE\n",
    "raise NotImplementedError()"
   ]
  },
  {
   "cell_type": "code",
   "execution_count": null,
   "metadata": {
    "deletable": false,
    "editable": false,
    "nbgrader": {
     "grade": true,
     "grade_id": "cell-e8248641ed113328",
     "locked": true,
     "points": 2,
     "schema_version": 3,
     "solution": false,
     "task": false
    }
   },
   "outputs": [],
   "source": [
    "assert isinstance(last_bad_month,pd.Timestamp), 'The answer should be a timestamp.'\n",
    "assert hashlib.sha256(json.dumps(str(last_bad_month.year)).encode()).hexdigest() == \\\n",
    "'0fe9d210e9a2b48d40af858d5edbc92e1fcc022110a68a19b4fc55377e6a9de2', 'Not correct, try again.'\n",
    "assert hashlib.sha256(json.dumps(str(last_bad_month.month)).encode()).hexdigest() == \\\n",
    "'2bf175f9655e7bb7357b9f0a7c6051465a5ae701104ffe741b98e852c0e4d460', 'Not correct, try again.'\n",
    "assert hashlib.sha256(json.dumps(str(last_bad_month.day)).encode()).hexdigest() == \\\n",
    "'391552c099c101b131feaf24c5795a6a15bc8ec82015424e0d2b4274a369a0bf' or \\\n",
    "hashlib.sha256(json.dumps(str(last_bad_month.day)).encode()).hexdigest() == \\\n",
    "'f20e4586c63ba3b2c06a97c4e585acea4a2977c3d8d81dc2d1f2275439ad90a7', 'Not correct, try again.'"
   ]
  },
  {
   "cell_type": "markdown",
   "metadata": {
    "deletable": false,
    "editable": false,
    "nbgrader": {
     "grade": false,
     "grade_id": "cell-56d1a5764f9b4860",
     "locked": true,
     "schema_version": 3,
     "solution": false,
     "task": false
    }
   },
   "source": [
    "**Congrats!**\n",
    "\n",
    "Your work is proving useful, so your boss has asked to expand your analysis to the whole chain. \n",
    "\n",
    "Let's get the new data:"
   ]
  },
  {
   "cell_type": "code",
   "execution_count": null,
   "metadata": {
    "deletable": false,
    "editable": false,
    "nbgrader": {
     "grade": false,
     "grade_id": "cell-cad95b3a90fe0f8d",
     "locked": true,
     "schema_version": 3,
     "solution": false,
     "task": false
    }
   },
   "outputs": [],
   "source": [
    "chain = utils.get_stores_data()\n",
    "chain.head()"
   ]
  },
  {
   "cell_type": "code",
   "execution_count": null,
   "metadata": {
    "deletable": false,
    "editable": false,
    "nbgrader": {
     "grade": false,
     "grade_id": "cell-76bf1854f1a0871d",
     "locked": true,
     "schema_version": 3,
     "solution": false
    }
   },
   "outputs": [],
   "source": [
    "print('We now have %0.0f data points. Wooooow!' % len(chain))"
   ]
  },
  {
   "cell_type": "markdown",
   "metadata": {
    "deletable": false,
    "editable": false,
    "nbgrader": {
     "grade": false,
     "grade_id": "cell-ed2483e8e17c72b5",
     "locked": true,
     "schema_version": 3,
     "solution": false
    }
   },
   "source": [
    "The thing is, we can't just set the index to be the day, as we now have multiple stores on the same day. \n",
    "\n",
    "Looks like we have to go into multi-indexing..."
   ]
  },
  {
   "attachments": {},
   "cell_type": "markdown",
   "metadata": {
    "deletable": false,
    "editable": false,
    "nbgrader": {
     "grade": false,
     "grade_id": "cell-6e67b8daa5d7502d",
     "locked": true,
     "schema_version": 3,
     "solution": false,
     "task": false
    }
   },
   "source": [
    "## Exercise 5 - Multi-indexing\n",
    "\n",
    "### Exercise 5.1 - Set the multi-index\n",
    "Convert the date to a datetime, then set the index of the `chain` dataframe to `(date, store_nbr)`."
   ]
  },
  {
   "cell_type": "code",
   "execution_count": null,
   "metadata": {
    "deletable": false,
    "nbgrader": {
     "grade": false,
     "grade_id": "cell-76e9757d88ddc4b1",
     "locked": false,
     "schema_version": 3,
     "solution": true,
     "task": false
    }
   },
   "outputs": [],
   "source": [
    "# chain = ...\n",
    "\n",
    "# YOUR CODE HERE\n",
    "raise NotImplementedError()"
   ]
  },
  {
   "cell_type": "code",
   "execution_count": null,
   "metadata": {
    "deletable": false,
    "editable": false,
    "nbgrader": {
     "grade": true,
     "grade_id": "cell-90a9c56f23c1116b",
     "locked": true,
     "points": 1,
     "schema_version": 3,
     "solution": false,
     "task": false
    }
   },
   "outputs": [],
   "source": [
    "assert len(chain.index.dtypes.index) ==  2, 'The index should have two levels.'\n",
    "assert chain.index.dtypes.index[0] == 'date', 'The first index should be date.'\n",
    "assert chain.index.dtypes.index[1] == 'store_nbr', 'The second index should be store_nbr.'\n",
    "assert isinstance(chain.index.get_level_values(0), pd.DatetimeIndex), 'The date should be converted to datetime.'\n",
    "assert hashlib.sha256(json.dumps(''.join([str(i) for i in chain.index.get_level_values(0)])).encode()).hexdigest() == \\\n",
    "'924abf6d787da3822a81e4318962ecc23f52e208095113b1a083111e0a12936a', 'Did you follow the good practices for multi-index?'"
   ]
  },
  {
   "cell_type": "markdown",
   "metadata": {
    "deletable": false,
    "editable": false,
    "nbgrader": {
     "grade": false,
     "grade_id": "cell-9133d869946ecfee",
     "locked": true,
     "schema_version": 3,
     "solution": false,
     "task": false
    }
   },
   "source": [
    "### Exercise 5.2 - Shop 10 in April 2016\n",
    "\n",
    "What was the maximum daily number of customers in store 10 in April 2016? Assign the answer to the variable `max_store10`. The answer should be an integer."
   ]
  },
  {
   "cell_type": "code",
   "execution_count": null,
   "metadata": {
    "deletable": false,
    "nbgrader": {
     "grade": false,
     "grade_id": "cell-bc9fe27354d7f35b",
     "locked": false,
     "schema_version": 3,
     "solution": true,
     "task": false
    }
   },
   "outputs": [],
   "source": [
    "# max_store10 = ...\n",
    "\n",
    "# YOUR CODE HERE\n",
    "raise NotImplementedError()"
   ]
  },
  {
   "cell_type": "code",
   "execution_count": null,
   "metadata": {
    "deletable": false,
    "editable": false,
    "nbgrader": {
     "grade": true,
     "grade_id": "cell-ec809d4ad7cf82c7",
     "locked": true,
     "points": 2,
     "schema_version": 3,
     "solution": false,
     "task": false
    }
   },
   "outputs": [],
   "source": [
    "assert hashlib.sha256(json.dumps(str(max_store10)).encode()).hexdigest() == \\\n",
    "'60bf6d3dab326daeabf97b4471f0c8f40a8d61091daf45554f074da18d715526', 'Not correct, try again.'\n",
    "print(f\"Correct! The maximum daily number of customers on April 2016 was {max_store10}.\")"
   ]
  },
  {
   "cell_type": "markdown",
   "metadata": {
    "deletable": false,
    "editable": false,
    "nbgrader": {
     "grade": false,
     "grade_id": "cell-5edabf7ec5d8ab98",
     "locked": true,
     "schema_version": 3,
     "solution": false,
     "task": false
    }
   },
   "source": [
    "### Exercise 5.3 - Stores in 2015 vs. 2014\n",
    "How has the number of stores changed from 2014 to 2015? Find the difference in the number of stores in each year and assign the answer to the variable `nr_stores_2014_2015`."
   ]
  },
  {
   "cell_type": "code",
   "execution_count": null,
   "metadata": {
    "deletable": false,
    "nbgrader": {
     "grade": false,
     "grade_id": "cell-ff6e9c588b6ab2bf",
     "locked": false,
     "schema_version": 3,
     "solution": true,
     "task": false
    }
   },
   "outputs": [],
   "source": [
    "# nr_stores_2014_2015 = \n",
    "\n",
    "# YOUR CODE HERE\n",
    "raise NotImplementedError()"
   ]
  },
  {
   "cell_type": "code",
   "execution_count": null,
   "metadata": {
    "deletable": false,
    "editable": false,
    "nbgrader": {
     "grade": true,
     "grade_id": "cell-85511006b783f6f0",
     "locked": true,
     "points": 2,
     "schema_version": 3,
     "solution": false,
     "task": false
    }
   },
   "outputs": [],
   "source": [
    "assert hashlib.sha256(json.dumps(str(abs(nr_stores_2014_2015))).encode()).hexdigest() == \\\n",
    "'d10a4bc9e0c1fa4e8f3d7ce2512b8756e47ca5fa451f373c39a1431bb88db49f', 'Not correct, try again.'"
   ]
  },
  {
   "cell_type": "markdown",
   "metadata": {
    "deletable": false,
    "editable": false,
    "nbgrader": {
     "grade": false,
     "grade_id": "cell-d5b44698b2e6a12d",
     "locked": true,
     "schema_version": 3,
     "solution": false,
     "task": false
    }
   },
   "source": [
    "### Exercise 5.4 - Customers in 2015\n",
    "\n",
    "Find the total number of customers in each store in 2015. The result should be a pandas dataframe called `sum_per_store_2015` where the index is the `store_nbr` and the values are the customer sums."
   ]
  },
  {
   "cell_type": "code",
   "execution_count": null,
   "metadata": {
    "deletable": false,
    "nbgrader": {
     "grade": false,
     "grade_id": "cell-21a479aedaccf32e",
     "locked": false,
     "schema_version": 3,
     "solution": true,
     "task": false
    }
   },
   "outputs": [],
   "source": [
    "# sum_per_store_2015 = \n",
    "\n",
    "# YOUR CODE HERE\n",
    "raise NotImplementedError()"
   ]
  },
  {
   "cell_type": "code",
   "execution_count": null,
   "metadata": {
    "deletable": false,
    "editable": false,
    "nbgrader": {
     "grade": true,
     "grade_id": "cell-56add98c830a14a7",
     "locked": true,
     "points": 1,
     "schema_version": 3,
     "solution": false,
     "task": false
    }
   },
   "outputs": [],
   "source": [
    "assert isinstance(sum_per_store_2015, pd.DataFrame), 'The result should be a dataframe.'\n",
    "sum_per_store_2015 = sum_per_store_2015.sort_index()\n",
    "assert sum_per_store_2015.shape[0] == 53, \"There should be 53 stores.\"\n",
    "assert hashlib.sha256(json.dumps(''.join([str(i) for i in sum_per_store_2015.to_numpy().flatten()])).encode()).hexdigest() == \\\n",
    "'45c1fea0de4ddcc33b2809df0e20e0c11b98053222590d9cec285ae7d3d98d92', 'Not correct, try again.'\n",
    "\n",
    "print(f\"\"\"Good job!!\n",
    "Also, the store with the highest count of customers in 2015 was store {sum_per_store_2015.idxmax().iloc[0]}, \\\n",
    "with a total of {sum_per_store_2015.max().iloc[0]} customers.\n",
    "Now that's a lot of customers!...\"\"\")"
   ]
  },
  {
   "attachments": {},
   "cell_type": "markdown",
   "metadata": {
    "deletable": false,
    "editable": false,
    "nbgrader": {
     "grade": false,
     "grade_id": "cell-871790c5edde3d83",
     "locked": true,
     "schema_version": 3,
     "solution": false,
     "task": false
    }
   },
   "source": [
    "## Exercise 6 - Time series modelling concepts\n",
    "\n",
    "### Exercise 6.1 - Store 10\n",
    "\n",
    "You've been asked to make an analysis on store 10. You remember what you learned about time series  at that awesome Academy in 2024. Let's impress your boss!"
   ]
  },
  {
   "cell_type": "markdown",
   "metadata": {
    "deletable": false,
    "editable": false,
    "nbgrader": {
     "grade": false,
     "grade_id": "cell-d59925cd2a02be00",
     "locked": true,
     "schema_version": 3,
     "solution": false,
     "task": false
    }
   },
   "source": [
    "### 6.1 - Get the data\n",
    "\n",
    "Using cross sections, select all data for store 10. Make sure that the time series has all the consecutive days between the start and end dates. Fill the missing values with nulls. The result should be a dataframe called `store_10` with an index corresponding to the dates and the `customers` column."
   ]
  },
  {
   "cell_type": "code",
   "execution_count": null,
   "metadata": {
    "deletable": false,
    "nbgrader": {
     "grade": false,
     "grade_id": "cell-ffe1ea4e86e33e31",
     "locked": false,
     "schema_version": 3,
     "solution": true,
     "task": false
    }
   },
   "outputs": [],
   "source": [
    "# store_10 = \n",
    "\n",
    "# YOUR CODE HERE\n",
    "raise NotImplementedError()"
   ]
  },
  {
   "cell_type": "code",
   "execution_count": null,
   "metadata": {
    "deletable": false,
    "editable": false,
    "nbgrader": {
     "grade": true,
     "grade_id": "cell-0d57fe4b68eba34c",
     "locked": true,
     "points": 1,
     "schema_version": 3,
     "solution": false,
     "task": false
    }
   },
   "outputs": [],
   "source": [
    "assert store_10.shape == (1672, 1), 'Did you fill in the missing dates?'\n",
    "assert hashlib.sha256(json.dumps(''.join([str(i) for i in store_10.to_numpy().flatten()])).encode()).hexdigest() == \\\n",
    "'9853ad11d73360f8e8404f2e21e1160c9b9e8b3ca0d05fb36a85aca3124dcc89', 'Did you fill in the null values?'\n",
    "assert store_10.isnull().sum().iloc[0] == 12, \"The values for missing days should be filled as nulls.\""
   ]
  },
  {
   "cell_type": "markdown",
   "metadata": {
    "deletable": false,
    "editable": false,
    "nbgrader": {
     "grade": false,
     "grade_id": "cell-d1675ece9d7ebb68",
     "locked": true,
     "schema_version": 3,
     "solution": false,
     "task": false
    }
   },
   "source": [
    "### 6.2 - Seasonality in store 10\n",
    "\n",
    "Find the weekly and biweekly seasonality in customer numbers in store 10. Use the correlation as a proxy for seasonality. Do this in two steps.\n",
    "\n",
    "First, calculate the weekly and biweekly shifts for the customers column and store the results in the pandas series `customers_week_before` and `customers_2_weeks_before`. Use a negative shift.\n",
    "\n",
    "Then, use the pandas correlation function to calculate the correlations between the original and shifted data. Store the result in the float variables `weekly_corr` and `biweekly_corr`."
   ]
  },
  {
   "cell_type": "code",
   "execution_count": null,
   "metadata": {
    "deletable": false,
    "nbgrader": {
     "grade": false,
     "grade_id": "cell-90ce7e7916ff582b",
     "locked": false,
     "schema_version": 3,
     "solution": true,
     "task": false
    }
   },
   "outputs": [],
   "source": [
    "# customers_week_before = \n",
    "# customers_2_weeks_before = \n",
    "\n",
    "# weekly_corr = \n",
    "# biweekly_corr = \n",
    "\n",
    "# YOUR CODE HERE\n",
    "raise NotImplementedError()"
   ]
  },
  {
   "cell_type": "code",
   "execution_count": null,
   "metadata": {
    "deletable": false,
    "editable": false,
    "nbgrader": {
     "grade": true,
     "grade_id": "cell-f44cea818496f41b",
     "locked": true,
     "points": 2,
     "schema_version": 3,
     "solution": false,
     "task": false
    }
   },
   "outputs": [],
   "source": [
    "assert isinstance(customers_week_before, pd.Series) and isinstance(customers_2_weeks_before, pd.Series), \\\n",
    "'The results should be a series.'\n",
    "assert int(customers_week_before.loc['2016-01-09']) == int(customers_2_weeks_before.loc['2016-01-02']), \\\n",
    "\"Did you shift the data correctly?\"\n",
    "np.testing.assert_almost_equal(weekly_corr, 0.66, decimal=2, err_msg=\"Not correct, try again.\")\n",
    "np.testing.assert_almost_equal(biweekly_corr, 0.56, decimal=2, err_msg=\"Not correct, try again.\")"
   ]
  },
  {
   "cell_type": "markdown",
   "metadata": {
    "deletable": false,
    "editable": false,
    "nbgrader": {
     "grade": false,
     "grade_id": "cell-b3eb9420d4d4966f",
     "locked": true,
     "schema_version": 3,
     "solution": false,
     "task": false
    }
   },
   "source": [
    "### 6.3 Negative trends\n",
    "\n",
    "You were very fast and impressed your boss. Now you should dive deeper and analyze data from all stores. Find out which stores have a negative trend in customer numbers. The answer should be a list of the store numbers (integers) called `stores_neg_trend`. \n",
    "\n",
    "This one is a bit harder and there are several ways to solve it. A few clues:\n",
    "- Assume linear trends where the trend is characterized by the slope of the linear regression.\n",
    "- This is just an EDA, we're not building a predictive model, so you don't need to split your dataset.\n",
    "- For each store time series, don't forget to fill the missing dates using a `KNNImputer`."
   ]
  },
  {
   "cell_type": "code",
   "execution_count": null,
   "metadata": {
    "deletable": false,
    "nbgrader": {
     "grade": false,
     "grade_id": "cell-8c43928a919c7736",
     "locked": false,
     "schema_version": 3,
     "solution": true,
     "task": false
    }
   },
   "outputs": [],
   "source": [
    "# stores_neg_trend = \n",
    "\n",
    "# YOUR CODE HERE\n",
    "raise NotImplementedError()"
   ]
  },
  {
   "cell_type": "code",
   "execution_count": null,
   "metadata": {
    "deletable": false,
    "editable": false,
    "nbgrader": {
     "grade": true,
     "grade_id": "cell-26706f4c9eaf8c28",
     "locked": true,
     "points": 3,
     "schema_version": 3,
     "solution": false,
     "task": false
    }
   },
   "outputs": [],
   "source": [
    "assert isinstance(stores_neg_trend,list), 'The result should be a list.'\n",
    "assert len(stores_neg_trend) == 32, 'The length of the list is not correct.'\n",
    "assert hashlib.sha256(json.dumps(''.join([str(i) for i in sorted(stores_neg_trend)])).encode()).hexdigest() == \\\n",
    "'da7dbee9e8e950abcbe18f37a82b783a75df8a7e979d33112fbd85f7ee45e947', 'Not correct, try again.'\n",
    "print(\"Correct! Your boss is ecstatic about your work and decides to give you a 200% raise!...\")"
   ]
  }
 ],
 "metadata": {
  "kernelspec": {
   "display_name": "Python 3 (ipykernel)",
   "language": "python",
   "name": "python3"
  },
  "language_info": {
   "codemirror_mode": {
    "name": "ipython",
    "version": 3
   },
   "file_extension": ".py",
   "mimetype": "text/x-python",
   "name": "python",
   "nbconvert_exporter": "python",
   "pygments_lexer": "ipython3",
   "version": "3.12.7"
  },
  "vscode": {
   "interpreter": {
    "hash": "916dbcbb3f70747c44a77c7bcd40155683ae19c65e1c03b4aa3499c5328201f1"
   }
  }
 },
 "nbformat": 4,
 "nbformat_minor": 4
}
