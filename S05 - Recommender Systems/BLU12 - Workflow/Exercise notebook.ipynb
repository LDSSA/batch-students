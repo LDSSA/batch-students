{
 "cells": [
  {
   "cell_type": "markdown",
   "id": "d067d36d-4b47-430c-a0d7-09428c422448",
   "metadata": {
    "deletable": false,
    "editable": false,
    "nbgrader": {
     "grade": false,
     "grade_id": "cell-ff9748e1d61c44b4",
     "locked": true,
     "schema_version": 3,
     "solution": false,
     "task": false
    }
   },
   "source": [
    "# BLU12 - Workflow - Exercise notebook"
   ]
  },
  {
   "cell_type": "code",
   "execution_count": null,
   "id": "8e49e53c-1019-4afd-aad6-516c7a76ea7a",
   "metadata": {
    "deletable": false,
    "editable": false,
    "nbgrader": {
     "grade": false,
     "grade_id": "cell-818e5ab3a4564dcf",
     "locked": true,
     "schema_version": 3,
     "solution": false,
     "task": false
    }
   },
   "outputs": [],
   "source": [
    "import hashlib\n",
    "import json"
   ]
  },
  {
   "cell_type": "markdown",
   "id": "113d8fc2-7efa-4357-aef8-355ecd3b8900",
   "metadata": {
    "deletable": false,
    "editable": false,
    "nbgrader": {
     "grade": false,
     "grade_id": "cell-590bd7c72232357b",
     "locked": true,
     "schema_version": 3,
     "solution": false,
     "task": false
    }
   },
   "source": [
    "The main idea of the workflow unit is for you to understand how you should build a strategy for designing a recommender system.\n",
    "For this purpose we recommend that you:\n",
    "\n",
    "1. Review the workflow notebook carefully and make sure you are able to explain the whole pipeline to a 5-year-old child (or a [rubber duck](https://en.wikipedia.org/wiki/Rubber_duck_debugging)). Even better, try to get some ideas on how to improve it!\n",
    "\n",
    "2. Choose one of these [datasets](https://github.com/caserec/Datasets-for-Recommender-Systems) and follow the steps in the Simplified Pipeline notebook.\n",
    "\n",
    "3. Design and implement the whole RS pipeline for another dataset from stratch - as will happen in the Hackathon.\n",
    "\n",
    "When you feel ready for the Hackathon, complete the next cell and submit it to the portal."
   ]
  },
  {
   "cell_type": "code",
   "execution_count": null,
   "id": "f7f54896-bcef-456d-8695-5558b5693034",
   "metadata": {
    "deletable": false,
    "nbgrader": {
     "grade": false,
     "grade_id": "cell-f38e2faccb3fe9d8",
     "locked": false,
     "schema_version": 3,
     "solution": true,
     "task": false
    }
   },
   "outputs": [],
   "source": [
    "def ds_recommenders_oath_of_office():\n",
    "    \"\"\"The Recommender Systems' Data Scientist Oath of Office\n",
    "    \n",
    "    Returns:\n",
    "        oath (str): should contain the following sentence:\n",
    "                    'I do solemnly swear I have reviewed the Workflow notebook and I am ready for the Hackathon!'\n",
    "    \"\"\"\n",
    "    # YOUR CODE HERE\n",
    "    raise NotImplementedError()\n",
    "\n",
    "oath = ds_recommenders_oath_of_office()"
   ]
  },
  {
   "cell_type": "code",
   "execution_count": null,
   "id": "b4faeeb9-cf64-48ac-b28b-caea3ff1e2e6",
   "metadata": {
    "deletable": false,
    "editable": false,
    "nbgrader": {
     "grade": true,
     "grade_id": "cell-7867e029322ef452",
     "locked": true,
     "points": 20,
     "schema_version": 3,
     "solution": false,
     "task": false
    }
   },
   "outputs": [],
   "source": [
    "assert hashlib.sha256(json.dumps(oath).encode()).hexdigest() == \\\n",
    "'e54e1d36b37cae24224bcb9f133f0f47735239c86349d7ad8ae5f965e8d90cd6'"
   ]
  }
 ],
 "metadata": {
  "kernelspec": {
   "display_name": "Python 3 (ipykernel)",
   "language": "python",
   "name": "python3"
  },
  "language_info": {
   "codemirror_mode": {
    "name": "ipython",
    "version": 3
   },
   "file_extension": ".py",
   "mimetype": "text/x-python",
   "name": "python",
   "nbconvert_exporter": "python",
   "pygments_lexer": "ipython3",
   "version": "3.12.8"
  }
 },
 "nbformat": 4,
 "nbformat_minor": 5
}
