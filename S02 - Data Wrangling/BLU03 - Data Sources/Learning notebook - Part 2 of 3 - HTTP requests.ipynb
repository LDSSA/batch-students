{
 "cells": [
  {
   "cell_type": "markdown",
   "metadata": {},
   "source": [
    "# BLU03 - Learning Notebook - Part 2 of 3 - HTTP requests\n",
    "\n",
    "## 1. Introduction\n",
    "\n",
    "In this notebook, you'll be introduced to the wonderful world of getting data from [APIs](https://en.wikipedia.org/wiki/API) (Application Programming Interfaces).\n",
    "And APIs really are a fantastic data source because they can usually give you access to structured data, very fast.\n",
    "\n",
    "But before learning about APIs, we need to take a step back and learn more about the process that allows us to communicate with them, which is through HTTP requests - in particular, the GET request."
   ]
  },
  {
   "cell_type": "markdown",
   "metadata": {},
   "source": [
    "## 2. What is HTTP\n",
    "\n",
    "[HTTP](https://en.wikipedia.org/wiki/Hypertext_Transfer_Protocol), which means Hypertext Transfer Protocol, is the protocol used for data communication in the [Web](https://en.wikipedia.org/wiki/World_Wide_Web).\n",
    "\n",
    "We won't go into much detail about HTTP here. We'll just introduce you to the basics of what it's used for and how it works.\n",
    "\n",
    "When two hosts communicate in the Web, there is usually a **client-server** relationship between them. The client is the host that requests resources, and the server is the host that retrieves and sends them as a response.\n",
    "An example of this relationship happens when you surf the Web. Imagine you want to read Sam's [blog post](https://medium.com/lisbon-data-science-academy/in-the-name-of-love-for-data-science-e5588d31b248) about our Academy: there is a client, which is your web browser, that will request a web page to a server, which is the machine hosting [Medium's](https://medium.com/) website.\n",
    "\n",
    "Now, HTTP is the protocol that establishes the rules for the communication between the client and the server.\n",
    "These rules are pretty simple: they say that the communication starts with the client sending a **Request** message to the server, followed by the server sending a **Response** message to the client.\n",
    "\n",
    "![title](media/client_server.png)"
   ]
  },
  {
   "cell_type": "markdown",
   "metadata": {},
   "source": [
    "### 2.1 Request message\n",
    "\n",
    "The HTTP request message has two main elements: the **URL** and the **method**.\n",
    "\n",
    "The URL is the address where the web resource we want to retrieve lives in. For example, when your browser wants to load the Lisbon Data Science Academy's website, it sends a request message with the URL https://www.lisbondatascience.org/.\n",
    "\n",
    "Now, the method is like a keyword that spells out the kind of action we're asking the server to do. Here are the most common methods:\n",
    "\n",
    "* **GET**: used to download a resource from the server, e.g. opening a blog post from Medium in our browser.\n",
    "* **POST**: used to upload something new to the server, e.g. creating a new blog post in Medium.\n",
    "* **PUT**: used to update something that already exists in the server, e.g. adding some lines to an existing blog post in Medium.\n",
    "* **DELETE**: used to delete something from the server, e.g. deleting a blog post in Medium.\n",
    "\n",
    "Since the methods represent actions, they can also be referred to as HTTP verbs."
   ]
  },
  {
   "cell_type": "markdown",
   "metadata": {},
   "source": [
    "### 2.2 Response message\n",
    "\n",
    "Regarding the HTTP response message, the two elements that we're most interested in are the **status code** and the **content**.\n",
    "\n",
    "The status code is a number that tells us if the request was successful or if there's an issue. If there's a problem, the status code provides details about what went wrong.\n",
    "\n",
    "There are hundreds of different status codes, which you can consult [here](https://en.wikipedia.org/wiki/List_of_HTTP_status_codes).\n",
    "\n",
    "Thankfully, they are structured in a clever way, which allows us to \"survive\" by knowing only three patterns:\n",
    "\n",
    "* **2xx** = Success - your request had a good outcome!\n",
    "* **4xx** = Client error, something is wrong with the way you're doing your request, so you should fix it\n",
    "* **5xx** = Server error, something is wrong with the server - you won't get what you're requesting \n",
    "\n",
    "Now, let's get into the response message content. This is where the server speaks back to the client. Depending on the request type and how things went down, the content can be many things:\n",
    "\n",
    "- in case the request was a GET and it was successful, the response content will be the resource that was requested, like a web page (which is in fact an HTML file).\n",
    "- in case the request was a POST and it was successful, the response content will usually be the location of the newly created entity, for instance, in our blog post example, the content could be the id of the new blog post.\n",
    "- in case the request was not successful, the content will usually be a descriptive error message, that allows to better understand what went wrong with our request.\n",
    "- there's also a special case when the response has no content. In this case, the response has the 204 status code, which tells us that the server processed the request successfully, but no content was returned."
   ]
  },
  {
   "cell_type": "markdown",
   "metadata": {},
   "source": [
    "### 2.3 Header\n",
    "\n",
    "Both in the request and response messages, there's another important element, which is the **header**.\n",
    "The header contains parameters that are necessary for the communication between the client and the server to occur.\n",
    "\n",
    "Two examples of such parameters are the **authentication** fields and **cookies**.\n",
    "\n",
    "It's common for a server to require some form of authentication from the client in order to respond to its requests.\n",
    "Authentication can happen in many forms, for instance a [username and password pair](https://en.wikipedia.org/wiki/Basic_access_authentication) or a [token](https://en.wikipedia.org/wiki/JSON_Web_Token). Authentication data is usually sent to the server in the request header.\n",
    "\n",
    "HTTP is a stateless protocol. This means that the server doesn't keep track of the interactions it has with the client. This means that the requests sent from the client to the server are independent from each other. \n",
    "However, it is often useful that the server keeps track of its interactions with the client - for instance, when a user is logged in on a web site.\n",
    "This can be achieved with a [cookie](https://en.wikipedia.org/wiki/HTTP_cookie), which is a unique identifier that the client sends in the header of its requests to the server, allowing the server to keep track of the identity of the client."
   ]
  },
  {
   "cell_type": "markdown",
   "metadata": {},
   "source": [
    "## 3. GET request\n",
    "\n",
    "Now that you've been introduced to HTTP, we can focus on the part that is really important in the data wrangling context: GET requests.\n",
    "\n",
    "Python has a very handy library to do HTTP requests, called [requests](https://requests.readthedocs.io/en/master/user/quickstart/).\n",
    "\n",
    "Let's see some examples on how to use it to do HTTP GET requests."
   ]
  },
  {
   "cell_type": "code",
   "execution_count": 1,
   "metadata": {},
   "outputs": [],
   "source": [
    "# Import the requests library\n",
    "import requests\n",
    "# Import some helper functions to print shorter outputs\n",
    "import utils\n",
    "\n",
    "# Import some helper packages to handle images\n",
    "from PIL import Image\n",
    "from io import BytesIO"
   ]
  },
  {
   "cell_type": "markdown",
   "metadata": {},
   "source": [
    "The first example that we'll see is getting a web page."
   ]
  },
  {
   "cell_type": "code",
   "execution_count": 2,
   "metadata": {},
   "outputs": [
    {
     "data": {
      "text/plain": [
       "<Response [200]>"
      ]
     },
     "execution_count": 2,
     "metadata": {},
     "output_type": "execute_result"
    }
   ],
   "source": [
    "# Method get receives an URL as argument and does an HTTP GET request to that URL\n",
    "# It returns a Response object\n",
    "response = requests.get('http://www.lisbondatascience.org/')\n",
    "response"
   ]
  },
  {
   "cell_type": "markdown",
   "metadata": {},
   "source": [
    "We can access the **status_code** property of the response object to know the resulting status code."
   ]
  },
  {
   "cell_type": "code",
   "execution_count": 3,
   "metadata": {},
   "outputs": [
    {
     "data": {
      "text/plain": [
       "200"
      ]
     },
     "execution_count": 3,
     "metadata": {},
     "output_type": "execute_result"
    }
   ],
   "source": [
    "# It should be 200 :)\n",
    "response.status_code"
   ]
  },
  {
   "cell_type": "markdown",
   "metadata": {},
   "source": [
    "We can access the **text** property of the response object to get the content of the response as a string.\n",
    "\n",
    "In this case, the content is an HTML file as a string, which doesn't tell us much... you'll learn more about it in the next notebook!"
   ]
  },
  {
   "cell_type": "code",
   "execution_count": 4,
   "metadata": {},
   "outputs": [
    {
     "name": "stdout",
     "output_type": "stream",
     "text": [
      "<!DOCTYPE html PUBLIC \"-//W3C//DTD XHTML 1.0 Strict//EN\" \"http://www.w3.org/TR/xhtml1/DTD/xhtml1-strict.dtd\"><html xmlns=\"http://www.w3.org/1999/xhtml\"><head><META http-equiv=\"Content-Type\" content=\"text/html; charset=UTF-8\" >\n",
      "      <!--7f3394ee-2bc1-4e2a-bab8-b6f82f2f95a1 d-->\n",
      "\n",
      "    <title>Lisbon Data Science Academy</title>\n",
      "    <meta name=\"keywords\" content=\"Lisbon Data Science Academy\">\n",
      "    <meta name=\"description\" content=\"Lisbon Data Science Academy\">\n",
      "\n",
      "    \n",
      "\n",
      "    <link type=\"text/css\" rel=\"st\n"
     ]
    }
   ],
   "source": [
    "utils.friendly_print_string(response.text)"
   ]
  },
  {
   "cell_type": "markdown",
   "metadata": {},
   "source": [
    "The next example we'll see is how to request an image.\n",
    "For this we need to get the response content in bytes and then use some extra dependencies, to help converting binary data into an image."
   ]
  },
  {
   "cell_type": "code",
   "execution_count": 5,
   "metadata": {},
   "outputs": [
    {
     "name": "stdout",
     "output_type": "stream",
     "text": [
      "b'{\"data\":{\"error\":\"Imgur is temporarily over capacity. Please try again later.\"},\"success\":false,\"status\":403}'\n"
     ]
    }
   ],
   "source": [
    "# GET request\n",
    "response = requests.get('https://imgur.com/psbattle-4-month-old-baby-panda-1akoc20')\n",
    "\n",
    "# Using the content property of the response object we get the content as bytes\n",
    "response_bytes = response.content\n",
    "\n",
    "# Printing short output, if you want to see everything, delete the friendly_print function call\n",
    "utils.friendly_print_string(response_bytes)"
   ]
  },
  {
   "cell_type": "markdown",
   "metadata": {},
   "source": [
    "If the request was successful, uncomment the following cell to use `BytesIO` to get the bytes as a stream, and finally, `Image.open` to convert the stream into an image."
   ]
  },
  {
   "cell_type": "code",
   "execution_count": 6,
   "metadata": {},
   "outputs": [],
   "source": [
    "#i = Image.open(BytesIO(response_bytes))\n",
    "\n",
    "# Tcharan! The cutest baby panda\n",
    "#i"
   ]
  },
  {
   "cell_type": "markdown",
   "metadata": {},
   "source": [
    "If you are getting an 403 error on the request like me, see the image here:"
   ]
  },
  {
   "cell_type": "markdown",
   "metadata": {},
   "source": [
    "<img src=\"media/baby_panda.jpeg\" width=\"500\">"
   ]
  },
  {
   "cell_type": "markdown",
   "metadata": {},
   "source": [
    "Finally, we will see an example where the response is a `JSON` object, which is much easier to handle than an HTML file.\n",
    "\n",
    "JSON objects are very easy to parse! Being so user friendly, the JSON format has became the most popular way to exchange data through HTTP requests.\n",
    "\n",
    "So before moving on to the final example, let's learn about APIs!"
   ]
  },
  {
   "cell_type": "markdown",
   "metadata": {},
   "source": [
    "## 4. Public APIs\n",
    "\n",
    "API stands for Application Programming Interface. Cool - but what does this really mean?\n",
    "\n",
    "In general, an API is the point of contact between an entity and the other entities that wish to communicate with it. Think of it as the bridge between two parties. The API sets the ground rules, kind of like a communication guide, outlining how these other entities should behave during their interaction. It's a way of ensuring a smooth and structured exchange of information.\n",
    "\n",
    "In our context, an API can be seen as a host that receives GET requests, and returns data.\n",
    "\n",
    "Public APIs are open APIs, that can be accessed by anyone. There are also private APIs that can only be accessed by some entities, as is the case of APIs for most companies.\n",
    "\n",
    "You'll find that public APIs are a very good source of data, because (generally):\n",
    "* they return structured data (which is easy to parse), usually in JSON format\n",
    "* they are nicely documented.\n",
    "\n",
    "But unfortunately, there are some downsides too:\n",
    "* they have rate limits, which means that you can't have hundreds of requests asking for data from the APIs in parallel to speed up the process\n",
    "* they usually require authentication."
   ]
  },
  {
   "cell_type": "markdown",
   "metadata": {},
   "source": [
    "Moving onto the final example: our very own LDSA API! This is just an illustrative API that contains fake information about a user account. Check out its documentation here:  https://learning-api.lisbondatascience.org/ui/\n",
    "\n",
    "This is the base URL of the API:\n",
    "\n",
    "```\n",
    "https://learning-api.lisbondatascience.org\n",
    "```\n",
    "\n",
    "Now, the API has a set of **endpoints**, which are the valid communication channels that we can use to communicate with the API, each with its own URL. Each endpoint is designed to handle specific operations or actions. For instance, an endpoint might be configured to receive both GET and POST requests, allowing us to retrieve information with a GET request or submit new data with a POST request.\n",
    "\n",
    "Let's see the **/random** endpoint of the LDSA API working. This endpoint was programmed to receive GET requests and send some random user information in JSON format as response."
   ]
  },
  {
   "cell_type": "code",
   "execution_count": 7,
   "metadata": {},
   "outputs": [],
   "source": [
    "# Base URL\n",
    "base_url = 'https://learning-api.lisbondatascience.org/'"
   ]
  },
  {
   "cell_type": "code",
   "execution_count": 8,
   "metadata": {},
   "outputs": [
    {
     "data": {
      "text/plain": [
       "{'email': 'ckaes57@wisc.edu',\n",
       " 'first_name': 'Clareta',\n",
       " 'gender': 'Female',\n",
       " 'id': 188,\n",
       " 'ip_address': '145.145.239.36',\n",
       " 'last_name': 'Kaes'}"
      ]
     },
     "execution_count": 8,
     "metadata": {},
     "output_type": "execute_result"
    }
   ],
   "source": [
    "# Get one random user\n",
    "random_url = base_url + '/random'\n",
    "# Send the request\n",
    "response = requests.get(random_url)\n",
    "# See the json response\n",
    "response.json()"
   ]
  },
  {
   "cell_type": "markdown",
   "metadata": {},
   "source": [
    "Now let's see another example. According to the documentation, the **user/** endpoint returns a list of users.\n",
    "\n",
    "But what if we only want to get information about a specific user? For that, we can use **query parameters** and subset the users. Query parameters are added at the end of the endpoint's URL, after a **?** (question mark), and separated by **&** ('and' symbol).\n",
    "\n",
    "The syntax is the following:\n",
    "\n",
    "```\n",
    "<BASE URL HERE>?firstname=Kelsey&lastname=Lakes\n",
    "```\n",
    "\n",
    "However, we won't be concatenating strings by ourselves as the requests library has a very convenient way to handle query parameters. We just have to build a dictionary with them and feed it to the GET method. The requests library will be responsible for building the correct request URL given the parameters we passed in the dictionary."
   ]
  },
  {
   "cell_type": "code",
   "execution_count": 9,
   "metadata": {},
   "outputs": [
    {
     "data": {
      "text/plain": [
       "[{'email': 'klakes1j@bluehost.com',\n",
       "  'first_name': 'Kelsey',\n",
       "  'gender': 'Female',\n",
       "  'id': 56,\n",
       "  'ip_address': '72.164.87.129',\n",
       "  'last_name': 'Lakes'}]"
      ]
     },
     "execution_count": 9,
     "metadata": {},
     "output_type": "execute_result"
    }
   ],
   "source": [
    "# GET request with query parameters\n",
    "user_url = base_url + 'user'\n",
    "payload = {'firstname': 'Kelsey', 'lastname': 'Lakes'}\n",
    "response = requests.get(user_url, params=payload)\n",
    "\n",
    "response.json()"
   ]
  },
  {
   "cell_type": "markdown",
   "metadata": {},
   "source": [
    "Let's now try to get all the users."
   ]
  },
  {
   "cell_type": "code",
   "execution_count": 10,
   "metadata": {},
   "outputs": [
    {
     "data": {
      "text/plain": [
       "10"
      ]
     },
     "execution_count": 10,
     "metadata": {},
     "output_type": "execute_result"
    }
   ],
   "source": [
    "response = requests.get(user_url).json()\n",
    "len(response)"
   ]
  },
  {
   "cell_type": "markdown",
   "metadata": {},
   "source": [
    "Hum... It's a bit odd that there are only 10 users...\n",
    "\n",
    "That's right, there are much more! But when the response content is long, **pagination** is a very common practice.\n",
    "\n",
    "Pagination is the process that the server uses to split the content in multiple pages in order to avoid the content size to be too large.\n",
    "\n",
    "So, when the response message is paginated, we have to do another request, specifying which page we want to get next.\n",
    "The page is usually a query parameter, so we can do it like this."
   ]
  },
  {
   "cell_type": "code",
   "execution_count": 11,
   "metadata": {},
   "outputs": [
    {
     "data": {
      "text/plain": [
       "[{'email': 'abrecknalla@spiegel.de',\n",
       "  'first_name': 'Annamarie',\n",
       "  'gender': 'Agender',\n",
       "  'id': 11,\n",
       "  'ip_address': '246.196.202.218',\n",
       "  'last_name': 'Brecknall'},\n",
       " {'email': 'sheinob@posterous.com',\n",
       "  'first_name': 'Shandy',\n",
       "  'gender': 'Bigender',\n",
       "  'id': 12,\n",
       "  'ip_address': '97.141.182.67',\n",
       "  'last_name': 'Heino'},\n",
       " {'email': 'cfayec@is.gd',\n",
       "  'first_name': 'Chlo',\n",
       "  'gender': 'Bigender',\n",
       "  'id': 13,\n",
       "  'ip_address': '225.128.91.237',\n",
       "  'last_name': 'Faye'},\n",
       " {'email': 'jbuckenhamd@prlog.org',\n",
       "  'first_name': 'Jean',\n",
       "  'gender': 'Genderqueer',\n",
       "  'id': 14,\n",
       "  'ip_address': '181.71.36.138',\n",
       "  'last_name': 'Buckenham'},\n",
       " {'email': 'mgrealishe@baidu.com',\n",
       "  'first_name': 'Marinna',\n",
       "  'gender': 'Male',\n",
       "  'id': 15,\n",
       "  'ip_address': '55.106.241.164',\n",
       "  'last_name': 'Grealish'},\n",
       " {'email': 'gsyslandf@alibaba.com',\n",
       "  'first_name': 'Gilli',\n",
       "  'gender': 'Agender',\n",
       "  'id': 16,\n",
       "  'ip_address': '17.46.98.240',\n",
       "  'last_name': 'Sysland'},\n",
       " {'email': 'ynorsisterg@jalbum.net',\n",
       "  'first_name': 'Yehudit',\n",
       "  'gender': 'Polygender',\n",
       "  'id': 17,\n",
       "  'ip_address': '59.121.99.28',\n",
       "  'last_name': 'Norsister'},\n",
       " {'email': 'dlambish@surveymonkey.com',\n",
       "  'first_name': 'Devon',\n",
       "  'gender': 'Agender',\n",
       "  'id': 18,\n",
       "  'ip_address': '155.75.92.194',\n",
       "  'last_name': 'Lambis'},\n",
       " {'email': 'bsiberryi@ezinearticles.com',\n",
       "  'first_name': 'Bentley',\n",
       "  'gender': 'Genderfluid',\n",
       "  'id': 19,\n",
       "  'ip_address': '194.30.217.219',\n",
       "  'last_name': 'Siberry'},\n",
       " {'email': 'vfippej@statcounter.com',\n",
       "  'first_name': 'Valry',\n",
       "  'gender': 'Polygender',\n",
       "  'id': 20,\n",
       "  'ip_address': '163.112.19.176',\n",
       "  'last_name': 'Fippe'}]"
      ]
     },
     "execution_count": 11,
     "metadata": {},
     "output_type": "execute_result"
    }
   ],
   "source": [
    "# GET request with query parameters\n",
    "payload = {'page': 2}\n",
    "response = requests.get(user_url, params=payload)\n",
    "\n",
    "response.json()"
   ]
  },
  {
   "cell_type": "markdown",
   "metadata": {},
   "source": [
    "So, how can we get all the data?\n",
    "We just have to loop through the pages until the response content is empty. I'll leave that to you as an exercise :)\n",
    "\n",
    "Finally, let's just see an example of a bad request to the API, which results in an error response."
   ]
  },
  {
   "cell_type": "code",
   "execution_count": 12,
   "metadata": {},
   "outputs": [],
   "source": [
    "# GET request, passing an obviously wrong parameter (a string for the page number)\n",
    "bad_params = {\n",
    "    \"page\": \"hello\"\n",
    "}\n",
    "response = requests.get(user_url, params=bad_params)"
   ]
  },
  {
   "cell_type": "code",
   "execution_count": 13,
   "metadata": {},
   "outputs": [
    {
     "data": {
      "text/plain": [
       "400"
      ]
     },
     "execution_count": 13,
     "metadata": {},
     "output_type": "execute_result"
    }
   ],
   "source": [
    "response.status_code"
   ]
  },
  {
   "cell_type": "code",
   "execution_count": 14,
   "metadata": {},
   "outputs": [
    {
     "data": {
      "text/plain": [
       "{'detail': \"Wrong type, expected 'integer' for query parameter 'page'\",\n",
       " 'status': 400,\n",
       " 'title': 'Bad Request',\n",
       " 'type': 'about:blank'}"
      ]
     },
     "execution_count": 14,
     "metadata": {},
     "output_type": "execute_result"
    }
   ],
   "source": [
    "response.json()"
   ]
  },
  {
   "cell_type": "markdown",
   "metadata": {},
   "source": [
    "## 5. Authentication in public APIs\n",
    "\n",
    "It's very frequent that public APIs require authentication.\n",
    "The process of getting an authentication form (like a username and password or a token) depends a lot on the API: some require you to fill a form with information about yourself and why you want to access the API, some will give you a token right away, some will ask you to pay something...\n",
    "\n",
    "This is very normal, and it usually has to do with controlling the users' request rate.\n",
    "\n",
    "Here, we'll show you an example of a public API that requires authentication, which is [TMDb](https://www.themoviedb.org/documentation/api), a movies database.\n",
    "\n",
    "First they ask you to create an account on their website, [here](https://www.themoviedb.org/account/signup).\n",
    "And then, you have to go to your profile settings in order to access an API Key.\n",
    "\n",
    "Once you have your key, you can start making requests to TMDb's API, sending your API Key as a query parameter, like this.\n",
    "\n",
    "```\n",
    "payload = {'api_key': XXX} # fill XXX with your API key\n",
    "response = requests.get(https://api.themoviedb.org/3/movie/76341, params=payload)\n",
    "```"
   ]
  },
  {
   "cell_type": "markdown",
   "metadata": {},
   "source": [
    "## 6. Further reading\n",
    "\n",
    "If you want to have some fun with HTTP status codes, you can lose yourself in [this](https://http.cat/) cat paradise!\n",
    "\n",
    "Also, [here](https://www.ibm.com/docs/en/cics-ts/6.x?topic=concepts-components-url) is a cool explanation about the components of a URL."
   ]
  }
 ],
 "metadata": {
  "kernelspec": {
   "display_name": "Python 3 (ipykernel)",
   "language": "python",
   "name": "python3"
  },
  "language_info": {
   "codemirror_mode": {
    "name": "ipython",
    "version": 3
   },
   "file_extension": ".py",
   "mimetype": "text/x-python",
   "name": "python",
   "nbconvert_exporter": "python",
   "pygments_lexer": "ipython3",
   "version": "3.12.7"
  }
 },
 "nbformat": 4,
 "nbformat_minor": 4
}
