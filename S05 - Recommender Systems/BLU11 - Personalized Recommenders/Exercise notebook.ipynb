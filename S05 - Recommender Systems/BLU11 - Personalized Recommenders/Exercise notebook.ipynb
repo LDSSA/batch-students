{
 "cells": [
  {
   "cell_type": "markdown",
   "metadata": {
    "deletable": false,
    "editable": false,
    "nbgrader": {
     "grade": false,
     "grade_id": "cell-50c11d2bf7904e26",
     "locked": true,
     "schema_version": 3,
     "solution": false,
     "task": false
    }
   },
   "source": [
    "# BLU11 - Personalized recommenders - Exercise notebook"
   ]
  },
  {
   "cell_type": "code",
   "execution_count": null,
   "metadata": {
    "deletable": false,
    "editable": false,
    "nbgrader": {
     "grade": false,
     "grade_id": "cell-ccd7a7449d7ca0c1",
     "locked": true,
     "schema_version": 3,
     "solution": false,
     "task": false
    }
   },
   "outputs": [],
   "source": [
    "import os\n",
    "import hashlib # for grading purposes\n",
    "import json\n",
    "import pandas as pd\n",
    "import numpy as np\n",
    "\n",
    "from scipy.sparse import csr_matrix\n",
    "\n",
    "from sklearn.metrics.pairwise import cosine_similarity\n",
    "from sklearn.feature_extraction.text import TfidfVectorizer\n",
    "from sklearn.preprocessing import normalize"
   ]
  },
  {
   "attachments": {},
   "cell_type": "markdown",
   "metadata": {
    "deletable": false,
    "editable": false,
    "nbgrader": {
     "grade": false,
     "grade_id": "cell-4a7c06fbdf00b1b7",
     "locked": true,
     "schema_version": 3,
     "solution": false,
     "task": false
    }
   },
   "source": [
    "In this exercise notebook, you'll create a collaborative and a content-based recommender system. We'll be using a standard data set for recommendations, the [MovieLens](https://grouplens.org/datasets/movielens/) dataset. Our data set is an adapted version from the smallest version of this data set.\n",
    "\n",
    "We have 3 data files.\n",
    "\n",
    "The `ratings.csv` has 70,584 ratings provided by 147 users for 9,298 movies."
   ]
  },
  {
   "cell_type": "code",
   "execution_count": null,
   "metadata": {
    "deletable": false,
    "editable": false,
    "nbgrader": {
     "grade": false,
     "grade_id": "cell-b427a7d303addf56",
     "locked": true,
     "schema_version": 3,
     "solution": false,
     "task": false
    }
   },
   "outputs": [],
   "source": [
    "df_ratings = pd.read_csv(os.path.join(\"data\", \"ratings.csv\"))\n",
    "df_ratings.head()"
   ]
  },
  {
   "cell_type": "markdown",
   "metadata": {
    "deletable": false,
    "editable": false,
    "nbgrader": {
     "grade": false,
     "grade_id": "cell-6b7bfe56b5fd5b2d",
     "locked": true,
     "schema_version": 3,
     "solution": false,
     "task": false
    }
   },
   "source": [
    "The `movies.csv` has the movie metadata with `movieId`, `title`, `genres`, and `year` for 9,742 movies."
   ]
  },
  {
   "cell_type": "code",
   "execution_count": null,
   "metadata": {
    "deletable": false,
    "editable": false,
    "nbgrader": {
     "grade": false,
     "grade_id": "cell-afef74c7b9c0b58d",
     "locked": true,
     "schema_version": 3,
     "solution": false,
     "task": false
    }
   },
   "outputs": [],
   "source": [
    "df_movies = pd.read_csv(os.path.join(\"data\",\"movies.csv\"))\n",
    "df_movies = df_movies.set_index(\"movieId\")\n",
    "df_movies.head()"
   ]
  },
  {
   "cell_type": "markdown",
   "metadata": {
    "deletable": false,
    "editable": false,
    "nbgrader": {
     "grade": false,
     "grade_id": "cell-5869592ff3ec59f1",
     "locked": true,
     "schema_version": 3,
     "solution": false,
     "task": false
    }
   },
   "source": [
    "The `tags.csv` is another metadata file with 3.5k tags provided by 49 users for 1,551 movies."
   ]
  },
  {
   "cell_type": "code",
   "execution_count": null,
   "metadata": {
    "deletable": false,
    "editable": false,
    "nbgrader": {
     "grade": false,
     "grade_id": "cell-21fbb3c32a995313",
     "locked": true,
     "schema_version": 3,
     "solution": false,
     "task": false
    }
   },
   "outputs": [],
   "source": [
    "df_tags = pd.read_csv(os.path.join(\"data\", \"tags.csv\"))\n",
    "df_tags.head()"
   ]
  },
  {
   "cell_type": "markdown",
   "metadata": {
    "deletable": false,
    "editable": false,
    "nbgrader": {
     "grade": false,
     "grade_id": "cell-802387ea90c38d91",
     "locked": true,
     "schema_version": 3,
     "solution": false,
     "task": false
    }
   },
   "source": [
    "## Exercise 1 - The ratings matrix\n",
    "In this exercise you will build the ratings matrix and a few helper functions."
   ]
  },
  {
   "attachments": {},
   "cell_type": "markdown",
   "metadata": {
    "deletable": false,
    "editable": false,
    "nbgrader": {
     "grade": false,
     "grade_id": "cell-336d1babda4bb533",
     "locked": true,
     "schema_version": 3,
     "solution": false,
     "task": false
    }
   },
   "source": [
    "### Exercise 1.1 - Create the ratings dataframe\n",
    "\n",
    "Transform the `df_ratings` dataframe from the long to the wide form. The dataframe should have the `userId` as the index, the `movieId`s as the column names and the correspondent`rating` as the values. Make sure that the index and column names are in ascending order. Assign the transformed dataframe to a variable called `df_ratings_transformed`."
   ]
  },
  {
   "cell_type": "code",
   "execution_count": null,
   "metadata": {
    "deletable": false,
    "nbgrader": {
     "grade": false,
     "grade_id": "cell-858cb039a058302d",
     "locked": false,
     "schema_version": 3,
     "solution": true,
     "task": false
    }
   },
   "outputs": [],
   "source": [
    "# df_ratings_transformed = ...\n",
    "# YOUR CODE HERE\n",
    "raise NotImplementedError()"
   ]
  },
  {
   "cell_type": "code",
   "execution_count": null,
   "metadata": {
    "deletable": false,
    "editable": false,
    "nbgrader": {
     "grade": true,
     "grade_id": "cell-74f1244b20ac0139",
     "locked": true,
     "points": 1,
     "schema_version": 3,
     "solution": false,
     "task": false
    }
   },
   "outputs": [],
   "source": [
    "assert df_ratings_transformed.shape == (147, 9298), 'The shape of the transformed dataframe is not correct.'\n",
    "assert hashlib.sha256(json.dumps(' '.join([str(i) for i in df_ratings_transformed.columns])).encode()).hexdigest() == \\\n",
    "'98c4241a6e147b336a9fd944f8c0ec7079f4f25ede42e93c870da6dc821da183', 'The column names are not correct.'\n",
    "assert hashlib.sha256(json.dumps(' '.join([str(i) for i in df_ratings_transformed.index])).encode()).hexdigest() == \\\n",
    "'8c9ebdf4f3c63ef2d32811a7254ff46844abe4779142a530b242bf10ac79b79b', 'The index is not correct.'\n",
    "assert 10*(df_ratings_transformed.sum().sum()) == 2416885, 'The content of the dataframe is not correct.'\n",
    "df_ratings_transformed.head()"
   ]
  },
  {
   "attachments": {},
   "cell_type": "markdown",
   "metadata": {
    "deletable": false,
    "editable": false,
    "nbgrader": {
     "grade": false,
     "grade_id": "cell-8367a6879c5ddcb7",
     "locked": true,
     "schema_version": 3,
     "solution": false,
     "task": false
    }
   },
   "source": [
    "### Exercise 1.2 - Create utility functions\n",
    "\n",
    "As you can see in the `df_ratings_transformed` dataframe, neither the `userId`s and nor the `movieId`s are a continuous sequence of integers. We'll be working with matrices which have no column names or index, so we need to know how to translate the row/column positions to `userId`/`movieId`s.\n",
    "\n",
    "Create a set of utility functions that will transform the given `userId`/`movieId` to a row/column number and vice versa. We will refer to the row/column numbers as `index` in the functions. The functions should:   \n",
    "- Accept a single `userId`/`movieId` or row/column index.\n",
    "- Return the correspondent id, if accepting an index.\n",
    "- Return the correspondent index, if accepting an id.\n",
    "\n",
    "Below are the arrays of `userId`s/`movieId`s extracted from the row/column indexes of the dataframe. The correspondence between the array index and the `userId`s/`movieId`s is the same as in the dataframe."
   ]
  },
  {
   "cell_type": "code",
   "execution_count": null,
   "metadata": {
    "deletable": false,
    "editable": false,
    "nbgrader": {
     "grade": false,
     "grade_id": "cell-44f5e0402dbfa88f",
     "locked": true,
     "schema_version": 3,
     "solution": false,
     "task": false
    }
   },
   "outputs": [],
   "source": [
    "user_id_array = df_ratings_transformed.index.to_numpy()\n",
    "movie_id_array = df_ratings_transformed.columns.to_numpy()"
   ]
  },
  {
   "cell_type": "code",
   "execution_count": null,
   "metadata": {
    "deletable": false,
    "nbgrader": {
     "grade": false,
     "grade_id": "cell-c168dca2ff205190",
     "locked": false,
     "schema_version": 3,
     "solution": true,
     "task": false
    }
   },
   "outputs": [],
   "source": [
    "def get_user_index(user_id, user_id_array=user_id_array):\n",
    "    \"\"\"\n",
    "    Find the position of the user_id in user_id_array.\n",
    "    \n",
    "    Parameters:\n",
    "        user_id (int)\n",
    "        user_id_array (np.ndarray)\n",
    "    \n",
    "    Returns:\n",
    "        user_index (int)\n",
    "    \"\"\"\n",
    "    # YOUR CODE HERE\n",
    "    raise NotImplementedError()\n",
    "\n",
    "def get_user_id(user_index, user_id_array=user_id_array):\n",
    "    \"\"\"\n",
    "    Find the user_id at the user_index position in user_id_array.\n",
    "    \n",
    "    Parameters:\n",
    "        user_index (int)\n",
    "        user_id_array (np.ndarray)\n",
    "    \n",
    "    Returns:\n",
    "        user_id (int)\n",
    "    \"\"\"\n",
    "    # YOUR CODE HERE\n",
    "    raise NotImplementedError()\n",
    "\n",
    "def get_movie_index(movie_id, movie_id_array=movie_id_array):\n",
    "    \"\"\"\n",
    "    Finds the position of movie_id in movie_id_array.\n",
    "    \n",
    "    Parameters:\n",
    "        movie_id (int)\n",
    "        movie_id_array (np.ndarray)\n",
    "    \n",
    "    Returns:\n",
    "        movie_index (int)\n",
    "    \"\"\"\n",
    "    # YOUR CODE HERE\n",
    "    raise NotImplementedError()\n",
    "\n",
    "def get_movie_id(movie_index, movie_id_array=movie_id_array):\n",
    "    \"\"\"\n",
    "    Finds the movie_id at the movie_index position in movie_id_array.\n",
    "    \n",
    "    Parameters:\n",
    "        movie_index (int)\n",
    "        movie_id_array (np.ndarray)\n",
    "    \n",
    "    Returns:\n",
    "        movie_id (int)\n",
    "    \"\"\"\n",
    "    # YOUR CODE HERE\n",
    "    raise NotImplementedError()"
   ]
  },
  {
   "cell_type": "code",
   "execution_count": null,
   "metadata": {
    "deletable": false,
    "editable": false,
    "nbgrader": {
     "grade": true,
     "grade_id": "cell-63f666f689c79a76",
     "locked": true,
     "points": 1,
     "schema_version": 3,
     "solution": false,
     "task": false
    }
   },
   "outputs": [],
   "source": [
    "user_index_45 = get_user_index(45)\n",
    "user_id_45 = get_user_id(45)\n",
    "movie_index_87 = get_movie_index(87)\n",
    "movie_id_98 = get_movie_id(98)\n",
    "assert hashlib.sha256(json.dumps(str(user_index_45)).encode()).hexdigest() == \\\n",
    "'f9cacf3cb91a12e03bc4546834f95a50a4c5fe02276ac260148ea9296c442d39', 'The get_user_index function does not return the correct value.'\n",
    "assert hashlib.sha256(json.dumps(str(user_id_45)).encode()).hexdigest() == \\\n",
    "'42af87c97cab24c40fe4037f1fda64f5bd68e0b99fd11d3fca7c7f43aa7d6d68', 'The get_user_id function does not return the correct value.'\n",
    "assert hashlib.sha256(json.dumps(str(movie_index_87)).encode()).hexdigest() == \\\n",
    "'1191917a48bb1c9571801d5e42e51928936befac8fccbae64585c9f861b2e6db', 'The get_movie_index function does not return the correct value.'\n",
    "assert hashlib.sha256(json.dumps(str(movie_id_98)).encode()).hexdigest() == \\\n",
    "'96fc2701d1fa4b980855efd337725f91ad3f3626a8a384810157eec58df67117', 'The get_movie_id function does not return the correct value.'"
   ]
  },
  {
   "attachments": {},
   "cell_type": "markdown",
   "metadata": {
    "deletable": false,
    "editable": false,
    "nbgrader": {
     "grade": false,
     "grade_id": "cell-32813d87f38715a8",
     "locked": true,
     "schema_version": 3,
     "solution": false,
     "task": false
    }
   },
   "source": [
    "### Exercise 1.3 - Create the ratings matrix\n",
    "\n",
    "Implement a function called `create_ratings_matrix` that accepts the dataframe `df_ratings_transformed` and transforms it into a csr matrix.\n",
    "The order of users and movies in the `df_ratings_transformed` dataframe should be maintained in the ratings matrix. Fill the missing values with zeros."
   ]
  },
  {
   "cell_type": "code",
   "execution_count": null,
   "metadata": {
    "deletable": false,
    "nbgrader": {
     "grade": false,
     "grade_id": "cell-eb562bd06d152cf6",
     "locked": false,
     "schema_version": 3,
     "solution": true,
     "task": false
    }
   },
   "outputs": [],
   "source": [
    "def create_ratings_matrix(df_ratings_transformed):\n",
    "    \"\"\"\n",
    "    Creates a rating matrix from df_ratings_transformed, keeping the same organization of movies and users.\n",
    "    \n",
    "    Parameters:\n",
    "        df_ratings_transformed (pd.DataFrame)\n",
    "    \n",
    "    Returns:\n",
    "        R (csr_matrix): the ratings matrix created from the input dataframe\n",
    "    \"\"\"\n",
    "    # YOUR CODE HERE\n",
    "    raise NotImplementedError()"
   ]
  },
  {
   "cell_type": "code",
   "execution_count": null,
   "metadata": {
    "deletable": false,
    "editable": false,
    "nbgrader": {
     "grade": true,
     "grade_id": "cell-7147902c1cfe5670",
     "locked": true,
     "points": 2,
     "schema_version": 3,
     "solution": false,
     "task": false
    }
   },
   "outputs": [],
   "source": [
    "R = create_ratings_matrix(df_ratings_transformed)\n",
    "assert R.shape == df_ratings_transformed.shape, 'The shape of the matrix is not correct.'\n",
    "assert R[0].sum() == 1013, 'The values of the ratings matrix are not correct.'\n",
    "assert 10*R.sum() == 2416885, 'The values of the ratings matrix are not correct.'\n",
    "assert hashlib.sha256(json.dumps(' '.join([str(i) for i in R.nonzero()[0]])).encode()).hexdigest() == \\\n",
    "'00a39b75a7be50fd0d3f982bc2dfb840ee0cc9aa4999d8724ac0d059e0cf3948', 'Did you fill in the NA values?'\n",
    "assert hashlib.sha256(json.dumps(' '.join([str(i) for i in R.nonzero()[1]])).encode()).hexdigest() == \\\n",
    "'11c6f9e1114b17663292f8f4602e5206d7c9697fc5d183e9a5b5ad8639b7cc27', 'Did you fill in the NA values?'"
   ]
  },
  {
   "cell_type": "markdown",
   "metadata": {
    "deletable": false,
    "editable": false,
    "nbgrader": {
     "grade": false,
     "grade_id": "cell-aa4297c81933f067",
     "locked": true,
     "schema_version": 3,
     "solution": false,
     "task": false
    }
   },
   "source": [
    "## Exercise 2 - Collaborative filtering\n",
    "\n",
    "Now that we have the ratings matrix, let's use it to create collaborative recommendations. Before we start, we're going to merge the dataframe `df_ratings` with `df_movies` because we will need it later on. The merged dataframe is called `df_ratings_movies`:"
   ]
  },
  {
   "cell_type": "code",
   "execution_count": null,
   "metadata": {
    "deletable": false,
    "editable": false,
    "nbgrader": {
     "grade": false,
     "grade_id": "cell-8761dcde6d4848c1",
     "locked": true,
     "schema_version": 3,
     "solution": false,
     "task": false
    }
   },
   "outputs": [],
   "source": [
    "df_ratings_movies = pd.merge(df_ratings, df_movies, on=\"movieId\", how=\"left\").sort_values(\"rating\", ascending=False)\n",
    "df_ratings_movies.head()"
   ]
  },
  {
   "cell_type": "markdown",
   "metadata": {
    "deletable": false,
    "editable": false,
    "nbgrader": {
     "grade": false,
     "grade_id": "cell-1003ae4769976fdd",
     "locked": true,
     "schema_version": 3,
     "solution": false,
     "task": false
    }
   },
   "source": [
    "### Exercise 2.1 - Calculate similarities\n",
    "\n",
    "Create a function named `calculate_similarities` that accepts a ratings matrix and a string named `similarity_type`. The function should return a matrix of all mutual user or item cosine similarities according to the `similarity_type` parameter."
   ]
  },
  {
   "cell_type": "code",
   "execution_count": null,
   "metadata": {
    "deletable": false,
    "nbgrader": {
     "grade": false,
     "grade_id": "cell-7ba0f4b6ac6e6c79",
     "locked": false,
     "schema_version": 3,
     "solution": true,
     "task": false
    }
   },
   "outputs": [],
   "source": [
    "def calculate_similarities(ratings_matrix, similarity_type='users'):\n",
    "    \"\"\"\n",
    "    Get the cosine similarity between users or items.\n",
    "    \n",
    "    Parameters:\n",
    "        ratings_matrix (csr_matrix): ratings matrix\n",
    "        similarity_type (str): \"users\" or \"items\"\n",
    "\n",
    "    Returns:\n",
    "        similarities (csr_matrix): sparse matrix of the cosine similarity between all users or items\n",
    "    \"\"\"\n",
    "    # YOUR CODE HERE\n",
    "    raise NotImplementedError()"
   ]
  },
  {
   "cell_type": "code",
   "execution_count": null,
   "metadata": {
    "deletable": false,
    "editable": false,
    "nbgrader": {
     "grade": true,
     "grade_id": "cell-7565813cf2d25920",
     "locked": true,
     "points": 2,
     "schema_version": 3,
     "solution": false,
     "task": false
    }
   },
   "outputs": [],
   "source": [
    "user_similarities = calculate_similarities(ratings_matrix=R, similarity_type=\"users\")\n",
    "assert isinstance(user_similarities, csr_matrix), 'The result should be a csr_matrix.'\n",
    "np.testing.assert_almost_equal(user_similarities.sum(), 4811.96805343766, decimal=2, \n",
    "                               err_msg='The calculated user similarities are not correct.')\n",
    "\n",
    "item_similarities = calculate_similarities(ratings_matrix=R, similarity_type=\"items\")\n",
    "assert isinstance(item_similarities, csr_matrix), 'The result should be a csr_matrix.'\n",
    "np.testing.assert_almost_equal(item_similarities.sum(), 6325401.184577281, decimal=2, \n",
    "                               err_msg='The calculated user similarities are not correct.')"
   ]
  },
  {
   "attachments": {},
   "cell_type": "markdown",
   "metadata": {
    "deletable": false,
    "editable": false,
    "nbgrader": {
     "grade": false,
     "grade_id": "cell-b9726c92a3d67781",
     "locked": true,
     "schema_version": 3,
     "solution": false,
     "task": false
    }
   },
   "source": [
    "### Exercise 2.2 - Nearest neighbor\n",
    "\n",
    "Now that we have the similarities, we can start looking for the recommendations. Let's say we want recommendations for a user called John with the id `user_id`. In the first step, we need to find the user who is the most similar to John. Build a function called `get_closest_user_id` that accepts the similarity matrix `user_similarities` and John's `user_id` and returns the id of the user who is most similar to John."
   ]
  },
  {
   "cell_type": "code",
   "execution_count": null,
   "metadata": {
    "deletable": false,
    "nbgrader": {
     "grade": false,
     "grade_id": "cell-cbf93a8d2861a14a",
     "locked": false,
     "schema_version": 3,
     "solution": true,
     "task": false
    }
   },
   "outputs": [],
   "source": [
    "def get_closest_user_id(user_similarities, user_id):\n",
    "    \"\"\"\n",
    "    Return the id of the closest user to user_id.\n",
    "    \n",
    "    Parameters:\n",
    "        user_similarities (csr_matrix): matrix of similarities between all users\n",
    "        user_id (int): John's id for whom we want to find the closest neighbor\n",
    "    \n",
    "    Returns:\n",
    "        closest_user_id (int): the id closest to user_id\n",
    "    \"\"\"\n",
    "    # YOUR CODE HERE\n",
    "    raise NotImplementedError()\n",
    "    return closest_user_id"
   ]
  },
  {
   "cell_type": "code",
   "execution_count": null,
   "metadata": {
    "deletable": false,
    "editable": false,
    "nbgrader": {
     "grade": true,
     "grade_id": "cell-424b8fa117620dcc",
     "locked": true,
     "points": 2,
     "schema_version": 3,
     "solution": false,
     "task": false
    }
   },
   "outputs": [],
   "source": [
    "neighbor_25=get_closest_user_id(user_similarities, 25)\n",
    "assert hashlib.sha256(json.dumps(str(neighbor_25)).encode()).hexdigest() == \\\n",
    "'f20e4586c63ba3b2c06a97c4e585acea4a2977c3d8d81dc2d1f2275439ad90a7', 'Not correct.'\n",
    "neighbor_414=get_closest_user_id(user_similarities, 414)\n",
    "assert hashlib.sha256(json.dumps(str(neighbor_414)).encode()).hexdigest() == \\\n",
    "'5705a5b4b12fba416aa77cbcbc61d27c5618b10b606d4fb6eb5aaf21be95bec8', 'Not correct.'"
   ]
  },
  {
   "attachments": {},
   "cell_type": "markdown",
   "metadata": {
    "deletable": false,
    "editable": false,
    "nbgrader": {
     "grade": false,
     "grade_id": "cell-a619dd320e606b14",
     "locked": true,
     "schema_version": 3,
     "solution": false,
     "task": false
    }
   },
   "source": [
    "### Exercise 2.3 - Get recommendations from the closest user\n",
    "\n",
    "Now we want to look at movies that John's closest neighbor has watched and select recommendations for John. Create a function called `get_closest_user_recommendations` that accepts two user ids, that of John and its closest neighbor (`user_id` and `closest_id`) and the `df_ratings_movies` dataframe and returns a dataframe with movies watched by the closest neighbor with a rating greater than 2 that John hasn't watched yet. The dataframe should have the columns `movieId`, `title`, `genres`, and `year`."
   ]
  },
  {
   "cell_type": "code",
   "execution_count": null,
   "metadata": {
    "deletable": false,
    "nbgrader": {
     "grade": false,
     "grade_id": "cell-d6dcef57cc70293a",
     "locked": false,
     "schema_version": 3,
     "solution": true,
     "task": false
    }
   },
   "outputs": [],
   "source": [
    "def get_closest_user_recommendations(df_ratings_movies, user_id, closest_id):\n",
    "    \"\"\"\n",
    "    Gets a dataframe with movies that closest_id has seen with ratings higher than 2\n",
    "    that user_id has not seen.\n",
    "    \n",
    "    Parameters:\n",
    "        df_ratings_movies (pd.DataFrame): dataframe of ratings and movies information\n",
    "        user_id (int): John's id for whom we want the recommendations\n",
    "        closest_id (int): id of John's nearest neighbor\n",
    "    \n",
    "    Returns:\n",
    "        df_recommended_movies (pd.DataFrame): dataframe of selected movie recommendations with columns\n",
    "                                      movieId, title, genres, year\n",
    "    \"\"\"\n",
    "    # YOUR CODE HERE\n",
    "    raise NotImplementedError()\n",
    "    return df_recommended_movies"
   ]
  },
  {
   "cell_type": "code",
   "execution_count": null,
   "metadata": {
    "deletable": false,
    "editable": false,
    "nbgrader": {
     "grade": true,
     "grade_id": "cell-5ff930902eadd30b",
     "locked": true,
     "points": 1,
     "schema_version": 3,
     "solution": false,
     "task": false
    }
   },
   "outputs": [],
   "source": [
    "user_recommendations = get_closest_user_recommendations(df_ratings_movies, user_id=25, closest_id=30)\n",
    "assert isinstance(user_recommendations, pd.DataFrame), 'The result should be a dataframe.'\n",
    "assert user_recommendations.shape==(5, 4), 'The shape of the dataframe is not correct.'\n",
    "assert list(user_recommendations.columns.sort_values()) == ['genres', 'movieId', 'title', 'year'], \\\n",
    "'The columns of the dataframe are not correct.'\n",
    "assert user_recommendations.movieId.sum() == 5665, 'The selected movieIds are not correct.'\n",
    "assert hashlib.sha256(json.dumps(' '.join(user_recommendations.title.sort_values())).encode()).hexdigest() == \\\n",
    "'903d15630ec24d3c8a029df82d9ab3577614494879cd24cb409dc5f0ef4f901a', 'The selected movie titles are not correct.'\n",
    "user_recommendations"
   ]
  },
  {
   "cell_type": "markdown",
   "metadata": {
    "deletable": false,
    "editable": false,
    "nbgrader": {
     "grade": false,
     "grade_id": "cell-8fc58c4991132154",
     "locked": true,
     "schema_version": 3,
     "solution": false,
     "task": false
    }
   },
   "source": [
    "### Exercise 2.4 - Get user predictions with collaborative filtering\n",
    "Now that we have recommendations for John, let's get recommendations for all users. Build a function named `make_user_predictions` that predicts each user's ratings for the movies that haven't been rated by that user yet, based on the ratings and user similarities. The function should take the similarity matrix `user_similarities` and the ratings matrix `R` and return a matrix of predictions."
   ]
  },
  {
   "cell_type": "code",
   "execution_count": null,
   "metadata": {
    "deletable": false,
    "nbgrader": {
     "grade": false,
     "grade_id": "cell-4b927f9157112c21",
     "locked": false,
     "schema_version": 3,
     "solution": true,
     "task": false
    }
   },
   "outputs": [],
   "source": [
    "def make_user_predictions(user_similarities, R):\n",
    "    \"\"\"\n",
    "    Makes collaborative predictions for all users based on similarities.\n",
    "    \n",
    "    Parameters:\n",
    "        user_similarities (csr_matrix): similarity matrix with the shape (n_users, n_users)\n",
    "        R (csr_matrix): ratings matrix with the shape (n_users, n_items)\n",
    "    \n",
    "    Returns:\n",
    "        user_predictions (csr_matrix): matrix of predictions with the shape (n_users, n_items)\n",
    "    \"\"\"\n",
    "    # YOUR CODE HERE\n",
    "    raise NotImplementedError()\n",
    "    return user_predictions"
   ]
  },
  {
   "cell_type": "code",
   "execution_count": null,
   "metadata": {
    "deletable": false,
    "editable": false,
    "nbgrader": {
     "grade": true,
     "grade_id": "cell-2eb483cbd08d7c67",
     "locked": true,
     "points": 2,
     "schema_version": 3,
     "solution": false,
     "task": false
    }
   },
   "outputs": [],
   "source": [
    "user_predictions = make_user_predictions(user_similarities, R)\n",
    "assert isinstance(user_predictions, csr_matrix), 'The result should be a sparse matrix.'\n",
    "assert user_predictions.shape==(147, 9298), 'The shape of the matrix is not correct.'\n",
    "assert user_predictions.nnz==1296222, 'Did you remove the predictions for the existing ratings?'\n",
    "np.testing.assert_almost_equal(user_predictions[32].sum(), 28563.954242858323, decimal=3,\n",
    "err_msg='The values of the matrix are not correct.')\n",
    "np.testing.assert_almost_equal(user_predictions[103].sum(), 27871.43147298375, decimal=3,\n",
    "err_msg='The values of the matrix are not correct.')"
   ]
  },
  {
   "attachments": {},
   "cell_type": "markdown",
   "metadata": {
    "deletable": false,
    "editable": false,
    "nbgrader": {
     "grade": false,
     "grade_id": "cell-fd11dfac840b2729",
     "locked": true,
     "schema_version": 3,
     "solution": false,
     "task": false
    }
   },
   "source": [
    "### Exercise 2.5 - Get top n movies\n",
    "\n",
    "The next step is to select the best predictions for the recommendations. Create a function named `get_top_n` that takes the matrix of predictions `user_predictions`, a user id `user_id`, and the number of recommendations `n` and returns the top n unseen movies with the highest predicted rating for the given user."
   ]
  },
  {
   "cell_type": "code",
   "execution_count": null,
   "metadata": {
    "deletable": false,
    "nbgrader": {
     "grade": false,
     "grade_id": "cell-04f3e47dbc84e1d6",
     "locked": false,
     "schema_version": 3,
     "solution": true,
     "task": false
    }
   },
   "outputs": [],
   "source": [
    "def get_top_n(user_predictions, user_id, n=10):\n",
    "    \"\"\"\n",
    "    Returns the top n movies for a given user.\n",
    "    \n",
    "    Parameters:\n",
    "        user_predictions (csr_matrix): matrix of ratings predictions with the shape (n_users, n_items)\n",
    "        user_id (int): the user for which to select the recommendations\n",
    "        n (int): number of recommendations to select\n",
    "    \n",
    "    Returns:\n",
    "        movie_ids (list): list of recommended movie ids, from the most to the least recommended\n",
    "    \"\"\"\n",
    "    # YOUR CODE HERE\n",
    "    raise NotImplementedError()\n",
    "    return movie_ids"
   ]
  },
  {
   "cell_type": "code",
   "execution_count": null,
   "metadata": {
    "deletable": false,
    "editable": false,
    "nbgrader": {
     "grade": true,
     "grade_id": "cell-a71327ba24c1cd00",
     "locked": true,
     "points": 1,
     "schema_version": 3,
     "solution": false,
     "task": false
    }
   },
   "outputs": [],
   "source": [
    "top_movies_ids = get_top_n(user_predictions,25)\n",
    "assert isinstance(top_movies_ids, list), 'The result should be a list.'\n",
    "assert len(top_movies_ids)==10, 'The length of the list is not correct.'\n",
    "assert user_predictions[25,[get_movie_index(i) for i in top_movies_ids]].sum()==50, 'The selected movies are not correct.'\n",
    "df_movies.loc[top_movies_ids]"
   ]
  },
  {
   "attachments": {},
   "cell_type": "markdown",
   "metadata": {
    "deletable": false,
    "editable": false,
    "nbgrader": {
     "grade": false,
     "grade_id": "cell-bf5b9fc76e784e53",
     "locked": true,
     "schema_version": 3,
     "solution": false,
     "task": false
    }
   },
   "source": [
    "## Exercise 3 - Content-based filtering\n",
    "\n",
    "Now let's do predictions based on the characteristics of the items. We will use information from the `tag.csv` file that we loaded in  `df_tags` dataframe."
   ]
  },
  {
   "cell_type": "code",
   "execution_count": null,
   "metadata": {
    "deletable": false,
    "editable": false,
    "nbgrader": {
     "grade": false,
     "grade_id": "cell-eaf4f2ee64ca57c4",
     "locked": true,
     "schema_version": 3,
     "solution": false,
     "task": false
    }
   },
   "outputs": [],
   "source": [
    "df_tags.head()"
   ]
  },
  {
   "attachments": {},
   "cell_type": "markdown",
   "metadata": {
    "deletable": false,
    "editable": false,
    "nbgrader": {
     "grade": false,
     "grade_id": "cell-7cb6f5d54a6cce32",
     "locked": true,
     "schema_version": 3,
     "solution": false,
     "task": false
    }
   },
   "source": [
    "### Exercise 3.1 - Processing the tags\n",
    "\n",
    "Since we can have several tags for one movie, we need to join them into a single string. We also need to do other text processing operations.\n",
    "\n",
    "Create a function named `process_movie_tags` that applies the following processing to the tags in the `df_tags` dataframe:\n",
    "- Removes whitespaces for multi-word tags.\n",
    "- Lowercases the tags.\n",
    "- Joins all the tags for the same `movieId` into a single string, with tags separated by a space.\n",
    "\n",
    "The function should return the processed tag strings in a pandas series with `movieId` as the index."
   ]
  },
  {
   "cell_type": "code",
   "execution_count": null,
   "metadata": {
    "deletable": false,
    "nbgrader": {
     "grade": false,
     "grade_id": "cell-6394b2a5662fff0d",
     "locked": false,
     "schema_version": 3,
     "solution": true,
     "task": false
    }
   },
   "outputs": [],
   "source": [
    "def process_movie_tags(df):\n",
    "    \"\"\"\n",
    "    Preprocesses movie tags - joins multiword tags, lowercases, \n",
    "    groups all tags for the same movie into one string, separated by spaces.\n",
    "    \n",
    "    Parameters:\n",
    "        df (pd.DataFrame): original dataframe with the tags with columns userId, movieId, tag\n",
    "              \n",
    "    Returns:\n",
    "        tags (pd.Series): series with the processed tags and movieId as the index\n",
    "    \"\"\"\n",
    "    # YOUR CODE HERE\n",
    "    raise NotImplementedError()\n",
    "    return tags"
   ]
  },
  {
   "cell_type": "code",
   "execution_count": null,
   "metadata": {
    "deletable": false,
    "editable": false,
    "nbgrader": {
     "grade": true,
     "grade_id": "cell-2f64ce9a11bd0ff5",
     "locked": true,
     "points": 2,
     "schema_version": 3,
     "solution": false,
     "task": false
    }
   },
   "outputs": [],
   "source": [
    "movie_tags = process_movie_tags(df_tags).sort_index()\n",
    "assert isinstance(movie_tags, pd.Series), 'The results should be a pandas series.'\n",
    "assert movie_tags.shape[0] == 1551, 'The length of the series is not correct.'\n",
    "assert hashlib.sha256(json.dumps(' '.join([str(i) for i in movie_tags.index])).encode()).hexdigest() == \\\n",
    "'50922d202f2772b749436b2b90dd30ad74b498c5a8f460b37a56c82fa7edcfdb', 'The index of the series is not correct.'\n",
    "assert hashlib.sha256(json.dumps(','.join(movie_tags)).encode()).hexdigest() == \\\n",
    "'f3f8dcfb169e3ad2b7b253687a7a2d6620dbbb136315df170840b0b3a59acb32', 'The processed tags are not correct.'"
   ]
  },
  {
   "attachments": {},
   "cell_type": "markdown",
   "metadata": {
    "deletable": false,
    "editable": false,
    "nbgrader": {
     "grade": false,
     "grade_id": "cell-eb5c8452dbe626cd",
     "locked": true,
     "schema_version": 3,
     "solution": false,
     "task": false
    }
   },
   "source": [
    "### Exercise 3.2 - Add more information about movies\n",
    "To be able to use all the metadata, we need to do more preprocessing.\n",
    "1. From the dataframe `df_movies`, create a new dataframe named `df_movies_processed`, with `movieId` as the index.\n",
    "1. From the column `year`, create a new column named `decade` with the help of the function `extract_decade` defined below. Drop the column `year`.\n",
    "1. Clean the column `genres`: lowercase, remove spaces from the multi-word genres and separate the genres with a space.\n",
    "1. Join `df_movies_processed` with the series `movie_tags` and name the new column `tags`. Replace any missing tags with empty strings.\n",
    "1. From `df_movies_processed`, select only the movies that have ratings and store them in the dataframe `df_movies_processed_w_ratings` and sort the dataframe by the index.   "
   ]
  },
  {
   "cell_type": "code",
   "execution_count": null,
   "metadata": {
    "deletable": false,
    "editable": false,
    "nbgrader": {
     "grade": false,
     "grade_id": "cell-02c603a67bc6b09b",
     "locked": true,
     "schema_version": 3,
     "solution": false,
     "task": false
    }
   },
   "outputs": [],
   "source": [
    "def extract_decade(value):\n",
    "    try: \n",
    "        decade = int(10*round(value/10))\n",
    "        return str(decade)\n",
    "    except:\n",
    "        return \"\""
   ]
  },
  {
   "cell_type": "code",
   "execution_count": null,
   "metadata": {
    "deletable": false,
    "nbgrader": {
     "grade": false,
     "grade_id": "cell-3133fcaddcded315",
     "locked": false,
     "schema_version": 3,
     "solution": true,
     "task": false
    }
   },
   "outputs": [],
   "source": [
    "df_movies_processed = df_movies.copy()\n",
    "# df_movies_processed_w_ratings = ...\n",
    "# YOUR CODE HERE\n",
    "raise NotImplementedError()"
   ]
  },
  {
   "cell_type": "code",
   "execution_count": null,
   "metadata": {
    "deletable": false,
    "editable": false,
    "nbgrader": {
     "grade": true,
     "grade_id": "cell-29392df2bc0e9a00",
     "locked": true,
     "points": 1,
     "schema_version": 3,
     "solution": false,
     "task": false
    }
   },
   "outputs": [],
   "source": [
    "assert isinstance(df_movies_processed_w_ratings, pd.DataFrame), 'The result should be a dataframe.'\n",
    "assert df_movies_processed_w_ratings.shape == (9298, 4), 'The shape of the dataframe is not correct.'\n",
    "assert ('genres' and 'decade' and 'tags' and 'title') in df_movies_processed_w_ratings.columns, 'The column names are not correct.'\n",
    "assert hashlib.sha256(json.dumps(' '.join([str(i) for i in df_movies_processed_w_ratings.index])).encode()).hexdigest() == \\\n",
    "'98c4241a6e147b336a9fd944f8c0ec7079f4f25ede42e93c870da6dc821da183', 'The index of the dataframe is not correct.'\n",
    "assert hashlib.sha256(json.dumps(' '.join(df_movies_processed_w_ratings.genres)).encode()).hexdigest() == \\\n",
    "'c0271e0fc65b536e43586a792f7a183eaa6d6485c47754ca4bdbd552547aa8af', 'The genres column in not correct.'\n",
    "assert hashlib.sha256(json.dumps(' '.join(df_movies_processed_w_ratings.decade)).encode()).hexdigest() == \\\n",
    "'56d3ce49ac8527b22eac25da092d37688bcb12f430b9a87d1ac63f77e0113d95', 'The decase column is not correct.'\n",
    "assert (df_movies_processed_w_ratings.tags==\"\").sum() == 7769, 'Did you fill the missing tag values?'\n",
    "hashlib.sha256(json.dumps(' '.join(df_movies_processed_w_ratings.tags)).encode()).hexdigest() == \\\n",
    "'1f6c83f0885a736e201c9657ae81afc18f147477dfd47c34f76cc59624bf7df3', 'The tags column is not correct.'\n",
    "df_movies_processed_w_ratings.head()"
   ]
  },
  {
   "cell_type": "markdown",
   "metadata": {
    "deletable": false,
    "editable": false,
    "nbgrader": {
     "grade": false,
     "grade_id": "cell-1eb78679f7200351",
     "locked": true,
     "schema_version": 3,
     "solution": false,
     "task": false
    }
   },
   "source": [
    "### Exercise 3.3 - Calculate the item profiles\n",
    "#### Exercise 3.3.1 - Tf-idf vectorization\n",
    "\n",
    "Create a function named `get_tf_idf` that accepts a pandas series where the values are of type `str` and returns the correspondent tf-idf vectorization of that series."
   ]
  },
  {
   "cell_type": "code",
   "execution_count": null,
   "metadata": {
    "deletable": false,
    "nbgrader": {
     "grade": false,
     "grade_id": "cell-810408e9f169b757",
     "locked": false,
     "schema_version": 3,
     "solution": true,
     "task": false
    }
   },
   "outputs": [],
   "source": [
    "def get_tf_idf(doc_series):\n",
    "    \"\"\"\n",
    "    Generates the tf-idf vectorization of doc_series.\n",
    "    \n",
    "    Parameters:\n",
    "        doc_series (pd.Series): series of strings with the shape (n_items, )\n",
    "              \n",
    "    Returns:\n",
    "        doc_tf_idf (csr_matrix): the input series processed by the tf-idf vectorizer\n",
    "                                 with the shape (n_items, n_tfidf_features)\n",
    "    \"\"\"\n",
    "    # YOUR CODE HERE\n",
    "    raise NotImplementedError()\n",
    "    return doc_tf_idf"
   ]
  },
  {
   "cell_type": "code",
   "execution_count": null,
   "metadata": {
    "deletable": false,
    "editable": false,
    "nbgrader": {
     "grade": true,
     "grade_id": "cell-61a2eb080d104894",
     "locked": true,
     "points": 1,
     "schema_version": 3,
     "solution": false,
     "task": false
    }
   },
   "outputs": [],
   "source": [
    "tag_tf_idf  = get_tf_idf(df_movies_processed_w_ratings[\"tags\"])\n",
    "assert isinstance(tag_tf_idf,csr_matrix), 'The result should be a sparse matrix.'\n",
    "assert tag_tf_idf.shape == (9298, 1458), 'The shape of the matrix is not correct.'\n",
    "np.testing.assert_almost_equal(tag_tf_idf.sum(), 2051.1163566437426, decimal=2, \n",
    "                               err_msg='The values of the matrix are not correct.')"
   ]
  },
  {
   "attachments": {},
   "cell_type": "markdown",
   "metadata": {
    "deletable": false,
    "editable": false,
    "nbgrader": {
     "grade": false,
     "grade_id": "cell-5ab9a7084c94c594",
     "locked": true,
     "schema_version": 3,
     "solution": false,
     "task": false
    }
   },
   "source": [
    "#### Exercise 3.3.2 - Calculate item profiles\n",
    "\n",
    "Let's now create the item profiles from the `tags`, `genres`, and `decade` information. \n",
    "\n",
    "Create a function named `get_item_profiles` that accepts the dataframe `df_movies_processed_w_ratings` and returns an item profile csr matrix. The function should calculate tf-idf for the `tags`, `genres`, and `decades` columns, then horizontally concatenate the three resulting csr matrices in this order and return the result."
   ]
  },
  {
   "cell_type": "code",
   "execution_count": null,
   "metadata": {
    "deletable": false,
    "nbgrader": {
     "grade": false,
     "grade_id": "cell-04e8da78ee6158a6",
     "locked": false,
     "schema_version": 3,
     "solution": true,
     "task": false
    }
   },
   "outputs": [],
   "source": [
    "def get_item_profiles(df=df_movies_processed_w_ratings):   \n",
    "    \"\"\"\n",
    "    Creates the item profiles from tf-idf features from the tags, \n",
    "    genres, and decade columns of the input dataframe.\n",
    "    \n",
    "    Parameters:\n",
    "        df (pd.DataFrame): the df_movies_processed_w_ratings dataframe\n",
    "              \n",
    "    Returns:\n",
    "        item_profiles (csr_matrix): item profiles matrix with the shape (n_items, n_tfidf_features)\n",
    "    \"\"\"\n",
    "    # YOUR CODE HERE\n",
    "    raise NotImplementedError()\n",
    "    return item_profiles"
   ]
  },
  {
   "cell_type": "code",
   "execution_count": null,
   "metadata": {
    "deletable": false,
    "editable": false,
    "nbgrader": {
     "grade": true,
     "grade_id": "cell-b7dc880fad53861e",
     "locked": true,
     "points": 1,
     "schema_version": 3,
     "solution": false,
     "task": false
    }
   },
   "outputs": [],
   "source": [
    "item_profiles = get_item_profiles(df_movies_processed_w_ratings)\n",
    "assert isinstance(item_profiles, csr_matrix), 'The result should be a csr_matrix.'\n",
    "assert item_profiles.shape == (9298, 1493), 'The shape of the matrix is not correct.'\n",
    "np.testing.assert_almost_equal(item_profiles.sum(), 24961.948215625787, decimal=3, \n",
    "                               err_msg='The values of the matrix are not correct.')"
   ]
  },
  {
   "cell_type": "markdown",
   "metadata": {
    "deletable": false,
    "editable": false,
    "nbgrader": {
     "grade": false,
     "grade_id": "cell-814515cc2a92c161",
     "locked": true,
     "schema_version": 3,
     "solution": false,
     "task": false
    }
   },
   "source": [
    "### Exercise 3.4 - User profiles\n",
    "The next step is to transform the user vectors in the ratings matrix to user profiles by projecting them into the movie attribute space. Create a function called `make_user_profiles` that accepts the ratings matrix and the item profiles matrix and calculates the user profiles."
   ]
  },
  {
   "cell_type": "code",
   "execution_count": null,
   "metadata": {
    "deletable": false,
    "nbgrader": {
     "grade": false,
     "grade_id": "cell-20bcd68441488e85",
     "locked": false,
     "schema_version": 3,
     "solution": true,
     "task": false
    }
   },
   "outputs": [],
   "source": [
    "def make_user_profiles(ratings, item_profiles):\n",
    "    \"\"\"\n",
    "    Calculate the user profiles - user vectors projected into the movie attribute space.\n",
    "    \n",
    "    Parameters:\n",
    "        ratings (pd.DataFrame): ratings matrix withe the shape (n_users, n_items)\n",
    "        item_profiles (csr_matrix): item profiles matrix with the shape (n_items, n_tfidf_features)\n",
    "    \n",
    "    Returns:\n",
    "        user_profiles (csr_matrix): user profiles matrix with the shape (n_users, n_tfidf_features)\n",
    "    \"\"\"\n",
    "    # YOUR CODE HERE\n",
    "    raise NotImplementedError()\n",
    "    return user_profiles"
   ]
  },
  {
   "cell_type": "code",
   "execution_count": null,
   "metadata": {
    "deletable": false,
    "editable": false,
    "nbgrader": {
     "grade": true,
     "grade_id": "cell-4c85ea9dfea538d0",
     "locked": true,
     "points": 1,
     "schema_version": 3,
     "solution": false,
     "task": false
    }
   },
   "outputs": [],
   "source": [
    "user_profiles = make_user_profiles(R, item_profiles)\n",
    "assert isinstance(user_profiles, csr_matrix), 'The result should be a csr matrix.'\n",
    "assert user_profiles.shape == (147, 1493), 'The shape of the matrix is not correct.'\n",
    "np.testing.assert_almost_equal(user_profiles.sum(), 812651.284681659, decimal=3, \n",
    "                               err_msg='The values of the matrix are not correct.')"
   ]
  },
  {
   "cell_type": "markdown",
   "metadata": {
    "deletable": false,
    "editable": false,
    "nbgrader": {
     "grade": false,
     "grade_id": "cell-d1ccca8b6ac23283",
     "locked": true,
     "schema_version": 3,
     "solution": false,
     "task": false
    }
   },
   "source": [
    "### Exercise 3.5 - The Moment of truth\n",
    "Finally, let's make predictions, this time based not only on the ratings, but also on the item attributes. Define the function below which takes the ratings, item profiles, and user profiles matrices and returns the matrix of predictions. The predictions for the user-item pairs with already existing ratings should be set to zero."
   ]
  },
  {
   "cell_type": "code",
   "execution_count": null,
   "metadata": {
    "deletable": false,
    "nbgrader": {
     "grade": false,
     "grade_id": "cell-5ac2689623d9a18c",
     "locked": false,
     "schema_version": 3,
     "solution": true,
     "task": false
    }
   },
   "outputs": [],
   "source": [
    "def make_predictions(R, item_profiles, user_profiles):\n",
    "    \"\"\"\n",
    "    Makes content-based predictions based on the ratings matrix, the item profiles,\n",
    "    and the user profiles.\n",
    "    \n",
    "    Parameters:\n",
    "        R (csr_matrix): ratings matrix with the shape (n_users, n_items)\n",
    "        item_profiles (csr_matrix): item profiles matrix with the shape (n_items, n_tfidf_features)\n",
    "        user_profiles (csr_matrix): user profiles matrix with the shape (n_users, n_tfidf_features)                    \n",
    "        \n",
    "    Returns:\n",
    "        predictions (csr_matrix): matrix of prediction with the shape (n_users, n_items)\n",
    "    \"\"\"\n",
    "    # YOUR CODE HERE\n",
    "    raise NotImplementedError()\n",
    "    return predictions"
   ]
  },
  {
   "cell_type": "code",
   "execution_count": null,
   "metadata": {
    "deletable": false,
    "editable": false,
    "nbgrader": {
     "grade": true,
     "grade_id": "cell-001af6c8b8138140",
     "locked": true,
     "points": 2,
     "schema_version": 3,
     "solution": false,
     "task": false
    }
   },
   "outputs": [],
   "source": [
    "pred = make_predictions(R, item_profiles, user_profiles)\n",
    "assert isinstance(pred, csr_matrix), 'The result should be a csr matrix.'\n",
    "assert pred.shape == (147, 9298), 'The shape of the matrix is not correct.'\n",
    "np.testing.assert_almost_equal(pred.sum(), 477847.56765819935, decimal=3, \n",
    "                               err_msg='The values of the matrix are not correct.')\n",
    "assert hashlib.sha256(json.dumps(' '.join([str(i) for i in pred.nonzero()[0]])).encode()).hexdigest() == \\\n",
    "'e66600d6c0ae50e4005585ab0c047e02e9db42fb5bd2a78bd45fb6870ca58154', 'Did you set the existing ratings to zero?'\n",
    "assert hashlib.sha256(json.dumps(' '.join([str(i) for i in pred.nonzero()[1]])).encode()).hexdigest() == \\\n",
    "'f2a6dc419b756f339a34f41d58fb83d0ba2e01c468311eb7241bb8f90a44bd93', 'Did you set the existing ratings to zero?'"
   ]
  },
  {
   "cell_type": "markdown",
   "metadata": {
    "deletable": false,
    "editable": false,
    "nbgrader": {
     "grade": false,
     "grade_id": "cell-a90bbe59493e101f",
     "locked": true,
     "schema_version": 3,
     "solution": false,
     "task": false
    }
   },
   "source": [
    "With these new and hopefully better predictions, we can recommend these movies to John:"
   ]
  },
  {
   "cell_type": "code",
   "execution_count": null,
   "metadata": {
    "deletable": false,
    "editable": false,
    "nbgrader": {
     "grade": false,
     "grade_id": "cell-c1585e7213d67765",
     "locked": true,
     "schema_version": 3,
     "solution": false,
     "task": false
    }
   },
   "outputs": [],
   "source": [
    "top_movies_ids = get_top_n(pred, 25)\n",
    "df_movies.loc[top_movies_ids]"
   ]
  },
  {
   "cell_type": "markdown",
   "metadata": {
    "deletable": false,
    "editable": false,
    "nbgrader": {
     "grade": false,
     "grade_id": "cell-4e61a0a7ec2074b1",
     "locked": true,
     "schema_version": 3,
     "solution": false,
     "task": false
    }
   },
   "source": [
    "These are quite different from the collaborative recommendations, I wonder which one John likes better.\n",
    "\n",
    "Congrats on conquering the personalized recommender systems!"
   ]
  }
 ],
 "metadata": {
  "kernelspec": {
   "display_name": "Python 3 (ipykernel)",
   "language": "python",
   "name": "python3"
  },
  "language_info": {
   "codemirror_mode": {
    "name": "ipython",
    "version": 3
   },
   "file_extension": ".py",
   "mimetype": "text/x-python",
   "name": "python",
   "nbconvert_exporter": "python",
   "pygments_lexer": "ipython3",
   "version": "3.12.8"
  }
 },
 "nbformat": 4,
 "nbformat_minor": 4
}
