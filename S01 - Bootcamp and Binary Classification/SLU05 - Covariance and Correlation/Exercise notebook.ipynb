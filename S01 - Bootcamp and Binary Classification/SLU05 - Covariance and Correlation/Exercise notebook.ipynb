{
 "cells": [
  {
   "cell_type": "markdown",
   "id": "29f82248-9c75-4856-a5b3-c23dd2a0005f",
   "metadata": {
    "deletable": false,
    "editable": false,
    "nbgrader": {
     "grade": false,
     "grade_id": "cell-74bf1c3dbf4cee8e",
     "locked": true,
     "schema_version": 3,
     "solution": false,
     "task": false
    }
   },
   "source": [
    "# SLU05 - Covariance and correlation: Exercise notebook"
   ]
  },
  {
   "cell_type": "code",
   "execution_count": null,
   "id": "d67d44ab",
   "metadata": {
    "deletable": false,
    "editable": false,
    "nbgrader": {
     "grade": false,
     "grade_id": "cell-6e36eaeb647e4592",
     "locked": true,
     "schema_version": 3,
     "solution": false,
     "task": false
    }
   },
   "outputs": [],
   "source": [
    "import pandas as pd\n",
    "import numpy as np\n",
    "import math\n",
    "import utils\n",
    "import seaborn as sns\n",
    "import hashlib\n",
    "from matplotlib import pyplot as plt\n",
    "import utils\n",
    "\n",
    "def _hash(s):\n",
    "    return hashlib.blake2b(bytes(str(s), encoding='utf8'), digest_size=5).hexdigest()"
   ]
  },
  {
   "cell_type": "markdown",
   "id": "85ab4200",
   "metadata": {
    "deletable": false,
    "editable": false,
    "nbgrader": {
     "grade": false,
     "grade_id": "cell-36d1376d23b17d6d",
     "locked": true,
     "schema_version": 3,
     "solution": false,
     "task": false
    }
   },
   "source": [
    "In this notebook, you will practice the following:\n",
    "\n",
    "- Covariance \n",
    "- Pearson correlation\n",
    "- Spearman correlation\n",
    "- Correlation matrix\n",
    "- Spurious correlations"
   ]
  },
  {
   "cell_type": "markdown",
   "id": "0e884381",
   "metadata": {
    "deletable": false,
    "editable": false,
    "nbgrader": {
     "grade": false,
     "grade_id": "cell-a264257b42684e9f",
     "locked": true,
     "schema_version": 3,
     "solution": false,
     "task": false
    }
   },
   "source": [
    "## Exercise 1 - Covariance and correlation with Pandas\n",
    "\n",
    "In this exercise, you will calculate covariance and correlation on a sample dataset.\n",
    "\n",
    "We're going to use a [dataset of car fuel consumption](https://www.kaggle.com/datasets/anderas/car-consume) for this exercise. Let's begin by taking a quick look at the dataset:"
   ]
  },
  {
   "cell_type": "code",
   "execution_count": null,
   "id": "dd076463",
   "metadata": {
    "deletable": false,
    "editable": false,
    "nbgrader": {
     "grade": false,
     "grade_id": "cell-4a78340723a50f6b",
     "locked": true,
     "schema_version": 3,
     "solution": false,
     "task": false
    }
   },
   "outputs": [],
   "source": [
    "carride = pd.read_csv('data/carride2.csv')\n",
    "carride.head()"
   ]
  },
  {
   "cell_type": "markdown",
   "id": "729f6766",
   "metadata": {
    "deletable": false,
    "editable": false,
    "nbgrader": {
     "grade": false,
     "grade_id": "cell-b30dc6ff1e17cc8e",
     "locked": true,
     "schema_version": 3,
     "solution": false,
     "task": false
    }
   },
   "source": [
    "### Exercise 1.1 - Are speed and consumption related?\n",
    "\n",
    "We'll begin by checking if the speed of the cars is related to the fuel consumption.\n",
    "\n",
    "Edit the function below so that it returns the covariance, Pearson correlation, and Spearman correlation between speed and consumption."
   ]
  },
  {
   "cell_type": "code",
   "execution_count": null,
   "id": "55b5e28b",
   "metadata": {
    "deletable": false,
    "nbgrader": {
     "grade": false,
     "grade_id": "cell-33f3448b9c3e71c2",
     "locked": false,
     "schema_version": 3,
     "solution": true,
     "task": false
    }
   },
   "outputs": [],
   "source": [
    "def check_if_related(consumption, speed):\n",
    "    \"\"\" Calculates covariance and correlations between the given variables.\n",
    "\n",
    "    Parameters:\n",
    "        consumption, speed (pd.Series): variable between which to calculate the covariance and correlations\n",
    "\n",
    "    Returns:\n",
    "        covariance (float): covariance between the given variables\n",
    "        pearson_corr (float): Pearson correlation between the given variables\n",
    "        spearman_corr (float): Spearman correlation between the given variables\n",
    "    \"\"\"\n",
    "    # YOUR CODE HERE\n",
    "    raise NotImplementedError()\n",
    "    return covariance, pearson_corr, spearman_corr"
   ]
  },
  {
   "cell_type": "code",
   "execution_count": null,
   "id": "0c808a2f",
   "metadata": {
    "deletable": false,
    "editable": false,
    "nbgrader": {
     "grade": true,
     "grade_id": "cell-9a836c764eb5109c",
     "locked": true,
     "points": 3,
     "schema_version": 3,
     "solution": false,
     "task": false
    }
   },
   "outputs": [],
   "source": [
    "consumption, speed = utils.get_distance_speed()\n",
    "cov, p_corr, s_corr = check_if_related(consumption, speed)\n",
    "np.testing.assert_almost_equal(cov, -25.061536002557343, decimal=3, err_msg=\"The covariance seems to be wrong.\")\n",
    "np.testing.assert_almost_equal(p_corr, -0.10365751316032523, decimal=3, err_msg=\"The Pearson correlation seems to be wrong.\")\n",
    "np.testing.assert_almost_equal(s_corr, -0.11331148715392869, decimal=3, err_msg=\"The Spearman correlation seems to be wrong.\")\n",
    "print(f\"Well done! Everything seems to be in order! Approximated values:\\nCovariance = \"\n",
    "    f\"{round(check_if_related(consumption, speed)[0],2)}\\n\"\n",
    "    \"Pearson correlation  = \"\n",
    "    f\"{round(check_if_related(consumption, speed)[1],2)}\\n\"\n",
    "    \"Spearman correlation = \"\n",
    "    f\"{round(check_if_related(consumption, speed)[2],2)}\\n\"\n",
    "    \"The results show that the correlation is not significant.\")"
   ]
  },
  {
   "cell_type": "markdown",
   "id": "81a7fd5d",
   "metadata": {
    "deletable": false,
    "editable": false,
    "nbgrader": {
     "grade": false,
     "grade_id": "cell-c5fb620b7a7a7894",
     "locked": true,
     "schema_version": 3,
     "solution": false,
     "task": false
    }
   },
   "source": [
    "### Exercise 1.2 - Changing units\n",
    "\n",
    "Now for a simple multiple choice exercise. The distance unit in the dataset is meter. Let's assume we want to know the distances in feet.\n",
    "\n",
    "We know that 1 meter = 3.28 feet, meaning that the unitary distance represented in the unit 'feet' is larger than the unitary distance represented in the dataset unit, meter.\n",
    "\n",
    "If we extract the covariance and Pearson/Spearman correlations again, but this time in feet, which of the following statements is true?\n",
    "\n",
    "- A. The covariance, Pearson correlation and Spearman correlation will decrease.\n",
    "- B. The covariance will increase, but the Pearson correlation and Spearman correlation will decrease.\n",
    "- C. They all (covariance, Pearson correlation and Spearman correlation) remain the same.\n",
    "- D. The covariance will increase, but Pearson correlation and Spearman correlation will remain the same.\n",
    "\n",
    "Write the letter corresponding to your chosen answer as a text string into the variable `ex1_answer` below."
   ]
  },
  {
   "cell_type": "code",
   "execution_count": null,
   "id": "cd7f0201",
   "metadata": {
    "deletable": false,
    "nbgrader": {
     "grade": false,
     "grade_id": "cell-c7f0b06183805a36",
     "locked": false,
     "schema_version": 3,
     "solution": true,
     "task": false
    }
   },
   "outputs": [],
   "source": [
    "# ex1_answer = \"Z\"\n",
    "# YOUR CODE HERE\n",
    "raise NotImplementedError()"
   ]
  },
  {
   "cell_type": "code",
   "execution_count": null,
   "id": "74484a50",
   "metadata": {
    "deletable": false,
    "editable": false,
    "nbgrader": {
     "grade": true,
     "grade_id": "cell-f339ebf6d0093b75",
     "locked": true,
     "points": 2,
     "schema_version": 3,
     "solution": false,
     "task": false
    }
   },
   "outputs": [],
   "source": [
    "assert _hash(ex1_answer.lower()) == '838cd7f570', \"Wrong choice. Remember that correlation does not depend on units.\"\n",
    "print(\"Good job!\")"
   ]
  },
  {
   "cell_type": "markdown",
   "id": "65e659f9",
   "metadata": {
    "deletable": false,
    "editable": false,
    "nbgrader": {
     "grade": false,
     "grade_id": "cell-0505d086041dad3f",
     "locked": true,
     "schema_version": 3,
     "solution": false,
     "task": false
    }
   },
   "source": [
    "## Exercise 2 - Pearson experiment\n",
    "\n",
    "The following dataset presents the heights of fathers and their sons, based on a famous Karl Pearson's experiment around 1903. The number of cases is 1078. Random noise was added to the original data, to produce heights to the nearest 0.1 inch.  \n",
    "(more info: https://www.kaggle.com/datasets/abhilash04/fathersandsonheight)"
   ]
  },
  {
   "cell_type": "code",
   "execution_count": null,
   "id": "824f9580",
   "metadata": {
    "deletable": false,
    "editable": false,
    "nbgrader": {
     "grade": false,
     "grade_id": "cell-4a90ff13471f8feb",
     "locked": true,
     "schema_version": 3,
     "solution": false,
     "task": false
    }
   },
   "outputs": [],
   "source": [
    "fathers_sons_heights = pd.read_csv('data/pearson.csv')\n",
    "fathers_sons_heights.head()"
   ]
  },
  {
   "cell_type": "code",
   "execution_count": null,
   "id": "15bd0832",
   "metadata": {
    "deletable": false,
    "editable": false,
    "nbgrader": {
     "grade": false,
     "grade_id": "cell-356d18108f71be93",
     "locked": true,
     "schema_version": 3,
     "solution": false,
     "task": false
    }
   },
   "outputs": [],
   "source": [
    "plt.scatter(fathers_sons_heights['Fathers'],fathers_sons_heights['Sons'])\n",
    "plt.xlabel('Fathers')\n",
    "plt.ylabel('Sons')\n",
    "plt.title('Height of fathers and sons.');"
   ]
  },
  {
   "cell_type": "markdown",
   "id": "e5338666",
   "metadata": {
    "deletable": false,
    "editable": false,
    "nbgrader": {
     "grade": false,
     "grade_id": "cell-ce1ea76f53a60e4e",
     "locked": true,
     "schema_version": 3,
     "solution": false,
     "task": false
    }
   },
   "source": [
    "### Exercise 2.1 - What can you read from the plot?\n",
    "What can we infer from the scatter plot above concerning the height variable?\n",
    "\n",
    "    A. There is no correlation between Father and son.\n",
    "\n",
    "    B. There is a negative correlation visible.\n",
    "\n",
    "    C. There is a positive correlation visible.\n",
    "\n",
    "    D. Nothing can be inferred from just the graph.\n",
    "    \n",
    "Write the letter corresponding to your chosen answer as a text string into the variable `ex2_answer` below."
   ]
  },
  {
   "cell_type": "code",
   "execution_count": null,
   "id": "648f1c36",
   "metadata": {
    "deletable": false,
    "nbgrader": {
     "grade": false,
     "grade_id": "cell-62e6ef4c069cc4b4",
     "locked": false,
     "schema_version": 3,
     "solution": true,
     "task": false
    }
   },
   "outputs": [],
   "source": [
    "# ex2_answer = \"Z\"\n",
    "# YOUR CODE HERE\n",
    "raise NotImplementedError()"
   ]
  },
  {
   "cell_type": "code",
   "execution_count": null,
   "id": "2750543f",
   "metadata": {
    "deletable": false,
    "editable": false,
    "nbgrader": {
     "grade": true,
     "grade_id": "cell-f2ffe2bc162d2f79",
     "locked": true,
     "points": 2,
     "schema_version": 3,
     "solution": false,
     "task": false
    }
   },
   "outputs": [],
   "source": [
    "assert _hash(ex2_answer.lower()) == '2add4c06d4', \"Not correct. Remember that the correlation is not affected by the unit choice.\"\n",
    "print(\"Nice!\")"
   ]
  },
  {
   "cell_type": "markdown",
   "id": "849d6c70",
   "metadata": {
    "deletable": false,
    "editable": false,
    "nbgrader": {
     "grade": false,
     "grade_id": "cell-5693c28505010bd1",
     "locked": true,
     "schema_version": 3,
     "solution": false,
     "task": false
    }
   },
   "source": [
    "### Exercise 2.2 - The outliers\n",
    "Now let's look at another data set fathers and sons heights. We can spot some really weird heights or so called outliers. This could be the tallest man ever, or giants really existed!"
   ]
  },
  {
   "cell_type": "code",
   "execution_count": null,
   "id": "b74e12b1",
   "metadata": {
    "deletable": false,
    "editable": false,
    "nbgrader": {
     "grade": false,
     "grade_id": "cell-874d28fcddd25a27",
     "locked": true,
     "schema_version": 3,
     "solution": false,
     "task": false
    }
   },
   "outputs": [],
   "source": [
    "outliers_fathers_sons = pd.read_csv('data/outlier_data.csv')\n",
    "plt.scatter(outliers_fathers_sons['Fathers'],outliers_fathers_sons['Sons'])\n",
    "plt.xlabel('Fathers')\n",
    "plt.ylabel('Sons')\n",
    "plt.title('Heights of fathers and sons with outliers.');"
   ]
  },
  {
   "cell_type": "markdown",
   "id": "7a7ef157-f63b-4c3f-be52-52d48a02c228",
   "metadata": {
    "deletable": false,
    "editable": false,
    "nbgrader": {
     "grade": false,
     "grade_id": "cell-7ef3f1e25541118f",
     "locked": true,
     "schema_version": 3,
     "solution": false,
     "task": false
    }
   },
   "source": [
    "Calculate the Pearson and Spearman correlations between the fathers' and sons' heights for this (`outlier_data`) and the previous (`fathers_sons_heights`) data set. What do results do you expect?"
   ]
  },
  {
   "cell_type": "code",
   "execution_count": null,
   "id": "765b428d",
   "metadata": {
    "deletable": false,
    "nbgrader": {
     "grade": false,
     "grade_id": "cell-62325cce4485e655",
     "locked": false,
     "schema_version": 3,
     "solution": true,
     "task": false
    }
   },
   "outputs": [],
   "source": [
    "# pearson_corr_normal, spearman_corr_normal = \n",
    "# pearson_corr_outlier, spearman_corr_outlier = \n",
    "\n",
    "# YOUR CODE HERE\n",
    "raise NotImplementedError()"
   ]
  },
  {
   "cell_type": "code",
   "execution_count": null,
   "id": "0ee5ff5b",
   "metadata": {
    "deletable": false,
    "editable": false,
    "nbgrader": {
     "grade": true,
     "grade_id": "cell-74ef64e65b500d98",
     "locked": true,
     "points": 3,
     "schema_version": 3,
     "solution": false,
     "task": false
    }
   },
   "outputs": [],
   "source": [
    "np.testing.assert_almost_equal(pearson_corr_normal - pearson_corr_outlier, 0.07206794228263841, decimal=4,\n",
    "                err_msg=\"The Pearson correlations seems to be off. You should see some change between the two datasets.\")\n",
    "np.testing.assert_almost_equal(spearman_corr_normal - spearman_corr_outlier, 0.0020233482820588566, decimal=4,\n",
    "                err_msg=\"The Spearman correlation seems to be off. You should see almost no change between the two datasets.\")\n",
    "print(\"So far, so good!\")\n",
    "# quick plot to see what happens\n",
    "utils.plot_correlation_bargraph(pearson_corr_normal, pearson_corr_outlier,\n",
    "                          spearman_corr_normal, spearman_corr_outlier)"
   ]
  },
  {
   "cell_type": "markdown",
   "id": "271d427c",
   "metadata": {
    "deletable": false,
    "editable": false,
    "nbgrader": {
     "grade": false,
     "grade_id": "cell-2bc34627ac495f9d",
     "locked": true,
     "schema_version": 3,
     "solution": false,
     "task": false
    }
   },
   "source": [
    "### Exercise 2.3 - What to do when you have outliers?\n",
    "\n",
    "So, unsurprisingly, the higher the dads are, the higher the sons: a positive correlation. But, as you can see, having outliers may hugely affect your analysis. Then, when dealing with a dataset with outliers, which correlation methodology should you use?\n",
    "\n",
    "    A. Pearson.\n",
    "\n",
    "    B. Spearman.\n",
    "\n",
    "Write the letter corresponding to your chosen answer as a text string into the variable `ex3_answer` below."
   ]
  },
  {
   "cell_type": "code",
   "execution_count": null,
   "id": "ca4cf9bb",
   "metadata": {
    "deletable": false,
    "nbgrader": {
     "grade": false,
     "grade_id": "cell-2606c61a466aefd2",
     "locked": false,
     "schema_version": 3,
     "solution": true,
     "task": false
    }
   },
   "outputs": [],
   "source": [
    "# ex3_answer = \"Z\"\n",
    "# YOUR CODE HERE\n",
    "raise NotImplementedError()"
   ]
  },
  {
   "cell_type": "code",
   "execution_count": null,
   "id": "f0948918",
   "metadata": {
    "deletable": false,
    "editable": false,
    "nbgrader": {
     "grade": true,
     "grade_id": "cell-128352ee79915777",
     "locked": true,
     "points": 2,
     "schema_version": 3,
     "solution": false,
     "task": false
    }
   },
   "outputs": [],
   "source": [
    "assert _hash(ex3_answer.lower()) == '9350f68d6b', \"Not correct. Look at the changes in the correlations in the bar graphs.\"\n",
    "print(\"Nice! Now you can avoid the data disruption caused by the longest or \"\n",
    "      \"shortest man ever alive!\")"
   ]
  },
  {
   "cell_type": "markdown",
   "id": "0ab86c27",
   "metadata": {
    "deletable": false,
    "editable": false,
    "nbgrader": {
     "grade": false,
     "grade_id": "cell-81ccd229c0bd96ff",
     "locked": true,
     "schema_version": 3,
     "solution": false,
     "task": false
    }
   },
   "source": [
    "## Exercise 3 - Interest in health issues \n",
    "\n",
    "This health search dataset includes an index of volumes of searches for various common medical topics in the United States. The data covers the period 2004 for all the US counties. source: https://www.searching-for-health.com/"
   ]
  },
  {
   "cell_type": "code",
   "execution_count": null,
   "id": "a470a508",
   "metadata": {
    "deletable": false,
    "editable": false,
    "nbgrader": {
     "grade": false,
     "grade_id": "cell-3658f33fec0c9638",
     "locked": true,
     "schema_version": 3,
     "solution": false,
     "task": false
    }
   },
   "outputs": [],
   "source": [
    "health = pd.read_csv('data/health_issue.csv')\n",
    "health.head()"
   ]
  },
  {
   "cell_type": "markdown",
   "id": "a1aac2df-2513-46e5-829c-e22827c0fe9a",
   "metadata": {
    "deletable": false,
    "editable": false,
    "nbgrader": {
     "grade": false,
     "grade_id": "cell-f284b18e8af164dc",
     "locked": true,
     "schema_version": 3,
     "solution": false,
     "task": false
    }
   },
   "source": [
    "Explore the dataset using the tools you learned in this SLU, then answer the questions in the cell below:\n",
    "\n",
    "- you can use `display()` to force it to pretty print.\n",
    "- use the heatmap of the correlation matrix that we used in the learning notebooks.\n",
    "- you may want to import something to help with the visualization.\n",
    "- you can either paste the answers or use a purely programmatic solution."
   ]
  },
  {
   "cell_type": "code",
   "execution_count": null,
   "id": "31951e72",
   "metadata": {
    "deletable": false,
    "nbgrader": {
     "grade": false,
     "grade_id": "cell-de93d4d0cdd64286",
     "locked": false,
     "schema_version": 3,
     "solution": true,
     "task": false
    }
   },
   "outputs": [],
   "source": [
    "# explore the dataset\n",
    "\n",
    "# YOUR CODE HERE\n",
    "raise NotImplementedError()"
   ]
  },
  {
   "cell_type": "code",
   "execution_count": null,
   "id": "a87473c1",
   "metadata": {
    "deletable": false,
    "nbgrader": {
     "grade": false,
     "grade_id": "cell-d42ffaeb50ad744e",
     "locked": false,
     "schema_version": 3,
     "solution": true,
     "task": false
    }
   },
   "outputs": [],
   "source": [
    "# Complete the following questions\n",
    "\n",
    "# Q1: What is the pair of health issues with the most negative Pearson\n",
    "#   correlation?\n",
    "# (pass the answer as a list, and remember, you can just type it in, no\n",
    "#   fancy Pandas needed)\n",
    "# health_pair_with_lowest_pearson_corr = ...\n",
    "# YOUR CODE HERE\n",
    "raise NotImplementedError()\n",
    "\n",
    "# # Q2: What is the health issue with the most negative Pearson\n",
    "#   correlation with Obesity?\n",
    "# health_rank_pearson_corr_with_obesity = ...\n",
    "# YOUR CODE HERE\n",
    "raise NotImplementedError()\n",
    "\n",
    "# Q3: What is the Spearman correlation between vaccine and stroke?\n",
    "# spearman_corr_between_vaccine_and_stroke = ...\n",
    "# YOUR CODE HERE\n",
    "raise NotImplementedError()\n",
    "\n",
    "# Q4: Observe the top Pearson correlation pairs, and then look at the\n",
    "#   general correlation matrix.\n",
    "# Which health issue seems to be the most correlated to other health\n",
    "#   issues making it a possible confounding variable?\n",
    "# possible_confounding_variable =\n",
    "# YOUR CODE HERE\n",
    "raise NotImplementedError()"
   ]
  },
  {
   "cell_type": "code",
   "execution_count": null,
   "id": "ba807fa9",
   "metadata": {
    "deletable": false,
    "editable": false,
    "nbgrader": {
     "grade": true,
     "grade_id": "cell-3215d77226d787e2",
     "locked": true,
     "points": 4,
     "schema_version": 3,
     "solution": false,
     "task": false
    }
   },
   "outputs": [],
   "source": [
    "assert _hash(sorted([h.lower() for h in health_pair_with_lowest_pearson_corr])) == '506ae2bc48',\\\n",
    "\"That is not the pair with the lowest Pearson correlation.\"\n",
    "assert _hash(health_rank_pearson_corr_with_obesity.lower()) == '2def1fe0b7', \"That is not it, look again.\"\n",
    "np.testing.assert_almost_equal(spearman_corr_between_vaccine_and_stroke, 0.187897, decimal=3,\n",
    "                    err_msg=\"Wrong spearman correlation value between vaccine and stroke.\")\n",
    "assert _hash(possible_confounding_variable.lower()) == '22037c48a8', \"Not correct, check again.\"\n",
    "print(\"You got it!\")"
   ]
  },
  {
   "cell_type": "markdown",
   "id": "b5b92dc2",
   "metadata": {
    "deletable": false,
    "editable": false,
    "nbgrader": {
     "grade": false,
     "grade_id": "cell-afac71313cf11768",
     "locked": true,
     "schema_version": 3,
     "solution": false,
     "task": false
    }
   },
   "source": [
    "## Exercise 4 - Lots of stocks\n",
    "You were hired by a hedge fund, because money. \n",
    "\n",
    "On the first day, your boss, Greedy McRiskyface asked you to select one stock pair so that he can short one and long the other.\n",
    "\n",
    "Note: If an investor wants to short (sell) one stock and long (buy) another it means they expects the prices to move in **oposite directions!** This aspect will help you understand which correlation extreme you're expected to find.\n",
    "\n",
    "If you select the best possible pair (use Pearson) you get a raise!\n",
    "\n",
    "The answer should be (1) the two stocks, as a list and (2) their Pearson correlation, as a float.\n",
    "\n",
    "It is very important that you restart the kernel everytime you run this exercise, otherwise the asserts might not pass although your solution is correct."
   ]
  },
  {
   "cell_type": "code",
   "execution_count": null,
   "id": "062f5862",
   "metadata": {
    "deletable": false,
    "editable": false,
    "nbgrader": {
     "grade": false,
     "grade_id": "cell-f778af17111daca0",
     "locked": true,
     "schema_version": 3,
     "solution": false,
     "task": false
    }
   },
   "outputs": [],
   "source": [
    "stock_data = utils.get_stocks_data_2()\n",
    "stock_data.head()"
   ]
  },
  {
   "cell_type": "code",
   "execution_count": null,
   "id": "f72bec59",
   "metadata": {
    "deletable": false,
    "nbgrader": {
     "grade": false,
     "grade_id": "cell-e7e2a0de34acc4b6",
     "locked": false,
     "schema_version": 3,
     "solution": true,
     "task": false
    }
   },
   "outputs": [],
   "source": [
    "# selected_stock_pair = ...\n",
    "# selected_stock_pair_pearson_corr = ...\n",
    "# YOUR CODE HERE\n",
    "raise NotImplementedError()"
   ]
  },
  {
   "cell_type": "code",
   "execution_count": null,
   "id": "21492e06",
   "metadata": {
    "deletable": false,
    "editable": false,
    "nbgrader": {
     "grade": true,
     "grade_id": "cell-0cf195c80388cd41",
     "locked": true,
     "points": 4,
     "schema_version": 3,
     "solution": false,
     "task": false
    }
   },
   "outputs": [],
   "source": [
    "assert isinstance(selected_stock_pair, list), \"The variable should be a list.\"\n",
    "assert len(selected_stock_pair) == 2, \"There should be two stocks in the list.\"\n",
    "assert _hash(sorted(selected_stock_pair))=='56085de6e5', 'The selected stock pair is not correct.'\n",
    "np.testing.assert_almost_equal(selected_stock_pair_pearson_corr, -0.4694947400556539, decimal=3),\n",
    "err_msg=\"The Pearson correlation value is not correct.\"\n",
    "utils.dirty_little_secret()"
   ]
  }
 ],
 "metadata": {
  "kernelspec": {
   "display_name": "Python 3 (ipykernel)",
   "language": "python",
   "name": "python3"
  },
  "language_info": {
   "codemirror_mode": {
    "name": "ipython",
    "version": 3
   },
   "file_extension": ".py",
   "mimetype": "text/x-python",
   "name": "python",
   "nbconvert_exporter": "python",
   "pygments_lexer": "ipython3",
   "version": "3.12.11"
  },
  "widgets": {
   "application/vnd.jupyter.widget-state+json": {
    "state": {},
    "version_major": 2,
    "version_minor": 0
   }
  }
 },
 "nbformat": 4,
 "nbformat_minor": 5
}
