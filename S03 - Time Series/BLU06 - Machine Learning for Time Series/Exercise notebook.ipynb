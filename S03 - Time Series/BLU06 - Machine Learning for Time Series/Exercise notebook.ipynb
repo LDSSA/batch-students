{
 "cells": [
  {
   "cell_type": "markdown",
   "metadata": {
    "deletable": false,
    "editable": false,
    "nbgrader": {
     "grade": false,
     "grade_id": "cell-3db1b7eb6aade580",
     "locked": true,
     "schema_version": 3,
     "solution": false
    }
   },
   "source": [
    "# BLU06  - Exercise Notebook "
   ]
  },
  {
   "cell_type": "code",
   "execution_count": null,
   "metadata": {
    "deletable": false,
    "editable": false,
    "nbgrader": {
     "grade": false,
     "grade_id": "cell-d9b262915f7cb1e5",
     "locked": true,
     "schema_version": 3,
     "solution": false
    }
   },
   "outputs": [],
   "source": [
    "import pandas as pd\n",
    "import matplotlib.pyplot as plt\n",
    "import numpy as np\n",
    "import hashlib # for grading purposes\n",
    "import json\n",
    "from random import seed\n",
    "from sklearn.metrics import mean_absolute_error, mean_squared_error\n",
    "from sklearn.linear_model import LinearRegression\n",
    "from sklearn.ensemble import GradientBoostingRegressor\n",
    "from sklearn.model_selection import ParameterGrid\n",
    "import itertools\n",
    "from statsmodels.tsa.seasonal import seasonal_decompose\n",
    "from statsmodels.graphics.tsaplots import plot_acf, plot_pacf\n",
    "from statsmodels.tsa import stattools\n",
    "from joblib import Parallel, delayed\n",
    "from tqdm.notebook import tqdm\n",
    "from pandas.plotting import lag_plot\n",
    "\n",
    "plt.rcParams['figure.figsize'] = (12, 4.2)\n",
    "idx = pd.IndexSlice\n",
    "import utils"
   ]
  },
  {
   "cell_type": "markdown",
   "metadata": {
    "deletable": false,
    "editable": false,
    "nbgrader": {
     "grade": false,
     "grade_id": "cell-c9a3e566cc624451",
     "locked": true,
     "schema_version": 3,
     "solution": false
    }
   },
   "source": [
    "Let's predict wind power production! We will use the dataset with hourly values of eolic electricity production in Jan-March 2010."
   ]
  },
  {
   "cell_type": "code",
   "execution_count": null,
   "metadata": {
    "deletable": false,
    "editable": false,
    "nbgrader": {
     "grade": false,
     "grade_id": "cell-c89f8456e9e70392",
     "locked": true,
     "schema_version": 3,
     "solution": false
    }
   },
   "outputs": [],
   "source": [
    "df_wp = pd.read_csv('data/wind_power.csv')\n",
    "df_wp['date'] = pd.to_datetime(df_wp['date'])\n",
    "df_wp = df_wp.set_index('date').sort_index()\n",
    "df_wp.head()"
   ]
  },
  {
   "cell_type": "markdown",
   "metadata": {
    "deletable": false,
    "editable": false,
    "nbgrader": {
     "grade": false,
     "grade_id": "cell-5db0587a41ba75ab",
     "locked": true,
     "schema_version": 3,
     "solution": false
    }
   },
   "source": [
    "Here is the plot:"
   ]
  },
  {
   "cell_type": "code",
   "execution_count": null,
   "metadata": {
    "deletable": false,
    "editable": false,
    "nbgrader": {
     "grade": false,
     "grade_id": "cell-846a66e59e645d8e",
     "locked": true,
     "schema_version": 3,
     "solution": false
    }
   },
   "outputs": [],
   "source": [
    "df_wp.plot()\n",
    "plt.ylabel('Wind power')\n",
    "plt.xlabel('Time')\n",
    "plt.title('Wind power production for the initial months of 2010');"
   ]
  },
  {
   "cell_type": "markdown",
   "metadata": {
    "deletable": false,
    "editable": false,
    "nbgrader": {
     "grade": false,
     "grade_id": "cell-05919b5da7329c33",
     "locked": true,
     "schema_version": 3,
     "solution": false,
     "task": false
    }
   },
   "source": [
    "We also prepare the train and test sets for you. The test set is the last day (24 h)."
   ]
  },
  {
   "cell_type": "code",
   "execution_count": null,
   "metadata": {
    "deletable": false,
    "editable": false,
    "nbgrader": {
     "grade": false,
     "grade_id": "cell-e7f83ba01f8a7a61",
     "locked": true,
     "schema_version": 3,
     "solution": false,
     "task": false
    }
   },
   "outputs": [],
   "source": [
    "train_wp = df_wp.iloc[:-24]\n",
    "test_wp = df_wp.iloc[-24:]"
   ]
  },
  {
   "cell_type": "markdown",
   "metadata": {
    "deletable": false,
    "editable": false,
    "nbgrader": {
     "grade": false,
     "grade_id": "cell-ef1184e061dcce01",
     "locked": true,
     "schema_version": 3,
     "solution": false
    }
   },
   "source": [
    "## Exercise 1 - One-step forecast"
   ]
  },
  {
   "cell_type": "markdown",
   "metadata": {
    "deletable": false,
    "editable": false,
    "nbgrader": {
     "grade": false,
     "grade_id": "cell-52ebd77841c0b4ce",
     "locked": true,
     "schema_version": 3,
     "solution": false
    }
   },
   "source": [
    "### Exercise 1.1 - Prepare the data\n",
    "Create a dataframe with features called `df_features` from the wind power train set following the steps below. We did the first step for you.\n",
    "- Create the target, the wind power production in the next hour.\n",
    "- Plot the PACF and identify the three most significant lags (including the negative ones).\n",
    "- Create three lagged features a, b, c. Use the three lag values identified in the PACF plot."
   ]
  },
  {
   "cell_type": "code",
   "execution_count": null,
   "metadata": {
    "deletable": false,
    "nbgrader": {
     "grade": false,
     "grade_id": "cell-b2bfb6431053bbb1",
     "locked": false,
     "schema_version": 3,
     "solution": true
    }
   },
   "outputs": [],
   "source": [
    "#df_features = train_wp.copy()\n",
    "#df_features['target'] =\n",
    "#df_features['lag_a'] = \n",
    "#df_features['lag_b'] = \n",
    "#df_features['lag_c'] = \n",
    "\n",
    "# YOUR CODE HERE\n",
    "raise NotImplementedError()"
   ]
  },
  {
   "cell_type": "code",
   "execution_count": null,
   "metadata": {
    "deletable": false,
    "editable": false,
    "nbgrader": {
     "grade": true,
     "grade_id": "cell-ec83e113b13f6716",
     "locked": true,
     "points": 2,
     "schema_version": 3,
     "solution": false
    }
   },
   "outputs": [],
   "source": [
    "assert df_features.shape==(2136,5), 'The shape of the dataframe is not correct.'\n",
    "assert hashlib.sha256(json.dumps(''.join(sorted(df_features.columns))).encode()).hexdigest() == \\\n",
    "'0341a6d0522a5dda2a452392e5269c2ba4804b3bd6909a8897cba62f489010a0', 'The column names are not correct.'\n",
    "assert hashlib.sha256(json.dumps(str(df_features.iloc[-1:].index[0])).encode()).hexdigest() == \\\n",
    "'4c666882f1e52aeb56bb743b24e1d45cab3ce37f2e62b9d61ab4d3f9a034857d', 'The last timestamp is not correct.'\n",
    "assert hashlib.sha256(json.dumps(''.join([str(i) for i in df_features.iloc[-1].sort_index()])).encode()).hexdigest() == \\\n",
    "'fd7c2340b73fa498c1e04db1f93f1d17fec13771c618132650d928dc8b11e7e8', 'The values in the last row are not correct.'"
   ]
  },
  {
   "cell_type": "markdown",
   "metadata": {
    "deletable": false,
    "editable": false,
    "nbgrader": {
     "grade": false,
     "grade_id": "cell-7ab428009d677b3c",
     "locked": true,
     "schema_version": 3,
     "solution": false
    }
   },
   "source": [
    "### Exercise 1.2 - Separate the train and test set\n",
    "Separate the `df_features` dataframe into a train and test set and drop the null values from the train set. The test set is the last row of the `df_features` dataframe, train set is the rest."
   ]
  },
  {
   "cell_type": "code",
   "execution_count": null,
   "metadata": {
    "deletable": false,
    "nbgrader": {
     "grade": false,
     "grade_id": "cell-0aa5b9495555cd7d",
     "locked": false,
     "schema_version": 3,
     "solution": true
    }
   },
   "outputs": [],
   "source": [
    "# df_train =\n",
    "# df_test =\n",
    "\n",
    "# YOUR CODE HERE\n",
    "raise NotImplementedError()"
   ]
  },
  {
   "cell_type": "code",
   "execution_count": null,
   "metadata": {
    "deletable": false,
    "editable": false,
    "nbgrader": {
     "grade": true,
     "grade_id": "cell-46d22f610161d58e",
     "locked": true,
     "points": 1,
     "schema_version": 3,
     "solution": false
    }
   },
   "outputs": [],
   "source": [
    "assert df_train.shape==(2110,5), 'The shape of the train set is not correct.'\n",
    "assert df_test.shape==(1,5), 'The shape of the test set is not correct.'\n",
    "assert hashlib.sha256(json.dumps(''.join([str(i) for i in df_train.index])).encode()).hexdigest() == \\\n",
    "'07a96943bfc21ffc95a9bcdc69f4b3556a6f143bb9d0684fa58f1fef9b673d07', 'The data in the train set is not correct.'\n",
    "assert hashlib.sha256(json.dumps(str(df_test.index[0])).encode()).hexdigest() == \\\n",
    "'4c666882f1e52aeb56bb743b24e1d45cab3ce37f2e62b9d61ab4d3f9a034857d', 'The timestamp of the test set is not correct.'"
   ]
  },
  {
   "cell_type": "markdown",
   "metadata": {
    "deletable": false,
    "editable": false,
    "nbgrader": {
     "grade": false,
     "grade_id": "cell-328a6be750d6b545",
     "locked": true,
     "schema_version": 3,
     "solution": false
    }
   },
   "source": [
    "### Exercise 1.3 - Model\n",
    "Fit a sklearn linear regression model to the training set. The fitted model should be stored in the `model` variable."
   ]
  },
  {
   "cell_type": "code",
   "execution_count": null,
   "metadata": {
    "deletable": false,
    "nbgrader": {
     "grade": false,
     "grade_id": "cell-c10406518994a44d",
     "locked": false,
     "schema_version": 3,
     "solution": true
    }
   },
   "outputs": [],
   "source": [
    "# model =\n",
    "\n",
    "# YOUR CODE HERE\n",
    "raise NotImplementedError()"
   ]
  },
  {
   "cell_type": "code",
   "execution_count": null,
   "metadata": {
    "deletable": false,
    "editable": false,
    "nbgrader": {
     "grade": true,
     "grade_id": "cell-ba2d8a4a2f417e25",
     "locked": true,
     "points": 2,
     "schema_version": 3,
     "solution": false
    }
   },
   "outputs": [],
   "source": [
    "assert isinstance(model, LinearRegression), 'Did you use the correct model?'\n",
    "assert hashlib.sha256(json.dumps(''.join(sorted(model.feature_names_in_))).encode()).hexdigest() == \\\n",
    "'1678e066cb05c24a374a598c30c5a3d754cbba8e974808046ab5b9fd79faf9f3', 'The features used in the model are not correct.'\n",
    "assert hashlib.sha256(json.dumps(str(round(model.intercept_,4))).encode()).hexdigest() == \\\n",
    "'4ac126c7537977aa9306b4f75abc3d3ab0f7c665c64e0207a842958babfcc783', 'The output of the model is not correct.'\n",
    "assert hashlib.sha256(json.dumps(''.join([str(round(i,4)) for i in sorted(model.coef_)])).encode()).hexdigest() == \\\n",
    "'35a1a4c2f32a49b0fb2eff0a005701ba0351c77a550631ee33da734c74a1e607', 'The output of the model is not correct.'"
   ]
  },
  {
   "cell_type": "markdown",
   "metadata": {
    "deletable": false,
    "editable": false,
    "nbgrader": {
     "grade": false,
     "grade_id": "cell-f91888ec4ca37707",
     "locked": true,
     "schema_version": 3,
     "solution": false
    }
   },
   "source": [
    "### Exercise 1.4 - Forecast\n",
    "Make a forecast on the test set and calculate the MAE of the forecast. Store the results in the corresponding variables."
   ]
  },
  {
   "cell_type": "code",
   "execution_count": null,
   "metadata": {
    "deletable": false,
    "nbgrader": {
     "grade": false,
     "grade_id": "cell-c702242ee9013f2d",
     "locked": false,
     "schema_version": 3,
     "solution": true
    }
   },
   "outputs": [],
   "source": [
    "# forecast_one_step = \n",
    "# mae_one_step = \n",
    "\n",
    "# YOUR CODE HERE\n",
    "raise NotImplementedError()"
   ]
  },
  {
   "cell_type": "code",
   "execution_count": null,
   "metadata": {
    "deletable": false,
    "editable": false,
    "nbgrader": {
     "grade": true,
     "grade_id": "cell-fa53ac00c701b6ad",
     "locked": true,
     "points": 2,
     "schema_version": 3,
     "solution": false
    }
   },
   "outputs": [],
   "source": [
    "assert hashlib.sha256(json.dumps(str(round(forecast_one_step[0],4))).encode()).hexdigest() == \\\n",
    "'7bebf20e9750f0c225f299cdbbd91ee290c08acb5c51343f98680bb39a8d898c', 'The forecast is not correct.'\n",
    "assert hashlib.sha256(json.dumps(str(round(mae_one_step,4))).encode()).hexdigest() == \\\n",
    "'44fed59e085de65f6b766de55f4b0aa61da81040478f5a2e1cf643359ddd15b6', 'The MAE is not correct.'"
   ]
  },
  {
   "cell_type": "markdown",
   "metadata": {
    "deletable": false,
    "editable": false,
    "nbgrader": {
     "grade": false,
     "grade_id": "cell-1b64863f837f65e9",
     "locked": true,
     "schema_version": 3,
     "solution": false
    }
   },
   "source": [
    "## Exercise 2 - Let's go into multi-step prediction!\n",
    "We will use the infrastructure defined in the learning notebooks for the forecast. All the necessary functions are in the utils file."
   ]
  },
  {
   "cell_type": "markdown",
   "metadata": {
    "deletable": false,
    "editable": false,
    "nbgrader": {
     "grade": false,
     "grade_id": "cell-6cecdca4023a9b09",
     "locked": true,
     "schema_version": 3,
     "solution": false
    }
   },
   "source": [
    "### Exercise 2.1 - Create a validation set\n",
    "Separate the train set into a validation and train set. Use the last 24 hours for the validation set."
   ]
  },
  {
   "cell_type": "code",
   "execution_count": null,
   "metadata": {
    "deletable": false,
    "nbgrader": {
     "grade": false,
     "grade_id": "cell-b4676deaf08fb5b8",
     "locked": false,
     "schema_version": 3,
     "solution": true
    }
   },
   "outputs": [],
   "source": [
    "# df_multistep_train =\n",
    "# df_multistep_val =\n",
    "\n",
    "\n",
    "# YOUR CODE HERE\n",
    "raise NotImplementedError()"
   ]
  },
  {
   "cell_type": "code",
   "execution_count": null,
   "metadata": {
    "deletable": false,
    "editable": false,
    "nbgrader": {
     "grade": true,
     "grade_id": "cell-144aa010340df42d",
     "locked": true,
     "points": 1,
     "schema_version": 3,
     "solution": false
    }
   },
   "outputs": [],
   "source": [
    "assert hashlib.sha256(json.dumps(''.join([str(i) for i in df_multistep_train.index])).encode()).hexdigest() == \\\n",
    "'073b1b40c5025aed5e04821304765b919b44d0ae8e558f8b9fb7327e8b5dd131', 'The train set is not correct.'\n",
    "assert hashlib.sha256(json.dumps(''.join([str(i) for i in df_multistep_val.index])).encode()).hexdigest() == \\\n",
    "'d1744856f01e40a869698dd09654711669edd67180ab4f725502f81027a55c75', 'The validation set is not correct.'"
   ]
  },
  {
   "cell_type": "markdown",
   "metadata": {
    "deletable": false,
    "editable": false,
    "nbgrader": {
     "grade": false,
     "grade_id": "cell-a252157fed7db039",
     "locked": true,
     "schema_version": 3,
     "solution": false
    }
   },
   "source": [
    "### Exercise 2.2 - Hyperparameter grid\n",
    "Create a dictionary called `param_grid` to use in a parameter grid for tuning a regression time series model with the following conditions. Keep the order of the parameter values as listed.\n",
    "- Include the linear regression and gradient boosting regressor as `model`. For the gradient boosting regressor use `n_estimators`=20 and `random_state`=10.\n",
    "- Use 3 and 26 lags (`num_lags`).\n",
    "- Use 0 and 15 diffs (`num_diffs`).\n",
    "- Set the `weekday`, `month` and `holidays` to False. These shouldn't affect wind power generation.\n",
    "- Don't use rolling window features (you still have to include this parameter in the grid)."
   ]
  },
  {
   "cell_type": "code",
   "execution_count": null,
   "metadata": {
    "deletable": false,
    "nbgrader": {
     "grade": false,
     "grade_id": "cell-16a7b564ac712979",
     "locked": false,
     "schema_version": 3,
     "solution": true
    }
   },
   "outputs": [],
   "source": [
    "# param_grid = \n",
    "\n",
    "# YOUR CODE HERE\n",
    "raise NotImplementedError()"
   ]
  },
  {
   "cell_type": "code",
   "execution_count": null,
   "metadata": {
    "deletable": false,
    "editable": false,
    "nbgrader": {
     "grade": true,
     "grade_id": "cell-98834a5383eb23bc",
     "locked": true,
     "points": 2,
     "schema_version": 3,
     "solution": false,
     "task": false
    }
   },
   "outputs": [],
   "source": [
    "assert isinstance(param_grid,dict), 'param_grid should be a dictionary'\n",
    "assert len(param_grid)==7, 'The dictionary should have 7 items.'\n",
    "assert hashlib.sha256(json.dumps(''.join(sorted(param_grid.keys()))).encode()).hexdigest() == \\\n",
    "'89e9e480b892a82143688daec4068c63b7516dd75236bf25d9da41bdc54bdfe6', 'The keys of the dictionary are not correct.'\n",
    "assert hashlib.sha256(json.dumps(''.join([str(i) for i in param_grid['model']])).encode()).hexdigest() == \\\n",
    "'2bfbaf3fc1c49731221d344654f1d2fde44e74abd4f3bd43f818b3fb1a80dd62', \"The 'model' item is not correct.\"\n",
    "assert hashlib.sha256(json.dumps(''.join([str(i) for i in param_grid['num_lags']])).encode()).hexdigest() == \\\n",
    "'040c38181df1fefff00e092ae645bca29bf4d29cc919f15cf3450c6b98678c98', \"The 'num_lags' item is not correct.\"\n",
    "assert hashlib.sha256(json.dumps(''.join([str(i) for i in param_grid['num_diffs']])).encode()).hexdigest() == \\\n",
    "'e6a178c0829d9454edf2a957da734a790fdbd375079d4ad06134d82988e9cb1c', \"The 'num_diffs' item is not correct.\"\n",
    "assert param_grid['weekday']==param_grid['month']==param_grid['holidays'] and not param_grid['month'][0],\\\n",
    "\"The 'weekday', 'month' or 'holidays' items are not correct.\"\n",
    "assert isinstance(param_grid['rolling'][0],list) and len(param_grid['rolling'][0])==0, \"The 'rolling' item is not correct.\""
   ]
  },
  {
   "cell_type": "markdown",
   "metadata": {
    "deletable": false,
    "editable": false,
    "nbgrader": {
     "grade": false,
     "grade_id": "cell-f8be45783a7ca4b3",
     "locked": true,
     "schema_version": 3,
     "solution": false,
     "task": false
    }
   },
   "source": [
    "### Exercise 2.3 - Hyperparameter optimization\n",
    "Perform a grid search for the multi-step forecast using the parameter grid from the previous exercise. Use the `df_multistep_train` data for training and `df_multistep_val` data for validation. Calculate MAE for each model outcome. Store the results in the list `grid_search_result`. Each entry should be a tuple of the parameter set (a dictionary) and the corresponding MAE.\n",
    "\n",
    "Finally, find the parameter set with the smallest MAE and store it in the `best_params` dictionary."
   ]
  },
  {
   "cell_type": "code",
   "execution_count": null,
   "metadata": {
    "deletable": false,
    "nbgrader": {
     "grade": false,
     "grade_id": "cell-bb80abf5c989670e",
     "locked": false,
     "schema_version": 3,
     "solution": true,
     "task": false
    }
   },
   "outputs": [],
   "source": [
    "%%time \n",
    "# grid_search_result = []\n",
    "# best_params = \n",
    "\n",
    "# YOUR CODE HERE\n",
    "raise NotImplementedError()"
   ]
  },
  {
   "cell_type": "code",
   "execution_count": null,
   "metadata": {
    "deletable": false,
    "editable": false,
    "nbgrader": {
     "grade": true,
     "grade_id": "cell-b3b163466aea2896",
     "locked": true,
     "points": 2,
     "schema_version": 3,
     "solution": false,
     "task": false
    }
   },
   "outputs": [],
   "source": [
    "assert isinstance(grid_search_result, list), 'The result should be a list.'\n",
    "assert len(grid_search_result)==8, 'The length of the results list is not correct.'\n",
    "assert isinstance(best_params, dict), 'best_params should be a dictionary.'\n",
    "assert len(best_params)==7, 'The length of the best_params dictionary is not correct.'\n",
    "assert hashlib.sha256(json.dumps(best_params['num_lags']).encode()).hexdigest() == \\\n",
    "'4e07408562bedb8b60ce05c1decfe3ad16b72230967de01f640b7e4729b49fce', 'The num_lags parameter is not correct.'\n",
    "assert hashlib.sha256(json.dumps(best_params['num_diffs']).encode()).hexdigest() == \\\n",
    "hashlib.sha256(json.dumps(best_params['num_diffs']).encode()).hexdigest(), 'The num_diffs parameter is not correct.'\n",
    "assert hashlib.sha256(json.dumps(str(best_params['model'])).encode()).hexdigest() == \\\n",
    "'6806292b7854910f566b0af0e8b5f8e0516decce03414eb2b84e065d72a6def7', 'The model parameter is not correct.'"
   ]
  },
  {
   "cell_type": "markdown",
   "metadata": {
    "deletable": false,
    "editable": false,
    "nbgrader": {
     "grade": false,
     "grade_id": "cell-cd3355c62f859eeb",
     "locked": true,
     "schema_version": 3,
     "solution": false
    }
   },
   "source": [
    "### Exercise 2.4 - Best model\n",
    "Merge the train and val data sets and train the best model from the grid search on this data. Then make a forecast for the test set and calculate the MAE. Store the results in the corresponding variables."
   ]
  },
  {
   "cell_type": "code",
   "execution_count": null,
   "metadata": {
    "deletable": false,
    "nbgrader": {
     "grade": false,
     "grade_id": "cell-a8fdbd5c2eaf09dc",
     "locked": false,
     "schema_version": 3,
     "solution": true
    }
   },
   "outputs": [],
   "source": [
    "# forecast_multi_step = \n",
    "# mae_multi_step = \n",
    "\n",
    "# YOUR CODE HERE\n",
    "raise NotImplementedError()"
   ]
  },
  {
   "cell_type": "code",
   "execution_count": null,
   "metadata": {
    "deletable": false,
    "editable": false,
    "nbgrader": {
     "grade": true,
     "grade_id": "cell-cc1f893477248c54",
     "locked": true,
     "points": 2,
     "schema_version": 3,
     "solution": false,
     "task": false
    }
   },
   "outputs": [],
   "source": [
    "assert len(forecast_multi_step)==24, 'The length of the forecast is not correct.'\n",
    "assert hashlib.sha256(json.dumps(str(round(mae_multi_step,4))).encode()).hexdigest() == \\\n",
    "'7e5bffaee5ae90d24740726ce68df1aac332000395ff3cea6c3f3a7f1db9162b', 'The MAE is not correct.'"
   ]
  },
  {
   "cell_type": "markdown",
   "metadata": {
    "deletable": false,
    "editable": false,
    "nbgrader": {
     "grade": false,
     "grade_id": "cell-3dcde3f2a459ade4",
     "locked": true,
     "schema_version": 3,
     "solution": false,
     "task": false
    }
   },
   "source": [
    "Plot your forecast below."
   ]
  },
  {
   "cell_type": "code",
   "execution_count": null,
   "metadata": {
    "deletable": false,
    "editable": false,
    "nbgrader": {
     "grade": false,
     "grade_id": "cell-6cc9a41035666a6d",
     "locked": true,
     "schema_version": 3,
     "solution": false,
     "task": false
    }
   },
   "outputs": [],
   "source": [
    "plt.plot(test_wp, label='original')\n",
    "plt.plot(pd.Series(forecast_multi_step,index=test_wp.index), label='multi-step forecast')\n",
    "plt.xlabel('Time')\n",
    "plt.ylabel('Wind power')\n",
    "plt.legend();"
   ]
  },
  {
   "cell_type": "markdown",
   "metadata": {
    "deletable": false,
    "editable": false,
    "nbgrader": {
     "grade": false,
     "grade_id": "cell-daf726703636e01a",
     "locked": true,
     "schema_version": 3,
     "solution": false,
     "task": false
    }
   },
   "source": [
    "## Exercise 3 - Finally, we'll add exogenous features to improve model performance!\n",
    "This is our exogenous feature, the windspeed forecast:"
   ]
  },
  {
   "cell_type": "code",
   "execution_count": null,
   "metadata": {
    "deletable": false,
    "editable": false,
    "nbgrader": {
     "grade": false,
     "grade_id": "cell-6885d1d366eaf8b6",
     "locked": true,
     "schema_version": 3,
     "solution": false,
     "task": false
    }
   },
   "outputs": [],
   "source": [
    "exog = pd.read_csv('data/wind_speed_forecast.csv')\n",
    "exog['date'] = pd.to_datetime(exog['date'])\n",
    "exog = exog.set_index('date').sort_index()\n",
    "exog.head()"
   ]
  },
  {
   "cell_type": "code",
   "execution_count": null,
   "metadata": {
    "deletable": false,
    "editable": false,
    "nbgrader": {
     "grade": false,
     "grade_id": "cell-0a5976376313598a",
     "locked": true,
     "schema_version": 3,
     "solution": false,
     "task": false
    }
   },
   "outputs": [],
   "source": [
    "exog.plot()\n",
    "plt.xlabel('Time')\n",
    "plt.ylabel('Wind speed');"
   ]
  },
  {
   "cell_type": "markdown",
   "metadata": {
    "deletable": false,
    "editable": false,
    "nbgrader": {
     "grade": false,
     "grade_id": "cell-a02c44df99f817f2",
     "locked": true,
     "schema_version": 3,
     "solution": false,
     "task": false
    }
   },
   "source": [
    "### Exercise 3.1 - Hyperparameter grid (again)\n",
    "Create a dictionary called `param_grid_exog` to use in a parameter grid for tuning a regression time series model with the following conditions. Keep the order of the parameter values as listed.\n",
    "- Include the linear regression and gradient boosting regressor as `model`. For the gradient boosting regressor use `n_estimators`=20 and `random_state`=10.\n",
    "- Use 3 and 26 lags (`num_lags`).\n",
    "- Use 0 for diffs (`num_diffs`).\n",
    "- Set the `weekday`, `month` and `holidays` to False. These shouldn't affect wind power generation.\n",
    "- Don't use rolling window features (you still have to include this parameter in the grid).\n",
    "- Add the exogenous variable as the `exog` parameter."
   ]
  },
  {
   "cell_type": "code",
   "execution_count": null,
   "metadata": {
    "deletable": false,
    "nbgrader": {
     "grade": false,
     "grade_id": "cell-f2026723066117d0",
     "locked": false,
     "schema_version": 3,
     "solution": true,
     "task": false
    }
   },
   "outputs": [],
   "source": [
    "# param_grid_exog = \n",
    "\n",
    "# YOUR CODE HERE\n",
    "raise NotImplementedError()"
   ]
  },
  {
   "cell_type": "code",
   "execution_count": null,
   "metadata": {
    "deletable": false,
    "editable": false,
    "nbgrader": {
     "grade": true,
     "grade_id": "cell-8843fc085fd17f70",
     "locked": true,
     "points": 2,
     "schema_version": 3,
     "solution": false,
     "task": false
    }
   },
   "outputs": [],
   "source": [
    "assert isinstance(param_grid_exog,dict), 'param_grid should be a dictionary'\n",
    "assert len(param_grid_exog)==8, 'The dictionary should have 7 items.'\n",
    "assert hashlib.sha256(json.dumps(''.join(sorted(param_grid_exog.keys()))).encode()).hexdigest() == \\\n",
    "'8a813298b9e53dd0eaddffb9544957e44528283386d4608ee725e013ab8083ef', 'The keys of the dictionary are not correct.'\n",
    "assert hashlib.sha256(json.dumps(''.join([str(i) for i in param_grid_exog['model']])).encode()).hexdigest() == \\\n",
    "'2bfbaf3fc1c49731221d344654f1d2fde44e74abd4f3bd43f818b3fb1a80dd62', \"The 'model' item is not correct.\"\n",
    "assert hashlib.sha256(json.dumps(''.join([str(i) for i in param_grid_exog['num_lags']])).encode()).hexdigest() == \\\n",
    "'040c38181df1fefff00e092ae645bca29bf4d29cc919f15cf3450c6b98678c98', \"The 'num_lags' item is not correct.\"\n",
    "assert hashlib.sha256(json.dumps(''.join([str(i) for i in param_grid_exog['num_diffs']])).encode()).hexdigest() == \\\n",
    "'98089e6d36f78e9766c9ea34d5acb3611f3a92cd81c5eb102095d924ffc7d08b', \"The 'num_diffs' item is not correct.\"\n",
    "assert (param_grid_exog['weekday']==param_grid_exog['month']==param_grid_exog['holidays'] and \n",
    "not param_grid_exog['month'][0]), \"The 'weekday', 'month' or 'holidays' items are not correct.\"\n",
    "assert isinstance(param_grid_exog['rolling'][0],list) and len(param_grid_exog['rolling'][0])==0, \"The 'rolling' item is not correct.\""
   ]
  },
  {
   "cell_type": "markdown",
   "metadata": {
    "deletable": false,
    "editable": false,
    "nbgrader": {
     "grade": false,
     "grade_id": "cell-313300d89b4de364",
     "locked": true,
     "schema_version": 3,
     "solution": false,
     "task": false
    }
   },
   "source": [
    "### Exercise 3.2 - Hyperparameter optimization with the exogenous variable\n",
    "Perform a grid search for the multi-step forecast with the exogenous variable using the parameter grid from the previous exercise. Use the `df_multistep_train` data for training and `df_multistep_val` data for validation. Calculate MAE for each model outcome. Store the results in the list `grid_search_result_exog`. Each entry should be a tuple of the parameter set (a dictionary) and the corresponding MAE.\n",
    "\n",
    "Finally, find the parameter set with the smallest MAE and store it in the `best_params_exog` dictionary."
   ]
  },
  {
   "cell_type": "code",
   "execution_count": null,
   "metadata": {
    "deletable": false,
    "nbgrader": {
     "grade": false,
     "grade_id": "cell-6c983f67ee265330",
     "locked": false,
     "schema_version": 3,
     "solution": true,
     "task": false
    }
   },
   "outputs": [],
   "source": [
    "%%time \n",
    "# grid_search_result_exog = []\n",
    "# best_params_exog = \n",
    "\n",
    "# YOUR CODE HERE\n",
    "raise NotImplementedError()"
   ]
  },
  {
   "cell_type": "code",
   "execution_count": null,
   "metadata": {
    "deletable": false,
    "editable": false,
    "nbgrader": {
     "grade": true,
     "grade_id": "cell-6dd1148ea40f25ae",
     "locked": true,
     "points": 2,
     "schema_version": 3,
     "solution": false,
     "task": false
    }
   },
   "outputs": [],
   "source": [
    "assert isinstance(grid_search_result_exog, list), 'The result should be a list.'\n",
    "assert len(grid_search_result_exog)==4, 'The length of the results list is not correct.'\n",
    "assert isinstance(best_params_exog, dict), 'best_params should be a dictionary.'\n",
    "assert len(best_params_exog)==8, 'The length of the best_params dictionary is not correct.'\n",
    "assert hashlib.sha256(json.dumps(best_params_exog['num_lags']).encode()).hexdigest() == \\\n",
    "'4e07408562bedb8b60ce05c1decfe3ad16b72230967de01f640b7e4729b49fce', 'The num_lags parameter is not correct.'\n",
    "assert hashlib.sha256(json.dumps(str(best_params_exog['model'])).encode()).hexdigest() == \\\n",
    "'6806292b7854910f566b0af0e8b5f8e0516decce03414eb2b84e065d72a6def7', 'The model parameter is not correct.'"
   ]
  },
  {
   "cell_type": "markdown",
   "metadata": {
    "deletable": false,
    "editable": false,
    "nbgrader": {
     "grade": false,
     "grade_id": "cell-a825d87a0ecbb67f",
     "locked": true,
     "schema_version": 3,
     "solution": false,
     "task": false
    }
   },
   "source": [
    "### Exercise 3.3 - Best model with the exogenous variable\n",
    "Merge the train and val data sets and train the best model from the grid search with the exogenous variable on this data. Then make a forecast for the test set and calculate the MAE. Store the results in the corresponding variables."
   ]
  },
  {
   "cell_type": "code",
   "execution_count": null,
   "metadata": {
    "deletable": false,
    "nbgrader": {
     "grade": false,
     "grade_id": "cell-ba499840582e0370",
     "locked": false,
     "schema_version": 3,
     "solution": true,
     "task": false
    }
   },
   "outputs": [],
   "source": [
    "# forecast_multi_step_exog = \n",
    "# mae_multi_step_exog = \n",
    "\n",
    "# YOUR CODE HERE\n",
    "raise NotImplementedError()"
   ]
  },
  {
   "cell_type": "code",
   "execution_count": null,
   "metadata": {
    "deletable": false,
    "editable": false,
    "nbgrader": {
     "grade": true,
     "grade_id": "cell-ea25874a3f4da77f",
     "locked": true,
     "points": 2,
     "schema_version": 3,
     "solution": false,
     "task": false
    }
   },
   "outputs": [],
   "source": [
    "assert len(forecast_multi_step_exog)==24, 'The length of the forecast is not correct.'\n",
    "assert hashlib.sha256(json.dumps(str(round(mae_multi_step_exog,4))).encode()).hexdigest() == \\\n",
    "'fd2bc78e311cafe2cd9ac06c513301a67d6dbd7ee4bda02834c4b51d225b59cd', 'The MAE is not correct.'"
   ]
  },
  {
   "cell_type": "markdown",
   "metadata": {
    "deletable": false,
    "editable": false,
    "nbgrader": {
     "grade": false,
     "grade_id": "cell-fa7547ebc9d8804a",
     "locked": true,
     "schema_version": 3,
     "solution": false,
     "task": false
    }
   },
   "source": [
    "Plot your forecast below."
   ]
  },
  {
   "cell_type": "code",
   "execution_count": null,
   "metadata": {
    "deletable": false,
    "editable": false,
    "nbgrader": {
     "grade": false,
     "grade_id": "cell-52e71244ab3c4af8",
     "locked": true,
     "schema_version": 3,
     "solution": false,
     "task": false
    }
   },
   "outputs": [],
   "source": [
    "plt.plot(test_wp, label='original')\n",
    "plt.plot(pd.Series(forecast_multi_step_exog,index=test_wp.index), label='multi-step forecast with exog')\n",
    "plt.xlabel('Time')\n",
    "plt.ylabel('Wind power')\n",
    "plt.legend();"
   ]
  },
  {
   "cell_type": "markdown",
   "metadata": {
    "deletable": false,
    "editable": false,
    "nbgrader": {
     "grade": false,
     "grade_id": "cell-9704cee54b5d4325",
     "locked": true,
     "schema_version": 3,
     "solution": false,
     "task": false
    }
   },
   "source": [
    "Definitely some improvement!\n",
    "\n",
    "Congratulations, you mastered all the time series spec exercises! Now get some datasets and practice for the hackathon."
   ]
  }
 ],
 "metadata": {
  "kernelspec": {
   "display_name": "Python 3 (ipykernel)",
   "language": "python",
   "name": "python3"
  },
  "language_info": {
   "codemirror_mode": {
    "name": "ipython",
    "version": 3
   },
   "file_extension": ".py",
   "mimetype": "text/x-python",
   "name": "python",
   "nbconvert_exporter": "python",
   "pygments_lexer": "ipython3",
   "version": "3.12.7"
  }
 },
 "nbformat": 4,
 "nbformat_minor": 4
}
