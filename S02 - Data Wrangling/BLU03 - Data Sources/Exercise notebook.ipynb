{
 "cells": [
  {
   "cell_type": "markdown",
   "metadata": {
    "deletable": false,
    "editable": false,
    "nbgrader": {
     "grade": false,
     "grade_id": "cell-1b6b75485105e36c",
     "locked": true,
     "schema_version": 3,
     "solution": false
    }
   },
   "source": [
    "# BLU03 - Exercises Notebook"
   ]
  },
  {
   "cell_type": "code",
   "execution_count": null,
   "metadata": {
    "deletable": false,
    "editable": false,
    "nbgrader": {
     "grade": false,
     "grade_id": "cell-ee9dcdd4eb1308b9",
     "locked": true,
     "schema_version": 3,
     "solution": false
    }
   },
   "outputs": [],
   "source": [
    "import hashlib # for grading purposes\n",
    "import json\n",
    "import math\n",
    "import numpy as np\n",
    "import pandas as pd\n",
    "import requests\n",
    "import sqlalchemy\n",
    "from bs4 import BeautifulSoup"
   ]
  },
  {
   "cell_type": "markdown",
   "metadata": {
    "deletable": false,
    "editable": false,
    "nbgrader": {
     "grade": false,
     "grade_id": "cell-cc67f3fcb340fbcd",
     "locked": true,
     "schema_version": 3,
     "solution": false
    }
   },
   "source": [
    "## Exercise 1 - Querying a StockDatabase with a SQL client\n",
    "\n",
    "In this exercise, you will write SQL queries to extract information from a database. Start by setting up your SQL client.\n",
    "\n",
    "Open your favorite SQL client and connect to the StockDatabase in the cloud.\n",
    "The connection settings are the following:\n",
    "\n",
    "* host: batch-s02.ctq2kxc7kx1i.eu-west-1.rds.amazonaws.com\n",
    "* port: 5432\n",
    "* user: ldsa_student\n",
    "* database: s02\n",
    "* schema: exercises\n",
    "* password: XXX (shared through slack)\n",
    "\n",
    "This is a different schema than the one we used in the learning notebooks (don't forget to change to this schema, see the Learning Notebook). This schema contains information about stock tickers, including their location, some financial information, and whether they are in certain indices.\n",
    "\n",
    "You can also connect to the same database in the SQLite format locally, using the file `data/StockDatabase`.\n",
    "\n",
    "The tables in the StockDatabase are the following:\n",
    "\n",
    "1. Stock: has information on ticker, company name, and sector and industry information.\n",
    "2. Financial: contains latest price and marketcap of all tickers.\n",
    "3. Location: contains information about the company location.\n",
    "4. Info: contains information about where the company is indexed (SP500 for example).\n",
    "\n",
    "You can preview these tables using the SQL client.\n",
    "\n",
    "**Note**:\n",
    "\n",
    "Some of the column names have to be written in **double** quotes in the queries. For example, the `Company` column in the `financial` table would be written `financial.\"Company\"`. Remember that the single quotes are reserved for writing strings."
   ]
  },
  {
   "cell_type": "markdown",
   "metadata": {
    "deletable": false,
    "editable": false,
    "nbgrader": {
     "grade": false,
     "grade_id": "cell-cc67f3fcb340fbcd",
     "locked": true,
     "schema_version": 3,
     "solution": false
    }
   },
   "source": [
    "### Exercise 1.1 - Ticker of ExlService Holdings, Inc.\n",
    "\n",
    "Write a query that selects the ticker of the company `ExlService Holdings, Inc.`, and run it in the SQL client.\n",
    "\n",
    "Assign the result to the variable `answer_1_1` (just copy and paste the ticker name from the query result)."
   ]
  },
  {
   "cell_type": "code",
   "execution_count": null,
   "metadata": {
    "deletable": false,
    "nbgrader": {
     "grade": false,
     "grade_id": "cell-03b22b93be7b587e",
     "locked": false,
     "schema_version": 3,
     "solution": true
    }
   },
   "outputs": [],
   "source": [
    "# answer_1_1 = ...\n",
    "# YOUR CODE HERE\n",
    "raise NotImplementedError()"
   ]
  },
  {
   "cell_type": "code",
   "execution_count": null,
   "metadata": {
    "deletable": false,
    "editable": false,
    "nbgrader": {
     "grade": true,
     "grade_id": "cell-92e8f002ca863db1",
     "locked": true,
     "points": 3,
     "schema_version": 3,
     "solution": false
    }
   },
   "outputs": [],
   "source": [
    "assert hashlib.sha256(json.dumps(answer_1_1).encode()).hexdigest() == '68717397e5ef59739a9d6d62efe5c1588e1632f82847dc9f7da8e250d0383979'"
   ]
  },
  {
   "cell_type": "markdown",
   "metadata": {
    "deletable": false,
    "editable": false,
    "nbgrader": {
     "grade": false,
     "grade_id": "cell-010c418f563b3408",
     "locked": true,
     "schema_version": 3,
     "solution": false
    }
   },
   "source": [
    "### Exercise 1.2 - Companies located in California\n",
    "\n",
    "Write a query that counts the number of companies that are located in the state of California - `CA`.\n",
    "\n",
    "Assign the result to the variable `answer_1_2`."
   ]
  },
  {
   "cell_type": "code",
   "execution_count": null,
   "metadata": {
    "deletable": false,
    "nbgrader": {
     "grade": false,
     "grade_id": "cell-be58fad2af1735bd",
     "locked": false,
     "schema_version": 3,
     "solution": true
    }
   },
   "outputs": [],
   "source": [
    "# answer_1_2 = ...\n",
    "# YOUR CODE HERE\n",
    "raise NotImplementedError()"
   ]
  },
  {
   "cell_type": "code",
   "execution_count": null,
   "metadata": {
    "deletable": false,
    "editable": false,
    "nbgrader": {
     "grade": true,
     "grade_id": "cell-1f2f87262d1b5fc4",
     "locked": true,
     "points": 3,
     "schema_version": 3,
     "solution": false
    }
   },
   "outputs": [],
   "source": [
    "assert hashlib.sha256(json.dumps(answer_1_2).encode()).hexdigest() == '891d46993a36d78392247c642138cede01d9841daab1d945709755b5194597c4'"
   ]
  },
  {
   "cell_type": "markdown",
   "metadata": {
    "deletable": false,
    "editable": false,
    "nbgrader": {
     "grade": false,
     "grade_id": "cell-010c418f565b3108",
     "locked": true,
     "schema_version": 3,
     "solution": false
    }
   },
   "source": [
    "### Exercise 1.3 - Texas healthcare companies with the highest lastprice\n",
    "\n",
    "Find the names of the 3 healthcare sector companies with the highest lastprice located in the state of Texas (`TX`).\n",
    "\n",
    "Hint: Be careful with the NULL values in `Lastprice`.\n",
    "\n",
    "The answer should be a list with the three company names, ordered by the lastprice in descending order. Assign it to the variable `answer_1_3`."
   ]
  },
  {
   "cell_type": "code",
   "execution_count": null,
   "metadata": {
    "deletable": false,
    "nbgrader": {
     "grade": false,
     "grade_id": "cell-3a7464176782e2cb",
     "locked": false,
     "schema_version": 3,
     "solution": true
    }
   },
   "outputs": [],
   "source": [
    "# answer_1_3 = ...\n",
    "# YOUR CODE HERE\n",
    "raise NotImplementedError()"
   ]
  },
  {
   "cell_type": "code",
   "execution_count": null,
   "metadata": {
    "deletable": false,
    "editable": false,
    "nbgrader": {
     "grade": true,
     "grade_id": "cell-f1f24a46b0d15dc9",
     "locked": true,
     "points": 2,
     "schema_version": 3,
     "solution": false
    }
   },
   "outputs": [],
   "source": [
    "assert hashlib.sha256(json.dumps(answer_1_3).encode()).hexdigest() == '74fb763ffbc8a38ed010df043114cb30d2be310583706031fb40a410c2f73f02'"
   ]
  },
  {
   "cell_type": "markdown",
   "metadata": {
    "deletable": false,
    "editable": false,
    "nbgrader": {
     "grade": false,
     "grade_id": "cell-f1ef8aaf001e8015",
     "locked": true,
     "schema_version": 3,
     "solution": false
    }
   },
   "source": [
    "### Exercise 1.4 - Industries with stocks in Nasdaq100 and a total marketcap below 50\n",
    "\n",
    "Write a query to retrieve the names of industries that have companies with stocks listed in the Nasdaq100 index and the total marketcap of all Nasdaq100 listed companies in the given industry is below 50.\n",
    "\n",
    "Order the results by the total marketcap in ascending order. Assign the list with the results to the variable `answer_1_4`."
   ]
  },
  {
   "cell_type": "code",
   "execution_count": null,
   "metadata": {
    "deletable": false,
    "nbgrader": {
     "grade": false,
     "grade_id": "cell-645c2fbe3b16c880",
     "locked": false,
     "schema_version": 3,
     "solution": true
    }
   },
   "outputs": [],
   "source": [
    "# answer_1_4 = \n",
    "# YOUR CODE HERE\n",
    "raise NotImplementedError()"
   ]
  },
  {
   "cell_type": "code",
   "execution_count": null,
   "metadata": {
    "deletable": false,
    "editable": false,
    "nbgrader": {
     "grade": true,
     "grade_id": "cell-41d99aabd53c87e7",
     "locked": true,
     "points": 2,
     "schema_version": 3,
     "solution": false
    }
   },
   "outputs": [],
   "source": [
    "assert hashlib.sha256(json.dumps(answer_1_4).encode()).hexdigest() == 'f58eb41b6b2a9ee7fb14edf0a9f81d4436dd7e0fda0a1c6cea4e004ee6d7df1e'"
   ]
  },
  {
   "cell_type": "markdown",
   "metadata": {
    "deletable": false,
    "editable": false,
    "nbgrader": {
     "grade": false,
     "grade_id": "cell-24c0142cc3082a0c",
     "locked": true,
     "schema_version": 3,
     "solution": false
    }
   },
   "source": [
    "### Exercise 1.5 - Maximum stock price of the state with the highest average marketcap of services\n",
    "\n",
    "Find out which state has the services sector companies with the highest average marketcap. Assign the answer to variable `answer_1_5_state`.\n",
    "\n",
    "Also find the maximum lastprice of the services companies in that state, rounded to 2 decimals, and assign the result to `answer_1_5_max_lastprice`."
   ]
  },
  {
   "cell_type": "code",
   "execution_count": null,
   "metadata": {
    "deletable": false,
    "nbgrader": {
     "grade": false,
     "grade_id": "cell-c5ef88aa51ea99f6",
     "locked": false,
     "schema_version": 3,
     "solution": true
    }
   },
   "outputs": [],
   "source": [
    "# answer_1_5_state = ...\n",
    "# answer_1_5_max_lastprice = ...\n",
    "# YOUR CODE HERE\n",
    "raise NotImplementedError()"
   ]
  },
  {
   "cell_type": "code",
   "execution_count": null,
   "metadata": {
    "deletable": false,
    "editable": false,
    "nbgrader": {
     "grade": true,
     "grade_id": "cell-f0f9a337b81de14a",
     "locked": true,
     "points": 2,
     "schema_version": 3,
     "solution": false
    }
   },
   "outputs": [],
   "source": [
    "assert hashlib.sha256(json.dumps(answer_1_5_state).encode()).hexdigest() == '37dccd18781685047dacce4826241dde6f22949aca3d6a5df9e303c588a4a5e5',\\\n",
    "'The state is not correct.'\n",
    "assert hashlib.sha256(json.dumps(answer_1_5_max_lastprice).encode()).hexdigest() == '7cc36706980eddc5cb15a663306ccc43dcb9bb2138b2978e3082e2e2e742e700',\\\n",
    "'The maximum lastprice is not correct.'"
   ]
  },
  {
   "cell_type": "markdown",
   "metadata": {
    "deletable": false,
    "editable": false,
    "nbgrader": {
     "grade": false,
     "grade_id": "cell-a63384ff91b49abf",
     "locked": true,
     "schema_version": 3,
     "solution": false
    }
   },
   "source": [
    "## Exercise 2 - Public APIs\n",
    "\n",
    "In this exercises, the goal is to get data from a public API. We'll go full geek, and use a Pokemon API hosted by the LDSA for this BLU! (credit for the data goes to user `fanzeyi` on Github)\n",
    "\n",
    "The base URL of the API is the following: https://pokemon-api.lisbondatascience.org/\n",
    "\n",
    "In order to complete the exercises, you'll have to navigate to the API's documentation (`ui` endpoint) in your browser. More specifically, you'll have to understand what are the different endpoints from which you can GET information.\n",
    "\n",
    "<img src=\"media/api-image.jpg\" width=400>"
   ]
  },
  {
   "cell_type": "markdown",
   "metadata": {
    "deletable": false,
    "editable": false,
    "nbgrader": {
     "grade": false,
     "grade_id": "cell-a63384ff91b49abf",
     "locked": true,
     "schema_version": 3,
     "solution": false
    }
   },
   "source": [
    "### Exercise 2.1 - Find all of Pikachu's evolutions!\n",
    "\n",
    "As you might know, Pokemon evolve as they grow. Some Pokemon keep a similar name when they evolve. Let's consider the most famous Pokemon, Pikachu:\n",
    "\n",
    "<img src=\"media/pikachu.png\" width=200>\n",
    "\n",
    "Use the API to find all Pikachu's evolutions! The names of Pikachu evolutions all end in `chu`, so you need to get the pokemons whose names contain that substring. However, you'll also have to filter for \"Electric\" type Pokemon, since there are a couple of results unrelated to Pikachu.\n",
    "\n",
    "Extract their ids from the `[\"id\"]` attribute of each result, in the order they are returned, and assign the resulting list to the `answer_2_1_ids` variable.\n",
    "Also extract their attack scores (`[\"base\"][\"Attack\"]`) and assign the list to the variable `answer_2_1_attack`."
   ]
  },
  {
   "cell_type": "code",
   "execution_count": null,
   "metadata": {
    "deletable": false,
    "nbgrader": {
     "grade": false,
     "grade_id": "cell-b3fbb5fc9e8f475e",
     "locked": false,
     "schema_version": 3,
     "solution": true,
     "task": false
    }
   },
   "outputs": [],
   "source": [
    "# answer_2_1_ids = ...\n",
    "# answer_2_1_attack = ...\n",
    "\n",
    "# YOUR CODE HERE\n",
    "raise NotImplementedError()"
   ]
  },
  {
   "cell_type": "code",
   "execution_count": null,
   "metadata": {
    "deletable": false,
    "editable": false,
    "nbgrader": {
     "grade": true,
     "grade_id": "cell-50d051ce26525944",
     "locked": true,
     "points": 2,
     "schema_version": 3,
     "solution": false,
     "task": false
    }
   },
   "outputs": [],
   "source": [
    "assert isinstance(answer_2_1_ids,list), \"Ids should be in a list\"\n",
    "assert isinstance(answer_2_1_attack,list), \"Attacks should be in a list\"\n",
    "assert hashlib.sha256(json.dumps(answer_2_1_ids).encode()).hexdigest() == 'a160dccf2a5c35ac2760e9846997d5898bd6474af6fe776da487c5ed6b2961e5',\\\n",
    "'The ids are not correct.'\n",
    "assert hashlib.sha256(json.dumps(answer_2_1_attack).encode()).hexdigest() == '4ab8649e9e835ddbcafe15be29b95ff7994be34434a366ac731add7a53b12921',\\\n",
    "'The attack scores are not correct.'"
   ]
  },
  {
   "cell_type": "markdown",
   "metadata": {
    "deletable": false,
    "editable": false,
    "nbgrader": {
     "grade": false,
     "grade_id": "cell-90ff2db8962c1d5b",
     "locked": true,
     "schema_version": 3,
     "solution": false
    }
   },
   "source": [
    "### Exercise 2.2 - Find the strongest and most accurate Pokemon move!\n",
    "\n",
    "Now, use a different endpoint to find out which Pokemon moves have an `accuracy` at least 95  and `power` of 200 or higher.\n",
    "\n",
    "Extract their `enames` (english names) and `types` and assign the resulting lists to variables `answer_2_2_names` and `answer_2_2_types` respectively."
   ]
  },
  {
   "cell_type": "code",
   "execution_count": null,
   "metadata": {
    "deletable": false,
    "nbgrader": {
     "grade": false,
     "grade_id": "cell-3c68a66b3b6b56d0",
     "locked": false,
     "schema_version": 3,
     "solution": true,
     "task": false
    }
   },
   "outputs": [],
   "source": [
    "# answer_2_2_names = ...\n",
    "# answer_2_2_types = ...\n",
    "# YOUR CODE HERE\n",
    "raise NotImplementedError()"
   ]
  },
  {
   "cell_type": "code",
   "execution_count": null,
   "metadata": {
    "deletable": false,
    "editable": false,
    "nbgrader": {
     "grade": true,
     "grade_id": "cell-15c07449c3238657",
     "locked": true,
     "points": 2,
     "schema_version": 3,
     "solution": false,
     "task": false
    }
   },
   "outputs": [],
   "source": [
    "assert isinstance(answer_2_2_names,list), \"Moves names should be in a list!\"\n",
    "assert len(answer_2_2_names) == 2, \"Wrong number of moves!\"\n",
    "assert hashlib.sha256(json.dumps(answer_2_2_names).encode()).hexdigest() == \\\n",
    "'5138c6a92b4189cd87d795605749d8e8e2b629acc5993efff5b41f1f3b6cf63e', 'The moves are not correct.'\n",
    "assert isinstance(answer_2_2_types,list), \"Moves types should be in a list!\"\n",
    "assert len(answer_2_2_types) == 2, \"Wrong number of types!\"\n",
    "assert hashlib.sha256(json.dumps(answer_2_2_types).encode()).hexdigest() == \\\n",
    "'a7cca1429c8b722ff02ee415abafaae6df976356ef452b38da51f75902d329b8', 'The types are not correct.'"
   ]
  },
  {
   "cell_type": "markdown",
   "metadata": {
    "deletable": false,
    "editable": false,
    "nbgrader": {
     "grade": false,
     "grade_id": "cell-91ec6c1c0bc1f4f5",
     "locked": true,
     "schema_version": 3,
     "solution": false
    }
   },
   "source": [
    "## Exercise 3 - Web scraping\n",
    "\n",
    "In this exercise, we're going to use web scraping to get data from the page of a former LDSA student, Bork Pawson!\n",
    "Bork has kindly made his very simple and amateurish website available for us to scrape.\n",
    "\n",
    "You can find his website here: https://s02-infrastructure.s3.eu-west-1.amazonaws.com/ldsa-bork/index.html"
   ]
  },
  {
   "cell_type": "markdown",
   "metadata": {
    "deletable": false,
    "editable": false,
    "nbgrader": {
     "grade": false,
     "grade_id": "cell-91ec6c1c0bc1f4f5",
     "locked": true,
     "schema_version": 3,
     "solution": false
    }
   },
   "source": [
    "### Exercise 3.1 - Scrape Bork's AWESOME honourable mentions\n",
    "\n",
    "Bork has written 3 things that didn't fit in the webpage. You can find them listed on the top of the images.\n",
    "Scrape the 3 items in order, using the `requests` and `BeautifulSoup` library, store them in a list, and assign it to the `answer_3_1` variable. No cheating! "
   ]
  },
  {
   "cell_type": "code",
   "execution_count": null,
   "metadata": {
    "deletable": false,
    "nbgrader": {
     "grade": false,
     "grade_id": "cell-362ea675c44a647c",
     "locked": false,
     "schema_version": 3,
     "solution": true,
     "task": false
    }
   },
   "outputs": [],
   "source": [
    "# answer_3_1 = ...\n",
    "# YOUR CODE HERE\n",
    "raise NotImplementedError()"
   ]
  },
  {
   "cell_type": "code",
   "execution_count": null,
   "metadata": {
    "deletable": false,
    "editable": false,
    "nbgrader": {
     "grade": true,
     "grade_id": "cell-335a90721257cd1a",
     "locked": true,
     "points": 2,
     "schema_version": 3,
     "solution": false
    }
   },
   "outputs": [],
   "source": [
    "assert hashlib.sha256(json.dumps(answer_3_1).encode()).hexdigest() == \\\n",
    "'cbf54d9cf5e5d4e010b45e09b70d576efa5930f934ce31975d2a2d2cedbf12be', 'The list is not correct.'"
   ]
  },
  {
   "cell_type": "markdown",
   "metadata": {
    "deletable": false,
    "editable": false,
    "nbgrader": {
     "grade": false,
     "grade_id": "cell-ff83f6395e265feb",
     "locked": true,
     "schema_version": 3,
     "solution": false
    }
   },
   "source": [
    "### Exercise 3.2 - Find the tennis ball tag\n",
    "\n",
    "Scrape the tag containing the tennis ball image that is in the center of the grid with Bork's favourite things.\n",
    "Assign the tag (not the image content) to the variable `answer_3_2`.\n",
    "\n",
    "Note: You'll have to find a different way to pass the attribute you want to filter, since the attribute name conflicts with an argument of the `find` function. You can figure out how to do this in the [BeautifulSoup documentation](https://beautiful-soup-4.readthedocs.io/en/latest/index.html?highlight=find#the-keyword-arguments)!"
   ]
  },
  {
   "cell_type": "code",
   "execution_count": null,
   "metadata": {
    "deletable": false,
    "nbgrader": {
     "grade": false,
     "grade_id": "cell-88e2603722dac1e3",
     "locked": false,
     "schema_version": 3,
     "solution": true
    }
   },
   "outputs": [],
   "source": [
    "# answer_3_2 = ...\n",
    "# YOUR CODE HERE\n",
    "raise NotImplementedError()"
   ]
  },
  {
   "cell_type": "code",
   "execution_count": null,
   "metadata": {
    "deletable": false,
    "editable": false,
    "nbgrader": {
     "grade": true,
     "grade_id": "cell-f78d31cd4e4779eb",
     "locked": true,
     "points": 2,
     "schema_version": 3,
     "solution": false
    },
    "pycharm": {
     "name": "#%%\n"
    }
   },
   "outputs": [],
   "source": [
    "assert hashlib.sha256(json.dumps(str(answer_3_2)).encode()).hexdigest() == \\\n",
    "'cafa2dfc0195df835aee9f9d4437c24ac27af69446a5aa97dc83e73ada3da3b7', 'The tag is not correct.'"
   ]
  }
 ],
 "metadata": {
  "kernelspec": {
   "display_name": "Python 3 (ipykernel)",
   "language": "python",
   "name": "python3"
  },
  "language_info": {
   "codemirror_mode": {
    "name": "ipython",
    "version": 3
   },
   "file_extension": ".py",
   "mimetype": "text/x-python",
   "name": "python",
   "nbconvert_exporter": "python",
   "pygments_lexer": "ipython3",
   "version": "3.12.7"
  }
 },
 "nbformat": 4,
 "nbformat_minor": 4
}
