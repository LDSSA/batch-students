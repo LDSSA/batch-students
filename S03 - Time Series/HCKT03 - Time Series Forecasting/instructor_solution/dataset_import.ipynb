{
 "cells": [
  {
   "cell_type": "markdown",
   "id": "1e5a5847",
   "metadata": {},
   "source": [
    "## Setup"
   ]
  },
  {
   "cell_type": "code",
   "execution_count": null,
   "id": "922103c8",
   "metadata": {},
   "outputs": [],
   "source": [
    "import numpy as np\n",
    "import pandas as pd \n",
    "from matplotlib import pyplot as plt \n",
    "import matplotlib\n",
    "import os"
   ]
  },
  {
   "cell_type": "markdown",
   "id": "525d7dce",
   "metadata": {},
   "source": [
    "Fetch yearly archives from AWS\n",
    "```\n",
    "aws s3 cp --no-sign-request --recursive s3://openaq-data-archive/records/csv.gz/locationid=1214510/year=2023/ ./data/2023/location-1214510\n",
    "aws s3 cp --no-sign-request --recursive s3://openaq-data-archive/records/csv.gz/locationid=1214721/year=2023/ ./data/2023/location-1214721\n",
    "aws s3 cp --no-sign-request --recursive s3://openaq-data-archive/records/csv.gz/locationid=1214722/year=2023/ ./data/2023/location-1214722\n",
    "```"
   ]
  },
  {
   "cell_type": "markdown",
   "id": "ccad2021",
   "metadata": {},
   "source": [
    "## Config"
   ]
  },
  {
   "cell_type": "code",
   "execution_count": null,
   "id": "ccc67490",
   "metadata": {},
   "outputs": [],
   "source": [
    "locations = ['1214510', '1214721', '1214722']\n",
    "path_data = '../data'\n",
    "path_portal = '../portal'\n",
    "path_is = '../instructor_solution'\n",
    "year = 2023\n",
    "dataset_path_orig = f'{path_is}/dataset_orig.csv'"
   ]
  },
  {
   "cell_type": "code",
   "execution_count": null,
   "id": "31f76822",
   "metadata": {},
   "outputs": [],
   "source": [
    "for item in [path_data, path_portal, path_is]:\n",
    "    os.makedirs(item, exist_ok=True)"
   ]
  },
  {
   "cell_type": "markdown",
   "id": "3d70dc96",
   "metadata": {},
   "source": [
    "## Data import"
   ]
  },
  {
   "cell_type": "code",
   "execution_count": null,
   "id": "8fbb496d",
   "metadata": {},
   "outputs": [],
   "source": [
    "if os.path.isfile(dataset_path_orig):\n",
    "    combined_df = pd.read_csv(dataset_path_orig)\n",
    "    print(f'imported dataframe from {dataset_path_orig}')\n",
    "    \n",
    "else:\n",
    "    dataframes = []\n",
    "    for loc in locations:\n",
    "\n",
    "        root_folder = f\"{path_data}/{str(year)}/location-{loc}\"\n",
    "        for subdir, _, files in os.walk(root_folder):\n",
    "            for file in files:\n",
    "\n",
    "                if file.endswith(\".csv.gz\"):\n",
    "                    file_path = os.path.join(subdir, file)\n",
    "                    try:\n",
    "                        df = pd.read_csv(file_path)\n",
    "                        dataframes.append(df)\n",
    "\n",
    "                    except Exception as e:\n",
    "                        print(f\"Error reading {file_path}: {e}\")\n",
    "\n",
    "    if dataframes:\n",
    "        combined_df = pd.concat(dataframes, ignore_index=True)\n",
    "        print(f\"{len(dataframes)} days imported into dataframe shape:{combined_df.shape}\")\n",
    "        \n",
    "        combined_df.to_csv(dataset_path_orig, index=False)\n",
    "        print(f'exported dataframe to {dataset_path_orig}')\n",
    "        \n",
    "    else:\n",
    "        print(\"No dataframes to combine.\")"
   ]
  },
  {
   "cell_type": "code",
   "execution_count": null,
   "id": "50ad6734",
   "metadata": {},
   "outputs": [],
   "source": [
    "# rename sites\n",
    "combined_df = combined_df.rename(columns={'location_id': 'site_id'})\n",
    "lookup = {\n",
    "    location_id: f'site_{str(idx+1)}'\n",
    "    for idx, location_id in enumerate(combined_df['site_id'].unique())\n",
    "}\n",
    "combined_df.site_id = combined_df.site_id.apply(lambda x: lookup[x])\n",
    "\n",
    "# setup multi-index\n",
    "combined_df.datetime = pd.to_datetime(combined_df.datetime).dt.tz_localize(None)\n",
    "combined_df = combined_df.set_index(['datetime', 'site_id'], drop=True).sort_index()\n",
    "\n",
    "assert len(combined_df)>0\n",
    "\n",
    "combined_df.head()"
   ]
  },
  {
   "cell_type": "markdown",
   "id": "a86b3d0a",
   "metadata": {},
   "source": [
    "## Sanity check for multi-index\n",
    "\n",
    "Ensuring the index covers all hourly datetime and locations"
   ]
  },
  {
   "cell_type": "code",
   "execution_count": null,
   "id": "ddba8a31",
   "metadata": {},
   "outputs": [],
   "source": [
    "hourly_index = combined_df.index.levels[0].to_series().asfreq('h').index\n",
    "location_ids = combined_df.index.levels[1]\n",
    "hourly_index = pd.MultiIndex.from_product(\n",
    "    [hourly_index, location_ids], names=['datetime', 'site_id']\n",
    ")\n",
    "cols = ['pm25','nox']\n",
    "\n",
    "df = pd.DataFrame(index=hourly_index, columns=cols)\n",
    "for col in cols:\n",
    "    my_df = combined_df[combined_df['parameter']==col]\n",
    "    df.loc[my_df.index,col] = my_df.loc[my_df.index, 'value']\n",
    "\n",
    "print(len(df))\n",
    "df.head()"
   ]
  },
  {
   "cell_type": "markdown",
   "id": "cc9400c6",
   "metadata": {},
   "source": [
    "## Generate `nox` forecast"
   ]
  },
  {
   "cell_type": "code",
   "execution_count": null,
   "id": "3fc3466f",
   "metadata": {},
   "outputs": [],
   "source": [
    "df_spatial_nox = df.groupby('datetime').mean()['nox']\n",
    "df_spatial_nox.name = 'exog'\n",
    "# df_spatial_nox = df_spatial_nox.loc['2023-12-12 22:00:00':'2023-12-24 02:00:00']\n",
    "df_spatial_nox = pd.to_numeric(df_spatial_nox, errors='coerce')\n",
    "df_spatial_nox_last = df_spatial_nox.loc['2023-12-15':'2023-12-24 23:00:00']\n",
    "\n",
    "# Interpolate (linear) with missing values\n",
    "df_spatial_nox = df_spatial_nox.interpolate(method='linear')\n",
    "\n",
    "# Add scaled brownian noise\n",
    "np.random.seed(42)\n",
    "brownian_noise = np.cumsum(np.random.normal(loc=0, scale=2, size=len(df_spatial_nox)))\n",
    "scale_factor = 0.025 * (df_spatial_nox.max() - df_spatial_nox.min())\n",
    "brownian_noise = scale_factor * brownian_noise / np.max(np.abs(brownian_noise))\n",
    "brownian_noise -= brownian_noise.mean()\n",
    "\n",
    "df_spatial_nox += brownian_noise\n",
    "\n",
    "# Interpolate with exponentially weighted moving average\n",
    "alpha = 0.3\n",
    "df_spatial_nox_forward = df_spatial_nox.ewm(alpha=alpha).mean()\n",
    "df_spatial_nox_backward = df_spatial_nox[::-1].ewm(alpha=alpha).mean()\n",
    "\n",
    "df_forecast_nox = (df_spatial_nox_forward + df_spatial_nox_backward) / 2.\n",
    "df_forecast_nox_last = df_forecast_nox.loc['2023-12-15':'2023-12-24 23:00:00']\n",
    "\n",
    "df_forecast_nox_last.plot(label=\"Forecast\", figsize=(12, 4))\n",
    "df_spatial_nox_last.plot(label=\"Original\")\n",
    "plt.title(\"NOx Forecast\")\n",
    "plt.legend()\n",
    "plt.xlabel(\"Datetime\")\n",
    "plt.ylabel(\"NOx\")\n",
    "plt.show()"
   ]
  },
  {
   "cell_type": "code",
   "execution_count": null,
   "id": "9ee94e25",
   "metadata": {},
   "outputs": [],
   "source": [
    "df_forecast_nox_last"
   ]
  },
  {
   "cell_type": "code",
   "execution_count": null,
   "id": "a5802643",
   "metadata": {},
   "outputs": [],
   "source": [
    "df_ref_pm25 = df.groupby('datetime').mean()['pm25']\n",
    "df_ref_pm25 = df_ref_pm25.loc['2023-12-14 21:00:00':'2023-12-25 02:00:00']\n",
    "df_ref_pm25 = pd.to_numeric(df_ref_pm25, errors='coerce')\n",
    "df_ref_pm25 = df_ref_pm25.loc['2023-12-15':'2023-12-24 23:00:00']\n",
    "\n",
    "df_ref_pm25"
   ]
  },
  {
   "cell_type": "markdown",
   "id": "f2d0d5a5",
   "metadata": {},
   "source": [
    "# Export dataset"
   ]
  },
  {
   "cell_type": "markdown",
   "id": "c0e112b2",
   "metadata": {},
   "source": [
    "## Reference data"
   ]
  },
  {
   "cell_type": "code",
   "execution_count": null,
   "id": "e1ec9dc8",
   "metadata": {},
   "outputs": [],
   "source": [
    "filepath = f'{path_is}/dataset_ref.csv'\n",
    "df.to_csv(filepath, index=True)\n",
    "print(f'dataset reference exported to {filepath}')\n",
    "\n",
    "filepath = f'{path_portal}/data'\n",
    "df_ref_pm25.to_csv(filepath, index=False, header=False, float_format='%.1f')\n",
    "print(f'test reference exported to {filepath}')"
   ]
  },
  {
   "cell_type": "markdown",
   "id": "880ab08e",
   "metadata": {},
   "source": [
    "### Student data"
   ]
  },
  {
   "cell_type": "code",
   "execution_count": null,
   "id": "1a5f3d91",
   "metadata": {},
   "outputs": [],
   "source": [
    "idx = pd.IndexSlice\n",
    "\n",
    "df_export = df.loc[idx['2023-08-01':'2023-12-14 23:00:00']].sort_index()\n",
    "df_export_forecast = df_forecast_nox.loc[idx['2023-08-01':'2023-12-24 23:00:00']].sort_index()"
   ]
  },
  {
   "cell_type": "code",
   "execution_count": null,
   "id": "af527aeb",
   "metadata": {},
   "outputs": [],
   "source": [
    "filepath = f'{path_data}/train.csv'\n",
    "df_export.to_csv(filepath, index=True)\n",
    "print(f'dataset exported to {filepath}')\n",
    "\n",
    "filepath = f'{path_data}/nox_forecast.csv'\n",
    "df_export_forecast.to_csv(filepath, index=True, float_format='%.3f')\n",
    "print(f'nox forecast exported to {filepath}')\n",
    "\n",
    "np.random.seed(42)\n",
    "noise = np.random.normal(loc=df_ref_pm25.mean(), scale=df_ref_pm25.std(), size=len(df_ref_pm25))\n",
    "df_sample = pd.DataFrame(index=df_ref_pm25.index, data=np.abs(noise))\n",
    "filepath = f'{path_data}/sample_submission.csv'\n",
    "df_sample.to_csv(filepath, index=False, header=False, float_format='%.1f')\n",
    "print(f'sample submission to {filepath}')"
   ]
  },
  {
   "cell_type": "code",
   "execution_count": null,
   "id": "0137157c",
   "metadata": {},
   "outputs": [],
   "source": [
    "df_export"
   ]
  },
  {
   "cell_type": "code",
   "execution_count": null,
   "id": "223d67a2",
   "metadata": {},
   "outputs": [],
   "source": [
    "df_export_forecast"
   ]
  }
 ],
 "metadata": {
  "kernelspec": {
   "display_name": "Python 3 (ipykernel)",
   "language": "python",
   "name": "python3"
  },
  "language_info": {
   "codemirror_mode": {
    "name": "ipython",
    "version": 3
   },
   "file_extension": ".py",
   "mimetype": "text/x-python",
   "name": "python",
   "nbconvert_exporter": "python",
   "pygments_lexer": "ipython3",
   "version": "3.10.16"
  }
 },
 "nbformat": 4,
 "nbformat_minor": 5
}
