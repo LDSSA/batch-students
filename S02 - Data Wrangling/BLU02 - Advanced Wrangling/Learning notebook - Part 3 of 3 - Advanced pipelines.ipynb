{
 "cells": [
  {
   "cell_type": "markdown",
   "metadata": {},
   "source": [
    "# BLU02 - Learning Notebook - Part 3 of 3 - Advanced pipelines\n",
    "\n",
    "In this notebook, we return to pipelines that we briefly presented in SLU16 and take a deeper dive."
   ]
  },
  {
   "cell_type": "code",
   "execution_count": 1,
   "metadata": {},
   "outputs": [],
   "source": [
    "import matplotlib.pyplot as plt\n",
    "\n",
    "import pandas as pd\n",
    "import os\n",
    "\n",
    "from category_encoders.ordinal import OrdinalEncoder\n",
    "\n",
    "from sklearn.model_selection import train_test_split\n",
    "from sklearn.preprocessing import FunctionTransformer\n",
    "from sklearn.pipeline import Pipeline, make_pipeline\n",
    "from sklearn.base import BaseEstimator, TransformerMixin\n",
    "from sklearn.impute import SimpleImputer\n",
    "from sklearn.cluster import KMeans"
   ]
  },
  {
   "cell_type": "markdown",
   "metadata": {},
   "source": [
    "## 1. Why pipelines?\n",
    "Where we are at this point:\n",
    "* we are able to perform transformations on data, setting up tranformation pipelines using nothing but chained pandas operations\n",
    "* we can combine different dataframes to extract information distributed in different tables.\n",
    "\n",
    "Remember our workflow diagram? Let's look at it again."
   ]
  },
  {
   "cell_type": "markdown",
   "metadata": {},
   "source": [
    "![data_transformation_workflow](./media/data_processing_workflow.png)"
   ]
  },
  {
   "cell_type": "markdown",
   "metadata": {},
   "source": [
    "After transformations, we want to feed our data to models. A standard workflow starts with splitting the data into a train and test set, so let's do that.\n",
    "\n",
    "We will use the `works` dataset."
   ]
  },
  {
   "cell_type": "code",
   "execution_count": 2,
   "metadata": {},
   "outputs": [
    {
     "data": {
      "text/html": [
       "<div>\n",
       "<style scoped>\n",
       "    .dataframe tbody tr th:only-of-type {\n",
       "        vertical-align: middle;\n",
       "    }\n",
       "\n",
       "    .dataframe tbody tr th {\n",
       "        vertical-align: top;\n",
       "    }\n",
       "\n",
       "    .dataframe thead th {\n",
       "        text-align: right;\n",
       "    }\n",
       "</style>\n",
       "<table border=\"1\" class=\"dataframe\">\n",
       "  <thead>\n",
       "    <tr style=\"text-align: right;\">\n",
       "      <th></th>\n",
       "      <th>GUID</th>\n",
       "      <th>ProgramID</th>\n",
       "      <th>WorkID</th>\n",
       "      <th>MovementID</th>\n",
       "      <th>ComposerName</th>\n",
       "      <th>WorkTitle</th>\n",
       "      <th>Movement</th>\n",
       "      <th>ConductorName</th>\n",
       "      <th>Interval</th>\n",
       "      <th>isInterval</th>\n",
       "    </tr>\n",
       "  </thead>\n",
       "  <tbody>\n",
       "    <tr>\n",
       "      <th>0</th>\n",
       "      <td>38e072a7-8fc9-4f9a-8eac-3957905c0002</td>\n",
       "      <td>3853</td>\n",
       "      <td>52446</td>\n",
       "      <td>NaN</td>\n",
       "      <td>Beethoven,  Ludwig  van</td>\n",
       "      <td>SYMPHONY NO. 5 IN C MINOR, OP.67</td>\n",
       "      <td>NaN</td>\n",
       "      <td>Hill, Ureli Corelli</td>\n",
       "      <td>NaN</td>\n",
       "      <td>False</td>\n",
       "    </tr>\n",
       "    <tr>\n",
       "      <th>1</th>\n",
       "      <td>c7b2b95c-5e0b-431c-a340-5b37fc860b34</td>\n",
       "      <td>5178</td>\n",
       "      <td>52437</td>\n",
       "      <td>NaN</td>\n",
       "      <td>Beethoven,  Ludwig  van</td>\n",
       "      <td>SYMPHONY NO. 3 IN E FLAT MAJOR, OP. 55 (EROICA)</td>\n",
       "      <td>NaN</td>\n",
       "      <td>Hill, Ureli Corelli</td>\n",
       "      <td>NaN</td>\n",
       "      <td>False</td>\n",
       "    </tr>\n",
       "    <tr>\n",
       "      <th>2</th>\n",
       "      <td>894e1a52-1ae5-4fa7-aec0-b99997555a37</td>\n",
       "      <td>10785</td>\n",
       "      <td>52364</td>\n",
       "      <td>1.0</td>\n",
       "      <td>Beethoven,  Ludwig  van</td>\n",
       "      <td>EGMONT, OP.84</td>\n",
       "      <td>Overture</td>\n",
       "      <td>Hill, Ureli Corelli</td>\n",
       "      <td>NaN</td>\n",
       "      <td>False</td>\n",
       "    </tr>\n",
       "    <tr>\n",
       "      <th>3</th>\n",
       "      <td>34ec2c2b-3297-4716-9831-b538310462b7</td>\n",
       "      <td>5887</td>\n",
       "      <td>52434</td>\n",
       "      <td>NaN</td>\n",
       "      <td>Beethoven,  Ludwig  van</td>\n",
       "      <td>SYMPHONY NO. 2 IN D MAJOR, OP.36</td>\n",
       "      <td>NaN</td>\n",
       "      <td>Boucher, Alfred</td>\n",
       "      <td>NaN</td>\n",
       "      <td>False</td>\n",
       "    </tr>\n",
       "    <tr>\n",
       "      <th>4</th>\n",
       "      <td>610a4acc-94e4-4cd6-bdc1-8ad020edc7e9</td>\n",
       "      <td>305</td>\n",
       "      <td>52453</td>\n",
       "      <td>NaN</td>\n",
       "      <td>Beethoven,  Ludwig  van</td>\n",
       "      <td>SYMPHONY NO. 7 IN A MAJOR, OP.92</td>\n",
       "      <td>NaN</td>\n",
       "      <td>Hill, Ureli Corelli</td>\n",
       "      <td>NaN</td>\n",
       "      <td>False</td>\n",
       "    </tr>\n",
       "  </tbody>\n",
       "</table>\n",
       "</div>"
      ],
      "text/plain": [
       "                                   GUID  ProgramID  WorkID  MovementID  \\\n",
       "0  38e072a7-8fc9-4f9a-8eac-3957905c0002       3853   52446         NaN   \n",
       "1  c7b2b95c-5e0b-431c-a340-5b37fc860b34       5178   52437         NaN   \n",
       "2  894e1a52-1ae5-4fa7-aec0-b99997555a37      10785   52364         1.0   \n",
       "3  34ec2c2b-3297-4716-9831-b538310462b7       5887   52434         NaN   \n",
       "4  610a4acc-94e4-4cd6-bdc1-8ad020edc7e9        305   52453         NaN   \n",
       "\n",
       "              ComposerName                                        WorkTitle  \\\n",
       "0  Beethoven,  Ludwig  van                 SYMPHONY NO. 5 IN C MINOR, OP.67   \n",
       "1  Beethoven,  Ludwig  van  SYMPHONY NO. 3 IN E FLAT MAJOR, OP. 55 (EROICA)   \n",
       "2  Beethoven,  Ludwig  van                                    EGMONT, OP.84   \n",
       "3  Beethoven,  Ludwig  van                 SYMPHONY NO. 2 IN D MAJOR, OP.36   \n",
       "4  Beethoven,  Ludwig  van                 SYMPHONY NO. 7 IN A MAJOR, OP.92   \n",
       "\n",
       "   Movement        ConductorName Interval  isInterval  \n",
       "0       NaN  Hill, Ureli Corelli      NaN       False  \n",
       "1       NaN  Hill, Ureli Corelli      NaN       False  \n",
       "2  Overture  Hill, Ureli Corelli      NaN       False  \n",
       "3       NaN      Boucher, Alfred      NaN       False  \n",
       "4       NaN  Hill, Ureli Corelli      NaN       False  "
      ]
     },
     "execution_count": 2,
     "metadata": {},
     "output_type": "execute_result"
    }
   ],
   "source": [
    "works = pd.read_csv('./data/works.csv')\n",
    "works.head()"
   ]
  },
  {
   "cell_type": "code",
   "execution_count": 3,
   "metadata": {},
   "outputs": [
    {
     "name": "stdout",
     "output_type": "stream",
     "text": [
      "Train dataset: 61932 rows \n",
      "Test dataset: 20644 rows\n"
     ]
    }
   ],
   "source": [
    "X_train, X_test = train_test_split(works)\n",
    "print(f'Train dataset: {X_train.shape[0]} rows \\nTest dataset: {X_test.shape[0]} rows')"
   ]
  },
  {
   "cell_type": "markdown",
   "metadata": {},
   "source": [
    "In pandas transformations, we merely transform the original dataframe into a new one. But sometimes, this isn't possible. \n",
    "\n",
    "Let's start with an example: encoding categorical variables. Remember: we need to perform the same transformations on train and test data (and whatever data comes next).\n",
    "\n",
    "Below, we define a couple of transformations as we learned in the first notebook in this BLU. One is to remove the rows that are intervals, not real works, and drop the `Interval` and `isInterval` columns. Then we want to drop all ID columns and remove duplicates. Finally, we encode the categorical variable `ComposerName`. Then we encapsulate both transformations into the `transform_data` function."
   ]
  },
  {
   "cell_type": "code",
   "execution_count": 4,
   "metadata": {},
   "outputs": [],
   "source": [
    "def remove_intervals(df):\n",
    "    \"\"\"\n",
    "        This function removes the intervals from the dataframe\n",
    "    \"\"\"\n",
    "    df_ = df.copy()\n",
    "    mask = df_['Interval'].isnull()\n",
    "    df_ = (df_.loc[mask, :]\n",
    "            .drop(columns=['Interval','isInterval']))\n",
    "    return df_\n",
    "\n",
    "def drop_id_fields(df):\n",
    "    columns = ['GUID', 'ProgramID', 'WorkID', 'MovementID']\n",
    "    df_ = df.copy()\n",
    "    df_ = df_.drop(columns=columns).drop_duplicates()\n",
    "    return df_\n",
    "        \n",
    "def label_encoder(df, column):\n",
    "    \"\"\"\n",
    "        This function encodes a given categorical column\n",
    "    \"\"\"\n",
    "    df_ = df.copy()\n",
    "    df_[column + 'Encoded'] = df[column].astype('category').cat.codes\n",
    "    return df_\n",
    "\n",
    "def transform_data(df):\n",
    "    \"\"\"\n",
    "        This function transforms the dataframe by removing the intervals and\n",
    "        encoding the categorical columns\n",
    "    \"\"\"\n",
    "    df_ = df.copy()\n",
    "    df_ = (df_.pipe(remove_intervals)\n",
    "            .pipe(drop_id_fields)\n",
    "            .pipe(label_encoder, 'ComposerName'))\n",
    "    return df_"
   ]
  },
  {
   "cell_type": "markdown",
   "metadata": {},
   "source": [
    "Now we apply the tranformations to both test and train data. We are encoding the categorical variable `ComposerName`."
   ]
  },
  {
   "cell_type": "code",
   "execution_count": 5,
   "metadata": {},
   "outputs": [],
   "source": [
    "X_train_ = transform_data(X_train)\n",
    "X_test_ = transform_data(X_test)"
   ]
  },
  {
   "cell_type": "markdown",
   "metadata": {},
   "source": [
    "But wait, are we doing this right? We should apply the same transformations to train and test data and we don't seem to be doing that here.\n",
    "\n",
    "Let's check the `ComposerName` encoding for a random composer:"
   ]
  },
  {
   "cell_type": "code",
   "execution_count": 6,
   "metadata": {},
   "outputs": [
    {
     "data": {
      "text/html": [
       "<div>\n",
       "<style scoped>\n",
       "    .dataframe tbody tr th:only-of-type {\n",
       "        vertical-align: middle;\n",
       "    }\n",
       "\n",
       "    .dataframe tbody tr th {\n",
       "        vertical-align: top;\n",
       "    }\n",
       "\n",
       "    .dataframe thead th {\n",
       "        text-align: right;\n",
       "    }\n",
       "</style>\n",
       "<table border=\"1\" class=\"dataframe\">\n",
       "  <thead>\n",
       "    <tr style=\"text-align: right;\">\n",
       "      <th></th>\n",
       "      <th>ComposerName</th>\n",
       "      <th>ComposerNameEncoded</th>\n",
       "    </tr>\n",
       "  </thead>\n",
       "  <tbody>\n",
       "    <tr>\n",
       "      <th>22865</th>\n",
       "      <td>Berg,  Alban</td>\n",
       "      <td>179</td>\n",
       "    </tr>\n",
       "  </tbody>\n",
       "</table>\n",
       "</div>"
      ],
      "text/plain": [
       "       ComposerName  ComposerNameEncoded\n",
       "22865  Berg,  Alban                  179"
      ]
     },
     "execution_count": 6,
     "metadata": {},
     "output_type": "execute_result"
    }
   ],
   "source": [
    "X_train_.loc[X_train_.ComposerName=='Berg,  Alban',['ComposerName', 'ComposerNameEncoded']].head(1)"
   ]
  },
  {
   "cell_type": "code",
   "execution_count": 7,
   "metadata": {},
   "outputs": [
    {
     "data": {
      "text/html": [
       "<div>\n",
       "<style scoped>\n",
       "    .dataframe tbody tr th:only-of-type {\n",
       "        vertical-align: middle;\n",
       "    }\n",
       "\n",
       "    .dataframe tbody tr th {\n",
       "        vertical-align: top;\n",
       "    }\n",
       "\n",
       "    .dataframe thead th {\n",
       "        text-align: right;\n",
       "    }\n",
       "</style>\n",
       "<table border=\"1\" class=\"dataframe\">\n",
       "  <thead>\n",
       "    <tr style=\"text-align: right;\">\n",
       "      <th></th>\n",
       "      <th>ComposerName</th>\n",
       "      <th>ComposerNameEncoded</th>\n",
       "    </tr>\n",
       "  </thead>\n",
       "  <tbody>\n",
       "    <tr>\n",
       "      <th>68122</th>\n",
       "      <td>Berg,  Alban</td>\n",
       "      <td>91</td>\n",
       "    </tr>\n",
       "  </tbody>\n",
       "</table>\n",
       "</div>"
      ],
      "text/plain": [
       "       ComposerName  ComposerNameEncoded\n",
       "68122  Berg,  Alban                   91"
      ]
     },
     "execution_count": 7,
     "metadata": {},
     "output_type": "execute_result"
    }
   ],
   "source": [
    "X_test_.loc[X_test_.ComposerName=='Berg,  Alban',['ComposerName', 'ComposerNameEncoded']].head(1)"
   ]
  },
  {
   "cell_type": "markdown",
   "metadata": {},
   "source": [
    "Indeed, `ComposerName` is encoded differently in the train and test dataset.\n",
    "\n",
    "This problem is significant and it leads us to make wrong predictions!!\n",
    "\n",
    "There are other cases in which this kind of problems arises. For instance, when replacing missing values with the mean. You are supposed to compute the mean on the training set and use it to transform both train and test sets.\n",
    "\n",
    "The way we learned to apply transformations defined as functions and chained methods does not work in the context of our workflow.\n",
    "\n",
    "How do we solve this? We need **sklearn pipelines** instead of pandas pipelines. We also need to define our transformations as **sklearn transformers**, using the `fit-transform-predict` signature. That way, we can conserve the `state` of the transformation when needed and use it to transform both the train and test datasets."
   ]
  },
  {
   "cell_type": "markdown",
   "metadata": {},
   "source": [
    "## 2. Meet the sklearn-like transformers\n",
    "\n",
    "There are three fundamental verbs in scikit-learn and sklearn-like libraries:\n",
    "* `.fit()`\n",
    "* `.transform()`\n",
    "* `.predict()`.\n",
    "\n",
    "You are already familiar with `.fit()` and `.predict()` from the predictors you used in S01 and `.fit()` and `.transform()` from the transformations like scaling.\n",
    "\n",
    "Here, we will use the `.fit()` and `.transform()` combo to define custom transformations and use them in a pipeline. This is how it works."
   ]
  },
  {
   "cell_type": "markdown",
   "metadata": {},
   "source": [
    "![sklearn_like_transformation_pipeline](./media/sklearn_like_transformation_pipeline.png)"
   ]
  },
  {
   "cell_type": "markdown",
   "metadata": {},
   "source": [
    "In short, we fit all the transformers in the pipeline on the training data and use it to transform the training and test data.\n",
    "\n",
    "The `.fit()` step is executed only once and returns the transformer so we can use it later in the `.transform()` step."
   ]
  },
  {
   "cell_type": "markdown",
   "metadata": {},
   "source": [
    "### 2.1 Function transformer\n",
    "Time to get practical: we transform our transformer functions into sklearn transformers and use an sklearn pipeline instead of a pandas pipeline.\n",
    "\n",
    "We can use the `OrdinalEncoder` instead of our `label_encoder` function. (The one-hot is a better choice, but we keep it simple here.)\n",
    "\n",
    "For the `remove_intervals` and `drop_id_fields` functions, we use the super practical `FunctionTransformer` (see documentation [here](https://scikit-learn.org/stable/modules/generated/sklearn.preprocessing.FunctionTransformer.html#sklearn.preprocessing.FunctionTransformer))."
   ]
  },
  {
   "cell_type": "code",
   "execution_count": 8,
   "metadata": {},
   "outputs": [],
   "source": [
    "remove_intervals_transformer = FunctionTransformer(remove_intervals, check_inverse=False)\n",
    "drop_id_fields_transformer = FunctionTransformer(drop_id_fields, check_inverse=False)"
   ]
  },
  {
   "cell_type": "markdown",
   "metadata": {},
   "source": [
    "Now to the pipeline:"
   ]
  },
  {
   "cell_type": "code",
   "execution_count": 9,
   "metadata": {},
   "outputs": [],
   "source": [
    "columns = ['ComposerName']\n",
    "\n",
    "transform_data_pipe = Pipeline([('remove_intervals', remove_intervals_transformer),\n",
    "                                ('drop_id_fields', drop_id_fields_transformer), \n",
    "                                ('ordinal_encoder', OrdinalEncoder(cols=columns))])"
   ]
  },
  {
   "cell_type": "markdown",
   "metadata": {},
   "source": [
    "Now we use our pipeline on the test and train data."
   ]
  },
  {
   "cell_type": "code",
   "execution_count": 10,
   "metadata": {},
   "outputs": [
    {
     "data": {
      "text/html": [
       "<div>\n",
       "<style scoped>\n",
       "    .dataframe tbody tr th:only-of-type {\n",
       "        vertical-align: middle;\n",
       "    }\n",
       "\n",
       "    .dataframe tbody tr th {\n",
       "        vertical-align: top;\n",
       "    }\n",
       "\n",
       "    .dataframe thead th {\n",
       "        text-align: right;\n",
       "    }\n",
       "</style>\n",
       "<table border=\"1\" class=\"dataframe\">\n",
       "  <thead>\n",
       "    <tr style=\"text-align: right;\">\n",
       "      <th></th>\n",
       "      <th>ComposerName</th>\n",
       "      <th>WorkTitle</th>\n",
       "      <th>Movement</th>\n",
       "      <th>ConductorName</th>\n",
       "    </tr>\n",
       "  </thead>\n",
       "  <tbody>\n",
       "    <tr>\n",
       "      <th>26536</th>\n",
       "      <td>1</td>\n",
       "      <td>SONATA, VIOLIN, UNACCOMPANIED, NO. 2, A MINOR,...</td>\n",
       "      <td>Andante</td>\n",
       "      <td>NaN</td>\n",
       "    </tr>\n",
       "    <tr>\n",
       "      <th>8256</th>\n",
       "      <td>2</td>\n",
       "      <td>SYMPHONY NO.  94, G MAJOR (SURPRISE)</td>\n",
       "      <td>NaN</td>\n",
       "      <td>Krips, Josef</td>\n",
       "    </tr>\n",
       "    <tr>\n",
       "      <th>12151</th>\n",
       "      <td>3</td>\n",
       "      <td>ISLE OF THE DEAD, OP. 29</td>\n",
       "      <td>NaN</td>\n",
       "      <td>Masur, Kurt</td>\n",
       "    </tr>\n",
       "    <tr>\n",
       "      <th>50075</th>\n",
       "      <td>4</td>\n",
       "      <td>WILLIAM TELL</td>\n",
       "      <td>Overture</td>\n",
       "      <td>Davis, Andrew</td>\n",
       "    </tr>\n",
       "    <tr>\n",
       "      <th>13367</th>\n",
       "      <td>5</td>\n",
       "      <td>MA MÈRE L'OYE (MOTHER GOOSE): SUITE (ORCHESTRA)</td>\n",
       "      <td>NaN</td>\n",
       "      <td>Salonen, Esa-Pekka</td>\n",
       "    </tr>\n",
       "  </tbody>\n",
       "</table>\n",
       "</div>"
      ],
      "text/plain": [
       "       ComposerName                                          WorkTitle  \\\n",
       "26536             1  SONATA, VIOLIN, UNACCOMPANIED, NO. 2, A MINOR,...   \n",
       "8256              2               SYMPHONY NO.  94, G MAJOR (SURPRISE)   \n",
       "12151             3                           ISLE OF THE DEAD, OP. 29   \n",
       "50075             4                                       WILLIAM TELL   \n",
       "13367             5    MA MÈRE L'OYE (MOTHER GOOSE): SUITE (ORCHESTRA)   \n",
       "\n",
       "       Movement       ConductorName  \n",
       "26536   Andante                 NaN  \n",
       "8256        NaN        Krips, Josef  \n",
       "12151       NaN         Masur, Kurt  \n",
       "50075  Overture       Davis, Andrew  \n",
       "13367       NaN  Salonen, Esa-Pekka  "
      ]
     },
     "execution_count": 10,
     "metadata": {},
     "output_type": "execute_result"
    }
   ],
   "source": [
    "transform_data_pipe.fit_transform(X_train).head()"
   ]
  },
  {
   "cell_type": "code",
   "execution_count": 11,
   "metadata": {},
   "outputs": [
    {
     "data": {
      "text/html": [
       "<div>\n",
       "<style scoped>\n",
       "    .dataframe tbody tr th:only-of-type {\n",
       "        vertical-align: middle;\n",
       "    }\n",
       "\n",
       "    .dataframe tbody tr th {\n",
       "        vertical-align: top;\n",
       "    }\n",
       "\n",
       "    .dataframe thead th {\n",
       "        text-align: right;\n",
       "    }\n",
       "</style>\n",
       "<table border=\"1\" class=\"dataframe\">\n",
       "  <thead>\n",
       "    <tr style=\"text-align: right;\">\n",
       "      <th></th>\n",
       "      <th>ComposerName</th>\n",
       "      <th>WorkTitle</th>\n",
       "      <th>Movement</th>\n",
       "      <th>ConductorName</th>\n",
       "    </tr>\n",
       "  </thead>\n",
       "  <tbody>\n",
       "    <tr>\n",
       "      <th>33261</th>\n",
       "      <td>170.0</td>\n",
       "      <td>SYMPHONIA SERENA</td>\n",
       "      <td>NaN</td>\n",
       "      <td>Walter, Bruno</td>\n",
       "    </tr>\n",
       "    <tr>\n",
       "      <th>80664</th>\n",
       "      <td>2178.0</td>\n",
       "      <td>REGROOVABLE (ARR. Dechter)</td>\n",
       "      <td>NaN</td>\n",
       "      <td>Einhorn, Andy</td>\n",
       "    </tr>\n",
       "    <tr>\n",
       "      <th>10893</th>\n",
       "      <td>15.0</td>\n",
       "      <td>ROMEO AND JULIET, FANTASY-OVERTURE</td>\n",
       "      <td>NaN</td>\n",
       "      <td>Masur, Kurt</td>\n",
       "    </tr>\n",
       "    <tr>\n",
       "      <th>32883</th>\n",
       "      <td>14.0</td>\n",
       "      <td>SYMPHONY NO. 9 IN D MINOR, OP.125</td>\n",
       "      <td>NaN</td>\n",
       "      <td>Sevitzky, Fabien</td>\n",
       "    </tr>\n",
       "    <tr>\n",
       "      <th>33923</th>\n",
       "      <td>45.0</td>\n",
       "      <td>CONCERTO, PIANO, NO. 3, OP. 26, C MAJOR</td>\n",
       "      <td>NaN</td>\n",
       "      <td>Bernstein, Leonard</td>\n",
       "    </tr>\n",
       "  </tbody>\n",
       "</table>\n",
       "</div>"
      ],
      "text/plain": [
       "       ComposerName                                WorkTitle Movement  \\\n",
       "33261         170.0                         SYMPHONIA SERENA      NaN   \n",
       "80664        2178.0               REGROOVABLE (ARR. Dechter)      NaN   \n",
       "10893          15.0       ROMEO AND JULIET, FANTASY-OVERTURE      NaN   \n",
       "32883          14.0        SYMPHONY NO. 9 IN D MINOR, OP.125      NaN   \n",
       "33923          45.0  CONCERTO, PIANO, NO. 3, OP. 26, C MAJOR      NaN   \n",
       "\n",
       "            ConductorName  \n",
       "33261       Walter, Bruno  \n",
       "80664       Einhorn, Andy  \n",
       "10893         Masur, Kurt  \n",
       "32883    Sevitzky, Fabien  \n",
       "33923  Bernstein, Leonard  "
      ]
     },
     "execution_count": 11,
     "metadata": {},
     "output_type": "execute_result"
    }
   ],
   "source": [
    "transform_data_pipe.transform(X_test).head()"
   ]
  },
  {
   "cell_type": "markdown",
   "metadata": {},
   "source": [
    "We can inspect the pipeline components through the `named_steps` attribute. For instance we can check the mapping applied with the categorical encoder:"
   ]
  },
  {
   "cell_type": "code",
   "execution_count": 12,
   "metadata": {},
   "outputs": [
    {
     "data": {
      "text/plain": [
       "[{'col': 'ComposerName',\n",
       "  'mapping': Bach,  Johann  Sebastian       1\n",
       "  Haydn,  Franz  Joseph          2\n",
       "  Rachmaninoff,  Sergei          3\n",
       "  Rossini,  Gioachino            4\n",
       "  Ravel,  Maurice                5\n",
       "                              ... \n",
       "  Wang,  Lu                   2395\n",
       "  Janssen,  Werner            2396\n",
       "  Shepherd,  Arthur           2397\n",
       "  Dupont,  Gabriel            2398\n",
       "  NaN                           -2\n",
       "  Length: 2399, dtype: int64,\n",
       "  'data_type': dtype('O')}]"
      ]
     },
     "execution_count": 12,
     "metadata": {},
     "output_type": "execute_result"
    }
   ],
   "source": [
    "transform_data_pipe.named_steps.ordinal_encoder.mapping"
   ]
  },
  {
   "cell_type": "markdown",
   "metadata": {},
   "source": [
    "What kind of transformations can we perform this way? Some widespread ones are:\n",
    "* Encoding (as we've seen)\n",
    "* Scaling\n",
    "* Vectorization (you will learn about this in the NLP specialization)\n",
    "* Missing data imputation.\n",
    "\n",
    "All steps but last in the pipeline have to be transformers. The last step can be another kinds of estimator, for instance a predictor."
   ]
  },
  {
   "cell_type": "markdown",
   "metadata": {},
   "source": [
    "### 2.2 Custom transformers\n",
    "\n",
    "<img src=\"./media/megazord.png\" width=\"150\">"
   ]
  },
  {
   "cell_type": "markdown",
   "metadata": {},
   "source": [
    "If a simple function wrapped in a `FunctionTransformer` won't do it, we can build our own custom transformers. They can be included in the sklearn pipeline as long as they follow the usual blueprint:\n",
    "* Implement `Transformer.fit()`\n",
    "* And `Transformer.transform()`.\n",
    "\n",
    "All transformers are `estimators` in the sklearn universe (see the term in the [glossary](https://scikit-learn.org/stable/glossary.html#term-estimator)), therefore our custom transformer class will inherit from `sklearn.base.BaseEstimator`.\n",
    "\n",
    "Transformers additionally need a `transform()` method that we are inheriting from `sklearn.base.TransformerMixin`.\n",
    "\n",
    "All this ensures that the transformer will be compatible with pipelines and model selection tools such as grid search.\n",
    "\n",
    "It is particularly important to notice that mixins should be “on the left” while the BaseEstimator should be “on the right” in the inheritance list for proper MRO.\n",
    "\n",
    "This is the schema we're going to use. We initialize any parameters in the `__init__` method, fit and store the transformer with the `fit` method and use it to transform data with the `transform` method."
   ]
  },
  {
   "cell_type": "code",
   "execution_count": 13,
   "metadata": {},
   "outputs": [],
   "source": [
    "class FeatureMultiplier(TransformerMixin, BaseEstimator):\n",
    "    def __init__(self, some_parameter):\n",
    "        self.some_parameter = some_parameter\n",
    "\n",
    "    def fit(self, X, y=None):\n",
    "        # Fit the transformer and store it.\n",
    "        return self\n",
    "        \n",
    "    def transform(self, X):\n",
    "        # Transform X.\n",
    "        return X"
   ]
  },
  {
   "attachments": {},
   "cell_type": "markdown",
   "metadata": {},
   "source": [
    "We want to implement a custom imputer for our categorical data that will impute with the most frequent value. (We do this just for the sake of an example because, well, we could just use the [SimpleImputer](https://scikit-learn.org/stable/modules/generated/sklearn.impute.SimpleImputer.html) for this.)\n",
    "* We want the imputer to take a `strategy` parameter, although we will support only one option, the mode\n",
    "* Fitting means taking the mode of each column and storing it\n",
    "* Transforming implies replacing missing values with the given column modes.\n",
    "\n",
    "We use pandas `mode` to calculate the mode of all columns, then `squeeze` the values into a series."
   ]
  },
  {
   "cell_type": "code",
   "execution_count": 14,
   "metadata": {},
   "outputs": [
    {
     "data": {
      "text/html": [
       "<div>\n",
       "<style scoped>\n",
       "    .dataframe tbody tr th:only-of-type {\n",
       "        vertical-align: middle;\n",
       "    }\n",
       "\n",
       "    .dataframe tbody tr th {\n",
       "        vertical-align: top;\n",
       "    }\n",
       "\n",
       "    .dataframe thead th {\n",
       "        text-align: right;\n",
       "    }\n",
       "</style>\n",
       "<table border=\"1\" class=\"dataframe\">\n",
       "  <thead>\n",
       "    <tr style=\"text-align: right;\">\n",
       "      <th></th>\n",
       "      <th>GUID</th>\n",
       "      <th>ProgramID</th>\n",
       "      <th>WorkID</th>\n",
       "      <th>MovementID</th>\n",
       "      <th>ComposerName</th>\n",
       "      <th>WorkTitle</th>\n",
       "      <th>Movement</th>\n",
       "      <th>ConductorName</th>\n",
       "      <th>Interval</th>\n",
       "      <th>isInterval</th>\n",
       "    </tr>\n",
       "  </thead>\n",
       "  <tbody>\n",
       "    <tr>\n",
       "      <th>0</th>\n",
       "      <td>884c64d6-1768-4cf1-85f1-0ac2f79bbe5c</td>\n",
       "      <td>10608</td>\n",
       "      <td>0</td>\n",
       "      <td>1.0</td>\n",
       "      <td>Wagner,  Richard</td>\n",
       "      <td>MEISTERSINGER, DIE, WWV 96</td>\n",
       "      <td>Overture</td>\n",
       "      <td>Damrosch, Walter</td>\n",
       "      <td>Intermission</td>\n",
       "      <td>False</td>\n",
       "    </tr>\n",
       "  </tbody>\n",
       "</table>\n",
       "</div>"
      ],
      "text/plain": [
       "                                   GUID  ProgramID  WorkID  MovementID  \\\n",
       "0  884c64d6-1768-4cf1-85f1-0ac2f79bbe5c      10608       0         1.0   \n",
       "\n",
       "       ComposerName                   WorkTitle  Movement     ConductorName  \\\n",
       "0  Wagner,  Richard  MEISTERSINGER, DIE, WWV 96  Overture  Damrosch, Walter   \n",
       "\n",
       "       Interval  isInterval  \n",
       "0  Intermission       False  "
      ]
     },
     "execution_count": 14,
     "metadata": {},
     "output_type": "execute_result"
    }
   ],
   "source": [
    "X_train.mode()"
   ]
  },
  {
   "cell_type": "code",
   "execution_count": 15,
   "metadata": {},
   "outputs": [
    {
     "data": {
      "text/plain": [
       "GUID             884c64d6-1768-4cf1-85f1-0ac2f79bbe5c\n",
       "ProgramID                                       10608\n",
       "WorkID                                              0\n",
       "MovementID                                        1.0\n",
       "ComposerName                         Wagner,  Richard\n",
       "WorkTitle                  MEISTERSINGER, DIE, WWV 96\n",
       "Movement                                     Overture\n",
       "ConductorName                        Damrosch, Walter\n",
       "Interval                                 Intermission\n",
       "isInterval                                      False\n",
       "Name: 0, dtype: object"
      ]
     },
     "execution_count": 15,
     "metadata": {},
     "output_type": "execute_result"
    }
   ],
   "source": [
    "X_train.mode().squeeze()"
   ]
  },
  {
   "cell_type": "markdown",
   "metadata": {},
   "source": [
    "Here goes our transformer:"
   ]
  },
  {
   "cell_type": "code",
   "execution_count": 16,
   "metadata": {},
   "outputs": [],
   "source": [
    "class CategoryImputer(TransformerMixin, BaseEstimator):\n",
    "    def __init__(self, strategy=None):\n",
    "        self.strategy=strategy\n",
    "        \n",
    "    def fit(self, X, y=None):\n",
    "        if self.strategy is None:\n",
    "            self.strategy = 'most_frequent'\n",
    "        if self.strategy == 'most_frequent':\n",
    "            self.fills = X.mode(axis=0).squeeze()\n",
    "            return self\n",
    "        else:\n",
    "            return 'Strategy not supported.'\n",
    "\n",
    "    def transform(self, X):\n",
    "        return pd.DataFrame(X).fillna(self.fills)"
   ]
  },
  {
   "cell_type": "markdown",
   "metadata": {},
   "source": [
    "We insert it into our pipeline:"
   ]
  },
  {
   "cell_type": "code",
   "execution_count": 17,
   "metadata": {},
   "outputs": [],
   "source": [
    "transform_and_impute_data_pipe = Pipeline([('remove_intervals', remove_intervals_transformer),\n",
    "                                           ('drop_id_fields', drop_id_fields_transformer),\n",
    "                                           ('ordinal_encoder', OrdinalEncoder(cols=columns)),\n",
    "                                           ('cat_imputer', CategoryImputer(strategy='most_frequent'))])"
   ]
  },
  {
   "cell_type": "code",
   "execution_count": 18,
   "metadata": {},
   "outputs": [
    {
     "data": {
      "text/html": [
       "<div>\n",
       "<style scoped>\n",
       "    .dataframe tbody tr th:only-of-type {\n",
       "        vertical-align: middle;\n",
       "    }\n",
       "\n",
       "    .dataframe tbody tr th {\n",
       "        vertical-align: top;\n",
       "    }\n",
       "\n",
       "    .dataframe thead th {\n",
       "        text-align: right;\n",
       "    }\n",
       "</style>\n",
       "<table border=\"1\" class=\"dataframe\">\n",
       "  <thead>\n",
       "    <tr style=\"text-align: right;\">\n",
       "      <th></th>\n",
       "      <th>ComposerName</th>\n",
       "      <th>WorkTitle</th>\n",
       "      <th>Movement</th>\n",
       "      <th>ConductorName</th>\n",
       "    </tr>\n",
       "  </thead>\n",
       "  <tbody>\n",
       "    <tr>\n",
       "      <th>26536</th>\n",
       "      <td>1</td>\n",
       "      <td>SONATA, VIOLIN, UNACCOMPANIED, NO. 2, A MINOR,...</td>\n",
       "      <td>Andante</td>\n",
       "      <td>Damrosch, Walter</td>\n",
       "    </tr>\n",
       "    <tr>\n",
       "      <th>8256</th>\n",
       "      <td>2</td>\n",
       "      <td>SYMPHONY NO.  94, G MAJOR (SURPRISE)</td>\n",
       "      <td>Overture</td>\n",
       "      <td>Krips, Josef</td>\n",
       "    </tr>\n",
       "    <tr>\n",
       "      <th>12151</th>\n",
       "      <td>3</td>\n",
       "      <td>ISLE OF THE DEAD, OP. 29</td>\n",
       "      <td>Overture</td>\n",
       "      <td>Masur, Kurt</td>\n",
       "    </tr>\n",
       "    <tr>\n",
       "      <th>50075</th>\n",
       "      <td>4</td>\n",
       "      <td>WILLIAM TELL</td>\n",
       "      <td>Overture</td>\n",
       "      <td>Davis, Andrew</td>\n",
       "    </tr>\n",
       "    <tr>\n",
       "      <th>13367</th>\n",
       "      <td>5</td>\n",
       "      <td>MA MÈRE L'OYE (MOTHER GOOSE): SUITE (ORCHESTRA)</td>\n",
       "      <td>Overture</td>\n",
       "      <td>Salonen, Esa-Pekka</td>\n",
       "    </tr>\n",
       "  </tbody>\n",
       "</table>\n",
       "</div>"
      ],
      "text/plain": [
       "       ComposerName                                          WorkTitle  \\\n",
       "26536             1  SONATA, VIOLIN, UNACCOMPANIED, NO. 2, A MINOR,...   \n",
       "8256              2               SYMPHONY NO.  94, G MAJOR (SURPRISE)   \n",
       "12151             3                           ISLE OF THE DEAD, OP. 29   \n",
       "50075             4                                       WILLIAM TELL   \n",
       "13367             5    MA MÈRE L'OYE (MOTHER GOOSE): SUITE (ORCHESTRA)   \n",
       "\n",
       "       Movement       ConductorName  \n",
       "26536   Andante    Damrosch, Walter  \n",
       "8256   Overture        Krips, Josef  \n",
       "12151  Overture         Masur, Kurt  \n",
       "50075  Overture       Davis, Andrew  \n",
       "13367  Overture  Salonen, Esa-Pekka  "
      ]
     },
     "execution_count": 18,
     "metadata": {},
     "output_type": "execute_result"
    }
   ],
   "source": [
    "transform_and_impute_data_pipe.fit_transform(X_train).head()"
   ]
  },
  {
   "cell_type": "markdown",
   "metadata": {},
   "source": [
    "There we go! What about the test set?"
   ]
  },
  {
   "cell_type": "code",
   "execution_count": 19,
   "metadata": {},
   "outputs": [
    {
     "data": {
      "text/html": [
       "<div>\n",
       "<style scoped>\n",
       "    .dataframe tbody tr th:only-of-type {\n",
       "        vertical-align: middle;\n",
       "    }\n",
       "\n",
       "    .dataframe tbody tr th {\n",
       "        vertical-align: top;\n",
       "    }\n",
       "\n",
       "    .dataframe thead th {\n",
       "        text-align: right;\n",
       "    }\n",
       "</style>\n",
       "<table border=\"1\" class=\"dataframe\">\n",
       "  <thead>\n",
       "    <tr style=\"text-align: right;\">\n",
       "      <th></th>\n",
       "      <th>ComposerName</th>\n",
       "      <th>WorkTitle</th>\n",
       "      <th>Movement</th>\n",
       "      <th>ConductorName</th>\n",
       "    </tr>\n",
       "  </thead>\n",
       "  <tbody>\n",
       "    <tr>\n",
       "      <th>33261</th>\n",
       "      <td>170.0</td>\n",
       "      <td>SYMPHONIA SERENA</td>\n",
       "      <td>Overture</td>\n",
       "      <td>Walter, Bruno</td>\n",
       "    </tr>\n",
       "    <tr>\n",
       "      <th>80664</th>\n",
       "      <td>2178.0</td>\n",
       "      <td>REGROOVABLE (ARR. Dechter)</td>\n",
       "      <td>Overture</td>\n",
       "      <td>Einhorn, Andy</td>\n",
       "    </tr>\n",
       "    <tr>\n",
       "      <th>10893</th>\n",
       "      <td>15.0</td>\n",
       "      <td>ROMEO AND JULIET, FANTASY-OVERTURE</td>\n",
       "      <td>Overture</td>\n",
       "      <td>Masur, Kurt</td>\n",
       "    </tr>\n",
       "    <tr>\n",
       "      <th>32883</th>\n",
       "      <td>14.0</td>\n",
       "      <td>SYMPHONY NO. 9 IN D MINOR, OP.125</td>\n",
       "      <td>Overture</td>\n",
       "      <td>Sevitzky, Fabien</td>\n",
       "    </tr>\n",
       "    <tr>\n",
       "      <th>33923</th>\n",
       "      <td>45.0</td>\n",
       "      <td>CONCERTO, PIANO, NO. 3, OP. 26, C MAJOR</td>\n",
       "      <td>Overture</td>\n",
       "      <td>Bernstein, Leonard</td>\n",
       "    </tr>\n",
       "  </tbody>\n",
       "</table>\n",
       "</div>"
      ],
      "text/plain": [
       "       ComposerName                                WorkTitle  Movement  \\\n",
       "33261         170.0                         SYMPHONIA SERENA  Overture   \n",
       "80664        2178.0               REGROOVABLE (ARR. Dechter)  Overture   \n",
       "10893          15.0       ROMEO AND JULIET, FANTASY-OVERTURE  Overture   \n",
       "32883          14.0        SYMPHONY NO. 9 IN D MINOR, OP.125  Overture   \n",
       "33923          45.0  CONCERTO, PIANO, NO. 3, OP. 26, C MAJOR  Overture   \n",
       "\n",
       "            ConductorName  \n",
       "33261       Walter, Bruno  \n",
       "80664       Einhorn, Andy  \n",
       "10893         Masur, Kurt  \n",
       "32883    Sevitzky, Fabien  \n",
       "33923  Bernstein, Leonard  "
      ]
     },
     "execution_count": 19,
     "metadata": {},
     "output_type": "execute_result"
    }
   ],
   "source": [
    "transform_and_impute_data_pipe.transform(X_test).head()"
   ]
  },
  {
   "attachments": {},
   "cell_type": "markdown",
   "metadata": {},
   "source": [
    "Victory awaits!\n",
    "\n",
    "Now, can we throw a model in there? Perhaps we can. (We shouldn't, really, since we are exemplifying data wrangling workflows.) \n",
    "\n",
    "We will use k-means clustering on the transformed data."
   ]
  },
  {
   "cell_type": "code",
   "execution_count": 20,
   "metadata": {},
   "outputs": [
    {
     "data": {
      "text/plain": [
       "array([5, 1, 1, ..., 1, 2, 2], dtype=int32)"
      ]
     },
     "execution_count": 20,
     "metadata": {},
     "output_type": "execute_result"
    }
   ],
   "source": [
    "megazord = Pipeline([('remove_intervals', remove_intervals_transformer),\n",
    "                     ('drop_id_fields', drop_id_fields_transformer),\n",
    "                     ('ordinal_encoder', OrdinalEncoder()),\n",
    "                     ('cat_imputer', CategoryImputer(strategy='most_frequent')),\n",
    "                     ('k_means', KMeans(n_init = 10))])\n",
    "\n",
    "megazord.fit(X_train)\n",
    "megazord.predict(X_test)"
   ]
  },
  {
   "cell_type": "markdown",
   "metadata": {},
   "source": [
    "<img src=\"./media/noice.gif\" width=\"500\">"
   ]
  },
  {
   "cell_type": "markdown",
   "metadata": {},
   "source": [
    "## 3. Further reading\n",
    "\n",
    "The [column transformer](https://scikit-learn.org/stable/modules/compose.html#column-transformer) offers a way to apply different transformations to different columns of the dataframe.\n",
    "\n",
    "If you'll need to program your own estimator in the future, be aware that sklearn provides a [guide and templates](https://scikit-learn.org/stable/developers/develop.html#rolling-your-own-estimator)."
   ]
  }
 ],
 "metadata": {
  "kernelspec": {
   "display_name": "Python 3 (ipykernel)",
   "language": "python",
   "name": "python3"
  },
  "language_info": {
   "codemirror_mode": {
    "name": "ipython",
    "version": 3
   },
   "file_extension": ".py",
   "mimetype": "text/x-python",
   "name": "python",
   "nbconvert_exporter": "python",
   "pygments_lexer": "ipython3",
   "version": "3.12.7"
  }
 },
 "nbformat": 4,
 "nbformat_minor": 4
}
