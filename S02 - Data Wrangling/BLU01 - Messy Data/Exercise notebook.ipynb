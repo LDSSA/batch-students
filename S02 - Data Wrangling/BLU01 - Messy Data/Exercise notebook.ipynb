{
 "cells": [
  {
   "cell_type": "markdown",
   "metadata": {
    "deletable": false,
    "editable": false,
    "nbgrader": {
     "grade": false,
     "grade_id": "cell-1b6b75485105e36c",
     "locked": true,
     "schema_version": 3,
     "solution": false
    }
   },
   "source": [
    "# BLU01 - Exercises Notebook"
   ]
  },
  {
   "cell_type": "markdown",
   "metadata": {},
   "source": [
    "**Important Note**\n",
    "\n",
    "Attention Windows users: The grader will run on Linux, so using power shell statements will not work in the portal."
   ]
  },
  {
   "cell_type": "code",
   "execution_count": null,
   "metadata": {
    "deletable": false,
    "editable": false,
    "nbgrader": {
     "grade": false,
     "grade_id": "cell-0240afddd4fae69d",
     "locked": true,
     "schema_version": 3,
     "solution": false
    }
   },
   "outputs": [],
   "source": [
    "import chardet\n",
    "import hashlib # for grading purposes\n",
    "import math\n",
    "import numpy as np\n",
    "import csv\n",
    "import pandas as pd\n",
    "import random"
   ]
  },
  {
   "cell_type": "markdown",
   "metadata": {
    "deletable": false,
    "editable": false,
    "nbgrader": {
     "grade": false,
     "grade_id": "cell-93e0b4e1a40ebaaa",
     "locked": true,
     "schema_version": 3,
     "solution": false
    }
   },
   "source": [
    "## Exercise 1 - Use a shell command to count lines\n",
    "\n",
    "Count the total number of lines of the files `data/exercises/dog.txt` and `data/exercises/dog_intelligence.txt` and store the result in a variable called `count_total`.  \n",
    "\n",
    "There is more than one way to do this. Hint: concatenate both files."
   ]
  },
  {
   "cell_type": "code",
   "execution_count": null,
   "metadata": {
    "deletable": false,
    "nbgrader": {
     "grade": false,
     "grade_id": "cell-05a3d2245d57305d",
     "locked": false,
     "schema_version": 3,
     "solution": true
    }
   },
   "outputs": [],
   "source": [
    "# count_total = ...\n",
    "# YOUR CODE HERE\n",
    "raise NotImplementedError()"
   ]
  },
  {
   "cell_type": "code",
   "execution_count": null,
   "metadata": {
    "deletable": false,
    "editable": false,
    "nbgrader": {
     "grade": true,
     "grade_id": "cell-2e69c6137e73d90c",
     "locked": true,
     "points": 2,
     "schema_version": 3,
     "solution": false
    }
   },
   "outputs": [],
   "source": [
    "assert hashlib.sha256(str(count_total).encode()).hexdigest() == \\\n",
    "'2c624232cdd221771294dfbb310aca000a0df6ac8b66b696d90ef06fdefb64a3', \"count_total is wrong\""
   ]
  },
  {
   "cell_type": "markdown",
   "metadata": {},
   "source": [
    "<img src=\"./media/dog_1.jpeg\" width=\"600\">"
   ]
  },
  {
   "cell_type": "markdown",
   "metadata": {},
   "source": [
    "### Exercise 1.1 - optional, ungraded\n",
    "\n",
    "Now store in 2 variables the first fourth and the last fourth of the lines of the file `data/exercises/dog.txt`. Use variables `first_fourth` and `last_fourth`. Make it work for any file (don't hardcode the file length)."
   ]
  },
  {
   "cell_type": "code",
   "execution_count": null,
   "metadata": {
    "deletable": false,
    "nbgrader": {
     "grade": false,
     "grade_id": "cell-14cf2619322a8763",
     "locked": false,
     "schema_version": 3,
     "solution": true
    }
   },
   "outputs": [],
   "source": [
    "# store the file length in this variable:\n",
    "# count_total_dog = \n",
    "\n",
    "# first_fourth = ...\n",
    "# last_fourth = ...\n",
    "# YOUR CODE HERE\n",
    "raise NotImplementedError()"
   ]
  },
  {
   "cell_type": "code",
   "execution_count": null,
   "metadata": {
    "deletable": false,
    "editable": false,
    "nbgrader": {
     "grade": true,
     "grade_id": "cell-20d96111430874d4",
     "locked": true,
     "points": 0,
     "schema_version": 3,
     "solution": false,
     "task": false
    }
   },
   "outputs": [],
   "source": [
    "# Test the first_fourth and last_fourth exercise by running the following (ungraded) asserts.\n",
    "assert first_fourth[-1][0] == 'T'\n",
    "assert last_fourth[0][0] == 'S'"
   ]
  },
  {
   "cell_type": "markdown",
   "metadata": {
    "deletable": false,
    "editable": false,
    "nbgrader": {
     "grade": false,
     "grade_id": "cell-e27cb8588bb5fd40",
     "locked": true,
     "schema_version": 3,
     "solution": false
    }
   },
   "source": [
    "## Exercise 2 - Read a file with a specific delimiter\n",
    "\n",
    "Read file `data/exercises/breed_info.csv` into a pandas DataFrame. This file contains information about dog breeds, including minimum and maximum heights and weights.\n",
    "\n",
    "First preview the file using a shell command in order to find out the used delimiter, and other properties of this file.\n",
    "\n",
    "Then use the function `read_csv` to read the data into a DataFrame. Use the first column of the csvfile as index in the resulting DataFrame."
   ]
  },
  {
   "cell_type": "code",
   "execution_count": null,
   "metadata": {
    "deletable": false,
    "nbgrader": {
     "grade": false,
     "grade_id": "cell-942e0590467e20d9",
     "locked": false,
     "schema_version": 3,
     "solution": true
    },
    "tags": []
   },
   "outputs": [],
   "source": [
    "# Use a shell command to preview the data\n",
    "# ! ...\n",
    "# YOUR CODE HERE\n",
    "raise NotImplementedError()\n",
    "\n",
    "# Use the function read_csv to read the data into a DataFrame\n",
    "# df2 = pd.read_csv(...)\n",
    "# YOUR CODE HERE\n",
    "raise NotImplementedError()"
   ]
  },
  {
   "cell_type": "code",
   "execution_count": null,
   "metadata": {
    "deletable": false,
    "editable": false,
    "nbgrader": {
     "grade": true,
     "grade_id": "cell-0c275c9acaa9c74d",
     "locked": true,
     "points": 2,
     "schema_version": 3,
     "solution": false
    }
   },
   "outputs": [],
   "source": [
    "assert df2.shape == (148,5), 'The shape of the dataframe in incorrect.'\n",
    "assert hashlib.sha256(''.join(sorted(df2.columns)).encode()).hexdigest() == \\\n",
    "'794918debb377243cef4a51169ce35f7bba4250a3b9a20cce1c29065b470b9bc', 'The column names are not correct.'\n",
    "assert hashlib.sha256(df2.index.name.encode()).hexdigest() == \\\n",
    "'1bc04b5291c26a46d918139138b992d2de976d6851d0893b0476b85bfbdfc6e6', 'The index is not correct.'\n",
    "assert hashlib.sha256(''.join(df2.index.astype('str')).encode()).hexdigest() == \\\n",
    "'1a9413e5c73df8a3ae0ebb70fc9dee40a937b0445a4791c6d495818eb9877aed', 'The index is not correct.'"
   ]
  },
  {
   "cell_type": "markdown",
   "metadata": {
    "deletable": false,
    "editable": false,
    "nbgrader": {
     "grade": false,
     "grade_id": "cell-f6f9efef818e4a83",
     "locked": true,
     "schema_version": 3,
     "solution": false
    }
   },
   "source": [
    "## Exercise 3 - Read a csv file with problems\n",
    "\n",
    "Read file `data/exercises/breed_info_w_problems.csv` using the function `read_csv` and use the second column as index.\n",
    "\n",
    "There are some inputs in the file that should be interpreted as NaN, make sure you select the right one when reading the file!"
   ]
  },
  {
   "cell_type": "code",
   "execution_count": null,
   "metadata": {
    "deletable": false,
    "nbgrader": {
     "grade": false,
     "grade_id": "cell-2771b707556c08d2",
     "locked": false,
     "schema_version": 3,
     "solution": true
    }
   },
   "outputs": [],
   "source": [
    "# df3 = read_csv(...)\n",
    "# YOUR CODE HERE\n",
    "raise NotImplementedError()"
   ]
  },
  {
   "cell_type": "code",
   "execution_count": null,
   "metadata": {
    "deletable": false,
    "editable": false,
    "nbgrader": {
     "grade": true,
     "grade_id": "cell-601b354802964776",
     "locked": true,
     "points": 2,
     "schema_version": 3,
     "solution": false
    }
   },
   "outputs": [],
   "source": [
    "assert df3.shape == (150,5), 'The shape of the dataset is not correct.'\n",
    "assert hashlib.sha256(''.join(sorted(df3.columns)).encode()).hexdigest() == \\\n",
    "'7b2fc74c4f965ccfae01195844f9bcd69f05dce030772c74e8b0c05bd6b790fc', 'The column names are not correct.'\n",
    "assert hashlib.sha256(df3.index.name.encode()).hexdigest() == \\\n",
    "'d1ac8a80937c65bd103bb3aab437b45ee947eff75901f671d68f895e35eb09d2', 'The index is not correct.'\n",
    "assert df3.isnull().sum().sum() == 12, 'Check the NaN values.'\n",
    "assert np.isnan(df3.loc['Poodle Standard','weight_high_lbs']), \"Check the NaN values.\"\n",
    "assert np.isnan(df3.loc['Alaskan Malamute','height_high_inches']), \"Check the NaN values.\""
   ]
  },
  {
   "cell_type": "markdown",
   "metadata": {
    "deletable": false,
    "editable": false,
    "nbgrader": {
     "grade": false,
     "grade_id": "cell-5cfd5a97b1c49a0e",
     "locked": true,
     "schema_version": 3,
     "solution": false
    }
   },
   "source": [
    "## Exercise 4 - Repair a csv file\n",
    "Read the file `data/exercises/pet_stats.csv` using the function `csv.reader()`. This file includes information about the different pet populations. Be sure you don't miss any lines with relevant information! \n",
    "\n",
    "* use the csv module to import everything to a list of lists\n",
    "* use the first four columns of each line to create a DataFrame\n",
    "* format the columns with the correct type and set the missing values to `np.nan`\n",
    "* use the `country` column as the index"
   ]
  },
  {
   "cell_type": "code",
   "execution_count": null,
   "metadata": {
    "deletable": false,
    "nbgrader": {
     "grade": false,
     "grade_id": "cell-119041388e17fb72",
     "locked": false,
     "schema_version": 3,
     "solution": true
    }
   },
   "outputs": [],
   "source": [
    "# lines = ...\n",
    "# df4 = ...\n",
    "# YOUR CODE HERE\n",
    "raise NotImplementedError()"
   ]
  },
  {
   "cell_type": "code",
   "execution_count": null,
   "metadata": {
    "deletable": false,
    "editable": false,
    "nbgrader": {
     "grade": true,
     "grade_id": "cell-a42299f9047590d5",
     "locked": true,
     "points": 2,
     "schema_version": 3,
     "solution": false
    }
   },
   "outputs": [],
   "source": [
    "assert df4.shape == (39,3), 'The shape of the df4 is not correct.'\n",
    "assert df4.index.name == 'country', 'The index of the dataframe is not correct.'\n",
    "assert hashlib.sha256(''.join(sorted(df4.columns)).encode()).hexdigest() == \\\n",
    "'971e1106934691ba68d725d2137f73edd9945fe101c1efc3bf69929cb179e683', 'The column names are not correct.'\n",
    "assert df4.index.dtype == pd.StringDtype(), 'The index column type is not correct.'\n",
    "assert sum([df4[col].dtype =='float64' for col in df4.columns]) == 3, 'The dtypes of the columns are not correct.'\n",
    "assert df4.isnull().sum().sum() == 16, 'The null values are not converted correctly.'"
   ]
  },
  {
   "cell_type": "markdown",
   "metadata": {
    "deletable": false,
    "editable": false,
    "nbgrader": {
     "grade": false,
     "grade_id": "cell-389bc42fe462c70e",
     "locked": true,
     "schema_version": 3,
     "solution": false
    }
   },
   "source": [
    "## Exercise 5 - Read a JSON file\n",
    "\n",
    "Read the file `data/exercises/dog_pop_country_2023.json`."
   ]
  },
  {
   "cell_type": "code",
   "execution_count": null,
   "metadata": {
    "deletable": false,
    "nbgrader": {
     "grade": false,
     "grade_id": "cell-5c2125479f7e50e5",
     "locked": false,
     "schema_version": 3,
     "solution": true
    }
   },
   "outputs": [],
   "source": [
    "# df5 = ...\n",
    "# YOUR CODE HERE\n",
    "raise NotImplementedError()"
   ]
  },
  {
   "cell_type": "code",
   "execution_count": null,
   "metadata": {
    "deletable": false,
    "editable": false,
    "nbgrader": {
     "grade": true,
     "grade_id": "cell-3f085fa2cdad9319",
     "locked": true,
     "points": 2,
     "schema_version": 3,
     "solution": false
    }
   },
   "outputs": [],
   "source": [
    "assert df5.shape == (37,2), 'The shape of the dataframe is not correct.'\n",
    "assert set(df5.columns) == {'EstimatedDogPopulation', 'dogsPerPerson'}, \"df5 column names are not correct.\"\n",
    "assert df5.EstimatedDogPopulation.sum() == 349853232, 'The content of df5 is not correct.'\n",
    "np.testing.assert_almost_equal(df5.dogsPerPerson.sum(),511744.7189432755,decimal=3,\n",
    "                               err_msg='The content of df5 is not correct.')"
   ]
  },
  {
   "cell_type": "markdown",
   "metadata": {
    "deletable": false,
    "editable": false,
    "nbgrader": {
     "grade": false,
     "grade_id": "cell-4d4b970f55b3e427",
     "locked": true,
     "schema_version": 3,
     "solution": false
    }
   },
   "source": [
    "## Exercise 6 - Read an Excel file\n",
    "\n",
    "Read the file `data/exercises/dog_breeds.xlsx` using the function `read_excel`. This file has info on different dog breeds, namely behavioural and size characteristics. In this exercise, please do the following:\n",
    "\n",
    "* grab the data in the sheet \"breed_info\"\n",
    "* use the column 'Name' as index\n",
    "* keep only the rows and columns with data\n",
    "* count the number of dogs with the maximum score for 'good_with_children' and store it in the variable `best_dogs_w_children`"
   ]
  },
  {
   "cell_type": "code",
   "execution_count": null,
   "metadata": {
    "deletable": false,
    "nbgrader": {
     "grade": false,
     "grade_id": "cell-017a7c31b0ddc38e",
     "locked": false,
     "schema_version": 3,
     "solution": true
    }
   },
   "outputs": [],
   "source": [
    "# df6 = read_excel(...)\n",
    "# best_dogs_w_children = ...\n",
    "# YOUR CODE HERE\n",
    "raise NotImplementedError()"
   ]
  },
  {
   "cell_type": "code",
   "execution_count": null,
   "metadata": {
    "deletable": false,
    "editable": false,
    "nbgrader": {
     "grade": true,
     "grade_id": "cell-91d5f07e40585680",
     "locked": true,
     "points": 2,
     "schema_version": 3,
     "solution": false
    }
   },
   "outputs": [],
   "source": [
    "assert isinstance(df6, pd.DataFrame), 'df6 is not a dataframe'\n",
    "assert df6.shape == (97,14), 'The shape of the dataframe is not correct.'\n",
    "assert hashlib.sha256(''.join(sorted(df6.columns)).encode()).hexdigest() == \\\n",
    "'08aa3ac38e35b858403edab7272b22e24f400df2afdae988aec45c7d07d63621', 'The column names are not correct.'\n",
    "assert sum(df6.sum().sort_index().to_numpy() == np.array([ 287,   99,  157,  357,  372,  334,  330,  209, 1358, 1102,  350,\n",
    "        355,  251,  369])) == 14, 'The content of the dataframe is not correct.'\n",
    "assert best_dogs_w_children == 42, 'The count of best dogs for children is not correct.'"
   ]
  },
  {
   "cell_type": "markdown",
   "metadata": {
    "deletable": false,
    "editable": false,
    "nbgrader": {
     "grade": false,
     "grade_id": "cell-4a7407517d4d92c3",
     "locked": true,
     "schema_version": 3,
     "solution": false
    }
   },
   "source": [
    "## Exercise 7 - Find the correct encoding of a file\n",
    "\n",
    "Find the encoding used in file `data/exercises/dogs_intelligence_sample.csv` and store it in the `encoding` variable.\n",
    "\n",
    "Then, read the data into a DataFrame and find the `Breed` with an upper limit of repetitions to understand new commands (`reps_upper`) of 15."
   ]
  },
  {
   "cell_type": "code",
   "execution_count": null,
   "metadata": {
    "deletable": false,
    "nbgrader": {
     "grade": false,
     "grade_id": "cell-bd6944fd63bb38d8",
     "locked": false,
     "schema_version": 3,
     "solution": true
    }
   },
   "outputs": [],
   "source": [
    "# encoding = ...\n",
    "# df7 = ...\n",
    "# breed_reps_upper_15 = ...\n",
    "# YOUR CODE HERE\n",
    "raise NotImplementedError()"
   ]
  },
  {
   "cell_type": "code",
   "execution_count": null,
   "metadata": {
    "deletable": false,
    "editable": false,
    "nbgrader": {
     "grade": true,
     "grade_id": "cell-687fb83c97e03355",
     "locked": true,
     "points": 2,
     "schema_version": 3,
     "solution": false
    }
   },
   "outputs": [],
   "source": [
    "assert isinstance(df7, pd.DataFrame), 'df7 should be a dataframe.'\n",
    "assert df7.shape == (11,5), 'The shaope of df7 is not correct.'\n",
    "assert hashlib.sha256(encoding.encode()).hexdigest() == \\\n",
    "'c543ece81605c7d202121c62080a0db4020fc2c75bfac35d101d7f3e93c93949', \"The encoding is not correct.\"\n",
    "assert hashlib.sha256(''.join(sorted(df7.columns)).encode()).hexdigest() == \\\n",
    "'d9167ebfac8723da7e0b2e1b2f5875177ee63214e4d1cdcb9cc58f7033a8e7b2', 'The column names are not correct.'\n",
    "assert hashlib.sha256(breed_reps_upper_15.encode()).hexdigest() == \\\n",
    "'0d9abf1f6b31fb0cdc875d352b47751ce91ca57075087365502ea648b3329a19', \"breed_reps_upper_15 is not correct.\""
   ]
  },
  {
   "cell_type": "markdown",
   "metadata": {
    "deletable": false,
    "editable": false,
    "nbgrader": {
     "grade": false,
     "grade_id": "cell-d103dfae3d5e11fe",
     "locked": true,
     "schema_version": 3,
     "solution": false
    }
   },
   "source": [
    "## Exercise 8 - Import a random sample of a large file\n",
    "\n",
    "Consider the file `data/exercises/dog_intelligence.tsv`. Let's imagine this file is really huge, with a lot of rows! Count the number of lines of the file excluding the header, then read a random sample of 10 rows from the file into a dataframe. \n",
    "\n",
    "Use the provided random seed for reproducibility."
   ]
  },
  {
   "cell_type": "code",
   "execution_count": null,
   "metadata": {
    "deletable": false,
    "nbgrader": {
     "grade": false,
     "grade_id": "cell-fb39107093dd73fb",
     "locked": false,
     "schema_version": 3,
     "solution": true
    }
   },
   "outputs": [],
   "source": [
    "random.seed(42)\n",
    "# lines_in_file = ...\n",
    "# df8 = ...\n",
    "# YOUR CODE HERE\n",
    "raise NotImplementedError()"
   ]
  },
  {
   "cell_type": "code",
   "execution_count": null,
   "metadata": {
    "deletable": false,
    "editable": false,
    "nbgrader": {
     "grade": true,
     "grade_id": "cell-ec15a8be42137a01",
     "locked": true,
     "points": 2,
     "schema_version": 3,
     "solution": false
    }
   },
   "outputs": [],
   "source": [
    "assert hashlib.sha256(str(lines_in_file).encode()).hexdigest() == \\\n",
    "'d80eae6e96d148b3b2abbbc6760077b66c4ea071f847dab573d507a32c4d99a5', \"The line count is not correct.\"\n",
    "assert isinstance(df8, pd.DataFrame), 'df8 should be a dataframe.'\n",
    "assert df8.shape == (10,6), \"The shape of df8 is not correct.\"\n",
    "assert hashlib.sha256(''.join(sorted(df8.columns)).encode()).hexdigest() == \\\n",
    "'8cb44cb03312ad1951a8a222c787cd8b01f311d98e3d69709dba8071d18c4050', 'The column names are not correct.'\n",
    "assert df8.reps_upper.sum() == 474, 'The content of df8 is not correct.'\n",
    "assert hashlib.sha256(''.join(df8.Breed).encode()).hexdigest() == \\\n",
    "'a91f12fe47013f3073c989e25f951bde070f091f227699202d8e60153af28154', 'The content of df8 is not correct.'"
   ]
  },
  {
   "cell_type": "markdown",
   "metadata": {
    "deletable": false,
    "editable": false,
    "nbgrader": {
     "grade": false,
     "grade_id": "cell-f87e07a7b2cacd9d",
     "locked": true,
     "schema_version": 3,
     "solution": false
    }
   },
   "source": [
    "## Exercise 9 - Loading a large file by chunks\n",
    "\n",
    "Read the file `data/exercises/dog_intelligence.tsv` using chunks. Keep only the columns `Breed`, `Classification`, and `obey`.\n",
    "\n",
    "Note that:\n",
    "* the file should be read in chunks of 20\n",
    "* the missing values for `Classification` should be removed (filtered in each chunk)\n",
    "* the `obey` should be converted to type float (in each chunk)\n",
    "* store the filtered chunks in the `chunk_arr` list\n",
    "* the index should be incremental starting from 0 (i.e, you don't need to read any column as the index)\n",
    "\n",
    "Tip: investigate the data file before doing any code."
   ]
  },
  {
   "cell_type": "code",
   "execution_count": null,
   "metadata": {
    "deletable": false,
    "nbgrader": {
     "grade": false,
     "grade_id": "cell-5106c25a705296e8",
     "locked": false,
     "schema_version": 3,
     "solution": true
    }
   },
   "outputs": [],
   "source": [
    "# chunk_arr = []\n",
    "# df9 = ...\n",
    "# YOUR CODE HERE\n",
    "raise NotImplementedError()"
   ]
  },
  {
   "cell_type": "code",
   "execution_count": null,
   "metadata": {
    "deletable": false,
    "editable": false,
    "nbgrader": {
     "grade": true,
     "grade_id": "cell-f60a22c3465d5b83",
     "locked": true,
     "points": 2,
     "schema_version": 3,
     "solution": false
    }
   },
   "outputs": [],
   "source": [
    "assert len(chunk_arr) == 7, 'The length of the chunk array is not correct.'\n",
    "assert [len(c) for c in chunk_arr] == [20, 19, 19, 19, 19, 20, 16], \\\n",
    "'The lengths of the stored chunks is not correct. Did you remove the missing values?'\n",
    "assert df9.shape == (132,3), 'The shape of df9 is not correct.'\n",
    "assert df9.dtypes['obey'] == float, \"The datatype of the 'obey' column is not correct.\" \n",
    "np.testing.assert_almost_equal(df9.obey.mean(),56.43939, decimal=3, err_msg=\"The content of the 'obey' column is not correct.\")"
   ]
  },
  {
   "cell_type": "markdown",
   "metadata": {
    "deletable": false,
    "editable": false,
    "nbgrader": {
     "grade": false,
     "grade_id": "cell-e990312f7cddd0b2",
     "locked": true,
     "schema_version": 3,
     "solution": false
    }
   },
   "source": [
    "## Exercise 10 - Calculate the average value of `reps_lower` using chunks\n",
    "\n",
    "Using chunks of 10 rows, read the file `data/exercises/dog_intelligence.tsv`. Avoid incomplete rows in `reps_lower` and calculate the average of `reps_lower` without loading all data simultaneously. Store the average in the `final_avg` variable.\n",
    "\n",
    "Use a similar approach as in the previous question but don't create any dataframe or list with chunks. Store the sum of the values and the number of rows in variables `sum_reps_lower` and `rows_reps_lower` as you go through the chunks, then calculate the mean."
   ]
  },
  {
   "cell_type": "code",
   "execution_count": null,
   "metadata": {
    "deletable": false,
    "nbgrader": {
     "grade": false,
     "grade_id": "cell-57fd7700885246eb",
     "locked": false,
     "schema_version": 3,
     "solution": true
    }
   },
   "outputs": [],
   "source": [
    "# sum_reps_lower = ...\n",
    "# rows_reps_lower = ..\n",
    "# final_avg = ...\n",
    "# YOUR CODE HERE\n",
    "raise NotImplementedError()"
   ]
  },
  {
   "cell_type": "code",
   "execution_count": null,
   "metadata": {
    "deletable": false,
    "editable": false,
    "nbgrader": {
     "grade": true,
     "grade_id": "cell-0edcf1260d7886c9",
     "locked": true,
     "points": 2,
     "schema_version": 3,
     "solution": false
    }
   },
   "outputs": [],
   "source": [
    "np.testing.assert_almost_equal(final_avg, 25.5882352, decimal=3, \n",
    "                                      err_msg='The final_avg is not correct.')\n",
    "assert int(sum_reps_lower) == 3480 or int(rows_reps_lower)==136, \"The helper variables are not correct.\""
   ]
  },
  {
   "cell_type": "markdown",
   "metadata": {},
   "source": [
    "Congrats, you successfully dealt with all the messy data of this notebook!\n",
    "\n",
    "![title](./media/dog_2.jpeg)"
   ]
  }
 ],
 "metadata": {
  "kernelspec": {
   "display_name": "Python 3 (ipykernel)",
   "language": "python",
   "name": "python3"
  },
  "language_info": {
   "codemirror_mode": {
    "name": "ipython",
    "version": 3
   },
   "file_extension": ".py",
   "mimetype": "text/x-python",
   "name": "python",
   "nbconvert_exporter": "python",
   "pygments_lexer": "ipython3",
   "version": "3.12.7"
  }
 },
 "nbformat": 4,
 "nbformat_minor": 4
}
