{
 "cells": [
  {
   "cell_type": "markdown",
   "metadata": {},
   "source": [
    "## Part 3 - Word vectors\n",
    "\n",
    "So far we've seen simple feature selection methods, a statistical feature selection approach, dimensionality reduction techniques such as PCA and SVD, but in the last few years, with the rise in popularity of neural networks, a new technique has become the state of the art for representing words in NLP tasks.\n",
    "\n",
    "This technique is commonly referred to as **word vectors** or **word embeddings**, and its inner workings are really simple. It consists of defining a vocabulary and a vector for each word in it with a maximum number of dimensions. Then all the vectors' are found through the use of **neural networks**. In essence, word embeddings try to capture information on a word's meaning and usage. This not only allows us to significantly reduce the number of features fed to our models, but it also allows meaningful and easy representations across datasets, that are transferrable among tasks. \n",
    "\n",
    "Pretty cool, huh?\n",
    "\n",
    "<img src=\"media/what-year-is-this.jpg\" width=\"400\">\n",
    "\n",
    "\n"
   ]
  },
  {
   "cell_type": "markdown",
   "metadata": {},
   "source": [
    "### Table of contents\n",
    "[1. Words vectors explained](#1.-Word-vectors-explained)   \n",
    "&emsp;[1.1 Training word vectors](#1.1-Training-word-vectors)   \n",
    "&emsp;[1.2 Pretrained word vectors](#1.2-Pretrained-word-vectors)   \n",
    "[2. Word representations in Spacy](#2.-Word-representations-in-Spacy)   \n",
    "[3. Cosine similarity](#3.-Cosine-similarity)   \n",
    "[4. Word relations](#4.-Word-relations)   \n",
    "[5. Applying word vectors to sentences](#5.-Applying-word-vectors-to-sentences)   \n",
    "[6. NLP practical example](#6.-NLP-practical-example)   \n",
    "[7. Final remarks](#7.-Final-remarks)"
   ]
  },
  {
   "cell_type": "code",
   "execution_count": 4,
   "metadata": {},
   "outputs": [],
   "source": [
    "import spacy\n",
    "\n",
    "import numpy as np\n",
    "from numpy import dot\n",
    "from numpy.linalg import norm\n",
    "import pandas as pd\n",
    "import re\n",
    "import nltk\n",
    "from nltk.tokenize import WordPunctTokenizer\n",
    "\n",
    "from sklearn.decomposition import PCA, TruncatedSVD\n",
    "from sklearn.model_selection import train_test_split\n",
    "from sklearn.feature_extraction.text import TfidfVectorizer\n",
    "from sklearn.model_selection import train_test_split\n",
    "from sklearn.svm import SVC\n",
    "from sklearn.metrics import accuracy_score\n",
    "from sklearn.neighbors import KNeighborsClassifier\n",
    "\n",
    "import warnings\n",
    "warnings.filterwarnings('ignore')\n",
    "\n",
    "seed=42"
   ]
  },
  {
   "cell_type": "markdown",
   "metadata": {},
   "source": [
    "## 1. Word vectors explained\n",
    "\n",
    "First of all, by now you could be thinking: \"But wait Doc, didn't I get a bunch of vectors before also?\". Why yes, yes you did, Marty. You could consider the columns of the matrix with document-term counts a possible word vector representation. You could even construct a simpler matrix. \n",
    "\n",
    "If you assume a vocabulary of size V, and each word having an index in this vocabulary, a natural representation would be what is called a one-hot encoding, where each word is represented by a vector of size V - the vocabulary size - with the single component corresponding to this word set to 1, and the remaining fields zeroed out.\n",
    "\n",
    "<img src=\"media/one-hot-vec.png\" width=\"300\">\n",
    "\n",
    "\n",
    "We are going in the right direction! But keep in mind that this representation fits in a very large space and we suddenly fall into the pitfalls of high dimensionality. You could think of applying PCA or SVD to these one-hot vectors but as for most tasks nowadays, neural networks have proven to be better at this. To put it simply, there is a more elegant way. \n",
    "\n",
    "<img src=\"media/but-how-doc.jpg\" width=\"450\">\n",
    "\n"
   ]
  },
  {
   "cell_type": "markdown",
   "metadata": {},
   "source": [
    "## 1.1 Training word vectors\n",
    "\n",
    "So you know the data - a bunch of words. You know the goal - a vector with an arbitrary number of K features. And you know the means - neural networks. So how does it all work? \"You shall know a word by the company it keeps\". These are the words of John Rupert Firth (at least according to Wikipedia), and they are the basis of the following method - Word2vec. \n",
    "\n",
    "**Word2vec** is a popular technique for using neural models to produce word embeddings, and it encompasses two main approaches - Continuous Bag Of Words (CBOW) and skipgram - that we will describe here.\n",
    "\n",
    "Initially, we center a window of length n around each word in our training text. The word at the center is called the center word and the rest are context words. Each window will produce a training example that we will plug into a neural network. There are two approaches to the training:\n",
    "\n",
    "1 - **CBOW**: the input words are the context words, and we predict the center word \n",
    "\n",
    "2 - **Skip-gram**: complementary to the previous method, the input is the center word, and the predictions are the context words\n",
    "\n",
    "The values we are trying to predict are called the **weights** of the neural network, and they will map to our word vectors directly. We aren't going to deepdive into neural networks at the moment, and there are definitely more details on how to set up these models, but the basic intuition can be seen in the following image:\n",
    "\n",
    "<img src=\"./media/word2vec.png\" width=\"500\">\n",
    "\n",
    "The projection layer depicted contains these **weights** we mentioned, which we'll iteratively train based on a large amount of data so that we get strong word vectors at the end of training.\n"
   ]
  },
  {
   "cell_type": "markdown",
   "metadata": {},
   "source": [
    "## 1.2 Pretrained word vectors\n",
    "\n",
    "The best thing about these vectors, however, is that they are universal and ready to use of the shelf. They were trained on a huge amount of text data in the same language and we just take them and use them for our task. It saves us the time and effort of gathering, processing and training on our own data.\n",
    "\n",
    "One set of such pretrained vectors is from **spacy**. [Spacy](https://spacy.io) is a toolkit similar to NLTK, but it contains embedded deep learning models for NLP and it typically has better performance for industrial applications. The pretrained word vectors are easy to use out of the box by importing the spacy library.\n",
    "Spacy has several library versions with different vocabulary and vector size, we are loading the medium one. You can try to switch between versions in the following experiments and see the impact."
   ]
  },
  {
   "cell_type": "code",
   "execution_count": 6,
   "metadata": {},
   "outputs": [],
   "source": [
    "nlp = spacy.load('en_core_web_md')"
   ]
  },
  {
   "cell_type": "markdown",
   "metadata": {},
   "source": [
    "If the previous cell throws an error, the library has not downloaded during the virtual environment creation, so you need to do it manually by running `python -m spacy download en_core_web_md` in your terminal.\n",
    "\n",
    "There are several available libraries of word vectors out there, such as [FastText](https://fasttext.cc) and [Glove](https://nlp.stanford.edu/projects/glove/). These all provide good quality embeddings for your NLP tasks. Their training methods are usually based on the Word2vec, but there are differences in the details."
   ]
  },
  {
   "cell_type": "markdown",
   "metadata": {},
   "source": [
    "## 2. Word representations in Spacy\n",
    "\n",
    "Now let's dig into the vectors and see what we can get from them. We can start by seeing the representation for a particular word, for example *house*.\n"
   ]
  },
  {
   "cell_type": "code",
   "execution_count": 7,
   "metadata": {},
   "outputs": [
    {
     "data": {
      "text/plain": [
       "array([-0.90543 , -2.6086  , -5.0713  , -2.0154  ,  2.7027  , -2.7953  ,\n",
       "        4.8408  ,  4.7418  ,  1.686   ,  6.492   ,  5.1332  , -0.95634 ,\n",
       "       -2.5573  ,  5.4958  , -1.9762  , -2.6233  , -2.1019  , -1.9035  ,\n",
       "        2.0439  , -5.2747  ,  1.0465  ,  0.35399 ,  4.4307  , -0.11785 ,\n",
       "        2.5747  ,  0.33719 , -0.87352 , -5.2227  , -3.2541  , -1.9433  ,\n",
       "       -0.50336 , -0.058398,  3.3487  , -3.742   , -3.3131  ,  0.12359 ,\n",
       "       -0.55388 ,  5.7538  ,  2.7122  , -1.1781  , -1.585   , -1.6623  ,\n",
       "        3.2545  , -0.41248 , -1.1713  ,  2.408   , -0.44603 , -4.2474  ,\n",
       "        0.087175,  2.1871  , -1.3372  ,  6.4992  , -0.354   , -3.6692  ,\n",
       "        1.0833  ,  0.38513 ,  2.6469  , -1.651   ,  6.7615  , -1.855   ,\n",
       "       -1.4257  , -4.3342  ,  1.3257  ,  0.12542 ,  2.6058  , -3.6989  ,\n",
       "       -2.8216  , -2.4928  ,  2.1173  ,  5.8335  , -0.99999 , -1.8232  ,\n",
       "        2.0089  , -2.694   ,  5.8093  ,  2.9267  , -0.89982 ,  4.6008  ,\n",
       "       -1.5294  ,  1.4374  , -3.3156  ,  0.20706 ,  8.1748  , -4.0037  ,\n",
       "       -1.5388  ,  1.7464  , -0.7493  ,  1.1179  , -0.36809 , -5.5981  ,\n",
       "       -1.3536  ,  1.6425  ,  0.27881 , -0.80751 ,  1.3633  , -1.2939  ,\n",
       "        4.907   ,  3.3526  ,  5.8383  , -0.85523 ,  0.33171 , -1.2978  ,\n",
       "        4.8721  ,  0.70181 ,  3.0652  , -1.4806  , -3.0802  ,  1.1545  ,\n",
       "        2.0092  , -7.7975  ,  2.1592  ,  0.89633 ,  5.6101  , -0.87544 ,\n",
       "        3.6557  , -0.3955  ,  0.44043 , -4.4261  ,  5.8523  , -2.1364  ,\n",
       "       -0.72843 , -0.93329 , -3.8524  ,  5.666   ,  1.6537  , -3.7566  ,\n",
       "        3.8312  , -4.0052  ,  4.4034  ,  1.6484  , -4.015   , -1.6446  ,\n",
       "        2.4904  , -1.4567  , -0.73674 , -4.4673  , -0.89075 , -2.1621  ,\n",
       "        6.8755  , -1.0594  , -3.036   , -0.35419 , -1.4464  , -3.6702  ,\n",
       "       -0.47311 , -3.8733  , -6.6622  , -2.7966  , -0.21733 , -0.94941 ,\n",
       "        3.2152  , -1.4964  ,  4.0962  ,  3.0491  , -0.23364 ,  0.025973,\n",
       "        1.2675  , -0.41382 , -1.074   , -1.8867  , -7.3618  , -9.2015  ,\n",
       "        0.8599  ,  0.82681 , -0.44187 ,  4.1593  , -3.733   ,  1.1384  ,\n",
       "        0.95655 , -0.70039 ,  2.6842  , -2.7933  , -3.2384  , -0.26792 ,\n",
       "        3.6661  , -0.63419 ,  0.78477 ,  4.1912  , -2.2513  , -2.3873  ,\n",
       "        3.1598  ,  5.7813  , -0.61699 ,  2.4585  , -0.69746 , -2.0575  ,\n",
       "        4.7569  , -6.9294  , -2.0436  ,  4.6259  , -1.7481  , -5.4439  ,\n",
       "       -5.2075  , -1.5634  ,  0.3823  , -0.47874 , -0.59743 ,  1.9487  ,\n",
       "        2.7444  , -0.67513 , -1.3115  , -1.5084  ,  1.9753  , -0.3322  ,\n",
       "        3.1013  , -6.4246  ,  1.6753  ,  0.60541 , -1.8384  , -4.0691  ,\n",
       "        2.3287  ,  1.8677  , -2.2625  ,  3.2064  ,  3.6648  ,  4.5369  ,\n",
       "       -0.14628 , -2.2856  , -4.9794  , -3.3512  ,  2.0485  , -2.3952  ,\n",
       "       -2.3222  , -0.73555 , -5.2455  , -0.83131 ,  2.6899  ,  3.5198  ,\n",
       "        2.511   ,  1.3507  ,  1.3257  , -2.9631  , -0.85703 ,  4.659   ,\n",
       "        1.4678  ,  3.9648  ,  0.36843 ,  3.7176  ,  1.3637  ,  3.3029  ,\n",
       "        2.2107  ,  1.9662  ,  3.8349  ,  2.4651  , -2.0084  , -2.5137  ,\n",
       "       -5.5093  ,  3.9512  , -0.64658 ,  1.2984  , -2.6753  , -1.9673  ,\n",
       "       -5.2206  ,  3.5561  , -3.1059  , -3.577   ,  1.0736  ,  0.81648 ,\n",
       "       -1.6193  , -1.4423  ,  2.119   ,  5.9741  , -3.5288  , -7.0824  ,\n",
       "        0.54872 ,  1.6529  , -0.18929 ,  2.1479  , -4.6762  ,  2.3088  ,\n",
       "        1.2728  , -0.48276 , -2.6205  ,  0.21329 ,  1.7528  , -0.39964 ,\n",
       "        0.85593 , -0.088316,  1.7843  ,  1.7377  ,  1.2235  ,  0.34179 ,\n",
       "        3.1862  ,  0.76386 ,  4.1521  , -0.9916  , -1.5775  ,  4.4125  ,\n",
       "       -6.6153  , -3.265   , -1.4     , -0.83317 ,  0.17526 ,  0.15094 ,\n",
       "       -4.6064  , -1.9871  , -4.4476  ,  0.43165 , -2.1459  ,  0.58753 ],\n",
       "      dtype=float32)"
      ]
     },
     "execution_count": 7,
     "metadata": {},
     "output_type": "execute_result"
    }
   ],
   "source": [
    "nlp('house').vector"
   ]
  },
  {
   "cell_type": "markdown",
   "metadata": {},
   "source": [
    "We can define a simple function just to make it easier and avoid rewriting the same thing over and over again."
   ]
  },
  {
   "cell_type": "code",
   "execution_count": 8,
   "metadata": {},
   "outputs": [],
   "source": [
    "def vec(s):\n",
    "    return nlp.vocab[s].vector"
   ]
  },
  {
   "cell_type": "markdown",
   "metadata": {},
   "source": [
    "Let's also check the size of the vector:"
   ]
  },
  {
   "cell_type": "code",
   "execution_count": 9,
   "metadata": {},
   "outputs": [
    {
     "data": {
      "text/plain": [
       "(300,)"
      ]
     },
     "execution_count": 9,
     "metadata": {},
     "output_type": "execute_result"
    }
   ],
   "source": [
    "nlp('house').vector.shape"
   ]
  },
  {
   "cell_type": "markdown",
   "metadata": {},
   "source": [
    "These word embeddings are 300-dimensional, or, in other words, they have 300 features. We'll come back to this later."
   ]
  },
  {
   "cell_type": "markdown",
   "metadata": {},
   "source": [
    "## 3. Cosine similarity\n",
    "\n",
    "We can check similarities between words using cosine similarity. The cosine similarity is a measure of similarity between the vectors expressed as the cosine of the angle between them. It is defined by the following equation:\n",
    "\n",
    "$$\\text{cos-similarity} = \\frac{A \\cdot B}{\\| A \\| \\| B \\|}$$\n",
    "\n",
    "More similar vectors point to a similar direction, so the angle between them is low and the cosine similarity is high. The values of cosine similarity are between -1 and 1. At 1, the vectors are pointing in the same direction, at 0, they are perpendicular, and at -1, they are pointing in opposite direction. It is very easy to see this in the 2D plane.\n",
    "\n",
    "<img src=\"./media/cosine.png\" width=\"400\">\n",
    "\n",
    "In this example, there are three animals with two features - if the animal lives in the woods and how much it hunts. The vectors represent where each animal is in this feature space and so if the vectors are closer together, they are more similar."
   ]
  },
  {
   "cell_type": "code",
   "execution_count": 10,
   "metadata": {},
   "outputs": [],
   "source": [
    "# cosine similarity\n",
    "def cosine(v1, v2):\n",
    "    if norm(v1) > 0 and norm(v2) > 0:\n",
    "        return dot(v1, v2) / (norm(v1) * norm(v2))\n",
    "    else:\n",
    "        return 0.0"
   ]
  },
  {
   "cell_type": "markdown",
   "metadata": {},
   "source": [
    "Let's test it out. Using cosine similarity, closer words - like *house* and *home* - should have higher scores. On the other hand words with different meanings, even if they are close in terms of characters - like *house* and *mouse* - should produce a low score, if our word vectors really capture meaning:"
   ]
  },
  {
   "cell_type": "code",
   "execution_count": 11,
   "metadata": {},
   "outputs": [
    {
     "data": {
      "text/plain": [
       "0.70501816"
      ]
     },
     "execution_count": 11,
     "metadata": {},
     "output_type": "execute_result"
    }
   ],
   "source": [
    "cosine(vec('house'), vec('home'))"
   ]
  },
  {
   "cell_type": "code",
   "execution_count": 12,
   "metadata": {},
   "outputs": [
    {
     "data": {
      "text/plain": [
       "0.30104372"
      ]
     },
     "execution_count": 12,
     "metadata": {},
     "output_type": "execute_result"
    }
   ],
   "source": [
    "cosine(vec('house'), vec('mouse'))"
   ]
  },
  {
   "cell_type": "markdown",
   "metadata": {},
   "source": [
    "As expected, *house* is closer to *home* than it is to *mouse*. Makes sense!\n",
    "\n",
    "<img src=\"./media/future.jpg\" width=\"400\">\n",
    "\n",
    "\n",
    "\n",
    "\n",
    "Once again, to simplify our next examples, let's create a function that gets us the closest words to the vector that we are interested in:"
   ]
  },
  {
   "cell_type": "code",
   "execution_count": 13,
   "metadata": {},
   "outputs": [],
   "source": [
    "def spacy_closest(token_list, vec_to_check, n=10, dont_include_list=[]):\n",
    "    return sorted([(x, cosine(vec_to_check, vec(x))) for x in token_list if x not in dont_include_list],\n",
    "                  key=lambda x: x[1],\n",
    "                  reverse=True)[:n]"
   ]
  },
  {
   "cell_type": "markdown",
   "metadata": {},
   "source": [
    "We are going to apply this function in further examples. To simplify a bit, let's limit the vocabulary to the one from the Twitter dataset we used in the previous learning notebook. We can then find the closest words to the word *house*.  We start by reading the dataset and getting its vocabulary:"
   ]
  },
  {
   "cell_type": "code",
   "execution_count": 15,
   "metadata": {},
   "outputs": [],
   "source": [
    "df = pd.read_csv('./data/twitter_rep_dem_data_small.csv')\n",
    "\n",
    "handle_removal = lambda doc: re.subn(r'@\\w+','', doc.lower())[0]\n",
    "df['Tweet'] = df['Tweet'].map(handle_removal)\n",
    "\n",
    "simple_tokenizer = lambda doc: \" \".join(WordPunctTokenizer().tokenize(doc))\n",
    "df['Tweet'] = df['Tweet'].map(simple_tokenizer)\n",
    "\n",
    "vectorizer = TfidfVectorizer()\n",
    "vectorizer.fit_transform(df.Tweet)\n",
    "\n",
    "tweet_vocab = vectorizer.vocabulary_"
   ]
  },
  {
   "cell_type": "markdown",
   "metadata": {},
   "source": [
    "These are the 10 closest words to *house*: "
   ]
  },
  {
   "cell_type": "code",
   "execution_count": 16,
   "metadata": {},
   "outputs": [
    {
     "data": {
      "text/plain": [
       "[('hothouse', 0.99999994),\n",
       " ('houses', 0.7942134),\n",
       " ('playhouses', 0.7942134),\n",
       " ('apartment', 0.7159029),\n",
       " ('home', 0.70501816),\n",
       " ('homenaje', 0.70501816),\n",
       " ('mansion', 0.68605477),\n",
       " ('courthouse', 0.67482996),\n",
       " ('warehouse', 0.6685663),\n",
       " ('plazo', 0.66722745)]"
      ]
     },
     "execution_count": 16,
     "metadata": {},
     "output_type": "execute_result"
    }
   ],
   "source": [
    "spacy_closest(tweet_vocab.keys(),\n",
    "              vec('house'),\n",
    "              dont_include_list=['house'])"
   ]
  },
  {
   "cell_type": "markdown",
   "metadata": {},
   "source": [
    "## 4. Word relations\n",
    "\n",
    "There is much more that we can do to show you that these vectors capture the meaning, or at least some semantic information, of our vocabulary. Hopefully, if you still don't believe it, this will help. For example, what do you think will happen if we subtract man from king and add woman?"
   ]
  },
  {
   "cell_type": "code",
   "execution_count": 17,
   "metadata": {},
   "outputs": [
    {
     "data": {
      "text/plain": [
       "[('monarchs', 0.6899287),\n",
       " ('prince', 0.65628284),\n",
       " ('princess', 0.6480763),\n",
       " ('queens', 0.6178014),\n",
       " ('queen', 0.6178014),\n",
       " ('throne', 0.6081843),\n",
       " ('nobility', 0.6025089),\n",
       " ('imperial', 0.6010856),\n",
       " ('kingdom', 0.5926837),\n",
       " ('royal', 0.589522)]"
      ]
     },
     "execution_count": 17,
     "metadata": {},
     "output_type": "execute_result"
    }
   ],
   "source": [
    "spacy_closest(tweet_vocab.keys(), \n",
    "              vec('king') - vec('man') + vec('woman'),\n",
    "              dont_include_list=['king', 'man', 'woman'])"
   ]
  },
  {
   "cell_type": "markdown",
   "metadata": {},
   "source": [
    "<img src=\"./media/mind-blown-2.png\" width=\"300\">\n",
    "\n",
    "\n",
    "And what is the mean between morning and evening?"
   ]
  },
  {
   "cell_type": "code",
   "execution_count": 18,
   "metadata": {},
   "outputs": [
    {
     "data": {
      "text/plain": [
       "[('mornin', 0.9607939),\n",
       " ('convening', 0.95948684),\n",
       " ('afternoon', 0.8967448),\n",
       " ('mornings', 0.8549312),\n",
       " ('night', 0.83286226),\n",
       " ('nigh', 0.83286226),\n",
       " ('nighter', 0.83286226),\n",
       " ('evenings', 0.7993388),\n",
       " ('midnight', 0.75258917),\n",
       " ('daybreak', 0.75258917)]"
      ]
     },
     "execution_count": 18,
     "metadata": {},
     "output_type": "execute_result"
    }
   ],
   "source": [
    "spacy_closest(tweet_vocab.keys(),\n",
    "              np.mean(np.array([vec('morning'), vec('evening')]), axis=0),\n",
    "              dont_include_list=['morning', 'evening'])"
   ]
  },
  {
   "cell_type": "markdown",
   "metadata": {},
   "source": [
    "<img src=\"./media/mind-blown-3.png\" width=\"300\">\n",
    "\n",
    "\n",
    "What the sky is to blue, the grass is to ..."
   ]
  },
  {
   "cell_type": "code",
   "execution_count": 19,
   "metadata": {},
   "outputs": [
    {
     "data": {
      "text/plain": [
       "[('green', 0.49475595),\n",
       " ('greener', 0.49475595),\n",
       " ('greene', 0.49475595),\n",
       " ('greenest', 0.49475595),\n",
       " ('greenbrier', 0.49475595),\n",
       " ('brown', 0.47857535),\n",
       " ('walgreens', 0.4525114),\n",
       " ('coloured', 0.43883103),\n",
       " ('synthetic', 0.43828773),\n",
       " ('white', 0.43364882)]"
      ]
     },
     "execution_count": 19,
     "metadata": {},
     "output_type": "execute_result"
    }
   ],
   "source": [
    "spacy_closest(tweet_vocab.keys(), \n",
    "              vec('blue') - vec('sky') + vec('grass'),\n",
    "              dont_include_list=['blue', 'sky', 'grass'])"
   ]
  },
  {
   "cell_type": "markdown",
   "metadata": {},
   "source": [
    "<img src=\"./media/mind-blown-4.png\" width=\"300\">\n",
    "\n",
    "<br>\n",
    "\n",
    "## 5. Applying word vectors to sentences\n",
    "\n",
    "There are several ways you could think of to construct a sentence representation from these vectors, such as:\n",
    "\n",
    "* sum\n",
    "* average \n",
    "* concatenation\n",
    "\n",
    "The average is a good enough approach to start with, so let's implement a function to get the sentence vector representation from the average of its words:"
   ]
  },
  {
   "cell_type": "code",
   "execution_count": 21,
   "metadata": {},
   "outputs": [],
   "source": [
    "def sentvec(s):\n",
    "    sent = nlp(s)\n",
    "    return np.mean(np.array([w.vector for w in sent]), axis=0)"
   ]
  },
  {
   "cell_type": "markdown",
   "metadata": {},
   "source": [
    "We can then use the same logic to get the closest sentence according to the sentence representation we chose. Below you have the implementation of the previous function that used cosine similarity, but for sentences."
   ]
  },
  {
   "cell_type": "code",
   "execution_count": 22,
   "metadata": {},
   "outputs": [],
   "source": [
    "def spacy_closest_sent(space, input_str, n=10):\n",
    "    input_vec = sentvec(input_str)\n",
    "    return sorted(space,\n",
    "                  key=lambda x: cosine(sentvec(x), input_vec),\n",
    "                  reverse=True)[:n]"
   ]
  },
  {
   "cell_type": "markdown",
   "metadata": {},
   "source": [
    "Let's try it out with a sentence:"
   ]
  },
  {
   "cell_type": "code",
   "execution_count": 24,
   "metadata": {},
   "outputs": [
    {
     "name": "stdout",
     "output_type": "stream",
     "text": [
      "i am opposed to this proposal and will fight to keep fair and just .\n",
      "---\n",
      "i am not the least bit surprised that is pushing to weaken # airquality regulations . we must stand for # environmentaljustice !\n",
      "---\n",
      "rt : i am delighted that will be voting for the cra to overrule the fcc and save our # netneutrality rules . find out …\n",
      "---\n",
      "“ and i am sure that one day the united states will come back and join the paris climate agreement !”\n",
      "---\n",
      "rt : i am looking forward to joining and this sunday in nyc for this important discussion on the call f …\n",
      "---\n",
      "earlier this week i was honored to welcome the to d . c . for their first ever hill day . i am committ … https :// t . co / euvcuwlh6e\n",
      "---\n",
      "he turned a tragedy into a legacy of helping others . i am proud to call him my constituent and look forward to cont … https :// t . co / pbr4fpewys\n",
      "---\n",
      "i call on mr . pruitt to resign because americans cannot and should not be the victim of his abuse of power .\n",
      "---\n",
      "rt : we will be following this case closely . for now , has 90 days to explain why the # daca program was terminated . i …\n",
      "---\n",
      "rt : when i was in college , students were able to graduate without crushing debt . unfortunately , that is not the reality for man …\n",
      "---\n"
     ]
    }
   ],
   "source": [
    "for sent in spacy_closest_sent(df.Tweet.values[:2000], \"i am against the trump administration .\"):\n",
    "    print(sent)\n",
    "    print('---')"
   ]
  },
  {
   "cell_type": "markdown",
   "metadata": {},
   "source": [
    "It seems to have worked quite well, wouldn't you agree, Marty?\n",
    "\n",
    "If you are still not convinced about this, you can try to project all your vectors into a 2D space (by applying PCA, for example) and convince yourself that words are somewhat organized by meaning, and we can extract word relations from its distances. If you project your vectors, you should get something similar to this:\n",
    "\n",
    "<img src=\"./media/word-vectors-projection.png\" width=\"600\">\n"
   ]
  },
  {
   "cell_type": "markdown",
   "metadata": {},
   "source": [
    "## 6. NLP practical example\n",
    "\n",
    "All that is left is to use these new word representations as the features of our models. We start by defining a function to build sentence vectors for this dataset."
   ]
  },
  {
   "cell_type": "code",
   "execution_count": 25,
   "metadata": {},
   "outputs": [],
   "source": [
    "def build_sentence_vecs(docs):\n",
    "    num_examples = len(docs)\n",
    "    word_vector_shape = nlp.vocab.vectors.shape[-1]\n",
    "    vectors = np.zeros([num_examples, word_vector_shape])\n",
    "    for ii, doc in enumerate(docs):\n",
    "        vector = sentvec(doc)\n",
    "        vectors[ii] = vector\n",
    "    \n",
    "    # in case we get any NaN's or Inf, replace them with 0s\n",
    "    return np.nan_to_num(vectors)"
   ]
  },
  {
   "cell_type": "markdown",
   "metadata": {},
   "source": [
    "First let's get a baseline as we did before (it should match the one from the previous notebook). "
   ]
  },
  {
   "cell_type": "code",
   "execution_count": 26,
   "metadata": {},
   "outputs": [
    {
     "name": "stdout",
     "output_type": "stream",
     "text": [
      "Accuracy: 0.5062994960403168\n"
     ]
    }
   ],
   "source": [
    "handle_removal = lambda doc: re.subn(r'@\\w+','', doc.lower())[0]\n",
    "df['Tweet'] = df['Tweet'].map(handle_removal)\n",
    "\n",
    "simple_tokenizer = lambda doc: \" \".join(WordPunctTokenizer().tokenize(doc))\n",
    "df['Tweet'] = df['Tweet'].map(simple_tokenizer)\n",
    "\n",
    "train_data, test_data = train_test_split(df, test_size=0.3, random_state=seed)\n",
    "\n",
    "vectorizer = TfidfVectorizer()\n",
    "X_train = vectorizer.fit_transform(train_data.Tweet)\n",
    "X_test = vectorizer.transform(test_data.Tweet)\n",
    "\n",
    "y_train = train_data.Party\n",
    "y_test = test_data.Party\n",
    "\n",
    "clf =  KNeighborsClassifier()\n",
    "clf.fit(X_train, y_train)\n",
    "y_pred = clf.predict(X_test)\n",
    "print('Accuracy: {}'.format(accuracy_score(y_pred, y_test)))"
   ]
  },
  {
   "cell_type": "markdown",
   "metadata": {},
   "source": [
    "Let's also get baselines for our previous methods - SVD and PCA. We'll use 300 as the number of components to keep so we can compare with the new technique."
   ]
  },
  {
   "cell_type": "code",
   "execution_count": 27,
   "metadata": {},
   "outputs": [
    {
     "name": "stdout",
     "output_type": "stream",
     "text": [
      "Truncated SVD Accuracy: 0.6040316774658028\n",
      "PCA Accuracy: 0.599712023038157\n"
     ]
    }
   ],
   "source": [
    "vectorizer = TfidfVectorizer()\n",
    "X_train = vectorizer.fit_transform(train_data.Tweet)\n",
    "X_test = vectorizer.transform(test_data.Tweet)\n",
    "\n",
    "svd = TruncatedSVD(n_components=300, random_state=seed)\n",
    "svd.fit(X_train)\n",
    "X_train_svd = svd.transform(X_train)\n",
    "X_test_svd =  svd.transform(X_test)\n",
    "\n",
    "clf =  KNeighborsClassifier()\n",
    "clf.fit(X_train_svd, y_train)\n",
    "y_pred = clf.predict(X_test_svd)\n",
    "print('Truncated SVD Accuracy: {}'.format(accuracy_score(y_pred, y_test)))\n",
    "\n",
    "pca = PCA(n_components=300, random_state=seed)\n",
    "X_train_dense = X_train.toarray()\n",
    "X_test_dense = X_test.toarray()\n",
    "pca.fit(X_train_dense)\n",
    "X_train_pca = pca.transform(X_train_dense)\n",
    "X_test_pca =  pca.transform(X_test_dense)\n",
    "\n",
    "clf =  KNeighborsClassifier()\n",
    "clf.fit(X_train_pca, y_train)\n",
    "y_pred = clf.predict(X_test_pca)\n",
    "print('PCA Accuracy: {}'.format(accuracy_score(y_pred, y_test)))"
   ]
  },
  {
   "cell_type": "markdown",
   "metadata": {},
   "source": [
    "For 300 features, PCA and SVD have a pretty low accuracy. Now let's split the data and build the vectors - it might take a few minutes to get the vectors for all training and test data. We'll print the shape of the output vector - you should see that our feature vector now has 300 dimensions."
   ]
  },
  {
   "cell_type": "code",
   "execution_count": 28,
   "metadata": {},
   "outputs": [
    {
     "name": "stdout",
     "output_type": "stream",
     "text": [
      "(12963, 300)\n"
     ]
    }
   ],
   "source": [
    "#calculate sentence vectors for each tweet\n",
    "X_train = build_sentence_vecs(train_data.Tweet.values)\n",
    "X_test = build_sentence_vecs(test_data.Tweet.values)\n",
    "\n",
    "print(X_train.shape)"
   ]
  },
  {
   "cell_type": "markdown",
   "metadata": {},
   "source": [
    "Let's run the same model and see how much accuracy we can get out of our 300 features:"
   ]
  },
  {
   "cell_type": "code",
   "execution_count": 29,
   "metadata": {},
   "outputs": [
    {
     "name": "stdout",
     "output_type": "stream",
     "text": [
      "Accuracy: 0.6002519798416127\n"
     ]
    }
   ],
   "source": [
    "clf = KNeighborsClassifier()\n",
    "clf.fit(X_train, y_train)\n",
    "y_pred = clf.predict(X_test)\n",
    "\n",
    "print('Accuracy: {}'.format(accuracy_score(y_pred, y_test)))"
   ]
  },
  {
   "cell_type": "markdown",
   "metadata": {},
   "source": [
    "For 300 features, this is a pretty close accuracy. We can even go further, for example let's try to remove stopwords from the equation."
   ]
  },
  {
   "cell_type": "markdown",
   "metadata": {},
   "source": [
    "First we need to download the set of stopwords. Uncomment the below line to run `nltk.download('stopwords')`"
   ]
  },
  {
   "cell_type": "code",
   "execution_count": 30,
   "metadata": {},
   "outputs": [
    {
     "name": "stderr",
     "output_type": "stream",
     "text": [
      "[nltk_data] Downloading package stopwords to\n",
      "[nltk_data]     /home/sanctus/nltk_data...\n",
      "[nltk_data]   Unzipping corpora/stopwords.zip.\n"
     ]
    },
    {
     "data": {
      "text/plain": [
       "True"
      ]
     },
     "execution_count": 30,
     "metadata": {},
     "output_type": "execute_result"
    }
   ],
   "source": [
    "nltk.download('stopwords')"
   ]
  },
  {
   "cell_type": "code",
   "execution_count": 31,
   "metadata": {},
   "outputs": [
    {
     "name": "stdout",
     "output_type": "stream",
     "text": [
      "Accuracy: 0.6195104391648668\n"
     ]
    }
   ],
   "source": [
    "# Redefine functions to use stopwords information\n",
    "\n",
    "def sentvec_tfidf(s, stopwords):\n",
    "    sent = nlp(s)\n",
    "    return np.average(np.array([w.vector for w in sent if w.text not in stopwords]), axis=0)\n",
    "    \n",
    "def build_sentence_vecs_tfidf(docs, stopwords):\n",
    "    num_examples = len(docs)\n",
    "    word_vector_shape = nlp.vocab.vectors.shape[-1]\n",
    "    vectors = np.zeros([num_examples, word_vector_shape])\n",
    "    for ii, doc in enumerate(docs):\n",
    "        vector = sentvec_tfidf(doc, stopwords)\n",
    "        vectors[ii] = vector\n",
    "    \n",
    "    # in case we get any NaN's or Inf, replace them with 0s\n",
    "    return np.nan_to_num(vectors)\n",
    "\n",
    "# Run with english stopwords\n",
    "stopwords = set(nltk.corpus.stopwords.words('english'))\n",
    "X_train = build_sentence_vecs_tfidf(train_data.Tweet.values, stopwords)\n",
    "X_test = build_sentence_vecs_tfidf(test_data.Tweet.values, stopwords)\n",
    "\n",
    "clf =  KNeighborsClassifier()\n",
    "clf.fit(X_train, train_data.Party)\n",
    "pred = clf.predict(X_test)\n",
    "print('Accuracy: {}'.format(accuracy_score(pred, test_data.Party)))"
   ]
  },
  {
   "cell_type": "markdown",
   "metadata": {},
   "source": [
    "Awesome! We got a little bit more accuracy with a simple strategy. There are much more tweaks that you can (and should) try to improve your accuracy. \n",
    "\n",
    "<br> \n",
    "\n",
    "## 7. Final remarks\n",
    "\n",
    "In this last part, we've shown you that word vectors are pretty useful and intuitive, keeping meaningful information about words in a compact feature space. If you wish to dig further into these word representations we suggest this [paper](https://arxiv.org/pdf/1301.3781.pdf). As before, take into consideration that although word vectors can be used as an out of the box solution for several NLP tasks, all the factors mentioned before will affect your model performance. So once again, you should still be careful with:\n",
    "\n",
    "- Initial text preprocessing\n",
    "- Choice of classifier\n",
    "- Parameter selection\n",
    "\n",
    "In particular, for most of NLP tasks, neural networks have been showing extremely good performance, and if you really want to get into this field, you should learn more about that. However, these basic techniques are essential to understand some of the reasoning when handling text and can still prove quite useful to us.\n",
    "\n",
    "And that's it for this BLU. You have come out on the other side with a much wider view of the different methods and reasoning you can take when handling features in NLP (and outside NLP) in a high dimensional space. There is so much more, but these basic tools should suffice for you to start working with text data and to understand more complex approaches built on top of these methods. See you in the next BLU!\n",
    "\n",
    "<br>\n",
    "\n",
    "<img src=\"./media/see-you-in-the-future.png\" width=\"500\">\n",
    "\n"
   ]
  }
 ],
 "metadata": {
  "kernelspec": {
   "display_name": "Python 3 (ipykernel)",
   "language": "python",
   "name": "python3"
  },
  "language_info": {
   "codemirror_mode": {
    "name": "ipython",
    "version": 3
   },
   "file_extension": ".py",
   "mimetype": "text/x-python",
   "name": "python",
   "nbconvert_exporter": "python",
   "pygments_lexer": "ipython3",
   "version": "3.10.12"
  }
 },
 "nbformat": 4,
 "nbformat_minor": 2
}
