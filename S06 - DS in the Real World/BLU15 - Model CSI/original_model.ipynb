{
 "cells": [
  {
   "cell_type": "code",
   "execution_count": 1,
   "metadata": {},
   "outputs": [],
   "source": [
    "import json\n",
    "import joblib\n",
    "import pickle\n",
    "import pandas as pd\n",
    "from lightgbm import LGBMClassifier\n",
    "from sklearn.model_selection import train_test_split\n",
    "from sklearn.pipeline import make_pipeline, Pipeline\n",
    "from sklearn.preprocessing import OneHotEncoder\n",
    "from sklearn.compose import ColumnTransformer\n",
    "from sklearn.impute import SimpleImputer\n",
    "from sklearn.metrics import precision_score, recall_score\n",
    "import numpy as np\n",
    "from sklearn.metrics import precision_recall_curve\n",
    "import matplotlib.pyplot as plt"
   ]
  },
  {
   "cell_type": "code",
   "execution_count": 2,
   "metadata": {},
   "outputs": [
    {
     "data": {
      "text/html": [
       "<div>\n",
       "<style scoped>\n",
       "    .dataframe tbody tr th:only-of-type {\n",
       "        vertical-align: middle;\n",
       "    }\n",
       "\n",
       "    .dataframe tbody tr th {\n",
       "        vertical-align: top;\n",
       "    }\n",
       "\n",
       "    .dataframe thead th {\n",
       "        text-align: right;\n",
       "    }\n",
       "</style>\n",
       "<table border=\"1\" class=\"dataframe\">\n",
       "  <thead>\n",
       "    <tr style=\"text-align: right;\">\n",
       "      <th></th>\n",
       "      <th>VehicleSearchedIndicator</th>\n",
       "      <th>ContrabandIndicator</th>\n",
       "      <th>Department Name</th>\n",
       "      <th>InterventionDateTime</th>\n",
       "      <th>InterventionLocationName</th>\n",
       "      <th>InterventionReasonCode</th>\n",
       "      <th>ReportingOfficerIdentificationID</th>\n",
       "      <th>ResidentIndicator</th>\n",
       "      <th>SearchAuthorizationCode</th>\n",
       "      <th>StatuteReason</th>\n",
       "      <th>SubjectAge</th>\n",
       "      <th>SubjectEthnicityCode</th>\n",
       "      <th>SubjectRaceCode</th>\n",
       "      <th>SubjectSexCode</th>\n",
       "      <th>TownResidentIndicator</th>\n",
       "    </tr>\n",
       "  </thead>\n",
       "  <tbody>\n",
       "    <tr>\n",
       "      <th>0</th>\n",
       "      <td>True</td>\n",
       "      <td>False</td>\n",
       "      <td>Bridgeport</td>\n",
       "      <td>10/01/2013 12:46:00 AM</td>\n",
       "      <td>Bridgeport</td>\n",
       "      <td>V</td>\n",
       "      <td>1207</td>\n",
       "      <td>True</td>\n",
       "      <td>I</td>\n",
       "      <td>Speed Related</td>\n",
       "      <td>37.0</td>\n",
       "      <td>H</td>\n",
       "      <td>W</td>\n",
       "      <td>M</td>\n",
       "      <td>True</td>\n",
       "    </tr>\n",
       "    <tr>\n",
       "      <th>1</th>\n",
       "      <td>True</td>\n",
       "      <td>True</td>\n",
       "      <td>Milford</td>\n",
       "      <td>10/01/2013 01:50:00 AM</td>\n",
       "      <td>MILFORD</td>\n",
       "      <td>E</td>\n",
       "      <td>2325</td>\n",
       "      <td>True</td>\n",
       "      <td>I</td>\n",
       "      <td>Defective Lights</td>\n",
       "      <td>30.0</td>\n",
       "      <td>N</td>\n",
       "      <td>W</td>\n",
       "      <td>M</td>\n",
       "      <td>True</td>\n",
       "    </tr>\n",
       "    <tr>\n",
       "      <th>2</th>\n",
       "      <td>True</td>\n",
       "      <td>False</td>\n",
       "      <td>Torrington</td>\n",
       "      <td>10/01/2013 03:49:00 AM</td>\n",
       "      <td>Torrington</td>\n",
       "      <td>V</td>\n",
       "      <td>DACYR048</td>\n",
       "      <td>True</td>\n",
       "      <td>C</td>\n",
       "      <td>Registration</td>\n",
       "      <td>43.0</td>\n",
       "      <td>N</td>\n",
       "      <td>W</td>\n",
       "      <td>M</td>\n",
       "      <td>True</td>\n",
       "    </tr>\n",
       "    <tr>\n",
       "      <th>3</th>\n",
       "      <td>True</td>\n",
       "      <td>False</td>\n",
       "      <td>State Police</td>\n",
       "      <td>10/01/2013 05:30:00 AM</td>\n",
       "      <td>TOLLAND</td>\n",
       "      <td>V</td>\n",
       "      <td>1000002715</td>\n",
       "      <td>False</td>\n",
       "      <td>C</td>\n",
       "      <td>Other</td>\n",
       "      <td>19.0</td>\n",
       "      <td>N</td>\n",
       "      <td>B</td>\n",
       "      <td>M</td>\n",
       "      <td>False</td>\n",
       "    </tr>\n",
       "    <tr>\n",
       "      <th>4</th>\n",
       "      <td>True</td>\n",
       "      <td>False</td>\n",
       "      <td>Greenwich</td>\n",
       "      <td>10/01/2013 05:47:00 AM</td>\n",
       "      <td>RIVERSIDE</td>\n",
       "      <td>V</td>\n",
       "      <td>110993</td>\n",
       "      <td>False</td>\n",
       "      <td>N</td>\n",
       "      <td>Speed Related</td>\n",
       "      <td>34.0</td>\n",
       "      <td>M</td>\n",
       "      <td>B</td>\n",
       "      <td>M</td>\n",
       "      <td>False</td>\n",
       "    </tr>\n",
       "  </tbody>\n",
       "</table>\n",
       "</div>"
      ],
      "text/plain": [
       "   VehicleSearchedIndicator  ContrabandIndicator Department Name  \\\n",
       "0                      True                False      Bridgeport   \n",
       "1                      True                 True         Milford   \n",
       "2                      True                False      Torrington   \n",
       "3                      True                False    State Police   \n",
       "4                      True                False       Greenwich   \n",
       "\n",
       "     InterventionDateTime InterventionLocationName InterventionReasonCode  \\\n",
       "0  10/01/2013 12:46:00 AM               Bridgeport                      V   \n",
       "1  10/01/2013 01:50:00 AM                  MILFORD                      E   \n",
       "2  10/01/2013 03:49:00 AM               Torrington                      V   \n",
       "3  10/01/2013 05:30:00 AM                  TOLLAND                      V   \n",
       "4  10/01/2013 05:47:00 AM                RIVERSIDE                      V   \n",
       "\n",
       "  ReportingOfficerIdentificationID  ResidentIndicator SearchAuthorizationCode  \\\n",
       "0                             1207               True                       I   \n",
       "1                             2325               True                       I   \n",
       "2                         DACYR048               True                       C   \n",
       "3                       1000002715              False                       C   \n",
       "4                           110993              False                       N   \n",
       "\n",
       "      StatuteReason  SubjectAge SubjectEthnicityCode SubjectRaceCode  \\\n",
       "0     Speed Related        37.0                    H               W   \n",
       "1  Defective Lights        30.0                    N               W   \n",
       "2      Registration        43.0                    N               W   \n",
       "3             Other        19.0                    N               B   \n",
       "4     Speed Related        34.0                    M               B   \n",
       "\n",
       "  SubjectSexCode  TownResidentIndicator  \n",
       "0              M                   True  \n",
       "1              M                   True  \n",
       "2              M                   True  \n",
       "3              M                  False  \n",
       "4              M                  False  "
      ]
     },
     "execution_count": 2,
     "metadata": {},
     "output_type": "execute_result"
    }
   ],
   "source": [
    "df = pd.read_csv(\"data/train_searched.csv\")\n",
    "df.head()"
   ]
  },
  {
   "cell_type": "code",
   "execution_count": 3,
   "metadata": {},
   "outputs": [],
   "source": [
    "# lowercaes departments and location names\n",
    "df['Department Name'] = df['Department Name'].apply(lambda x: str(x).lower())\n",
    "df['InterventionLocationName'] = df['InterventionLocationName'].apply(lambda x: str(x).lower())"
   ]
  },
  {
   "cell_type": "code",
   "execution_count": 4,
   "metadata": {},
   "outputs": [],
   "source": [
    "train_features = df.columns.drop(['VehicleSearchedIndicator', 'ContrabandIndicator'])"
   ]
  },
  {
   "cell_type": "code",
   "execution_count": 5,
   "metadata": {},
   "outputs": [],
   "source": [
    "categorical_features = train_features.drop(['InterventionDateTime', 'SubjectAge'])\n",
    "numerical_features = ['SubjectAge']"
   ]
  },
  {
   "cell_type": "code",
   "execution_count": 6,
   "metadata": {},
   "outputs": [],
   "source": [
    "target = 'ContrabandIndicator'"
   ]
  },
  {
   "cell_type": "code",
   "execution_count": 7,
   "metadata": {},
   "outputs": [
    {
     "data": {
      "text/plain": [
       "Department Name\n",
       "state police                5449\n",
       "new haven                   5006\n",
       "wallingford                 2717\n",
       "waterbury                   2506\n",
       "west hartford               2214\n",
       "                            ... \n",
       "mta stamford                   4\n",
       "mta                            2\n",
       "wcsu                           1\n",
       "met dist water authority       1\n",
       "ecsu                           1\n",
       "Name: count, Length: 117, dtype: int64"
      ]
     },
     "metadata": {},
     "output_type": "display_data"
    },
    {
     "data": {
      "text/plain": [
       "InterventionLocationName\n",
       "new haven            5719\n",
       "waterbury            2938\n",
       "wallingford          2771\n",
       "norwich              2201\n",
       "bridgeport           2092\n",
       "                     ... \n",
       "winsted rd.             1\n",
       "park ave                1\n",
       "high at turner          1\n",
       "419                     1\n",
       "e. elm/brightwood       1\n",
       "Name: count, Length: 458, dtype: int64"
      ]
     },
     "metadata": {},
     "output_type": "display_data"
    },
    {
     "data": {
      "text/plain": [
       "InterventionReasonCode\n",
       "V    57944\n",
       "E    13187\n",
       "I     5612\n",
       "Name: count, dtype: int64"
      ]
     },
     "metadata": {},
     "output_type": "display_data"
    },
    {
     "data": {
      "text/plain": [
       "ReportingOfficerIdentificationID\n",
       "1000003196    517\n",
       "1000002072    370\n",
       "790642042     349\n",
       "10502         300\n",
       "30233         299\n",
       "             ... \n",
       "18907           1\n",
       "JMF0222         1\n",
       "1000014         1\n",
       "PSC56047        1\n",
       "P49             1\n",
       "Name: count, Length: 4941, dtype: int64"
      ]
     },
     "metadata": {},
     "output_type": "display_data"
    },
    {
     "data": {
      "text/plain": [
       "ResidentIndicator\n",
       "True     70049\n",
       "False     6694\n",
       "Name: count, dtype: int64"
      ]
     },
     "metadata": {},
     "output_type": "display_data"
    },
    {
     "data": {
      "text/plain": [
       "SearchAuthorizationCode\n",
       "O    30670\n",
       "C    27063\n",
       "I    15710\n",
       "N     3290\n",
       "Name: count, dtype: int64"
      ]
     },
     "metadata": {},
     "output_type": "display_data"
    },
    {
     "data": {
      "text/plain": [
       "StatuteReason\n",
       "Other                     11066\n",
       "Moving Violation           9969\n",
       "Defective Lights           9127\n",
       "Speed Related              8332\n",
       "Registration               7329\n",
       "Display of Plates          5859\n",
       "Administrative Offense     4845\n",
       "Stop Sign                  3738\n",
       "Traffic Control Signal     3716\n",
       "Window Tint                3375\n",
       "Other/Error                2240\n",
       "Seatbelt                   2173\n",
       "Cell Phone                 1731\n",
       "Suspended License          1376\n",
       "Unlicensed Operation        697\n",
       "STC Violation               595\n",
       "Equipment Violation         562\n",
       "Stop Sign                     3\n",
       "Name: count, dtype: int64"
      ]
     },
     "metadata": {},
     "output_type": "display_data"
    },
    {
     "data": {
      "text/plain": [
       "SubjectEthnicityCode\n",
       "N    58343\n",
       "H    17524\n",
       "M      876\n",
       "Name: count, dtype: int64"
      ]
     },
     "metadata": {},
     "output_type": "display_data"
    },
    {
     "data": {
      "text/plain": [
       "SubjectRaceCode\n",
       "W    53524\n",
       "B    22501\n",
       "A      498\n",
       "I      220\n",
       "Name: count, dtype: int64"
      ]
     },
     "metadata": {},
     "output_type": "display_data"
    },
    {
     "data": {
      "text/plain": [
       "SubjectSexCode\n",
       "M    62686\n",
       "F    14057\n",
       "Name: count, dtype: int64"
      ]
     },
     "metadata": {},
     "output_type": "display_data"
    },
    {
     "data": {
      "text/plain": [
       "TownResidentIndicator\n",
       "False    46264\n",
       "True     30479\n",
       "Name: count, dtype: int64"
      ]
     },
     "metadata": {},
     "output_type": "display_data"
    }
   ],
   "source": [
    "# show the most common feature values for all the categorical features\n",
    "for feature in categorical_features:\n",
    "    display(df[feature].value_counts())"
   ]
  },
  {
   "cell_type": "code",
   "execution_count": 8,
   "metadata": {},
   "outputs": [],
   "source": [
    "# I'm going to remove less common features. \n",
    "# Let's create a dictionary with the minimum required number of appearences\n",
    "min_frequency = {\n",
    "    \"Department Name\": 50,\n",
    "    \"InterventionLocationName\": 50,\n",
    "    \"ReportingOfficerIdentificationID\": 30,\n",
    "    \"StatuteReason\": 10\n",
    "}"
   ]
  },
  {
   "cell_type": "code",
   "execution_count": 9,
   "metadata": {},
   "outputs": [],
   "source": [
    "def filter_values(df: pd.DataFrame, column_name: str, threshold: int):\n",
    "    value_counts = df[column_name].value_counts()\n",
    "    to_keep = value_counts[value_counts > threshold].index\n",
    "    filtered = df[df[column_name].isin(to_keep)]\n",
    "    return filtered"
   ]
  },
  {
   "cell_type": "code",
   "execution_count": 10,
   "metadata": {},
   "outputs": [
    {
     "data": {
      "text/plain": [
       "(76743, 15)"
      ]
     },
     "execution_count": 10,
     "metadata": {},
     "output_type": "execute_result"
    }
   ],
   "source": [
    "df.shape"
   ]
  },
  {
   "cell_type": "code",
   "execution_count": 11,
   "metadata": {},
   "outputs": [],
   "source": [
    "for feature, threshold in min_frequency.items():\n",
    "    df = filter_values(df, feature, threshold)"
   ]
  },
  {
   "cell_type": "code",
   "execution_count": 12,
   "metadata": {},
   "outputs": [
    {
     "data": {
      "text/plain": [
       "(45334, 15)"
      ]
     },
     "execution_count": 12,
     "metadata": {},
     "output_type": "execute_result"
    }
   ],
   "source": [
    "df.shape"
   ]
  },
  {
   "cell_type": "code",
   "execution_count": 13,
   "metadata": {},
   "outputs": [],
   "source": [
    "X = df[train_features]\n",
    "y = df[target]"
   ]
  },
  {
   "cell_type": "code",
   "execution_count": 14,
   "metadata": {},
   "outputs": [],
   "source": [
    "X_train, X_test, y_train, y_test = train_test_split(X, y, test_size=0.25, random_state=42)"
   ]
  },
  {
   "cell_type": "code",
   "execution_count": 15,
   "metadata": {},
   "outputs": [],
   "source": [
    "categorical_transformer = Pipeline(steps=[\n",
    "    ('imputer', SimpleImputer(strategy='constant', fill_value='missing')),\n",
    "    ('onehot', OneHotEncoder(handle_unknown='ignore'))])\n",
    "\n",
    "preprocessor = ColumnTransformer(\n",
    "    transformers=[('cat', categorical_transformer, categorical_features)])\n",
    "\n",
    "pipeline = make_pipeline(\n",
    "    preprocessor,\n",
    "    LGBMClassifier(n_jobs=-1, random_state=42),\n",
    ")"
   ]
  },
  {
   "cell_type": "code",
   "execution_count": 16,
   "metadata": {},
   "outputs": [
    {
     "name": "stdout",
     "output_type": "stream",
     "text": [
      "[LightGBM] [Info] Number of positive: 11297, number of negative: 22703\n",
      "[LightGBM] [Warning] Auto-choosing row-wise multi-threading, the overhead of testing was 0.035519 seconds.\n",
      "You can set `force_row_wise=true` to remove the overhead.\n",
      "And if memory is not enough, you can set `force_col_wise=true`.\n",
      "[LightGBM] [Info] Total Bins 1866\n",
      "[LightGBM] [Info] Number of data points in the train set: 34000, number of used features: 933\n",
      "[LightGBM] [Info] [binary:BoostFromScore]: pavg=0.332265 -> initscore=-0.697960\n",
      "[LightGBM] [Info] Start training from score -0.697960\n"
     ]
    },
    {
     "data": {
      "text/html": [
       "<style>#sk-container-id-1 {color: black;}#sk-container-id-1 pre{padding: 0;}#sk-container-id-1 div.sk-toggleable {background-color: white;}#sk-container-id-1 label.sk-toggleable__label {cursor: pointer;display: block;width: 100%;margin-bottom: 0;padding: 0.3em;box-sizing: border-box;text-align: center;}#sk-container-id-1 label.sk-toggleable__label-arrow:before {content: \"▸\";float: left;margin-right: 0.25em;color: #696969;}#sk-container-id-1 label.sk-toggleable__label-arrow:hover:before {color: black;}#sk-container-id-1 div.sk-estimator:hover label.sk-toggleable__label-arrow:before {color: black;}#sk-container-id-1 div.sk-toggleable__content {max-height: 0;max-width: 0;overflow: hidden;text-align: left;background-color: #f0f8ff;}#sk-container-id-1 div.sk-toggleable__content pre {margin: 0.2em;color: black;border-radius: 0.25em;background-color: #f0f8ff;}#sk-container-id-1 input.sk-toggleable__control:checked~div.sk-toggleable__content {max-height: 200px;max-width: 100%;overflow: auto;}#sk-container-id-1 input.sk-toggleable__control:checked~label.sk-toggleable__label-arrow:before {content: \"▾\";}#sk-container-id-1 div.sk-estimator input.sk-toggleable__control:checked~label.sk-toggleable__label {background-color: #d4ebff;}#sk-container-id-1 div.sk-label input.sk-toggleable__control:checked~label.sk-toggleable__label {background-color: #d4ebff;}#sk-container-id-1 input.sk-hidden--visually {border: 0;clip: rect(1px 1px 1px 1px);clip: rect(1px, 1px, 1px, 1px);height: 1px;margin: -1px;overflow: hidden;padding: 0;position: absolute;width: 1px;}#sk-container-id-1 div.sk-estimator {font-family: monospace;background-color: #f0f8ff;border: 1px dotted black;border-radius: 0.25em;box-sizing: border-box;margin-bottom: 0.5em;}#sk-container-id-1 div.sk-estimator:hover {background-color: #d4ebff;}#sk-container-id-1 div.sk-parallel-item::after {content: \"\";width: 100%;border-bottom: 1px solid gray;flex-grow: 1;}#sk-container-id-1 div.sk-label:hover label.sk-toggleable__label {background-color: #d4ebff;}#sk-container-id-1 div.sk-serial::before {content: \"\";position: absolute;border-left: 1px solid gray;box-sizing: border-box;top: 0;bottom: 0;left: 50%;z-index: 0;}#sk-container-id-1 div.sk-serial {display: flex;flex-direction: column;align-items: center;background-color: white;padding-right: 0.2em;padding-left: 0.2em;position: relative;}#sk-container-id-1 div.sk-item {position: relative;z-index: 1;}#sk-container-id-1 div.sk-parallel {display: flex;align-items: stretch;justify-content: center;background-color: white;position: relative;}#sk-container-id-1 div.sk-item::before, #sk-container-id-1 div.sk-parallel-item::before {content: \"\";position: absolute;border-left: 1px solid gray;box-sizing: border-box;top: 0;bottom: 0;left: 50%;z-index: -1;}#sk-container-id-1 div.sk-parallel-item {display: flex;flex-direction: column;z-index: 1;position: relative;background-color: white;}#sk-container-id-1 div.sk-parallel-item:first-child::after {align-self: flex-end;width: 50%;}#sk-container-id-1 div.sk-parallel-item:last-child::after {align-self: flex-start;width: 50%;}#sk-container-id-1 div.sk-parallel-item:only-child::after {width: 0;}#sk-container-id-1 div.sk-dashed-wrapped {border: 1px dashed gray;margin: 0 0.4em 0.5em 0.4em;box-sizing: border-box;padding-bottom: 0.4em;background-color: white;}#sk-container-id-1 div.sk-label label {font-family: monospace;font-weight: bold;display: inline-block;line-height: 1.2em;}#sk-container-id-1 div.sk-label-container {text-align: center;}#sk-container-id-1 div.sk-container {/* jupyter's `normalize.less` sets `[hidden] { display: none; }` but bootstrap.min.css set `[hidden] { display: none !important; }` so we also need the `!important` here to be able to override the default hidden behavior on the sphinx rendered scikit-learn.org. See: https://github.com/scikit-learn/scikit-learn/issues/21755 */display: inline-block !important;position: relative;}#sk-container-id-1 div.sk-text-repr-fallback {display: none;}</style><div id=\"sk-container-id-1\" class=\"sk-top-container\"><div class=\"sk-text-repr-fallback\"><pre>Pipeline(steps=[(&#x27;columntransformer&#x27;,\n",
       "                 ColumnTransformer(transformers=[(&#x27;cat&#x27;,\n",
       "                                                  Pipeline(steps=[(&#x27;imputer&#x27;,\n",
       "                                                                   SimpleImputer(fill_value=&#x27;missing&#x27;,\n",
       "                                                                                 strategy=&#x27;constant&#x27;)),\n",
       "                                                                  (&#x27;onehot&#x27;,\n",
       "                                                                   OneHotEncoder(handle_unknown=&#x27;ignore&#x27;))]),\n",
       "                                                  Index([&#x27;Department Name&#x27;, &#x27;InterventionLocationName&#x27;, &#x27;InterventionReasonCode&#x27;,\n",
       "       &#x27;ReportingOfficerIdentificationID&#x27;, &#x27;ResidentIndicator&#x27;,\n",
       "       &#x27;SearchAuthorizationCode&#x27;, &#x27;StatuteReason&#x27;, &#x27;SubjectEthnicityCode&#x27;,\n",
       "       &#x27;SubjectRaceCode&#x27;, &#x27;SubjectSexCode&#x27;, &#x27;TownResidentIndicator&#x27;],\n",
       "      dtype=&#x27;object&#x27;))])),\n",
       "                (&#x27;lgbmclassifier&#x27;, LGBMClassifier(n_jobs=-1, random_state=42))])</pre><b>In a Jupyter environment, please rerun this cell to show the HTML representation or trust the notebook. <br />On GitHub, the HTML representation is unable to render, please try loading this page with nbviewer.org.</b></div><div class=\"sk-container\" hidden><div class=\"sk-item sk-dashed-wrapped\"><div class=\"sk-label-container\"><div class=\"sk-label sk-toggleable\"><input class=\"sk-toggleable__control sk-hidden--visually\" id=\"sk-estimator-id-1\" type=\"checkbox\" ><label for=\"sk-estimator-id-1\" class=\"sk-toggleable__label sk-toggleable__label-arrow\">Pipeline</label><div class=\"sk-toggleable__content\"><pre>Pipeline(steps=[(&#x27;columntransformer&#x27;,\n",
       "                 ColumnTransformer(transformers=[(&#x27;cat&#x27;,\n",
       "                                                  Pipeline(steps=[(&#x27;imputer&#x27;,\n",
       "                                                                   SimpleImputer(fill_value=&#x27;missing&#x27;,\n",
       "                                                                                 strategy=&#x27;constant&#x27;)),\n",
       "                                                                  (&#x27;onehot&#x27;,\n",
       "                                                                   OneHotEncoder(handle_unknown=&#x27;ignore&#x27;))]),\n",
       "                                                  Index([&#x27;Department Name&#x27;, &#x27;InterventionLocationName&#x27;, &#x27;InterventionReasonCode&#x27;,\n",
       "       &#x27;ReportingOfficerIdentificationID&#x27;, &#x27;ResidentIndicator&#x27;,\n",
       "       &#x27;SearchAuthorizationCode&#x27;, &#x27;StatuteReason&#x27;, &#x27;SubjectEthnicityCode&#x27;,\n",
       "       &#x27;SubjectRaceCode&#x27;, &#x27;SubjectSexCode&#x27;, &#x27;TownResidentIndicator&#x27;],\n",
       "      dtype=&#x27;object&#x27;))])),\n",
       "                (&#x27;lgbmclassifier&#x27;, LGBMClassifier(n_jobs=-1, random_state=42))])</pre></div></div></div><div class=\"sk-serial\"><div class=\"sk-item sk-dashed-wrapped\"><div class=\"sk-label-container\"><div class=\"sk-label sk-toggleable\"><input class=\"sk-toggleable__control sk-hidden--visually\" id=\"sk-estimator-id-2\" type=\"checkbox\" ><label for=\"sk-estimator-id-2\" class=\"sk-toggleable__label sk-toggleable__label-arrow\">columntransformer: ColumnTransformer</label><div class=\"sk-toggleable__content\"><pre>ColumnTransformer(transformers=[(&#x27;cat&#x27;,\n",
       "                                 Pipeline(steps=[(&#x27;imputer&#x27;,\n",
       "                                                  SimpleImputer(fill_value=&#x27;missing&#x27;,\n",
       "                                                                strategy=&#x27;constant&#x27;)),\n",
       "                                                 (&#x27;onehot&#x27;,\n",
       "                                                  OneHotEncoder(handle_unknown=&#x27;ignore&#x27;))]),\n",
       "                                 Index([&#x27;Department Name&#x27;, &#x27;InterventionLocationName&#x27;, &#x27;InterventionReasonCode&#x27;,\n",
       "       &#x27;ReportingOfficerIdentificationID&#x27;, &#x27;ResidentIndicator&#x27;,\n",
       "       &#x27;SearchAuthorizationCode&#x27;, &#x27;StatuteReason&#x27;, &#x27;SubjectEthnicityCode&#x27;,\n",
       "       &#x27;SubjectRaceCode&#x27;, &#x27;SubjectSexCode&#x27;, &#x27;TownResidentIndicator&#x27;],\n",
       "      dtype=&#x27;object&#x27;))])</pre></div></div></div><div class=\"sk-parallel\"><div class=\"sk-parallel-item\"><div class=\"sk-item\"><div class=\"sk-label-container\"><div class=\"sk-label sk-toggleable\"><input class=\"sk-toggleable__control sk-hidden--visually\" id=\"sk-estimator-id-3\" type=\"checkbox\" ><label for=\"sk-estimator-id-3\" class=\"sk-toggleable__label sk-toggleable__label-arrow\">cat</label><div class=\"sk-toggleable__content\"><pre>Index([&#x27;Department Name&#x27;, &#x27;InterventionLocationName&#x27;, &#x27;InterventionReasonCode&#x27;,\n",
       "       &#x27;ReportingOfficerIdentificationID&#x27;, &#x27;ResidentIndicator&#x27;,\n",
       "       &#x27;SearchAuthorizationCode&#x27;, &#x27;StatuteReason&#x27;, &#x27;SubjectEthnicityCode&#x27;,\n",
       "       &#x27;SubjectRaceCode&#x27;, &#x27;SubjectSexCode&#x27;, &#x27;TownResidentIndicator&#x27;],\n",
       "      dtype=&#x27;object&#x27;)</pre></div></div></div><div class=\"sk-serial\"><div class=\"sk-item\"><div class=\"sk-serial\"><div class=\"sk-item\"><div class=\"sk-estimator sk-toggleable\"><input class=\"sk-toggleable__control sk-hidden--visually\" id=\"sk-estimator-id-4\" type=\"checkbox\" ><label for=\"sk-estimator-id-4\" class=\"sk-toggleable__label sk-toggleable__label-arrow\">SimpleImputer</label><div class=\"sk-toggleable__content\"><pre>SimpleImputer(fill_value=&#x27;missing&#x27;, strategy=&#x27;constant&#x27;)</pre></div></div></div><div class=\"sk-item\"><div class=\"sk-estimator sk-toggleable\"><input class=\"sk-toggleable__control sk-hidden--visually\" id=\"sk-estimator-id-5\" type=\"checkbox\" ><label for=\"sk-estimator-id-5\" class=\"sk-toggleable__label sk-toggleable__label-arrow\">OneHotEncoder</label><div class=\"sk-toggleable__content\"><pre>OneHotEncoder(handle_unknown=&#x27;ignore&#x27;)</pre></div></div></div></div></div></div></div></div></div></div><div class=\"sk-item\"><div class=\"sk-estimator sk-toggleable\"><input class=\"sk-toggleable__control sk-hidden--visually\" id=\"sk-estimator-id-6\" type=\"checkbox\" ><label for=\"sk-estimator-id-6\" class=\"sk-toggleable__label sk-toggleable__label-arrow\">LGBMClassifier</label><div class=\"sk-toggleable__content\"><pre>LGBMClassifier(n_jobs=-1, random_state=42)</pre></div></div></div></div></div></div></div>"
      ],
      "text/plain": [
       "Pipeline(steps=[('columntransformer',\n",
       "                 ColumnTransformer(transformers=[('cat',\n",
       "                                                  Pipeline(steps=[('imputer',\n",
       "                                                                   SimpleImputer(fill_value='missing',\n",
       "                                                                                 strategy='constant')),\n",
       "                                                                  ('onehot',\n",
       "                                                                   OneHotEncoder(handle_unknown='ignore'))]),\n",
       "                                                  Index(['Department Name', 'InterventionLocationName', 'InterventionReasonCode',\n",
       "       'ReportingOfficerIdentificationID', 'ResidentIndicator',\n",
       "       'SearchAuthorizationCode', 'StatuteReason', 'SubjectEthnicityCode',\n",
       "       'SubjectRaceCode', 'SubjectSexCode', 'TownResidentIndicator'],\n",
       "      dtype='object'))])),\n",
       "                ('lgbmclassifier', LGBMClassifier(n_jobs=-1, random_state=42))])"
      ]
     },
     "execution_count": 16,
     "metadata": {},
     "output_type": "execute_result"
    }
   ],
   "source": [
    "pipeline.fit(X_train, y_train)"
   ]
  },
  {
   "cell_type": "code",
   "execution_count": 17,
   "metadata": {},
   "outputs": [],
   "source": [
    "preds = pipeline.predict(X_test)"
   ]
  },
  {
   "cell_type": "code",
   "execution_count": 18,
   "metadata": {},
   "outputs": [],
   "source": [
    "def verify_success_rate_above(y_true, y_pred, min_success_rate=0.5):\n",
    "    \"\"\"\n",
    "    Verifies the success rate on a test set is above a provided minimum\n",
    "    \n",
    "    \n",
    "    \"\"\"\n",
    "    \n",
    "    precision = precision_score(y_true, y_pred, pos_label=True)\n",
    "    is_satisfied = (precision >= min_success_rate)\n",
    "    \n",
    "    return is_satisfied, precision\n"
   ]
  },
  {
   "cell_type": "code",
   "execution_count": 19,
   "metadata": {},
   "outputs": [],
   "source": [
    "def verify_amount_found(y_true, y_pred):\n",
    "    \"\"\"\n",
    "    Verifies the amout of contraband found in the test dataset - a.k.a the recall in our test set\n",
    "    \"\"\"\n",
    "    \n",
    "    recall = recall_score(y_true, y_pred)    \n",
    "    return recall\n"
   ]
  },
  {
   "cell_type": "code",
   "execution_count": 20,
   "metadata": {},
   "outputs": [
    {
     "data": {
      "text/plain": [
       "(True, 0.6681299385425812)"
      ]
     },
     "execution_count": 20,
     "metadata": {},
     "output_type": "execute_result"
    }
   ],
   "source": [
    "verify_success_rate_above(y_test, preds)"
   ]
  },
  {
   "cell_type": "code",
   "execution_count": 21,
   "metadata": {},
   "outputs": [
    {
     "data": {
      "text/plain": [
       "0.6125570163670513"
      ]
     },
     "execution_count": 21,
     "metadata": {},
     "output_type": "execute_result"
    }
   ],
   "source": [
    "verify_amount_found(y_test, preds)"
   ]
  },
  {
   "cell_type": "markdown",
   "metadata": {},
   "source": [
    "Now let's find the best threshold for our requirements.\n",
    "\n",
    "Precision needs to be at least 0.5, and recall has to be as max as possible.\n",
    "\n",
    "It's usually true that the bigger is precision, the lower is the recall. \n",
    "\n",
    "So we need to find the threshold that coresponds to precision = 0.5"
   ]
  },
  {
   "cell_type": "code",
   "execution_count": 22,
   "metadata": {},
   "outputs": [],
   "source": [
    "proba = pipeline.predict_proba(X_test)"
   ]
  },
  {
   "cell_type": "code",
   "execution_count": 23,
   "metadata": {},
   "outputs": [],
   "source": [
    "precision, recall, thresholds = precision_recall_curve(y_test, proba[:, 1])"
   ]
  },
  {
   "cell_type": "code",
   "execution_count": 25,
   "metadata": {},
   "outputs": [
    {
     "name": "stdout",
     "output_type": "stream",
     "text": [
      "6713 6713 6712\n"
     ]
    }
   ],
   "source": [
    "print(len(precision), len(recall), len(thresholds))"
   ]
  },
  {
   "cell_type": "code",
   "execution_count": 26,
   "metadata": {},
   "outputs": [],
   "source": [
    "# according to documentation, precision and recall\n",
    "# have 1 and 0 at the end, so we should remove them before plotting.\n",
    "precision = precision[:-1]\n",
    "recall = recall[:-1]"
   ]
  },
  {
   "cell_type": "code",
   "execution_count": 28,
   "metadata": {},
   "outputs": [
    {
     "data": {
      "image/png": "[encoded data removed]",
      "text/plain": [
       "<Figure size 640x480 with 2 Axes>"
      ]
     },
     "metadata": {},
     "output_type": "display_data"
    }
   ],
   "source": [
    "fig=plt.figure()\n",
    "ax1 = plt.subplot(211)\n",
    "ax2 = plt.subplot(212)\n",
    "ax1.hlines(y=0.5,xmin=0, xmax=1, colors='red')\n",
    "ax1.plot(thresholds,precision)\n",
    "ax2.plot(thresholds,recall)\n",
    "ax1.sharex(ax2)\n",
    "ax1.set_xticklabels([])\n",
    "ax1.set_title('Precision')\n",
    "ax2.set_title('Recall')\n",
    "plt.xlabel('Threshold')\n",
    "plt.show()"
   ]
  },
  {
   "cell_type": "markdown",
   "metadata": {},
   "source": [
    "Red line shows the point where precision is equal 0.5. \n",
    "\n",
    "It looks like the biggest recall for precision >= 0.5 is around 0.2\n",
    "\n",
    "Let's find the exact value."
   ]
  },
  {
   "cell_type": "code",
   "execution_count": 29,
   "metadata": {},
   "outputs": [
    {
     "name": "stdout",
     "output_type": "stream",
     "text": [
      "2668\n"
     ]
    }
   ],
   "source": [
    "min_index = [i for i, prec in enumerate(precision) if prec >= 0.5][0]\n",
    "print(min_index)"
   ]
  },
  {
   "cell_type": "code",
   "execution_count": 30,
   "metadata": {},
   "outputs": [
    {
     "data": {
      "text/plain": [
       "0.5"
      ]
     },
     "execution_count": 30,
     "metadata": {},
     "output_type": "execute_result"
    }
   ],
   "source": [
    "precision[min_index]"
   ]
  },
  {
   "cell_type": "code",
   "execution_count": 31,
   "metadata": {},
   "outputs": [
    {
     "data": {
      "text/plain": [
       "0.8932116984169574"
      ]
     },
     "execution_count": 31,
     "metadata": {},
     "output_type": "execute_result"
    }
   ],
   "source": [
    "recall[min_index]"
   ]
  },
  {
   "cell_type": "code",
   "execution_count": 32,
   "metadata": {},
   "outputs": [
    {
     "data": {
      "text/plain": [
       "0.21073452797732833"
      ]
     },
     "execution_count": 32,
     "metadata": {},
     "output_type": "execute_result"
    }
   ],
   "source": [
    "thresholds[min_index]"
   ]
  },
  {
   "cell_type": "code",
   "execution_count": 33,
   "metadata": {},
   "outputs": [],
   "source": [
    "best_preds = [1 if pred > thresholds[min_index] else 0 for pred in proba[:, 1]]"
   ]
  },
  {
   "cell_type": "code",
   "execution_count": 34,
   "metadata": {},
   "outputs": [
    {
     "data": {
      "text/plain": [
       "(True, 0.5000751089079165)"
      ]
     },
     "execution_count": 34,
     "metadata": {},
     "output_type": "execute_result"
    }
   ],
   "source": [
    "verify_success_rate_above(y_test, best_preds)"
   ]
  },
  {
   "cell_type": "code",
   "execution_count": 35,
   "metadata": {},
   "outputs": [
    {
     "data": {
      "text/plain": [
       "0.8932116984169574"
      ]
     },
     "execution_count": 35,
     "metadata": {},
     "output_type": "execute_result"
    }
   ],
   "source": [
    "verify_amount_found(y_test, best_preds)"
   ]
  },
  {
   "cell_type": "code",
   "execution_count": 36,
   "metadata": {},
   "outputs": [],
   "source": [
    "with open('columns.json', 'w') as fh:\n",
    "    json.dump(X_train.columns.tolist(), fh)\n",
    "    \n",
    "with open('dtypes.pickle', 'wb') as fh:\n",
    "    pickle.dump(X_train.dtypes, fh)\n",
    "    \n",
    "joblib.dump(pipeline, 'pipeline.pickle');"
   ]
  }
 ],
 "metadata": {
  "kernelspec": {
   "display_name": "Python 3 (ipykernel)",
   "language": "python",
   "name": "python3"
  },
  "language_info": {
   "codemirror_mode": {
    "name": "ipython",
    "version": 3
   },
   "file_extension": ".py",
   "mimetype": "text/x-python",
   "name": "python",
   "nbconvert_exporter": "python",
   "pygments_lexer": "ipython3",
   "version": "3.10.13"
  }
 },
 "nbformat": 4,
 "nbformat_minor": 4
}
