{
 "cells": [
  {
   "cell_type": "markdown",
   "metadata": {
    "deletable": false,
    "editable": false,
    "nbgrader": {
     "grade": false,
     "grade_id": "cell-b4d7d915e2c9c198",
     "locked": true,
     "schema_version": 3,
     "solution": false
    }
   },
   "source": [
    "# SLU19 - k-Nearest Neighbors (kNN) - Exercise notebook\n",
    "\n",
    "In the first part of the notebook you will be implementing things from scratch, so you understand what's going on under the hood. Later you'll get to use the sklearn implementation.\n",
    "\n",
    "![numpy-function-implementation](media/numpy-function-implementation.png)"
   ]
  },
  {
   "cell_type": "code",
   "execution_count": null,
   "metadata": {
    "deletable": false,
    "editable": false,
    "nbgrader": {
     "grade": false,
     "grade_id": "cell-10e27f42036825d8",
     "locked": true,
     "schema_version": 3,
     "solution": false
    }
   },
   "outputs": [],
   "source": [
    "import numpy as np\n",
    "import pandas as pd\n",
    "from sklearn import datasets\n",
    "\n",
    "import json\n",
    "import hashlib"
   ]
  },
  {
   "cell_type": "markdown",
   "metadata": {
    "deletable": false,
    "editable": false,
    "nbgrader": {
     "grade": false,
     "grade_id": "cell-463ec86e1e15c6e9",
     "locked": true,
     "schema_version": 3,
     "solution": false
    }
   },
   "source": [
    "## Exercise 1 - Distances\n",
    "\n",
    "We've talked about the Euclidean distance in the learning noteobook, but what is a Euclidean norm?\n",
    "\n",
    "Norm is the length of a vector which is the same as the distance from the beginning of a vector to the tip of the vector. It is written as\n",
    "\n",
    "$$|\\mathbf{x}|$$ \n",
    "\n",
    "To calculate the norm, we need to choose a distance function for it. Obviously, the distance to calculate the Euclidean norm is the Euclidean distance.\n",
    "\n",
    "$$d(\\mathbf{p}, \\mathbf{q}) = \\sqrt{(q_1 - p_1)^2 + (q_2 - p_2)^2 + ... + (q_n - p_n)^2} = \\sqrt{ \\sum_{i=1}^n (q_i - p_i)^2} = |\\mathbf{q} - \\mathbf{p}|$$\n",
    "\n",
    "The Euclidean distance of two points is the same as the norm of the difference between the vectors q and p (vectors from the origin to each point).\n",
    "\n",
    "$$ \\sqrt{ \\sum_{i=1}^n (q_i - p_i)^2} = |\\mathbf{q} - \\mathbf{p}|$$\n",
    "\n",
    "To calculate the norm of any vector, we just take point p as the origin and point q as the tip of our vector `x` and the equation becomes\n",
    "\n",
    "$$ \\sqrt{ \\sum_{i=1}^n (x_i)^2} = |\\mathbf{x}|$$\n",
    "\n",
    "And we get our norm definition!"
   ]
  },
  {
   "cell_type": "markdown",
   "metadata": {
    "deletable": false,
    "editable": false,
    "nbgrader": {
     "grade": false,
     "grade_id": "cell-ed133c9081dc4e95",
     "locked": true,
     "schema_version": 3,
     "solution": false,
     "task": false
    }
   },
   "source": [
    "### Exercise 1.1 - Vector norms\n",
    "\n",
    "Implement the Euclidean norm definition  in the function below.\n",
    "\n",
    "$$|\\mathbf{x}| = \\sqrt{ \\sum_{i=1}^n (x_i)^2} = \\sqrt{(x_1)^2 + (x_2)^2 + ... + (x_N)^2}$$"
   ]
  },
  {
   "cell_type": "code",
   "execution_count": null,
   "metadata": {
    "deletable": false,
    "nbgrader": {
     "grade": false,
     "grade_id": "cell-3590731766111833",
     "locked": false,
     "schema_version": 3,
     "solution": true,
     "task": false
    }
   },
   "outputs": [],
   "source": [
    "def euclidean_norm(x):\n",
    "    \"\"\"\n",
    "    Return the euclidean norm of a vector\n",
    "        \n",
    "    Parameters\n",
    "    ----------\n",
    "    x: numpy array with shape (N,)\n",
    "    \n",
    "    Returns\n",
    "    ----------\n",
    "    norm: float\n",
    "    \"\"\"\n",
    "\n",
    "    # YOUR CODE HERE\n",
    "    raise NotImplementedError()\n",
    "    return norm"
   ]
  },
  {
   "cell_type": "code",
   "execution_count": null,
   "metadata": {
    "deletable": false,
    "editable": false,
    "nbgrader": {
     "grade": true,
     "grade_id": "cell-ff9a506bc3c80751",
     "locked": true,
     "points": 1,
     "schema_version": 3,
     "solution": false,
     "task": false
    }
   },
   "outputs": [],
   "source": [
    "np.testing.assert_almost_equal(euclidean_norm(np.array([1, 2, 4])), 4.5825, 2)\n",
    "np.testing.assert_almost_equal(euclidean_norm(np.array([-1, 0, 4])), 4.1231, 2)\n",
    "np.testing.assert_almost_equal(euclidean_norm(np.array([1])), 1.0, 2)\n",
    "np.testing.assert_almost_equal(euclidean_norm(np.array([-1])), 1.0, 2)\n",
    "np.testing.assert_almost_equal(euclidean_norm(np.array([0, 0])), 0.0, 2)\n",
    "np.testing.assert_almost_equal(euclidean_norm(np.array([0, 1, 2, 3, 4])), 5.4772, 2)\n",
    "np.testing.assert_almost_equal(euclidean_norm(np.array([0, -1, -2, -3, -4])), 5.4772, 2)"
   ]
  },
  {
   "cell_type": "markdown",
   "metadata": {
    "deletable": false,
    "editable": false,
    "nbgrader": {
     "grade": false,
     "grade_id": "cell-eeacdcb05a198df9",
     "locked": true,
     "schema_version": 3,
     "solution": false
    }
   },
   "source": [
    "### Exercise 1.2 - Distances\n",
    "\n",
    "Let's diversify. Implement a function called `distance_function` which calculate different kinds of distances for two points.\n",
    "\n",
    "This function receives two arguments, `a` and `b` which are n-dimensional coordinates of the two points. Additionally, it receives the argument `distance_type`, which tells you which distance to use. \n",
    "\n",
    "The `distance_type` argument can have one of three values, which define how to compute the distance:\n",
    "\n",
    "* `Euclidean`\n",
    "\n",
    "$$d_{euclidean} = |\\mathbf{b} - \\mathbf{a}|$$\n",
    "\n",
    "* `dot`\n",
    "\n",
    "$$d_{dot} = u_1v_1 + u_2v_2 + ... + u_nv_n$$\n",
    "\n",
    "* `cosine`\n",
    "\n",
    "$$cosine(\\mathbf{a}, \\mathbf{b}) = 1 -  \\frac{\\mathbf{a} \\; . \\mathbf{b}}{|\\mathbf{a}| \\; |\\mathbf{b}|}$$"
   ]
  },
  {
   "cell_type": "code",
   "execution_count": null,
   "metadata": {
    "deletable": false,
    "nbgrader": {
     "grade": false,
     "grade_id": "cell-6e62f4a661edbaf0",
     "locked": false,
     "schema_version": 3,
     "solution": true
    }
   },
   "outputs": [],
   "source": [
    "def distance_function(a, b, distance_type=\"euclidean\"):\n",
    "    \"\"\"\n",
    "    Return the distance between two vectors, which can be \n",
    "        'euclidean', 'dot_product' or 'cosine'. \n",
    "        \n",
    "    Return None if:\n",
    "     - distance type is not any of the supported types\n",
    "     - if the shape of a and b do not match\n",
    "\n",
    "    Parameters\n",
    "    ----------\n",
    "    a: numpy array with shape (N,)\n",
    "    b: numpy array with shape (N,)\n",
    "    distance_type: str - can be one of 'euclidean', 'dot_product'\n",
    "        or 'cosine'\n",
    "    \n",
    "    Returns\n",
    "    ----------\n",
    "    distance: float\n",
    "    \"\"\"\n",
    "    \n",
    "    # YOUR CODE HERE\n",
    "    raise NotImplementedError()\n",
    "    \n",
    "    return distance"
   ]
  },
  {
   "cell_type": "code",
   "execution_count": null,
   "metadata": {
    "deletable": false,
    "editable": false,
    "nbgrader": {
     "grade": true,
     "grade_id": "cell-79f8353bbd6472e8",
     "locked": true,
     "points": 4,
     "schema_version": 3,
     "solution": false
    }
   },
   "outputs": [],
   "source": [
    "# Test Euclidean Distance\n",
    "np.testing.assert_almost_equal(distance_function(np.array([1, 2, 4]), np.array([-1, 0, 4]), distance_type=\"euclidean\"), 2.8284, 2)\n",
    "np.testing.assert_almost_equal(distance_function(np.array([1]), np.array([-1]), distance_type=\"euclidean\"), 2.0000, 2)\n",
    "np.testing.assert_almost_equal(distance_function(np.array([0, 0]), np.array([2, 3]), distance_type=\"euclidean\"), 3.6055, 2)\n",
    "np.testing.assert_almost_equal(distance_function(np.array([0, 1, 2, 3, 4]), np.array([0, -1, -2, -3, -4]), distance_type=\"euclidean\"), 10.9544, 2)\n",
    "\n",
    "# Test Dot product\n",
    "np.testing.assert_almost_equal(distance_function(np.array([1, 2, 4]), np.array([-1, 0, 4]), distance_type=\"dot_product\"), 15.0, 2)\n",
    "np.testing.assert_almost_equal(distance_function(np.array([1]), np.array([-1]), distance_type=\"dot_product\"), -1.0, 2)\n",
    "np.testing.assert_almost_equal(distance_function(np.array([0, 0]), np.array([2, 3]), distance_type=\"dot_product\"), 0.0, 2)\n",
    "np.testing.assert_almost_equal(distance_function(np.array([0, 1, 2, 3, 4]), np.array([0, -1, -2, -3, -4]), distance_type=\"dot_product\"), -30.0, 2)\n",
    "\n",
    "# Test Cosine distance\n",
    "np.testing.assert_almost_equal(distance_function(np.array([1, 2, 4]), np.array([-1, 0, 4]), distance_type=\"cosine\"), 0.2061, 2)\n",
    "np.testing.assert_almost_equal(distance_function(np.array([1]), np.array([-1]), distance_type=\"cosine\"), 2.0, 2)\n",
    "np.testing.assert_almost_equal(distance_function(np.array([0, 1]), np.array([2, 3]), distance_type=\"cosine\"), 0.1679, 2)\n",
    "np.testing.assert_almost_equal(distance_function(np.array([0, 1, 2, 3, 4]), np.array([0, -1, -2, -3, -4]), distance_type=\"cosine\"), 2.0, 2)\n",
    "\n",
    "# Test cases where distance can't be computed\n",
    "assert distance_function(np.array([1, 2]), np.array([-1, 0, 4]), distance_type=\"euclidean\") is None\n",
    "assert distance_function(np.array([1, 2]), np.array([-1, 0, 4]), distance_type=\"dot_product\") is None\n",
    "assert distance_function(np.array([1, 2]), np.array([-1, 0, 4]), distance_type=\"cosine\") is None\n",
    "assert distance_function(np.array([1, 2, 3]), np.array([-1, 0, 4]), distance_type=\"no_distance\") is None"
   ]
  },
  {
   "cell_type": "markdown",
   "metadata": {
    "deletable": false,
    "editable": false,
    "nbgrader": {
     "grade": false,
     "grade_id": "cell-8f063b7f3242f402",
     "locked": true,
     "schema_version": 3,
     "solution": false,
     "task": false
    }
   },
   "source": [
    "You probably know that numpy has functions to calculate these norms, but we wanted you to really try to implement these by yourself and understand what is happening.\n",
    "* [numpy.linalg.norm](https://docs.scipy.org/doc/numpy/reference/generated/numpy.linalg.norm.html)\n",
    "* [numpy.dot](https://docs.scipy.org/doc/numpy/reference/generated/numpy.dot.html)\n",
    "* [scipy.distance.cosine](https://docs.scipy.org/doc/scipy/reference/generated/scipy.spatial.distance.cosine.html)"
   ]
  },
  {
   "cell_type": "markdown",
   "metadata": {
    "deletable": false,
    "editable": false,
    "nbgrader": {
     "grade": false,
     "grade_id": "cell-504dea6c50a50be1",
     "locked": true,
     "schema_version": 3,
     "solution": false
    }
   },
   "source": [
    "## 2 - Implementing the kNN algorithm\n",
    "\n",
    "Now that we have the distance functions, we'll implement the kNN algorithm.\n",
    "\n",
    "And we'll do it by hand! Let's do this!\n",
    "\n",
    "![lets_do_this](media/lets_do_this.gif)"
   ]
  },
  {
   "cell_type": "markdown",
   "metadata": {
    "deletable": false,
    "editable": false,
    "nbgrader": {
     "grade": false,
     "grade_id": "cell-afacbad08e39318b",
     "locked": true,
     "schema_version": 3,
     "solution": false
    }
   },
   "source": [
    "### Exercise 2.1 - Find the closest neighbors \n",
    "\n",
    "The first step is to find the nearest data points. For that purpose, implement a function called `find_nearest_neighbors`, that:\n",
    "\n",
    "* receives four arguments:\n",
    "    * `x`, the coordinates of the point for which to find the nearest neighbors\n",
    "    * `dataset`, the coordinates of N other points\n",
    "    * `distance_type`, distance type to use in finding the nearest neighbors\n",
    "    * `k`, the number of nearest neighbors to find\n",
    "\n",
    "Build your function in these steps\n",
    "* iterate through the dataset, compute the distances between x and every other dataset point\n",
    "* get the dataset indexes of the k nearest points\n",
    "* return a numpy array of shape (k,) with those indexes\n",
    "\n",
    "Hint: check [numpy.argsort](https://docs.scipy.org/doc/numpy/reference/generated/numpy.argsort.html)."
   ]
  },
  {
   "cell_type": "code",
   "execution_count": null,
   "metadata": {
    "deletable": false,
    "nbgrader": {
     "grade": false,
     "grade_id": "cell-579a133d5f7272c2",
     "locked": false,
     "schema_version": 3,
     "solution": true
    }
   },
   "outputs": [],
   "source": [
    "def find_nearest_neighbors(x, dataset, distance_type=\"euclidean\", k=5):\n",
    "    \"\"\"\n",
    "    Finds the k nearest neighbors of point x in the dataset\n",
    "    \n",
    "    Parameters\n",
    "    ----------\n",
    "    x: numpy array with shape (d,)\n",
    "    dataset: numpy array with shape (N, d)\n",
    "    distance_type: str - can be one of 'euclidean', 'dot_product'\n",
    "        or 'cosine'\n",
    "    k: int, the number of nearest neighbors to find\n",
    "\n",
    "    Returns\n",
    "    ----------\n",
    "    indexes: numpy array with shape (k,)\n",
    "    \"\"\"\n",
    "\n",
    "    # YOUR CODE HERE\n",
    "    raise NotImplementedError()\n",
    "    return indexes"
   ]
  },
  {
   "cell_type": "code",
   "execution_count": null,
   "metadata": {
    "deletable": false,
    "editable": false,
    "nbgrader": {
     "grade": true,
     "grade_id": "cell-601006c4a24f1f22",
     "locked": true,
     "points": 3,
     "schema_version": 3,
     "solution": false
    }
   },
   "outputs": [],
   "source": [
    "dataset = datasets.load_iris().data\n",
    "x = np.array([4.9, 3.0, 6.1, 2.2])\n",
    "\n",
    "knn_1 = find_nearest_neighbors(x, dataset, 'euclidean', 3)\n",
    "assert isinstance(knn_1,np.ndarray), 'The output should be an array.'\n",
    "assert knn_1.shape == (3,), 'The shape of the result is not correct.'\n",
    "assert hashlib.sha256(json.dumps(''.join([str(i) for i in knn_1])).encode()).hexdigest() == \\\n",
    "'87ae3848357c73240c2916c4468305edfc12b37c6a72212ec3b4f2b5c8778b0e', 'The indexes are not correct.'\n",
    "\n",
    "knn_2 = find_nearest_neighbors(x, dataset, 'euclidean', 10)\n",
    "assert knn_2.shape == (10,), 'The shape of the result is not correct.'\n",
    "assert hashlib.sha256(json.dumps(''.join([str(i) for i in knn_2])).encode()).hexdigest() == \\\n",
    "'90def25b7642b0c9dd10b3f64b1804549fbbcabcc4cd5e8c3fc850510b5917f5', 'The indexes are not correct.'\n",
    "\n",
    "knn_3 = find_nearest_neighbors(x, dataset, 'dot_product', 3)\n",
    "assert knn_3.shape == (3,), 'The shape of the result is not correct.'\n",
    "assert hashlib.sha256(json.dumps(''.join([str(i) for i in knn_3])).encode()).hexdigest() == \\\n",
    "'4bf23ee8c86461d4a9f5ad7da978deef5c71e1275f38adfd343b352ad3e5071b', 'The indexes are not correct.'\n",
    "\n",
    "knn_4 = find_nearest_neighbors(x, dataset, 'dot_product', 10)\n",
    "assert knn_4.shape == (10,), 'The shape of the result is not correct.'\n",
    "assert hashlib.sha256(json.dumps(''.join([str(i) for i in knn_4])).encode()).hexdigest() == \\\n",
    "'3d484aa7dbcf027bebb27cf9860fa96fc3789413ad4a7b4da724b9f8184800ef', 'The indexes are not correct.'\n",
    "\n",
    "knn_5 = find_nearest_neighbors(x, dataset, 'cosine', 3)\n",
    "assert knn_5.shape == (3,), 'The shape of the result is not correct.'\n",
    "assert hashlib.sha256(json.dumps(''.join([str(i) for i in knn_5])).encode()).hexdigest() == \\\n",
    "'17ab712a8ae8c59cd97bc3193325c62213d25424249dc37292e566208362e0a5', 'The indexes are not correct.'\n",
    "\n",
    "knn_6 = find_nearest_neighbors(x, dataset, 'cosine', 10)\n",
    "assert knn_6.shape == (10,), 'The shape of the result is not correct.'\n",
    "assert hashlib.sha256(json.dumps(''.join([str(i) for i in knn_6])).encode()).hexdigest() == \\\n",
    "'68e2496b762f09fdb34f31dfa584498315d6c4326caef822fff14ee663fabc18', 'The indexes are not correct.'"
   ]
  },
  {
   "cell_type": "markdown",
   "metadata": {
    "deletable": false,
    "editable": false,
    "nbgrader": {
     "grade": false,
     "grade_id": "cell-517ad31f00e4c79a",
     "locked": true,
     "schema_version": 3,
     "solution": false
    }
   },
   "source": [
    "### Exercise 2.2 - Classifying from nearest neighbors\n",
    "\n",
    "Now that we have the indexes of the k nearest neighbors, we need to get the labels of those neighbors, so that we can predict the label for our point. We'll the **most common label** for the prediction.\n",
    "\n",
    "Implement a function called `get_knn_class` which\n",
    "* receives two arguments:\n",
    "    * y, the labels of all points in the dataset\n",
    "    * neighbor_indexes, which are the dataset indexes of the k nearest neighbors\n",
    "* returns the most frequent label in the neighbor indexes"
   ]
  },
  {
   "cell_type": "code",
   "execution_count": null,
   "metadata": {
    "deletable": false,
    "nbgrader": {
     "grade": false,
     "grade_id": "cell-f9d4962cb0206df9",
     "locked": false,
     "schema_version": 3,
     "solution": true
    }
   },
   "outputs": [],
   "source": [
    "def get_knn_class(y, neighbor_indexes):\n",
    "    \"\"\"\n",
    "    Returns the most frequent label of the nearest neighbors\n",
    "    \n",
    "    Parameters\n",
    "    ----------\n",
    "    y: numpy array with shape (N,) - labels of all points in the dataset\n",
    "    neighbor_indexes: numpy array with shape (k,) - dataset indexes of the nearest neighbors\n",
    "    \n",
    "    Returns\n",
    "    ----------\n",
    "    knn_label: int\n",
    "    \"\"\"\n",
    "    \n",
    "    # YOUR CODE HERE\n",
    "    raise NotImplementedError()\n",
    "    \n",
    "    return knn_label"
   ]
  },
  {
   "cell_type": "code",
   "execution_count": null,
   "metadata": {
    "deletable": false,
    "editable": false,
    "nbgrader": {
     "grade": true,
     "grade_id": "cell-10829453a40bdac6",
     "locked": true,
     "points": 2,
     "schema_version": 3,
     "solution": false
    }
   },
   "outputs": [],
   "source": [
    "np.random.seed(42) \n",
    "\n",
    "# Test case 1\n",
    "n=150\n",
    "k=5\n",
    "c=3\n",
    "neighbor_indexes=np.random.randint(0,n-1,k)\n",
    "y= np.random.randint(0, c, n)\n",
    "answer = get_knn_class(y, neighbor_indexes)\n",
    "assert isinstance(answer, int), 'The output should be an integer.'\n",
    "assert answer == 0, f'The predicted label {answer} is not correct.'\n",
    "\n",
    "# Test case 2\n",
    "n=150\n",
    "k=7\n",
    "c=5\n",
    "neighbor_indexes=np.random.randint(0,n-1,k)\n",
    "y= np.random.randint(0, c, n)\n",
    "answer = get_knn_class(y, neighbor_indexes)\n",
    "assert isinstance(answer, int), 'The output should be an integer.'\n",
    "assert answer == 2, f'The predicted label {answer} is not correct.'"
   ]
  },
  {
   "cell_type": "markdown",
   "metadata": {
    "deletable": false,
    "editable": false,
    "nbgrader": {
     "grade": false,
     "grade_id": "cell-f1673e70245a5b75",
     "locked": true,
     "schema_version": 3,
     "solution": false,
     "task": false
    }
   },
   "source": [
    "### Exercise 2.3 - Classification with kNN (putting everything together)\n",
    "\n",
    "Finally we can put everything together and implement the kNN classifier!\n",
    "\n",
    "Implement a function called `knn_classifier` that:\n",
    "\n",
    "* receives five arguments:\n",
    "    * `x`, the coordinates of the point for which to make a prediction\n",
    "    * `dataset`, coordinates of N other points\n",
    "    * `targets`, labels for each point in the dataset\n",
    "    * `k`, number of nearest neighbors to consider\n",
    "    * `distance_function`, distance type to use, can be 'euclidean', 'cosine', 'dot'\n",
    "* uses the functions that we implemented above in order to implement a kNN classifier\n",
    "* returns the predicted label for point x"
   ]
  },
  {
   "cell_type": "code",
   "execution_count": null,
   "metadata": {
    "deletable": false,
    "nbgrader": {
     "grade": false,
     "grade_id": "cell-52fb6a8a51b6ff92",
     "locked": false,
     "schema_version": 3,
     "solution": true,
     "task": false
    }
   },
   "outputs": [],
   "source": [
    "def knn_classifier(x, dataset, targets, k, distance_function):\n",
    "    \"\"\"\n",
    "    Predicts the label for a single point using the kNN algorithm\n",
    "    \n",
    "    Parameters\n",
    "    ----------\n",
    "    x: numpy array with shape (d,)\n",
    "    dataset: numpy array with shape (N, d)\n",
    "    targets: numpy array with shape (N,)\n",
    "    k: int\n",
    "    distance_function: string\n",
    "    \n",
    "    Returns\n",
    "    ----------\n",
    "    label: int\n",
    "    \"\"\"\n",
    "\n",
    "    # YOUR CODE HERE\n",
    "    raise NotImplementedError()\n",
    "    \n",
    "    return label"
   ]
  },
  {
   "cell_type": "code",
   "execution_count": null,
   "metadata": {
    "deletable": false,
    "editable": false,
    "nbgrader": {
     "grade": true,
     "grade_id": "cell-089aad803d5ae57f",
     "locked": true,
     "points": 2,
     "schema_version": 3,
     "solution": false,
     "task": false
    }
   },
   "outputs": [],
   "source": [
    "dataset = datasets.load_iris().data\n",
    "targets = datasets.load_iris().target\n",
    "x = np.array([4.9, 3.0, 6.1, 2.2])\n",
    "\n",
    "tests = [\n",
    "    {\n",
    "        'input': [x, dataset, targets, 3, 'euclidean'],\n",
    "        'expected_value': 2\n",
    "    },\n",
    "    {\n",
    "        'input': [x, dataset, targets, 5, 'dot_product'],\n",
    "        'expected_value': 0\n",
    "    },\n",
    "    {\n",
    "        'input': [x, dataset, targets, 1, 'cosine'],\n",
    "        'expected_value': 2\n",
    "    }\n",
    "]\n",
    "\n",
    "for test in tests:\n",
    "    pred_label = knn_classifier(*test['input'])\n",
    "    assert isinstance(pred_label, int), \"The function should return an integer.\"\n",
    "    assert pred_label == test['expected_value'], \"The returned label is not correct.\""
   ]
  },
  {
   "cell_type": "markdown",
   "metadata": {
    "deletable": false,
    "editable": false,
    "nbgrader": {
     "grade": false,
     "grade_id": "cell-b313525466401310",
     "locked": true,
     "schema_version": 3,
     "solution": false,
     "task": false
    }
   },
   "source": [
    "Great job! You now have a working kNN classifier!\n",
    "\n",
    "![its-alive](media/its-alive.png)\n",
    "\n",
    "Now that you've implemented a kNN classifier, let's go a bit further and implement a kNN regressor."
   ]
  },
  {
   "cell_type": "markdown",
   "metadata": {
    "deletable": false,
    "editable": false,
    "nbgrader": {
     "grade": false,
     "grade_id": "cell-af4d892a2058b05d",
     "locked": true,
     "schema_version": 3,
     "solution": false,
     "task": false
    }
   },
   "source": [
    "## Exercise 3 - Regression with KNN\n",
    "\n",
    "As we explained in the learning notebook, the main difference between a kNN classifier and a kNN regressor is the way we choose the predicted label from the labels of the nearest neighbors. So we can reuse the first step of retrieving the neighbors.\n",
    "\n",
    "For the classifier case we used a majority vote. In the regressor case, we want to use the average value of the neighbors' labels."
   ]
  },
  {
   "cell_type": "markdown",
   "metadata": {
    "deletable": false,
    "editable": false,
    "nbgrader": {
     "grade": false,
     "grade_id": "cell-75c560ee36ba7ee3",
     "locked": true,
     "schema_version": 3,
     "solution": false
    }
   },
   "source": [
    "### Exercise 3.1 - Calculate the prediction from the nearest neighbors\n",
    "\n",
    "Implement a function called `get_knn_value`, that:\n",
    "\n",
    "* receives two arguments:\n",
    "    * `y`, the targets of all the points from the dataset\n",
    "    * `neighbor_indexes`, which are the indexes of the k nearest neighbors\n",
    "* returns the average of the nearest neighbors' target values"
   ]
  },
  {
   "cell_type": "code",
   "execution_count": null,
   "metadata": {
    "deletable": false,
    "nbgrader": {
     "grade": false,
     "grade_id": "cell-2ee17f126f1a73d7",
     "locked": false,
     "schema_version": 3,
     "solution": true,
     "task": false
    }
   },
   "outputs": [],
   "source": [
    "def get_knn_value(y, neighbor_indexes):\n",
    "    \"\"\"\n",
    "    Returns the average value of the nearest neighbors targets\n",
    "    \n",
    "    Parameters\n",
    "    ----------\n",
    "    y: numpy array with shape (N,) - targets of all the points in the dataset\n",
    "    neighbor_indexes: numpy array with shape (k,) - indexes of the nearest neighbors in the dataset\n",
    "    \n",
    "    Returns\n",
    "    ----------\n",
    "    knn_prediction: float, average of the nearest neighbors targets\n",
    "    \"\"\"\n",
    "\n",
    "    # YOUR CODE HERE\n",
    "    raise NotImplementedError()\n",
    "    \n",
    "    return knn_prediction"
   ]
  },
  {
   "cell_type": "code",
   "execution_count": null,
   "metadata": {
    "deletable": false,
    "editable": false,
    "nbgrader": {
     "grade": true,
     "grade_id": "cell-dea39d8bb2bae597",
     "locked": true,
     "points": 2,
     "schema_version": 3,
     "solution": false,
     "task": false
    }
   },
   "outputs": [],
   "source": [
    "np.random.seed(42) \n",
    "\n",
    "# Test case 1\n",
    "answer = get_knn_value(np.random.rand(150), np.random.randint(0, 3, 3))\n",
    "assert isinstance(answer, float), 'The answer should be a float.'\n",
    "np.testing.assert_almost_equal(answer, 0.4937, 2, err_msg='The predicted value is not correct.')\n",
    "\n",
    "# Test case 2\n",
    "answer = get_knn_value(np.random.rand(10), np.random.randint(1, 5, 7))\n",
    "assert isinstance(answer, float), 'The answer should be a float.'\n",
    "np.testing.assert_almost_equal(answer, 0.5192, 2, err_msg='The predicted value is not correct.')"
   ]
  },
  {
   "cell_type": "markdown",
   "metadata": {
    "deletable": false,
    "editable": false,
    "nbgrader": {
     "grade": false,
     "grade_id": "cell-e067ba690e450e56",
     "locked": true,
     "schema_version": 3,
     "solution": false,
     "task": false
    }
   },
   "source": [
    "And we're ready to implement the kNN regressor! Keep up the good work, we're almost there!\n",
    "\n",
    "![almost_there](media/almost_there.gif)"
   ]
  },
  {
   "cell_type": "markdown",
   "metadata": {
    "deletable": false,
    "editable": false,
    "nbgrader": {
     "grade": false,
     "grade_id": "cell-7a3f694fbcb9bc02",
     "locked": true,
     "schema_version": 3,
     "solution": false
    }
   },
   "source": [
    "### Exercise 3.2 - kNN regressor, put it all together\n",
    "\n",
    "Implement a function called `knn_regressor` that:\n",
    "\n",
    "* receives five arguments:\n",
    "    * `x`, the coordinates of a point for which to make a prediction\n",
    "    * `dataset`, coordinates of N other points\n",
    "    * `targets`, targets for each point in the dataset\n",
    "    * `k`, the number of nearest neighbors the kNN algorithm should consider\n",
    "    * `distance_function`, distance type, can be 'euclidean', 'cosine', 'dot'\n",
    "* uses the functions that we implemented above\n",
    "* returns the prediction for point x"
   ]
  },
  {
   "cell_type": "code",
   "execution_count": null,
   "metadata": {
    "deletable": false,
    "nbgrader": {
     "grade": false,
     "grade_id": "cell-5cb72f729002e93f",
     "locked": false,
     "schema_version": 3,
     "solution": true
    }
   },
   "outputs": [],
   "source": [
    "def knn_regressor(x, dataset, targets, k, distance_function):\n",
    "    \"\"\"\n",
    "    Predicts the value for a single point using the kNN regression algorithm\n",
    "    \n",
    "    Parameters\n",
    "    ----------\n",
    "    x: numpy array with shape (d,), coordinates of the point\n",
    "    dataset: numpy array with shape (N, d), coordinates of N other points\n",
    "    targets: numpy array with shape (N,), targets of the points in the dataset\n",
    "    k: int, number of nearest neighbors\n",
    "    distance_function: string, type of distance function to use\n",
    "    \n",
    "    Returns\n",
    "    ----------\n",
    "    prediction: float\n",
    "    \"\"\"\n",
    "\n",
    "    # YOUR CODE HERE\n",
    "    raise NotImplementedError()\n",
    "\n",
    "    return prediction"
   ]
  },
  {
   "cell_type": "code",
   "execution_count": null,
   "metadata": {
    "deletable": false,
    "editable": false,
    "nbgrader": {
     "grade": true,
     "grade_id": "cell-90a7594798c1c9fe",
     "locked": true,
     "points": 1,
     "schema_version": 3,
     "solution": false
    }
   },
   "outputs": [],
   "source": [
    "np.random.seed(42)\n",
    "dataset = datasets.load_diabetes().data\n",
    "targets = datasets.load_diabetes().target\n",
    "x = np.random.rand(10)\n",
    "\n",
    "prediction = knn_regressor(x, dataset, targets, 3, 'euclidean')\n",
    "assert isinstance(prediction, float), 'The output should be a float.'\n",
    "np.testing.assert_almost_equal(prediction, 265.6666, 2, err_msg='The predicted value is not correct.')\n",
    "\n",
    "prediction = knn_regressor(x, dataset, targets, 5, 'dot_product')\n",
    "assert isinstance(prediction, float), 'The output should be a float.'\n",
    "np.testing.assert_almost_equal(prediction, 92.8, err_msg='The predicted value is not correct.')\n",
    "\n",
    "prediction = knn_regressor(x, dataset, targets, 1, 'cosine')\n",
    "assert isinstance(prediction, float), 'The output should be a float.'\n",
    "np.testing.assert_almost_equal(prediction, 264.0, err_msg='The predicted value is not correct.')"
   ]
  },
  {
   "cell_type": "markdown",
   "metadata": {
    "deletable": false,
    "editable": false,
    "nbgrader": {
     "grade": false,
     "grade_id": "cell-5e58c10a7fb9bd1f",
     "locked": true,
     "schema_version": 3,
     "solution": false
    }
   },
   "source": [
    "**Well done!!!**\n",
    "\n",
    "![we_did_it](media/we_did_it.gif)"
   ]
  },
  {
   "cell_type": "markdown",
   "metadata": {
    "deletable": false,
    "editable": false,
    "nbgrader": {
     "grade": false,
     "grade_id": "cell-49a7da6e8b5dc30a",
     "locked": true,
     "schema_version": 3,
     "solution": false
    }
   },
   "source": [
    "Finally let's wrap this up with a couple of exercises on how to use scikit's kNN models.\n",
    "\n",
    "## Exercise 4 - Using scikit's kNN models"
   ]
  },
  {
   "cell_type": "code",
   "execution_count": null,
   "metadata": {
    "deletable": false,
    "editable": false,
    "nbgrader": {
     "grade": false,
     "grade_id": "cell-0153575a93052588",
     "locked": true,
     "schema_version": 3,
     "solution": false,
     "task": false
    }
   },
   "outputs": [],
   "source": [
    "from scipy.spatial.distance import cosine\n",
    "from sklearn.model_selection import train_test_split\n",
    "from sklearn.neighbors import KNeighborsClassifier, KNeighborsRegressor\n",
    "from sklearn.metrics import accuracy_score"
   ]
  },
  {
   "cell_type": "markdown",
   "metadata": {
    "deletable": false,
    "editable": false,
    "nbgrader": {
     "grade": false,
     "grade_id": "cell-29d1ac30de7cb219",
     "locked": true,
     "schema_version": 3,
     "solution": false
    }
   },
   "source": [
    "### Exercise 4.1 - kNN with Euclidean distance\n",
    "\n",
    "Use a `KNeighborsClassifier` to create predictions for the [breast cancer dataset](https://scikit-learn.org/stable/modules/generated/sklearn.datasets.load_breast_cancer.html#sklearn.datasets.load_breast_cancer).\n",
    "\n",
    "The dataset contains features extracted from microscopic images of breast cancer cell nuclei. The target is the malignancy of the cancer.\n",
    "\n",
    "Follow the instructions in the comments in the notebook cells below."
   ]
  },
  {
   "cell_type": "code",
   "execution_count": null,
   "metadata": {
    "deletable": false,
    "nbgrader": {
     "grade": false,
     "grade_id": "cell-08dc6b8c978617eb",
     "locked": false,
     "schema_version": 3,
     "solution": true
    }
   },
   "outputs": [],
   "source": [
    "# We start by importing the dataset\n",
    "data = datasets.load_breast_cancer()\n",
    "\n",
    "# Now do a train test split, using the train_test_split function from scikit\n",
    "# Use a test_size of 0.25 and a random_state of 42\n",
    "# X_train, X_test, y_train, y_test = ...\n",
    "\n",
    "# YOUR CODE HERE\n",
    "raise NotImplementedError()"
   ]
  },
  {
   "cell_type": "code",
   "execution_count": null,
   "metadata": {
    "deletable": false,
    "editable": false,
    "nbgrader": {
     "grade": true,
     "grade_id": "cell-85dd231d39ba1054",
     "locked": true,
     "points": 1,
     "schema_version": 3,
     "solution": false
    }
   },
   "outputs": [],
   "source": [
    "tests = [\n",
    "    {\n",
    "        'dataset_type': 'X_train',\n",
    "        'dataset': X_train,\n",
    "        'shape_hash': '31ffabcaf98971831a5f8ad05ba70049a86bd60bda0a971ca9691388f9f72f8b'\n",
    "    },\n",
    "    {\n",
    "        'dataset_type': 'X_test',\n",
    "        'dataset': X_test,\n",
    "        'shape_hash': '747c580b9756b4741bfbe812b8ca9fd8d047a5d6f9e3ebe53d4d15117f42ec2a'\n",
    "    },\n",
    "    {\n",
    "        'dataset_type': 'y_train',\n",
    "        'dataset': y_train,\n",
    "        'shape_hash': '23a4f6ee909897142105a6577ac39ff86c353b8ad0ded0bece87829bb1953a58'\n",
    "    },\n",
    "    {\n",
    "        'dataset_type': 'y_test',\n",
    "        'dataset': y_test,\n",
    "        'shape_hash': '40957487610d92ca4dd2d37ec155c40d20091a504bf65270a3cd28e6863ef633'\n",
    "    },\n",
    "]\n",
    "\n",
    "for test in tests:\n",
    "    shape_hash = hashlib.sha256(json.dumps(test['dataset'].shape).encode()).hexdigest()\n",
    "\n",
    "    assert isinstance(test['dataset'], np.ndarray), f\"{test['dataset_type']} should be a numpy array!\"\n",
    "    assert shape_hash == test['shape_hash'], \"The returned numpy array has the wrong shape!\""
   ]
  },
  {
   "cell_type": "code",
   "execution_count": null,
   "metadata": {
    "deletable": false,
    "nbgrader": {
     "grade": false,
     "grade_id": "cell-bf5bdec884565df8",
     "locked": false,
     "schema_version": 3,
     "solution": true
    }
   },
   "outputs": [],
   "source": [
    "# Instantiate a kNN Classifier with k=3 and Euclidean distance as the distance function\n",
    "# In scikit, the Euclidean distance is the default one and goes by the name of 'minkowski'\n",
    "# which is in fact a generalisation of the Euclidean distance\n",
    "# clf = ...\n",
    "# YOUR CODE HERE\n",
    "raise NotImplementedError()\n",
    "\n",
    "\n",
    "# Get predictions for the test dataset\n",
    "# y_pred = ...\n",
    "# YOUR CODE HERE\n",
    "raise NotImplementedError()\n",
    "\n",
    "# Calculate the accuracy of the solution\n",
    "# accuracy = ...\n",
    "# YOUR CODE HERE\n",
    "raise NotImplementedError()"
   ]
  },
  {
   "cell_type": "code",
   "execution_count": null,
   "metadata": {
    "deletable": false,
    "editable": false,
    "nbgrader": {
     "grade": true,
     "grade_id": "cell-04b5eaa6dd765f64",
     "locked": true,
     "points": 1,
     "schema_version": 3,
     "solution": false
    }
   },
   "outputs": [],
   "source": [
    "assert isinstance(clf, KNeighborsClassifier)\n",
    "assert hashlib.sha256(json.dumps(clf.get_params()).encode()).hexdigest() == \\\n",
    "'c4a05083bfa540d2686546998f18e59fcd2e8bee8ddba53a396fd3719360fb06', 'The parameters of the classifier are not correct.'\n",
    "\n",
    "assert isinstance(y_pred, np.ndarray), 'The prediction should be a numpy array.'\n",
    "assert y_pred.shape == (143,), 'The shape of the prediction is not correct.'\n",
    "assert hashlib.sha256(json.dumps(''.join([str(i) for i in y_pred])).encode()).hexdigest() == \\\n",
    "'ccbde511468d2997594b55f52a4e5a94065faab6251da19adda788f003fcf9f2', 'The prediction is not correct.'\n",
    "\n",
    "assert isinstance(accuracy, float), 'The accuracy should be a float.'\n",
    "np.testing.assert_almost_equal(accuracy, 0.930, 3, err_msg='The accuracy value is not correct.')"
   ]
  },
  {
   "cell_type": "markdown",
   "metadata": {
    "deletable": false,
    "editable": false,
    "nbgrader": {
     "grade": false,
     "grade_id": "cell-967467f1173ef45d",
     "locked": true,
     "schema_version": 3,
     "solution": false
    }
   },
   "source": [
    "### Exercise 4.2 - kNN with cosine distance\n",
    "\n",
    "Now we want to see the difference if we use the cosine distance instead of the Euclidean distance.\n",
    "\n",
    "Go through the same steps as the previous exercise, but use the cosine distance as the distance metric in the kNN classifier."
   ]
  },
  {
   "cell_type": "code",
   "execution_count": null,
   "metadata": {
    "deletable": false,
    "nbgrader": {
     "grade": false,
     "grade_id": "cell-2d3c89f8bdfa66f9",
     "locked": false,
     "schema_version": 3,
     "solution": true
    }
   },
   "outputs": [],
   "source": [
    "# Instantiate a kNN Classifier with k=3 and cosine distance as the distance function\n",
    "# clf = ...\n",
    "# YOUR CODE HERE\n",
    "raise NotImplementedError()\n",
    "\n",
    "# Get predictions for the test dataset\n",
    "# y_pred = ...\n",
    "# YOUR CODE HERE\n",
    "raise NotImplementedError()\n",
    "\n",
    "# Calculate the accuracy of the prediction\n",
    "# accuracy = ...\n",
    "# YOUR CODE HERE\n",
    "raise NotImplementedError()"
   ]
  },
  {
   "cell_type": "code",
   "execution_count": null,
   "metadata": {
    "deletable": false,
    "editable": false,
    "nbgrader": {
     "grade": true,
     "grade_id": "cell-27bbc70efc45d988",
     "locked": true,
     "points": 1,
     "schema_version": 3,
     "solution": false
    }
   },
   "outputs": [],
   "source": [
    "assert isinstance(clf, KNeighborsClassifier)\n",
    "assert hashlib.sha256(json.dumps(clf.get_params()).encode()).hexdigest() == \\\n",
    "'1f6450a10287ae3aecbfe3be2415e00ef911eaf1a57033545b5fb62a558a174e', \\\n",
    "'The parameters of the classifier are not correct.'\n",
    "\n",
    "assert isinstance(y_pred, np.ndarray), 'The prediction should be a numpy array.'\n",
    "assert y_pred.shape == (143,), 'The shape of the prediction is not correct.'\n",
    "assert hashlib.sha256(json.dumps(''.join([str(i) for i in y_pred])).encode()).hexdigest() == \\\n",
    "'6ba8a065a1384c98195fb765f17e005a6bb5a0094f25badb5654d9a3b91c165b', 'The prediction is not correct.'\n",
    "\n",
    "assert isinstance(accuracy, float), 'The accuracy should be a float.'\n",
    "np.testing.assert_almost_equal(accuracy, 0.937, 3, err_msg='The accuracy value is not correct.')"
   ]
  },
  {
   "cell_type": "markdown",
   "metadata": {
    "deletable": false,
    "editable": false,
    "nbgrader": {
     "grade": false,
     "grade_id": "cell-f2b878d628477891",
     "locked": true,
     "schema_version": 3,
     "solution": false,
     "task": false
    }
   },
   "source": [
    "### Exercise 4.3 - Test different k and metrics\n",
    "\n",
    "And the last exercise. \n",
    "\n",
    "Try different combinations of n_neighbors and metrics and choose the option with the highest accuracy:\n",
    "\n",
    "1. n_neighbors = 7, metric = 'minkowski'\n",
    "2. n_neighbors = 9, metric = 'cosine'\n",
    "3. n_neighbors = 11, metric = 'minkowski'\n",
    "4. n_neighbors = 11, metric = 'cosine'\n",
    "\n",
    "Assign the answer to the variable `best_parameters` as an integer (1, 2, 3 or 4)."
   ]
  },
  {
   "cell_type": "code",
   "execution_count": null,
   "metadata": {
    "deletable": false,
    "nbgrader": {
     "grade": false,
     "grade_id": "cell-121669e3e8e57b20",
     "locked": false,
     "schema_version": 3,
     "solution": true,
     "task": false
    }
   },
   "outputs": [],
   "source": [
    "# Find the best combination of n_neighbors and metric\n",
    "# best_parameters = ...\n",
    "# YOUR CODE HERE\n",
    "raise NotImplementedError()"
   ]
  },
  {
   "cell_type": "code",
   "execution_count": null,
   "metadata": {
    "deletable": false,
    "editable": false,
    "nbgrader": {
     "grade": true,
     "grade_id": "cell-75ff4cbbd03e8e9c",
     "locked": true,
     "points": 2,
     "schema_version": 3,
     "solution": false,
     "task": false
    }
   },
   "outputs": [],
   "source": [
    "assert hashlib.sha256(json.dumps(best_parameters).encode()).hexdigest() == \\\n",
    "'4e07408562bedb8b60ce05c1decfe3ad16b72230967de01f640b7e4729b49fce', 'Not the correct option.'"
   ]
  },
  {
   "attachments": {},
   "cell_type": "markdown",
   "metadata": {
    "deletable": false,
    "editable": false,
    "nbgrader": {
     "grade": false,
     "grade_id": "cell-202c9f284ddef192",
     "locked": true,
     "schema_version": 3,
     "solution": false
    }
   },
   "source": [
    "And we're done! Nice job ;)\n",
    "\n",
    "![were_done](media/were_done.gif)"
   ]
  }
 ],
 "metadata": {
  "kernelspec": {
   "display_name": "Python 3 (ipykernel)",
   "language": "python",
   "name": "python3"
  },
  "language_info": {
   "codemirror_mode": {
    "name": "ipython",
    "version": 3
   },
   "file_extension": ".py",
   "mimetype": "text/x-python",
   "name": "python",
   "nbconvert_exporter": "python",
   "pygments_lexer": "ipython3",
   "version": "3.12.11"
  },
  "widgets": {
   "application/vnd.jupyter.widget-state+json": {
    "state": {},
    "version_major": 2,
    "version_minor": 0
   }
  }
 },
 "nbformat": 4,
 "nbformat_minor": 4
}
