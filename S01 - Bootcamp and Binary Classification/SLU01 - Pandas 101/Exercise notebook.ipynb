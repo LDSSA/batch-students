{
 "cells": [
  {
   "cell_type": "markdown",
   "metadata": {
    "nbgrader": {
     "grade": false,
     "grade_id": "cell-da2dce3c3cde2481",
     "locked": true,
     "schema_version": 3,
     "solution": false,
     "task": false
    }
   },
   "source": [
    "# SLU01 - Pandas 101: Exercise notebook"
   ]
  },
  {
   "cell_type": "code",
   "execution_count": 1,
   "metadata": {
    "nbgrader": {
     "grade": false,
     "grade_id": "cell-5be461f9535e38ef",
     "locked": true,
     "schema_version": 3,
     "solution": false,
     "task": false
    }
   },
   "outputs": [],
   "source": [
    "# First things first, import:\n",
    "import pandas as pd\n",
    "import numpy as np\n",
    "import hashlib"
   ]
  },
  {
   "cell_type": "markdown",
   "metadata": {
    "nbgrader": {
     "grade": false,
     "grade_id": "cell-284c29675c074ad2",
     "locked": true,
     "schema_version": 3,
     "solution": false,
     "task": false
    }
   },
   "source": [
    "- In this notebook the following is tested:\n",
    "\n",
    "    - Creating pandas Series\n",
    "    - Creating pandas DataFrame\n",
    "    - Load a dataset from a file\n",
    "    - Preview a dataframe\n",
    "    - Convert datatypes in DataFrame"
   ]
  },
  {
   "cell_type": "markdown",
   "metadata": {
    "nbgrader": {
     "grade": false,
     "grade_id": "cell-271c2a4c67a910b1",
     "locked": true,
     "schema_version": 3,
     "solution": false,
     "task": false
    }
   },
   "source": [
    "## Exercise 1: Series"
   ]
  },
  {
   "cell_type": "markdown",
   "metadata": {
    "nbgrader": {
     "grade": false,
     "grade_id": "cell-5df2f4729d57dc2c",
     "locked": true,
     "schema_version": 3,
     "solution": false,
     "task": false
    }
   },
   "source": [
    "### 1.1 Create a pandas Series from a list."
   ]
  },
  {
   "cell_type": "markdown",
   "metadata": {
    "nbgrader": {
     "grade": false,
     "grade_id": "cell-698c87018adbfca5",
     "locked": true,
     "schema_version": 3,
     "solution": false,
     "task": false
    }
   },
   "source": [
    "Create a `list` with the names of the items given in the cell below. Then create a `Series` using that list, using the order provided.\n",
    "\n",
    "Note: Let pandas generate the index on its own. Also, don't forget to delete the raise error!"
   ]
  },
  {
   "cell_type": "code",
   "execution_count": 2,
   "metadata": {
    "nbgrader": {
     "grade": false,
     "grade_id": "cell-d0be99db1c88ce43",
     "locked": false,
     "schema_version": 3,
     "solution": true,
     "task": false
    }
   },
   "outputs": [],
   "source": [
    "# items (each of type string): pork, milk, peas, peanuts, potatoes\n",
    "# items_list = \n",
    "\n",
    "# Create a series with the items above, and call it items_series\n",
    "# items_series = \n",
    "\n",
    "### BEGIN SOLUTION\n",
    "items_list = ['pork', 'milk', 'peas', 'peanuts', 'potatoes']\n",
    "items_series = pd.Series(items_list)\n",
    "### END SOLUTION"
   ]
  },
  {
   "cell_type": "code",
   "execution_count": 3,
   "metadata": {
    "nbgrader": {
     "grade": false,
     "grade_id": "cell-5f8266a7e866c326",
     "locked": true,
     "schema_version": 3,
     "solution": false,
     "task": false
    }
   },
   "outputs": [
    {
     "data": {
      "text/plain": [
       "0        pork\n",
       "1        milk\n",
       "2        peas\n",
       "3     peanuts\n",
       "4    potatoes\n",
       "dtype: object"
      ]
     },
     "execution_count": 3,
     "metadata": {},
     "output_type": "execute_result"
    }
   ],
   "source": [
    "# run this cell to see the results \n",
    "items_series"
   ]
  },
  {
   "cell_type": "code",
   "execution_count": 4,
   "metadata": {
    "nbgrader": {
     "grade": true,
     "grade_id": "cell-0344c841b5dac488",
     "locked": true,
     "points": 2,
     "schema_version": 3,
     "solution": false,
     "task": false
    },
    "scrolled": true
   },
   "outputs": [],
   "source": [
    "assert(isinstance(items_list, list)), \"The data structure used is not the correct one.\"\n",
    "assert(len([i for i in items_list if not isinstance(i, str)]) == 0), \"The items inside the list should be of type string.\"\n",
    "assert(len(items_series) == 5), \"The length of the list is not correct.\"\n",
    "assert(hashlib.sha256(''.join(items_list).encode()).hexdigest() == '2b0898564acfeeacc4c2f2ae3fb7e8057552d46849f2523d5d4edb3a234528a2'), \"The items in the list don't seem to be correct.\"\n",
    "assert(hashlib.sha256(''.join(items_series.values.tolist()).encode()).hexdigest() == '2b0898564acfeeacc4c2f2ae3fb7e8057552d46849f2523d5d4edb3a234528a2'), \"The items in the Series don't seem to be correct.\"\n",
    "assert(np.equal(items_series.index.to_numpy(), np.arange(0, 5)).sum() == 5), \"The Series index doesn't seem to be correct.\""
   ]
  },
  {
   "cell_type": "markdown",
   "metadata": {
    "nbgrader": {
     "grade": false,
     "grade_id": "cell-c90b1f8712d3b59c",
     "locked": true,
     "schema_version": 3,
     "solution": false,
     "task": false
    }
   },
   "source": [
    "### 1.2 CO<sub>2</sub> equivalents"
   ]
  },
  {
   "cell_type": "markdown",
   "metadata": {
    "nbgrader": {
     "grade": false,
     "grade_id": "cell-3087c1871ca920e9",
     "locked": true,
     "schema_version": 3,
     "solution": false,
     "task": false
    }
   },
   "source": [
    "Let's now use the `items_list` as index and build a `Series` containing the kg CO<sub>2</sub> equivalents per item (the amount of CO<sub>2</sub> corresponding to the warming effect of greenhouse gases emitted during production of the item, [ref](https://doi.org/10.1126/science.aaq0216))."
   ]
  },
  {
   "cell_type": "code",
   "execution_count": 5,
   "metadata": {
    "nbgrader": {
     "grade": false,
     "grade_id": "cell-28516449982ab767",
     "locked": true,
     "schema_version": 3,
     "solution": false,
     "task": false
    }
   },
   "outputs": [],
   "source": [
    "# RUN THIS CELL FIRST\n",
    "# kg CO2 equivalents of the foods in items_list:\n",
    "food_CO2 = np.array([7.6, 3.2, 0.4, 1.2, 0.6]) "
   ]
  },
  {
   "cell_type": "code",
   "execution_count": 6,
   "metadata": {
    "nbgrader": {
     "grade": false,
     "grade_id": "cell-2d2283c13fa0600e",
     "locked": false,
     "schema_version": 3,
     "solution": true,
     "task": false
    },
    "scrolled": true
   },
   "outputs": [],
   "source": [
    "# Create a series which has items_list (created in exercise 1.1) as index, \n",
    "# and the respective value in the food_CO2 list given in the cell above as values.\n",
    "# CO2_eq = \n",
    "\n",
    "### BEGIN SOLUTION\n",
    "CO2_eq = pd.Series(data=food_CO2, index=items_list)\n",
    "### END SOLUTION"
   ]
  },
  {
   "cell_type": "code",
   "execution_count": 7,
   "metadata": {
    "nbgrader": {
     "grade": false,
     "grade_id": "cell-350b5e2353446f9f",
     "locked": true,
     "schema_version": 3,
     "solution": false,
     "task": false
    }
   },
   "outputs": [
    {
     "data": {
      "text/plain": [
       "pork        7.6\n",
       "milk        3.2\n",
       "peas        0.4\n",
       "peanuts     1.2\n",
       "potatoes    0.6\n",
       "dtype: float64"
      ]
     },
     "execution_count": 7,
     "metadata": {},
     "output_type": "execute_result"
    }
   ],
   "source": [
    "# run this cell to see the results \n",
    "CO2_eq"
   ]
  },
  {
   "cell_type": "code",
   "execution_count": 8,
   "metadata": {
    "nbgrader": {
     "grade": true,
     "grade_id": "cell-096e084aeb31ba69",
     "locked": true,
     "points": 2,
     "schema_version": 3,
     "solution": false,
     "task": false
    }
   },
   "outputs": [],
   "source": [
    "assert (isinstance(CO2_eq, pd.Series)), \"CO2_eq is not a series.\"\n",
    "assert(len(CO2_eq==5)), \"The length of CO2_eq is not correct.\"\n",
    "assert(CO2_eq.sum() == 13), 'Something is wrong with the values of the series. Did you use the correct input?'\n",
    "assert(hashlib.sha256(''.join(CO2_eq.index.tolist()).encode()).hexdigest() == '2b0898564acfeeacc4c2f2ae3fb7e8057552d46849f2523d5d4edb3a234528a2'), 'The order of the index is not correct.'"
   ]
  },
  {
   "cell_type": "markdown",
   "metadata": {
    "nbgrader": {
     "grade": false,
     "grade_id": "cell-f1ceac100057579f",
     "locked": true,
     "schema_version": 3,
     "solution": false,
     "task": false
    }
   },
   "source": [
    "Cool! In 1 exercise you learned 2 things:\n",
    "- that a pandas Series can be built using several data structures, such as lists or numpy arrays\n",
    "- that if you want to reduce your carbon footprint and help save the planet, you should turn to a plant-based diet (<300 g meat and <1.7 kg dairy per week, see here: https://takethejump.org/)\n",
    "😃 🌍"
   ]
  },
  {
   "cell_type": "markdown",
   "metadata": {
    "nbgrader": {
     "grade": false,
     "grade_id": "cell-fd427a357cc3cf29",
     "locked": true,
     "schema_version": 3,
     "solution": false,
     "task": false
    }
   },
   "source": [
    "## Exercise 2: DataFrames\n",
    "\n",
    "The goal of this exercise is to create a simple DataFrame from several data structures."
   ]
  },
  {
   "cell_type": "code",
   "execution_count": 9,
   "metadata": {
    "nbgrader": {
     "grade": false,
     "grade_id": "cell-47e3f0e9ade0d953",
     "locked": true,
     "schema_version": 3,
     "solution": false,
     "task": false
    }
   },
   "outputs": [],
   "source": [
    "# RUN THIS CELL FIRST\n",
    "# this is the data you'll use to fill each column of your dataframe\n",
    "github_repos = ['freeCodeCamp', 'free-programming-books', 'awesome', '996.ICU', 'coding-interview-university']\n",
    "repo_creators = np.array(['freeCodeCamp', 'EbookFoundation', 'sindresorhus', '996icu', 'jwasham'])\n",
    "number_of_forks = [33599, 57194, 26485, 21497, 69434]\n",
    "number_of_stars = [374074, 298393, 269997, 267901, 265161]"
   ]
  },
  {
   "cell_type": "code",
   "execution_count": 10,
   "metadata": {
    "nbgrader": {
     "grade": false,
     "grade_id": "cell-b5c9767e3556cd9b",
     "locked": false,
     "schema_version": 3,
     "solution": true,
     "task": false
    }
   },
   "outputs": [],
   "source": [
    "# Add the data from the lists github_repos, repo_creators, number_of_forks, number_of_stars\n",
    "# to a dictionary called dict_most_popular_repos:\n",
    "#   - use the 4 variables created in the cell above to fill the data for each key\n",
    "#   - each key should be a string containing the name of the corresponding variable.\n",
    "# dict_most_popular_repos = \n",
    "\n",
    "# Create a dataframe called df_most_popular_repos\n",
    "#   - set an index with the values 'first', 'second', 'third', 'fourth', 'fifth'\n",
    "#   - use the dictionary created above to populate the dataframe.\n",
    "# df_most_popular_repos = ...\n",
    "\n",
    "\n",
    "### BEGIN SOLUTION\n",
    "dict_most_popular_repos = {\n",
    "    'github_repos': github_repos,\n",
    "    'repo_creators': repo_creators,\n",
    "    'number_of_forks': number_of_forks,\n",
    "    'number_of_stars': number_of_stars\n",
    "}\n",
    "\n",
    "df_most_popular_repos = pd.DataFrame(\n",
    "    data = dict_most_popular_repos,\n",
    "    index = ('first','second','third','fourth','fifth')\n",
    ")\n",
    "### END SOLUTION"
   ]
  },
  {
   "cell_type": "code",
   "execution_count": 11,
   "metadata": {
    "nbgrader": {
     "grade": true,
     "grade_id": "cell-a4ab78569f17b22b",
     "locked": true,
     "points": 2,
     "schema_version": 3,
     "solution": false,
     "task": false
    }
   },
   "outputs": [],
   "source": [
    "assert(list(dict_most_popular_repos.keys())==['github_repos', 'repo_creators', 'number_of_forks', 'number_of_stars']), \"The dictionary keys are not correct.\"\n",
    "assert(len(dict_most_popular_repos) == 4), \"The length of the dictionary is not correct.\"\n",
    "assert(isinstance(dict_most_popular_repos,dict)), 'dict_most_popular_repos is not a dictionary.'\n",
    "assert(isinstance(df_most_popular_repos, pd.DataFrame)), 'df_most_popular_repos is not a DataFrame'\n",
    "assert(df_most_popular_repos['github_repos'].tolist()==github_repos), \"The 'github_repos' column doesn't look right.\"\n",
    "assert(df_most_popular_repos['repo_creators'].tolist()==list(repo_creators)), \"The 'repo_creators' column doesn't look right.\"\n",
    "assert(df_most_popular_repos['number_of_forks'].tolist()==number_of_forks), \"The 'number_of_forks' column doesn't look right.\"\n",
    "assert(df_most_popular_repos['number_of_stars'].tolist()==number_of_stars), \"The 'number_of_stars' column doesn't look right.\"\n",
    "assert(df_most_popular_repos.shape == (5, 4)), 'The size of the dataframe is not correct.'\n",
    "assert(df_most_popular_repos.index.tolist() != ('first', 'second', 'third', 'fourth','fifth')), 'The index is not correct. Reread the instructions.'"
   ]
  },
  {
   "cell_type": "markdown",
   "metadata": {
    "nbgrader": {
     "grade": false,
     "grade_id": "cell-a9be7d364fff8062",
     "locked": true,
     "schema_version": 3,
     "solution": false,
     "task": false
    }
   },
   "source": [
    "## Exercise 3: Loading DataFrames from files"
   ]
  },
  {
   "cell_type": "markdown",
   "metadata": {
    "nbgrader": {
     "grade": false,
     "grade_id": "cell-b539b29d4bf9bbdf",
     "locked": true,
     "schema_version": 3,
     "solution": false,
     "task": false
    }
   },
   "source": [
    "### 3.1 Load a dataset into a dataframe\n",
    "Let's load a dataset with data about chocolate bars. It is a subset from a Kaggle dataset available [here](https://www.kaggle.com/datasets/rtatman/chocolate-bar-ratings/)."
   ]
  },
  {
   "cell_type": "code",
   "execution_count": 12,
   "metadata": {
    "nbgrader": {
     "grade": false,
     "grade_id": "cell-6f209833953ab9cf",
     "locked": false,
     "schema_version": 3,
     "solution": true,
     "task": false
    }
   },
   "outputs": [],
   "source": [
    "# Load the dataset from the file located at data/chocolate_bars.csv.\n",
    "# ds_chocolate = \n",
    "\n",
    "### BEGIN SOLUTION\n",
    "ds_chocolate = pd.read_csv('data/chocolate_bars.csv')\n",
    "### END SOLUTION"
   ]
  },
  {
   "cell_type": "code",
   "execution_count": 13,
   "metadata": {
    "nbgrader": {
     "grade": false,
     "grade_id": "cell-5b36486d3ce89890",
     "locked": true,
     "schema_version": 3,
     "solution": false,
     "task": false
    },
    "scrolled": true
   },
   "outputs": [
    {
     "data": {
      "text/html": [
       "<div>\n",
       "<style scoped>\n",
       "    .dataframe tbody tr th:only-of-type {\n",
       "        vertical-align: middle;\n",
       "    }\n",
       "\n",
       "    .dataframe tbody tr th {\n",
       "        vertical-align: top;\n",
       "    }\n",
       "\n",
       "    .dataframe thead th {\n",
       "        text-align: right;\n",
       "    }\n",
       "</style>\n",
       "<table border=\"1\" class=\"dataframe\">\n",
       "  <thead>\n",
       "    <tr style=\"text-align: right;\">\n",
       "      <th></th>\n",
       "      <th>co</th>\n",
       "      <th>name</th>\n",
       "      <th>date</th>\n",
       "      <th>pct</th>\n",
       "      <th>free</th>\n",
       "      <th>loc</th>\n",
       "      <th>rtg</th>\n",
       "      <th>btp</th>\n",
       "      <th>org</th>\n",
       "    </tr>\n",
       "  </thead>\n",
       "  <tbody>\n",
       "    <tr>\n",
       "      <th>0</th>\n",
       "      <td>Artisan du Chocolat</td>\n",
       "      <td>Venezuela</td>\n",
       "      <td>2010</td>\n",
       "      <td>100</td>\n",
       "      <td>True</td>\n",
       "      <td>U.K.</td>\n",
       "      <td>1.75</td>\n",
       "      <td></td>\n",
       "      <td>Venezuela</td>\n",
       "    </tr>\n",
       "    <tr>\n",
       "      <th>1</th>\n",
       "      <td>Bonnat</td>\n",
       "      <td>One Hundred</td>\n",
       "      <td>2006</td>\n",
       "      <td>100</td>\n",
       "      <td>True</td>\n",
       "      <td>France</td>\n",
       "      <td>1.50</td>\n",
       "      <td></td>\n",
       "      <td></td>\n",
       "    </tr>\n",
       "    <tr>\n",
       "      <th>2</th>\n",
       "      <td>Bouga Cacao (Tulicorp)</td>\n",
       "      <td>El Oro, Hacienda de Oro</td>\n",
       "      <td>2009</td>\n",
       "      <td>100</td>\n",
       "      <td>True</td>\n",
       "      <td>Ecuador</td>\n",
       "      <td>1.50</td>\n",
       "      <td>Forastero (Arriba)</td>\n",
       "      <td>Ecuador</td>\n",
       "    </tr>\n",
       "    <tr>\n",
       "      <th>3</th>\n",
       "      <td>C-Amaro</td>\n",
       "      <td>Ecuador</td>\n",
       "      <td>2013</td>\n",
       "      <td>100</td>\n",
       "      <td>True</td>\n",
       "      <td>Italy</td>\n",
       "      <td>3.50</td>\n",
       "      <td></td>\n",
       "      <td>Ecuador</td>\n",
       "    </tr>\n",
       "    <tr>\n",
       "      <th>4</th>\n",
       "      <td>Claudio Corallo</td>\n",
       "      <td>Principe</td>\n",
       "      <td>2008</td>\n",
       "      <td>100</td>\n",
       "      <td>True</td>\n",
       "      <td>Sao Tome</td>\n",
       "      <td>1.00</td>\n",
       "      <td>Forastero</td>\n",
       "      <td>Sao Tome &amp; Principe</td>\n",
       "    </tr>\n",
       "  </tbody>\n",
       "</table>\n",
       "</div>"
      ],
      "text/plain": [
       "                       co                     name  date  pct  free       loc  \\\n",
       "0     Artisan du Chocolat                Venezuela  2010  100  True      U.K.   \n",
       "1                  Bonnat              One Hundred  2006  100  True    France   \n",
       "2  Bouga Cacao (Tulicorp)  El Oro, Hacienda de Oro  2009  100  True   Ecuador   \n",
       "3                 C-Amaro                  Ecuador  2013  100  True     Italy   \n",
       "4         Claudio Corallo                 Principe  2008  100  True  Sao Tome   \n",
       "\n",
       "    rtg                 btp                  org  \n",
       "0  1.75                                Venezuela  \n",
       "1  1.50                                           \n",
       "2  1.50  Forastero (Arriba)              Ecuador  \n",
       "3  3.50                                  Ecuador  \n",
       "4  1.00           Forastero  Sao Tome & Principe  "
      ]
     },
     "execution_count": 13,
     "metadata": {},
     "output_type": "execute_result"
    }
   ],
   "source": [
    "# Print the dataframe head() to get an idea of what you've just loaded.\n",
    "ds_chocolate.head()"
   ]
  },
  {
   "cell_type": "code",
   "execution_count": 14,
   "metadata": {
    "nbgrader": {
     "grade": true,
     "grade_id": "cell-a08b45d8b2814c8f",
     "locked": true,
     "points": 1,
     "schema_version": 3,
     "solution": false,
     "task": false
    }
   },
   "outputs": [],
   "source": [
    "assert(isinstance(ds_chocolate, pd.DataFrame)), \"Something is wrong. ds_chocolate is not a dataframe.\"\n",
    "assert(ds_chocolate.shape == (45, 9)), \"The shape is not correct. Did you follow all the instructions in the comments?\"\n",
    "assert(sum(ds_chocolate.columns == ['co', 'name', 'date', 'pct', 'free', 'loc', 'rtg', 'btp', 'org']) == 9), \"The columns don't look right.\"\n",
    "assert(ds_chocolate.rtg.sum()+ds_chocolate.date.sum()+ds_chocolate.pct.sum() == 94886),\"The content of the dataframe is not correct\"\n",
    "assert(hashlib.sha256(''.join(ds_chocolate.name.tolist()).encode()).hexdigest() == '9c1403a3605e81d77ee5379fc733705bace8235c4a5cf36f27f9af27440b68f3'), \"The content of the dataframe is not correct.\""
   ]
  },
  {
   "cell_type": "markdown",
   "metadata": {
    "nbgrader": {
     "grade": false,
     "grade_id": "cell-e48d5b6749cf42b8",
     "locked": true,
     "schema_version": 3,
     "solution": false,
     "task": false
    }
   },
   "source": [
    "### 3.2 Load a dataset, but this time better"
   ]
  },
  {
   "cell_type": "markdown",
   "metadata": {
    "nbgrader": {
     "grade": false,
     "grade_id": "cell-6248e95f4b1a33b7",
     "locked": true,
     "schema_version": 3,
     "solution": false,
     "task": false
    }
   },
   "source": [
    "Notice that the column names in the ds_chocolate dataframe are not very informative. This is not very useful to someone looking at the data. Instead we want to load the dataset with the following `column names` (in this order):\n",
    "- `'company'` - maker of the chocolate bar\n",
    "- `'bar_name'` - original name of the chocolate bar\n",
    "- `'review_date'` - date when the rating was given\n",
    "- `'cocoa_percentage'`\n",
    "- `'sugarfree'` - contains sugar or not\n",
    "- `'company_location'` \n",
    "- `'rating'` - from 1 to 5\n",
    "- `'cocoa_bean_type'` - cocoa variety\n",
    "- `'cocoa_bean_origin'` - where the bean type originated"
   ]
  },
  {
   "cell_type": "code",
   "execution_count": 15,
   "metadata": {
    "nbgrader": {
     "grade": false,
     "grade_id": "cell-8e15e2392133ead5",
     "locked": false,
     "schema_version": 3,
     "solution": true,
     "task": false
    }
   },
   "outputs": [],
   "source": [
    "# Load the file at 'data/chocolate_bars.csv' into a dataframe ds_chocolate.\n",
    "# set the column names to \n",
    "#  in this order.\n",
    "# You will need to check the documentation at \n",
    "# https://pandas.pydata.org/pandas-docs/stable/reference/api/pandas.read_csv.html to see how you can do this.\n",
    "# ds_chocolate = \n",
    "\n",
    "\n",
    "### BEGIN SOLUTION\n",
    "col_names = ['company','bar_name','review_date','cocoa_percentage','sugarfree',\n",
    "             'company_location','rating','cocoa_bean_type','cocoa_bean_origin']\n",
    "ds_chocolate = pd.read_csv('data/chocolate_bars.csv', names=col_names, header=0)\n",
    "### END SOLUTION"
   ]
  },
  {
   "cell_type": "code",
   "execution_count": 16,
   "metadata": {
    "nbgrader": {
     "grade": false,
     "grade_id": "cell-81403c2cff465367",
     "locked": true,
     "schema_version": 3,
     "solution": false,
     "task": false
    }
   },
   "outputs": [
    {
     "data": {
      "text/html": [
       "<div>\n",
       "<style scoped>\n",
       "    .dataframe tbody tr th:only-of-type {\n",
       "        vertical-align: middle;\n",
       "    }\n",
       "\n",
       "    .dataframe tbody tr th {\n",
       "        vertical-align: top;\n",
       "    }\n",
       "\n",
       "    .dataframe thead th {\n",
       "        text-align: right;\n",
       "    }\n",
       "</style>\n",
       "<table border=\"1\" class=\"dataframe\">\n",
       "  <thead>\n",
       "    <tr style=\"text-align: right;\">\n",
       "      <th></th>\n",
       "      <th>company</th>\n",
       "      <th>bar_name</th>\n",
       "      <th>review_date</th>\n",
       "      <th>cocoa_percentage</th>\n",
       "      <th>sugarfree</th>\n",
       "      <th>company_location</th>\n",
       "      <th>rating</th>\n",
       "      <th>cocoa_bean_type</th>\n",
       "      <th>cocoa_bean_origin</th>\n",
       "    </tr>\n",
       "  </thead>\n",
       "  <tbody>\n",
       "    <tr>\n",
       "      <th>0</th>\n",
       "      <td>Artisan du Chocolat</td>\n",
       "      <td>Venezuela</td>\n",
       "      <td>2010</td>\n",
       "      <td>100</td>\n",
       "      <td>True</td>\n",
       "      <td>U.K.</td>\n",
       "      <td>1.75</td>\n",
       "      <td></td>\n",
       "      <td>Venezuela</td>\n",
       "    </tr>\n",
       "    <tr>\n",
       "      <th>1</th>\n",
       "      <td>Bonnat</td>\n",
       "      <td>One Hundred</td>\n",
       "      <td>2006</td>\n",
       "      <td>100</td>\n",
       "      <td>True</td>\n",
       "      <td>France</td>\n",
       "      <td>1.50</td>\n",
       "      <td></td>\n",
       "      <td></td>\n",
       "    </tr>\n",
       "    <tr>\n",
       "      <th>2</th>\n",
       "      <td>Bouga Cacao (Tulicorp)</td>\n",
       "      <td>El Oro, Hacienda de Oro</td>\n",
       "      <td>2009</td>\n",
       "      <td>100</td>\n",
       "      <td>True</td>\n",
       "      <td>Ecuador</td>\n",
       "      <td>1.50</td>\n",
       "      <td>Forastero (Arriba)</td>\n",
       "      <td>Ecuador</td>\n",
       "    </tr>\n",
       "    <tr>\n",
       "      <th>3</th>\n",
       "      <td>C-Amaro</td>\n",
       "      <td>Ecuador</td>\n",
       "      <td>2013</td>\n",
       "      <td>100</td>\n",
       "      <td>True</td>\n",
       "      <td>Italy</td>\n",
       "      <td>3.50</td>\n",
       "      <td></td>\n",
       "      <td>Ecuador</td>\n",
       "    </tr>\n",
       "    <tr>\n",
       "      <th>4</th>\n",
       "      <td>Claudio Corallo</td>\n",
       "      <td>Principe</td>\n",
       "      <td>2008</td>\n",
       "      <td>100</td>\n",
       "      <td>True</td>\n",
       "      <td>Sao Tome</td>\n",
       "      <td>1.00</td>\n",
       "      <td>Forastero</td>\n",
       "      <td>Sao Tome &amp; Principe</td>\n",
       "    </tr>\n",
       "  </tbody>\n",
       "</table>\n",
       "</div>"
      ],
      "text/plain": [
       "                  company                 bar_name  review_date  \\\n",
       "0     Artisan du Chocolat                Venezuela         2010   \n",
       "1                  Bonnat              One Hundred         2006   \n",
       "2  Bouga Cacao (Tulicorp)  El Oro, Hacienda de Oro         2009   \n",
       "3                 C-Amaro                  Ecuador         2013   \n",
       "4         Claudio Corallo                 Principe         2008   \n",
       "\n",
       "   cocoa_percentage  sugarfree company_location  rating     cocoa_bean_type  \\\n",
       "0               100       True             U.K.    1.75                       \n",
       "1               100       True           France    1.50                       \n",
       "2               100       True          Ecuador    1.50  Forastero (Arriba)   \n",
       "3               100       True            Italy    3.50                       \n",
       "4               100       True         Sao Tome    1.00           Forastero   \n",
       "\n",
       "     cocoa_bean_origin  \n",
       "0            Venezuela  \n",
       "1                       \n",
       "2              Ecuador  \n",
       "3              Ecuador  \n",
       "4  Sao Tome & Principe  "
      ]
     },
     "execution_count": 16,
     "metadata": {},
     "output_type": "execute_result"
    }
   ],
   "source": [
    "# Print the dataframe head() to get an idea of what you've just loaded.\n",
    "ds_chocolate.head()"
   ]
  },
  {
   "cell_type": "code",
   "execution_count": 17,
   "metadata": {
    "nbgrader": {
     "grade": true,
     "grade_id": "cell-4457e5154efddfdf",
     "locked": true,
     "points": 2,
     "schema_version": 3,
     "solution": false,
     "task": false
    }
   },
   "outputs": [],
   "source": [
    "assert(isinstance(ds_chocolate, pd.DataFrame)), \"Something is wrong. ds_chocolate is not a dataframe.\"\n",
    "assert(ds_chocolate.shape == (45, 9)), \"The shape is not correct. Did you follow all the instructions in the comments?\"\n",
    "assert(sum(ds_chocolate.columns == ['company','bar_name','review_date','cocoa_percentage','sugarfree','company_location','rating','cocoa_bean_type','cocoa_bean_origin']) == 9), \"The columns don't look right.\"\n",
    "assert(ds_chocolate.rating.sum()+ds_chocolate.review_date.sum()+ds_chocolate.cocoa_percentage.sum() == 94886),\"The content of the dataframe is not correct\"\n",
    "assert(hashlib.sha256(''.join(ds_chocolate.bar_name.tolist()).encode()).hexdigest() == '9c1403a3605e81d77ee5379fc733705bace8235c4a5cf36f27f9af27440b68f3'), \"The content of the dataframe is not correct.\"\n",
    "assert(hashlib.sha256(''.join(ds_chocolate.columns).encode()).hexdigest() == '9681020039c95c14566f818837a704bafa96b014f0438921179a1ff52e2286ed'), \"The column names are not correct\""
   ]
  },
  {
   "cell_type": "markdown",
   "metadata": {
    "nbgrader": {
     "grade": false,
     "grade_id": "cell-b29ec5a0c9771c31",
     "locked": true,
     "schema_version": 3,
     "solution": false,
     "task": false
    }
   },
   "source": [
    "### 3.3 Preview the datatypes"
   ]
  },
  {
   "cell_type": "code",
   "execution_count": 18,
   "metadata": {
    "nbgrader": {
     "grade": false,
     "grade_id": "cell-e9e62f9d35948d34",
     "locked": false,
     "schema_version": 3,
     "solution": true,
     "task": false
    }
   },
   "outputs": [],
   "source": [
    "# Store the datatypes of all columns of ds_chocolate in ds_chocolate_dtypes.\n",
    "# Use the method you learned in the learning notebook.\n",
    "# ds_chocolate_dtypes = \n",
    "\n",
    "# Note: if you used the correct method, \n",
    "# the result will be a pandas series containing the datatypes of each column,\n",
    "# with the index formed by the column names\n",
    "\n",
    "\n",
    "### BEGIN SOLUTION\n",
    "ds_chocolate_dtypes = ds_chocolate.dtypes\n",
    "### END SOLUTION"
   ]
  },
  {
   "cell_type": "code",
   "execution_count": 19,
   "metadata": {
    "nbgrader": {
     "grade": false,
     "grade_id": "cell-e3795ce1ef7efed6",
     "locked": true,
     "schema_version": 3,
     "solution": false,
     "task": false
    }
   },
   "outputs": [
    {
     "data": {
      "text/plain": [
       "company               object\n",
       "bar_name              object\n",
       "review_date            int64\n",
       "cocoa_percentage       int64\n",
       "sugarfree               bool\n",
       "company_location      object\n",
       "rating               float64\n",
       "cocoa_bean_type       object\n",
       "cocoa_bean_origin     object\n",
       "dtype: object"
      ]
     },
     "execution_count": 19,
     "metadata": {},
     "output_type": "execute_result"
    }
   ],
   "source": [
    "# Check your output - there should be object, float, bool, and integer types.\n",
    "ds_chocolate_dtypes"
   ]
  },
  {
   "cell_type": "code",
   "execution_count": 20,
   "metadata": {
    "nbgrader": {
     "grade": true,
     "grade_id": "cell-efab0f02db3e97d7",
     "locked": true,
     "points": 2,
     "schema_version": 3,
     "solution": false,
     "task": false
    }
   },
   "outputs": [],
   "source": [
    "assert(sum([x in ds_chocolate_dtypes.index for x in ds_chocolate.columns]) == 9), \"The index of ds_chocolate_dtypes should contain all columns in ds_chocolate.\"\n",
    "assert(hashlib.sha256(''.join([str(typ) for typ in ds_chocolate_dtypes]).encode()).hexdigest() == '10f3499fbbb3d16acebe010d689e3d64246a7cd6dff7bdb18cbfa845d5caf3c0'), \"The dtypes are not correct.\""
   ]
  },
  {
   "cell_type": "markdown",
   "metadata": {
    "nbgrader": {
     "grade": false,
     "grade_id": "cell-e73c7e894cb3fb98",
     "locked": true,
     "schema_version": 3,
     "solution": false,
     "task": false
    }
   },
   "source": [
    "### 3.4 Set the correct datatypes\n",
    "The datatypes in `ds_chocolate` were infered, so all `strings` are set as `objects`. Convert all these `object` datatypes to `string` using a function you learned in the learning notebook."
   ]
  },
  {
   "cell_type": "code",
   "execution_count": 21,
   "metadata": {
    "nbgrader": {
     "grade": false,
     "grade_id": "cell-383fa34cad0538db",
     "locked": false,
     "schema_version": 3,
     "solution": true,
     "task": false
    }
   },
   "outputs": [],
   "source": [
    "# Set the correct datatypes in the ds_chocolate dataframe - convert the objects to strings.\n",
    "# Store the new dtypes in the variable ds_chocolate_dtypes_converted.\n",
    "# ds_chocolate = \n",
    "# ds_chocolate_dtypes_converted = \n",
    "\n",
    "\n",
    "### BEGIN SOLUTION\n",
    "ds_chocolate=ds_chocolate.convert_dtypes()\n",
    "ds_chocolate_dtypes_converted = ds_chocolate.dtypes\n",
    "### END SOLUTION"
   ]
  },
  {
   "cell_type": "code",
   "execution_count": 22,
   "metadata": {
    "nbgrader": {
     "grade": false,
     "grade_id": "cell-5a110459c2e3c1b4",
     "locked": true,
     "schema_version": 3,
     "solution": false,
     "task": false
    }
   },
   "outputs": [
    {
     "data": {
      "text/plain": [
       "company              string[python]\n",
       "bar_name             string[python]\n",
       "review_date                   Int64\n",
       "cocoa_percentage              Int64\n",
       "sugarfree                   boolean\n",
       "company_location     string[python]\n",
       "rating                      Float64\n",
       "cocoa_bean_type      string[python]\n",
       "cocoa_bean_origin    string[python]\n",
       "dtype: object"
      ]
     },
     "execution_count": 22,
     "metadata": {},
     "output_type": "execute_result"
    }
   ],
   "source": [
    "# Check you solution and compare it to the result of exercise 3.3. There will be pandas datatypes now.\n",
    "ds_chocolate_dtypes_converted"
   ]
  },
  {
   "cell_type": "code",
   "execution_count": 23,
   "metadata": {
    "nbgrader": {
     "grade": true,
     "grade_id": "cell-bbb1770c9e8e0521",
     "locked": true,
     "points": 1,
     "schema_version": 3,
     "solution": false,
     "task": false
    }
   },
   "outputs": [
    {
     "ename": "SyntaxError",
     "evalue": "invalid syntax (3437992524.py, line 1)",
     "output_type": "error",
     "traceback": [
      "\u001b[0;36m  Cell \u001b[0;32mIn[23], line 1\u001b[0;36m\u001b[0m\n\u001b[0;31m    assert(sum([x in ds_chocolate_dtypes_converted.index for x in ds_chocolate.columns]) == 9),\u001b[0m\n\u001b[0m                                                                                                ^\u001b[0m\n\u001b[0;31mSyntaxError\u001b[0m\u001b[0;31m:\u001b[0m invalid syntax\n"
     ]
    }
   ],
   "source": [
    "assert(sum([x in ds_chocolate_dtypes_converted.index for x in ds_chocolate.columns]) == 9), \"The index of ds_chocolate_dtypes_converted should contain all columns in ds_choclate.\"\n",
    "assert(hashlib.sha256(str(ds_chocolate_dtypes_converted['company']).encode()).hexdigest() == \n",
    "       '473287f8298dba7163a897908958f7c0eae733e25d2e027992ea2edc9bed2fa8'), \"The dtype of column 'company' is not as expected.\"\n",
    "assert(hashlib.sha256(str(ds_chocolate_dtypes_converted['cocoa_percentage']).lower().encode()).hexdigest() == \n",
    "       'bc2229666b96007e875c5f62897ee5b7648db2baa5fabf3e771afac323afbd57'), \"The dtype of column 'cocoa_percentage' is not as expected.\"\n",
    "assert(hashlib.sha256(str(ds_chocolate_dtypes_converted['sugarfree'])[:4].encode()).hexdigest()==\n",
    "       'b760f44fa5965c2474a3b471467a22c43185152129295af588b022ae50b50903'), \"The dtype of column 'sugarfree' is not as expected.\""
   ]
  },
  {
   "cell_type": "markdown",
   "metadata": {
    "nbgrader": {
     "grade": false,
     "grade_id": "cell-54a30579d70bf53c",
     "locked": true,
     "schema_version": 3,
     "solution": false,
     "task": false
    }
   },
   "source": [
    "### 3.5 Get information about the dataframe size\n",
    "Use a method you learned in the learning notebook to retrieve the `number of rows` and the `number of columns` in the ds_chocolate dataframe."
   ]
  },
  {
   "cell_type": "code",
   "execution_count": null,
   "metadata": {
    "nbgrader": {
     "grade": false,
     "grade_id": "cell-e4bf7a0d20b4d075",
     "locked": false,
     "schema_version": 3,
     "solution": true,
     "task": false
    }
   },
   "outputs": [],
   "source": [
    "# number_of_rows = \n",
    "# number_of_columns = \n",
    "\n",
    "\n",
    "### BEGIN SOLUTION\n",
    "number_of_rows = ds_chocolate.shape[0]\n",
    "number_of_columns = ds_chocolate.shape[1]\n",
    "### END SOLUTION"
   ]
  },
  {
   "cell_type": "code",
   "execution_count": null,
   "metadata": {
    "nbgrader": {
     "grade": true,
     "grade_id": "cell-a6082129b0c73871",
     "locked": true,
     "points": 2,
     "schema_version": 3,
     "solution": false,
     "task": false
    }
   },
   "outputs": [],
   "source": [
    "assert(hashlib.sha256(str(int(number_of_rows)).encode()).hexdigest() == '811786ad1ae74adfdd20dd0372abaaebc6246e343aebd01da0bfc4c02bf0106c'), \"The number of rows is not correct.\"\n",
    "assert(hashlib.sha256(str(int(number_of_columns)).encode()).hexdigest() == '19581e27de7ced00ff1ce50b2047e7a567c76b1cbaebabe5ef03f7c3017bb5b7'), \"The number of columns is not correct.\""
   ]
  },
  {
   "cell_type": "markdown",
   "metadata": {
    "nbgrader": {
     "grade": false,
     "grade_id": "cell-b77ba46636c548d4",
     "locked": true,
     "schema_version": 3,
     "solution": false,
     "task": false
    }
   },
   "source": [
    "### 3.6 Load a json file into a dataframe\n",
    "Let's load a new dataframe called hdi from the file stored at `data/HDI.json`. It's the human development index statistics in the years 1990-2019, a subset of a kaggle dataset available [here](https://www.kaggle.com/datasets/elmartini/human-development-index-historical-data)."
   ]
  },
  {
   "cell_type": "code",
   "execution_count": null,
   "metadata": {
    "nbgrader": {
     "grade": false,
     "grade_id": "cell-23ac4f8fe231e90c",
     "locked": false,
     "schema_version": 3,
     "solution": true,
     "task": false
    }
   },
   "outputs": [],
   "source": [
    "# Load the datafile from data/HDI.json and store it in the variable hdi. Use the appropriate method for json files.\n",
    "# hdi = \n",
    "\n",
    "\n",
    "##BEGIN SOLUTION\n",
    "hdi=pd.read_json('data/HDI.json')\n",
    "##END SOLUTION"
   ]
  },
  {
   "cell_type": "code",
   "execution_count": null,
   "metadata": {
    "nbgrader": {
     "grade": false,
     "grade_id": "cell-8aa6d60f3822c0bd",
     "locked": true,
     "schema_version": 3,
     "solution": false,
     "task": false
    }
   },
   "outputs": [],
   "source": [
    "# Preview your dataframe\n",
    "hdi.head()"
   ]
  },
  {
   "cell_type": "code",
   "execution_count": null,
   "metadata": {
    "nbgrader": {
     "grade": true,
     "grade_id": "cell-71ea15bcdf2d8056",
     "locked": true,
     "points": 1,
     "schema_version": 3,
     "solution": false,
     "task": false
    }
   },
   "outputs": [],
   "source": [
    "assert(isinstance(hdi, pd.DataFrame)), \"hdi is not a dataframe.\"\n",
    "assert(hdi.shape == (189, 9)), \"The shape of the dataframe is not correct.?\"\n",
    "assert(sum(hdi.columns == ['HDI Rank', 'Country', '1991', '1996', '2001', '2006', '2011', '2016', '2019']) == 9), \"The columns don't look right.\"\n",
    "assert(hashlib.sha256(''.join(hdi.Country.tolist()).encode()).hexdigest() == '8471ec328ba910fd961813c7619ae8776684a396672a959975015b24b3335ca3'), \"The Country column looks wrong.\"\n",
    "assert(hdi['HDI Rank'].sum() == 17914), \"Something is wrong with the 'HDI Rank' column.\"\n",
    "assert(hdi['2001'].sum() == 111.082), \"Something is wrong with the '2019' column.\""
   ]
  },
  {
   "cell_type": "markdown",
   "metadata": {
    "nbgrader": {
     "grade": false,
     "grade_id": "cell-2b45ce53733500d7",
     "locked": true,
     "schema_version": 3,
     "solution": false,
     "task": false
    }
   },
   "source": [
    "### 3.7 Get a numpy array of column names\n",
    "Store the names of the `columns` in the hdi dataframe as a `numpy array`."
   ]
  },
  {
   "cell_type": "code",
   "execution_count": null,
   "metadata": {
    "nbgrader": {
     "grade": false,
     "grade_id": "cell-4fd5c93627335cd6",
     "locked": false,
     "schema_version": 3,
     "solution": true,
     "task": false
    }
   },
   "outputs": [],
   "source": [
    "# First extract the columns into hdi_cols.\n",
    "# hdi_cols = \n",
    "\n",
    "# Then convert the output into a NumPy array.\n",
    "# hdi_cols_array = \n",
    "\n",
    "\n",
    "### BEGIN SOLUTION\n",
    "hdi_cols = hdi.columns\n",
    "hdi_cols_array = hdi_cols.to_numpy()\n",
    "### END SOLUTION"
   ]
  },
  {
   "cell_type": "code",
   "execution_count": null,
   "metadata": {
    "nbgrader": {
     "grade": false,
     "grade_id": "cell-50b947a14ec26208",
     "locked": true,
     "schema_version": 3,
     "solution": false,
     "task": false
    },
    "scrolled": true
   },
   "outputs": [],
   "source": [
    "# Always preview your variables to see the result of the operations.\n",
    "print(hdi_cols, type(hdi_cols), \"\\n\", sep=\"\\n\")\n",
    "print(hdi_cols_array, type(hdi_cols_array), sep=\"\\n\")"
   ]
  },
  {
   "cell_type": "code",
   "execution_count": null,
   "metadata": {
    "nbgrader": {
     "grade": true,
     "grade_id": "cell-4dce9e138896815d",
     "locked": true,
     "points": 2,
     "schema_version": 3,
     "solution": false,
     "task": false
    }
   },
   "outputs": [],
   "source": [
    "assert(isinstance(hdi_cols, pd.core.indexes.base.Index)), \"Use the method you learned to extract the columns into hdi_cols.\"\n",
    "assert(len(hdi_cols) == 9), \"There are 9 columns in the hdi dataframe. Did you extract them all? Also, make sure you don't change the variable hdi.\"\n",
    "assert(isinstance(hdi_cols_array, np.ndarray)), \"The hdi_cols_array is not a numpy array.\"\n",
    "assert(hashlib.sha256(''.join(hdi_cols).encode()).hexdigest() == 'd29520e57d10ac733aad2b8a0e5b044083fc150a5110543e05f5a0c82699cd8f'),\"The extracted column names are not correct.\""
   ]
  },
  {
   "cell_type": "markdown",
   "metadata": {
    "nbgrader": {
     "grade": false,
     "grade_id": "cell-7bd117128c56d41d",
     "locked": true,
     "schema_version": 3,
     "solution": false,
     "task": false
    }
   },
   "source": [
    "### 3.8 Extract the index as a numpy array\n",
    "Do the same as in exercise 3.7, but now for the index of hdi."
   ]
  },
  {
   "cell_type": "code",
   "execution_count": null,
   "metadata": {
    "nbgrader": {
     "grade": false,
     "grade_id": "cell-3681531b79d28fd3",
     "locked": false,
     "schema_version": 3,
     "solution": true,
     "task": false
    }
   },
   "outputs": [],
   "source": [
    "# Extract the index using the method you learned.\n",
    "# hdi_index = \n",
    "\n",
    "# Convert it to a numpy array.\n",
    "# hdi_index_array = \n",
    "\n",
    "\n",
    "### BEGIN SOLUTION\n",
    "hdi_index = hdi.index\n",
    "hdi_index_array = hdi_index.to_numpy()\n",
    "### END SOLUTION"
   ]
  },
  {
   "cell_type": "code",
   "execution_count": null,
   "metadata": {
    "nbgrader": {
     "grade": true,
     "grade_id": "cell-1bf51b9a2de225bc",
     "locked": true,
     "points": 1,
     "schema_version": 3,
     "solution": false,
     "task": false
    }
   },
   "outputs": [],
   "source": [
    "assert(isinstance(hdi_index, pd.core.indexes.base.Index)), \"Use the method you learned to extract the index into hdi_index.\"\n",
    "assert(len(hdi_index) == 189), \"The length of the hdi_index variable is incorrect.\"\n",
    "assert(sum(hdi_index_array) == 17766), \"Something is wrong with the index array.\"\n",
    "assert(isinstance(hdi_index_array, np.ndarray)), \"The hdi_index_array does not look like a numpy array.\""
   ]
  },
  {
   "cell_type": "markdown",
   "metadata": {
    "nbgrader": {
     "grade": false,
     "grade_id": "cell-dcbdaacfb8bdd16d",
     "locked": true,
     "schema_version": 3,
     "solution": false,
     "task": false
    }
   },
   "source": [
    "\n",
    "### 3.9 Describe the data in your dataframe\n",
    "Last but not least, remember how you can get some stats and info on your dataframe? If you don't, make sure to reread the learning notebook. If you do, let's jump to this final exercise.\n",
    "\n",
    "Using only the two methods you learned to get information and statistics on a dataframe answer the three questions in the cell below manually."
   ]
  },
  {
   "cell_type": "code",
   "execution_count": null,
   "metadata": {},
   "outputs": [],
   "source": [
    "# Use this draft cell to print stuff to help you answer the questions below.\n"
   ]
  },
  {
   "cell_type": "code",
   "execution_count": null,
   "metadata": {
    "nbgrader": {
     "grade": false,
     "grade_id": "cell-3fd00abe2d329bde",
     "locked": false,
     "schema_version": 3,
     "solution": true,
     "task": false
    }
   },
   "outputs": [],
   "source": [
    "# Question 1\n",
    "# What is the mean value for HDI in the year 2011 (rounded to 2 decimal points)?\n",
    "# mean_HDI_2011 = \n",
    "\n",
    "# Question 2\n",
    "# What is the maximum value for HDI in the year 1996 (round to 2 decimal points)?\n",
    "# max_HDI_1996 = \n",
    "\n",
    "# Question 3 \n",
    "# How many non-null entries do we have for the year 1991? Store the answer as an integer.\n",
    "# nonnull_HDI_2001 = \n",
    "\n",
    "\n",
    "\n",
    "### BEGIN SOLUTION\n",
    "mean_HDI_2011 = round(hdi.describe().loc['mean', '2011'], 2)\n",
    "max_HDI_1996 = round(hdi.describe().loc['max', '1996'], 2)\n",
    "nonnull_HDI_2001 = 174\n",
    "### END SOLUTION"
   ]
  },
  {
   "cell_type": "code",
   "execution_count": null,
   "metadata": {
    "nbgrader": {
     "grade": true,
     "grade_id": "cell-ea52883fc83bdbfb",
     "locked": true,
     "points": 2,
     "schema_version": 3,
     "solution": false,
     "task": false
    }
   },
   "outputs": [],
   "source": [
    "assert (isinstance(mean_HDI_2011, float)), \"mean_HDI_2011 should be a float.\"\n",
    "assert (isinstance(max_HDI_1996, float)), \"max_HDI_1996 should be a float.\"\n",
    "assert (isinstance(nonnull_HDI_2001, int)), \"nonnull_HDI_2001 should be an integer.\"\n",
    "assert(hashlib.sha256(str(round(mean_HDI_2011,2)).encode()).hexdigest() == '18db98e3760ea46503aa9f79ad850cc408d0192446a5666220ca3b99346e3e8c'), \"mean_HDI_2011 does not look right.\"\n",
    "assert(hashlib.sha256(str(round(max_HDI_1996,2)).encode()).hexdigest() == '0003dc8ba4e379d078ccc278b8c13ca665b2440770df16f54511bf7609203239'), \"max_HDI_1996 does not look right.\"\n",
    "assert(hashlib.sha256(str(int(nonnull_HDI_2001)).encode()).hexdigest() == '41e521adf8ae7a0f419ee06e1d9fb794162369237b46f64bf5b2b9969b0bcd2e'), \"nonnull_HDI_2001 does not look right.\""
   ]
  }
 ],
 "metadata": {
  "kernelspec": {
   "display_name": "Python 3 (ipykernel)",
   "language": "python",
   "name": "python3"
  },
  "language_info": {
   "codemirror_mode": {
    "name": "ipython",
    "version": 3
   },
   "file_extension": ".py",
   "mimetype": "text/x-python",
   "name": "python",
   "nbconvert_exporter": "python",
   "pygments_lexer": "ipython3",
   "version": "3.9.16"
  },
  "toc": {
   "base_numbering": 1,
   "nav_menu": {},
   "number_sections": true,
   "sideBar": true,
   "skip_h1_title": false,
   "title_cell": "Table of Contents",
   "title_sidebar": "Contents",
   "toc_cell": false,
   "toc_position": {},
   "toc_section_display": true,
   "toc_window_display": false
  }
 },
 "nbformat": 4,
 "nbformat_minor": 4
}
