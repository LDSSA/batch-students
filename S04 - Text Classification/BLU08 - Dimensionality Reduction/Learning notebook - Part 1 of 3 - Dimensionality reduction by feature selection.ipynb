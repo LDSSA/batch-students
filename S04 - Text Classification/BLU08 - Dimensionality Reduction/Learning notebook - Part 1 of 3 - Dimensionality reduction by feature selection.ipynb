{
 "cells": [
  {
   "cell_type": "markdown",
   "metadata": {},
   "source": [
    "# Part 1 - Dimensionality reduction and feature selection\n",
    "\n",
    "\n",
    "Thinking in higher dimensions is particularly hard. A 1-D dot would hardly be able to imagine a 2D world. In the same way, the square below struggles to think of our 3D world. For us, it is very difficult to imagine dimensions above the 3rd. We have proxies for thinking of the 4th dimension - the passing of time, a 3D surface with some extra measure represented by color, etc - but this starts to become really difficult to work with above the 4th dimension.  \n",
    "\n",
    "![dimensionality](media/flatland.png)"
   ]
  },
  {
   "cell_type": "markdown",
   "metadata": {},
   "source": [
    "Thankfully, when dealing with ML problems, you can go above three features without trying to imagine how they would look like (lucky you!). However, you still need to understand how the number of dimensions affects your models and how to work with high dimensional feature spaces. Don't worry, we will guide you through it."
   ]
  },
  {
   "cell_type": "code",
   "execution_count": 1,
   "metadata": {},
   "outputs": [],
   "source": [
    "import string\n",
    "import re\n",
    "import numpy as np\n",
    "import pandas as pd \n",
    "import matplotlib.pyplot as plt\n",
    "\n",
    "from nltk.tokenize import WordPunctTokenizer\n",
    "\n",
    "from sklearn.metrics import accuracy_score\n",
    "from sklearn.model_selection import train_test_split\n",
    "from sklearn.feature_extraction.text import CountVectorizer, TfidfVectorizer\n",
    "from sklearn.naive_bayes import MultinomialNB\n",
    "from sklearn import svm\n",
    "from sklearn.feature_selection import SelectFromModel, SelectKBest, chi2"
   ]
  },
  {
   "cell_type": "markdown",
   "metadata": {},
   "source": [
    "## 1. The curse of dimensionality\n",
    "\n",
    "So far you learned how to handle text data by transforming it into a vectorized feature space. Namely, we used a few preprocessing tricks and some sort of  word counting to generate our feature space. However, as you might have realized, the number of features for these problems is huge, in particular if you want to cover all language. In the limit, your feature space will cover the entire vocabulary! On top of that, the number of features often exceeds the number of observations.\n",
    "\n",
    "The effect of high dimensional features in modelling is called the **curse of dimensionality**.\n",
    "\n",
    "_But I thought \"more features\" meant \"more accuracy\"..._\n",
    "\n",
    "This is not always true. In high dimensional problems, the use of all the features can actually hurt your model.\n",
    "\n",
    "* More features mean a longer training process.\n",
    "* You will need way more data points for training and if you can't get them, deal with the effects of having more features than observations.\n",
    "* Most features won't even be associated with the outcome, just adding complexity to the model.\n",
    "* Some of the many features will have just chance associations to the outcome which leads to overfitting on the training data, high variance of the solution (a small change in data leads to a large change in the solution), and poor performance on test data.\n",
    "* This also means that we cannot rely on the training error to measure classifier performance, but only on the test error, ideally measured in cross-validation.\n",
    "* For linear models, if the number of features exceeds the number of observations, there are infinitely many solutions.\n",
    "* Interpretability will be difficult."
   ]
  },
  {
   "cell_type": "markdown",
   "metadata": {},
   "source": [
    "## 2. Basic feature selection\n",
    "\n",
    "One of the ways you can reduce the feature number is by performing feature selection. We are going to walk you through some feature selection methods with an example. Let's start by loading the data - we are going to use the Twitter data set of Republican and Democrat tweets."
   ]
  },
  {
   "cell_type": "markdown",
   "metadata": {},
   "source": [
    "### 2.1 The data\n",
    "\n",
    "Start by importing the data set."
   ]
  },
  {
   "cell_type": "code",
   "execution_count": 2,
   "metadata": {},
   "outputs": [
    {
     "data": {
      "text/html": [
       "<div>\n",
       "<style scoped>\n",
       "    .dataframe tbody tr th:only-of-type {\n",
       "        vertical-align: middle;\n",
       "    }\n",
       "\n",
       "    .dataframe tbody tr th {\n",
       "        vertical-align: top;\n",
       "    }\n",
       "\n",
       "    .dataframe thead th {\n",
       "        text-align: right;\n",
       "    }\n",
       "</style>\n",
       "<table border=\"1\" class=\"dataframe\">\n",
       "  <thead>\n",
       "    <tr style=\"text-align: right;\">\n",
       "      <th></th>\n",
       "      <th>Party</th>\n",
       "      <th>Handle</th>\n",
       "      <th>Tweet</th>\n",
       "    </tr>\n",
       "  </thead>\n",
       "  <tbody>\n",
       "    <tr>\n",
       "      <th>0</th>\n",
       "      <td>Democrat</td>\n",
       "      <td>RepDarrenSoto</td>\n",
       "      <td>Today, Senate Dems vote to #SaveTheInternet. P...</td>\n",
       "    </tr>\n",
       "    <tr>\n",
       "      <th>1</th>\n",
       "      <td>Democrat</td>\n",
       "      <td>RepDarrenSoto</td>\n",
       "      <td>RT @WinterHavenSun: Winter Haven resident / Al...</td>\n",
       "    </tr>\n",
       "    <tr>\n",
       "      <th>2</th>\n",
       "      <td>Democrat</td>\n",
       "      <td>RepDarrenSoto</td>\n",
       "      <td>RT @NBCLatino: .@RepDarrenSoto noted that Hurr...</td>\n",
       "    </tr>\n",
       "    <tr>\n",
       "      <th>3</th>\n",
       "      <td>Democrat</td>\n",
       "      <td>RepDarrenSoto</td>\n",
       "      <td>RT @NALCABPolicy: Meeting with @RepDarrenSoto ...</td>\n",
       "    </tr>\n",
       "    <tr>\n",
       "      <th>4</th>\n",
       "      <td>Democrat</td>\n",
       "      <td>RepDarrenSoto</td>\n",
       "      <td>RT @Vegalteno: Hurricane season starts on June...</td>\n",
       "    </tr>\n",
       "    <tr>\n",
       "      <th>5</th>\n",
       "      <td>Democrat</td>\n",
       "      <td>RepDarrenSoto</td>\n",
       "      <td>RT @EmgageActionFL: Thank you to all who came ...</td>\n",
       "    </tr>\n",
       "    <tr>\n",
       "      <th>6</th>\n",
       "      <td>Democrat</td>\n",
       "      <td>RepDarrenSoto</td>\n",
       "      <td>Hurricane Maria left approx $90 billion in dam...</td>\n",
       "    </tr>\n",
       "    <tr>\n",
       "      <th>7</th>\n",
       "      <td>Democrat</td>\n",
       "      <td>RepDarrenSoto</td>\n",
       "      <td>RT @Tharryry: I am delighted that @RepDarrenSo...</td>\n",
       "    </tr>\n",
       "    <tr>\n",
       "      <th>8</th>\n",
       "      <td>Democrat</td>\n",
       "      <td>RepDarrenSoto</td>\n",
       "      <td>RT @HispanicCaucus: Trump's anti-immigrant pol...</td>\n",
       "    </tr>\n",
       "    <tr>\n",
       "      <th>9</th>\n",
       "      <td>Democrat</td>\n",
       "      <td>RepDarrenSoto</td>\n",
       "      <td>RT @RepStephMurphy: Great joining @WeAreUnidos...</td>\n",
       "    </tr>\n",
       "  </tbody>\n",
       "</table>\n",
       "</div>"
      ],
      "text/plain": [
       "      Party         Handle                                              Tweet\n",
       "0  Democrat  RepDarrenSoto  Today, Senate Dems vote to #SaveTheInternet. P...\n",
       "1  Democrat  RepDarrenSoto  RT @WinterHavenSun: Winter Haven resident / Al...\n",
       "2  Democrat  RepDarrenSoto  RT @NBCLatino: .@RepDarrenSoto noted that Hurr...\n",
       "3  Democrat  RepDarrenSoto  RT @NALCABPolicy: Meeting with @RepDarrenSoto ...\n",
       "4  Democrat  RepDarrenSoto  RT @Vegalteno: Hurricane season starts on June...\n",
       "5  Democrat  RepDarrenSoto  RT @EmgageActionFL: Thank you to all who came ...\n",
       "6  Democrat  RepDarrenSoto  Hurricane Maria left approx $90 billion in dam...\n",
       "7  Democrat  RepDarrenSoto  RT @Tharryry: I am delighted that @RepDarrenSo...\n",
       "8  Democrat  RepDarrenSoto  RT @HispanicCaucus: Trump's anti-immigrant pol...\n",
       "9  Democrat  RepDarrenSoto  RT @RepStephMurphy: Great joining @WeAreUnidos..."
      ]
     },
     "execution_count": 2,
     "metadata": {},
     "output_type": "execute_result"
    }
   ],
   "source": [
    "df = pd.read_csv('./data/twitter_rep_dem_data_small.csv')\n",
    "df.head(10)"
   ]
  },
  {
   "cell_type": "markdown",
   "metadata": {},
   "source": [
    "Check the class balance:"
   ]
  },
  {
   "cell_type": "code",
   "execution_count": 3,
   "metadata": {},
   "outputs": [
    {
     "data": {
      "text/plain": [
       "Party\n",
       "Republican    9302\n",
       "Democrat      9217\n",
       "Name: count, dtype: int64"
      ]
     },
     "execution_count": 3,
     "metadata": {},
     "output_type": "execute_result"
    }
   ],
   "source": [
    "df.Party.value_counts()"
   ]
  },
  {
   "cell_type": "markdown",
   "metadata": {},
   "source": [
    "Pretty balanced!\n",
    "\n",
    "You'll notice that the tweets are just text with some particularities. For example, it is common to have Twitter handles in the text, defined by the \"@\" character. The data has three columns, but we are going to ignore the *Handle* column for now and just focus on classifying *Tweets* with *Party* labels."
   ]
  },
  {
   "cell_type": "markdown",
   "metadata": {},
   "source": [
    "### 2.2 Feature extraction\n",
    "\n",
    "Since you are a great student, you thoroughly studied BLU07 and you already know how to preprocess text and extract some simple features. So let's preprocess our data: remove unnecessary characters, tokenize, lowercase, and vectorize.\n",
    "\n",
    "First we'll lowercase and apply simple tokenization. To avoid overfitting on Twitter related information, like the handles or hashtags in the messages, we'll remove those, so our focus is only on the language."
   ]
  },
  {
   "cell_type": "code",
   "execution_count": 4,
   "metadata": {},
   "outputs": [
    {
     "data": {
      "text/html": [
       "<div>\n",
       "<style scoped>\n",
       "    .dataframe tbody tr th:only-of-type {\n",
       "        vertical-align: middle;\n",
       "    }\n",
       "\n",
       "    .dataframe tbody tr th {\n",
       "        vertical-align: top;\n",
       "    }\n",
       "\n",
       "    .dataframe thead th {\n",
       "        text-align: right;\n",
       "    }\n",
       "</style>\n",
       "<table border=\"1\" class=\"dataframe\">\n",
       "  <thead>\n",
       "    <tr style=\"text-align: right;\">\n",
       "      <th></th>\n",
       "      <th>Party</th>\n",
       "      <th>Handle</th>\n",
       "      <th>Tweet</th>\n",
       "    </tr>\n",
       "  </thead>\n",
       "  <tbody>\n",
       "    <tr>\n",
       "      <th>0</th>\n",
       "      <td>Democrat</td>\n",
       "      <td>RepDarrenSoto</td>\n",
       "      <td>today , senate dems vote to . proud to support...</td>\n",
       "    </tr>\n",
       "    <tr>\n",
       "      <th>1</th>\n",
       "      <td>Democrat</td>\n",
       "      <td>RepDarrenSoto</td>\n",
       "      <td>rt : winter haven resident / alta vista teache...</td>\n",
       "    </tr>\n",
       "    <tr>\n",
       "      <th>2</th>\n",
       "      <td>Democrat</td>\n",
       "      <td>RepDarrenSoto</td>\n",
       "      <td>rt : . noted that hurricane maria has left app...</td>\n",
       "    </tr>\n",
       "    <tr>\n",
       "      <th>3</th>\n",
       "      <td>Democrat</td>\n",
       "      <td>RepDarrenSoto</td>\n",
       "      <td>rt : meeting with . thanks for taking the time...</td>\n",
       "    </tr>\n",
       "    <tr>\n",
       "      <th>4</th>\n",
       "      <td>Democrat</td>\n",
       "      <td>RepDarrenSoto</td>\n",
       "      <td>rt : hurricane season starts on june 1st ; pue...</td>\n",
       "    </tr>\n",
       "    <tr>\n",
       "      <th>5</th>\n",
       "      <td>Democrat</td>\n",
       "      <td>RepDarrenSoto</td>\n",
       "      <td>rt : thank you to all who came out to our orla...</td>\n",
       "    </tr>\n",
       "    <tr>\n",
       "      <th>6</th>\n",
       "      <td>Democrat</td>\n",
       "      <td>RepDarrenSoto</td>\n",
       "      <td>hurricane maria left approx $ 90 billion in da...</td>\n",
       "    </tr>\n",
       "    <tr>\n",
       "      <th>7</th>\n",
       "      <td>Democrat</td>\n",
       "      <td>RepDarrenSoto</td>\n",
       "      <td>rt : i am delighted that will be voting for th...</td>\n",
       "    </tr>\n",
       "    <tr>\n",
       "      <th>8</th>\n",
       "      <td>Democrat</td>\n",
       "      <td>RepDarrenSoto</td>\n",
       "      <td>rt : trump ' s anti - immigrant policies are h...</td>\n",
       "    </tr>\n",
       "    <tr>\n",
       "      <th>9</th>\n",
       "      <td>Democrat</td>\n",
       "      <td>RepDarrenSoto</td>\n",
       "      <td>rt : great joining and for a roundtable in on ...</td>\n",
       "    </tr>\n",
       "  </tbody>\n",
       "</table>\n",
       "</div>"
      ],
      "text/plain": [
       "      Party         Handle                                              Tweet\n",
       "0  Democrat  RepDarrenSoto  today , senate dems vote to . proud to support...\n",
       "1  Democrat  RepDarrenSoto  rt : winter haven resident / alta vista teache...\n",
       "2  Democrat  RepDarrenSoto  rt : . noted that hurricane maria has left app...\n",
       "3  Democrat  RepDarrenSoto  rt : meeting with . thanks for taking the time...\n",
       "4  Democrat  RepDarrenSoto  rt : hurricane season starts on june 1st ; pue...\n",
       "5  Democrat  RepDarrenSoto  rt : thank you to all who came out to our orla...\n",
       "6  Democrat  RepDarrenSoto  hurricane maria left approx $ 90 billion in da...\n",
       "7  Democrat  RepDarrenSoto  rt : i am delighted that will be voting for th...\n",
       "8  Democrat  RepDarrenSoto  rt : trump ' s anti - immigrant policies are h...\n",
       "9  Democrat  RepDarrenSoto  rt : great joining and for a roundtable in on ..."
      ]
     },
     "execution_count": 4,
     "metadata": {},
     "output_type": "execute_result"
    }
   ],
   "source": [
    "hashtag_removal = lambda doc: re.subn(r'#\\w+','', doc.lower())[0]\n",
    "df['Tweet'] = df['Tweet'].map(hashtag_removal)\n",
    "\n",
    "handle_removal = lambda doc: re.subn(r'@\\w+','', doc.lower())[0]\n",
    "df['Tweet'] = df['Tweet'].map(handle_removal)\n",
    "\n",
    "simple_tokenizer = lambda doc: \" \".join(WordPunctTokenizer().tokenize(doc))\n",
    "df['Tweet'] = df['Tweet'].map(simple_tokenizer)\n",
    "\n",
    "df.head(10)"
   ]
  },
  {
   "cell_type": "markdown",
   "metadata": {},
   "source": [
    "Now we split the data into the train and test set and vectorize it. We'll use a random seed so that the results are replicable."
   ]
  },
  {
   "cell_type": "code",
   "execution_count": 5,
   "metadata": {},
   "outputs": [],
   "source": [
    "seed = 42"
   ]
  },
  {
   "cell_type": "markdown",
   "metadata": {},
   "source": [
    "<img src=\"media/random.png\" width=\"400\">"
   ]
  },
  {
   "cell_type": "code",
   "execution_count": 6,
   "metadata": {},
   "outputs": [
    {
     "name": "stdout",
     "output_type": "stream",
     "text": [
      "Training examples: 38889\n",
      "Test examples: 16668\n",
      "\n",
      "873 ms ± 45.7 ms per loop (mean ± std. dev. of 7 runs, 1 loop each)\n"
     ]
    }
   ],
   "source": [
    "train_data, test_data = train_test_split(df, test_size=0.3, random_state=seed)\n",
    "\n",
    "print('Training examples: {}'.format(train_data.size))\n",
    "print('Test examples: {}\\n'.format(test_data.size))\n",
    "\n",
    "# important: only train the vectorizer on the training data\n",
    "vectorizer = TfidfVectorizer(ngram_range=(1,2))\n",
    "%timeit vectorizer.fit(train_data.Tweet)\n",
    "\n",
    "X_train = vectorizer.transform(train_data.Tweet)\n",
    "X_test = vectorizer.transform(test_data.Tweet)\n",
    "\n",
    "y_train = train_data.Party\n",
    "y_test = test_data.Party"
   ]
  },
  {
   "cell_type": "markdown",
   "metadata": {},
   "source": [
    "### 2.3 The baseline\n",
    "\n",
    "Let's get our baseline accuracy and measure the time it takes to fit a Naive Bayes model, a model you should be familiar with and which in NLP comes hand in hand with the Bag Of Words representation (if you don't get the joke below, eventually you should go read more about Naive Bayes)."
   ]
  },
  {
   "cell_type": "markdown",
   "metadata": {},
   "source": [
    "<img src=\"./media/frequentists_vs_bayesians_2x.png\" width=\"400\">"
   ]
  },
  {
   "cell_type": "code",
   "execution_count": 7,
   "metadata": {},
   "outputs": [
    {
     "name": "stdout",
     "output_type": "stream",
     "text": [
      "38.8 ms ± 2.76 ms per loop (mean ± std. dev. of 7 runs, 10 loops each)\n",
      "Accuracy: 0.7361411087113031\n"
     ]
    }
   ],
   "source": [
    "clf =  MultinomialNB()\n",
    "%timeit clf.fit(X_train, y_train)\n",
    "\n",
    "y_pred = clf.predict(X_test)\n",
    "print('Accuracy: {}'.format(accuracy_score(y_pred, y_test)))"
   ]
  },
  {
   "cell_type": "markdown",
   "metadata": {},
   "source": [
    "### 2.4 Feature selection\n",
    "\n",
    "Now that we have the baseline, let's start by looking into the number of features used in the classifier:"
   ]
  },
  {
   "cell_type": "code",
   "execution_count": 8,
   "metadata": {},
   "outputs": [
    {
     "data": {
      "text/plain": [
       "(12963, 131301)"
      ]
     },
     "execution_count": 8,
     "metadata": {},
     "output_type": "execute_result"
    }
   ],
   "source": [
    "X_train.shape"
   ]
  },
  {
   "cell_type": "markdown",
   "metadata": {},
   "source": [
    "So far we got a good baseline and the classifier even trained pretty fast, but a 130K-dimensional space is obviously very difficult to interpret. Let's try to reduce the number of features by extracting the K most important words. One way to do this is to keep the most frequent words. In fact, the TfidfVectorizer already has an option for that, `max_features`. Let's see the impact on the training speed and accuracy for 10 - 100000 most important features."
   ]
  },
  {
   "cell_type": "code",
   "execution_count": 9,
   "metadata": {},
   "outputs": [
    {
     "name": "stdout",
     "output_type": "stream",
     "text": [
      "Using 10 features\n",
      "----\n",
      "29.4 ms ± 3.26 ms per loop (mean ± std. dev. of 7 runs, 10 loops each)\n",
      "Accuracy: 0.5257379409647228\n",
      "\n",
      "Using 100 features\n",
      "----\n",
      "30 ms ± 2.43 ms per loop (mean ± std. dev. of 7 runs, 10 loops each)\n",
      "Accuracy: 0.5827933765298776\n",
      "\n",
      "Using 1000 features\n",
      "----\n",
      "29.1 ms ± 1.38 ms per loop (mean ± std. dev. of 7 runs, 10 loops each)\n",
      "Accuracy: 0.6544276457883369\n",
      "\n",
      "Using 5000 features\n",
      "----\n",
      "30.8 ms ± 3.11 ms per loop (mean ± std. dev. of 7 runs, 10 loops each)\n",
      "Accuracy: 0.7041036717062635\n",
      "\n",
      "Using 10000 features\n",
      "----\n",
      "32.6 ms ± 2.85 ms per loop (mean ± std. dev. of 7 runs, 10 loops each)\n",
      "Accuracy: 0.7150827933765299\n",
      "\n",
      "Using 50000 features\n",
      "----\n",
      "36.4 ms ± 2.76 ms per loop (mean ± std. dev. of 7 runs, 10 loops each)\n",
      "Accuracy: 0.7311015118790497\n",
      "\n",
      "Using 100000 features\n",
      "----\n",
      "40.6 ms ± 2.97 ms per loop (mean ± std. dev. of 7 runs, 10 loops each)\n",
      "Accuracy: 0.7339812814974802\n",
      "\n"
     ]
    }
   ],
   "source": [
    "for k in [10, 100, 1000, 5000, 10000, 50000, 100000]:\n",
    "    print('Using {} features'.format(k))\n",
    "    print('----'.format(k))\n",
    "    \n",
    "    X_train = train_data.Tweet\n",
    "    X_test = test_data.Tweet\n",
    "    \n",
    "    vectorizer_truncated = TfidfVectorizer(ngram_range=(1,2), max_features=k)\n",
    "    vectorizer_truncated.fit(X_train)\n",
    "\n",
    "    X_train_truncated = vectorizer_truncated.transform(X_train)\n",
    "    X_test_truncated = vectorizer_truncated.transform(X_test)\n",
    "    \n",
    "    clf =  MultinomialNB()\n",
    "    %timeit clf.fit(X_train_truncated, y_train)\n",
    "    y_pred = clf.predict(X_test_truncated)\n",
    "    \n",
    "    print('Accuracy: {}\\n'.format(accuracy_score(y_pred, y_test)))"
   ]
  },
  {
   "cell_type": "markdown",
   "metadata": {},
   "source": [
    "Ok, no amazing effects, the accuracy actually drops when we limit the number of features too much. Let's look into the top K-features to see if they make sense."
   ]
  },
  {
   "cell_type": "code",
   "execution_count": 10,
   "metadata": {},
   "outputs": [
    {
     "name": "stdout",
     "output_type": "stream",
     "text": [
      "and\n",
      "co\n",
      "for\n",
      "https\n",
      "https co\n",
      "in\n",
      "of\n",
      "rt\n",
      "the\n",
      "to\n"
     ]
    }
   ],
   "source": [
    "K=10\n",
    "vectorizer_truncated = TfidfVectorizer(ngram_range=(1,2), max_features=K)\n",
    "vectorizer_truncated.fit(X_train)\n",
    "feature_names = vectorizer_truncated.get_feature_names_out()\n",
    "for f in feature_names:\n",
    "    print(f)"
   ]
  },
  {
   "cell_type": "markdown",
   "metadata": {},
   "source": [
    "As you can see, the top 10 features are basically meaningless with regard to the classes and look more like stopwords. In the next cell you will see that the counts of these words are balanced between the classes."
   ]
  },
  {
   "cell_type": "code",
   "execution_count": 11,
   "metadata": {},
   "outputs": [
    {
     "name": "stdout",
     "output_type": "stream",
     "text": [
      "Documents that contain the word \"and\"\n",
      "----\n",
      "Party\n",
      "Democrat      2351\n",
      "Republican    2250\n",
      "Name: count, dtype: int64\n",
      "\n",
      "\n",
      "Documents that contain the word \"co\"\n",
      "----\n",
      "Party\n",
      "Democrat      5545\n",
      "Republican    5482\n",
      "Name: count, dtype: int64\n",
      "\n",
      "\n",
      "Documents that contain the word \"for\"\n",
      "----\n",
      "Party\n",
      "Democrat      2148\n",
      "Republican    2094\n",
      "Name: count, dtype: int64\n",
      "\n",
      "\n",
      "Documents that contain the word \"https\"\n",
      "----\n",
      "Party\n",
      "Democrat      4818\n",
      "Republican    4702\n",
      "Name: count, dtype: int64\n",
      "\n",
      "\n",
      "Documents that contain the word \"https co\"\n",
      "----\n",
      "Series([], Name: count, dtype: int64)\n",
      "\n",
      "\n",
      "Documents that contain the word \"in\"\n",
      "----\n",
      "Party\n",
      "Republican    5060\n",
      "Democrat      5030\n",
      "Name: count, dtype: int64\n",
      "\n",
      "\n",
      "Documents that contain the word \"of\"\n",
      "----\n",
      "Party\n",
      "Democrat      2262\n",
      "Republican    2207\n",
      "Name: count, dtype: int64\n",
      "\n",
      "\n",
      "Documents that contain the word \"rt\"\n",
      "----\n",
      "Party\n",
      "Republican    2718\n",
      "Democrat      2617\n",
      "Name: count, dtype: int64\n",
      "\n",
      "\n",
      "Documents that contain the word \"the\"\n",
      "----\n",
      "Party\n",
      "Democrat      4150\n",
      "Republican    4119\n",
      "Name: count, dtype: int64\n",
      "\n",
      "\n",
      "Documents that contain the word \"to\"\n",
      "----\n",
      "Party\n",
      "Democrat      4235\n",
      "Republican    4158\n",
      "Name: count, dtype: int64\n",
      "\n",
      "\n"
     ]
    }
   ],
   "source": [
    "for feature in feature_names:\n",
    "    print('Documents that contain the word \"{}\"'.format(feature))\n",
    "    print('----')\n",
    "    docs = X_train.str.contains(feature)\n",
    "    print(str(y_train[docs].value_counts()) + '\\n\\n')"
   ]
  },
  {
   "cell_type": "markdown",
   "metadata": {},
   "source": [
    "Try to exclude stopwords from the TfidfVectorizer and repeat the analysis to see what new top features you obtain. You will probably see that there will be some common words and some \"political discourse\" words, but nothing really Democrat/Republican specific. \n",
    "\n",
    "Let's move on to better feature selection methods and see if we can select class-specific features."
   ]
  },
  {
   "cell_type": "markdown",
   "metadata": {},
   "source": [
    "## 3. Statistical tests for feature selection\n",
    "\n",
    "Basic feature selection methods might actually sometimes, in particular if you use a reasonable heuristic for choosing the features. In our case, just picking the most frequent words is not that good, since it doesn't guarantee that those words will have some relation to the labels. But you could try to pick words that appear only (or almost only) in one of the classes.\n",
    "\n",
    "This looks like a good idea, but designing such a heuristic might take a lot of time. This is where hypothesis testing comes into play. You don't have to look for reasons to use particular features, just use a test to get insights into which features are associated with each class."
   ]
  },
  {
   "cell_type": "markdown",
   "metadata": {},
   "source": [
    "### 3.1 Hypothesis testing\n",
    "\n",
    "In hypothesis testing we use statistical tests to answer questions about our data such as: are the means of variables A and B different? Is there some relation between variables C and D? \n",
    "\n",
    "The basic setup of hypothesis testing goes like this. We have a default hypothesis called **null hypothesis** which basically says that nothing happens. So the means of variables A and B are not different, they are equal. There is no relation between variables C and D, they are independent.\n",
    "\n",
    "In the next step we calculate some kind of measure called **statistic** from the variable values. The kind of statistic we choose depends on the null hypothesis. We'll have a different statistic for comparing variable means than for deciding about variable independence. Commonly used statistics are t, F, or chi-squared statistics.\n",
    "\n",
    "Then we decide if the value of the statistic is what we'd expect in case that the null hypothesis is true. We compare the value we calculated to a **null distribution** which is a distribution of the expected statistic values given that the null hypothesis holds. If our calculated statistic is sufficiently extreme, i.e. it falls sufficiently far from the center of the distribution, we decide that it is very likely that the null hypothesis does not hold and we reject it. In our examples, that would mean that the means of variables A and B are different and that the variables C and D are not independent.\n",
    "\n",
    "The comparison of the calculated and expected statistic gives us a **p-value** which is a number between 0 and 1, also commonly expressed in percentage points. The p-value expresses how likely it is to obtain a value of the statistic that we measured given that the null hypothesis holds. For example, a p-value of 0.05 means that if we repeat the test many times, we'd get a value of the statistic this or more extreme in 5% of cases. If the p-value is small enough, we decide to reject the null hypothesis. Often, null hypothesis is rejected if the p-value is smaller than 0.05 or 0.01, but it depends on the application."
   ]
  },
  {
   "cell_type": "markdown",
   "metadata": {},
   "source": [
    "### 3.2 The chi-squared test\n",
    "For the purpose of feature selection, we'd like to know which features have some relation to the class labels, i.e. which features are not independent from the labels. That means that some features (words) would appear more often in Republican tweets and others in Democrat tweets. The null hypothesis is that the feature and class labels are independent.\n",
    "\n",
    "For testing variable independence, we use the **chi-squared** statistic which is calculated as follows\n",
    "\n",
    "$$\\chi^2 = \\sum{\\frac{(O_{x_1x_2} - E_{x_1x_2})^2}{E_{x_1x_2}}}$$\n",
    "\n",
    "where $O_{x_1x_2}$ is the measured conjunction of the variables $x_1$ and $x_2$ and $E_{x_1x_2}$ is the expected value of the conjuction for the case of the null hypothesis, so independent variables. Basically, we are comparing the distribution of the given feature between the classes. If the feature and the labels are independent, we'd expect that word to be equally distributed between Republican and Democrat tweets. If the feature and the labels are dependent, we'll get an unequal distribution. We'll go through an example calculation below.\n",
    "\n",
    "A higher value of $\\chi^2$ means that the null hypothesis is less likely to hold and results in a lower p-value."
   ]
  },
  {
   "cell_type": "markdown",
   "metadata": {},
   "source": [
    "### 3.3 Example calculation for chi-squared\n",
    "Let's do a really quick example for you to understand how this works. Let's say we are modeling how the characteristics of Star Trek characters are related to their death. We have one particular feature called \"has red t-shirt\" which can take only two categorical values: Yes/No.\n",
    "\n",
    "Let's build a table representing this scenario:\n",
    "\n",
    "|  Has red t-shirt    | Dies   | Does not die | Total |\n",
    "|----------------------|--------|--------------|-------|\n",
    "|         Yes          |   63   |      9       |  72   |\n",
    "|         No           |   13   |     40       |  53   |\n",
    "|         total        |   76   |     49       |  125  |\n",
    "\n",
    "This is what we call a **contigency table**, and it contains our observed values."
   ]
  },
  {
   "cell_type": "markdown",
   "metadata": {},
   "source": [
    "The null hypothesis is that the variables are independent, i.e. the probability to die is the same regardless of the t-shirt color. The expected values of the probability to die is $N*P(x_1x_2) = N*P(x_1)P(x_2)$. Using the number of dead/living characters and red/other t-shirt we have, we get:\n",
    "\n",
    "|  Has red t-shirt    | Dies   | Does not die | \n",
    "|----------------------|--------|--------------|\n",
    "|         Yes          |  43.78 $$(125 * \\frac{76}{125}\\frac{72}{125})$$ | 28.22 $$(125 * \\frac{49}{125}\\frac{72}{125})$$ |\n",
    "|         No           |  32.22 $$(125 * \\frac{76}{125}\\frac{53}{125})$$ | 20.78 $$(125 * \\frac{49}{125}\\frac{53}{125})$$ |"
   ]
  },
  {
   "cell_type": "markdown",
   "metadata": {},
   "source": [
    "Now we can use the observed and expected values to compute the chi-squared statistic using the formula $\\chi^2 = \\sum{\\frac{(O_{x_1x_2} - E_{x_1x_2})^2}{E_{x_1x_2}}}$\n",
    "\n",
    "|  Has red t-shirt    | Dies   | Does not die | \n",
    "|----------------------|--------|--------------|\n",
    "|         Yes          |  8.44 $$(\\frac{(63-43.78)^2}{43.78})$$ | 13.09 $$(\\frac{(9-28.22)^2}{28.22})$$ |\n",
    "|         No           |  11.47 $$(\\frac{(13-32.22)^2}{32.22})$$ | 17.79 $$(\\frac{(40-20.78)^2}{20.78})$$ |"
   ]
  },
  {
   "cell_type": "markdown",
   "metadata": {},
   "source": [
    "Summing up, we get a chi-squared of 50.79. This corresponds to a p-value < .00001, which means that we can be rather sure to reject the null hypothesis and be confident that we are dealing with dependent variables. \n",
    "\n",
    "There are methods and even tables to help you find the p-value from a $\\chi^2$ value, you can check these references later [\\[1\\]](https://www.socscistatistics.com/pvalues/chidistribution.aspx), [\\[2\\]](https://www.youtube.com/watch?v=HwD7ekD5l0g).\n",
    "\n",
    "<img src=\"./media/dig3graves.jpeg\" width=\"400\">\n",
    "\n",
    "If you want to see this manual calculation applied to the Twitter data and some more $\\chi^2$ math, check out the optional learning notebook."
   ]
  },
  {
   "cell_type": "markdown",
   "metadata": {},
   "source": [
    "## 4. Feature selection based on chi-squared\n",
    "\n",
    "Now we apply the $\\chi^2$ test to our data, select the best features and train a model on them. We can use the $\\chi^2$ test for any non-negative features.\n",
    "\n",
    "### 4.1 Set up the problem\n",
    "\n",
    "Like before, let's fetch our data, extract its features, run a baseline, and move from there.\n",
    "\n",
    "_Note that this is the same data set we used before and same processing methods, we're just ensuring that you re-run this before moving forward._ "
   ]
  },
  {
   "cell_type": "code",
   "execution_count": 12,
   "metadata": {},
   "outputs": [
    {
     "name": "stdout",
     "output_type": "stream",
     "text": [
      "913 ms ± 41.1 ms per loop (mean ± std. dev. of 7 runs, 1 loop each)\n",
      "40.8 ms ± 3.29 ms per loop (mean ± std. dev. of 7 runs, 10 loops each)\n",
      "Accuracy: 0.7361411087113031\n"
     ]
    }
   ],
   "source": [
    "stat_df = pd.read_csv('./data/twitter_rep_dem_data_small.csv')\n",
    "\n",
    "stat_df['Tweet'] = stat_df['Tweet'].map(handle_removal)\n",
    "stat_df['Tweet'] = stat_df['Tweet'].map(hashtag_removal)\n",
    "stat_df['Tweet'] = stat_df['Tweet'].map(simple_tokenizer)\n",
    "\n",
    "stat_train_data, stat_test_data = train_test_split(stat_df, test_size=0.3, random_state=seed)\n",
    "\n",
    "stat_vectorizer = TfidfVectorizer(ngram_range=(1,2))\n",
    "%timeit stat_vectorizer.fit(stat_train_data.Tweet)\n",
    "\n",
    "stat_X_train = stat_vectorizer.transform(stat_train_data.Tweet)\n",
    "stat_X_test = stat_vectorizer.transform(stat_test_data.Tweet)\n",
    "\n",
    "stat_y_train = stat_train_data.Party\n",
    "stat_y_test = stat_test_data.Party\n",
    "\n",
    "stat_clf =  MultinomialNB()\n",
    "%timeit stat_clf.fit(stat_X_train, stat_y_train)\n",
    "\n",
    "stat_pred = stat_clf.predict(stat_X_test)\n",
    "\n",
    "print('Accuracy: {}'.format(accuracy_score(stat_pred, stat_y_test)))"
   ]
  },
  {
   "cell_type": "markdown",
   "metadata": {},
   "source": [
    "### 4.2 Select k best features\n",
    "\n",
    "We will now obtain the $\\chi^2$ values for our data. We want to calculate $\\chi^2$ for each feature and the labels. The sklearn [chi2](https://scikit-learn.org/stable/modules/generated/sklearn.feature_selection.chi2.html) gives us the $\\chi^2$ values and the p-values."
   ]
  },
  {
   "cell_type": "code",
   "execution_count": 13,
   "metadata": {},
   "outputs": [],
   "source": [
    "chi_squared, p_values = chi2(stat_X_train, stat_y_train)"
   ]
  },
  {
   "cell_type": "markdown",
   "metadata": {},
   "source": [
    "We can plot the features with the 30 highest chi-squared values which are more likely to be dependent on the labels."
   ]
  },
  {
   "cell_type": "code",
   "execution_count": 14,
   "metadata": {},
   "outputs": [
    {
     "data": {
      "image/png": "[encoded data removed]",
      "text/plain": [
       "<Figure size 1200x800 with 1 Axes>"
      ]
     },
     "metadata": {},
     "output_type": "display_data"
    }
   ],
   "source": [
    "feature_names = stat_vectorizer.get_feature_names_out()\n",
    "zipped_chi_squared = zip(feature_names, chi_squared)\n",
    "sorted_chi_squared = sorted(zipped_chi_squared, key=lambda x:x[1]) \n",
    "top_chi_squared = list(zip(*sorted_chi_squared[-30:]))\n",
    "\n",
    "plt.figure(figsize=(12,8))\n",
    "x = range(len(top_chi_squared[1]))\n",
    "labels = top_chi_squared[0]\n",
    "plt.barh(x, list(top_chi_squared)[1], align='center', alpha=.2, color='g')\n",
    "plt.yticks(x, labels)\n",
    "plt.xlabel(r'$\\chi^2$')\n",
    "plt.ylabel('Features');"
   ]
  },
  {
   "cell_type": "markdown",
   "metadata": {},
   "source": [
    "Let's also plot the p-values for these features:"
   ]
  },
  {
   "cell_type": "code",
   "execution_count": 15,
   "metadata": {},
   "outputs": [
    {
     "data": {
      "image/png": "[encoded data removed]",
      "text/plain": [
       "<Figure size 1200x800 with 1 Axes>"
      ]
     },
     "metadata": {},
     "output_type": "display_data"
    }
   ],
   "source": [
    "feature_names = stat_vectorizer.get_feature_names_out()\n",
    "zipped_chi_squared = zip(feature_names, chi_squared)\n",
    "sorted_chi_squared = sorted(zipped_chi_squared, key=lambda x:x[1])\n",
    "top_ci_squared = list(zip(*sorted_chi_squared[-30:]))\n",
    "zipped_p_values = zip(p_values,chi_squared)\n",
    "sorted_p_values = sorted(zipped_p_values, key=lambda x:x[1])\n",
    "top_p_values = list(zip(*sorted_p_values[-30:]))\n",
    "\n",
    "plt.figure(figsize=(12,8))\n",
    "x = range(len(top_p_values[0]))\n",
    "labels = top_chi_squared[0]\n",
    "plt.barh(x, list(top_p_values)[0], align='center', alpha=.2, color='g')\n",
    "plt.yticks(x, labels)\n",
    "plt.xlabel('p-value')\n",
    "plt.ylabel('Features');"
   ]
  },
  {
   "cell_type": "markdown",
   "metadata": {},
   "source": [
    "They are quite small, so we can confidently says that these features are  dependent on the labels.\n",
    "\n",
    "Actually, scikit-learn provides a function to directly select the K-best features, [SelectKBest](https://scikit-learn.org/stable/modules/generated/sklearn.feature_selection.SelectKBest.html#sklearn.feature_selection.SelectKBest). It can perform the selection based on different statistics, also on $\\chi^2$. We can confirm that the top selected features match the ones with the highest $\\chi^2$ values from above.\n",
    "\n",
    "Here we select the top 10 features, notice that they are ordered alphabetically and not by $\\chi^2$."
   ]
  },
  {
   "cell_type": "code",
   "execution_count": 16,
   "metadata": {},
   "outputs": [
    {
     "name": "stdout",
     "output_type": "stream",
     "text": [
      "'chairman'\n",
      "'code'\n",
      "'gun'\n",
      "'hearing'\n",
      "'pruitt'\n",
      "'reform'\n",
      "'tax'\n",
      "'tax code'\n",
      "'tax reform'\n",
      "'texas'\n"
     ]
    }
   ],
   "source": [
    "ch2 = SelectKBest(chi2, k=10)\n",
    "ch2.fit(stat_X_train, stat_y_train)\n",
    "\n",
    "most_important_features = [feature_names[i] for i in ch2.get_support(indices=True)]\n",
    "for f in most_important_features:\n",
    "    print(f\"'{f}'\")"
   ]
  },
  {
   "cell_type": "markdown",
   "metadata": {},
   "source": [
    "Now we're getting somewhere, these new features are starting to make sense. We can look into their distribution in the tweets."
   ]
  },
  {
   "cell_type": "code",
   "execution_count": 17,
   "metadata": {},
   "outputs": [
    {
     "name": "stdout",
     "output_type": "stream",
     "text": [
      "Documents that contain the word \"chairman\"\n",
      "----\n",
      "Republican | Democrat\n",
      "       196 | 8 \n",
      "\n",
      "Documents that contain the word \"code\"\n",
      "----\n",
      "Republican | Democrat\n",
      "       105 | 3 \n",
      "\n",
      "Documents that contain the word \"gun\"\n",
      "----\n",
      "Republican | Democrat\n",
      "       146 | 17 \n",
      "\n",
      "Documents that contain the word \"hearing\"\n",
      "----\n",
      "Republican | Democrat\n",
      "       264 | 62 \n",
      "\n",
      "Documents that contain the word \"pruitt\"\n",
      "----\n",
      "Republican | Democrat\n",
      "        86 | 4 \n",
      "\n",
      "Documents that contain the word \"reform\"\n",
      "----\n",
      "Republican | Democrat\n",
      "       199 | 28 \n",
      "\n",
      "Documents that contain the word \"tax\"\n",
      "----\n",
      "Republican | Democrat\n",
      "       493 | 149 \n",
      "\n",
      "Documents that contain the word \"tax code\"\n",
      "----\n",
      "Republican | Democrat\n",
      "        93 | 2 \n",
      "\n",
      "Documents that contain the word \"tax reform\"\n",
      "----\n",
      "Republican | Democrat\n",
      "       123 | 6 \n",
      "\n",
      "Documents that contain the word \"texas\"\n",
      "----\n",
      "Republican | Democrat\n",
      "       111 | 1 \n",
      "\n"
     ]
    }
   ],
   "source": [
    "for feature in most_important_features:\n",
    "    print('Documents that contain the word \"{}\"'.format(feature))\n",
    "    print('----')\n",
    "    docs = stat_train_data['Tweet'].str.contains(feature)\n",
    "    print(f'Republican | Democrat')\n",
    "    print(f'{stat_y_train[docs].value_counts().iloc[0]:10} | {stat_y_train[docs].value_counts().iloc[1]} \\n') "
   ]
  },
  {
   "cell_type": "markdown",
   "metadata": {},
   "source": [
    "As you can see, these words are much more common in Republican tweets compared to Democrat tweets. These features are thus much more interpretable and should have a stronger impact on training.\n",
    "\n",
    "Below we select the k most important features based on $\\chi^2$ and train the naive Bayes model on them."
   ]
  },
  {
   "cell_type": "code",
   "execution_count": 18,
   "metadata": {},
   "outputs": [
    {
     "name": "stdout",
     "output_type": "stream",
     "text": [
      "Using 10 features\n",
      "----\n",
      "27.4 ms ± 2.09 ms per loop (mean ± std. dev. of 7 runs, 10 loops each)\n",
      "Accuracy: 0.5151187904967602\n",
      "\n",
      "Using 100 features\n",
      "----\n",
      "30.3 ms ± 2.74 ms per loop (mean ± std. dev. of 7 runs, 10 loops each)\n",
      "Accuracy: 0.5930525557955364\n",
      "\n",
      "Using 1000 features\n",
      "----\n",
      "30.3 ms ± 1.71 ms per loop (mean ± std. dev. of 7 runs, 10 loops each)\n",
      "Accuracy: 0.6799856011519079\n",
      "\n",
      "Using 5000 features\n",
      "----\n",
      "31.1 ms ± 1.7 ms per loop (mean ± std. dev. of 7 runs, 10 loops each)\n",
      "Accuracy: 0.7035637149028078\n",
      "\n",
      "Using 10000 features\n",
      "----\n",
      "32.4 ms ± 2.09 ms per loop (mean ± std. dev. of 7 runs, 10 loops each)\n",
      "Accuracy: 0.7102231821454283\n",
      "\n",
      "Using 50000 features\n",
      "----\n",
      "32.1 ms ± 1.29 ms per loop (mean ± std. dev. of 7 runs, 10 loops each)\n",
      "Accuracy: 0.728581713462923\n",
      "\n",
      "Using 100000 features\n",
      "----\n",
      "39.5 ms ± 5.23 ms per loop (mean ± std. dev. of 7 runs, 10 loops each)\n",
      "Accuracy: 0.7356011519078474\n",
      "\n",
      "Using all features\n",
      "----\n",
      "41.1 ms ± 3.74 ms per loop (mean ± std. dev. of 7 runs, 10 loops each)\n",
      "Accuracy: 0.7361411087113031\n",
      "\n"
     ]
    }
   ],
   "source": [
    "for k in [10, 100, 1000, 5000, 10000, 50000, 100000, 'all']:\n",
    "    print('Using {} features'.format(k))\n",
    "    print('----'.format(k))\n",
    "    \n",
    "    ch2_train = SelectKBest(chi2, k=k)\n",
    "    ch2_train.fit(stat_X_train, stat_y_train)\n",
    "    X_train_chi = ch2_train.transform(stat_X_train)\n",
    "    X_test_chi = ch2_train.transform(stat_X_test)\n",
    "\n",
    "    clf = MultinomialNB()\n",
    "    %timeit clf.fit(X_train_chi, stat_y_train)\n",
    "\n",
    "    y_pred = clf.predict(X_test_chi)\n",
    "\n",
    "    print('Accuracy: {}\\n'.format(accuracy_score(y_pred, stat_y_test)))"
   ]
  },
  {
   "cell_type": "markdown",
   "metadata": {},
   "source": [
    "We do not get a much higher accuracy than with the basic feature selection, but we get it with less and more meaningful features. \n",
    "\n",
    "One thing that feature selection does not take into consideration is feature interaction, which can limit a bit the gains in performance. In the following notebooks, you will learn more elaborate methods to perform dimensionality reduction that deal also with this problem."
   ]
  },
  {
   "cell_type": "markdown",
   "metadata": {},
   "source": [
    "## 5. Final remarks\n",
    "\n",
    "After reading this notebook you should understand:\n",
    "\n",
    " - What is the curse of dimensionality\n",
    " - How can you perform simple feature selection by reasoning about your problem\n",
    " - How to apply statistical methods for feature selection by finding dependencies between features and labels\n",
    " \n",
    "Keep in mind that predicting in the real world is much less theoretical. The performance of these methods will depend a lot on your problem, the size of your dataset, your model, your preprocessing. You can use feature selection to improve speed, avoid overfitting, or even just to better interpret the features and how they interact with the classes.\n",
    "\n",
    "**Suggestion**: try to vary the following options/parameters and analyze their impact:\n",
    "\n",
    "- Experiment a bit more with the preprocessing. For example, we haven't removed stopwords when selecting the top features - we suggest you try removing them and check that everything still holds.\n",
    "- Try other feature extraction options such as the simple CountVectorizer.\n",
    "- Use smaller slices of the data set to see how the dataset size impacts both baseline and feature selected results.\n",
    "- Experiment with other classifiers and the impact of the dimensionality reduction on them.\n",
    "- Try to use the model to evaluate other text data, look around on Kaggle for data sets."
   ]
  },
  {
   "cell_type": "markdown",
   "metadata": {},
   "source": [
    "There are other feature selection methods that you might find useful. Some examples of these are:\n",
    "\n",
    "- Feature selection through variance (sklearn.feature_selection.VarianceThreshold)\n",
    "- Feature selection through mutual information\n",
    "- Recursive feature elimination\n",
    "- Tree-based feature selection\n",
    "\n",
    "**And remember, these methods just tell us that there is a relation between labels and features, but not the nature of that relation.** Now go and apply these methods!\n",
    "\n",
    "![correlation](media/correlation.png)"
   ]
  }
 ],
 "metadata": {
  "kernelspec": {
   "display_name": "Python 3 (ipykernel)",
   "language": "python",
   "name": "python3"
  },
  "language_info": {
   "codemirror_mode": {
    "name": "ipython",
    "version": 3
   },
   "file_extension": ".py",
   "mimetype": "text/x-python",
   "name": "python",
   "nbconvert_exporter": "python",
   "pygments_lexer": "ipython3",
   "version": "3.12.7"
  }
 },
 "nbformat": 4,
 "nbformat_minor": 4
}
