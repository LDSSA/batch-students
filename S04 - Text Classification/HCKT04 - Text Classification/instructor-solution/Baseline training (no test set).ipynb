{
 "cells": [
  {
   "cell_type": "code",
   "execution_count": 1,
   "id": "6f49fbf5",
   "metadata": {},
   "outputs": [],
   "source": [
    "import pandas as pd\n",
    "\n",
    "from sklearn.preprocessing import StandardScaler\n",
    "from sklearn.pipeline import Pipeline, FeatureUnion\n",
    "from sklearn.model_selection import train_test_split\n",
    "from sklearn.feature_extraction.text import TfidfVectorizer\n",
    "from sklearn.base import BaseEstimator, TransformerMixin, clone\n",
    "\n",
    "from sklearn.ensemble import RandomForestClassifier\n",
    "\n",
    "from sklearn.metrics import f1_score, precision_score, recall_score"
   ]
  },
  {
   "cell_type": "markdown",
   "id": "c337478b",
   "metadata": {},
   "source": [
    "### Load dataset:"
   ]
  },
  {
   "cell_type": "code",
   "execution_count": 2,
   "id": "344af0d0",
   "metadata": {},
   "outputs": [
    {
     "data": {
      "text/html": [
       "<div>\n",
       "<style scoped>\n",
       "    .dataframe tbody tr th:only-of-type {\n",
       "        vertical-align: middle;\n",
       "    }\n",
       "\n",
       "    .dataframe tbody tr th {\n",
       "        vertical-align: top;\n",
       "    }\n",
       "\n",
       "    .dataframe thead th {\n",
       "        text-align: right;\n",
       "    }\n",
       "</style>\n",
       "<table border=\"1\" class=\"dataframe\">\n",
       "  <thead>\n",
       "    <tr style=\"text-align: right;\">\n",
       "      <th></th>\n",
       "      <th>text</th>\n",
       "      <th>date</th>\n",
       "      <th>language</th>\n",
       "      <th>class</th>\n",
       "      <th>clean_text</th>\n",
       "      <th>characters_count</th>\n",
       "      <th>words_count</th>\n",
       "      <th>unique_words_count</th>\n",
       "    </tr>\n",
       "  </thead>\n",
       "  <tbody>\n",
       "    <tr>\n",
       "      <th>0</th>\n",
       "      <td>Hello, Does it matter iff I use Visa or Master...</td>\n",
       "      <td>7-6-2022</td>\n",
       "      <td>en</td>\n",
       "      <td>card</td>\n",
       "      <td>matter iff use visa mastercard</td>\n",
       "      <td>58</td>\n",
       "      <td>13</td>\n",
       "      <td>13</td>\n",
       "    </tr>\n",
       "    <tr>\n",
       "      <th>1</th>\n",
       "      <td>Good afternoon, I just got refunded for my pur...</td>\n",
       "      <td>16-11-2022</td>\n",
       "      <td>en</td>\n",
       "      <td>card</td>\n",
       "      <td>got refund purchas two week ago</td>\n",
       "      <td>83</td>\n",
       "      <td>16</td>\n",
       "      <td>16</td>\n",
       "    </tr>\n",
       "    <tr>\n",
       "      <th>2</th>\n",
       "      <td>Hello, I got billed ann extra pound! Thanks</td>\n",
       "      <td>4-12-2022</td>\n",
       "      <td>en</td>\n",
       "      <td>others</td>\n",
       "      <td>got bill ann extra pound</td>\n",
       "      <td>43</td>\n",
       "      <td>10</td>\n",
       "      <td>10</td>\n",
       "    </tr>\n",
       "    <tr>\n",
       "      <th>3</th>\n",
       "      <td>Hi, How long does it take for a transfer to sh...</td>\n",
       "      <td>23-11-2022</td>\n",
       "      <td>en</td>\n",
       "      <td>transfer</td>\n",
       "      <td>long take transfer show account</td>\n",
       "      <td>73</td>\n",
       "      <td>18</td>\n",
       "      <td>18</td>\n",
       "    </tr>\n",
       "    <tr>\n",
       "      <th>4</th>\n",
       "      <td>hi, When can I use money sent to my accountt? ...</td>\n",
       "      <td>17-4-2022</td>\n",
       "      <td>en</td>\n",
       "      <td>transfer</td>\n",
       "      <td>use money sent accountt</td>\n",
       "      <td>58</td>\n",
       "      <td>14</td>\n",
       "      <td>14</td>\n",
       "    </tr>\n",
       "  </tbody>\n",
       "</table>\n",
       "</div>"
      ],
      "text/plain": [
       "                                                text        date language  \\\n",
       "0  Hello, Does it matter iff I use Visa or Master...    7-6-2022       en   \n",
       "1  Good afternoon, I just got refunded for my pur...  16-11-2022       en   \n",
       "2        Hello, I got billed ann extra pound! Thanks   4-12-2022       en   \n",
       "3  Hi, How long does it take for a transfer to sh...  23-11-2022       en   \n",
       "4  hi, When can I use money sent to my accountt? ...   17-4-2022       en   \n",
       "\n",
       "      class                       clean_text  characters_count  words_count  \\\n",
       "0      card   matter iff use visa mastercard                58           13   \n",
       "1      card  got refund purchas two week ago                83           16   \n",
       "2    others         got bill ann extra pound                43           10   \n",
       "3  transfer  long take transfer show account                73           18   \n",
       "4  transfer          use money sent accountt                58           14   \n",
       "\n",
       "   unique_words_count  \n",
       "0                  13  \n",
       "1                  16  \n",
       "2                  10  \n",
       "3                  18  \n",
       "4                  14  "
      ]
     },
     "execution_count": 2,
     "metadata": {},
     "output_type": "execute_result"
    }
   ],
   "source": [
    "train_dataset = pd.read_csv(\"../aux_data/train_dataset_preprocessed-1.csv\")\n",
    "train_dataset.head()"
   ]
  },
  {
   "cell_type": "code",
   "execution_count": 3,
   "id": "ff62a2be",
   "metadata": {},
   "outputs": [
    {
     "name": "stdout",
     "output_type": "stream",
     "text": [
      "9038\n"
     ]
    }
   ],
   "source": [
    "print(len(train_dataset))"
   ]
  },
  {
   "cell_type": "code",
   "execution_count": 4,
   "id": "cca1ab5c",
   "metadata": {},
   "outputs": [
    {
     "name": "stdout",
     "output_type": "stream",
     "text": [
      "9037\n"
     ]
    }
   ],
   "source": [
    "print(len(train_dataset.dropna()))"
   ]
  },
  {
   "cell_type": "code",
   "execution_count": 5,
   "id": "91a7e6bd",
   "metadata": {},
   "outputs": [],
   "source": [
    "train_dataset = train_dataset.dropna()"
   ]
  },
  {
   "cell_type": "markdown",
   "id": "c1353675",
   "metadata": {},
   "source": [
    "### Spliting Data: train/validation"
   ]
  },
  {
   "cell_type": "code",
   "execution_count": 6,
   "id": "4574a89f",
   "metadata": {},
   "outputs": [],
   "source": [
    "# train and validation data\n",
    "train, val = train_test_split(train_dataset, test_size=0.3, random_state=42)"
   ]
  },
  {
   "cell_type": "code",
   "execution_count": 7,
   "id": "3e8ab8af",
   "metadata": {},
   "outputs": [
    {
     "data": {
      "text/html": [
       "<div>\n",
       "<style scoped>\n",
       "    .dataframe tbody tr th:only-of-type {\n",
       "        vertical-align: middle;\n",
       "    }\n",
       "\n",
       "    .dataframe tbody tr th {\n",
       "        vertical-align: top;\n",
       "    }\n",
       "\n",
       "    .dataframe thead th {\n",
       "        text-align: right;\n",
       "    }\n",
       "</style>\n",
       "<table border=\"1\" class=\"dataframe\">\n",
       "  <thead>\n",
       "    <tr style=\"text-align: right;\">\n",
       "      <th></th>\n",
       "      <th>text</th>\n",
       "      <th>date</th>\n",
       "      <th>language</th>\n",
       "      <th>class</th>\n",
       "      <th>clean_text</th>\n",
       "      <th>characters_count</th>\n",
       "      <th>words_count</th>\n",
       "      <th>unique_words_count</th>\n",
       "    </tr>\n",
       "  </thead>\n",
       "  <tbody>\n",
       "    <tr>\n",
       "      <th>322</th>\n",
       "      <td>Hi, Why is the exchange rate so high? This sho...</td>\n",
       "      <td>18-11-2022</td>\n",
       "      <td>en</td>\n",
       "      <td>cash</td>\n",
       "      <td>exchang rate gh ts beenn much gher amount cash...</td>\n",
       "      <td>115</td>\n",
       "      <td>26</td>\n",
       "      <td>26</td>\n",
       "    </tr>\n",
       "    <tr>\n",
       "      <th>2032</th>\n",
       "      <td>good morning, What is the closest ATM? Thanks</td>\n",
       "      <td>19-3-2022</td>\n",
       "      <td>en</td>\n",
       "      <td>others</td>\n",
       "      <td>closest atm</td>\n",
       "      <td>45</td>\n",
       "      <td>10</td>\n",
       "      <td>10</td>\n",
       "    </tr>\n",
       "    <tr>\n",
       "      <th>994</th>\n",
       "      <td>Good afternoon, Tell myy why myy top-up is pen...</td>\n",
       "      <td>8-11-2022</td>\n",
       "      <td>en</td>\n",
       "      <td>others</td>\n",
       "      <td>tell myy myy topup pend</td>\n",
       "      <td>58</td>\n",
       "      <td>14</td>\n",
       "      <td>13</td>\n",
       "    </tr>\n",
       "    <tr>\n",
       "      <th>8928</th>\n",
       "      <td>Good afternoon, I think something is wrong wit...</td>\n",
       "      <td>30-7-2022</td>\n",
       "      <td>en</td>\n",
       "      <td>others</td>\n",
       "      <td>tnk sometng wrong top ive beenn wait littl hou...</td>\n",
       "      <td>171</td>\n",
       "      <td>39</td>\n",
       "      <td>35</td>\n",
       "    </tr>\n",
       "    <tr>\n",
       "      <th>7621</th>\n",
       "      <td>hi, top up withh credit card Kind Regards</td>\n",
       "      <td>18-12-2022</td>\n",
       "      <td>en</td>\n",
       "      <td>card</td>\n",
       "      <td>top withh credit card</td>\n",
       "      <td>41</td>\n",
       "      <td>9</td>\n",
       "      <td>9</td>\n",
       "    </tr>\n",
       "    <tr>\n",
       "      <th>...</th>\n",
       "      <td>...</td>\n",
       "      <td>...</td>\n",
       "      <td>...</td>\n",
       "      <td>...</td>\n",
       "      <td>...</td>\n",
       "      <td>...</td>\n",
       "      <td>...</td>\n",
       "      <td>...</td>\n",
       "    </tr>\n",
       "    <tr>\n",
       "      <th>5735</th>\n",
       "      <td>hello, AA seller is stating that they haven't ...</td>\n",
       "      <td>5-3-2022</td>\n",
       "      <td>en</td>\n",
       "      <td>card</td>\n",
       "      <td>aa seller state havent receiv money yet money ...</td>\n",
       "      <td>124</td>\n",
       "      <td>25</td>\n",
       "      <td>24</td>\n",
       "    </tr>\n",
       "    <tr>\n",
       "      <th>5192</th>\n",
       "      <td>Good evening, Can friends transfer money to ea...</td>\n",
       "      <td>2-11-2022</td>\n",
       "      <td>en</td>\n",
       "      <td>others</td>\n",
       "      <td>friend transfer money</td>\n",
       "      <td>68</td>\n",
       "      <td>13</td>\n",
       "      <td>13</td>\n",
       "    </tr>\n",
       "    <tr>\n",
       "      <th>5391</th>\n",
       "      <td>hi, Why hasn't my transaction arrived? Kind Re...</td>\n",
       "      <td>25-12-2022</td>\n",
       "      <td>en</td>\n",
       "      <td>transfer</td>\n",
       "      <td>hasnt transact arriv</td>\n",
       "      <td>51</td>\n",
       "      <td>12</td>\n",
       "      <td>12</td>\n",
       "    </tr>\n",
       "    <tr>\n",
       "      <th>861</th>\n",
       "      <td>Hello, Please check my payment from last Satur...</td>\n",
       "      <td>3-6-2022</td>\n",
       "      <td>en</td>\n",
       "      <td>card</td>\n",
       "      <td>pleas check payment last saturday feel overcha...</td>\n",
       "      <td>131</td>\n",
       "      <td>26</td>\n",
       "      <td>24</td>\n",
       "    </tr>\n",
       "    <tr>\n",
       "      <th>7271</th>\n",
       "      <td>Good evening, how come my withdrawal rate iss ...</td>\n",
       "      <td>24-6-2022</td>\n",
       "      <td>en</td>\n",
       "      <td>cash</td>\n",
       "      <td>come withdraw rate iss wrong cash withdraw</td>\n",
       "      <td>87</td>\n",
       "      <td>16</td>\n",
       "      <td>14</td>\n",
       "    </tr>\n",
       "  </tbody>\n",
       "</table>\n",
       "<p>6325 rows × 8 columns</p>\n",
       "</div>"
      ],
      "text/plain": [
       "                                                   text        date language  \\\n",
       "322   Hi, Why is the exchange rate so high? This sho...  18-11-2022       en   \n",
       "2032      good morning, What is the closest ATM? Thanks   19-3-2022       en   \n",
       "994   Good afternoon, Tell myy why myy top-up is pen...   8-11-2022       en   \n",
       "8928  Good afternoon, I think something is wrong wit...   30-7-2022       en   \n",
       "7621          hi, top up withh credit card Kind Regards  18-12-2022       en   \n",
       "...                                                 ...         ...      ...   \n",
       "5735  hello, AA seller is stating that they haven't ...    5-3-2022       en   \n",
       "5192  Good evening, Can friends transfer money to ea...   2-11-2022       en   \n",
       "5391  hi, Why hasn't my transaction arrived? Kind Re...  25-12-2022       en   \n",
       "861   Hello, Please check my payment from last Satur...    3-6-2022       en   \n",
       "7271  Good evening, how come my withdrawal rate iss ...   24-6-2022       en   \n",
       "\n",
       "         class                                         clean_text  \\\n",
       "322       cash  exchang rate gh ts beenn much gher amount cash...   \n",
       "2032    others                                        closest atm   \n",
       "994     others                            tell myy myy topup pend   \n",
       "8928    others  tnk sometng wrong top ive beenn wait littl hou...   \n",
       "7621      card                              top withh credit card   \n",
       "...        ...                                                ...   \n",
       "5735      card  aa seller state havent receiv money yet money ...   \n",
       "5192    others                              friend transfer money   \n",
       "5391  transfer                               hasnt transact arriv   \n",
       "861       card  pleas check payment last saturday feel overcha...   \n",
       "7271      cash         come withdraw rate iss wrong cash withdraw   \n",
       "\n",
       "      characters_count  words_count  unique_words_count  \n",
       "322                115           26                  26  \n",
       "2032                45           10                  10  \n",
       "994                 58           14                  13  \n",
       "8928               171           39                  35  \n",
       "7621                41            9                   9  \n",
       "...                ...          ...                 ...  \n",
       "5735               124           25                  24  \n",
       "5192                68           13                  13  \n",
       "5391                51           12                  12  \n",
       "861                131           26                  24  \n",
       "7271                87           16                  14  \n",
       "\n",
       "[6325 rows x 8 columns]"
      ]
     },
     "execution_count": 7,
     "metadata": {},
     "output_type": "execute_result"
    }
   ],
   "source": [
    "train"
   ]
  },
  {
   "cell_type": "markdown",
   "id": "6ad7b591",
   "metadata": {},
   "source": [
    "### Useful selectors (From BLU09)"
   ]
  },
  {
   "cell_type": "code",
   "execution_count": 8,
   "id": "5025b020",
   "metadata": {},
   "outputs": [],
   "source": [
    "class Selector(BaseEstimator, TransformerMixin):\n",
    "    \"\"\"\n",
    "    Transformer to select a column from the dataframe to perform additional transformations on\n",
    "    \"\"\" \n",
    "    def __init__(self, key):\n",
    "        self.key = key\n",
    "        \n",
    "    def fit(self, X, y=None):\n",
    "        return self\n",
    "\n",
    "class TextSelector(Selector):\n",
    "    \"\"\"\n",
    "    Transformer to select a single column from the data frame to perform additional transformations on\n",
    "    Use on text columns in the data\n",
    "    \"\"\"\n",
    "    def transform(self, X):\n",
    "        return X[self.key]\n",
    "\n",
    "class NumberSelector(Selector):\n",
    "    \"\"\"\n",
    "    Transformer to select a single column from the data frame to perform additional transformations on\n",
    "    Use on numeric columns in the data\n",
    "    \"\"\"\n",
    "    def transform(self, X):\n",
    "        return X[[self.key]]"
   ]
  },
  {
   "cell_type": "markdown",
   "id": "52bfd8a2",
   "metadata": {},
   "source": [
    "# 1. Multiclass model"
   ]
  },
  {
   "cell_type": "markdown",
   "id": "b083a4ad",
   "metadata": {},
   "source": [
    "## 1.1. Classifier"
   ]
  },
  {
   "cell_type": "markdown",
   "id": "fc7ef273",
   "metadata": {},
   "source": [
    "### Text baseline"
   ]
  },
  {
   "cell_type": "code",
   "execution_count": 9,
   "id": "cd3f840c",
   "metadata": {},
   "outputs": [],
   "source": [
    "# Build the pipeline\n",
    "text = Pipeline([('selector', TextSelector(\"clean_text\")),\n",
    "                 ('tfidf', TfidfVectorizer())])\n",
    "\n",
    "text_pipeline = Pipeline([('features', text), ('classifier', RandomForestClassifier(random_state = 42))])"
   ]
  },
  {
   "cell_type": "code",
   "execution_count": 10,
   "id": "9445f387",
   "metadata": {},
   "outputs": [
    {
     "data": {
      "text/html": [
       "<style>#sk-container-id-1 {color: black;background-color: white;}#sk-container-id-1 pre{padding: 0;}#sk-container-id-1 div.sk-toggleable {background-color: white;}#sk-container-id-1 label.sk-toggleable__label {cursor: pointer;display: block;width: 100%;margin-bottom: 0;padding: 0.3em;box-sizing: border-box;text-align: center;}#sk-container-id-1 label.sk-toggleable__label-arrow:before {content: \"▸\";float: left;margin-right: 0.25em;color: #696969;}#sk-container-id-1 label.sk-toggleable__label-arrow:hover:before {color: black;}#sk-container-id-1 div.sk-estimator:hover label.sk-toggleable__label-arrow:before {color: black;}#sk-container-id-1 div.sk-toggleable__content {max-height: 0;max-width: 0;overflow: hidden;text-align: left;background-color: #f0f8ff;}#sk-container-id-1 div.sk-toggleable__content pre {margin: 0.2em;color: black;border-radius: 0.25em;background-color: #f0f8ff;}#sk-container-id-1 input.sk-toggleable__control:checked~div.sk-toggleable__content {max-height: 200px;max-width: 100%;overflow: auto;}#sk-container-id-1 input.sk-toggleable__control:checked~label.sk-toggleable__label-arrow:before {content: \"▾\";}#sk-container-id-1 div.sk-estimator input.sk-toggleable__control:checked~label.sk-toggleable__label {background-color: #d4ebff;}#sk-container-id-1 div.sk-label input.sk-toggleable__control:checked~label.sk-toggleable__label {background-color: #d4ebff;}#sk-container-id-1 input.sk-hidden--visually {border: 0;clip: rect(1px 1px 1px 1px);clip: rect(1px, 1px, 1px, 1px);height: 1px;margin: -1px;overflow: hidden;padding: 0;position: absolute;width: 1px;}#sk-container-id-1 div.sk-estimator {font-family: monospace;background-color: #f0f8ff;border: 1px dotted black;border-radius: 0.25em;box-sizing: border-box;margin-bottom: 0.5em;}#sk-container-id-1 div.sk-estimator:hover {background-color: #d4ebff;}#sk-container-id-1 div.sk-parallel-item::after {content: \"\";width: 100%;border-bottom: 1px solid gray;flex-grow: 1;}#sk-container-id-1 div.sk-label:hover label.sk-toggleable__label {background-color: #d4ebff;}#sk-container-id-1 div.sk-serial::before {content: \"\";position: absolute;border-left: 1px solid gray;box-sizing: border-box;top: 0;bottom: 0;left: 50%;z-index: 0;}#sk-container-id-1 div.sk-serial {display: flex;flex-direction: column;align-items: center;background-color: white;padding-right: 0.2em;padding-left: 0.2em;position: relative;}#sk-container-id-1 div.sk-item {position: relative;z-index: 1;}#sk-container-id-1 div.sk-parallel {display: flex;align-items: stretch;justify-content: center;background-color: white;position: relative;}#sk-container-id-1 div.sk-item::before, #sk-container-id-1 div.sk-parallel-item::before {content: \"\";position: absolute;border-left: 1px solid gray;box-sizing: border-box;top: 0;bottom: 0;left: 50%;z-index: -1;}#sk-container-id-1 div.sk-parallel-item {display: flex;flex-direction: column;z-index: 1;position: relative;background-color: white;}#sk-container-id-1 div.sk-parallel-item:first-child::after {align-self: flex-end;width: 50%;}#sk-container-id-1 div.sk-parallel-item:last-child::after {align-self: flex-start;width: 50%;}#sk-container-id-1 div.sk-parallel-item:only-child::after {width: 0;}#sk-container-id-1 div.sk-dashed-wrapped {border: 1px dashed gray;margin: 0 0.4em 0.5em 0.4em;box-sizing: border-box;padding-bottom: 0.4em;background-color: white;}#sk-container-id-1 div.sk-label label {font-family: monospace;font-weight: bold;display: inline-block;line-height: 1.2em;}#sk-container-id-1 div.sk-label-container {text-align: center;}#sk-container-id-1 div.sk-container {/* jupyter's `normalize.less` sets `[hidden] { display: none; }` but bootstrap.min.css set `[hidden] { display: none !important; }` so we also need the `!important` here to be able to override the default hidden behavior on the sphinx rendered scikit-learn.org. See: https://github.com/scikit-learn/scikit-learn/issues/21755 */display: inline-block !important;position: relative;}#sk-container-id-1 div.sk-text-repr-fallback {display: none;}</style><div id=\"sk-container-id-1\" class=\"sk-top-container\"><div class=\"sk-text-repr-fallback\"><pre>Pipeline(steps=[(&#x27;features&#x27;,\n",
       "                 Pipeline(steps=[(&#x27;selector&#x27;, TextSelector(key=&#x27;clean_text&#x27;)),\n",
       "                                 (&#x27;tfidf&#x27;, TfidfVectorizer())])),\n",
       "                (&#x27;classifier&#x27;, RandomForestClassifier(random_state=42))])</pre><b>In a Jupyter environment, please rerun this cell to show the HTML representation or trust the notebook. <br />On GitHub, the HTML representation is unable to render, please try loading this page with nbviewer.org.</b></div><div class=\"sk-container\" hidden><div class=\"sk-item sk-dashed-wrapped\"><div class=\"sk-label-container\"><div class=\"sk-label sk-toggleable\"><input class=\"sk-toggleable__control sk-hidden--visually\" id=\"sk-estimator-id-1\" type=\"checkbox\" ><label for=\"sk-estimator-id-1\" class=\"sk-toggleable__label sk-toggleable__label-arrow\">Pipeline</label><div class=\"sk-toggleable__content\"><pre>Pipeline(steps=[(&#x27;features&#x27;,\n",
       "                 Pipeline(steps=[(&#x27;selector&#x27;, TextSelector(key=&#x27;clean_text&#x27;)),\n",
       "                                 (&#x27;tfidf&#x27;, TfidfVectorizer())])),\n",
       "                (&#x27;classifier&#x27;, RandomForestClassifier(random_state=42))])</pre></div></div></div><div class=\"sk-serial\"><div class=\"sk-item\"><div class=\"sk-label-container\"><div class=\"sk-label sk-toggleable\"><input class=\"sk-toggleable__control sk-hidden--visually\" id=\"sk-estimator-id-2\" type=\"checkbox\" ><label for=\"sk-estimator-id-2\" class=\"sk-toggleable__label sk-toggleable__label-arrow\">features: Pipeline</label><div class=\"sk-toggleable__content\"><pre>Pipeline(steps=[(&#x27;selector&#x27;, TextSelector(key=&#x27;clean_text&#x27;)),\n",
       "                (&#x27;tfidf&#x27;, TfidfVectorizer())])</pre></div></div></div><div class=\"sk-serial\"><div class=\"sk-item\"><div class=\"sk-estimator sk-toggleable\"><input class=\"sk-toggleable__control sk-hidden--visually\" id=\"sk-estimator-id-3\" type=\"checkbox\" ><label for=\"sk-estimator-id-3\" class=\"sk-toggleable__label sk-toggleable__label-arrow\">TextSelector</label><div class=\"sk-toggleable__content\"><pre>TextSelector(key=&#x27;clean_text&#x27;)</pre></div></div></div><div class=\"sk-item\"><div class=\"sk-estimator sk-toggleable\"><input class=\"sk-toggleable__control sk-hidden--visually\" id=\"sk-estimator-id-4\" type=\"checkbox\" ><label for=\"sk-estimator-id-4\" class=\"sk-toggleable__label sk-toggleable__label-arrow\">TfidfVectorizer</label><div class=\"sk-toggleable__content\"><pre>TfidfVectorizer()</pre></div></div></div></div></div><div class=\"sk-item\"><div class=\"sk-estimator sk-toggleable\"><input class=\"sk-toggleable__control sk-hidden--visually\" id=\"sk-estimator-id-5\" type=\"checkbox\" ><label for=\"sk-estimator-id-5\" class=\"sk-toggleable__label sk-toggleable__label-arrow\">RandomForestClassifier</label><div class=\"sk-toggleable__content\"><pre>RandomForestClassifier(random_state=42)</pre></div></div></div></div></div></div></div>"
      ],
      "text/plain": [
       "Pipeline(steps=[('features',\n",
       "                 Pipeline(steps=[('selector', TextSelector(key='clean_text')),\n",
       "                                 ('tfidf', TfidfVectorizer())])),\n",
       "                ('classifier', RandomForestClassifier(random_state=42))])"
      ]
     },
     "execution_count": 10,
     "metadata": {},
     "output_type": "execute_result"
    }
   ],
   "source": [
    "# Train the classifier\n",
    "text_classifier = clone(text_pipeline)\n",
    "text_classifier.fit(train, train['class'].values)"
   ]
  },
  {
   "cell_type": "code",
   "execution_count": 11,
   "id": "cfe97eb5",
   "metadata": {},
   "outputs": [],
   "source": [
    "text_predicted = text_classifier.predict(val)"
   ]
  },
  {
   "cell_type": "markdown",
   "id": "97ef4da0",
   "metadata": {},
   "source": [
    "### Combining text and numerical columns"
   ]
  },
  {
   "cell_type": "code",
   "execution_count": 12,
   "id": "eff2679c",
   "metadata": {},
   "outputs": [],
   "source": [
    "# Build the pipeline\n",
    "numerical_columns = [\"characters_count\", \"words_count\", \"unique_words_count\"]\n",
    "\n",
    "numeric_steps = []\n",
    "for feature in numerical_columns:\n",
    "    pipeline_step = Pipeline([(feature, NumberSelector(feature)), (f'scaled_{feature}', StandardScaler())])\n",
    "    numeric_steps.append((feature, pipeline_step))\n",
    "    \n",
    "combined_steps = numeric_steps + [('text', text)]\n",
    "combined_features = FeatureUnion(combined_steps)\n",
    "\n",
    "combined_pipeline = Pipeline([('features', combined_features),\n",
    "                              ('classifier', RandomForestClassifier(random_state=42))])"
   ]
  },
  {
   "cell_type": "code",
   "execution_count": 13,
   "id": "db025a64",
   "metadata": {},
   "outputs": [
    {
     "data": {
      "text/html": [
       "<style>#sk-container-id-2 {color: black;background-color: white;}#sk-container-id-2 pre{padding: 0;}#sk-container-id-2 div.sk-toggleable {background-color: white;}#sk-container-id-2 label.sk-toggleable__label {cursor: pointer;display: block;width: 100%;margin-bottom: 0;padding: 0.3em;box-sizing: border-box;text-align: center;}#sk-container-id-2 label.sk-toggleable__label-arrow:before {content: \"▸\";float: left;margin-right: 0.25em;color: #696969;}#sk-container-id-2 label.sk-toggleable__label-arrow:hover:before {color: black;}#sk-container-id-2 div.sk-estimator:hover label.sk-toggleable__label-arrow:before {color: black;}#sk-container-id-2 div.sk-toggleable__content {max-height: 0;max-width: 0;overflow: hidden;text-align: left;background-color: #f0f8ff;}#sk-container-id-2 div.sk-toggleable__content pre {margin: 0.2em;color: black;border-radius: 0.25em;background-color: #f0f8ff;}#sk-container-id-2 input.sk-toggleable__control:checked~div.sk-toggleable__content {max-height: 200px;max-width: 100%;overflow: auto;}#sk-container-id-2 input.sk-toggleable__control:checked~label.sk-toggleable__label-arrow:before {content: \"▾\";}#sk-container-id-2 div.sk-estimator input.sk-toggleable__control:checked~label.sk-toggleable__label {background-color: #d4ebff;}#sk-container-id-2 div.sk-label input.sk-toggleable__control:checked~label.sk-toggleable__label {background-color: #d4ebff;}#sk-container-id-2 input.sk-hidden--visually {border: 0;clip: rect(1px 1px 1px 1px);clip: rect(1px, 1px, 1px, 1px);height: 1px;margin: -1px;overflow: hidden;padding: 0;position: absolute;width: 1px;}#sk-container-id-2 div.sk-estimator {font-family: monospace;background-color: #f0f8ff;border: 1px dotted black;border-radius: 0.25em;box-sizing: border-box;margin-bottom: 0.5em;}#sk-container-id-2 div.sk-estimator:hover {background-color: #d4ebff;}#sk-container-id-2 div.sk-parallel-item::after {content: \"\";width: 100%;border-bottom: 1px solid gray;flex-grow: 1;}#sk-container-id-2 div.sk-label:hover label.sk-toggleable__label {background-color: #d4ebff;}#sk-container-id-2 div.sk-serial::before {content: \"\";position: absolute;border-left: 1px solid gray;box-sizing: border-box;top: 0;bottom: 0;left: 50%;z-index: 0;}#sk-container-id-2 div.sk-serial {display: flex;flex-direction: column;align-items: center;background-color: white;padding-right: 0.2em;padding-left: 0.2em;position: relative;}#sk-container-id-2 div.sk-item {position: relative;z-index: 1;}#sk-container-id-2 div.sk-parallel {display: flex;align-items: stretch;justify-content: center;background-color: white;position: relative;}#sk-container-id-2 div.sk-item::before, #sk-container-id-2 div.sk-parallel-item::before {content: \"\";position: absolute;border-left: 1px solid gray;box-sizing: border-box;top: 0;bottom: 0;left: 50%;z-index: -1;}#sk-container-id-2 div.sk-parallel-item {display: flex;flex-direction: column;z-index: 1;position: relative;background-color: white;}#sk-container-id-2 div.sk-parallel-item:first-child::after {align-self: flex-end;width: 50%;}#sk-container-id-2 div.sk-parallel-item:last-child::after {align-self: flex-start;width: 50%;}#sk-container-id-2 div.sk-parallel-item:only-child::after {width: 0;}#sk-container-id-2 div.sk-dashed-wrapped {border: 1px dashed gray;margin: 0 0.4em 0.5em 0.4em;box-sizing: border-box;padding-bottom: 0.4em;background-color: white;}#sk-container-id-2 div.sk-label label {font-family: monospace;font-weight: bold;display: inline-block;line-height: 1.2em;}#sk-container-id-2 div.sk-label-container {text-align: center;}#sk-container-id-2 div.sk-container {/* jupyter's `normalize.less` sets `[hidden] { display: none; }` but bootstrap.min.css set `[hidden] { display: none !important; }` so we also need the `!important` here to be able to override the default hidden behavior on the sphinx rendered scikit-learn.org. See: https://github.com/scikit-learn/scikit-learn/issues/21755 */display: inline-block !important;position: relative;}#sk-container-id-2 div.sk-text-repr-fallback {display: none;}</style><div id=\"sk-container-id-2\" class=\"sk-top-container\"><div class=\"sk-text-repr-fallback\"><pre>Pipeline(steps=[(&#x27;features&#x27;,\n",
       "                 FeatureUnion(transformer_list=[(&#x27;characters_count&#x27;,\n",
       "                                                 Pipeline(steps=[(&#x27;characters_count&#x27;,\n",
       "                                                                  NumberSelector(key=&#x27;characters_count&#x27;)),\n",
       "                                                                 (&#x27;scaled_characters_count&#x27;,\n",
       "                                                                  StandardScaler())])),\n",
       "                                                (&#x27;words_count&#x27;,\n",
       "                                                 Pipeline(steps=[(&#x27;words_count&#x27;,\n",
       "                                                                  NumberSelector(key=&#x27;words_count&#x27;)),\n",
       "                                                                 (&#x27;scaled_words_count&#x27;,\n",
       "                                                                  StandardScaler())])),\n",
       "                                                (&#x27;unique_words_count&#x27;,\n",
       "                                                 Pipeline(steps=[(&#x27;unique_words_count&#x27;,\n",
       "                                                                  NumberSelector(key=&#x27;unique_words_count&#x27;)),\n",
       "                                                                 (&#x27;scaled_unique_words_count&#x27;,\n",
       "                                                                  StandardScaler())])),\n",
       "                                                (&#x27;text&#x27;,\n",
       "                                                 Pipeline(steps=[(&#x27;selector&#x27;,\n",
       "                                                                  TextSelector(key=&#x27;clean_text&#x27;)),\n",
       "                                                                 (&#x27;tfidf&#x27;,\n",
       "                                                                  TfidfVectorizer())]))])),\n",
       "                (&#x27;classifier&#x27;, RandomForestClassifier(random_state=42))])</pre><b>In a Jupyter environment, please rerun this cell to show the HTML representation or trust the notebook. <br />On GitHub, the HTML representation is unable to render, please try loading this page with nbviewer.org.</b></div><div class=\"sk-container\" hidden><div class=\"sk-item sk-dashed-wrapped\"><div class=\"sk-label-container\"><div class=\"sk-label sk-toggleable\"><input class=\"sk-toggleable__control sk-hidden--visually\" id=\"sk-estimator-id-6\" type=\"checkbox\" ><label for=\"sk-estimator-id-6\" class=\"sk-toggleable__label sk-toggleable__label-arrow\">Pipeline</label><div class=\"sk-toggleable__content\"><pre>Pipeline(steps=[(&#x27;features&#x27;,\n",
       "                 FeatureUnion(transformer_list=[(&#x27;characters_count&#x27;,\n",
       "                                                 Pipeline(steps=[(&#x27;characters_count&#x27;,\n",
       "                                                                  NumberSelector(key=&#x27;characters_count&#x27;)),\n",
       "                                                                 (&#x27;scaled_characters_count&#x27;,\n",
       "                                                                  StandardScaler())])),\n",
       "                                                (&#x27;words_count&#x27;,\n",
       "                                                 Pipeline(steps=[(&#x27;words_count&#x27;,\n",
       "                                                                  NumberSelector(key=&#x27;words_count&#x27;)),\n",
       "                                                                 (&#x27;scaled_words_count&#x27;,\n",
       "                                                                  StandardScaler())])),\n",
       "                                                (&#x27;unique_words_count&#x27;,\n",
       "                                                 Pipeline(steps=[(&#x27;unique_words_count&#x27;,\n",
       "                                                                  NumberSelector(key=&#x27;unique_words_count&#x27;)),\n",
       "                                                                 (&#x27;scaled_unique_words_count&#x27;,\n",
       "                                                                  StandardScaler())])),\n",
       "                                                (&#x27;text&#x27;,\n",
       "                                                 Pipeline(steps=[(&#x27;selector&#x27;,\n",
       "                                                                  TextSelector(key=&#x27;clean_text&#x27;)),\n",
       "                                                                 (&#x27;tfidf&#x27;,\n",
       "                                                                  TfidfVectorizer())]))])),\n",
       "                (&#x27;classifier&#x27;, RandomForestClassifier(random_state=42))])</pre></div></div></div><div class=\"sk-serial\"><div class=\"sk-item sk-dashed-wrapped\"><div class=\"sk-label-container\"><div class=\"sk-label sk-toggleable\"><input class=\"sk-toggleable__control sk-hidden--visually\" id=\"sk-estimator-id-7\" type=\"checkbox\" ><label for=\"sk-estimator-id-7\" class=\"sk-toggleable__label sk-toggleable__label-arrow\">features: FeatureUnion</label><div class=\"sk-toggleable__content\"><pre>FeatureUnion(transformer_list=[(&#x27;characters_count&#x27;,\n",
       "                                Pipeline(steps=[(&#x27;characters_count&#x27;,\n",
       "                                                 NumberSelector(key=&#x27;characters_count&#x27;)),\n",
       "                                                (&#x27;scaled_characters_count&#x27;,\n",
       "                                                 StandardScaler())])),\n",
       "                               (&#x27;words_count&#x27;,\n",
       "                                Pipeline(steps=[(&#x27;words_count&#x27;,\n",
       "                                                 NumberSelector(key=&#x27;words_count&#x27;)),\n",
       "                                                (&#x27;scaled_words_count&#x27;,\n",
       "                                                 StandardScaler())])),\n",
       "                               (&#x27;unique_words_count&#x27;,\n",
       "                                Pipeline(steps=[(&#x27;unique_words_count&#x27;,\n",
       "                                                 NumberSelector(key=&#x27;unique_words_count&#x27;)),\n",
       "                                                (&#x27;scaled_unique_words_count&#x27;,\n",
       "                                                 StandardScaler())])),\n",
       "                               (&#x27;text&#x27;,\n",
       "                                Pipeline(steps=[(&#x27;selector&#x27;,\n",
       "                                                 TextSelector(key=&#x27;clean_text&#x27;)),\n",
       "                                                (&#x27;tfidf&#x27;,\n",
       "                                                 TfidfVectorizer())]))])</pre></div></div></div><div class=\"sk-parallel\"><div class=\"sk-parallel-item\"><div class=\"sk-item\"><div class=\"sk-label-container\"><div class=\"sk-label sk-toggleable\"><label>characters_count</label></div></div><div class=\"sk-serial\"><div class=\"sk-item\"><div class=\"sk-serial\"><div class=\"sk-item\"><div class=\"sk-estimator sk-toggleable\"><input class=\"sk-toggleable__control sk-hidden--visually\" id=\"sk-estimator-id-8\" type=\"checkbox\" ><label for=\"sk-estimator-id-8\" class=\"sk-toggleable__label sk-toggleable__label-arrow\">NumberSelector</label><div class=\"sk-toggleable__content\"><pre>NumberSelector(key=&#x27;characters_count&#x27;)</pre></div></div></div><div class=\"sk-item\"><div class=\"sk-estimator sk-toggleable\"><input class=\"sk-toggleable__control sk-hidden--visually\" id=\"sk-estimator-id-9\" type=\"checkbox\" ><label for=\"sk-estimator-id-9\" class=\"sk-toggleable__label sk-toggleable__label-arrow\">StandardScaler</label><div class=\"sk-toggleable__content\"><pre>StandardScaler()</pre></div></div></div></div></div></div></div></div><div class=\"sk-parallel-item\"><div class=\"sk-item\"><div class=\"sk-label-container\"><div class=\"sk-label sk-toggleable\"><label>words_count</label></div></div><div class=\"sk-serial\"><div class=\"sk-item\"><div class=\"sk-serial\"><div class=\"sk-item\"><div class=\"sk-estimator sk-toggleable\"><input class=\"sk-toggleable__control sk-hidden--visually\" id=\"sk-estimator-id-10\" type=\"checkbox\" ><label for=\"sk-estimator-id-10\" class=\"sk-toggleable__label sk-toggleable__label-arrow\">NumberSelector</label><div class=\"sk-toggleable__content\"><pre>NumberSelector(key=&#x27;words_count&#x27;)</pre></div></div></div><div class=\"sk-item\"><div class=\"sk-estimator sk-toggleable\"><input class=\"sk-toggleable__control sk-hidden--visually\" id=\"sk-estimator-id-11\" type=\"checkbox\" ><label for=\"sk-estimator-id-11\" class=\"sk-toggleable__label sk-toggleable__label-arrow\">StandardScaler</label><div class=\"sk-toggleable__content\"><pre>StandardScaler()</pre></div></div></div></div></div></div></div></div><div class=\"sk-parallel-item\"><div class=\"sk-item\"><div class=\"sk-label-container\"><div class=\"sk-label sk-toggleable\"><label>unique_words_count</label></div></div><div class=\"sk-serial\"><div class=\"sk-item\"><div class=\"sk-serial\"><div class=\"sk-item\"><div class=\"sk-estimator sk-toggleable\"><input class=\"sk-toggleable__control sk-hidden--visually\" id=\"sk-estimator-id-12\" type=\"checkbox\" ><label for=\"sk-estimator-id-12\" class=\"sk-toggleable__label sk-toggleable__label-arrow\">NumberSelector</label><div class=\"sk-toggleable__content\"><pre>NumberSelector(key=&#x27;unique_words_count&#x27;)</pre></div></div></div><div class=\"sk-item\"><div class=\"sk-estimator sk-toggleable\"><input class=\"sk-toggleable__control sk-hidden--visually\" id=\"sk-estimator-id-13\" type=\"checkbox\" ><label for=\"sk-estimator-id-13\" class=\"sk-toggleable__label sk-toggleable__label-arrow\">StandardScaler</label><div class=\"sk-toggleable__content\"><pre>StandardScaler()</pre></div></div></div></div></div></div></div></div><div class=\"sk-parallel-item\"><div class=\"sk-item\"><div class=\"sk-label-container\"><div class=\"sk-label sk-toggleable\"><label>text</label></div></div><div class=\"sk-serial\"><div class=\"sk-item\"><div class=\"sk-serial\"><div class=\"sk-item\"><div class=\"sk-estimator sk-toggleable\"><input class=\"sk-toggleable__control sk-hidden--visually\" id=\"sk-estimator-id-14\" type=\"checkbox\" ><label for=\"sk-estimator-id-14\" class=\"sk-toggleable__label sk-toggleable__label-arrow\">TextSelector</label><div class=\"sk-toggleable__content\"><pre>TextSelector(key=&#x27;clean_text&#x27;)</pre></div></div></div><div class=\"sk-item\"><div class=\"sk-estimator sk-toggleable\"><input class=\"sk-toggleable__control sk-hidden--visually\" id=\"sk-estimator-id-15\" type=\"checkbox\" ><label for=\"sk-estimator-id-15\" class=\"sk-toggleable__label sk-toggleable__label-arrow\">TfidfVectorizer</label><div class=\"sk-toggleable__content\"><pre>TfidfVectorizer()</pre></div></div></div></div></div></div></div></div></div></div><div class=\"sk-item\"><div class=\"sk-estimator sk-toggleable\"><input class=\"sk-toggleable__control sk-hidden--visually\" id=\"sk-estimator-id-16\" type=\"checkbox\" ><label for=\"sk-estimator-id-16\" class=\"sk-toggleable__label sk-toggleable__label-arrow\">RandomForestClassifier</label><div class=\"sk-toggleable__content\"><pre>RandomForestClassifier(random_state=42)</pre></div></div></div></div></div></div></div>"
      ],
      "text/plain": [
       "Pipeline(steps=[('features',\n",
       "                 FeatureUnion(transformer_list=[('characters_count',\n",
       "                                                 Pipeline(steps=[('characters_count',\n",
       "                                                                  NumberSelector(key='characters_count')),\n",
       "                                                                 ('scaled_characters_count',\n",
       "                                                                  StandardScaler())])),\n",
       "                                                ('words_count',\n",
       "                                                 Pipeline(steps=[('words_count',\n",
       "                                                                  NumberSelector(key='words_count')),\n",
       "                                                                 ('scaled_words_count',\n",
       "                                                                  StandardScaler())])),\n",
       "                                                ('unique_words_count',\n",
       "                                                 Pipeline(steps=[('unique_words_count',\n",
       "                                                                  NumberSelector(key='unique_words_count')),\n",
       "                                                                 ('scaled_unique_words_count',\n",
       "                                                                  StandardScaler())])),\n",
       "                                                ('text',\n",
       "                                                 Pipeline(steps=[('selector',\n",
       "                                                                  TextSelector(key='clean_text')),\n",
       "                                                                 ('tfidf',\n",
       "                                                                  TfidfVectorizer())]))])),\n",
       "                ('classifier', RandomForestClassifier(random_state=42))])"
      ]
     },
     "execution_count": 13,
     "metadata": {},
     "output_type": "execute_result"
    }
   ],
   "source": [
    "# Train the classifier\n",
    "combined_classifier = clone(combined_pipeline)\n",
    "combined_classifier.fit(train, train[\"class\"].values)"
   ]
  },
  {
   "cell_type": "code",
   "execution_count": 14,
   "id": "3b9f43d5",
   "metadata": {},
   "outputs": [],
   "source": [
    "combined_predicted = combined_classifier.predict(val)"
   ]
  },
  {
   "cell_type": "code",
   "execution_count": 15,
   "id": "85fd957b",
   "metadata": {},
   "outputs": [
    {
     "data": {
      "text/plain": [
       "array(['card', 'others', 'others', ..., 'card', 'card', 'card'],\n",
       "      dtype=object)"
      ]
     },
     "execution_count": 15,
     "metadata": {},
     "output_type": "execute_result"
    }
   ],
   "source": [
    "combined_predicted"
   ]
  },
  {
   "cell_type": "markdown",
   "id": "b240697d",
   "metadata": {},
   "source": [
    "# 1.2. Metrics"
   ]
  },
  {
   "cell_type": "markdown",
   "id": "d2caa769",
   "metadata": {},
   "source": [
    "#### Calculate metrics for each label and find their unweighted mean"
   ]
  },
  {
   "cell_type": "code",
   "execution_count": 16,
   "id": "071d658f",
   "metadata": {},
   "outputs": [],
   "source": [
    "def get_and_print_macro_metrics(true_labels, predictions, average):\n",
    "    precision = precision_score(true_labels, predictions, average=average)\n",
    "    recall = recall_score(true_labels, predictions, average=average)\n",
    "    f1 = f1_score(true_labels, predictions, average=average)\n",
    "\n",
    "    print(f\"Precision: {precision}\")\n",
    "    print(f\"Recall: {recall}\")\n",
    "    print(f\"F1-Score: {f1}\")"
   ]
  },
  {
   "cell_type": "code",
   "execution_count": 17,
   "id": "91f2673e",
   "metadata": {},
   "outputs": [
    {
     "name": "stdout",
     "output_type": "stream",
     "text": [
      "---- Text based classifier metrics ----\n",
      "Precision: 0.9251317935502008\n",
      "Recall: 0.9074828045092908\n",
      "F1-Score: 0.9158778068900697\n"
     ]
    }
   ],
   "source": [
    "print(\"---- Text based classifier metrics ----\")\n",
    "get_and_print_macro_metrics(val['class'], text_predicted, \"macro\")"
   ]
  },
  {
   "cell_type": "code",
   "execution_count": 18,
   "id": "c57913bb",
   "metadata": {},
   "outputs": [
    {
     "name": "stdout",
     "output_type": "stream",
     "text": [
      "---- Combined classifier metrics ----\n",
      "Precision: 0.9174532648883245\n",
      "Recall: 0.9014810739407982\n",
      "F1-Score: 0.9090632920214665\n"
     ]
    }
   ],
   "source": [
    "print(\"---- Combined classifier metrics ----\")\n",
    "get_and_print_macro_metrics(val['class'], combined_predicted, \"macro\")"
   ]
  },
  {
   "cell_type": "markdown",
   "id": "d1e1647a",
   "metadata": {},
   "source": [
    "#### Calculate metrics for each class"
   ]
  },
  {
   "cell_type": "code",
   "execution_count": 19,
   "id": "81164bb3",
   "metadata": {},
   "outputs": [],
   "source": [
    "def get_and_print_macro_metrics_by_class(true_labels, predictions, average, class_):\n",
    "    precision = precision_score(true_labels, predictions, average=average, labels=[class_])\n",
    "    recall = recall_score(true_labels, predictions, average=average, labels=[class_])\n",
    "    f1 = f1_score(true_labels, predictions, average=average, labels=[class_])\n",
    "    \n",
    "    print(f\"---- {class_} ----\")\n",
    "    print(f\"Precision: {precision}\")\n",
    "    print(f\"Recall: {recall}\")\n",
    "    print(f\"F1-Score: {f1}\")"
   ]
  },
  {
   "cell_type": "code",
   "execution_count": 20,
   "id": "ff521844",
   "metadata": {},
   "outputs": [],
   "source": [
    "def metrics(class_):\n",
    "    get_and_print_macro_metrics_by_class(val['class'], predicted, \"macro\", class_)"
   ]
  },
  {
   "cell_type": "code",
   "execution_count": 21,
   "id": "22897d5b",
   "metadata": {},
   "outputs": [
    {
     "name": "stdout",
     "output_type": "stream",
     "text": [
      "---- Text based classifier metrics ----\n",
      "---- card ----\n",
      "Precision: 0.9153094462540716\n",
      "Recall: 0.934589800443459\n",
      "F1-Score: 0.9248491497531541\n",
      "---- others ----\n",
      "Precision: 0.8784722222222222\n",
      "Recall: 0.8939929328621908\n",
      "F1-Score: 0.8861646234676007\n",
      "---- transfer ----\n",
      "Precision: 0.9220183486238532\n",
      "Recall: 0.919908466819222\n",
      "F1-Score: 0.9209621993127147\n",
      "---- cash ----\n",
      "Precision: 0.9558359621451105\n",
      "Recall: 0.8964497041420119\n",
      "F1-Score: 0.9251908396946565\n",
      "---- security ----\n",
      "Precision: 0.9540229885057471\n",
      "Recall: 0.8924731182795699\n",
      "F1-Score: 0.9222222222222222\n"
     ]
    }
   ],
   "source": [
    "print(\"---- Text based classifier metrics ----\")\n",
    "predicted = text_predicted\n",
    "text_classifier_metrics_by_class = list(map(metrics, (train_dataset[\"class\"].unique())))"
   ]
  },
  {
   "cell_type": "code",
   "execution_count": 22,
   "id": "010d1919",
   "metadata": {},
   "outputs": [
    {
     "name": "stdout",
     "output_type": "stream",
     "text": [
      "---- Combined classifier metrics ----\n",
      "---- card ----\n",
      "Precision: 0.9142857142857143\n",
      "Recall: 0.9223946784922394\n",
      "F1-Score: 0.9183222958057397\n",
      "---- others ----\n",
      "Precision: 0.8697142857142857\n",
      "Recall: 0.8963486454652533\n",
      "F1-Score: 0.8828306264501159\n",
      "---- transfer ----\n",
      "Precision: 0.9220183486238532\n",
      "Recall: 0.919908466819222\n",
      "F1-Score: 0.9209621993127147\n",
      "---- cash ----\n",
      "Precision: 0.9490445859872612\n",
      "Recall: 0.8816568047337278\n",
      "F1-Score: 0.9141104294478528\n",
      "---- security ----\n",
      "Precision: 0.9322033898305084\n",
      "Recall: 0.8870967741935484\n",
      "F1-Score: 0.9090909090909092\n"
     ]
    }
   ],
   "source": [
    "print(\"---- Combined classifier metrics ----\")\n",
    "predicted = combined_predicted\n",
    "combined_classifier_metrics_by_class_combined = list(map(metrics, (train_dataset[\"class\"].unique())))"
   ]
  },
  {
   "cell_type": "markdown",
   "id": "5d76d58e",
   "metadata": {},
   "source": [
    "# 2. Optional: Binary models per class (one vs. all)"
   ]
  },
  {
   "cell_type": "markdown",
   "id": "21233d01",
   "metadata": {},
   "source": [
    "## 2.1. Classifier"
   ]
  },
  {
   "cell_type": "code",
   "execution_count": 23,
   "id": "cb5d9a2c",
   "metadata": {},
   "outputs": [],
   "source": [
    "def binary_classifier(train, val, class_dict):\n",
    "    train_ = train.copy()\n",
    "    val_ = val.copy()\n",
    "    \n",
    "    # Change the class map\n",
    "    train_[\"class\"] = train_[\"class\"].map(class_dict)\n",
    "    val_[\"class\"] = val_[\"class\"].map(class_dict)\n",
    "    \n",
    "    # Build the pipeline\n",
    "    classifier = Pipeline([('tfidf', TfidfVectorizer()), ('classifier', RandomForestClassifier(random_state = 42))])\n",
    "    \n",
    "    # Train the classifier\n",
    "    classifier.fit(map(str, train_['clean_text'].values), train_['class'].values)\n",
    "    \n",
    "    # Predict labels\n",
    "    predicted = classifier.predict(map(str, val_['clean_text'].values))\n",
    "    \n",
    "    return val_['class'], predicted"
   ]
  },
  {
   "cell_type": "markdown",
   "id": "71a360ae",
   "metadata": {},
   "source": [
    "## 2.2. Metrics"
   ]
  },
  {
   "cell_type": "code",
   "execution_count": 24,
   "id": "c9696dbb",
   "metadata": {},
   "outputs": [],
   "source": [
    "def get_and_print_binary_metrics(train, val, class_dict):\n",
    "    \n",
    "    true_labels, predictions = binary_classifier(train, val, class_dict)\n",
    "    \n",
    "    precision = precision_score(true_labels, predictions)\n",
    "    recall = recall_score(true_labels, predictions)\n",
    "    f1 = f1_score(true_labels, predictions)\n",
    "\n",
    "    print(f\"Precision: {precision}\")\n",
    "    print(f\"Recall: {recall}\")\n",
    "    print(f\"F1-Score: {f1}\")"
   ]
  },
  {
   "cell_type": "code",
   "execution_count": 25,
   "id": "bbb9b6be",
   "metadata": {},
   "outputs": [],
   "source": [
    "def class_dic(class_):\n",
    "    print(f\"---- {class_} ----\")\n",
    "    \n",
    "    class_dict = {\"others\": 0, \"card\": 0, \"cash\": 0, \"transfer\": 0, \"security\": 0}\n",
    "    class_dict.update({class_: 1})\n",
    "    \n",
    "    get_and_print_binary_metrics(train, val, class_dict)"
   ]
  },
  {
   "cell_type": "code",
   "execution_count": 26,
   "id": "123b60e8",
   "metadata": {},
   "outputs": [
    {
     "data": {
      "text/plain": [
       "array(['card', 'others', 'transfer', 'cash', 'security'], dtype=object)"
      ]
     },
     "execution_count": 26,
     "metadata": {},
     "output_type": "execute_result"
    }
   ],
   "source": [
    "classes = train_dataset[\"class\"].unique()\n",
    "classes"
   ]
  },
  {
   "cell_type": "code",
   "execution_count": 27,
   "id": "f2393660",
   "metadata": {},
   "outputs": [
    {
     "name": "stdout",
     "output_type": "stream",
     "text": [
      "---- Metrics ----\n",
      "---- card ----\n",
      "Precision: 0.9364161849710982\n",
      "Recall: 0.8980044345898004\n",
      "F1-Score: 0.9168081494057724\n",
      "---- others ----\n",
      "Precision: 0.951885565669701\n",
      "Recall: 0.8621908127208481\n",
      "F1-Score: 0.9048207663782448\n",
      "---- transfer ----\n",
      "Precision: 0.9493670886075949\n",
      "Recall: 0.8581235697940504\n",
      "F1-Score: 0.9014423076923077\n",
      "---- cash ----\n",
      "Precision: 0.9732441471571907\n",
      "Recall: 0.8609467455621301\n",
      "F1-Score: 0.913657770800628\n",
      "---- security ----\n",
      "Precision: 0.9813664596273292\n",
      "Recall: 0.8494623655913979\n",
      "F1-Score: 0.9106628242074929\n"
     ]
    }
   ],
   "source": [
    "print(\"---- Metrics ----\")\n",
    "binary_classifier_metrics = list(map(class_dic, (classes)))"
   ]
  },
  {
   "cell_type": "markdown",
   "id": "57b936a9",
   "metadata": {},
   "source": [
    "Conclusions:\n",
    "    - The experience combining text and numeric columns has shown that the numeric columns do not add much. So we will use just the text column.\n",
    "    - The best approach based on the f1 metric was the multiclass model for all classes."
   ]
  }
 ],
 "metadata": {
  "kernelspec": {
   "display_name": "Python 3 (ipykernel)",
   "language": "python",
   "name": "python3"
  },
  "language_info": {
   "codemirror_mode": {
    "name": "ipython",
    "version": 3
   },
   "file_extension": ".py",
   "mimetype": "text/x-python",
   "name": "python",
   "nbconvert_exporter": "python",
   "pygments_lexer": "ipython3",
   "version": "3.11.1"
  }
 },
 "nbformat": 4,
 "nbformat_minor": 5
}
