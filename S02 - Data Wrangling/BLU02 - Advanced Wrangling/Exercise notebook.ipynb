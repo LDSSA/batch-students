{
 "cells": [
  {
   "cell_type": "markdown",
   "id": "b66f2958",
   "metadata": {
    "deletable": false,
    "editable": false,
    "nbgrader": {
     "grade": false,
     "grade_id": "cell-3bf24e7ba2c45b1c",
     "locked": true,
     "schema_version": 3,
     "solution": false,
     "task": false
    }
   },
   "source": [
    "# BLU02 - Exercise Notebook"
   ]
  },
  {
   "cell_type": "code",
   "execution_count": null,
   "id": "fd525da6",
   "metadata": {
    "deletable": false,
    "editable": false,
    "nbgrader": {
     "grade": false,
     "grade_id": "cell-bebba7f87f4f151b",
     "locked": true,
     "schema_version": 3,
     "solution": false,
     "task": false
    }
   },
   "outputs": [],
   "source": [
    "import hashlib\n",
    "import json\n",
    "\n",
    "import os\n",
    "import pandas as pd\n",
    "import numpy as np\n",
    "import datetime\n",
    "from sklearn.model_selection import train_test_split\n",
    "from sklearn.base import BaseEstimator, TransformerMixin\n",
    "from sklearn.pipeline import Pipeline\n",
    "from sklearn.preprocessing import StandardScaler, RobustScaler, FunctionTransformer\n",
    "from sklearn.linear_model import LinearRegression\n",
    "from sklearn.metrics import mean_absolute_error"
   ]
  },
  {
   "cell_type": "markdown",
   "id": "496da848-193a-48e7-9d04-a9a976281fae",
   "metadata": {
    "deletable": false,
    "editable": false,
    "nbgrader": {
     "grade": false,
     "grade_id": "cell-fd560cb3117e3c62",
     "locked": true,
     "schema_version": 3,
     "solution": false,
     "task": false
    }
   },
   "source": [
    "### Movies dataset\n",
    "In the first part of the exercise notebook, we'll be working with data about movies. We have data about Oscar nominees from 1928 to 2003 in the folder `data/oscars` and data about movies from IMDB in the file `data/imdb_top_1000.csv`. We'll also use the files `data/gross_top_200.csv` and `data/budget_top_500.csv` with movie revenue and budget data."
   ]
  },
  {
   "cell_type": "markdown",
   "id": "c6b2b87c",
   "metadata": {
    "deletable": false,
    "editable": false,
    "nbgrader": {
     "grade": false,
     "grade_id": "cell-a23783765364606a",
     "locked": true,
     "schema_version": 3,
     "solution": false,
     "task": false
    }
   },
   "source": [
    "## Exercise 1 - Read the Oscars data\n",
    "\n",
    "Complete the function `read_nominees` which should:\n",
    "- read all the Oscar nominees files from the year 1960 onwards from the provided path, `data/oscars` folder\n",
    "- combine all the information into one dataframe called `nominees`\n",
    "- drop the `ceremony` column\n",
    "- remove the missing values\n",
    "- return the resulting dataframe `nominees`.\n",
    "\n",
    "You can use the provided helper function `read_year` which reads one file given the path and the file name."
   ]
  },
  {
   "cell_type": "code",
   "execution_count": null,
   "id": "e539f29e",
   "metadata": {
    "deletable": false,
    "nbgrader": {
     "grade": false,
     "grade_id": "cell-e16abeb47fc4ea37",
     "locked": false,
     "schema_version": 3,
     "solution": true,
     "task": false
    }
   },
   "outputs": [],
   "source": [
    "def read_year(folder_path, file_name):\n",
    "    path = os.path.join(folder_path, file_name)\n",
    "    return pd.read_csv(path, index_col = 0)\n",
    "\n",
    "def read_nominees(folder_path):\n",
    "    # YOUR CODE HERE\n",
    "    raise NotImplementedError()\n",
    "    return nominees\n",
    "\n",
    "nominees = read_nominees(os.path.join('data', 'oscars'))"
   ]
  },
  {
   "cell_type": "code",
   "execution_count": null,
   "id": "6d5b3ffb",
   "metadata": {
    "deletable": false,
    "editable": false,
    "nbgrader": {
     "grade": true,
     "grade_id": "cell-2656708135a5a5e4",
     "locked": true,
     "points": 2,
     "schema_version": 3,
     "solution": false,
     "task": false
    }
   },
   "outputs": [],
   "source": [
    "assert isinstance(nominees, pd.DataFrame), 'The result should be a dataframe.'\n",
    "assert nominees.shape == (7116,6), 'The shape of nominees is not correct.'\n",
    "assert nominees['year_ceremony'].min() == 1960, 'Files from 1960 should be included.'\n",
    "assert nominees['year_ceremony'].max() == 2023, 'Files from 1960 should be included.'\n",
    "assert nominees.isna().sum().sum() == 0, 'Did you drop the missing values?'"
   ]
  },
  {
   "cell_type": "markdown",
   "id": "31920670",
   "metadata": {
    "deletable": false,
    "editable": false,
    "nbgrader": {
     "grade": false,
     "grade_id": "cell-3383047fa18f453e",
     "locked": true,
     "schema_version": 3,
     "solution": false,
     "task": false
    }
   },
   "source": [
    "## Exercise 2 - Read the IMDB Ratings data\n",
    "\n",
    "Complete the function `read_ratings` which should:\n",
    "- read data from a file like `data/imdb_top_1000.csv`\n",
    "- drop the `director`, `star1`, `star2`, `star3`, and `star4` columns\n",
    "- convert the `runtime` column to integer\n",
    "- remove the lines with no `metascore` info\n",
    "- return the resulting dataframe `top_rated`."
   ]
  },
  {
   "cell_type": "code",
   "execution_count": null,
   "id": "d0f86c9d",
   "metadata": {
    "deletable": false,
    "nbgrader": {
     "grade": false,
     "grade_id": "cell-e228c2d82463c6b4",
     "locked": false,
     "schema_version": 3,
     "solution": true,
     "task": false
    }
   },
   "outputs": [],
   "source": [
    "def read_ratings(file_path): \n",
    "    # YOUR CODE HERE\n",
    "    raise NotImplementedError()\n",
    "    return top_rated\n",
    "\n",
    "top_rated = read_ratings(os.path.join('data','imdb_top_1000.csv'))"
   ]
  },
  {
   "cell_type": "code",
   "execution_count": null,
   "id": "52e0b5f0",
   "metadata": {
    "deletable": false,
    "editable": false,
    "nbgrader": {
     "grade": true,
     "grade_id": "cell-3d21007e725ab889",
     "locked": true,
     "points": 2,
     "schema_version": 3,
     "solution": false,
     "task": false
    }
   },
   "outputs": [],
   "source": [
    "assert isinstance(top_rated, pd.DataFrame), 'The function should return a dataframe.'\n",
    "assert top_rated.shape == (843, 5), 'The shape of the top_rated is not correct.'\n",
    "assert set(top_rated.columns) == set(['film', 'metascore', 'no_votes', 'rating', 'runtime']), 'The column names are not correct.'\n",
    "assert pd.api.types.is_integer_dtype(top_rated.runtime), 'The runtime column should be an integer.'\n",
    "assert top_rated.runtime.min() == 64, 'The runtime column is not correct.'\n",
    "assert top_rated.runtime.max() == 321, 'The runtime column is not correct.'\n",
    "assert top_rated.metascore.isna().sum() == 0, 'Did you remove the na values?'"
   ]
  },
  {
   "cell_type": "markdown",
   "id": "04d6c904",
   "metadata": {
    "deletable": false,
    "editable": false,
    "nbgrader": {
     "grade": false,
     "grade_id": "cell-2ae195e6dd100fc5",
     "locked": true,
     "schema_version": 3,
     "solution": false,
     "task": false
    }
   },
   "source": [
    "## Exercise 3 - Combine Oscars and Ratings data\n",
    "\n",
    "Combine the `nominees` and `top_rated` dataframes into a single dataset called `best_rated_nominees` using an inner join."
   ]
  },
  {
   "cell_type": "code",
   "execution_count": null,
   "id": "61a56101",
   "metadata": {
    "deletable": false,
    "nbgrader": {
     "grade": false,
     "grade_id": "cell-a65f1464b4525a8b",
     "locked": false,
     "schema_version": 3,
     "solution": true,
     "task": false
    }
   },
   "outputs": [],
   "source": [
    "# best_rated_nominees = ...\n",
    "# YOUR CODE HERE\n",
    "raise NotImplementedError()"
   ]
  },
  {
   "cell_type": "code",
   "execution_count": null,
   "id": "26483891",
   "metadata": {
    "deletable": false,
    "editable": false,
    "nbgrader": {
     "grade": true,
     "grade_id": "cell-ac9aef3d5251e36c",
     "locked": true,
     "points": 1,
     "schema_version": 3,
     "solution": false,
     "task": false
    }
   },
   "outputs": [],
   "source": [
    "assert best_rated_nominees.shape == (1919, 10), 'The shape of the resulting dataframe is not correct.'\n",
    "assert set(best_rated_nominees.columns) == set(['year_film', 'year_ceremony', 'category', 'name', 'film', 'winner',\n",
    "       'runtime', 'rating', 'metascore', 'no_votes']), 'The columns of the resulting dataframe are not correct.'"
   ]
  },
  {
   "cell_type": "markdown",
   "id": "71271ecf",
   "metadata": {
    "deletable": false,
    "editable": false,
    "nbgrader": {
     "grade": false,
     "grade_id": "cell-1fd4cd11d5139889",
     "locked": true,
     "schema_version": 3,
     "solution": false,
     "task": false
    }
   },
   "source": [
    "## Exercise 4 - Read top grossing and budget film data\n",
    "\n",
    "We will read the two remaining pieces of data, the files `gross_top_200.csv` and `budget_top_500.csv`. Complete the two functions below.\n",
    "\n",
    "The function `read_gross` should:\n",
    "- read the provided file, like `data/gross_top_200.csv`\n",
    "- remove the `year` column\n",
    "- convert the `gross` column to integer\n",
    "- return the resulting dataframe `top_grossing`.\n",
    "\n",
    "The function `read_budget` should:\n",
    "- read the provided file, like `data/budget_top_500.csv`\n",
    "- drop the `runtime`, `theaters`, and `year` columns\n",
    "- convert the `budget_rank` column to integer\n",
    "- return the resulting dataframe `top_budget`.\n",
    "\n",
    "Try to use method chaining."
   ]
  },
  {
   "cell_type": "code",
   "execution_count": null,
   "id": "cb533fb6",
   "metadata": {
    "deletable": false,
    "nbgrader": {
     "grade": false,
     "grade_id": "cell-503e208490ff38e0",
     "locked": false,
     "schema_version": 3,
     "solution": true,
     "task": false
    }
   },
   "outputs": [],
   "source": [
    "def read_gross(file_path):\n",
    "    # top_grossing: pd.DataFrame = ...\n",
    "    # YOUR CODE HERE\n",
    "    raise NotImplementedError()\n",
    "    return top_grossing\n",
    "\n",
    "def read_budget(file_path):\n",
    "    # YOUR CODE HERE\n",
    "    raise NotImplementedError()\n",
    "    return top_budget\n",
    "\n",
    "top_grossing = read_gross('data/gross_top_200.csv')\n",
    "top_budget = read_budget('data/budget_top_500.csv')"
   ]
  },
  {
   "cell_type": "code",
   "execution_count": null,
   "id": "11f60f07",
   "metadata": {
    "deletable": false,
    "editable": false,
    "nbgrader": {
     "grade": true,
     "grade_id": "cell-b8389314995f18ea",
     "locked": true,
     "points": 2,
     "schema_version": 3,
     "solution": false,
     "task": false
    }
   },
   "outputs": [],
   "source": [
    "assert top_grossing.shape == (200, 3), 'The shape of the top_grossing dataframe is not correct.'\n",
    "assert set(top_grossing.columns) == set(['gross_rank', 'film', 'gross']), 'The column names in top_grossing are not correct.'\n",
    "assert pd.api.types.is_integer_dtype(top_grossing.gross), 'The gross column should be an integer.'\n",
    "assert top_budget.shape == (500, 3), 'The shape of the top_budget dataframe are not correct.'\n",
    "assert set(top_budget.columns) == set(['budget_rank', 'film', 'production_cost']), 'The column names in the top_budget are not correct.'\n",
    "assert pd.api.types.is_integer_dtype(top_budget.budget_rank), 'The budget_rank column should be an integer.'"
   ]
  },
  {
   "cell_type": "markdown",
   "id": "839081fe",
   "metadata": {
    "deletable": false,
    "editable": false,
    "nbgrader": {
     "grade": false,
     "grade_id": "cell-c16e4e26e68cd019",
     "locked": true,
     "schema_version": 3,
     "solution": false,
     "task": false
    }
   },
   "source": [
    "## Exercise 5 - Combine the top grossing and budget films\n",
    "\n",
    "Combine the `top_grossing` and `top_budget` dataframes into a single dataset called `top_grossing_budget` using an inner join."
   ]
  },
  {
   "cell_type": "code",
   "execution_count": null,
   "id": "dfae5297",
   "metadata": {
    "deletable": false,
    "nbgrader": {
     "grade": false,
     "grade_id": "cell-08d9a086cc5646cf",
     "locked": false,
     "schema_version": 3,
     "solution": true,
     "task": false
    }
   },
   "outputs": [],
   "source": [
    "# top_grossing_budget = \n",
    "# YOUR CODE HERE\n",
    "raise NotImplementedError()"
   ]
  },
  {
   "cell_type": "code",
   "execution_count": null,
   "id": "7184d4cd",
   "metadata": {
    "deletable": false,
    "editable": false,
    "nbgrader": {
     "grade": true,
     "grade_id": "cell-4d9f103dfffd311b",
     "locked": true,
     "points": 1,
     "schema_version": 3,
     "solution": false,
     "task": false
    }
   },
   "outputs": [],
   "source": [
    "assert top_grossing_budget.shape == (129, 5), 'The shape of the resulting dataframe is not correct.'\n",
    "assert set(top_grossing_budget.columns) == set(['budget_rank', 'film', 'production_cost',\n",
    "                                                'gross_rank', 'gross']), 'The column names are not correct.'"
   ]
  },
  {
   "cell_type": "markdown",
   "id": "6cddd282",
   "metadata": {
    "deletable": false,
    "editable": false,
    "nbgrader": {
     "grade": false,
     "grade_id": "cell-ab79800d6e447f1e",
     "locked": true,
     "schema_version": 3,
     "solution": false,
     "task": false
    }
   },
   "source": [
    "## Exercise 6 - Combine everything\n",
    "\n",
    "Combine the `best_rated_nominees` and `top_grossing_budget` dataframes into one dataframe called `top_films` using an inner join."
   ]
  },
  {
   "cell_type": "code",
   "execution_count": null,
   "id": "6a4eee72",
   "metadata": {
    "deletable": false,
    "nbgrader": {
     "grade": false,
     "grade_id": "cell-ce1f05022e8cd63a",
     "locked": false,
     "schema_version": 3,
     "solution": true,
     "task": false
    }
   },
   "outputs": [],
   "source": [
    "# top_films = ...\n",
    "# YOUR CODE HERE\n",
    "raise NotImplementedError()"
   ]
  },
  {
   "cell_type": "code",
   "execution_count": null,
   "id": "55c7dc60",
   "metadata": {
    "deletable": false,
    "editable": false,
    "nbgrader": {
     "grade": true,
     "grade_id": "cell-ce29fa3aec1c244e",
     "locked": true,
     "points": 2,
     "schema_version": 3,
     "solution": false,
     "task": false
    }
   },
   "outputs": [],
   "source": [
    "assert top_films.shape == (184, 14), 'The shape of the resulting dataframe is not correct.'\n",
    "assert set(top_films.columns) == set(['year_film', 'year_ceremony', 'category', 'name', 'film', 'winner',\n",
    "       'runtime', 'rating', 'metascore', 'no_votes', 'budget_rank',\n",
    "       'production_cost', 'gross_rank', 'gross']), 'The columns of the resulting dataframes are not correct.'"
   ]
  },
  {
   "cell_type": "markdown",
   "id": "d73c7125",
   "metadata": {
    "deletable": false,
    "editable": false,
    "nbgrader": {
     "grade": false,
     "grade_id": "cell-4407d9518b0d6e2e",
     "locked": true,
     "schema_version": 3,
     "solution": false,
     "task": false
    }
   },
   "source": [
    "## Exercise 7 - Final transformations\n",
    "\n",
    "We will perform some final transformations on the `top_films` dataframe. You need to implement three functions for that.\n",
    "\n",
    "The function `transform_winner` should transform the `winner` column of the given dataframe into integer, then return the dataframe.\n",
    "\n",
    "The function `create_rating_rank` should create a new column `rating_rank` in the given dataframe. The `rating_rank` should be the rank of the rating (i.e. the rating values are ordered in ascending order and the rank is the order in which they appear). The values should be integers and the lowest rank should be 1.\n",
    "\n",
    "The function `preprocess_data` should:\n",
    "- use pandas pipes\n",
    "- take the given dataframe\n",
    "- transform the `winner` column to integer using the `transform_winner` function\n",
    "- filter out rows with films that appear less than 10 times in the given dataframe\n",
    "- keep only the columns `film`, `runtime`, `category`, `rating`, `metascore`, `no_votes`, `winner`, `production_cost`, `budget_rank`, `gross`, `gross_rank` in the given dataframe\n",
    "- create the `rating_rank` column using the `create_rating_rank` function\n",
    "- sort the resulting dataframe by `rating` in ascending order\n",
    "- return the dataframe"
   ]
  },
  {
   "cell_type": "code",
   "execution_count": null,
   "id": "1d5094ff",
   "metadata": {
    "deletable": false,
    "nbgrader": {
     "grade": false,
     "grade_id": "cell-1c1ab0d912e615ca",
     "locked": false,
     "schema_version": 3,
     "solution": true,
     "task": false
    }
   },
   "outputs": [],
   "source": [
    "def transform_winner(df):\n",
    "    df_ = df.copy()\n",
    "    # df_ = ...\n",
    "    # YOUR CODE HERE\n",
    "    raise NotImplementedError()\n",
    "    return df_\n",
    "\n",
    "def create_rating_rank(df):\n",
    "    df_ = df.copy()\n",
    "    # df_['rating_rank'] = \n",
    "    # YOUR CODE HERE\n",
    "    raise NotImplementedError()\n",
    "    return df_\n",
    "\n",
    "def preprocess_data(df):\n",
    "    # YOUR CODE HERE\n",
    "    raise NotImplementedError()\n",
    "    return df\n",
    "\n",
    "top_films_preprocessed = preprocess_data(top_films)"
   ]
  },
  {
   "cell_type": "code",
   "execution_count": null,
   "id": "ee21e1d5",
   "metadata": {
    "deletable": false,
    "editable": false,
    "nbgrader": {
     "grade": true,
     "grade_id": "cell-9d9c75c48e4eaf63",
     "locked": true,
     "points": 2,
     "schema_version": 3,
     "solution": false,
     "task": false
    }
   },
   "outputs": [],
   "source": [
    "assert top_films_preprocessed.shape == (59, 12), 'The shape of the resulting dataframe is not correct.'\n",
    "assert set(top_films_preprocessed.columns) == {'category', 'film', 'runtime', 'rating', 'metascore', 'no_votes',\n",
    "       'budget_rank', 'production_cost', 'gross_rank', 'gross', 'rating_rank','winner'}, \\\n",
    "       'The columns of the resulting dataframe are not correct.'\n",
    "assert hashlib.sha256(json.dumps(list(top_films_preprocessed.film.to_numpy())).encode()).hexdigest() == \\\n",
    "'9cc9972180ded18502e377320d6671cb7f58b4795052a60480f8c92f8eb37e1a', 'The content of the resulting datframe is not correct.'\n",
    "assert pd.api.types.is_integer_dtype(top_films_preprocessed.rating_rank), 'The rating_rank should be an integer.'\n",
    "assert hashlib.sha256(json.dumps(''.join([str(i) for i in top_films_preprocessed.film.to_numpy()])).encode()\n",
    " ).hexdigest() == '78e339e414421abca749fc1f3bce8cdeb7f7001e4a71cbf2c868a67d8e1f8fe7', \\\n",
    "'The rating_rank column is not correct.'"
   ]
  },
  {
   "cell_type": "markdown",
   "id": "fc4918d1",
   "metadata": {
    "deletable": false,
    "editable": false,
    "nbgrader": {
     "grade": false,
     "grade_id": "cell-4557c57da6142038",
     "locked": true,
     "schema_version": 3,
     "solution": false,
     "task": false
    }
   },
   "source": [
    "### The house prices dataset\n",
    "\n",
    "In the following exercises we will use a dataset with characteristics of houses and their selling price. These are the column names and their meaning.\n",
    "\n",
    "* LotFrontage: Linear feet of street connected to property\n",
    "* LotArea: Lot size in square feet\n",
    "* OverallQual: Rates the overall material and finish of the house   \n",
    "  (10 - Very Excellent, 9 - Excellent, 8 - Very Good, 7 - Good, 6 - Above Average, 5 - Average, 4 - Below Average, 3 - Fair, 2 - Poor, 1 - Very Poor)\n",
    "  \n",
    "* OverallCond: Rates the overall condition of the house   \n",
    "  (10 - Very Excellent, 9 - Excellent, 8 - Very Good, 7 - Good, 6 - Above Average, 5 - Average, 4 - Below Average, 3 - Fair, 2 - Poor, 1 - Very Poor)\n",
    "  \n",
    "* MasVnrArea: Masonry veneer area in square feet\n",
    "* BsmtFinSF1: Type 1 finished square feet\n",
    "* BsmtUnfSF: Unfinished square feet of basement area\n",
    "* TotalBsmtSF: Total square feet of basement area\n",
    "* 1stFlrSF: First Floor square feet\n",
    "* 2ndFlrSF: Second floor square feet\n",
    "* LowQualFinSF: Low quality finished square feet (all floors)\n",
    "* GrLivArea: Above grade (ground) living area square feet\n",
    "* BsmtFullBath: Basement full bathrooms\n",
    "* BsmtHalfBath: Basement half bathrooms\n",
    "* FullBath: Full bathrooms above grade\n",
    "* HalfBath: Half baths above grade\n",
    "* BedroomAbvGr: Bedrooms above grade (does NOT include basement bedrooms)\n",
    "* KitchenAbvGr: Kitchens above grade\n",
    "* TotRmsAbvGrd: Total rooms above grade (does not include bathrooms)\n",
    "* Fireplaces: Number of fireplaces\n",
    "* GarageCars: Size of garage in car capacity\n",
    "* GarageArea: Size of garage in square feet\n",
    "* WoodDeckSF: Wood deck area in square feet\n",
    "* OpenPorchSF: Open porch area in square feet\n",
    "* EnclosedPorch: Enclosed porch area in square feet\n",
    "* 3SsnPorch: Three season porch area in square feet\n",
    "* ScreenPorch: Screen porch area in square feet\n",
    "* PoolArea: Pool area in square feet\n",
    "* MiscVal: $Value of miscellaneous feature \n",
    "* SellingDate: Date when the house was sold\n",
    "* BuildingDate: Date when the house was built\n",
    "* RemodAddDate: Remodel date (same as construction date if no remodeling or additions)\n",
    "* SalePrice: The house price at the selling date (our target variable)"
   ]
  },
  {
   "cell_type": "markdown",
   "id": "0efd8c63",
   "metadata": {
    "deletable": false,
    "editable": false,
    "nbgrader": {
     "grade": false,
     "grade_id": "cell-2f274d778f5887e9",
     "locked": true,
     "schema_version": 3,
     "solution": false,
     "task": false
    }
   },
   "source": [
    "Let's read the csv and create the train-test-split."
   ]
  },
  {
   "cell_type": "code",
   "execution_count": null,
   "id": "049fd662",
   "metadata": {
    "deletable": false,
    "editable": false,
    "nbgrader": {
     "grade": false,
     "grade_id": "cell-7582e93ac7adb85f",
     "locked": true,
     "schema_version": 3,
     "solution": false,
     "task": false
    }
   },
   "outputs": [],
   "source": [
    "def read_house_price_dataset():\n",
    "    return pd.read_csv('data/housePrices.csv', \n",
    "                       parse_dates=['SellingDate', 'BuildingDate', 'RemodAddDate'],\n",
    "                       date_format=\"%Y-%d-%m\")\n",
    "\n",
    "house_price_dataset = read_house_price_dataset()\n",
    "house_price_dataset_train, house_price_dataset_test = train_test_split(house_price_dataset, random_state=0)\n",
    "X_train = house_price_dataset_train.drop(columns='SalePrice')\n",
    "y_train = house_price_dataset_train.SalePrice\n",
    "X_test = house_price_dataset_test.drop(columns='SalePrice')\n",
    "y_test = house_price_dataset_test.SalePrice"
   ]
  },
  {
   "cell_type": "markdown",
   "id": "c7fa1fe4",
   "metadata": {
    "deletable": false,
    "editable": false,
    "nbgrader": {
     "grade": false,
     "grade_id": "cell-425695b0c9d45ae9",
     "locked": true,
     "schema_version": 3,
     "solution": false,
     "task": false
    }
   },
   "source": [
    "## Exercise 8 - Build a function transformer\n",
    "One thing that influences the house price at selling date is the time since the house was built or remodeled. We're going to create new features with this information.\n",
    "\n",
    "The house price dataset contains three date columns - the `SellingDate`, the `BuildingDate`, and the `RemodAddDate`. Create a tranformer that calculates the difference in days between a reference column and any other given datetime columns. The new features should be integers.\n",
    "\n",
    "We're going to take the easy way here and use the `FunctionTransformer`. First define a function called `dif_days` that\n",
    "- takes three arguments - the dataframe, the name of the reference column, and a list of other datetime columns\n",
    "- calculates the difference in days between the dates in the reference column and the other datetime columns\n",
    "- the new features should be stored in columns with the same name appended with `_dif_days`\n",
    "- drops the datetime columns (not the reference column)\n",
    "- returns the transformed dataframe\n",
    "\n",
    "Then, use the `FunctionTransformer` and the `dif_days` function to define a transformer called `dif_days_transformer`.\n",
    "\n",
    "Hint: use [.dt](https://pandas.pydata.org/pandas-docs/stable/user_guide/basics.html#dt-accessor) to find datetime properties."
   ]
  },
  {
   "cell_type": "code",
   "execution_count": null,
   "id": "47bd75b7-03e7-4d12-968b-f20487783459",
   "metadata": {
    "deletable": false,
    "nbgrader": {
     "grade": false,
     "grade_id": "cell-c953883c674f0489",
     "locked": false,
     "schema_version": 3,
     "solution": true,
     "task": false
    }
   },
   "outputs": [],
   "source": [
    "def dif_days(df='house_price_dataset', ref_col='SellingDate', time_cols=['BuildingDate', 'RemodAddDate']):\n",
    "    df_ = df.copy()\n",
    "    # YOUR CODE HERE\n",
    "    raise NotImplementedError()\n",
    "    return df_\n",
    "\n",
    "# dif_days_transformer = ...\n",
    "# YOUR CODE HERE\n",
    "raise NotImplementedError()"
   ]
  },
  {
   "cell_type": "code",
   "execution_count": null,
   "id": "d8ce4d23-413a-4658-945f-b29b037ff1b9",
   "metadata": {
    "deletable": false,
    "editable": false,
    "nbgrader": {
     "grade": true,
     "grade_id": "cell-e856c3cb8a307404",
     "locked": true,
     "points": 3,
     "schema_version": 3,
     "solution": false,
     "task": false
    }
   },
   "outputs": [],
   "source": [
    "X_train_transformed = dif_days_transformer.fit_transform(X_train)\n",
    "assert X_train_transformed.shape == (1051,31), 'The shape of the resulting dataframe is not correct.'\n",
    "assert set(X_train_transformed.columns) == {'1stFlrSF', '2ndFlrSF', '3SsnPorch', 'BedroomAbvGr', 'BsmtFullBath',\n",
    " 'BsmtHalfBath', 'BsmtUnfSF', 'BuildingDate_dif_days', 'EnclosedPorch', 'Fireplaces', 'FullBath', 'GarageArea',\n",
    " 'GarageCars', 'GrLivArea', 'HalfBath', 'KitchenAbvGr', 'LotArea', 'LotFrontage', 'LowQualFinSF', 'MasVnrArea',\n",
    " 'MiscVal', 'OpenPorchSF', 'OverallCond', 'OverallQual', 'PoolArea', 'RemodAddDate_dif_days', 'ScreenPorch',\n",
    " 'SellingDate', 'TotRmsAbvGrd', 'TotalBsmtSF', 'WoodDeckSF'}, 'The column names are not correct.'\n",
    "assert pd.api.types.is_integer_dtype(X_train_transformed.RemodAddDate_dif_days), \\\n",
    " 'The new features should be integers.'\n",
    "assert pd.api.types.is_integer_dtype(X_train_transformed.BuildingDate_dif_days), \\\n",
    " 'The new features should be integers.'\n",
    "assert hashlib.sha256(json.dumps(''.join([str(i) for i in X_train_transformed.BuildingDate_dif_days.to_numpy()])\n",
    ").encode()).hexdigest() == '1061e0ff164b38138a483dcc9d658d355ac7f94b1eb5fb079425fa521491e951',\\\n",
    "'The transformed columns are not correct.'\n",
    "assert hashlib.sha256(json.dumps(''.join([str(i) for i in X_train_transformed.RemodAddDate_dif_days.to_numpy()])\n",
    ").encode()).hexdigest() == '82aad4370b44add830240b37f38c1140c0d09879fa48b069c8e7cfe9cfa721e7',\\\n",
    "'The transformed columns are not correct.'"
   ]
  },
  {
   "cell_type": "markdown",
   "id": "f795f10f-bae7-4212-83c4-c240fb92ae57",
   "metadata": {
    "deletable": false,
    "editable": false,
    "nbgrader": {
     "grade": false,
     "grade_id": "cell-b604baf25e65b094",
     "locked": true,
     "schema_version": 3,
     "solution": false,
     "task": false
    }
   },
   "source": [
    "## Exercise 9 - Build a transformer class\n",
    "Now build the same transformer as a class. The transformer should be called `DateTransformer` and have three methods, `__init__`, `fit`, and `transform`.\n",
    "\n",
    "The `__init__` method should initialize two parameters\n",
    "- `ref_col`, a string - the name of the reference column\n",
    "- `time_cols`, a list of strings - the names of the other datetime columns\n",
    "\n",
    "The `fit` method should not do anything, just return `self`, so that we are able to call it. Make sure it takes all the required arguments.\n",
    "\n",
    "The `transform` method should\n",
    "- calculate the difference in days between the dates in the reference column and the other datetime columns\n",
    "- the new features should be stored in columns with the same name appended with `_dif_days`\n",
    "- drop the datetime columns and the reference column\n",
    "- return the transformed dataframe"
   ]
  },
  {
   "cell_type": "code",
   "execution_count": null,
   "id": "43b78c45",
   "metadata": {
    "deletable": false,
    "nbgrader": {
     "grade": false,
     "grade_id": "cell-d9538038181ba578",
     "locked": false,
     "schema_version": 3,
     "solution": true,
     "task": false
    }
   },
   "outputs": [],
   "source": [
    "class DateTransformer(TransformerMixin, BaseEstimator):\n",
    "    # YOUR CODE HERE\n",
    "    raise NotImplementedError()"
   ]
  },
  {
   "cell_type": "code",
   "execution_count": null,
   "id": "bab1d26c",
   "metadata": {
    "deletable": false,
    "editable": false,
    "nbgrader": {
     "grade": true,
     "grade_id": "cell-b64b26753ecd8561",
     "locked": true,
     "points": 3,
     "schema_version": 3,
     "solution": false,
     "task": false
    }
   },
   "outputs": [],
   "source": [
    "X_train_transformed_2 = DateTransformer(time_cols=['BuildingDate', 'RemodAddDate'], ref_col='SellingDate'\n",
    "                                     ).fit_transform(X_train)\n",
    "assert X_train_transformed_2.shape == (1051,30), 'The shape of the resulting dataframe is not correct.'\n",
    "assert set(X_train_transformed_2.columns) == {'1stFlrSF', '2ndFlrSF', '3SsnPorch', 'BedroomAbvGr', 'BsmtFullBath',\n",
    " 'BsmtHalfBath', 'BsmtUnfSF', 'BuildingDate_dif_days', 'EnclosedPorch', 'Fireplaces', 'FullBath', 'GarageArea',\n",
    " 'GarageCars', 'GrLivArea', 'HalfBath', 'KitchenAbvGr', 'LotArea', 'LotFrontage', 'LowQualFinSF', 'MasVnrArea',\n",
    " 'MiscVal', 'OpenPorchSF', 'OverallCond', 'OverallQual', 'PoolArea', 'RemodAddDate_dif_days', 'ScreenPorch',\n",
    " 'TotRmsAbvGrd', 'TotalBsmtSF', 'WoodDeckSF'}, 'The column names are not correct.'\n",
    "assert pd.api.types.is_integer_dtype(X_train_transformed_2.RemodAddDate_dif_days), \\\n",
    " 'The new features should be integers.'\n",
    "assert pd.api.types.is_integer_dtype(X_train_transformed_2.BuildingDate_dif_days), \\\n",
    " 'The new features should be integers.'\n",
    "assert hashlib.sha256(json.dumps(''.join([str(i) for i in X_train_transformed_2.BuildingDate_dif_days.to_numpy()])\n",
    ").encode()).hexdigest() == '1061e0ff164b38138a483dcc9d658d355ac7f94b1eb5fb079425fa521491e951',\\\n",
    "'The transformed columns are not correct.'\n",
    "assert hashlib.sha256(json.dumps(''.join([str(i) for i in X_train_transformed_2.RemodAddDate_dif_days.to_numpy()])\n",
    ").encode()).hexdigest() == '82aad4370b44add830240b37f38c1140c0d09879fa48b069c8e7cfe9cfa721e7',\\\n",
    "'The transformed columns are not correct.'"
   ]
  },
  {
   "cell_type": "markdown",
   "id": "714780de",
   "metadata": {
    "deletable": false,
    "editable": false,
    "nbgrader": {
     "grade": false,
     "grade_id": "cell-46fe8c71f80d2717",
     "locked": true,
     "schema_version": 3,
     "solution": false,
     "task": false
    }
   },
   "source": [
    "## Exercise 10 - Build the pipeline\n",
    "\n",
    "Finally, we want to use our new transformer in a pipeline. Build a pipeline called `house_price_pipeline` with three steps\n",
    "- step 1 called `date_converter` using the `DateTransformer` which transforms the `BuildingDate` and `RemodAddDate` columns with reference to the `SellingDate` column\n",
    "- step 2 called `robust_scaler` using the sklearn `RobustScaler`\n",
    "- step 3 called `model` using the sklearn `LinearRegression`."
   ]
  },
  {
   "cell_type": "code",
   "execution_count": null,
   "id": "ec0afe11",
   "metadata": {
    "deletable": false,
    "nbgrader": {
     "grade": false,
     "grade_id": "cell-6bc09de5e71383d3",
     "locked": false,
     "schema_version": 3,
     "solution": true,
     "task": false
    }
   },
   "outputs": [],
   "source": [
    "# house_price_pipeline =\n",
    "# YOUR CODE HERE\n",
    "raise NotImplementedError()"
   ]
  },
  {
   "cell_type": "code",
   "execution_count": null,
   "id": "01715551",
   "metadata": {
    "deletable": false,
    "editable": false,
    "nbgrader": {
     "grade": true,
     "grade_id": "cell-5d21dcdd34a13d24",
     "locked": true,
     "points": 2,
     "schema_version": 3,
     "solution": false,
     "task": false
    }
   },
   "outputs": [],
   "source": [
    "house_price_pipeline.fit(X_train, y_train)\n",
    "y_pred = house_price_pipeline.predict(X_test)\n",
    "\n",
    "assert isinstance(house_price_pipeline,Pipeline), 'Did you define the pipeline correctly?'\n",
    "assert list(house_price_pipeline.named_steps.keys())==['date_converter', 'robust_scaler', 'model']\n",
    "assert isinstance(house_price_pipeline.named_steps['date_converter'],DateTransformer), 'The date_converter step is not correct.'\n",
    "assert house_price_pipeline.named_steps['date_converter'].get_params()['ref_col'] == 'SellingDate', \\\n",
    " 'The parameters of the DateTransformer are not correct.'\n",
    "assert set(house_price_pipeline.named_steps['date_converter'].get_params()['time_cols']\n",
    "          ) == {'BuildingDate', 'RemodAddDate'}, 'The parameters of the DateTransformer are not correct.'\n",
    "assert isinstance(house_price_pipeline.named_steps['robust_scaler'],RobustScaler), 'The robust_scaler step is not correct.'\n",
    "assert isinstance(house_price_pipeline.named_steps['model'],LinearRegression), 'The model step is not correct.'\n",
    "assert house_price_pipeline.named_steps['model'].coef_.shape == (30,), 'Wrong number of coefficients. Did you select the features correctly?'"
   ]
  },
  {
   "cell_type": "markdown",
   "id": "4c3facfa",
   "metadata": {
    "deletable": false,
    "editable": false,
    "nbgrader": {
     "grade": false,
     "grade_id": "cell-57f2ca220627e218",
     "locked": true,
     "schema_version": 3,
     "solution": false,
     "task": false
    }
   },
   "source": [
    "Exercises complete, congratulations! You are about to become a certified data wrangler."
   ]
  }
 ],
 "metadata": {
  "kernelspec": {
   "display_name": "Python 3 (ipykernel)",
   "language": "python",
   "name": "python3"
  },
  "language_info": {
   "codemirror_mode": {
    "name": "ipython",
    "version": 3
   },
   "file_extension": ".py",
   "mimetype": "text/x-python",
   "name": "python",
   "nbconvert_exporter": "python",
   "pygments_lexer": "ipython3",
   "version": "3.12.12"
  },
  "widgets": {
   "application/vnd.jupyter.widget-state+json": {
    "state": {},
    "version_major": 2,
    "version_minor": 0
   }
  }
 },
 "nbformat": 4,
 "nbformat_minor": 5
}
