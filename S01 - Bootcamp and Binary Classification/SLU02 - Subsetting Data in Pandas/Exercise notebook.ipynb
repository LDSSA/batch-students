{
 "cells": [
  {
   "cell_type": "markdown",
   "metadata": {
    "deletable": false,
    "editable": false,
    "nbgrader": {
     "grade": false,
     "grade_id": "cell-63aee61ad7c5ad78",
     "locked": true,
     "schema_version": 3,
     "solution": false
    }
   },
   "source": [
    "# SLU02 - Subsetting data in pandas: Exercise notebook\n",
    "\n",
    "In this notebook you'll practice the concepts you've learned in the learning and examples notebooks:\n",
    "\n",
    "    - Setting pandas Dataframe index\n",
    "    - Selecting columns with brackets notation\n",
    "    - Selecting columns with dot notation\n",
    "    - Selecting rows with loc \n",
    "    - Selecting rows with iloc\n",
    "    - Multi-axis indexing\n",
    "    - Masks\n",
    "    - Subsetting on conditions\n",
    "    - Removing and adding columns\n",
    "\n",
    "In each exercise, you'll be asked to implement a function.\n",
    "\n",
    "Let's dive right in."
   ]
  },
  {
   "cell_type": "code",
   "execution_count": null,
   "metadata": {
    "deletable": false,
    "editable": false,
    "nbgrader": {
     "grade": false,
     "grade_id": "cell-2ffbef28a1ff41fd",
     "locked": true,
     "schema_version": 3,
     "solution": false,
     "task": false
    }
   },
   "outputs": [],
   "source": [
    "import pandas as pd\n",
    "import numpy as np\n",
    "import math\n",
    "import hashlib\n",
    "import json\n",
    "from utils import draw_base_puzzle, draw_final_puzzle"
   ]
  },
  {
   "cell_type": "markdown",
   "metadata": {
    "deletable": false,
    "editable": false,
    "nbgrader": {
     "grade": false,
     "grade_id": "cell-2abe3e9af0e58174",
     "locked": true,
     "schema_version": 3,
     "solution": false,
     "task": false
    }
   },
   "source": [
    "As you can seee, it's a pretty simple one. You will be given 10 clues to fill each of the columns and extract the horizontal words in blue. \n",
    "\n",
    "## Kaggle Competition\n",
    "\n",
    "As an aspiring data scientist you are eager to apply your new skills and you decide to participate in a Kaggle competition. However, this competition has a twist: you must prove to have the minimum skills to enter it by completing a first data science based challenge. Easy, right?\n",
    "\n",
    "<img src=\"media/kaggle_in_kaggle.png\" alt=\"kaggle_in_kaggle\" width=\"40%\"/>\n",
    "\n",
    "So you dive right into it. The assignment is the following: you must successfully complete a crossword puzzle where a set of hints requires you to extract information from the provided dataset. After completing all the words, you'll see the secret keyphrase (marked in blue) that will unlock the competition for you.\n",
    "\n",
    "Load the puzzle below."
   ]
  },
  {
   "cell_type": "code",
   "execution_count": null,
   "metadata": {
    "deletable": false,
    "editable": false,
    "nbgrader": {
     "grade": false,
     "grade_id": "cell-4bf30b944e77dc42",
     "locked": true,
     "schema_version": 3,
     "solution": false,
     "task": false
    }
   },
   "outputs": [],
   "source": [
    "draw_base_puzzle()"
   ]
  },
  {
   "cell_type": "markdown",
   "metadata": {
    "deletable": false,
    "editable": false,
    "nbgrader": {
     "grade": false,
     "grade_id": "cell-1a286e2bf2384001",
     "locked": true,
     "schema_version": 3,
     "solution": false,
     "task": false
    }
   },
   "source": [
    "But before that, start by loading the dataset from which you will extract the clues for the puzzle. It's the San Francisco Plant Finder dataset containing plant species suitable for planting in the SF area."
   ]
  },
  {
   "cell_type": "code",
   "execution_count": null,
   "metadata": {
    "deletable": false,
    "editable": false,
    "nbgrader": {
     "grade": false,
     "grade_id": "cell-d57520165dbec9fc",
     "locked": true,
     "schema_version": 3,
     "solution": false,
     "task": false
    }
   },
   "outputs": [],
   "source": [
    "df = pd.read_csv('data/San_Francisco_Plant_Finder_Data.csv').convert_dtypes()\n",
    "df.head()"
   ]
  },
  {
   "cell_type": "markdown",
   "metadata": {
    "deletable": false,
    "editable": false,
    "nbgrader": {
     "grade": false,
     "grade_id": "cell-c4fc286960a67c7f",
     "locked": true,
     "schema_version": 3,
     "solution": false
    }
   },
   "source": [
    "Note that you should use this original dataset as input in every exercise.\n",
    "\n",
    "Now let's dive into the clues! "
   ]
  },
  {
   "cell_type": "markdown",
   "metadata": {
    "deletable": false,
    "editable": false,
    "nbgrader": {
     "grade": false,
     "grade_id": "cell-606f32b71e4e6e9c",
     "locked": true,
     "schema_version": 3,
     "solution": false,
     "task": false
    }
   },
   "source": [
    "### Clue 1 - Highest value in plant communities\n",
    "\n",
    "The first clue asks for the highest value of the column `Plant_Communities`, so we need to sort \n",
    "the dataframe by this column in descending order (using its natural order) and get the first value. \n",
    "\n",
    "To solve this, implement a function to change the index to the desired column and sort it in descending order.\n",
    "\n",
    "Keep in mind that we don't want to discard the original index (which automatically got the name `index`) as it may be useful in the long run."
   ]
  },
  {
   "cell_type": "code",
   "execution_count": null,
   "metadata": {
    "deletable": false,
    "nbgrader": {
     "grade": false,
     "grade_id": "cell-50a7b7d8467787f5",
     "locked": false,
     "schema_version": 3,
     "solution": true,
     "task": false
    }
   },
   "outputs": [],
   "source": [
    "def change_and_sort_index(df, column):\n",
    "    \"\"\" \n",
    "    Change the dataframe index to the desired column avoiding repeated columns.\n",
    "    Then sort the index in descending order.\n",
    "    \n",
    "    Args:\n",
    "        df (pd.DataFrame): the input DataFrame\n",
    "        column: column name to use as index\n",
    "\n",
    "    Returns:p\n",
    "        (pd.DataFrame): resulting Dataframe\n",
    "\n",
    "    \"\"\"\n",
    "    \n",
    "    # YOUR CODE HERE\n",
    "    raise NotImplementedError()"
   ]
  },
  {
   "cell_type": "code",
   "execution_count": null,
   "metadata": {
    "deletable": false,
    "editable": false,
    "nbgrader": {
     "grade": true,
     "grade_id": "cell-cb46eb6097c81225",
     "locked": true,
     "points": 2,
     "schema_version": 3,
     "solution": false,
     "task": false
    }
   },
   "outputs": [],
   "source": [
    "plant_dataset = pd.read_csv('data/San_Francisco_Plant_Finder_Data.csv').convert_dtypes()\n",
    "new_dataset = change_and_sort_index(plant_dataset, \"Plant_Communities\")\n",
    "\n",
    "assert isinstance(new_dataset, pd.DataFrame), 'The function should return a dataframe.'\n",
    "assert new_dataset.shape == plant_dataset.shape, 'The shape of the resulting dataset is not correct.'\n",
    "assert new_dataset.index.name == \"Plant_Communities\", 'The index column is not set correctly.'\n",
    "assert hashlib.sha256(json.dumps(list(new_dataset.Latin_Name.array)).encode()).hexdigest() == \\\n",
    "'5ac16a83d0457892cd4d06da41359279da700498564cb845eb170b049a28d552'\n",
    ", 'The dataset is not sorted correctly.'\n",
    "assert 'index' in list(new_dataset.columns), 'Did you remove the old index?'\n",
    "print('Well done!')"
   ]
  },
  {
   "cell_type": "markdown",
   "metadata": {
    "deletable": false,
    "editable": false,
    "nbgrader": {
     "grade": false,
     "grade_id": "cell-4492daa7621a1e1d",
     "locked": true,
     "schema_version": 3,
     "solution": false,
     "task": false
    }
   },
   "source": [
    "You can now use the function you built to get the first clue:"
   ]
  },
  {
   "cell_type": "code",
   "execution_count": null,
   "metadata": {
    "deletable": false,
    "editable": false,
    "nbgrader": {
     "grade": false,
     "grade_id": "cell-379c408238283e33",
     "locked": true,
     "schema_version": 3,
     "solution": false,
     "task": false
    }
   },
   "outputs": [],
   "source": [
    "clue_dataset = change_and_sort_index(plant_dataset, \"Plant_Communities\")\n",
    "\n",
    "first_clue = clue_dataset.index[0]\n",
    "\n",
    "first_clue"
   ]
  },
  {
   "cell_type": "markdown",
   "metadata": {
    "deletable": false,
    "editable": false,
    "nbgrader": {
     "grade": false,
     "grade_id": "cell-1dc0734066ab2665",
     "locked": true,
     "schema_version": 3,
     "solution": false
    }
   },
   "source": [
    "### Clue 2 - Top habitat value for plants blooming in spring and summer\n",
    "\n",
    "You now want to find the most common `Habitat_Value` for the subset of our data where the `Bloom_Time` equals `Spring,Summer`. To do this, you need a function to select rows by index values. \n",
    "\n",
    "Implement this function to select rows by index values below."
   ]
  },
  {
   "cell_type": "code",
   "execution_count": null,
   "metadata": {
    "deletable": false,
    "nbgrader": {
     "grade": false,
     "grade_id": "cell-57af11e10f075e06",
     "locked": false,
     "schema_version": 3,
     "solution": true,
     "task": false
    }
   },
   "outputs": [],
   "source": [
    "def select_rows_from_index(df, ids):\n",
    "    \"\"\" \n",
    "    Select the desired rows from the given dataframe\n",
    "    by the given index values.\n",
    "    \n",
    "    Args:\n",
    "        df (pd.DataFrame): the input DataFrame\n",
    "        ids: list with the desired index values to retrieve\n",
    "\n",
    "    Returns:\n",
    "        (pd.DataFrame): subsetted Dataframe\n",
    "\n",
    "    \"\"\"    \n",
    "    \n",
    "    # YOUR CODE HERE\n",
    "    raise NotImplementedError()"
   ]
  },
  {
   "cell_type": "code",
   "execution_count": null,
   "metadata": {
    "deletable": false,
    "editable": false,
    "nbgrader": {
     "grade": true,
     "grade_id": "cell-a7d44ab05e9b8d31",
     "locked": true,
     "points": 2,
     "schema_version": 3,
     "solution": false,
     "task": false
    }
   },
   "outputs": [],
   "source": [
    "plant_dataset = pd.read_csv('data/San_Francisco_Plant_Finder_Data.csv').convert_dtypes()\n",
    "indexed_dataset = change_and_sort_index(plant_dataset, \"Bloom_Time\")\n",
    "desired_bloom_time = ['Winter', 'Summer,Fall']\n",
    "filtered_dataset = select_rows_from_index(indexed_dataset, desired_bloom_time)\n",
    "\n",
    "assert isinstance(filtered_dataset, pd.DataFrame), 'The function should return a dataframe.'\n",
    "assert filtered_dataset.shape == (69,19), 'The shape of the resulting dataset is not correct.'\n",
    "assert list(filtered_dataset.index.unique()) == desired_bloom_time, 'The bloom time is not correct.'\n",
    "assert hashlib.sha256(json.dumps(list(filtered_dataset.Latin_Name.array)).encode()).hexdigest() == \\\n",
    "'4b389d9f0a453b7699fd2bc50befbc22519d4a32ed71b626c1cd86c5081f56a1', 'The dataset is not sorted correctly.'\n",
    "print('Well done!')"
   ]
  },
  {
   "cell_type": "markdown",
   "metadata": {
    "deletable": false,
    "editable": false,
    "nbgrader": {
     "grade": false,
     "grade_id": "cell-75feccdfd5ba8e33",
     "locked": true,
     "schema_version": 3,
     "solution": false,
     "task": false
    }
   },
   "source": [
    "Now get the second clue:"
   ]
  },
  {
   "cell_type": "code",
   "execution_count": null,
   "metadata": {
    "deletable": false,
    "editable": false,
    "nbgrader": {
     "grade": false,
     "grade_id": "cell-8e01b78f3078fe2a",
     "locked": true,
     "schema_version": 3,
     "solution": false,
     "task": false
    }
   },
   "outputs": [],
   "source": [
    "indexed_dataset = change_and_sort_index(plant_dataset, \"Bloom_Time\")\n",
    "clue_dataset = select_rows_from_index(indexed_dataset, ['Spring,Summer'])\n",
    "\n",
    "# When using `value_counts` the index becomes the column values and the counts are ordered from highest to lowest\n",
    "second_clue = clue_dataset.Habitat_Value.value_counts().index[0] \n",
    "\n",
    "second_clue"
   ]
  },
  {
   "cell_type": "markdown",
   "metadata": {
    "deletable": false,
    "editable": false,
    "nbgrader": {
     "grade": false,
     "grade_id": "cell-48c215d216e65fb0",
     "locked": true,
     "schema_version": 3,
     "solution": false,
     "task": false
    }
   },
   "source": [
    "### Clue 3 - The most common flower color in the last 505 rows\n",
    "\n",
    "The next clue asks to retrieve the most common flower color from a specific row range. For this purpose, build a function that takes as arguments a dataframe and an integer and retrieves the last n rows of the dataframe. Implement it below."
   ]
  },
  {
   "cell_type": "code",
   "execution_count": null,
   "metadata": {
    "deletable": false,
    "nbgrader": {
     "grade": false,
     "grade_id": "cell-8e5ea2a645f600a8",
     "locked": false,
     "schema_version": 3,
     "solution": true,
     "task": false
    }
   },
   "outputs": [],
   "source": [
    "def get_slice(df, n):\n",
    "    \"\"\" \n",
    "    Get a range of rows from the provided dataset.\n",
    "    \n",
    "    Args:\n",
    "        df (pd.DataFrame): the input DataFrame\n",
    "        start: start position for the range\n",
    "        end: end position for the range\n",
    "\n",
    "    Returns:\n",
    "        (pd.DataFrame): subsetted Dataframe\n",
    "\n",
    "    \"\"\"\n",
    "    \n",
    "    # YOUR CODE HERE\n",
    "    raise NotImplementedError()"
   ]
  },
  {
   "cell_type": "code",
   "execution_count": null,
   "metadata": {
    "deletable": false,
    "editable": false,
    "nbgrader": {
     "grade": true,
     "grade_id": "cell-710bb8203e0a0d98",
     "locked": true,
     "points": 2,
     "schema_version": 3,
     "solution": false,
     "task": false
    }
   },
   "outputs": [],
   "source": [
    "plant_dataset = pd.read_csv('data/San_Francisco_Plant_Finder_Data.csv').convert_dtypes()\n",
    "\n",
    "bottom_rows_1 = get_slice(plant_dataset, 123)\n",
    "\n",
    "assert bottom_rows_1.shape == (123,plant_dataset.shape[1]), 'The slice size is not correct.'\n",
    "assert bottom_rows_1.Latin_Name.array[0] == 'Distictis buccinatoria', 'The content of the slice is not correct.'\n",
    "\n",
    "bottom_rows_2 = get_slice(plant_dataset, 315)\n",
    "\n",
    "assert bottom_rows_2.shape == (315,plant_dataset.shape[1]), 'The slice size is not correct.'\n",
    "assert bottom_rows_2.Latin_Name.array[0] == 'Bidens aurea', 'The content of the slice is not correct.'\n",
    "print('Well done!')"
   ]
  },
  {
   "cell_type": "markdown",
   "metadata": {
    "deletable": false,
    "editable": false,
    "nbgrader": {
     "grade": false,
     "grade_id": "cell-87bfa6103cca1753",
     "locked": true,
     "schema_version": 3,
     "solution": false,
     "task": false
    }
   },
   "source": [
    "Use the function to get the third clue:"
   ]
  },
  {
   "cell_type": "code",
   "execution_count": null,
   "metadata": {
    "deletable": false,
    "editable": false,
    "nbgrader": {
     "grade": false,
     "grade_id": "cell-8e231c86a816df32",
     "locked": true,
     "schema_version": 3,
     "solution": false,
     "task": false
    }
   },
   "outputs": [],
   "source": [
    "clue_dataset = get_slice(plant_dataset, 505)\n",
    "\n",
    "# When using `value_counts` the index becomes the column values and the counts are ordered from highest to lowest\n",
    "third_clue = clue_dataset.Flower_Color.value_counts().index[0] \n",
    "\n",
    "third_clue"
   ]
  },
  {
   "cell_type": "markdown",
   "metadata": {
    "deletable": false,
    "editable": false,
    "nbgrader": {
     "grade": false,
     "grade_id": "cell-d701447375856e0d",
     "locked": true,
     "schema_version": 3,
     "solution": false,
     "task": false
    }
   },
   "source": [
    "### Clue 4 - The common name of the plant in row 203\n",
    "\n",
    "To solve this clue, create a function that retrieves values from specific rows and columns of a dataframe. Implement it below."
   ]
  },
  {
   "cell_type": "code",
   "execution_count": null,
   "metadata": {
    "deletable": false,
    "nbgrader": {
     "grade": false,
     "grade_id": "cell-2ed7fe9a6ca08475",
     "locked": false,
     "schema_version": 3,
     "solution": true,
     "task": false
    }
   },
   "outputs": [],
   "source": [
    "def dedicated_subset(df, rows, columns):\n",
    "    \"\"\" \n",
    "    Select columns and rows from dataframe.\n",
    "    \n",
    "    Args:\n",
    "        df (pd.DataFrame): the input DataFrame\n",
    "        rows: list of rows to fetch\n",
    "        columns: list of columns to fetch\n",
    "\n",
    "    Returns:\n",
    "        (pd.DataFrame): subsetted df\n",
    "\n",
    "    \"\"\"\n",
    "    \n",
    "    # YOUR CODE HERE\n",
    "    raise NotImplementedError()"
   ]
  },
  {
   "cell_type": "code",
   "execution_count": null,
   "metadata": {
    "deletable": false,
    "editable": false,
    "nbgrader": {
     "grade": true,
     "grade_id": "cell-a2c2482fab2715bd",
     "locked": true,
     "points": 2,
     "schema_version": 3,
     "solution": false,
     "task": false
    }
   },
   "outputs": [],
   "source": [
    "plant_dataset = pd.read_csv('data/San_Francisco_Plant_Finder_Data.csv').convert_dtypes()\n",
    "\n",
    "plant_subset_single = dedicated_subset(plant_dataset, [413], ['Climate_Appropriate_Plants'])\n",
    "assert plant_subset_single.shape == (1,1), 'The subset size is not correct.'\n",
    "assert plant_subset_single.Climate_Appropriate_Plants.array[0] == 'Exotic', 'The contents of the subset it not correct.'\n",
    "\n",
    "plant_subset_multiple = dedicated_subset(plant_dataset, [22, 222], ['Suitable_Site_Conditions','Soil_Type','Water_Needs'])\n",
    "assert plant_subset_multiple.shape == (2,3), 'The subset size is not correct.'\n",
    "assert plant_subset_multiple.Soil_Type.array[0] == 'Clay,Loam,Sand,Rock', 'The contents of the subset it not correct.'\n",
    "print('Well done!')"
   ]
  },
  {
   "cell_type": "markdown",
   "metadata": {
    "deletable": false,
    "editable": false,
    "nbgrader": {
     "grade": false,
     "grade_id": "cell-f172b3035c3a7c98",
     "locked": true,
     "schema_version": 3,
     "solution": false,
     "task": false
    }
   },
   "source": [
    "Use the function to get the fourth clue:"
   ]
  },
  {
   "cell_type": "code",
   "execution_count": null,
   "metadata": {
    "deletable": false,
    "editable": false,
    "nbgrader": {
     "grade": false,
     "grade_id": "cell-e5cdc6f174b11487",
     "locked": true,
     "schema_version": 3,
     "solution": false,
     "task": false
    }
   },
   "outputs": [],
   "source": [
    "clue_dataset = dedicated_subset(plant_dataset, [203], [\"Common_Name\"])\n",
    "fourth_clue = clue_dataset.values[0][0]\n",
    "\n",
    "fourth_clue"
   ]
  },
  {
   "cell_type": "markdown",
   "metadata": {
    "deletable": false,
    "editable": false,
    "nbgrader": {
     "grade": false,
     "grade_id": "cell-385f9ed29671930f",
     "locked": true,
     "schema_version": 3,
     "solution": false,
     "task": false
    }
   },
   "source": [
    "Now that you have found a couple of clues, let's check how the board looks. You should be able to see something shapin' up."
   ]
  },
  {
   "cell_type": "code",
   "execution_count": null,
   "metadata": {
    "deletable": false,
    "editable": false,
    "nbgrader": {
     "grade": false,
     "grade_id": "cell-90ceb07f695ca69b",
     "locked": true,
     "schema_version": 3,
     "solution": false,
     "task": false
    }
   },
   "outputs": [],
   "source": [
    "draw_final_puzzle([first_clue, second_clue, third_clue, fourth_clue, \"\", \"\", \"\", \"\", \"\", \"\"])"
   ]
  },
  {
   "cell_type": "markdown",
   "metadata": {
    "deletable": false,
    "editable": false,
    "nbgrader": {
     "grade": false,
     "grade_id": "cell-00df95c0fc1defe3",
     "locked": true,
     "schema_version": 3,
     "solution": false,
     "task": false
    }
   },
   "source": [
    "Uhh exciting. Dive into the next clues to fill out the rest of the puzzle!\n",
    "\n",
    "<img src=\"media/excited.gif\" alt=\"excited\" width=\"40%\"/>"
   ]
  },
  {
   "cell_type": "markdown",
   "metadata": {
    "deletable": false,
    "editable": false,
    "nbgrader": {
     "grade": false,
     "grade_id": "cell-b72e4197684c12f3",
     "locked": true,
     "schema_version": 3,
     "solution": false,
     "task": false
    }
   },
   "source": [
    "### Clues 5 and 6\n",
    "\n",
    "The next clues ask for more complex subsetting. We'll define dataset A as follows:\n",
    "\n",
    "* plants growing well in clay and loam soil ('Clay,Loam')\n",
    "* plant size between 0.5 and 10\n",
    "* they are not California native\n",
    "* they bloom in spring or summer, but not at other times of the year\n",
    "* contains only the columns 'Common_Name','Plant_Type','Flower_Color','Water_Needs'.\n",
    "\n",
    "Implement a function that obtains this dataset.\n",
    "\n",
    "Hint: Look into the function `.isin` described in the learning notebook and how it can be used to check a value against a list."
   ]
  },
  {
   "cell_type": "code",
   "execution_count": null,
   "metadata": {
    "deletable": false,
    "nbgrader": {
     "grade": false,
     "grade_id": "cell-a8cc62331e776b85",
     "locked": false,
     "schema_version": 3,
     "solution": true,
     "task": false
    }
   },
   "outputs": [],
   "source": [
    "def select_subset_A(df):\n",
    "    \"\"\" \n",
    "    Show plants that fit the following parameters:\n",
    "    \n",
    "      - plants growing well in clay and loam soil ('Clay,Loam')\n",
    "      - plant size between 0.5 and 10\n",
    "      - they are California native\n",
    "      - they bloom in spring or summer, but not at other times of the year\n",
    "      \n",
    "      Return only the columns 'Common_Name','Plant_Type','Flower_Color','Water_Needs'.\n",
    "    \n",
    "    Args:\n",
    "        df (pd.DataFrame): the input DataFrame\n",
    "\n",
    "    Returns:\n",
    "        (pd.DataFrame): subsetted df\n",
    "\n",
    "    \"\"\"\n",
    "\n",
    "    # YOUR CODE HERE\n",
    "    raise NotImplementedError()"
   ]
  },
  {
   "cell_type": "code",
   "execution_count": null,
   "metadata": {
    "deletable": false,
    "editable": false,
    "nbgrader": {
     "grade": true,
     "grade_id": "cell-97ee185b91180540",
     "locked": true,
     "points": 4,
     "schema_version": 3,
     "solution": false,
     "task": false
    }
   },
   "outputs": [],
   "source": [
    "plant_dataset = pd.read_csv('data/San_Francisco_Plant_Finder_Data.csv').convert_dtypes()\n",
    "plant_subset_A = select_subset_A(plant_dataset)\n",
    "\n",
    "assert isinstance(plant_subset_A, pd.DataFrame), 'The result is not a dataframe.'\n",
    "assert plant_subset_A.shape == (51,4), 'The shape of subset A is not correct.'\n",
    "assert plant_subset_A.columns.tolist() == ['Common_Name','Plant_Type','Flower_Color','Water_Needs'], \\\n",
    "'The columns of subset A are not correct.'\n",
    "assert hashlib.sha256(json.dumps(list(plant_subset_A.Common_Name.array)).encode()).hexdigest() == \\\n",
    "'c7a585243600ce7b9b9caba67041b4ac46a03dffe77d97f9debea40b61d2c8b3', 'The content of subset A is not correct.'\n",
    "print('Well done!')"
   ]
  },
  {
   "cell_type": "markdown",
   "metadata": {
    "deletable": false,
    "editable": false,
    "nbgrader": {
     "grade": false,
     "grade_id": "cell-e7629fa715d75113",
     "locked": true,
     "schema_version": 3,
     "solution": false,
     "task": false
    }
   },
   "source": [
    "Now look into the clues and retrieve the correct values to fill the puzzle:\n",
    "\n",
    "* Clue 5 - The plant type of the 13th element of subset A\n",
    "* Clue 6 - The flower color of the 5th element of subset A"
   ]
  },
  {
   "cell_type": "code",
   "execution_count": null,
   "metadata": {
    "deletable": false,
    "editable": false,
    "nbgrader": {
     "grade": false,
     "grade_id": "cell-6ca7ccda828e9e91",
     "locked": true,
     "schema_version": 3,
     "solution": false,
     "task": false
    }
   },
   "outputs": [],
   "source": [
    "fifth_clue = plant_subset_A.Plant_Type.array[12]\n",
    "sixth_clue = plant_subset_A.Flower_Color.array[4]\n",
    "fifth_clue, sixth_clue"
   ]
  },
  {
   "cell_type": "markdown",
   "metadata": {
    "deletable": false,
    "editable": false,
    "nbgrader": {
     "grade": false,
     "grade_id": "cell-792c5055faa009db",
     "locked": true,
     "schema_version": 3,
     "solution": false,
     "task": false
    }
   },
   "source": [
    "### Clues 7 and 8\n",
    "\n",
    "Now using the same tools, select dataset B defined as:\n",
    "\n",
    "* not a succulent\n",
    "* smaller than 4\n",
    "* blooms at any time of the year\n",
    "* is suitable for multiple site conditions\n",
    "* contains only the columns 'Latin_Name','Habitat_Value','Appropriate_Location'.\n",
    "\n",
    "Implement a function that obtains this dataset."
   ]
  },
  {
   "cell_type": "code",
   "execution_count": null,
   "metadata": {
    "deletable": false,
    "nbgrader": {
     "grade": false,
     "grade_id": "cell-b71b61b40b8dca44",
     "locked": false,
     "schema_version": 3,
     "solution": true,
     "task": false
    }
   },
   "outputs": [],
   "source": [
    "def select_subset_B(df):\n",
    "    \"\"\" \n",
    "    Show plants that fit the following parameters:\n",
    "    \n",
    "      - not a succulent\n",
    "      - smaller than 4\n",
    "      - blooms at any time of the year\n",
    "      - is suitable for multiple site conditions\n",
    "      \n",
    "      Return only columns 'Latin_Name','Habitat_Value','Appropriate_Location'.\n",
    "    \n",
    "    Args:\n",
    "        df (pd.DataFrame): the input DataFrame\n",
    "\n",
    "    Returns:\n",
    "        (pd.DataFrame): subsetted df\n",
    "\n",
    "    \"\"\"\n",
    "\n",
    "    # YOUR CODE HERE\n",
    "    raise NotImplementedError()"
   ]
  },
  {
   "cell_type": "code",
   "execution_count": null,
   "metadata": {
    "deletable": false,
    "editable": false,
    "nbgrader": {
     "grade": true,
     "grade_id": "cell-edb899ebe53259f3",
     "locked": true,
     "points": 4,
     "schema_version": 3,
     "solution": false,
     "task": false
    }
   },
   "outputs": [],
   "source": [
    "plant_dataset = pd.read_csv('data/San_Francisco_Plant_Finder_Data.csv').convert_dtypes()\n",
    "plant_subset_B = select_subset_B(plant_dataset)\n",
    "\n",
    "assert isinstance(plant_subset_B, pd.DataFrame), 'The result is not a dataframe.'\n",
    "assert plant_subset_B.shape == (280,3), 'The shape of subset B is not correct.'\n",
    "assert plant_subset_B.columns.tolist() == ['Latin_Name','Habitat_Value','Appropriate_Location'], \\\n",
    "'The columns of subset B are not correct.'\n",
    "assert hashlib.sha256(json.dumps(list(plant_subset_B.Latin_Name.array)).encode()).hexdigest() == \\\n",
    "'f93008299cd2fb5fd982cd5977bae1afb4a4c3f9346eda24e2b4d992241a8f32', 'The content of subset B is not correct.'\n",
    "print('Well done!')"
   ]
  },
  {
   "cell_type": "markdown",
   "metadata": {
    "deletable": false,
    "editable": false,
    "nbgrader": {
     "grade": false,
     "grade_id": "cell-05edfbe40cd4c955",
     "locked": true,
     "schema_version": 3,
     "solution": false,
     "task": false
    }
   },
   "source": [
    "Now look into the clues and retrieve the correct values to fill the puzzle:\n",
    "\n",
    "* Clue 7 - The latin name of the 19th element of subset B\n",
    "* Clue 8 - The appropriate location of the 38th element from the end of subset B"
   ]
  },
  {
   "cell_type": "code",
   "execution_count": null,
   "metadata": {
    "deletable": false,
    "editable": false,
    "nbgrader": {
     "grade": false,
     "grade_id": "cell-c98a6e13dabd4546",
     "locked": true,
     "schema_version": 3,
     "solution": false,
     "task": false
    }
   },
   "outputs": [],
   "source": [
    "seventh_clue = plant_subset_B.Latin_Name.array[18]\n",
    "eighth_clue = plant_subset_B.Appropriate_Location.values[-38]\n",
    "seventh_clue, eighth_clue"
   ]
  },
  {
   "cell_type": "markdown",
   "metadata": {
    "deletable": false,
    "editable": false,
    "nbgrader": {
     "grade": false,
     "grade_id": "cell-b709454afb72aea2",
     "locked": true,
     "schema_version": 3,
     "solution": false,
     "task": false
    }
   },
   "source": [
    "### Clue 9 - Plants that are not Lamiaceae\n",
    "\n",
    "Next, to select subset C, filter out all plants from the Lamiaceae family.\n",
    "\n",
    "As you probably realize, you could use simple subsetting to retrieve this dataset. However, we want you to use what you have learned regarding hiding data.\n",
    "\n",
    "Implement a function that hides the non-desired data but keeps the dataframe shape."
   ]
  },
  {
   "cell_type": "code",
   "execution_count": null,
   "metadata": {
    "deletable": false,
    "nbgrader": {
     "grade": false,
     "grade_id": "cell-dd32ace8f3921366",
     "locked": false,
     "schema_version": 3,
     "solution": true,
     "task": false
    }
   },
   "outputs": [],
   "source": [
    "def select_subset_C(df):\n",
    "    \"\"\" \n",
    "    Hide all plants from the Lamiaceae family.\n",
    "    \n",
    "    Args:\n",
    "        df (pd.DataFrame): the input DataFrame\n",
    "\n",
    "    Returns:\n",
    "        (pd.DataFrame): output DataFrame\n",
    "\n",
    "    \"\"\"\n",
    "    \n",
    "    # YOUR CODE HERE\n",
    "    raise NotImplementedError()"
   ]
  },
  {
   "cell_type": "code",
   "execution_count": null,
   "metadata": {
    "deletable": false,
    "editable": false,
    "nbgrader": {
     "grade": true,
     "grade_id": "cell-d87eef42c4baa2a2",
     "locked": true,
     "points": 2,
     "schema_version": 3,
     "solution": false,
     "task": false
    }
   },
   "outputs": [],
   "source": [
    "plant_dataset = pd.read_csv('data/San_Francisco_Plant_Finder_Data.csv').convert_dtypes()\n",
    "plant_subset_C = select_subset_C(plant_dataset)\n",
    "\n",
    "assert isinstance(plant_subset_C, pd.DataFrame), 'The result should be a dataframe.'\n",
    "assert plant_subset_C.shape == plant_dataset.shape, 'The shape of the dataframe is not correct.'\n",
    "assert (plant_subset_C.Family_Name == 'Lamiaceae').sum() == 0, 'The lamiaceae are still inside.'\n",
    "print('Well done!')"
   ]
  },
  {
   "cell_type": "markdown",
   "metadata": {
    "deletable": false,
    "editable": false,
    "nbgrader": {
     "grade": false,
     "grade_id": "cell-1003359b0128c251",
     "locked": true,
     "schema_version": 3,
     "solution": false,
     "task": false
    }
   },
   "source": [
    "Use the function to get the ninth clue:"
   ]
  },
  {
   "cell_type": "code",
   "execution_count": null,
   "metadata": {
    "deletable": false,
    "editable": false,
    "nbgrader": {
     "grade": false,
     "grade_id": "cell-47eed9ae3cec2cf9",
     "locked": true,
     "schema_version": 3,
     "solution": false,
     "task": false
    }
   },
   "outputs": [],
   "source": [
    "ninth_clue = plant_subset_C.Pruning_Needs.array[98]\n",
    "ninth_clue"
   ]
  },
  {
   "cell_type": "markdown",
   "metadata": {
    "deletable": false,
    "editable": false,
    "nbgrader": {
     "grade": false,
     "grade_id": "cell-cb2882d964fed8b4",
     "locked": true,
     "schema_version": 3,
     "solution": false,
     "task": false
    }
   },
   "source": [
    "### Clue 10 - Plants from the Crassulaceae family\n",
    "\n",
    "Finally, subset D should only contain plants from the Crassulaceae family.\n",
    "\n",
    "Again, use tools what you have learned regarding hiding data.\n",
    "\n",
    "Implement a function that shows just the desired data but keeps the dataframe shape."
   ]
  },
  {
   "cell_type": "code",
   "execution_count": null,
   "metadata": {
    "deletable": false,
    "nbgrader": {
     "grade": false,
     "grade_id": "cell-c928e9856866109b",
     "locked": false,
     "schema_version": 3,
     "solution": true,
     "task": false
    }
   },
   "outputs": [],
   "source": [
    "def select_subset_D(df):\n",
    "    \"\"\" \n",
    "    Show only plants from the Crassulaceae family.\n",
    "    \n",
    "    Args:\n",
    "        df (pd.DataFrame): the input DataFrame\n",
    "\n",
    "    Returns:\n",
    "        (pd.DataFrame): output DataFrame\n",
    "\n",
    "    \"\"\"\n",
    "    \n",
    "    # YOUR CODE HERE\n",
    "    raise NotImplementedError()"
   ]
  },
  {
   "cell_type": "code",
   "execution_count": null,
   "metadata": {
    "deletable": false,
    "editable": false,
    "nbgrader": {
     "grade": true,
     "grade_id": "cell-fa5afc2398e754bf",
     "locked": true,
     "points": 2,
     "schema_version": 3,
     "solution": false,
     "task": false
    }
   },
   "outputs": [],
   "source": [
    "plant_dataset = pd.read_csv('data/San_Francisco_Plant_Finder_Data.csv').convert_dtypes()\n",
    "plant_subset_D = select_subset_D(plant_dataset)\n",
    "\n",
    "assert isinstance(plant_subset_D, pd.DataFrame), 'The result should be a dataframe.'\n",
    "assert plant_subset_D.shape == plant_dataset.shape, 'The shape of the dataframe is not correct.'\n",
    "assert (plant_subset_D.Family_Name == 'Crassulaceae').sum() == 30, 'The Crassulaceae should be in the dataset.'\n",
    "assert (plant_subset_D.Family_Name != 'Crassulaceae').sum() == 0, \\\n",
    "'There are plants that are not Crassulaceae inside the dataset.'\n",
    "print('Well done!')"
   ]
  },
  {
   "cell_type": "markdown",
   "metadata": {
    "deletable": false,
    "editable": false,
    "nbgrader": {
     "grade": false,
     "grade_id": "cell-b0983efd645f0fd0",
     "locked": true,
     "schema_version": 3,
     "solution": false,
     "task": false
    }
   },
   "source": [
    "Now retrieve the final clue for the puzzle, the stormwater benefit of the 287th value in subset D:"
   ]
  },
  {
   "cell_type": "code",
   "execution_count": null,
   "metadata": {
    "deletable": false,
    "editable": false,
    "nbgrader": {
     "grade": false,
     "grade_id": "cell-48260f66f18dc874",
     "locked": true,
     "schema_version": 3,
     "solution": false,
     "task": false
    }
   },
   "outputs": [],
   "source": [
    "tenth_clue = plant_subset_D.Stormwater_Benefit.array[286] \n",
    "tenth_clue"
   ]
  },
  {
   "cell_type": "markdown",
   "metadata": {
    "deletable": false,
    "editable": false,
    "nbgrader": {
     "grade": false,
     "grade_id": "cell-3580fb2e7300559b",
     "locked": true,
     "schema_version": 3,
     "solution": false,
     "task": false
    }
   },
   "source": [
    "Now that you have all the clues, check the puzzle for the secret key"
   ]
  },
  {
   "cell_type": "code",
   "execution_count": null,
   "metadata": {
    "deletable": false,
    "editable": false,
    "nbgrader": {
     "grade": false,
     "grade_id": "cell-10c93c0e5e65dc8a",
     "locked": true,
     "schema_version": 3,
     "solution": false,
     "task": false
    }
   },
   "outputs": [],
   "source": [
    "draw_final_puzzle(\n",
    "    [\n",
    "        first_clue, \n",
    "        second_clue, \n",
    "        third_clue, \n",
    "        fourth_clue, \n",
    "        fifth_clue, \n",
    "        sixth_clue, \n",
    "        seventh_clue, \n",
    "        eighth_clue, \n",
    "        ninth_clue, \n",
    "        tenth_clue\n",
    "    ]\n",
    ")"
   ]
  },
  {
   "cell_type": "code",
   "execution_count": null,
   "metadata": {
    "deletable": false,
    "nbgrader": {
     "grade": false,
     "grade_id": "cell-029a11bdce1cfb7c",
     "locked": false,
     "schema_version": 3,
     "solution": true,
     "task": false
    }
   },
   "outputs": [],
   "source": [
    "# Introduce the highlighted words you see, in the following form:\n",
    "# kaggle_key = \"highlightedwords\"\n",
    "\n",
    "# YOUR CODE HERE\n",
    "raise NotImplementedError()"
   ]
  },
  {
   "cell_type": "code",
   "execution_count": null,
   "metadata": {
    "deletable": false,
    "editable": false,
    "nbgrader": {
     "grade": true,
     "grade_id": "cell-2fd6aa23728ab5d6",
     "locked": true,
     "points": 0,
     "schema_version": 3,
     "solution": false,
     "task": false
    }
   },
   "outputs": [],
   "source": [
    "assert hashlib.sha256(kaggle_key.lower().encode()).hexdigest() == '\\\n",
    "910a9c5274ba0637ca5882fdef4190e608fb05e465da46518bd7f2fe2eb6d93d'"
   ]
  },
  {
   "cell_type": "markdown",
   "metadata": {
    "deletable": false,
    "editable": false,
    "nbgrader": {
     "grade": false,
     "grade_id": "cell-48fb141a87ad9f11",
     "locked": true,
     "schema_version": 3,
     "solution": false,
     "task": false
    }
   },
   "source": [
    "Congratulations, you made it! You would now be able to enter the actual challenge and brag to all your friends about how good you are in data science 😄 \n",
    "\n",
    "<img src=\"media/excel.jpg\" alt=\"excel\" width=\"40%\"/>\n",
    "\n",
    "\n"
   ]
  }
 ],
 "metadata": {
  "kernelspec": {
   "display_name": "Python 3 (ipykernel)",
   "language": "python",
   "name": "python3"
  },
  "language_info": {
   "codemirror_mode": {
    "name": "ipython",
    "version": 3
   },
   "file_extension": ".py",
   "mimetype": "text/x-python",
   "name": "python",
   "nbconvert_exporter": "python",
   "pygments_lexer": "ipython3",
   "version": "3.12.11"
  },
  "widgets": {
   "application/vnd.jupyter.widget-state+json": {
    "state": {},
    "version_major": 2,
    "version_minor": 0
   }
  }
 },
 "nbformat": 4,
 "nbformat_minor": 4
}
