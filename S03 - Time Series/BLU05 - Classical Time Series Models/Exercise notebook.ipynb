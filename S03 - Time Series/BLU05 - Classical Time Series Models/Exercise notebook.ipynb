{
 "cells": [
  {
   "cell_type": "markdown",
   "metadata": {
    "deletable": false,
    "editable": false,
    "nbgrader": {
     "grade": false,
     "grade_id": "cell-3db1b7eb6aade580",
     "locked": true,
     "schema_version": 3,
     "solution": false
    }
   },
   "source": [
    "# BLU05  - Exercise Notebook "
   ]
  },
  {
   "cell_type": "code",
   "execution_count": null,
   "metadata": {
    "deletable": false,
    "editable": false,
    "nbgrader": {
     "grade": false,
     "grade_id": "cell-d9b262915f7cb1e5",
     "locked": true,
     "schema_version": 3,
     "solution": false
    }
   },
   "outputs": [],
   "source": [
    "import numpy as np\n",
    "import pandas as pd\n",
    "import matplotlib.pyplot as plt\n",
    "import hashlib # for grading purposes\n",
    "import json\n",
    "import utils\n",
    "\n",
    "from sklearn.metrics import mean_absolute_error, mean_squared_error\n",
    "\n",
    "from statsmodels.tsa.seasonal import seasonal_decompose\n",
    "from statsmodels.graphics.tsaplots import plot_acf, plot_pacf\n",
    "\n",
    "import pmdarima as pm\n",
    "from pmdarima.pipeline import Pipeline\n",
    "from pmdarima.preprocessing import BoxCoxEndogTransformer\n",
    "\n",
    "plt.rcParams['figure.figsize'] = (10, 4.2)"
   ]
  },
  {
   "cell_type": "markdown",
   "metadata": {
    "deletable": false,
    "editable": false,
    "nbgrader": {
     "grade": false,
     "grade_id": "cell-c9a3e566cc624451",
     "locked": true,
     "schema_version": 3,
     "solution": false
    }
   },
   "source": [
    "Let's predict CO$_2$ emissions! We will use a dataset of monthly CO$_2$ emissions from electricity production from coal in the US between 1980 to 2000. Let's get to know our data."
   ]
  },
  {
   "cell_type": "code",
   "execution_count": null,
   "metadata": {
    "deletable": false,
    "editable": false,
    "nbgrader": {
     "grade": false,
     "grade_id": "cell-15a023e1124b90c0",
     "locked": true,
     "schema_version": 3,
     "solution": false
    }
   },
   "outputs": [],
   "source": [
    "emissions = utils.load_emissions_data()"
   ]
  },
  {
   "cell_type": "code",
   "execution_count": null,
   "metadata": {
    "deletable": false,
    "editable": false,
    "nbgrader": {
     "grade": false,
     "grade_id": "cell-d451a5e011b09c6c",
     "locked": true,
     "schema_version": 3,
     "solution": false
    }
   },
   "outputs": [],
   "source": [
    "emissions_train = emissions.loc[:'1997']\n",
    "emissions_test = emissions.loc['1998':]"
   ]
  },
  {
   "cell_type": "code",
   "execution_count": null,
   "metadata": {
    "deletable": false,
    "editable": false,
    "nbgrader": {
     "grade": false,
     "grade_id": "cell-457f68a7501d804f",
     "locked": true,
     "schema_version": 3,
     "solution": false,
     "task": false
    }
   },
   "outputs": [],
   "source": [
    "emissions_train.head()"
   ]
  },
  {
   "cell_type": "code",
   "execution_count": null,
   "metadata": {
    "deletable": false,
    "editable": false,
    "nbgrader": {
     "grade": false,
     "grade_id": "cell-846a66e59e645d8e",
     "locked": true,
     "schema_version": 3,
     "solution": false
    }
   },
   "outputs": [],
   "source": [
    "emissions_train.plot();\n",
    "plt.xlabel('Time');\n",
    "plt.title('Monthly CO$_2$ emissions (10$^6$ t CO$_2$)');"
   ]
  },
  {
   "cell_type": "markdown",
   "metadata": {
    "deletable": false,
    "editable": false,
    "nbgrader": {
     "grade": false,
     "grade_id": "cell-c8e834ccf59dd20f",
     "locked": true,
     "schema_version": 3,
     "solution": false,
     "task": false
    }
   },
   "source": [
    "Yes, it's going up! It started to turn down around 2002. Still, US is one of the biggest [per capita CO$_2$ emitters](https://ourworldindata.org/grapher/co-emissions-per-capita?time=2022)."
   ]
  },
  {
   "cell_type": "markdown",
   "metadata": {
    "deletable": false,
    "editable": false,
    "nbgrader": {
     "grade": false,
     "grade_id": "cell-a342eff0c4d27f6b",
     "locked": true,
     "schema_version": 3,
     "solution": false
    }
   },
   "source": [
    "### Exercise 1 - Getting a feel for the data\n",
    "\n",
    "Answer the following two questions about the `emissions_train` data and assign a 'Yes' or 'No' answer as a string to the corresponding variable.\n",
    "\n",
    "1. Is the magnitude of the variance changing?\n",
    "\n",
    "1. Does the data have an apparent trend?\n",
    "\n",
    "Plot the data to get insights into these points. Use the tools from the learning notebook 1, such a seasonal decomposition and rolling functions with the appropriate window size."
   ]
  },
  {
   "cell_type": "code",
   "execution_count": null,
   "metadata": {
    "deletable": false,
    "nbgrader": {
     "grade": false,
     "grade_id": "cell-20ec8c1b7ca5a846",
     "locked": false,
     "schema_version": 3,
     "solution": true,
     "task": false
    }
   },
   "outputs": [],
   "source": [
    "# variance_change = \n",
    "# apparent_trend = \n",
    "\n",
    "# YOUR CODE HERE\n",
    "raise NotImplementedError()"
   ]
  },
  {
   "cell_type": "code",
   "execution_count": null,
   "metadata": {
    "deletable": false,
    "editable": false,
    "nbgrader": {
     "grade": true,
     "grade_id": "cell-d1e64704448ac7a8",
     "locked": true,
     "points": 0.5,
     "schema_version": 3,
     "solution": false,
     "task": false
    }
   },
   "outputs": [],
   "source": [
    "assert hashlib.sha256(json.dumps(variance_change.lower()+apparent_trend.lower()).encode()).hexdigest() == \\\n",
    "'6bc40923e65d6adf5992a162b11acbe2f55f4bd3f88371ff8490321714531583', 'Not correct, look at the data again.'"
   ]
  },
  {
   "cell_type": "markdown",
   "metadata": {
    "deletable": false,
    "editable": false,
    "nbgrader": {
     "grade": false,
     "grade_id": "cell-50c774b21ff04b4b",
     "locked": true,
     "schema_version": 3,
     "solution": false
    }
   },
   "source": [
    "### Exercise 2 - Preprocessing the time series\n",
    "Do the necessary operations to make the `emissions_train` time series stationary:\n",
    "- calculate the log\n",
    "- remove the trend from the logged data\n",
    "- remove the null values from the logged detrended data.\n",
    "\n",
    "Store the three resulting time series in the corresponding variables."
   ]
  },
  {
   "cell_type": "code",
   "execution_count": null,
   "metadata": {
    "deletable": false,
    "nbgrader": {
     "grade": false,
     "grade_id": "cell-4673648012938702",
     "locked": false,
     "schema_version": 3,
     "solution": true
    }
   },
   "outputs": [],
   "source": [
    "# emissions_train_log = \n",
    "# emissions_train_log_detrend = \n",
    "# emissions_train_log_detrend_without_nans =  \n",
    "\n",
    "# YOUR CODE HERE\n",
    "raise NotImplementedError()"
   ]
  },
  {
   "cell_type": "code",
   "execution_count": null,
   "metadata": {
    "deletable": false,
    "editable": false,
    "nbgrader": {
     "grade": true,
     "grade_id": "cell-37f19bfc31b2d1e0",
     "locked": true,
     "points": 2,
     "schema_version": 3,
     "solution": false
    }
   },
   "outputs": [],
   "source": [
    "assert emissions_train_log.shape == emissions_train.shape, 'The shape of the logged data is not correct.'\n",
    "assert hashlib.sha256(json.dumps(''.join([str(i) for i in np.round(emissions_train_log,2)])).encode()).hexdigest() == \\\n",
    "'f48d8359272c90ab8d6e31690ce85a0dc60914cc8f2b127a9d389441dcf0be24', 'The logged data is not correct.'\n",
    "assert emissions_train_log_detrend.shape == emissions_train.shape, 'The shape of the logged detrended data is not correct.'\n",
    "assert hashlib.sha256(json.dumps(''.join([str(i) for i in np.round(emissions_train_log_detrend,2)])).encode()).hexdigest() == \\\n",
    "'6244dd93781f92f7c81aa2e70d95a72f7ae95322d2ecbc7f1d6c2532e42e1fdd', 'The logged data is not correct.'\n",
    "assert emissions_train_log_detrend_without_nans.shape == (215,), 'Did you drop the null values?'\n",
    "assert (np.round(emissions_train_log_detrend.iloc[1:],2) == \\\n",
    " np.round(emissions_train_log_detrend_without_nans,2)).sum() == 215, 'Did you remove the null values correctly?'"
   ]
  },
  {
   "cell_type": "markdown",
   "metadata": {
    "deletable": false,
    "editable": false,
    "nbgrader": {
     "grade": false,
     "grade_id": "cell-ef1184e061dcce01",
     "locked": true,
     "schema_version": 3,
     "solution": false
    }
   },
   "source": [
    "### Exercise 3 - Looking for seasonality\n",
    "Use the autocorrelation plots to infer the seasonality of the `emissions_train` time series. Assign the answer as an integer to the variable `S`.\n",
    "\n",
    "Use the below cell to plot the autocorrelations."
   ]
  },
  {
   "cell_type": "code",
   "execution_count": null,
   "metadata": {},
   "outputs": [],
   "source": [
    "# use this cell to plot"
   ]
  },
  {
   "cell_type": "code",
   "execution_count": null,
   "metadata": {
    "deletable": false,
    "nbgrader": {
     "grade": false,
     "grade_id": "cell-b2bfb6431053bbb1",
     "locked": false,
     "schema_version": 3,
     "solution": true
    }
   },
   "outputs": [],
   "source": [
    "# S = \n",
    "\n",
    "# YOUR CODE HERE\n",
    "raise NotImplementedError()"
   ]
  },
  {
   "cell_type": "code",
   "execution_count": null,
   "metadata": {
    "deletable": false,
    "editable": false,
    "nbgrader": {
     "grade": true,
     "grade_id": "cell-31fe58e5b06199fb",
     "locked": true,
     "points": 1.5,
     "schema_version": 3,
     "solution": false
    }
   },
   "outputs": [],
   "source": [
    "assert isinstance(S, int)\n",
    "assert hashlib.sha256(json.dumps(str(S)).encode()).hexdigest() == \\\n",
    "'f9cacf3cb91a12e03bc4546834f95a50a4c5fe02276ac260148ea9296c442d39', 'Not correct, try again.'"
   ]
  },
  {
   "cell_type": "markdown",
   "metadata": {
    "deletable": false,
    "editable": false,
    "nbgrader": {
     "grade": false,
     "grade_id": "cell-a5824aabddaf7b2b",
     "locked": true,
     "schema_version": 3,
     "solution": false
    }
   },
   "source": [
    "### Exercise 4 - auto_arima\n",
    "\n",
    "Use `auto_arima` to fit a SARIMAX model to the logged data (not detrended, just logged). Define the model using the `sarimax` variable, then fit it. Use the seasonality found above. Use the `nm` method, `trace=True`, and set the maximum iterations to 20. Input the data as a numpy array."
   ]
  },
  {
   "cell_type": "code",
   "execution_count": null,
   "metadata": {
    "deletable": false,
    "nbgrader": {
     "grade": false,
     "grade_id": "cell-6312e30d5d2437ff",
     "locked": false,
     "schema_version": 3,
     "solution": true
    }
   },
   "outputs": [],
   "source": [
    "# sarimax =\n",
    "\n",
    "# YOUR CODE HERE\n",
    "raise NotImplementedError()"
   ]
  },
  {
   "cell_type": "code",
   "execution_count": null,
   "metadata": {
    "deletable": false,
    "editable": false,
    "nbgrader": {
     "grade": true,
     "grade_id": "cell-70c443f3d02f4229",
     "locked": true,
     "points": 2,
     "schema_version": 3,
     "solution": false
    }
   },
   "outputs": [],
   "source": [
    "assert hashlib.sha256(json.dumps(sarimax.get_params()).encode()).hexdigest() == \\\n",
    "'5ab0d8749ff7efe353f8767382cba362a839f73c68df6364d7d8d3d1f4b08b7c', 'The model parameters are not correct, try again.'"
   ]
  },
  {
   "cell_type": "markdown",
   "metadata": {
    "deletable": false,
    "editable": false,
    "nbgrader": {
     "grade": false,
     "grade_id": "cell-df6f0922c941bff6",
     "locked": true,
     "schema_version": 3,
     "solution": false,
     "task": false
    }
   },
   "source": [
    "### Exercise 5: In-sample predictions\n",
    "Use the fitted `sarimax` model from above to calculate in-sample predictions and store them in the `predictions` variable. Don't forget that you used a logged train set, so the predictions will also be logged.\n",
    "\n",
    "Calculate also the mean squared error of the predictions and store it in the `mse_predictions` variable."
   ]
  },
  {
   "cell_type": "code",
   "execution_count": null,
   "metadata": {
    "deletable": false,
    "nbgrader": {
     "grade": false,
     "grade_id": "cell-d322536e95c10f9b",
     "locked": false,
     "schema_version": 3,
     "solution": true,
     "task": false
    }
   },
   "outputs": [],
   "source": [
    "# predictions =\n",
    "# mse_predictions = \n",
    "\n",
    "# YOUR CODE HERE\n",
    "raise NotImplementedError()"
   ]
  },
  {
   "cell_type": "code",
   "execution_count": null,
   "metadata": {
    "deletable": false,
    "editable": false,
    "nbgrader": {
     "grade": true,
     "grade_id": "cell-b8b5a48f82f2b6a3",
     "locked": true,
     "points": 2,
     "schema_version": 3,
     "solution": false,
     "task": false
    }
   },
   "outputs": [],
   "source": [
    "assert isinstance(predictions, np.ndarray), 'The predictions should be a numpy array.'\n",
    "assert len(predictions) == 216, 'The length of the predictions is not correct.'\n",
    "assert hashlib.sha256(json.dumps(''.join([str(i) for i in np.round(predictions)])).encode()).hexdigest() == \\\n",
    "'6f73f89fc33cfee9c68373d564d526f0a970de1b33ec00d7d30a8f7208b0e92f', 'The predictions are not correct.'\n",
    "assert hashlib.sha256(json.dumps(str(np.round(mse_predictions,2))).encode()).hexdigest() == \\\n",
    "'3af18b4801edd7ce1892f3c7f725ec733f144fca68698447bd5a035580318160', 'The MSE is not correct.'"
   ]
  },
  {
   "cell_type": "markdown",
   "metadata": {
    "deletable": false,
    "editable": false,
    "nbgrader": {
     "grade": false,
     "grade_id": "cell-f7619fed12b15ab4",
     "locked": true,
     "schema_version": 3,
     "solution": false,
     "task": false
    }
   },
   "source": [
    "Let's plot your predictions (remember that the first value is off):"
   ]
  },
  {
   "cell_type": "code",
   "execution_count": null,
   "metadata": {
    "deletable": false,
    "editable": false,
    "nbgrader": {
     "grade": false,
     "grade_id": "cell-a90bb96c55f97f43",
     "locked": true,
     "schema_version": 3,
     "solution": false,
     "task": false
    }
   },
   "outputs": [],
   "source": [
    "emissions_train.plot()\n",
    "pd.Series(predictions, index=emissions_train.index).plot()\n",
    "plt.xlabel('Time')\n",
    "plt.title('Monthly CO$_2$ emissions (10$^6$ t CO$_2$)')\n",
    "plt.legend(['original','predictions'],loc=2)\n",
    "print(mse_predictions)"
   ]
  },
  {
   "cell_type": "markdown",
   "metadata": {
    "deletable": false,
    "editable": false,
    "nbgrader": {
     "grade": false,
     "grade_id": "cell-ee915637230b4e53",
     "locked": true,
     "schema_version": 3,
     "solution": false
    }
   },
   "source": [
    "### Exercise 6 - Multi-step forecast\n",
    "Use the fitted `sarimax` model from above to calculate a multi-step forecast for the test set time period (out-of-sample predictions) and store it in the `forecast` variable. Again, don't forget that the train set was logged, so the predictions will also be logged.\n",
    "\n",
    "Calculate also the mean squared error of the forecast and store it in the `mse_forecast` variable."
   ]
  },
  {
   "cell_type": "code",
   "execution_count": null,
   "metadata": {
    "deletable": false,
    "nbgrader": {
     "grade": false,
     "grade_id": "cell-893836dce142cc23",
     "locked": false,
     "schema_version": 3,
     "solution": true
    }
   },
   "outputs": [],
   "source": [
    "# forecast = \n",
    "# mse_forecast = \n",
    "\n",
    "# YOUR CODE HERE\n",
    "raise NotImplementedError()"
   ]
  },
  {
   "cell_type": "code",
   "execution_count": null,
   "metadata": {
    "deletable": false,
    "editable": false,
    "nbgrader": {
     "grade": true,
     "grade_id": "cell-a9c4b093d376d0be",
     "locked": true,
     "points": 2,
     "schema_version": 3,
     "solution": false,
     "task": false
    }
   },
   "outputs": [],
   "source": [
    "assert isinstance(forecast, np.ndarray), 'The forecast should be a numpy array.'\n",
    "assert len(forecast) == emissions_test.shape[0], 'The length of the forecast is not correct.'\n",
    "assert hashlib.sha256(json.dumps(''.join([str(i) for i in np.round(forecast,2)])).encode()).hexdigest() == \\\n",
    "'170f3d5626de3ce377535722f30ad1fc73f0116a6d65a891fc83431d97ff0564', 'The predictions are not correct.'\n",
    "assert hashlib.sha256(json.dumps(str(np.round(mse_forecast,2))).encode()).hexdigest() == \\\n",
    "'61d97b8d11fa9a12a08445fea80afe11e2dae3b2d9338e1131869adf5f54f0e1', 'The MSE is not correct.'"
   ]
  },
  {
   "cell_type": "markdown",
   "metadata": {
    "deletable": false,
    "editable": false,
    "nbgrader": {
     "grade": false,
     "grade_id": "cell-5e9b8661ee94d924",
     "locked": true,
     "schema_version": 3,
     "solution": false,
     "task": false
    }
   },
   "source": [
    "Let's look at your forecast:"
   ]
  },
  {
   "cell_type": "code",
   "execution_count": null,
   "metadata": {
    "deletable": false,
    "editable": false,
    "nbgrader": {
     "grade": false,
     "grade_id": "cell-df335e136d88c79b",
     "locked": true,
     "schema_version": 3,
     "solution": false,
     "task": false
    }
   },
   "outputs": [],
   "source": [
    "emissions_test.plot()\n",
    "pd.Series(forecast, index=emissions_test.index).plot()\n",
    "plt.xlabel('Time')\n",
    "plt.title('Monthly CO$_2$ emissions (10$^6$ t CO$_2$)')\n",
    "plt.legend(['original','forecast'],loc=2)\n",
    "print(mse_forecast)"
   ]
  },
  {
   "cell_type": "markdown",
   "metadata": {
    "deletable": false,
    "editable": false,
    "nbgrader": {
     "grade": false,
     "grade_id": "cell-e9b7350c0f7474f7",
     "locked": true,
     "schema_version": 3,
     "solution": false
    }
   },
   "source": [
    "### Exercise 7 - Refit one-step forecasts\n",
    "Calculate one-step forecasts for the whole test set using the `sarimax` model from above. Refit the model after every step using the _refit_ strategy. Store the forecast in the `sarimax_forecast_one_step_refit` numpy array. Finally, calculate the MSE and store it in the `mse_one_step_forecast_refit` variable.\n",
    "\n",
    "Don't forget that the data is logged!"
   ]
  },
  {
   "cell_type": "code",
   "execution_count": null,
   "metadata": {
    "deletable": false,
    "nbgrader": {
     "grade": false,
     "grade_id": "cell-7df87d54c98920a1",
     "locked": false,
     "schema_version": 3,
     "solution": true
    }
   },
   "outputs": [],
   "source": [
    "# sarimax_forecast_one_step_refit = \n",
    "# mse_one_step_forecast_refit = \n",
    "\n",
    "# YOUR CODE HERE\n",
    "raise NotImplementedError()"
   ]
  },
  {
   "cell_type": "code",
   "execution_count": null,
   "metadata": {
    "deletable": false,
    "editable": false,
    "nbgrader": {
     "grade": true,
     "grade_id": "cell-bb5f9d7036959ca8",
     "locked": true,
     "points": 5,
     "schema_version": 3,
     "solution": false,
     "task": false
    }
   },
   "outputs": [],
   "source": [
    "assert isinstance(sarimax_forecast_one_step_refit, np.ndarray), 'The forecast should be a numpy array.'\n",
    "assert len(sarimax_forecast_one_step_refit) == 36, 'The length of the forecast is not correct.'\n",
    "assert hashlib.sha256(json.dumps(''.join([str(i) for i in np.round(sarimax_forecast_one_step_refit)])).encode()).hexdigest() == \\\n",
    "'4d40e7a794a5513cf9df3b99a30875bd2717627d4e053db6ee27d980ec97e037', 'The forecast is not correct.'\n",
    "assert hashlib.sha256(json.dumps(str(np.round(mse_one_step_forecast_refit,2))).encode()).hexdigest() == \\\n",
    "'bcdbd2a45cf2aeb5b320e8b1bf9e8534cc016f92fa6c1e300cb49fb460a88ea1', 'The mse is not correct.'"
   ]
  },
  {
   "cell_type": "markdown",
   "metadata": {
    "deletable": false,
    "editable": false,
    "nbgrader": {
     "grade": false,
     "grade_id": "cell-108d8600ddd0a918",
     "locked": true,
     "schema_version": 3,
     "solution": false,
     "task": false
    }
   },
   "source": [
    "And this is your refit one-step forecast:"
   ]
  },
  {
   "cell_type": "code",
   "execution_count": null,
   "metadata": {
    "deletable": false,
    "editable": false,
    "nbgrader": {
     "grade": false,
     "grade_id": "cell-c763e0c9b5bf4c17",
     "locked": true,
     "schema_version": 3,
     "solution": false,
     "task": false
    }
   },
   "outputs": [],
   "source": [
    "emissions_test.plot()\n",
    "pd.Series(sarimax_forecast_one_step_refit, index=emissions_test.index).plot()\n",
    "plt.xlabel('Time')\n",
    "plt.title('Monthly CO$_2$ emissions (10$^6$ t CO$_2$)')\n",
    "plt.legend(['original','forecast'],loc=2)\n",
    "print(mse_one_step_forecast_refit)"
   ]
  },
  {
   "attachments": {},
   "cell_type": "markdown",
   "metadata": {
    "deletable": false,
    "editable": false,
    "nbgrader": {
     "grade": false,
     "grade_id": "cell-d6261c9789b85eef",
     "locked": true,
     "schema_version": 3,
     "solution": false
    }
   },
   "source": [
    "### Exercise 8 - One-step forecast with an exogenous variable\n",
    "\n",
    "Let's test the performance of our model using an exogenous input: the coal consumption in the US. The dataset below contains the coal consumption data for the same time period as our data. This means that we can use this exogenous data for doing one-step forecasts. "
   ]
  },
  {
   "cell_type": "code",
   "execution_count": null,
   "metadata": {
    "deletable": false,
    "editable": false,
    "nbgrader": {
     "grade": false,
     "grade_id": "cell-078966aeaf3c5d75",
     "locked": true,
     "schema_version": 3,
     "solution": false,
     "task": false
    }
   },
   "outputs": [],
   "source": [
    "exog = utils.load_coal_data()\n",
    "exog_train = exog[:'1997']\n",
    "exog_test = exog['1998':]"
   ]
  },
  {
   "cell_type": "markdown",
   "metadata": {
    "deletable": false,
    "editable": false,
    "nbgrader": {
     "grade": false,
     "grade_id": "cell-6d7e5b4aa47133d2",
     "locked": true,
     "schema_version": 3,
     "solution": false,
     "task": false
    }
   },
   "source": [
    "Let's look at the data to get an idea what to expect:"
   ]
  },
  {
   "cell_type": "code",
   "execution_count": null,
   "metadata": {
    "deletable": false,
    "editable": false,
    "nbgrader": {
     "grade": false,
     "grade_id": "cell-ac7a4c4170915af8",
     "locked": true,
     "schema_version": 3,
     "solution": false,
     "task": false
    }
   },
   "outputs": [],
   "source": [
    "exog_train.head()"
   ]
  },
  {
   "cell_type": "code",
   "execution_count": null,
   "metadata": {
    "deletable": false,
    "editable": false,
    "nbgrader": {
     "grade": false,
     "grade_id": "cell-c474cab10a74ac5a",
     "locked": true,
     "schema_version": 3,
     "solution": false,
     "task": false
    }
   },
   "outputs": [],
   "source": [
    "exog_train.plot()\n",
    "plt.xlabel('Time')\n",
    "plt.title('Monthly coal consumption');"
   ]
  },
  {
   "cell_type": "markdown",
   "metadata": {
    "deletable": false,
    "editable": false,
    "nbgrader": {
     "grade": false,
     "grade_id": "cell-fb223ce97c8f1109",
     "locked": true,
     "schema_version": 3,
     "solution": false,
     "task": false
    }
   },
   "source": [
    "Here we autotune another sarimax model for you, including the exogenous variable:"
   ]
  },
  {
   "cell_type": "code",
   "execution_count": null,
   "metadata": {
    "deletable": false,
    "editable": false,
    "nbgrader": {
     "grade": false,
     "grade_id": "cell-d2dbb435de4c45cf",
     "locked": true,
     "schema_version": 3,
     "solution": false,
     "task": false
    }
   },
   "outputs": [],
   "source": [
    "exog_train_log = np.log(exog_train.to_numpy())\n",
    "sarimax_exog = pm.auto_arima(emissions_train_log.to_numpy(), X=exog_train_log.reshape(-1,1),\n",
    "                             trace=True, m=S, method='nm', maxiter=20)"
   ]
  },
  {
   "cell_type": "markdown",
   "metadata": {
    "deletable": false,
    "editable": false,
    "nbgrader": {
     "grade": false,
     "grade_id": "cell-6da7c592b0e8f449",
     "locked": true,
     "schema_version": 3,
     "solution": false,
     "task": false
    }
   },
   "source": [
    "Calculate one-step forecasts for the whole test set using the `sarimax_exog` model from above with the exogenous variable (coal consumption). Refit the model after every step using the _refit_ strategy. Store the forecast in the `sarimax_forecast_one_step_refit_exog` numpy array. Finally, calculate the MSE and store it in the `mse_one_step_forecast_refit_exog` variable.\n",
    "\n",
    "Hint: input the exogenous variable as a 2D numpy array (you might need to reshape it)."
   ]
  },
  {
   "cell_type": "code",
   "execution_count": null,
   "metadata": {
    "deletable": false,
    "nbgrader": {
     "grade": false,
     "grade_id": "cell-31d0dfc073a764a7",
     "locked": false,
     "schema_version": 3,
     "solution": true
    }
   },
   "outputs": [],
   "source": [
    "# sarimax_forecast_one_step_refit_exog = \n",
    "# mse_one_step_forecast_refit_exog = \n",
    "\n",
    "# YOUR CODE HERE\n",
    "raise NotImplementedError()"
   ]
  },
  {
   "cell_type": "code",
   "execution_count": null,
   "metadata": {
    "deletable": false,
    "editable": false,
    "nbgrader": {
     "grade": true,
     "grade_id": "cell-a89774a4f207e248",
     "locked": true,
     "points": 5,
     "schema_version": 3,
     "solution": false,
     "task": false
    }
   },
   "outputs": [],
   "source": [
    "assert isinstance(sarimax_forecast_one_step_refit_exog, np.ndarray), 'The forecast should be a numpy array.'\n",
    "assert len(sarimax_forecast_one_step_refit_exog) == 36, 'The length of the forecast is not correct.'\n",
    "assert hashlib.sha256(json.dumps(''.join([str(i) for i in np.round(sarimax_forecast_one_step_refit_exog)])).encode()).hexdigest() == \\\n",
    "'64f8db1b62dff9b3c792d2f36d5de13624cc06f4fd9ebe30c98a48c7934bbce2', 'The forecast is not correct.'\n",
    "assert hashlib.sha256(json.dumps(str(np.round(mse_one_step_forecast_refit_exog,2))).encode()).hexdigest() == \\\n",
    "hashlib.sha256(json.dumps(str(np.round(mse_one_step_forecast_refit_exog,2))).encode()).hexdigest(), 'The mse is not correct.'"
   ]
  },
  {
   "cell_type": "markdown",
   "metadata": {},
   "source": [
    "Here is your one-step refit forecast with an exogenous variable:"
   ]
  },
  {
   "cell_type": "code",
   "execution_count": null,
   "metadata": {
    "deletable": false,
    "editable": false,
    "nbgrader": {
     "grade": false,
     "grade_id": "cell-f03162fd9b305d87",
     "locked": true,
     "schema_version": 3,
     "solution": false,
     "task": false
    }
   },
   "outputs": [],
   "source": [
    "emissions_test.plot()\n",
    "pd.Series(sarimax_forecast_one_step_refit_exog, index=emissions_test.index).plot()\n",
    "plt.xlabel('Time')\n",
    "plt.title('Monthly CO$_2$ emissions (10$^6$ t CO$_2$)')\n",
    "plt.legend(['original','forecast'],loc=2)\n",
    "print(mse_one_step_forecast_refit_exog)"
   ]
  },
  {
   "cell_type": "markdown",
   "metadata": {
    "deletable": false,
    "editable": false,
    "nbgrader": {
     "grade": false,
     "grade_id": "cell-28dad82f155f1d45",
     "locked": true,
     "schema_version": 3,
     "solution": false,
     "task": false
    }
   },
   "source": [
    "### Exercise 9 - Unlock the power of the WMSE (ungraded)\n",
    "So here's a little something which we didn't discuss in the learning materials: _weighted_ metrics (be it MAE, MSE, etc.)\n",
    "\n",
    "Now, let's dive into a trip of massive imagination:\n",
    "- the CO$_2$ emissions data set is respective to the _Island of Wonders_ \n",
    "- you are a travel agent selling holiday packs for this island (say what?!)\n",
    "- every month you sell the same number of packs, except for August where your sales double (summer vacation!)\n",
    "- all your clients are very picky about urban pollution and ask you for a month-ahead CO$_2$ forecast\n",
    "\n",
    "For simplicity, we will leave the \"training the model part\" out (you can still explore this on your own). But we give more weight to the August data when calculating the MSE. Take a look at the `sample_weight` parameter of the `mean_squared_error` function ([link](https://scikit-learn.org/stable/modules/generated/sklearn.metrics.mean_squared_error.html)) and try to **calculate the test MSE using the `sarimax_forecast_one_step_refit` forecast but giving 2x the importance to the August records**. Store the weighted MSE in the `wmse_double_august` variable."
   ]
  },
  {
   "cell_type": "code",
   "execution_count": null,
   "metadata": {
    "deletable": false,
    "nbgrader": {
     "grade": false,
     "grade_id": "cell-c48beed0f9e0c069",
     "locked": false,
     "schema_version": 3,
     "solution": true,
     "task": false
    }
   },
   "outputs": [],
   "source": [
    "# wmse_double_august = \n",
    "\n",
    "# YOUR CODE HERE\n",
    "raise NotImplementedError()"
   ]
  },
  {
   "cell_type": "code",
   "execution_count": null,
   "metadata": {
    "deletable": false,
    "editable": false,
    "nbgrader": {
     "grade": true,
     "grade_id": "cell-f420dc7a8b6051bc",
     "locked": true,
     "points": 0,
     "schema_version": 3,
     "solution": false,
     "task": false
    }
   },
   "outputs": [],
   "source": [
    "assert hashlib.sha256(json.dumps(str(np.round(wmse_double_august,1))).encode()).hexdigest() == \\\n",
    "'9434fcc86c4dac55af49f54e7cce45bc9f44e4795baf11e4ed75bd315400a39c', 'Not correct, try again.'"
   ]
  },
  {
   "cell_type": "markdown",
   "metadata": {
    "deletable": false,
    "editable": false,
    "nbgrader": {
     "grade": false,
     "grade_id": "cell-6e3276432301284b",
     "locked": true,
     "schema_version": 3,
     "solution": false,
     "task": false
    }
   },
   "source": [
    "Congratulations! You're ready for the final stage of the time series specialization."
   ]
  }
 ],
 "metadata": {
  "kernelspec": {
   "display_name": "Python 3 (ipykernel)",
   "language": "python",
   "name": "python3"
  },
  "language_info": {
   "codemirror_mode": {
    "name": "ipython",
    "version": 3
   },
   "file_extension": ".py",
   "mimetype": "text/x-python",
   "name": "python",
   "nbconvert_exporter": "python",
   "pygments_lexer": "ipython3",
   "version": "3.12.7"
  }
 },
 "nbformat": 4,
 "nbformat_minor": 4
}
