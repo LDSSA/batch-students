{
 "cells": [
  {
   "cell_type": "markdown",
   "metadata": {
    "deletable": false,
    "editable": false,
    "nbgrader": {
     "grade": false,
     "grade_id": "cell-b07abb410d0b03e8",
     "locked": true,
     "schema_version": 3,
     "solution": false,
     "task": false
    }
   },
   "source": [
    "\n",
    "# BLU14 - Exercise Notebook\n"
   ]
  },
  {
   "cell_type": "code",
   "execution_count": null,
   "metadata": {
    "deletable": false,
    "editable": false,
    "nbgrader": {
     "grade": false,
     "grade_id": "cell-6029358aaa125687",
     "locked": true,
     "schema_version": 3,
     "solution": false,
     "task": false
    }
   },
   "outputs": [],
   "source": [
    "import os\n",
    "import base64\n",
    "import pandas as pd\n",
    "import numpy as np\n",
    "import category_encoders\n",
    "import json\n",
    "import joblib\n",
    "import pickle\n",
    "import requests\n",
    "import seaborn as sns\n",
    "from uuid import uuid4\n",
    "from copy import deepcopy\n",
    "\n",
    "from sklearn.model_selection import train_test_split, cross_val_score\n",
    "from sklearn.pipeline import make_pipeline, Pipeline\n",
    "from category_encoders import OneHotEncoder\n",
    "from sklearn.impute import SimpleImputer\n",
    "from sklearn.preprocessing import StandardScaler, OneHotEncoder\n",
    "from sklearn.compose import ColumnTransformer\n",
    "from sklearn.ensemble import RandomForestClassifier\n",
    "from sklearn.linear_model import LogisticRegression\n",
    "from sklearn.metrics import precision_score, recall_score, f1_score, accuracy_score, roc_auc_score\n",
    "\n",
    "import matplotlib.pyplot as plt\n",
    "import matplotlib.image as mpimg\n",
    "plt.rcParams['figure.figsize']=(4.8,3.6)"
   ]
  },
  {
   "cell_type": "markdown",
   "metadata": {
    "deletable": false,
    "editable": false,
    "nbgrader": {
     "grade": false,
     "grade_id": "cell-1e4de53acc49a080",
     "locked": true,
     "schema_version": 3,
     "solution": false,
     "task": false
    }
   },
   "source": [
    "After the police, you nailed another big client. A bank hired you to assess whether or not a person is potentially a good client. For that purpose, they want you to design a system that tries to predict if a given individual earns more than 50K a year. You're no expert in the financial field, but you decide to take on the challenge. They provide you with a dataset of existing clients they have and their earnings.\n",
    "\n",
    "<img src=\"media/banks.png\" width=350 />"
   ]
  },
  {
   "cell_type": "markdown",
   "metadata": {
    "deletable": false,
    "editable": false,
    "nbgrader": {
     "grade": false,
     "grade_id": "cell-235c9ccf7adf778d",
     "locked": true,
     "schema_version": 3,
     "solution": false,
     "task": false
    }
   },
   "source": [
    "They also provide you with the following data description:\n",
    "\n",
    "    1) age - client's age\n",
    "    2) workclass - type of work performed by the client (eg. `Private`)\n",
    "    3) fnlwgt - final weight assigned by the Census Bureau: if two samples have the same (or similar) fnlwgt they have similar characteristics, demographically speaking\n",
    "    4) education - level of education of client (eg. `Bachelors`)\n",
    "    5) education-num - numerically encoded level of education\n",
    "    6) marital-status - client's marital status (eg `Widowed`)\n",
    "    7) occupation - type of job held by the client (eg. `Craft-repair`)\n",
    "    8) relationship - family position of the client\n",
    "    9) race - client's race\n",
    "    10) sex - \"male\"/\"female\"\n",
    "    11) capital-gain - total capital gain in the previous year\n",
    "    12) capital-loss - total capital loss in previous year\n",
    "    13) hours-per-week - number of hours the the client works per week\n",
    "    14) native-country - client's original nationality (eg. `Portugal`)\n",
    "\n",
    "Load the dataset below and check out its format:"
   ]
  },
  {
   "cell_type": "code",
   "execution_count": null,
   "metadata": {
    "deletable": false,
    "editable": false,
    "nbgrader": {
     "grade": false,
     "grade_id": "cell-38fc8b0a01b6c17d",
     "locked": true,
     "schema_version": 3,
     "solution": false,
     "task": false
    }
   },
   "outputs": [],
   "source": [
    "def load_data():\n",
    "    df = pd.read_csv(os.path.join(\"data\", \"bank.csv\"))\n",
    "    return df\n",
    "\n",
    "df = load_data()\n",
    "df.head()"
   ]
  },
  {
   "cell_type": "markdown",
   "metadata": {
    "deletable": false,
    "editable": false,
    "nbgrader": {
     "grade": false,
     "grade_id": "cell-b1f0716dd0e185a8",
     "locked": true,
     "schema_version": 3,
     "solution": false,
     "task": false
    }
   },
   "source": [
    "Let's split our data into train and test:"
   ]
  },
  {
   "cell_type": "code",
   "execution_count": null,
   "metadata": {
    "deletable": false,
    "editable": false,
    "nbgrader": {
     "grade": false,
     "grade_id": "cell-3079f4bf5c6b51a5",
     "locked": true,
     "schema_version": 3,
     "solution": false,
     "task": false
    }
   },
   "outputs": [],
   "source": [
    "df = load_data()\n",
    "df_train, df_test = train_test_split(df, test_size=0.3, random_state=42)\n",
    "\n",
    "df_test.salary.value_counts().plot(kind=\"bar\");\n",
    "plt.xlabel('Target value');\n",
    "plt.ylabel('Target value counts');"
   ]
  },
  {
   "cell_type": "markdown",
   "metadata": {
    "deletable": false,
    "editable": false,
    "nbgrader": {
     "grade": false,
     "grade_id": "cell-b5a701873eb4a857",
     "locked": true,
     "schema_version": 3,
     "solution": false,
     "task": false
    }
   },
   "source": [
    "## Exercise 1 - The model\n",
    "In this exercise, we prepare a model and check if it meets the client's requirements."
   ]
  },
  {
   "cell_type": "markdown",
   "metadata": {
    "deletable": false,
    "editable": false,
    "nbgrader": {
     "grade": false,
     "grade_id": "cell-c9f3b5010fff1126",
     "locked": true,
     "schema_version": 3,
     "solution": false,
     "task": false
    }
   },
   "source": [
    "### Exercise 1.1 - Train and serialize a baseline model\n",
    "\n",
    "Build a baseline model for this problem (don't worry about performance for now) and serialize it. Use the following features:\n",
    "\n",
    "    1) age \n",
    "    2) workclass - type of work performed by the client (eg. `Private`)\n",
    "    4) education - level of education of client (eg. `Bachelors`)\n",
    "    6) marital-status - client's marital status (eg `Widowed`)\n",
    "    9) race - client's race\n",
    "    10) sex - \"male\"/\"female\"\n",
    "    11) capital-gain - total capital gain in the previous year\n",
    "    12) capital-loss - total capital loss in the previous year\n",
    "    13) hours-per-week - number of hours the client works per week\n",
    "\n",
    "Make sure to change the target so that it has a binary value - True or False - instead of the original values. In particular:\n",
    "\n",
    "* False: client has as a salary of smaller or equal to 50K\n",
    "* True: client has as a salary higher than 50K\n",
    "\n",
    "Use `df_train` to train your model. The model and any preprocessing should be part of a pipeline. The pipeline should be able to receive a dataframe with the columns we've requested you to use in the form `pipeline.predict(test_df)`. If you use models or functions that have a random component, ensure that you pass a random state so that there are no surprises when you submit.\n",
    "\n",
    "Serialize the model into these variables: `columns.json`, `dtypes.pickle` and `pipeline.pickle`."
   ]
  },
  {
   "cell_type": "code",
   "execution_count": null,
   "metadata": {
    "deletable": false,
    "editable": false,
    "nbgrader": {
     "grade": false,
     "grade_id": "cell-c0f8bd2fd8a95779",
     "locked": true,
     "schema_version": 3,
     "solution": false,
     "task": false
    }
   },
   "outputs": [],
   "source": [
    "# This is a temporary directory where your serialized files will be saved. Make sure you use this as \n",
    "# the target folder when you serialize your files\n",
    "TMP_DIR = '/tmp'"
   ]
  },
  {
   "cell_type": "code",
   "execution_count": null,
   "metadata": {
    "deletable": false,
    "nbgrader": {
     "grade": false,
     "grade_id": "cell-6a8b3cf903220496",
     "locked": false,
     "schema_version": 3,
     "solution": true,
     "task": false
    }
   },
   "outputs": [],
   "source": [
    "# pipeline = ...\n",
    "\n",
    "# YOUR CODE HERE\n",
    "raise NotImplementedError()"
   ]
  },
  {
   "cell_type": "code",
   "execution_count": null,
   "metadata": {
    "deletable": false,
    "editable": false,
    "nbgrader": {
     "grade": true,
     "grade_id": "cell-02ebbb63fbd9f79a",
     "locked": true,
     "points": 2,
     "schema_version": 3,
     "solution": false,
     "task": false
    }
   },
   "outputs": [],
   "source": [
    "with open(os.path.join(TMP_DIR, 'columns.json')) as fh:\n",
    "    columns = json.load(fh)\n",
    "    assert columns == [\"age\", \"workclass\", \"education\", \"marital-status\", \"race\", \"sex\", \"capital-gain\", \"capital-loss\", \"hours-per-week\"]\n",
    "\n",
    "with open(os.path.join(TMP_DIR, 'dtypes.pickle'), 'rb') as fh:\n",
    "    dtypes = pickle.load(fh)\n",
    "    assert dtypes.apply(lambda x: str(x)).isin([\"int64\", \"int32\", \"object\"]).all()\n",
    "\n",
    "with open(os.path.join(TMP_DIR, 'pipeline.pickle'), 'rb') as fh:\n",
    "    pipeline = joblib.load(fh)\n",
    "    assert isinstance(pipeline, Pipeline)\n",
    "    assert pipeline.predict(pd.DataFrame([{\n",
    "        \"age\": 23, \n",
    "        \"workclass\": \"Private\", \n",
    "        \"education\": \"Bachelors\", \n",
    "        \"marital-status\": \"Widowed\", \n",
    "        \"race\": \"White\",\n",
    "        \"sex\": \"male\",\n",
    "        \"capital-gain\": 0, \n",
    "        \"capital-loss\": 0, \n",
    "        \"hours-per-week\": 40}\n",
    "    ], columns=columns).astype(dtypes)) in [0, 1]"
   ]
  },
  {
   "cell_type": "markdown",
   "metadata": {
    "deletable": false,
    "editable": false,
    "nbgrader": {
     "grade": false,
     "grade_id": "cell-cec5bed529e037b7",
     "locked": true,
     "schema_version": 3,
     "solution": false,
     "task": false
    }
   },
   "source": [
    "### Exercise 1.2 - Client requirements\n",
    "\n",
    "Now, the client asks you one more thing. They want to make sure your model is as good at retrieving male cases of high salary as it is retrieving female cases. \n",
    "\n",
    "For example, if we have a pool of clients where 100 male clients earn more than 50K and we retrieve 80 out of those, and where 100 female clients also earn more than 50K but we only return 20 from those, then you're discriminating and that's not ok. A similar proportion, such as 75 women out of the 100 that earn higher, is expected.\n",
    "\n",
    "Build a small function to calculate the retrieval rates of male and female clients. In particular, verify that the difference is not higher than 10%."
   ]
  },
  {
   "cell_type": "code",
   "execution_count": null,
   "metadata": {
    "deletable": false,
    "nbgrader": {
     "grade": false,
     "grade_id": "cell-0ca5bf28d4e81180",
     "locked": false,
     "schema_version": 3,
     "solution": true,
     "task": false
    }
   },
   "outputs": [],
   "source": [
    "def verify_retrieve_rates(X_test, y_true, y_test):\n",
    "    \"\"\"\n",
    "    Calculate the retrieval rates for different `sex` instances\n",
    "    and verify that they don't differ by more than 10 percentage points.\n",
    "    \n",
    "    Parameters:\n",
    "        X_test (pd.DataFrame): features for the test cases\n",
    "        y_true (pd.Series): true labels for the test cases [0, 1]\n",
    "        y_test (pd.Series): predictions for the test cases [0, 1]\n",
    "\n",
    "    Returns: tuple of (success, rate_difference)\n",
    "        success (bool): True if the condition is satisfied, otherwise False \n",
    "        rate_difference (float): difference between each class retrieval rates (as an absolute value) \n",
    "        \n",
    "    \"\"\"\n",
    "    # YOUR CODE HERE\n",
    "    raise NotImplementedError()"
   ]
  },
  {
   "cell_type": "code",
   "execution_count": null,
   "metadata": {
    "deletable": false,
    "editable": false,
    "nbgrader": {
     "grade": true,
     "grade_id": "cell-d445e07c99ff6fff",
     "locked": true,
     "points": 2,
     "schema_version": 3,
     "solution": false,
     "task": false
    }
   },
   "outputs": [],
   "source": [
    "model_1 = pd.read_csv(os.path.join('data', 'data_model_1.csv'))\n",
    "X_test = model_1.drop(columns=['target', 'prediction'])\n",
    "y_test = model_1.target\n",
    "y_pred = model_1.prediction\n",
    "\n",
    "success, rate_diff = verify_retrieve_rates(X_test, y_test, y_pred) \n",
    "assert isinstance(success,bool), 'The success variable should be a boolean.'\n",
    "assert not success, 'Not correct, did you use the correct metric?'\n",
    "np.testing.assert_almost_equal(rate_diff, 0.55, decimal=2, \n",
    "                               err_msg='Retrieval rate difference for model 1 is not correct.')\n",
    "\n",
    "model_2 = pd.read_csv(os.path.join('data', 'data_model_2.csv'))\n",
    "X_test = model_2.drop(columns=['target', 'prediction'])\n",
    "y_test = model_2.target\n",
    "y_pred = model_2.prediction\n",
    "\n",
    "success, rate_diff = verify_retrieve_rates(X_test, y_test, y_pred) \n",
    "assert isinstance(success,bool), 'The success variable should be a boolean.'\n",
    "assert success, 'Not correct, did you use the correct metric?'\n",
    "np.testing.assert_almost_equal(rate_diff, 0.05, decimal=2, \n",
    "                               err_msg='Retrieval rate difference for model 2 is not correct.')"
   ]
  },
  {
   "cell_type": "markdown",
   "metadata": {
    "deletable": false,
    "editable": false,
    "nbgrader": {
     "grade": false,
     "grade_id": "cell-46d9aa410ae452b1",
     "locked": true,
     "schema_version": 3,
     "solution": false,
     "task": false
    }
   },
   "source": [
    "<img src=\"media/client-specs.png\" width=400 />"
   ]
  },
  {
   "cell_type": "markdown",
   "metadata": {
    "deletable": false,
    "editable": false,
    "nbgrader": {
     "grade": false,
     "grade_id": "cell-94b60d056567c346",
     "locked": true,
     "schema_version": 3,
     "solution": false,
     "task": false
    }
   },
   "source": [
    "## Exercise 2 - Prepare the model to be served\n",
    "Here we'll deserialize the model from exercise 1 and prepare a prediction function for a server."
   ]
  },
  {
   "cell_type": "markdown",
   "metadata": {
    "deletable": false,
    "editable": false,
    "nbgrader": {
     "grade": false,
     "grade_id": "cell-5ba07e85ee763d50",
     "locked": true,
     "schema_version": 3,
     "solution": false,
     "task": false
    }
   },
   "source": [
    "### Exercise 2.1 - Unpickle the model\n",
    "Write a function that will unpickle all the pickled components - the column names, their dtypes, and the trained pipeline."
   ]
  },
  {
   "cell_type": "code",
   "execution_count": null,
   "metadata": {
    "deletable": false,
    "nbgrader": {
     "grade": false,
     "grade_id": "cell-41c50b60ab6b94be",
     "locked": false,
     "schema_version": 3,
     "solution": true,
     "task": false
    }
   },
   "outputs": [],
   "source": [
    "def unpickle_model(path_to_dir, file_columns, file_dtypes, file_pipeline):\n",
    "    \"\"\"\n",
    "    Unpickles model components.\n",
    "\n",
    "    Parameters:\n",
    "        path_to_dir: directory where the pickled files are stored\n",
    "        file_columns: file name where the pickled columns are stored\n",
    "        file_dtypes: file name where the pickled dtypes are stored\n",
    "        file_pipeline: file name where the pickled model is stored\n",
    "    \"\"\"\n",
    "    \n",
    "    # YOUR CODE HERE\n",
    "    raise NotImplementedError()\n",
    "    return columns, dtypes, pipeline"
   ]
  },
  {
   "cell_type": "code",
   "execution_count": null,
   "metadata": {
    "deletable": false,
    "editable": false,
    "nbgrader": {
     "grade": true,
     "grade_id": "cell-4d3757b72a975623",
     "locked": true,
     "points": 1,
     "schema_version": 3,
     "solution": false,
     "task": false
    }
   },
   "outputs": [],
   "source": [
    "columns, dtypes, pipeline = unpickle_model(TMP_DIR, 'columns.json', 'dtypes.pickle', 'pipeline.pickle')\n",
    "assert columns == [\"age\", \"workclass\", \"education\", \"marital-status\", \"race\", \"sex\", \"capital-gain\", \"capital-loss\", \"hours-per-week\"]\n",
    "assert dtypes.apply(lambda x: str(x)).isin([\"int64\", \"int32\", \"object\"]).all()\n",
    "assert isinstance(pipeline, Pipeline)\n",
    "assert pipeline.predict(pd.DataFrame([{\n",
    "        \"age\": 23, \n",
    "        \"workclass\": \"Private\", \n",
    "        \"education\": \"Bachelors\", \n",
    "        \"marital-status\": \"Widowed\", \n",
    "        \"race\": \"White\",\n",
    "        \"sex\": \"male\",\n",
    "        \"capital-gain\": 0, \n",
    "        \"capital-loss\": 0, \n",
    "        \"hours-per-week\": 40}\n",
    "    ], columns=columns).astype(dtypes)) in [0, 1]"
   ]
  },
  {
   "cell_type": "markdown",
   "metadata": {
    "deletable": false,
    "editable": false,
    "nbgrader": {
     "grade": false,
     "grade_id": "cell-cfb7784806020b1b",
     "locked": true,
     "schema_version": 3,
     "solution": false,
     "task": false
    }
   },
   "source": [
    "### Exercise 2.2 - Prediction from a request\n",
    "Now use the unpickled model and build a predict function around it that will parse a request and return the respective prediction. The prediction should be True or False. Do not worry about potential bad inputs at this point, we'll get to it later on."
   ]
  },
  {
   "cell_type": "code",
   "execution_count": null,
   "metadata": {
    "deletable": false,
    "nbgrader": {
     "grade": false,
     "grade_id": "cell-dea4d243ce970f89",
     "locked": false,
     "schema_version": 3,
     "solution": true,
     "task": false
    }
   },
   "outputs": [],
   "source": [
    "def predict(columns, dtypes, pipeline, request):\n",
    "    \"\"\"\n",
    "    Produce prediction for request.\n",
    "    \n",
    "    Parameters:\n",
    "        columns: unpickled column name for the data in the request\n",
    "        dtypes: unpickled column dtypes\n",
    "        pipeline: unpickled model pipeline\n",
    "        request: dictionary with the format described below\n",
    "        {\n",
    "            \"observation_id\": <id-as-a-string>,\n",
    "            \"data\": {\n",
    "                \"age\": <value>,\n",
    "                \"sex\": <value>,\n",
    "                \"race\": <value>,\n",
    "                \"workclass\": <value>,\n",
    "                \"education\": <value>,\n",
    "                \"marital-status\": <value>,\n",
    "                \"capital-gain\": <value>,\n",
    "                \"capital-loss\": <value>,\n",
    "                \"hours-per-week\": <value>,\n",
    "            }\n",
    "        }\n",
    "    \n",
    "    Returns:\n",
    "        response: A dictionary echoing the request and its data with the addition of the prediction and probability \n",
    "            {\n",
    "                \"observation_id\": <id-of-request>,\n",
    "                \"age\": <value-of-request>,\n",
    "                \"sex\": <value-of-request>,\n",
    "                \"race\": <value-of-request>,\n",
    "                \"workclass\": <value-of-request>,\n",
    "                \"education\": <value-of-request>,\n",
    "                \"marital-status\": <value-of-request>,\n",
    "                \"capital-gain\": <value-of-request>,\n",
    "                \"capital-loss\": <value-of-request>,\n",
    "                \"hours-per-week\": <value-of-request>,\n",
    "                \"prediction\": <True|False>,\n",
    "                \"probability\": <probability generated by model>\n",
    "            }\n",
    "    \"\"\"\n",
    "    # YOUR CODE HERE\n",
    "    raise NotImplementedError()\n",
    "    return response"
   ]
  },
  {
   "cell_type": "code",
   "execution_count": null,
   "metadata": {
    "deletable": false,
    "editable": false,
    "nbgrader": {
     "grade": true,
     "grade_id": "cell-50f083e22995d498",
     "locked": true,
     "points": 3,
     "schema_version": 3,
     "solution": false,
     "task": false
    }
   },
   "outputs": [],
   "source": [
    "request = {\n",
    "    \"observation_id\": \"1\",\n",
    "    \"data\": \n",
    "        {\n",
    "            \"age\": 30, \n",
    "            \"workclass\": \"Private\", \n",
    "            \"sex\": \"Female\", \n",
    "            \"race\": \"Amer-Indian-Eskimo\", \n",
    "            \"education\": \"Masters\", \n",
    "            \"marital-status\": \"Never-married\", \n",
    "            \"capital-gain\": 0, \n",
    "            \"capital-loss\": 0, \n",
    "            \"hours-per-week\": 45, \n",
    "        }\n",
    "}\n",
    "\n",
    "response = predict(columns, dtypes, pipeline, request)\n",
    "assert sorted(response.keys()) == \\\n",
    "    sorted([\"observation_id\", \"age\", \"sex\", \"race\", \"education\", \"marital-status\", \"workclass\",\n",
    "            \"capital-gain\", \"capital-loss\", \"hours-per-week\", \"prediction\", \"probability\"])\n",
    "\n",
    "assert response[\"observation_id\"] == \"1\"\n",
    "assert response[\"age\"] == 30\n",
    "assert response[\"hours-per-week\"] == 45\n",
    "assert response[\"prediction\"] in [True, False]\n",
    "probability_1 = response[\"probability\"] \n",
    "\n",
    "request = {\n",
    "    \"observation_id\": \"2\",\n",
    "    \"data\": \n",
    "        {\n",
    "            \"age\": 44, \n",
    "            \"workclass\": \"Private\", \n",
    "            \"sex\": \"Male\", \n",
    "            \"race\": \"White\", \n",
    "            \"education\": \"Some-college\", \n",
    "            \"marital-status\": \"Married-civ-spouse\", \n",
    "            \"capital-gain\": 0, \n",
    "            \"capital-loss\": 0, \n",
    "            \"hours-per-week\": 40, \n",
    "        }\n",
    "}\n",
    "\n",
    "response = predict(columns, dtypes, pipeline, request)\n",
    "assert sorted(response.keys()) == \\\n",
    "    sorted([\"observation_id\", \"age\", \"sex\", \"race\", \"education\", \"marital-status\", \"workclass\",\n",
    "            \"capital-gain\", \"capital-loss\", \"hours-per-week\", \"prediction\", \"probability\"])\n",
    "\n",
    "assert response[\"observation_id\"] == \"2\"\n",
    "assert response[\"education\"] == \"Some-college\"\n",
    "assert response[\"hours-per-week\"] == 40\n",
    "assert response[\"prediction\"] in [True, False]\n",
    "probability_2 = response[\"probability\"] \n",
    "assert probability_1 != probability_2"
   ]
  },
  {
   "cell_type": "markdown",
   "metadata": {
    "deletable": false,
    "editable": false,
    "nbgrader": {
     "grade": false,
     "grade_id": "cell-405026099770218f",
     "locked": true,
     "schema_version": 3,
     "solution": false,
     "task": false
    }
   },
   "source": [
    "Hurray! It passed the tests. "
   ]
  },
  {
   "cell_type": "markdown",
   "metadata": {
    "deletable": false,
    "editable": false,
    "nbgrader": {
     "grade": false,
     "grade_id": "cell-fa0b223cdd32dc35",
     "locked": true,
     "schema_version": 3,
     "solution": false,
     "task": false
    }
   },
   "source": [
    "## Exercise 3 - Protecting the server\n",
    "\n",
    "Let's be a bit more thorough with our server. To avoid issues and ensure that we have full control around what is going on, we need to reason about which values we expect to receive and in what format.\n",
    "\n",
    "<img src=\"media/darth-vader-validation.jpg\" width=400 />"
   ]
  },
  {
   "cell_type": "markdown",
   "metadata": {
    "deletable": false,
    "editable": false,
    "nbgrader": {
     "grade": false,
     "grade_id": "cell-6d3d81357637d8b9",
     "locked": true,
     "schema_version": 3,
     "solution": false,
     "task": false
    }
   },
   "source": [
    "### Exercise 3.1 - Categorical values\n",
    "\n",
    "First, we'll think about categorical values. As the name indicates, these are the values that are restricted to a set of potential choices. So logically, what we want to verify when one of these arrives at our server is that they belong to the correct categories. \n",
    "\n",
    "Create a function that returns a list of all possible values of a given categorical column in a dataframe."
   ]
  },
  {
   "cell_type": "code",
   "execution_count": null,
   "metadata": {
    "deletable": false,
    "nbgrader": {
     "grade": false,
     "grade_id": "cell-fb68f2a2c5114348",
     "locked": false,
     "schema_version": 3,
     "solution": true,
     "task": false
    }
   },
   "outputs": [],
   "source": [
    "def get_valid_categories(df, column):\n",
    "    \"\"\"\n",
    "    Obtains the list of available categories for column.\n",
    "    \n",
    "    Inputs:\n",
    "        df (pandas.DataFrame): dataframe from which to extract column values\n",
    "        column (str): categorical column for which to extract values\n",
    "    \n",
    "    Returns:\n",
    "        categories: A list of potential values for the column\n",
    "    \"\"\"\n",
    "\n",
    "    # YOUR CODE HERE\n",
    "    raise NotImplementedError()\n",
    "    return categories"
   ]
  },
  {
   "cell_type": "code",
   "execution_count": null,
   "metadata": {
    "deletable": false,
    "editable": false,
    "nbgrader": {
     "grade": true,
     "grade_id": "cell-ccd1c2b06618669a",
     "locked": true,
     "points": 1,
     "schema_version": 3,
     "solution": false,
     "task": false
    }
   },
   "outputs": [],
   "source": [
    "df = load_data()\n",
    "\n",
    "# Test dataframe categorical values\n",
    "assert get_valid_categories(df, \"sex\") == [\"Male\", \"Female\"]\n",
    "assert get_valid_categories(df, \"race\") ==  [\"White\", \"Black\", \"Asian-Pac-Islander\", \"Amer-Indian-Eskimo\", \"Other\"]\n",
    "assert len(get_valid_categories(df, \"workclass\")) == 9\n",
    "assert len(get_valid_categories(df, \"education\")) == 16\n",
    "assert len(get_valid_categories(df, \"marital-status\")) == 7\n",
    "\n",
    "# Test dataframe numerical values - notice the amount of potentially different values\n",
    "assert len(get_valid_categories(df, \"age\")) == 71\n",
    "assert len(get_valid_categories(df, \"capital-loss\")) == 83\n",
    "assert len(get_valid_categories(df, \"hours-per-week\")) == 90\n",
    "assert len(get_valid_categories(df, \"capital-gain\")) == 116"
   ]
  },
  {
   "cell_type": "markdown",
   "metadata": {
    "deletable": false,
    "editable": false,
    "nbgrader": {
     "grade": false,
     "grade_id": "cell-ae852ee3861c9cad",
     "locked": true,
     "schema_version": 3,
     "solution": false,
     "task": false
    }
   },
   "source": [
    "### Exercise 3.2 - Numerical values\n",
    "\n",
    "Now we'll look into numerical values. We cannot use the same approach as for the categorical features because we don't know all the possible values. What we can do is check if the values fall into a reasonable range."
   ]
  },
  {
   "cell_type": "markdown",
   "metadata": {
    "deletable": false,
    "editable": false,
    "nbgrader": {
     "grade": false,
     "grade_id": "cell-39ead3f22ab339de",
     "locked": true,
     "schema_version": 3,
     "solution": false,
     "task": false
    }
   },
   "source": [
    "#### Exercise 3.2.1 - Age range\n",
    "\n",
    "Which age range is the most adequate to use in this particular model?\n",
    "\n",
    "- A) -100 to 100\n",
    "- B) 0 to 100\n",
    "- C) 20 to 1000\n",
    "\n",
    "Enter your answer below as a string, for example:\n",
    "\n",
    "```\n",
    "answer_q32i = \"A\"\n",
    "```"
   ]
  },
  {
   "cell_type": "code",
   "execution_count": null,
   "metadata": {
    "deletable": false,
    "nbgrader": {
     "grade": false,
     "grade_id": "cell-181303646d6f5459",
     "locked": false,
     "schema_version": 3,
     "solution": true,
     "task": false
    }
   },
   "outputs": [],
   "source": [
    "# answer_ex_321 = 'A' or 'B' or 'C' \n",
    "\n",
    "# YOUR CODE HERE\n",
    "raise NotImplementedError()"
   ]
  },
  {
   "cell_type": "code",
   "execution_count": null,
   "metadata": {
    "deletable": false,
    "editable": false,
    "nbgrader": {
     "grade": true,
     "grade_id": "cell-a75cd03660bb8883",
     "locked": true,
     "points": 0.5,
     "schema_version": 3,
     "solution": false,
     "task": false
    }
   },
   "outputs": [],
   "source": [
    "assert base64.b64encode(answer_ex_321.encode()) == b'Qg=='"
   ]
  },
  {
   "cell_type": "markdown",
   "metadata": {
    "deletable": false,
    "editable": false,
    "nbgrader": {
     "grade": false,
     "grade_id": "cell-e3de61a69d97750e",
     "locked": true,
     "schema_version": 3,
     "solution": false,
     "task": false
    }
   },
   "source": [
    "#### Exercise 3.2.2 - Capital gain\n",
    "\n",
    "However, not all features are that obvious and have ranges we can reason about. There are some strategies to go around it. Take for example the capital gain, what do you think is most appropriate?\n",
    "\n",
    "- A) Taking the minimum and maximum of the observed values and using them as a range\n",
    "- B) Setting fixed values - eg. 0 to 10000\n",
    "- C) Leaving the range of allowed values completely free of any specification\n",
    "\n",
    "Enter your answer below as a string, for example:\n",
    "\n",
    "```\n",
    "answer_ex_322 = \"A\"\n",
    "```"
   ]
  },
  {
   "cell_type": "code",
   "execution_count": null,
   "metadata": {
    "deletable": false,
    "nbgrader": {
     "grade": false,
     "grade_id": "cell-09665c3fce6194a2",
     "locked": false,
     "schema_version": 3,
     "solution": true,
     "task": false
    }
   },
   "outputs": [],
   "source": [
    "# answer_ex_322 = 'A' or 'B' or 'C' \n",
    "\n",
    "# YOUR CODE HERE\n",
    "raise NotImplementedError()"
   ]
  },
  {
   "cell_type": "code",
   "execution_count": null,
   "metadata": {
    "deletable": false,
    "editable": false,
    "nbgrader": {
     "grade": true,
     "grade_id": "cell-8c8fa9d734f8df94",
     "locked": true,
     "points": 0.5,
     "schema_version": 3,
     "solution": false,
     "task": false
    }
   },
   "outputs": [],
   "source": [
    "assert base64.b64encode(answer_ex_322.encode()) == b'QQ=='"
   ]
  },
  {
   "cell_type": "markdown",
   "metadata": {
    "deletable": false,
    "editable": false,
    "nbgrader": {
     "grade": false,
     "grade_id": "cell-d7f1aa1eaebfd8c2",
     "locked": true,
     "schema_version": 3,
     "solution": false,
     "task": false
    }
   },
   "source": [
    "### Exercise 3.3 - Putting everything together\n",
    "\n",
    "Now put everything together. Create a predict function similar to the one from exercise 2.2  and protect it against unexpected inputs. \n",
    "\n",
    "If everything is well with your request return an answer like this:\n",
    "\n",
    "```json\n",
    "{\n",
    "    \"observation_id\": \"id1234\",\n",
    "    \"prediction\": True,\n",
    "    \"probability\": 0.4\n",
    "}\n",
    "```\n",
    "\n",
    "However, if there is a problem with the initial data, such as missing fields or invalid values, we want to return a different response:\n",
    "\n",
    "```json\n",
    "{\n",
    "    \"observation_id\": \"id1234\",\n",
    "    \"error\": \"Some error occured\",\n",
    "}\n",
    "```\n",
    "\n",
    "If the `observation_id` is not present, set it to None.\n",
    "\n",
    "Check out the tests to see what we expect from the error cases and error messages. Even though we mentioned better strategies above for values such as capital-gain and capital-loss, it's enough here to protect against what the tests show."
   ]
  },
  {
   "cell_type": "code",
   "execution_count": null,
   "metadata": {
    "deletable": false,
    "nbgrader": {
     "grade": false,
     "grade_id": "cell-ba9eb7b46c393f65",
     "locked": false,
     "schema_version": 3,
     "solution": true,
     "task": false
    }
   },
   "outputs": [],
   "source": [
    "def attempt_predict(request):\n",
    "    \"\"\"\n",
    "    Produce prediction for request.\n",
    "    \n",
    "    Inputs:\n",
    "        request: dictionary with the format described below\n",
    "        {\n",
    "            \"observation_id\": <id-as-a-string>,\n",
    "            \"data\": {\n",
    "                \"age\": <value>,\n",
    "                \"sex\": <value>,\n",
    "                \"race\": <value>,\n",
    "                \"workclass\": <value>,\n",
    "                \"education\": <value>,\n",
    "                \"marital-status\": <value>,\n",
    "                \"capital-gain\": <value>,\n",
    "                \"capital-loss\": <value>,\n",
    "                \"hours-per-week\": <value>,\n",
    "            }\n",
    "        }\n",
    "     \n",
    "    Returns: A dictionary with predictions or an error, the two potential values:\n",
    "                if the request is OK and was properly parsed and predicted:\n",
    "                {\n",
    "                    \"observation_id\": <id-of-request>,\n",
    "                    \"prediction\": <True|False>,\n",
    "                    \"probability\": <probability generated by model>\n",
    "                }\n",
    "                otherwise:\n",
    "                {\n",
    "                    \"observation_id\": <id-of-request>,\n",
    "                    \"error\": \"some error message\"\n",
    "                }\n",
    "    \"\"\"\n",
    "\n",
    "    # YOUR CODE HERE\n",
    "    raise NotImplementedError()\n",
    "    return response"
   ]
  },
  {
   "cell_type": "code",
   "execution_count": null,
   "metadata": {
    "deletable": false,
    "editable": false,
    "nbgrader": {
     "grade": true,
     "grade_id": "cell-5fdd682e3b4da185",
     "locked": true,
     "points": 3,
     "schema_version": 3,
     "solution": false,
     "task": false
    }
   },
   "outputs": [],
   "source": [
    "# Initialization code\n",
    "with open(os.path.join(TMP_DIR, 'columns.json')) as fh:\n",
    "    columns = json.load(fh)\n",
    "\n",
    "with open(os.path.join(TMP_DIR, 'dtypes.pickle'), 'rb') as fh:\n",
    "    dtypes = pickle.load(fh)\n",
    "\n",
    "with open(os.path.join(TMP_DIR, 'pipeline.pickle'), 'rb') as fh:\n",
    "    pipeline = joblib.load(fh)\n",
    "\n",
    "################################################\n",
    "# Test with good payload\n",
    "################################################\n",
    "print('Test with good payload')\n",
    "base_request = {\n",
    "    \"observation_id\": \"1\",\n",
    "    \"data\": \n",
    "        {\n",
    "            \"age\": 30, \n",
    "            \"workclass\": \"Private\", \n",
    "            \"sex\": \"Female\", \n",
    "            \"race\": \"Amer-Indian-Eskimo\", \n",
    "            \"education\": \"Masters\", \n",
    "            \"marital-status\": \"Never-married\", \n",
    "            \"capital-gain\": 0, \n",
    "            \"capital-loss\": 0, \n",
    "            \"hours-per-week\": 45, \n",
    "        }\n",
    "}\n",
    "\n",
    "response = attempt_predict(base_request)\n",
    "assert 'prediction' in response, response\n",
    "assert 'probability' in response, response\n",
    "assert 'observation_id' in response, response\n",
    "\n",
    "assert response[\"observation_id\"] == \"1\", response[\"observation_id\"]\n",
    "assert response[\"prediction\"] in [True, False], response[\"prediction\"] \n",
    "assert response[\"probability\"] <= 1.0, response[\"probability\"] \n",
    "assert response[\"probability\"] >= 0.0, response[\"probability\"] \n",
    "\n",
    "\n",
    "################################################\n",
    "# Test missing `observation_id` produces an error\n",
    "################################################\n",
    "print('Test missing `observation_id` produces an error')\n",
    "bad_request_1 = deepcopy(base_request)\n",
    "bad_request_1['random_field'] = bad_request_1.pop('observation_id')\n",
    "\n",
    "response = attempt_predict(bad_request_1)\n",
    "assert 'error' in response, response\n",
    "assert 'observation_id' in response['error'] \n",
    "\n",
    "\n",
    "################################################\n",
    "# Test missing `data` produces an error\n",
    "################################################\n",
    "print('Test missing `data` produces an error')\n",
    "bad_request_2 = deepcopy(base_request)\n",
    "bad_request_2['data_field_name'] = bad_request_2.pop('data')\n",
    "\n",
    "response = attempt_predict(bad_request_2)\n",
    "assert 'error' in response, response\n",
    "assert 'data' in response['error'] \n",
    "\n",
    "\n",
    "################################################\n",
    "# Test missing columns produce an error\n",
    "################################################\n",
    "print('Test missing columns produce an error')\n",
    "bad_request_3 = deepcopy(base_request)\n",
    "bad_request_3['data'].pop('age')\n",
    "\n",
    "response = attempt_predict(bad_request_3)\n",
    "assert 'error' in response, response\n",
    "assert 'age' in response['error'], response['error']\n",
    "\n",
    "\n",
    "################################################\n",
    "# Test extra columns produce an error\n",
    "################################################\n",
    "print('Test extra columns produce an error')\n",
    "bad_request_4 = deepcopy(base_request)\n",
    "bad_request_4['data']['relationship'] = \"Wife\"\n",
    "\n",
    "response = attempt_predict(bad_request_4)\n",
    "assert 'error' in response, response\n",
    "assert 'relationship' in response['error'], response['error']"
   ]
  },
  {
   "cell_type": "markdown",
   "metadata": {
    "deletable": false,
    "editable": false,
    "nbgrader": {
     "grade": false,
     "grade_id": "cell-f7c6084210b7712f",
     "locked": true,
     "schema_version": 3,
     "solution": false,
     "task": false
    }
   },
   "source": [
    "Run a couple more tests to make sure your server is bulletproof:"
   ]
  },
  {
   "cell_type": "code",
   "execution_count": null,
   "metadata": {
    "deletable": false,
    "editable": false,
    "nbgrader": {
     "grade": true,
     "grade_id": "cell-001653d2c8007a1a",
     "locked": true,
     "points": 3,
     "schema_version": 3,
     "solution": false,
     "task": false
    }
   },
   "outputs": [],
   "source": [
    "####################################################\n",
    "# Test invalid values for categorical features - sex\n",
    "####################################################\n",
    "print('Test invalid values for categorical features - sex')\n",
    "bad_request_5 = deepcopy(base_request)\n",
    "bad_request_5['data']['sex'] = \"Engineeer\"\n",
    "\n",
    "response = attempt_predict(bad_request_5)\n",
    "assert 'error' in response, response\n",
    "assert 'sex' in response['error'], response['error']\n",
    "assert 'Engineeer' in response['error'], response['error']\n",
    "\n",
    "\n",
    "###########################################################################\n",
    "# Test invalid values for categorical features - race\n",
    "###########################################################################\n",
    "print('Test invalid values for categorical features - race')\n",
    "bad_request_6 = deepcopy(base_request)\n",
    "bad_request_6['data']['race'] = 'Male'\n",
    "\n",
    "response = attempt_predict(bad_request_6)\n",
    "assert 'error' in response, response\n",
    "assert 'race' in response['error'], response['error']\n",
    "assert 'Male' in response['error'], response['error']\n",
    "\n",
    "\n",
    "####################################################\n",
    "# Test invalid values for numerical features - age\n",
    "####################################################\n",
    "print('Test invalid values for numerical features - age')\n",
    "bad_request_7 = deepcopy(base_request)\n",
    "bad_request_7['data']['age'] = -12\n",
    "\n",
    "response = attempt_predict(bad_request_7)\n",
    "assert 'error' in response, response\n",
    "assert 'age' in response['error'], response['error']\n",
    "assert '-12' in response['error'], response['error']\n",
    "\n",
    "bad_request_8 = deepcopy(base_request)\n",
    "bad_request_8['data']['age'] = 1200\n",
    "\n",
    "response = attempt_predict(bad_request_8)\n",
    "assert 'error' in response, response\n",
    "assert 'age' in response['error'], response['error']\n",
    "assert '1200' in response['error'], response['error']\n",
    "\n",
    "\n",
    "####################################################\n",
    "# Test invalid values for numerical features - capital gain and loss\n",
    "####################################################\n",
    "print('Test invalid values for numerical features - capital gain and loss')\n",
    "bad_request_9 = deepcopy(base_request)\n",
    "bad_request_9['data']['capital-gain'] = -10\n",
    "\n",
    "response = attempt_predict(bad_request_9)\n",
    "assert 'error' in response, response\n",
    "assert 'capital-gain' in response['error'], response['error']\n",
    "assert '-10' in response['error'], response['error']\n",
    "\n",
    "bad_request_10 = deepcopy(base_request)\n",
    "bad_request_10['data']['capital-loss'] = -500\n",
    "\n",
    "response = attempt_predict(bad_request_10)\n",
    "assert 'error' in response, response\n",
    "assert 'capital-loss' in response['error'], response['error']\n",
    "assert '-500' in response['error'], response['error']\n",
    "\n",
    "\n",
    "####################################################\n",
    "# Test invalid values for numerical features - hours per week\n",
    "####################################################\n",
    "print('Test invalid values for numerical features - hours per week')\n",
    "bad_request_11 = deepcopy(base_request)\n",
    "bad_request_11['data']['hours-per-week'] = -10\n",
    "\n",
    "response = attempt_predict(bad_request_11)\n",
    "assert 'error' in response, response\n",
    "assert 'hours-per-week' in response['error'], response['error']\n",
    "assert '-10' in response['error'], response['error']\n",
    "\n",
    "bad_request_12 = deepcopy(base_request)\n",
    "bad_request_12['data']['hours-per-week'] = 400\n",
    "\n",
    "response = attempt_predict(bad_request_12)\n",
    "assert 'error' in response, response\n",
    "assert 'hours-per-week' in response['error'], response['error']\n",
    "assert '400' in response['error'], response['error']"
   ]
  },
  {
   "cell_type": "markdown",
   "metadata": {
    "deletable": false,
    "editable": false,
    "nbgrader": {
     "grade": false,
     "grade_id": "cell-27c74c3d31a3055f",
     "locked": true,
     "schema_version": 3,
     "solution": false,
     "task": false
    }
   },
   "source": [
    "Ufff. That was tough. But now your app is a bit safer to deploy! At least from all the cases we could think of.\n",
    "\n",
    "<img src=\"media/code-passes-tests.png\" width=500 />"
   ]
  },
  {
   "cell_type": "markdown",
   "metadata": {
    "deletable": false,
    "editable": false,
    "nbgrader": {
     "grade": false,
     "grade_id": "cell-9836be673a065935",
     "locked": true,
     "schema_version": 3,
     "solution": false,
     "task": false
    }
   },
   "source": [
    "## Exercise 4 - Put everything together\n",
    "\n",
    "Finally, build a server with your model and a predict endpoint protected from all the cases as in exercise 3. Deploy it and set \n",
    "the name of your app below:"
   ]
  },
  {
   "cell_type": "code",
   "execution_count": null,
   "metadata": {
    "deletable": false,
    "nbgrader": {
     "grade": false,
     "grade_id": "cell-fd9977536ad6270d",
     "locked": false,
     "schema_version": 3,
     "solution": true,
     "task": false
    }
   },
   "outputs": [],
   "source": [
    "# Assign the variable APP_NAME to the name of your railway app\n",
    "# APP_NAME = ...\n",
    "\n",
    "# YOUR CODE HERE\n",
    "raise NotImplementedError()"
   ]
  },
  {
   "cell_type": "markdown",
   "metadata": {
    "deletable": false,
    "editable": false,
    "nbgrader": {
     "grade": false,
     "grade_id": "cell-07135d75c857276c",
     "locked": true,
     "schema_version": 3,
     "solution": false,
     "task": false
    }
   },
   "source": [
    "Test that your server is bulletproof. You can do the first testing locally, just don't forget to change the url for the remote one before submitting the notebook."
   ]
  },
  {
   "cell_type": "code",
   "execution_count": null,
   "metadata": {
    "deletable": false,
    "editable": false,
    "nbgrader": {
     "grade": true,
     "grade_id": "cell-ac0c1a590d9aba53",
     "locked": true,
     "points": 4,
     "schema_version": 3,
     "solution": false,
     "task": false
    }
   },
   "outputs": [],
   "source": [
    "# Test locally\n",
    "# url = f\"http://localhost:5000/predict\"\n",
    "\n",
    "\n",
    "# Testing the predict/update endpoint\n",
    "url = \"https://{}/predict\".format(APP_NAME)\n",
    "\n",
    "\n",
    "################################################\n",
    "# Test with good payload\n",
    "################################################\n",
    "print('Test with good payload')\n",
    "payload = {\n",
    "    \"observation_id\": str(uuid4()),\n",
    "    \"data\": \n",
    "        {\n",
    "            \"age\": 30, \n",
    "            \"workclass\": \"Private\", \n",
    "            \"sex\": \"Female\", \n",
    "            \"race\": \"Amer-Indian-Eskimo\", \n",
    "            \"education\": \"Masters\", \n",
    "            \"marital-status\": \"Never-married\", \n",
    "            \"capital-gain\": 0, \n",
    "            \"capital-loss\": 0, \n",
    "            \"hours-per-week\": 45, \n",
    "        }\n",
    "}\n",
    "\n",
    "\n",
    "r = requests.post(url, json=payload)\n",
    "assert isinstance(r, requests.Response)\n",
    "assert r.ok\n",
    "\n",
    "response = r.json()\n",
    "\n",
    "assert 'prediction' in response, response\n",
    "assert 'probability' in response, response\n",
    "\n",
    "assert response[\"prediction\"] in [True, False]\n",
    "\n",
    "assert isinstance(response[\"probability\"], float)\n",
    "assert 0 <= response[\"probability\"] <= 1\n",
    "\n",
    "\n",
    "################################################\n",
    "# Test missing `observation_id` produces an error\n",
    "################################################\n",
    "print('Test missing `observation_id` produces an error')\n",
    "bad_payload_1 = deepcopy(payload)\n",
    "bad_payload_1['random_field'] = bad_payload_1.pop('observation_id')\n",
    "\n",
    "r = requests.post(url, json=bad_payload_1)\n",
    "assert isinstance(r, requests.models.Response)\n",
    "assert r.ok\n",
    "\n",
    "response = r.json()\n",
    "\n",
    "assert 'error' in response, response\n",
    "assert 'observation_id' in response['error'], response['error']\n",
    "\n",
    "\n",
    "################################################\n",
    "# Test missing `data` produces an error\n",
    "################################################\n",
    "print('Test missing `data` produces an error')\n",
    "bad_payload_2 = deepcopy(payload)\n",
    "bad_payload_2['observation_id'] = str(uuid4())\n",
    "bad_payload_2['random_field'] = bad_payload_2.pop('data')\n",
    "\n",
    "r = requests.post(url, json=bad_payload_2)\n",
    "assert isinstance(r, requests.models.Response)\n",
    "assert r.ok\n",
    "\n",
    "response = r.json()\n",
    "\n",
    "assert 'error' in response, response\n",
    "assert 'data' in response['error'], response['error']\n",
    "\n",
    "\n",
    "################################################\n",
    "# Test missing columns produce an error\n",
    "################################################\n",
    "print('Test missing columns produce an error')\n",
    "bad_payload_3 = deepcopy(payload)\n",
    "bad_payload_3['observation_id'] = str(uuid4())\n",
    "bad_payload_3['data'].pop('age')\n",
    "\n",
    "r = requests.post(url, json=bad_payload_3)\n",
    "assert isinstance(r, requests.models.Response)\n",
    "assert r.ok\n",
    "\n",
    "response = r.json()\n",
    "\n",
    "assert 'error' in response, response\n",
    "assert 'age' in response['error'], response['error']\n",
    "\n",
    "\n",
    "################################################\n",
    "# Test extra columns produce an error\n",
    "################################################\n",
    "print('Test extra columns produce an error')\n",
    "bad_payload_4 = deepcopy(payload)\n",
    "bad_payload_4['observation_id'] = str(uuid4())\n",
    "bad_payload_4['data']['relationship'] = \"Wife\"\n",
    "\n",
    "r = requests.post(url, json=bad_payload_4)\n",
    "assert isinstance(r, requests.models.Response)\n",
    "assert r.ok\n",
    "\n",
    "response = r.json()\n",
    "\n",
    "assert 'error' in response, response\n",
    "assert 'relationship' in response['error'], response['error']\n",
    "\n",
    "\n",
    "###########################################################################\n",
    "# Test invalid values for categorical features - race\n",
    "###########################################################################\n",
    "print('Test invalid values for categorical features - race')\n",
    "\n",
    "bad_payload_5 = deepcopy(payload)\n",
    "bad_payload_5['observation_id'] = str(uuid4())\n",
    "bad_payload_5['data']['race'] = 'Engineer'\n",
    "\n",
    "r = requests.post(url, json=bad_payload_5)\n",
    "assert isinstance(r, requests.models.Response)\n",
    "assert r.ok\n",
    "\n",
    "response = r.json()\n",
    "\n",
    "assert 'error' in response, response\n",
    "assert 'race' in response['error'], response['error']\n",
    "assert 'Engineer' in response['error'], response['error']\n",
    "\n",
    "\n",
    "####################################################\n",
    "# Test invalid values for numerical features - age\n",
    "####################################################\n",
    "print('Test invalid values for numerical features - age')\n",
    "bad_payload_6 = deepcopy(payload)\n",
    "bad_payload_6['observation_id'] = str(uuid4())\n",
    "bad_payload_6['data']['age'] = -12\n",
    "\n",
    "r = requests.post(url, json=bad_payload_6)\n",
    "assert isinstance(r, requests.models.Response)\n",
    "assert r.ok\n",
    "\n",
    "response = r.json()\n",
    "\n",
    "assert 'error' in response, response\n",
    "assert 'age' in response['error'], response['error']\n",
    "assert '-12' in response['error'], response['error']"
   ]
  },
  {
   "cell_type": "markdown",
   "metadata": {
    "deletable": false,
    "editable": false,
    "nbgrader": {
     "grade": false,
     "grade_id": "cell-8088ad24d8aadbc8",
     "locked": true,
     "schema_version": 3,
     "solution": false,
     "task": false
    }
   },
   "source": [
    "And... you're done. You have successfully built a model, assessed if it passed the client requirements, built an app and protected it from crappy input. \n",
    "\n",
    "It's time for a well-deserved rest, so go ahead and be a couch potato.\n",
    "\n",
    "<img src=\"media/lays.png\" width=400 />"
   ]
  }
 ],
 "metadata": {
  "kernelspec": {
   "display_name": "Python 3 (ipykernel)",
   "language": "python",
   "name": "python3"
  },
  "language_info": {
   "codemirror_mode": {
    "name": "ipython",
    "version": 3
   },
   "file_extension": ".py",
   "mimetype": "text/x-python",
   "name": "python",
   "nbconvert_exporter": "python",
   "pygments_lexer": "ipython3",
   "version": "3.12.9"
  }
 },
 "nbformat": 4,
 "nbformat_minor": 4
}
