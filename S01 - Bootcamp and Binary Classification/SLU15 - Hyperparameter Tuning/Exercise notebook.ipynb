{
 "cells": [
  {
   "attachments": {},
   "cell_type": "markdown",
   "metadata": {
    "colab_type": "text",
    "deletable": false,
    "editable": false,
    "id": "UpoBQazfOcdm",
    "nbgrader": {
     "grade": false,
     "grade_id": "cell-673e46abe486e6cf",
     "locked": true,
     "schema_version": 3,
     "solution": false
    }
   },
   "source": [
    "# SLU15 - Hyperparameter Tuning: Exercise notebook\n",
    "\n",
    "You can now test you new skills with another medical dataset concerning heart disease. We'll use the [Heart Disease UCI ](https://archive.ics.uci.edu/ml/datasets/Heart+Disease)dataset. The original dataset has 76 attributes, we'll use just 13 of them."
   ]
  },
  {
   "cell_type": "code",
   "execution_count": null,
   "metadata": {
    "colab": {},
    "colab_type": "code",
    "deletable": false,
    "editable": false,
    "id": "zvs-JlaoOqhB",
    "nbgrader": {
     "grade": false,
     "grade_id": "cell-8c2e27bca8450438",
     "locked": true,
     "schema_version": 3,
     "solution": false
    }
   },
   "outputs": [],
   "source": [
    "import pandas as pd\n",
    "import numpy as np\n",
    "import scipy\n",
    "from scipy.stats import uniform\n",
    "import hashlib\n",
    "import json\n",
    "\n",
    "from sklearn.linear_model import LogisticRegression\n",
    "# These will be needed to prepare the dataset\n",
    "from sklearn.model_selection import train_test_split, GridSearchCV, RandomizedSearchCV\n",
    "from sklearn.preprocessing import StandardScaler\n",
    "from sklearn.metrics import roc_auc_score\n",
    "\n",
    "import warnings\n",
    "warnings.filterwarnings(\"ignore\", category=UserWarning) # to ignore the warnings when running the searches"
   ]
  },
  {
   "cell_type": "code",
   "execution_count": null,
   "metadata": {
    "colab": {
     "base_uri": "https://localhost:8080/",
     "height": 204
    },
    "colab_type": "code",
    "deletable": false,
    "editable": false,
    "id": "Cxy3SZa9Vl8-",
    "nbgrader": {
     "grade": false,
     "grade_id": "cell-af75adfcef8e3e25",
     "locked": true,
     "schema_version": 3,
     "solution": false
    },
    "outputId": "d745d4af-91fe-47a4-840b-1f76b6dcfd25"
   },
   "outputs": [],
   "source": [
    "# Seed for reproducibility\n",
    "np.random.seed(42)\n",
    "\n",
    "# Load data\n",
    "heart_df = pd.read_csv(\"data/heart.csv\").rename({\"condition\":\"target\"}, axis=1)\n",
    "heart_df.sample(5)"
   ]
  },
  {
   "cell_type": "markdown",
   "metadata": {
    "colab_type": "text",
    "deletable": false,
    "editable": false,
    "id": "qRj_iSssTcLg",
    "nbgrader": {
     "grade": false,
     "grade_id": "cell-f1b446af2ec6ae5f",
     "locked": true,
     "schema_version": 3,
     "solution": false
    }
   },
   "source": [
    "We start with the train-test split."
   ]
  },
  {
   "cell_type": "code",
   "execution_count": null,
   "metadata": {
    "colab": {},
    "colab_type": "code",
    "deletable": false,
    "editable": false,
    "id": "Anbcj4COS7nK",
    "nbgrader": {
     "grade": false,
     "grade_id": "cell-fabf478785185daf",
     "locked": true,
     "schema_version": 3,
     "solution": false
    }
   },
   "outputs": [],
   "source": [
    "X_train, X_test, y_train, y_test = train_test_split(\n",
    "                                        heart_df.drop(\"target\", axis=1),\n",
    "                                        heart_df.target, \n",
    "                                        test_size=0.3,\n",
    "                                        random_state=42\n",
    "                                        )"
   ]
  },
  {
   "cell_type": "markdown",
   "metadata": {
    "colab_type": "text",
    "deletable": false,
    "editable": false,
    "id": "QTatcWRNOq8Q",
    "nbgrader": {
     "grade": false,
     "grade_id": "cell-326b4d912edd7888",
     "locked": true,
     "schema_version": 3,
     "solution": false
    }
   },
   "source": [
    "The target variable is binary, as the patient either has heart disease or not, so we're dealing with a  classification problem. We're going to standardize the dataset for you, as this is a usual requirement of classification algorithms."
   ]
  },
  {
   "cell_type": "code",
   "execution_count": null,
   "metadata": {
    "colab": {
     "base_uri": "https://localhost:8080/",
     "height": 85
    },
    "colab_type": "code",
    "deletable": false,
    "editable": false,
    "id": "ZTWm0Jq1U5Wg",
    "nbgrader": {
     "grade": false,
     "grade_id": "cell-c2413002e48ee6f8",
     "locked": true,
     "schema_version": 3,
     "solution": false
    },
    "outputId": "ee0e6fb4-66fe-4cb1-9e99-0d5fab0d2a13"
   },
   "outputs": [],
   "source": [
    "scaler = StandardScaler()\n",
    "X_train = scaler.fit_transform(X_train)\n",
    "X_test = scaler.transform(X_test)\n",
    "\n",
    "print(\"X_train of shape \", X_train.shape)\n",
    "print(\"y_train of shape \", y_train.shape)\n",
    "print(\"X_test of shape  \", X_test.shape)\n",
    "print(\"y_test of shape  \", y_test.shape)"
   ]
  },
  {
   "attachments": {},
   "cell_type": "markdown",
   "metadata": {
    "deletable": false,
    "editable": false,
    "nbgrader": {
     "grade": false,
     "grade_id": "cell-8ab26b376b2d6c05",
     "locked": true,
     "schema_version": 3,
     "solution": false,
     "task": false
    }
   },
   "source": [
    "## Exercise 0 - Baseline\n",
    "\n",
    "Start by creating a baseline. Fit a logistic regression classifier with default settings to the train data, then calculate the prediction and the roc-auc score for the test set."
   ]
  },
  {
   "cell_type": "code",
   "execution_count": null,
   "metadata": {
    "deletable": false,
    "nbgrader": {
     "grade": false,
     "grade_id": "cell-da04d7a13e42a59d",
     "locked": false,
     "schema_version": 3,
     "solution": true,
     "task": false
    }
   },
   "outputs": [],
   "source": [
    "# Use this variables for the classifier, the prediction and the roc-auc score:\n",
    "# lr = ...\n",
    "# lr_pred = \n",
    "# lr_score = \n",
    "\n",
    "# YOUR CODE HERE\n",
    "raise NotImplementedError()"
   ]
  },
  {
   "cell_type": "code",
   "execution_count": null,
   "metadata": {
    "deletable": false,
    "editable": false,
    "nbgrader": {
     "grade": true,
     "grade_id": "cell-8ed72098d1377f2c",
     "locked": true,
     "points": 1,
     "schema_version": 3,
     "solution": false,
     "task": false
    }
   },
   "outputs": [],
   "source": [
    "assert isinstance(lr, LogisticRegression), 'Did you use the correct model?'\n",
    "assert hashlib.sha256(json.dumps(''.join(str(i) for i in lr_pred)).encode()).hexdigest() == \\\n",
    "'ff60580ede35329b87086966fbb750a1eafcc909f78349bc48dd773883e19ca6', 'The prediction is not correct.'\n",
    "np.testing.assert_almost_equal(lr_score, 0.790, 3, err_msg = 'The roc-auc-score is not correct.')\n",
    "print(\"The AUROC score of the baseline logistic regression classifier is \", lr_score)"
   ]
  },
  {
   "cell_type": "markdown",
   "metadata": {
    "deletable": false,
    "editable": false,
    "nbgrader": {
     "grade": false,
     "grade_id": "cell-f92fc0db52773124",
     "locked": true,
     "schema_version": 3,
     "solution": false,
     "task": false
    }
   },
   "source": [
    "The baseline score is ok, but maybe we can squeeze out more of the classifier with hyperparameter tuning."
   ]
  },
  {
   "cell_type": "markdown",
   "metadata": {
    "colab_type": "text",
    "deletable": false,
    "editable": false,
    "id": "7eQkWwv-Elxa",
    "nbgrader": {
     "grade": false,
     "grade_id": "cell-6ca133b5766a78ff",
     "locked": true,
     "schema_version": 3,
     "solution": false
    }
   },
   "source": [
    "## Exercise 1 - Grid Search\n",
    "\n",
    "We'll start the hyperparameter tuning with a grid search.\n",
    "\n",
    "### Exercise 1.1 - Hyperparameter search space\n",
    "\n",
    "Create a hyperparameter search space for two logistic regression hyperparameters, the regularization parameter `C` and the `penalty`. Use these values of the hyperparameters in the specified order:\n",
    "- regularization parameter `C`: 0.1, 1, 4, 8, and 10\n",
    "- `penalty`: \"l1\", \"l2\", and \"elasticnet\"\n",
    "\n",
    "Store the defined search space in the variable `grid`."
   ]
  },
  {
   "cell_type": "code",
   "execution_count": null,
   "metadata": {
    "colab": {},
    "colab_type": "code",
    "deletable": false,
    "id": "vTRk97yhpsQC",
    "nbgrader": {
     "grade": false,
     "grade_id": "cell-7bae1466cae03dfa",
     "locked": false,
     "schema_version": 3,
     "solution": true
    }
   },
   "outputs": [],
   "source": [
    "# grid = ...\n",
    "\n",
    "# YOUR CODE HERE\n",
    "raise NotImplementedError()"
   ]
  },
  {
   "cell_type": "code",
   "execution_count": null,
   "metadata": {
    "colab": {},
    "colab_type": "code",
    "deletable": false,
    "editable": false,
    "id": "78i0emuGM22J",
    "nbgrader": {
     "grade": true,
     "grade_id": "cell-74b192f294d472a6",
     "locked": true,
     "points": 2,
     "schema_version": 3,
     "solution": false
    }
   },
   "outputs": [],
   "source": [
    "assert isinstance(grid, dict), 'The grid should be a dictionary.'\n",
    "assert \"C\" in grid, 'Make sure you have the requested parameters as keys.'\n",
    "assert \"penalty\" in grid, 'Make sure you have the requested parameters as keys.'\n",
    "assert all(num in grid[\"C\"] for num in [0.1, 1, 4, 8, 10]), 'The values for C parameter are not correct.'\n",
    "assert all(num in grid[\"penalty\"] for num in ['l1', 'l2', 'elasticnet']), 'The values for penalty parameter are not correct.'"
   ]
  },
  {
   "cell_type": "markdown",
   "metadata": {
    "colab_type": "text",
    "deletable": false,
    "editable": false,
    "id": "bT7t3PeoHxd8",
    "nbgrader": {
     "grade": false,
     "grade_id": "cell-697bd760cb114938",
     "locked": true,
     "schema_version": 3,
     "solution": false
    }
   },
   "source": [
    "### Exercise 1.2 - Setup the grid search\n",
    "Create a grid search with a logistic regression classifier and the hyperparameter space defined in 1.1. Use the AUROC scoring function. Use the `saga` solver and an l1_ratio of 0.1 in the logistic regression and keep the rest of the settings at default values. Assign the defined grid search to the `grid_search` variable."
   ]
  },
  {
   "cell_type": "code",
   "execution_count": null,
   "metadata": {
    "colab": {
     "base_uri": "https://localhost:8080/",
     "height": 34
    },
    "colab_type": "code",
    "deletable": false,
    "id": "AC891dnTH3Ky",
    "nbgrader": {
     "grade": false,
     "grade_id": "cell-839764842b89da11",
     "locked": false,
     "schema_version": 3,
     "solution": true
    },
    "outputId": "54acbcc7-4fcb-47fb-d83f-3cfe3093ab9b"
   },
   "outputs": [],
   "source": [
    "# grid_search = ...\n",
    "\n",
    "# YOUR CODE HERE\n",
    "raise NotImplementedError()"
   ]
  },
  {
   "cell_type": "code",
   "execution_count": null,
   "metadata": {
    "colab": {},
    "colab_type": "code",
    "deletable": false,
    "editable": false,
    "id": "sN_VU6RpM1gQ",
    "nbgrader": {
     "grade": true,
     "grade_id": "cell-454d9120b621dcc9",
     "locked": true,
     "points": 3,
     "schema_version": 3,
     "solution": false
    }
   },
   "outputs": [],
   "source": [
    "assert isinstance(grid_search, GridSearchCV), 'Are you using GridSearchCV?'\n",
    "assert isinstance(grid_search.estimator, LogisticRegression), 'Are you using the right model?'\n",
    "assert hashlib.sha256(json.dumps(str(grid_search.get_params())).encode()).hexdigest() == \\\n",
    "'4bc6775ceaf1f8b1b4b53aa2b72b9f61f48462db29fe41835af889761cce3175', 'Your parameters are not correct'"
   ]
  },
  {
   "cell_type": "markdown",
   "metadata": {
    "colab_type": "text",
    "deletable": false,
    "editable": false,
    "id": "BbOZacl7KYu1",
    "nbgrader": {
     "grade": false,
     "grade_id": "cell-a82ab7b985f9b84a",
     "locked": true,
     "schema_version": 3,
     "solution": false
    }
   },
   "source": [
    "### Exercise 1.3 - Find the best model\n",
    "Use the grid search defined in 1.2 and the train data to find the best hyperparameters. Assign the best model to the `gs_best_model` variable."
   ]
  },
  {
   "cell_type": "code",
   "execution_count": null,
   "metadata": {
    "colab": {
     "base_uri": "https://localhost:8080/",
     "height": 34
    },
    "colab_type": "code",
    "deletable": false,
    "id": "o-eaeEA-KMTn",
    "nbgrader": {
     "grade": false,
     "grade_id": "cell-d2c2b32305db901c",
     "locked": false,
     "schema_version": 3,
     "solution": true
    },
    "outputId": "16e0962b-d5af-4e78-ba76-3b904f2c7b1b"
   },
   "outputs": [],
   "source": [
    "# gs_best_model = ...\n",
    " \n",
    "# YOUR CODE HERE\n",
    "raise NotImplementedError()"
   ]
  },
  {
   "cell_type": "code",
   "execution_count": null,
   "metadata": {
    "colab": {},
    "colab_type": "code",
    "deletable": false,
    "editable": false,
    "id": "isLHHEHkcO6i",
    "nbgrader": {
     "grade": true,
     "grade_id": "cell-c833a0e642626b02",
     "locked": true,
     "points": 3,
     "schema_version": 3,
     "solution": false
    }
   },
   "outputs": [],
   "source": [
    "assert isinstance(gs_best_model, LogisticRegression), 'Make sure you are using the right model.'\n",
    "assert hashlib.sha256(json.dumps(str(gs_best_model.get_params())).encode()).hexdigest() == \\\n",
    "'9967b25890d15457dde8d403536461e12544671c20c23b0e36f3b0c504e1e433', 'The parameters of the best model are not correct.'\n",
    "np.testing.assert_almost_equal(grid_search.best_score_, 0.912, 3, err_msg = 'The roc-auc-score is not correct.')"
   ]
  },
  {
   "cell_type": "markdown",
   "metadata": {
    "colab_type": "text",
    "deletable": false,
    "editable": false,
    "id": "lENX5ZzaLPNj",
    "nbgrader": {
     "grade": false,
     "grade_id": "cell-703cff13cba6dc1c",
     "locked": true,
     "schema_version": 3,
     "solution": false
    }
   },
   "source": [
    "### Exercise 1.4 - Best predictions\n",
    "Use the best model found in 1.3 to make a prediction on the test data. Assign the prediction to the `best_preds` variable."
   ]
  },
  {
   "cell_type": "code",
   "execution_count": null,
   "metadata": {
    "colab": {
     "base_uri": "https://localhost:8080/",
     "height": 34
    },
    "colab_type": "code",
    "deletable": false,
    "id": "MooQ2CUzLg9v",
    "nbgrader": {
     "grade": false,
     "grade_id": "cell-d19340bba970bf48",
     "locked": false,
     "schema_version": 3,
     "solution": true
    },
    "outputId": "0955c396-ade7-4afe-9e30-19091091ac90"
   },
   "outputs": [],
   "source": [
    "# best_preds = ...\n",
    "\n",
    "# YOUR CODE HERE\n",
    "raise NotImplementedError()"
   ]
  },
  {
   "cell_type": "code",
   "execution_count": null,
   "metadata": {
    "deletable": false,
    "editable": false,
    "nbgrader": {
     "grade": true,
     "grade_id": "cell-434edd336c0518cf",
     "locked": true,
     "points": 2,
     "schema_version": 3,
     "solution": false,
     "task": false
    }
   },
   "outputs": [],
   "source": [
    "assert hashlib.sha256(json.dumps(''.join(str(i) for i in best_preds)).encode()).hexdigest() == \\\n",
    "'e8e6089457cf3df4ca068a8ca85dc8642571bde196a47286f4ba073c0b50d643', 'Your parameters are not correct'\n",
    "print(\"The AUROC score of the best logistic regression classifier from the grid search is \", roc_auc_score(best_preds, y_test))"
   ]
  },
  {
   "cell_type": "markdown",
   "metadata": {
    "deletable": false,
    "editable": false,
    "nbgrader": {
     "grade": false,
     "grade_id": "cell-06794e969be1e9f2",
     "locked": true,
     "schema_version": 3,
     "solution": false,
     "task": false
    }
   },
   "source": [
    "Nice, the performance improved! Let's see if we can do even better with random search."
   ]
  },
  {
   "cell_type": "markdown",
   "metadata": {
    "colab_type": "text",
    "deletable": false,
    "editable": false,
    "id": "6GvdvJLR55Ok",
    "nbgrader": {
     "grade": false,
     "grade_id": "cell-be72385637b53b03",
     "locked": true,
     "schema_version": 3,
     "solution": false
    }
   },
   "source": [
    "## Exercise 2 - Random Search \n",
    "\n",
    "### Exercise 2.1 - Search distributions\n",
    "Create search distributions for two logistic regression hyperparameters, the regularization parameter `C` and the `penalty`. Use these values of the hyperparameters:\n",
    "- Regularization parameter `C`: uniformly distributed between 0.1 and 10 (hint: use a scipy distribution)\n",
    "- `penalty`: \"l1\", \"l2\", or \"elasticnet\"\n",
    "\n",
    "Assign the distributions to the `random_grid` variable.  "
   ]
  },
  {
   "cell_type": "code",
   "execution_count": null,
   "metadata": {
    "colab": {},
    "colab_type": "code",
    "deletable": false,
    "id": "W9V-aI_95_mb",
    "nbgrader": {
     "grade": false,
     "grade_id": "cell-9e55b42741f78f71",
     "locked": false,
     "schema_version": 3,
     "solution": true
    }
   },
   "outputs": [],
   "source": [
    "# random_grid = ...\n",
    "\n",
    "# YOUR CODE HERE\n",
    "raise NotImplementedError()"
   ]
  },
  {
   "cell_type": "code",
   "execution_count": null,
   "metadata": {
    "colab": {},
    "colab_type": "code",
    "deletable": false,
    "editable": false,
    "id": "30crPizWOSy1",
    "nbgrader": {
     "grade": true,
     "grade_id": "cell-a95e4715d3d0e17e",
     "locked": true,
     "points": 2,
     "schema_version": 3,
     "solution": false
    }
   },
   "outputs": [],
   "source": [
    "assert \"C\" in random_grid, 'Make sure you have the requested parameters as keys.'\n",
    "assert \"penalty\" in random_grid, 'Make sure you have the requested parameters as keys.'\n",
    "assert isinstance(random_grid[\"C\"], scipy.stats._distn_infrastructure.rv_frozen), 'The values for the C parameter are not correct.'\n",
    "np.testing.assert_almost_equal(random_grid['C'].median(), 5.05, decimal=2,\n",
    "                              err_msg='The values for the C parameter are not correct.')\n",
    "np.testing.assert_almost_equal(random_grid['C'].entropy(), 2.2925347571405443, decimal=3,\n",
    "                              err_msg='The values for the C parameter are not correct.')\n",
    "np.testing.assert_almost_equal(random_grid[\"C\"].stats(moments='mvsk')[1], 8.1675, decimal=3,\n",
    "                              err_msg='The values for the C parameter are not correct.')\n",
    "np.testing.assert_almost_equal(random_grid[\"C\"].stats(moments='mvsk')[2], 0.0, decimal=3,\n",
    "                              err_msg='The values for the C parameter are not correct.')\n",
    "np.testing.assert_almost_equal(random_grid[\"C\"].stats(moments='mvsk')[3], -1.2, decimal=3,\n",
    "                              err_msg='The values for the C parameter are not correct.')\n",
    "assert all(num in grid[\"penalty\"] for num in ['l1', 'l2', 'elasticnet']), 'The values for penalty parameter are not correct.'"
   ]
  },
  {
   "cell_type": "markdown",
   "metadata": {
    "colab_type": "text",
    "deletable": false,
    "editable": false,
    "id": "OkdtEC20NQT1",
    "nbgrader": {
     "grade": false,
     "grade_id": "cell-1d92fd58e8e4e83e",
     "locked": true,
     "schema_version": 3,
     "solution": false
    }
   },
   "source": [
    "### Exercise 2.2 - Setup the random search\n",
    "Create a random search with a logistic regression classifier and the hyperparameter space defined in 2.1. Use the `saga` solver and an l1_ratio of 0.1 in the logistic regression and keep the rest of the settings at default values.\n",
    "* Set the random_state to 42\n",
    "* Set the number of iterations to 15\n",
    "* Set the scoring to AUROC\n",
    "\n",
    "Assign the defined random search to the `random_search` variable."
   ]
  },
  {
   "cell_type": "code",
   "execution_count": null,
   "metadata": {
    "colab": {
     "base_uri": "https://localhost:8080/",
     "height": 34
    },
    "colab_type": "code",
    "deletable": false,
    "id": "JNBN-RT9OWXO",
    "nbgrader": {
     "grade": false,
     "grade_id": "cell-6da83075a9663ae5",
     "locked": false,
     "schema_version": 3,
     "solution": true
    },
    "outputId": "c5a47d2b-9ef8-4d4d-86ca-0d34fd48859b"
   },
   "outputs": [],
   "source": [
    "# random_search = ...\n",
    "\n",
    "# YOUR CODE HERE\n",
    "raise NotImplementedError()"
   ]
  },
  {
   "cell_type": "code",
   "execution_count": null,
   "metadata": {
    "colab": {},
    "colab_type": "code",
    "deletable": false,
    "editable": false,
    "id": "8ZJai0McPmtf",
    "nbgrader": {
     "grade": true,
     "grade_id": "cell-94cd192ba475e33d",
     "locked": true,
     "points": 3,
     "schema_version": 3,
     "solution": false
    }
   },
   "outputs": [],
   "source": [
    "assert isinstance(random_search, RandomizedSearchCV), 'Are you using RandomizedSearchCV?'\n",
    "assert isinstance(random_search.estimator, LogisticRegression), 'Make sure you are using the right model.'\n",
    "assert hashlib.sha256(json.dumps(random_search.estimator.get_params()).encode()).hexdigest() == \\\n",
    "'5e0da474d543cfcbf692c33a2fca03e9f4f6df7e7201f5f6543620f23752cb66', 'The parameters of the model are not correct.'\n",
    "assert random_search.random_state==42, 'Check the random_state value.'\n",
    "assert random_search.n_iter==15, 'Check the number of iterations.'\n",
    "assert 'C' in random_search.get_params()['param_distributions'].keys(), 'The search distributions of the random search are not correct.'\n",
    "assert 'penalty' in random_search.get_params()['param_distributions'].keys(), 'The search distributions of the random search are not correct.'"
   ]
  },
  {
   "cell_type": "markdown",
   "metadata": {
    "colab_type": "text",
    "deletable": false,
    "editable": false,
    "id": "bHdIbHyfhacT",
    "nbgrader": {
     "grade": false,
     "grade_id": "cell-ac1d536e4152b7f4",
     "locked": true,
     "schema_version": 3,
     "solution": false
    }
   },
   "source": [
    "### Exercise 2.3 - Find the best model\n",
    "Use the random search defined in 2.2 and the train data to find the best hyperparameters. Assign the best model to the `rs_best_model` variable."
   ]
  },
  {
   "cell_type": "code",
   "execution_count": null,
   "metadata": {
    "colab": {
     "base_uri": "https://localhost:8080/",
     "height": 34
    },
    "colab_type": "code",
    "deletable": false,
    "id": "R0Ahh3v8e8yQ",
    "nbgrader": {
     "grade": false,
     "grade_id": "cell-af31b5d6621ed971",
     "locked": false,
     "schema_version": 3,
     "solution": true
    },
    "outputId": "62043c63-31a9-43f5-b0ca-df5482967160"
   },
   "outputs": [],
   "source": [
    "# rs_best_model = ...\n",
    "\n",
    "# YOUR CODE HERE\n",
    "raise NotImplementedError()"
   ]
  },
  {
   "cell_type": "code",
   "execution_count": null,
   "metadata": {
    "colab": {},
    "colab_type": "code",
    "deletable": false,
    "editable": false,
    "id": "YR4BChm9h_d3",
    "nbgrader": {
     "grade": true,
     "grade_id": "cell-32edafc7acb11ff3",
     "locked": true,
     "points": 3,
     "schema_version": 3,
     "solution": false
    }
   },
   "outputs": [],
   "source": [
    "assert isinstance(rs_best_model, LogisticRegression) , 'Make sure you are using the right model.'\n",
    "assert  hashlib.sha256(json.dumps(str(rs_best_model.get_params())).encode()).hexdigest() ==\\\n",
    "'3a01c21a24a2afab00d03502531f698015f63138576764716f6b4da3e648fdee', 'Your parameters are not correct'\n",
    "np.testing.assert_almost_equal(random_search.best_score_, 0.913, 3, err_msg = 'The roc-auc-score is not correct.')"
   ]
  },
  {
   "cell_type": "markdown",
   "metadata": {
    "colab_type": "text",
    "deletable": false,
    "editable": false,
    "id": "HvQkbsTnPxoT",
    "nbgrader": {
     "grade": false,
     "grade_id": "cell-7969cb3584199467",
     "locked": true,
     "schema_version": 3,
     "solution": false
    }
   },
   "source": [
    "### Exercise 2.4 - Best hyparameters\n",
    "Get the hyparameters of the best model found by the random search and assign them to the variable `rs_best_params`."
   ]
  },
  {
   "cell_type": "code",
   "execution_count": null,
   "metadata": {
    "colab": {
     "base_uri": "https://localhost:8080/",
     "height": 34
    },
    "colab_type": "code",
    "deletable": false,
    "id": "HK-802hOP_GG",
    "nbgrader": {
     "grade": false,
     "grade_id": "cell-5a0ff5d8aa97468d",
     "locked": false,
     "schema_version": 3,
     "solution": true
    },
    "outputId": "d2ca3be2-3f19-4b7c-c973-d0bb4a31b9c5"
   },
   "outputs": [],
   "source": [
    "# rs_best_params = ...\n",
    "\n",
    "# YOUR CODE HERE\n",
    "raise NotImplementedError()"
   ]
  },
  {
   "cell_type": "code",
   "execution_count": null,
   "metadata": {
    "deletable": false,
    "editable": false,
    "nbgrader": {
     "grade": true,
     "grade_id": "cell-a0e7467276d7d1fc",
     "locked": true,
     "points": 1,
     "schema_version": 3,
     "solution": false,
     "task": false
    }
   },
   "outputs": [],
   "source": [
    "assert hashlib.sha256(json.dumps(rs_best_params['penalty']).encode()).hexdigest() == \\\n",
    "'e523f9d32d200d4c898117c977ff5109e2a298ef92341cd3f9d2c18ac99d493a', 'The penalty hyperparameter is not correct.'\n",
    "np.testing.assert_almost_equal(rs_best_params['C'], 0.305, 3, err_msg = 'The C hyperparameter is not correct.')\n",
    "print(\"The AUROC score of the best logistic regression classifier found by the random search is \", \n",
    "      roc_auc_score(random_search.predict(X_test), y_test))"
   ]
  },
  {
   "cell_type": "markdown",
   "metadata": {
    "deletable": false,
    "editable": false,
    "nbgrader": {
     "grade": false,
     "grade_id": "cell-05bd857a5a2383e2",
     "locked": true,
     "schema_version": 3,
     "solution": false,
     "task": false
    }
   },
   "source": [
    "Looks like we have a winner: the model resulting from the grid search performed the best!"
   ]
  }
 ],
 "metadata": {
  "colab": {
   "collapsed_sections": [],
   "name": "Exercise notebook - SLU18 (Hyperparameter tuning)",
   "provenance": [],
   "toc_visible": true,
   "version": "0.3.2"
  },
  "kernelspec": {
   "display_name": "Python 3 (ipykernel)",
   "language": "python",
   "name": "python3"
  },
  "language_info": {
   "codemirror_mode": {
    "name": "ipython",
    "version": 3
   },
   "file_extension": ".py",
   "mimetype": "text/x-python",
   "name": "python",
   "nbconvert_exporter": "python",
   "pygments_lexer": "ipython3",
   "version": "3.12.11"
  },
  "widgets": {
   "application/vnd.jupyter.widget-state+json": {
    "state": {},
    "version_major": 2,
    "version_minor": 0
   }
  }
 },
 "nbformat": 4,
 "nbformat_minor": 4
}
