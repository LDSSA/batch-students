{
 "cells": [
  {
   "cell_type": "markdown",
   "metadata": {},
   "source": [
    "# BLU10 - Part 2 of 3 - Ratings Matrix"
   ]
  },
  {
   "cell_type": "code",
   "execution_count": 1,
   "metadata": {},
   "outputs": [],
   "source": [
    "import numpy as np\n",
    "import pandas as pd\n",
    "import scipy as sp\n",
    "from scipy.sparse import random, coo_matrix, lil_matrix, dok_matrix, csr_matrix, csc_matrix"
   ]
  },
  {
   "cell_type": "markdown",
   "metadata": {},
   "source": [
    "## 1. Creating a ratings matrix\n",
    "\n",
    "### 1.1 Community matrix\n",
    "\n",
    "The community matrix represents our entire ecosystems or community - all pairs of customers (or users, whatever you wanna call them!) and the items they interact with - in a single matrix. The users are always arranged in rows and the items in columns. Remember tidy data from SLU06? This is similar.\n",
    "\n",
    "Let's see an example of a community matrix:\n",
    "\n",
    "Take a set of users $U = \\{Ana, Miguel, Beatriz\\}$ and a set of items $I = \\{Bananas, Water, Milk\\}$. \n",
    "\n",
    "We represent $U \\times I$, aka the community matrix, as:\n",
    "\n",
    "$$\\begin{bmatrix}(Ana, Bananas) & (Ana, Water) & (Ana, Milk)\\\\ (Miguel, Bananas) & (Miguel, Water) & (Miguel, Milk)\\\\ (Beatriz, Bananas) & (Beatriz, Water) & (Beatriz, Milk)\\end{bmatrix}$$"
   ]
  },
  {
   "cell_type": "markdown",
   "metadata": {},
   "source": [
    "### 1.2 Types of data\n",
    "If you pause for a moment and think about it, there are multiple ways for a user to show interest in a specific product or service. It really depends on the product that we are trying to recommend. You can't, for instance, rate every item that you buy in the supermarket. Usually, you show interest in an item by buying it (and your interest correlates with the number of times you buy that item).\n",
    "\n",
    "Users can manifest their opinion about an item in different ways:\n",
    "\n",
    "- **Explicit feedback**: Feedback is called explicit when directly provided by the user in the form of rating.\n",
    "\n",
    "- **Implicit feedback**: Feedback is called implicit if it is inferred from user actions like clicks or purchases. Implicit feedback data can be binary (buys/does not buy), but can also be expressed as the number of clicks or purchases made.\n",
    "\n",
    "The feedback is measured on a **rating scale**. We call $S$ the set of possible ratings. For example, in a 1-5 stars rating system, each rating given by a user $r_{u, i}$ is from a set $S = \\{1, 2, 3, 4, 5\\}$. The rating scale can be discrete or continuous and in some cases only binary."
   ]
  },
  {
   "cell_type": "markdown",
   "metadata": {},
   "source": [
    "Here is an overview of the feedback types and rating scales that we can find in RS ecosystems:\n",
    "\n",
    "| Type of data    | Description                          | Rating scale (examples) | Explicit/Implicit |  \n",
    "|-----------------|--------------------------------------|-------------------------|-------------------|\n",
    "| Numeric         | Continuous ratings                   | $S = [1, 5]$            | Explicit          |\n",
    "| Ordinal         | Ordered categories                   | $S = \\{1, 2, 3, 4, 5\\}$ | Explicit          |\n",
    "| Binary          | Good or bad  (e.g., Upvote/Downvote) | $S = \\{-1, 1\\}$         | Explicit          |\n",
    "| Unary           | User action  (e.g., Click, Purchase) | $S = \\{0, 1\\}$          | Implicit          |\n",
    "\n",
    "A note on implicit unary data: unary data means that we only know about users doing some action, such as click or purchase, but we don't have any information about users who didn't do that action. Any person who didn't do the click or purchase was not registered and so remains invisible to us and we cannot automatically consider this as negative feedback."
   ]
  },
  {
   "cell_type": "markdown",
   "metadata": {},
   "source": [
    "### 1.3 Ratings matrix\n",
    "\n",
    "Consider the following ratings matrix $R$ with possible ratings $S = \\{1, 2, ..N \\}$, where each row is a user and each column is a product. The ratings values are the number of times a user bought an item.\n",
    "\n",
    "$$\\begin{bmatrix}1 &  & 2\\\\ 1 & 5 & \\\\  & 2 & 1\\end{bmatrix}$$\n",
    "\n",
    "### 1.4 Representing users as vectors\n",
    "\n",
    "Let's go bit by bit, starting with the first row of the matrix, corresponding to:\n",
    "\n",
    "$$\\begin{bmatrix}(Ana, Bananas) & (Ana, Water) & (Ana, Milk)\\end{bmatrix}$$\n",
    "\n",
    "The items that Ana bought are bananas and milk, $I_{Ana} = \\{Bananas, Milk\\}$. \n",
    "\n",
    "We can represent the Ana vector by the following NumPy array. The unknown rating is represented as `np.nan`.\n",
    "\n",
    "```\n",
    "┌───┬───┬───┐\n",
    "│ 1 │   │ 2 │\n",
    "└───┴───┴───┘\n",
    "```"
   ]
  },
  {
   "cell_type": "code",
   "execution_count": 2,
   "metadata": {},
   "outputs": [
    {
     "data": {
      "text/plain": [
       "array([ 1., nan,  2.])"
      ]
     },
     "execution_count": 2,
     "metadata": {},
     "output_type": "execute_result"
    }
   ],
   "source": [
    "ana = np.array([1, np.nan, 2])\n",
    "\n",
    "ana"
   ]
  },
  {
   "cell_type": "markdown",
   "metadata": {},
   "source": [
    "### 1.5 Representing matrices\n",
    "\n",
    "The following is the ratings matrix $R$ from above (also commonly called a Customers $\\times$ Products matrix).\n",
    "```\n",
    "┌───┬───┬───┐\n",
    "│ 1 │   │ 2 │\n",
    "├───┼───┼───┤\n",
    "│ 1 │ 5 │   │\n",
    "├───┼───┼───┤\n",
    "│   │ 2 │ 1 │\n",
    "└───┴───┴───┘\n",
    "```"
   ]
  },
  {
   "cell_type": "code",
   "execution_count": 3,
   "metadata": {},
   "outputs": [
    {
     "data": {
      "text/plain": [
       "array([[ 1., nan,  2.],\n",
       "       [ 1.,  5., nan],\n",
       "       [nan,  2.,  1.]])"
      ]
     },
     "execution_count": 3,
     "metadata": {},
     "output_type": "execute_result"
    }
   ],
   "source": [
    "R = [[1, np.nan, 2], [1, 5, np.nan], [np.nan, 2, 1]]\n",
    "R = np.array(R)\n",
    "R"
   ]
  },
  {
   "cell_type": "markdown",
   "metadata": {},
   "source": [
    "This is how we Beatriz (third row): "
   ]
  },
  {
   "cell_type": "code",
   "execution_count": 4,
   "metadata": {},
   "outputs": [
    {
     "data": {
      "text/plain": [
       "array([nan,  2.,  1.])"
      ]
     },
     "execution_count": 4,
     "metadata": {},
     "output_type": "execute_result"
    }
   ],
   "source": [
    "R[2]"
   ]
  },
  {
   "cell_type": "markdown",
   "metadata": {},
   "source": [
    "### 1.6 Matrix attributes\n",
    "\n",
    "Let's recall some important attributes of any `ndarray`:"
   ]
  },
  {
   "cell_type": "code",
   "execution_count": 5,
   "metadata": {},
   "outputs": [
    {
     "name": "stdout",
     "output_type": "stream",
     "text": [
      "R is a 2-dimensional, 3 by 3 matrix, of float64 elements.\n"
     ]
    }
   ],
   "source": [
    "ndims = R.ndim\n",
    "nrows = R.shape[0]\n",
    "ncols = R.shape[1] \n",
    "dtype = R.dtype\n",
    "\n",
    "print(\"R is a {}-dimensional, {} by {} matrix, of {} elements.\".format(ndims, nrows, ncols, dtype))"
   ]
  },
  {
   "cell_type": "markdown",
   "metadata": {},
   "source": [
    "Cool, so $R$ has two dimensions (customers and products), 3 customers (rows) and 3 products (columns)."
   ]
  },
  {
   "cell_type": "markdown",
   "metadata": {},
   "source": [
    "### 1.7 Saving the matrix\n",
    "\n",
    "We can save the matrix to a binary file in the NumPy `.npy` format.\n",
    "\n",
    "Note that `save` is a stand-alone function and not an array method."
   ]
  },
  {
   "cell_type": "code",
   "execution_count": 6,
   "metadata": {},
   "outputs": [],
   "source": [
    "np.save('data/interim/ratings_matrix', R);"
   ]
  },
  {
   "cell_type": "markdown",
   "metadata": {},
   "source": [
    "Alternatively, we can dump the matrix into a `.csv` file."
   ]
  },
  {
   "cell_type": "code",
   "execution_count": 7,
   "metadata": {},
   "outputs": [],
   "source": [
    "np.savetxt(\"data/interim/ratings_matrix.csv\", R, delimiter=\",\")"
   ]
  },
  {
   "cell_type": "markdown",
   "metadata": {},
   "source": [
    "## 2. Sparse matrices\n",
    "\n",
    "These matrixes can get quite big as you add users or products!\n",
    "\n",
    "Huge matrices require lots of memory, and most of these matrices are very sparse, as recorded ratings are relatively rare. Think of Netflix: you, as a user, have not provided ratings for the vast majority (if any) of the movies and TV shows. This means that most of the elements of the ratings matrix are zeros or missing values and only a few entries are filled with information."
   ]
  },
  {
   "cell_type": "markdown",
   "metadata": {},
   "source": [
    "<img src=\"https://i.imgflip.com/4hg29a.jpg\" width=\"400\"/>"
   ]
  },
  {
   "cell_type": "markdown",
   "metadata": {},
   "source": [
    "This allocation is a waste of resources, as missing values and data cost the same space, but only the later hold any information.\n",
    "\n",
    "In practice, this leads to matrices that don't fit in memory, despite having a manageable amount of data. And as your company grows and you get more users or more products, this problem gets even worse!\n",
    "\n",
    "The premise of sparse data structures is that we **store only non-zero values**, and assume that the rest of them are zeros.\n",
    "\n",
    "**Sparse matrices** allow us to mitigate the memory problem:\n",
    "* They are less memory-intensive as they store only the relevant values;\n",
    "* Operations on sparse matrices ignore zero values, i.e. the majority of the cells, and so run faster."
   ]
  },
  {
   "cell_type": "markdown",
   "metadata": {},
   "source": [
    "### 2.1 Sparse matrices in SciPy\n",
    "\n",
    "The [scipy.sparse](https://docs.scipy.org/doc/scipy/tutorial/sparse.html) module implements sparse matrices based on regular NumPy arrays.\n",
    "\n",
    "For the sake of illustration, let's compare the size of a sparse versus a regular matrix with the same information.\n",
    "\n",
    "We use [sp.sparse.random](https://docs.scipy.org/doc/scipy/reference/generated/scipy.sparse.random.html#scipy.sparse.random) to generate a sparse matrix of 1000 rows and 100000 columns and with just 1 percent non-zero values (1% density) with randomly distributed values. We then transform this matrix to a regular matrix and compare their sizes."
   ]
  },
  {
   "cell_type": "code",
   "execution_count": 8,
   "metadata": {},
   "outputs": [
    {
     "data": {
      "text/plain": [
       "0.015005005"
      ]
     },
     "execution_count": 8,
     "metadata": {},
     "output_type": "execute_result"
    }
   ],
   "source": [
    "def sparse_matrix_nbytes(M):\n",
    "    ''' Calculate the size of a sparse matrix '''\n",
    "    return M.data.nbytes + M.indptr.nbytes + M.indices.nbytes\n",
    "\n",
    "A = random(10 ** 3, 10 ** 5, density=.01, format='csr')\n",
    "sparse_matrix_nbytes(A) / A.toarray().nbytes"
   ]
  },
  {
   "cell_type": "markdown",
   "metadata": {},
   "source": [
    "So, there's that - this sparse matrix only takes up 1.5% of the space of a regular matrix of the same size and content - huge saving!\n",
    "\n",
    "In the rest of this notebook, we'll explore how sparse matrices work and some of the ways they are implemented."
   ]
  },
  {
   "cell_type": "markdown",
   "metadata": {},
   "source": [
    "#### 2.1.1 Dictionary of keys (DOK)\n",
    "\n",
    "The most straightforward implementation of a sparse matrix is as a dictionary, in which the keys are tuples that represent matrix coordinates and the values are the matrix values at that coordinate.\n",
    "\n",
    "```\n",
    "┌───┬───┬───┐          \n",
    "│ 2 │ 0 │ 0 │          {  \n",
    "├───┼───┼───┤            (0, 0): 2,\n",
    "│ 0 │ 5 │ 0 │ → DoK →    (1, 1): 5,\n",
    "├───┼───┼───┤            (2, 1): 3,\n",
    "│ 0 │ 3 │ 0 │          }\n",
    "└───┴───┴───┘ \n",
    "```"
   ]
  },
  {
   "cell_type": "code",
   "execution_count": 9,
   "metadata": {},
   "outputs": [
    {
     "data": {
      "text/plain": [
       "array([[0.        , 0.        , 0.        , 0.        , 0.        ],\n",
       "       [0.        , 0.        , 0.        , 0.52475643, 0.        ],\n",
       "       [0.        , 0.        , 0.        , 0.        , 0.        ],\n",
       "       [0.        , 0.30424224, 0.        , 0.        , 0.        ],\n",
       "       [0.        , 0.        , 0.        , 0.        , 0.        ]])"
      ]
     },
     "execution_count": 9,
     "metadata": {},
     "output_type": "execute_result"
    }
   ],
   "source": [
    "B = random(5, 5, density=.08, format='dok', random_state=42)\n",
    "\n",
    "B.toarray()"
   ]
  },
  {
   "cell_type": "code",
   "execution_count": 10,
   "metadata": {},
   "outputs": [
    {
     "data": {
      "text/plain": [
       "{(np.int32(1), np.int32(3)): np.float64(0.5247564316322378),\n",
       " (np.int32(3), np.int32(1)): np.float64(0.3042422429595377)}"
      ]
     },
     "execution_count": 10,
     "metadata": {},
     "output_type": "execute_result"
    }
   ],
   "source": [
    "dict(B)"
   ]
  },
  {
   "cell_type": "markdown",
   "metadata": {},
   "source": [
    "#### 2.1.2 Compressed sparse (CS)\n",
    "\n",
    "Although the DOK implementation is quite easy to understand, the most used format is the compressed sparse and this is the one we are going to use going forward. It has a Row and a Column variant.\n",
    "\n",
    "The **Compressed sparse row (CSR)**, uses three arrays:\n",
    "* `data`, the value vector containing all non-zero values in [row-major order](https://en.wikipedia.org/wiki/Row-_and_column-major_order)\n",
    "* `indptr`, the index pointer indicates at which element of the value vector each row starts and ends\n",
    "* `indices`, contains the column indices for each value from the value vector.\n",
    "\n",
    "```\n",
    "┌───┬───┬───┐                   \n",
    "│ 1 │ 0 │ 1 │          Matrix data:    [1, 1, 1] \n",
    "├───┼───┼───┤          \n",
    "│ 0 │ 0 │ 0 │ → CSR →  Matrix indptr:  [0, 2, 2, 3]\n",
    "├───┼───┼───┤          \n",
    "│ 0 │ 0 │ 1 │          Matrix indices: [0, 2, 2]\n",
    "└───┴───┴───┘ \n",
    "```\n",
    "\n",
    "For the example above:\n",
    "* The first row is given by `data[0:2]`\n",
    "* The second row is given by `data[2:2]`\n",
    "* The third row is given by `data[2:3]`."
   ]
  },
  {
   "cell_type": "markdown",
   "metadata": {},
   "source": [
    "For a better visualization, check this CSR representation from this [paper](https://www.semanticscholar.org/paper/Dynamic-CSR-%3A-A-Format-for-Dynamic-Sparse-Matrix-King-Gilray/cee342df5f4e93747d5d2ff9804b8129f818768c#citing-papers).\n",
    "\n",
    "![Compressed Sparse Row Representation](./media/csr.jpg)"
   ]
  },
  {
   "cell_type": "markdown",
   "metadata": {},
   "source": [
    "The **Compressed sparse column (CSC)** format is similar, but the pointers refer to columns and the indices to the rows.\n",
    "\n",
    "When comparing these two types of compressed sparse matrices:\n",
    "* `CSR` provides efficient row slicing but slow column slicing, so better accessing and operating on row vectors\n",
    "* `CSC` provides efficient column slicing but slow row slicing, so better accessing and operating on column vectors.\n",
    "\n",
    "Let's see an example of the CSR format:"
   ]
  },
  {
   "cell_type": "code",
   "execution_count": 11,
   "metadata": {},
   "outputs": [
    {
     "data": {
      "text/plain": [
       "array([[0.22027153, 0.        , 0.        , 0.16514066, 0.        ],\n",
       "       [0.        , 0.        , 0.73870729, 0.        , 0.        ],\n",
       "       [0.        , 0.        , 0.        , 0.        , 0.        ],\n",
       "       [0.92758757, 0.        , 0.        , 0.        , 0.        ],\n",
       "       [0.10069371, 0.        , 0.        , 0.        , 0.        ]])"
      ]
     },
     "execution_count": 11,
     "metadata": {},
     "output_type": "execute_result"
    }
   ],
   "source": [
    "E = random(5, 5, density=.2, format='csr', random_state=65)\n",
    "\n",
    "E.toarray()"
   ]
  },
  {
   "cell_type": "code",
   "execution_count": 12,
   "metadata": {},
   "outputs": [
    {
     "data": {
      "text/plain": [
       "array([0.22027153, 0.16514066, 0.73870729, 0.92758757, 0.10069371])"
      ]
     },
     "execution_count": 12,
     "metadata": {},
     "output_type": "execute_result"
    }
   ],
   "source": [
    "E.data"
   ]
  },
  {
   "cell_type": "code",
   "execution_count": 13,
   "metadata": {},
   "outputs": [
    {
     "data": {
      "text/plain": [
       "array([0, 2, 3, 3, 4, 5], dtype=int32)"
      ]
     },
     "execution_count": 13,
     "metadata": {},
     "output_type": "execute_result"
    }
   ],
   "source": [
    "E.indptr"
   ]
  },
  {
   "cell_type": "code",
   "execution_count": 14,
   "metadata": {},
   "outputs": [
    {
     "data": {
      "text/plain": [
       "array([0, 3, 2, 0, 0], dtype=int32)"
      ]
     },
     "execution_count": 14,
     "metadata": {},
     "output_type": "execute_result"
    }
   ],
   "source": [
    "E.indices"
   ]
  },
  {
   "cell_type": "markdown",
   "metadata": {},
   "source": [
    "### 2.2 Creating sparse matrices\n",
    "\n",
    "Back to our ratings matrix $R$ from the previous section:\n",
    "\n",
    "```\n",
    "    ┌───┬───┬───┐                   \n",
    "    │ 1 │   │ 2 │\n",
    "    ├───┼───┼───┤          \n",
    "R = │ 1 │ 5 │   │\n",
    "    ├───┼───┼───┤          \n",
    "    │   │ 2 │ 1 │\n",
    "    └───┴───┴───┘ \n",
    "```\n",
    "\n",
    "In this section, we will build sparse representations of $R$. We start from the full matrix."
   ]
  },
  {
   "cell_type": "code",
   "execution_count": 15,
   "metadata": {},
   "outputs": [
    {
     "data": {
      "text/plain": [
       "array([[1, 0, 2],\n",
       "       [1, 5, 0],\n",
       "       [0, 2, 1]])"
      ]
     },
     "execution_count": 15,
     "metadata": {},
     "output_type": "execute_result"
    }
   ],
   "source": [
    "data = np.array([1, 0, 2, 1, 5, 0, 0, 2, 1]).reshape(3, 3)\n",
    "data"
   ]
  },
  {
   "cell_type": "markdown",
   "metadata": {},
   "source": [
    "#### 2.2.1 DOK\n",
    "\n",
    "A matrix in `DOK` format can be constructed incrementally."
   ]
  },
  {
   "cell_type": "code",
   "execution_count": 16,
   "metadata": {},
   "outputs": [
    {
     "data": {
      "text/plain": [
       "<Dictionary Of Keys sparse matrix of dtype 'float64'\n",
       "\twith 6 stored elements and shape (3, 3)>"
      ]
     },
     "execution_count": 16,
     "metadata": {},
     "output_type": "execute_result"
    }
   ],
   "source": [
    "F = dok_matrix((3, 3))\n",
    "\n",
    "for i in range(3):\n",
    "    for j in range(3):\n",
    "        F[i, j] = data[i, j]\n",
    "F"
   ]
  },
  {
   "cell_type": "markdown",
   "metadata": {},
   "source": [
    "Here is our matrix (we need to convert it to a normal matrix to see it):"
   ]
  },
  {
   "cell_type": "code",
   "execution_count": 17,
   "metadata": {},
   "outputs": [
    {
     "data": {
      "text/plain": [
       "array([[1., 0., 2.],\n",
       "       [1., 5., 0.],\n",
       "       [0., 2., 1.]])"
      ]
     },
     "execution_count": 17,
     "metadata": {},
     "output_type": "execute_result"
    }
   ],
   "source": [
    "F.toarray()"
   ]
  },
  {
   "cell_type": "markdown",
   "metadata": {},
   "source": [
    "#### 2.2.2 Compressed sparse\n",
    "\n",
    "Numpy matrices can easily be converted to the `CSR` format:"
   ]
  },
  {
   "cell_type": "code",
   "execution_count": 18,
   "metadata": {},
   "outputs": [
    {
     "data": {
      "text/plain": [
       "<Compressed Sparse Row sparse matrix of dtype 'int64'\n",
       "\twith 6 stored elements and shape (3, 3)>"
      ]
     },
     "execution_count": 18,
     "metadata": {},
     "output_type": "execute_result"
    }
   ],
   "source": [
    "H_csr = csr_matrix(data)\n",
    "H_csr"
   ]
  },
  {
   "cell_type": "markdown",
   "metadata": {},
   "source": [
    "Here are the three constructing arrays:"
   ]
  },
  {
   "cell_type": "code",
   "execution_count": 19,
   "metadata": {},
   "outputs": [
    {
     "data": {
      "text/plain": [
       "array([1, 2, 1, 5, 2, 1])"
      ]
     },
     "execution_count": 19,
     "metadata": {},
     "output_type": "execute_result"
    }
   ],
   "source": [
    "H_csr.data"
   ]
  },
  {
   "cell_type": "code",
   "execution_count": 20,
   "metadata": {},
   "outputs": [
    {
     "data": {
      "text/plain": [
       "array([0, 2, 4, 6], dtype=int32)"
      ]
     },
     "execution_count": 20,
     "metadata": {},
     "output_type": "execute_result"
    }
   ],
   "source": [
    "H_csr.indptr"
   ]
  },
  {
   "cell_type": "code",
   "execution_count": 21,
   "metadata": {},
   "outputs": [
    {
     "data": {
      "text/plain": [
       "array([0, 2, 0, 1, 1, 2], dtype=int32)"
      ]
     },
     "execution_count": 21,
     "metadata": {},
     "output_type": "execute_result"
    }
   ],
   "source": [
    "H_csr.indices"
   ]
  },
  {
   "cell_type": "markdown",
   "metadata": {},
   "source": [
    "The process is exactly the same to convert to `CSC`:"
   ]
  },
  {
   "cell_type": "code",
   "execution_count": 22,
   "metadata": {},
   "outputs": [
    {
     "data": {
      "text/plain": [
       "<Compressed Sparse Column sparse matrix of dtype 'int64'\n",
       "\twith 6 stored elements and shape (3, 3)>"
      ]
     },
     "execution_count": 22,
     "metadata": {},
     "output_type": "execute_result"
    }
   ],
   "source": [
    "H_csc = csc_matrix(data)\n",
    "H_csc"
   ]
  },
  {
   "cell_type": "markdown",
   "metadata": {},
   "source": [
    "#### 2.2.3 From pandas DataFrame to SciPy sparse\n",
    "\n",
    "Pandas DataFrames are based on NumPy arrays, so we can directly convert them to SciPy sparse matrices. This allows you to use Pandas on your data to do cool feature engineering and plot things."
   ]
  },
  {
   "cell_type": "code",
   "execution_count": 23,
   "metadata": {
    "jupyter": {
     "source_hidden": true
    }
   },
   "outputs": [
    {
     "data": {
      "text/html": [
       "<div>\n",
       "<style scoped>\n",
       "    .dataframe tbody tr th:only-of-type {\n",
       "        vertical-align: middle;\n",
       "    }\n",
       "\n",
       "    .dataframe tbody tr th {\n",
       "        vertical-align: top;\n",
       "    }\n",
       "\n",
       "    .dataframe thead th {\n",
       "        text-align: right;\n",
       "    }\n",
       "</style>\n",
       "<table border=\"1\" class=\"dataframe\">\n",
       "  <thead>\n",
       "    <tr style=\"text-align: right;\">\n",
       "      <th></th>\n",
       "      <th>Bananas</th>\n",
       "      <th>Water</th>\n",
       "      <th>Milk</th>\n",
       "    </tr>\n",
       "  </thead>\n",
       "  <tbody>\n",
       "    <tr>\n",
       "      <th>Ana</th>\n",
       "      <td>1</td>\n",
       "      <td>0</td>\n",
       "      <td>2</td>\n",
       "    </tr>\n",
       "    <tr>\n",
       "      <th>Miguel</th>\n",
       "      <td>1</td>\n",
       "      <td>5</td>\n",
       "      <td>0</td>\n",
       "    </tr>\n",
       "    <tr>\n",
       "      <th>Beatriz</th>\n",
       "      <td>0</td>\n",
       "      <td>2</td>\n",
       "      <td>1</td>\n",
       "    </tr>\n",
       "  </tbody>\n",
       "</table>\n",
       "</div>"
      ],
      "text/plain": [
       "         Bananas  Water  Milk\n",
       "Ana            1      0     2\n",
       "Miguel         1      5     0\n",
       "Beatriz        0      2     1"
      ]
     },
     "execution_count": 23,
     "metadata": {},
     "output_type": "execute_result"
    }
   ],
   "source": [
    "df = pd.DataFrame({\n",
    "    'Bananas': [1,1,0],\n",
    "    'Water': [0,5,2],\n",
    "    'Milk': [2,0,1]\n",
    "    },\n",
    "    index=['Ana', 'Miguel', 'Beatriz']\n",
    ")\n",
    "df"
   ]
  },
  {
   "cell_type": "markdown",
   "metadata": {},
   "source": [
    "Here we convert the dataframe to a sparse matrix:"
   ]
  },
  {
   "cell_type": "code",
   "execution_count": 24,
   "metadata": {},
   "outputs": [
    {
     "data": {
      "text/plain": [
       "<Compressed Sparse Column sparse matrix of dtype 'int64'\n",
       "\twith 6 stored elements and shape (3, 3)>"
      ]
     },
     "execution_count": 24,
     "metadata": {},
     "output_type": "execute_result"
    }
   ],
   "source": [
    "H_df_csc = csc_matrix(df.to_numpy())\n",
    "H_df_csc"
   ]
  },
  {
   "cell_type": "markdown",
   "metadata": {},
   "source": [
    "And this is how it looks like:"
   ]
  },
  {
   "cell_type": "code",
   "execution_count": 25,
   "metadata": {},
   "outputs": [
    {
     "data": {
      "text/plain": [
       "array([[1, 0, 2],\n",
       "       [1, 5, 0],\n",
       "       [0, 2, 1]])"
      ]
     },
     "execution_count": 25,
     "metadata": {},
     "output_type": "execute_result"
    }
   ],
   "source": [
    "H_df_csc .toarray()"
   ]
  },
  {
   "cell_type": "markdown",
   "metadata": {},
   "source": [
    "That's it for a short intro to sparse matrices. You can find more information on sparse matrices in the optional learning notebook."
   ]
  }
 ],
 "metadata": {
  "kernelspec": {
   "display_name": "Python 3 (ipykernel)",
   "language": "python",
   "name": "python3"
  },
  "language_info": {
   "codemirror_mode": {
    "name": "ipython",
    "version": 3
   },
   "file_extension": ".py",
   "mimetype": "text/x-python",
   "name": "python",
   "nbconvert_exporter": "python",
   "pygments_lexer": "ipython3",
   "version": "3.12.8"
  }
 },
 "nbformat": 4,
 "nbformat_minor": 4
}
