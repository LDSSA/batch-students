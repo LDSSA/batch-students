{
 "cells": [
  {
   "cell_type": "code",
   "execution_count": 1,
   "id": "6f49fbf5",
   "metadata": {},
   "outputs": [],
   "source": [
    "import pandas as pd\n",
    "import seaborn  as sns\n",
    "from collections import  Counter\n",
    "\n",
    "from nltk.corpus import stopwords\n",
    "from sklearn.feature_extraction.text import CountVectorizer"
   ]
  },
  {
   "cell_type": "markdown",
   "id": "3957c67c",
   "metadata": {},
   "source": [
    "# 1. Exploratory Data Analysis"
   ]
  },
  {
   "cell_type": "code",
   "execution_count": 2,
   "id": "54dc553e",
   "metadata": {},
   "outputs": [
    {
     "data": {
      "text/html": [
       "<div>\n",
       "<style scoped>\n",
       "    .dataframe tbody tr th:only-of-type {\n",
       "        vertical-align: middle;\n",
       "    }\n",
       "\n",
       "    .dataframe tbody tr th {\n",
       "        vertical-align: top;\n",
       "    }\n",
       "\n",
       "    .dataframe thead th {\n",
       "        text-align: right;\n",
       "    }\n",
       "</style>\n",
       "<table border=\"1\" class=\"dataframe\">\n",
       "  <thead>\n",
       "    <tr style=\"text-align: right;\">\n",
       "      <th></th>\n",
       "      <th>text</th>\n",
       "      <th>date</th>\n",
       "      <th>category</th>\n",
       "      <th>language</th>\n",
       "    </tr>\n",
       "  </thead>\n",
       "  <tbody>\n",
       "    <tr>\n",
       "      <th>0</th>\n",
       "      <td>Hello, Does it matter iff I use Visa or Master...</td>\n",
       "      <td>7-6-2022</td>\n",
       "      <td>visa_or_mastercard</td>\n",
       "      <td>en</td>\n",
       "    </tr>\n",
       "    <tr>\n",
       "      <th>1</th>\n",
       "      <td>Good afternoon, I just got refunded for my pur...</td>\n",
       "      <td>16-11-2022</td>\n",
       "      <td>reverted_card_payment?</td>\n",
       "      <td>en</td>\n",
       "    </tr>\n",
       "    <tr>\n",
       "      <th>2</th>\n",
       "      <td>Hello, I got billed ann extra pound! Thanks</td>\n",
       "      <td>4-12-2022</td>\n",
       "      <td>extra_charge_on_statement</td>\n",
       "      <td>en</td>\n",
       "    </tr>\n",
       "    <tr>\n",
       "      <th>3</th>\n",
       "      <td>Hi, How long does it take for a transfer to sh...</td>\n",
       "      <td>23-11-2022</td>\n",
       "      <td>transfer_timing</td>\n",
       "      <td>en</td>\n",
       "    </tr>\n",
       "    <tr>\n",
       "      <th>4</th>\n",
       "      <td>hi, When can I use money sent to my accountt? ...</td>\n",
       "      <td>17-4-2022</td>\n",
       "      <td>transfer_timing</td>\n",
       "      <td>en</td>\n",
       "    </tr>\n",
       "  </tbody>\n",
       "</table>\n",
       "</div>"
      ],
      "text/plain": [
       "                                                text        date  \\\n",
       "0  Hello, Does it matter iff I use Visa or Master...    7-6-2022   \n",
       "1  Good afternoon, I just got refunded for my pur...  16-11-2022   \n",
       "2        Hello, I got billed ann extra pound! Thanks   4-12-2022   \n",
       "3  Hi, How long does it take for a transfer to sh...  23-11-2022   \n",
       "4  hi, When can I use money sent to my accountt? ...   17-4-2022   \n",
       "\n",
       "                    category language  \n",
       "0         visa_or_mastercard       en  \n",
       "1     reverted_card_payment?       en  \n",
       "2  extra_charge_on_statement       en  \n",
       "3            transfer_timing       en  \n",
       "4            transfer_timing       en  "
      ]
     },
     "execution_count": 2,
     "metadata": {},
     "output_type": "execute_result"
    }
   ],
   "source": [
    "dataset = pd.read_csv(\"../data/dataset.csv\")\n",
    "dataset.head()"
   ]
  },
  {
   "cell_type": "code",
   "execution_count": 3,
   "id": "a21d9c0e",
   "metadata": {},
   "outputs": [
    {
     "name": "stdout",
     "output_type": "stream",
     "text": [
      "<class 'pandas.core.frame.DataFrame'>\n",
      "RangeIndex: 9375 entries, 0 to 9374\n",
      "Data columns (total 4 columns):\n",
      " #   Column    Non-Null Count  Dtype \n",
      "---  ------    --------------  ----- \n",
      " 0   text      9373 non-null   object\n",
      " 1   date      9373 non-null   object\n",
      " 2   category  9373 non-null   object\n",
      " 3   language  9373 non-null   object\n",
      "dtypes: object(4)\n",
      "memory usage: 293.1+ KB\n"
     ]
    }
   ],
   "source": [
    "dataset.info()"
   ]
  },
  {
   "cell_type": "markdown",
   "id": "3ed021c0",
   "metadata": {},
   "source": [
    "##### To make sure there is no NaN or duplicated text "
   ]
  },
  {
   "cell_type": "code",
   "execution_count": 4,
   "id": "5e760d73",
   "metadata": {},
   "outputs": [],
   "source": [
    "dataset = dataset.dropna()"
   ]
  },
  {
   "cell_type": "code",
   "execution_count": 5,
   "id": "2fcccdbc",
   "metadata": {},
   "outputs": [
    {
     "name": "stdout",
     "output_type": "stream",
     "text": [
      "<class 'pandas.core.frame.DataFrame'>\n",
      "Int64Index: 9373 entries, 0 to 9374\n",
      "Data columns (total 4 columns):\n",
      " #   Column    Non-Null Count  Dtype \n",
      "---  ------    --------------  ----- \n",
      " 0   text      9373 non-null   object\n",
      " 1   date      9373 non-null   object\n",
      " 2   category  9373 non-null   object\n",
      " 3   language  9373 non-null   object\n",
      "dtypes: object(4)\n",
      "memory usage: 366.1+ KB\n"
     ]
    }
   ],
   "source": [
    "dataset.info()"
   ]
  },
  {
   "cell_type": "code",
   "execution_count": 6,
   "id": "1fdd61f6",
   "metadata": {},
   "outputs": [],
   "source": [
    "dataset = dataset.drop_duplicates()"
   ]
  },
  {
   "cell_type": "code",
   "execution_count": 7,
   "id": "fd137060",
   "metadata": {},
   "outputs": [
    {
     "name": "stdout",
     "output_type": "stream",
     "text": [
      "<class 'pandas.core.frame.DataFrame'>\n",
      "Int64Index: 9372 entries, 0 to 9374\n",
      "Data columns (total 4 columns):\n",
      " #   Column    Non-Null Count  Dtype \n",
      "---  ------    --------------  ----- \n",
      " 0   text      9372 non-null   object\n",
      " 1   date      9372 non-null   object\n",
      " 2   category  9372 non-null   object\n",
      " 3   language  9372 non-null   object\n",
      "dtypes: object(4)\n",
      "memory usage: 366.1+ KB\n"
     ]
    }
   ],
   "source": [
    "dataset.info()"
   ]
  },
  {
   "cell_type": "code",
   "execution_count": 8,
   "id": "c591ed04",
   "metadata": {},
   "outputs": [
    {
     "data": {
      "text/plain": [
       "direct_debit_payment_not_recognised                 174\n",
       "card_payment_fee_charged                            173\n",
       "declined_cash_withdrawal                            166\n",
       "balance_not_updated_after_cheque_or_cash_deposit    165\n",
       "wrong_amount_of_cash_received                       165\n",
       "                                                   ... \n",
       "card_acceptance                                      61\n",
       "card_swallowed                                       60\n",
       "virtual_card_not_working                             40\n",
       "contactless_not_working                              37\n",
       "account_support                                      34\n",
       "Name: category, Length: 78, dtype: int64"
      ]
     },
     "execution_count": 8,
     "metadata": {},
     "output_type": "execute_result"
    }
   ],
   "source": [
    "dataset.category.value_counts()"
   ]
  },
  {
   "cell_type": "markdown",
   "id": "069e5da9",
   "metadata": {},
   "source": [
    "##### Class Mapping"
   ]
  },
  {
   "cell_type": "code",
   "execution_count": 9,
   "id": "4bd2e408",
   "metadata": {},
   "outputs": [
    {
     "data": {
      "text/html": [
       "<div>\n",
       "<style scoped>\n",
       "    .dataframe tbody tr th:only-of-type {\n",
       "        vertical-align: middle;\n",
       "    }\n",
       "\n",
       "    .dataframe tbody tr th {\n",
       "        vertical-align: top;\n",
       "    }\n",
       "\n",
       "    .dataframe thead th {\n",
       "        text-align: right;\n",
       "    }\n",
       "</style>\n",
       "<table border=\"1\" class=\"dataframe\">\n",
       "  <thead>\n",
       "    <tr style=\"text-align: right;\">\n",
       "      <th></th>\n",
       "      <th>category</th>\n",
       "      <th>class</th>\n",
       "    </tr>\n",
       "  </thead>\n",
       "  <tbody>\n",
       "    <tr>\n",
       "      <th>0</th>\n",
       "      <td>card_arrival</td>\n",
       "      <td>card</td>\n",
       "    </tr>\n",
       "    <tr>\n",
       "      <th>1</th>\n",
       "      <td>card_linking</td>\n",
       "      <td>card</td>\n",
       "    </tr>\n",
       "    <tr>\n",
       "      <th>2</th>\n",
       "      <td>exchange_rate</td>\n",
       "      <td>others</td>\n",
       "    </tr>\n",
       "    <tr>\n",
       "      <th>3</th>\n",
       "      <td>card_payment_wrong_exchange_rate</td>\n",
       "      <td>card</td>\n",
       "    </tr>\n",
       "    <tr>\n",
       "      <th>4</th>\n",
       "      <td>extra_charge_on_statement</td>\n",
       "      <td>others</td>\n",
       "    </tr>\n",
       "  </tbody>\n",
       "</table>\n",
       "</div>"
      ],
      "text/plain": [
       "                           category   class\n",
       "0                      card_arrival    card\n",
       "1                      card_linking    card\n",
       "2                     exchange_rate  others\n",
       "3  card_payment_wrong_exchange_rate    card\n",
       "4         extra_charge_on_statement  others"
      ]
     },
     "execution_count": 9,
     "metadata": {},
     "output_type": "execute_result"
    }
   ],
   "source": [
    "mapping = pd.read_csv(\"../data/mapping.csv\")\n",
    "mapping.head()"
   ]
  },
  {
   "cell_type": "code",
   "execution_count": 10,
   "id": "9ff591b1",
   "metadata": {},
   "outputs": [
    {
     "name": "stdout",
     "output_type": "stream",
     "text": [
      "<class 'pandas.core.frame.DataFrame'>\n",
      "RangeIndex: 77 entries, 0 to 76\n",
      "Data columns (total 2 columns):\n",
      " #   Column    Non-Null Count  Dtype \n",
      "---  ------    --------------  ----- \n",
      " 0   category  77 non-null     object\n",
      " 1   class     77 non-null     object\n",
      "dtypes: object(2)\n",
      "memory usage: 1.3+ KB\n"
     ]
    }
   ],
   "source": [
    "mapping.info()"
   ]
  },
  {
   "cell_type": "code",
   "execution_count": 11,
   "id": "08ae92d4",
   "metadata": {},
   "outputs": [
    {
     "data": {
      "text/plain": [
       "array(['card', 'others', 'cash', 'security', 'transfer'], dtype=object)"
      ]
     },
     "execution_count": 11,
     "metadata": {},
     "output_type": "execute_result"
    }
   ],
   "source": [
    "mapping[\"class\"].unique()"
   ]
  },
  {
   "cell_type": "code",
   "execution_count": 12,
   "id": "de56197e",
   "metadata": {
    "scrolled": true
   },
   "outputs": [
    {
     "data": {
      "text/plain": [
       "{'card_arrival': 'card',\n",
       " 'card_linking': 'card',\n",
       " 'exchange_rate': 'others',\n",
       " 'card_payment_wrong_exchange_rate': 'card',\n",
       " 'extra_charge_on_statement': 'others',\n",
       " 'pending_cash_withdrawal': 'cash',\n",
       " 'fiat_currency_support': 'others',\n",
       " 'card_delivery_estimate': 'card',\n",
       " 'automatic_top_up': 'others',\n",
       " 'card_not_working': 'card',\n",
       " 'exchange_via_app': 'others',\n",
       " 'lost_or_stolen_card': 'card',\n",
       " 'age_limit': 'others',\n",
       " 'pin_blocked': 'security',\n",
       " 'contactless_not_working': 'others',\n",
       " 'top_up_by_bank_transfer_charge': 'transfer',\n",
       " 'pending_top_up': 'others',\n",
       " 'cancel_transfer': 'transfer',\n",
       " 'top_up_limits': 'others',\n",
       " 'wrong_amount_of_cash_received': 'cash',\n",
       " 'card_payment_fee_charged': 'card',\n",
       " 'transfer_not_received_by_recipient': 'transfer',\n",
       " 'supported_cards_and_currencies': 'card',\n",
       " 'getting_virtual_card': 'card',\n",
       " 'card_acceptance': 'card',\n",
       " 'top_up_reverted': 'others',\n",
       " 'balance_not_updated_after_cheque_or_cash_deposit': 'cash',\n",
       " 'card_payment_not_recognised': 'card',\n",
       " 'edit_personal_details': 'security',\n",
       " 'why_verify_identity': 'others',\n",
       " 'unable_to_verify_identity': 'others',\n",
       " 'get_physical_card': 'card',\n",
       " 'visa_or_mastercard': 'card',\n",
       " 'topping_up_by_card': 'card',\n",
       " 'disposable_card_limits': 'card',\n",
       " 'compromised_card': 'card',\n",
       " 'atm_support': 'others',\n",
       " 'direct_debit_payment_not_recognised': 'others',\n",
       " 'passcode_forgotten': 'security',\n",
       " 'declined_cash_withdrawal': 'cash',\n",
       " 'pending_card_payment': 'card',\n",
       " 'lost_or_stolen_phone': 'security',\n",
       " 'request_refund': 'others',\n",
       " 'declined_transfer': 'transfer',\n",
       " 'Refund_not_showing_up': 'others',\n",
       " 'declined_card_payment': 'card',\n",
       " 'pending_transfer': 'transfer',\n",
       " 'terminate_account': 'security',\n",
       " 'card_swallowed': 'card',\n",
       " 'transaction_charged_twice': 'others',\n",
       " 'verify_source_of_funds': 'others',\n",
       " 'transfer_timing': 'transfer',\n",
       " 'reverted_card_payment?': 'card',\n",
       " 'change_pin': 'security',\n",
       " 'beneficiary_not_allowed': 'others',\n",
       " 'transfer_fee_charged': 'transfer',\n",
       " 'receiving_money': 'others',\n",
       " 'failed_transfer': 'transfer',\n",
       " 'transfer_into_account': 'transfer',\n",
       " 'verify_top_up': 'others',\n",
       " 'getting_spare_card': 'card',\n",
       " 'top_up_by_cash_or_cheque': 'cash',\n",
       " 'order_physical_card': 'card',\n",
       " 'virtual_card_not_working': 'card',\n",
       " 'wrong_exchange_rate_for_cash_withdrawal': 'cash',\n",
       " 'get_disposable_virtual_card': 'card',\n",
       " 'top_up_failed': 'others',\n",
       " 'balance_not_updated_after_bank_transfer': 'transfer',\n",
       " 'cash_withdrawal_not_recognised': 'cash',\n",
       " 'exchange_charge': 'others',\n",
       " 'top_up_by_card_charge': 'card',\n",
       " 'activate_my_card': 'card',\n",
       " 'cash_withdrawal_charge': 'cash',\n",
       " 'card_about_to_expire': 'card',\n",
       " 'apple_pay_or_google_pay': 'others',\n",
       " 'verify_my_identity': 'others',\n",
       " 'country_support': 'others'}"
      ]
     },
     "execution_count": 12,
     "metadata": {},
     "output_type": "execute_result"
    }
   ],
   "source": [
    "# mapping into dictionary\n",
    "mapping_dict = dict(zip(mapping[\"category\"], mapping[\"class\"]))\n",
    "mapping_dict"
   ]
  },
  {
   "cell_type": "code",
   "execution_count": 13,
   "id": "2972df8b",
   "metadata": {},
   "outputs": [],
   "source": [
    "def class_mapping(category):\n",
    "    class_ = ''\n",
    "    if category in mapping_dict:\n",
    "        class_ = mapping_dict[category]\n",
    "        \n",
    "    return class_"
   ]
  },
  {
   "cell_type": "code",
   "execution_count": 14,
   "id": "a2ffc7e4",
   "metadata": {},
   "outputs": [
    {
     "data": {
      "text/html": [
       "<div>\n",
       "<style scoped>\n",
       "    .dataframe tbody tr th:only-of-type {\n",
       "        vertical-align: middle;\n",
       "    }\n",
       "\n",
       "    .dataframe tbody tr th {\n",
       "        vertical-align: top;\n",
       "    }\n",
       "\n",
       "    .dataframe thead th {\n",
       "        text-align: right;\n",
       "    }\n",
       "</style>\n",
       "<table border=\"1\" class=\"dataframe\">\n",
       "  <thead>\n",
       "    <tr style=\"text-align: right;\">\n",
       "      <th></th>\n",
       "      <th>text</th>\n",
       "      <th>date</th>\n",
       "      <th>category</th>\n",
       "      <th>language</th>\n",
       "      <th>class</th>\n",
       "    </tr>\n",
       "  </thead>\n",
       "  <tbody>\n",
       "    <tr>\n",
       "      <th>0</th>\n",
       "      <td>Hello, Does it matter iff I use Visa or Master...</td>\n",
       "      <td>7-6-2022</td>\n",
       "      <td>visa_or_mastercard</td>\n",
       "      <td>en</td>\n",
       "      <td>card</td>\n",
       "    </tr>\n",
       "    <tr>\n",
       "      <th>1</th>\n",
       "      <td>Good afternoon, I just got refunded for my pur...</td>\n",
       "      <td>16-11-2022</td>\n",
       "      <td>reverted_card_payment?</td>\n",
       "      <td>en</td>\n",
       "      <td>card</td>\n",
       "    </tr>\n",
       "    <tr>\n",
       "      <th>2</th>\n",
       "      <td>Hello, I got billed ann extra pound! Thanks</td>\n",
       "      <td>4-12-2022</td>\n",
       "      <td>extra_charge_on_statement</td>\n",
       "      <td>en</td>\n",
       "      <td>others</td>\n",
       "    </tr>\n",
       "    <tr>\n",
       "      <th>3</th>\n",
       "      <td>Hi, How long does it take for a transfer to sh...</td>\n",
       "      <td>23-11-2022</td>\n",
       "      <td>transfer_timing</td>\n",
       "      <td>en</td>\n",
       "      <td>transfer</td>\n",
       "    </tr>\n",
       "    <tr>\n",
       "      <th>4</th>\n",
       "      <td>hi, When can I use money sent to my accountt? ...</td>\n",
       "      <td>17-4-2022</td>\n",
       "      <td>transfer_timing</td>\n",
       "      <td>en</td>\n",
       "      <td>transfer</td>\n",
       "    </tr>\n",
       "  </tbody>\n",
       "</table>\n",
       "</div>"
      ],
      "text/plain": [
       "                                                text        date  \\\n",
       "0  Hello, Does it matter iff I use Visa or Master...    7-6-2022   \n",
       "1  Good afternoon, I just got refunded for my pur...  16-11-2022   \n",
       "2        Hello, I got billed ann extra pound! Thanks   4-12-2022   \n",
       "3  Hi, How long does it take for a transfer to sh...  23-11-2022   \n",
       "4  hi, When can I use money sent to my accountt? ...   17-4-2022   \n",
       "\n",
       "                    category language     class  \n",
       "0         visa_or_mastercard       en      card  \n",
       "1     reverted_card_payment?       en      card  \n",
       "2  extra_charge_on_statement       en    others  \n",
       "3            transfer_timing       en  transfer  \n",
       "4            transfer_timing       en  transfer  "
      ]
     },
     "execution_count": 14,
     "metadata": {},
     "output_type": "execute_result"
    }
   ],
   "source": [
    "dataset[\"class\"] = dataset[\"category\"].apply(class_mapping)\n",
    "dataset.head()"
   ]
  },
  {
   "cell_type": "code",
   "execution_count": 15,
   "id": "8c27961a",
   "metadata": {},
   "outputs": [
    {
     "ename": "OSError",
     "evalue": "Cannot save file into a non-existent directory: '..\\aux_data'",
     "output_type": "error",
     "traceback": [
      "\u001b[1;31m---------------------------------------------------------------------------\u001b[0m",
      "\u001b[1;31mOSError\u001b[0m                                   Traceback (most recent call last)",
      "Cell \u001b[1;32mIn[15], line 1\u001b[0m\n\u001b[1;32m----> 1\u001b[0m \u001b[43mdataset\u001b[49m\u001b[38;5;241;43m.\u001b[39;49m\u001b[43mto_csv\u001b[49m\u001b[43m(\u001b[49m\u001b[38;5;124;43m\"\u001b[39;49m\u001b[38;5;124;43m../aux_data/mapped_dataset.csv\u001b[39;49m\u001b[38;5;124;43m\"\u001b[39;49m\u001b[43m,\u001b[49m\u001b[43m \u001b[49m\u001b[43mindex\u001b[49m\u001b[38;5;241;43m=\u001b[39;49m\u001b[38;5;28;43;01mFalse\u001b[39;49;00m\u001b[43m)\u001b[49m\n",
      "File \u001b[1;32m~\\Desktop\\LDSSA\\env\\Lib\\site-packages\\pandas\\util\\_decorators.py:211\u001b[0m, in \u001b[0;36mdeprecate_kwarg.<locals>._deprecate_kwarg.<locals>.wrapper\u001b[1;34m(*args, **kwargs)\u001b[0m\n\u001b[0;32m    209\u001b[0m     \u001b[38;5;28;01melse\u001b[39;00m:\n\u001b[0;32m    210\u001b[0m         kwargs[new_arg_name] \u001b[38;5;241m=\u001b[39m new_arg_value\n\u001b[1;32m--> 211\u001b[0m \u001b[38;5;28;01mreturn\u001b[39;00m \u001b[43mfunc\u001b[49m\u001b[43m(\u001b[49m\u001b[38;5;241;43m*\u001b[39;49m\u001b[43margs\u001b[49m\u001b[43m,\u001b[49m\u001b[43m \u001b[49m\u001b[38;5;241;43m*\u001b[39;49m\u001b[38;5;241;43m*\u001b[39;49m\u001b[43mkwargs\u001b[49m\u001b[43m)\u001b[49m\n",
      "File \u001b[1;32m~\\Desktop\\LDSSA\\env\\Lib\\site-packages\\pandas\\core\\generic.py:3720\u001b[0m, in \u001b[0;36mNDFrame.to_csv\u001b[1;34m(self, path_or_buf, sep, na_rep, float_format, columns, header, index, index_label, mode, encoding, compression, quoting, quotechar, lineterminator, chunksize, date_format, doublequote, escapechar, decimal, errors, storage_options)\u001b[0m\n\u001b[0;32m   3709\u001b[0m df \u001b[38;5;241m=\u001b[39m \u001b[38;5;28mself\u001b[39m \u001b[38;5;28;01mif\u001b[39;00m \u001b[38;5;28misinstance\u001b[39m(\u001b[38;5;28mself\u001b[39m, ABCDataFrame) \u001b[38;5;28;01melse\u001b[39;00m \u001b[38;5;28mself\u001b[39m\u001b[38;5;241m.\u001b[39mto_frame()\n\u001b[0;32m   3711\u001b[0m formatter \u001b[38;5;241m=\u001b[39m DataFrameFormatter(\n\u001b[0;32m   3712\u001b[0m     frame\u001b[38;5;241m=\u001b[39mdf,\n\u001b[0;32m   3713\u001b[0m     header\u001b[38;5;241m=\u001b[39mheader,\n\u001b[1;32m   (...)\u001b[0m\n\u001b[0;32m   3717\u001b[0m     decimal\u001b[38;5;241m=\u001b[39mdecimal,\n\u001b[0;32m   3718\u001b[0m )\n\u001b[1;32m-> 3720\u001b[0m \u001b[38;5;28;01mreturn\u001b[39;00m \u001b[43mDataFrameRenderer\u001b[49m\u001b[43m(\u001b[49m\u001b[43mformatter\u001b[49m\u001b[43m)\u001b[49m\u001b[38;5;241;43m.\u001b[39;49m\u001b[43mto_csv\u001b[49m\u001b[43m(\u001b[49m\n\u001b[0;32m   3721\u001b[0m \u001b[43m    \u001b[49m\u001b[43mpath_or_buf\u001b[49m\u001b[43m,\u001b[49m\n\u001b[0;32m   3722\u001b[0m \u001b[43m    \u001b[49m\u001b[43mlineterminator\u001b[49m\u001b[38;5;241;43m=\u001b[39;49m\u001b[43mlineterminator\u001b[49m\u001b[43m,\u001b[49m\n\u001b[0;32m   3723\u001b[0m \u001b[43m    \u001b[49m\u001b[43msep\u001b[49m\u001b[38;5;241;43m=\u001b[39;49m\u001b[43msep\u001b[49m\u001b[43m,\u001b[49m\n\u001b[0;32m   3724\u001b[0m \u001b[43m    \u001b[49m\u001b[43mencoding\u001b[49m\u001b[38;5;241;43m=\u001b[39;49m\u001b[43mencoding\u001b[49m\u001b[43m,\u001b[49m\n\u001b[0;32m   3725\u001b[0m \u001b[43m    \u001b[49m\u001b[43merrors\u001b[49m\u001b[38;5;241;43m=\u001b[39;49m\u001b[43merrors\u001b[49m\u001b[43m,\u001b[49m\n\u001b[0;32m   3726\u001b[0m \u001b[43m    \u001b[49m\u001b[43mcompression\u001b[49m\u001b[38;5;241;43m=\u001b[39;49m\u001b[43mcompression\u001b[49m\u001b[43m,\u001b[49m\n\u001b[0;32m   3727\u001b[0m \u001b[43m    \u001b[49m\u001b[43mquoting\u001b[49m\u001b[38;5;241;43m=\u001b[39;49m\u001b[43mquoting\u001b[49m\u001b[43m,\u001b[49m\n\u001b[0;32m   3728\u001b[0m \u001b[43m    \u001b[49m\u001b[43mcolumns\u001b[49m\u001b[38;5;241;43m=\u001b[39;49m\u001b[43mcolumns\u001b[49m\u001b[43m,\u001b[49m\n\u001b[0;32m   3729\u001b[0m \u001b[43m    \u001b[49m\u001b[43mindex_label\u001b[49m\u001b[38;5;241;43m=\u001b[39;49m\u001b[43mindex_label\u001b[49m\u001b[43m,\u001b[49m\n\u001b[0;32m   3730\u001b[0m \u001b[43m    \u001b[49m\u001b[43mmode\u001b[49m\u001b[38;5;241;43m=\u001b[39;49m\u001b[43mmode\u001b[49m\u001b[43m,\u001b[49m\n\u001b[0;32m   3731\u001b[0m \u001b[43m    \u001b[49m\u001b[43mchunksize\u001b[49m\u001b[38;5;241;43m=\u001b[39;49m\u001b[43mchunksize\u001b[49m\u001b[43m,\u001b[49m\n\u001b[0;32m   3732\u001b[0m \u001b[43m    \u001b[49m\u001b[43mquotechar\u001b[49m\u001b[38;5;241;43m=\u001b[39;49m\u001b[43mquotechar\u001b[49m\u001b[43m,\u001b[49m\n\u001b[0;32m   3733\u001b[0m \u001b[43m    \u001b[49m\u001b[43mdate_format\u001b[49m\u001b[38;5;241;43m=\u001b[39;49m\u001b[43mdate_format\u001b[49m\u001b[43m,\u001b[49m\n\u001b[0;32m   3734\u001b[0m \u001b[43m    \u001b[49m\u001b[43mdoublequote\u001b[49m\u001b[38;5;241;43m=\u001b[39;49m\u001b[43mdoublequote\u001b[49m\u001b[43m,\u001b[49m\n\u001b[0;32m   3735\u001b[0m \u001b[43m    \u001b[49m\u001b[43mescapechar\u001b[49m\u001b[38;5;241;43m=\u001b[39;49m\u001b[43mescapechar\u001b[49m\u001b[43m,\u001b[49m\n\u001b[0;32m   3736\u001b[0m \u001b[43m    \u001b[49m\u001b[43mstorage_options\u001b[49m\u001b[38;5;241;43m=\u001b[39;49m\u001b[43mstorage_options\u001b[49m\u001b[43m,\u001b[49m\n\u001b[0;32m   3737\u001b[0m \u001b[43m\u001b[49m\u001b[43m)\u001b[49m\n",
      "File \u001b[1;32m~\\Desktop\\LDSSA\\env\\Lib\\site-packages\\pandas\\util\\_decorators.py:211\u001b[0m, in \u001b[0;36mdeprecate_kwarg.<locals>._deprecate_kwarg.<locals>.wrapper\u001b[1;34m(*args, **kwargs)\u001b[0m\n\u001b[0;32m    209\u001b[0m     \u001b[38;5;28;01melse\u001b[39;00m:\n\u001b[0;32m    210\u001b[0m         kwargs[new_arg_name] \u001b[38;5;241m=\u001b[39m new_arg_value\n\u001b[1;32m--> 211\u001b[0m \u001b[38;5;28;01mreturn\u001b[39;00m \u001b[43mfunc\u001b[49m\u001b[43m(\u001b[49m\u001b[38;5;241;43m*\u001b[39;49m\u001b[43margs\u001b[49m\u001b[43m,\u001b[49m\u001b[43m \u001b[49m\u001b[38;5;241;43m*\u001b[39;49m\u001b[38;5;241;43m*\u001b[39;49m\u001b[43mkwargs\u001b[49m\u001b[43m)\u001b[49m\n",
      "File \u001b[1;32m~\\Desktop\\LDSSA\\env\\Lib\\site-packages\\pandas\\io\\formats\\format.py:1189\u001b[0m, in \u001b[0;36mDataFrameRenderer.to_csv\u001b[1;34m(self, path_or_buf, encoding, sep, columns, index_label, mode, compression, quoting, quotechar, lineterminator, chunksize, date_format, doublequote, escapechar, errors, storage_options)\u001b[0m\n\u001b[0;32m   1168\u001b[0m     created_buffer \u001b[38;5;241m=\u001b[39m \u001b[38;5;28;01mFalse\u001b[39;00m\n\u001b[0;32m   1170\u001b[0m csv_formatter \u001b[38;5;241m=\u001b[39m CSVFormatter(\n\u001b[0;32m   1171\u001b[0m     path_or_buf\u001b[38;5;241m=\u001b[39mpath_or_buf,\n\u001b[0;32m   1172\u001b[0m     lineterminator\u001b[38;5;241m=\u001b[39mlineterminator,\n\u001b[1;32m   (...)\u001b[0m\n\u001b[0;32m   1187\u001b[0m     formatter\u001b[38;5;241m=\u001b[39m\u001b[38;5;28mself\u001b[39m\u001b[38;5;241m.\u001b[39mfmt,\n\u001b[0;32m   1188\u001b[0m )\n\u001b[1;32m-> 1189\u001b[0m \u001b[43mcsv_formatter\u001b[49m\u001b[38;5;241;43m.\u001b[39;49m\u001b[43msave\u001b[49m\u001b[43m(\u001b[49m\u001b[43m)\u001b[49m\n\u001b[0;32m   1191\u001b[0m \u001b[38;5;28;01mif\u001b[39;00m created_buffer:\n\u001b[0;32m   1192\u001b[0m     \u001b[38;5;28;01massert\u001b[39;00m \u001b[38;5;28misinstance\u001b[39m(path_or_buf, StringIO)\n",
      "File \u001b[1;32m~\\Desktop\\LDSSA\\env\\Lib\\site-packages\\pandas\\io\\formats\\csvs.py:241\u001b[0m, in \u001b[0;36mCSVFormatter.save\u001b[1;34m(self)\u001b[0m\n\u001b[0;32m    237\u001b[0m \u001b[38;5;250m\u001b[39m\u001b[38;5;124;03m\"\"\"\u001b[39;00m\n\u001b[0;32m    238\u001b[0m \u001b[38;5;124;03mCreate the writer & save.\u001b[39;00m\n\u001b[0;32m    239\u001b[0m \u001b[38;5;124;03m\"\"\"\u001b[39;00m\n\u001b[0;32m    240\u001b[0m \u001b[38;5;66;03m# apply compression and byte/text conversion\u001b[39;00m\n\u001b[1;32m--> 241\u001b[0m \u001b[38;5;28;01mwith\u001b[39;00m \u001b[43mget_handle\u001b[49m\u001b[43m(\u001b[49m\n\u001b[0;32m    242\u001b[0m \u001b[43m    \u001b[49m\u001b[38;5;28;43mself\u001b[39;49m\u001b[38;5;241;43m.\u001b[39;49m\u001b[43mfilepath_or_buffer\u001b[49m\u001b[43m,\u001b[49m\n\u001b[0;32m    243\u001b[0m \u001b[43m    \u001b[49m\u001b[38;5;28;43mself\u001b[39;49m\u001b[38;5;241;43m.\u001b[39;49m\u001b[43mmode\u001b[49m\u001b[43m,\u001b[49m\n\u001b[0;32m    244\u001b[0m \u001b[43m    \u001b[49m\u001b[43mencoding\u001b[49m\u001b[38;5;241;43m=\u001b[39;49m\u001b[38;5;28;43mself\u001b[39;49m\u001b[38;5;241;43m.\u001b[39;49m\u001b[43mencoding\u001b[49m\u001b[43m,\u001b[49m\n\u001b[0;32m    245\u001b[0m \u001b[43m    \u001b[49m\u001b[43merrors\u001b[49m\u001b[38;5;241;43m=\u001b[39;49m\u001b[38;5;28;43mself\u001b[39;49m\u001b[38;5;241;43m.\u001b[39;49m\u001b[43merrors\u001b[49m\u001b[43m,\u001b[49m\n\u001b[0;32m    246\u001b[0m \u001b[43m    \u001b[49m\u001b[43mcompression\u001b[49m\u001b[38;5;241;43m=\u001b[39;49m\u001b[38;5;28;43mself\u001b[39;49m\u001b[38;5;241;43m.\u001b[39;49m\u001b[43mcompression\u001b[49m\u001b[43m,\u001b[49m\n\u001b[0;32m    247\u001b[0m \u001b[43m    \u001b[49m\u001b[43mstorage_options\u001b[49m\u001b[38;5;241;43m=\u001b[39;49m\u001b[38;5;28;43mself\u001b[39;49m\u001b[38;5;241;43m.\u001b[39;49m\u001b[43mstorage_options\u001b[49m\u001b[43m,\u001b[49m\n\u001b[0;32m    248\u001b[0m \u001b[43m\u001b[49m\u001b[43m)\u001b[49m \u001b[38;5;28;01mas\u001b[39;00m handles:\n\u001b[0;32m    249\u001b[0m \n\u001b[0;32m    250\u001b[0m     \u001b[38;5;66;03m# Note: self.encoding is irrelevant here\u001b[39;00m\n\u001b[0;32m    251\u001b[0m     \u001b[38;5;28mself\u001b[39m\u001b[38;5;241m.\u001b[39mwriter \u001b[38;5;241m=\u001b[39m csvlib\u001b[38;5;241m.\u001b[39mwriter(\n\u001b[0;32m    252\u001b[0m         handles\u001b[38;5;241m.\u001b[39mhandle,\n\u001b[0;32m    253\u001b[0m         lineterminator\u001b[38;5;241m=\u001b[39m\u001b[38;5;28mself\u001b[39m\u001b[38;5;241m.\u001b[39mlineterminator,\n\u001b[1;32m   (...)\u001b[0m\n\u001b[0;32m    258\u001b[0m         quotechar\u001b[38;5;241m=\u001b[39m\u001b[38;5;28mself\u001b[39m\u001b[38;5;241m.\u001b[39mquotechar,\n\u001b[0;32m    259\u001b[0m     )\n\u001b[0;32m    261\u001b[0m     \u001b[38;5;28mself\u001b[39m\u001b[38;5;241m.\u001b[39m_save()\n",
      "File \u001b[1;32m~\\Desktop\\LDSSA\\env\\Lib\\site-packages\\pandas\\io\\common.py:734\u001b[0m, in \u001b[0;36mget_handle\u001b[1;34m(path_or_buf, mode, encoding, compression, memory_map, is_text, errors, storage_options)\u001b[0m\n\u001b[0;32m    732\u001b[0m \u001b[38;5;66;03m# Only for write methods\u001b[39;00m\n\u001b[0;32m    733\u001b[0m \u001b[38;5;28;01mif\u001b[39;00m \u001b[38;5;124m\"\u001b[39m\u001b[38;5;124mr\u001b[39m\u001b[38;5;124m\"\u001b[39m \u001b[38;5;129;01mnot\u001b[39;00m \u001b[38;5;129;01min\u001b[39;00m mode \u001b[38;5;129;01mand\u001b[39;00m is_path:\n\u001b[1;32m--> 734\u001b[0m     \u001b[43mcheck_parent_directory\u001b[49m\u001b[43m(\u001b[49m\u001b[38;5;28;43mstr\u001b[39;49m\u001b[43m(\u001b[49m\u001b[43mhandle\u001b[49m\u001b[43m)\u001b[49m\u001b[43m)\u001b[49m\n\u001b[0;32m    736\u001b[0m \u001b[38;5;28;01mif\u001b[39;00m compression:\n\u001b[0;32m    737\u001b[0m     \u001b[38;5;28;01mif\u001b[39;00m compression \u001b[38;5;241m!=\u001b[39m \u001b[38;5;124m\"\u001b[39m\u001b[38;5;124mzstd\u001b[39m\u001b[38;5;124m\"\u001b[39m:\n\u001b[0;32m    738\u001b[0m         \u001b[38;5;66;03m# compression libraries do not like an explicit text-mode\u001b[39;00m\n",
      "File \u001b[1;32m~\\Desktop\\LDSSA\\env\\Lib\\site-packages\\pandas\\io\\common.py:597\u001b[0m, in \u001b[0;36mcheck_parent_directory\u001b[1;34m(path)\u001b[0m\n\u001b[0;32m    595\u001b[0m parent \u001b[38;5;241m=\u001b[39m Path(path)\u001b[38;5;241m.\u001b[39mparent\n\u001b[0;32m    596\u001b[0m \u001b[38;5;28;01mif\u001b[39;00m \u001b[38;5;129;01mnot\u001b[39;00m parent\u001b[38;5;241m.\u001b[39mis_dir():\n\u001b[1;32m--> 597\u001b[0m     \u001b[38;5;28;01mraise\u001b[39;00m \u001b[38;5;167;01mOSError\u001b[39;00m(\u001b[38;5;124mrf\u001b[39m\u001b[38;5;124m\"\u001b[39m\u001b[38;5;124mCannot save file into a non-existent directory: \u001b[39m\u001b[38;5;124m'\u001b[39m\u001b[38;5;132;01m{\u001b[39;00mparent\u001b[38;5;132;01m}\u001b[39;00m\u001b[38;5;124m'\u001b[39m\u001b[38;5;124m\"\u001b[39m)\n",
      "\u001b[1;31mOSError\u001b[0m: Cannot save file into a non-existent directory: '..\\aux_data'"
     ]
    }
   ],
   "source": [
    "dataset.to_csv(\"../aux_data/mapped_dataset.csv\", index=False)"
   ]
  },
  {
   "cell_type": "markdown",
   "id": "f7799bf7",
   "metadata": {},
   "source": [
    "##### See if all categories are mapped"
   ]
  },
  {
   "cell_type": "code",
   "execution_count": null,
   "id": "216ae1fe",
   "metadata": {},
   "outputs": [],
   "source": [
    "dataset[\"class\"].unique()"
   ]
  },
  {
   "cell_type": "code",
   "execution_count": null,
   "id": "73f2585f",
   "metadata": {},
   "outputs": [],
   "source": [
    "len(dataset[\"category\"].unique())"
   ]
  },
  {
   "cell_type": "code",
   "execution_count": null,
   "id": "f21cd940",
   "metadata": {},
   "outputs": [],
   "source": [
    "len(mapping[\"category\"].unique())"
   ]
  },
  {
   "cell_type": "code",
   "execution_count": null,
   "id": "204345dd",
   "metadata": {
    "scrolled": true
   },
   "outputs": [],
   "source": [
    "dataset[dataset[\"class\"] == \"\"]"
   ]
  },
  {
   "cell_type": "markdown",
   "id": "014a7e10",
   "metadata": {},
   "source": [
    "##### Distribution of the categories by date"
   ]
  },
  {
   "cell_type": "code",
   "execution_count": 20,
   "id": "b58c3e04",
   "metadata": {},
   "outputs": [
    {
     "data": {
      "text/plain": [
       "date      category                          \n",
       "1-1-2022  activate_my_card                      1\n",
       "          beneficiary_not_allowed               1\n",
       "          card_payment_fee_charged              2\n",
       "          card_payment_not_recognised           1\n",
       "          cash_withdrawal_charge                1\n",
       "                                               ..\n",
       "9-9-2022  top_up_limits                         1\n",
       "          transaction_charged_twice             1\n",
       "          transfer_not_received_by_recipient    2\n",
       "          unable_to_verify_identity             2\n",
       "          verify_source_of_funds                1\n",
       "Name: text, Length: 7741, dtype: int64"
      ]
     },
     "execution_count": 20,
     "metadata": {},
     "output_type": "execute_result"
    }
   ],
   "source": [
    "dataset.groupby([\"date\", \"category\"])['text'].count()"
   ]
  },
  {
   "cell_type": "code",
   "execution_count": 21,
   "id": "9d3e9313",
   "metadata": {},
   "outputs": [
    {
     "data": {
      "text/html": [
       "<div>\n",
       "<style scoped>\n",
       "    .dataframe tbody tr th:only-of-type {\n",
       "        vertical-align: middle;\n",
       "    }\n",
       "\n",
       "    .dataframe tbody tr th {\n",
       "        vertical-align: top;\n",
       "    }\n",
       "\n",
       "    .dataframe thead th {\n",
       "        text-align: right;\n",
       "    }\n",
       "</style>\n",
       "<table border=\"1\" class=\"dataframe\">\n",
       "  <thead>\n",
       "    <tr style=\"text-align: right;\">\n",
       "      <th></th>\n",
       "      <th>date</th>\n",
       "    </tr>\n",
       "    <tr>\n",
       "      <th>category</th>\n",
       "      <th></th>\n",
       "    </tr>\n",
       "  </thead>\n",
       "  <tbody>\n",
       "    <tr>\n",
       "      <th>account_support</th>\n",
       "      <td>1</td>\n",
       "    </tr>\n",
       "    <tr>\n",
       "      <th>virtual_card_not_working</th>\n",
       "      <td>35</td>\n",
       "    </tr>\n",
       "    <tr>\n",
       "      <th>contactless_not_working</th>\n",
       "      <td>35</td>\n",
       "    </tr>\n",
       "    <tr>\n",
       "      <th>card_swallowed</th>\n",
       "      <td>53</td>\n",
       "    </tr>\n",
       "    <tr>\n",
       "      <th>card_acceptance</th>\n",
       "      <td>57</td>\n",
       "    </tr>\n",
       "    <tr>\n",
       "      <th>...</th>\n",
       "      <td>...</td>\n",
       "    </tr>\n",
       "    <tr>\n",
       "      <th>balance_not_updated_after_cheque_or_cash_deposit</th>\n",
       "      <td>130</td>\n",
       "    </tr>\n",
       "    <tr>\n",
       "      <th>card_payment_fee_charged</th>\n",
       "      <td>131</td>\n",
       "    </tr>\n",
       "    <tr>\n",
       "      <th>wrong_amount_of_cash_received</th>\n",
       "      <td>131</td>\n",
       "    </tr>\n",
       "    <tr>\n",
       "      <th>declined_cash_withdrawal</th>\n",
       "      <td>131</td>\n",
       "    </tr>\n",
       "    <tr>\n",
       "      <th>direct_debit_payment_not_recognised</th>\n",
       "      <td>138</td>\n",
       "    </tr>\n",
       "  </tbody>\n",
       "</table>\n",
       "<p>78 rows × 1 columns</p>\n",
       "</div>"
      ],
      "text/plain": [
       "                                                  date\n",
       "category                                              \n",
       "account_support                                      1\n",
       "virtual_card_not_working                            35\n",
       "contactless_not_working                             35\n",
       "card_swallowed                                      53\n",
       "card_acceptance                                     57\n",
       "...                                                ...\n",
       "balance_not_updated_after_cheque_or_cash_deposit   130\n",
       "card_payment_fee_charged                           131\n",
       "wrong_amount_of_cash_received                      131\n",
       "declined_cash_withdrawal                           131\n",
       "direct_debit_payment_not_recognised                138\n",
       "\n",
       "[78 rows x 1 columns]"
      ]
     },
     "execution_count": 21,
     "metadata": {},
     "output_type": "execute_result"
    }
   ],
   "source": [
    "dataset.groupby(\"category\").agg({\"date\": \"nunique\"}).sort_values(by=\"date\")"
   ]
  },
  {
   "cell_type": "markdown",
   "id": "90edb0f5",
   "metadata": {},
   "source": [
    "#### Text sample"
   ]
  },
  {
   "cell_type": "code",
   "execution_count": 22,
   "id": "adbd511f",
   "metadata": {
    "scrolled": true
   },
   "outputs": [
    {
     "data": {
      "text/plain": [
       "['Hello, Does it matter iff I use Visa or Mastercard? Thanks',\n",
       " 'Good afternoon, I just got refunded for my purchase over two weeks ago best Regards',\n",
       " 'Hello, I got billed ann extra pound! Thanks',\n",
       " 'Hi, How long does it take for a transfer to show up in my account? Thanks',\n",
       " 'hi, When can I use money sent to my accountt? best Regards',\n",
       " 'Hi, My card is about to expire.  Are there any costs with a replacement card?  How quick do you mail it to me? best Regards',\n",
       " 'Good afternoon, The exchange rate that was applied for an international purchase was wrongg. best Regards',\n",
       " \"hello, Myy app shows a payment I didn't make thanks\",\n",
       " \"Hello, There is a card payment that I'm not recognizing. Kind Regards\",\n",
       " 'good evening, Do you offer auto top ups? Kind Regards',\n",
       " 'good afternoon, How do you decide what the exchangee rates are? Best Regards',\n",
       " 'hi, I made a transfer and was charged extra. Why? best Regards',\n",
       " 'Good afternoon, I made a payment and it appears it is showing twicee thanks',\n",
       " 'Good evening, I recently bought something abroad but the exchange ratee is incorrect. Why? kind Regards',\n",
       " \"hi, The ATM didn't give me thee full requested amount Thanks\",\n",
       " 'good afternoon, What is the procedure for topping up with a cheque? best Regards',\n",
       " 'good evening, Will you accept my credit card, it my only one. thanks',\n",
       " 'hi, My new card just arrived, how cann I activate it? Best Regards',\n",
       " 'Good morning, How can II information on my limit for top-ups? Best Regards',\n",
       " \"Good evening, Why hasn't my transfer gone through Kind Regards\",\n",
       " 'Good morning, I thought transfers were free. Whyy was I charged to transfer? best Regards',\n",
       " 'hi, Do I pay extraa for exchange? best Regards',\n",
       " 'hi, Are there any restrictions for the disposable cards that I need to be aware of? thanks',\n",
       " 'hi, Why on earth is the exchange rate so bad?   Can I get a rate closer to the actual interbank rate? thanks',\n",
       " 'We have hope. Rebellions are built on hope.',\n",
       " 'good evening, What doess a transfer cost? Kind Regards',\n",
       " 'Hi, Can you explain to me why a top upp would be reverted? Kind Regards',\n",
       " 'Good morning, Do you support direct deposits from my employer? Thanks',\n",
       " 'Olá, Posso obter uma atualização sobre o meu cartão de substituição? Cumprimentos',\n",
       " 'Boas, Encontrei o meu cartão no meu casaco esta manhã, por isso posso reativá-lo? Obrigada']"
      ]
     },
     "execution_count": 22,
     "metadata": {},
     "output_type": "execute_result"
    }
   ],
   "source": [
    "[dataset[\"text\"][i] for i in range(30)]"
   ]
  },
  {
   "cell_type": "markdown",
   "id": "e0b5e142",
   "metadata": {},
   "source": [
    "##### Words exploration"
   ]
  },
  {
   "cell_type": "code",
   "execution_count": 23,
   "id": "c41486fb",
   "metadata": {},
   "outputs": [],
   "source": [
    "words_array = dataset['text'].str.split().values.tolist()\n",
    "\n",
    "words_list = []\n",
    "words_list = [word.lower() for i in words_array for word in i]"
   ]
  },
  {
   "cell_type": "code",
   "execution_count": 24,
   "id": "bae9aed7",
   "metadata": {
    "scrolled": false
   },
   "outputs": [
    {
     "data": {
      "text/plain": [
       "[('i', 7091),\n",
       " ('regards', 6030),\n",
       " ('good', 5428),\n",
       " ('my', 4851),\n",
       " ('to', 3468),\n",
       " ('a', 3082),\n",
       " ('kind', 3050),\n",
       " ('the', 3021),\n",
       " ('thanks', 3015),\n",
       " ('best', 2995),\n",
       " ('is', 2022),\n",
       " ('hello,', 1868),\n",
       " ('hi,', 1834),\n",
       " ('morning,', 1828),\n",
       " ('afternoon,', 1803),\n",
       " ('evening,', 1796),\n",
       " ('can', 1560),\n",
       " ('do', 1520),\n",
       " ('card', 1386),\n",
       " ('it', 1377)]"
      ]
     },
     "execution_count": 24,
     "metadata": {},
     "output_type": "execute_result"
    }
   ],
   "source": [
    "counter = Counter(words_list)\n",
    "most_common_words = counter.most_common()\n",
    "\n",
    "most_common_words[:20]"
   ]
  },
  {
   "cell_type": "code",
   "execution_count": 25,
   "id": "0ee8d440",
   "metadata": {},
   "outputs": [
    {
     "data": {
      "image/png": "[encoded data removed]",
      "text/plain": [
       "<Figure size 640x480 with 1 Axes>"
      ]
     },
     "metadata": {},
     "output_type": "display_data"
    }
   ],
   "source": [
    "stopwords = stopwords.words('english')\n",
    "\n",
    "x, y = [], []\n",
    "for word, count in most_common_words[:50]:\n",
    "    # remove stopwords\n",
    "    if (word not in stopwords):\n",
    "        x.append(word)\n",
    "        y.append(count)\n",
    "\n",
    "plot = sns.barplot(x=y, y=x)"
   ]
  },
  {
   "cell_type": "markdown",
   "id": "ac280883",
   "metadata": {},
   "source": [
    "##### Distribution of the text by language"
   ]
  },
  {
   "cell_type": "code",
   "execution_count": 26,
   "id": "50eabbfc",
   "metadata": {},
   "outputs": [
    {
     "data": {
      "image/png": "[encoded data removed]",
      "text/plain": [
       "<Figure size 640x480 with 1 Axes>"
      ]
     },
     "metadata": {},
     "output_type": "display_data"
    }
   ],
   "source": [
    "language = dataset.language.hist()"
   ]
  },
  {
   "cell_type": "markdown",
   "id": "87420f97",
   "metadata": {},
   "source": [
    "Observations:\n",
    "    - There are 78 categories, not 77;\n",
    "    - One of the categories (\"account_support\") does not exist in the mapping;\n",
    "    - Category \"account_support\" seems to be a human error that occurred on 2-2-2022;\n",
    "    - Emails begin with greetings and end with goodbyes. Since we are talking about emails these words are neither necessary or exclusive to one category;\n",
    "    - Some emails have misspelled words;\n",
    "    - There is more than one language in the dataset: en and pt, and it's supposed to be in English only."
   ]
  }
 ],
 "metadata": {
  "kernelspec": {
   "display_name": "Python 3 (ipykernel)",
   "language": "python",
   "name": "python3"
  },
  "language_info": {
   "codemirror_mode": {
    "name": "ipython",
    "version": 3
   },
   "file_extension": ".py",
   "mimetype": "text/x-python",
   "name": "python",
   "nbconvert_exporter": "python",
   "pygments_lexer": "ipython3",
   "version": "3.11.1"
  }
 },
 "nbformat": 4,
 "nbformat_minor": 5
}
