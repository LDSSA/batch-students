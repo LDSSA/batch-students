{
 "cells": [
  {
   "cell_type": "markdown",
   "id": "c85ac530-6ab6-4b19-8072-0099922c8b21",
   "metadata": {},
   "source": [
    "# DATA WRANGLING HACKATHON"
   ]
  },
  {
   "cell_type": "markdown",
   "id": "927f6b7e-0f6a-4df0-ae9c-422725f9eb92",
   "metadata": {},
   "source": [
    "# DATABASE STEP"
   ]
  },
  {
   "cell_type": "markdown",
   "id": "cbcf7ce6-c06c-4c02-8dd6-ed41e5939d28",
   "metadata": {},
   "source": [
    "### Overview\n",
    "This data dictionary describes High Volume FHV trip data. Each row represents a single trip in an FHV dispatched by one of NYC’s licensed High Volume FHV bases. On August 14, 2018, Mayor de Blasio signed Local Law 149 of 2018, creating a new license category for TLC-licensed FHV businesses that currently dispatch or plan to dispatch more than 10,000 FHV trips in New York City per day under a single brand, trade, or operating name, referred to as High-Volume For-Hire Services (HVFHS). This law went into effect on Feb 1, 2019.\n",
    "\n",
    "### Objective\n",
    "The main goal of this hackathon is to determine if the client is going to give a tip. \n",
    "Your submission file should be a CSV file with two columns (see example in sample_\tsubmission.csv):\n",
    "ID:  Id of the observation\n",
    "Tipped: If the client Tipped or not\n",
    "\n",
    "A dataset spread over several data sources has been provided for you. The total number of features is plentiful and it’s up to you to use as many or as little as you want. Given that, some features might be more relevant than others. \n",
    "Keep in mind that this is a Data Wrangling specialization. \n",
    "\n",
    "### Datasets:\n",
    "| **Dataset** | **Information**   | Location|\n",
    "|-------------|-------------------|---------------------|\n",
    "|API          | Trip Mileage      | https://hckt02-api.lisbondatascience.org/docs#/default/get_data_data_get |\n",
    "|Webpage      | Taxi Zone Data    | https://s02-infrastructure.s3.eu-west-1.amazonaws.com/hackathon-02-batch8/index.html |\n",
    "|Files        | Detailed Trip Data| https://drive.google.com/drive/folders/12MhOAVrplggHVTm6-CtjqkkjI9xrVPek?usp=drive_link|\n",
    "|Database     | Weather Data      | batch-s02.ctq2kxc7kx1i.eu-west-1.rds.amazonaws.com\n",
    "\n"
   ]
  },
  {
   "cell_type": "markdown",
   "id": "572e35b4-d926-4357-b2c3-bc76477e94ae",
   "metadata": {},
   "source": [
    "# psycopg2 Library\n",
    "\n",
    "## Psycopg2 Library Overview\n",
    "\n",
    "**Psycopg2** is a popular Python library used for interacting with PostgreSQL databases. It is known for its performance, reliability, and compliance with the Python Database API (DB-API 2.0). Psycopg2 provides a robust interface to execute SQL queries, manage transactions, and retrieve results, making it an essential tool for Python developers working with PostgreSQL.\n",
    "\n",
    "**Key Features:**\n",
    "\n",
    "\t1.\tAsynchronous Support: Enables non-blocking database operations for improved performance in high-concurrency applications.\n",
    "\t2.\tConnection Pooling: Facilitates efficient database connection management, reducing the overhead of repeatedly opening and closing connections.\n",
    "\t3.\tPrepared Statements: Supports parameterized queries to prevent SQL injection and improve execution performance.\n",
    "\t4.\tAdvanced PostgreSQL Features: Full support for PostgreSQL-specific data types (e.g., JSON, UUID, arrays) and server-side features like cursors and stored procedures.\n",
    "\t5.\tTransaction Management: Provides explicit control over transactions, allowing operations like commit and rollback.\n",
    "\n",
    "**Advantages:**\n",
    "\n",
    "\t•\tEfficiency: Written in C, Psycopg2 is optimized for performance, making it suitable for heavy database operations.\n",
    "\t•\tFlexibility: Compatible with various versions of PostgreSQL and Python, including Python 3.\n",
    "\t•\tEase of Use: Its API design simplifies the execution of common database tasks, such as CRUD operations and schema management.\n",
    "\n",
    "* **Psycopg2 is the go-to library for developers seeking a performant and reliable interface to PostgreSQL, especially in data-intensive Python applications.**"
   ]
  },
  {
   "cell_type": "markdown",
   "id": "5938acaf-620c-4f82-806f-e27e5cb21f66",
   "metadata": {},
   "source": [
    "## Library"
   ]
  },
  {
   "cell_type": "code",
   "execution_count": 1,
   "id": "7f15a10f-8d97-4e83-85a6-b61ee2afd857",
   "metadata": {},
   "outputs": [],
   "source": [
    "import psycopg2\n",
    "from psycopg2.extras import RealDictCursor\n",
    "\n",
    "def execute_query(db_config, query, params=None):\n",
    "    try:\n",
    "        connection = psycopg2.connect(\n",
    "            host=db_config.get(\"host\", \"localhost\"),\n",
    "            database=db_config[\"database\"],\n",
    "            user=db_config[\"user\"],\n",
    "            password=db_config[\"password\"],\n",
    "            port=db_config.get(\"port\", 5432),\n",
    "        )\n",
    "        with connection.cursor(cursor_factory=RealDictCursor) as cursor:\n",
    "            cursor.execute(query, params)\n",
    "            if query.strip().lower().startswith(\"select\"):\n",
    "                return cursor.fetchall()\n",
    "            connection.commit()\n",
    "    except psycopg2.Error as e:\n",
    "        print(f\"Database error: {e}\")\n",
    "    finally:\n",
    "        if connection:\n",
    "            connection.close()\n",
    "\n"
   ]
  },
  {
   "cell_type": "markdown",
   "id": "563c60e7-4176-4807-8b30-827bebdf82fa",
   "metadata": {},
   "source": [
    "### In order to run the query in the database do the following:\n",
    "1. Create a file with the following JSON, change the JSON variables below by the database credentials. \n",
    "\n",
    "{\n",
    "\n",
    "    \"host\": \"localhost\",\n",
    "    \n",
    "    \"database\": \"my_database\",\n",
    "    \n",
    "    \"user\": \"my_user\",\n",
    "    \n",
    "    \"password\": \"my_secret_password\",\n",
    "    \n",
    "    \"port\": 5432\n",
    "\n",
    "}\n",
    "\n",
    "2. Add the file to the .gitignore to avoid it to go online on Github.\n",
    "\n",
    "3. Upload the file to use the conection information within the next Jupyter cell."
   ]
  },
  {
   "cell_type": "markdown",
   "id": "9d322557-61d9-4311-b687-e7354022a30e",
   "metadata": {},
   "source": [
    "### Loading database credentials"
   ]
  },
  {
   "cell_type": "code",
   "execution_count": 2,
   "id": "f652c586-7877-4a8f-b2b6-068159a65d76",
   "metadata": {},
   "outputs": [],
   "source": [
    "import json\n",
    "\n",
    "with open(\".data/database/db_config.json\") as config_file:\n",
    "    db_config_file = json.load(config_file)"
   ]
  },
  {
   "cell_type": "code",
   "execution_count": 3,
   "id": "f77d49cc-f789-440e-a734-48acda6bdf44",
   "metadata": {},
   "outputs": [],
   "source": [
    "# Run if library not installed\n",
    "# !pip install dask-expr"
   ]
  },
  {
   "cell_type": "code",
   "execution_count": 4,
   "id": "a480aac5-070c-415a-bfe4-ed5ee2b4f224",
   "metadata": {
    "scrolled": true
   },
   "outputs": [
    {
     "data": {
      "text/html": [
       "<div>\n",
       "<style scoped>\n",
       "    .dataframe tbody tr th:only-of-type {\n",
       "        vertical-align: middle;\n",
       "    }\n",
       "\n",
       "    .dataframe tbody tr th {\n",
       "        vertical-align: top;\n",
       "    }\n",
       "\n",
       "    .dataframe thead th {\n",
       "        text-align: right;\n",
       "    }\n",
       "</style>\n",
       "<table border=\"1\" class=\"dataframe\">\n",
       "  <thead>\n",
       "    <tr style=\"text-align: right;\">\n",
       "      <th></th>\n",
       "      <th>timestamp</th>\n",
       "      <th>temp</th>\n",
       "      <th>rhum</th>\n",
       "      <th>prcp</th>\n",
       "      <th>wspd</th>\n",
       "      <th>pres</th>\n",
       "      <th>wdir</th>\n",
       "      <th>weco</th>\n",
       "    </tr>\n",
       "  </thead>\n",
       "  <tbody>\n",
       "    <tr>\n",
       "      <th>0</th>\n",
       "      <td>1.610125e+09</td>\n",
       "      <td>2.8</td>\n",
       "      <td>52.0</td>\n",
       "      <td>0.0</td>\n",
       "      <td>11.2</td>\n",
       "      <td>1015.8</td>\n",
       "      <td>344.0</td>\n",
       "      <td>Cloudy</td>\n",
       "    </tr>\n",
       "    <tr>\n",
       "      <th>1</th>\n",
       "      <td>1.610129e+09</td>\n",
       "      <td>3.3</td>\n",
       "      <td>50.0</td>\n",
       "      <td>0.0</td>\n",
       "      <td>11.2</td>\n",
       "      <td>1014.7</td>\n",
       "      <td>270.0</td>\n",
       "      <td>Cloudy</td>\n",
       "    </tr>\n",
       "    <tr>\n",
       "      <th>2</th>\n",
       "      <td>1.610132e+09</td>\n",
       "      <td>3.9</td>\n",
       "      <td>57.0</td>\n",
       "      <td>0.0</td>\n",
       "      <td>0.0</td>\n",
       "      <td>1013.7</td>\n",
       "      <td>0.0</td>\n",
       "      <td>Cloudy</td>\n",
       "    </tr>\n",
       "    <tr>\n",
       "      <th>3</th>\n",
       "      <td>1.610136e+09</td>\n",
       "      <td>3.9</td>\n",
       "      <td>57.0</td>\n",
       "      <td>0.0</td>\n",
       "      <td>7.6</td>\n",
       "      <td>1013.6</td>\n",
       "      <td>311.0</td>\n",
       "      <td>Cloudy</td>\n",
       "    </tr>\n",
       "    <tr>\n",
       "      <th>4</th>\n",
       "      <td>1.610140e+09</td>\n",
       "      <td>3.9</td>\n",
       "      <td>55.0</td>\n",
       "      <td>0.0</td>\n",
       "      <td>5.4</td>\n",
       "      <td>1013.0</td>\n",
       "      <td>2.0</td>\n",
       "      <td>Cloudy</td>\n",
       "    </tr>\n",
       "  </tbody>\n",
       "</table>\n",
       "</div>"
      ],
      "text/plain": [
       "      timestamp  temp  rhum  prcp  wspd    pres   wdir    weco\n",
       "0  1.610125e+09   2.8  52.0   0.0  11.2  1015.8  344.0  Cloudy\n",
       "1  1.610129e+09   3.3  50.0   0.0  11.2  1014.7  270.0  Cloudy\n",
       "2  1.610132e+09   3.9  57.0   0.0   0.0  1013.7    0.0  Cloudy\n",
       "3  1.610136e+09   3.9  57.0   0.0   7.6  1013.6  311.0  Cloudy\n",
       "4  1.610140e+09   3.9  55.0   0.0   5.4  1013.0    2.0  Cloudy"
      ]
     },
     "execution_count": 4,
     "metadata": {},
     "output_type": "execute_result"
    }
   ],
   "source": [
    "# Connecting to the database and processing the table as a dataframe\n",
    "\n",
    "import pandas as pd\n",
    "import dask.dataframe as dd\n",
    "from decimal import Decimal\n",
    "\n",
    "from decimal import Decimal\n",
    "if __name__ == \"__main__\":\n",
    "    db_config = db_config_file\n",
    "    query = \"SELECT * FROM hackathon.weather_data where prcp is not Null\"\n",
    "    params = (\"value\",)\n",
    "    results = execute_query(db_config, query, params)\n",
    "\n",
    "for row in results:\n",
    "    timestamp = float(row['timestamp'])\n",
    "    temp = float(row['temp'])\n",
    "    rhum = float(row['rhum'])\n",
    "    prcp = float(row['prcp'])\n",
    "    wspd = float(row['wspd'])\n",
    "    pres = float(row['pres'])\n",
    "    wdir = float(row['wdir'])\n",
    "    weco = row['weco']\n",
    "    \n",
    "    # print(f\"Timestamp: {timestamp}, Temp: {temp}°C, Humidity: {rhum}%, Precipitation: {prcp}mm\")\n",
    "    # print(f\"Wind Speed: {wspd} km/h, Pressure: {pres} hPa, Wind Direction: {wdir}°, Weather: {weco}\")\n",
    "    # print(\"-\" * 50)\n",
    "\n",
    "    converted_result = [\n",
    "    {key: float(value) if isinstance(value, Decimal) else (value if value is not None else 0)     \n",
    "     for key, value in row.items()} \n",
    "        for row in results\n",
    "    ]\n",
    "     \n",
    "# Dask DataFrame\n",
    "dask_df = dd.from_pandas(pd.DataFrame(converted_result), npartitions=6)  # Divide into 4 partitions, adjust according to the data size.\n",
    "dask_df.head()"
   ]
  },
  {
   "cell_type": "markdown",
   "id": "791bc78f-ac2d-4960-a1b5-f034029c3354",
   "metadata": {},
   "source": [
    "## BRONZE Layer"
   ]
  },
  {
   "cell_type": "code",
   "execution_count": 5,
   "id": "351088f2-f158-4db4-a8f4-678d29cfcc14",
   "metadata": {},
   "outputs": [],
   "source": [
    "dask_df.to_parquet(\".data/database/bronze/\", write_index=False, engine=\"pyarrow\")"
   ]
  },
  {
   "cell_type": "code",
   "execution_count": 6,
   "id": "9202056e-8b0d-4533-837f-77eba435dff4",
   "metadata": {},
   "outputs": [],
   "source": [
    "dask_df2 = dd.read_parquet(\".data/database/bronze/\")"
   ]
  },
  {
   "cell_type": "code",
   "execution_count": 17,
   "id": "64089aef-33f9-4ef2-8629-fce38744ba1c",
   "metadata": {},
   "outputs": [],
   "source": [
    "import pandas as pd\n",
    "\n",
    "# Convert timestamp to datetime in each partition\n",
    "dask_df2['timestamp'] = dask_df2['timestamp'].map_partitions(\n",
    "    lambda df: pd.to_datetime(df, unit='ns')\n",
    ")"
   ]
  },
  {
   "cell_type": "code",
   "execution_count": 18,
   "id": "9c37d0ab-b84b-4e05-a37a-f65949bcb3a5",
   "metadata": {},
   "outputs": [
    {
     "data": {
      "text/html": [
       "<div>\n",
       "<style scoped>\n",
       "    .dataframe tbody tr th:only-of-type {\n",
       "        vertical-align: middle;\n",
       "    }\n",
       "\n",
       "    .dataframe tbody tr th {\n",
       "        vertical-align: top;\n",
       "    }\n",
       "\n",
       "    .dataframe thead th {\n",
       "        text-align: right;\n",
       "    }\n",
       "</style>\n",
       "<table border=\"1\" class=\"dataframe\">\n",
       "  <thead>\n",
       "    <tr style=\"text-align: right;\">\n",
       "      <th></th>\n",
       "      <th>timestamp</th>\n",
       "      <th>temp</th>\n",
       "      <th>prcp</th>\n",
       "    </tr>\n",
       "  </thead>\n",
       "  <tbody>\n",
       "    <tr>\n",
       "      <th>0</th>\n",
       "      <td>2021-01-08 17:00:00</td>\n",
       "      <td>2.8</td>\n",
       "      <td>0.0</td>\n",
       "    </tr>\n",
       "    <tr>\n",
       "      <th>1</th>\n",
       "      <td>2021-01-08 18:00:00</td>\n",
       "      <td>3.3</td>\n",
       "      <td>0.0</td>\n",
       "    </tr>\n",
       "    <tr>\n",
       "      <th>2</th>\n",
       "      <td>2021-01-08 19:00:00</td>\n",
       "      <td>3.9</td>\n",
       "      <td>0.0</td>\n",
       "    </tr>\n",
       "    <tr>\n",
       "      <th>3</th>\n",
       "      <td>2021-01-08 20:00:00</td>\n",
       "      <td>3.9</td>\n",
       "      <td>0.0</td>\n",
       "    </tr>\n",
       "    <tr>\n",
       "      <th>4</th>\n",
       "      <td>2021-01-08 21:00:00</td>\n",
       "      <td>3.9</td>\n",
       "      <td>0.0</td>\n",
       "    </tr>\n",
       "    <tr>\n",
       "      <th>...</th>\n",
       "      <td>...</td>\n",
       "      <td>...</td>\n",
       "      <td>...</td>\n",
       "    </tr>\n",
       "    <tr>\n",
       "      <th>95</th>\n",
       "      <td>2021-01-12 16:00:00</td>\n",
       "      <td>4.4</td>\n",
       "      <td>0.0</td>\n",
       "    </tr>\n",
       "    <tr>\n",
       "      <th>96</th>\n",
       "      <td>2021-01-12 17:00:00</td>\n",
       "      <td>6.7</td>\n",
       "      <td>0.0</td>\n",
       "    </tr>\n",
       "    <tr>\n",
       "      <th>97</th>\n",
       "      <td>2021-01-12 18:00:00</td>\n",
       "      <td>7.8</td>\n",
       "      <td>0.0</td>\n",
       "    </tr>\n",
       "    <tr>\n",
       "      <th>98</th>\n",
       "      <td>2021-01-12 19:00:00</td>\n",
       "      <td>8.3</td>\n",
       "      <td>0.0</td>\n",
       "    </tr>\n",
       "    <tr>\n",
       "      <th>99</th>\n",
       "      <td>2021-01-12 20:00:00</td>\n",
       "      <td>7.8</td>\n",
       "      <td>0.0</td>\n",
       "    </tr>\n",
       "  </tbody>\n",
       "</table>\n",
       "<p>100 rows × 3 columns</p>\n",
       "</div>"
      ],
      "text/plain": [
       "             timestamp  temp  prcp\n",
       "0  2021-01-08 17:00:00   2.8   0.0\n",
       "1  2021-01-08 18:00:00   3.3   0.0\n",
       "2  2021-01-08 19:00:00   3.9   0.0\n",
       "3  2021-01-08 20:00:00   3.9   0.0\n",
       "4  2021-01-08 21:00:00   3.9   0.0\n",
       "..                 ...   ...   ...\n",
       "95 2021-01-12 16:00:00   4.4   0.0\n",
       "96 2021-01-12 17:00:00   6.7   0.0\n",
       "97 2021-01-12 18:00:00   7.8   0.0\n",
       "98 2021-01-12 19:00:00   8.3   0.0\n",
       "99 2021-01-12 20:00:00   7.8   0.0\n",
       "\n",
       "[100 rows x 3 columns]"
      ]
     },
     "execution_count": 18,
     "metadata": {},
     "output_type": "execute_result"
    }
   ],
   "source": [
    "dask_df2.head(100)"
   ]
  },
  {
   "cell_type": "code",
   "execution_count": 19,
   "id": "0b0657bd-eefe-435a-9384-d78bd021f48b",
   "metadata": {},
   "outputs": [],
   "source": [
    "row_count = dask_df2.shape[0].compute()"
   ]
  },
  {
   "cell_type": "code",
   "execution_count": 20,
   "id": "76ac2fb5-d995-4696-a503-106c8d0befca",
   "metadata": {},
   "outputs": [
    {
     "name": "stdout",
     "output_type": "stream",
     "text": [
      "8788\n"
     ]
    }
   ],
   "source": [
    "print(row_count)"
   ]
  },
  {
   "cell_type": "code",
   "execution_count": 21,
   "id": "8cb37a3c-615b-45aa-8e7b-845020f730e6",
   "metadata": {},
   "outputs": [
    {
     "data": {
      "text/html": [
       "<div>\n",
       "<style scoped>\n",
       "    .dataframe tbody tr th:only-of-type {\n",
       "        vertical-align: middle;\n",
       "    }\n",
       "\n",
       "    .dataframe tbody tr th {\n",
       "        vertical-align: top;\n",
       "    }\n",
       "\n",
       "    .dataframe thead th {\n",
       "        text-align: right;\n",
       "    }\n",
       "</style>\n",
       "<table border=\"1\" class=\"dataframe\">\n",
       "  <thead>\n",
       "    <tr style=\"text-align: right;\">\n",
       "      <th></th>\n",
       "      <th>timestamp</th>\n",
       "      <th>temp</th>\n",
       "      <th>prcp</th>\n",
       "    </tr>\n",
       "  </thead>\n",
       "  <tbody>\n",
       "    <tr>\n",
       "      <th>0</th>\n",
       "      <td>2021-01-08 17:00:00</td>\n",
       "      <td>2.8</td>\n",
       "      <td>0.0</td>\n",
       "    </tr>\n",
       "    <tr>\n",
       "      <th>1</th>\n",
       "      <td>2021-01-08 18:00:00</td>\n",
       "      <td>3.3</td>\n",
       "      <td>0.0</td>\n",
       "    </tr>\n",
       "    <tr>\n",
       "      <th>2</th>\n",
       "      <td>2021-01-08 19:00:00</td>\n",
       "      <td>3.9</td>\n",
       "      <td>0.0</td>\n",
       "    </tr>\n",
       "    <tr>\n",
       "      <th>3</th>\n",
       "      <td>2021-01-08 20:00:00</td>\n",
       "      <td>3.9</td>\n",
       "      <td>0.0</td>\n",
       "    </tr>\n",
       "    <tr>\n",
       "      <th>4</th>\n",
       "      <td>2021-01-08 21:00:00</td>\n",
       "      <td>3.9</td>\n",
       "      <td>0.0</td>\n",
       "    </tr>\n",
       "    <tr>\n",
       "      <th>...</th>\n",
       "      <td>...</td>\n",
       "      <td>...</td>\n",
       "      <td>...</td>\n",
       "    </tr>\n",
       "    <tr>\n",
       "      <th>95</th>\n",
       "      <td>2021-01-12 16:00:00</td>\n",
       "      <td>4.4</td>\n",
       "      <td>0.0</td>\n",
       "    </tr>\n",
       "    <tr>\n",
       "      <th>96</th>\n",
       "      <td>2021-01-12 17:00:00</td>\n",
       "      <td>6.7</td>\n",
       "      <td>0.0</td>\n",
       "    </tr>\n",
       "    <tr>\n",
       "      <th>97</th>\n",
       "      <td>2021-01-12 18:00:00</td>\n",
       "      <td>7.8</td>\n",
       "      <td>0.0</td>\n",
       "    </tr>\n",
       "    <tr>\n",
       "      <th>98</th>\n",
       "      <td>2021-01-12 19:00:00</td>\n",
       "      <td>8.3</td>\n",
       "      <td>0.0</td>\n",
       "    </tr>\n",
       "    <tr>\n",
       "      <th>99</th>\n",
       "      <td>2021-01-12 20:00:00</td>\n",
       "      <td>7.8</td>\n",
       "      <td>0.0</td>\n",
       "    </tr>\n",
       "  </tbody>\n",
       "</table>\n",
       "<p>100 rows × 3 columns</p>\n",
       "</div>"
      ],
      "text/plain": [
       "             timestamp  temp  prcp\n",
       "0  2021-01-08 17:00:00   2.8   0.0\n",
       "1  2021-01-08 18:00:00   3.3   0.0\n",
       "2  2021-01-08 19:00:00   3.9   0.0\n",
       "3  2021-01-08 20:00:00   3.9   0.0\n",
       "4  2021-01-08 21:00:00   3.9   0.0\n",
       "..                 ...   ...   ...\n",
       "95 2021-01-12 16:00:00   4.4   0.0\n",
       "96 2021-01-12 17:00:00   6.7   0.0\n",
       "97 2021-01-12 18:00:00   7.8   0.0\n",
       "98 2021-01-12 19:00:00   8.3   0.0\n",
       "99 2021-01-12 20:00:00   7.8   0.0\n",
       "\n",
       "[100 rows x 3 columns]"
      ]
     },
     "execution_count": 21,
     "metadata": {},
     "output_type": "execute_result"
    }
   ],
   "source": [
    "dask_df2.head(100)"
   ]
  },
  {
   "cell_type": "markdown",
   "id": "a2c8b754-dad9-4f8a-8e86-acc46602bb6e",
   "metadata": {},
   "source": [
    "## Kepping only the columns we think that might affect the overall results of the ML model"
   ]
  },
  {
   "cell_type": "code",
   "execution_count": 22,
   "id": "bdfa2e4a-8469-4fc0-bf25-915d531aa727",
   "metadata": {},
   "outputs": [],
   "source": [
    "cols = ['timestamp','temp',\t'prcp']\n",
    "dask_df2 = dask_df2[cols]"
   ]
  },
  {
   "cell_type": "code",
   "execution_count": 23,
   "id": "be32b665-b54c-48c7-9a00-d0fd900bf550",
   "metadata": {},
   "outputs": [
    {
     "data": {
      "text/html": [
       "<div>\n",
       "<style scoped>\n",
       "    .dataframe tbody tr th:only-of-type {\n",
       "        vertical-align: middle;\n",
       "    }\n",
       "\n",
       "    .dataframe tbody tr th {\n",
       "        vertical-align: top;\n",
       "    }\n",
       "\n",
       "    .dataframe thead th {\n",
       "        text-align: right;\n",
       "    }\n",
       "</style>\n",
       "<table border=\"1\" class=\"dataframe\">\n",
       "  <thead>\n",
       "    <tr style=\"text-align: right;\">\n",
       "      <th></th>\n",
       "      <th>timestamp</th>\n",
       "      <th>temp</th>\n",
       "      <th>prcp</th>\n",
       "    </tr>\n",
       "  </thead>\n",
       "  <tbody>\n",
       "    <tr>\n",
       "      <th>0</th>\n",
       "      <td>2021-01-08 17:00:00</td>\n",
       "      <td>2.8</td>\n",
       "      <td>0.0</td>\n",
       "    </tr>\n",
       "    <tr>\n",
       "      <th>1</th>\n",
       "      <td>2021-01-08 18:00:00</td>\n",
       "      <td>3.3</td>\n",
       "      <td>0.0</td>\n",
       "    </tr>\n",
       "    <tr>\n",
       "      <th>2</th>\n",
       "      <td>2021-01-08 19:00:00</td>\n",
       "      <td>3.9</td>\n",
       "      <td>0.0</td>\n",
       "    </tr>\n",
       "    <tr>\n",
       "      <th>3</th>\n",
       "      <td>2021-01-08 20:00:00</td>\n",
       "      <td>3.9</td>\n",
       "      <td>0.0</td>\n",
       "    </tr>\n",
       "    <tr>\n",
       "      <th>4</th>\n",
       "      <td>2021-01-08 21:00:00</td>\n",
       "      <td>3.9</td>\n",
       "      <td>0.0</td>\n",
       "    </tr>\n",
       "  </tbody>\n",
       "</table>\n",
       "</div>"
      ],
      "text/plain": [
       "            timestamp  temp  prcp\n",
       "0 2021-01-08 17:00:00   2.8   0.0\n",
       "1 2021-01-08 18:00:00   3.3   0.0\n",
       "2 2021-01-08 19:00:00   3.9   0.0\n",
       "3 2021-01-08 20:00:00   3.9   0.0\n",
       "4 2021-01-08 21:00:00   3.9   0.0"
      ]
     },
     "execution_count": 23,
     "metadata": {},
     "output_type": "execute_result"
    }
   ],
   "source": [
    "dask_df2.head()"
   ]
  },
  {
   "cell_type": "code",
   "execution_count": 25,
   "id": "d8836708-39f8-486a-89cd-fc0207d7a88b",
   "metadata": {},
   "outputs": [
    {
     "name": "stdout",
     "output_type": "stream",
     "text": [
      "timestamp    datetime64[ns]\n",
      "temp                float64\n",
      "prcp                float64\n",
      "dtype: object\n"
     ]
    }
   ],
   "source": [
    "print(dask_df2.dtypes)"
   ]
  },
  {
   "cell_type": "markdown",
   "id": "bb798288-b743-418a-b683-db98c8a87b92",
   "metadata": {},
   "source": [
    "## SILVER Layer"
   ]
  },
  {
   "cell_type": "code",
   "execution_count": 29,
   "id": "6347440c-df03-4f84-93f1-686b7fece6fd",
   "metadata": {},
   "outputs": [],
   "source": [
    "dask_df2.to_parquet(\".data/database/silver/\", write_index=False, engine=\"pyarrow\")"
   ]
  },
  {
   "cell_type": "code",
   "execution_count": 30,
   "id": "c33e7ca1-2f27-4c9f-959a-cc295072a9c5",
   "metadata": {},
   "outputs": [
    {
     "name": "stdout",
     "output_type": "stream",
     "text": [
      "            timestamp  temp  prcp\n",
      "0 2021-01-08 17:00:00   2.8   0.0\n",
      "1 2021-01-08 18:00:00   3.3   0.0\n",
      "2 2021-01-08 19:00:00   3.9   0.0\n",
      "3 2021-01-08 20:00:00   3.9   0.0\n",
      "4 2021-01-08 21:00:00   3.9   0.0\n"
     ]
    }
   ],
   "source": [
    "dask_df3 = dd.read_parquet(\".data/database/silver/\")\n",
    "print(dask_df3.head())"
   ]
  },
  {
   "cell_type": "markdown",
   "id": "4657cb93-893d-495b-955b-5268bfe29384",
   "metadata": {},
   "source": [
    "## # FINISHED DATABASE COMPUTATION\n",
    "\n",
    "**Conclusion:** Now we'll work on other data sources to bring everything together and create a single file for the ML model training."
   ]
  }
 ],
 "metadata": {
  "kernelspec": {
   "display_name": "Python 3 (ipykernel)",
   "language": "python",
   "name": "python3"
  },
  "language_info": {
   "codemirror_mode": {
    "name": "ipython",
    "version": 3
   },
   "file_extension": ".py",
   "mimetype": "text/x-python",
   "name": "python",
   "nbconvert_exporter": "python",
   "pygments_lexer": "ipython3",
   "version": "3.12.8"
  }
 },
 "nbformat": 4,
 "nbformat_minor": 5
}
