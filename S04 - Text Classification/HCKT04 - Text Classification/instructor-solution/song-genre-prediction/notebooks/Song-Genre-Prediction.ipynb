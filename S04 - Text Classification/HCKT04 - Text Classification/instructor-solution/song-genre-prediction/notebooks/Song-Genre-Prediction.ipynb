{
 "cells": [
  {
   "cell_type": "markdown",
   "id": "b7db7ccc",
   "metadata": {},
   "source": [
    "# [LDSSA Hackathon] - Song Genre Prediction (NLP Specialization)\n",
    "\n",
    "This notebook aims to predict music genre using NLP Features.\n",
    "\n",
    "* Author: Jessica Rodrigues\n",
    "* Date: 04-03-2024"
   ]
  },
  {
   "cell_type": "code",
   "execution_count": 1,
   "id": "0aaea34d",
   "metadata": {},
   "outputs": [],
   "source": [
    "from pathlib import Path"
   ]
  },
  {
   "cell_type": "code",
   "execution_count": 2,
   "id": "85ac4049",
   "metadata": {},
   "outputs": [],
   "source": [
    "# project directory\n",
    "project_dir = Path(\".\").resolve().parent"
   ]
  },
  {
   "cell_type": "markdown",
   "id": "3ccebd6d",
   "metadata": {},
   "source": [
    "## 1. Data\n",
    "\n",
    "In this section, we are going to perform the Exploratory Data Analysis and the pre-processing of training, and test sets."
   ]
  },
  {
   "cell_type": "code",
   "execution_count": 3,
   "id": "e1ba46eb",
   "metadata": {},
   "outputs": [],
   "source": [
    "import pandas as pd\n",
    "from src.data.read_dataset import get_data\n",
    "pd.set_option('display.max_colwidth', None)"
   ]
  },
  {
   "cell_type": "markdown",
   "id": "f8ab82fe",
   "metadata": {},
   "source": [
    "### 1.1 Lyrics Dataset\n",
    "\n",
    "The autonlp-data-song-lyrics dataset (https://huggingface.co/datasets/juliensimon/autonlp-data-song-lyrics) contains ∼53, 882 entries.\n",
    "\n",
    "The dataset is a csv file and the columns are: **Lyric**, and **Genre0**. The file must be inside the **./data/raw/** directory and the extension must be .csv:\n",
    "* **Genre0**: multiclass variable, indicating six different song genres: Dance, Heavy Metal, Hip Hop, Indie, Pop, Rock."
   ]
  },
  {
   "cell_type": "code",
   "execution_count": 4,
   "id": "f6381d1c",
   "metadata": {},
   "outputs": [],
   "source": [
    "TRAIN_FILE = project_dir / \"data\" / \"raw\" / \"train2.csv\"\n",
    "TEST_FILE = project_dir / \"data\" / \"raw\" / \"raw_val2.csv\""
   ]
  },
  {
   "cell_type": "code",
   "execution_count": 5,
   "id": "fb503e6c",
   "metadata": {},
   "outputs": [],
   "source": [
    "df_train = pd.read_csv(TRAIN_FILE, delimiter=\",\", header=0, encoding='utf-8', engine='python')\n",
    "df_test = pd.read_csv(TEST_FILE, delimiter=\",\", header=0, encoding='utf-8', engine='python')"
   ]
  },
  {
   "cell_type": "code",
   "execution_count": 6,
   "id": "3a58d6a7",
   "metadata": {},
   "outputs": [
    {
     "data": {
      "text/html": [
       "<div>\n",
       "<style scoped>\n",
       "    .dataframe tbody tr th:only-of-type {\n",
       "        vertical-align: middle;\n",
       "    }\n",
       "\n",
       "    .dataframe tbody tr th {\n",
       "        vertical-align: top;\n",
       "    }\n",
       "\n",
       "    .dataframe thead th {\n",
       "        text-align: right;\n",
       "    }\n",
       "</style>\n",
       "<table border=\"1\" class=\"dataframe\">\n",
       "  <thead>\n",
       "    <tr style=\"text-align: right;\">\n",
       "      <th></th>\n",
       "      <th>Lyric</th>\n",
       "      <th>Genre0</th>\n",
       "    </tr>\n",
       "  </thead>\n",
       "  <tbody>\n",
       "    <tr>\n",
       "      <th>0</th>\n",
       "      <td>[Intro: Method Man w/ sample] + (Sunny valentine). We got butter (8X). (The gun'll go the gun'll go.... The gun'll go...). [Raekwon]. Aiyo one thing for sure keep you of all. Keep a nice crib fly away keep to the point. Keep niggaz outta ya face who snakes. Keep bitches in they place keep the mac in a special place. Keep moving for papes keep cool keep doing what you doing. Keep it fly keep me in the crates. Cuz I will erase shit on the real note you'se a waste. It's right here for you I will lace you. Rip you and brace you put a nice W up on ya face. Word to mother you could get chased. It's nothing to taste blood on a thug if he gotta go. All I know is we be giving grace. This is a place from where we make tapes. We make 'em everywhere still in all we be making base. Y'all be making paste these little niggaz they be making shapes. Our shit is art yours is traced. [Chorus: Sunny Valentine]. This is the way that we rolling in the streets. You know when we roll we be packing that heat. The gun'll go the gun'll go the gun'll go the gun'll go. The gun'll go the gun'll go the gun'll go the gun'll go. The gun'll go the gun'll go.... [Method Man]. This is Poverty Island man these animals don't run. Slums where the ambulance don't come. Who got the best base? Fiends waiting to smoke some. Approach something ask him where he getting that coke from. My dudes hug blocks like samurai shogun. Cuz no V and no ones equalling no fun. Who want a treat they know huh? Body to go numb. My woman need funds plus her hair and her toes done. It is what it is though you fuck with the kid flow. That make it hard to get dough the harder to get gold. Harder the piff blow harder when it snow. The pinky and the wrist glow this here what we live for. Get gwop then get low but first thought. We gotta get the work off the gift and the curse boss. Yeah see I'm the shit yo the dirt in the fit no. Hustling from the get-go the motto is get more. [Chorus]. [Masta Killa]. We was quiet flashy brothers strapped all along. With the dirty .38 long twelve hour shift gate. Took case state to state you think he won't hold his weight?. Put ya money on the plate and watch it get scrapped. We get ape up in that club off that juice and Henn. And it's a no win situation fucking with them. You mean like Ewing at the front at the rim finger roll a Dutch. Million dollar stages touched techs gauges bust. Trust no one the lone shogun rugged Timb boot stomper. Damaging lyrical mass destruction launcher. Nothing can calm the quakeage when I break kid. Peace to my brothers up north doing state bids. [Chorus]. [Chorus 2: Sunny Valentine]. Whoa... this is the way we be rolling in the club. You know when we roll we be packing .32 snubs. The gun'll go the gun'll go the gun'll go the gun'll go. The gun'll go the gun'll go the gun'll go the gun'll go. The gun'll go the gun'll go the gun'll go the gun'll go. [Outro: sample to fade]. We got butter...</td>\n",
       "      <td>Hip Hop</td>\n",
       "    </tr>\n",
       "    <tr>\n",
       "      <th>1</th>\n",
       "      <td>[Sean Paul:]. Aye. It's Sean Paul 'long side. The mandem called Jay Sean. Fi di gal dem. Tellin' 'em again what we tell 'em. [Jay Sean:]. Pass me a drink to the left yeah. Said her name was Delilah. And I'm like \"you should come my way\". I already surrender. Damn girl that body's fire. You gon' remember my name. (She should give it up definite). You need it. I need it. We can jump in the deep end. I wanna get lost in your love. I just wanna be close to you. (Just wanna I just wanna). And do all the things you want me to. I just wanna be close to you. (I just wanna I just wanna). And show you the way I feel. You make my love go. You make my love go. You make my love go. In the morning we gon' do it again wake up. I'mma do it like we just broke up and made up. Get up on top of me and work up a sweat work up a sweat. See we can do it any type of way that you want. I'm thinking maybe you're the right kind of wrong. I'm saying baby you won't ever forget my love. You need it. I need it. We can jump in the deep end. I wanna get lost in your love. I just wanna be close to you. (Just wanna I just wanna). And do all the things you want me to. I just wanna be close to you. (I just wanna I just wanna). And show you the way I feel. You make my love go. You make my love go. You make my love go. [Sean Paul:]. Girl mi wan' figure hundred hundred and fifty. Love how you move you know that I'm with it. Perfect size I know that you fit it. Just let me hit it you know mi not quit it. Pon di Dl like Cassie and Diddy. Mi na wound a mi watch we like Sin City. Full time mi run da ting mi tall legend. If you don't come gimme dat would I be offended my girl. Come here down wan' see something me want in life and then waste time. A you a mi pree every day baby full time when ya de pon on mi mind. So mi wine if you give it to me baby girl so we can play. Stick to the ting now I am your king my girl this is what we say. [Jay Sean:]. I just wanna be close to you. (Just wanna I just wanna). And do all the things you want me to. I just wanna be close to you. (I just wanna I just wanna). And show you the way I feel. You make my love go. You make my love go. You make my love go</td>\n",
       "      <td>Pop</td>\n",
       "    </tr>\n",
       "    <tr>\n",
       "      <th>2</th>\n",
       "      <td>Beauty finds refuge in herself. Lovers wrapped inside each others lies. Beauty is such a terrible thing. She is suffering yet more than death. She is suffering. She sucks you deeper in. She is suffering. You exist within her shadow. Beauty she is scarred into man's soul. A flower attracting lust vice and sin. A vine that can strangle life from a tree. Carrion surrounding picking on leaves. She is suffering. She sucks you deeper in. She is suffering. You exist within her shadow. Beauty she poisons unfaithful all. Stifled her touch is leprous and pale. The less she gives the more you need her. No thoughts to forget when we were children. She is suffering. She sucks you deeper in. She is suffering. Nature's lukewarm pleasure.</td>\n",
       "      <td>Indie</td>\n",
       "    </tr>\n",
       "  </tbody>\n",
       "</table>\n",
       "</div>"
      ],
      "text/plain": [
       "                                                                                                                                                                                                                                                                                                                                                                                                                                                                                                                                                                                                                                                                                                                                                                                                                                                                                                                                                                                                                                                                                                                                                                                                                                                                                                                                                                                                                                                                                                                                                                                                                                                                                                                                                                                                                                                                                                                                                                                                                                                                                                                                                                                                                                                                                                                                                                                                                                                                                                                                                                                                                                                                                                                                                                                                                                                                                                                                                                                                                                                        Lyric  \\\n",
       "0  [Intro: Method Man w/ sample] + (Sunny valentine). We got butter (8X). (The gun'll go the gun'll go.... The gun'll go...). [Raekwon]. Aiyo one thing for sure keep you of all. Keep a nice crib fly away keep to the point. Keep niggaz outta ya face who snakes. Keep bitches in they place keep the mac in a special place. Keep moving for papes keep cool keep doing what you doing. Keep it fly keep me in the crates. Cuz I will erase shit on the real note you'se a waste. It's right here for you I will lace you. Rip you and brace you put a nice W up on ya face. Word to mother you could get chased. It's nothing to taste blood on a thug if he gotta go. All I know is we be giving grace. This is a place from where we make tapes. We make 'em everywhere still in all we be making base. Y'all be making paste these little niggaz they be making shapes. Our shit is art yours is traced. [Chorus: Sunny Valentine]. This is the way that we rolling in the streets. You know when we roll we be packing that heat. The gun'll go the gun'll go the gun'll go the gun'll go. The gun'll go the gun'll go the gun'll go the gun'll go. The gun'll go the gun'll go.... [Method Man]. This is Poverty Island man these animals don't run. Slums where the ambulance don't come. Who got the best base? Fiends waiting to smoke some. Approach something ask him where he getting that coke from. My dudes hug blocks like samurai shogun. Cuz no V and no ones equalling no fun. Who want a treat they know huh? Body to go numb. My woman need funds plus her hair and her toes done. It is what it is though you fuck with the kid flow. That make it hard to get dough the harder to get gold. Harder the piff blow harder when it snow. The pinky and the wrist glow this here what we live for. Get gwop then get low but first thought. We gotta get the work off the gift and the curse boss. Yeah see I'm the shit yo the dirt in the fit no. Hustling from the get-go the motto is get more. [Chorus]. [Masta Killa]. We was quiet flashy brothers strapped all along. With the dirty .38 long twelve hour shift gate. Took case state to state you think he won't hold his weight?. Put ya money on the plate and watch it get scrapped. We get ape up in that club off that juice and Henn. And it's a no win situation fucking with them. You mean like Ewing at the front at the rim finger roll a Dutch. Million dollar stages touched techs gauges bust. Trust no one the lone shogun rugged Timb boot stomper. Damaging lyrical mass destruction launcher. Nothing can calm the quakeage when I break kid. Peace to my brothers up north doing state bids. [Chorus]. [Chorus 2: Sunny Valentine]. Whoa... this is the way we be rolling in the club. You know when we roll we be packing .32 snubs. The gun'll go the gun'll go the gun'll go the gun'll go. The gun'll go the gun'll go the gun'll go the gun'll go. The gun'll go the gun'll go the gun'll go the gun'll go. [Outro: sample to fade]. We got butter...   \n",
       "1                                                                                                                                                                                                                                                                                                                                                                                                                                                                                                                                                                                                                                                                                                                                                                                       [Sean Paul:]. Aye. It's Sean Paul 'long side. The mandem called Jay Sean. Fi di gal dem. Tellin' 'em again what we tell 'em. [Jay Sean:]. Pass me a drink to the left yeah. Said her name was Delilah. And I'm like \"you should come my way\". I already surrender. Damn girl that body's fire. You gon' remember my name. (She should give it up definite). You need it. I need it. We can jump in the deep end. I wanna get lost in your love. I just wanna be close to you. (Just wanna I just wanna). And do all the things you want me to. I just wanna be close to you. (I just wanna I just wanna). And show you the way I feel. You make my love go. You make my love go. You make my love go. In the morning we gon' do it again wake up. I'mma do it like we just broke up and made up. Get up on top of me and work up a sweat work up a sweat. See we can do it any type of way that you want. I'm thinking maybe you're the right kind of wrong. I'm saying baby you won't ever forget my love. You need it. I need it. We can jump in the deep end. I wanna get lost in your love. I just wanna be close to you. (Just wanna I just wanna). And do all the things you want me to. I just wanna be close to you. (I just wanna I just wanna). And show you the way I feel. You make my love go. You make my love go. You make my love go. [Sean Paul:]. Girl mi wan' figure hundred hundred and fifty. Love how you move you know that I'm with it. Perfect size I know that you fit it. Just let me hit it you know mi not quit it. Pon di Dl like Cassie and Diddy. Mi na wound a mi watch we like Sin City. Full time mi run da ting mi tall legend. If you don't come gimme dat would I be offended my girl. Come here down wan' see something me want in life and then waste time. A you a mi pree every day baby full time when ya de pon on mi mind. So mi wine if you give it to me baby girl so we can play. Stick to the ting now I am your king my girl this is what we say. [Jay Sean:]. I just wanna be close to you. (Just wanna I just wanna). And do all the things you want me to. I just wanna be close to you. (I just wanna I just wanna). And show you the way I feel. You make my love go. You make my love go. You make my love go   \n",
       "2                                                                                                                                                                                                                                                                                                                                                                                                                                                                                                                                                                                                                                                                                                                                                                                                                                                                                                                                                                                                                                                                                                                                                                                                                                                                                                                                                                                                                                                                                                                                                                                                                                                                                                                                                                                                                                                                                                                                                                                                                                                                                                                                                                                                                                                                                                Beauty finds refuge in herself. Lovers wrapped inside each others lies. Beauty is such a terrible thing. She is suffering yet more than death. She is suffering. She sucks you deeper in. She is suffering. You exist within her shadow. Beauty she is scarred into man's soul. A flower attracting lust vice and sin. A vine that can strangle life from a tree. Carrion surrounding picking on leaves. She is suffering. She sucks you deeper in. She is suffering. You exist within her shadow. Beauty she poisons unfaithful all. Stifled her touch is leprous and pale. The less she gives the more you need her. No thoughts to forget when we were children. She is suffering. She sucks you deeper in. She is suffering. Nature's lukewarm pleasure.   \n",
       "\n",
       "    Genre0  \n",
       "0  Hip Hop  \n",
       "1      Pop  \n",
       "2    Indie  "
      ]
     },
     "execution_count": 6,
     "metadata": {},
     "output_type": "execute_result"
    }
   ],
   "source": [
    "df_train.head(3)"
   ]
  },
  {
   "cell_type": "code",
   "execution_count": 8,
   "id": "fedf2479",
   "metadata": {},
   "outputs": [
    {
     "name": "stdout",
     "output_type": "stream",
     "text": [
      "<class 'pandas.core.frame.DataFrame'>\n",
      "RangeIndex: 48493 entries, 0 to 48492\n",
      "Data columns (total 2 columns):\n",
      " #   Column  Non-Null Count  Dtype \n",
      "---  ------  --------------  ----- \n",
      " 0   Lyric   48493 non-null  object\n",
      " 1   Genre0  48493 non-null  object\n",
      "dtypes: object(2)\n",
      "memory usage: 757.8+ KB\n"
     ]
    }
   ],
   "source": [
    "df_train.info()"
   ]
  },
  {
   "cell_type": "code",
   "execution_count": 9,
   "id": "6a30364b",
   "metadata": {},
   "outputs": [
    {
     "name": "stdout",
     "output_type": "stream",
     "text": [
      "<class 'pandas.core.frame.DataFrame'>\n",
      "RangeIndex: 5389 entries, 0 to 5388\n",
      "Data columns (total 2 columns):\n",
      " #   Column  Non-Null Count  Dtype \n",
      "---  ------  --------------  ----- \n",
      " 0   Lyric   5389 non-null   object\n",
      " 1   Genre0  5389 non-null   object\n",
      "dtypes: object(2)\n",
      "memory usage: 84.3+ KB\n"
     ]
    }
   ],
   "source": [
    "df_test.info()"
   ]
  },
  {
   "cell_type": "code",
   "execution_count": 10,
   "id": "36ea5d86",
   "metadata": {},
   "outputs": [
    {
     "data": {
      "text/html": [
       "<div>\n",
       "<style scoped>\n",
       "    .dataframe tbody tr th:only-of-type {\n",
       "        vertical-align: middle;\n",
       "    }\n",
       "\n",
       "    .dataframe tbody tr th {\n",
       "        vertical-align: top;\n",
       "    }\n",
       "\n",
       "    .dataframe thead th {\n",
       "        text-align: right;\n",
       "    }\n",
       "</style>\n",
       "<table border=\"1\" class=\"dataframe\">\n",
       "  <thead>\n",
       "    <tr style=\"text-align: right;\">\n",
       "      <th></th>\n",
       "      <th>Lyric</th>\n",
       "      <th>Genre0</th>\n",
       "    </tr>\n",
       "  </thead>\n",
       "  <tbody>\n",
       "    <tr>\n",
       "      <th>count</th>\n",
       "      <td>48493</td>\n",
       "      <td>48493</td>\n",
       "    </tr>\n",
       "    <tr>\n",
       "      <th>unique</th>\n",
       "      <td>48274</td>\n",
       "      <td>6</td>\n",
       "    </tr>\n",
       "    <tr>\n",
       "      <th>top</th>\n",
       "      <td>[This song is an instrumental.].</td>\n",
       "      <td>Rock</td>\n",
       "    </tr>\n",
       "    <tr>\n",
       "      <th>freq</th>\n",
       "      <td>13</td>\n",
       "      <td>18993</td>\n",
       "    </tr>\n",
       "  </tbody>\n",
       "</table>\n",
       "</div>"
      ],
      "text/plain": [
       "                                   Lyric Genre0\n",
       "count                              48493  48493\n",
       "unique                             48274      6\n",
       "top     [This song is an instrumental.].   Rock\n",
       "freq                                  13  18993"
      ]
     },
     "execution_count": 10,
     "metadata": {},
     "output_type": "execute_result"
    }
   ],
   "source": [
    "df_train.describe()"
   ]
  },
  {
   "cell_type": "code",
   "execution_count": 11,
   "id": "ab68fa36",
   "metadata": {},
   "outputs": [
    {
     "data": {
      "text/html": [
       "<div>\n",
       "<style scoped>\n",
       "    .dataframe tbody tr th:only-of-type {\n",
       "        vertical-align: middle;\n",
       "    }\n",
       "\n",
       "    .dataframe tbody tr th {\n",
       "        vertical-align: top;\n",
       "    }\n",
       "\n",
       "    .dataframe thead th {\n",
       "        text-align: right;\n",
       "    }\n",
       "</style>\n",
       "<table border=\"1\" class=\"dataframe\">\n",
       "  <thead>\n",
       "    <tr style=\"text-align: right;\">\n",
       "      <th></th>\n",
       "      <th>Lyric</th>\n",
       "      <th>Genre0</th>\n",
       "    </tr>\n",
       "  </thead>\n",
       "  <tbody>\n",
       "    <tr>\n",
       "      <th>count</th>\n",
       "      <td>5389</td>\n",
       "      <td>5389</td>\n",
       "    </tr>\n",
       "    <tr>\n",
       "      <th>unique</th>\n",
       "      <td>5388</td>\n",
       "      <td>6</td>\n",
       "    </tr>\n",
       "    <tr>\n",
       "      <th>top</th>\n",
       "      <td>Welcome to where time stands still. No one leaves and no one will. Moon is full never seems to change. Just labeled mentally deranged. Dream the same thing every night. I see our freedom in my sight. No locked doors no windows barred. No things to make my brain seem scarred. Sleep my friend and you will see. That dream is my reality. They keep me locked up in this cage. Can't they see it's why my brain says rage. Sanitarium leave me be. Sanitarium just leave me alone. Build my fear of what's out there. And cannot breathe the open air. Whisper things into my brain. Assuring me that I'm insane. They think our heads are in their hands. But violent use brings violent plans. Keep him tied it makes him well. He's getting better can't you tell?. No more can they keep us in. Listen damn it we will win. They see it right they see it well. But they think this saves us from our hell. Sanitarium leave me be. Sanitarium just leave me alone. Sanitarium just leave me alone. Fear of living on. Natives getting restless now. Mutiny in the air. Got some death to do. Mirror stares back hard. Kill it's such a friendly word. Seems the only way. For reaching out again</td>\n",
       "      <td>Rock</td>\n",
       "    </tr>\n",
       "    <tr>\n",
       "      <th>freq</th>\n",
       "      <td>2</td>\n",
       "      <td>2110</td>\n",
       "    </tr>\n",
       "  </tbody>\n",
       "</table>\n",
       "</div>"
      ],
      "text/plain": [
       "                                                                                                                                                                                                                                                                                                                                                                                                                                                                                                                                                                                                                                                                                                                                                                                                                                                                                                                                                                                                                                                                                                                                                                                                              Lyric  \\\n",
       "count                                                                                                                                                                                                                                                                                                                                                                                                                                                                                                                                                                                                                                                                                                                                                                                                                                                                                                                                                                                                                                                                                                                                                                                                          5389   \n",
       "unique                                                                                                                                                                                                                                                                                                                                                                                                                                                                                                                                                                                                                                                                                                                                                                                                                                                                                                                                                                                                                                                                                                                                                                                                         5388   \n",
       "top     Welcome to where time stands still. No one leaves and no one will. Moon is full never seems to change. Just labeled mentally deranged. Dream the same thing every night. I see our freedom in my sight. No locked doors no windows barred. No things to make my brain seem scarred. Sleep my friend and you will see. That dream is my reality. They keep me locked up in this cage. Can't they see it's why my brain says rage. Sanitarium leave me be. Sanitarium just leave me alone. Build my fear of what's out there. And cannot breathe the open air. Whisper things into my brain. Assuring me that I'm insane. They think our heads are in their hands. But violent use brings violent plans. Keep him tied it makes him well. He's getting better can't you tell?. No more can they keep us in. Listen damn it we will win. They see it right they see it well. But they think this saves us from our hell. Sanitarium leave me be. Sanitarium just leave me alone. Sanitarium just leave me alone. Fear of living on. Natives getting restless now. Mutiny in the air. Got some death to do. Mirror stares back hard. Kill it's such a friendly word. Seems the only way. For reaching out again   \n",
       "freq                                                                                                                                                                                                                                                                                                                                                                                                                                                                                                                                                                                                                                                                                                                                                                                                                                                                                                                                                                                                                                                                                                                                                                                                              2   \n",
       "\n",
       "       Genre0  \n",
       "count    5389  \n",
       "unique      6  \n",
       "top      Rock  \n",
       "freq     2110  "
      ]
     },
     "execution_count": 11,
     "metadata": {},
     "output_type": "execute_result"
    }
   ],
   "source": [
    "df_test.describe()"
   ]
  },
  {
   "cell_type": "code",
   "execution_count": 12,
   "id": "2fe5b637-6b38-4dd1-9067-0695d1094b6b",
   "metadata": {},
   "outputs": [],
   "source": [
    "# Reducing to majority classes\n",
    "df_train = df_train[(df_train.Genre0 == 'Rock') | (df_train.Genre0 == 'Pop') | (df_train.Genre0 == 'Hip Hop')]\n",
    "df_test = df_test[(df_test.Genre0 == 'Rock') | (df_test.Genre0 == 'Pop') | (df_test.Genre0 == 'Hip Hop')]"
   ]
  },
  {
   "cell_type": "markdown",
   "id": "d3cc7419",
   "metadata": {},
   "source": [
    "### 1.2 Exploratory Data Analysis"
   ]
  },
  {
   "cell_type": "code",
   "execution_count": 13,
   "id": "7b5f108b",
   "metadata": {},
   "outputs": [],
   "source": [
    "import seaborn as sns\n",
    "import matplotlib.pyplot as plt\n",
    "from sklearn.preprocessing import LabelEncoder\n",
    "from src.data.read_dataset import get_data\n",
    "from src.data.make_dataset import create_train_test_sets"
   ]
  },
  {
   "cell_type": "code",
   "execution_count": 14,
   "id": "97b88261",
   "metadata": {},
   "outputs": [],
   "source": [
    "# Rename key columns\n",
    "df_train.rename(columns={'Genre0': 'label', 'Lyric': 'text'}, inplace=True)\n",
    "df_test.rename(columns={'Genre0': 'label', 'Lyric': 'text'}, inplace=True)"
   ]
  },
  {
   "cell_type": "code",
   "execution_count": 15,
   "id": "529ec8cd",
   "metadata": {},
   "outputs": [
    {
     "data": {
      "text/plain": [
       "text     0\n",
       "label    0\n",
       "dtype: int64"
      ]
     },
     "execution_count": 15,
     "metadata": {},
     "output_type": "execute_result"
    }
   ],
   "source": [
    "# Checking the missing data\n",
    "df_train.isnull().sum().sort_values(ascending=False)"
   ]
  },
  {
   "cell_type": "code",
   "execution_count": 16,
   "id": "5751b841",
   "metadata": {},
   "outputs": [
    {
     "data": {
      "text/plain": [
       "121"
      ]
     },
     "execution_count": 16,
     "metadata": {},
     "output_type": "execute_result"
    }
   ],
   "source": [
    "# Checking the duplicate data\n",
    "df_train.duplicated().sum()"
   ]
  },
  {
   "cell_type": "code",
   "execution_count": 17,
   "id": "1f59ce79",
   "metadata": {},
   "outputs": [],
   "source": [
    "# Removing duplicates\n",
    "df_train = df_train.drop_duplicates()"
   ]
  },
  {
   "cell_type": "code",
   "execution_count": 18,
   "id": "da1cff45",
   "metadata": {},
   "outputs": [
    {
     "data": {
      "text/plain": [
       "label\n",
       "Rock       18954\n",
       "Pop        11118\n",
       "Hip Hop     8860\n",
       "Name: count, dtype: int64"
      ]
     },
     "execution_count": 18,
     "metadata": {},
     "output_type": "execute_result"
    }
   ],
   "source": [
    "df_train[\"label\"].value_counts()"
   ]
  },
  {
   "cell_type": "code",
   "execution_count": 19,
   "id": "9fb1d19b",
   "metadata": {},
   "outputs": [
    {
     "data": {
      "text/plain": [
       "label\n",
       "Rock       2110\n",
       "Pop        1244\n",
       "Hip Hop     964\n",
       "Name: count, dtype: int64"
      ]
     },
     "execution_count": 19,
     "metadata": {},
     "output_type": "execute_result"
    }
   ],
   "source": [
    "df_test[\"label\"].value_counts()"
   ]
  },
  {
   "cell_type": "code",
   "execution_count": 20,
   "id": "7d296592",
   "metadata": {},
   "outputs": [
    {
     "data": {
      "text/plain": [
       "<Axes: xlabel='label', ylabel='count'>"
      ]
     },
     "execution_count": 20,
     "metadata": {},
     "output_type": "execute_result"
    },
    {
     "data": {
      "image/png": "[encoded data removed]",
      "text/plain": [
       "<Figure size 640x480 with 1 Axes>"
      ]
     },
     "metadata": {},
     "output_type": "display_data"
    }
   ],
   "source": [
    "sns.countplot(x = df_train['label'])"
   ]
  },
  {
   "cell_type": "code",
   "execution_count": 21,
   "id": "e3b59ac8",
   "metadata": {},
   "outputs": [
    {
     "data": {
      "text/plain": [
       "<Axes: xlabel='label', ylabel='count'>"
      ]
     },
     "execution_count": 21,
     "metadata": {},
     "output_type": "execute_result"
    },
    {
     "data": {
      "image/png": "[encoded data removed]",
      "text/plain": [
       "<Figure size 640x480 with 1 Axes>"
      ]
     },
     "metadata": {},
     "output_type": "display_data"
    }
   ],
   "source": [
    "sns.countplot(x = df_test['label'])"
   ]
  },
  {
   "cell_type": "code",
   "execution_count": 22,
   "id": "24a68352",
   "metadata": {},
   "outputs": [],
   "source": [
    "# Changing to numeric type\n",
    "label = LabelEncoder()\n",
    "df_train['label'] = label.fit_transform(df_train['label'])\n",
    "df_test['label'] = label.fit_transform(df_test['label'])"
   ]
  },
  {
   "cell_type": "code",
   "execution_count": 23,
   "id": "3dd64650-f89c-4e59-9e0c-859da86d5a97",
   "metadata": {},
   "outputs": [],
   "source": [
    "# Create training and test sets with the same class distribution\n",
    "# param data: Dataframe \n",
    "# param train_frac: Ratio of train set to whole dataset\n",
    "# param balanced: Downsample majority class equal to the number of samples in the minority class\n",
    "#create_train_test_sets(df_train, 0.8, False)"
   ]
  },
  {
   "cell_type": "code",
   "execution_count": 24,
   "id": "a8df7d19",
   "metadata": {},
   "outputs": [],
   "source": [
    "# save pre-processed files\n",
    "#TRAIN_PATH = project_dir / \"data\" / \"processed\" / \"train.csv\"\n",
    "#df_train.to_csv(TRAIN_PATH, index=False)\n",
    "TEST_PATH = project_dir / \"data\" / \"processed\" / \"test.csv\"\n",
    "df_test.to_csv(TEST_PATH, index=False)"
   ]
  },
  {
   "cell_type": "markdown",
   "id": "068a9eb6",
   "metadata": {},
   "source": [
    "## 2. Training\n",
    "\n",
    "In this section, we are going to adopt a  Logistic Regression classifier as a baseline and a pre-trained language model as our model. We are going to fine-tune our model on the Lyrics dataset (train and dev splits).\n",
    "\n",
    "[BONUS!]\n",
    "We used the [Transformers library](https://huggingface.co/docs/transformers/index) provided by the Hugging Face with the following pre-trained model:\n",
    "\n",
    "* **distilbert-base-uncased**: DistilBERT is a transformers model, smaller and faster than BERT, which is pretrained also in a self-supervised fashion, using the BERT base model as a teacher.\n",
    "\n",
    "The model is pre-trained on English texts.\n",
    "\n",
    "As an alternative, you can download my trained model [here](https://drive.google.com/drive/folders/1NBi2vfn71PxZ5gNx2DoRkpzSmhGPUOkX?usp=sharing) and save in `./model/`."
   ]
  },
  {
   "cell_type": "code",
   "execution_count": 25,
   "id": "0755acae-ef56-4ce4-b8c3-474ce6dd8838",
   "metadata": {},
   "outputs": [],
   "source": [
    "from src.models.train_model import TransformerFineTuning\n",
    "from src.models.baseline import BaselinePredict\n",
    "from src.models.predict_model import TransformerPredict"
   ]
  },
  {
   "cell_type": "code",
   "execution_count": 30,
   "id": "6f10e0d4-3f59-40f7-aff9-933d4f11f3a3",
   "metadata": {},
   "outputs": [],
   "source": [
    "# Models\n",
    "MY_MODEL = \"distilbert-base-uncased\"\n",
    "BASELINE_MODEL = \"LogisticRegression\""
   ]
  },
  {
   "cell_type": "markdown",
   "id": "e5dc5655-7b56-45a2-9d53-bd109a536b18",
   "metadata": {},
   "source": [
    "### [BONUS!] 2.1 DistilBERT"
   ]
  },
  {
   "cell_type": "code",
   "execution_count": 28,
   "id": "32564462-a6b2-4d4e-b756-239ed831779c",
   "metadata": {},
   "outputs": [
    {
     "name": "stderr",
     "output_type": "stream",
     "text": [
      "Some weights of DistilBertForSequenceClassification were not initialized from the model checkpoint at distilbert-base-uncased and are newly initialized: ['classifier.bias', 'classifier.weight', 'pre_classifier.bias', 'pre_classifier.weight']\n",
      "You should probably TRAIN this model on a down-stream task to be able to use it for predictions and inference.\n"
     ]
    },
    {
     "data": {
      "application/vnd.jupyter.widget-view+json": {
       "model_id": "d3c234168cdf40d8947fcd988b2d45bf",
       "version_major": 2,
       "version_minor": 0
      },
      "text/plain": [
       "Map:   0%|          | 0/31145 [00:00<?, ? examples/s]"
      ]
     },
     "metadata": {},
     "output_type": "display_data"
    },
    {
     "data": {
      "application/vnd.jupyter.widget-view+json": {
       "model_id": "24902eab1cfc4504983e86c3975a18a1",
       "version_major": 2,
       "version_minor": 0
      },
      "text/plain": [
       "Map:   0%|          | 0/7787 [00:00<?, ? examples/s]"
      ]
     },
     "metadata": {},
     "output_type": "display_data"
    },
    {
     "name": "stderr",
     "output_type": "stream",
     "text": [
      "/Users/jrt0234/PycharmProjects/song-genre-prediction-original/venv/lib/python3.12/site-packages/accelerate/accelerator.py:436: FutureWarning: Passing the following arguments to `Accelerator` is deprecated and will be removed in version 1.0 of Accelerate: dict_keys(['dispatch_batches', 'split_batches', 'even_batches', 'use_seedable_sampler']). Please pass an `accelerate.DataLoaderConfiguration` instead: \n",
      "dataloader_config = DataLoaderConfiguration(dispatch_batches=None, split_batches=False, even_batches=True, use_seedable_sampler=True)\n",
      "  warnings.warn(\n"
     ]
    },
    {
     "data": {
      "text/html": [
       "\n",
       "    <div>\n",
       "      \n",
       "      <progress value='7788' max='7788' style='width:300px; height:20px; vertical-align: middle;'></progress>\n",
       "      [7788/7788 3:46:24, Epoch 4/4]\n",
       "    </div>\n",
       "    <table border=\"1\" class=\"dataframe\">\n",
       "  <thead>\n",
       " <tr style=\"text-align: left;\">\n",
       "      <th>Epoch</th>\n",
       "      <th>Training Loss</th>\n",
       "      <th>Validation Loss</th>\n",
       "      <th>Accuracy</th>\n",
       "      <th>Precision</th>\n",
       "      <th>Recall</th>\n",
       "      <th>F1</th>\n",
       "    </tr>\n",
       "  </thead>\n",
       "  <tbody>\n",
       "    <tr>\n",
       "      <td>1</td>\n",
       "      <td>0.580800</td>\n",
       "      <td>0.548667</td>\n",
       "      <td>0.766149</td>\n",
       "      <td>0.763578</td>\n",
       "      <td>0.766149</td>\n",
       "      <td>0.756817</td>\n",
       "    </tr>\n",
       "    <tr>\n",
       "      <td>2</td>\n",
       "      <td>0.462100</td>\n",
       "      <td>0.530087</td>\n",
       "      <td>0.775395</td>\n",
       "      <td>0.772711</td>\n",
       "      <td>0.775395</td>\n",
       "      <td>0.769309</td>\n",
       "    </tr>\n",
       "    <tr>\n",
       "      <td>3</td>\n",
       "      <td>0.344400</td>\n",
       "      <td>0.600873</td>\n",
       "      <td>0.777578</td>\n",
       "      <td>0.773796</td>\n",
       "      <td>0.777578</td>\n",
       "      <td>0.772643</td>\n",
       "    </tr>\n",
       "    <tr>\n",
       "      <td>4</td>\n",
       "      <td>0.245100</td>\n",
       "      <td>0.668602</td>\n",
       "      <td>0.768846</td>\n",
       "      <td>0.771207</td>\n",
       "      <td>0.768846</td>\n",
       "      <td>0.769559</td>\n",
       "    </tr>\n",
       "  </tbody>\n",
       "</table><p>"
      ],
      "text/plain": [
       "<IPython.core.display.HTML object>"
      ]
     },
     "metadata": {},
     "output_type": "display_data"
    }
   ],
   "source": [
    "# Fine-tune my model\n",
    "TransformerFineTuning(MY_MODEL).train()"
   ]
  },
  {
   "cell_type": "markdown",
   "id": "998e43e0-72ae-484b-801b-c24b1f58eece",
   "metadata": {},
   "source": [
    "## 3. Prediction\n",
    "\n",
    "In this section, we are going to predict the probabilities of label 0 (**Hip Hop**), label 1 (**Pop**), label 2 (**Rock**) for the test cases."
   ]
  },
  {
   "cell_type": "code",
   "execution_count": 49,
   "id": "ac99f73b-4d27-4d4b-81ab-31bf7c82b86a",
   "metadata": {},
   "outputs": [],
   "source": [
    "COMPARE_MY_MODEL = True\n",
    "COMPARE_BASELINE_MODEL = True"
   ]
  },
  {
   "cell_type": "code",
   "execution_count": 50,
   "id": "11088527-8df7-49a8-a719-ed4b0a39b0ed",
   "metadata": {},
   "outputs": [],
   "source": [
    "# Do I have my baseline model available?\n",
    "if COMPARE_BASELINE_MODEL and BASELINE_MODEL not in df_test:\n",
    "\n",
    "    model = BaselinePredict(BASELINE_MODEL)\n",
    "    df_test[BASELINE_MODEL] = df_test.text.apply(lambda row: model.predict(row)[0])"
   ]
  },
  {
   "cell_type": "code",
   "execution_count": 43,
   "id": "2d1c3bcb-0cd9-43cc-a9dd-2e6c942b109c",
   "metadata": {},
   "outputs": [
    {
     "name": "stderr",
     "output_type": "stream",
     "text": [
      "/Users/jrt0234/PycharmProjects/song-genre-prediction-original/venv/lib/python3.12/site-packages/transformers/pipelines/text_classification.py:104: UserWarning: `return_all_scores` is now deprecated,  if want a similar functionality use `top_k=None` instead of `return_all_scores=True` or `top_k=1` instead of `return_all_scores=False`.\n",
      "  warnings.warn(\n"
     ]
    }
   ],
   "source": [
    "# Do I have my distilbert model available?\n",
    "if COMPARE_MY_MODEL and MY_MODEL not in df_test:\n",
    "    \n",
    "    MODEL_PATH = project_dir / \"model\" / MY_MODEL\n",
    "    \n",
    "    if not MODEL_PATH.exists():\n",
    "        raise FileNotFoundError(\"Failed to load the model\")\n",
    "\n",
    "    model = TransformerPredict(MODEL_PATH)\n",
    "    \n",
    "    df_test[MY_MODEL] = df_test.text.apply(lambda row: model.predict(str(row))[0][\"label\"])\n",
    "    df_test[MY_MODEL] = df_test[MY_MODEL].apply(lambda row: int(row.split('_')[1]))"
   ]
  },
  {
   "cell_type": "code",
   "execution_count": 51,
   "id": "332559f1-01d0-47b2-a75d-2471d50d98e2",
   "metadata": {},
   "outputs": [
    {
     "data": {
      "text/html": [
       "<div>\n",
       "<style scoped>\n",
       "    .dataframe tbody tr th:only-of-type {\n",
       "        vertical-align: middle;\n",
       "    }\n",
       "\n",
       "    .dataframe tbody tr th {\n",
       "        vertical-align: top;\n",
       "    }\n",
       "\n",
       "    .dataframe thead th {\n",
       "        text-align: right;\n",
       "    }\n",
       "</style>\n",
       "<table border=\"1\" class=\"dataframe\">\n",
       "  <thead>\n",
       "    <tr style=\"text-align: right;\">\n",
       "      <th></th>\n",
       "      <th>text</th>\n",
       "      <th>label</th>\n",
       "      <th>distilbert-base-uncased</th>\n",
       "      <th>LogisticRegression</th>\n",
       "    </tr>\n",
       "  </thead>\n",
       "  <tbody>\n",
       "    <tr>\n",
       "      <th>0</th>\n",
       "      <td>I was nineteen when I came to town they called it the Summer of Love. They were burning babies burning flags. The hawks against the doves. I took a job in the steamie down on Cauldrum Street. And I fell in love with a laundry girl who was working next to me. Oh she was a rare thing fine as a bee's wing. So fine a breath of wind might blow her away. She was a lost child oh she was running wild. She said \"As long as there's no price on love I'll stay.. And you wouldn't want me any other way\". Brown hair zig-zag around her face and a look of half-surprise. Like a fox caught in the headlights there was animal in her eyes. She said \"Young man oh can't you see I'm not the factory kind. If you don't take me out of here I'll surely lose my mind\". Oh she was a rare thing fine as a bee's wing. So fine that I might crush her where she lay. She was a lost child she was running wild. She said \"As long as there's no price on love I'll stay.. And you wouldn't want me any other way\". We busked around the market towns and picked fruit down in Kent. And we could tinker lamps and pots and knives wherever we went. And I said that we might settle down get a few acres dug. Fire burning in the hearth and babies on the rug. She said \"Oh man you foolish man it surely sounds like hell.. You might be lord of half the world you'll not own me as well\". Oh she was a rare thing fine as a bee's wing. So fine a breath of wind might blow her away. She was a lost child oh she was running wild. She said \"As long as there's no price on love I'll stay.. And you wouldn't want me any other way\". We was camping down the Gower one time the work was pretty good. She thought we shouldn't wait for the frost and I thought maybe we should. We was drinking more in those days and tempers reached a pitch. And like a fool I let her run with the rambling itch. Oh the last I heard she's sleeping rough back on the Derby beat. White Horse in her hip pocket and a wolfhound at her feet. And they say she even married once a man named Romany Brown. But even a gypsy caravan was too much settling down. And they say her flower is faded now hard weather and hard booze. But maybe that's just the price you pay for the chains you refuse. Oh she was a rare thing fine as a bee's wing. And I miss her more than ever words could say. If I could just taste all of her wildness now. If I could hold her in my arms today. Well I wouldn't want her any other way</td>\n",
       "      <td>2</td>\n",
       "      <td>2</td>\n",
       "      <td>2</td>\n",
       "    </tr>\n",
       "    <tr>\n",
       "      <th>1</th>\n",
       "      <td>Your coat and hat are gone. I've really can't look at your little empty shelf. A ragged teddy bear. It feels like we never had a chance. Don't look me in the eye. We lay in each others arms. But the room is just an empty space. I guess we've lived it out. Something in the air. We smiled to fast then can't think of a thing to say. Lived with the best times. Left with the worst. I've danced with you too long. Nothing left to save. Let's take what we can. I know you hold your head up high. We've raced for the last time. A place of no return. And there's is something in the air. Something in my eye. I've dance with you too long (yeah). Something in the air. Something in my eye. Abracadoo I loose you. We can't avoid the clash. The big mistake. Now we're gonna pay and pay. The sentence of our lives. Can't believe I'm asking you to go. We used what we could. To get the things we want. But we lost each other on the way. I guess you know I never wanted anyone more than you. Lived all our best times. Left with the worst. I've danced with you to long. Say what you will. There's something in the air. Raced for the last time. Well I know you'll hold your head up high. But it's nothing we have to say. There's nothing in our eyes. But there's something in the air. Something in my eye. I've danced with you too long. There's something I have to say. There's something in the air. Something in my eye. Do do do do. Do do do do. I've danced with you too long. Do do do do. Do do do do. Danced with you too long. Do do. Danced with you too long. Something in the air. Something in the air. Do do do do.</td>\n",
       "      <td>2</td>\n",
       "      <td>2</td>\n",
       "      <td>2</td>\n",
       "    </tr>\n",
       "    <tr>\n",
       "      <th>2</th>\n",
       "      <td>Use my Body to keep you with mine. Yeah I'm on Durango number 95.. Take me to the home take boots and ultralive.. See heaven that's a horror show.. Knock it nice and smooth step back and watch it blow. Yeaaah.... Never gonna stop me. Never gonna stop.. Never gonna stop me. Never gonna stop.. Never gonna stop me. Never gonna stop.. Never gonna stop me. Never gonna stop.. Yeah the devil ride it down the shore.. We'll paint the monster red in soda but don't stain the floor.. In and out real savage show.. The story of the shocking sickness and watch it blow. Yeaaahh.... Never gonna stop me. Never gonna stop.. Never gonna stop me. Never gonna stop.. Never gonna stop me. Never gonna stop.. Never gonna stop me. Never gonna stop.. Scream if you want it. Cause I want it more.. Scream if you want it. Cause I want it more.. Yeah I'm on Durango number 95.. Take me to the home take boots and ultralive.. See heaven that's a horror show.. Knock it nice and smooth step back and watch it blow. Yeaaahh.... Never gonna stop me. Never gonna stop.. Never gonna stop me. Never gonna stop.. Never gonna stop me. Never gonna stop.. Never gonna stop me. Never gonna stop.. Scream if you want it. Cause I want it more.. Scream if you want it. Cause I want it more.</td>\n",
       "      <td>0</td>\n",
       "      <td>2</td>\n",
       "      <td>1</td>\n",
       "    </tr>\n",
       "    <tr>\n",
       "      <th>3</th>\n",
       "      <td>I met her at the 'Burger King'. We fell in love by the soda machine. So we took the car down town. The kids were hanging out all around. Then we went down to the Coney Island. On the coaster and around again. And no one's gonna ever tear us apart. 'Cause she's my sweetheart. All right oh yea. Oh oh I love her so. Oh oh I love her so. Oh oh I love her so. Oh (2x). Hanging out on a night like this. I'm gonna give her a great big kiss. I'm gonna make her mine. And everything's gonna be real fine. I met her at the 'Burger King'. Fell in love by the soda machine. So we took the car down town. The kids were hanging out all around. Then we went down to the Coney Island. On the coaster and around again. And no one's gonna ever tear us apart. 'Cause she's my sweetheart. All right oh yea. Oh oh I love her so. Oh oh I love her so. Oh oh I love her so. Oh oh (3x)</td>\n",
       "      <td>2</td>\n",
       "      <td>2</td>\n",
       "      <td>2</td>\n",
       "    </tr>\n",
       "    <tr>\n",
       "      <th>5</th>\n",
       "      <td>(Hey Hey). Bye Bye Bye. Bye Bye. Bye Bye. Oh Oh. I'm doin' this tonight. You're probably gonna start a fight. I know this can't be right. Hey baby come on. I loved you endlessly. When you weren't there for me. So now it's time to leave and make it alone. I know that I can't take no more. It ain't no lie. I wanna see you out that door. Baby bye bye bye. Bye Bye. Don't wanna be a fool for you. Just another player in your game for two. You may hate me but it ain't no lie. Baby bye bye bye. Bye Bye. Don't really wanna make it tough. I just wanna tell you that I had enough. It might sound crazy. But it ain't no lie. Baby bye bye bye. (Oh Oh). Just hit me with the truth. Now girl you're more than welcome to. So give me one good reason. Baby come on. I live for you and me. And now I really come to see. That life would be much better once you're gone. I know that I can't take no more. It ain't no lie. I wanna see you out that door. Baby bye bye bye. Bye Bye. Don't wanna be a fool for you. Just another player in your game for two. You may hate me but it ain't no lie. Baby Bye bye bye. Bye Bye. Don't really wanna make it tough. I just wanna tell you that I had enough (ooh ooh). It might sound crazy. But it ain't no lie. Baby bye bye bye. I'm giving up I know for sure. I don't wanna be the reason for your love no more. Bye Bye. I'm checkin' out. I'm signin' off. I don't wanna be the loser and I've had enough. I don't wanna be your fool. In this game for two. So I'm leavin' you behind. Bye bye bye. I don't wanna make it tough (make it tough). But I had enough. And it ain't no lie (Bye bye baby...). Bye Bye. I don't wanna be a fool for you. Just another player in your game for two. (I don't wanna be your fool). But it ain't no lie. Baby bye bye bye. Don't really wanna make it tough. (I don't wanna make it tough). I just wanna tell you that I had enough. (But I had enough). It might sound crazy. But it ain't no lie. Bye bye bye</td>\n",
       "      <td>1</td>\n",
       "      <td>1</td>\n",
       "      <td>2</td>\n",
       "    </tr>\n",
       "    <tr>\n",
       "      <th>...</th>\n",
       "      <td>...</td>\n",
       "      <td>...</td>\n",
       "      <td>...</td>\n",
       "      <td>...</td>\n",
       "    </tr>\n",
       "    <tr>\n",
       "      <th>5383</th>\n",
       "      <td>Could you believe. The same old story. It never bores me. Though I've heard it all before.. Her name was Georgia. And she was gorgeous.. When she adored ya. The whole room would get to know.. Like a movie that is filled with lust. Coming at you with a double D bust.. At the bed of a wounded soldier. In a rush cause she's gettin older.. Hanging out in the fancy bars. With the boys who can play guitar.. Listen up 'cause I've got to warn ya. She's gonna make it out in California.. Hey you what's a good girl like you. Doin' in this crazy world?. Where's the good gone girl?. Dance dance to the life you wanted. When you were only 17. With your good girl dream.. Ooh-ooh-ooh-ooh-ooh-ooh-ooh-ooh-ooh good gone girl. Could you believe. The same old phonies. Those painted ponies. That you've ridden all before.. Her name was April. But she was hateful.. Enough to make you. Want to run right out the door.. I can tell you what you want the most. Hanging off with a champagne toast.. When the end of the night gets tricky. Don't you know that beggars can't be picky?. Lookin' out for a man who's golden. Doesn't matter if he's old he's rollin'.. Coming at you like a desperate hunter. Sugar daddy but he's just a munter.. (yes it's munter). Hey you what's a good girl like you. Doin' in this crazy world?. Where's the good gone girl?. Dance dance to the life you wanted. When you were only 17. With your good girl dream.. (x2). Ooh-ooh-ooh-ooh-ooh-ooh-ooh-ooh-ooh good gone girl. She's walkin around all over the town.. Needs somebody to notice but the goodness gets her. down. She's happy to choose somebody to use.. Good gone girl she's got nothin left to lose.</td>\n",
       "      <td>1</td>\n",
       "      <td>1</td>\n",
       "      <td>1</td>\n",
       "    </tr>\n",
       "    <tr>\n",
       "      <th>5384</th>\n",
       "      <td>I can see. by the look on your face. that you've got ringworm.. I'm very sorry but. I have to tell you that. you've got ringworm.. It's a very common disease.. Actually you're very luck to have. ringworm. 'cause you may have. had somethin' else.. Oooh aaahhh.... Uuunnnhhhaaahhnnn.... You've got ringworm.. Oooh-oooh oooh oooh-oooh oooh oooh-oooh.....</td>\n",
       "      <td>2</td>\n",
       "      <td>2</td>\n",
       "      <td>1</td>\n",
       "    </tr>\n",
       "    <tr>\n",
       "      <th>5385</th>\n",
       "      <td>I'd move to Rockferry. Tomorrow. And I'd build my house baby. With sorrow. I'd leave my shadow. To fall behind. And I wouldn't write to you. 'cos I'm not that kind. The midnight trains are boarding. All wrap up 8s. I pick my load and I fill my truck. before its too late. I leave the stars to judge. my every move. I'm not going to think of you oh. I'd get the blues. There's no sleep on the journey. away from time. A bag of songs and a heavy heart. won't make me down. I'll give it all my strength and my mind. I'll make this decision win all the fights. I'd move to Rockferry. Tomorrow. And I'd build my house baby. With sorrow. I'd leave my shadow. To fall behind. And I wouldn't write to you. 'cos I'm not that kind. not that kind. Rockferry not that kind (repeat). (fading)</td>\n",
       "      <td>1</td>\n",
       "      <td>2</td>\n",
       "      <td>2</td>\n",
       "    </tr>\n",
       "    <tr>\n",
       "      <th>5387</th>\n",
       "      <td>Moving on moving on. Isn't that what I'm supposed to do?. Just hold it back and keep moving on. Pushing on pushing on. Isn't that what I'm supposed to do?. But it's so hard to keep pushing on. I'm moving on moving on. Isn't that what everybody tells me I gotta do?. But it's so hard moving on without you. Every morning waking in a fever wet and shaking. My heart inside me pounding muddy water all around me. Cold shocked and speechless can't anybody reach us. And why oh God why?. Go down go down moses. Go down to the city of new orleans. Go part the muddy water. Let your people cross over. Go down!. I'm moving on moving on. That's what I'm trying to do. Just holding back and moving on. Keeping on keeping on. That's what I'm trying so hard to do. But it's so hard keeping on without you. Gone and lost my patience with this hopeless situation. Yeah I'm alive I'm a lonely sole survivor. Spared me for some reason so I'm picking up the pieces. But why? Oh God why?. Go down go down moses. Go down to the city of new orleans. Go part the muddy water. Let your people cross over. Go down!</td>\n",
       "      <td>2</td>\n",
       "      <td>2</td>\n",
       "      <td>2</td>\n",
       "    </tr>\n",
       "    <tr>\n",
       "      <th>5388</th>\n",
       "      <td>You ask me why. I change the color of my hair (yeah). You ask me why. I need thirty two pairs of shoes (to wear). You seem to ask me why I got a lot of things. It's just a chick thing... you ought to let it go. You try to understand. but you don't have a clue......... CHORUS. That's what girls do. Keep you guessing the whole day through. Play your emotions push all your buttons it's true. That's what girls do. You ask me why. I gotta play so hard to get (yeah). You ask me. do I play it cool just to make you sweat (yeah). You want some kind of explanation I can give. It's just a chick thing... that your messin' with. to me it's black and white. but it's not gettin' through to you....... CHORUS. BRIDGE. Yeah yeah yeah yeah yeah. Why should I change. Yeah yeah yeah yeah yeah.... I'm havin' too much fun. Yeah yeah yeah yeah yeah.... to you it's confusing. to me it's nothing new.</td>\n",
       "      <td>1</td>\n",
       "      <td>1</td>\n",
       "      <td>0</td>\n",
       "    </tr>\n",
       "  </tbody>\n",
       "</table>\n",
       "<p>4318 rows × 4 columns</p>\n",
       "</div>"
      ],
      "text/plain": [
       "                                                                                                                                                                                                                                                                                                                                                                                                                                                                                                                                                                                                                                                                                                                                                                                                                                                                                                                                                                                                                                                                                                                                                                                                                                                                                                                                                                                                                                                                                                                                                                                                                                                                                                                                                                                                                                                                                                                                                                                                                                                                                                                                                                                                                                                                                                                                                                                                                                                                                                                              text  \\\n",
       "0     I was nineteen when I came to town they called it the Summer of Love. They were burning babies burning flags. The hawks against the doves. I took a job in the steamie down on Cauldrum Street. And I fell in love with a laundry girl who was working next to me. Oh she was a rare thing fine as a bee's wing. So fine a breath of wind might blow her away. She was a lost child oh she was running wild. She said \"As long as there's no price on love I'll stay.. And you wouldn't want me any other way\". Brown hair zig-zag around her face and a look of half-surprise. Like a fox caught in the headlights there was animal in her eyes. She said \"Young man oh can't you see I'm not the factory kind. If you don't take me out of here I'll surely lose my mind\". Oh she was a rare thing fine as a bee's wing. So fine that I might crush her where she lay. She was a lost child she was running wild. She said \"As long as there's no price on love I'll stay.. And you wouldn't want me any other way\". We busked around the market towns and picked fruit down in Kent. And we could tinker lamps and pots and knives wherever we went. And I said that we might settle down get a few acres dug. Fire burning in the hearth and babies on the rug. She said \"Oh man you foolish man it surely sounds like hell.. You might be lord of half the world you'll not own me as well\". Oh she was a rare thing fine as a bee's wing. So fine a breath of wind might blow her away. She was a lost child oh she was running wild. She said \"As long as there's no price on love I'll stay.. And you wouldn't want me any other way\". We was camping down the Gower one time the work was pretty good. She thought we shouldn't wait for the frost and I thought maybe we should. We was drinking more in those days and tempers reached a pitch. And like a fool I let her run with the rambling itch. Oh the last I heard she's sleeping rough back on the Derby beat. White Horse in her hip pocket and a wolfhound at her feet. And they say she even married once a man named Romany Brown. But even a gypsy caravan was too much settling down. And they say her flower is faded now hard weather and hard booze. But maybe that's just the price you pay for the chains you refuse. Oh she was a rare thing fine as a bee's wing. And I miss her more than ever words could say. If I could just taste all of her wildness now. If I could hold her in my arms today. Well I wouldn't want her any other way   \n",
       "1                                                                                                                                                                                                                                                                                                                                                                                                                                                                                                                                                                                                                                                                                                                                                                                                                                                             Your coat and hat are gone. I've really can't look at your little empty shelf. A ragged teddy bear. It feels like we never had a chance. Don't look me in the eye. We lay in each others arms. But the room is just an empty space. I guess we've lived it out. Something in the air. We smiled to fast then can't think of a thing to say. Lived with the best times. Left with the worst. I've danced with you too long. Nothing left to save. Let's take what we can. I know you hold your head up high. We've raced for the last time. A place of no return. And there's is something in the air. Something in my eye. I've dance with you too long (yeah). Something in the air. Something in my eye. Abracadoo I loose you. We can't avoid the clash. The big mistake. Now we're gonna pay and pay. The sentence of our lives. Can't believe I'm asking you to go. We used what we could. To get the things we want. But we lost each other on the way. I guess you know I never wanted anyone more than you. Lived all our best times. Left with the worst. I've danced with you to long. Say what you will. There's something in the air. Raced for the last time. Well I know you'll hold your head up high. But it's nothing we have to say. There's nothing in our eyes. But there's something in the air. Something in my eye. I've danced with you too long. There's something I have to say. There's something in the air. Something in my eye. Do do do do. Do do do do. I've danced with you too long. Do do do do. Do do do do. Danced with you too long. Do do. Danced with you too long. Something in the air. Something in the air. Do do do do.   \n",
       "2                                                                                                                                                                                                                                                                                                                                                                                                                                                                                                                                                                                                                                                                                                                                                                                                                                                                                                                                                                                                                                                                                                                                                                                                                           Use my Body to keep you with mine. Yeah I'm on Durango number 95.. Take me to the home take boots and ultralive.. See heaven that's a horror show.. Knock it nice and smooth step back and watch it blow. Yeaaah.... Never gonna stop me. Never gonna stop.. Never gonna stop me. Never gonna stop.. Never gonna stop me. Never gonna stop.. Never gonna stop me. Never gonna stop.. Yeah the devil ride it down the shore.. We'll paint the monster red in soda but don't stain the floor.. In and out real savage show.. The story of the shocking sickness and watch it blow. Yeaaahh.... Never gonna stop me. Never gonna stop.. Never gonna stop me. Never gonna stop.. Never gonna stop me. Never gonna stop.. Never gonna stop me. Never gonna stop.. Scream if you want it. Cause I want it more.. Scream if you want it. Cause I want it more.. Yeah I'm on Durango number 95.. Take me to the home take boots and ultralive.. See heaven that's a horror show.. Knock it nice and smooth step back and watch it blow. Yeaaahh.... Never gonna stop me. Never gonna stop.. Never gonna stop me. Never gonna stop.. Never gonna stop me. Never gonna stop.. Never gonna stop me. Never gonna stop.. Scream if you want it. Cause I want it more.. Scream if you want it. Cause I want it more.   \n",
       "3                                                                                                                                                                                                                                                                                                                                                                                                                                                                                                                                                                                                                                                                                                                                                                                                                                                                                                                                                                                                                                                                                                                                                                                                                                                                                                                                                                                                                                                                                                                                                                                                                                  I met her at the 'Burger King'. We fell in love by the soda machine. So we took the car down town. The kids were hanging out all around. Then we went down to the Coney Island. On the coaster and around again. And no one's gonna ever tear us apart. 'Cause she's my sweetheart. All right oh yea. Oh oh I love her so. Oh oh I love her so. Oh oh I love her so. Oh (2x). Hanging out on a night like this. I'm gonna give her a great big kiss. I'm gonna make her mine. And everything's gonna be real fine. I met her at the 'Burger King'. Fell in love by the soda machine. So we took the car down town. The kids were hanging out all around. Then we went down to the Coney Island. On the coaster and around again. And no one's gonna ever tear us apart. 'Cause she's my sweetheart. All right oh yea. Oh oh I love her so. Oh oh I love her so. Oh oh I love her so. Oh oh (3x)   \n",
       "5                                                                                                                                                                                                                                                                                                                                                                                                                                                                                                      (Hey Hey). Bye Bye Bye. Bye Bye. Bye Bye. Oh Oh. I'm doin' this tonight. You're probably gonna start a fight. I know this can't be right. Hey baby come on. I loved you endlessly. When you weren't there for me. So now it's time to leave and make it alone. I know that I can't take no more. It ain't no lie. I wanna see you out that door. Baby bye bye bye. Bye Bye. Don't wanna be a fool for you. Just another player in your game for two. You may hate me but it ain't no lie. Baby bye bye bye. Bye Bye. Don't really wanna make it tough. I just wanna tell you that I had enough. It might sound crazy. But it ain't no lie. Baby bye bye bye. (Oh Oh). Just hit me with the truth. Now girl you're more than welcome to. So give me one good reason. Baby come on. I live for you and me. And now I really come to see. That life would be much better once you're gone. I know that I can't take no more. It ain't no lie. I wanna see you out that door. Baby bye bye bye. Bye Bye. Don't wanna be a fool for you. Just another player in your game for two. You may hate me but it ain't no lie. Baby Bye bye bye. Bye Bye. Don't really wanna make it tough. I just wanna tell you that I had enough (ooh ooh). It might sound crazy. But it ain't no lie. Baby bye bye bye. I'm giving up I know for sure. I don't wanna be the reason for your love no more. Bye Bye. I'm checkin' out. I'm signin' off. I don't wanna be the loser and I've had enough. I don't wanna be your fool. In this game for two. So I'm leavin' you behind. Bye bye bye. I don't wanna make it tough (make it tough). But I had enough. And it ain't no lie (Bye bye baby...). Bye Bye. I don't wanna be a fool for you. Just another player in your game for two. (I don't wanna be your fool). But it ain't no lie. Baby bye bye bye. Don't really wanna make it tough. (I don't wanna make it tough). I just wanna tell you that I had enough. (But I had enough). It might sound crazy. But it ain't no lie. Bye bye bye   \n",
       "...                                                                                                                                                                                                                                                                                                                                                                                                                                                                                                                                                                                                                                                                                                                                                                                                                                                                                                                                                                                                                                                                                                                                                                                                                                                                                                                                                                                                                                                                                                                                                                                                                                                                                                                                                                                                                                                                                                                                                                                                                                                                                                                                                                                                                                                                                                                                                                                                                                                                                                                            ...   \n",
       "5383                                                                                                                                                                                                                                                                                                                                                                                                                                                                                                                                                                                                                                                                                                                                                                                                 Could you believe. The same old story. It never bores me. Though I've heard it all before.. Her name was Georgia. And she was gorgeous.. When she adored ya. The whole room would get to know.. Like a movie that is filled with lust. Coming at you with a double D bust.. At the bed of a wounded soldier. In a rush cause she's gettin older.. Hanging out in the fancy bars. With the boys who can play guitar.. Listen up 'cause I've got to warn ya. She's gonna make it out in California.. Hey you what's a good girl like you. Doin' in this crazy world?. Where's the good gone girl?. Dance dance to the life you wanted. When you were only 17. With your good girl dream.. Ooh-ooh-ooh-ooh-ooh-ooh-ooh-ooh-ooh good gone girl. Could you believe. The same old phonies. Those painted ponies. That you've ridden all before.. Her name was April. But she was hateful.. Enough to make you. Want to run right out the door.. I can tell you what you want the most. Hanging off with a champagne toast.. When the end of the night gets tricky. Don't you know that beggars can't be picky?. Lookin' out for a man who's golden. Doesn't matter if he's old he's rollin'.. Coming at you like a desperate hunter. Sugar daddy but he's just a munter.. (yes it's munter). Hey you what's a good girl like you. Doin' in this crazy world?. Where's the good gone girl?. Dance dance to the life you wanted. When you were only 17. With your good girl dream.. (x2). Ooh-ooh-ooh-ooh-ooh-ooh-ooh-ooh-ooh good gone girl. She's walkin around all over the town.. Needs somebody to notice but the goodness gets her. down. She's happy to choose somebody to use.. Good gone girl she's got nothin left to lose.   \n",
       "5384                                                                                                                                                                                                                                                                                                                                                                                                                                                                                                                                                                                                                                                                                                                                                                                                                                                                                                                                                                                                                                                                                                                                                                                                                                                                                                                                                                                                                                                                                                                                                                                                                                                                                                                                                                                                                                                                                                                                                                                                                                                                                                                                                               I can see. by the look on your face. that you've got ringworm.. I'm very sorry but. I have to tell you that. you've got ringworm.. It's a very common disease.. Actually you're very luck to have. ringworm. 'cause you may have. had somethin' else.. Oooh aaahhh.... Uuunnnhhhaaahhnnn.... You've got ringworm.. Oooh-oooh oooh oooh-oooh oooh oooh-oooh.....   \n",
       "5385                                                                                                                                                                                                                                                                                                                                                                                                                                                                                                                                                                                                                                                                                                                                                                                                                                                                                                                                                                                                                                                                                                                                                                                                                                                                                                                                                                                                                                                                                                                                                                                                                                                                                                                   I'd move to Rockferry. Tomorrow. And I'd build my house baby. With sorrow. I'd leave my shadow. To fall behind. And I wouldn't write to you. 'cos I'm not that kind. The midnight trains are boarding. All wrap up 8s. I pick my load and I fill my truck. before its too late. I leave the stars to judge. my every move. I'm not going to think of you oh. I'd get the blues. There's no sleep on the journey. away from time. A bag of songs and a heavy heart. won't make me down. I'll give it all my strength and my mind. I'll make this decision win all the fights. I'd move to Rockferry. Tomorrow. And I'd build my house baby. With sorrow. I'd leave my shadow. To fall behind. And I wouldn't write to you. 'cos I'm not that kind. not that kind. Rockferry not that kind (repeat). (fading)   \n",
       "5387                                                                                                                                                                                                                                                                                                                                                                                                                                                                                                                                                                                                                                                                                                                                                                                                                                                                                                                                                                                                                                                                                                                                                                                                                                                                                                                                                                                          Moving on moving on. Isn't that what I'm supposed to do?. Just hold it back and keep moving on. Pushing on pushing on. Isn't that what I'm supposed to do?. But it's so hard to keep pushing on. I'm moving on moving on. Isn't that what everybody tells me I gotta do?. But it's so hard moving on without you. Every morning waking in a fever wet and shaking. My heart inside me pounding muddy water all around me. Cold shocked and speechless can't anybody reach us. And why oh God why?. Go down go down moses. Go down to the city of new orleans. Go part the muddy water. Let your people cross over. Go down!. I'm moving on moving on. That's what I'm trying to do. Just holding back and moving on. Keeping on keeping on. That's what I'm trying so hard to do. But it's so hard keeping on without you. Gone and lost my patience with this hopeless situation. Yeah I'm alive I'm a lonely sole survivor. Spared me for some reason so I'm picking up the pieces. But why? Oh God why?. Go down go down moses. Go down to the city of new orleans. Go part the muddy water. Let your people cross over. Go down!   \n",
       "5388                                                                                                                                                                                                                                                                                                                                                                                                                                                                                                                                                                                                                                                                                                                                                                                                                                                                                                                                                                                                                                                                                                                                                                                                                                                                                                                                                                                                                                                                                                                                                                                                       You ask me why. I change the color of my hair (yeah). You ask me why. I need thirty two pairs of shoes (to wear). You seem to ask me why I got a lot of things. It's just a chick thing... you ought to let it go. You try to understand. but you don't have a clue......... CHORUS. That's what girls do. Keep you guessing the whole day through. Play your emotions push all your buttons it's true. That's what girls do. You ask me why. I gotta play so hard to get (yeah). You ask me. do I play it cool just to make you sweat (yeah). You want some kind of explanation I can give. It's just a chick thing... that your messin' with. to me it's black and white. but it's not gettin' through to you....... CHORUS. BRIDGE. Yeah yeah yeah yeah yeah. Why should I change. Yeah yeah yeah yeah yeah.... I'm havin' too much fun. Yeah yeah yeah yeah yeah.... to you it's confusing. to me it's nothing new.   \n",
       "\n",
       "      label  distilbert-base-uncased  LogisticRegression  \n",
       "0         2                        2                   2  \n",
       "1         2                        2                   2  \n",
       "2         0                        2                   1  \n",
       "3         2                        2                   2  \n",
       "5         1                        1                   2  \n",
       "...     ...                      ...                 ...  \n",
       "5383      1                        1                   1  \n",
       "5384      2                        2                   1  \n",
       "5385      1                        2                   2  \n",
       "5387      2                        2                   2  \n",
       "5388      1                        1                   0  \n",
       "\n",
       "[4318 rows x 4 columns]"
      ]
     },
     "execution_count": 51,
     "metadata": {},
     "output_type": "execute_result"
    }
   ],
   "source": [
    "df_test"
   ]
  },
  {
   "cell_type": "markdown",
   "id": "0dec7aa3",
   "metadata": {},
   "source": [
    "## 4. Evaluation"
   ]
  },
  {
   "cell_type": "markdown",
   "id": "498bce6a",
   "metadata": {},
   "source": [
    "In this section, we are going to use different evaluation metrics to report the performance in the test set. The following metrics will be used: \n",
    "\n",
    "* **Classification metrics** (precision, recall, f-score)."
   ]
  },
  {
   "cell_type": "code",
   "execution_count": 52,
   "id": "dd109698",
   "metadata": {},
   "outputs": [],
   "source": [
    "import numpy as np\n",
    "from sklearn.metrics import roc_curve, auc"
   ]
  },
  {
   "cell_type": "markdown",
   "id": "c6ea9254",
   "metadata": {},
   "source": [
    "### 4.1. Multiclass Classification\n",
    "\n",
    "In this section, we want to measure the performance of a classification setup. In this way, we want to predict the label in the test set by using the probability score provided by the model."
   ]
  },
  {
   "cell_type": "markdown",
   "id": "e6497bd4",
   "metadata": {},
   "source": [
    "#### 4.1.1. Classification Report"
   ]
  },
  {
   "cell_type": "markdown",
   "id": "f1f07603",
   "metadata": {},
   "source": [
    "For each one of the classification classes, we can mesure the following classification metrics:\n",
    "\n",
    "* **precision** - TP / (TP + FP) - the number of correcly classified in this class divided by the total number of elements labelled as belonging to the given class [[ref](https://en.wikipedia.org/wiki/Precision_and_recall#Definition_(classification_context))];\n",
    "* **recall** - TP / (TP + FN) - the number of correcly classified in this class divided by the total number of elements that actually belong to this class [[ref](https://en.wikipedia.org/wiki/Precision_and_recall#Definition_(classification_context))];\n",
    "* **f1** - 2*(precion+recall)/(precision+recall) - weighted average of the precision and recall.\n",
    "\n",
    "In addition, for each classifier, disregarding the class, we can measure the overall accuracy:\n",
    "\n",
    "* **accuracy** - the number of correctly classified over the number of all sentences, i.e, (TP+TN) / (TP+TN+FP+FN)"
   ]
  },
  {
   "cell_type": "code",
   "execution_count": 53,
   "id": "10a465b6",
   "metadata": {},
   "outputs": [],
   "source": [
    "from sklearn.metrics import classification_report"
   ]
  },
  {
   "cell_type": "code",
   "execution_count": 54,
   "id": "64eaf8f6-6f52-4f67-96fa-c86d548a280f",
   "metadata": {},
   "outputs": [],
   "source": [
    "y_true = df_test[\"label\"]"
   ]
  },
  {
   "cell_type": "code",
   "execution_count": 55,
   "id": "4f6c38bf",
   "metadata": {},
   "outputs": [
    {
     "name": "stdout",
     "output_type": "stream",
     "text": [
      "              precision    recall  f1-score   support\n",
      "\n",
      "     Hip Hop       0.89      0.80      0.85       964\n",
      "         Pop       0.60      0.43      0.50      1244\n",
      "        Rock       0.72      0.86      0.78      2110\n",
      "\n",
      "    accuracy                           0.73      4318\n",
      "   macro avg       0.74      0.70      0.71      4318\n",
      "weighted avg       0.72      0.73      0.72      4318\n",
      "\n"
     ]
    }
   ],
   "source": [
    "# performance baseline\n",
    "y_pred = df_test[BASELINE_MODEL]\n",
    "print(classification_report(y_true, y_pred, target_names=[\"Hip Hop\", \"Pop\", \"Rock\"]))"
   ]
  },
  {
   "cell_type": "code",
   "execution_count": 48,
   "id": "edfee8dd-1ffb-4fd7-a412-5ee12d1e8c4d",
   "metadata": {},
   "outputs": [
    {
     "name": "stdout",
     "output_type": "stream",
     "text": [
      "              precision    recall  f1-score   support\n",
      "\n",
      "     Hip Hop       0.91      0.86      0.88       964\n",
      "         Pop       0.66      0.63      0.64      1244\n",
      "        Rock       0.80      0.85      0.82      2110\n",
      "\n",
      "    accuracy                           0.79      4318\n",
      "   macro avg       0.79      0.78      0.78      4318\n",
      "weighted avg       0.79      0.79      0.79      4318\n",
      "\n"
     ]
    }
   ],
   "source": [
    "# performance model distilbert\n",
    "y_pred = df_test[MY_MODEL]\n",
    "print(classification_report(y_true, y_pred, target_names=[\"Hip Hop\", \"Pop\", \"Rock\"]))"
   ]
  },
  {
   "cell_type": "code",
   "execution_count": null,
   "id": "259c9985-1444-4372-a4dc-b6878451ad84",
   "metadata": {},
   "outputs": [],
   "source": []
  }
 ],
 "metadata": {
  "kernelspec": {
   "display_name": "Python 3 (ipykernel)",
   "language": "python",
   "name": "python3"
  },
  "language_info": {
   "codemirror_mode": {
    "name": "ipython",
    "version": 3
   },
   "file_extension": ".py",
   "mimetype": "text/x-python",
   "name": "python",
   "nbconvert_exporter": "python",
   "pygments_lexer": "ipython3",
   "version": "3.12.2"
  }
 },
 "nbformat": 4,
 "nbformat_minor": 5
}
