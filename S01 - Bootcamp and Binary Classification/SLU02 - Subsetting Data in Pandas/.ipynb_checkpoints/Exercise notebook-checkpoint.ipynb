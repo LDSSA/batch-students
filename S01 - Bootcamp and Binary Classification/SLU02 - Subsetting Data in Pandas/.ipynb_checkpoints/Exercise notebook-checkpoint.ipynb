{
 "cells": [
  {
   "cell_type": "markdown",
   "metadata": {
    "nbgrader": {
     "grade": false,
     "grade_id": "cell-63aee61ad7c5ad78",
     "locked": true,
     "schema_version": 3,
     "solution": false
    }
   },
   "source": [
    "# SLU02 - Subsetting data in pandas: Exercise notebook\n",
    "\n",
    "In this notebook you'll practice the concepts you've learned in the learning and examples notebooks:\n",
    "\n",
    "    - Setting pandas Dataframe index\n",
    "    - Selecting columns with brackets notation\n",
    "    - Selecting columns with dot notation\n",
    "    - Selecting rows with loc \n",
    "    - Selecting rows with iloc\n",
    "    - Multi-axis indexing\n",
    "    - Masks\n",
    "    - Subsetting on conditions\n",
    "    - Removing and adding columns\n",
    "\n",
    "In each exercise, you'll be asked to implement a function.\n",
    "\n",
    "Let's dive right in."
   ]
  },
  {
   "cell_type": "code",
   "execution_count": 1,
   "metadata": {
    "nbgrader": {
     "grade": false,
     "grade_id": "cell-2ffbef28a1ff41fd",
     "locked": true,
     "schema_version": 3,
     "solution": false,
     "task": false
    }
   },
   "outputs": [],
   "source": [
    "# Imports needed\n",
    "import pandas as pd\n",
    "import numpy as np\n",
    "import math\n",
    "import hashlib\n",
    "import json\n",
    "from utils import draw_base_puzzle, draw_final_puzzle\n",
    "\n",
    "#from IPython.core.display import HTML"
   ]
  },
  {
   "cell_type": "markdown",
   "metadata": {
    "nbgrader": {
     "grade": false,
     "grade_id": "cell-2abe3e9af0e58174",
     "locked": true,
     "schema_version": 3,
     "solution": false,
     "task": false
    }
   },
   "source": [
    "As you can seee, it's a pretty simple one. You will be given 10 clues to fill each of the columns and extract the horizontal words in blue. \n",
    "\n",
    "## Kaggle Competition\n",
    "\n",
    "As an aspiring data scientist you are eager to apply your new skills and you decide to participate in a Kaggle competition. However, this competition has a twist: you must prove to have the minimum skills to enter it by completing a first data science based challenge. Easy, right?\n",
    "\n",
    "<img src=\"media/kaggle_in_kaggle.png\" alt=\"kaggle_in_kaggle\" width=\"40%\"/>\n",
    "\n",
    "So you dive right into it. The assignment is the following: you must successfully complete a crossword puzzle where a set of hints requires you to extract information from the provided dataset. After completing all the words, you'll see the secret keyphrase (marked in blue) that will unlock the competition for you.\n",
    "\n",
    "Load the puzzle below."
   ]
  },
  {
   "cell_type": "code",
   "execution_count": 2,
   "metadata": {
    "nbgrader": {
     "grade": false,
     "grade_id": "cell-4bf30b944e77dc42",
     "locked": true,
     "schema_version": 3,
     "solution": false,
     "task": false
    }
   },
   "outputs": [
    {
     "data": {
      "image/png": "[encoded data removed]",
      "text/plain": [
       "<Figure size 400x400 with 1 Axes>"
      ]
     },
     "metadata": {},
     "output_type": "display_data"
    }
   ],
   "source": [
    "draw_base_puzzle()"
   ]
  },
  {
   "cell_type": "markdown",
   "metadata": {
    "nbgrader": {
     "grade": false,
     "grade_id": "cell-1a286e2bf2384001",
     "locked": true,
     "schema_version": 3,
     "solution": false,
     "task": false
    }
   },
   "source": [
    "But before that, start by loading the dataset from which you will extract the clues for the puzzle. It's the San Francisco Plant Finder dataset containing plant species suitable for planting in the SF area."
   ]
  },
  {
   "cell_type": "code",
   "execution_count": 3,
   "metadata": {},
   "outputs": [
    {
     "data": {
      "text/html": [
       "<div>\n",
       "<style scoped>\n",
       "    .dataframe tbody tr th:only-of-type {\n",
       "        vertical-align: middle;\n",
       "    }\n",
       "\n",
       "    .dataframe tbody tr th {\n",
       "        vertical-align: top;\n",
       "    }\n",
       "\n",
       "    .dataframe thead th {\n",
       "        text-align: right;\n",
       "    }\n",
       "</style>\n",
       "<table border=\"1\" class=\"dataframe\">\n",
       "  <thead>\n",
       "    <tr style=\"text-align: right;\">\n",
       "      <th></th>\n",
       "      <th>Latin_Name</th>\n",
       "      <th>Common_Name</th>\n",
       "      <th>Family_Name</th>\n",
       "      <th>Plant_Type</th>\n",
       "      <th>Bloom_Time</th>\n",
       "      <th>Flower_Color</th>\n",
       "      <th>Size_at_Maturity</th>\n",
       "      <th>Climate_Appropriate_Plants</th>\n",
       "      <th>Plant_Communities</th>\n",
       "      <th>Suitable_Site_Conditions</th>\n",
       "      <th>Soil_Type</th>\n",
       "      <th>Pruning_Needs</th>\n",
       "      <th>Water_Needs</th>\n",
       "      <th>Habitat_Value</th>\n",
       "      <th>Associated_Wildlife</th>\n",
       "      <th>Stormwater_Benefit</th>\n",
       "      <th>Stormwater_int</th>\n",
       "      <th>Appropriate_Location</th>\n",
       "      <th>Additional_Characteristices_Notes</th>\n",
       "    </tr>\n",
       "  </thead>\n",
       "  <tbody>\n",
       "    <tr>\n",
       "      <th>0</th>\n",
       "      <td>Acacia baileyana 'Purpurea'</td>\n",
       "      <td>Purple-leaf Acacia</td>\n",
       "      <td>Fabaceae</td>\n",
       "      <td>Tree (evergreen)</td>\n",
       "      <td>Spring</td>\n",
       "      <td>Yellow</td>\n",
       "      <td>8.0</td>\n",
       "      <td>Exotic</td>\n",
       "      <td>&lt;NA&gt;</td>\n",
       "      <td>Sun</td>\n",
       "      <td>&lt;NA&gt;</td>\n",
       "      <td>&lt;NA&gt;</td>\n",
       "      <td>Low</td>\n",
       "      <td>&lt;NA&gt;</td>\n",
       "      <td>Birds;Butterflies</td>\n",
       "      <td>No</td>\n",
       "      <td>0</td>\n",
       "      <td>Sidewalk</td>\n",
       "      <td>Fast grower, high maintenance.</td>\n",
       "    </tr>\n",
       "    <tr>\n",
       "      <th>1</th>\n",
       "      <td>Acer buergeranum</td>\n",
       "      <td>Trident Maple</td>\n",
       "      <td>Sapindaceae Aceraceae</td>\n",
       "      <td>Tree (deciduous)</td>\n",
       "      <td>Spring</td>\n",
       "      <td>&lt;NA&gt;</td>\n",
       "      <td>6.0</td>\n",
       "      <td>Exotic</td>\n",
       "      <td>&lt;NA&gt;</td>\n",
       "      <td>Sun,Part shade</td>\n",
       "      <td>&lt;NA&gt;</td>\n",
       "      <td>&lt;NA&gt;</td>\n",
       "      <td>Low</td>\n",
       "      <td>&lt;NA&gt;</td>\n",
       "      <td>&lt;NA&gt;</td>\n",
       "      <td>No</td>\n",
       "      <td>0</td>\n",
       "      <td>Sidewalk</td>\n",
       "      <td>Prefers heat, wind protection.</td>\n",
       "    </tr>\n",
       "    <tr>\n",
       "      <th>2</th>\n",
       "      <td>Acer macrophyllum</td>\n",
       "      <td>Bigleaf Maple</td>\n",
       "      <td>Sapindaceae</td>\n",
       "      <td>Tree (deciduous)</td>\n",
       "      <td>Spring</td>\n",
       "      <td>Orange,Red,Yellow</td>\n",
       "      <td>8.0</td>\n",
       "      <td>CA Native</td>\n",
       "      <td>Riparian</td>\n",
       "      <td>Sun,Shade</td>\n",
       "      <td>Clay,Loam,Sand,Rock</td>\n",
       "      <td>&lt;NA&gt;</td>\n",
       "      <td>Moderate</td>\n",
       "      <td>Nesting,Pollinator</td>\n",
       "      <td>Bees;Birds;Butterflies</td>\n",
       "      <td>Yes</td>\n",
       "      <td>1</td>\n",
       "      <td>Garden</td>\n",
       "      <td>Provides shelter for wildlife</td>\n",
       "    </tr>\n",
       "    <tr>\n",
       "      <th>3</th>\n",
       "      <td>Acer negundo</td>\n",
       "      <td>Box Elder</td>\n",
       "      <td>Sapindaceae</td>\n",
       "      <td>Tree (deciduous)</td>\n",
       "      <td>Spring</td>\n",
       "      <td>Pink</td>\n",
       "      <td>8.0</td>\n",
       "      <td>SF Native</td>\n",
       "      <td>Chaparral,Grassland/prairie,Riparian,Woodland</td>\n",
       "      <td>Sun,Shade</td>\n",
       "      <td>Clay,Loam,Sand,Rock</td>\n",
       "      <td>&lt;NA&gt;</td>\n",
       "      <td>Moderate</td>\n",
       "      <td>Buds/greens,Nesting</td>\n",
       "      <td>Bees;Birds;Butterflies;Insects</td>\n",
       "      <td>No</td>\n",
       "      <td>0</td>\n",
       "      <td>Garden</td>\n",
       "      <td>Withstands wind.</td>\n",
       "    </tr>\n",
       "    <tr>\n",
       "      <th>4</th>\n",
       "      <td>Acer rubrum</td>\n",
       "      <td>Red Maple</td>\n",
       "      <td>Sapindaceae</td>\n",
       "      <td>Tree (deciduous)</td>\n",
       "      <td>Spring</td>\n",
       "      <td>Red</td>\n",
       "      <td>8.0</td>\n",
       "      <td>Exotic</td>\n",
       "      <td>&lt;NA&gt;</td>\n",
       "      <td>Sun,Part shade</td>\n",
       "      <td>Clay,Loam,Sand</td>\n",
       "      <td>&lt;NA&gt;</td>\n",
       "      <td>Moderate</td>\n",
       "      <td>&lt;NA&gt;</td>\n",
       "      <td>&lt;NA&gt;</td>\n",
       "      <td>Yes</td>\n",
       "      <td>1</td>\n",
       "      <td>Sidewalk</td>\n",
       "      <td>Prefers heat, wind protection</td>\n",
       "    </tr>\n",
       "  </tbody>\n",
       "</table>\n",
       "</div>"
      ],
      "text/plain": [
       "                    Latin_Name         Common_Name            Family_Name  \\\n",
       "0  Acacia baileyana 'Purpurea'  Purple-leaf Acacia               Fabaceae   \n",
       "1             Acer buergeranum       Trident Maple  Sapindaceae Aceraceae   \n",
       "2            Acer macrophyllum       Bigleaf Maple            Sapindaceae   \n",
       "3                 Acer negundo           Box Elder            Sapindaceae   \n",
       "4                  Acer rubrum           Red Maple            Sapindaceae   \n",
       "\n",
       "         Plant_Type Bloom_Time       Flower_Color  Size_at_Maturity  \\\n",
       "0  Tree (evergreen)     Spring             Yellow               8.0   \n",
       "1  Tree (deciduous)     Spring               <NA>               6.0   \n",
       "2  Tree (deciduous)     Spring  Orange,Red,Yellow               8.0   \n",
       "3  Tree (deciduous)     Spring               Pink               8.0   \n",
       "4  Tree (deciduous)     Spring                Red               8.0   \n",
       "\n",
       "  Climate_Appropriate_Plants                              Plant_Communities  \\\n",
       "0                     Exotic                                           <NA>   \n",
       "1                     Exotic                                           <NA>   \n",
       "2                  CA Native                                       Riparian   \n",
       "3                  SF Native  Chaparral,Grassland/prairie,Riparian,Woodland   \n",
       "4                     Exotic                                           <NA>   \n",
       "\n",
       "  Suitable_Site_Conditions            Soil_Type Pruning_Needs Water_Needs  \\\n",
       "0                      Sun                 <NA>          <NA>         Low   \n",
       "1           Sun,Part shade                 <NA>          <NA>         Low   \n",
       "2                Sun,Shade  Clay,Loam,Sand,Rock          <NA>    Moderate   \n",
       "3                Sun,Shade  Clay,Loam,Sand,Rock          <NA>    Moderate   \n",
       "4           Sun,Part shade       Clay,Loam,Sand          <NA>    Moderate   \n",
       "\n",
       "         Habitat_Value             Associated_Wildlife Stormwater_Benefit  \\\n",
       "0                 <NA>               Birds;Butterflies                 No   \n",
       "1                 <NA>                            <NA>                 No   \n",
       "2   Nesting,Pollinator          Bees;Birds;Butterflies                Yes   \n",
       "3  Buds/greens,Nesting  Bees;Birds;Butterflies;Insects                 No   \n",
       "4                 <NA>                            <NA>                Yes   \n",
       "\n",
       "   Stormwater_int Appropriate_Location Additional_Characteristices_Notes  \n",
       "0               0             Sidewalk    Fast grower, high maintenance.  \n",
       "1               0             Sidewalk    Prefers heat, wind protection.  \n",
       "2               1               Garden     Provides shelter for wildlife  \n",
       "3               0               Garden                  Withstands wind.  \n",
       "4               1             Sidewalk     Prefers heat, wind protection  "
      ]
     },
     "execution_count": 3,
     "metadata": {},
     "output_type": "execute_result"
    }
   ],
   "source": [
    "df = pd.read_csv('data/San_Francisco_Plant_Finder_Data.csv').convert_dtypes()\n",
    "df.head()"
   ]
  },
  {
   "cell_type": "markdown",
   "metadata": {
    "nbgrader": {
     "grade": false,
     "grade_id": "cell-c4fc286960a67c7f",
     "locked": true,
     "schema_version": 3,
     "solution": false
    }
   },
   "source": [
    "Note that you should use this original dataset as input in every exercise.\n",
    "\n",
    "Now let's dive into the clues! \n",
    "\n",
    "### Clue 1 - First value in `Common_Name` when sorting the dataset by this column \n",
    "\n",
    "The first clue asks for the first value of the column `Common_Name` after we sort \n",
    "the dataframe by this column (using its natural order). \n",
    "\n",
    "To solve this, implement a function to change the index and sort it.\n",
    "\n",
    "**Hint**: Keep in mind that we don't want to discard the original index (which automatically got the name `index`) as it may be useful in the long run."
   ]
  },
  {
   "cell_type": "code",
   "execution_count": 4,
   "metadata": {
    "nbgrader": {
     "grade": false,
     "grade_id": "select_rows",
     "locked": false,
     "schema_version": 3,
     "solution": true
    }
   },
   "outputs": [],
   "source": [
    "def change_and_sort_index(df, column):\n",
    "    \"\"\" \n",
    "    Change dataframe index to the desired column and sort the index, avoiding \n",
    "     repeated columns.\n",
    "    \n",
    "    Args:\n",
    "        df (pd.DataFrame): the input DataFrame\n",
    "        column: column name to use as index\n",
    "\n",
    "    Returns:p\n",
    "        (pd.DataFrame): resulting Dataframe\n",
    "\n",
    "    \"\"\"\n",
    "    \n",
    "    ### BEGIN SOLUTION \n",
    "    new_df = df.reset_index(drop=False)\n",
    "    new_df = new_df.set_index(column, drop=True)\n",
    "    new_df = new_df.sort_index()\n",
    "    return new_df\n",
    "    ### END SOLUTION    "
   ]
  },
  {
   "cell_type": "code",
   "execution_count": 5,
   "metadata": {
    "nbgrader": {
     "grade": true,
     "grade_id": "select_rows_tests",
     "locked": true,
     "points": 2,
     "schema_version": 3,
     "solution": false
    }
   },
   "outputs": [
    {
     "name": "stdout",
     "output_type": "stream",
     "text": [
      "Well done!\n"
     ]
    }
   ],
   "source": [
    "plant_dataset = pd.read_csv('data/San_Francisco_Plant_Finder_Data.csv').convert_dtypes()\n",
    "new_dataset = change_and_sort_index(plant_dataset, \"Family_Name\")\n",
    "\n",
    "assert isinstance(new_dataset, pd.DataFrame), 'The function should return a dataframe.'\n",
    "assert new_dataset.shape == plant_dataset.shape, 'The shape of the resulting dataset is not correct.'\n",
    "assert new_dataset.index.name == \"Family_Name\", 'The index column is not set correctly.'\n",
    "assert hashlib.sha256(json.dumps(list(new_dataset.Latin_Name.array)).encode()).hexdigest() == \\\n",
    "'e954fec17ff2ced4efb4965300675c153f586cbed9bbf58fec4edf09e34eae92', 'The dataset is not sorted correctly.'\n",
    "assert 'index' in list(new_dataset.columns), 'Did you remove the old index?'\n",
    "print('Well done!')"
   ]
  },
  {
   "cell_type": "markdown",
   "metadata": {
    "nbgrader": {
     "grade": false,
     "grade_id": "cell-4492daa7621a1e1d",
     "locked": true,
     "schema_version": 3,
     "solution": false,
     "task": false
    }
   },
   "source": [
    "You can now use the function you built to get the first clue."
   ]
  },
  {
   "cell_type": "code",
   "execution_count": 6,
   "metadata": {
    "nbgrader": {
     "grade": false,
     "grade_id": "cell-379c408238283e33",
     "locked": true,
     "schema_version": 3,
     "solution": false,
     "task": false
    }
   },
   "outputs": [],
   "source": [
    "clue_dataset = change_and_sort_index(plant_dataset, \"Common_Name\")\n",
    "\n",
    "first_sorted_employer_industry = clue_dataset.index[0]\n",
    "\n",
    "FIRST_CLUE = first_sorted_employer_industry"
   ]
  },
  {
   "cell_type": "markdown",
   "metadata": {
    "nbgrader": {
     "grade": false,
     "grade_id": "cell-1dc0734066ab2665",
     "locked": true,
     "schema_version": 3,
     "solution": false
    }
   },
   "source": [
    "### Clue 2 - Top family name for plants blooming in spring\n",
    "\n",
    "You now want to find the most common `Family_Name` for the subset of our data where the `Bloom_Time` equals `Spring`. To do this, you decide to reuse your previous function to change the index and create an extra function to select rows by index values.\n",
    "\n",
    "Implement this second function below."
   ]
  },
  {
   "cell_type": "code",
   "execution_count": 7,
   "metadata": {
    "nbgrader": {
     "grade": false,
     "grade_id": "select_rows_by_country",
     "locked": false,
     "schema_version": 3,
     "solution": true,
     "task": false
    }
   },
   "outputs": [],
   "source": [
    "def select_rows_from_index(df, ids):\n",
    "    \"\"\" \n",
    "    Select the desired rows given the index value\n",
    "    \n",
    "    Args:\n",
    "        df (pd.DataFrame): the input DataFrame\n",
    "        ids: list with the desired values to retrieve\n",
    "\n",
    "    Returns:\n",
    "        (pd.DataFrame): subsetted Dataframe\n",
    "\n",
    "    \"\"\"    \n",
    "    \n",
    "    ### BEGIN SOLUTION \n",
    "    return df.loc[ids]\n",
    "    ### END SOLUTION"
   ]
  },
  {
   "cell_type": "code",
   "execution_count": 8,
   "metadata": {
    "nbgrader": {
     "grade": true,
     "grade_id": "select_rows_by_country_tests",
     "locked": true,
     "points": 2,
     "schema_version": 3,
     "solution": false,
     "task": false
    }
   },
   "outputs": [
    {
     "name": "stdout",
     "output_type": "stream",
     "text": [
      "Well done!\n"
     ]
    }
   ],
   "source": [
    "plant_dataset = pd.read_csv('data/San_Francisco_Plant_Finder_Data.csv').convert_dtypes()\n",
    "indexed_dataset = change_and_sort_index(plant_dataset, \"Bloom_Time\")\n",
    "desired_bloom_time = ['Winter', 'Summer,Fall']\n",
    "filtered_dataset = select_rows_from_index(indexed_dataset, desired_bloom_time)\n",
    "\n",
    "assert isinstance(filtered_dataset, pd.DataFrame), 'The function should return a dataframe.'\n",
    "assert filtered_dataset.shape == (69,19), 'The shape of the resulting dataset is not correct.'\n",
    "assert list(filtered_dataset.index.unique()) == desired_bloom_time, 'The bloom time is not correct.'\n",
    "assert hashlib.sha256(json.dumps(list(filtered_dataset.Latin_Name.array)).encode()).hexdigest() == \\\n",
    "'864a94326e43052581989f3233bda89307f11caf85407a9563dc99adc2c8cf05', 'The dataset is not sorted correctly.'\n",
    "print('Well done!')"
   ]
  },
  {
   "cell_type": "markdown",
   "metadata": {
    "nbgrader": {
     "grade": false,
     "grade_id": "cell-75feccdfd5ba8e33",
     "locked": true,
     "schema_version": 3,
     "solution": false,
     "task": false
    }
   },
   "source": [
    "Combining the two you now get the second clue."
   ]
  },
  {
   "cell_type": "code",
   "execution_count": 9,
   "metadata": {
    "nbgrader": {
     "grade": false,
     "grade_id": "cell-8e01b78f3078fe2a",
     "locked": true,
     "schema_version": 3,
     "solution": false,
     "task": false
    }
   },
   "outputs": [],
   "source": [
    "indexed_dataset = change_and_sort_index(plant_dataset, \"Bloom_Time\")\n",
    "clue_dataset = select_rows_from_index(indexed_dataset, ['Spring'])\n",
    "\n",
    "# When using `value_counts` the index becomes the column values and the counts are ordered from highest to lowest\n",
    "top_family_name = clue_dataset.Family_Name.value_counts().index[0] \n",
    "\n",
    "SECOND_CLUE = top_family_name"
   ]
  },
  {
   "cell_type": "markdown",
   "metadata": {
    "nbgrader": {
     "grade": false,
     "grade_id": "cell-48c215d216e65fb0",
     "locked": true,
     "schema_version": 3,
     "solution": false,
     "task": false
    }
   },
   "source": [
    "### Clue 3 - The top habitat value in the rows 300 to 450\n",
    "\n",
    "The next clue asks for a specific example range. For this purpose, build a function that takes as arguments two indices - `start` and `end` - and retrieves the slice of rows from `start` to `end`. Implement it below."
   ]
  },
  {
   "cell_type": "code",
   "execution_count": 10,
   "metadata": {
    "nbgrader": {
     "grade": false,
     "grade_id": "cell-8e5ea2a645f600a8",
     "locked": false,
     "schema_version": 3,
     "solution": true,
     "task": false
    }
   },
   "outputs": [],
   "source": [
    "def get_slice(df, start, end):\n",
    "    \"\"\" \n",
    "    Get a range of rows from the provided dataset \n",
    "    \n",
    "    Args:\n",
    "        df (pd.DataFrame): the input DataFrame\n",
    "        start: start position for the range\n",
    "        end: end position for the range\n",
    "\n",
    "    Returns:\n",
    "        (pd.DataFrame): subsetted Dataframe\n",
    "\n",
    "    \"\"\"\n",
    "    \n",
    "    ### BEGIN SOLUTION \n",
    "    return df.iloc[start:end]\n",
    "    ### END SOLUTION    "
   ]
  },
  {
   "cell_type": "code",
   "execution_count": 11,
   "metadata": {
    "nbgrader": {
     "grade": true,
     "grade_id": "cell-710bb8203e0a0d98",
     "locked": true,
     "points": 2,
     "schema_version": 3,
     "solution": false,
     "task": false
    }
   },
   "outputs": [
    {
     "name": "stdout",
     "output_type": "stream",
     "text": [
      "Well done!\n"
     ]
    }
   ],
   "source": [
    "plant_dataset = pd.read_csv('data/San_Francisco_Plant_Finder_Data.csv').convert_dtypes()\n",
    "\n",
    "top_rows_1 = get_slice(plant_dataset, 123, 457)\n",
    "\n",
    "assert top_rows_1.shape[0] == 334, 'The slice size is not correct.'\n",
    "assert top_rows_1.shape[1] == plant_dataset.shape[1], 'The slice size is not correct.'\n",
    "assert top_rows_1.Latin_Name.array[0] == 'Erysimum franciscanum', 'The content of the slice is not correct.'\n",
    "\n",
    "top_rows_2 = get_slice(plant_dataset, 315, 713)\n",
    "\n",
    "assert top_rows_2.shape[0] == 398, 'The slice size is not correct.'\n",
    "assert top_rows_2.shape[1] == plant_dataset.shape[1], 'The slice size is not correct.'\n",
    "assert top_rows_2.Latin_Name.array[0] == 'Ribes menziesii', 'The content of the slice is not correct.'\n",
    "print('Well done!')"
   ]
  },
  {
   "cell_type": "markdown",
   "metadata": {
    "nbgrader": {
     "grade": false,
     "grade_id": "cell-87bfa6103cca1753",
     "locked": true,
     "schema_version": 3,
     "solution": false,
     "task": false
    }
   },
   "source": [
    "Use the function to get the third clue:"
   ]
  },
  {
   "cell_type": "code",
   "execution_count": 12,
   "metadata": {
    "nbgrader": {
     "grade": false,
     "grade_id": "cell-8e231c86a816df32",
     "locked": true,
     "schema_version": 3,
     "solution": false,
     "task": false
    }
   },
   "outputs": [],
   "source": [
    "clue_dataset = get_slice(plant_dataset, 300, 450)\n",
    "\n",
    "# When using `value_counts` the index becomes the column values and the counts are ordered from highest to lowest\n",
    "common_habitat_value = clue_dataset.Habitat_Value.value_counts().index[0] \n",
    "\n",
    "THIRD_CLUE = common_habitat_value"
   ]
  },
  {
   "cell_type": "markdown",
   "metadata": {
    "nbgrader": {
     "grade": false,
     "grade_id": "cell-d701447375856e0d",
     "locked": true,
     "schema_version": 3,
     "solution": false,
     "task": false
    }
   },
   "source": [
    "### Clue 4 - The plant communities type of example 4\n",
    "\n",
    "To solve this clue, create a function that allows you to index both the rows and the columns of a dataframe. Implement it below."
   ]
  },
  {
   "cell_type": "code",
   "execution_count": 13,
   "metadata": {
    "nbgrader": {
     "grade": false,
     "grade_id": "exercise_4",
     "locked": false,
     "schema_version": 3,
     "solution": true
    }
   },
   "outputs": [],
   "source": [
    "def dedicated_subset(df, rows, columns):\n",
    "    \"\"\" \n",
    "    Select columns and rows from dataframe.\n",
    "    \n",
    "    Args:\n",
    "        df (pd.DataFrame): the input DataFrame\n",
    "        rows: list of rows to fetch\n",
    "        columns: list of columns to fetch\n",
    "\n",
    "    Returns:\n",
    "        (pd.DataFrame): subsetted df\n",
    "\n",
    "    \"\"\"\n",
    "    \n",
    "    ### BEGIN SOLUTION \n",
    "    return df.loc[rows, columns]\n",
    "    ### END SOLUTION"
   ]
  },
  {
   "cell_type": "code",
   "execution_count": 14,
   "metadata": {
    "nbgrader": {
     "grade": true,
     "grade_id": "exercise_4_correct",
     "locked": true,
     "points": 2,
     "schema_version": 3,
     "solution": false
    }
   },
   "outputs": [
    {
     "name": "stdout",
     "output_type": "stream",
     "text": [
      "Well done!\n"
     ]
    }
   ],
   "source": [
    "plant_dataset = pd.read_csv('data/San_Francisco_Plant_Finder_Data.csv').convert_dtypes()\n",
    "\n",
    "plant_subset_single = dedicated_subset(plant_dataset, [412], ['Climate_Appropriate_Plants'])\n",
    "assert plant_subset_single.shape == (1,1), 'The subset size is not correct.'\n",
    "assert plant_subset_single.Climate_Appropriate_Plants.array[0] == 'CA Native', 'The contents of the subset it not correct.'\n",
    "\n",
    "plant_subset_multiple = dedicated_subset(plant_dataset, [11, 111], ['Suitable_Site_Conditions','Soil_Type','Water_Needs'])\n",
    "assert plant_subset_multiple.shape == (2,3), 'The subset size is not correct.'\n",
    "assert plant_subset_multiple.Soil_Type.array[0] == 'Loam,Sand', 'The contents of the subset it not correct.'\n",
    "print('Well done!')"
   ]
  },
  {
   "cell_type": "markdown",
   "metadata": {
    "nbgrader": {
     "grade": false,
     "grade_id": "cell-f172b3035c3a7c98",
     "locked": true,
     "schema_version": 3,
     "solution": false,
     "task": false
    }
   },
   "source": [
    "Use the function to get the fourth clue:"
   ]
  },
  {
   "cell_type": "code",
   "execution_count": 15,
   "metadata": {
    "nbgrader": {
     "grade": false,
     "grade_id": "cell-e5cdc6f174b11487",
     "locked": true,
     "schema_version": 3,
     "solution": false,
     "task": false
    }
   },
   "outputs": [],
   "source": [
    "clue_dataset = dedicated_subset(plant_dataset, [2], [\"Plant_Communities\"])\n",
    "clue_dataset.values[0][0]\n",
    "\n",
    "FOURTH_CLUE = clue_dataset.values[0][0]"
   ]
  },
  {
   "cell_type": "markdown",
   "metadata": {
    "nbgrader": {
     "grade": false,
     "grade_id": "cell-385f9ed29671930f",
     "locked": true,
     "schema_version": 3,
     "solution": false,
     "task": false
    }
   },
   "source": [
    "Now that you have found a couple of clues, let's check how the board looks. You should be able to see something shapin up.\n"
   ]
  },
  {
   "cell_type": "code",
   "execution_count": 16,
   "metadata": {
    "nbgrader": {
     "grade": false,
     "grade_id": "cell-90ceb07f695ca69b",
     "locked": true,
     "schema_version": 3,
     "solution": false,
     "task": false
    }
   },
   "outputs": [
    {
     "data": {
      "image/png": "[encoded data removed]",
      "text/plain": [
       "<Figure size 400x400 with 1 Axes>"
      ]
     },
     "metadata": {},
     "output_type": "display_data"
    }
   ],
   "source": [
    "draw_final_puzzle([FIRST_CLUE, SECOND_CLUE, THIRD_CLUE, FOURTH_CLUE, \"\", \"\", \"\", \"\", \"\", \"\"])\n"
   ]
  },
  {
   "cell_type": "markdown",
   "metadata": {
    "nbgrader": {
     "grade": false,
     "grade_id": "cell-00df95c0fc1defe3",
     "locked": true,
     "schema_version": 3,
     "solution": false,
     "task": false
    }
   },
   "source": [
    "Uhh exciting. Dive into the next clues to fill out the rest of the puzzle!\n",
    "\n",
    "<img src=\"media/excited.gif\" alt=\"excited\" width=\"40%\"/>"
   ]
  },
  {
   "cell_type": "markdown",
   "metadata": {
    "nbgrader": {
     "grade": false,
     "grade_id": "cell-b72e4197684c12f3",
     "locked": true,
     "schema_version": 3,
     "solution": false,
     "task": false
    }
   },
   "source": [
    "## Clues 5 - 8\n",
    "\n",
    "These next clues ask for more complex datasets.\n",
    "\n",
    "We will call these subset A and B. \n",
    "\n",
    "In particular, the clues define dataset A as follows:\n",
    "\n",
    "* Plants with low water needs ('Low')\n",
    "* Plant size between 0.4 and 5\n",
    "* They are not exotic\n",
    "* They are fern, succulent, vine, or grass\n",
    "* They grow well in sun and part shade ('Sun','Sun,Part shade')\n",
    "* Contains columns 'Common_Name','Bloom_Time','Flower_Color','Soil_Type'\n",
    "\n",
    "Implement a function that obtains this dataset.\n",
    "\n",
    "**Hint**: Look into the function `.isin` described in the learning notebook and how it can be used to check a value against a list."
   ]
  },
  {
   "cell_type": "code",
   "execution_count": 17,
   "metadata": {
    "nbgrader": {
     "grade": false,
     "grade_id": "cell-a8cc62331e776b85",
     "locked": false,
     "schema_version": 3,
     "solution": true,
     "task": false
    }
   },
   "outputs": [],
   "source": [
    "def plant_dataset_A(df):\n",
    "    \"\"\" \n",
    "    Show plants that fit the following parameters:\n",
    "    \n",
    "      - Plants with low water needs ('Low')\n",
    "      - Plant size between 0.4 and 5\n",
    "      - They are not exotic\n",
    "      - They are fern, succulent, vine, or grass\n",
    "      - They grow well in sun and part shade ('Sun','Sun,Part shade')\n",
    "      - Contains columns 'Common_Name','Bloom_Time','Flower_Color','Soil_Type'\n",
    "      \n",
    "    Return only the 'Common_Name','Bloom_Time','Flower_Color','Soil_Type'\n",
    "    \n",
    "    Args:\n",
    "        df (pd.DataFrame): the input DataFrame\n",
    "\n",
    "    Returns:\n",
    "        (pd.DataFrame): subsetted df\n",
    "\n",
    "    \"\"\"\n",
    "\n",
    "    ### BEGIN SOLUTION \n",
    "    result = df[(df.Water_Needs=='Low') &\n",
    "                (df.Size_at_Maturity>0.5)  &\n",
    "                (df.Size_at_Maturity<5)  &\n",
    "                (df.Climate_Appropriate_Plants!='Exotic') &\n",
    "                (df.Plant_Type.isin(['Fern', 'Succulent', 'Vine', 'Grass'])) &\n",
    "                (df.Suitable_Site_Conditions.isin(['Sun','Sun,Part shade']))\n",
    "                ]\n",
    "    return result[['Common_Name','Bloom_Time','Flower_Color','Soil_Type']]\n",
    "    ### END SOLUTION"
   ]
  },
  {
   "cell_type": "code",
   "execution_count": 18,
   "metadata": {
    "nbgrader": {
     "grade": true,
     "grade_id": "exercice_5_correct",
     "locked": true,
     "points": 4,
     "schema_version": 3,
     "solution": false
    }
   },
   "outputs": [
    {
     "name": "stdout",
     "output_type": "stream",
     "text": [
      "Well done!\n"
     ]
    }
   ],
   "source": [
    "plant_dataset = pd.read_csv('data/San_Francisco_Plant_Finder_Data.csv').convert_dtypes()\n",
    "plant_subset_A = plant_dataset_A(plant_dataset)\n",
    "\n",
    "assert isinstance(plant_subset_A, pd.DataFrame), 'The result is not a dataframe.'\n",
    "assert plant_subset_A.shape == (16,4)\n",
    "assert plant_subset_A.columns.tolist() == ['Common_Name','Bloom_Time','Flower_Color','Soil_Type']\n",
    "assert hashlib.sha256(json.dumps(list(plant_subset_A.Common_Name.array)).encode()).hexdigest() == \\\n",
    "'d462d8dfe8060495ce202935532f961156b859d2e07f51dae780c1ee81dcf908', 'Subset A is not correct.'\n",
    "print('Well done!')"
   ]
  },
  {
   "cell_type": "markdown",
   "metadata": {
    "nbgrader": {
     "grade": false,
     "grade_id": "cell-792c5055faa009db",
     "locked": true,
     "schema_version": 3,
     "solution": false,
     "task": false
    }
   },
   "source": [
    "Additionally, the clues define dataset B as follows:\n",
    "\n",
    "* not an annual plant\n",
    "* taller than 4\n",
    "* can grow in any soil type\n",
    "* does not have yellow or white flowers (color is not 'Yellow', 'White')\n",
    "* Contains columns 'Common_Name','Habitat_Value','Associated_Wildlife'\n",
    "\n",
    "Implement a function that obtains this dataset."
   ]
  },
  {
   "cell_type": "code",
   "execution_count": 19,
   "metadata": {
    "nbgrader": {
     "grade": false,
     "grade_id": "cell-b71b61b40b8dca44",
     "locked": false,
     "schema_version": 3,
     "solution": true,
     "task": false
    }
   },
   "outputs": [],
   "source": [
    "def plant_dataset_B(df):\n",
    "    \"\"\" \n",
    "    Show plants that fit the following parameters:\n",
    "    \n",
    "      - not a shrub\n",
    "      - taller than 4\n",
    "      - can grow in any soil type\n",
    "      - does not have yellow or white flowers (color is not 'Yellow', 'White')\n",
    "      \n",
    "    Return only the 'Common_Name','Habit_Value','Associated_Wildlife'\n",
    "    \n",
    "    Args:\n",
    "        df (pd.DataFrame): the input DataFrame\n",
    "\n",
    "    Returns:\n",
    "        (pd.DataFrame): subsetted df\n",
    "\n",
    "    \"\"\"\n",
    "\n",
    "    ### BEGIN SOLUTION \n",
    "    result = df.where(\n",
    "                (df.Plant_Type!='Annual') &\n",
    "                (df.Size_at_Maturity>4)  &\n",
    "               ~(df.Flower_Color.isin(['White', 'Yellow']))\n",
    "               )\n",
    "    result = result.dropna(how='all')\n",
    "    return result[['Common_Name','Habitat_Value','Associated_Wildlife']]\n",
    "    ### END SOLUTION"
   ]
  },
  {
   "cell_type": "code",
   "execution_count": 20,
   "metadata": {
    "nbgrader": {
     "grade": true,
     "grade_id": "cell-edb899ebe53259f3",
     "locked": true,
     "points": 4,
     "schema_version": 3,
     "solution": false,
     "task": false
    }
   },
   "outputs": [
    {
     "name": "stdout",
     "output_type": "stream",
     "text": [
      "Well done!\n"
     ]
    }
   ],
   "source": [
    "plant_dataset = pd.read_csv('data/San_Francisco_Plant_Finder_Data.csv').convert_dtypes()\n",
    "plant_subset_B = plant_dataset_B(plant_dataset)\n",
    "\n",
    "assert isinstance(plant_subset_B, pd.DataFrame), 'The result is not a dataframe.'\n",
    "assert plant_subset_B.shape == (72,3), 'The shape of subset B is not correct.'\n",
    "assert plant_subset_B.columns.tolist() == ['Common_Name','Habitat_Value','Associated_Wildlife'], 'The columns of subset B are not correct.'\n",
    "\n",
    "assert hashlib.sha256(json.dumps(list(plant_subset_B.Common_Name.array)).encode()).hexdigest() == \\\n",
    "'8e515c57f760e77db4825b118488f1e09ca6b4558ba5db1ac997020b870a6d50', 'Subset B is not correct.'\n",
    "print('Well done!')"
   ]
  },
  {
   "cell_type": "markdown",
   "metadata": {
    "nbgrader": {
     "grade": false,
     "grade_id": "cell-05edfbe40cd4c955",
     "locked": true,
     "schema_version": 3,
     "solution": false,
     "task": false
    }
   },
   "source": [
    "Now look into the clues and retrieve the correct values to fill the puzzle:\n",
    "\n",
    "* Clue 5 - The bloom time of the 5th element of subset A\n",
    "* Clue 6 - The flower color of the 1st element of subset A\n",
    "* Clue 7 - The habitat value of the 41st element of subset B\n",
    "* Clue 8 - The associated wildlife of the 28th element of subset B"
   ]
  },
  {
   "cell_type": "code",
   "execution_count": 21,
   "metadata": {
    "nbgrader": {
     "grade": false,
     "grade_id": "cell-c98a6e13dabd4546",
     "locked": true,
     "schema_version": 3,
     "solution": false,
     "task": false
    }
   },
   "outputs": [],
   "source": [
    "FIFTH_CLUE = plant_subset_A.Bloom_Time.array[4]\n",
    "SIXTH_CLUE = plant_subset_A.Flower_Color.array[0]\n",
    "SEVENTH_CLUE = plant_subset_B.Habitat_Value.array[40]\n",
    "EIGTH_CLUE = plant_subset_B.Associated_Wildlife.values[27]"
   ]
  },
  {
   "cell_type": "markdown",
   "metadata": {
    "nbgrader": {
     "grade": false,
     "grade_id": "cell-b709454afb72aea2",
     "locked": true,
     "schema_version": 3,
     "solution": false,
     "task": false
    }
   },
   "source": [
    "## Clues 9 - 10\n",
    "\n",
    "These next clues once again require that you filter your dataset into different subsets.\n",
    "\n",
    "We will call these subset C and D. In particular:\n",
    "\n",
    "* dataset C should not contain succulents\n",
    "* dataset D should contain only grasses\n",
    "\n",
    "As you probably realize, you could use functions similar to the ones before to retrieve this dataset. However, we want you to use what you have learned regarding hiding data. \n",
    "\n",
    "Implement functions that hide the non-desired data but keep the dataframe shape."
   ]
  },
  {
   "cell_type": "code",
   "execution_count": 22,
   "metadata": {
    "nbgrader": {
     "grade": false,
     "grade_id": "cell-dd32ace8f3921366",
     "locked": false,
     "schema_version": 3,
     "solution": true,
     "task": false
    }
   },
   "outputs": [],
   "source": [
    "def plant_dataset_C(df):\n",
    "    \"\"\" \n",
    "    Hide all succulents in the dataframe\n",
    "    \n",
    "    Args:\n",
    "        df (pd.DataFrame): the input DataFrame\n",
    "\n",
    "    Returns:\n",
    "        (pd.DataFrame): output DataFrame\n",
    "\n",
    "    \"\"\"\n",
    "    \n",
    "    ### BEGIN SOLUTION \n",
    "    return df.mask(df.Plant_Type == 'Succulent')\n",
    "    ### END SOLUTION"
   ]
  },
  {
   "cell_type": "code",
   "execution_count": 23,
   "metadata": {
    "nbgrader": {
     "grade": true,
     "grade_id": "cell-d87eef42c4baa2a2",
     "locked": true,
     "points": 2,
     "schema_version": 3,
     "solution": false,
     "task": false
    }
   },
   "outputs": [
    {
     "name": "stdout",
     "output_type": "stream",
     "text": [
      "Well done!\n"
     ]
    }
   ],
   "source": [
    "plant_dataset = pd.read_csv('data/San_Francisco_Plant_Finder_Data.csv').convert_dtypes()\n",
    "plant_subset_C = plant_dataset_C(plant_dataset)\n",
    "\n",
    "assert isinstance(plant_subset_C, pd.DataFrame), 'The result should be a dataframe.'\n",
    "assert plant_subset_C.shape == plant_dataset.shape, 'The shape of the dataframe is not correct.'\n",
    "assert (plant_subset_C.Plant_Type == 'Succulent').sum() == 0, 'The succulents are still inside.'\n",
    "print('Well done!')"
   ]
  },
  {
   "cell_type": "code",
   "execution_count": 24,
   "metadata": {
    "nbgrader": {
     "grade": false,
     "grade_id": "cell-c928e9856866109b",
     "locked": false,
     "schema_version": 3,
     "solution": true,
     "task": false
    }
   },
   "outputs": [],
   "source": [
    "def plant_dataset_D(df):\n",
    "    \"\"\" \n",
    "    Show only Data Scientists in dataframe\n",
    "    \n",
    "    Args:\n",
    "        df (pd.DataFrame): the input DataFrame\n",
    "\n",
    "    Returns:\n",
    "        (pd.DataFrame): output DataFrame\n",
    "\n",
    "    \"\"\"\n",
    "    \n",
    "    ### BEGIN SOLUTION \n",
    "    return df.where(df.Plant_Type == 'Grass')\n",
    "    ### END SOLUTION"
   ]
  },
  {
   "cell_type": "code",
   "execution_count": 25,
   "metadata": {
    "nbgrader": {
     "grade": true,
     "grade_id": "cell-fa5afc2398e754bf",
     "locked": true,
     "points": 2,
     "schema_version": 3,
     "solution": false,
     "task": false
    }
   },
   "outputs": [
    {
     "name": "stdout",
     "output_type": "stream",
     "text": [
      "Well done!\n"
     ]
    }
   ],
   "source": [
    "plant_dataset = pd.read_csv('data/San_Francisco_Plant_Finder_Data.csv').convert_dtypes()\n",
    "plant_subset_D = plant_dataset_D(plant_dataset)\n",
    "\n",
    "assert isinstance(plant_subset_D, pd.DataFrame), 'The result should be a dataframe.'\n",
    "assert plant_subset_D.shape == plant_dataset.shape, 'The shape of the dataframe is not correct.'\n",
    "assert (plant_subset_D.Plant_Type == 'Grass').sum() == 56, 'The grasses should be in the dataset.'\n",
    "assert (plant_subset_D.Plant_Type != 'Grass').sum() == 0, 'There are plants that are not grasses inside.'\n",
    "print('Well done!')"
   ]
  },
  {
   "cell_type": "markdown",
   "metadata": {
    "nbgrader": {
     "grade": false,
     "grade_id": "cell-b0983efd645f0fd0",
     "locked": true,
     "schema_version": 3,
     "solution": false,
     "task": false
    }
   },
   "source": [
    "Now look into the clues and retrieve the correct values to fill the puzzle:\n",
    "\n",
    "* Clue 9 - The 99th value in prunning needs in subset D\n",
    "* Clue 10 - The 32nd value in habitat value in subset C"
   ]
  },
  {
   "cell_type": "code",
   "execution_count": 26,
   "metadata": {
    "nbgrader": {
     "grade": false,
     "grade_id": "cell-48260f66f18dc874",
     "locked": true,
     "schema_version": 3,
     "solution": false,
     "task": false
    }
   },
   "outputs": [],
   "source": [
    "NINTH_CLUE = plant_subset_D.Pruning_Needs.array[98]\n",
    "TENTH_CLUE = plant_subset_C.Habitat_Value.array[33] "
   ]
  },
  {
   "cell_type": "markdown",
   "metadata": {
    "nbgrader": {
     "grade": false,
     "grade_id": "cell-3580fb2e7300559b",
     "locked": true,
     "schema_version": 3,
     "solution": false,
     "task": false
    }
   },
   "source": [
    "Now that you have all the clues, check the puzzle for the secret key"
   ]
  },
  {
   "cell_type": "code",
   "execution_count": 27,
   "metadata": {
    "nbgrader": {
     "grade": false,
     "grade_id": "cell-10c93c0e5e65dc8a",
     "locked": true,
     "schema_version": 3,
     "solution": false,
     "task": false
    }
   },
   "outputs": [
    {
     "data": {
      "image/png": "[encoded data removed]",
      "text/plain": [
       "<Figure size 400x400 with 1 Axes>"
      ]
     },
     "metadata": {},
     "output_type": "display_data"
    }
   ],
   "source": [
    "draw_final_puzzle(\n",
    "    [\n",
    "        FIRST_CLUE, \n",
    "        SECOND_CLUE, \n",
    "        THIRD_CLUE, \n",
    "        FOURTH_CLUE, \n",
    "        FIFTH_CLUE, \n",
    "        SIXTH_CLUE, \n",
    "        SEVENTH_CLUE, \n",
    "        EIGTH_CLUE, \n",
    "        NINTH_CLUE, \n",
    "        TENTH_CLUE\n",
    "    ]\n",
    ")"
   ]
  },
  {
   "cell_type": "code",
   "execution_count": 28,
   "metadata": {
    "nbgrader": {
     "grade": false,
     "grade_id": "cell-029a11bdce1cfb7c",
     "locked": false,
     "schema_version": 3,
     "solution": true,
     "task": false
    }
   },
   "outputs": [],
   "source": [
    "# Introduce the highlighted words you see, in the following form:\n",
    "# kaggle_key = \"highlightedword\"\n",
    "\n",
    "### BEGIN SOLUTION \n",
    "kaggle_key = \"dataskills\"\n",
    "### END SOLUTION"
   ]
  },
  {
   "cell_type": "code",
   "execution_count": 29,
   "metadata": {
    "nbgrader": {
     "grade": true,
     "grade_id": "cell-2fd6aa23728ab5d6",
     "locked": true,
     "points": 0,
     "schema_version": 3,
     "solution": false,
     "task": false
    }
   },
   "outputs": [],
   "source": [
    "assert hashlib.sha256(kaggle_key.lower().encode()).hexdigest() == '910a9c5274ba0637ca5882fdef4190e608fb05e465da46518bd7f2fe2eb6d93d'"
   ]
  },
  {
   "cell_type": "markdown",
   "metadata": {
    "nbgrader": {
     "grade": false,
     "grade_id": "cell-48fb141a87ad9f11",
     "locked": true,
     "schema_version": 3,
     "solution": false,
     "task": false
    }
   },
   "source": [
    "Congratulations, you made it! You would now be able to enter the actual challenge and brag to all your friends about how good you are in data science 😄 \n",
    "\n",
    "<img src=\"media/excel.jpg\" alt=\"excel\" width=\"40%\"/>\n",
    "\n",
    "\n"
   ]
  }
 ],
 "metadata": {
  "kernelspec": {
   "display_name": "Python 3 (ipykernel)",
   "language": "python",
   "name": "python3"
  },
  "language_info": {
   "codemirror_mode": {
    "name": "ipython",
    "version": 3
   },
   "file_extension": ".py",
   "mimetype": "text/x-python",
   "name": "python",
   "nbconvert_exporter": "python",
   "pygments_lexer": "ipython3",
   "version": "3.12.4"
  }
 },
 "nbformat": 4,
 "nbformat_minor": 4
}
