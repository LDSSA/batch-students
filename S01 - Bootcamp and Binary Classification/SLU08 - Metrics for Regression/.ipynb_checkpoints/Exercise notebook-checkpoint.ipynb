{
 "cells": [
  {
   "attachments": {},
   "cell_type": "markdown",
   "metadata": {
    "nbgrader": {
     "grade": false,
     "grade_id": "cell-68fa160327bd350b",
     "locked": true,
     "schema_version": 3,
     "solution": false
    }
   },
   "source": [
    "## SLU08 - Metrics for Regression: Exercise Notebook\n",
    "\n",
    "In this notebook, you will implement:\n",
    "\n",
    "    - Mean Absolute Error (MAE)\n",
    "    - Mean Squared Error (MSE)\n",
    "    - Root Mean Squared Error (RMSE)\n",
    "    - Coefficient of Determination (R²)\n",
    "    - Adjusted R²\n",
    "    - Scikitlearn metrics\n",
    "    - Use the metrics to compare two linear regression models\n",
    "\n",
    "Start by importing the necessary packages and loading the data."
   ]
  },
  {
   "cell_type": "code",
   "execution_count": 1,
   "metadata": {
    "nbgrader": {
     "grade": false,
     "grade_id": "cell-c3b5b62586587194",
     "locked": true,
     "schema_version": 3,
     "solution": false,
     "task": false
    }
   },
   "outputs": [],
   "source": [
    "import numpy as np\n",
    "import pandas as pd\n",
    "from sklearn.datasets import load_diabetes\n",
    "from sklearn.linear_model import LinearRegression, SGDRegressor\n",
    "from sklearn.model_selection import train_test_split"
   ]
  },
  {
   "cell_type": "code",
   "execution_count": 2,
   "metadata": {
    "nbgrader": {
     "grade": false,
     "grade_id": "cell-bf1ee09a31f526e2",
     "locked": true,
     "schema_version": 3,
     "solution": false,
     "task": false
    }
   },
   "outputs": [
    {
     "data": {
      "text/html": [
       "<div>\n",
       "<style scoped>\n",
       "    .dataframe tbody tr th:only-of-type {\n",
       "        vertical-align: middle;\n",
       "    }\n",
       "\n",
       "    .dataframe tbody tr th {\n",
       "        vertical-align: top;\n",
       "    }\n",
       "\n",
       "    .dataframe thead th {\n",
       "        text-align: right;\n",
       "    }\n",
       "</style>\n",
       "<table border=\"1\" class=\"dataframe\">\n",
       "  <thead>\n",
       "    <tr style=\"text-align: right;\">\n",
       "      <th></th>\n",
       "      <th>age</th>\n",
       "      <th>sex</th>\n",
       "      <th>bmi</th>\n",
       "      <th>bp</th>\n",
       "      <th>s1</th>\n",
       "      <th>s2</th>\n",
       "      <th>s3</th>\n",
       "      <th>s4</th>\n",
       "      <th>s5</th>\n",
       "      <th>s6</th>\n",
       "    </tr>\n",
       "  </thead>\n",
       "  <tbody>\n",
       "    <tr>\n",
       "      <th>0</th>\n",
       "      <td>0.038076</td>\n",
       "      <td>0.050680</td>\n",
       "      <td>0.061696</td>\n",
       "      <td>0.021872</td>\n",
       "      <td>-0.044223</td>\n",
       "      <td>-0.034821</td>\n",
       "      <td>-0.043401</td>\n",
       "      <td>-0.002592</td>\n",
       "      <td>0.019907</td>\n",
       "      <td>-0.017646</td>\n",
       "    </tr>\n",
       "    <tr>\n",
       "      <th>1</th>\n",
       "      <td>-0.001882</td>\n",
       "      <td>-0.044642</td>\n",
       "      <td>-0.051474</td>\n",
       "      <td>-0.026328</td>\n",
       "      <td>-0.008449</td>\n",
       "      <td>-0.019163</td>\n",
       "      <td>0.074412</td>\n",
       "      <td>-0.039493</td>\n",
       "      <td>-0.068332</td>\n",
       "      <td>-0.092204</td>\n",
       "    </tr>\n",
       "    <tr>\n",
       "      <th>2</th>\n",
       "      <td>0.085299</td>\n",
       "      <td>0.050680</td>\n",
       "      <td>0.044451</td>\n",
       "      <td>-0.005670</td>\n",
       "      <td>-0.045599</td>\n",
       "      <td>-0.034194</td>\n",
       "      <td>-0.032356</td>\n",
       "      <td>-0.002592</td>\n",
       "      <td>0.002861</td>\n",
       "      <td>-0.025930</td>\n",
       "    </tr>\n",
       "    <tr>\n",
       "      <th>3</th>\n",
       "      <td>-0.089063</td>\n",
       "      <td>-0.044642</td>\n",
       "      <td>-0.011595</td>\n",
       "      <td>-0.036656</td>\n",
       "      <td>0.012191</td>\n",
       "      <td>0.024991</td>\n",
       "      <td>-0.036038</td>\n",
       "      <td>0.034309</td>\n",
       "      <td>0.022688</td>\n",
       "      <td>-0.009362</td>\n",
       "    </tr>\n",
       "    <tr>\n",
       "      <th>4</th>\n",
       "      <td>0.005383</td>\n",
       "      <td>-0.044642</td>\n",
       "      <td>-0.036385</td>\n",
       "      <td>0.021872</td>\n",
       "      <td>0.003935</td>\n",
       "      <td>0.015596</td>\n",
       "      <td>0.008142</td>\n",
       "      <td>-0.002592</td>\n",
       "      <td>-0.031988</td>\n",
       "      <td>-0.046641</td>\n",
       "    </tr>\n",
       "  </tbody>\n",
       "</table>\n",
       "</div>"
      ],
      "text/plain": [
       "        age       sex       bmi        bp        s1        s2        s3  \\\n",
       "0  0.038076  0.050680  0.061696  0.021872 -0.044223 -0.034821 -0.043401   \n",
       "1 -0.001882 -0.044642 -0.051474 -0.026328 -0.008449 -0.019163  0.074412   \n",
       "2  0.085299  0.050680  0.044451 -0.005670 -0.045599 -0.034194 -0.032356   \n",
       "3 -0.089063 -0.044642 -0.011595 -0.036656  0.012191  0.024991 -0.036038   \n",
       "4  0.005383 -0.044642 -0.036385  0.021872  0.003935  0.015596  0.008142   \n",
       "\n",
       "         s4        s5        s6  \n",
       "0 -0.002592  0.019907 -0.017646  \n",
       "1 -0.039493 -0.068332 -0.092204  \n",
       "2 -0.002592  0.002861 -0.025930  \n",
       "3  0.034309  0.022688 -0.009362  \n",
       "4 -0.002592 -0.031988 -0.046641  "
      ]
     },
     "execution_count": 2,
     "metadata": {},
     "output_type": "execute_result"
    }
   ],
   "source": [
    "data = load_diabetes()\n",
    "\n",
    "x = pd.DataFrame(data['data'], columns=data['feature_names'])\n",
    "y = pd.Series(data['target'])\n",
    "x.head()"
   ]
  },
  {
   "cell_type": "markdown",
   "metadata": {
    "nbgrader": {
     "grade": false,
     "grade_id": "cell-e9551c547931caf1",
     "locked": true,
     "schema_version": 3,
     "solution": false,
     "task": false
    }
   },
   "source": [
    "Here we fit the data to sklearn LinearRegression model and output the prediction and the model paramaters."
   ]
  },
  {
   "cell_type": "code",
   "execution_count": 3,
   "metadata": {
    "nbgrader": {
     "grade": false,
     "grade_id": "cell-7aed052cfe019718",
     "locked": true,
     "schema_version": 3,
     "solution": false
    }
   },
   "outputs": [],
   "source": [
    "np.random.seed(42)\n",
    "\n",
    "x_diabetes = x.values\n",
    "y_diabetes = y.values\n",
    "\n",
    "lr = LinearRegression()\n",
    "lr.fit(x_diabetes, y_diabetes)\n",
    "\n",
    "y_hat_diabetes = lr.predict(x_diabetes)\n",
    "betas_diabetes = pd.Series([lr.intercept_] + list(lr.coef_))"
   ]
  },
  {
   "cell_type": "markdown",
   "metadata": {
    "nbgrader": {
     "grade": false,
     "grade_id": "cell-ec6525e56e745670",
     "locked": true,
     "schema_version": 3,
     "solution": false
    }
   },
   "source": [
    "## 1 Metrics\n",
    "\n",
    "In this exercise, you will implement functions that calculate the metrics by hand, without using scikit-klearn, so that remember them well. We will start by a set of three related metrics:\n",
    "\n",
    "- Mean Absolute Error\n",
    "\n",
    "$$MAE = \\frac{1}{N} \\sum_{n=1}^N \\left| y_n - \\hat{y}_n \\right|$$\n",
    "\n",
    "- Mean Squared Error\n",
    "\n",
    "$$MSE = \\frac{1}{N} \\sum_{n=1}^N (y_n - \\hat{y}_n)^2$$\n",
    "\n",
    "- Root Mean Squared Error\n",
    "\n",
    "$$RMSE = \\sqrt{MSE}$$"
   ]
  },
  {
   "cell_type": "markdown",
   "metadata": {
    "nbgrader": {
     "grade": false,
     "grade_id": "cell-837cf48e25ab03b4",
     "locked": true,
     "schema_version": 3,
     "solution": false,
     "task": false
    }
   },
   "source": [
    "### 1.1 Mean Absolute Error\n",
    "\n",
    "First, implement the Mean Absolute Error in the function below. "
   ]
  },
  {
   "cell_type": "code",
   "execution_count": 4,
   "metadata": {
    "nbgrader": {
     "grade": false,
     "grade_id": "cell-dcd192e5ea083015",
     "locked": false,
     "schema_version": 3,
     "solution": true,
     "task": false
    }
   },
   "outputs": [],
   "source": [
    "def mean_absolute_error(y, y_pred): \n",
    "    \"\"\"\n",
    "    Args: \n",
    "        y_pred : numpy.array with shape (num_samples,) - predictions\n",
    "        y : numpy.array with shape (num_samples,) - true values\n",
    "        \n",
    "    Returns: \n",
    "        mae : float with Mean Absolute Error\n",
    "    \"\"\"\n",
    "    # 1) Compute the errors between predictions and true values\n",
    "    # error = ...\n",
    "    ### BEGIN SOLUTION\n",
    "    error = y - y_pred\n",
    "    ### END SOLUTION\n",
    "    \n",
    "    # 2) Compute the absolute value of the errors\n",
    "    # abs_error = ...\n",
    "    ### BEGIN SOLUTION\n",
    "    abs_error = np.abs(error)\n",
    "    ### END SOLUTION\n",
    "    \n",
    "    # 3) Compute the mean of the absolute value of the errors\n",
    "    # mae = ...\n",
    "    ### BEGIN SOLUTION\n",
    "    mae = abs_error.mean()\n",
    "    ### END SOLUTION\n",
    "    \n",
    "    return mae"
   ]
  },
  {
   "cell_type": "markdown",
   "metadata": {
    "nbgrader": {
     "grade": false,
     "grade_id": "cell-91cd8d2ed341da1d",
     "locked": true,
     "schema_version": 3,
     "solution": false,
     "task": false
    }
   },
   "source": [
    "Check if the output of your function matches the result below."
   ]
  },
  {
   "cell_type": "code",
   "execution_count": 5,
   "metadata": {
    "nbgrader": {
     "grade": true,
     "grade_id": "cell-3b7c2a2b912ddacd",
     "locked": true,
     "points": 2,
     "schema_version": 3,
     "solution": false,
     "task": false
    }
   },
   "outputs": [
    {
     "name": "stdout",
     "output_type": "stream",
     "text": [
      "Mean Absolute Error Diabetes dataset: 43.27745202531506\n"
     ]
    }
   ],
   "source": [
    "mae = mean_absolute_error(y_diabetes, y_hat_diabetes)\n",
    "print('Mean Absolute Error Diabetes dataset: {}'.format(mae))\n",
    "np.testing.assert_almost_equal(mae, 43.2773, 3)"
   ]
  },
  {
   "cell_type": "markdown",
   "metadata": {
    "nbgrader": {
     "grade": false,
     "grade_id": "cell-6e19afebf9f22bab",
     "locked": true,
     "schema_version": 3,
     "solution": false
    }
   },
   "source": [
    "### 1.2 Mean Squared Error\n",
    "\n",
    "Implement the mean squared error in the next function."
   ]
  },
  {
   "cell_type": "code",
   "execution_count": 6,
   "metadata": {
    "nbgrader": {
     "grade": false,
     "grade_id": "cell-d7a35367fa5f0f10",
     "locked": false,
     "schema_version": 3,
     "solution": true
    }
   },
   "outputs": [],
   "source": [
    "def mean_squared_error(y, y_pred): \n",
    "    \"\"\"\n",
    "    Args: \n",
    "        y_pred : numpy.array with shape (num_samples,) - predictions\n",
    "        y : numpy.array with shape (num_samples,) - true values\n",
    "        \n",
    "    Returns: \n",
    "        mse : float with Mean Squared Error Value\n",
    "\n",
    "    \"\"\"\n",
    "    # 1) Compute the errors between the predictions and the true values\n",
    "    # error = ...\n",
    "    ### BEGIN SOLUTION\n",
    "    error = y - y_pred\n",
    "    ### END SOLUTION\n",
    "    \n",
    "    # 2) Compute the squared value of the errors\n",
    "    # squared_error = ...\n",
    "    ### BEGIN SOLUTION\n",
    "    squared_error = error ** 2\n",
    "    ### END SOLUTION\n",
    "    \n",
    "    # 3) Compute the mean squared value of the errors\n",
    "    # mse = ...\n",
    "    ### BEGIN SOLUTION\n",
    "    mse = squared_error.mean()\n",
    "    ### END SOLUTION\n",
    "    \n",
    "    return mse"
   ]
  },
  {
   "cell_type": "markdown",
   "metadata": {
    "nbgrader": {
     "grade": false,
     "grade_id": "cell-cb656ddb462c6d28",
     "locked": true,
     "schema_version": 3,
     "solution": false
    }
   },
   "source": [
    "Check if the output of your function matches the result below."
   ]
  },
  {
   "cell_type": "code",
   "execution_count": 7,
   "metadata": {
    "nbgrader": {
     "grade": true,
     "grade_id": "cell-8ea8afca85e2b4bd",
     "locked": true,
     "points": 2,
     "schema_version": 3,
     "solution": false
    }
   },
   "outputs": [
    {
     "name": "stdout",
     "output_type": "stream",
     "text": [
      "Mean Squared Error Diabetes dataset: 2859.6963475867506\n"
     ]
    }
   ],
   "source": [
    "mse = mean_squared_error(y_diabetes, y_hat_diabetes)\n",
    "print('Mean Squared Error Diabetes dataset: {}'.format(mse))\n",
    "np.testing.assert_almost_equal(mse, 2859.6963, 3)"
   ]
  },
  {
   "cell_type": "markdown",
   "metadata": {
    "nbgrader": {
     "grade": false,
     "grade_id": "cell-ef21594b53b9934a",
     "locked": true,
     "schema_version": 3,
     "solution": false,
     "task": false
    }
   },
   "source": [
    "### 1.3 Root Mean Squared Error\n",
    "Implement the root mean squared error in the function below."
   ]
  },
  {
   "cell_type": "code",
   "execution_count": 8,
   "metadata": {
    "nbgrader": {
     "grade": false,
     "grade_id": "cell-ca7af06ca3e16ffb",
     "locked": false,
     "schema_version": 3,
     "solution": true,
     "task": false
    }
   },
   "outputs": [],
   "source": [
    "def root_mean_squared_error(y, y_pred): \n",
    "    \"\"\"\n",
    "    Args: \n",
    "        y_pred : numpy.array with shape (num_samples,) - predictions\n",
    "        y : numpy.array with shape (num_samples,) - true values\n",
    "        \n",
    "    Returns: \n",
    "        mse : float with the Root Mean Squared Error Value\n",
    "    \"\"\"\n",
    "    # 1) Compute the mean squared error. \n",
    "    # mse = ...\n",
    "    ### BEGIN SOLUTION\n",
    "    mse = mean_squared_error(y, y_pred)\n",
    "    ### END SOLUTION\n",
    "    \n",
    "    # 2) Compute the root square of the mean squared error\n",
    "    # rmse = ...\n",
    "    ### BEGIN SOLUTION\n",
    "    rmse = np.sqrt(mse)\n",
    "    ### END SOLUTION\n",
    "    \n",
    "    return rmse"
   ]
  },
  {
   "cell_type": "markdown",
   "metadata": {
    "nbgrader": {
     "grade": false,
     "grade_id": "cell-2c5f410a55fefeed",
     "locked": true,
     "schema_version": 3,
     "solution": false,
     "task": false
    }
   },
   "source": [
    "Check if the output of your function matches the result below."
   ]
  },
  {
   "cell_type": "code",
   "execution_count": 9,
   "metadata": {
    "nbgrader": {
     "grade": true,
     "grade_id": "cell-727b81ef1259e266",
     "locked": true,
     "points": 2,
     "schema_version": 3,
     "solution": false,
     "task": false
    }
   },
   "outputs": [
    {
     "name": "stdout",
     "output_type": "stream",
     "text": [
      "Root Mean Squared Error Diabetes dataset: 53.476128764026576\n"
     ]
    }
   ],
   "source": [
    "rmse = root_mean_squared_error(y_diabetes, y_hat_diabetes)\n",
    "print('Root Mean Squared Error Diabetes dataset: {}'.format(rmse))\n",
    "np.testing.assert_almost_equal(rmse, 53.4761, 3)"
   ]
  },
  {
   "cell_type": "markdown",
   "metadata": {
    "nbgrader": {
     "grade": false,
     "grade_id": "cell-7247af52a77608d5",
     "locked": true,
     "schema_version": 3,
     "solution": false
    }
   },
   "source": [
    "Next, we will focus on the Coefficient of Determination - $R^2$ - and its adjusted form. See the equations below:\n",
    "\n",
    "- $R^2$ score \n",
    "\n",
    "$$R² = 1 - \\frac{MSE(y, \\hat{y})}{MSE(y, \\bar{y})} \n",
    "= 1 - \\frac{\\frac{1}{N} \\sum_{n=1}^N (y_n - \\hat{y}_n)^2}{\\frac{1}{N} \\sum_{n=1}^N (y_n - \\bar{y})^2}\n",
    "= 1 - \\frac{\\sum_{n=1}^N (y_n - \\hat{y}_n)^2}{\\sum_{n=1}^N (y_n - \\bar{y})^2}$$\n",
    "\n",
    "where $$\\bar{y} = \\frac{1}{N} \\sum_{n=1}^N y_n$$\n",
    "\n",
    "- Adjusted $R^2$ score \n",
    "\n",
    "$$\\bar{R}^2 = 1 - \\frac{N - 1}{N - K - 1} (1 - R^2)$$\n",
    "\n",
    "where $N$ is the number of observations in the dataset used for training the model (i.e. number of rows of the pandas dataframe) and $K$ is the number of features used by your model (i.e. number of columns of the pandas dataframe).\n",
    "\n",
    "\n",
    "### 1.4 R² score\n",
    "\n",
    "Now implement the $R^2$ score in the function below."
   ]
  },
  {
   "cell_type": "code",
   "execution_count": 10,
   "metadata": {
    "nbgrader": {
     "grade": false,
     "grade_id": "cell-51f11aef440a31c5",
     "locked": false,
     "schema_version": 3,
     "solution": true
    }
   },
   "outputs": [],
   "source": [
    "def r_squared(y, y_pred): \n",
    "    \"\"\"\n",
    "    Args: \n",
    "        y_pred : numpy.array with shape (num_samples,) - predictions\n",
    "        y : numpy.array with shape (num_samples,) - true values\n",
    "        \n",
    "    Returns: \n",
    "        r2 : float with R squared value\n",
    "    \"\"\"\n",
    "\n",
    "    # 1) Compute the mean of the true values\n",
    "    # y_mean = ...\n",
    "    ### BEGIN SOLUTION\n",
    "    y_mean = y.mean()\n",
    "    ### END SOLUTION\n",
    "\n",
    "    # 2) Compute the mean squared error between the true values and their mean.\n",
    "    # mse_mean = ...\n",
    "    ### BEGIN SOLUTION\n",
    "    mse_mean = mean_squared_error(y, y_mean)\n",
    "    ### END SOLUTION\n",
    "    \n",
    "    # 3) Compute the mean squared error between the true values and the predictions.\n",
    "    # mse_pred = ...\n",
    "    ### BEGIN SOLUTION\n",
    "    mse_pred = mean_squared_error(y, y_pred)\n",
    "    ### END SOLUTION\n",
    "    \n",
    "    # 4) Finally, compute R²\n",
    "    # r2 = ...\n",
    "    ### BEGIN SOLUTION\n",
    "    r2 = 1 - (mse_pred/mse_mean)\n",
    "    ### END SOLUTION\n",
    "    \n",
    "    return r2"
   ]
  },
  {
   "cell_type": "markdown",
   "metadata": {
    "nbgrader": {
     "grade": false,
     "grade_id": "cell-1063e13d06463111",
     "locked": true,
     "schema_version": 3,
     "solution": false
    }
   },
   "source": [
    "Check if the output of your function matches the result below."
   ]
  },
  {
   "cell_type": "code",
   "execution_count": 11,
   "metadata": {
    "nbgrader": {
     "grade": true,
     "grade_id": "cell-7fb94c0cc204ea9b",
     "locked": true,
     "points": 3,
     "schema_version": 3,
     "solution": false
    }
   },
   "outputs": [
    {
     "name": "stdout",
     "output_type": "stream",
     "text": [
      "R² Diabetes dataset: 0.5177484222203498\n"
     ]
    }
   ],
   "source": [
    "r2 = r_squared(y_diabetes, y_hat_diabetes)\n",
    "print('R² Diabetes dataset: {}'.format(r2))\n",
    "np.testing.assert_almost_equal(r2, 0.5177, 3)"
   ]
  },
  {
   "cell_type": "markdown",
   "metadata": {
    "nbgrader": {
     "grade": false,
     "grade_id": "cell-e5687e52ae19a518",
     "locked": true,
     "schema_version": 3,
     "solution": false
    }
   },
   "source": [
    "### 1.5 Adjusted R² score\n",
    "\n",
    "Now implement the adjusted $R^2$ score in the function below."
   ]
  },
  {
   "cell_type": "code",
   "execution_count": 12,
   "metadata": {
    "nbgrader": {
     "grade": false,
     "grade_id": "cell-b35baba302fa675b",
     "locked": false,
     "schema_version": 3,
     "solution": true
    }
   },
   "outputs": [],
   "source": [
    "def adjusted_r_squared(y, y_pred, K):\n",
    "    \"\"\"\n",
    "    Args: \n",
    "        y : numpy.array with shape (num_samples,) - true values\n",
    "        y_pred : numpy.array with shape (num_samples,) - predictions\n",
    "        K : integer - Number of features used in the model that computed y_hat.\n",
    "\n",
    "    Returns: \n",
    "        r2_adj : float with adjusted R squared value\n",
    "    \"\"\"\n",
    "    \n",
    "    # 1) Compute R².\n",
    "    # r2 = ...\n",
    "    ### BEGIN SOLUTION\n",
    "    r2 = r_squared(y, y_pred)\n",
    "    ### END SOLUTION\n",
    "    \n",
    "    # 2) Get number of samples \n",
    "    # N = ...\n",
    "    ### BEGIN SOLUTION\n",
    "    N = y.shape[0]\n",
    "    ### END SOLUTION\n",
    "\n",
    "    # 3) Computer adjusted R²\n",
    "    # r2_adj = ...\n",
    "    ### BEGIN SOLUTION\n",
    "    r2_adj = 1 - ((N - 1) / (N - K - 1)) * (1 - r2)\n",
    "    ### END SOLUTION\n",
    "    \n",
    "    return r2_adj"
   ]
  },
  {
   "cell_type": "markdown",
   "metadata": {
    "nbgrader": {
     "grade": false,
     "grade_id": "cell-32b7193c2bd18cd3",
     "locked": true,
     "schema_version": 3,
     "solution": false
    }
   },
   "source": [
    "Check if the output of your function matches the results below."
   ]
  },
  {
   "cell_type": "code",
   "execution_count": 13,
   "metadata": {
    "nbgrader": {
     "grade": true,
     "grade_id": "cell-2f310b9310e8fc38",
     "locked": true,
     "points": 3,
     "schema_version": 3,
     "solution": false
    }
   },
   "outputs": [
    {
     "name": "stdout",
     "output_type": "stream",
     "text": [
      "Adjusted R² Diabetes dataset: 0.5065592904853231\n"
     ]
    }
   ],
   "source": [
    "r2 = adjusted_r_squared(y_diabetes, y_hat_diabetes, x_diabetes.shape[1])\n",
    "print('Adjusted R² Diabetes dataset: {}'.format(r2))\n",
    "np.testing.assert_almost_equal(r2, 0.5065, 3)"
   ]
  },
  {
   "cell_type": "markdown",
   "metadata": {
    "nbgrader": {
     "grade": false,
     "grade_id": "cell-56bdb7b77c9bc15b",
     "locked": true,
     "schema_version": 3,
     "solution": false
    }
   },
   "source": [
    "## 2 Scikit-Learn metrics\n",
    "\n",
    "Now that you know how to calculate the metrics manually, let's use the scikitlearn implementations:\n",
    "\n",
    "- `sklearn.metrics.mean_absolute_error`\n",
    "- `sklearn.metrics.mean_squared_error`\n",
    "- `sklearn.metrics.r2_score`\n",
    "- `sklearn.linear_model.LinearRegression.score` "
   ]
  },
  {
   "cell_type": "code",
   "execution_count": 14,
   "metadata": {
    "nbgrader": {
     "grade": false,
     "grade_id": "cell-4f974da1ba19fbc4",
     "locked": true,
     "schema_version": 3,
     "solution": false
    }
   },
   "outputs": [],
   "source": [
    "# Import sklearn metrics\n",
    "from sklearn import metrics as sklearn_metrics"
   ]
  },
  {
   "cell_type": "markdown",
   "metadata": {
    "nbgrader": {
     "grade": false,
     "grade_id": "cell-c80d8cb59ab1e49e",
     "locked": true,
     "schema_version": 3,
     "solution": false
    }
   },
   "source": [
    "#### 2.1 Root Mean Squared Error\n",
    "\n",
    "Implement the root mean squared error function using scikitlearn."
   ]
  },
  {
   "cell_type": "code",
   "execution_count": 15,
   "metadata": {
    "nbgrader": {
     "grade": false,
     "grade_id": "cell-91685e84daf075d0",
     "locked": false,
     "schema_version": 3,
     "solution": true
    }
   },
   "outputs": [],
   "source": [
    "def sklearn_root_mean_squared_error(y, y_pred): \n",
    "    \"\"\"\n",
    "    Args: \n",
    "        y_pred : numpy.array with shape (num_samples,) - predictions\n",
    "        y : numpy.array with shape (num_samples,) - true values\n",
    "        \n",
    "    Returns: \n",
    "        rmse : float with Root Mean Squared Error\n",
    "    \"\"\"\n",
    "    ### BEGIN SOLUTION\n",
    "    mse = sklearn_metrics.mean_squared_error(y, y_pred)\n",
    "    rmse = np.sqrt(mse)\n",
    "    return rmse\n",
    "    ### END SOLUTION"
   ]
  },
  {
   "cell_type": "markdown",
   "metadata": {
    "nbgrader": {
     "grade": false,
     "grade_id": "cell-44bf1a140786fac4",
     "locked": true,
     "schema_version": 3,
     "solution": false
    }
   },
   "source": [
    "Make sure your function passes the tests below."
   ]
  },
  {
   "cell_type": "code",
   "execution_count": 16,
   "metadata": {
    "nbgrader": {
     "grade": true,
     "grade_id": "cell-bb0647e6f49b6b36",
     "locked": true,
     "points": 2,
     "schema_version": 3,
     "solution": false
    }
   },
   "outputs": [
    {
     "name": "stdout",
     "output_type": "stream",
     "text": [
      "Sklearn RMSE Diabetes dataset: 53.476128764026576\n"
     ]
    }
   ],
   "source": [
    "rmse = sklearn_root_mean_squared_error(y_diabetes, y_hat_diabetes)\n",
    "print('Sklearn RMSE Diabetes dataset: {}'.format(rmse))\n",
    "np.testing.assert_almost_equal(rmse, 53.4760, 3)"
   ]
  },
  {
   "cell_type": "markdown",
   "metadata": {
    "nbgrader": {
     "grade": false,
     "grade_id": "cell-483ede84836e8211",
     "locked": true,
     "schema_version": 3,
     "solution": false
    }
   },
   "source": [
    "#### 2.2  Adjusted R² score\n",
    "\n",
    "Implement the adjusted R² score below using scikitlearn."
   ]
  },
  {
   "cell_type": "code",
   "execution_count": 17,
   "metadata": {
    "nbgrader": {
     "grade": false,
     "grade_id": "cell-bc8ebf5c8c8c6e23",
     "locked": false,
     "schema_version": 3,
     "solution": true
    }
   },
   "outputs": [],
   "source": [
    "def sklearn_adjusted_r_squared(y, y_pred, K): \n",
    "    \"\"\"\n",
    "    Args: \n",
    "        y_pred : numpy.array with shape (num_samples,) - predictions\n",
    "        y : numpy.array with shape (num_samples,) - true values\n",
    "        K : integer - Number of features used in the model that computed y_hat.\n",
    "\n",
    "    Returns: \n",
    "        r2_adj : float with adjusted R squared value\n",
    "    \"\"\"\n",
    "    ### BEGIN SOLUTION\n",
    "    r2 = sklearn_metrics.r2_score(y, y_pred)\n",
    "    N = y.shape[0]\n",
    "    r2_adj = 1 - ((N - 1) / (N - K - 1)) * (1 - r2)\n",
    "    return r2_adj\n",
    "    ### END SOLUTION"
   ]
  },
  {
   "cell_type": "markdown",
   "metadata": {
    "nbgrader": {
     "grade": false,
     "grade_id": "cell-df5035b5103e0f49",
     "locked": true,
     "schema_version": 3,
     "solution": false
    }
   },
   "source": [
    "Make sure your function passes the tests below."
   ]
  },
  {
   "cell_type": "code",
   "execution_count": 18,
   "metadata": {
    "nbgrader": {
     "grade": true,
     "grade_id": "cell-f53ac73f1b9e0e25",
     "locked": true,
     "points": 3,
     "schema_version": 3,
     "solution": false
    }
   },
   "outputs": [
    {
     "name": "stdout",
     "output_type": "stream",
     "text": [
      "Sklearn Adjusted R² Diabetes dataset: 0.5065592904853231\n"
     ]
    }
   ],
   "source": [
    "r2 = sklearn_adjusted_r_squared(y_diabetes, y_hat_diabetes, x_diabetes.shape[1])\n",
    "print('Sklearn Adjusted R² Diabetes dataset: {}'.format(r2))\n",
    "np.testing.assert_almost_equal(r2, 0.5065, 3)"
   ]
  },
  {
   "cell_type": "markdown",
   "metadata": {
    "nbgrader": {
     "grade": false,
     "grade_id": "cell-1d4eac2c0c131600",
     "locked": true,
     "schema_version": 3,
     "solution": false
    }
   },
   "source": [
    "Finally, compare the sklearn-based metrics with your own implementations for the diabetes dataset."
   ]
  },
  {
   "cell_type": "code",
   "execution_count": 19,
   "metadata": {
    "nbgrader": {
     "grade": false,
     "grade_id": "cell-a640ee4b962fead1",
     "locked": true,
     "schema_version": 3,
     "solution": false
    }
   },
   "outputs": [
    {
     "name": "stdout",
     "output_type": "stream",
     "text": [
      "Metric for diabetes dataset with base implementation:\n",
      "Mean Absolute Error diabetes dataset: 43.27745202531506\n",
      "Mean Squared Error diabetes dataset: 2859.6963475867506\n",
      "Root Mean Squared Error diabetes dataset: 53.476128764026576\n",
      "R² diabetes dataset: 0.5177484222203498\n",
      "Adjusted R² diabetes dataset: 0.5065592904853231\n",
      "\n",
      "\n",
      "Metric for diabetes dataset with scikitlearn:\n",
      "Mean Absolute Error diabetes dataset: 43.27745202531506\n",
      "Mean Squared Error diabetes dataset: 2859.6963475867506\n",
      "Root Mean Squared Error diabetes dataset: 53.476128764026576\n",
      "R² diabetes dataset: 0.5177484222203498\n",
      "Adjusted R² diabetes dataset: 0.5065592904853231\n"
     ]
    }
   ],
   "source": [
    "MAE = mean_absolute_error(y_diabetes, y_hat_diabetes)\n",
    "MSE = mean_squared_error(y_diabetes, y_hat_diabetes)\n",
    "RMSE = root_mean_squared_error(y_diabetes, y_hat_diabetes)\n",
    "R2 = r_squared(y_diabetes, y_hat_diabetes)\n",
    "R2_adj = adjusted_r_squared(y_diabetes, y_hat_diabetes, x_diabetes.shape[1])\n",
    "\n",
    "print('Metric for diabetes dataset with base implementation:')\n",
    "print('Mean Absolute Error diabetes dataset: {}'.format(MAE))\n",
    "print('Mean Squared Error diabetes dataset: {}'.format(MSE))\n",
    "print('Root Mean Squared Error diabetes dataset: {}'.format(RMSE))\n",
    "print('R² diabetes dataset: {}'.format(R2))\n",
    "print('Adjusted R² diabetes dataset: {}'.format(R2_adj))\n",
    "print('\\n')\n",
    "\n",
    "SK_MAE = sklearn_metrics.mean_absolute_error(y_diabetes, y_hat_diabetes)\n",
    "SK_MSE = sklearn_metrics.mean_squared_error(y_diabetes, y_hat_diabetes)\n",
    "SK_RMSE = sklearn_root_mean_squared_error(y_diabetes, y_hat_diabetes)\n",
    "SK_R2 = sklearn_metrics.r2_score(y_diabetes, y_hat_diabetes)\n",
    "SK_R2_adj = sklearn_adjusted_r_squared(y_diabetes, y_hat_diabetes, x_diabetes.shape[1])\n",
    "\n",
    "print('Metric for diabetes dataset with scikitlearn:')\n",
    "print('Mean Absolute Error diabetes dataset: {}'.format(SK_MAE))\n",
    "print('Mean Squared Error diabetes dataset: {}'.format(SK_MSE))\n",
    "print('Root Mean Squared Error diabetes dataset: {}'.format(SK_RMSE))\n",
    "print('R² diabetes dataset: {}'.format(SK_R2))\n",
    "print('Adjusted R² diabetes dataset: {}'.format(SK_R2_adj))"
   ]
  },
  {
   "cell_type": "markdown",
   "metadata": {
    "nbgrader": {
     "grade": false,
     "grade_id": "cell-4db11cce9296226a",
     "locked": true,
     "schema_version": 3,
     "solution": false
    }
   },
   "source": [
    "## 3 Using the Metrics\n",
    "\n",
    "Now you'll fit the LinearRegression and SGDRegressor models and check their performance using the metrics. Your function should be able to calculate any of the 3 sklearn defined metrics presented previously in this notebook, depending on your *scoring* parameter.\n",
    "\n",
    "Implement the missing steps below."
   ]
  },
  {
   "cell_type": "code",
   "execution_count": 20,
   "metadata": {
    "nbgrader": {
     "grade": false,
     "grade_id": "cell-3897cdeea2d9f3c1",
     "locked": false,
     "schema_version": 3,
     "solution": true
    }
   },
   "outputs": [],
   "source": [
    "def estimate_metrics_holdout(X, y, lr_choice='linear', scoring='mean_absolute_error'):\n",
    "    \"\"\"\n",
    "    Fits the provided linear model to the data.\n",
    "    Uses the hold-out method, splitting the data into train and test dataset.\n",
    "    Calculates the provided metric on the test data prediction.\n",
    "    \n",
    "    Args: \n",
    "        X : numpy.array with shape (num_samples, num_features) - sample features\n",
    "        y : numpy.array with shape (num_samples,) - true sample values\n",
    "        lr_choice: linear regression model\n",
    "        scoring : metric as per sklearn notation\n",
    "\n",
    "    Returns: \n",
    "        lr: model trained with the train dataset\n",
    "        score : metric calculated for the test data\n",
    "    \"\"\"\n",
    "    \n",
    "    np.random.seed(42)\n",
    "    \n",
    "    if lr_choice == 'linear':\n",
    "        lr = LinearRegression()\n",
    "    elif lr_choice == 'sgd':\n",
    "        lr = SGDRegressor(max_iter=10000, random_state=42)\n",
    "    else:\n",
    "        print('Invalid estimator')\n",
    "        return None\n",
    "    \n",
    "    # Split the data into train and test (use a test size of 0.4 and a random_state = 42)\n",
    "    ### BEGIN SOLUTION\n",
    "    x_train, x_test, y_train, y_test = train_test_split(x, y, test_size=0.4, random_state=42)\n",
    "    ### END SOLUTION\n",
    "    \n",
    "    # Train your model using your train data\n",
    "    ### BEGIN SOLUTION\n",
    "    lr.fit(x_train, y_train)\n",
    "    ### END SOLUTION\n",
    "    \n",
    "    # Use the trained model to create prediction for the test dataset (y_hat = ...)\n",
    "    ### BEGIN SOLUTION\n",
    "    y_hat = lr.predict(x_test)\n",
    "    ### END SOLUTION\n",
    "    \n",
    "    # Calculate the metric for the test dataset prediction\n",
    "    # score = ...\n",
    "    ### BEGIN SOLUTION\n",
    "    if scoring == 'mean_absolute_error':\n",
    "        score = sklearn_metrics.mean_absolute_error(y_test, y_hat)\n",
    "    elif scoring == 'mean_squared_error':\n",
    "        score = sklearn_metrics.mean_squared_error(y_test, y_hat)\n",
    "    elif scoring == 'r2_score':\n",
    "        score = sklearn_metrics.r2_score(y_test, y_hat)\n",
    "    else:\n",
    "        print('Invalid scoring function')\n",
    "        return None\n",
    "    ### END SOLUTION\n",
    "    \n",
    "    return lr, score"
   ]
  },
  {
   "cell_type": "markdown",
   "metadata": {
    "nbgrader": {
     "grade": false,
     "grade_id": "cell-0b40e60f00f4f1fa",
     "locked": true,
     "schema_version": 3,
     "solution": false
    }
   },
   "source": [
    "Let's calculate metrics using your function."
   ]
  },
  {
   "cell_type": "code",
   "execution_count": 21,
   "metadata": {
    "nbgrader": {
     "grade": true,
     "grade_id": "cell-5565c9de30569d21",
     "locked": true,
     "points": 3,
     "schema_version": 3,
     "solution": false
    }
   },
   "outputs": [],
   "source": [
    "lr_lr, mae_lr = estimate_metrics_holdout(x_diabetes, y_diabetes, lr_choice='linear', scoring='mean_absolute_error')\n",
    "np.testing.assert_almost_equal(mae_lr, 42.4965, 2)\n",
    "\n",
    "lr_sgd, mae_sgd = estimate_metrics_holdout(x_diabetes, y_diabetes, lr_choice='sgd', scoring='mean_absolute_error')\n",
    "np.testing.assert_almost_equal(mae_sgd, 42.9081, 2)\n",
    "\n",
    "lr_lr, mse_lr = estimate_metrics_holdout(x_diabetes, y_diabetes, lr_choice='linear', scoring='mean_squared_error')\n",
    "np.testing.assert_almost_equal(mse_lr, 2832.9913, 2)\n",
    "\n",
    "lr_sgd, mse_sgd = estimate_metrics_holdout(x_diabetes, y_diabetes, lr_choice='sgd', scoring='mean_squared_error')\n",
    "np.testing.assert_almost_equal(mse_sgd, 2871.8621, 2)\n",
    "\n",
    "lr_lr, r2_lr = estimate_metrics_holdout(x_diabetes, y_diabetes, lr_choice='linear', scoring='r2_score')\n",
    "np.testing.assert_almost_equal(r2_lr, 0.5157, 2)\n",
    "\n",
    "lr_sgd, r2_sgd = estimate_metrics_holdout(x_diabetes, y_diabetes, lr_choice='sgd', scoring='r2_score')\n",
    "np.testing.assert_almost_equal(r2_sgd, 0.5091, 2)"
   ]
  },
  {
   "cell_type": "code",
   "execution_count": 22,
   "metadata": {
    "nbgrader": {
     "grade": false,
     "grade_id": "cell-ab0dd49b541e6962",
     "locked": true,
     "schema_version": 3,
     "solution": false,
     "task": false
    }
   },
   "outputs": [
    {
     "name": "stdout",
     "output_type": "stream",
     "text": [
      "Hold-out method evaluation for Diabetes dataset:\n",
      "MAE with Linear Regression: 42.49666434788084\n",
      "MAE with SGD: 42.908235451680795\n",
      "MSE with Linear Regression: 2832.9962397611503\n",
      "MSE with SGD: 2871.8668811690122\n",
      "R² Score with Linear Regression: 0.5157436313902429\n",
      "R² Score with SGD: 0.5090993035971039\n"
     ]
    }
   ],
   "source": [
    "print('Hold-out method evaluation for Diabetes dataset:')\n",
    "\n",
    "print('MAE with Linear Regression: {}'.format(mae_lr))\n",
    "print('MAE with SGD: {}'.format(mae_sgd))\n",
    "print('MSE with Linear Regression: {}'.format(mse_lr))\n",
    "print('MSE with SGD: {}'.format(mse_sgd))\n",
    "print('R² Score with Linear Regression: {}'.format(r2_lr))\n",
    "print('R² Score with SGD: {}'.format(r2_sgd))"
   ]
  }
 ],
 "metadata": {
  "celltoolbar": "Create Assignment",
  "kernelspec": {
   "display_name": "Python 3 (ipykernel)",
   "language": "python",
   "name": "python3"
  },
  "language_info": {
   "codemirror_mode": {
    "name": "ipython",
    "version": 3
   },
   "file_extension": ".py",
   "mimetype": "text/x-python",
   "name": "python",
   "nbconvert_exporter": "python",
   "pygments_lexer": "ipython3",
   "version": "3.12.5"
  }
 },
 "nbformat": 4,
 "nbformat_minor": 4
}
