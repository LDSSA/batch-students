{
 "cells": [
  {
   "cell_type": "markdown",
   "metadata": {
    "deletable": false,
    "editable": false,
    "nbgrader": {
     "grade": false,
     "grade_id": "cell-f73f5f7298e4b76a",
     "locked": true,
     "schema_version": 3,
     "solution": false,
     "task": false
    }
   },
   "source": [
    "# BLU10 - Non-personalized Recommenders: Exercise notebook"
   ]
  },
  {
   "cell_type": "code",
   "execution_count": null,
   "metadata": {
    "deletable": false,
    "editable": false,
    "nbgrader": {
     "grade": false,
     "grade_id": "cell-feb6e21eefee82a6",
     "locked": true,
     "schema_version": 3,
     "solution": false,
     "task": false
    }
   },
   "outputs": [],
   "source": [
    "import os\n",
    "import numpy as np\n",
    "import scipy as sp\n",
    "from scipy.sparse import csr_matrix\n",
    "import pandas as pd\n",
    "from mlxtend.frequent_patterns import apriori\n",
    "import hashlib\n",
    "import json"
   ]
  },
  {
   "cell_type": "markdown",
   "metadata": {
    "deletable": false,
    "editable": false,
    "nbgrader": {
     "grade": false,
     "grade_id": "cell-83b6d09650b71757",
     "locked": true,
     "schema_version": 3,
     "solution": false,
     "task": false
    }
   },
   "source": [
    "You will be working with data from an online bookstore. Every time a customer buys a book, the customer can rate the book and the bookstore uses that data to create recommendations to future customers.\n",
    "\n",
    "In this exercise notebook, you will help the bookstore team to choose which books to display in different areas of the website."
   ]
  },
  {
   "cell_type": "markdown",
   "metadata": {
    "deletable": false,
    "editable": false,
    "nbgrader": {
     "grade": false,
     "grade_id": "cell-05da60f53bf137c7",
     "locked": true,
     "schema_version": 3,
     "solution": false,
     "task": false
    }
   },
   "source": [
    "The bookstore provided a datafile with customer ratings and another file with information about the book genres:\n",
    "\n",
    "* `BookRatings.csv` has the historical ratings given by the customers and represents all the books sold. \n",
    "* `BooksInfo.csv`: has the information about the main genre of the book.\n",
    "\n",
    "Let's load and preview the data."
   ]
  },
  {
   "cell_type": "code",
   "execution_count": null,
   "metadata": {
    "deletable": false,
    "editable": false,
    "nbgrader": {
     "grade": false,
     "grade_id": "cell-f72731d85109d7df",
     "locked": true,
     "schema_version": 3,
     "solution": false,
     "task": false
    }
   },
   "outputs": [],
   "source": [
    "ratings = pd.read_csv('data/BookRatings.csv')\n",
    "books_info = pd.read_csv('data/BooksInfo.csv')"
   ]
  },
  {
   "cell_type": "code",
   "execution_count": null,
   "metadata": {
    "deletable": false,
    "editable": false,
    "nbgrader": {
     "grade": false,
     "grade_id": "cell-38265f9e87586b2d",
     "locked": true,
     "schema_version": 3,
     "solution": false,
     "task": false
    }
   },
   "outputs": [],
   "source": [
    "ratings.head()"
   ]
  },
  {
   "cell_type": "code",
   "execution_count": null,
   "metadata": {
    "deletable": false,
    "editable": false,
    "nbgrader": {
     "grade": false,
     "grade_id": "cell-7d371562015360bf",
     "locked": true,
     "schema_version": 3,
     "solution": false,
     "task": false
    }
   },
   "outputs": [],
   "source": [
    "books_info.head()"
   ]
  },
  {
   "cell_type": "markdown",
   "metadata": {
    "deletable": false,
    "editable": false,
    "nbgrader": {
     "grade": false,
     "grade_id": "cell-cb1a11186f0d5074",
     "locked": true,
     "schema_version": 3,
     "solution": false,
     "task": false
    }
   },
   "source": [
    "## Exercise 0 - EDA (ungraded)\n",
    "Let's first check if the data is complete:\n",
    "- check for ratings with incomplete data\n",
    "- check for the duplicated records in ratings \n",
    "- check for books without genre"
   ]
  },
  {
   "cell_type": "code",
   "execution_count": null,
   "metadata": {},
   "outputs": [],
   "source": [
    "# use this cell for your code"
   ]
  },
  {
   "cell_type": "markdown",
   "metadata": {
    "deletable": false,
    "editable": false,
    "nbgrader": {
     "grade": false,
     "grade_id": "cell-0dafd9c5d89c379c",
     "locked": true,
     "schema_version": 3,
     "solution": false,
     "task": false
    }
   },
   "source": [
    "## Exercise 1 - Ratings matrix\n",
    "\n",
    "In this exercise, you will create the ratings matrix and check its properties."
   ]
  },
  {
   "cell_type": "markdown",
   "metadata": {
    "deletable": false,
    "editable": false,
    "nbgrader": {
     "grade": false,
     "grade_id": "cell-fbcc2caac0633412",
     "locked": true,
     "schema_version": 3,
     "solution": false,
     "task": false
    }
   },
   "source": [
    "### Exercise 1.1 - Create the ratings matrix\n",
    "Implement the function below which should transform the `ratings` dataframe to a ratings matrix."
   ]
  },
  {
   "cell_type": "code",
   "execution_count": null,
   "metadata": {
    "deletable": false,
    "nbgrader": {
     "grade": false,
     "grade_id": "cell-a955efe724b3038b",
     "locked": false,
     "schema_version": 3,
     "solution": true,
     "task": false
    }
   },
   "outputs": [],
   "source": [
    "def make_ratings(data):\n",
    "    \"\"\"\n",
    "    Creates a ratings matrix from the provided dataframe.\n",
    "    Fills the missing values with 0.\n",
    "    \n",
    "    Parameters:\n",
    "        data (pd.DataFrame): the ratings dataframe with ratings per ISBN and User-ID\n",
    "        \n",
    "    Returns:\n",
    "        R (np.ndarray): Ratings matrix created from data\n",
    "    \"\"\"\n",
    "\n",
    "    # YOUR CODE HERE\n",
    "    raise NotImplementedError()"
   ]
  },
  {
   "cell_type": "code",
   "execution_count": null,
   "metadata": {
    "deletable": false,
    "editable": false,
    "nbgrader": {
     "grade": true,
     "grade_id": "cell-bcf35c84a0d83618",
     "locked": true,
     "points": 2,
     "schema_version": 3,
     "solution": false,
     "task": false
    }
   },
   "outputs": [],
   "source": [
    "R = make_ratings(ratings)\n",
    "assert isinstance(R,np.ndarray), 'The ratings matrix should be a numpy array.'\n",
    "assert hashlib.sha256(json.dumps(R.shape).encode()).hexdigest() == \\\n",
    "'b466a45e18554bb465511315ce036735e079772d9136499b0066f0acd78d5a8d', 'The shape of the ratings matrix is not correct.'\n",
    "assert hashlib.sha256(json.dumps(R[0].sum()).encode()).hexdigest() == \\\n",
    "'0729c13ebd725201c1445a00c825237d305ff650cd72f50e45259bd942a75ef4', 'The ratings matrix is not correct.'\n",
    "assert hashlib.sha256(json.dumps(R.sum()).encode()).hexdigest() == \\\n",
    "'bec147ffed0b304733e83e0732667d8f85aa5374f8ae52ebbb8734b3780097d2', 'The ratings matrix is not correct.'\n",
    "assert hashlib.sha256(json.dumps(R[:,0].sum()).encode()).hexdigest() == \\\n",
    "'f1e42019aecc858ffbcca7fddec511b761b474916fde37b1a6ff321a9b459330', 'The ratings matrix is not correct.'\n",
    "f\"We have {R.shape[0]} users and {R.shape[1]} items.\""
   ]
  },
  {
   "cell_type": "markdown",
   "metadata": {
    "deletable": false,
    "editable": false,
    "nbgrader": {
     "grade": false,
     "grade_id": "cell-54e25b8c1ec7101d",
     "locked": true,
     "schema_version": 3,
     "solution": false,
     "task": false
    }
   },
   "source": [
    "### Exercise 1.2 - Density score\n",
    "Implement the function below to calculate the density score of the ratings matrix R."
   ]
  },
  {
   "cell_type": "code",
   "execution_count": null,
   "metadata": {
    "deletable": false,
    "nbgrader": {
     "grade": false,
     "grade_id": "cell-e0d67b7597def46d",
     "locked": false,
     "schema_version": 3,
     "solution": true,
     "task": false
    }
   },
   "outputs": [],
   "source": [
    "def get_density_score(matrix):\n",
    "    \"\"\"\n",
    "    Calculates the density score of a numpy ratings matrix.\n",
    "    \n",
    "    Parameters:\n",
    "        matrix (np.ndarray): ratings matrix\n",
    "        \n",
    "    Returns:\n",
    "        dense_score (float): density score of the matrix\n",
    "    \"\"\"\n",
    "    # YOUR CODE HERE\n",
    "    raise NotImplementedError()"
   ]
  },
  {
   "cell_type": "code",
   "execution_count": null,
   "metadata": {
    "deletable": false,
    "editable": false,
    "nbgrader": {
     "grade": true,
     "grade_id": "cell-4a00699d27e75157",
     "locked": true,
     "points": 2,
     "schema_version": 3,
     "solution": false,
     "task": false
    }
   },
   "outputs": [],
   "source": [
    "dense_score = get_density_score(R)\n",
    "assert isinstance(dense_score, float), 'The density score should be a float.'\n",
    "np.testing.assert_almost_equal(dense_score,0.0004,4, err_msg='The score is not correct.')\n",
    "f\"The density score of the ratings matrix is {dense_score}.\""
   ]
  },
  {
   "cell_type": "markdown",
   "metadata": {
    "deletable": false,
    "editable": false,
    "nbgrader": {
     "grade": false,
     "grade_id": "cell-fa7fd988a22f4cad",
     "locked": true,
     "schema_version": 3,
     "solution": false,
     "task": false
    }
   },
   "source": [
    "### Exercise 1.3 - Sparse ratings matrix\n",
    "As you just saw, the matrix is very sparse. Implement the function below which converts a numpy ratings matrix like the one from exercise 1.2 to a scipy compressed sparse row matrix."
   ]
  },
  {
   "cell_type": "code",
   "execution_count": null,
   "metadata": {
    "deletable": false,
    "nbgrader": {
     "grade": false,
     "grade_id": "cell-0ed9b0b0e0afedb5",
     "locked": false,
     "schema_version": 3,
     "solution": true,
     "task": false
    }
   },
   "outputs": [],
   "source": [
    "def get_csr(matrix):\n",
    "    \"\"\"\n",
    "    Transforms the provided numpy matrix to a scipy compressed sparse row matrix\n",
    "    \n",
    "    Parameters:\n",
    "        matrix (np.ndarray): the ratings matrix\n",
    "    \n",
    "    Returns:\n",
    "        H (sp.sparse.csr_matrix): the compressed sparse row matrix\n",
    "        \n",
    "    \"\"\"\n",
    "    \n",
    "    # YOUR CODE HERE\n",
    "    raise NotImplementedError()"
   ]
  },
  {
   "cell_type": "code",
   "execution_count": null,
   "metadata": {
    "deletable": false,
    "editable": false,
    "nbgrader": {
     "grade": true,
     "grade_id": "cell-08a3664bf682ee47",
     "locked": true,
     "points": 1,
     "schema_version": 3,
     "solution": false,
     "task": false
    }
   },
   "outputs": [],
   "source": [
    "sparse_mat = get_csr(R)\n",
    "assert sparse_mat.shape == R.shape, 'The shape of the sparse matrix is not correct.'\n",
    "assert sparse_mat.sum() == R.sum(), 'The content of the matrix is not correct.'\n",
    "assert hashlib.sha256(json.dumps(str(sparse_mat)).encode()).hexdigest() == \\\n",
    "'f0012636d41b3a8f1995247d731cc4b38ba50aa47b8dcd563923d3682e329830', 'The sparse matrix is not correct.'"
   ]
  },
  {
   "cell_type": "markdown",
   "metadata": {
    "deletable": false,
    "editable": false,
    "nbgrader": {
     "grade": false,
     "grade_id": "cell-53be2988ab745411",
     "locked": true,
     "schema_version": 3,
     "solution": false,
     "task": false
    }
   },
   "source": [
    "## Exercise 2 - Non-personalized recommendations\n",
    "Now we will use the information about books and their genres and ratings to create non-personalized recommendations. The dataframe manipulation functions from BLU02 and BLU04 might come in handy."
   ]
  },
  {
   "attachments": {},
   "cell_type": "markdown",
   "metadata": {
    "deletable": false,
    "editable": false,
    "nbgrader": {
     "grade": false,
     "grade_id": "cell-ecb5760a05c9a81d",
     "locked": true,
     "schema_version": 3,
     "solution": false,
     "task": false
    }
   },
   "source": [
    "### Exercise 2.1 - Merge the data sets\n",
    "\n",
    "Implement the function below to merge the dataframes `ratings` and `books_info` in order to have information about the genre of each book. Include only the books that have a rating. "
   ]
  },
  {
   "cell_type": "code",
   "execution_count": null,
   "metadata": {
    "deletable": false,
    "nbgrader": {
     "grade": false,
     "grade_id": "cell-106ae247ccfe9625",
     "locked": false,
     "schema_version": 3,
     "solution": true,
     "task": false
    }
   },
   "outputs": [],
   "source": [
    "def get_book_ratings_df(ratings_, books_info_):\n",
    "    \"\"\"\n",
    "    Merges the provided dataframes. Includes only books with a rating.\n",
    "    \n",
    "    Parameters:\n",
    "        ratings_ (pd.DataFrame): dataframe with User-ID, ISBN, and Book-Rating\n",
    "        books_info_ (pd.DataFrame): dataFrame with ISBN and Genre\n",
    "        \n",
    "    Returns:\n",
    "        book_ratings (pd.DataFrame): dataframe with all the information for books that have a rating.\n",
    "    \"\"\"\n",
    "    \n",
    "    # YOUR CODE HERE\n",
    "    raise NotImplementedError()"
   ]
  },
  {
   "cell_type": "code",
   "execution_count": null,
   "metadata": {
    "deletable": false,
    "editable": false,
    "nbgrader": {
     "grade": true,
     "grade_id": "cell-46d197eb6eb130a1",
     "locked": true,
     "points": 1,
     "schema_version": 3,
     "solution": false,
     "task": false
    }
   },
   "outputs": [],
   "source": [
    "book_ratings = get_book_ratings_df(ratings, books_info)\n",
    "assert isinstance(book_ratings,pd.DataFrame), 'The result should be a dataframe.'\n",
    "assert book_ratings.shape==(108910, 4), 'The shape of book_ratings is not correct.'\n",
    "assert np.sum([i in ['User-ID', 'ISBN', 'Book-Rating', 'Genre'] for i in book_ratings.columns]) == 4, \\\n",
    "'The columns of book_ratings are not correct.'\n",
    "assert book_ratings['Book-Rating'].sum() == 842362, 'The content of book_ratings is not correct.'\n",
    "book_ratings.head()"
   ]
  },
  {
   "attachments": {},
   "cell_type": "markdown",
   "metadata": {
    "deletable": false,
    "editable": false,
    "nbgrader": {
     "grade": false,
     "grade_id": "cell-8a7167295bfa1d98",
     "locked": true,
     "schema_version": 3,
     "solution": false,
     "task": false
    }
   },
   "source": [
    "### Exercise 2.2 - The most popular books in the store\n",
    "\n",
    "The bookstore wants to display on their website a collection of the most popular books in the store. Since we don't have information on purchases we are going to use the ratings to assess popularity.\n",
    "\n",
    "Create a function that takes the merged dataframe from exercise 2.1 and returns a list with the ISBNs of the top N most popular books in the store - the N books that received the most ratings. The values in the list should be ordered from the most popular to the least popular book."
   ]
  },
  {
   "cell_type": "code",
   "execution_count": null,
   "metadata": {
    "deletable": false,
    "nbgrader": {
     "grade": false,
     "grade_id": "cell-6a3c641a8162def3",
     "locked": false,
     "schema_version": 3,
     "solution": true,
     "task": false
    }
   },
   "outputs": [],
   "source": [
    "def get_popular_books(df, n):\n",
    "    \"\"\"\n",
    "    Finds the n books with the most ratings (the most popular books).\n",
    "    \n",
    "    Parameters:\n",
    "        df (pd.DataFrame): dataframe with info about book ratings and genre\n",
    "        n (int): how many books to find\n",
    "        \n",
    "    Returns:\n",
    "        top_n_popular_books (list): list with the ISBNs of the top n popular books ordered\n",
    "                                    from the most to the least popular book\n",
    "    \"\"\"\n",
    "    \n",
    "    # YOUR CODE HERE\n",
    "    raise NotImplementedError()"
   ]
  },
  {
   "cell_type": "code",
   "execution_count": null,
   "metadata": {
    "deletable": false,
    "editable": false,
    "nbgrader": {
     "grade": true,
     "grade_id": "cell-f3916cd573f1cc2f",
     "locked": true,
     "points": 2,
     "schema_version": 3,
     "solution": false,
     "task": false
    }
   },
   "outputs": [],
   "source": [
    "top_5_popular_books = get_popular_books(book_ratings, 5)\n",
    "assert isinstance(top_5_popular_books, list), 'The result should be a list.'\n",
    "assert len(top_5_popular_books) == 5, 'The length of the list is not correct.'\n",
    "assert hashlib.sha256(json.dumps(''.join(top_5_popular_books)).encode()).hexdigest() == \\\n",
    "'0c5a95dd00da083b53d000a115b3dd038248f0e2df748180ad6111f533ae308b', 'The selected ISBNs are not correct.'\n",
    "top_5_popular_books"
   ]
  },
  {
   "attachments": {},
   "cell_type": "markdown",
   "metadata": {
    "deletable": false,
    "editable": false,
    "nbgrader": {
     "grade": false,
     "grade_id": "cell-56ee878cafce84f3",
     "locked": true,
     "schema_version": 3,
     "solution": false,
     "task": false
    }
   },
   "source": [
    "### Exercise 2.3 - The best rated books\n",
    "\n",
    "The bookstore also wants to display on the website a collection of the books with the best ratings in the store. \n",
    "\n",
    "Create a function that returns the top N best rated books with at least k ratings. Use the mean rating of each book for comparison. The function should return a list of the ISBNs of the top N books ordered from the best to the worst rated book."
   ]
  },
  {
   "cell_type": "code",
   "execution_count": null,
   "metadata": {
    "deletable": false,
    "nbgrader": {
     "grade": false,
     "grade_id": "cell-b24cbf665fa243b3",
     "locked": false,
     "schema_version": 3,
     "solution": true,
     "task": false
    }
   },
   "outputs": [],
   "source": [
    "def get_topn_rates(df, n, k):\n",
    "    \"\"\"\n",
    "    Finds the top n best rated books with more than k ratings.\n",
    "    \n",
    "    Parameters:\n",
    "        df (pd.DataFrame): dataframe with info about book ratings and genre\n",
    "        n (int): how many books to find\n",
    "        k (int): minimum number of ratings that a book should have to be considered\n",
    "        \n",
    "    Returns:\n",
    "        top_books (list): list of ISBNs of top n best mean rated books with at least k ratings.\n",
    "    \"\"\"\n",
    "    \n",
    "    # YOUR CODE HERE\n",
    "    raise NotImplementedError()"
   ]
  },
  {
   "cell_type": "code",
   "execution_count": null,
   "metadata": {
    "deletable": false,
    "editable": false,
    "nbgrader": {
     "grade": true,
     "grade_id": "cell-8c9937866867ccc7",
     "locked": true,
     "points": 2,
     "schema_version": 3,
     "solution": false,
     "task": false
    }
   },
   "outputs": [],
   "source": [
    "top5_rates = get_topn_rates(book_ratings, 5, 10)\n",
    "assert isinstance(top5_rates, list), 'The result should be a list.'\n",
    "assert len(top5_rates) == 5, 'The length of the list is not correct.'\n",
    "assert hashlib.sha256(json.dumps(''.join(top5_rates)).encode()).hexdigest() == \\\n",
    "'a0ee87be17e923a41c3838be3f3d47ad271560e030b6382b4e916d536ba9fc21', 'The selected ISBNs are not correct.'\n",
    "top5_rates"
   ]
  },
  {
   "attachments": {},
   "cell_type": "markdown",
   "metadata": {
    "deletable": false,
    "editable": false,
    "nbgrader": {
     "grade": false,
     "grade_id": "cell-ef432e6a268fc8a6",
     "locked": true,
     "schema_version": 3,
     "solution": false,
     "task": false
    }
   },
   "source": [
    "### Exercise 2.4 - Loyal customers\n",
    "\n",
    "The bookstore wants to reward the customers that gave the most ratings on the website. \n",
    "\n",
    "Create a function that returns a list of the top N users that gave the most ratings. Order the list by the number of given ratings in descending order."
   ]
  },
  {
   "cell_type": "code",
   "execution_count": null,
   "metadata": {
    "deletable": false,
    "nbgrader": {
     "grade": false,
     "grade_id": "cell-25e8aaca6e79506f",
     "locked": false,
     "schema_version": 3,
     "solution": true,
     "task": false
    }
   },
   "outputs": [],
   "source": [
    "def get_loyal_customers(df, n):\n",
    "    \"\"\"\n",
    "    Finds the customers which gave the most ratings.\n",
    "    \n",
    "    Parameters:\n",
    "        df (pd.DataFrame): dataframe with info about book ratings and genre\n",
    "        n (int): number of customers to find\n",
    "        \n",
    "    Returns:\n",
    "        top_n_loyal_customers (list): a list of the n user IDs which gave the most ratings\n",
    "    \"\"\"\n",
    "    \n",
    "    # YOUR CODE HERE\n",
    "    raise NotImplementedError()"
   ]
  },
  {
   "cell_type": "code",
   "execution_count": null,
   "metadata": {
    "deletable": false,
    "editable": false,
    "nbgrader": {
     "grade": true,
     "grade_id": "cell-e5a8da344c56c0a2",
     "locked": true,
     "points": 2,
     "schema_version": 3,
     "solution": false,
     "task": false
    }
   },
   "outputs": [],
   "source": [
    "top_10_loyal_customers = get_loyal_customers(book_ratings, 10)\n",
    "assert isinstance(top_10_loyal_customers, list), 'The result should be a list.'\n",
    "assert len(top_10_loyal_customers) == 10, 'The length of the list is not correct.'\n",
    "assert hashlib.sha256(json.dumps(''.join([str(i) for i in top_10_loyal_customers])).encode()).hexdigest() == \\\n",
    "'80b627ea07b2eedf56a56f6887c6eddb6586d8a2e9c2c6ff7c194d4b3133b33f', 'The selected userIDs are not correct.'\n",
    "top_10_loyal_customers"
   ]
  },
  {
   "attachments": {},
   "cell_type": "markdown",
   "metadata": {
    "deletable": false,
    "editable": false,
    "nbgrader": {
     "grade": false,
     "grade_id": "cell-3af855af659ac623",
     "locked": true,
     "schema_version": 3,
     "solution": false,
     "task": false
    }
   },
   "source": [
    "### Exercise 2.5 - The genre of the most rated book\n",
    "Implement the function below which should find the genre of the most rated book."
   ]
  },
  {
   "cell_type": "code",
   "execution_count": null,
   "metadata": {
    "deletable": false,
    "nbgrader": {
     "grade": false,
     "grade_id": "cell-27d7a4c706036abe",
     "locked": false,
     "schema_version": 3,
     "solution": true,
     "task": false
    }
   },
   "outputs": [],
   "source": [
    "def genre_of_most_rated_book(df):\n",
    "    \"\"\"\n",
    "    Finds the genre of the most rated book.\n",
    "    \n",
    "    Parameters:\n",
    "        df (pd.DataFrame): dataframe with info about book ratings and genre\n",
    "        \n",
    "    Returns:\n",
    "        genre (str): the genre of the most rated book\n",
    "    \"\"\"\n",
    "    \n",
    "    # YOUR CODE HERE\n",
    "    raise NotImplementedError()"
   ]
  },
  {
   "cell_type": "code",
   "execution_count": null,
   "metadata": {
    "deletable": false,
    "editable": false,
    "nbgrader": {
     "grade": true,
     "grade_id": "cell-aee1c916a520406c",
     "locked": true,
     "points": 2,
     "schema_version": 3,
     "solution": false,
     "task": false
    }
   },
   "outputs": [],
   "source": [
    "genre_top_book = genre_of_most_rated_book(book_ratings)\n",
    "assert isinstance(genre_top_book, str), 'The result should be a string.'\n",
    "assert hashlib.sha256(json.dumps(genre_top_book).encode()).hexdigest() == \\\n",
    "'73a05d46de472f9fc34b6377495f8c7af5a1a1c0904f260955e14d18f2465846', 'Not correct.'\n",
    "print(genre_top_book)"
   ]
  },
  {
   "attachments": {},
   "cell_type": "markdown",
   "metadata": {
    "deletable": false,
    "editable": false,
    "nbgrader": {
     "grade": false,
     "grade_id": "cell-e2a2f67f680b6a54",
     "locked": true,
     "schema_version": 3,
     "solution": false,
     "task": false
    }
   },
   "source": [
    "### Exercise 2.6 - The most popular books by genre\n",
    "\n",
    "The bookstore wants to display the most popular book in each genre.\n",
    "\n",
    "Create a function that returns a dataframe with the most popular book of each genre, judging by the number of ratings each book received. The columns of the dataset should be `Genre`,`Rating-Count` for the number of ratings of the most popular book and `ISBN`.\n",
    "\n",
    "Hint: you will need [this function](https://pandas.pydata.org/docs/reference/api/pandas.core.groupby.DataFrameGroupBy.first.html#pandas.core.groupby.DataFrameGroupBy.first). Remember that you can aggregate by several columns at once."
   ]
  },
  {
   "cell_type": "code",
   "execution_count": null,
   "metadata": {
    "deletable": false,
    "nbgrader": {
     "grade": false,
     "grade_id": "cell-befdd158e348befe",
     "locked": false,
     "schema_version": 3,
     "solution": true,
     "task": false
    }
   },
   "outputs": [],
   "source": [
    "def most_popular_book_per_genre(df):\n",
    "    \"\"\"\n",
    "    Finds the most popular book for each genre.\n",
    "    \n",
    "    Parameters:\n",
    "        df (pd.DataFrame): dataframe with info about book ratings and genre\n",
    "        \n",
    "    Returns:\n",
    "        top_books_genre (pd.DataFrame): dataframe with the most popular books for each genre\n",
    "                                        with three columns: Genre, ISBN, Rating_Count\n",
    "    \"\"\"\n",
    "    \n",
    "    # YOUR CODE HERE\n",
    "    raise NotImplementedError()"
   ]
  },
  {
   "cell_type": "code",
   "execution_count": null,
   "metadata": {
    "deletable": false,
    "editable": false,
    "nbgrader": {
     "grade": true,
     "grade_id": "cell-92004092dfc812a0",
     "locked": true,
     "points": 2,
     "schema_version": 3,
     "solution": false,
     "task": false
    }
   },
   "outputs": [],
   "source": [
    "top_books_genre = most_popular_book_per_genre(book_ratings)\n",
    "assert isinstance(top_books_genre, pd.DataFrame), 'The result should be a dataframe.'\n",
    "assert top_books_genre.shape == (2543,3), 'The shape of the dataframe is not correct.'\n",
    "assert np.sum([i in ['Genre','ISBN','Rating-Count'] for i in top_books_genre.columns]) == 3, 'The column names are not correct.'\n",
    "assert top_books_genre['Rating-Count'].sum() == 6683, 'The Rating-Count column is not correct.'\n",
    "assert hashlib.sha256(json.dumps(''.join(top_books_genre['ISBN'])).encode()).hexdigest() == \\\n",
    "'713ee806c9ad291b6b08c8cce24a3f6defd01f2149a2206a62389b502c94bd7b', 'The ISBN column is not correct.'\n",
    "top_books_genre.head()"
   ]
  },
  {
   "attachments": {},
   "cell_type": "markdown",
   "metadata": {
    "deletable": false,
    "editable": false,
    "nbgrader": {
     "grade": false,
     "grade_id": "cell-c5a65b71966b1c28",
     "locked": true,
     "schema_version": 3,
     "solution": false,
     "task": false
    }
   },
   "source": [
    "### Exercise 2.7 - Best average rated books by genre\n",
    "\n",
    "The bookstore also wants to display the best rated books per genre.\n",
    "\n",
    "Create a function that returns a dataframe with the top n books with the highest average rating in each genre. If there are more than n books with the same mean rating, sort them by `ISBN` in descending order. The dataframe columns should be `Genre`, `ISBN`, and `Book-Rating`. Sort the dataframe by `Genre` and `Book-Rating`."
   ]
  },
  {
   "cell_type": "code",
   "execution_count": null,
   "metadata": {
    "deletable": false,
    "nbgrader": {
     "grade": false,
     "grade_id": "cell-a784d8a45a909c8c",
     "locked": false,
     "schema_version": 3,
     "solution": true,
     "task": false
    }
   },
   "outputs": [],
   "source": [
    "def get_topn_rated_genre(df, n):\n",
    "    \"\"\"\n",
    "    Finds the top n books with the best average rating per genre.\n",
    "    \n",
    "    Parameters:\n",
    "        df (pd.DataFrame): dataframe with info about book ratings and genre\n",
    "        n (int): the number of books to find\n",
    "              \n",
    "    Returns:\n",
    "        books (pd.DataFrame): dataframe with top n books with the highest average rating per genre\n",
    "                              with columns Genre, ISBN, Book-Rating\n",
    "    \"\"\"\n",
    "    \n",
    "    # YOUR CODE HERE\n",
    "    raise NotImplementedError()"
   ]
  },
  {
   "cell_type": "code",
   "execution_count": null,
   "metadata": {
    "deletable": false,
    "editable": false,
    "nbgrader": {
     "grade": true,
     "grade_id": "cell-69c6a034c926fa35",
     "locked": true,
     "points": 2,
     "schema_version": 3,
     "solution": false,
     "task": false
    }
   },
   "outputs": [],
   "source": [
    "topn_rated_genre = get_topn_rated_genre(book_ratings, 3)\n",
    "assert isinstance(topn_rated_genre, pd.DataFrame), 'The result should be a dataframe.'\n",
    "assert topn_rated_genre.shape == (3921,3), 'The shape of the dataframe is not correct.'\n",
    "assert np.sum([i in ['Genre','ISBN','Book-Rating'] for i in topn_rated_genre.columns]) == 3, 'The column names are not correct.'\n",
    "assert hashlib.sha256(json.dumps(''.join(topn_rated_genre['Genre'])).encode()).hexdigest() == \\\n",
    "'588fcfcf3099b9bd150024fbf74ae943f4cf7eec60ce7d42bcbbe47b65dc69ba', 'Did you sort the Genre column?'\n",
    "np.testing.assert_almost_equal(topn_rated_genre['Book-Rating'].sum(), 31393.701483656077, decimal=2,\n",
    "                              err_msg='The Book-Rating column is not correct.')\n",
    "assert hashlib.sha256(json.dumps(''.join(topn_rated_genre['ISBN'])).encode()).hexdigest() == \\\n",
    "'a1ff93a88be527a107f1bee949045dbf7c51467bfd3aa52a33676178d18e291c', 'The ISBN column in not correct.'\n",
    "topn_rated_genre[topn_rated_genre['Genre']=='Fiction']"
   ]
  },
  {
   "attachments": {},
   "cell_type": "markdown",
   "metadata": {
    "deletable": false,
    "editable": false,
    "nbgrader": {
     "grade": false,
     "grade_id": "cell-fc36930b6cc60e99",
     "locked": true,
     "schema_version": 3,
     "solution": false,
     "task": false
    }
   },
   "source": [
    "### Exercise 2.8 - Most common groups of books\n",
    "\n",
    "The bookstore wants to display groups of books that the users usually rate together.\n",
    "\n",
    "Create a function that returns the N most frequent sets of M books that the users rate together for a given minimum support, ordered by support. The function should return a dataframe with two columns, `support` and `itemsets`, ordered by support in descending order. The input of the function is the ratings matrix `R` that you created in exercise 1.1."
   ]
  },
  {
   "cell_type": "code",
   "execution_count": null,
   "metadata": {
    "deletable": false,
    "nbgrader": {
     "grade": false,
     "grade_id": "cell-84282d90389727fe",
     "locked": false,
     "schema_version": 3,
     "solution": true,
     "task": false
    }
   },
   "outputs": [],
   "source": [
    "def get_apriori_booksets(R, min_support=0.003, n=3, m=3):\n",
    "    \n",
    "    \"\"\"\n",
    "    Finds the N most frequent sets of M books that the users rate together for a given minimum support.\n",
    "    \n",
    "    Parameters:\n",
    "        R (np.ndarray): ratings matrix\n",
    "        min_support (float): minimum support for the itemsets\n",
    "        n (int): number of top n itemsets to return\n",
    "        m (int): number of items in itemsets\n",
    "              \n",
    "    Returns:\n",
    "        booksets (pd.DataFrame) - dataframe with the top n itemsets, with columns support and itemsets,\n",
    "                                  ordered by support in descending order.\n",
    "    \"\"\"\n",
    "    \n",
    "    # YOUR CODE HERE\n",
    "    raise NotImplementedError()"
   ]
  },
  {
   "cell_type": "code",
   "execution_count": null,
   "metadata": {
    "deletable": false,
    "editable": false,
    "nbgrader": {
     "grade": true,
     "grade_id": "cell-ca3fda0f7747ebeb",
     "locked": true,
     "points": 2,
     "schema_version": 3,
     "solution": false,
     "task": false
    }
   },
   "outputs": [],
   "source": [
    "get_3_booksets = get_apriori_booksets(R, min_support=0.003, n=3, m=3)\n",
    "assert isinstance(get_3_booksets, pd.DataFrame), 'The result should be a dataframe.'\n",
    "assert get_3_booksets.shape == (3,2), 'The shape of the dataframe is not correct.'\n",
    "np.testing.assert_almost_equal(get_3_booksets.support.sum(), 0.013349727735815914, decimal=4,\n",
    "                              err_msg='The support column is not correct.')\n",
    "assert hashlib.sha256(json.dumps(''.join([str(int(i)) for i in sorted(get_3_booksets.itemsets.iloc[0])])).encode()).hexdigest() == \\\n",
    "'9f645311b81ee935d02affd458818360c52a8fad05c731e7a477f44f4b2832e0', 'The selected itemsets are not correct.'\n",
    "assert hashlib.sha256(json.dumps(''.join([str(int(i)) for i in sorted(get_3_booksets.itemsets.iloc[1])])).encode()).hexdigest() == \\\n",
    "'e5175b9cd2c8622984d4b0cb51604e33785f24e4a54847949269e766f096d02e', 'The selected itemsets are not correct.'\n",
    "assert hashlib.sha256(json.dumps(''.join([str(int(i)) for i in sorted(get_3_booksets.itemsets.iloc[2])])).encode()).hexdigest() == \\\n",
    "'c258eb47dcdd3134684670626e5851b38c3bd8eeab22c5b05a8915eb67837df3', 'The selected itemsets are not correct.'\n",
    "get_3_booksets"
   ]
  },
  {
   "cell_type": "markdown",
   "metadata": {
    "deletable": false,
    "editable": false,
    "nbgrader": {
     "grade": false,
     "grade_id": "cell-2fc8497a6c8b7e69",
     "locked": true,
     "schema_version": 3,
     "solution": false,
     "task": false
    }
   },
   "source": [
    "Well done! You just mastered your first recommender system."
   ]
  }
 ],
 "metadata": {
  "kernelspec": {
   "display_name": "Python 3 (ipykernel)",
   "language": "python",
   "name": "python3"
  },
  "language_info": {
   "codemirror_mode": {
    "name": "ipython",
    "version": 3
   },
   "file_extension": ".py",
   "mimetype": "text/x-python",
   "name": "python",
   "nbconvert_exporter": "python",
   "pygments_lexer": "ipython3",
   "version": "3.12.8"
  }
 },
 "nbformat": 4,
 "nbformat_minor": 4
}
