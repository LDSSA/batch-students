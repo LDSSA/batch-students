{
 "cells": [
  {
   "cell_type": "markdown",
   "id": "fba84fc3",
   "metadata": {
    "deletable": false,
    "editable": false,
    "nbgrader": {
     "grade": false,
     "grade_id": "cell-95630bbc79890e36",
     "locked": true,
     "schema_version": 3,
     "solution": false,
     "task": false
    }
   },
   "source": [
    "# SLU16 - Workflow: Exercise Notebook"
   ]
  },
  {
   "cell_type": "code",
   "execution_count": null,
   "id": "09ef698a",
   "metadata": {
    "deletable": false,
    "editable": false,
    "nbgrader": {
     "grade": false,
     "grade_id": "cell-2f7d8358f51a95c7",
     "locked": true,
     "schema_version": 3,
     "solution": false,
     "task": false
    }
   },
   "outputs": [],
   "source": [
    "import random\n",
    "import math\n",
    "import pandas as pd\n",
    "import matplotlib.pyplot as plt\n",
    "\n",
    "from sklearn import linear_model\n",
    "from sklearn.pipeline import make_pipeline\n",
    "from sklearn.preprocessing import MinMaxScaler\n",
    "from sklearn.ensemble import RandomForestClassifier\n",
    "from sklearn.metrics import accuracy_score\n",
    "from sklearn.base import TransformerMixin\n",
    "from sklearn.model_selection import train_test_split\n",
    "from sklearn.impute import SimpleImputer\n",
    "\n",
    "from hashlib import sha1 # just for grading purposes\n",
    "import json # just for grading purposes\n",
    "\n",
    "from utils import workflow_steps, data_analysis_steps\n",
    "from utils import get_dataset\n",
    "from utils import plot_confusion_matrix\n",
    "\n",
    "def _hash(obj, salt='none'):\n",
    "    if type(obj) is not str:\n",
    "        obj = json.dumps(obj)\n",
    "    to_encode = obj + salt\n",
    "    return sha1(to_encode.encode()).hexdigest()\n",
    "import warnings\n",
    "warnings.filterwarnings('ignore')"
   ]
  },
  {
   "cell_type": "markdown",
   "id": "4a2bbc27",
   "metadata": {
    "deletable": false,
    "editable": false,
    "nbgrader": {
     "grade": false,
     "grade_id": "cell-fa8e9c716561a3a0",
     "locked": true,
     "schema_version": 3,
     "solution": false,
     "task": false
    }
   },
   "source": [
    "In this notebook we will be covering the following:\n",
    "\n",
    "* **1. Workflow**\n",
    " * Step 1: Get the data\n",
    " * Step 2: Data analysis and preparation\n",
    "   * Step 2.1 Data analysis\n",
    "   * Step 2.2 Dealing with data problems\n",
    "   * Step 2.3 Feature engineering\n",
    "   * Step 2.4 Feature selection\n",
    " * Step 3: Model training\n",
    " * Step 4: Evaluate results\n",
    "* **2. Pipelines and Custom Objects**\n",
    "    * Step 2.1: Pipelines \n",
    "        * Step 2.1.1: Doing it \"the hard way\"\n",
    "        * Step 2.1.2: What is a pipeline\n",
    "        * Step 2.1.3: Setting up a pipeline\n",
    "    * Step 2.2: Custom Objects\n",
    "        * Step 2.2.1: Custom Transformers\n",
    "        * Step 2.2.2: Custom Estimators"
   ]
  },
  {
   "cell_type": "markdown",
   "id": "fa0379fe",
   "metadata": {
    "deletable": false,
    "editable": false,
    "nbgrader": {
     "grade": false,
     "grade_id": "cell-017c07341b261351",
     "locked": true,
     "schema_version": 3,
     "solution": false,
     "task": false
    }
   },
   "source": [
    "<div class=\"alert alert-info\">\n",
    "    A <b>data science workflow</b> defines the phases (or steps) in a data science project. Using a well-defined data science workflow is useful not only to you, but your teammates as it provides a simple way to clearly structure and organize a data science project. Across this specialization we've been covering the different steps in this workflow, but how well are you familiarised with them?\n",
    "</div>"
   ]
  },
  {
   "cell_type": "markdown",
   "id": "b32cf131",
   "metadata": {
    "deletable": false,
    "editable": false,
    "nbgrader": {
     "grade": false,
     "grade_id": "cell-cc4e9e934ce2b450",
     "locked": true,
     "schema_version": 3,
     "solution": false,
     "task": false
    }
   },
   "source": [
    "## Exercise 1: Workflow"
   ]
  },
  {
   "cell_type": "markdown",
   "id": "66022a78",
   "metadata": {
    "deletable": false,
    "editable": false,
    "nbgrader": {
     "grade": false,
     "grade_id": "cell-cab312b59a379771",
     "locked": true,
     "schema_version": 3,
     "solution": false,
     "task": false
    }
   },
   "source": [
    "### Exercise 1.1 - Overall workflow steps"
   ]
  },
  {
   "cell_type": "markdown",
   "id": "1eb7ce91",
   "metadata": {
    "deletable": false,
    "editable": false,
    "nbgrader": {
     "grade": false,
     "grade_id": "cell-43d6817e1deb33e3",
     "locked": true,
     "schema_version": 3,
     "solution": false,
     "task": false
    }
   },
   "source": [
    "What are the basic workflow steps?\n",
    "\n",
    "You probably know them already, but we want you to really internalize them. We've given you a list of steps in `workflow_steps`, but it appears that, not only does it have too many steps, some are _probably_ wrong, as well.\n",
    "\n",
    "Select the correct ones and reorder them!"
   ]
  },
  {
   "cell_type": "code",
   "execution_count": null,
   "id": "2ae1b06d",
   "metadata": {
    "deletable": false,
    "editable": false,
    "nbgrader": {
     "grade": false,
     "grade_id": "cell-c5101e47a4828368",
     "locked": true,
     "schema_version": 3,
     "solution": false,
     "task": false
    }
   },
   "outputs": [],
   "source": [
    "print(\"Workflow steps:\")\n",
    "for i in range(len(workflow_steps)):\n",
    "    print(i+1, ': ', workflow_steps[i])"
   ]
  },
  {
   "cell_type": "code",
   "execution_count": null,
   "id": "d50e8f62",
   "metadata": {
    "deletable": false,
    "nbgrader": {
     "grade": false,
     "grade_id": "cell-eb636145aa25eef4",
     "locked": false,
     "schema_version": 3,
     "solution": true,
     "task": false
    }
   },
   "outputs": [],
   "source": [
    "# Exercise 1.1. Filter and sort the names of the steps in the workflow_steps list\n",
    "# workflow_steps_answer = [...]\n",
    "\n",
    "# YOUR CODE HERE\n",
    "raise NotImplementedError()"
   ]
  },
  {
   "cell_type": "code",
   "execution_count": null,
   "id": "ce2728e0",
   "metadata": {
    "deletable": false,
    "editable": false,
    "nbgrader": {
     "grade": true,
     "grade_id": "cell-8c9ae302d2c9c48c",
     "locked": true,
     "points": 1,
     "schema_version": 3,
     "solution": false,
     "task": false
    }
   },
   "outputs": [],
   "source": [
    "assert _hash(len(workflow_steps_answer), 'salt0') == '253bd16d7f97f7d7295d404825e32985d257e11f', \"your workflow size doesn't look right! Don't forget to remove steps that shouldn't be there\"\n",
    "assert _hash([step.lower() for step in workflow_steps_answer], 'salt0') == '701e2306da9bfde36382bdb6feb80a354916ebf4', \"your workflow order doesn't look right! Some steps might be out of place\"\n"
   ]
  },
  {
   "cell_type": "markdown",
   "id": "d6f7c415",
   "metadata": {
    "deletable": false,
    "editable": false,
    "nbgrader": {
     "grade": false,
     "grade_id": "cell-9794a05f48292719",
     "locked": true,
     "schema_version": 3,
     "solution": false,
     "task": false
    }
   },
   "source": [
    "## Exercise 1.2: Data Analysis and Preparation"
   ]
  },
  {
   "cell_type": "markdown",
   "id": "ab02f4fa",
   "metadata": {
    "deletable": false,
    "editable": false,
    "nbgrader": {
     "grade": false,
     "grade_id": "cell-f258575f6c7a6dc6",
     "locked": true,
     "schema_version": 3,
     "solution": false,
     "task": false
    }
   },
   "source": [
    "There are way too many substeps in the **Data Analysis and Preparation** step to group them all under a single category. We've given you another list of steps: `data_analysis_steps`.\n",
    "\n",
    "Aside from being shuffled, it should be fine but keep an eye out. You never know what to expect..."
   ]
  },
  {
   "cell_type": "code",
   "execution_count": null,
   "id": "397e0bfa",
   "metadata": {
    "deletable": false,
    "editable": false,
    "nbgrader": {
     "grade": false,
     "grade_id": "cell-28be987a3be96809",
     "locked": true,
     "schema_version": 3,
     "solution": false,
     "task": false
    }
   },
   "outputs": [],
   "source": [
    "print(\"Data Analysis and Preparation steps:\")\n",
    "for i in range(len(data_analysis_steps)):\n",
    "    print(i+1, ': ', data_analysis_steps[i])"
   ]
  },
  {
   "cell_type": "code",
   "execution_count": null,
   "id": "b4116241",
   "metadata": {
    "deletable": false,
    "nbgrader": {
     "grade": false,
     "grade_id": "cell-2dab17640925e0d9",
     "locked": false,
     "schema_version": 3,
     "solution": true,
     "task": false
    }
   },
   "outputs": [],
   "source": [
    "# Exercise 1.2. Filter and sort the names of the steps in the data_analysis_steps list\n",
    "# data_analysis_steps_answer = [...]\n",
    "\n",
    "# YOUR CODE HERE\n",
    "raise NotImplementedError()"
   ]
  },
  {
   "cell_type": "code",
   "execution_count": null,
   "id": "09b060a6",
   "metadata": {
    "deletable": false,
    "editable": false,
    "nbgrader": {
     "grade": true,
     "grade_id": "cell-6d6087c6110d2371",
     "locked": true,
     "points": 1,
     "schema_version": 3,
     "solution": false,
     "task": false
    }
   },
   "outputs": [],
   "source": [
    "assert _hash(len(data_analysis_steps_answer), 'salt0') == '3aa298b947129ff226ba1e3f545f8b5ffaa6e557', \"your workflow size doesn't look right! Don't forget to remove steps that shouldn't be there\"\n",
    "assert _hash([step.lower() for step in data_analysis_steps_answer], 'salt0') == '658ab90eff4a0cea2bfb51cc89c8db5b4121fa86', \"your workflow order doesn't look right! Some steps might be out of place\"\n"
   ]
  },
  {
   "cell_type": "markdown",
   "id": "23109fc9",
   "metadata": {
    "deletable": false,
    "editable": false,
    "nbgrader": {
     "grade": false,
     "grade_id": "cell-010003b31ea0fd27",
     "locked": true,
     "schema_version": 3,
     "solution": false,
     "task": false
    }
   },
   "source": [
    "<img src=\"media/spanish_inquisition.gif\" width=\"400\" />"
   ]
  },
  {
   "cell_type": "markdown",
   "id": "b4bb77b6",
   "metadata": {
    "deletable": false,
    "editable": false,
    "nbgrader": {
     "grade": false,
     "grade_id": "cell-7152f046d21dcd9d",
     "locked": true,
     "schema_version": 3,
     "solution": false,
     "task": false
    }
   },
   "source": [
    "## Exercise 2 - Walking down the yellow (workflow) path"
   ]
  },
  {
   "cell_type": "markdown",
   "id": "5ee5d448",
   "metadata": {
    "deletable": false,
    "editable": false,
    "nbgrader": {
     "grade": false,
     "grade_id": "cell-ba6650bcf67a8fa3",
     "locked": true,
     "schema_version": 3,
     "solution": false,
     "task": false
    }
   },
   "source": [
    "There is no template for solving a data science problem. The roadmap changes with every new dataset and new problem. But we do see similar steps in many different projects. Regardless, some steps are fairly common in any process. Let's go through them one by one."
   ]
  },
  {
   "cell_type": "markdown",
   "id": "8032e7fb",
   "metadata": {
    "deletable": false,
    "editable": false,
    "nbgrader": {
     "grade": false,
     "grade_id": "cell-bb496988687ae3d6",
     "locked": true,
     "schema_version": 3,
     "solution": false,
     "task": false
    }
   },
   "source": [
    "### Exercise 2.1 - Objective"
   ]
  },
  {
   "cell_type": "markdown",
   "id": "474c2754",
   "metadata": {
    "deletable": false,
    "editable": false,
    "nbgrader": {
     "grade": false,
     "grade_id": "cell-7a140029ef4d8d6c",
     "locked": true,
     "schema_version": 3,
     "solution": false,
     "task": false
    }
   },
   "source": [
    "Every DS analysis should start with one question: **What is the problem you are trying to solve?** Clearly stating your problem is the first step to solving it and without a clear problem, you could find yourself down a data-science rabbit-hole.\n",
    "\n",
    "For this workflow, we are going to analyze a **a randomly generated dataset**. The objective? \n",
    "\n",
    "<div class=\"alert alert-info\">\n",
    "    Build a model to predict the <b>value of y</b> given a set of features.\n",
    "</div>"
   ]
  },
  {
   "cell_type": "markdown",
   "id": "5369123f",
   "metadata": {
    "deletable": false,
    "editable": false,
    "nbgrader": {
     "grade": false,
     "grade_id": "cell-91bc71f2573aaaaf",
     "locked": true,
     "schema_version": 3,
     "solution": false,
     "task": false
    }
   },
   "source": [
    "#### Exercise 2.1.1 - Objective\n",
    "Let's start by importing the dataset"
   ]
  },
  {
   "cell_type": "code",
   "execution_count": null,
   "id": "18917a09",
   "metadata": {
    "deletable": false,
    "editable": false,
    "nbgrader": {
     "grade": false,
     "grade_id": "cell-a7a6a16a20aec456",
     "locked": true,
     "schema_version": 3,
     "solution": false,
     "task": false
    }
   },
   "outputs": [],
   "source": [
    "df, y = get_dataset()  # preloaded dataset\n",
    "df['y'] = y\n",
    "df.head()\n"
   ]
  },
  {
   "cell_type": "markdown",
   "id": "5c1bee47",
   "metadata": {
    "deletable": false,
    "editable": false,
    "nbgrader": {
     "grade": false,
     "grade_id": "cell-8c90322f33f668bd",
     "locked": true,
     "schema_version": 3,
     "solution": false,
     "task": false
    }
   },
   "source": [
    "<div class=\"alert alert-warning\">\n",
    "⚠️ Is the objective clear to you?\n",
    "This is just a yes or no question, no need for code here! :P \n",
    "</div>"
   ]
  },
  {
   "cell_type": "code",
   "execution_count": null,
   "id": "0e5a2f49",
   "metadata": {
    "deletable": false,
    "nbgrader": {
     "grade": false,
     "grade_id": "cell-7bac9e5a5b30e333",
     "locked": false,
     "schema_version": 3,
     "solution": true,
     "task": false
    }
   },
   "outputs": [],
   "source": [
    "#answer_2_1_1=False\n",
    "# YOUR CODE HERE\n",
    "raise NotImplementedError()"
   ]
  },
  {
   "cell_type": "code",
   "execution_count": null,
   "id": "8d55c39b",
   "metadata": {
    "deletable": false,
    "editable": false,
    "nbgrader": {
     "grade": true,
     "grade_id": "cell-dad9e0e457bf29a1",
     "locked": true,
     "points": 0,
     "schema_version": 3,
     "solution": false,
     "task": false
    }
   },
   "outputs": [],
   "source": [
    "assert answer_2_1_1, \"Don't make the panda sad!\""
   ]
  },
  {
   "cell_type": "markdown",
   "id": "332cb222",
   "metadata": {
    "deletable": false,
    "editable": false,
    "nbgrader": {
     "grade": false,
     "grade_id": "cell-58ea5ecaae02df01",
     "locked": true,
     "schema_version": 3,
     "solution": false,
     "task": false
    }
   },
   "source": [
    "#### Exercise 2.1.2 - Clasifying the problem\n",
    "Now that we have our data imported into Pandas and we've checked out the first few rows of our dataframe, there's a few questions we need to answer before we move on:\n",
    "\n",
    "- *A*: Is this **supervised learning** or **unsupervised learning**? \n",
    "- *B*: Is this a **classification problem** or is it a **regression problem**? \n",
    "- *C*: Is this a **prediction problem** or an **inference problem**?\n",
    "\n",
    "Keeping our **objective in mind** how would you classify this problem?\n",
    "\n",
    "In our example, we are going to be using **regression** to **predict** value y from the set of features.\n",
    "\n",
    "Save, in `answer_2_1_2`, the value from **A, B and C** that apply to our problem!"
   ]
  },
  {
   "cell_type": "code",
   "execution_count": null,
   "id": "c6af8f33",
   "metadata": {
    "deletable": false,
    "nbgrader": {
     "grade": false,
     "grade_id": "cell-26745fdc9dca03d8",
     "locked": false,
     "schema_version": 3,
     "solution": true,
     "task": false
    }
   },
   "outputs": [],
   "source": [
    "# Remove from the string what doesn't apply to our problem (including the '/')\n",
    "#answer_2_1_2 = [\"supervised/unsupervised learning\",\"classification/regression problem\", \"prediction/inference problem\"]\n",
    "# YOUR CODE HERE\n",
    "raise NotImplementedError()"
   ]
  },
  {
   "cell_type": "code",
   "execution_count": null,
   "id": "52df5101",
   "metadata": {
    "deletable": false,
    "editable": false,
    "nbgrader": {
     "grade": true,
     "grade_id": "cell-80d1e9191be2cad6",
     "locked": true,
     "points": 1,
     "schema_version": 3,
     "solution": false,
     "task": false
    }
   },
   "outputs": [],
   "source": [
    "assert _hash(len(answer_2_1_2), 'salt0') == 'bb6591f296df2e5dd0324184f4348795b760f11d', \"your answer doesn't have the correct size. I've asked you to pick the correct option for three questions\"\n",
    "assert _hash([step.lower() for step in answer_2_1_2], 'salt0') == 'd5cf73be53ec62d0d1ca23376f66f5a30cce8f67', \"One or more of your answers is incorrect.\""
   ]
  },
  {
   "cell_type": "markdown",
   "id": "d12f2d77",
   "metadata": {
    "deletable": false,
    "editable": false,
    "nbgrader": {
     "grade": false,
     "grade_id": "cell-8b336c0b944c04c4",
     "locked": true,
     "schema_version": 3,
     "solution": false,
     "task": false
    }
   },
   "source": [
    "### Exercise 2.2 - Data Exploration and Data Cleaning"
   ]
  },
  {
   "cell_type": "markdown",
   "id": "61809799",
   "metadata": {
    "deletable": false,
    "editable": false,
    "nbgrader": {
     "grade": false,
     "grade_id": "cell-3cab1bebd529a56a",
     "locked": true,
     "schema_version": 3,
     "solution": false,
     "task": false
    }
   },
   "source": [
    "Back to our data! Let’s determine which variable is our target and which features we think are important.\n",
    "Our target is going to be the column titled **y** and our features are going to be the columns not containing the words **arm** or **leg** (assume we got this information from our boss or client). Remove all of the columns we don’t need for this analysis. Order the columns lexicographically.\n",
    "\n",
    "<div class=\"alert alert-warning\"> \n",
    "⚠️ <b>NOTE: </b>lexicographic sorting means basically that the language treats the variables as strings and compares character by character (\"200\" is greater than \"19999\" because '2' is greater than '1').\n",
    "</div>\n",
    "    \n",
    "Save the resulting dataframe in `df_clean`. \n",
    "\n",
    "Remember, in this case we're telling you what columns are to be kept, but this is something that is part of your workflow process. **A good data exploration and data cleaning is a key factor in the outcome of your model!**"
   ]
  },
  {
   "cell_type": "code",
   "execution_count": null,
   "id": "f4f580ee",
   "metadata": {
    "deletable": false,
    "nbgrader": {
     "grade": false,
     "grade_id": "cell-138aa6edcbd29190",
     "locked": false,
     "schema_version": 3,
     "solution": true,
     "task": false
    }
   },
   "outputs": [],
   "source": [
    "#df_clean = ...\n",
    "# YOUR CODE HERE\n",
    "raise NotImplementedError()"
   ]
  },
  {
   "cell_type": "code",
   "execution_count": null,
   "id": "d2460fe8",
   "metadata": {
    "deletable": false,
    "editable": false,
    "nbgrader": {
     "grade": true,
     "grade_id": "cell-797514f689b49b52",
     "locked": true,
     "points": 2,
     "schema_version": 3,
     "solution": false,
     "task": false
    }
   },
   "outputs": [],
   "source": [
    "assert isinstance(df_clean, pd.DataFrame), \"Should be a dataframe\"\n",
    "assert df_clean.shape == (100, 21), \"The shape of the dataframe is different than expected. Have you dropped the uncessessary columns?\"\n",
    "assert _hash([step.lower() for step in df_clean.columns], 'salt0') == '64d0d2fe9259036f208c2ef818f158ee866a1968', \"One or more of your column headers is incorrect.\"\n"
   ]
  },
  {
   "cell_type": "markdown",
   "id": "14b9d300",
   "metadata": {
    "deletable": false,
    "editable": false,
    "nbgrader": {
     "grade": false,
     "grade_id": "cell-0febe6071b3fff48",
     "locked": true,
     "schema_version": 3,
     "solution": false,
     "task": false
    }
   },
   "source": [
    "### Exercise 2.3 - EDA\n",
    "\n",
    "Exploratory data analysis (EDA) gives the data scientist an opportunity to really learn about the data they are working with. \n",
    "\n",
    "Throughout the EDA process, I clean the data. Data from the real world is *very messy*. As I work through the EDA process and learn about the data, I take notes on things I need to fix in order to conduct my analysis. Most times, **Data cleaning and EDA go hand in hand for me**."
   ]
  },
  {
   "cell_type": "markdown",
   "id": "1a41caa6",
   "metadata": {
    "deletable": false,
    "editable": false,
    "nbgrader": {
     "grade": false,
     "grade_id": "cell-a19ce7391b2591cd",
     "locked": true,
     "schema_version": 3,
     "solution": false,
     "task": false
    }
   },
   "source": [
    "The first things I check are data types. Getting all of the values in the correct format is important. This can involve stripping characters from strings, converting integers to floats, or many other things."
   ]
  },
  {
   "cell_type": "markdown",
   "id": "ac25c74d",
   "metadata": {
    "deletable": false,
    "editable": false,
    "nbgrader": {
     "grade": false,
     "grade_id": "cell-c1df6eb16892c268",
     "locked": true,
     "schema_version": 3,
     "solution": false,
     "task": false
    }
   },
   "source": [
    "What type of variables are our features? "
   ]
  },
  {
   "cell_type": "code",
   "execution_count": null,
   "id": "0c9a4d86",
   "metadata": {
    "deletable": false,
    "nbgrader": {
     "grade": false,
     "grade_id": "cell-4dfbeeaad55f42af",
     "locked": false,
     "schema_version": 3,
     "solution": true,
     "task": false
    }
   },
   "outputs": [],
   "source": [
    "#answer_2_3 = ...\n",
    "# YOUR CODE HERE\n",
    "raise NotImplementedError()"
   ]
  },
  {
   "cell_type": "code",
   "execution_count": null,
   "id": "27647936",
   "metadata": {
    "deletable": false,
    "editable": false,
    "nbgrader": {
     "grade": true,
     "grade_id": "cell-e82bcea511e8aa79",
     "locked": true,
     "points": 2,
     "schema_version": 3,
     "solution": false,
     "task": false
    }
   },
   "outputs": [],
   "source": [
    "assert _hash(answer_2_3, 'salt0') == '70d410ba8247cfc821d4442f5ad0b48d983138e0', \"Data type is incorrect.\""
   ]
  },
  {
   "cell_type": "markdown",
   "id": "08897511",
   "metadata": {
    "deletable": false,
    "editable": false,
    "nbgrader": {
     "grade": false,
     "grade_id": "cell-c44cf8d3b12a8ec6",
     "locked": true,
     "schema_version": 3,
     "solution": false,
     "task": false
    }
   },
   "source": [
    "### Exercise 2.4 - Impute missing values\n",
    "Finding missing values is quite common. Just replace them in our clean dataframe with the mean of the corresponding column/feature."
   ]
  },
  {
   "cell_type": "code",
   "execution_count": null,
   "id": "40c6d756",
   "metadata": {
    "deletable": false,
    "nbgrader": {
     "grade": false,
     "grade_id": "cell-fc4703b89bf0d85b",
     "locked": false,
     "schema_version": 3,
     "solution": true,
     "task": false
    }
   },
   "outputs": [],
   "source": [
    "#df_clean = ...\n",
    "# YOUR CODE HERE\n",
    "raise NotImplementedError()"
   ]
  },
  {
   "cell_type": "code",
   "execution_count": null,
   "id": "14446f9b",
   "metadata": {
    "deletable": false,
    "editable": false,
    "nbgrader": {
     "grade": true,
     "grade_id": "cell-8443173a170a44d8",
     "locked": true,
     "points": 2,
     "schema_version": 3,
     "solution": false,
     "task": false
    }
   },
   "outputs": [],
   "source": [
    "assert isinstance(df_clean, pd.DataFrame), \"Should be a dataframe\"\n",
    "assert df_clean.isna().sum().sum() == 0, \"Missing values are still present\"\n",
    "assert df_clean.shape == (100, 21), \"The shape of the dataframe is different than expected. Have you dropped the rows with missing data?\"\n",
    "assert math.isclose(df_clean.values.sum(), 127.511, abs_tol=0.01), \"Are you repleacing the missing values by the mean of each column?\" "
   ]
  },
  {
   "cell_type": "markdown",
   "id": "349b8a99",
   "metadata": {
    "deletable": false,
    "editable": false,
    "nbgrader": {
     "grade": false,
     "grade_id": "cell-ddc782874c5a987a",
     "locked": true,
     "schema_version": 3,
     "solution": false,
     "task": false
    }
   },
   "source": [
    "Uff! That took quite some time, but now we have a clean and tidy dataframe to work with!"
   ]
  },
  {
   "cell_type": "markdown",
   "id": "82902ada",
   "metadata": {
    "deletable": false,
    "editable": false,
    "nbgrader": {
     "grade": false,
     "grade_id": "cell-b3cceed7311b4e1f",
     "locked": true,
     "schema_version": 3,
     "solution": false,
     "task": false
    }
   },
   "source": [
    "## Exercise 3 - Baseline modeling"
   ]
  },
  {
   "cell_type": "markdown",
   "id": "db9f1320",
   "metadata": {
    "deletable": false,
    "editable": false,
    "nbgrader": {
     "grade": false,
     "grade_id": "cell-91d8e0995fb8cfe9",
     "locked": true,
     "schema_version": 3,
     "solution": false,
     "task": false
    }
   },
   "source": [
    "As a data scientist, you will build a lot of models. You will use a variety of algorithms to perform a wide variety of tasks. You will need to use intuition and experience to decide when certain models are appropriate! \n",
    "\n",
    "But when constructing your baseline model, the simpler, the better! \n",
    "\n",
    "Let's start!"
   ]
  },
  {
   "cell_type": "markdown",
   "id": "5a454a96",
   "metadata": {
    "deletable": false,
    "editable": false,
    "nbgrader": {
     "grade": false,
     "grade_id": "cell-5cb59cec192c4d69",
     "locked": true,
     "schema_version": 3,
     "solution": false,
     "task": false
    }
   },
   "source": [
    "### Exercise 3.1 - Separate your target value \n",
    "\n",
    "Separate into `X` and `y` your features and your target. Order the columns in `X` as in exercise 2.2. "
   ]
  },
  {
   "cell_type": "code",
   "execution_count": null,
   "id": "940e099a",
   "metadata": {
    "deletable": false,
    "nbgrader": {
     "grade": false,
     "grade_id": "cell-c1c072726b679fe8",
     "locked": false,
     "schema_version": 3,
     "solution": true,
     "task": false
    }
   },
   "outputs": [],
   "source": [
    "#X = ...\n",
    "#y = ...\n",
    "\n",
    "# YOUR CODE HERE\n",
    "raise NotImplementedError()"
   ]
  },
  {
   "cell_type": "code",
   "execution_count": null,
   "id": "30212e96",
   "metadata": {
    "deletable": false,
    "editable": false,
    "nbgrader": {
     "grade": true,
     "grade_id": "cell-d02011f7f3426b07",
     "locked": true,
     "points": 1,
     "schema_version": 3,
     "solution": false,
     "task": false
    }
   },
   "outputs": [],
   "source": [
    "assert _hash(list(y), 'salt0') == '917a4dd4b91497ba8c83f4d64b5d27642af0ce4f', \"Have you picked the right column as the target?\"\n",
    "assert X.shape == (100, 20), \"The shape of the dataframe is different than expected. Have you dropped the target?\"\n",
    "assert _hash(sorted(X.columns), 'salt0') == 'df65a7cdfbc4e774e8e18dbc46c7faeb42dc4c27', \"Have you included the right columns in X?\""
   ]
  },
  {
   "cell_type": "markdown",
   "id": "3dc49702",
   "metadata": {
    "deletable": false,
    "editable": false,
    "nbgrader": {
     "grade": false,
     "grade_id": "cell-7ad60c0b0b46ef11",
     "locked": true,
     "schema_version": 3,
     "solution": false,
     "task": false
    }
   },
   "source": [
    "### Exercise 3.2 - Split data\n",
    "\n",
    "Split your dataset into test and train data, using `test_size=0.2` and `random_state=42` on your `train_test_split()`"
   ]
  },
  {
   "cell_type": "code",
   "execution_count": null,
   "id": "61bdd29d",
   "metadata": {
    "deletable": false,
    "nbgrader": {
     "grade": false,
     "grade_id": "cell-0a59ceb29b6e7a7b",
     "locked": false,
     "schema_version": 3,
     "solution": true,
     "task": false
    }
   },
   "outputs": [],
   "source": [
    "#X_train, X_test, y_train, y_test = ...\n",
    "# YOUR CODE HERE\n",
    "raise NotImplementedError()"
   ]
  },
  {
   "cell_type": "code",
   "execution_count": null,
   "id": "0876dc7d",
   "metadata": {
    "deletable": false,
    "editable": false,
    "nbgrader": {
     "grade": true,
     "grade_id": "cell-eda4965289c315c6",
     "locked": true,
     "points": 1,
     "schema_version": 3,
     "solution": false,
     "task": false
    }
   },
   "outputs": [],
   "source": [
    "assert (X_train.shape, X_test.shape, y_train.shape, y_test.shape) == ((80, 20), (20, 20), (80,), (20,)), \"have you split the data correctly? Test size should be 0.2\""
   ]
  },
  {
   "cell_type": "markdown",
   "id": "d12f74a3",
   "metadata": {
    "deletable": false,
    "editable": false,
    "nbgrader": {
     "grade": false,
     "grade_id": "cell-cbbe2d32e51c944c",
     "locked": true,
     "schema_version": 3,
     "solution": false,
     "task": false
    }
   },
   "source": [
    "### Exercise 3.3 - Scale your data\n",
    "As we are not sure whether the features units of measures are in the same scale, you should scale your X_train and X_test dataframes separately, to avoid data leakage. Use `MinMaxScaler`."
   ]
  },
  {
   "cell_type": "code",
   "execution_count": null,
   "id": "1aab4a81",
   "metadata": {
    "deletable": false,
    "nbgrader": {
     "grade": false,
     "grade_id": "cell-fe58c296cca28681",
     "locked": false,
     "schema_version": 3,
     "solution": true,
     "task": false
    }
   },
   "outputs": [],
   "source": [
    "# corr_X_train = ...\n",
    "# corr_X_test = ...\n",
    "\n",
    "# YOUR CODE HERE\n",
    "raise NotImplementedError()"
   ]
  },
  {
   "cell_type": "code",
   "execution_count": null,
   "id": "4cf030eb",
   "metadata": {},
   "outputs": [],
   "source": [
    "sum(corr_X_test[:,4])"
   ]
  },
  {
   "cell_type": "code",
   "execution_count": null,
   "id": "632e4395",
   "metadata": {
    "deletable": false,
    "editable": false,
    "nbgrader": {
     "grade": true,
     "grade_id": "cell-cc5e79e6d94f3521",
     "locked": true,
     "points": 1,
     "schema_version": 3,
     "solution": false,
     "task": false
    }
   },
   "outputs": [],
   "source": [
    "assert math.isclose(sum(corr_X_train[:,1]), 42.14, abs_tol=0.01), \"have you used the correct scaler?\"\n",
    "assert math.isclose(sum(corr_X_test[:,4]), 11.78, abs_tol=0.01), \"have you used the correct scaler?\"\n"
   ]
  },
  {
   "cell_type": "markdown",
   "id": "a406d6aa",
   "metadata": {
    "deletable": false,
    "editable": false,
    "nbgrader": {
     "grade": false,
     "grade_id": "cell-46502ca5406d2e19",
     "locked": true,
     "schema_version": 3,
     "solution": false,
     "task": false
    }
   },
   "source": [
    "### Exercise 3.4 - Finally! The model!\n",
    "\n",
    "We can finally make our predictions with a simple Random Forest Classifier!"
   ]
  },
  {
   "cell_type": "code",
   "execution_count": null,
   "id": "7fd43740",
   "metadata": {
    "deletable": false,
    "nbgrader": {
     "grade": false,
     "grade_id": "cell-6423f554ffdba88d",
     "locked": false,
     "schema_version": 3,
     "solution": true,
     "task": false
    }
   },
   "outputs": [],
   "source": [
    "#rf = RandomForestClassifier()\n",
    "#model = rf.fit(..., ... )\n",
    "#predictions = rf.predict(...)\n",
    "# YOUR CODE HERE\n",
    "raise NotImplementedError()"
   ]
  },
  {
   "cell_type": "code",
   "execution_count": null,
   "id": "6d54b964",
   "metadata": {
    "deletable": false,
    "editable": false,
    "nbgrader": {
     "grade": true,
     "grade_id": "cell-408ce12cfa728ad1",
     "locked": true,
     "points": 2,
     "schema_version": 3,
     "solution": false,
     "task": false
    }
   },
   "outputs": [],
   "source": [
    "assert predictions.size == 20\n",
    "plot_confusion_matrix(y_test, predictions)\n",
    "\n",
    "print ('Accuracy score:', accuracy_score(y_test, predictions)) "
   ]
  },
  {
   "cell_type": "markdown",
   "id": "13696d98",
   "metadata": {
    "deletable": false,
    "editable": false,
    "nbgrader": {
     "grade": false,
     "grade_id": "cell-92d7a5fdbef2f1a3",
     "locked": true,
     "schema_version": 3,
     "solution": false,
     "task": false
    }
   },
   "source": [
    "Our model is not performing bad at all! If you want to improve it, you should make **small alterations**, **one at a time**! Keeping track of your changes is crucial to know exactly what change is helping or hurting your model! "
   ]
  },
  {
   "cell_type": "markdown",
   "id": "be092b5e",
   "metadata": {
    "deletable": false,
    "editable": false,
    "nbgrader": {
     "grade": false,
     "grade_id": "cell-75dbbef7bea9c43b",
     "locked": true,
     "schema_version": 3,
     "solution": false,
     "task": false
    }
   },
   "source": [
    "## Exercise 4 - Pipelines!!!!! "
   ]
  },
  {
   "cell_type": "markdown",
   "id": "b6eed118",
   "metadata": {
    "deletable": false,
    "editable": false,
    "nbgrader": {
     "grade": false,
     "grade_id": "cell-953febcd52772794",
     "locked": true,
     "schema_version": 3,
     "solution": false,
     "task": false
    }
   },
   "source": [
    "We've already loaded and splitted a dataset for the following exercises. They're stored in the `new_X_train`, `new_X_test`, `new_y_train` and `new_y_test` variables.\n",
    "\n",
    "In a perfect world, where you have all your data clean and ready-to-go, you can create your pipeline with just Scikit-learn's Transformers. However, in the real world, that's not the case, and you'll need to create custom Transformers to get the job done. Take a look at the data set, what do you see?"
   ]
  },
  {
   "cell_type": "code",
   "execution_count": null,
   "id": "b11d317e",
   "metadata": {
    "deletable": false,
    "editable": false,
    "nbgrader": {
     "grade": false,
     "grade_id": "cell-a3811573c704e68e",
     "locked": true,
     "schema_version": 3,
     "solution": false,
     "task": false
    }
   },
   "outputs": [],
   "source": [
    "new_X, new_y = get_dataset()  # preloaded dataset\n",
    "new_X_train, new_X_test, new_y_train, new_y_test = train_test_split(new_X, new_y, test_size=0.33)"
   ]
  },
  {
   "cell_type": "code",
   "execution_count": null,
   "id": "95ce38ba",
   "metadata": {},
   "outputs": [],
   "source": [
    "# use this cell to explore the data\n",
    "# do you notice something interesting in the data?"
   ]
  },
  {
   "cell_type": "markdown",
   "id": "f926376c",
   "metadata": {
    "deletable": false,
    "editable": false,
    "nbgrader": {
     "grade": false,
     "grade_id": "cell-bab71226281048e5",
     "locked": true,
     "schema_version": 3,
     "solution": false,
     "task": false
    }
   },
   "source": [
    "As you can see, it's the exact same dataset from the previous exercises! The same issues have returned:\n",
    "\n",
    "- There are 4 columns whose name starts with either arm or leg which are all filled with gibberish.\n",
    "- There are some missing values in some columns.\n",
    "\n",
    "So, first things first, let's get rid of those columns with gibberish through a **Custom Transformer**, so we can plug it in a Scikit Pipeline after."
   ]
  },
  {
   "cell_type": "markdown",
   "id": "94e89ddb",
   "metadata": {
    "deletable": false,
    "editable": false,
    "nbgrader": {
     "grade": false,
     "grade_id": "cell-c111570451988ca9",
     "locked": true,
     "schema_version": 3,
     "solution": false,
     "task": false
    }
   },
   "source": [
    "### Exercise 4.1 - Custom Transformer"
   ]
  },
  {
   "cell_type": "code",
   "execution_count": null,
   "id": "376cfb92",
   "metadata": {
    "deletable": false,
    "nbgrader": {
     "grade": false,
     "grade_id": "cell-dc3fa4786483541e",
     "locked": false,
     "schema_version": 3,
     "solution": true,
     "task": false
    }
   },
   "outputs": [],
   "source": [
    "# Create a pipeline step called RemoveLimbs that removes any\n",
    "# column whose name starts with the string 'arm' or ´leg´\n",
    "\n",
    "# YOUR CODE HERE\n",
    "raise NotImplementedError()"
   ]
  },
  {
   "cell_type": "code",
   "execution_count": null,
   "id": "d68742df",
   "metadata": {
    "deletable": false,
    "editable": false,
    "nbgrader": {
     "grade": true,
     "grade_id": "cell-b91664f72233c2c7",
     "locked": true,
     "points": 3,
     "schema_version": 3,
     "solution": false,
     "task": false
    }
   },
   "outputs": [],
   "source": [
    "assert issubclass(RemoveLimbs, TransformerMixin)\n",
    "assert _hash(sorted(RemoveLimbs().fit_transform(new_X).columns), 'salt5') == '71443dfc3077d773d4c74e958dadf91dc2cc148a'\n",
    "assert _hash(list(map(lambda col: col.startswith('arm') or col.startswith('leg'), RemoveLimbs().fit_transform(new_X_train).columns)), 'salt6') == 'ce45cf3759d2210f2d1315f1673b18f34e3ac711'"
   ]
  },
  {
   "cell_type": "markdown",
   "id": "b4d6b7a6",
   "metadata": {
    "deletable": false,
    "editable": false,
    "nbgrader": {
     "grade": false,
     "grade_id": "cell-57a63eb58da3b85b",
     "locked": true,
     "schema_version": 3,
     "solution": false,
     "task": false
    }
   },
   "source": [
    "### Exercise 4.2 - Pipelines are the best!\n",
    "\n",
    "Now that we have our Custom Transformer in place, we can design our pipeline! \n",
    "\n",
    "Create a pipeline with the following steps:\n",
    "\n",
    "1. Removes limbs columns\n",
    "2. Imputes missing values with the mean\n",
    "3. Has a Random Forest Classifier as the last step\n",
    "\n",
    "You may use `make_pipeline` to create your pipeline with as many steps as you want as long as the first two are the Custom Transformer you developed previously, a `SimpleImputer` as the second step, and a `RandomForestClassifier` as the last step. Save your pipeline into a variable named `pipeline`!"
   ]
  },
  {
   "cell_type": "code",
   "execution_count": null,
   "id": "3f2502c2",
   "metadata": {
    "deletable": false,
    "nbgrader": {
     "grade": false,
     "grade_id": "cell-178a0f61ec49c4ac",
     "locked": false,
     "schema_version": 3,
     "solution": true,
     "task": false
    }
   },
   "outputs": [],
   "source": [
    "# pipeline = make_pipeline(...)\n",
    "# YOUR CODE HERE\n",
    "raise NotImplementedError()"
   ]
  },
  {
   "cell_type": "code",
   "execution_count": null,
   "id": "d86f2a3d",
   "metadata": {
    "deletable": false,
    "editable": false,
    "nbgrader": {
     "grade": true,
     "grade_id": "cell-3939f2f56f82f742",
     "locked": true,
     "points": 3,
     "schema_version": 3,
     "solution": false,
     "task": false
    }
   },
   "outputs": [],
   "source": [
    "assert _hash(pipeline.steps[0][0], 'salt7') == '471b02068ac2c4f479c2e9f85f4b3dc2179bb841'\n",
    "assert _hash(pipeline.steps[1][0], 'salt8') == 'ca83eaea1a7e243fa5574cfa6f52831166ee0f32'\n",
    "assert _hash(pipeline.steps[-1][0], 'salt9') == '0d66ba4309ad4939673169e74f87088dcadd510b'"
   ]
  },
  {
   "cell_type": "markdown",
   "id": "b64ba237",
   "metadata": {
    "deletable": false,
    "editable": false,
    "nbgrader": {
     "grade": false,
     "grade_id": "cell-b813e89a08b2880e",
     "locked": true,
     "schema_version": 3,
     "solution": false,
     "task": false
    }
   },
   "source": [
    "Does it work? Let's check it out on our dataset!"
   ]
  },
  {
   "cell_type": "code",
   "execution_count": null,
   "id": "21ecbaec",
   "metadata": {
    "deletable": false,
    "editable": false,
    "nbgrader": {
     "grade": false,
     "grade_id": "cell-aa9293b40285d113",
     "locked": true,
     "schema_version": 3,
     "solution": false,
     "task": false
    }
   },
   "outputs": [],
   "source": [
    "pipeline.fit(new_X_train, new_y_train)\n",
    "new_y_pred = pipeline.predict(new_X_test)\n",
    "accuracy_score(new_y_test, new_y_pred)"
   ]
  },
  {
   "cell_type": "markdown",
   "id": "5cb9341e",
   "metadata": {
    "deletable": false,
    "editable": false,
    "nbgrader": {
     "grade": false,
     "grade_id": "cell-20bc44001d7869f9",
     "locked": true,
     "schema_version": 3,
     "solution": false,
     "task": false
    }
   },
   "source": [
    "It doesn't get much simpler that this, does it?\n",
    "\n",
    "For an extra challenge, go back to exercises 2 and 3 and follow our workflow but with a Pipeline! For each special processing we've done, you can create a custom transformer for that column! \n",
    "\n",
    "Dominating pipelines and custom transformers can be a huge time saver! And there's the hackathon ahead...\n",
    "\n",
    "**Good luck!**"
   ]
  }
 ],
 "metadata": {
  "kernelspec": {
   "display_name": "Python 3 (ipykernel)",
   "language": "python",
   "name": "python3"
  },
  "language_info": {
   "codemirror_mode": {
    "name": "ipython",
    "version": 3
   },
   "file_extension": ".py",
   "mimetype": "text/x-python",
   "name": "python",
   "nbconvert_exporter": "python",
   "pygments_lexer": "ipython3",
   "version": "3.10.1"
  }
 },
 "nbformat": 4,
 "nbformat_minor": 5
}
