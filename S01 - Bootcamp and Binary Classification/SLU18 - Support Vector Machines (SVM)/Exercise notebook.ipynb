{
 "cells": [
  {
   "cell_type": "markdown",
   "metadata": {
    "colab_type": "text",
    "deletable": false,
    "editable": false,
    "id": "rgxop-ItOnj4",
    "nbgrader": {
     "grade": false,
     "grade_id": "cell-254bd7a206376bba",
     "locked": true,
     "schema_version": 3,
     "solution": false
    }
   },
   "source": [
    "# SLU18 - Support Vector Machines (SVM): Exercise notebook"
   ]
  },
  {
   "cell_type": "code",
   "execution_count": null,
   "metadata": {
    "colab": {},
    "colab_type": "code",
    "deletable": false,
    "editable": false,
    "id": "fqe0JO39wGW2",
    "nbgrader": {
     "grade": false,
     "grade_id": "cell-57ac5b1f8841f297",
     "locked": true,
     "schema_version": 3,
     "solution": false
    }
   },
   "outputs": [],
   "source": [
    "import pandas as pd\n",
    "import numpy as np\n",
    "import hashlib\n",
    "import json\n",
    "\n",
    "# These will be needed to prepare the dataset\n",
    "from sklearn.model_selection import train_test_split\n",
    "from sklearn.preprocessing import StandardScaler\n",
    "from sklearn.svm import SVC, SVR\n",
    "\n",
    "# Seed for reproducibility\n",
    "np.random.seed(42)"
   ]
  },
  {
   "cell_type": "markdown",
   "metadata": {
    "colab_type": "text",
    "deletable": false,
    "editable": false,
    "id": "C_gLpKpCOJNy",
    "nbgrader": {
     "grade": false,
     "grade_id": "cell-3cdfa45b797d48d4",
     "locked": true,
     "schema_version": 3,
     "solution": false
    }
   },
   "source": [
    "**Let the Music Play**\n",
    "\n",
    "The year is 2020 and due to the Covid-19 pandemic you spend a lot more time inside than you used to. You realize that one of the few things that people can still do (almost) the same way as before is listen to music. Thus, you decide to use your data skills to surprise one of your friends. To do so, you use data about your friend's listening habits and try to make a classifier that predicts whether your friend will like a song based on some attributes. "
   ]
  },
  {
   "cell_type": "code",
   "execution_count": null,
   "metadata": {
    "colab": {
     "base_uri": "https://localhost:8080/",
     "height": 306
    },
    "colab_type": "code",
    "deletable": false,
    "editable": false,
    "id": "kVbOYdE0la1K",
    "nbgrader": {
     "grade": false,
     "grade_id": "cell-87ba0a3136253b02",
     "locked": true,
     "schema_version": 3,
     "solution": false
    },
    "outputId": "29caa707-c737-4f16-eae7-1b9b17a8ff33"
   },
   "outputs": [],
   "source": [
    "songs_df = pd.read_csv(\"data/song_data.csv\", index_col=\"id\")\n",
    "print(songs_df.shape)\n",
    "songs_df.head()"
   ]
  },
  {
   "cell_type": "markdown",
   "metadata": {
    "colab_type": "text",
    "deletable": false,
    "editable": false,
    "id": "yaEYIRyowGXC",
    "nbgrader": {
     "grade": false,
     "grade_id": "cell-617054ceb45eb34a",
     "locked": true,
     "schema_version": 3,
     "solution": false
    }
   },
   "source": [
    "The data contains information about which songs your friend liked or not in the `target` column. It also contains several attributes about each song that you suspect will be useful to infer your friend's musical taste. In this case, you decide to drop the song title and artist as you are more interested in the musical attributes. "
   ]
  },
  {
   "cell_type": "code",
   "execution_count": null,
   "metadata": {
    "colab": {},
    "colab_type": "code",
    "deletable": false,
    "editable": false,
    "id": "ulNZK6YBOOC5",
    "nbgrader": {
     "grade": false,
     "grade_id": "cell-d0dbd914f45ecd5c",
     "locked": true,
     "schema_version": 3,
     "solution": false
    }
   },
   "outputs": [],
   "source": [
    "songs_df = songs_df.drop(columns=[\"song_title\", \"artist\"])\n",
    "songs_df.head()"
   ]
  },
  {
   "cell_type": "markdown",
   "metadata": {},
   "source": [
    "The dataset is balanced:"
   ]
  },
  {
   "cell_type": "code",
   "execution_count": null,
   "metadata": {
    "colab": {
     "base_uri": "https://localhost:8080/",
     "height": 68
    },
    "colab_type": "code",
    "deletable": false,
    "editable": false,
    "id": "V0d5O097OXVh",
    "nbgrader": {
     "grade": false,
     "grade_id": "cell-b3232f22b831bc24",
     "locked": true,
     "schema_version": 3,
     "solution": false
    },
    "outputId": "38ea7a86-4f01-4a13-847f-eb0f7f84e269"
   },
   "outputs": [],
   "source": [
    "songs_df.target.value_counts(normalize=True)"
   ]
  },
  {
   "cell_type": "markdown",
   "metadata": {
    "colab_type": "text",
    "deletable": false,
    "editable": false,
    "id": "ezi2npWAO7AQ",
    "nbgrader": {
     "grade": false,
     "grade_id": "cell-e8df8f9f8ae9ed8e",
     "locked": true,
     "schema_version": 3,
     "solution": false
    }
   },
   "source": [
    "Since the target variable is binary, you are faced with a binary classification problem. You remember that really cool support vector machines and decide to give them a shot. \n",
    "\n",
    "In order to properly train and evaluate your models, you split your dataset into train set and test set and scale the data."
   ]
  },
  {
   "cell_type": "code",
   "execution_count": null,
   "metadata": {
    "colab": {
     "base_uri": "https://localhost:8080/",
     "height": 85
    },
    "colab_type": "code",
    "deletable": false,
    "editable": false,
    "id": "1CGdOhv54GzY",
    "nbgrader": {
     "grade": false,
     "grade_id": "cell-7085934969b8c3d5",
     "locked": true,
     "schema_version": 3,
     "solution": false
    },
    "outputId": "77e4a3a7-cb07-4bfd-cf03-8edd23a1fa43"
   },
   "outputs": [],
   "source": [
    "def get_X_y_train_test(df, target_col):\n",
    "    \"\"\"\n",
    "    Convert the input dataframe df into the\n",
    "    train and test features and targets\n",
    "    \"\"\"\n",
    "    X = df.drop(target_col, axis=1)\n",
    "    y = df[target_col]\n",
    "    # train test split\n",
    "    X_train, X_test, y_train, y_test = train_test_split(X, y, test_size=0.2, random_state=42)\n",
    "\n",
    "    # SVMs are not scale invariant, so you scale your data beforehand\n",
    "    scaler = StandardScaler()\n",
    "    X_train = scaler.fit_transform(X_train)\n",
    "    X_test = scaler.transform(X_test)\n",
    "\n",
    "    print(\"X_train of shape \", X_train.shape)\n",
    "    print(\"y_train of shape \", y_train.shape)\n",
    "    print(\"X_test of shape  \", X_test.shape)\n",
    "    print(\"y_test of shape  \", y_test.shape)\n",
    "    \n",
    "    return X_train, X_test, y_train, y_test "
   ]
  },
  {
   "cell_type": "code",
   "execution_count": null,
   "metadata": {
    "deletable": false,
    "editable": false,
    "nbgrader": {
     "grade": false,
     "grade_id": "cell-b8c950c92122ae2b",
     "locked": true,
     "schema_version": 3,
     "solution": false,
     "task": false
    }
   },
   "outputs": [],
   "source": [
    "X_train, X_test, y_train, y_test = get_X_y_train_test(songs_df, target_col=\"target\")"
   ]
  },
  {
   "cell_type": "markdown",
   "metadata": {
    "colab_type": "text",
    "deletable": false,
    "editable": false,
    "id": "QsMIFwDxKG5i",
    "nbgrader": {
     "grade": false,
     "grade_id": "cell-0cc9714058c33112",
     "locked": true,
     "schema_version": 3,
     "solution": false
    }
   },
   "source": [
    "## Exercise 1: Support Vector Classifier\n",
    "\n",
    "### Exercise 1.1: Train the classifier \n",
    "Use a support vector classifier to predict which songs your friend will like. \n",
    "\n",
    "Assign the classifier to the `svc_linear` variable and fit it to the data. Use the appropriate kernel. Calculate the score of the classifier on the test data and assign it to the variable `svc_linear_score`."
   ]
  },
  {
   "cell_type": "code",
   "execution_count": null,
   "metadata": {
    "colab": {
     "base_uri": "https://localhost:8080/",
     "height": 51
    },
    "colab_type": "code",
    "deletable": false,
    "id": "qUZJGsBURQhi",
    "nbgrader": {
     "grade": false,
     "grade_id": "cell-8920bb9ecefbc8b4",
     "locked": false,
     "schema_version": 3,
     "solution": true
    },
    "outputId": "528b3417-3213-462c-de16-1d870d9ddb4e"
   },
   "outputs": [],
   "source": [
    "# svc_linear = ...\n",
    "# svc_linear_score = ...\n",
    "# YOUR CODE HERE\n",
    "raise NotImplementedError()"
   ]
  },
  {
   "cell_type": "code",
   "execution_count": null,
   "metadata": {
    "colab": {},
    "colab_type": "code",
    "deletable": false,
    "editable": false,
    "id": "jRt00Vo26BkT",
    "nbgrader": {
     "grade": true,
     "grade_id": "cell-0ebe02e7c2c3ed67",
     "locked": true,
     "points": 3,
     "schema_version": 3,
     "solution": false
    }
   },
   "outputs": [],
   "source": [
    "assert isinstance(svc_linear, SVC), 'The classifier is not an SVC.'\n",
    "assert hashlib.sha256(json.dumps(svc_linear.kernel).encode()).hexdigest() == \\\n",
    "'4dd109ad15a2481c6cd88948a95b3116061fd1b966bef5c92481ec848e167829', 'The kernel is not correct.'\n",
    "np.testing.assert_almost_equal(svc_linear_score, 0.65, decimal = 2, err_msg='The score is not correct.')"
   ]
  },
  {
   "cell_type": "markdown",
   "metadata": {
    "colab_type": "text",
    "deletable": false,
    "editable": false,
    "id": "ug9wiVNbINMT",
    "nbgrader": {
     "grade": false,
     "grade_id": "cell-d8c4a03ff9f9cd4e",
     "locked": true,
     "schema_version": 3,
     "solution": false
    }
   },
   "source": [
    "### Exercise 1.2: Number of support vectors\n",
    "Obtain the number of support vectors for each class. You will need to check the documentation."
   ]
  },
  {
   "cell_type": "code",
   "execution_count": null,
   "metadata": {
    "colab": {
     "base_uri": "https://localhost:8080/",
     "height": 34
    },
    "colab_type": "code",
    "deletable": false,
    "id": "i88Ec-I-IL9G",
    "nbgrader": {
     "grade": false,
     "grade_id": "cell-efb40a29deffe5e8",
     "locked": false,
     "schema_version": 3,
     "solution": true
    },
    "outputId": "a2ad1241-4e8a-4050-9c1b-ab5e0d4d945e"
   },
   "outputs": [],
   "source": [
    "# sv_class_1 = ...\n",
    "# sv_class_2 = ...\n",
    "\n",
    "# YOUR CODE HERE\n",
    "raise NotImplementedError()"
   ]
  },
  {
   "cell_type": "code",
   "execution_count": null,
   "metadata": {
    "colab": {},
    "colab_type": "code",
    "deletable": false,
    "editable": false,
    "id": "Jar15WRuIfxz",
    "nbgrader": {
     "grade": true,
     "grade_id": "cell-4ce8206f82589201",
     "locked": true,
     "points": 2,
     "schema_version": 3,
     "solution": false
    }
   },
   "outputs": [],
   "source": [
    "assert hashlib.sha256(json.dumps(str(sv_class_1)).encode()).hexdigest() == \\\n",
    "'a7ef5f997803c55d6b5b03ac733bb52e045d9f7c0a60fb066b3d2d32c877baa2', 'The number of support vectors of class 1 is not correct.'\n",
    "assert  hashlib.sha256(json.dumps(str(sv_class_2)).encode()).hexdigest() == \\\n",
    "'edc90998c425418d30e05bb7e28a3036933695a18eaae0badee98aaa66bddddb', 'The number of support vectors of class 2 is not correct.'"
   ]
  },
  {
   "cell_type": "markdown",
   "metadata": {
    "colab_type": "text",
    "deletable": false,
    "editable": false,
    "id": "Y8xtMvfbHkFX",
    "nbgrader": {
     "grade": false,
     "grade_id": "cell-ef314c4189559471",
     "locked": true,
     "schema_version": 3,
     "solution": false
    }
   },
   "source": [
    "### Exercise 1.3: Support vectors\n",
    "Obtain the array of the support vectors for the classifier from exercise 1.1."
   ]
  },
  {
   "cell_type": "code",
   "execution_count": null,
   "metadata": {
    "colab": {
     "base_uri": "https://localhost:8080/",
     "height": 34
    },
    "colab_type": "code",
    "deletable": false,
    "id": "KBmNh9nlHrdN",
    "nbgrader": {
     "grade": false,
     "grade_id": "cell-c1c38a43fdc6fac5",
     "locked": false,
     "schema_version": 3,
     "solution": true
    },
    "outputId": "fa7eaf0d-62ff-4cb9-99a1-6f1d04fd0889"
   },
   "outputs": [],
   "source": [
    "# s_vectors = ...\n",
    "\n",
    "# YOUR CODE HERE\n",
    "raise NotImplementedError()"
   ]
  },
  {
   "cell_type": "code",
   "execution_count": null,
   "metadata": {
    "colab": {},
    "colab_type": "code",
    "deletable": false,
    "editable": false,
    "id": "VhZYExZNH8tE",
    "nbgrader": {
     "grade": true,
     "grade_id": "cell-c25c5fd4aae06e2a",
     "locked": true,
     "points": 2,
     "schema_version": 3,
     "solution": false
    }
   },
   "outputs": [],
   "source": [
    "assert s_vectors.shape == (1242,13), 'The shape of the array is not correct.'\n",
    "np.testing.assert_almost_equal(s_vectors.mean(), -0.009, decimal = 3, err_msg='The support vectors are not correct.')\n",
    "np.testing.assert_almost_equal(s_vectors.var(), 0.93, decimal = 2, err_msg='The support vectors are not correct.')\n",
    "np.testing.assert_almost_equal(s_vectors.max(), 9.03, decimal = 2, err_msg='The support vectors are not correct.')\n",
    "np.testing.assert_almost_equal(s_vectors.min(), -6.958, decimal = 3, err_msg='The support vectors are not correct.')"
   ]
  },
  {
   "cell_type": "markdown",
   "metadata": {
    "colab_type": "text",
    "deletable": false,
    "editable": false,
    "id": "b6D_b8UaLp7P",
    "nbgrader": {
     "grade": false,
     "grade_id": "cell-482d56ba7fd11545",
     "locked": true,
     "schema_version": 3,
     "solution": false
    }
   },
   "source": [
    "### Exercise 1.4 : Tuning parameter\n",
    "Create an SVC classifier with a linear kernel and set the tuning parameter value to 10. Calculate the score of the classifier."
   ]
  },
  {
   "cell_type": "code",
   "execution_count": null,
   "metadata": {
    "colab": {
     "base_uri": "https://localhost:8080/",
     "height": 51
    },
    "colab_type": "code",
    "deletable": false,
    "id": "01FdtEXpLpYS",
    "nbgrader": {
     "grade": false,
     "grade_id": "cell-c14bf9c897aec687",
     "locked": false,
     "schema_version": 3,
     "solution": true
    },
    "outputId": "98491b7b-17c6-4e43-e8da-d846756603c4"
   },
   "outputs": [],
   "source": [
    "# svc_linear_10 = ...\n",
    "# svc_linear_10_score = ...\n",
    "\n",
    "# YOUR CODE HERE\n",
    "raise NotImplementedError()"
   ]
  },
  {
   "cell_type": "code",
   "execution_count": null,
   "metadata": {
    "colab": {},
    "colab_type": "code",
    "deletable": false,
    "editable": false,
    "id": "pp4GGNg-wGX0",
    "nbgrader": {
     "grade": true,
     "grade_id": "cell-b93d3d54a5cf248d",
     "locked": true,
     "points": 2,
     "schema_version": 3,
     "solution": false
    }
   },
   "outputs": [],
   "source": [
    "assert isinstance(svc_linear_10, SVC), 'The classifier is not an SVC.'\n",
    "assert hashlib.sha256(json.dumps(svc_linear_10.kernel).encode()).hexdigest() == \\\n",
    "'4dd109ad15a2481c6cd88948a95b3116061fd1b966bef5c92481ec848e167829', 'The kernel is not correct.'\n",
    "assert hashlib.sha256(json.dumps(svc_linear_10.C).encode()).hexdigest() == \\\n",
    "'4a44dc15364204a80fe80e9039455cc1608281820fe2b24f1e5233ade6af1dd5', 'The value of C is not correct.'\n",
    "np.testing.assert_almost_equal(svc_linear_10_score, 0.65, decimal = 2, err_msg='The score is not correct.')"
   ]
  },
  {
   "cell_type": "markdown",
   "metadata": {
    "colab_type": "text",
    "deletable": false,
    "editable": false,
    "id": "iGYGZszuLvSu",
    "nbgrader": {
     "grade": false,
     "grade_id": "cell-54e36a9e1dc6257d",
     "locked": true,
     "schema_version": 3,
     "solution": false
    }
   },
   "source": [
    "## Exercise 2 : Support Vector Machine\n",
    "Having tried the Support Vector Classifier, you turn to Support Vector Machine to see if it peforms better. You wonder which kernel you should use, and decide to start with the polynomial kernel."
   ]
  },
  {
   "cell_type": "markdown",
   "metadata": {
    "colab_type": "text",
    "deletable": false,
    "editable": false,
    "id": "yjQbXoiDrvZ6",
    "nbgrader": {
     "grade": false,
     "grade_id": "cell-3e43d60fe3d99a1c",
     "locked": true,
     "schema_version": 3,
     "solution": false
    }
   },
   "source": [
    "### Exercise 1.2: Polynomial SVM \n",
    "Create an SVM with a polynomial kernel of degree 2. Fit the model to the train data and create the predictions on the test data."
   ]
  },
  {
   "cell_type": "code",
   "execution_count": null,
   "metadata": {
    "colab": {
     "base_uri": "https://localhost:8080/",
     "height": 68
    },
    "colab_type": "code",
    "deletable": false,
    "id": "Ek8trgJ77dkG",
    "nbgrader": {
     "grade": false,
     "grade_id": "cell-172e3bd2b364b440",
     "locked": false,
     "schema_version": 3,
     "solution": true
    },
    "outputId": "534bae8e-3d4d-4314-cb18-1390b34e1d33"
   },
   "outputs": [],
   "source": [
    "# Use these variables for the classifier and the predictions.\n",
    "# svm_poly = ...\n",
    "# svm_poly_preds = ...\n",
    "\n",
    "# YOUR CODE HERE\n",
    "raise NotImplementedError()"
   ]
  },
  {
   "cell_type": "code",
   "execution_count": null,
   "metadata": {
    "colab": {},
    "colab_type": "code",
    "deletable": false,
    "editable": false,
    "id": "dR8vE1EE73fd",
    "nbgrader": {
     "grade": true,
     "grade_id": "cell-4cbba809efaac32d",
     "locked": true,
     "points": 4,
     "schema_version": 3,
     "solution": false
    }
   },
   "outputs": [],
   "source": [
    "assert isinstance(svm_poly, SVC), 'The classifier is not of the correct type.'\n",
    "assert hashlib.sha256(json.dumps(svm_poly.kernel).encode()).hexdigest() == \\\n",
    "'725a22fa9523486de6898066949541f8c8a3a994612812068f844a48f6e2acd4', 'The kernel is not correct.'\n",
    "assert svm_poly.degree == 2, 'Incorrect polynomial degree.'\n",
    "assert  hashlib.sha256(json.dumps(''.join([str(i) for i in svm_poly_preds])).encode()).hexdigest() == \\\n",
    "'40c6929ff4cb7fd3187181f555c87ee06f64c6f0e18952fb62892de7f0015303', 'The predictions are not correct.'\n",
    "print(f'The score of the polynomial SVM is {svm_poly.score(X_test,y_test)}.')"
   ]
  },
  {
   "cell_type": "markdown",
   "metadata": {},
   "source": [
    "### Exercise 2.2: Radial SVM\n",
    "Create an SVM with a radial kernel. Fit the model to the train data and create the predictions on the test data."
   ]
  },
  {
   "cell_type": "code",
   "execution_count": null,
   "metadata": {
    "colab": {
     "base_uri": "https://localhost:8080/",
     "height": 51
    },
    "colab_type": "code",
    "deletable": false,
    "id": "5F_zDFNyEzHl",
    "nbgrader": {
     "grade": false,
     "grade_id": "cell-67987e9e5c2a81e8",
     "locked": false,
     "schema_version": 3,
     "solution": true
    },
    "outputId": "c530dab8-4c09-47d9-dea2-914a416b87a3"
   },
   "outputs": [],
   "source": [
    "# svm_radial = ...\n",
    "# svm_radial_preds = ...\n",
    "\n",
    "# YOUR CODE HERE\n",
    "raise NotImplementedError()"
   ]
  },
  {
   "cell_type": "code",
   "execution_count": null,
   "metadata": {
    "colab": {},
    "colab_type": "code",
    "deletable": false,
    "editable": false,
    "id": "pWXBFNDH7oFl",
    "nbgrader": {
     "grade": true,
     "grade_id": "cell-7762a654a5c9e0bb",
     "locked": true,
     "points": 4,
     "schema_version": 3,
     "solution": false
    }
   },
   "outputs": [],
   "source": [
    "assert isinstance(svm_radial, SVC), 'The classifier is not of the correct type.'\n",
    "assert hashlib.sha256(json.dumps(svm_radial.kernel).encode()).hexdigest() == \\\n",
    "'215cfefb3870cb23e2b12025254dfbc170f86d077a0ffb9ed442c90a36a64f51', 'The kernel is not correct.'\n",
    "assert  hashlib.sha256(json.dumps(''.join([str(i) for i in svm_radial_preds])).encode()).hexdigest() == \\\n",
    "'2b5f86435b20021d1ade9acfc1cc7334533b71a90274cb8a5e73550cf029ec68', 'The predictions are not correct.'\n",
    "print(f'The score of the radial SVM is {svm_radial.score(X_test,y_test)}.')"
   ]
  },
  {
   "cell_type": "markdown",
   "metadata": {
    "colab_type": "text",
    "deletable": false,
    "editable": false,
    "id": "2FmpIyQttmLp",
    "nbgrader": {
     "grade": false,
     "grade_id": "cell-3b0c71d3ba6db0f9",
     "locked": true,
     "schema_version": 3,
     "solution": false
    }
   },
   "source": [
    "## Exercise 3 : Support Vector Regression\n",
    "\n",
    "You also wonder whether the energy of a song can be predicted by the remaining attributes. Let's prepare the dataset:"
   ]
  },
  {
   "cell_type": "code",
   "execution_count": null,
   "metadata": {
    "colab": {},
    "colab_type": "code",
    "deletable": false,
    "editable": false,
    "id": "vViB5RiGDYnX",
    "nbgrader": {
     "grade": false,
     "grade_id": "cell-6b785fdd612dcc66",
     "locked": true,
     "schema_version": 3,
     "solution": false
    }
   },
   "outputs": [],
   "source": [
    "X_train, X_test, y_train, y_test = get_X_y_train_test(songs_df.drop(\"target\", axis=1), target_col=\"energy\")"
   ]
  },
  {
   "cell_type": "markdown",
   "metadata": {
    "deletable": false,
    "editable": false,
    "nbgrader": {
     "grade": false,
     "grade_id": "cell-ed88bc7a91512397",
     "locked": true,
     "schema_version": 3,
     "solution": false,
     "task": false
    }
   },
   "source": [
    "### Exercise 3.1: Energy of a song.\n",
    "Use an SVR estimator with a radial kernel to predict the energy of a song. Create and fit an SVR estimator with the train data, then calculate the score and the predictions on the test data."
   ]
  },
  {
   "cell_type": "code",
   "execution_count": null,
   "metadata": {
    "colab": {
     "base_uri": "https://localhost:8080/",
     "height": 51
    },
    "colab_type": "code",
    "deletable": false,
    "id": "4z2-thS0t6Xs",
    "nbgrader": {
     "grade": false,
     "grade_id": "cell-cfd65728579ba0e4",
     "locked": false,
     "schema_version": 3,
     "solution": true
    },
    "outputId": "b7286a2b-fcd9-498a-d805-7f6d5b77311c"
   },
   "outputs": [],
   "source": [
    "# svr = ...\n",
    "# svr_score = ...\n",
    "# svr_preds = ...\n",
    "\n",
    "# YOUR CODE HERE\n",
    "raise NotImplementedError()"
   ]
  },
  {
   "cell_type": "code",
   "execution_count": null,
   "metadata": {
    "colab": {},
    "colab_type": "code",
    "deletable": false,
    "editable": false,
    "id": "nO24zB78Dg_y",
    "nbgrader": {
     "grade": true,
     "grade_id": "cell-471b594b90665f4b",
     "locked": true,
     "points": 3,
     "schema_version": 3,
     "solution": false
    }
   },
   "outputs": [],
   "source": [
    "assert isinstance(svr, SVR), 'The estimator is not the correct type.'\n",
    "assert hashlib.sha256(json.dumps(svr.kernel).encode()).hexdigest() == \\\n",
    "'215cfefb3870cb23e2b12025254dfbc170f86d077a0ffb9ed442c90a36a64f51', 'The estimator is not correct type.'\n",
    "np.testing.assert_almost_equal(svr_preds.mean(), 0.67, decimal = 2, err_msg='The predictions are not correct.')\n",
    "np.testing.assert_almost_equal(svr_preds.var(), 0.028, decimal = 3, err_msg='The predictions are not correct.')\n",
    "np.testing.assert_almost_equal(svr_preds.max(), 0.996, decimal = 3, err_msg='The predictions are not correct.')\n",
    "np.testing.assert_almost_equal(svr_preds.min(), 0.076, decimal = 3, err_msg='The predictions are not correct.')\n",
    "np.testing.assert_almost_equal(svr.score(X_test, y_test), 0.73, decimal = 2, err_msg = 'The score is not correct.')\n",
    "print(f'The score of the SVR is {svr_score}.')"
   ]
  }
 ],
 "metadata": {
  "colab": {
   "collapsed_sections": [],
   "name": "Exercise notebook.ipynb",
   "provenance": [],
   "toc_visible": true,
   "version": "0.3.2"
  },
  "kernelspec": {
   "display_name": "Python 3 (ipykernel)",
   "language": "python",
   "name": "python3"
  },
  "language_info": {
   "codemirror_mode": {
    "name": "ipython",
    "version": 3
   },
   "file_extension": ".py",
   "mimetype": "text/x-python",
   "name": "python",
   "nbconvert_exporter": "python",
   "pygments_lexer": "ipython3",
   "version": "3.12.5"
  }
 },
 "nbformat": 4,
 "nbformat_minor": 4
}
