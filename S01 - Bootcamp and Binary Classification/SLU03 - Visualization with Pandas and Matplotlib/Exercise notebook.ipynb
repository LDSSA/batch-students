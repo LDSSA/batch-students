{
 "cells": [
  {
   "attachments": {},
   "cell_type": "markdown",
   "id": "c936146a-bd7d-4cd7-b195-0a00e687e910",
   "metadata": {
    "deletable": false,
    "editable": false,
    "nbgrader": {
     "grade": false,
     "grade_id": "cell-1056bd66fb73306b",
     "locked": true,
     "schema_version": 3,
     "solution": false,
     "task": false
    }
   },
   "source": [
    "# SLU03 - Visualization with Pandas and Matplotlib: Exercise notebook\n",
    "\n",
    "In this exercise notebook, we will explore various data visualization techniques using the \"ds_salaries\" dataset from https://www.kaggle.com/datasets/iamsouravbanerjee/data-science-salaries-2023. Our main objective is to gain insights if it is worth doing this data science course at all. ;) Therefore we look at the factors that influence data science job salaries and understand the salary trends in the field.\n",
    "\n",
    "Start by importing these packages:"
   ]
  },
  {
   "cell_type": "code",
   "execution_count": null,
   "id": "aeb267e9",
   "metadata": {
    "deletable": false,
    "editable": false,
    "nbgrader": {
     "grade": false,
     "grade_id": "cell-581a0becf5c78cb0",
     "locked": true,
     "schema_version": 3,
     "solution": false,
     "task": false
    }
   },
   "outputs": [],
   "source": [
    "import hashlib\n",
    "import json\n",
    "import pandas as pd\n",
    "import numpy as np\n",
    "import plotchecker\n",
    "from plotchecker import PlotChecker\n",
    "import seaborn as sns\n",
    "import utils\n",
    "\n",
    "def _hash(s):\n",
    "    \"\"\"Function used to hash the answers.\"\"\"\n",
    "    return hashlib.sha256(json.dumps(s).encode()).hexdigest()"
   ]
  },
  {
   "cell_type": "code",
   "execution_count": null,
   "id": "2435c5ad",
   "metadata": {
    "deletable": false,
    "editable": false,
    "nbgrader": {
     "grade": false,
     "grade_id": "cell-4cd998e47a0c235d",
     "locked": true,
     "schema_version": 3,
     "solution": false,
     "task": false
    }
   },
   "outputs": [],
   "source": [
    "# Load the dataset\n",
    "ds_salaries = pd.read_csv(\"data/Latest_Data_Science_Salaries.csv\")\n",
    "\n",
    "# Display the first few rows of the modified DataFrame\n",
    "rows, columns = ds_salaries.shape\n",
    "print(f'ds_salaries: {rows} records and {columns} fields.');\n",
    "ds_salaries.head()"
   ]
  },
  {
   "cell_type": "markdown",
   "id": "a8553b98",
   "metadata": {
    "deletable": false,
    "editable": false,
    "nbgrader": {
     "grade": false,
     "grade_id": "cell-b1e742a4d3bc5f15",
     "locked": true,
     "schema_version": 3,
     "solution": false,
     "task": false
    }
   },
   "source": [
    "For these exercises we will use the `matplotlib.pyplot` module. We will start by importing it."
   ]
  },
  {
   "cell_type": "code",
   "execution_count": null,
   "id": "8ff1b370",
   "metadata": {
    "deletable": false,
    "editable": false,
    "nbgrader": {
     "grade": false,
     "grade_id": "cell-b235d0752bffc0a6",
     "locked": true,
     "schema_version": 3,
     "solution": false,
     "task": false
    }
   },
   "outputs": [],
   "source": [
    "import matplotlib.pyplot as plt"
   ]
  },
  {
   "cell_type": "markdown",
   "id": "783706c0",
   "metadata": {
    "deletable": false,
    "editable": false,
    "nbgrader": {
     "grade": false,
     "grade_id": "cell-aea0fd8297ca9c09",
     "locked": true,
     "schema_version": 3,
     "solution": false,
     "task": false
    }
   },
   "source": [
    "## Exercise 1 - Default plot parameters\n",
    "\n",
    "To start, you are going to change the default plot settings as follows:\n",
    "* change the default pyplot chart size to 4 inches width and 4 inches height\n",
    "* change the linewidth to 3   \n",
    "* change the linestyle to be a dotted line '.'"
   ]
  },
  {
   "cell_type": "code",
   "execution_count": null,
   "id": "050365e7",
   "metadata": {
    "deletable": false,
    "nbgrader": {
     "grade": false,
     "grade_id": "cell-8f165ec5a450f25c",
     "locked": false,
     "schema_version": 3,
     "solution": true,
     "task": false
    }
   },
   "outputs": [],
   "source": [
    "# YOUR CODE HERE\n",
    "raise NotImplementedError()"
   ]
  },
  {
   "cell_type": "code",
   "execution_count": null,
   "id": "20e89057",
   "metadata": {
    "deletable": false,
    "editable": false,
    "nbgrader": {
     "grade": true,
     "grade_id": "cell-b946f716a3066c6f",
     "locked": true,
     "points": 1,
     "schema_version": 3,
     "solution": false,
     "task": false
    }
   },
   "outputs": [],
   "source": [
    "# Check the default figure size\n",
    "assert plt.rcParams['figure.figsize'] == [4.0, 4.0], 'Default figure size is incorrect'\n",
    "\n",
    "# Check the default line width\n",
    "assert plt.rcParams['lines.linewidth'] == 3, 'Default line width is incorrect'\n",
    "\n",
    "# Check the default line style\n",
    "assert plt.rcParams['lines.linestyle'] == ':', 'Default line style is incorrect'\n",
    "\n",
    "print('It seems to work! I am curious how it will look like. You too?')"
   ]
  },
  {
   "cell_type": "code",
   "execution_count": null,
   "id": "f62e8bf9",
   "metadata": {
    "deletable": false,
    "editable": false,
    "nbgrader": {
     "grade": false,
     "grade_id": "cell-5c85dbb2712ae357",
     "locked": true,
     "schema_version": 3,
     "solution": false,
     "task": false
    }
   },
   "outputs": [],
   "source": [
    "# lets see how those settings look like with the following dataset\n",
    "x = [1, 2, 3, 4, 5]\n",
    "y = [10, 15, 7, 12, 9]\n",
    "\n",
    "plt.plot(x,y); # ps.. do you remember the reason why we use \";\" here?"
   ]
  },
  {
   "cell_type": "markdown",
   "id": "cad0941e",
   "metadata": {
    "deletable": false,
    "editable": false,
    "nbgrader": {
     "grade": false,
     "grade_id": "cell-de1a80bd855c491f",
     "locked": true,
     "schema_version": 3,
     "solution": false,
     "task": false
    }
   },
   "source": [
    "## 🛑 An important note about the grading\n",
    "\n",
    "**Grading plots is difficult**. We are using `plotchecker` to grade the plots with `nbgrader`. For `plotchecker` to work with `nbgrader`, **we need to add in each cell this line**:\n",
    "\n",
    "> **`axis = plt.gca();`**\n",
    "\n",
    "**after the code required** to do the plot. Make sure to keep this line in the plotting cells.\n",
    "\n",
    "For example, if we want to plot a `scatter plot` showing the relationship between `Employee Residence` and `Salary in USD`  columns, we would do as follows:"
   ]
  },
  {
   "cell_type": "code",
   "execution_count": null,
   "id": "8064135f",
   "metadata": {
    "deletable": false,
    "editable": false,
    "nbgrader": {
     "grade": false,
     "grade_id": "cell-e71ff192f35d8c46",
     "locked": true,
     "schema_version": 3,
     "solution": false,
     "task": false
    }
   },
   "outputs": [],
   "source": [
    "# Create a scatter plot\n",
    "scatter_plot = ds_salaries.plot.scatter(x='Employee Residence', y='Salary in USD', s=5, figsize=(12,4))\n",
    "\n",
    "# Rotate x-axis labels vertically\n",
    "scatter_plot.axes.tick_params(rotation=90)\n",
    "\n",
    "# Set labels and title\n",
    "plt.xlabel('Employee Residence')\n",
    "plt.ylabel('Salary in USD')\n",
    "plt.title('Relationship between Employee Residence and Salary')\n",
    "\n",
    "# Last line in the cell required to \"capture\" the cell and grade it with nbgrader\n",
    "axis = plt.gca();"
   ]
  },
  {
   "cell_type": "markdown",
   "id": "5760d03f",
   "metadata": {
    "deletable": false,
    "editable": false,
    "nbgrader": {
     "grade": false,
     "grade_id": "cell-8aee4e0a5e2c884e",
     "locked": true,
     "schema_version": 3,
     "solution": false,
     "task": false
    }
   },
   "source": [
    "## Exercise 2 - Average salary per employee residence location\n",
    "\n",
    "In the above scatter plot we see the salary by employee residence location. This is not the best way to visualize this data. Maybe we look at a better way later on.\n",
    "\n",
    "Now an easier question. What is the best way to show the average salary for different employee residence locations?\n",
    "\n",
    "    A. Scatter plot   \n",
    "    B. Line chart   \n",
    "    C. Histogram   \n",
    "    D. Bar plot\n",
    "    \n",
    "Leave your answer below, assigned to the `exercise_2_plot_type` variable as a string. For example:\n",
    "```\n",
    "exercise_2_plot_type = 'E'\n",
    "```"
   ]
  },
  {
   "cell_type": "code",
   "execution_count": null,
   "id": "37ed3f32",
   "metadata": {
    "deletable": false,
    "nbgrader": {
     "grade": false,
     "grade_id": "cell-14df7b90e4e7b668",
     "locked": false,
     "schema_version": 3,
     "solution": true,
     "task": false
    }
   },
   "outputs": [],
   "source": [
    "# exercise_2_plot_type =\n",
    "# YOUR CODE HERE\n",
    "raise NotImplementedError()"
   ]
  },
  {
   "cell_type": "code",
   "execution_count": null,
   "id": "b0ab5e99",
   "metadata": {
    "deletable": false,
    "editable": false,
    "nbgrader": {
     "grade": true,
     "grade_id": "cell-3811365992d4e32e",
     "locked": true,
     "points": 1,
     "schema_version": 3,
     "solution": false,
     "task": false
    }
   },
   "outputs": [],
   "source": [
    "assert _hash(exercise_2_plot_type) == '8f097023401b3d58704c1f3abea8ec2eba57c387f09d10125cd66076afd13b1e', 'Try again'\n",
    "\n",
    "plot = ds_salaries.groupby('Employee Residence')['Salary in USD'].mean().plot.barh(figsize=(6, 12), fontsize=8)\n",
    "plot.set_xlabel('Employee Residence')\n",
    "plot.set_ylabel('Average Salary in USD')\n",
    "for i in plot.get_xticklabels()+plot.get_yticklabels(): # here we make the axis labels smaller\n",
    "    i.set_fontsize(8)\n",
    "plot.set_title('Average Salary by Employee Residence')\n",
    "plt.show()\n",
    "    \n",
    "print('''That is correct. Great! Here you can see an example of the plot.\n",
    "We're choosing a horizontal bar plot because Employee Residence is a nominal categorical variable.''')"
   ]
  },
  {
   "cell_type": "markdown",
   "id": "0532c465-830b-4f4e-afd0-c8c103defe16",
   "metadata": {
    "deletable": false,
    "editable": false,
    "nbgrader": {
     "grade": false,
     "grade_id": "cell-d68cf378ade73b66",
     "locked": true,
     "schema_version": 3,
     "solution": false,
     "task": false
    }
   },
   "source": [
    "You can see that the salaries vary widely between countries. We also have very few data points for most countries. To make meaningful comparisons, we will use just data from United States in the following exercises."
   ]
  },
  {
   "cell_type": "code",
   "execution_count": null,
   "id": "edbe1e01-9176-446f-b15d-e827d37e1261",
   "metadata": {
    "deletable": false,
    "editable": false,
    "nbgrader": {
     "grade": false,
     "grade_id": "cell-dcbcaf692c4e10e2",
     "locked": true,
     "schema_version": 3,
     "solution": false,
     "task": false
    }
   },
   "outputs": [],
   "source": [
    "ds_salaries_us = ds_salaries[ds_salaries['Employee Residence']=='United States']\n",
    "f'The reduced dataset ds_salaries_us has {ds_salaries_us.shape[0]} rows.'"
   ]
  },
  {
   "cell_type": "markdown",
   "id": "3a54b690",
   "metadata": {
    "deletable": false,
    "editable": false,
    "nbgrader": {
     "grade": false,
     "grade_id": "cell-1bc4b6bca2ce3730",
     "locked": true,
     "schema_version": 3,
     "solution": false,
     "task": false
    }
   },
   "source": [
    "## Exercise 3 - Salary vs. experience\n",
    "\n",
    "Let's explore salary vs. job experience in the `ds_salaries_us` dataset. A scatter plot or a line chart is suitable for this purpose. A scatter plot can show the relationship between salary and experience levels for individual data points. A line chart can help visualize trends in how salaries vary with different levels of experience. \n",
    "\n",
    "The experience level has the following possible values from most to least senior: 'Executive', 'Senior', 'Mid', 'Entry'.\n",
    "\n",
    "Make a line chart with the following settings:\n",
    "\n",
    "- set the plot title to `Salary vs. Experience`.\n",
    "- label the x-axis as `Experience Level`.\n",
    "- label the y-axis as `Salary`.\n",
    "\n",
    "Before plotting, we will reset matplotlib's parameters to the default ones."
   ]
  },
  {
   "cell_type": "code",
   "execution_count": null,
   "id": "9315a2bd",
   "metadata": {
    "deletable": false,
    "editable": false,
    "nbgrader": {
     "grade": false,
     "grade_id": "cell-3ed583cd7762fed6",
     "locked": true,
     "schema_version": 3,
     "solution": false,
     "task": false
    }
   },
   "outputs": [],
   "source": [
    "plt.style.use('default')"
   ]
  },
  {
   "cell_type": "markdown",
   "id": "b95a6686-e84c-4bf6-ad9a-2b1893af91f9",
   "metadata": {
    "deletable": false,
    "editable": false,
    "nbgrader": {
     "grade": false,
     "grade_id": "cell-7b5aaf0050aebaaf",
     "locked": true,
     "schema_version": 3,
     "solution": false,
     "task": false
    }
   },
   "source": [
    "We will calculate the mean salaries for each experience level for you. The result is stored in the `grouped_by_experience` dataframe. Use this dataframe for plotting."
   ]
  },
  {
   "cell_type": "code",
   "execution_count": null,
   "id": "d188c55f",
   "metadata": {
    "deletable": false,
    "editable": false,
    "nbgrader": {
     "grade": false,
     "grade_id": "cell-c18a0f880d093aa5",
     "locked": true,
     "schema_version": 3,
     "solution": false,
     "task": false
    }
   },
   "outputs": [],
   "source": [
    "grouped_by_experience = utils.ex_3_dataset(ds_salaries_us)\n",
    "grouped_by_experience"
   ]
  },
  {
   "cell_type": "code",
   "execution_count": null,
   "id": "0b33886d",
   "metadata": {
    "deletable": false,
    "nbgrader": {
     "grade": false,
     "grade_id": "cell-2352176342bcb1f5",
     "locked": false,
     "schema_version": 3,
     "solution": true,
     "task": false
    }
   },
   "outputs": [],
   "source": [
    "# Create a line chart from the grouped_by_expertise dataframe.\n",
    "\n",
    "# YOUR CODE HERE\n",
    "raise NotImplementedError()\n",
    "\n",
    "axis = plt.gca();  "
   ]
  },
  {
   "cell_type": "code",
   "execution_count": null,
   "id": "895711cd",
   "metadata": {
    "deletable": false,
    "editable": false,
    "nbgrader": {
     "grade": true,
     "grade_id": "cell-7469072b8ebd79de",
     "locked": true,
     "points": 2,
     "schema_version": 3,
     "solution": false,
     "task": false
    }
   },
   "outputs": [],
   "source": [
    "pc = PlotChecker(axis)\n",
    "\n",
    "assert pc.xlabel=='Experience Level',  \"Did you set the correct variables for the plot axes?\"\n",
    "assert pc.ylabel=='Salary',  \"Did you set the correct variables for the plot axes?\"\n",
    "assert pc.title=='Salary vs. Experience', 'Did you use the correct plot title?'\n",
    "assert len([x for x in ['Entry','Mid','Senior','Executive'] if x in pc.xticklabels])==4, 'Did you plot the correct data?'\n",
    "assert len(pc.axis.get_lines())==1, 'There should be just one line in the plot.'\n",
    "assert len([int(round(x,2)==round(p,2)) for x,p in zip(pc.axis.get_lines()[0].get_ydata(),grouped_by_experience['Salary'])]\n",
    "          )==4, 'The data points in the line are not correct.'\n",
    "assert pc.ylim[0]<=100384, 'Did you use the correct data to plot?'\n",
    "assert pc.ylim[1]>=203987, 'Did you use the correct data to plot?'\n",
    "print('Good news! Getting more experience gets you a better salary.')"
   ]
  },
  {
   "cell_type": "markdown",
   "id": "65ecdc8e",
   "metadata": {
    "deletable": false,
    "editable": false,
    "nbgrader": {
     "grade": false,
     "grade_id": "cell-3832d6de1363696d",
     "locked": true,
     "schema_version": 3,
     "solution": false,
     "task": false
    }
   },
   "source": [
    "## Exercise 4 - Salary by company size\n",
    "\n",
    "### Exercise 4.1 - Choose the plot type\n",
    "\n",
    "Now we'd like to analyze the salaries by company size. We'd like to see the salary distribution for each company size. Which plot is the best to visualize this?\n",
    "\n",
    "    A. Line chart  \n",
    "    B. Box plot   \n",
    "    C. Bar plot   \n",
    "    D. Histogram   "
   ]
  },
  {
   "cell_type": "code",
   "execution_count": null,
   "id": "979e144d",
   "metadata": {
    "deletable": false,
    "nbgrader": {
     "grade": false,
     "grade_id": "cell-50dd35f745ca79d0",
     "locked": false,
     "schema_version": 3,
     "solution": true,
     "task": false
    }
   },
   "outputs": [],
   "source": [
    "#exercise_4_plot_type = ...\n",
    "# YOUR CODE HERE\n",
    "raise NotImplementedError()"
   ]
  },
  {
   "cell_type": "code",
   "execution_count": null,
   "id": "c79bed71",
   "metadata": {
    "deletable": false,
    "editable": false,
    "nbgrader": {
     "grade": true,
     "grade_id": "cell-94a4281093974f30",
     "locked": true,
     "points": 1,
     "schema_version": 3,
     "solution": false,
     "task": false
    }
   },
   "outputs": [],
   "source": [
    "assert _hash(exercise_4_plot_type) == '955cca1ceba45052d85984d3a2565f4ce25b7488602c60a165598bf80b26e472', 'Try again.'\n",
    "\n",
    "print('YES! Indeed, that one is great for this. Lets make one! ')"
   ]
  },
  {
   "cell_type": "markdown",
   "id": "bc88129e",
   "metadata": {
    "deletable": false,
    "editable": false,
    "nbgrader": {
     "grade": false,
     "grade_id": "cell-b92aca75a3fb6761",
     "locked": true,
     "schema_version": 3,
     "solution": false,
     "task": false
    }
   },
   "source": [
    "### Exercise 4.2 - Make the plot\n",
    "\n",
    "Construct the salary vs. company size plot with the following parameters:\n",
    "\n",
    "* Use `Company size` and `Salary` from the `ds_salaries_us` dataframe\n",
    "* set the figure size to 6 inches wide and 4 inches tall\n",
    "* use fontsize 9 for the axis labels\n",
    "* label x as 'Salary' with font size 12\n",
    "* label y as 'Company Size' with font size 12\n",
    "* use plot title as 'Salary Distribution by Company Size' with font size 14\n",
    "* change the default plot style to 'bmh'\n",
    "* suppress the default title with `plt.suptitle('')`"
   ]
  },
  {
   "cell_type": "code",
   "execution_count": null,
   "id": "676b853e",
   "metadata": {
    "deletable": false,
    "nbgrader": {
     "grade": false,
     "grade_id": "cell-f92493388c9d87a3",
     "locked": false,
     "schema_version": 3,
     "solution": true,
     "task": false
    }
   },
   "outputs": [],
   "source": [
    "# YOUR CODE HERE\n",
    "raise NotImplementedError()\n",
    "\n",
    "axis = plt.gca(); "
   ]
  },
  {
   "cell_type": "code",
   "execution_count": null,
   "id": "bdfd4b14-cb04-4b09-97ca-b1d577c6573c",
   "metadata": {
    "deletable": false,
    "editable": false,
    "nbgrader": {
     "grade": true,
     "grade_id": "cell-84a77a3a100349fc",
     "locked": true,
     "points": 3,
     "schema_version": 3,
     "solution": false,
     "task": false
    }
   },
   "outputs": [],
   "source": [
    "pc = PlotChecker(axis)\n",
    "assert pc.ylabel == 'Salary', 'Are the axis labels correct?'\n",
    "assert pc.xlabel == 'Company Size', 'Are the axis labels correct?'\n",
    "assert pc.title == 'Salary Distribution by Company Size', 'Did you put the correct title?'\n",
    "assert len([x for x in ds_salaries_us['Company Size'].unique() if x in pc.xticklabels])==3,\\\n",
    "'Did you use the correct data to plot?'\n",
    "assert pc.ylim[0]<=ds_salaries_us['Salary'].min() and pc.ylim[1]>=ds_salaries_us['Salary'].max(), \\\n",
    "'Did you use the correct data to plot?'\n",
    "print('''That was AWESOME!! Did you already make up your mind in which size of company you want to work?\n",
    "Please pay attention to those lost dots btw. We call them outliers and we will get back to that.''')"
   ]
  },
  {
   "cell_type": "markdown",
   "id": "76d5c4f5-9fbb-4823-bc52-e4dad61f7603",
   "metadata": {
    "deletable": false,
    "editable": false,
    "nbgrader": {
     "grade": false,
     "grade_id": "cell-8c744f1a0775746b",
     "locked": true,
     "schema_version": 3,
     "solution": false,
     "task": false
    }
   },
   "source": [
    "### Exercise 4.3 - Answer questions about the plot\n",
    "Now answer the following questions based on the plot you just plotted in exercise 4.2.\n",
    "\n",
    "1. Which company size has the highest lying outliers? Assign the answer to the `highest_outlier` variable.\n",
    "2. Which company size has the smallest interquartile range? Assign the answer to the variable `smallest_IQR`."
   ]
  },
  {
   "cell_type": "code",
   "execution_count": null,
   "id": "ba8c5807-913c-4d2a-b240-9026a3d670c8",
   "metadata": {
    "deletable": false,
    "nbgrader": {
     "grade": false,
     "grade_id": "cell-e138079379d8a519",
     "locked": false,
     "schema_version": 3,
     "solution": true,
     "task": false
    }
   },
   "outputs": [],
   "source": [
    "#highest_outlier = ...\n",
    "#smallest_IQR = ...\n",
    "\n",
    "# YOUR CODE HERE\n",
    "raise NotImplementedError()"
   ]
  },
  {
   "cell_type": "code",
   "execution_count": null,
   "id": "af362925-7f46-4ce4-86d6-e13be7175bf7",
   "metadata": {
    "deletable": false,
    "editable": false,
    "nbgrader": {
     "grade": true,
     "grade_id": "cell-f23c8f97604492ef",
     "locked": true,
     "points": 2,
     "schema_version": 3,
     "solution": false,
     "task": false
    }
   },
   "outputs": [],
   "source": [
    "assert _hash(highest_outlier.lower())=='60d4c90eee5e731df8d3ef2891de541d2e755ff8ee9db358e26bdec49f6e0db9', \\\n",
    "'Check those outliers again.'\n",
    "assert _hash(smallest_IQR.lower())=='300694740fd6f600a0011c69d5ceb0604f79dd7f96b0cbd87ffb1952d614a7ff', \\\n",
    "'What was the interquartile range again? Maybe you should check. ;)'\n",
    "print('Perfect!')"
   ]
  },
  {
   "cell_type": "markdown",
   "id": "bccc8e8c",
   "metadata": {
    "deletable": false,
    "editable": false,
    "nbgrader": {
     "grade": false,
     "grade_id": "cell-a94f8a58b0a97e64",
     "locked": true,
     "schema_version": 3,
     "solution": false,
     "task": false
    }
   },
   "source": [
    "## Exercise 5 - Plot for visualizing correlations\n",
    "\n",
    "Often we want to check if our assumptions are true. We imagine that some of our variables will be influenced by each other or by the same factors. Which plot is the most useful to help us understand the relationship between two variables?\n",
    "\n",
    "    A. Box plot   \n",
    "    B. Pie plot  \n",
    "    C. Scatter plot   \n",
    "    D. Histogram"
   ]
  },
  {
   "cell_type": "code",
   "execution_count": null,
   "id": "3c5b50e5",
   "metadata": {
    "deletable": false,
    "nbgrader": {
     "grade": false,
     "grade_id": "cell-303cd7bff24cb1ae",
     "locked": false,
     "schema_version": 3,
     "solution": true,
     "task": false
    }
   },
   "outputs": [],
   "source": [
    "#exercise_5_plot_type = ...\n",
    "# YOUR CODE HERE\n",
    "raise NotImplementedError()"
   ]
  },
  {
   "cell_type": "code",
   "execution_count": null,
   "id": "7a736c56",
   "metadata": {
    "deletable": false,
    "editable": false,
    "nbgrader": {
     "grade": true,
     "grade_id": "cell-37416c5240aaa09c",
     "locked": true,
     "points": 1,
     "schema_version": 3,
     "solution": false,
     "task": false
    }
   },
   "outputs": [],
   "source": [
    "assert _hash(exercise_5_plot_type) == 'c2e8c0cc2e73b9bd1ba9ef1979e73169b471e25b0e9909efe98fde462c0bf55f', 'Try again'\n",
    "print('''Yes indeed! It is a great start to use this plot when you want to understand your variables. \n",
    "Run the cell below to see how a positive correlation looks like. But no worry if this is new to you, \n",
    "you are going to learn more about this subject later.''')"
   ]
  },
  {
   "cell_type": "markdown",
   "id": "516f64b4-0f40-4335-b0e8-716de42740fe",
   "metadata": {
    "deletable": false,
    "editable": false,
    "nbgrader": {
     "grade": false,
     "grade_id": "cell-cc91c2b0a52c4e5b",
     "locked": true,
     "schema_version": 3,
     "solution": false,
     "task": false
    }
   },
   "source": [
    "Check out this plot where the variables have a positive correlation:"
   ]
  },
  {
   "cell_type": "code",
   "execution_count": null,
   "id": "3b01ce12-4b77-4511-98c6-994074a48e9e",
   "metadata": {
    "deletable": false,
    "editable": false,
    "nbgrader": {
     "grade": false,
     "grade_id": "cell-db715b7cc3a064f9",
     "locked": true,
     "schema_version": 3,
     "solution": false,
     "task": false
    }
   },
   "outputs": [],
   "source": [
    "# Two variables with a positive correlation\n",
    "age = np.array([1, 2, 3, 4, 5, 6, 7, 8, 9, 10])\n",
    "nr_of_friends = np.array([2, 3, 4, 6, 5, 8, 9, 10, 12, 11])\n",
    "\n",
    "# Create the plot\n",
    "plt.figure(figsize=(6, 4))\n",
    "plt.scatter(age, nr_of_friends, color='b', marker='o')\n",
    "plt.xlabel('Age')\n",
    "plt.ylabel('nr_of_friends')\n",
    "plt.title('Positively Correlated Variables');"
   ]
  },
  {
   "cell_type": "markdown",
   "id": "9b382973-c550-4765-89af-bfa0f69edcb4",
   "metadata": {
    "deletable": false,
    "editable": false,
    "nbgrader": {
     "grade": false,
     "grade_id": "cell-a8d7c840bede7b8b",
     "locked": true,
     "schema_version": 3,
     "solution": false,
     "task": false
    }
   },
   "source": [
    "## Exercise 6 - Median Salary by Job Title\n",
    "\n",
    "We already saw the correlation between `Salary` and `Experience Level`. Let's make another visualization to show off your skills. We're going to make another bar plot, this time exploring the relationship between `Salary` and some `Job Titles`.\n",
    "\n",
    "We will use this dataframe with median salary for the selected job titles:"
   ]
  },
  {
   "cell_type": "code",
   "execution_count": null,
   "id": "af3c1689-ad54-468e-8983-dd2fa20021b3",
   "metadata": {
    "deletable": false,
    "editable": false,
    "nbgrader": {
     "grade": false,
     "grade_id": "cell-51184566520a66a7",
     "locked": true,
     "schema_version": 3,
     "solution": false,
     "task": false
    }
   },
   "outputs": [],
   "source": [
    "median_salary_by_job_title = utils.ex_6_dataset(ds_salaries_us)\n",
    "median_salary_by_job_title"
   ]
  },
  {
   "cell_type": "markdown",
   "id": "29a76398-8f24-4fb5-a8df-46c974944e36",
   "metadata": {
    "deletable": false,
    "editable": false,
    "nbgrader": {
     "grade": false,
     "grade_id": "cell-e24573801a54af70",
     "locked": true,
     "schema_version": 3,
     "solution": false,
     "task": false
    }
   },
   "source": [
    "Plot a bar plot using the `median_salary_by_job_title` dataset and add the following extra information:\n",
    "\n",
    "- label the x-axis as `Salary (median)`.\n",
    "- label the y-axis as `Job Title`.\n",
    "- change the plot color to `tab:pink`.\n",
    "- name the title `Median Salary by Job Title`\n",
    "\n",
    "Choose the appropriate bar plot type (horizontal or vertical) based on the variable type."
   ]
  },
  {
   "cell_type": "code",
   "execution_count": null,
   "id": "507dedaf",
   "metadata": {
    "deletable": false,
    "nbgrader": {
     "grade": false,
     "grade_id": "cell-64f7e3aeb7369b0c",
     "locked": false,
     "schema_version": 3,
     "solution": true,
     "task": false
    }
   },
   "outputs": [],
   "source": [
    "# YOUR CODE HERE\n",
    "raise NotImplementedError()\n",
    "axis = plt.gca();"
   ]
  },
  {
   "cell_type": "code",
   "execution_count": null,
   "id": "b9691bc3",
   "metadata": {
    "deletable": false,
    "editable": false,
    "nbgrader": {
     "grade": true,
     "grade_id": "cell-1987021abc703484",
     "locked": true,
     "points": 3,
     "schema_version": 3,
     "solution": false,
     "task": false
    }
   },
   "outputs": [],
   "source": [
    "pc = PlotChecker(axis)\n",
    "pc.assert_xlabel_equal('Salary (median)'), \"The x label seems wrong\"\n",
    "pc.assert_ylabel_equal('Job Title'), \"The y label seems wrong\"\n",
    "pc.assert_title_equal('Median Salary by Job Title'), \"Did you put a title for your plot?\"\n",
    "assert len(pc.axis.patches)==3, 'The number of bars in the plot is not correct.'\n",
    "assert len([int(x.get_width()==s) for x,s in zip(pc.axis.patches,median_salary_by_job_title)])==3, \\\n",
    "'Did you plot the correct dataset in the correct orientation?'\n",
    "assert pc.axis.patches[0].get_facecolor()==(0.8901960784313725, 0.4666666666666667, 0.7607843137254902, 1.0), 'Did you use the correct color?'\n",
    "assert pc.xlim[0]<=0 and pc.xlim[1]>=median_salary_by_job_title.max(), \\\n",
    "'Did you plot the correct dataset in the correct orientation?'\n",
    "assert len([x for x in pc.yticklabels if x in ['Data Analyst', 'Data Engineer', 'Data Scientist']])==3, \\\n",
    "'Did you plot the correct dataset in the correct orientation?'\n",
    "print('That looks beautiful. You are on a roll!')"
   ]
  },
  {
   "cell_type": "markdown",
   "id": "7d284297",
   "metadata": {
    "deletable": false,
    "editable": false,
    "nbgrader": {
     "grade": false,
     "grade_id": "cell-8a09f45bfa732558",
     "locked": true,
     "schema_version": 3,
     "solution": false,
     "task": false
    }
   },
   "source": [
    "## Exercise 7 - Plot for distributions\n",
    "\n",
    "### Exercise 7.1 - Choose the plot type\n",
    "\n",
    "There is another plot that can tell us a lot about the statistics of the data. These are usually plots that show us the distribution of variables. \n",
    "\n",
    "Which plot can we use to visualize how the `Salary` is distributed in a given employee residence location?\n",
    "\n",
    "    A. Histogram   \n",
    "    B. Bar plot  \n",
    "    C. Box plot   \n",
    "    D. Pie plot"
   ]
  },
  {
   "cell_type": "code",
   "execution_count": null,
   "id": "2da61c15",
   "metadata": {
    "deletable": false,
    "nbgrader": {
     "grade": false,
     "grade_id": "cell-fde09ea80e74af51",
     "locked": false,
     "schema_version": 3,
     "solution": true,
     "task": false
    }
   },
   "outputs": [],
   "source": [
    "#exercise_7_plot_type = ...\n",
    "# YOUR CODE HERE\n",
    "raise NotImplementedError()"
   ]
  },
  {
   "cell_type": "code",
   "execution_count": null,
   "id": "d8642ae6",
   "metadata": {
    "deletable": false,
    "editable": false,
    "nbgrader": {
     "grade": true,
     "grade_id": "cell-d201e0665e4c0bb5",
     "locked": true,
     "points": 1,
     "schema_version": 3,
     "solution": false,
     "task": false
    }
   },
   "outputs": [],
   "source": [
    "assert _hash(exercise_7_plot_type) == '798640599597df7a8daa32b1132f07850a68b5e71bd295650399a38074f52804', 'Try again'\n",
    "print('--- Success ---')"
   ]
  },
  {
   "cell_type": "markdown",
   "id": "e52ee72e",
   "metadata": {
    "deletable": false,
    "editable": false,
    "nbgrader": {
     "grade": false,
     "grade_id": "cell-ab0e29befd9e70c2",
     "locked": true,
     "schema_version": 3,
     "solution": false,
     "task": false
    }
   },
   "source": [
    "### Exercise 7.2 - Make the plot\n",
    "There are too many countries of employee residence, so instead we're going to use this plot to visualize the distribution of salaries for different experience levels. All in the same plot! Use the `ds_salaries_us` dataframe. You'll have to check the documentation or google around for this exercise.\n",
    "\n",
    "- create a plot with a distribution for each `Experience Level` - sort them in order of seniority\n",
    "- make each distribution a different color, using the colors ['tab:blue', 'tab:orange', 'tab:purple', 'tab:brown']\n",
    "- use bin width of 10000\n",
    "- the bin edges should be from 40000 to 150000\n",
    "- normalize the histogram - set `density` to `True`\n",
    "- use this formatting:   \n",
    "    - set the edgecolor to black   \n",
    "    - set the opacity to 0.8   \n",
    "- x label should be 'Salary'\n",
    "- y label should be 'Number of Employees'\n",
    "- title of the plot should be 'Salary Distribution by Experience Level'\n",
    "- add a legend to display the experience levels"
   ]
  },
  {
   "cell_type": "code",
   "execution_count": null,
   "id": "ec95636e",
   "metadata": {
    "deletable": false,
    "nbgrader": {
     "grade": false,
     "grade_id": "cell-5f8a6d68480cf471",
     "locked": false,
     "schema_version": 3,
     "solution": true,
     "task": false
    }
   },
   "outputs": [],
   "source": [
    "# YOUR CODE HERE\n",
    "raise NotImplementedError()\n",
    "axis = plt.gca();"
   ]
  },
  {
   "cell_type": "code",
   "execution_count": null,
   "id": "33aedf9c",
   "metadata": {
    "deletable": false,
    "editable": false,
    "nbgrader": {
     "grade": true,
     "grade_id": "cell-3f2e67dd2c0b4aaa",
     "locked": true,
     "points": 4,
     "schema_version": 3,
     "solution": false,
     "task": false
    }
   },
   "outputs": [],
   "source": [
    "pc = PlotChecker(axis)\n",
    "_patches = np.array(pc.axis.patches)\n",
    "_patches = _patches[np.argsort([p.get_x() for p in _patches])]\n",
    "\n",
    "assert len(pc.axis.patches)==44, 'The plot does not have the correct number of bins.'\n",
    "assert pc.ylim[1]>=3e-5 and pc.ylim[1]<=4e-5, 'Did you normalize the plot?'\n",
    "edge_pos = sorted([(i+n*10)*1000 for i in [41,43,45,47] for n in range(0,11)])\n",
    "assert sum([int(x.get_x())==e for x,e in zip(_patches,edge_pos)]), 'The bin positions are not correct.'\n",
    "\n",
    "assert sum([int(x.get_edgecolor()==(0.,0.,0.,.8)) for x in pc.axis.patches])==44, 'The edgecolor or the opacity are not correct.'\n",
    "assert len([int(x.get_facecolor()==(0.,0.,1.,.8)) for x in _patches[0:44:4]])==11, 'Did you use the correct colors and opacity?'\n",
    "assert len([int(x.get_facecolor()==(0.,.5,0.,.8)) for x in _patches[1:44:4]])==11, 'Did you use the correct colors and opacity?'\n",
    "assert len([int(x.get_facecolor()==(1.,0.,0.,.8)) for x in _patches[2:44:4]])==11, 'Did you use the correct colors and opacity?'\n",
    "assert len([int(x.get_facecolor()==(0.,.75,.75,.8)) for x in _patches[3:44:4]])==11, 'Did you use the correct colors and opacity?'\n",
    "\n",
    "assert pc.title=='Salary Distribution by Experience Level', 'Did you set the right plot title?'\n",
    "assert pc.xlabel=='Salary', 'Did you set the xlabel correctly?'\n",
    "assert pc.ylabel=='Number of Employees', 'Did you set the ylabel correctly?'\n",
    "\n",
    "print(\"\"\"          ------ YOU MADE IT !!! CONGRATS !!! WE ARE SUPER PROUD OF YOU !!! --------                                 \n",
    "Looking at the salary distribution from least to most experienced levels (EN, MI, SE, EX), we would expect that the median salary \n",
    "would follow a pattern from left to right, with EN having the lowest median salary, then MI, SE, and finally EX with the highest. \n",
    "This pattern is what we can visually observe. \n",
    "However, there is another interesting observation. There is a very high bar for 'SE' (Senior) at the highest salary bin. \n",
    "This suggests that there are many employees with 'SE' experience who are receiving salaries similar to those \n",
    "of 'EX' (Executive) employees. There are even some Entry and Mid level employees in this bin.\n",
    "There could be various explanations for this, but for now we only wanted to see the power of visualizing the distribution in a histogram.\"\"\")"
   ]
  },
  {
   "cell_type": "markdown",
   "id": "daf966ce-6025-4ca0-8f3e-8df9f868d51d",
   "metadata": {
    "deletable": false,
    "editable": false,
    "nbgrader": {
     "grade": false,
     "grade_id": "cell-28de52949071b06f",
     "locked": true,
     "schema_version": 3,
     "solution": false,
     "task": false
    }
   },
   "source": [
    "### Exercise 7.3 - Answer a question about the plot\n",
    "\n",
    "Now answer this question based on the plot you just plotted in exercise 7.2:\n",
    "\n",
    "How many bins are visible in the `Executive` distribution?"
   ]
  },
  {
   "cell_type": "code",
   "execution_count": null,
   "id": "d4873f16-fbe4-417e-af9f-f400848f89c5",
   "metadata": {
    "deletable": false,
    "nbgrader": {
     "grade": false,
     "grade_id": "cell-6d742d23929602ec",
     "locked": false,
     "schema_version": 3,
     "solution": true,
     "task": false
    }
   },
   "outputs": [],
   "source": [
    "#exercise_7_executive_bins = ...\n",
    "# YOUR CODE HERE\n",
    "raise NotImplementedError()"
   ]
  },
  {
   "cell_type": "code",
   "execution_count": null,
   "id": "2220dbc0-71ba-4a86-8557-2e0d67ee402c",
   "metadata": {
    "deletable": false,
    "editable": false,
    "nbgrader": {
     "grade": true,
     "grade_id": "cell-061b2d78a7b60094",
     "locked": true,
     "points": 1,
     "schema_version": 3,
     "solution": false,
     "task": false
    }
   },
   "outputs": [],
   "source": [
    "assert _hash(exercise_7_executive_bins) == '7902699be42c8a8e46fbbb4501726517e86b22c56a189f7625a6da49081b2451'\n",
    ", 'Try again'\n",
    "print('--- Success ---')"
   ]
  },
  {
   "cell_type": "markdown",
   "id": "4ca692ae",
   "metadata": {
    "deletable": false,
    "editable": false,
    "nbgrader": {
     "grade": false,
     "grade_id": "cell-e4048c815b1718bc",
     "locked": true,
     "schema_version": 3,
     "solution": false,
     "task": false
    }
   },
   "source": [
    "## 🏁 Ungraded exercise 🏁\n",
    "Load the file `mysterious_data.csv` and use data visualization tools to answer the following questions:\n",
    "\n",
    "* How is the distribution of `x` in general?\n",
    "* Are there any outlier in any of the fields?\n",
    "* Which 2 charts better represent the underlying data?\n",
    "* Change their style to `bmh`.\n",
    "* Add titles to each chart explaining them."
   ]
  }
 ],
 "metadata": {
  "kernelspec": {
   "display_name": "Python 3 (ipykernel)",
   "language": "python",
   "name": "python3"
  },
  "language_info": {
   "codemirror_mode": {
    "name": "ipython",
    "version": 3
   },
   "file_extension": ".py",
   "mimetype": "text/x-python",
   "name": "python",
   "nbconvert_exporter": "python",
   "pygments_lexer": "ipython3",
   "version": "3.12.11"
  },
  "vscode": {
   "interpreter": {
    "hash": "ef8de6841f8cf6fd3eee71cb00912e3991f4782c59566baf1038d40d283b6212"
   }
  },
  "widgets": {
   "application/vnd.jupyter.widget-state+json": {
    "state": {},
    "version_major": 2,
    "version_minor": 0
   }
  }
 },
 "nbformat": 4,
 "nbformat_minor": 5
}
