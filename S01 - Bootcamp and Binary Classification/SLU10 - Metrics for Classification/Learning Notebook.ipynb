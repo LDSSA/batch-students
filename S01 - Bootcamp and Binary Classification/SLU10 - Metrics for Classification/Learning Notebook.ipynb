{
 "cells": [
  {
   "cell_type": "markdown",
   "metadata": {},
   "source": [
    "# SLU10 - Metrics for Classification\n",
    "\n",
    "At the end of the SLU09 learning notebook, we classified the Iris flowers with a great success - 100% of data points in our training set were identified correctly. This will usually not happen in real life. Real life datasets are imperfect in many ways and you cannot find a model that classifies all the data points correctly. What a data scientist usually strives for is to find the best performing model. How do you measure the model performance? With metrics. As you will find out in SLU17, it is more complicated that that, but metrics are always the first step.\n",
    "\n",
    "`scikit-learn` includes most of the **evaluation metrics for classification** (see [here](http://scikit-learn.org/stable/modules/model_evaluation.html#classification-metrics)). \n",
    "\n",
    "The evaluation metrics for classification presented in this notebook are:\n",
    "- Accuracy Score\n",
    "- Confusion Matrix\n",
    "- Precision\n",
    "- Recall\n",
    "- F1-Score\n",
    "- Area Under the Receiver Operating Characteristic curve (AUROC)\n",
    "\n",
    "At this point, we are looking only at our training data. We want to know how well the model predicted the outcomes for the data on which it was trained and for which we know the true outcomes. The most interesting question of course is how well the model performs for data with unknown outcomes. This is a more complicated question, but there are ways how to estimate this. You will learn more about it in SLU13."
   ]
  },
  {
   "cell_type": "markdown",
   "metadata": {},
   "source": [
    "## Table of Contents  \n",
    "\n",
    "1. [Setting up the Problem](#1)     \n",
    "\n",
    "\n",
    "2. [Evaluating Predictions](#2)     \n",
    "    2.1. [Accuracy](#2.1)    \n",
    "    2.2. [Problems with Accuracy](#2.2) \n",
    "\n",
    "\n",
    "3. [Confusion Matrix: The Building Blocks](#3)    \n",
    "    3.1. [Scikit confusion matrix](#3.1)    \n",
    "    3.2. [Types of errors](#3.2)\n",
    "\n",
    "\n",
    "4. [Classification Metrics](#4)     \n",
    "    4.1. [Accuracy](#4.1)    \n",
    "    4.2. [Precision & Recall](#4.2)    \n",
    "    4.3. [F1 Score](#4.3)\n",
    "\n",
    "\n",
    "5. [Threshold Independent Metrics](#5)    \n",
    "    5.1. [Intuitions Behind the ROC Curve](#5.1)    \n",
    "    5.2. [The ROC Curve](#5.2)    \n",
    "    5.3. [Choosing the best model](#5.3)\n",
    "\n",
    "\n",
    "6. [Closing Remarks](#6)"
   ]
  },
  {
   "cell_type": "markdown",
   "metadata": {},
   "source": [
    "## Imports"
   ]
  },
  {
   "cell_type": "code",
   "execution_count": 1,
   "metadata": {},
   "outputs": [],
   "source": [
    "import numpy as np\n",
    "import pandas as pd\n",
    "import matplotlib.pyplot as plt\n",
    "import seaborn as sns\n",
    "\n",
    "# The sklearn metrics:\n",
    "from sklearn.metrics import (\n",
    "    accuracy_score, \n",
    "    precision_score,\n",
    "    recall_score, \n",
    "    f1_score, \n",
    "    roc_auc_score, \n",
    "    roc_curve, \n",
    "    confusion_matrix, \n",
    "    precision_score, \n",
    "    recall_score,\n",
    ")\n",
    "from utils import (\n",
    "    get_subset,\n",
    "    threshold_df_at, \n",
    "    paint, \n",
    "    get_rates, \n",
    "    plot_roc_curve,\n",
    "    get_data, \n",
    "    make_confmat_pretty, \n",
    "    get_realistic_dataset,\n",
    ")\n",
    "\n",
    "%matplotlib inline \n",
    "plt.rcParams[\"figure.figsize\"]=(3,3)"
   ]
  },
  {
   "cell_type": "markdown",
   "metadata": {},
   "source": [
    "<a id=\"1\"></a>\n",
    "## 1. Setting up the problem\n",
    "\n",
    "We will use a simplified version of the heart disease prediction dataset:"
   ]
  },
  {
   "cell_type": "markdown",
   "metadata": {},
   "source": [
    "<table border=\"1\" class=\"dataframe\">  <thead>    <tr style=\"text-align: right;\">      <th></th>      <th>Patient #</th>      <th>age</th>      <th>sex</th>      <th>cp</th>      <th>trestbps</th>      <th>chol</th>      <th>fbs</th>      <th>disease</th>      <th>predicted_proba</th>    </tr>  </thead>  <tbody>    <tr>      <th>0</th>      <td>0</td>      <td>6.981588</td>      <td>2.143498</td>      <td>1.043253</td>      <td>8.252384</td>      <td>4.507519</td>      <td>2.812073</td>      <td>0.0</td>      <td>0.050365</td>    </tr>    <tr>      <th>1</th>      <td>1</td>      <td>7.424864</td>      <td>2.143498</td>      <td>4.173013</td>      <td>9.106078</td>      <td>5.532835</td>      <td>0.000000</td>      <td>1.0</td>      <td>0.969133</td>    </tr>    <tr>      <th>2</th>      <td>2</td>      <td>7.424864</td>      <td>2.143498</td>      <td>4.173013</td>      <td>6.829559</td>      <td>4.430137</td>      <td>0.000000</td>      <td>0.0</td>      <td>0.365029</td>    </tr>    <tr>      <th>3</th>      <td>3</td>      <td>4.100298</td>      <td>2.143498</td>      <td>3.129760</td>      <td>7.398689</td>      <td>4.836394</td>      <td>0.000000</td>      <td>0.0</td>      <td>0.032620</td>    </tr>    <tr>      <th>4</th>      <td>4</td>      <td>4.543573</td>      <td>0.000000</td>      <td>2.086507</td>      <td>7.398689</td>      <td>3.946497</td>      <td>0.000000</td>      <td>0.0</td>      <td>0.010980</td>    </tr>  </tbody></table>"
   ]
  },
  {
   "cell_type": "markdown",
   "metadata": {},
   "source": [
    "The dataset contains demographic and clinical information about patients and whether they have heart disease. We also have the predicted probability of heart disease for each patient.\n",
    "\n",
    "The `disease` column is the target of this dataset - the true information. It can be:\n",
    "- 0 if the patient is healthy \n",
    "- 1 if the patient has heart disease \n",
    "\n",
    "The `predicted_proba` column is the predicted probability that the patient has heart disease. It is a number between 0 and 1. These predictions may have come from a classifier, from a heuristic, from a doctor, etc. It does not really matter for our purposes, we're just here to evaluate them!\n",
    "\n",
    "As such, we can reduce our dataset for this SLU to just... this: \n",
    "\n",
    "<table border=\"1\" class=\"dataframe\">  <thead>    <tr style=\"text-align: right;\">      <th></th>      <th>disease</th>      <th>predicted_proba</th>    </tr>  </thead>  <tbody>    <tr>      <th>0</th>      <td>0.0</td>      <td>0.050365</td>    </tr>    <tr>      <th>1</th>      <td>1.0</td>      <td>0.969133</td>    </tr>    <tr>      <th>2</th>      <td>0.0</td>      <td>0.365029</td>    </tr>    <tr>      <th>3</th>      <td>0.0</td>      <td>0.032620</td>    </tr>    <tr>      <th>4</th>      <td>0.0</td>      <td>0.010980</td>    </tr>  </tbody></table>"
   ]
  },
  {
   "cell_type": "code",
   "execution_count": 2,
   "metadata": {},
   "outputs": [
    {
     "data": {
      "text/html": [
       "<div>\n",
       "<style scoped>\n",
       "    .dataframe tbody tr th:only-of-type {\n",
       "        vertical-align: middle;\n",
       "    }\n",
       "\n",
       "    .dataframe tbody tr th {\n",
       "        vertical-align: top;\n",
       "    }\n",
       "\n",
       "    .dataframe thead th {\n",
       "        text-align: right;\n",
       "    }\n",
       "</style>\n",
       "<table border=\"1\" class=\"dataframe\">\n",
       "  <thead>\n",
       "    <tr style=\"text-align: right;\">\n",
       "      <th></th>\n",
       "      <th>disease</th>\n",
       "      <th>predicted_proba</th>\n",
       "    </tr>\n",
       "  </thead>\n",
       "  <tbody>\n",
       "    <tr>\n",
       "      <th>0</th>\n",
       "      <td>0.0</td>\n",
       "      <td>0.050365</td>\n",
       "    </tr>\n",
       "    <tr>\n",
       "      <th>1</th>\n",
       "      <td>1.0</td>\n",
       "      <td>0.969133</td>\n",
       "    </tr>\n",
       "    <tr>\n",
       "      <th>2</th>\n",
       "      <td>0.0</td>\n",
       "      <td>0.365029</td>\n",
       "    </tr>\n",
       "    <tr>\n",
       "      <th>3</th>\n",
       "      <td>0.0</td>\n",
       "      <td>0.032620</td>\n",
       "    </tr>\n",
       "    <tr>\n",
       "      <th>4</th>\n",
       "      <td>0.0</td>\n",
       "      <td>0.010980</td>\n",
       "    </tr>\n",
       "  </tbody>\n",
       "</table>\n",
       "</div>"
      ],
      "text/plain": [
       "   disease  predicted_proba\n",
       "0      0.0         0.050365\n",
       "1      1.0         0.969133\n",
       "2      0.0         0.365029\n",
       "3      0.0         0.032620\n",
       "4      0.0         0.010980"
      ]
     },
     "execution_count": 2,
     "metadata": {},
     "output_type": "execute_result"
    }
   ],
   "source": [
    "data = pd.read_csv('data/heart_disease_binary.csv')[['disease', 'predicted_proba']]\n",
    "data.head()"
   ]
  },
  {
   "cell_type": "markdown",
   "metadata": {},
   "source": [
    "<a id=\"2\"></a>\n",
    "## 2. Evaluating predictions\n",
    "\n",
    "You may remember from SLU09 that the model returned two outputs:\n",
    "- predictions for probability to belong to each class\n",
    "- predictions for the class labels.\n",
    "\n",
    "The real output of the model are the probabilities. The class labels are always calculated from the probabilities by setting a threshold, e.g. 0.5. The data points with probability greater or equal to the threshold go to this class and the rest goes to the other class (or classes in multiclass problems).\n",
    "\n",
    "To evaluate our predictions, we can use both predicted probabilities and class labels, depending on the metric."
   ]
  },
  {
   "cell_type": "markdown",
   "metadata": {},
   "source": [
    "<a id=\"2.1\"></a>\n",
    "### 2.1 Accuracy \n",
    "\n",
    "Let's start by asking ourselves the most intuitive and straightforward question that comes to our minds when we want to evaluate our brand new model: *how many predictions did we get **right**?* In other words: what is our model's ***Accuracy***?\n",
    "\n",
    "We first need to convert the predicted probabilities into predictions of class labels (0 or 1).\n",
    "\n",
    "To do so, let's define a simple function that converts probabilities into binary predictions by comparing them with a certain **threshold** value (let's say, for instance, 0.5): \n",
    "\n",
    "- if the probability is above or equal to the threshold, return 1 \n",
    "- if the probability is below the threshold, return 0 "
   ]
  },
  {
   "cell_type": "code",
   "execution_count": 3,
   "metadata": {},
   "outputs": [],
   "source": [
    "def threshold_probas(proba, threshold = 0.5): \n",
    "    if proba >= threshold:\n",
    "        return 1\n",
    "    else: \n",
    "        return 0 "
   ]
  },
  {
   "cell_type": "markdown",
   "metadata": {},
   "source": [
    "Great, now let's use this to create a prediction column: "
   ]
  },
  {
   "cell_type": "code",
   "execution_count": 4,
   "metadata": {},
   "outputs": [],
   "source": [
    "data['prediction'] = data['predicted_proba'].apply(threshold_probas)"
   ]
  },
  {
   "cell_type": "markdown",
   "metadata": {},
   "source": [
    "Et voilá! "
   ]
  },
  {
   "cell_type": "code",
   "execution_count": 5,
   "metadata": {},
   "outputs": [
    {
     "data": {
      "text/html": [
       "<div>\n",
       "<style scoped>\n",
       "    .dataframe tbody tr th:only-of-type {\n",
       "        vertical-align: middle;\n",
       "    }\n",
       "\n",
       "    .dataframe tbody tr th {\n",
       "        vertical-align: top;\n",
       "    }\n",
       "\n",
       "    .dataframe thead th {\n",
       "        text-align: right;\n",
       "    }\n",
       "</style>\n",
       "<table border=\"1\" class=\"dataframe\">\n",
       "  <thead>\n",
       "    <tr style=\"text-align: right;\">\n",
       "      <th></th>\n",
       "      <th>disease</th>\n",
       "      <th>predicted_proba</th>\n",
       "      <th>prediction</th>\n",
       "    </tr>\n",
       "  </thead>\n",
       "  <tbody>\n",
       "    <tr>\n",
       "      <th>0</th>\n",
       "      <td>0.0</td>\n",
       "      <td>0.050365</td>\n",
       "      <td>0</td>\n",
       "    </tr>\n",
       "    <tr>\n",
       "      <th>1</th>\n",
       "      <td>1.0</td>\n",
       "      <td>0.969133</td>\n",
       "      <td>1</td>\n",
       "    </tr>\n",
       "    <tr>\n",
       "      <th>2</th>\n",
       "      <td>0.0</td>\n",
       "      <td>0.365029</td>\n",
       "      <td>0</td>\n",
       "    </tr>\n",
       "    <tr>\n",
       "      <th>3</th>\n",
       "      <td>0.0</td>\n",
       "      <td>0.032620</td>\n",
       "      <td>0</td>\n",
       "    </tr>\n",
       "    <tr>\n",
       "      <th>4</th>\n",
       "      <td>0.0</td>\n",
       "      <td>0.010980</td>\n",
       "      <td>0</td>\n",
       "    </tr>\n",
       "  </tbody>\n",
       "</table>\n",
       "</div>"
      ],
      "text/plain": [
       "   disease  predicted_proba  prediction\n",
       "0      0.0         0.050365           0\n",
       "1      1.0         0.969133           1\n",
       "2      0.0         0.365029           0\n",
       "3      0.0         0.032620           0\n",
       "4      0.0         0.010980           0"
      ]
     },
     "execution_count": 5,
     "metadata": {},
     "output_type": "execute_result"
    }
   ],
   "source": [
    "data[['disease','predicted_proba', 'prediction']].head(5)"
   ]
  },
  {
   "cell_type": "markdown",
   "metadata": {},
   "source": [
    "As we can see in the last 2 columns, the low probabilities became 0's, and the high ones became 1's. \n",
    "\n",
    "So, quite informally, the accuracy can be written as \n",
    "\n",
    "$$ A = \\frac{\\text{Number of Correct Predictions}}{\\text{Total Number of Predictions}} $$\n",
    "\n",
    "Let's get the \"predictions we got right\" column: "
   ]
  },
  {
   "cell_type": "code",
   "execution_count": 6,
   "metadata": {},
   "outputs": [],
   "source": [
    "data['correct prediction'] = data['prediction'] == data['disease']"
   ]
  },
  {
   "cell_type": "markdown",
   "metadata": {},
   "source": [
    "Quick look at a sample of 5 predictions "
   ]
  },
  {
   "cell_type": "code",
   "execution_count": 7,
   "metadata": {},
   "outputs": [
    {
     "data": {
      "text/plain": [
       "246    False\n",
       "183     True\n",
       "229     True\n",
       "126     True\n",
       "184     True\n",
       "Name: correct prediction, dtype: bool"
      ]
     },
     "metadata": {},
     "output_type": "display_data"
    }
   ],
   "source": [
    "display(data['correct prediction'].sample(5, random_state=10))"
   ]
  },
  {
   "cell_type": "markdown",
   "metadata": {},
   "source": [
    "Now, let's calculate accuracy: "
   ]
  },
  {
   "cell_type": "code",
   "execution_count": 8,
   "metadata": {},
   "outputs": [
    {
     "name": "stdout",
     "output_type": "stream",
     "text": [
      "0.9372937293729373\n"
     ]
    }
   ],
   "source": [
    "number_of_correct_predictions = data['correct prediction'].sum()\n",
    "total_number_of_predictions = data.shape[0]\n",
    "\n",
    "accuracy = number_of_correct_predictions / total_number_of_predictions\n",
    "print(accuracy)"
   ]
  },
  {
   "cell_type": "markdown",
   "metadata": {},
   "source": [
    "Almost 94% accuracy! Not bad! Or... is it? "
   ]
  },
  {
   "cell_type": "markdown",
   "metadata": {},
   "source": [
    "<a id=\"2.2\"></a>\n",
    "### 2.2 The problem with accuracy \n",
    "\n",
    "Let's say that we have a more realistic dataset, where only ~1.8% of the population has heart disease: "
   ]
  },
  {
   "cell_type": "code",
   "execution_count": 9,
   "metadata": {},
   "outputs": [],
   "source": [
    "realistic_data = get_realistic_dataset()"
   ]
  },
  {
   "cell_type": "code",
   "execution_count": 10,
   "metadata": {},
   "outputs": [
    {
     "data": {
      "text/html": [
       "<div>\n",
       "<style scoped>\n",
       "    .dataframe tbody tr th:only-of-type {\n",
       "        vertical-align: middle;\n",
       "    }\n",
       "\n",
       "    .dataframe tbody tr th {\n",
       "        vertical-align: top;\n",
       "    }\n",
       "\n",
       "    .dataframe thead th {\n",
       "        text-align: right;\n",
       "    }\n",
       "</style>\n",
       "<table border=\"1\" class=\"dataframe\">\n",
       "  <thead>\n",
       "    <tr style=\"text-align: right;\">\n",
       "      <th></th>\n",
       "      <th>Patient #</th>\n",
       "      <th>age</th>\n",
       "      <th>sex</th>\n",
       "      <th>cp</th>\n",
       "      <th>trestbps</th>\n",
       "      <th>chol</th>\n",
       "      <th>fbs</th>\n",
       "      <th>disease</th>\n",
       "      <th>predicted_proba</th>\n",
       "    </tr>\n",
       "  </thead>\n",
       "  <tbody>\n",
       "    <tr>\n",
       "      <th>226</th>\n",
       "      <td>226</td>\n",
       "      <td>5.208486</td>\n",
       "      <td>2.143498</td>\n",
       "      <td>4.173013</td>\n",
       "      <td>6.374255</td>\n",
       "      <td>3.946497</td>\n",
       "      <td>0.0</td>\n",
       "      <td>0.0</td>\n",
       "      <td>0.015412</td>\n",
       "    </tr>\n",
       "    <tr>\n",
       "      <th>81</th>\n",
       "      <td>81</td>\n",
       "      <td>5.873400</td>\n",
       "      <td>0.000000</td>\n",
       "      <td>4.173013</td>\n",
       "      <td>7.398689</td>\n",
       "      <td>5.107232</td>\n",
       "      <td>0.0</td>\n",
       "      <td>0.0</td>\n",
       "      <td>0.013638</td>\n",
       "    </tr>\n",
       "    <tr>\n",
       "      <th>130</th>\n",
       "      <td>130</td>\n",
       "      <td>5.984218</td>\n",
       "      <td>2.143498</td>\n",
       "      <td>3.129760</td>\n",
       "      <td>6.829559</td>\n",
       "      <td>4.991158</td>\n",
       "      <td>0.0</td>\n",
       "      <td>0.0</td>\n",
       "      <td>0.023825</td>\n",
       "    </tr>\n",
       "  </tbody>\n",
       "</table>\n",
       "</div>"
      ],
      "text/plain": [
       "     Patient #       age       sex        cp  trestbps      chol  fbs  \\\n",
       "226        226  5.208486  2.143498  4.173013  6.374255  3.946497  0.0   \n",
       "81          81  5.873400  0.000000  4.173013  7.398689  5.107232  0.0   \n",
       "130        130  5.984218  2.143498  3.129760  6.829559  4.991158  0.0   \n",
       "\n",
       "     disease  predicted_proba  \n",
       "226      0.0         0.015412  \n",
       "81       0.0         0.013638  \n",
       "130      0.0         0.023825  "
      ]
     },
     "execution_count": 10,
     "metadata": {},
     "output_type": "execute_result"
    }
   ],
   "source": [
    "realistic_data.head(3)"
   ]
  },
  {
   "cell_type": "markdown",
   "metadata": {},
   "source": [
    "Let's check that indeed only ~1.8% of the population has heart disease: "
   ]
  },
  {
   "cell_type": "code",
   "execution_count": 11,
   "metadata": {},
   "outputs": [
    {
     "data": {
      "image/png": "[encoded data removed]",
      "text/plain": [
       "<Figure size 300x300 with 1 Axes>"
      ]
     },
     "metadata": {},
     "output_type": "display_data"
    }
   ],
   "source": [
    "ax = realistic_data.disease.value_counts(normalize=True).mul(100).plot.bar(rot=0)\n",
    "ax.set_xlabel('disease')\n",
    "ax.set_ylabel('Percentage')\n",
    "\n",
    "plt.show()"
   ]
  },
  {
   "cell_type": "markdown",
   "metadata": {},
   "source": [
    "Sounds about right, in the percentage chart we can barely see the percentage of the population that has heart disease!\n",
    "\n",
    "So... if all we're being evaluated on is how often we get the answer right, doesn't it make sense to always predict 0? "
   ]
  },
  {
   "cell_type": "code",
   "execution_count": 12,
   "metadata": {},
   "outputs": [],
   "source": [
    "realistic_data['always zero'] = 0 "
   ]
  },
  {
   "cell_type": "markdown",
   "metadata": {},
   "source": [
    "Take a minute of your time to understand the next line of code:"
   ]
  },
  {
   "cell_type": "code",
   "execution_count": 13,
   "metadata": {},
   "outputs": [],
   "source": [
    "realistic_data['correct answer'] = realistic_data['always zero'] == realistic_data['disease']"
   ]
  },
  {
   "cell_type": "markdown",
   "metadata": {},
   "source": [
    "And the accurary is:"
   ]
  },
  {
   "cell_type": "code",
   "execution_count": 14,
   "metadata": {},
   "outputs": [
    {
     "name": "stdout",
     "output_type": "stream",
     "text": [
      "0.9820627802690582\n"
     ]
    }
   ],
   "source": [
    "number_of_correct_predictions = realistic_data['correct answer'].sum()\n",
    "total_number_of_predictions = len(realistic_data)\n",
    "\n",
    "accuracy = number_of_correct_predictions / total_number_of_predictions\n",
    "print(accuracy)"
   ]
  },
  {
   "cell_type": "markdown",
   "metadata": {},
   "source": [
    "Oh. So, by always predicting zero, we get an accuracy of over 98%. \n",
    "\n",
    "Conclusion: \n",
    "> **Accuracy is as dangerous as it is intuitive and only works on well balanced datasets**\n",
    "\n",
    "<div class=\"alert alert-block alert-info\"> <b>Side Note:</b>\n",
    "Unbalanced datasets are datasets where each class has very different numbers of data points. You have already seen in SLU09 that it influences the classification boundary. There are ways to deal with unbalanced datasets, but we won't go into detail here, since it is not the scope of this SLU. Two common ways of dealing with this problem are <a href=\"https://imbalanced-learn.org/stable/under_sampling.html\" class=\"alert-link\">under sampling</a> and <a href=\"https://imbalanced-learn.org/stable/over_sampling.html\" class=\"alert-link\">over sampling</a>, which you'll learn about in SLU14. They solve the problem by rebalancing the classes, either by increasing the number of observations from the minority class of by decreasing the number of observations from the majority class.\n",
    "</div>"
   ]
  },
  {
   "cell_type": "markdown",
   "metadata": {},
   "source": [
    "<a id=\"3\"></a>\n",
    "## 3. Confusion Matrix: The Building Blocks\n",
    "\n",
    "The confusion matrix has a scary name but is actually a simple concept. In binary classification, we either predict 1 or 0 (positive or negative), and we're either right or wrong. This matrix covers all the cases. \n",
    "\n",
    "<img src=\"media/confusion_mat_labelled.png\" width=\"400\">"
   ]
  },
  {
   "cell_type": "markdown",
   "metadata": {},
   "source": [
    "- If we predicted positive, and it was positive, then it is a **True Positive**\n",
    "- If we predicted negative, and it was negative, then it is a **True Negative**\n",
    "- If we predicted positive, and it was negative, then it is a **False Positive**  \n",
    "- If we predicted negative, and it was positive, then it is a **False Negative**\n",
    "\n",
    "Deconstructing the logic: \n",
    "- The word \"positive\" or \"negative\" refers to what we predicted. \n",
    "- The word \"true\" or \"false\" refers to whether the prediction was correct or not. \n",
    "\n",
    "Despite its simplicity, the confusion matrix is one of the most important metrics for binary classification problems,  since it is the *basis to derive all the other metrics*, incuding the accuracy, as we shall see further ahead."
   ]
  },
  {
   "cell_type": "markdown",
   "metadata": {},
   "source": [
    "<a id=\"3.1\"></a>\n",
    "### 3.1 Scikit confusion matrix \n",
    "\n",
    "Let's calculate the confusion matrix for our original dataset, with our predictions."
   ]
  },
  {
   "cell_type": "code",
   "execution_count": 15,
   "metadata": {},
   "outputs": [
    {
     "data": {
      "text/html": [
       "<div>\n",
       "<style scoped>\n",
       "    .dataframe tbody tr th:only-of-type {\n",
       "        vertical-align: middle;\n",
       "    }\n",
       "\n",
       "    .dataframe tbody tr th {\n",
       "        vertical-align: top;\n",
       "    }\n",
       "\n",
       "    .dataframe thead th {\n",
       "        text-align: right;\n",
       "    }\n",
       "</style>\n",
       "<table border=\"1\" class=\"dataframe\">\n",
       "  <thead>\n",
       "    <tr style=\"text-align: right;\">\n",
       "      <th></th>\n",
       "      <th>disease</th>\n",
       "      <th>predicted_proba</th>\n",
       "      <th>prediction</th>\n",
       "    </tr>\n",
       "  </thead>\n",
       "  <tbody>\n",
       "    <tr>\n",
       "      <th>0</th>\n",
       "      <td>0.0</td>\n",
       "      <td>0.050365</td>\n",
       "      <td>0</td>\n",
       "    </tr>\n",
       "    <tr>\n",
       "      <th>1</th>\n",
       "      <td>1.0</td>\n",
       "      <td>0.969133</td>\n",
       "      <td>1</td>\n",
       "    </tr>\n",
       "    <tr>\n",
       "      <th>2</th>\n",
       "      <td>0.0</td>\n",
       "      <td>0.365029</td>\n",
       "      <td>0</td>\n",
       "    </tr>\n",
       "  </tbody>\n",
       "</table>\n",
       "</div>"
      ],
      "text/plain": [
       "   disease  predicted_proba  prediction\n",
       "0      0.0         0.050365           0\n",
       "1      1.0         0.969133           1\n",
       "2      0.0         0.365029           0"
      ]
     },
     "execution_count": 15,
     "metadata": {},
     "output_type": "execute_result"
    }
   ],
   "source": [
    "data[['disease','predicted_proba', 'prediction']].head(3)"
   ]
  },
  {
   "cell_type": "code",
   "execution_count": 16,
   "metadata": {},
   "outputs": [],
   "source": [
    "# this is scikit-learn's confusion matrix, we will use it a lot! \n",
    "confmat = confusion_matrix(y_true=data['disease'], \n",
    "                           y_pred=data['prediction'])"
   ]
  },
  {
   "cell_type": "code",
   "execution_count": 17,
   "metadata": {},
   "outputs": [
    {
     "data": {
      "text/plain": [
       "array([[219,   0],\n",
       "       [ 19,  65]])"
      ]
     },
     "execution_count": 17,
     "metadata": {},
     "output_type": "execute_result"
    }
   ],
   "source": [
    "confmat"
   ]
  },
  {
   "cell_type": "markdown",
   "metadata": {},
   "source": [
    "Without wanting to include matplotlib code here, we've made a util to pretty this up: "
   ]
  },
  {
   "cell_type": "code",
   "execution_count": 18,
   "metadata": {},
   "outputs": [
    {
     "data": {
      "image/png": "[encoded data removed]",
      "text/plain": [
       "<Figure size 300x300 with 1 Axes>"
      ]
     },
     "metadata": {},
     "output_type": "display_data"
    }
   ],
   "source": [
    "make_confmat_pretty(confmat)"
   ]
  },
  {
   "cell_type": "markdown",
   "metadata": {},
   "source": [
    "We can look at this and notice a few things:\n",
    "\n",
    "Reading horizontally, the first row:\n",
    "> _\"Of the times the patient was healthy, we always predicted that he was healthy (hurray!)\"_\n",
    "\n",
    "Reading horizontally, the second row:\n",
    "> _\"Of the times the patient was sick, we were wrong 19 times, which is a lot of mistakes when we consider that there were only 84 (19+65) sick patients\"_ \n",
    "\n",
    "Reading vertically, the first column: \n",
    "> _\"Of the times when we predicted that the patient was healthy, they were healthy 219 times (out of a total of 238), but sick 19 times.\"_   \n",
    "(_Note how this is different from the first row conclusion_)\n",
    "\n",
    "Reading vertically, the second column:\n",
    "> _\"Of the times we predicted sick, the patient was always sick.\"_ "
   ]
  },
  {
   "cell_type": "markdown",
   "metadata": {},
   "source": [
    "<a id=\"3.2\"></a>\n",
    "### 3.2 Types of errors\n",
    "\n",
    "You will admit that the confusion matrix gives us a much more nuanced idea than the accuracy being 94% could give. \n",
    "\n",
    "One important thing to bear in mind is that different types of errors can weigh differently. \n",
    "\n",
    "In our case, we have two options:  \n",
    "\n",
    "- A. Err on the side of making healthy patients take more tests  \n",
    "- B. Err on the side of sending sick patients away without help   \n",
    "\n",
    "Clearly option B is more problematic in this situation. But when we look at our confusion matrix, that seems to be exactly what we are doing. When they were healthy, we always said they were healthy, but when they were sick, we very often said they were healthy _(can you see that in the confusion matrix?)_. "
   ]
  },
  {
   "cell_type": "code",
   "execution_count": 19,
   "metadata": {},
   "outputs": [
    {
     "data": {
      "image/png": "[encoded data removed]",
      "text/plain": [
       "<Figure size 300x300 with 1 Axes>"
      ]
     },
     "metadata": {},
     "output_type": "display_data"
    }
   ],
   "source": [
    "make_confmat_pretty(confmat)"
   ]
  },
  {
   "cell_type": "markdown",
   "metadata": {},
   "source": [
    "#### Therefore, this model, with 94% accuracy... sucks for the purpose it was designed to achieve! \n",
    "\n",
    "These two error types are also called type 1 and 2:\n",
    "* Type 1: False Positive  \n",
    "* Type 2: False Negative  \n",
    "\n",
    "But, to be honest, most of us just use this picture to remember it: "
   ]
  },
  {
   "cell_type": "markdown",
   "metadata": {},
   "source": [
    "<img src=\"media/type_1_2_errors.jpg\"  width= \"600\"/>"
   ]
  },
  {
   "cell_type": "markdown",
   "metadata": {},
   "source": [
    "Ideally, you'd want to avoid both error types, but in practice, it is often not possible. Decreasing false positives often increases false negatives and vice versa. As we will see next, it depends on the situation which type of error is preferable. \n",
    "\n",
    "<a id=\"4\"></a>\n",
    "## 4. Classification Metrics\n",
    "\n",
    "Alright, let's go back to the metrics with a bit more formality now. We'll be comparing these disease predictions and true observed data:"
   ]
  },
  {
   "cell_type": "code",
   "execution_count": 20,
   "metadata": {},
   "outputs": [],
   "source": [
    "predicted = data['prediction']\n",
    "observed = data['disease']"
   ]
  },
  {
   "cell_type": "markdown",
   "metadata": {},
   "source": [
    "<a id=\"4.1\"></a>\n",
    "### 4.1 Accuracy\n",
    "The [**accuracy**](http://scikit-learn.org/stable/modules/model_evaluation.html#accuracy-score) is the fraction of correct predictions among all predictions. It is given by:  \n",
    "\n",
    "$$ A = \\frac{TP + TN}{TP + TN + FP + FN} $$\n",
    "\n",
    "Where, $TP$ corresponds to the True Positives, $TN$ the True Negatives, $FP$ the False Positives, and $FN$ the False Negatives.\n",
    "\n",
    "The main advantage of this metric is its simplicity and common understanding of what it means for everyone. Disadvantages of this metric:\n",
    "- It gives misleading results on **highly imbalanced** datasets.\n",
    "- You have to set a threshold for the output of the classifier to convert the probability into 0/1 predictions. This is true for most of the metrics shown in this notebook."
   ]
  },
  {
   "cell_type": "code",
   "execution_count": 21,
   "metadata": {},
   "outputs": [
    {
     "name": "stdout",
     "output_type": "stream",
     "text": [
      "Accuracy = 0.937\n"
     ]
    }
   ],
   "source": [
    "print('Accuracy = %2.3f' % accuracy_score(y_pred=predicted, y_true=observed))"
   ]
  },
  {
   "cell_type": "markdown",
   "metadata": {},
   "source": [
    "Notice the function arguments. You can pass them as positional, but to avoid confusion on what is prediction and what is the true outcome always use the keywords."
   ]
  },
  {
   "cell_type": "markdown",
   "metadata": {},
   "source": [
    "<a id=\"4.2\"></a>\n",
    "### 4.2 Precision & Recall \n",
    "\n",
    "We'll now look into a new set of metrics - precision and recall. For these metrics, think of a problem with two classes where you are interested in one of the classes. As an example, for medical datasets we would be interested in the positive cases of some disease we are trying to detect. That elements of this class are our **relevant cases**.\n",
    "\n",
    "Precision and recall are usually computed for this relevant class (although they can also be computed with the summed totals for all classes) and they make use of the measures presented above - True Positives and Negatives and False Positives and Negatives.\n",
    "\n",
    "As shown in the image below, precision answers the question:\n",
    "\n",
    "> How many selected items are relevant?\n",
    "\n",
    "While recall asks\n",
    "\n",
    "> How many relevant items are selected?"
   ]
  },
  {
   "cell_type": "markdown",
   "metadata": {},
   "source": [
    "<a href=\"https://en.wikipedia.org/wiki/Precision_and_recall\"><img src=\"media/precision_recall_2.png\"></a>"
   ]
  },
  {
   "cell_type": "markdown",
   "metadata": {},
   "source": [
    "In other words, [**precision**](http://scikit-learn.org/stable/modules/generated/sklearn.metrics.precision_score.html#sklearn.metrics.precision_score) measures the ability of the classifier not to mislabel a negative sample as positive (i.e., a measure of result relevancy).\n",
    "\n",
    "$$ P = \\frac{TP}{PP} = \\frac{TP}{TP+FP} $$  \n",
    "\n",
    "where $PP = TP + FP$ stands for Predicted Positive, which represents all observations that our model predicted as positive (that can be either false or true).\n",
    "\n",
    "<img src=\"media/conf_mat_labelled_5.png\" width=\"400\">\n",
    "\n",
    "In our heart disease confusion matrix, precision would be the bottom right field (True Positives (65)) divided by the sum of the second column (True Positives (65) + False Positives (0)).\n",
    "\n",
    "Precision score for the heart disease from `scikit-learn`:"
   ]
  },
  {
   "cell_type": "code",
   "execution_count": 22,
   "metadata": {},
   "outputs": [
    {
     "data": {
      "text/plain": [
       "1.0"
      ]
     },
     "execution_count": 22,
     "metadata": {},
     "output_type": "execute_result"
    }
   ],
   "source": [
    "precision_score(y_pred=predicted, y_true=observed)"
   ]
  },
  {
   "cell_type": "markdown",
   "metadata": {},
   "source": [
    "#### One way to think about precision is:\n",
    "\n",
    "<img src=\"media/precision_judge.jpg\" width=\"400\">"
   ]
  },
  {
   "cell_type": "markdown",
   "metadata": {},
   "source": [
    "On the other hand, [**recall**](http://scikit-learn.org/stable/modules/generated/sklearn.metrics.recall_score.html#sklearn.metrics.recall_score) is the ability of the classifier to find the positive samples (i.e., a measure of how many truly relevant results are returned).\n",
    "\n",
    "$$ R = \\frac{TP}{N} = \\frac{TP}{TP+FN} $$  \n",
    "\n",
    "<img src=\"media/conf_mat_labelled_6.png\" width=\"400\">\n",
    "\n",
    "In our heart disease confusion matrix, it is the bottom right field (True Positives (65)) divided by the bottom row (False Negatives (19) + True Positives (65))"
   ]
  },
  {
   "cell_type": "code",
   "execution_count": 23,
   "metadata": {
    "scrolled": false
   },
   "outputs": [
    {
     "data": {
      "text/plain": [
       "0.7738095238095238"
      ]
     },
     "execution_count": 23,
     "metadata": {},
     "output_type": "execute_result"
    }
   ],
   "source": [
    "recall_score(y_pred=predicted, y_true=observed)"
   ]
  },
  {
   "cell_type": "markdown",
   "metadata": {},
   "source": [
    "#### A way of thinking about recall is: \n",
    "\n",
    "<img src=\"media/recall_sick_people.jpg\" width=\"400\">"
   ]
  },
  {
   "cell_type": "markdown",
   "metadata": {},
   "source": [
    "Going back to our heart disease case, we have a model that has very high precision, but a lower recall. This means it would rather miss a sick patient than annoy a healthy patient with tests. In a medical application, that seems like a bad idea.\n",
    "\n",
    "Precision and recall are related to specificity and sensitivity which you might remember as parameters used to indicated the reliability of a laboratory disease test. Specificity is the ability of a test to correctly exclude individuals who do not have a given disease, which is $1 - precision$. Sensitivity is the ability of a test to correctly identify people who have a given disease, the same as the recall.\n",
    "\n",
    "As you might imagine, the higher your precision, the lower your recall, and vice versa. For the same model, you can tune the precision/recall trade-off by setting different thresholds for the conversion of the probability to class. "
   ]
  },
  {
   "cell_type": "markdown",
   "metadata": {},
   "source": [
    "<a id=\"4.3\"></a>\n",
    "### 4.3 F1 score \n",
    "\n",
    "F1 score is an attempt to find a \"midground\" between precision and recall. However, it should be used with caution, as it assumes that both False Positives and False Negatives have the same impact on the end objective, which in a real scenario is rarely true!\n",
    "\n",
    "- [**F1 score**](http://scikit-learn.org/stable/modules/generated/sklearn.metrics.f1_score.html#sklearn.metrics.f1_score) is the harmonic mean of the precision and recall.\n",
    "\n",
    "$$ F1 = 2\\frac{P \\times R}{P+R} $$"
   ]
  },
  {
   "cell_type": "code",
   "execution_count": 24,
   "metadata": {},
   "outputs": [
    {
     "name": "stdout",
     "output_type": "stream",
     "text": [
      "F1 score = 0.872\n"
     ]
    }
   ],
   "source": [
    "print('F1 score = %1.3f' % f1_score(y_pred=predicted, y_true=observed))"
   ]
  },
  {
   "cell_type": "markdown",
   "metadata": {},
   "source": [
    "For further information on precision, recall and f1-score see the [user guide](http://scikit-learn.org/stable/modules/model_evaluation.html#precision-recall-and-f-measures).\n",
    "\n",
    "Remember that different metrics serve different purposes and their meaningfulness depends also on the dataset properties, e.g. if it's balanced or not."
   ]
  },
  {
   "cell_type": "markdown",
   "metadata": {},
   "source": [
    "<a id=\"5\"></a>\n",
    "## 5. Threshold Independent Metrics\n",
    "\n",
    "So far, all metrics we have seen can only be calculated after converting the predicted probabilities into class labels by setting a threshold (decision boundary). However, setting a threshold is an analysis decision of the data scientist and is not given by the classifier. With it, we are also throwing away all the probability information provided by the classifier. We can use this information to evaluate the classifier performance with threshold independent metrics: the **Receiver Operating Characteristic (ROC) curve** and the **Precision-Recall (PR) curve**. These methods allow us to compute an **overall performance metric** for our model through the **area under the curve (AUC)** measurement.  \n",
    "\n",
    "<div class=\"alert alert-block alert-info\"> <b>Side Note:</b>\n",
    "Both ROC and Precision-Recall curves give us very similar overall performance metrics for binary classification models for balanced (or not too imbalanced) datasets. For highly imbalanced datasets, the Precision-Recall curve is preferable. Here, we will focus on the ROC curve since it is more frequently used.\n",
    "</div>\n",
    "\n",
    "You can find more information on Precision-Recall Curves [here](https://scikit-learn.org/stable/modules/generated/sklearn.metrics.precision_recall_curve.html#sklearn.metrics.precision_recall_curve) and [here](https://machinelearningmastery.com/threshold-moving-for-imbalanced-classification)."
   ]
  },
  {
   "cell_type": "markdown",
   "metadata": {},
   "source": [
    "<a id=\"5.1\"></a>\n",
    "### 5.1 Intuitions Behind the ROC Curve \n",
    "\n",
    "The previous threshold-dependent metrics were calculated from the confusion matrix which we get after setting a threshold on the probabilities output from a classifier. The ROC curve is like looking at all the confusion matrices at all the different thresholds at once.\n",
    "\n",
    "Let's look at our dataset at different thresholds and see what happens with the confusion matrix measures."
   ]
  },
  {
   "cell_type": "code",
   "execution_count": 25,
   "metadata": {},
   "outputs": [
    {
     "data": {
      "text/html": [
       "<div>\n",
       "<style scoped>\n",
       "    .dataframe tbody tr th:only-of-type {\n",
       "        vertical-align: middle;\n",
       "    }\n",
       "\n",
       "    .dataframe tbody tr th {\n",
       "        vertical-align: top;\n",
       "    }\n",
       "\n",
       "    .dataframe thead th {\n",
       "        text-align: right;\n",
       "    }\n",
       "</style>\n",
       "<table border=\"1\" class=\"dataframe\">\n",
       "  <thead>\n",
       "    <tr style=\"text-align: right;\">\n",
       "      <th></th>\n",
       "      <th>predicted_proba</th>\n",
       "      <th>disease</th>\n",
       "    </tr>\n",
       "  </thead>\n",
       "  <tbody>\n",
       "    <tr>\n",
       "      <th>104</th>\n",
       "      <td>0.977353</td>\n",
       "      <td>0.0</td>\n",
       "    </tr>\n",
       "    <tr>\n",
       "      <th>9</th>\n",
       "      <td>0.210351</td>\n",
       "      <td>0.0</td>\n",
       "    </tr>\n",
       "    <tr>\n",
       "      <th>161</th>\n",
       "      <td>0.050172</td>\n",
       "      <td>1.0</td>\n",
       "    </tr>\n",
       "    <tr>\n",
       "      <th>250</th>\n",
       "      <td>0.060706</td>\n",
       "      <td>0.0</td>\n",
       "    </tr>\n",
       "    <tr>\n",
       "      <th>244</th>\n",
       "      <td>0.041574</td>\n",
       "      <td>0.0</td>\n",
       "    </tr>\n",
       "  </tbody>\n",
       "</table>\n",
       "</div>"
      ],
      "text/plain": [
       "     predicted_proba  disease\n",
       "104         0.977353      0.0\n",
       "9           0.210351      0.0\n",
       "161         0.050172      1.0\n",
       "250         0.060706      0.0\n",
       "244         0.041574      0.0"
      ]
     },
     "metadata": {},
     "output_type": "display_data"
    }
   ],
   "source": [
    "# here we just create a subset to avoid showing \n",
    "# the full dataset all the time \n",
    "df = get_subset(data)\n",
    "display(df.sample(5, random_state=104))"
   ]
  },
  {
   "cell_type": "markdown",
   "metadata": {},
   "source": [
    "What we did before was to set a threshold at 0.5:"
   ]
  },
  {
   "cell_type": "code",
   "execution_count": 26,
   "metadata": {
    "scrolled": true
   },
   "outputs": [
    {
     "data": {
      "text/html": [
       "<style type=\"text/css\">\n",
       "#T_8cde6_row0_col0, #T_8cde6_row0_col1, #T_8cde6_row0_col2, #T_8cde6_row1_col0, #T_8cde6_row1_col1, #T_8cde6_row1_col2, #T_8cde6_row2_col0, #T_8cde6_row2_col1, #T_8cde6_row2_col2, #T_8cde6_row3_col0, #T_8cde6_row3_col1, #T_8cde6_row4_col0, #T_8cde6_row4_col1, #T_8cde6_row4_col2 {\n",
       "  color: black;\n",
       "}\n",
       "#T_8cde6_row3_col2 {\n",
       "  color: red;\n",
       "}\n",
       "</style>\n",
       "<table id=\"T_8cde6\">\n",
       "  <thead>\n",
       "    <tr>\n",
       "      <th class=\"blank level0\" >&nbsp;</th>\n",
       "      <th id=\"T_8cde6_level0_col0\" class=\"col_heading level0 col0\" >predicted_proba</th>\n",
       "      <th id=\"T_8cde6_level0_col1\" class=\"col_heading level0 col1\" >disease</th>\n",
       "      <th id=\"T_8cde6_level0_col2\" class=\"col_heading level0 col2\" >threshold at 0.5</th>\n",
       "    </tr>\n",
       "  </thead>\n",
       "  <tbody>\n",
       "    <tr>\n",
       "      <th id=\"T_8cde6_level0_row0\" class=\"row_heading level0 row0\" >245</th>\n",
       "      <td id=\"T_8cde6_row0_col0\" class=\"data row0 col0\" >0.872704</td>\n",
       "      <td id=\"T_8cde6_row0_col1\" class=\"data row0 col1\" >1.000000</td>\n",
       "      <td id=\"T_8cde6_row0_col2\" class=\"data row0 col2\" >1</td>\n",
       "    </tr>\n",
       "    <tr>\n",
       "      <th id=\"T_8cde6_level0_row1\" class=\"row_heading level0 row1\" >162</th>\n",
       "      <td id=\"T_8cde6_row1_col0\" class=\"data row1 col0\" >0.016896</td>\n",
       "      <td id=\"T_8cde6_row1_col1\" class=\"data row1 col1\" >0.000000</td>\n",
       "      <td id=\"T_8cde6_row1_col2\" class=\"data row1 col2\" >0</td>\n",
       "    </tr>\n",
       "    <tr>\n",
       "      <th id=\"T_8cde6_level0_row2\" class=\"row_heading level0 row2\" >10</th>\n",
       "      <td id=\"T_8cde6_row2_col0\" class=\"data row2 col0\" >0.018994</td>\n",
       "      <td id=\"T_8cde6_row2_col1\" class=\"data row2 col1\" >0.000000</td>\n",
       "      <td id=\"T_8cde6_row2_col2\" class=\"data row2 col2\" >0</td>\n",
       "    </tr>\n",
       "    <tr>\n",
       "      <th id=\"T_8cde6_level0_row3\" class=\"row_heading level0 row3\" >161</th>\n",
       "      <td id=\"T_8cde6_row3_col0\" class=\"data row3 col0\" >0.050172</td>\n",
       "      <td id=\"T_8cde6_row3_col1\" class=\"data row3 col1\" >1.000000</td>\n",
       "      <td id=\"T_8cde6_row3_col2\" class=\"data row3 col2\" >0</td>\n",
       "    </tr>\n",
       "    <tr>\n",
       "      <th id=\"T_8cde6_level0_row4\" class=\"row_heading level0 row4\" >73</th>\n",
       "      <td id=\"T_8cde6_row4_col0\" class=\"data row4 col0\" >0.057306</td>\n",
       "      <td id=\"T_8cde6_row4_col1\" class=\"data row4 col1\" >0.000000</td>\n",
       "      <td id=\"T_8cde6_row4_col2\" class=\"data row4 col2\" >0</td>\n",
       "    </tr>\n",
       "  </tbody>\n",
       "</table>\n"
      ],
      "text/plain": [
       "<pandas.io.formats.style.Styler at 0x7f8af9d873a0>"
      ]
     },
     "execution_count": 26,
     "metadata": {},
     "output_type": "execute_result"
    }
   ],
   "source": [
    "df_threshold = threshold_df_at(df, .5)    # 50% threshold \n",
    "df_threshold.sample(5, random_state=3).style.apply(paint, axis=1)"
   ]
  },
  {
   "cell_type": "markdown",
   "metadata": {},
   "source": [
    "Ok, not bad, but we got a False Negative on that red row here (it was positive, and we called it negative).  \n",
    "\n",
    "What if we lower the threshold? Let's say to 0.05, to catch that red!  "
   ]
  },
  {
   "cell_type": "code",
   "execution_count": 27,
   "metadata": {},
   "outputs": [
    {
     "data": {
      "text/html": [
       "<style type=\"text/css\">\n",
       "#T_09923_row0_col0, #T_09923_row0_col1, #T_09923_row0_col2, #T_09923_row0_col3, #T_09923_row1_col0, #T_09923_row1_col1, #T_09923_row1_col2, #T_09923_row1_col3, #T_09923_row2_col0, #T_09923_row2_col1, #T_09923_row2_col2, #T_09923_row2_col3, #T_09923_row3_col0, #T_09923_row3_col1, #T_09923_row3_col3, #T_09923_row4_col0, #T_09923_row4_col1, #T_09923_row4_col2 {\n",
       "  color: black;\n",
       "}\n",
       "#T_09923_row3_col2, #T_09923_row4_col3 {\n",
       "  color: red;\n",
       "}\n",
       "</style>\n",
       "<table id=\"T_09923\">\n",
       "  <thead>\n",
       "    <tr>\n",
       "      <th class=\"blank level0\" >&nbsp;</th>\n",
       "      <th id=\"T_09923_level0_col0\" class=\"col_heading level0 col0\" >predicted_proba</th>\n",
       "      <th id=\"T_09923_level0_col1\" class=\"col_heading level0 col1\" >disease</th>\n",
       "      <th id=\"T_09923_level0_col2\" class=\"col_heading level0 col2\" >threshold at 0.5</th>\n",
       "      <th id=\"T_09923_level0_col3\" class=\"col_heading level0 col3\" >threshold at 0.05</th>\n",
       "    </tr>\n",
       "  </thead>\n",
       "  <tbody>\n",
       "    <tr>\n",
       "      <th id=\"T_09923_level0_row0\" class=\"row_heading level0 row0\" >245</th>\n",
       "      <td id=\"T_09923_row0_col0\" class=\"data row0 col0\" >0.872704</td>\n",
       "      <td id=\"T_09923_row0_col1\" class=\"data row0 col1\" >1.000000</td>\n",
       "      <td id=\"T_09923_row0_col2\" class=\"data row0 col2\" >1</td>\n",
       "      <td id=\"T_09923_row0_col3\" class=\"data row0 col3\" >1</td>\n",
       "    </tr>\n",
       "    <tr>\n",
       "      <th id=\"T_09923_level0_row1\" class=\"row_heading level0 row1\" >162</th>\n",
       "      <td id=\"T_09923_row1_col0\" class=\"data row1 col0\" >0.016896</td>\n",
       "      <td id=\"T_09923_row1_col1\" class=\"data row1 col1\" >0.000000</td>\n",
       "      <td id=\"T_09923_row1_col2\" class=\"data row1 col2\" >0</td>\n",
       "      <td id=\"T_09923_row1_col3\" class=\"data row1 col3\" >0</td>\n",
       "    </tr>\n",
       "    <tr>\n",
       "      <th id=\"T_09923_level0_row2\" class=\"row_heading level0 row2\" >10</th>\n",
       "      <td id=\"T_09923_row2_col0\" class=\"data row2 col0\" >0.018994</td>\n",
       "      <td id=\"T_09923_row2_col1\" class=\"data row2 col1\" >0.000000</td>\n",
       "      <td id=\"T_09923_row2_col2\" class=\"data row2 col2\" >0</td>\n",
       "      <td id=\"T_09923_row2_col3\" class=\"data row2 col3\" >0</td>\n",
       "    </tr>\n",
       "    <tr>\n",
       "      <th id=\"T_09923_level0_row3\" class=\"row_heading level0 row3\" >161</th>\n",
       "      <td id=\"T_09923_row3_col0\" class=\"data row3 col0\" >0.050172</td>\n",
       "      <td id=\"T_09923_row3_col1\" class=\"data row3 col1\" >1.000000</td>\n",
       "      <td id=\"T_09923_row3_col2\" class=\"data row3 col2\" >0</td>\n",
       "      <td id=\"T_09923_row3_col3\" class=\"data row3 col3\" >1</td>\n",
       "    </tr>\n",
       "    <tr>\n",
       "      <th id=\"T_09923_level0_row4\" class=\"row_heading level0 row4\" >73</th>\n",
       "      <td id=\"T_09923_row4_col0\" class=\"data row4 col0\" >0.057306</td>\n",
       "      <td id=\"T_09923_row4_col1\" class=\"data row4 col1\" >0.000000</td>\n",
       "      <td id=\"T_09923_row4_col2\" class=\"data row4 col2\" >0</td>\n",
       "      <td id=\"T_09923_row4_col3\" class=\"data row4 col3\" >1</td>\n",
       "    </tr>\n",
       "  </tbody>\n",
       "</table>\n"
      ],
      "text/plain": [
       "<pandas.io.formats.style.Styler at 0x7f8af9d875b0>"
      ]
     },
     "execution_count": 27,
     "metadata": {},
     "output_type": "execute_result"
    }
   ],
   "source": [
    "df_threshold = threshold_df_at(df, .05)  # 5% threshold\n",
    "df_threshold.sample(5, random_state=3).style.apply(paint, axis=1)"
   ]
  },
  {
   "cell_type": "markdown",
   "metadata": {},
   "source": [
    "Well, now we caught that one, but now classified a person who was healthy as sick. \n",
    "\n",
    "With 0.05, we have fewer **False Negatives**, but now we have more **False Positives**! \n",
    "\n",
    "The important conclusion here is as follows: \n",
    "\n",
    "> **It's hard to catch more True Positives without catching some False Positives**. "
   ]
  },
  {
   "cell_type": "markdown",
   "metadata": {},
   "source": [
    "To represent this \"ability to catch True Positives\" we will use the True Positive Rate, or \n",
    "\n",
    "> _\"what fraction of the 1s have I called 1?\"_. \n",
    "\n",
    "##### True Positive Rate \n",
    "\n",
    "$$TPR = \\frac{TP}{P} = \\frac{TP}{TP + FN}$$ \n"
   ]
  },
  {
   "cell_type": "markdown",
   "metadata": {},
   "source": [
    "<img src=\"media/conf_mat_labelled_4.png\" width=\"400\">"
   ]
  },
  {
   "cell_type": "markdown",
   "metadata": {},
   "source": [
    "To represent the False Positives (accidental catches), we will use the False Positive Rate, or \n",
    "> _\"Of the observations that were 0, what fraction did I (wrongly!) call 1?\"_\n",
    "\n",
    "##### False Positive Rate\n",
    "\n",
    "$$FPR = \\frac{FP}{N} = \\frac{FP}{FP + TN} $$"
   ]
  },
  {
   "cell_type": "markdown",
   "metadata": {},
   "source": [
    "<img src=\"media/confusion_mat_labelled 2.png\" width=\"400\">"
   ]
  },
  {
   "cell_type": "markdown",
   "metadata": {},
   "source": [
    "Great, now we can see how we do at a few different thresholds: "
   ]
  },
  {
   "cell_type": "code",
   "execution_count": 28,
   "metadata": {},
   "outputs": [
    {
     "data": {
      "text/plain": [
       "array([0.  , 0.05, 0.1 , 0.15, 0.2 , 0.25, 0.3 , 0.35, 0.4 , 0.45, 0.5 ,\n",
       "       0.55, 0.6 , 0.65, 0.7 , 0.75, 0.8 , 0.85, 0.9 , 0.95, 1.  ])"
      ]
     },
     "execution_count": 28,
     "metadata": {},
     "output_type": "execute_result"
    }
   ],
   "source": [
    "# create the thresholds\n",
    "bunch_of_different_thresholds = np.round(np.linspace(0, 1, 21), 2)\n",
    "bunch_of_different_thresholds"
   ]
  },
  {
   "cell_type": "code",
   "execution_count": 29,
   "metadata": {},
   "outputs": [],
   "source": [
    "# set the thresholds\n",
    "df_threshold = df.copy()\n",
    "for threshold in bunch_of_different_thresholds:\n",
    "    df_threshold = threshold_df_at(df_threshold, threshold)"
   ]
  },
  {
   "cell_type": "markdown",
   "metadata": {},
   "source": [
    "Here we get a table with the predictions at different thresholds and see all those that we got wrong:"
   ]
  },
  {
   "cell_type": "code",
   "execution_count": 30,
   "metadata": {},
   "outputs": [
    {
     "data": {
      "text/html": [
       "<style type=\"text/css\">\n",
       "#T_26772_row0_col0, #T_26772_row0_col1, #T_26772_row0_col4, #T_26772_row1_col0, #T_26772_row1_col1, #T_26772_row1_col2, #T_26772_row1_col3, #T_26772_row1_col5, #T_26772_row1_col6, #T_26772_row1_col7, #T_26772_row1_col8, #T_26772_row1_col9, #T_26772_row1_col10, #T_26772_row1_col11, #T_26772_row1_col12, #T_26772_row1_col13, #T_26772_row1_col14, #T_26772_row1_col15, #T_26772_row1_col16, #T_26772_row1_col17, #T_26772_row1_col18, #T_26772_row1_col19, #T_26772_row1_col20, #T_26772_row1_col21, #T_26772_row1_col22, #T_26772_row2_col0, #T_26772_row2_col1, #T_26772_row2_col2, #T_26772_row2_col3, #T_26772_row2_col4, #T_26772_row2_col5, #T_26772_row2_col6, #T_26772_row2_col7, #T_26772_row2_col8, #T_26772_row2_col9, #T_26772_row2_col10, #T_26772_row2_col11, #T_26772_row2_col12, #T_26772_row2_col13, #T_26772_row2_col14, #T_26772_row2_col15, #T_26772_row2_col16, #T_26772_row2_col17, #T_26772_row3_col0, #T_26772_row3_col1, #T_26772_row3_col2, #T_26772_row3_col3, #T_26772_row3_col4, #T_26772_row3_col5, #T_26772_row3_col6, #T_26772_row3_col7, #T_26772_row3_col8, #T_26772_row3_col9, #T_26772_row3_col10, #T_26772_row3_col11, #T_26772_row3_col12, #T_26772_row3_col13, #T_26772_row3_col14, #T_26772_row3_col15, #T_26772_row3_col16, #T_26772_row3_col17, #T_26772_row3_col18, #T_26772_row3_col19, #T_26772_row3_col20, #T_26772_row3_col21, #T_26772_row4_col0, #T_26772_row4_col1, #T_26772_row4_col2, #T_26772_row4_col3, #T_26772_row4_col5, #T_26772_row4_col6, #T_26772_row4_col7, #T_26772_row4_col8, #T_26772_row4_col9, #T_26772_row4_col10, #T_26772_row4_col11, #T_26772_row4_col12, #T_26772_row4_col13, #T_26772_row4_col14, #T_26772_row4_col15, #T_26772_row4_col16, #T_26772_row4_col17, #T_26772_row4_col18, #T_26772_row4_col19, #T_26772_row4_col20, #T_26772_row4_col21, #T_26772_row4_col22, #T_26772_row5_col0, #T_26772_row5_col1, #T_26772_row5_col2, #T_26772_row5_col3, #T_26772_row5_col4, #T_26772_row5_col5, #T_26772_row5_col6, #T_26772_row5_col7, #T_26772_row5_col8, #T_26772_row5_col9, #T_26772_row5_col10, #T_26772_row5_col11, #T_26772_row5_col12, #T_26772_row5_col13, #T_26772_row5_col14, #T_26772_row5_col15, #T_26772_row5_col16, #T_26772_row5_col17, #T_26772_row5_col18, #T_26772_row5_col19, #T_26772_row5_col20, #T_26772_row5_col21, #T_26772_row6_col0, #T_26772_row6_col1, #T_26772_row6_col2, #T_26772_row6_col5, #T_26772_row6_col6, #T_26772_row6_col7, #T_26772_row6_col8, #T_26772_row6_col9, #T_26772_row6_col10, #T_26772_row6_col11, #T_26772_row6_col12, #T_26772_row6_col13, #T_26772_row6_col14, #T_26772_row6_col15, #T_26772_row6_col16, #T_26772_row6_col17, #T_26772_row6_col18, #T_26772_row6_col19, #T_26772_row6_col20, #T_26772_row6_col21, #T_26772_row6_col22, #T_26772_row7_col0, #T_26772_row7_col1, #T_26772_row7_col2, #T_26772_row7_col3, #T_26772_row7_col5, #T_26772_row7_col6, #T_26772_row7_col7, #T_26772_row7_col8, #T_26772_row7_col9, #T_26772_row7_col10, #T_26772_row7_col11, #T_26772_row7_col12, #T_26772_row7_col13, #T_26772_row7_col14, #T_26772_row7_col15, #T_26772_row7_col16, #T_26772_row7_col17, #T_26772_row7_col18, #T_26772_row7_col19, #T_26772_row7_col20, #T_26772_row7_col21, #T_26772_row7_col22, #T_26772_row8_col0, #T_26772_row8_col1, #T_26772_row8_col2, #T_26772_row8_col3, #T_26772_row8_col5, #T_26772_row8_col6, #T_26772_row8_col7, #T_26772_row8_col8, #T_26772_row8_col9, #T_26772_row8_col10, #T_26772_row8_col11, #T_26772_row8_col12, #T_26772_row8_col13, #T_26772_row8_col14, #T_26772_row8_col15, #T_26772_row8_col16, #T_26772_row8_col17, #T_26772_row8_col18, #T_26772_row8_col19, #T_26772_row8_col20, #T_26772_row8_col21, #T_26772_row8_col22, #T_26772_row9_col0, #T_26772_row9_col1, #T_26772_row9_col2, #T_26772_row9_col7, #T_26772_row9_col8, #T_26772_row9_col9, #T_26772_row9_col10, #T_26772_row9_col11, #T_26772_row9_col12, #T_26772_row9_col13, #T_26772_row9_col14, #T_26772_row9_col15, #T_26772_row9_col16, #T_26772_row9_col17, #T_26772_row9_col18, #T_26772_row9_col19, #T_26772_row9_col20, #T_26772_row9_col21, #T_26772_row9_col22 {\n",
       "  color: black;\n",
       "}\n",
       "#T_26772_row0_col2, #T_26772_row0_col3, #T_26772_row0_col5, #T_26772_row0_col6, #T_26772_row0_col7, #T_26772_row0_col8, #T_26772_row0_col9, #T_26772_row0_col10, #T_26772_row0_col11, #T_26772_row0_col12, #T_26772_row0_col13, #T_26772_row0_col14, #T_26772_row0_col15, #T_26772_row0_col16, #T_26772_row0_col17, #T_26772_row0_col18, #T_26772_row0_col19, #T_26772_row0_col20, #T_26772_row0_col21, #T_26772_row0_col22, #T_26772_row1_col4, #T_26772_row2_col18, #T_26772_row2_col19, #T_26772_row2_col20, #T_26772_row2_col21, #T_26772_row2_col22, #T_26772_row3_col22, #T_26772_row4_col4, #T_26772_row5_col22, #T_26772_row6_col3, #T_26772_row6_col4, #T_26772_row7_col4, #T_26772_row8_col4, #T_26772_row9_col3, #T_26772_row9_col4, #T_26772_row9_col5, #T_26772_row9_col6 {\n",
       "  color: red;\n",
       "}\n",
       "</style>\n",
       "<table id=\"T_26772\">\n",
       "  <thead>\n",
       "    <tr>\n",
       "      <th class=\"blank level0\" >&nbsp;</th>\n",
       "      <th id=\"T_26772_level0_col0\" class=\"col_heading level0 col0\" >predicted_proba</th>\n",
       "      <th id=\"T_26772_level0_col1\" class=\"col_heading level0 col1\" >disease</th>\n",
       "      <th id=\"T_26772_level0_col2\" class=\"col_heading level0 col2\" >threshold at 0.5</th>\n",
       "      <th id=\"T_26772_level0_col3\" class=\"col_heading level0 col3\" >threshold at 0.05</th>\n",
       "      <th id=\"T_26772_level0_col4\" class=\"col_heading level0 col4\" >threshold at 0.0</th>\n",
       "      <th id=\"T_26772_level0_col5\" class=\"col_heading level0 col5\" >threshold at 0.1</th>\n",
       "      <th id=\"T_26772_level0_col6\" class=\"col_heading level0 col6\" >threshold at 0.15</th>\n",
       "      <th id=\"T_26772_level0_col7\" class=\"col_heading level0 col7\" >threshold at 0.2</th>\n",
       "      <th id=\"T_26772_level0_col8\" class=\"col_heading level0 col8\" >threshold at 0.25</th>\n",
       "      <th id=\"T_26772_level0_col9\" class=\"col_heading level0 col9\" >threshold at 0.3</th>\n",
       "      <th id=\"T_26772_level0_col10\" class=\"col_heading level0 col10\" >threshold at 0.35</th>\n",
       "      <th id=\"T_26772_level0_col11\" class=\"col_heading level0 col11\" >threshold at 0.4</th>\n",
       "      <th id=\"T_26772_level0_col12\" class=\"col_heading level0 col12\" >threshold at 0.45</th>\n",
       "      <th id=\"T_26772_level0_col13\" class=\"col_heading level0 col13\" >threshold at 0.55</th>\n",
       "      <th id=\"T_26772_level0_col14\" class=\"col_heading level0 col14\" >threshold at 0.6</th>\n",
       "      <th id=\"T_26772_level0_col15\" class=\"col_heading level0 col15\" >threshold at 0.65</th>\n",
       "      <th id=\"T_26772_level0_col16\" class=\"col_heading level0 col16\" >threshold at 0.7</th>\n",
       "      <th id=\"T_26772_level0_col17\" class=\"col_heading level0 col17\" >threshold at 0.75</th>\n",
       "      <th id=\"T_26772_level0_col18\" class=\"col_heading level0 col18\" >threshold at 0.8</th>\n",
       "      <th id=\"T_26772_level0_col19\" class=\"col_heading level0 col19\" >threshold at 0.85</th>\n",
       "      <th id=\"T_26772_level0_col20\" class=\"col_heading level0 col20\" >threshold at 0.9</th>\n",
       "      <th id=\"T_26772_level0_col21\" class=\"col_heading level0 col21\" >threshold at 0.95</th>\n",
       "      <th id=\"T_26772_level0_col22\" class=\"col_heading level0 col22\" >threshold at 1.0</th>\n",
       "    </tr>\n",
       "  </thead>\n",
       "  <tbody>\n",
       "    <tr>\n",
       "      <th id=\"T_26772_level0_row0\" class=\"row_heading level0 row0\" >246</th>\n",
       "      <td id=\"T_26772_row0_col0\" class=\"data row0 col0\" >0.029229</td>\n",
       "      <td id=\"T_26772_row0_col1\" class=\"data row0 col1\" >1.000000</td>\n",
       "      <td id=\"T_26772_row0_col2\" class=\"data row0 col2\" >0</td>\n",
       "      <td id=\"T_26772_row0_col3\" class=\"data row0 col3\" >0</td>\n",
       "      <td id=\"T_26772_row0_col4\" class=\"data row0 col4\" >1</td>\n",
       "      <td id=\"T_26772_row0_col5\" class=\"data row0 col5\" >0</td>\n",
       "      <td id=\"T_26772_row0_col6\" class=\"data row0 col6\" >0</td>\n",
       "      <td id=\"T_26772_row0_col7\" class=\"data row0 col7\" >0</td>\n",
       "      <td id=\"T_26772_row0_col8\" class=\"data row0 col8\" >0</td>\n",
       "      <td id=\"T_26772_row0_col9\" class=\"data row0 col9\" >0</td>\n",
       "      <td id=\"T_26772_row0_col10\" class=\"data row0 col10\" >0</td>\n",
       "      <td id=\"T_26772_row0_col11\" class=\"data row0 col11\" >0</td>\n",
       "      <td id=\"T_26772_row0_col12\" class=\"data row0 col12\" >0</td>\n",
       "      <td id=\"T_26772_row0_col13\" class=\"data row0 col13\" >0</td>\n",
       "      <td id=\"T_26772_row0_col14\" class=\"data row0 col14\" >0</td>\n",
       "      <td id=\"T_26772_row0_col15\" class=\"data row0 col15\" >0</td>\n",
       "      <td id=\"T_26772_row0_col16\" class=\"data row0 col16\" >0</td>\n",
       "      <td id=\"T_26772_row0_col17\" class=\"data row0 col17\" >0</td>\n",
       "      <td id=\"T_26772_row0_col18\" class=\"data row0 col18\" >0</td>\n",
       "      <td id=\"T_26772_row0_col19\" class=\"data row0 col19\" >0</td>\n",
       "      <td id=\"T_26772_row0_col20\" class=\"data row0 col20\" >0</td>\n",
       "      <td id=\"T_26772_row0_col21\" class=\"data row0 col21\" >0</td>\n",
       "      <td id=\"T_26772_row0_col22\" class=\"data row0 col22\" >0</td>\n",
       "    </tr>\n",
       "    <tr>\n",
       "      <th id=\"T_26772_level0_row1\" class=\"row_heading level0 row1\" >183</th>\n",
       "      <td id=\"T_26772_row1_col0\" class=\"data row1 col0\" >0.029229</td>\n",
       "      <td id=\"T_26772_row1_col1\" class=\"data row1 col1\" >0.000000</td>\n",
       "      <td id=\"T_26772_row1_col2\" class=\"data row1 col2\" >0</td>\n",
       "      <td id=\"T_26772_row1_col3\" class=\"data row1 col3\" >0</td>\n",
       "      <td id=\"T_26772_row1_col4\" class=\"data row1 col4\" >1</td>\n",
       "      <td id=\"T_26772_row1_col5\" class=\"data row1 col5\" >0</td>\n",
       "      <td id=\"T_26772_row1_col6\" class=\"data row1 col6\" >0</td>\n",
       "      <td id=\"T_26772_row1_col7\" class=\"data row1 col7\" >0</td>\n",
       "      <td id=\"T_26772_row1_col8\" class=\"data row1 col8\" >0</td>\n",
       "      <td id=\"T_26772_row1_col9\" class=\"data row1 col9\" >0</td>\n",
       "      <td id=\"T_26772_row1_col10\" class=\"data row1 col10\" >0</td>\n",
       "      <td id=\"T_26772_row1_col11\" class=\"data row1 col11\" >0</td>\n",
       "      <td id=\"T_26772_row1_col12\" class=\"data row1 col12\" >0</td>\n",
       "      <td id=\"T_26772_row1_col13\" class=\"data row1 col13\" >0</td>\n",
       "      <td id=\"T_26772_row1_col14\" class=\"data row1 col14\" >0</td>\n",
       "      <td id=\"T_26772_row1_col15\" class=\"data row1 col15\" >0</td>\n",
       "      <td id=\"T_26772_row1_col16\" class=\"data row1 col16\" >0</td>\n",
       "      <td id=\"T_26772_row1_col17\" class=\"data row1 col17\" >0</td>\n",
       "      <td id=\"T_26772_row1_col18\" class=\"data row1 col18\" >0</td>\n",
       "      <td id=\"T_26772_row1_col19\" class=\"data row1 col19\" >0</td>\n",
       "      <td id=\"T_26772_row1_col20\" class=\"data row1 col20\" >0</td>\n",
       "      <td id=\"T_26772_row1_col21\" class=\"data row1 col21\" >0</td>\n",
       "      <td id=\"T_26772_row1_col22\" class=\"data row1 col22\" >0</td>\n",
       "    </tr>\n",
       "    <tr>\n",
       "      <th id=\"T_26772_level0_row2\" class=\"row_heading level0 row2\" >229</th>\n",
       "      <td id=\"T_26772_row2_col0\" class=\"data row2 col0\" >0.779552</td>\n",
       "      <td id=\"T_26772_row2_col1\" class=\"data row2 col1\" >1.000000</td>\n",
       "      <td id=\"T_26772_row2_col2\" class=\"data row2 col2\" >1</td>\n",
       "      <td id=\"T_26772_row2_col3\" class=\"data row2 col3\" >1</td>\n",
       "      <td id=\"T_26772_row2_col4\" class=\"data row2 col4\" >1</td>\n",
       "      <td id=\"T_26772_row2_col5\" class=\"data row2 col5\" >1</td>\n",
       "      <td id=\"T_26772_row2_col6\" class=\"data row2 col6\" >1</td>\n",
       "      <td id=\"T_26772_row2_col7\" class=\"data row2 col7\" >1</td>\n",
       "      <td id=\"T_26772_row2_col8\" class=\"data row2 col8\" >1</td>\n",
       "      <td id=\"T_26772_row2_col9\" class=\"data row2 col9\" >1</td>\n",
       "      <td id=\"T_26772_row2_col10\" class=\"data row2 col10\" >1</td>\n",
       "      <td id=\"T_26772_row2_col11\" class=\"data row2 col11\" >1</td>\n",
       "      <td id=\"T_26772_row2_col12\" class=\"data row2 col12\" >1</td>\n",
       "      <td id=\"T_26772_row2_col13\" class=\"data row2 col13\" >1</td>\n",
       "      <td id=\"T_26772_row2_col14\" class=\"data row2 col14\" >1</td>\n",
       "      <td id=\"T_26772_row2_col15\" class=\"data row2 col15\" >1</td>\n",
       "      <td id=\"T_26772_row2_col16\" class=\"data row2 col16\" >1</td>\n",
       "      <td id=\"T_26772_row2_col17\" class=\"data row2 col17\" >1</td>\n",
       "      <td id=\"T_26772_row2_col18\" class=\"data row2 col18\" >0</td>\n",
       "      <td id=\"T_26772_row2_col19\" class=\"data row2 col19\" >0</td>\n",
       "      <td id=\"T_26772_row2_col20\" class=\"data row2 col20\" >0</td>\n",
       "      <td id=\"T_26772_row2_col21\" class=\"data row2 col21\" >0</td>\n",
       "      <td id=\"T_26772_row2_col22\" class=\"data row2 col22\" >0</td>\n",
       "    </tr>\n",
       "    <tr>\n",
       "      <th id=\"T_26772_level0_row3\" class=\"row_heading level0 row3\" >126</th>\n",
       "      <td id=\"T_26772_row3_col0\" class=\"data row3 col0\" >0.988070</td>\n",
       "      <td id=\"T_26772_row3_col1\" class=\"data row3 col1\" >1.000000</td>\n",
       "      <td id=\"T_26772_row3_col2\" class=\"data row3 col2\" >1</td>\n",
       "      <td id=\"T_26772_row3_col3\" class=\"data row3 col3\" >1</td>\n",
       "      <td id=\"T_26772_row3_col4\" class=\"data row3 col4\" >1</td>\n",
       "      <td id=\"T_26772_row3_col5\" class=\"data row3 col5\" >1</td>\n",
       "      <td id=\"T_26772_row3_col6\" class=\"data row3 col6\" >1</td>\n",
       "      <td id=\"T_26772_row3_col7\" class=\"data row3 col7\" >1</td>\n",
       "      <td id=\"T_26772_row3_col8\" class=\"data row3 col8\" >1</td>\n",
       "      <td id=\"T_26772_row3_col9\" class=\"data row3 col9\" >1</td>\n",
       "      <td id=\"T_26772_row3_col10\" class=\"data row3 col10\" >1</td>\n",
       "      <td id=\"T_26772_row3_col11\" class=\"data row3 col11\" >1</td>\n",
       "      <td id=\"T_26772_row3_col12\" class=\"data row3 col12\" >1</td>\n",
       "      <td id=\"T_26772_row3_col13\" class=\"data row3 col13\" >1</td>\n",
       "      <td id=\"T_26772_row3_col14\" class=\"data row3 col14\" >1</td>\n",
       "      <td id=\"T_26772_row3_col15\" class=\"data row3 col15\" >1</td>\n",
       "      <td id=\"T_26772_row3_col16\" class=\"data row3 col16\" >1</td>\n",
       "      <td id=\"T_26772_row3_col17\" class=\"data row3 col17\" >1</td>\n",
       "      <td id=\"T_26772_row3_col18\" class=\"data row3 col18\" >1</td>\n",
       "      <td id=\"T_26772_row3_col19\" class=\"data row3 col19\" >1</td>\n",
       "      <td id=\"T_26772_row3_col20\" class=\"data row3 col20\" >1</td>\n",
       "      <td id=\"T_26772_row3_col21\" class=\"data row3 col21\" >1</td>\n",
       "      <td id=\"T_26772_row3_col22\" class=\"data row3 col22\" >0</td>\n",
       "    </tr>\n",
       "    <tr>\n",
       "      <th id=\"T_26772_level0_row4\" class=\"row_heading level0 row4\" >184</th>\n",
       "      <td id=\"T_26772_row4_col0\" class=\"data row4 col0\" >0.007115</td>\n",
       "      <td id=\"T_26772_row4_col1\" class=\"data row4 col1\" >0.000000</td>\n",
       "      <td id=\"T_26772_row4_col2\" class=\"data row4 col2\" >0</td>\n",
       "      <td id=\"T_26772_row4_col3\" class=\"data row4 col3\" >0</td>\n",
       "      <td id=\"T_26772_row4_col4\" class=\"data row4 col4\" >1</td>\n",
       "      <td id=\"T_26772_row4_col5\" class=\"data row4 col5\" >0</td>\n",
       "      <td id=\"T_26772_row4_col6\" class=\"data row4 col6\" >0</td>\n",
       "      <td id=\"T_26772_row4_col7\" class=\"data row4 col7\" >0</td>\n",
       "      <td id=\"T_26772_row4_col8\" class=\"data row4 col8\" >0</td>\n",
       "      <td id=\"T_26772_row4_col9\" class=\"data row4 col9\" >0</td>\n",
       "      <td id=\"T_26772_row4_col10\" class=\"data row4 col10\" >0</td>\n",
       "      <td id=\"T_26772_row4_col11\" class=\"data row4 col11\" >0</td>\n",
       "      <td id=\"T_26772_row4_col12\" class=\"data row4 col12\" >0</td>\n",
       "      <td id=\"T_26772_row4_col13\" class=\"data row4 col13\" >0</td>\n",
       "      <td id=\"T_26772_row4_col14\" class=\"data row4 col14\" >0</td>\n",
       "      <td id=\"T_26772_row4_col15\" class=\"data row4 col15\" >0</td>\n",
       "      <td id=\"T_26772_row4_col16\" class=\"data row4 col16\" >0</td>\n",
       "      <td id=\"T_26772_row4_col17\" class=\"data row4 col17\" >0</td>\n",
       "      <td id=\"T_26772_row4_col18\" class=\"data row4 col18\" >0</td>\n",
       "      <td id=\"T_26772_row4_col19\" class=\"data row4 col19\" >0</td>\n",
       "      <td id=\"T_26772_row4_col20\" class=\"data row4 col20\" >0</td>\n",
       "      <td id=\"T_26772_row4_col21\" class=\"data row4 col21\" >0</td>\n",
       "      <td id=\"T_26772_row4_col22\" class=\"data row4 col22\" >0</td>\n",
       "    </tr>\n",
       "    <tr>\n",
       "      <th id=\"T_26772_level0_row5\" class=\"row_heading level0 row5\" >1</th>\n",
       "      <td id=\"T_26772_row5_col0\" class=\"data row5 col0\" >0.969133</td>\n",
       "      <td id=\"T_26772_row5_col1\" class=\"data row5 col1\" >1.000000</td>\n",
       "      <td id=\"T_26772_row5_col2\" class=\"data row5 col2\" >1</td>\n",
       "      <td id=\"T_26772_row5_col3\" class=\"data row5 col3\" >1</td>\n",
       "      <td id=\"T_26772_row5_col4\" class=\"data row5 col4\" >1</td>\n",
       "      <td id=\"T_26772_row5_col5\" class=\"data row5 col5\" >1</td>\n",
       "      <td id=\"T_26772_row5_col6\" class=\"data row5 col6\" >1</td>\n",
       "      <td id=\"T_26772_row5_col7\" class=\"data row5 col7\" >1</td>\n",
       "      <td id=\"T_26772_row5_col8\" class=\"data row5 col8\" >1</td>\n",
       "      <td id=\"T_26772_row5_col9\" class=\"data row5 col9\" >1</td>\n",
       "      <td id=\"T_26772_row5_col10\" class=\"data row5 col10\" >1</td>\n",
       "      <td id=\"T_26772_row5_col11\" class=\"data row5 col11\" >1</td>\n",
       "      <td id=\"T_26772_row5_col12\" class=\"data row5 col12\" >1</td>\n",
       "      <td id=\"T_26772_row5_col13\" class=\"data row5 col13\" >1</td>\n",
       "      <td id=\"T_26772_row5_col14\" class=\"data row5 col14\" >1</td>\n",
       "      <td id=\"T_26772_row5_col15\" class=\"data row5 col15\" >1</td>\n",
       "      <td id=\"T_26772_row5_col16\" class=\"data row5 col16\" >1</td>\n",
       "      <td id=\"T_26772_row5_col17\" class=\"data row5 col17\" >1</td>\n",
       "      <td id=\"T_26772_row5_col18\" class=\"data row5 col18\" >1</td>\n",
       "      <td id=\"T_26772_row5_col19\" class=\"data row5 col19\" >1</td>\n",
       "      <td id=\"T_26772_row5_col20\" class=\"data row5 col20\" >1</td>\n",
       "      <td id=\"T_26772_row5_col21\" class=\"data row5 col21\" >1</td>\n",
       "      <td id=\"T_26772_row5_col22\" class=\"data row5 col22\" >0</td>\n",
       "    </tr>\n",
       "    <tr>\n",
       "      <th id=\"T_26772_level0_row6\" class=\"row_heading level0 row6\" >59</th>\n",
       "      <td id=\"T_26772_row6_col0\" class=\"data row6 col0\" >0.075526</td>\n",
       "      <td id=\"T_26772_row6_col1\" class=\"data row6 col1\" >0.000000</td>\n",
       "      <td id=\"T_26772_row6_col2\" class=\"data row6 col2\" >0</td>\n",
       "      <td id=\"T_26772_row6_col3\" class=\"data row6 col3\" >1</td>\n",
       "      <td id=\"T_26772_row6_col4\" class=\"data row6 col4\" >1</td>\n",
       "      <td id=\"T_26772_row6_col5\" class=\"data row6 col5\" >0</td>\n",
       "      <td id=\"T_26772_row6_col6\" class=\"data row6 col6\" >0</td>\n",
       "      <td id=\"T_26772_row6_col7\" class=\"data row6 col7\" >0</td>\n",
       "      <td id=\"T_26772_row6_col8\" class=\"data row6 col8\" >0</td>\n",
       "      <td id=\"T_26772_row6_col9\" class=\"data row6 col9\" >0</td>\n",
       "      <td id=\"T_26772_row6_col10\" class=\"data row6 col10\" >0</td>\n",
       "      <td id=\"T_26772_row6_col11\" class=\"data row6 col11\" >0</td>\n",
       "      <td id=\"T_26772_row6_col12\" class=\"data row6 col12\" >0</td>\n",
       "      <td id=\"T_26772_row6_col13\" class=\"data row6 col13\" >0</td>\n",
       "      <td id=\"T_26772_row6_col14\" class=\"data row6 col14\" >0</td>\n",
       "      <td id=\"T_26772_row6_col15\" class=\"data row6 col15\" >0</td>\n",
       "      <td id=\"T_26772_row6_col16\" class=\"data row6 col16\" >0</td>\n",
       "      <td id=\"T_26772_row6_col17\" class=\"data row6 col17\" >0</td>\n",
       "      <td id=\"T_26772_row6_col18\" class=\"data row6 col18\" >0</td>\n",
       "      <td id=\"T_26772_row6_col19\" class=\"data row6 col19\" >0</td>\n",
       "      <td id=\"T_26772_row6_col20\" class=\"data row6 col20\" >0</td>\n",
       "      <td id=\"T_26772_row6_col21\" class=\"data row6 col21\" >0</td>\n",
       "      <td id=\"T_26772_row6_col22\" class=\"data row6 col22\" >0</td>\n",
       "    </tr>\n",
       "    <tr>\n",
       "      <th id=\"T_26772_level0_row7\" class=\"row_heading level0 row7\" >194</th>\n",
       "      <td id=\"T_26772_row7_col0\" class=\"data row7 col0\" >0.019427</td>\n",
       "      <td id=\"T_26772_row7_col1\" class=\"data row7 col1\" >0.000000</td>\n",
       "      <td id=\"T_26772_row7_col2\" class=\"data row7 col2\" >0</td>\n",
       "      <td id=\"T_26772_row7_col3\" class=\"data row7 col3\" >0</td>\n",
       "      <td id=\"T_26772_row7_col4\" class=\"data row7 col4\" >1</td>\n",
       "      <td id=\"T_26772_row7_col5\" class=\"data row7 col5\" >0</td>\n",
       "      <td id=\"T_26772_row7_col6\" class=\"data row7 col6\" >0</td>\n",
       "      <td id=\"T_26772_row7_col7\" class=\"data row7 col7\" >0</td>\n",
       "      <td id=\"T_26772_row7_col8\" class=\"data row7 col8\" >0</td>\n",
       "      <td id=\"T_26772_row7_col9\" class=\"data row7 col9\" >0</td>\n",
       "      <td id=\"T_26772_row7_col10\" class=\"data row7 col10\" >0</td>\n",
       "      <td id=\"T_26772_row7_col11\" class=\"data row7 col11\" >0</td>\n",
       "      <td id=\"T_26772_row7_col12\" class=\"data row7 col12\" >0</td>\n",
       "      <td id=\"T_26772_row7_col13\" class=\"data row7 col13\" >0</td>\n",
       "      <td id=\"T_26772_row7_col14\" class=\"data row7 col14\" >0</td>\n",
       "      <td id=\"T_26772_row7_col15\" class=\"data row7 col15\" >0</td>\n",
       "      <td id=\"T_26772_row7_col16\" class=\"data row7 col16\" >0</td>\n",
       "      <td id=\"T_26772_row7_col17\" class=\"data row7 col17\" >0</td>\n",
       "      <td id=\"T_26772_row7_col18\" class=\"data row7 col18\" >0</td>\n",
       "      <td id=\"T_26772_row7_col19\" class=\"data row7 col19\" >0</td>\n",
       "      <td id=\"T_26772_row7_col20\" class=\"data row7 col20\" >0</td>\n",
       "      <td id=\"T_26772_row7_col21\" class=\"data row7 col21\" >0</td>\n",
       "      <td id=\"T_26772_row7_col22\" class=\"data row7 col22\" >0</td>\n",
       "    </tr>\n",
       "    <tr>\n",
       "      <th id=\"T_26772_level0_row8\" class=\"row_heading level0 row8\" >132</th>\n",
       "      <td id=\"T_26772_row8_col0\" class=\"data row8 col0\" >0.007561</td>\n",
       "      <td id=\"T_26772_row8_col1\" class=\"data row8 col1\" >0.000000</td>\n",
       "      <td id=\"T_26772_row8_col2\" class=\"data row8 col2\" >0</td>\n",
       "      <td id=\"T_26772_row8_col3\" class=\"data row8 col3\" >0</td>\n",
       "      <td id=\"T_26772_row8_col4\" class=\"data row8 col4\" >1</td>\n",
       "      <td id=\"T_26772_row8_col5\" class=\"data row8 col5\" >0</td>\n",
       "      <td id=\"T_26772_row8_col6\" class=\"data row8 col6\" >0</td>\n",
       "      <td id=\"T_26772_row8_col7\" class=\"data row8 col7\" >0</td>\n",
       "      <td id=\"T_26772_row8_col8\" class=\"data row8 col8\" >0</td>\n",
       "      <td id=\"T_26772_row8_col9\" class=\"data row8 col9\" >0</td>\n",
       "      <td id=\"T_26772_row8_col10\" class=\"data row8 col10\" >0</td>\n",
       "      <td id=\"T_26772_row8_col11\" class=\"data row8 col11\" >0</td>\n",
       "      <td id=\"T_26772_row8_col12\" class=\"data row8 col12\" >0</td>\n",
       "      <td id=\"T_26772_row8_col13\" class=\"data row8 col13\" >0</td>\n",
       "      <td id=\"T_26772_row8_col14\" class=\"data row8 col14\" >0</td>\n",
       "      <td id=\"T_26772_row8_col15\" class=\"data row8 col15\" >0</td>\n",
       "      <td id=\"T_26772_row8_col16\" class=\"data row8 col16\" >0</td>\n",
       "      <td id=\"T_26772_row8_col17\" class=\"data row8 col17\" >0</td>\n",
       "      <td id=\"T_26772_row8_col18\" class=\"data row8 col18\" >0</td>\n",
       "      <td id=\"T_26772_row8_col19\" class=\"data row8 col19\" >0</td>\n",
       "      <td id=\"T_26772_row8_col20\" class=\"data row8 col20\" >0</td>\n",
       "      <td id=\"T_26772_row8_col21\" class=\"data row8 col21\" >0</td>\n",
       "      <td id=\"T_26772_row8_col22\" class=\"data row8 col22\" >0</td>\n",
       "    </tr>\n",
       "    <tr>\n",
       "      <th id=\"T_26772_level0_row9\" class=\"row_heading level0 row9\" >175</th>\n",
       "      <td id=\"T_26772_row9_col0\" class=\"data row9 col0\" >0.185493</td>\n",
       "      <td id=\"T_26772_row9_col1\" class=\"data row9 col1\" >0.000000</td>\n",
       "      <td id=\"T_26772_row9_col2\" class=\"data row9 col2\" >0</td>\n",
       "      <td id=\"T_26772_row9_col3\" class=\"data row9 col3\" >1</td>\n",
       "      <td id=\"T_26772_row9_col4\" class=\"data row9 col4\" >1</td>\n",
       "      <td id=\"T_26772_row9_col5\" class=\"data row9 col5\" >1</td>\n",
       "      <td id=\"T_26772_row9_col6\" class=\"data row9 col6\" >1</td>\n",
       "      <td id=\"T_26772_row9_col7\" class=\"data row9 col7\" >0</td>\n",
       "      <td id=\"T_26772_row9_col8\" class=\"data row9 col8\" >0</td>\n",
       "      <td id=\"T_26772_row9_col9\" class=\"data row9 col9\" >0</td>\n",
       "      <td id=\"T_26772_row9_col10\" class=\"data row9 col10\" >0</td>\n",
       "      <td id=\"T_26772_row9_col11\" class=\"data row9 col11\" >0</td>\n",
       "      <td id=\"T_26772_row9_col12\" class=\"data row9 col12\" >0</td>\n",
       "      <td id=\"T_26772_row9_col13\" class=\"data row9 col13\" >0</td>\n",
       "      <td id=\"T_26772_row9_col14\" class=\"data row9 col14\" >0</td>\n",
       "      <td id=\"T_26772_row9_col15\" class=\"data row9 col15\" >0</td>\n",
       "      <td id=\"T_26772_row9_col16\" class=\"data row9 col16\" >0</td>\n",
       "      <td id=\"T_26772_row9_col17\" class=\"data row9 col17\" >0</td>\n",
       "      <td id=\"T_26772_row9_col18\" class=\"data row9 col18\" >0</td>\n",
       "      <td id=\"T_26772_row9_col19\" class=\"data row9 col19\" >0</td>\n",
       "      <td id=\"T_26772_row9_col20\" class=\"data row9 col20\" >0</td>\n",
       "      <td id=\"T_26772_row9_col21\" class=\"data row9 col21\" >0</td>\n",
       "      <td id=\"T_26772_row9_col22\" class=\"data row9 col22\" >0</td>\n",
       "    </tr>\n",
       "  </tbody>\n",
       "</table>\n"
      ],
      "text/plain": [
       "<pandas.io.formats.style.Styler at 0x7f8b24373d90>"
      ]
     },
     "execution_count": 30,
     "metadata": {},
     "output_type": "execute_result"
    }
   ],
   "source": [
    "df_threshold.sample(10, random_state=10).style.apply(paint, axis=1)"
   ]
  },
  {
   "cell_type": "markdown",
   "metadata": {},
   "source": [
    "So, at low thresholds, we have lots of red 1s (False Positives), and at high thresholds we have lots of red 0s (False Negatives). \n",
    "\n",
    "What is our TPR (True Positive Rate) and FPR (False Positive Rate) for each of these thresholds? "
   ]
  },
  {
   "cell_type": "code",
   "execution_count": 31,
   "metadata": {},
   "outputs": [
    {
     "name": "stdout",
     "output_type": "stream",
     "text": [
      "Showing some low thresholds...\n"
     ]
    },
    {
     "data": {
      "text/html": [
       "<div>\n",
       "<style scoped>\n",
       "    .dataframe tbody tr th:only-of-type {\n",
       "        vertical-align: middle;\n",
       "    }\n",
       "\n",
       "    .dataframe tbody tr th {\n",
       "        vertical-align: top;\n",
       "    }\n",
       "\n",
       "    .dataframe thead th {\n",
       "        text-align: right;\n",
       "    }\n",
       "</style>\n",
       "<table border=\"1\" class=\"dataframe\">\n",
       "  <thead>\n",
       "    <tr style=\"text-align: right;\">\n",
       "      <th></th>\n",
       "      <th>False Positive Rate</th>\n",
       "      <th>True Positive Rate</th>\n",
       "    </tr>\n",
       "    <tr>\n",
       "      <th>Threshold</th>\n",
       "      <th></th>\n",
       "      <th></th>\n",
       "    </tr>\n",
       "  </thead>\n",
       "  <tbody>\n",
       "    <tr>\n",
       "      <th>0.003500</th>\n",
       "      <td>1.000000</td>\n",
       "      <td>1.000000</td>\n",
       "    </tr>\n",
       "    <tr>\n",
       "      <th>0.003924</th>\n",
       "      <td>0.995556</td>\n",
       "      <td>1.000000</td>\n",
       "    </tr>\n",
       "    <tr>\n",
       "      <th>0.003963</th>\n",
       "      <td>0.991111</td>\n",
       "      <td>0.987179</td>\n",
       "    </tr>\n",
       "    <tr>\n",
       "      <th>0.005204</th>\n",
       "      <td>0.937778</td>\n",
       "      <td>0.987179</td>\n",
       "    </tr>\n",
       "  </tbody>\n",
       "</table>\n",
       "</div>"
      ],
      "text/plain": [
       "           False Positive Rate  True Positive Rate\n",
       "Threshold                                         \n",
       "0.003500              1.000000            1.000000\n",
       "0.003924              0.995556            1.000000\n",
       "0.003963              0.991111            0.987179\n",
       "0.005204              0.937778            0.987179"
      ]
     },
     "metadata": {},
     "output_type": "display_data"
    }
   ],
   "source": [
    "rates = get_rates(df_threshold)\n",
    "print('Showing some low thresholds...')\n",
    "display(rates.head(4))"
   ]
  },
  {
   "cell_type": "markdown",
   "metadata": {},
   "source": [
    "This makes sense, at a really low threshold we are calling everything 1, so we're catching all the True Positives, but also all the False Positives."
   ]
  },
  {
   "cell_type": "code",
   "execution_count": 32,
   "metadata": {},
   "outputs": [
    {
     "name": "stdout",
     "output_type": "stream",
     "text": [
      "Showing some high thresholds...\n"
     ]
    },
    {
     "data": {
      "text/html": [
       "<div>\n",
       "<style scoped>\n",
       "    .dataframe tbody tr th:only-of-type {\n",
       "        vertical-align: middle;\n",
       "    }\n",
       "\n",
       "    .dataframe tbody tr th {\n",
       "        vertical-align: top;\n",
       "    }\n",
       "\n",
       "    .dataframe thead th {\n",
       "        text-align: right;\n",
       "    }\n",
       "</style>\n",
       "<table border=\"1\" class=\"dataframe\">\n",
       "  <thead>\n",
       "    <tr style=\"text-align: right;\">\n",
       "      <th></th>\n",
       "      <th>False Positive Rate</th>\n",
       "      <th>True Positive Rate</th>\n",
       "    </tr>\n",
       "    <tr>\n",
       "      <th>Threshold</th>\n",
       "      <th></th>\n",
       "      <th></th>\n",
       "    </tr>\n",
       "  </thead>\n",
       "  <tbody>\n",
       "    <tr>\n",
       "      <th>0.979386</th>\n",
       "      <td>0.0</td>\n",
       "      <td>0.102564</td>\n",
       "    </tr>\n",
       "    <tr>\n",
       "      <th>0.988070</th>\n",
       "      <td>0.0</td>\n",
       "      <td>0.051282</td>\n",
       "    </tr>\n",
       "    <tr>\n",
       "      <th>0.990402</th>\n",
       "      <td>0.0</td>\n",
       "      <td>0.025641</td>\n",
       "    </tr>\n",
       "    <tr>\n",
       "      <th>0.992901</th>\n",
       "      <td>0.0</td>\n",
       "      <td>0.012821</td>\n",
       "    </tr>\n",
       "  </tbody>\n",
       "</table>\n",
       "</div>"
      ],
      "text/plain": [
       "           False Positive Rate  True Positive Rate\n",
       "Threshold                                         \n",
       "0.979386                   0.0            0.102564\n",
       "0.988070                   0.0            0.051282\n",
       "0.990402                   0.0            0.025641\n",
       "0.992901                   0.0            0.012821"
      ]
     },
     "metadata": {},
     "output_type": "display_data"
    }
   ],
   "source": [
    "print('Showing some high thresholds...')\n",
    "display(rates.tail(4))"
   ]
  },
  {
   "cell_type": "markdown",
   "metadata": {},
   "source": [
    "This also makes sense, at really high thresholds we're calling everything 0, and therefore catch hardly any positives. \n",
    "\n",
    "Or, graphically, plotting TPR and FPR at all the thresholds:"
   ]
  },
  {
   "cell_type": "code",
   "execution_count": 33,
   "metadata": {},
   "outputs": [
    {
     "data": {
      "image/png": "[encoded data removed]",
      "text/plain": [
       "<Figure size 800x300 with 1 Axes>"
      ]
     },
     "metadata": {},
     "output_type": "display_data"
    }
   ],
   "source": [
    "rates.plot(figsize=(8, 3))\n",
    "plt.title('False positive rate and True positive rate vs threshold')\n",
    "plt.xlabel('Threshold')\n",
    "plt.ylabel('Fraction')\n",
    "plt.show()"
   ]
  },
  {
   "cell_type": "markdown",
   "metadata": {},
   "source": [
    "Cool... so at really low thresholds (\"always saying 1\") we catch all the true positives, but immediately generate a ton of false positives. \n",
    "\n",
    "Now (ok, last step I promise) this threshold axis is kind of redundant. We can just plot TPR vs FPR. "
   ]
  },
  {
   "cell_type": "code",
   "execution_count": 34,
   "metadata": {},
   "outputs": [
    {
     "data": {
      "image/png": "[encoded data removed]",
      "text/plain": [
       "<Figure size 800x300 with 1 Axes>"
      ]
     },
     "metadata": {},
     "output_type": "display_data"
    }
   ],
   "source": [
    "rates.set_index('False Positive Rate')['True Positive Rate'].plot(figsize=(8, 3))\n",
    "plt.title('TPR vs FPR')\n",
    "plt.xlabel('False Positive Rate')\n",
    "plt.ylabel('True Positive Rate')\n",
    "plt.show()"
   ]
  },
  {
   "cell_type": "markdown",
   "metadata": {},
   "source": [
    "Here we can observe a few interesting things. As you may remember, we were excellent at detecting a lot of True positives before we started detecting any False positives (very high precision, like a judge). \n",
    "\n",
    "That is reflected in the fact that the curve grows very fast on the left side. Does that make sense? \n",
    "\n",
    "Here's the good news: we've just drawn a complete ROC Curve! The curve is going from the lower left to the top right corner. How does it get there?\n",
    "\n",
    "We have the datapoints with their class labels ordered by their probabilities. With a perfect classifier, the class labels are also ordered - first all the 0s, then all the 1s. With an OK classifier, most of the 0s come before most of the 1s. With a random classifier, we have the same chance to find a 0 or a 1 at any spot.\n",
    "\n",
    "As we increase the threshold, the ROC curve steps up when we find a true positive and steps to the right when we find a false positive. So the better ordered (or ranked) are the data points (the more true positives we find before any false positives), the faster the curve grows."
   ]
  },
  {
   "cell_type": "markdown",
   "metadata": {},
   "source": [
    "<a id=\"5.2\"></a>\n",
    "### 5.2. The ROC Curve \n",
    "\n",
    "The Receiver Operating Characteristic (ROC) curve is a very common (and important) metric for **binary classification problems** (when predicting 0 or 1). \n",
    "\n",
    "Formally, it is created by plotting the fraction of true positives out of the positives (TPR = true positive rate, a.k.a., sensitivity) vs. the fraction of false positives out of the negatives (FPR = false positive rate, or 1-specificity), at various threshold settings. Sklearn already provides all the tools.\n",
    "\n",
    "Altough very important, analysing a model performance by looking directly at its ROC curve can be not too practical. Instead, to summarize all the information provided by the ROC curve, we can compute the area under it, i.e., the area between the curve and x-axis. This metric is known as **Area Under the ROC Curve (AUROC)**.\n",
    "\n",
    "To better understand this concept, let's take a look at the ROC curve below ([source](http://scikit-learn.org/stable/auto_examples/model_selection/plot_roc.html#sphx-glr-auto-examples-model-selection-plot-roc-py)):\n",
    "\n",
    "<img alt=\"ROC\" src=\"media/sphx_glr_plot_roc_001.png\" width=\"400\">"
   ]
  },
  {
   "cell_type": "markdown",
   "metadata": {},
   "source": [
    "The best curve is one that gets to top left corner the fastest possible (which as you can imagine maximizes the area below it). So, an ideal (but very suspicious) AUROC score is 1.0, while in a completely random scenario we have an AUROC = 0.5. The AUROC score reflects how well ordered are the class labels of the data points that were ordered by their predicted probability.\n",
    "\n",
    "In the following images we've drawn a perfect and random classifier overlaid with a realistic (ok-ish) one. \n",
    "\n",
    "<img src=\"media/rocs.png\" width=\"900\">"
   ]
  },
  {
   "cell_type": "markdown",
   "metadata": {},
   "source": [
    "Unlike the previous metrics, the ROC functions above require the probabilities (and not the predicted labels, which would be 0 and 1). This has the major advantage of allowing you to compare two potential classifiers without having to choose a threshold in advance! \n",
    "\n",
    "Regarding the scikit tools to do this, we have one for creating the curve (generates the points to make the image), and another for calculating the AUROC score. \n",
    "\n",
    "- The [**`roc_curve`**](http://scikit-learn.org/stable/modules/generated/sklearn.metrics.roc_curve.html#sklearn.metrics.roc_curve) computes the Receiver Operating Characteristic (ROC) curve points.\n",
    "- The [**`roc_auc_score`**](http://scikit-learn.org/stable/modules/generated/sklearn.metrics.roc_auc_score.html#sklearn.metrics.roc_auc_score) function computes the Area Under the ROC curve (AUROC). I.e., the curve information is summarized in one number.  \n",
    "\n",
    "In practice, you may often just use the roc_auc_score (AUROC) when comparing classifiers, but it's generally good practice to look at the full ROC curve before making a final decision. \n",
    "\n",
    "Let's calculate the area under the ROC curve (AUROC) of our heart disease classifier:"
   ]
  },
  {
   "cell_type": "code",
   "execution_count": 35,
   "metadata": {},
   "outputs": [
    {
     "name": "stdout",
     "output_type": "stream",
     "text": [
      "The AUROC of our classifier is = 0.882\n"
     ]
    }
   ],
   "source": [
    "# The Area Under the ROC curve:\n",
    "roc_auc = roc_auc_score(y_score=df['predicted_proba'], y_true=df['disease'])\n",
    "print('The AUROC of our classifier is = %.3f' % roc_auc)"
   ]
  },
  {
   "cell_type": "markdown",
   "metadata": {},
   "source": [
    "Let's take a look at the ROC curve.\n",
    "\n",
    "This is how you get the FPR, TPR, and the thresholds using scikit: "
   ]
  },
  {
   "cell_type": "code",
   "execution_count": 36,
   "metadata": {},
   "outputs": [],
   "source": [
    "# Data to compute the ROC curve (FPR and TPR):\n",
    "fpr, tpr, thresholds = roc_curve(y_score=df.predicted_proba, y_true=df.disease)"
   ]
  },
  {
   "cell_type": "markdown",
   "metadata": {},
   "source": [
    "This is a piece of matplotlib code for plotting a pretty ROC curve that you can keep and reuse: "
   ]
  },
  {
   "cell_type": "code",
   "execution_count": 37,
   "metadata": {},
   "outputs": [],
   "source": [
    "def plot_roc_curve(roc_auc, fpr, tpr):\n",
    "    # Function to plot ROC Curve\n",
    "    # Note: this is ALL just matplotlib stuff, nothing scientific about it! \n",
    "    \n",
    "    # Inputs: \n",
    "    #     roc_auc - AU ROC value (float)\n",
    "    #     fpr - false positive rate (output of roc_curve()) array\n",
    "    #     tpr - true positive rate (output of roc_curve()) array\n",
    "    \n",
    "    plt.figure(figsize=(4,4))\n",
    "    lw = 2\n",
    "    plt.plot(fpr, tpr, color='orange', lw=lw, label='ROC curve (AUROC = %0.2f)' % roc_auc)\n",
    "    plt.plot([0, 1], [0, 1], color='navy', lw=lw, linestyle='--', label='random')\n",
    "    plt.xlim([-0.05, 1.0])\n",
    "    plt.ylim([0.0, 1.05])\n",
    "    plt.grid()\n",
    "    plt.xlabel('False Positive Rate')\n",
    "    plt.ylabel('True Positive Rate')\n",
    "    plt.title('Receiver operating characteristic example')\n",
    "    plt.legend(loc=\"lower right\")\n",
    "    plt.show()"
   ]
  },
  {
   "cell_type": "markdown",
   "metadata": {},
   "source": [
    "Finally, we will plot our ROC Curve (and put the AUROC in the label):"
   ]
  },
  {
   "cell_type": "code",
   "execution_count": 38,
   "metadata": {},
   "outputs": [
    {
     "data": {
      "image/png": "[encoded data removed]",
      "text/plain": [
       "<Figure size 400x400 with 1 Axes>"
      ]
     },
     "metadata": {},
     "output_type": "display_data"
    }
   ],
   "source": [
    "plot_roc_curve(roc_auc, fpr, tpr)"
   ]
  },
  {
   "cell_type": "markdown",
   "metadata": {},
   "source": [
    "As we can see, the AUROC is around 0.9. This means that there is a $90\\%$ chance that for observations ordered by their predicted probability, a random positive class observation is positioned to the right of a random negative class observation."
   ]
  },
  {
   "cell_type": "markdown",
   "metadata": {},
   "source": [
    "<a id=\"5.3\"></a>\n",
    "### 5.3. Choosing the best model\n",
    "\n",
    "By now we're approaching the end of the SLU and I'm guessing that at least some of you are thinking that the best model for binary classification problems is always the one with the higher AUROC. While that is true if you're deploying a model in [Kaggle](https://www.kaggle.com/), in the real world, things are a little bit more complicated than that.\n",
    "\n",
    "Imagine that you're working on a loan approval model (meaning that the output of your model determines if someone applying for a loan actually gets one). The model with the higher AUROC is likely to be one that also minimizes the chances of ethnical minories getting approved (this happens because the data is inherently biased - you'll learn more about this in SLU17 - Ethics and Fairness).\n",
    "\n",
    "In this case, rather than optimizing for the best AUROC, a responsible data scientist should instead provide good tradeoffs, like a model that has slightly less AUROC but doesn't discriminate ethnical minorities. "
   ]
  },
  {
   "cell_type": "markdown",
   "metadata": {},
   "source": [
    "<a id=\"6\"></a>\n",
    "## 6. Closing remarks \n",
    "\n",
    "A few notes before we go to the exercises: \n",
    "- A model being good or not always depends on the application \n",
    "- Sometimes even experienced data scientists make the mistake of trusting a single number\n",
    "- ROC Curve measures the ability to rank observations, and does not depend on the threshold \n",
    "- Accuracy is dangerous because it assumes that the dataset is balanced \n",
    "- Precision is more important when the cost of a False Positive is higher (e.g. law) \n",
    "- Recall is more important when the cost of a False Negative is higher (e.g. medicine) \n",
    "- F1 combines both precision and recall into a single metric, but assumes they are equally important, which rarely happens in practice."
   ]
  }
 ],
 "metadata": {
  "kernelspec": {
   "display_name": "Python 3 (ipykernel)",
   "language": "python",
   "name": "python3"
  },
  "language_info": {
   "codemirror_mode": {
    "name": "ipython",
    "version": 3
   },
   "file_extension": ".py",
   "mimetype": "text/x-python",
   "name": "python",
   "nbconvert_exporter": "python",
   "pygments_lexer": "ipython3",
   "version": "3.10.12"
  }
 },
 "nbformat": 4,
 "nbformat_minor": 1
}
