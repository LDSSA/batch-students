{
 "cells": [
  {
   "cell_type": "markdown",
   "metadata": {},
   "source": [
    "# SLU04 - Basic Stats with Pandas: Learning notebook"
   ]
  },
  {
   "cell_type": "markdown",
   "metadata": {},
   "source": [
    "In this notebook we will cover the following topics:\n",
    "\n",
    "[Some context](#Some-context)  \n",
    "\n",
    "[Descriptive Statistics in Pandas](#Descriptive-Statistics-in-Pandas)  \n",
    "&nbsp; &nbsp; [Count](#Count)  \n",
    "&nbsp; &nbsp; [Sum, Cumsum](#Sum,-Cumsum)  \n",
    "&nbsp; &nbsp; [Unique and nunique](#Unique-and-nunique)  \n",
    "&nbsp; &nbsp; [Max, idxmax, min, idxmin ](#Max,-idxmax,-min,-idxmin)  \n",
    "&nbsp; &nbsp; [Mode](#Mode)  \n",
    "&nbsp; &nbsp; [Mean and Median](#Mean-and-Median)  \n",
    "&nbsp; &nbsp; [Standard Deviation and Variance](#Standard-Deviation-and-Variance)  \n",
    "&nbsp; &nbsp; [Quantiles](#Quantiles)  \n",
    "&nbsp; &nbsp; [Rank](#Rank)  \n",
    "\n",
    "[Inspecting the Distribution of the Data](#Inspecting-the-Distribution-of-the-Data)  \n",
    "&nbsp; &nbsp; [Skewness](#Skewness)  \n",
    "&nbsp; &nbsp; [Kurtosis](#Kurtosis)  \n",
    "&nbsp; &nbsp; [Probability Density Function (PDF)](#Probability-Density-Function-(PDF))  \n",
    "&nbsp; &nbsp; [Cumulative Distribution Function (CDF)](#Cumulative-Distribution-Function-(CDF))    \n",
    "\n",
    "[Dealing with outliers and skewed distributions](#Dealing-with-outliers-and-skewed-distributions)  \n",
    "&nbsp; &nbsp; [Log transformation](#Log-transformation)  "
   ]
  },
  {
   "cell_type": "markdown",
   "metadata": {},
   "source": [
    "Let's start with a few imports."
   ]
  },
  {
   "cell_type": "code",
   "execution_count": 1,
   "metadata": {
    "execution": {
     "iopub.execute_input": "2024-09-14T13:34:27.285551Z",
     "iopub.status.busy": "2024-09-14T13:34:27.285051Z",
     "iopub.status.idle": "2024-09-14T13:34:27.595222Z",
     "shell.execute_reply": "2024-09-14T13:34:27.594890Z",
     "shell.execute_reply.started": "2024-09-14T13:34:27.285518Z"
    }
   },
   "outputs": [],
   "source": [
    "import numpy as np\n",
    "import pandas as pd\n",
    "import matplotlib.pyplot as plt\n",
    "\n",
    "from utils import prepare_dataset, get_company_salaries_and_plot, plot_log_function"
   ]
  },
  {
   "cell_type": "code",
   "execution_count": 2,
   "metadata": {
    "execution": {
     "iopub.execute_input": "2024-09-14T13:34:27.595957Z",
     "iopub.status.busy": "2024-09-14T13:34:27.595848Z",
     "iopub.status.idle": "2024-09-14T13:34:27.597716Z",
     "shell.execute_reply": "2024-09-14T13:34:27.597516Z",
     "shell.execute_reply.started": "2024-09-14T13:34:27.595948Z"
    }
   },
   "outputs": [],
   "source": [
    "# Some global plot configurations\n",
    "plt.rc('figure', dpi=200)  # Resolution\n",
    "plt.rc('font', size=5, family='serif')   # Font size and family\n",
    "plt.rc('axes', titlesize=7, labelsize=6, facecolor='white')  # Some axes properties\n",
    "plt.rc('lines', linewidth=1, color='blue')  # Some line properties"
   ]
  },
  {
   "cell_type": "markdown",
   "metadata": {},
   "source": [
    "## Some context"
   ]
  },
  {
   "cell_type": "markdown",
   "metadata": {},
   "source": [
    "Let's have a look at some legos to understand how Statistics (Stats for short) can help us."
   ]
  },
  {
   "cell_type": "markdown",
   "metadata": {},
   "source": [
    "![legos](media/legos.jpg)"
   ]
  },
  {
   "cell_type": "code",
   "execution_count": 3,
   "metadata": {
    "execution": {
     "iopub.execute_input": "2024-09-14T13:34:27.598035Z",
     "iopub.status.busy": "2024-09-14T13:34:27.597972Z",
     "iopub.status.idle": "2024-09-14T13:34:27.605300Z",
     "shell.execute_reply": "2024-09-14T13:34:27.605066Z",
     "shell.execute_reply.started": "2024-09-14T13:34:27.598029Z"
    },
    "scrolled": true
   },
   "outputs": [],
   "source": [
    "lego = pd.read_csv('data/sets.csv')"
   ]
  },
  {
   "cell_type": "markdown",
   "metadata": {},
   "source": [
    "Here's some metadata about the dataset:"
   ]
  },
  {
   "cell_type": "markdown",
   "metadata": {},
   "source": [
    "![meta](media/metadata.png)"
   ]
  },
  {
   "cell_type": "code",
   "execution_count": 4,
   "metadata": {
    "execution": {
     "iopub.execute_input": "2024-09-14T13:34:27.606226Z",
     "iopub.status.busy": "2024-09-14T13:34:27.606140Z",
     "iopub.status.idle": "2024-09-14T13:34:27.610457Z",
     "shell.execute_reply": "2024-09-14T13:34:27.610207Z",
     "shell.execute_reply.started": "2024-09-14T13:34:27.606220Z"
    }
   },
   "outputs": [
    {
     "data": {
      "text/html": [
       "<div>\n",
       "<style scoped>\n",
       "    .dataframe tbody tr th:only-of-type {\n",
       "        vertical-align: middle;\n",
       "    }\n",
       "\n",
       "    .dataframe tbody tr th {\n",
       "        vertical-align: top;\n",
       "    }\n",
       "\n",
       "    .dataframe thead th {\n",
       "        text-align: right;\n",
       "    }\n",
       "</style>\n",
       "<table border=\"1\" class=\"dataframe\">\n",
       "  <thead>\n",
       "    <tr style=\"text-align: right;\">\n",
       "      <th></th>\n",
       "      <th>set_num</th>\n",
       "      <th>name</th>\n",
       "      <th>year</th>\n",
       "      <th>theme_id</th>\n",
       "      <th>num_parts</th>\n",
       "    </tr>\n",
       "  </thead>\n",
       "  <tbody>\n",
       "    <tr>\n",
       "      <th>0</th>\n",
       "      <td>00-1</td>\n",
       "      <td>Weetabix Castle</td>\n",
       "      <td>1970</td>\n",
       "      <td>414</td>\n",
       "      <td>471</td>\n",
       "    </tr>\n",
       "    <tr>\n",
       "      <th>1</th>\n",
       "      <td>0011-2</td>\n",
       "      <td>Town Mini-Figures</td>\n",
       "      <td>1978</td>\n",
       "      <td>84</td>\n",
       "      <td>12</td>\n",
       "    </tr>\n",
       "    <tr>\n",
       "      <th>2</th>\n",
       "      <td>0011-3</td>\n",
       "      <td>Castle 2 for 1 Bonus Offer</td>\n",
       "      <td>1987</td>\n",
       "      <td>199</td>\n",
       "      <td>2</td>\n",
       "    </tr>\n",
       "    <tr>\n",
       "      <th>3</th>\n",
       "      <td>0012-1</td>\n",
       "      <td>Space Mini-Figures</td>\n",
       "      <td>1979</td>\n",
       "      <td>143</td>\n",
       "      <td>12</td>\n",
       "    </tr>\n",
       "    <tr>\n",
       "      <th>4</th>\n",
       "      <td>0013-1</td>\n",
       "      <td>Space Mini-Figures</td>\n",
       "      <td>1979</td>\n",
       "      <td>143</td>\n",
       "      <td>12</td>\n",
       "    </tr>\n",
       "  </tbody>\n",
       "</table>\n",
       "</div>"
      ],
      "text/plain": [
       "  set_num                        name  year  theme_id  num_parts\n",
       "0    00-1             Weetabix Castle  1970       414        471\n",
       "1  0011-2           Town Mini-Figures  1978        84         12\n",
       "2  0011-3  Castle 2 for 1 Bonus Offer  1987       199          2\n",
       "3  0012-1          Space Mini-Figures  1979       143         12\n",
       "4  0013-1          Space Mini-Figures  1979       143         12"
      ]
     },
     "execution_count": 4,
     "metadata": {},
     "output_type": "execute_result"
    }
   ],
   "source": [
    "lego.head()  # let's have a look at the first lines of the dataframe"
   ]
  },
  {
   "cell_type": "markdown",
   "metadata": {},
   "source": [
    "We can start using some **basic statistics** to help us understand our dataset. We will go one by one and try to build an intuition for when it's best to use each one."
   ]
  },
  {
   "cell_type": "markdown",
   "metadata": {},
   "source": [
    "----"
   ]
  },
  {
   "cell_type": "markdown",
   "metadata": {},
   "source": [
    "## Descriptive Statistics in Pandas"
   ]
  },
  {
   "cell_type": "markdown",
   "metadata": {},
   "source": [
    "We already know how to obtain the shape of a pandas DataFrame:"
   ]
  },
  {
   "cell_type": "code",
   "execution_count": 5,
   "metadata": {
    "execution": {
     "iopub.execute_input": "2024-09-14T13:34:27.610947Z",
     "iopub.status.busy": "2024-09-14T13:34:27.610861Z",
     "iopub.status.idle": "2024-09-14T13:34:27.612812Z",
     "shell.execute_reply": "2024-09-14T13:34:27.612602Z",
     "shell.execute_reply.started": "2024-09-14T13:34:27.610939Z"
    }
   },
   "outputs": [
    {
     "data": {
      "text/plain": [
       "(11673, 5)"
      ]
     },
     "execution_count": 5,
     "metadata": {},
     "output_type": "execute_result"
    }
   ],
   "source": [
    "lego.shape"
   ]
  },
  {
   "cell_type": "markdown",
   "metadata": {},
   "source": [
    "### Count"
   ]
  },
  {
   "cell_type": "markdown",
   "metadata": {},
   "source": [
    "An easy way to obtain the number of non-missing values for each column is using the `count()` method:"
   ]
  },
  {
   "cell_type": "code",
   "execution_count": 6,
   "metadata": {
    "execution": {
     "iopub.execute_input": "2024-09-14T13:34:27.613306Z",
     "iopub.status.busy": "2024-09-14T13:34:27.613206Z",
     "iopub.status.idle": "2024-09-14T13:34:27.616157Z",
     "shell.execute_reply": "2024-09-14T13:34:27.615915Z",
     "shell.execute_reply.started": "2024-09-14T13:34:27.613299Z"
    }
   },
   "outputs": [
    {
     "data": {
      "text/plain": [
       "set_num      11673\n",
       "name         11673\n",
       "year         11673\n",
       "theme_id     11673\n",
       "num_parts    11673\n",
       "dtype: int64"
      ]
     },
     "execution_count": 6,
     "metadata": {},
     "output_type": "execute_result"
    }
   ],
   "source": [
    "lego.count()"
   ]
  },
  {
   "cell_type": "markdown",
   "metadata": {},
   "source": [
    "We can see that there are no missing values in this DataFrame."
   ]
  },
  {
   "cell_type": "markdown",
   "metadata": {},
   "source": [
    "### Sum, Cumsum"
   ]
  },
  {
   "cell_type": "markdown",
   "metadata": {},
   "source": [
    "We can use the `sum()` to sum the values of columns. Let's count the total number of parts."
   ]
  },
  {
   "cell_type": "code",
   "execution_count": 7,
   "metadata": {
    "execution": {
     "iopub.execute_input": "2024-09-14T13:34:27.616633Z",
     "iopub.status.busy": "2024-09-14T13:34:27.616535Z",
     "iopub.status.idle": "2024-09-14T13:34:27.618570Z",
     "shell.execute_reply": "2024-09-14T13:34:27.618358Z",
     "shell.execute_reply.started": "2024-09-14T13:34:27.616627Z"
    }
   },
   "outputs": [
    {
     "data": {
      "text/plain": [
       "np.int64(1894089)"
      ]
     },
     "execution_count": 7,
     "metadata": {},
     "output_type": "execute_result"
    }
   ],
   "source": [
    "lego.num_parts.sum()"
   ]
  },
  {
   "cell_type": "markdown",
   "metadata": {},
   "source": [
    "We can check the cumulative sum over columns using `cumsum()`. Let's check the cumulative sum of the last 10 rows for the number of parts column."
   ]
  },
  {
   "cell_type": "code",
   "execution_count": 8,
   "metadata": {
    "execution": {
     "iopub.execute_input": "2024-09-14T13:34:27.618922Z",
     "iopub.status.busy": "2024-09-14T13:34:27.618862Z",
     "iopub.status.idle": "2024-09-14T13:34:27.621112Z",
     "shell.execute_reply": "2024-09-14T13:34:27.620895Z",
     "shell.execute_reply.started": "2024-09-14T13:34:27.618916Z"
    }
   },
   "outputs": [
    {
     "data": {
      "text/plain": [
       "11663    1893801\n",
       "11664    1893823\n",
       "11665    1893823\n",
       "11666    1893823\n",
       "11667    1893838\n",
       "11668    1893853\n",
       "11669    1893912\n",
       "11670    1894058\n",
       "11671    1894086\n",
       "11672    1894089\n",
       "Name: num_parts, dtype: int64"
      ]
     },
     "execution_count": 8,
     "metadata": {},
     "output_type": "execute_result"
    }
   ],
   "source": [
    "lego.num_parts.cumsum()[-10:]"
   ]
  },
  {
   "cell_type": "markdown",
   "metadata": {},
   "source": [
    "### Unique and nunique"
   ]
  },
  {
   "cell_type": "markdown",
   "metadata": {},
   "source": [
    "One common question is how many **unique values** there are for a field. For example, how many years are there in this data set exactly? And which ones? This can be obtained using the `unique()` method. It gives us the unique values in a Series. \n",
    "\n",
    "Let's see what are the years that we have in our dataset, using [`unique()`](https://pandas.pydata.org/pandas-docs/stable/generated/pandas.Series.unique.html): "
   ]
  },
  {
   "cell_type": "code",
   "execution_count": 9,
   "metadata": {
    "execution": {
     "iopub.execute_input": "2024-09-14T13:34:27.621467Z",
     "iopub.status.busy": "2024-09-14T13:34:27.621389Z",
     "iopub.status.idle": "2024-09-14T13:34:27.623584Z",
     "shell.execute_reply": "2024-09-14T13:34:27.623357Z",
     "shell.execute_reply.started": "2024-09-14T13:34:27.621460Z"
    }
   },
   "outputs": [
    {
     "data": {
      "text/plain": [
       "array([1970, 1978, 1987, 1979, 1976, 1965, 1985, 1968, 1999, 1967, 1969,\n",
       "       2001, 1966, 2003, 2002, 2004, 2006, 2005, 2010, 2007, 2008, 2009,\n",
       "       2011, 2012, 2013, 2014, 2015, 2016, 2017, 1977, 1983, 1986, 1984,\n",
       "       1973, 1981, 2000, 1980, 1982, 1988, 1997, 1998, 1971, 1955, 1956,\n",
       "       1957, 1958, 1974, 1972, 1975, 1992, 1991, 1989, 1990, 1993, 1994,\n",
       "       1996, 1995, 1959, 1962, 1961, 1960, 1963, 1964, 1950, 1953, 1954])"
      ]
     },
     "execution_count": 9,
     "metadata": {},
     "output_type": "execute_result"
    }
   ],
   "source": [
    "lego.year.unique()"
   ]
  },
  {
   "cell_type": "markdown",
   "metadata": {},
   "source": [
    "How many uniques do we have in `year`? We can use [`nunique()`](https://pandas.pydata.org/pandas-docs/stable/generated/pandas.Series.nunique.html):"
   ]
  },
  {
   "cell_type": "code",
   "execution_count": 10,
   "metadata": {
    "execution": {
     "iopub.execute_input": "2024-09-14T13:34:27.625154Z",
     "iopub.status.busy": "2024-09-14T13:34:27.625050Z",
     "iopub.status.idle": "2024-09-14T13:34:27.627081Z",
     "shell.execute_reply": "2024-09-14T13:34:27.626871Z",
     "shell.execute_reply.started": "2024-09-14T13:34:27.625147Z"
    }
   },
   "outputs": [
    {
     "data": {
      "text/plain": [
       "66"
      ]
     },
     "execution_count": 10,
     "metadata": {},
     "output_type": "execute_result"
    }
   ],
   "source": [
    "lego.year.nunique()"
   ]
  },
  {
   "cell_type": "markdown",
   "metadata": {},
   "source": [
    "We can also do this with the entire DataFrame:"
   ]
  },
  {
   "cell_type": "code",
   "execution_count": 11,
   "metadata": {
    "execution": {
     "iopub.execute_input": "2024-09-14T13:34:27.627401Z",
     "iopub.status.busy": "2024-09-14T13:34:27.627341Z",
     "iopub.status.idle": "2024-09-14T13:34:27.631682Z",
     "shell.execute_reply": "2024-09-14T13:34:27.631412Z",
     "shell.execute_reply.started": "2024-09-14T13:34:27.627395Z"
    }
   },
   "outputs": [
    {
     "data": {
      "text/plain": [
       "set_num      11673\n",
       "name         10370\n",
       "year            66\n",
       "theme_id       575\n",
       "num_parts     1092\n",
       "dtype: int64"
      ]
     },
     "execution_count": 11,
     "metadata": {},
     "output_type": "execute_result"
    }
   ],
   "source": [
    "lego.nunique()"
   ]
  },
  {
   "cell_type": "markdown",
   "metadata": {},
   "source": [
    "### Max, idxmax, min, idxmin "
   ]
  },
  {
   "cell_type": "markdown",
   "metadata": {},
   "source": [
    "> ***What are the maximum and minimum values for the number of parts? And which sets do those values correspond to?***\n",
    "\n",
    "The maximum number of parts can be obtained very easily using the `max()` method:"
   ]
  },
  {
   "cell_type": "code",
   "execution_count": 12,
   "metadata": {
    "execution": {
     "iopub.execute_input": "2024-09-14T13:34:27.632097Z",
     "iopub.status.busy": "2024-09-14T13:34:27.632014Z",
     "iopub.status.idle": "2024-09-14T13:34:27.634602Z",
     "shell.execute_reply": "2024-09-14T13:34:27.634375Z",
     "shell.execute_reply.started": "2024-09-14T13:34:27.632089Z"
    }
   },
   "outputs": [
    {
     "data": {
      "text/plain": [
       "np.int64(5922)"
      ]
     },
     "execution_count": 12,
     "metadata": {},
     "output_type": "execute_result"
    }
   ],
   "source": [
    "lego.num_parts.max()"
   ]
  },
  {
   "cell_type": "markdown",
   "metadata": {},
   "source": [
    "Which set(s) has/have 5922 parts? To (partially) answer that question, we can use the [`idxmax()`](http://pandas.pydata.org/pandas-docs/version/0.19.2/generated/pandas.DataFrame.idxmax.html#pandas.DataFrame.idxmax) method, which tells us the ***first index*** of the maximum value of an array:"
   ]
  },
  {
   "cell_type": "code",
   "execution_count": 13,
   "metadata": {
    "execution": {
     "iopub.execute_input": "2024-09-14T13:34:27.635080Z",
     "iopub.status.busy": "2024-09-14T13:34:27.634995Z",
     "iopub.status.idle": "2024-09-14T13:34:27.637126Z",
     "shell.execute_reply": "2024-09-14T13:34:27.636891Z",
     "shell.execute_reply.started": "2024-09-14T13:34:27.635073Z"
    }
   },
   "outputs": [
    {
     "data": {
      "text/plain": [
       "170"
      ]
     },
     "execution_count": 13,
     "metadata": {},
     "output_type": "execute_result"
    }
   ],
   "source": [
    "lego.num_parts.idxmax()"
   ]
  },
  {
   "cell_type": "markdown",
   "metadata": {},
   "source": [
    "Note that 170 is the first ***index*** in the DataFrame for which the number of parts is maximum. Have a look at the part of the dataset where that value is:"
   ]
  },
  {
   "cell_type": "code",
   "execution_count": 14,
   "metadata": {
    "execution": {
     "iopub.execute_input": "2024-09-14T13:34:27.637511Z",
     "iopub.status.busy": "2024-09-14T13:34:27.637447Z",
     "iopub.status.idle": "2024-09-14T13:34:27.641221Z",
     "shell.execute_reply": "2024-09-14T13:34:27.640981Z",
     "shell.execute_reply.started": "2024-09-14T13:34:27.637504Z"
    }
   },
   "outputs": [
    {
     "data": {
      "text/html": [
       "<div>\n",
       "<style scoped>\n",
       "    .dataframe tbody tr th:only-of-type {\n",
       "        vertical-align: middle;\n",
       "    }\n",
       "\n",
       "    .dataframe tbody tr th {\n",
       "        vertical-align: top;\n",
       "    }\n",
       "\n",
       "    .dataframe thead th {\n",
       "        text-align: right;\n",
       "    }\n",
       "</style>\n",
       "<table border=\"1\" class=\"dataframe\">\n",
       "  <thead>\n",
       "    <tr style=\"text-align: right;\">\n",
       "      <th></th>\n",
       "      <th>set_num</th>\n",
       "      <th>name</th>\n",
       "      <th>year</th>\n",
       "      <th>theme_id</th>\n",
       "      <th>num_parts</th>\n",
       "    </tr>\n",
       "  </thead>\n",
       "  <tbody>\n",
       "    <tr>\n",
       "      <th>165</th>\n",
       "      <td>10184-1</td>\n",
       "      <td>Town Plan</td>\n",
       "      <td>2008</td>\n",
       "      <td>104</td>\n",
       "      <td>2017</td>\n",
       "    </tr>\n",
       "    <tr>\n",
       "      <th>166</th>\n",
       "      <td>10185-1</td>\n",
       "      <td>Green Grocer</td>\n",
       "      <td>2008</td>\n",
       "      <td>155</td>\n",
       "      <td>2358</td>\n",
       "    </tr>\n",
       "    <tr>\n",
       "      <th>167</th>\n",
       "      <td>10186-1</td>\n",
       "      <td>General Grievous</td>\n",
       "      <td>2008</td>\n",
       "      <td>173</td>\n",
       "      <td>1084</td>\n",
       "    </tr>\n",
       "    <tr>\n",
       "      <th>168</th>\n",
       "      <td>10187-1</td>\n",
       "      <td>Volkswagen Beetle (VW Beetle)</td>\n",
       "      <td>2008</td>\n",
       "      <td>276</td>\n",
       "      <td>1625</td>\n",
       "    </tr>\n",
       "    <tr>\n",
       "      <th>169</th>\n",
       "      <td>10188-1</td>\n",
       "      <td>Death Star</td>\n",
       "      <td>2008</td>\n",
       "      <td>174</td>\n",
       "      <td>3807</td>\n",
       "    </tr>\n",
       "    <tr>\n",
       "      <th>170</th>\n",
       "      <td>10189-1</td>\n",
       "      <td>Taj Mahal</td>\n",
       "      <td>2008</td>\n",
       "      <td>276</td>\n",
       "      <td>5922</td>\n",
       "    </tr>\n",
       "    <tr>\n",
       "      <th>171</th>\n",
       "      <td>10190-1</td>\n",
       "      <td>Market Street</td>\n",
       "      <td>2007</td>\n",
       "      <td>155</td>\n",
       "      <td>1250</td>\n",
       "    </tr>\n",
       "    <tr>\n",
       "      <th>172</th>\n",
       "      <td>10191-1</td>\n",
       "      <td>Star Justice</td>\n",
       "      <td>2008</td>\n",
       "      <td>397</td>\n",
       "      <td>884</td>\n",
       "    </tr>\n",
       "    <tr>\n",
       "      <th>173</th>\n",
       "      <td>10192-1</td>\n",
       "      <td>Space Skulls</td>\n",
       "      <td>2008</td>\n",
       "      <td>397</td>\n",
       "      <td>956</td>\n",
       "    </tr>\n",
       "    <tr>\n",
       "      <th>174</th>\n",
       "      <td>10193-1</td>\n",
       "      <td>Medieval Market Village</td>\n",
       "      <td>2009</td>\n",
       "      <td>193</td>\n",
       "      <td>1616</td>\n",
       "    </tr>\n",
       "  </tbody>\n",
       "</table>\n",
       "</div>"
      ],
      "text/plain": [
       "     set_num                           name  year  theme_id  num_parts\n",
       "165  10184-1                      Town Plan  2008       104       2017\n",
       "166  10185-1                   Green Grocer  2008       155       2358\n",
       "167  10186-1               General Grievous  2008       173       1084\n",
       "168  10187-1  Volkswagen Beetle (VW Beetle)  2008       276       1625\n",
       "169  10188-1                     Death Star  2008       174       3807\n",
       "170  10189-1                      Taj Mahal  2008       276       5922\n",
       "171  10190-1                  Market Street  2007       155       1250\n",
       "172  10191-1                   Star Justice  2008       397        884\n",
       "173  10192-1                   Space Skulls  2008       397        956\n",
       "174  10193-1        Medieval Market Village  2009       193       1616"
      ]
     },
     "execution_count": 14,
     "metadata": {},
     "output_type": "execute_result"
    }
   ],
   "source": [
    "lego[165:175]"
   ]
  },
  {
   "cell_type": "markdown",
   "metadata": {},
   "source": [
    "A one-line-answer for the question \"which `set_num` has the maximum number of parts\" can be written as:"
   ]
  },
  {
   "cell_type": "code",
   "execution_count": 15,
   "metadata": {
    "execution": {
     "iopub.execute_input": "2024-09-14T13:34:27.641593Z",
     "iopub.status.busy": "2024-09-14T13:34:27.641522Z",
     "iopub.status.idle": "2024-09-14T13:34:27.643660Z",
     "shell.execute_reply": "2024-09-14T13:34:27.643440Z",
     "shell.execute_reply.started": "2024-09-14T13:34:27.641586Z"
    }
   },
   "outputs": [
    {
     "data": {
      "text/plain": [
       "'10189-1'"
      ]
     },
     "execution_count": 15,
     "metadata": {},
     "output_type": "execute_result"
    }
   ],
   "source": [
    "lego.loc[lego.num_parts.idxmax(), 'set_num']"
   ]
  },
  {
   "cell_type": "markdown",
   "metadata": {},
   "source": [
    "Of course, there are also the methods `min()` and `idxmin()`."
   ]
  },
  {
   "cell_type": "code",
   "execution_count": 16,
   "metadata": {
    "execution": {
     "iopub.execute_input": "2024-09-14T13:34:27.644038Z",
     "iopub.status.busy": "2024-09-14T13:34:27.643969Z",
     "iopub.status.idle": "2024-09-14T13:34:27.645849Z",
     "shell.execute_reply": "2024-09-14T13:34:27.645658Z",
     "shell.execute_reply.started": "2024-09-14T13:34:27.644032Z"
    }
   },
   "outputs": [
    {
     "data": {
      "text/plain": [
       "1683"
      ]
     },
     "execution_count": 16,
     "metadata": {},
     "output_type": "execute_result"
    }
   ],
   "source": [
    "lego.num_parts.idxmin()"
   ]
  },
  {
   "cell_type": "code",
   "execution_count": 17,
   "metadata": {
    "execution": {
     "iopub.execute_input": "2024-09-14T13:34:27.646284Z",
     "iopub.status.busy": "2024-09-14T13:34:27.646194Z",
     "iopub.status.idle": "2024-09-14T13:34:27.648096Z",
     "shell.execute_reply": "2024-09-14T13:34:27.647896Z",
     "shell.execute_reply.started": "2024-09-14T13:34:27.646277Z"
    }
   },
   "outputs": [
    {
     "data": {
      "text/plain": [
       "np.int64(-1)"
      ]
     },
     "execution_count": 17,
     "metadata": {},
     "output_type": "execute_result"
    }
   ],
   "source": [
    "lego.num_parts.min()"
   ]
  },
  {
   "cell_type": "markdown",
   "metadata": {},
   "source": [
    "Oh no! There are entries which have -1 parts! This is why data understanding is so important and why very basic statistics can help us finding data problems.\n",
    "\n",
    "You might be wondering if there are **more than one** set with -1 parts in the DataFrame. As mentioned above, the `idxmin()` will only output the ***first index*** for which the number of parts is minimum. A quick way to obtain all the lines with the minimum is the following:"
   ]
  },
  {
   "cell_type": "code",
   "execution_count": 18,
   "metadata": {
    "execution": {
     "iopub.execute_input": "2024-09-14T13:34:27.648413Z",
     "iopub.status.busy": "2024-09-14T13:34:27.648354Z",
     "iopub.status.idle": "2024-09-14T13:34:27.651670Z",
     "shell.execute_reply": "2024-09-14T13:34:27.651476Z",
     "shell.execute_reply.started": "2024-09-14T13:34:27.648406Z"
    }
   },
   "outputs": [
    {
     "data": {
      "text/html": [
       "<div>\n",
       "<style scoped>\n",
       "    .dataframe tbody tr th:only-of-type {\n",
       "        vertical-align: middle;\n",
       "    }\n",
       "\n",
       "    .dataframe tbody tr th {\n",
       "        vertical-align: top;\n",
       "    }\n",
       "\n",
       "    .dataframe thead th {\n",
       "        text-align: right;\n",
       "    }\n",
       "</style>\n",
       "<table border=\"1\" class=\"dataframe\">\n",
       "  <thead>\n",
       "    <tr style=\"text-align: right;\">\n",
       "      <th></th>\n",
       "      <th>set_num</th>\n",
       "      <th>name</th>\n",
       "      <th>year</th>\n",
       "      <th>theme_id</th>\n",
       "      <th>num_parts</th>\n",
       "    </tr>\n",
       "  </thead>\n",
       "  <tbody>\n",
       "    <tr>\n",
       "      <th>1683</th>\n",
       "      <td>240-1</td>\n",
       "      <td>Wooden Storage Box Large, Empty</td>\n",
       "      <td>1967</td>\n",
       "      <td>383</td>\n",
       "      <td>-1</td>\n",
       "    </tr>\n",
       "    <tr>\n",
       "      <th>6545</th>\n",
       "      <td>66392-1</td>\n",
       "      <td>Duplo Cars Super Pack 3 in 1 (5816, 5817, 5818)</td>\n",
       "      <td>2012</td>\n",
       "      <td>506</td>\n",
       "      <td>-1</td>\n",
       "    </tr>\n",
       "    <tr>\n",
       "      <th>11645</th>\n",
       "      <td>Vancouver-1</td>\n",
       "      <td>LEGO Store Grand Opening Exclusive Set, Oakrid...</td>\n",
       "      <td>2012</td>\n",
       "      <td>408</td>\n",
       "      <td>-1</td>\n",
       "    </tr>\n",
       "  </tbody>\n",
       "</table>\n",
       "</div>"
      ],
      "text/plain": [
       "           set_num                                               name  year  \\\n",
       "1683         240-1                    Wooden Storage Box Large, Empty  1967   \n",
       "6545       66392-1    Duplo Cars Super Pack 3 in 1 (5816, 5817, 5818)  2012   \n",
       "11645  Vancouver-1  LEGO Store Grand Opening Exclusive Set, Oakrid...  2012   \n",
       "\n",
       "       theme_id  num_parts  \n",
       "1683        383         -1  \n",
       "6545        506         -1  \n",
       "11645       408         -1  "
      ]
     },
     "execution_count": 18,
     "metadata": {},
     "output_type": "execute_result"
    }
   ],
   "source": [
    "lego.loc[lego.num_parts == lego.num_parts.min()]"
   ]
  },
  {
   "cell_type": "markdown",
   "metadata": {},
   "source": [
    "So, there are 3 lines with this problem. What should we do about it? At this point we would need to investigate the reason for this (missing value?), but for now let's just drop these instances:"
   ]
  },
  {
   "cell_type": "code",
   "execution_count": 19,
   "metadata": {
    "execution": {
     "iopub.execute_input": "2024-09-14T13:34:27.651978Z",
     "iopub.status.busy": "2024-09-14T13:34:27.651917Z",
     "iopub.status.idle": "2024-09-14T13:34:27.654382Z",
     "shell.execute_reply": "2024-09-14T13:34:27.654162Z",
     "shell.execute_reply.started": "2024-09-14T13:34:27.651972Z"
    }
   },
   "outputs": [],
   "source": [
    "lego = lego.drop(lego.loc[lego.num_parts == lego.num_parts.min()].index, axis=0)"
   ]
  },
  {
   "cell_type": "markdown",
   "metadata": {},
   "source": [
    "**Note:** The mathematical notation for `idxmax` and `idxmin` is $\\text{argmax}$ and $\\text{argmin}$, respectively. For instance, the value $x_{\\text{max}}$ for which a function $f(x)$ is maximum, if unique, is such that:\n",
    "$$ x_{\\text{max}} =  \\text{argmax}_{x} f(x).$$"
   ]
  },
  {
   "cell_type": "markdown",
   "metadata": {},
   "source": [
    "### Mode"
   ]
  },
  {
   "cell_type": "markdown",
   "metadata": {},
   "source": [
    "> **\"What is the year that had more sets published?\"**"
   ]
  },
  {
   "cell_type": "markdown",
   "metadata": {},
   "source": [
    "For this we can use the `mode()` method. The **mode** is just the most frequent number in a set. "
   ]
  },
  {
   "cell_type": "code",
   "execution_count": 20,
   "metadata": {
    "execution": {
     "iopub.execute_input": "2024-09-14T13:34:27.654766Z",
     "iopub.status.busy": "2024-09-14T13:34:27.654683Z",
     "iopub.status.idle": "2024-09-14T13:34:27.657100Z",
     "shell.execute_reply": "2024-09-14T13:34:27.656844Z",
     "shell.execute_reply.started": "2024-09-14T13:34:27.654758Z"
    }
   },
   "outputs": [
    {
     "data": {
      "text/plain": [
       "0    2014\n",
       "Name: year, dtype: int64"
      ]
     },
     "execution_count": 20,
     "metadata": {},
     "output_type": "execute_result"
    }
   ],
   "source": [
    "lego.year.mode()  # Seems like 2014 was the year where more sets were published"
   ]
  },
  {
   "cell_type": "markdown",
   "metadata": {},
   "source": [
    "We can do this for non-numerical data as well. "
   ]
  },
  {
   "cell_type": "code",
   "execution_count": 21,
   "metadata": {
    "execution": {
     "iopub.execute_input": "2024-09-14T13:34:27.657601Z",
     "iopub.status.busy": "2024-09-14T13:34:27.657515Z",
     "iopub.status.idle": "2024-09-14T13:34:27.661595Z",
     "shell.execute_reply": "2024-09-14T13:34:27.661306Z",
     "shell.execute_reply.started": "2024-09-14T13:34:27.657594Z"
    }
   },
   "outputs": [
    {
     "data": {
      "text/plain": [
       "0    Basic Building Set\n",
       "Name: name, dtype: object"
      ]
     },
     "execution_count": 21,
     "metadata": {},
     "output_type": "execute_result"
    }
   ],
   "source": [
    "lego.name.mode()  # This returns the most frequent name in the column name"
   ]
  },
  {
   "cell_type": "markdown",
   "metadata": {},
   "source": [
    "### Mean and Median"
   ]
  },
  {
   "cell_type": "markdown",
   "metadata": {},
   "source": [
    "> ***What is the average number of parts in the sets of legos?***\n",
    "\n",
    "To answer this question we can check the **mean** and **median** and try to understand that difference between them. "
   ]
  },
  {
   "cell_type": "markdown",
   "metadata": {},
   "source": [
    "> **Mean:** sum all the values and divide by the number of values.\n",
    "\n",
    "$$ \\bar{X} = \\frac{1}{n} \\sum_{i=1}^n X_i $$"
   ]
  },
  {
   "cell_type": "code",
   "execution_count": 22,
   "metadata": {
    "execution": {
     "iopub.execute_input": "2024-09-14T13:34:27.662228Z",
     "iopub.status.busy": "2024-09-14T13:34:27.662045Z",
     "iopub.status.idle": "2024-09-14T13:34:27.664360Z",
     "shell.execute_reply": "2024-09-14T13:34:27.664158Z",
     "shell.execute_reply.started": "2024-09-14T13:34:27.662196Z"
    }
   },
   "outputs": [
    {
     "data": {
      "text/plain": [
       "np.float64(162.3043701799486)"
      ]
     },
     "execution_count": 22,
     "metadata": {},
     "output_type": "execute_result"
    }
   ],
   "source": [
    "lego.num_parts.mean()  # In terms of code, it's as simple as this. We have a mean of 162 numbers of parts"
   ]
  },
  {
   "cell_type": "markdown",
   "metadata": {},
   "source": [
    "> **Median:** This is a bit more tricky the way to do it depends on the number of observations being *odd* or *even*.\n",
    "\n",
    "<img src=\"media/median.png\" alt=\"median\" style=\"width: 750px; height: auto\" />"
   ]
  },
  {
   "cell_type": "markdown",
   "metadata": {},
   "source": [
    "Ok, let's look at two simple examples:"
   ]
  },
  {
   "cell_type": "code",
   "execution_count": 23,
   "metadata": {
    "execution": {
     "iopub.execute_input": "2024-09-14T13:34:27.664925Z",
     "iopub.status.busy": "2024-09-14T13:34:27.664816Z",
     "iopub.status.idle": "2024-09-14T13:34:27.667016Z",
     "shell.execute_reply": "2024-09-14T13:34:27.666816Z",
     "shell.execute_reply.started": "2024-09-14T13:34:27.664918Z"
    }
   },
   "outputs": [
    {
     "data": {
      "text/plain": [
       "np.float64(3.0)"
      ]
     },
     "execution_count": 23,
     "metadata": {},
     "output_type": "execute_result"
    }
   ],
   "source": [
    "pd.Series([1,\n",
    "           2,\n",
    "           3,  # <--- ok, this one is easy \n",
    "           4,\n",
    "           5]\n",
    "         ).median()"
   ]
  },
  {
   "cell_type": "code",
   "execution_count": 24,
   "metadata": {
    "execution": {
     "iopub.execute_input": "2024-09-14T13:34:27.667318Z",
     "iopub.status.busy": "2024-09-14T13:34:27.667260Z",
     "iopub.status.idle": "2024-09-14T13:34:27.669359Z",
     "shell.execute_reply": "2024-09-14T13:34:27.669171Z",
     "shell.execute_reply.started": "2024-09-14T13:34:27.667312Z"
    }
   },
   "outputs": [
    {
     "data": {
      "text/plain": [
       "np.float64(2.5)"
      ]
     },
     "execution_count": 24,
     "metadata": {},
     "output_type": "execute_result"
    }
   ],
   "source": [
    "pd.Series([1,\n",
    "           2,  # <--- both 2 and 3 are in \"the middle\", as there are only 4 elements\n",
    "           3,  # <--- so the median will split the difference! \n",
    "           4,\n",
    "          ]\n",
    "         ).median()"
   ]
  },
  {
   "cell_type": "markdown",
   "metadata": {},
   "source": [
    "And on our lego set? \n",
    "_(remember, our mean was **162**)_"
   ]
  },
  {
   "cell_type": "code",
   "execution_count": 25,
   "metadata": {
    "execution": {
     "iopub.execute_input": "2024-09-14T13:34:27.669835Z",
     "iopub.status.busy": "2024-09-14T13:34:27.669738Z",
     "iopub.status.idle": "2024-09-14T13:34:27.671903Z",
     "shell.execute_reply": "2024-09-14T13:34:27.671646Z",
     "shell.execute_reply.started": "2024-09-14T13:34:27.669829Z"
    }
   },
   "outputs": [
    {
     "data": {
      "text/plain": [
       "np.float64(45.0)"
      ]
     },
     "execution_count": 25,
     "metadata": {},
     "output_type": "execute_result"
    }
   ],
   "source": [
    "lego.num_parts.median()  "
   ]
  },
  {
   "cell_type": "markdown",
   "metadata": {},
   "source": [
    "Wow, the median is quite different! 45 parts only... why is that?\n",
    "\n",
    "Let's plot the **histogram** for the distribution of the number of parts. This can be done using the `.plot.hist()` method for a pandas Series:"
   ]
  },
  {
   "cell_type": "code",
   "execution_count": 26,
   "metadata": {
    "execution": {
     "iopub.execute_input": "2024-09-14T13:34:27.672420Z",
     "iopub.status.busy": "2024-09-14T13:34:27.672320Z",
     "iopub.status.idle": "2024-09-14T13:34:27.767506Z",
     "shell.execute_reply": "2024-09-14T13:34:27.767233Z",
     "shell.execute_reply.started": "2024-09-14T13:34:27.672413Z"
    }
   },
   "outputs": [
    {
     "data": {
      "image/png": "[encoded data removed]",
      "text/plain": [
       "<Figure size 1200x600 with 1 Axes>"
      ]
     },
     "metadata": {},
     "output_type": "display_data"
    }
   ],
   "source": [
    "lego.num_parts.plot.hist(bins=50, figsize=(6, 3))\n",
    "plt.xlabel('num_parts')\n",
    "plt.title('Distribution of number of parts of Lego sets');"
   ]
  },
  {
   "cell_type": "markdown",
   "metadata": {},
   "source": [
    "Remember from the analysis so far that:\n",
    " - the maximum number of parts is 5922, and so the $x$-axis goes all the way to 6000;\n",
    " - the minimum number of parts is 0 (if we pretend we didn't see those -1...);\n",
    " - the mean is 162;\n",
    " - the median is 45.\n",
    "\n",
    "From the histogram above, we see that the vast majority of the sets have fewer than 1000 parts. We can actually quantity this statement:"
   ]
  },
  {
   "cell_type": "code",
   "execution_count": 27,
   "metadata": {
    "execution": {
     "iopub.execute_input": "2024-09-14T13:34:27.767988Z",
     "iopub.status.busy": "2024-09-14T13:34:27.767895Z",
     "iopub.status.idle": "2024-09-14T13:34:27.770754Z",
     "shell.execute_reply": "2024-09-14T13:34:27.770510Z",
     "shell.execute_reply.started": "2024-09-14T13:34:27.767975Z"
    }
   },
   "outputs": [
    {
     "data": {
      "text/plain": [
       "0.9753213367609255"
      ]
     },
     "execution_count": 27,
     "metadata": {},
     "output_type": "execute_result"
    }
   ],
   "source": [
    "len(lego.loc[lego.num_parts < 1000]) / len(lego)"
   ]
  },
  {
   "cell_type": "markdown",
   "metadata": {},
   "source": [
    "So, 97.5% of all the sets have fewer than 1000 parts. We could say that the sets with a much larger number of parts are **outliers**, that is, they have extreme values that differ greatly from other values.\n",
    "\n",
    "Due to existence of these outliers, we see that **mean > median**. In practice, the mean can be highly affected by the existence of **outliers**, whereas the median is not strongly influenced by outliers.\n",
    "\n",
    "To better understand these ideas, let's consider another example."
   ]
  },
  {
   "cell_type": "markdown",
   "metadata": {},
   "source": [
    "![](media/rich_kid.jpg)"
   ]
  },
  {
   "cell_type": "markdown",
   "metadata": {},
   "source": [
    "Let's say we have a classroom, and the distribution of monthly spending power of the students is as follows: "
   ]
  },
  {
   "cell_type": "code",
   "execution_count": 28,
   "metadata": {
    "execution": {
     "iopub.execute_input": "2024-09-14T13:34:27.773930Z",
     "iopub.status.busy": "2024-09-14T13:34:27.773828Z",
     "iopub.status.idle": "2024-09-14T13:34:27.776249Z",
     "shell.execute_reply": "2024-09-14T13:34:27.776024Z",
     "shell.execute_reply.started": "2024-09-14T13:34:27.773922Z"
    }
   },
   "outputs": [],
   "source": [
    "s = pd.read_csv('data/student_income.csv', header=None)[0]"
   ]
  },
  {
   "cell_type": "code",
   "execution_count": 29,
   "metadata": {
    "execution": {
     "iopub.execute_input": "2024-09-14T13:34:27.776766Z",
     "iopub.status.busy": "2024-09-14T13:34:27.776649Z",
     "iopub.status.idle": "2024-09-14T13:34:27.778554Z",
     "shell.execute_reply": "2024-09-14T13:34:27.778341Z",
     "shell.execute_reply.started": "2024-09-14T13:34:27.776758Z"
    }
   },
   "outputs": [
    {
     "name": "stdout",
     "output_type": "stream",
     "text": [
      "The mean income of students is   600.0\n",
      "The median income of students is 625.0\n"
     ]
    }
   ],
   "source": [
    "print('The mean income of students is   %0.1f' % s.mean())\n",
    "print('The median income of students is %0.1f' % s.median())"
   ]
  },
  {
   "cell_type": "markdown",
   "metadata": {},
   "source": [
    "Now let's say another student _(let's call him Rich McMoney)_ joins the class: "
   ]
  },
  {
   "cell_type": "code",
   "execution_count": 30,
   "metadata": {
    "execution": {
     "iopub.execute_input": "2024-09-14T13:34:27.778853Z",
     "iopub.status.busy": "2024-09-14T13:34:27.778793Z",
     "iopub.status.idle": "2024-09-14T13:34:27.780447Z",
     "shell.execute_reply": "2024-09-14T13:34:27.780233Z",
     "shell.execute_reply.started": "2024-09-14T13:34:27.778846Z"
    }
   },
   "outputs": [],
   "source": [
    "rich_mc_money = pd.Series([10000])  # <--- Wooooow! \n",
    "s = pd.concat([s,rich_mc_money])"
   ]
  },
  {
   "cell_type": "code",
   "execution_count": 31,
   "metadata": {
    "execution": {
     "iopub.execute_input": "2024-09-14T13:34:27.780933Z",
     "iopub.status.busy": "2024-09-14T13:34:27.780828Z",
     "iopub.status.idle": "2024-09-14T13:34:27.782706Z",
     "shell.execute_reply": "2024-09-14T13:34:27.782471Z",
     "shell.execute_reply.started": "2024-09-14T13:34:27.780926Z"
    }
   },
   "outputs": [
    {
     "name": "stdout",
     "output_type": "stream",
     "text": [
      "The mean income of students is   903.2\n",
      "The median income of students is 630.0\n"
     ]
    }
   ],
   "source": [
    "print('The mean income of students is   %0.1f' % s.mean())\n",
    "print('The median income of students is %0.1f' % s.median())"
   ]
  },
  {
   "cell_type": "markdown",
   "metadata": {},
   "source": [
    "So what do we get? "
   ]
  },
  {
   "cell_type": "markdown",
   "metadata": {},
   "source": [
    "<img src=\"media/news.png\" alt=\"Alt text\" style=\"width: 550px; height: auto\" />"
   ]
  },
  {
   "cell_type": "markdown",
   "metadata": {},
   "source": [
    "As a data scientist you must always be slightly suspicious of single number claims, and the mean is one of the most abused out there. "
   ]
  },
  {
   "cell_type": "markdown",
   "metadata": {},
   "source": [
    "#### When to use each? "
   ]
  },
  {
   "cell_type": "markdown",
   "metadata": {},
   "source": [
    "So when should we use each one of them? "
   ]
  },
  {
   "cell_type": "markdown",
   "metadata": {},
   "source": [
    "* The median may be a better indicator of the **most typical value** if a set has outliers.\n",
    "\n",
    "* As the data becomes skewed *(see next)* the mean loses its ability to provide the best central location for the data because the skewed data is dragging it away from the typical value. However, the **median best retains this position** and is not as strongly influenced by the outliers.\n",
    "\n",
    "* However, when the **sample size is large and does not include outliers**, the mean score usually provides a better measure of central tendency."
   ]
  },
  {
   "cell_type": "markdown",
   "metadata": {},
   "source": [
    "### Standard Deviation and Variance"
   ]
  },
  {
   "cell_type": "markdown",
   "metadata": {},
   "source": [
    "The **standard deviation** is a numerical value used to indicate how widely individuals in a group vary. If individual observations vary greatly from the group mean, the standard deviation is big; and vice versa.\n",
    "\n",
    "Let's look at yet another example, this time the salary distribution in two companies."
   ]
  },
  {
   "cell_type": "code",
   "execution_count": 32,
   "metadata": {
    "execution": {
     "iopub.execute_input": "2024-09-14T13:34:27.783394Z",
     "iopub.status.busy": "2024-09-14T13:34:27.783182Z",
     "iopub.status.idle": "2024-09-14T13:34:27.861790Z",
     "shell.execute_reply": "2024-09-14T13:34:27.861556Z",
     "shell.execute_reply.started": "2024-09-14T13:34:27.783384Z"
    }
   },
   "outputs": [
    {
     "data": {
      "image/png": "[encoded data removed]",
      "text/plain": [
       "<Figure size 1200x600 with 1 Axes>"
      ]
     },
     "metadata": {},
     "output_type": "display_data"
    }
   ],
   "source": [
    "company_a, company_b = get_company_salaries_and_plot()"
   ]
  },
  {
   "cell_type": "code",
   "execution_count": 33,
   "metadata": {
    "execution": {
     "iopub.execute_input": "2024-09-14T13:34:27.862235Z",
     "iopub.status.busy": "2024-09-14T13:34:27.862147Z",
     "iopub.status.idle": "2024-09-14T13:34:27.864480Z",
     "shell.execute_reply": "2024-09-14T13:34:27.864204Z",
     "shell.execute_reply.started": "2024-09-14T13:34:27.862222Z"
    }
   },
   "outputs": [
    {
     "name": "stdout",
     "output_type": "stream",
     "text": [
      "Company A has a mean of 1498.7 and a standard deviation of 52.3\n",
      "Company B has a mean of 1496.8 and a standard deviation of 101.3\n"
     ]
    }
   ],
   "source": [
    "print('Company A has a mean of %0.1f and a standard deviation of %0.1f' % (\n",
    "    company_a.mean(), company_a.std()))\n",
    "\n",
    "print('Company B has a mean of %0.1f and a standard deviation of %0.1f' % (\n",
    "    company_b.mean(), company_b.std()))"
   ]
  },
  {
   "cell_type": "markdown",
   "metadata": {},
   "source": [
    "We see that the standard deviation for the salaries is greater in company B, as expected, as the distribution of salaries is more widely spread.\n",
    "\n",
    "How is the standard deviation computed?\n",
    "\n",
    "First, we calculate the **variance** $\\sigma^2$:\n",
    "$$ \\sigma^2 = \\frac{1}{n-1} \\sum_{i=1}^n \\left(X_i - \\bar{X} \\right)^2 $$\n",
    "\n",
    "The standard deviation is then the square root of the variance:\n",
    "$$ \\sigma = \\sqrt{\\frac{1}{n-1} \\sum_{i=1}^n \\left(X_i - \\bar{X} \\right)^2}  $$"
   ]
  },
  {
   "cell_type": "markdown",
   "metadata": {},
   "source": [
    "So, about our legos:"
   ]
  },
  {
   "cell_type": "code",
   "execution_count": 34,
   "metadata": {
    "execution": {
     "iopub.execute_input": "2024-09-14T13:34:27.864894Z",
     "iopub.status.busy": "2024-09-14T13:34:27.864821Z",
     "iopub.status.idle": "2024-09-14T13:34:27.867096Z",
     "shell.execute_reply": "2024-09-14T13:34:27.866874Z",
     "shell.execute_reply.started": "2024-09-14T13:34:27.864886Z"
    }
   },
   "outputs": [
    {
     "name": "stdout",
     "output_type": "stream",
     "text": [
      "Mean:               162.30\n",
      "Variance:           109048.00\n",
      "Standard Deviation: 330.22\n"
     ]
    }
   ],
   "source": [
    "print('Mean:               %0.2f' % lego.num_parts.mean())\n",
    "print('Variance:           %0.2f' % lego.num_parts.var())\n",
    "print('Standard Deviation: %0.2f' % lego.num_parts.std())"
   ]
  },
  {
   "cell_type": "markdown",
   "metadata": {},
   "source": [
    "### Quantiles"
   ]
  },
  {
   "cell_type": "markdown",
   "metadata": {},
   "source": [
    "Remember the median? The median was simply _\"the value under which **half** the population is\"_. Well, if we replace _\"half\"_ with _\"25%\"_ or _\"75%\"_ we get quantiles! In other words, the median is simply a sub-case of a quantile. \n",
    "\n",
    "A **quantile** defines a particular part of a data set, i.e. a quantile determines **how many values in a distribution are above or below a certain limit.** Special quantiles are the **quartile** (quarter), the **quintile** (fifth) and **percentiles** (hundredth).\n",
    "\n",
    "Quartiles divide a rank-ordered data set into four equal parts. The values that divide each part are called the first, second, and third quartiles; and they are denoted by Q1, Q2, and Q3, respectively.\n",
    "\n",
    "Note the relationship between quartiles and percentiles (which divide a rank-ordered dataset into 100 equal parts). Q1 corresponds to P25, Q2 corresponds to P50, Q3 corresponds to P75. Q2 is the median value in a set of data.\n",
    "\n",
    "One can also look at the **Interquartile Range**, that basically show us the range where the \"middle fifty\" is, or in other words, the range between Q1 and Q3.\n",
    "\n",
    "![quantiles](media/quantiles.png)"
   ]
  },
  {
   "cell_type": "markdown",
   "metadata": {},
   "source": [
    "Let's see the the Q1, Q2 and Q3 for number of parts column."
   ]
  },
  {
   "cell_type": "code",
   "execution_count": 35,
   "metadata": {
    "execution": {
     "iopub.execute_input": "2024-09-14T13:34:27.867423Z",
     "iopub.status.busy": "2024-09-14T13:34:27.867363Z",
     "iopub.status.idle": "2024-09-14T13:34:27.870414Z",
     "shell.execute_reply": "2024-09-14T13:34:27.870192Z",
     "shell.execute_reply.started": "2024-09-14T13:34:27.867416Z"
    }
   },
   "outputs": [
    {
     "data": {
      "text/plain": [
       "0.25     10.0\n",
       "0.50     45.0\n",
       "0.75    172.0\n",
       "Name: num_parts, dtype: float64"
      ]
     },
     "execution_count": 35,
     "metadata": {},
     "output_type": "execute_result"
    }
   ],
   "source": [
    "quartiles = [.25, .5, .75]\n",
    "lego.num_parts.quantile(q=quartiles)"
   ]
  },
  {
   "cell_type": "markdown",
   "metadata": {},
   "source": [
    "We see that 75% of our sets have less than 172 num of parts. Remember how we previously saw that 97.5% of the sets had fewer than approximately 1000 parts? That's another example of a quantile:"
   ]
  },
  {
   "cell_type": "code",
   "execution_count": 36,
   "metadata": {
    "execution": {
     "iopub.execute_input": "2024-09-14T13:34:27.870938Z",
     "iopub.status.busy": "2024-09-14T13:34:27.870821Z",
     "iopub.status.idle": "2024-09-14T13:34:27.873128Z",
     "shell.execute_reply": "2024-09-14T13:34:27.872918Z",
     "shell.execute_reply.started": "2024-09-14T13:34:27.870931Z"
    }
   },
   "outputs": [
    {
     "data": {
      "text/plain": [
       "np.float64(996.0)"
      ]
     },
     "execution_count": 36,
     "metadata": {},
     "output_type": "execute_result"
    }
   ],
   "source": [
    "lego.num_parts.quantile(q=0.975)"
   ]
  },
  {
   "cell_type": "markdown",
   "metadata": {},
   "source": [
    "### Rank"
   ]
  },
  {
   "cell_type": "markdown",
   "metadata": {},
   "source": [
    "**Rank** is used to compute data ranks along axis, i.e., equal values are assigned to a rank that is the average of the ranks of those values.\n",
    "\n"
   ]
  },
  {
   "cell_type": "code",
   "execution_count": 37,
   "metadata": {
    "execution": {
     "iopub.execute_input": "2024-09-14T13:34:27.873642Z",
     "iopub.status.busy": "2024-09-14T13:34:27.873519Z",
     "iopub.status.idle": "2024-09-14T13:34:27.877738Z",
     "shell.execute_reply": "2024-09-14T13:34:27.877552Z",
     "shell.execute_reply.started": "2024-09-14T13:34:27.873633Z"
    }
   },
   "outputs": [
    {
     "data": {
      "text/html": [
       "<div>\n",
       "<style scoped>\n",
       "    .dataframe tbody tr th:only-of-type {\n",
       "        vertical-align: middle;\n",
       "    }\n",
       "\n",
       "    .dataframe tbody tr th {\n",
       "        vertical-align: top;\n",
       "    }\n",
       "\n",
       "    .dataframe thead th {\n",
       "        text-align: right;\n",
       "    }\n",
       "</style>\n",
       "<table border=\"1\" class=\"dataframe\">\n",
       "  <thead>\n",
       "    <tr style=\"text-align: right;\">\n",
       "      <th></th>\n",
       "      <th>set_num</th>\n",
       "      <th>name</th>\n",
       "      <th>year</th>\n",
       "      <th>theme_id</th>\n",
       "      <th>num_parts</th>\n",
       "      <th>default_rank</th>\n",
       "    </tr>\n",
       "  </thead>\n",
       "  <tbody>\n",
       "    <tr>\n",
       "      <th>0</th>\n",
       "      <td>00-1</td>\n",
       "      <td>Weetabix Castle</td>\n",
       "      <td>1970</td>\n",
       "      <td>414</td>\n",
       "      <td>471</td>\n",
       "      <td>10581.5</td>\n",
       "    </tr>\n",
       "    <tr>\n",
       "      <th>1</th>\n",
       "      <td>0011-2</td>\n",
       "      <td>Town Mini-Figures</td>\n",
       "      <td>1978</td>\n",
       "      <td>84</td>\n",
       "      <td>12</td>\n",
       "      <td>3093.5</td>\n",
       "    </tr>\n",
       "    <tr>\n",
       "      <th>2</th>\n",
       "      <td>0011-3</td>\n",
       "      <td>Castle 2 for 1 Bonus Offer</td>\n",
       "      <td>1987</td>\n",
       "      <td>199</td>\n",
       "      <td>2</td>\n",
       "      <td>889.5</td>\n",
       "    </tr>\n",
       "    <tr>\n",
       "      <th>3</th>\n",
       "      <td>0012-1</td>\n",
       "      <td>Space Mini-Figures</td>\n",
       "      <td>1979</td>\n",
       "      <td>143</td>\n",
       "      <td>12</td>\n",
       "      <td>3093.5</td>\n",
       "    </tr>\n",
       "    <tr>\n",
       "      <th>4</th>\n",
       "      <td>0013-1</td>\n",
       "      <td>Space Mini-Figures</td>\n",
       "      <td>1979</td>\n",
       "      <td>143</td>\n",
       "      <td>12</td>\n",
       "      <td>3093.5</td>\n",
       "    </tr>\n",
       "  </tbody>\n",
       "</table>\n",
       "</div>"
      ],
      "text/plain": [
       "  set_num                        name  year  theme_id  num_parts  default_rank\n",
       "0    00-1             Weetabix Castle  1970       414        471       10581.5\n",
       "1  0011-2           Town Mini-Figures  1978        84         12        3093.5\n",
       "2  0011-3  Castle 2 for 1 Bonus Offer  1987       199          2         889.5\n",
       "3  0012-1          Space Mini-Figures  1979       143         12        3093.5\n",
       "4  0013-1          Space Mini-Figures  1979       143         12        3093.5"
      ]
     },
     "execution_count": 37,
     "metadata": {},
     "output_type": "execute_result"
    }
   ],
   "source": [
    "lego['default_rank'] = lego['num_parts'].rank()\n",
    "lego.head()"
   ]
  },
  {
   "cell_type": "markdown",
   "metadata": {},
   "source": [
    "### Summarizing"
   ]
  },
  {
   "cell_type": "markdown",
   "metadata": {},
   "source": [
    "<table border=\"1\" class=\"dataframe\">  <thead>    <tr style=\"text-align: right;\">      <th></th>      <th>set_num</th>      <th>name</th>      <th>year</th>      <th>theme_id</th>      <th>num_parts</th>    </tr>  </thead>  <tbody>    <tr>      <th>11316</th>      <td>K8564-1</td>      <td>Ultimate Bohrok Swarm Kit</td>      <td>2002</td>      <td>324</td>      <td>12</td>    </tr>    <tr>      <th>11028</th>      <td>9964-1</td>      <td>Connector Pegs</td>      <td>1994</td>      <td>1</td>      <td>64</td>    </tr>    <tr>      <th>3034</th>      <td>40037-1</td>      <td>Monthly Mini Model Build February 2012 - Hocke...</td>      <td>2012</td>      <td>409</td>      <td>43</td>    </tr>    <tr>      <th>10077</th>      <td>8783-1</td>      <td>Jayko (USA version with 3 Cards)</td>      <td>2004</td>      <td>198</td>      <td>48</td>    </tr>    <tr>      <th>6463</th>      <td>6618-1</td>      <td>Blue Racer</td>      <td>2000</td>      <td>91</td>      <td>23</td>    </tr>  </tbody></table>"
   ]
  },
  {
   "cell_type": "markdown",
   "metadata": {},
   "source": [
    "As usual, pandas has something extremely helpeful. It's the describe() method. It gives you a summary of what your variable looks like. It's easy to have a look and spot some things you might explore later on."
   ]
  },
  {
   "cell_type": "code",
   "execution_count": 38,
   "metadata": {
    "execution": {
     "iopub.execute_input": "2024-09-14T13:34:27.878089Z",
     "iopub.status.busy": "2024-09-14T13:34:27.878019Z",
     "iopub.status.idle": "2024-09-14T13:34:27.881077Z",
     "shell.execute_reply": "2024-09-14T13:34:27.880891Z",
     "shell.execute_reply.started": "2024-09-14T13:34:27.878082Z"
    }
   },
   "outputs": [
    {
     "data": {
      "text/plain": [
       "count    11670.000000\n",
       "mean       162.304370\n",
       "std        330.224172\n",
       "min          0.000000\n",
       "25%         10.000000\n",
       "50%         45.000000\n",
       "75%        172.000000\n",
       "max       5922.000000\n",
       "Name: num_parts, dtype: float64"
      ]
     },
     "execution_count": 38,
     "metadata": {},
     "output_type": "execute_result"
    }
   ],
   "source": [
    "lego.num_parts.describe()"
   ]
  },
  {
   "cell_type": "markdown",
   "metadata": {},
   "source": [
    "---"
   ]
  },
  {
   "cell_type": "markdown",
   "metadata": {},
   "source": [
    "## Inspecting the Distribution of the Data"
   ]
  },
  {
   "cell_type": "markdown",
   "metadata": {},
   "source": [
    "### Skewness"
   ]
  },
  {
   "cell_type": "markdown",
   "metadata": {},
   "source": [
    "Let's have a look again at the histogram of the number of parts."
   ]
  },
  {
   "cell_type": "code",
   "execution_count": 39,
   "metadata": {
    "execution": {
     "iopub.execute_input": "2024-09-14T13:34:27.881435Z",
     "iopub.status.busy": "2024-09-14T13:34:27.881371Z",
     "iopub.status.idle": "2024-09-14T13:34:27.962629Z",
     "shell.execute_reply": "2024-09-14T13:34:27.962406Z",
     "shell.execute_reply.started": "2024-09-14T13:34:27.881428Z"
    }
   },
   "outputs": [
    {
     "data": {
      "image/png": "[encoded data removed]",
      "text/plain": [
       "<Figure size 1200x600 with 1 Axes>"
      ]
     },
     "metadata": {},
     "output_type": "display_data"
    }
   ],
   "source": [
    "lego.num_parts.plot.hist(bins=50, figsize=(6, 3))\n",
    "plt.xlim(0,2000)\n",
    "plt.xlabel('num_parts')\n",
    "plt.title('Distribution of number of parts of Lego sets');"
   ]
  },
  {
   "cell_type": "markdown",
   "metadata": {},
   "source": [
    "The mass of the distribution of the number of parts is concentrated to the **left** of the histogram, as we discussed above. Therefore, *of course*, mathematicians say that this distribution is **skewed to the right** or has **positive skew** (*right* correspond to the longer right tail of the distribution).\n",
    "\n",
    "<div style=\"text-align: center;\">\n",
    "    <img src=\"media/negative_and_positive_skew_diagrams.png\" alt=\"Alt text\" style=\"width: 800px; height: auto\" />\n",
    "</div>"
   ]
  },
  {
   "cell_type": "markdown",
   "metadata": {},
   "source": [
    "The **skewnesss** of a distribution can be quantified (go [here](https://en.wikipedia.org/wiki/Skewness) for more details). The `skew()` method outputs a number which is larger (in absolute value) for more skewed distributions and is positive/negative for positive/negative skew:"
   ]
  },
  {
   "cell_type": "code",
   "execution_count": 40,
   "metadata": {
    "execution": {
     "iopub.execute_input": "2024-09-14T13:34:27.963037Z",
     "iopub.status.busy": "2024-09-14T13:34:27.962969Z",
     "iopub.status.idle": "2024-09-14T13:34:27.965334Z",
     "shell.execute_reply": "2024-09-14T13:34:27.965103Z",
     "shell.execute_reply.started": "2024-09-14T13:34:27.963030Z"
    }
   },
   "outputs": [
    {
     "data": {
      "text/plain": [
       "np.float64(5.7704793806916514)"
      ]
     },
     "execution_count": 40,
     "metadata": {},
     "output_type": "execute_result"
    }
   ],
   "source": [
    "lego.num_parts.skew()"
   ]
  },
  {
   "cell_type": "markdown",
   "metadata": {},
   "source": [
    "Later in this notebook, we will see how we can deal with a very skewed distribution and outliers."
   ]
  },
  {
   "cell_type": "markdown",
   "metadata": {},
   "source": [
    "### Kurtosis"
   ]
  },
  {
   "cell_type": "markdown",
   "metadata": {},
   "source": [
    "_Kurtosis?_ What could such a horrible name have to do with we are dealing with here?\n",
    "\n",
    "Let's have another look at the plot shown above for the salary distribution at the companies A and B."
   ]
  },
  {
   "cell_type": "code",
   "execution_count": 41,
   "metadata": {
    "execution": {
     "iopub.execute_input": "2024-09-14T13:34:27.965734Z",
     "iopub.status.busy": "2024-09-14T13:34:27.965627Z",
     "iopub.status.idle": "2024-09-14T13:34:28.041724Z",
     "shell.execute_reply": "2024-09-14T13:34:28.041452Z",
     "shell.execute_reply.started": "2024-09-14T13:34:27.965724Z"
    }
   },
   "outputs": [
    {
     "data": {
      "image/png": "[encoded data removed]",
      "text/plain": [
       "<Figure size 1200x600 with 1 Axes>"
      ]
     },
     "metadata": {},
     "output_type": "display_data"
    }
   ],
   "source": [
    "company_a, company_b = get_company_salaries_and_plot()"
   ]
  },
  {
   "cell_type": "markdown",
   "metadata": {},
   "source": [
    "Can you see that the salary distribution for company B has longer \"tails\" on both sides than the distribution for company A? The measure of this \"tailedness\" is known as [kurtosis](https://en.wikipedia.org/wiki/Kurtosis) and it is higher for distributions with more probability mass concentrated in the tails.\n",
    "\n",
    "A standard measure of kurtosis can be obtained using the method [`kurt()`](https://pandas.pydata.org/pandas-docs/stable/reference/api/pandas.DataFrame.kurt.html):"
   ]
  },
  {
   "cell_type": "code",
   "execution_count": 42,
   "metadata": {
    "execution": {
     "iopub.execute_input": "2024-09-14T13:34:28.042276Z",
     "iopub.status.busy": "2024-09-14T13:34:28.042169Z",
     "iopub.status.idle": "2024-09-14T13:34:28.044576Z",
     "shell.execute_reply": "2024-09-14T13:34:28.044339Z",
     "shell.execute_reply.started": "2024-09-14T13:34:28.042268Z"
    }
   },
   "outputs": [
    {
     "data": {
      "text/plain": [
       "np.float64(0.22420229095281652)"
      ]
     },
     "execution_count": 42,
     "metadata": {},
     "output_type": "execute_result"
    }
   ],
   "source": [
    "company_a.kurt()"
   ]
  },
  {
   "cell_type": "code",
   "execution_count": 43,
   "metadata": {
    "execution": {
     "iopub.execute_input": "2024-09-14T13:34:28.044890Z",
     "iopub.status.busy": "2024-09-14T13:34:28.044828Z",
     "iopub.status.idle": "2024-09-14T13:34:28.047046Z",
     "shell.execute_reply": "2024-09-14T13:34:28.046785Z",
     "shell.execute_reply.started": "2024-09-14T13:34:28.044883Z"
    }
   },
   "outputs": [
    {
     "data": {
      "text/plain": [
       "np.float64(4.0409689366297314)"
      ]
     },
     "execution_count": 43,
     "metadata": {},
     "output_type": "execute_result"
    }
   ],
   "source": [
    "company_b.kurt()"
   ]
  },
  {
   "cell_type": "markdown",
   "metadata": {},
   "source": [
    "However, this method returns what is known as excess kurtosis. Excess kurtosis is kurtosis relative to the normal distribution. The kurtosis of a normal distribution is 3. Therefore, excess kurtosis equals kurtosis minus 3.\n",
    "\n",
    "Thus, in this case, we can see company A has a similar frequency of outliers as you would expect in a normal distribution whereas, in company B, outliers occur much more frequently."
   ]
  },
  {
   "cell_type": "markdown",
   "metadata": {},
   "source": [
    "### Probability Density Function (PDF)"
   ]
  },
  {
   "cell_type": "markdown",
   "metadata": {},
   "source": [
    "**Probability Density Function (PDF)** Is a function whose value at any given sample (or point) in the sample space (the set of possible values taken by the random variable) can be interpreted as providing a relative likelihood that the value of the random variable would equal or be close to that sample. It's important to note that the value of the PDF itself is not a probability; instead, it is a density. The probability that the random variable falls within a particular range is given by the integral of the PDF over that range. The higher the PDF at a given point, the higher the density of probability per unit of measure around that point. (go [here](https://en.wikipedia.org/wiki/Probability_density_function) for more details)."
   ]
  },
  {
   "cell_type": "code",
   "execution_count": 44,
   "metadata": {
    "execution": {
     "iopub.execute_input": "2024-09-14T13:34:28.047558Z",
     "iopub.status.busy": "2024-09-14T13:34:28.047479Z",
     "iopub.status.idle": "2024-09-14T13:34:28.342069Z",
     "shell.execute_reply": "2024-09-14T13:34:28.341811Z",
     "shell.execute_reply.started": "2024-09-14T13:34:28.047551Z"
    }
   },
   "outputs": [
    {
     "data": {
      "image/png": "[encoded data removed]",
      "text/plain": [
       "<Figure size 1200x600 with 1 Axes>"
      ]
     },
     "metadata": {},
     "output_type": "display_data"
    }
   ],
   "source": [
    "company_a.plot(kind='density', figsize=(6, 3))\n",
    "company_b.plot(kind='density')\n",
    "plt.xlabel('Salary')\n",
    "plt.legend()\n",
    "plt.title('Salary probability density function in companies A and B');"
   ]
  },
  {
   "cell_type": "markdown",
   "metadata": {},
   "source": [
    "Think of a PDF as a way to describe how the values of some continuous quantity (height, weight..salaries), are spread out or distributed. It's like a smooth curve that shows where the values of a variable, like salaries in this example, are most likely to be. \n",
    "\n",
    "* What it shows: The PDF tells you where the values are concentrated. If the curve is high at a certain point, it means it's more likely to find values near that point. So, if the PDF peaks at 1500, it means a lot of salaries are around that value.\n",
    "* It's about density, not probability: The PDF doesn't give you probabilities directly. For example, you CANNOT use the PDF to find the probability that a salary is exactly 1500  because the probability of any single exact value in a continuous setting is zero. The PDF provides a relative density, or concentration, of salaries around this point.\n",
    "* Instead, the PDF helps you find probabilities over intervals. If you want to know the probability of a salary being between 1400 and 1600, you look at the area under the PDF curve between those two values.\n",
    "* Using the curve: So to find the probability of something within a certain range, you calculate the area under the PDF curve for that range. This is like adding up all the little probabilities for each tiny piece of that interval."
   ]
  },
  {
   "cell_type": "markdown",
   "metadata": {},
   "source": [
    "### Cumulative Distribution Function (CDF)"
   ]
  },
  {
   "cell_type": "markdown",
   "metadata": {},
   "source": [
    "> ⚠️ **Warning:** If you like to search information online, be aware the cumulative distribution function is often called \"cumulative density function\", which is **[scientifically incorrect!](https://en.wikipedia.org/wiki/Cumulative_density_function)**"
   ]
  },
  {
   "cell_type": "markdown",
   "metadata": {},
   "source": [
    "**Cumulative distribution function (CDF)** of a real-valued random variable $\\text{X}$, or just **distribution function** of $\\text{X}$, evaluated at $\\text{x}$, is the probability that $\\text{X}$ will take a value less than or equal to $\\text{x}$.\n",
    "\n",
    "In essence, the CDF is like a running-total (cumulative sum) of probabilities or frequencies up to each salary point. The CDF starts at zero, meaning that, initially, 0% of the employees earn below the lowest salary. As the CDF increases, it shows, at each salary point, the cumulative percentage of employees who earn that amount or less. When it reaches the highest salary in the company, it means that 100% of the employees earn up to this amount.\n",
    "\n",
    "(go [here](https://en.wikipedia.org/wiki/Cumulative_distribution_function) for more details)."
   ]
  },
  {
   "cell_type": "code",
   "execution_count": 45,
   "metadata": {
    "execution": {
     "iopub.execute_input": "2024-09-14T13:34:28.342689Z",
     "iopub.status.busy": "2024-09-14T13:34:28.342577Z",
     "iopub.status.idle": "2024-09-14T13:34:28.415230Z",
     "shell.execute_reply": "2024-09-14T13:34:28.415030Z",
     "shell.execute_reply.started": "2024-09-14T13:34:28.342681Z"
    }
   },
   "outputs": [
    {
     "data": {
      "image/png": "[encoded data removed]",
      "text/plain": [
       "<Figure size 1200x600 with 1 Axes>"
      ]
     },
     "metadata": {},
     "output_type": "display_data"
    }
   ],
   "source": [
    "company_a.plot(kind='hist', histtype='step', bins=100, cumulative=True, \n",
    "               figsize=(6, 3))\n",
    "company_b.plot(kind='hist', histtype='step', bins=100, cumulative=True)\n",
    "plt.xlabel('Salary')\n",
    "plt.legend()\n",
    "plt.title('Salary cumulative distribution function in companies A and B');"
   ]
  },
  {
   "cell_type": "markdown",
   "metadata": {},
   "source": [
    "---"
   ]
  },
  {
   "cell_type": "markdown",
   "metadata": {},
   "source": [
    "## Dealing with outliers and skewed distributions"
   ]
  },
  {
   "cell_type": "markdown",
   "metadata": {},
   "source": [
    "When you start doing your Data Science projects, you'll soon realize that outliers are more common than you maybe naively expect. The way you deal with them might be crucial to obtain a good performing model, as many Machine Learning algorithms are seriously disrupted by the presence of outliers (many Decision Tree based algorithms are notable exceptions). \n",
    "\n",
    "A few possible strategies to deal with outliers are the following:\n",
    " - **do nothing**: similarly to missing values, the simplest strategy is to do nothing! This might be sufficient if you are dealing with numerical data or you intend to use algorithms which are not affected by the presence of outliers.\n",
    " - **drop instances with outliers**: although not recommended, you may decide to go this route if you find that the outliers corresponds to wrong data or are out of the region of interest to your use case.\n",
    " - **drop column with outliers**: this can be a good idea if you find that the column is not very predictive anyway or if you have another column which has similar information but without the outliers.\n",
    " - **impute values**: also similarly to missing values, you can try replacing the extreme values with more reasonable ones (e.g. by capping the outliers at the bottom or top).\n",
    " - **binning**: a better strategy usually is to bin the values into a few categories. For instance, for the number of parts of the lego sets we have been looking at, we could have four categories: < 100 parts, 100-250 parts, 250-500 parts and > 500 parts.\n",
    " - **transforming data**: a fancy way to eliminate outliers is to transform the data itself. A common transformation to reduce the variance caused by the outliers is the ***log transformation***."
   ]
  },
  {
   "cell_type": "markdown",
   "metadata": {},
   "source": [
    "### Log transformation\n",
    "\n",
    "To better understand how transforming the data might help to eliminate the outliers (and reduce the skewness of the distributions), let's apply the log transformation to the number of parts column of the lego dataset.\n",
    "\n",
    "First, recall that the function $y = \\log(x)$ has the behavior shown in the plot below; for large $x$, the logarithm grows much slower than the identity function $y=x$ (that is, it has a much smaller derivative) and, for large $x$, $\\log(x) \\ll x$. For example, $\\log(100) = 4.6$ and $\\log(1000) = 6.9$."
   ]
  },
  {
   "cell_type": "code",
   "execution_count": 46,
   "metadata": {
    "execution": {
     "iopub.execute_input": "2024-09-14T13:34:28.415719Z",
     "iopub.status.busy": "2024-09-14T13:34:28.415636Z",
     "iopub.status.idle": "2024-09-14T13:34:28.471412Z",
     "shell.execute_reply": "2024-09-14T13:34:28.471207Z",
     "shell.execute_reply.started": "2024-09-14T13:34:28.415710Z"
    },
    "scrolled": true
   },
   "outputs": [
    {
     "data": {
      "image/png": "[encoded data removed]",
      "text/plain": [
       "<Figure size 800x600 with 1 Axes>"
      ]
     },
     "metadata": {},
     "output_type": "display_data"
    }
   ],
   "source": [
    "plot_log_function();"
   ]
  },
  {
   "cell_type": "markdown",
   "metadata": {},
   "source": [
    "An annoying issue is that $y = \\log(x)$ is only defined for _positive_ $x$, as $\\log(x) \\to - \\infty$ as $x \\to 0$ from positive numbers. But we know that we have lego sets in our dataset which have 0 parts.\n",
    "\n",
    "Let's have a look at some of those instances."
   ]
  },
  {
   "cell_type": "code",
   "execution_count": 47,
   "metadata": {
    "execution": {
     "iopub.execute_input": "2024-09-14T13:34:28.471805Z",
     "iopub.status.busy": "2024-09-14T13:34:28.471726Z",
     "iopub.status.idle": "2024-09-14T13:34:28.475438Z",
     "shell.execute_reply": "2024-09-14T13:34:28.475250Z",
     "shell.execute_reply.started": "2024-09-14T13:34:28.471796Z"
    }
   },
   "outputs": [
    {
     "data": {
      "text/html": [
       "<div>\n",
       "<style scoped>\n",
       "    .dataframe tbody tr th:only-of-type {\n",
       "        vertical-align: middle;\n",
       "    }\n",
       "\n",
       "    .dataframe tbody tr th {\n",
       "        vertical-align: top;\n",
       "    }\n",
       "\n",
       "    .dataframe thead th {\n",
       "        text-align: right;\n",
       "    }\n",
       "</style>\n",
       "<table border=\"1\" class=\"dataframe\">\n",
       "  <thead>\n",
       "    <tr style=\"text-align: right;\">\n",
       "      <th></th>\n",
       "      <th>set_num</th>\n",
       "      <th>name</th>\n",
       "      <th>year</th>\n",
       "      <th>theme_id</th>\n",
       "      <th>num_parts</th>\n",
       "      <th>default_rank</th>\n",
       "    </tr>\n",
       "  </thead>\n",
       "  <tbody>\n",
       "    <tr>\n",
       "      <th>353</th>\n",
       "      <td>10623-1</td>\n",
       "      <td>Basic Bricks – Large</td>\n",
       "      <td>2015</td>\n",
       "      <td>505</td>\n",
       "      <td>0</td>\n",
       "      <td>237.0</td>\n",
       "    </tr>\n",
       "    <tr>\n",
       "      <th>355</th>\n",
       "      <td>1064-1</td>\n",
       "      <td>Dacta Buildings</td>\n",
       "      <td>1981</td>\n",
       "      <td>533</td>\n",
       "      <td>0</td>\n",
       "      <td>237.0</td>\n",
       "    </tr>\n",
       "    <tr>\n",
       "      <th>613</th>\n",
       "      <td>11995-1</td>\n",
       "      <td>Hero Recon Team</td>\n",
       "      <td>2011</td>\n",
       "      <td>400</td>\n",
       "      <td>0</td>\n",
       "      <td>237.0</td>\n",
       "    </tr>\n",
       "    <tr>\n",
       "      <th>900</th>\n",
       "      <td>14-3</td>\n",
       "      <td>Small house set</td>\n",
       "      <td>1973</td>\n",
       "      <td>433</td>\n",
       "      <td>0</td>\n",
       "      <td>237.0</td>\n",
       "    </tr>\n",
       "    <tr>\n",
       "      <th>1367</th>\n",
       "      <td>200-2</td>\n",
       "      <td>Building Ideas Book</td>\n",
       "      <td>1985</td>\n",
       "      <td>501</td>\n",
       "      <td>0</td>\n",
       "      <td>237.0</td>\n",
       "    </tr>\n",
       "  </tbody>\n",
       "</table>\n",
       "</div>"
      ],
      "text/plain": [
       "      set_num                  name  year  theme_id  num_parts  default_rank\n",
       "353   10623-1  Basic Bricks – Large  2015       505          0         237.0\n",
       "355    1064-1       Dacta Buildings  1981       533          0         237.0\n",
       "613   11995-1       Hero Recon Team  2011       400          0         237.0\n",
       "900      14-3       Small house set  1973       433          0         237.0\n",
       "1367    200-2   Building Ideas Book  1985       501          0         237.0"
      ]
     },
     "execution_count": 47,
     "metadata": {},
     "output_type": "execute_result"
    }
   ],
   "source": [
    "lego.loc[lego.num_parts == 0].head()"
   ]
  },
  {
   "cell_type": "markdown",
   "metadata": {},
   "source": [
    "It makes sense that \"Building Ideas Book\" has 0 lego parts, but it is not clear what's happening for some of the others. \n",
    "\n",
    "For our purposes now, and to simplify things, let's just drop the instances with 0 parts."
   ]
  },
  {
   "cell_type": "code",
   "execution_count": 48,
   "metadata": {
    "execution": {
     "iopub.execute_input": "2024-09-14T13:34:28.475870Z",
     "iopub.status.busy": "2024-09-14T13:34:28.475792Z",
     "iopub.status.idle": "2024-09-14T13:34:28.478037Z",
     "shell.execute_reply": "2024-09-14T13:34:28.477826Z",
     "shell.execute_reply.started": "2024-09-14T13:34:28.475861Z"
    }
   },
   "outputs": [],
   "source": [
    "lego_non_zero = lego.drop(lego.loc[lego.num_parts == 0].index, axis=0)"
   ]
  },
  {
   "cell_type": "markdown",
   "metadata": {},
   "source": [
    "The distribution of the number of parts still looks essentially the same as before, very skewed to the _right_ (arghh!)."
   ]
  },
  {
   "cell_type": "code",
   "execution_count": 49,
   "metadata": {
    "execution": {
     "iopub.execute_input": "2024-09-14T13:34:28.478421Z",
     "iopub.status.busy": "2024-09-14T13:34:28.478356Z",
     "iopub.status.idle": "2024-09-14T13:34:28.570981Z",
     "shell.execute_reply": "2024-09-14T13:34:28.570757Z",
     "shell.execute_reply.started": "2024-09-14T13:34:28.478414Z"
    }
   },
   "outputs": [
    {
     "data": {
      "image/png": "[encoded data removed]",
      "text/plain": [
       "<Figure size 1200x600 with 1 Axes>"
      ]
     },
     "metadata": {},
     "output_type": "display_data"
    }
   ],
   "source": [
    "lego_non_zero.num_parts.plot.hist(bins=100, figsize=(6, 3))\n",
    "plt.xlim(0,2000)\n",
    "plt.xlabel('num_parts')\n",
    "plt.title('Distribution of number of parts of Lego sets');"
   ]
  },
  {
   "cell_type": "code",
   "execution_count": 50,
   "metadata": {
    "execution": {
     "iopub.execute_input": "2024-09-14T13:34:28.571502Z",
     "iopub.status.busy": "2024-09-14T13:34:28.571416Z",
     "iopub.status.idle": "2024-09-14T13:34:28.573841Z",
     "shell.execute_reply": "2024-09-14T13:34:28.573623Z",
     "shell.execute_reply.started": "2024-09-14T13:34:28.571494Z"
    }
   },
   "outputs": [
    {
     "data": {
      "text/plain": [
       "np.float64(5.683446598125322)"
      ]
     },
     "execution_count": 50,
     "metadata": {},
     "output_type": "execute_result"
    }
   ],
   "source": [
    "lego_non_zero.num_parts.skew()"
   ]
  },
  {
   "cell_type": "markdown",
   "metadata": {},
   "source": [
    "Let's add a new column with the logarithm of the number of parts and check the resulting distribution."
   ]
  },
  {
   "cell_type": "code",
   "execution_count": 51,
   "metadata": {
    "execution": {
     "iopub.execute_input": "2024-09-14T13:34:28.574286Z",
     "iopub.status.busy": "2024-09-14T13:34:28.574202Z",
     "iopub.status.idle": "2024-09-14T13:34:28.576226Z",
     "shell.execute_reply": "2024-09-14T13:34:28.575999Z",
     "shell.execute_reply.started": "2024-09-14T13:34:28.574278Z"
    }
   },
   "outputs": [],
   "source": [
    "lego_non_zero['log_num_parts'] = np.log(lego_non_zero.num_parts)"
   ]
  },
  {
   "cell_type": "code",
   "execution_count": 52,
   "metadata": {
    "execution": {
     "iopub.execute_input": "2024-09-14T13:34:28.576663Z",
     "iopub.status.busy": "2024-09-14T13:34:28.576581Z",
     "iopub.status.idle": "2024-09-14T13:34:28.649233Z",
     "shell.execute_reply": "2024-09-14T13:34:28.648998Z",
     "shell.execute_reply.started": "2024-09-14T13:34:28.576656Z"
    }
   },
   "outputs": [
    {
     "data": {
      "image/png": "[encoded data removed]",
      "text/plain": [
       "<Figure size 1200x600 with 1 Axes>"
      ]
     },
     "metadata": {},
     "output_type": "display_data"
    }
   ],
   "source": [
    "lego_non_zero.log_num_parts.plot.hist(bins=50, figsize=(6, 3))\n",
    "plt.xlabel('log_num_parts')\n",
    "plt.title('Distribution of number of parts of Lego sets');"
   ]
  },
  {
   "cell_type": "markdown",
   "metadata": {},
   "source": [
    "Wow, it looks completely different! And much less skewed, as can be confirmed with the skewness measure:"
   ]
  },
  {
   "cell_type": "code",
   "execution_count": 53,
   "metadata": {
    "execution": {
     "iopub.execute_input": "2024-09-14T13:34:28.649720Z",
     "iopub.status.busy": "2024-09-14T13:34:28.649650Z",
     "iopub.status.idle": "2024-09-14T13:34:28.651926Z",
     "shell.execute_reply": "2024-09-14T13:34:28.651717Z",
     "shell.execute_reply.started": "2024-09-14T13:34:28.649712Z"
    }
   },
   "outputs": [
    {
     "data": {
      "text/plain": [
       "np.float64(-0.12708361713551028)"
      ]
     },
     "execution_count": 53,
     "metadata": {},
     "output_type": "execute_result"
    }
   ],
   "source": [
    "lego_non_zero.log_num_parts.skew()"
   ]
  },
  {
   "cell_type": "markdown",
   "metadata": {},
   "source": [
    "The values are now much less spread. Use the `describe()` method to get the common statistics for the new column:"
   ]
  },
  {
   "cell_type": "code",
   "execution_count": 54,
   "metadata": {
    "execution": {
     "iopub.execute_input": "2024-09-14T13:34:28.652272Z",
     "iopub.status.busy": "2024-09-14T13:34:28.652208Z",
     "iopub.status.idle": "2024-09-14T13:34:28.655394Z",
     "shell.execute_reply": "2024-09-14T13:34:28.655199Z",
     "shell.execute_reply.started": "2024-09-14T13:34:28.652264Z"
    }
   },
   "outputs": [
    {
     "data": {
      "text/plain": [
       "count    11197.000000\n",
       "mean         3.860621\n",
       "std          1.738087\n",
       "min          0.000000\n",
       "25%          2.639057\n",
       "50%          3.891820\n",
       "75%          5.209486\n",
       "max          8.686430\n",
       "Name: log_num_parts, dtype: float64"
      ]
     },
     "execution_count": 54,
     "metadata": {},
     "output_type": "execute_result"
    }
   ],
   "source": [
    "lego_non_zero.log_num_parts.describe()"
   ]
  },
  {
   "cell_type": "markdown",
   "metadata": {},
   "source": [
    "From this you see how we were able to deal with the outliers of the `num_parts` column and, simultaneously, drastically reduce the skewness of its distribuition. Not bad, right? Logarithms, after all, can be useful!"
   ]
  },
  {
   "cell_type": "markdown",
   "metadata": {},
   "source": [
    "----"
   ]
  },
  {
   "cell_type": "markdown",
   "metadata": {},
   "source": [
    "## TO BE CONTINUED...\n",
    "\n",
    "_Don't despair, there is more awesome Statistics to learn in the next SLU! For now, let's have a break and apply all this new knowledge in the Exercise Notebook!_"
   ]
  }
 ],
 "metadata": {
  "kernelspec": {
   "display_name": "Python 3 (ipykernel)",
   "language": "python",
   "name": "python3"
  },
  "language_info": {
   "codemirror_mode": {
    "name": "ipython",
    "version": 3
   },
   "file_extension": ".py",
   "mimetype": "text/x-python",
   "name": "python",
   "nbconvert_exporter": "python",
   "pygments_lexer": "ipython3",
   "version": "3.12.2"
  },
  "varInspector": {
   "cols": {
    "lenName": 16,
    "lenType": 16,
    "lenVar": 40
   },
   "kernels_config": {
    "python": {
     "delete_cmd_postfix": "",
     "delete_cmd_prefix": "del ",
     "library": "var_list.py",
     "varRefreshCmd": "print(var_dic_list())"
    },
    "r": {
     "delete_cmd_postfix": ") ",
     "delete_cmd_prefix": "rm(",
     "library": "var_list.r",
     "varRefreshCmd": "cat(var_dic_list()) "
    }
   },
   "types_to_exclude": [
    "module",
    "function",
    "builtin_function_or_method",
    "instance",
    "_Feature"
   ],
   "window_display": false
  }
 },
 "nbformat": 4,
 "nbformat_minor": 4
}
