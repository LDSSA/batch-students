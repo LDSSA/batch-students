{
 "cells": [
  {
   "cell_type": "markdown",
   "id": "b7db7ccc",
   "metadata": {},
   "source": [
    "# [LDSSA Hackathon 4] - Research Fields Prediction (NLP Specialization)\n",
    "\n",
    "This notebook aims to predict scientific disciplines using NLP-based features.\n",
    "\n",
    "* Author: Jessica Rodrigues\n",
    "* Date: 01-02-2025"
   ]
  },
  {
   "cell_type": "code",
   "execution_count": 1,
   "id": "0aaea34d",
   "metadata": {},
   "outputs": [],
   "source": [
    "import warnings\n",
    "from pathlib import Path"
   ]
  },
  {
   "cell_type": "code",
   "execution_count": 2,
   "id": "85ac4049",
   "metadata": {},
   "outputs": [],
   "source": [
    "# project directory\n",
    "project_dir = Path(\".\").resolve().parent\n",
    "warnings.filterwarnings(\"ignore\")"
   ]
  },
  {
   "cell_type": "markdown",
   "id": "3ccebd6d",
   "metadata": {},
   "source": [
    "## 1. Data\n",
    "\n",
    "In this section, we are going to perform the Exploratory Data Analysis and the pre-processing of training, and test sets."
   ]
  },
  {
   "cell_type": "code",
   "execution_count": 3,
   "id": "e1ba46eb",
   "metadata": {},
   "outputs": [],
   "source": [
    "import pandas as pd\n",
    "from src.data.read_dataset import get_data\n",
    "pd.set_option('display.max_colwidth', None)"
   ]
  },
  {
   "cell_type": "markdown",
   "id": "f8ab82fe",
   "metadata": {},
   "source": [
    "### 1.1 ArXiv Dataset\n",
    "\n",
    "ArXiv is a major preprint server that provides open access to scholarly articles across a wide array of fields. These fields range from computer science to various subdisciplines of physics, as well as math, statistics, electrical engineering, quantitative biology, economics, and more. The ArXiv dataset (https://arxiv.org/) contains approximately 1.7 million papers, of which 167,767 are STEM papers (science, technology, engineering, and mathematics).\n",
    "\n",
    "Our reduced version is a csv file and the columns are: Abstract, Publication Year, and Category (label). The file must be inside the **./data/processed/** directory and the extension must be .csv:\n",
    "\n",
    "* **Category**: is a multiclass variable, indicating five different research fields: Computer Vision and Pattern Recognition, Machine Learning, Computation and Language, Human-Computer Interaction, and Information Retrieval."
   ]
  },
  {
   "cell_type": "code",
   "execution_count": 4,
   "id": "f6381d1c",
   "metadata": {},
   "outputs": [],
   "source": [
    "TRAIN_FILE = project_dir / \"data\" / \"processed\" / \"train.csv\"\n",
    "TEST_FILE = project_dir / \"data\" / \"processed\" / \"test.csv\""
   ]
  },
  {
   "cell_type": "code",
   "execution_count": 5,
   "id": "fb503e6c",
   "metadata": {},
   "outputs": [],
   "source": [
    "df_train = pd.read_csv(TRAIN_FILE, delimiter=\",\", header=0, encoding='utf-8', engine='python')\n",
    "df_test = pd.read_csv(TEST_FILE, delimiter=\",\", header=0, encoding='utf-8', engine='python')"
   ]
  },
  {
   "cell_type": "code",
   "execution_count": 6,
   "id": "3a58d6a7",
   "metadata": {},
   "outputs": [
    {
     "data": {
      "text/html": [
       "<div>\n",
       "<style scoped>\n",
       "    .dataframe tbody tr th:only-of-type {\n",
       "        vertical-align: middle;\n",
       "    }\n",
       "\n",
       "    .dataframe tbody tr th {\n",
       "        vertical-align: top;\n",
       "    }\n",
       "\n",
       "    .dataframe thead th {\n",
       "        text-align: right;\n",
       "    }\n",
       "</style>\n",
       "<table border=\"1\" class=\"dataframe\">\n",
       "  <thead>\n",
       "    <tr style=\"text-align: right;\">\n",
       "      <th></th>\n",
       "      <th>Abstract</th>\n",
       "      <th>Year</th>\n",
       "      <th>Category</th>\n",
       "      <th>label</th>\n",
       "    </tr>\n",
       "  </thead>\n",
       "  <tbody>\n",
       "    <tr>\n",
       "      <th>0</th>\n",
       "      <td>The importance repetition music well-known . In paper study music repetition context effective efficient automatic genre classification large-scale music-databases . We aim enhancing access organization piece music Digital Libraries allowing automatic categorization entire collection considering musical content . We handover public set genre-specific pattern support research musicology . The pattern used instance explore analyze relation musical genre . There many existing algorithm could used identify extract repeating pattern symbolically encoded music . In case extracted pattern used representation piece music underlying corpus consecutively train evaluate classifier automatically identify genre . In paper apply two fast algorithm enabling u experiment large diverse corpus . Thus able find pattern strong discrimination power used various application . We carried experiment corpus containing 40000 MIDI file annotated least one genre . The experiment suggest approach scalable capable dealing real-world-size music collection .</td>\n",
       "      <td>2018</td>\n",
       "      <td>Information Retrieval</td>\n",
       "      <td>3</td>\n",
       "    </tr>\n",
       "    <tr>\n",
       "      <th>1</th>\n",
       "      <td>Weakly supervised semantic segmentation ( WSSS ) image-level supervision challenging task . Most existing method exploit Class Activation Maps ( CAM ) generate pixel-level pseudo label supervised training . However due local receptive field Convolution Neural Networks ( CNN ) CAM applied CNNs often suffers partial activation -- highlighting discriminative part instead entire object area . In order capture local feature global representation Conformer proposed combine visual transformer branch CNN branch . In paper propose TransCAM Conformer-based solution WSSS explicitly leverage attention weight transformer branch Conformer refine CAM generated CNN branch . TransCAM motivated observation attention weight shallow transformer block able capture low-level spatial feature similarity attention weight deep transformer block capture high-level semantic context . Despite simplicity TransCAM achieves new state-of-the-art performance 69.3 % 69.6 % respective PASCAL VOC 2012 validation test set showing effectiveness transformer attention-based refinement CAM WSSS .</td>\n",
       "      <td>2023</td>\n",
       "      <td>Computer Vision and Pattern Recognition</td>\n",
       "      <td>1</td>\n",
       "    </tr>\n",
       "    <tr>\n",
       "      <th>2</th>\n",
       "      <td>Multi-view learning progressed rapidly recent year . Although many previous study assume instance appears view common real-world application instance missing view resulting incomplete multi-view data . To tackle problem propose novel Latent Heterogeneous Graph Network ( LHGN ) incomplete multi-view learning aim use multiple incomplete view fully possible flexible manner . By learning unified latent representation trade-off consistency complementarity among different view implicitly realized . To explore complex relationship sample latent representation neighborhood constraint view-existence constraint proposed first time construct heterogeneous graph . Finally avoid inconsistency training test phase transductive learning technique applied based graph learning classification task . Extensive experimental result real-world datasets demonstrate effectiveness model existing state-of-the-art approach .</td>\n",
       "      <td>2022</td>\n",
       "      <td>Machine Learning</td>\n",
       "      <td>4</td>\n",
       "    </tr>\n",
       "    <tr>\n",
       "      <th>3</th>\n",
       "      <td>Transfer learning proven effective technique neural machine translation low-resource condition . Existing method require common target language language relatedness specific training trick regime . We present simple transfer learning method first train `` parent `` model high-resource language pair continue training lowresource pair replacing training corpus . This `` child `` model performs significantly better baseline trained lowresource pair . We first show targeting different language observe improvement even unrelated language different alphabet .</td>\n",
       "      <td>2018</td>\n",
       "      <td>Computation and Language</td>\n",
       "      <td>0</td>\n",
       "    </tr>\n",
       "    <tr>\n",
       "      <th>4</th>\n",
       "      <td>Bundle recommendation aim recommend user bundle item whole . Nevertheless usually neglect diversity user 's intent adopting item fail disentangle user 's intent representation . In real scenario bundle recommendation user 's intent may naturally distributed different bundle user ( Global view ) bundle may contain multiple intent user ( Local view ) . Each view advantage intent disentangling : 1 ) From global view item involved present intent demonstrate user 's preference intent clearly . 2 ) From local view reveal association among item intent since item within bundle highly correlated . To end propose novel model named Multi-view Intent Disentangle Graph Networks ( MIDGN ) capable precisely comprehensively capturing diversity user 's intent item ' association finer granularity . Specifically MIDGN disentangles user 's intent two different perspective respectively : 1 ) In global level MIDGN disentangles user 's intent coupled inter-bundle item ; 2 ) In Local level MIDGN disentangles user 's intent coupled item within bundle . Meanwhile compare user 's intent disentangled different view contrast learning framework improve learned intent . Extensive experiment conducted two benchmark datasets demonstrate MIDGN outperforms state-of-the-art method 10.7 % 26.8 % respectively .</td>\n",
       "      <td>2022</td>\n",
       "      <td>Information Retrieval</td>\n",
       "      <td>3</td>\n",
       "    </tr>\n",
       "    <tr>\n",
       "      <th>...</th>\n",
       "      <td>...</td>\n",
       "      <td>...</td>\n",
       "      <td>...</td>\n",
       "      <td>...</td>\n",
       "    </tr>\n",
       "    <tr>\n",
       "      <th>3692</th>\n",
       "      <td>In paper simple yet efficient activity recognition method first-person video introduced . The proposed method appropriate representation high-dimensional feature extracted convolutional neural network ( CNNs ) . The per-frame ( per-segment ) extracted feature considered set time series inter intra-time series relation employed represent video descriptor . To find inter-time relation series grouped linear correlation pair group calculated . The relation represent scene dynamic local motion . The introduced grouping strategy help considerably reduce computational cost . Furthermore split series temporal direction order preserve long term motion better focus local time window . In order extract cyclic motion pattern considered primary component various activity intra-time series correlation exploited . The representation method result highly discriminative feature linearly classified . The experiment confirm method outperforms state-of-the-art method recognizing first-person activity two challenging first-person datasets .</td>\n",
       "      <td>2019</td>\n",
       "      <td>Computer Vision and Pattern Recognition</td>\n",
       "      <td>1</td>\n",
       "    </tr>\n",
       "    <tr>\n",
       "      <th>3693</th>\n",
       "      <td>In work investigate following : 1 ) routing affect CapsNet model fitting ; 2 ) representation using capsule help discover global structure data distribution ; 3 ) learned data representation adapts generalizes new task . Our investigation yielded result mentioned original paper CapsNet : 1 ) routing operation determines certainty layer capsule pas information layer appropriate level certainty related model fitness ; 2 ) designed experiment using data known 2D structure capsule representation enable meaningful 2D manifold embedding neuron standard convolutional neural network ( CNN ) ; 3 ) compared neuron standard CNN capsule successive layer less coupled adaptive new data distribution .</td>\n",
       "      <td>2019</td>\n",
       "      <td>Computer Vision and Pattern Recognition</td>\n",
       "      <td>1</td>\n",
       "    </tr>\n",
       "    <tr>\n",
       "      <th>3694</th>\n",
       "      <td>In paper study partial multi-label ( PML ) image classification problem image annotated candidate label set consists multiple relevant label noisy label . Existing PML method typically design disambiguation strategy filter noisy label utilizing prior knowledge extra assumption unfortunately unavailable many real task . Furthermore objective function disambiguation usually elaborately designed whole training set hardly optimized deep model SGD mini-batches . In paper first time propose deep model PML enhance representation discrimination ability . On one hand propose novel curriculum based disambiguation strategy progressively identify ground-truth label incorporating varied difficulty different class . On hand consistency regularization introduced model retraining balance fitting identified easy label exploiting potential relevant label . Extensive experimental result commonly used benchmark datasets show proposed method significantly outperforms SOTA method .</td>\n",
       "      <td>2023</td>\n",
       "      <td>Computer Vision and Pattern Recognition</td>\n",
       "      <td>1</td>\n",
       "    </tr>\n",
       "    <tr>\n",
       "      <th>3695</th>\n",
       "      <td>Opinion Expression Identification ( OEI ) essential NLP application ranging voice assistant depression diagnosis . This study extends OEI encompass multimodal input underlining significance auditory cue delivering emotional subtlety beyond capability text . We introduce novel multimodal OEI ( MOEI ) task integrating text speech mirror real-world scenario . Utilizing CMU MOSEI IEMOCAP datasets construct CI-MOEI dataset . Additionally Text-to-Speech ( TTS ) technology applied MPQA dataset obtain CIM-OEI dataset . We design template OEI task take full advantage generative power large language model ( LLMs ) . Advancing propose LLM-driven method STOEI combine speech text modal identify opinion expression . Our experiment demonstrate MOEI significantly improves performance method outperforms existing method 9.20\\ % obtains SOTA result .</td>\n",
       "      <td>2024</td>\n",
       "      <td>Computation and Language</td>\n",
       "      <td>0</td>\n",
       "    </tr>\n",
       "    <tr>\n",
       "      <th>3696</th>\n",
       "      <td>Different space-filling curve ( SFCs ) briefly reviewed paper new one proposed . A century passed inception kind curve since found useful computer science particularly data storage indexing due clustering property Hilbert curve well-known member family fractal . The proposed Aztec curve similar characteristic Hilbert 's curve introduced paper accompanied grammatical description construction . It yield possibility creating bi-dimensional cluster available Hilbert Peano curve . Additional case application scope Compressed Sensing implemented use Hilbert curve contrasted Aztec curve similar performance positioning Aztec curve viable new alternative future exploitation application make use SFC 's .</td>\n",
       "      <td>2021</td>\n",
       "      <td>Computer Vision and Pattern Recognition</td>\n",
       "      <td>1</td>\n",
       "    </tr>\n",
       "  </tbody>\n",
       "</table>\n",
       "<p>3697 rows × 4 columns</p>\n",
       "</div>"
      ],
      "text/plain": [
       "                                                                                                                                                                                                                                                                                                                                                                                                                                                                                                                                                                                                                                                                                                                                                                                                                                                                                                                                                                                                                                                                                                                                                                                                                                                                                                                                            Abstract  \\\n",
       "0                                                                                                                                                                                                                                                                 The importance repetition music well-known . In paper study music repetition context effective efficient automatic genre classification large-scale music-databases . We aim enhancing access organization piece music Digital Libraries allowing automatic categorization entire collection considering musical content . We handover public set genre-specific pattern support research musicology . The pattern used instance explore analyze relation musical genre . There many existing algorithm could used identify extract repeating pattern symbolically encoded music . In case extracted pattern used representation piece music underlying corpus consecutively train evaluate classifier automatically identify genre . In paper apply two fast algorithm enabling u experiment large diverse corpus . Thus able find pattern strong discrimination power used various application . We carried experiment corpus containing 40000 MIDI file annotated least one genre . The experiment suggest approach scalable capable dealing real-world-size music collection .   \n",
       "1                                                                                                                                                                                                                                    Weakly supervised semantic segmentation ( WSSS ) image-level supervision challenging task . Most existing method exploit Class Activation Maps ( CAM ) generate pixel-level pseudo label supervised training . However due local receptive field Convolution Neural Networks ( CNN ) CAM applied CNNs often suffers partial activation -- highlighting discriminative part instead entire object area . In order capture local feature global representation Conformer proposed combine visual transformer branch CNN branch . In paper propose TransCAM Conformer-based solution WSSS explicitly leverage attention weight transformer branch Conformer refine CAM generated CNN branch . TransCAM motivated observation attention weight shallow transformer block able capture low-level spatial feature similarity attention weight deep transformer block capture high-level semantic context . Despite simplicity TransCAM achieves new state-of-the-art performance 69.3 % 69.6 % respective PASCAL VOC 2012 validation test set showing effectiveness transformer attention-based refinement CAM WSSS .   \n",
       "2                                                                                                                                                                                                                                                                                                                                                                                                     Multi-view learning progressed rapidly recent year . Although many previous study assume instance appears view common real-world application instance missing view resulting incomplete multi-view data . To tackle problem propose novel Latent Heterogeneous Graph Network ( LHGN ) incomplete multi-view learning aim use multiple incomplete view fully possible flexible manner . By learning unified latent representation trade-off consistency complementarity among different view implicitly realized . To explore complex relationship sample latent representation neighborhood constraint view-existence constraint proposed first time construct heterogeneous graph . Finally avoid inconsistency training test phase transductive learning technique applied based graph learning classification task . Extensive experimental result real-world datasets demonstrate effectiveness model existing state-of-the-art approach .   \n",
       "3                                                                                                                                                                                                                                                                                                                                                                                                                                                                                                                                                                                                                                                                                                                                                                    Transfer learning proven effective technique neural machine translation low-resource condition . Existing method require common target language language relatedness specific training trick regime . We present simple transfer learning method first train `` parent `` model high-resource language pair continue training lowresource pair replacing training corpus . This `` child `` model performs significantly better baseline trained lowresource pair . We first show targeting different language observe improvement even unrelated language different alphabet .   \n",
       "4     Bundle recommendation aim recommend user bundle item whole . Nevertheless usually neglect diversity user 's intent adopting item fail disentangle user 's intent representation . In real scenario bundle recommendation user 's intent may naturally distributed different bundle user ( Global view ) bundle may contain multiple intent user ( Local view ) . Each view advantage intent disentangling : 1 ) From global view item involved present intent demonstrate user 's preference intent clearly . 2 ) From local view reveal association among item intent since item within bundle highly correlated . To end propose novel model named Multi-view Intent Disentangle Graph Networks ( MIDGN ) capable precisely comprehensively capturing diversity user 's intent item ' association finer granularity . Specifically MIDGN disentangles user 's intent two different perspective respectively : 1 ) In global level MIDGN disentangles user 's intent coupled inter-bundle item ; 2 ) In Local level MIDGN disentangles user 's intent coupled item within bundle . Meanwhile compare user 's intent disentangled different view contrast learning framework improve learned intent . Extensive experiment conducted two benchmark datasets demonstrate MIDGN outperforms state-of-the-art method 10.7 % 26.8 % respectively .   \n",
       "...                                                                                                                                                                                                                                                                                                                                                                                                                                                                                                                                                                                                                                                                                                                                                                                                                                                                                                                                                                                                                                                                                                                                                                                                                                                                                                                                              ...   \n",
       "3692                                                                                                                                                                                                                                                                     In paper simple yet efficient activity recognition method first-person video introduced . The proposed method appropriate representation high-dimensional feature extracted convolutional neural network ( CNNs ) . The per-frame ( per-segment ) extracted feature considered set time series inter intra-time series relation employed represent video descriptor . To find inter-time relation series grouped linear correlation pair group calculated . The relation represent scene dynamic local motion . The introduced grouping strategy help considerably reduce computational cost . Furthermore split series temporal direction order preserve long term motion better focus local time window . In order extract cyclic motion pattern considered primary component various activity intra-time series correlation exploited . The representation method result highly discriminative feature linearly classified . The experiment confirm method outperforms state-of-the-art method recognizing first-person activity two challenging first-person datasets .   \n",
       "3693                                                                                                                                                                                                                                                                                                                                                                                                                                                                                                                                                                                                                         In work investigate following : 1 ) routing affect CapsNet model fitting ; 2 ) representation using capsule help discover global structure data distribution ; 3 ) learned data representation adapts generalizes new task . Our investigation yielded result mentioned original paper CapsNet : 1 ) routing operation determines certainty layer capsule pas information layer appropriate level certainty related model fitness ; 2 ) designed experiment using data known 2D structure capsule representation enable meaningful 2D manifold embedding neuron standard convolutional neural network ( CNN ) ; 3 ) compared neuron standard CNN capsule successive layer less coupled adaptive new data distribution .   \n",
       "3694                                                                                                                                                                                                                                                                                                                                  In paper study partial multi-label ( PML ) image classification problem image annotated candidate label set consists multiple relevant label noisy label . Existing PML method typically design disambiguation strategy filter noisy label utilizing prior knowledge extra assumption unfortunately unavailable many real task . Furthermore objective function disambiguation usually elaborately designed whole training set hardly optimized deep model SGD mini-batches . In paper first time propose deep model PML enhance representation discrimination ability . On one hand propose novel curriculum based disambiguation strategy progressively identify ground-truth label incorporating varied difficulty different class . On hand consistency regularization introduced model retraining balance fitting identified easy label exploiting potential relevant label . Extensive experimental result commonly used benchmark datasets show proposed method significantly outperforms SOTA method .   \n",
       "3695                                                                                                                                                                                                                                                                                                                                                                                                                                                                     Opinion Expression Identification ( OEI ) essential NLP application ranging voice assistant depression diagnosis . This study extends OEI encompass multimodal input underlining significance auditory cue delivering emotional subtlety beyond capability text . We introduce novel multimodal OEI ( MOEI ) task integrating text speech mirror real-world scenario . Utilizing CMU MOSEI IEMOCAP datasets construct CI-MOEI dataset . Additionally Text-to-Speech ( TTS ) technology applied MPQA dataset obtain CIM-OEI dataset . We design template OEI task take full advantage generative power large language model ( LLMs ) . Advancing propose LLM-driven method STOEI combine speech text modal identify opinion expression . Our experiment demonstrate MOEI significantly improves performance method outperforms existing method 9.20\\ % obtains SOTA result .   \n",
       "3696                                                                                                                                                                                                                                                                                                                                                                                                                                                                                                                                                                                                                 Different space-filling curve ( SFCs ) briefly reviewed paper new one proposed . A century passed inception kind curve since found useful computer science particularly data storage indexing due clustering property Hilbert curve well-known member family fractal . The proposed Aztec curve similar characteristic Hilbert 's curve introduced paper accompanied grammatical description construction . It yield possibility creating bi-dimensional cluster available Hilbert Peano curve . Additional case application scope Compressed Sensing implemented use Hilbert curve contrasted Aztec curve similar performance positioning Aztec curve viable new alternative future exploitation application make use SFC 's .   \n",
       "\n",
       "      Year                                 Category  label  \n",
       "0     2018                    Information Retrieval      3  \n",
       "1     2023  Computer Vision and Pattern Recognition      1  \n",
       "2     2022                         Machine Learning      4  \n",
       "3     2018                 Computation and Language      0  \n",
       "4     2022                    Information Retrieval      3  \n",
       "...    ...                                      ...    ...  \n",
       "3692  2019  Computer Vision and Pattern Recognition      1  \n",
       "3693  2019  Computer Vision and Pattern Recognition      1  \n",
       "3694  2023  Computer Vision and Pattern Recognition      1  \n",
       "3695  2024                 Computation and Language      0  \n",
       "3696  2021  Computer Vision and Pattern Recognition      1  \n",
       "\n",
       "[3697 rows x 4 columns]"
      ]
     },
     "execution_count": 6,
     "metadata": {},
     "output_type": "execute_result"
    }
   ],
   "source": [
    "df_train"
   ]
  },
  {
   "cell_type": "code",
   "execution_count": 7,
   "id": "fedf2479",
   "metadata": {},
   "outputs": [
    {
     "name": "stdout",
     "output_type": "stream",
     "text": [
      "<class 'pandas.core.frame.DataFrame'>\n",
      "RangeIndex: 3697 entries, 0 to 3696\n",
      "Data columns (total 4 columns):\n",
      " #   Column    Non-Null Count  Dtype \n",
      "---  ------    --------------  ----- \n",
      " 0   Abstract  3697 non-null   object\n",
      " 1   Year      3697 non-null   int64 \n",
      " 2   Category  3697 non-null   object\n",
      " 3   label     3697 non-null   int64 \n",
      "dtypes: int64(2), object(2)\n",
      "memory usage: 115.7+ KB\n"
     ]
    }
   ],
   "source": [
    "df_train.info()"
   ]
  },
  {
   "cell_type": "code",
   "execution_count": 8,
   "id": "6a30364b",
   "metadata": {},
   "outputs": [
    {
     "name": "stdout",
     "output_type": "stream",
     "text": [
      "<class 'pandas.core.frame.DataFrame'>\n",
      "RangeIndex: 925 entries, 0 to 924\n",
      "Data columns (total 4 columns):\n",
      " #   Column    Non-Null Count  Dtype \n",
      "---  ------    --------------  ----- \n",
      " 0   Abstract  925 non-null    object\n",
      " 1   Year      925 non-null    int64 \n",
      " 2   Category  925 non-null    object\n",
      " 3   label     925 non-null    int64 \n",
      "dtypes: int64(2), object(2)\n",
      "memory usage: 29.0+ KB\n"
     ]
    }
   ],
   "source": [
    "df_test.info()"
   ]
  },
  {
   "cell_type": "code",
   "execution_count": 9,
   "id": "36ea5d86",
   "metadata": {},
   "outputs": [
    {
     "data": {
      "text/html": [
       "<div>\n",
       "<style scoped>\n",
       "    .dataframe tbody tr th:only-of-type {\n",
       "        vertical-align: middle;\n",
       "    }\n",
       "\n",
       "    .dataframe tbody tr th {\n",
       "        vertical-align: top;\n",
       "    }\n",
       "\n",
       "    .dataframe thead th {\n",
       "        text-align: right;\n",
       "    }\n",
       "</style>\n",
       "<table border=\"1\" class=\"dataframe\">\n",
       "  <thead>\n",
       "    <tr style=\"text-align: right;\">\n",
       "      <th></th>\n",
       "      <th>Year</th>\n",
       "      <th>label</th>\n",
       "    </tr>\n",
       "  </thead>\n",
       "  <tbody>\n",
       "    <tr>\n",
       "      <th>count</th>\n",
       "      <td>3697.000000</td>\n",
       "      <td>3697.000000</td>\n",
       "    </tr>\n",
       "    <tr>\n",
       "      <th>mean</th>\n",
       "      <td>2019.899648</td>\n",
       "      <td>1.990262</td>\n",
       "    </tr>\n",
       "    <tr>\n",
       "      <th>std</th>\n",
       "      <td>3.824115</td>\n",
       "      <td>1.493098</td>\n",
       "    </tr>\n",
       "    <tr>\n",
       "      <th>min</th>\n",
       "      <td>2001.000000</td>\n",
       "      <td>0.000000</td>\n",
       "    </tr>\n",
       "    <tr>\n",
       "      <th>25%</th>\n",
       "      <td>2018.000000</td>\n",
       "      <td>1.000000</td>\n",
       "    </tr>\n",
       "    <tr>\n",
       "      <th>50%</th>\n",
       "      <td>2021.000000</td>\n",
       "      <td>1.000000</td>\n",
       "    </tr>\n",
       "    <tr>\n",
       "      <th>75%</th>\n",
       "      <td>2023.000000</td>\n",
       "      <td>4.000000</td>\n",
       "    </tr>\n",
       "    <tr>\n",
       "      <th>max</th>\n",
       "      <td>2024.000000</td>\n",
       "      <td>4.000000</td>\n",
       "    </tr>\n",
       "  </tbody>\n",
       "</table>\n",
       "</div>"
      ],
      "text/plain": [
       "              Year        label\n",
       "count  3697.000000  3697.000000\n",
       "mean   2019.899648     1.990262\n",
       "std       3.824115     1.493098\n",
       "min    2001.000000     0.000000\n",
       "25%    2018.000000     1.000000\n",
       "50%    2021.000000     1.000000\n",
       "75%    2023.000000     4.000000\n",
       "max    2024.000000     4.000000"
      ]
     },
     "execution_count": 9,
     "metadata": {},
     "output_type": "execute_result"
    }
   ],
   "source": [
    "df_train.describe()"
   ]
  },
  {
   "cell_type": "code",
   "execution_count": 10,
   "id": "ab68fa36",
   "metadata": {},
   "outputs": [
    {
     "data": {
      "text/html": [
       "<div>\n",
       "<style scoped>\n",
       "    .dataframe tbody tr th:only-of-type {\n",
       "        vertical-align: middle;\n",
       "    }\n",
       "\n",
       "    .dataframe tbody tr th {\n",
       "        vertical-align: top;\n",
       "    }\n",
       "\n",
       "    .dataframe thead th {\n",
       "        text-align: right;\n",
       "    }\n",
       "</style>\n",
       "<table border=\"1\" class=\"dataframe\">\n",
       "  <thead>\n",
       "    <tr style=\"text-align: right;\">\n",
       "      <th></th>\n",
       "      <th>Year</th>\n",
       "      <th>label</th>\n",
       "    </tr>\n",
       "  </thead>\n",
       "  <tbody>\n",
       "    <tr>\n",
       "      <th>count</th>\n",
       "      <td>925.000000</td>\n",
       "      <td>925.000000</td>\n",
       "    </tr>\n",
       "    <tr>\n",
       "      <th>mean</th>\n",
       "      <td>2020.007568</td>\n",
       "      <td>1.988108</td>\n",
       "    </tr>\n",
       "    <tr>\n",
       "      <th>std</th>\n",
       "      <td>3.846479</td>\n",
       "      <td>1.493445</td>\n",
       "    </tr>\n",
       "    <tr>\n",
       "      <th>min</th>\n",
       "      <td>2001.000000</td>\n",
       "      <td>0.000000</td>\n",
       "    </tr>\n",
       "    <tr>\n",
       "      <th>25%</th>\n",
       "      <td>2019.000000</td>\n",
       "      <td>1.000000</td>\n",
       "    </tr>\n",
       "    <tr>\n",
       "      <th>50%</th>\n",
       "      <td>2021.000000</td>\n",
       "      <td>1.000000</td>\n",
       "    </tr>\n",
       "    <tr>\n",
       "      <th>75%</th>\n",
       "      <td>2023.000000</td>\n",
       "      <td>4.000000</td>\n",
       "    </tr>\n",
       "    <tr>\n",
       "      <th>max</th>\n",
       "      <td>2024.000000</td>\n",
       "      <td>4.000000</td>\n",
       "    </tr>\n",
       "  </tbody>\n",
       "</table>\n",
       "</div>"
      ],
      "text/plain": [
       "              Year       label\n",
       "count   925.000000  925.000000\n",
       "mean   2020.007568    1.988108\n",
       "std       3.846479    1.493445\n",
       "min    2001.000000    0.000000\n",
       "25%    2019.000000    1.000000\n",
       "50%    2021.000000    1.000000\n",
       "75%    2023.000000    4.000000\n",
       "max    2024.000000    4.000000"
      ]
     },
     "execution_count": 10,
     "metadata": {},
     "output_type": "execute_result"
    }
   ],
   "source": [
    "df_test.describe()"
   ]
  },
  {
   "cell_type": "markdown",
   "id": "d3cc7419",
   "metadata": {},
   "source": [
    "### 1.2 Exploratory Data Analysis"
   ]
  },
  {
   "cell_type": "code",
   "execution_count": 11,
   "id": "7b5f108b",
   "metadata": {},
   "outputs": [],
   "source": [
    "import seaborn as sns\n",
    "import matplotlib.pyplot as plt"
   ]
  },
  {
   "cell_type": "code",
   "execution_count": 12,
   "id": "529ec8cd",
   "metadata": {},
   "outputs": [
    {
     "data": {
      "text/plain": [
       "Abstract    0\n",
       "Year        0\n",
       "Category    0\n",
       "label       0\n",
       "dtype: int64"
      ]
     },
     "execution_count": 12,
     "metadata": {},
     "output_type": "execute_result"
    }
   ],
   "source": [
    "# Checking the missing data\n",
    "df_train.isnull().sum().sort_values(ascending=False)"
   ]
  },
  {
   "cell_type": "code",
   "execution_count": 13,
   "id": "5751b841",
   "metadata": {},
   "outputs": [
    {
     "data": {
      "text/plain": [
       "0"
      ]
     },
     "execution_count": 13,
     "metadata": {},
     "output_type": "execute_result"
    }
   ],
   "source": [
    "# Checking the duplicate data\n",
    "df_train.duplicated().sum()"
   ]
  },
  {
   "cell_type": "code",
   "execution_count": 14,
   "id": "1f59ce79",
   "metadata": {},
   "outputs": [],
   "source": [
    "# Removing duplicates\n",
    "df_train = df_train.drop_duplicates()"
   ]
  },
  {
   "cell_type": "code",
   "execution_count": 15,
   "id": "da1cff45",
   "metadata": {},
   "outputs": [
    {
     "data": {
      "text/plain": [
       "Category\n",
       "Computer Vision and Pattern Recognition    1553\n",
       "Machine Learning                           1136\n",
       "Computation and Language                    483\n",
       "Human-Computer Interaction                  314\n",
       "Information Retrieval                       211\n",
       "Name: count, dtype: int64"
      ]
     },
     "execution_count": 15,
     "metadata": {},
     "output_type": "execute_result"
    }
   ],
   "source": [
    "# Checking class distribution\n",
    "df_train[\"Category\"].value_counts()"
   ]
  },
  {
   "cell_type": "code",
   "execution_count": 16,
   "id": "9fb1d19b",
   "metadata": {},
   "outputs": [
    {
     "data": {
      "text/plain": [
       "Category\n",
       "Computer Vision and Pattern Recognition    389\n",
       "Machine Learning                           284\n",
       "Computation and Language                   121\n",
       "Human-Computer Interaction                  79\n",
       "Information Retrieval                       52\n",
       "Name: count, dtype: int64"
      ]
     },
     "execution_count": 16,
     "metadata": {},
     "output_type": "execute_result"
    }
   ],
   "source": [
    "# Checking class distribution\n",
    "df_test[\"Category\"].value_counts()"
   ]
  },
  {
   "cell_type": "code",
   "execution_count": 17,
   "id": "37416a02-bf94-4cac-b9cf-b60148d274c5",
   "metadata": {},
   "outputs": [
    {
     "data": {
      "image/png": "[encoded data removed]",
      "text/plain": [
       "<Figure size 640x480 with 1 Axes>"
      ]
     },
     "metadata": {},
     "output_type": "display_data"
    }
   ],
   "source": [
    "# Calculate the value counts and sort in descending order\n",
    "sorted_categories = df_train['Category'].value_counts().sort_values(ascending=False).index\n",
    "sns.countplot(x = df_train['Category'], hue = df_train['Category'], order = sorted_categories)\n",
    "plt.xticks(rotation=45, ha='right')\n",
    "plt.tight_layout()"
   ]
  },
  {
   "cell_type": "code",
   "execution_count": 18,
   "id": "e3b59ac8",
   "metadata": {},
   "outputs": [
    {
     "data": {
      "image/png": "[encoded data removed]",
      "text/plain": [
       "<Figure size 640x480 with 1 Axes>"
      ]
     },
     "metadata": {},
     "output_type": "display_data"
    }
   ],
   "source": [
    "# Calculate the value counts and sort in descending order\n",
    "sorted_categories = df_test['Category'].value_counts().sort_values(ascending=False).index\n",
    "sns.countplot(x = df_test['Category'], hue = df_test['Category'], order = sorted_categories)\n",
    "plt.xticks(rotation=45, ha='right')\n",
    "plt.tight_layout()"
   ]
  },
  {
   "cell_type": "markdown",
   "id": "068a9eb6",
   "metadata": {},
   "source": [
    "## 2. Training\n",
    "\n",
    "In this section, we are going to adopt a  Logistic Regression classifier as a baseline and a pre-trained language model as our model. We are going to fine-tune our model on the ArXiv dataset (train and dev splits).\n",
    "\n",
    "To establish a baseline, we use **Logistic Regression**, a simple yet effective classifier for text classification tasks. The key reasons for using it as a baseline are:\n",
    "* It is computationally efficient.\n",
    "* It provides interpretability.\n",
    "* It helps measure the improvement gained by using more complex models.\n",
    "\n",
    "Since our input data consists of research paper abstracts, we need to preprocess the text before training the model. The **preprocessing pipeline** includes:\n",
    "* Tokenization: Splitting text into words using WordPunctTokenizer().\n",
    "* Stemming: Reducing words to their root form using SnowballStemmer().\n",
    "* Text Cleaning: Removing unwanted characters (e.g., HTML tags).\n",
    "\n",
    "**Feature Extraction**:\n",
    "* CountVectorizer(): Converts text into a bag-of-words representation or\n",
    "* TfidfTransformer(): Converts word counts into TF-IDF scores, giving more weight to important words.\n",
    "\n",
    "**Training**:\n",
    "* The preprocessed text is used to train a Logistic Regression classifier with max_iter=10,000 to ensure convergence.\n",
    "* We implement this approach using a Scikit-learn pipeline, which automates preprocessing and training.\n",
    "* The BaselinePredict class encapsulates the pipeline functionality, handling both training and predictions."
   ]
  },
  {
   "cell_type": "code",
   "execution_count": 19,
   "id": "0755acae-ef56-4ce4-b8c3-474ce6dd8838",
   "metadata": {},
   "outputs": [],
   "source": [
    "from src.models.train_model import TransformerFineTuning\n",
    "from src.models.baseline import BaselinePredict\n",
    "from src.models.predict_model import TransformerPredict"
   ]
  },
  {
   "cell_type": "code",
   "execution_count": 20,
   "id": "6f10e0d4-3f59-40f7-aff9-933d4f11f3a3",
   "metadata": {},
   "outputs": [],
   "source": [
    "# Models\n",
    "MY_MODEL = \"allenai/scibert_scivocab_uncased\"\n",
    "BASELINE_MODEL = \"LogisticRegression\""
   ]
  },
  {
   "cell_type": "markdown",
   "id": "e5dc5655-7b56-45a2-9d53-bd109a536b18",
   "metadata": {},
   "source": [
    "### [BONUS!] 2.1 SciBERT\n",
    "\n",
    "We used the [Transformers library](https://huggingface.co/docs/transformers/index) provided by the Hugging Face with the following pre-trained model:\n",
    "\n",
    "* **allenai/scibert_scivocab_uncased**: **SciBERT** is a pre-trained language model specifically designed for scientific text. Developed by the Allen Institute for AI, it is based on the BERT (Bidirectional Encoder Representations from Transformers) architecture but trained on a large multi-domain scientific corpus rather than general language data.\n",
    "\n",
    "Key Features:\n",
    "* **Domain-Specific Training**: Trained on 1.14M scientific papers from Semantic Scholar across biomedical and computer science domains.\n",
    "* **Vocabulary Optimization**: Uses SciVocab, a domain-specific vocabulary derived from scientific texts, instead of the original BERT WordPiece vocabulary.\n",
    "* **Performance**: Outperforms BERT in scientific NLP tasks such as named entity recognition (NER), relation extraction, text classification, and sentence similarity.\n",
    "* **Bidirectional Contextual Understanding**: Like BERT, it captures deep contextual relationships in text, making it effective for complex scientific language.\n",
    "\n",
    "Common Applications:\n",
    "* Scientific text classification\n",
    "* Information retrieval from research papers\n",
    "* Named entity recognition (NER) for scientific terms\n",
    "* Relation extraction between scientific concepts"
   ]
  },
  {
   "cell_type": "code",
   "execution_count": 21,
   "id": "32564462-a6b2-4d4e-b756-239ed831779c",
   "metadata": {},
   "outputs": [
    {
     "data": {
      "application/vnd.jupyter.widget-view+json": {
       "model_id": "efbae8de2e9c4f6a8d6f3554907eef04",
       "version_major": 2,
       "version_minor": 0
      },
      "text/plain": [
       "config.json:   0%|          | 0.00/385 [00:00<?, ?B/s]"
      ]
     },
     "metadata": {},
     "output_type": "display_data"
    },
    {
     "data": {
      "application/vnd.jupyter.widget-view+json": {
       "model_id": "ee911047ad0344c99df75bddf11b22a5",
       "version_major": 2,
       "version_minor": 0
      },
      "text/plain": [
       "pytorch_model.bin:   0%|          | 0.00/442M [00:00<?, ?B/s]"
      ]
     },
     "metadata": {},
     "output_type": "display_data"
    },
    {
     "name": "stderr",
     "output_type": "stream",
     "text": [
      "Some weights of BertForSequenceClassification were not initialized from the model checkpoint at allenai/scibert_scivocab_uncased and are newly initialized: ['classifier.bias', 'classifier.weight']\n",
      "You should probably TRAIN this model on a down-stream task to be able to use it for predictions and inference.\n"
     ]
    },
    {
     "data": {
      "application/vnd.jupyter.widget-view+json": {
       "model_id": "1d8edd30e7c54e1ab12738ef961ef56e",
       "version_major": 2,
       "version_minor": 0
      },
      "text/plain": [
       "vocab.txt:   0%|          | 0.00/228k [00:00<?, ?B/s]"
      ]
     },
     "metadata": {},
     "output_type": "display_data"
    },
    {
     "data": {
      "application/vnd.jupyter.widget-view+json": {
       "model_id": "f57eaac2c5634bb5a872c98edaea82d4",
       "version_major": 2,
       "version_minor": 0
      },
      "text/plain": [
       "model.safetensors:   0%|          | 0.00/442M [00:00<?, ?B/s]"
      ]
     },
     "metadata": {},
     "output_type": "display_data"
    },
    {
     "data": {
      "application/vnd.jupyter.widget-view+json": {
       "model_id": "7cc83dc476e14e0da7afc63e3fe318ba",
       "version_major": 2,
       "version_minor": 0
      },
      "text/plain": [
       "Map:   0%|          | 0/3697 [00:00<?, ? examples/s]"
      ]
     },
     "metadata": {},
     "output_type": "display_data"
    },
    {
     "data": {
      "application/vnd.jupyter.widget-view+json": {
       "model_id": "eda032a63e5f45ca8d813e853e5f1c25",
       "version_major": 2,
       "version_minor": 0
      },
      "text/plain": [
       "Map:   0%|          | 0/925 [00:00<?, ? examples/s]"
      ]
     },
     "metadata": {},
     "output_type": "display_data"
    },
    {
     "data": {
      "text/html": [
       "\n",
       "    <div>\n",
       "      \n",
       "      <progress value='928' max='928' style='width:300px; height:20px; vertical-align: middle;'></progress>\n",
       "      [928/928 36:04, Epoch 4/4]\n",
       "    </div>\n",
       "    <table border=\"1\" class=\"dataframe\">\n",
       "  <thead>\n",
       " <tr style=\"text-align: left;\">\n",
       "      <th>Epoch</th>\n",
       "      <th>Training Loss</th>\n",
       "      <th>Validation Loss</th>\n",
       "      <th>Accuracy</th>\n",
       "      <th>Precision</th>\n",
       "      <th>Recall</th>\n",
       "      <th>F1</th>\n",
       "    </tr>\n",
       "  </thead>\n",
       "  <tbody>\n",
       "    <tr>\n",
       "      <td>1</td>\n",
       "      <td>No log</td>\n",
       "      <td>0.395609</td>\n",
       "      <td>0.872432</td>\n",
       "      <td>0.883394</td>\n",
       "      <td>0.872432</td>\n",
       "      <td>0.873971</td>\n",
       "    </tr>\n",
       "    <tr>\n",
       "      <td>2</td>\n",
       "      <td>No log</td>\n",
       "      <td>0.329913</td>\n",
       "      <td>0.888649</td>\n",
       "      <td>0.888164</td>\n",
       "      <td>0.888649</td>\n",
       "      <td>0.888344</td>\n",
       "    </tr>\n",
       "    <tr>\n",
       "      <td>3</td>\n",
       "      <td>0.414200</td>\n",
       "      <td>0.384990</td>\n",
       "      <td>0.895135</td>\n",
       "      <td>0.896196</td>\n",
       "      <td>0.895135</td>\n",
       "      <td>0.895001</td>\n",
       "    </tr>\n",
       "    <tr>\n",
       "      <td>4</td>\n",
       "      <td>0.414200</td>\n",
       "      <td>0.388568</td>\n",
       "      <td>0.903784</td>\n",
       "      <td>0.903640</td>\n",
       "      <td>0.903784</td>\n",
       "      <td>0.903466</td>\n",
       "    </tr>\n",
       "  </tbody>\n",
       "</table><p>"
      ],
      "text/plain": [
       "<IPython.core.display.HTML object>"
      ]
     },
     "metadata": {},
     "output_type": "display_data"
    }
   ],
   "source": [
    "# Fine-tune my model\n",
    "TransformerFineTuning(MY_MODEL).train()"
   ]
  },
  {
   "cell_type": "markdown",
   "id": "998e43e0-72ae-484b-801b-c24b1f58eece",
   "metadata": {},
   "source": [
    "## 3. Prediction\n",
    "\n",
    "In this section, we are going to predict the probabilities of label 0 (**Computation and Language**), label 1 (**Computer Vision and Pattern Recognition**), label 2 (**Human-Computer Interaction**), label 3 (**Information Retrieval**) and label 4 (**Machine Learning**)  for the test cases."
   ]
  },
  {
   "cell_type": "code",
   "execution_count": 22,
   "id": "ac99f73b-4d27-4d4b-81ab-31bf7c82b86a",
   "metadata": {},
   "outputs": [],
   "source": [
    "COMPARE_MY_MODEL = True\n",
    "COMPARE_BASELINE_MODEL = True"
   ]
  },
  {
   "cell_type": "code",
   "execution_count": 23,
   "id": "11088527-8df7-49a8-a719-ed4b0a39b0ed",
   "metadata": {},
   "outputs": [],
   "source": [
    "# Do I have my baseline model available?\n",
    "if COMPARE_BASELINE_MODEL and BASELINE_MODEL not in df_test:\n",
    "\n",
    "    model = BaselinePredict(BASELINE_MODEL)\n",
    "    df_test[BASELINE_MODEL] = df_test.Abstract.apply(lambda row: model.predict(row)[0])"
   ]
  },
  {
   "cell_type": "code",
   "execution_count": null,
   "id": "2d1c3bcb-0cd9-43cc-a9dd-2e6c942b109c",
   "metadata": {},
   "outputs": [],
   "source": [
    "# Do I have my distilbert model available?\n",
    "if COMPARE_MY_MODEL and MY_MODEL not in df_test:\n",
    "    \n",
    "    MODEL_PATH = project_dir / \"model\" / \"best_model\"\n",
    "    \n",
    "    if not MODEL_PATH.exists():\n",
    "        raise FileNotFoundError(\"Failed to load the model\")\n",
    "\n",
    "    model = TransformerPredict(MODEL_PATH)\n",
    "    \n",
    "    df_test[MY_MODEL] = df_test.Abstract.apply(lambda row: model.predict(str(row))[0][\"label\"])\n",
    "    df_test[MY_MODEL] = df_test[MY_MODEL].apply(lambda row: int(row.split('_')[1]))"
   ]
  },
  {
   "cell_type": "code",
   "execution_count": 25,
   "id": "332559f1-01d0-47b2-a75d-2471d50d98e2",
   "metadata": {},
   "outputs": [
    {
     "data": {
      "text/html": [
       "<div>\n",
       "<style scoped>\n",
       "    .dataframe tbody tr th:only-of-type {\n",
       "        vertical-align: middle;\n",
       "    }\n",
       "\n",
       "    .dataframe tbody tr th {\n",
       "        vertical-align: top;\n",
       "    }\n",
       "\n",
       "    .dataframe thead th {\n",
       "        text-align: right;\n",
       "    }\n",
       "</style>\n",
       "<table border=\"1\" class=\"dataframe\">\n",
       "  <thead>\n",
       "    <tr style=\"text-align: right;\">\n",
       "      <th></th>\n",
       "      <th>Abstract</th>\n",
       "      <th>Year</th>\n",
       "      <th>Category</th>\n",
       "      <th>label</th>\n",
       "      <th>LogisticRegression</th>\n",
       "      <th>allenai/scibert_scivocab_uncased</th>\n",
       "    </tr>\n",
       "  </thead>\n",
       "  <tbody>\n",
       "    <tr>\n",
       "      <th>0</th>\n",
       "      <td>Implementing existing federated learning massive Internet Things ( IoT ) network face critical challenge imbalanced statistically heterogeneous data device diversity . To end propose semi-federated learning ( SemiFL ) framework provide potential solution realization intelligent IoT . By seamlessly integrating centralized federated paradigm SemiFL framework show high scalability term number IoT device even presence computing-limited sensor . Furthermore compared traditional learning approach proposed SemiFL make better use distributed data computing resource due collaborative model training edge server local device . Simulation result show effectiveness SemiFL framework massive IoT network . The code found http : //github.com/niwanli/SemiFL_IoT .</td>\n",
       "      <td>2023</td>\n",
       "      <td>Machine Learning</td>\n",
       "      <td>4</td>\n",
       "      <td>4</td>\n",
       "      <td>4</td>\n",
       "    </tr>\n",
       "    <tr>\n",
       "      <th>1</th>\n",
       "      <td>We present accurate stereo matching method using local expansion move based graph cut . This new move-making scheme used efficiently infer per-pixel 3D plane label pairwise Markov random field ( MRF ) effectively combine recently proposed slanted patch matching curvature regularization term . The local expansion move presented many alpha-expansions defined small grid region . The local expansion move extend traditional expansion move two way : localization spatial propagation . By localization use different candidate alpha-labels according location local alpha-expansions . By spatial propagation design local alpha-expansions propagate currently assigned label nearby region . With localization spatial propagation method efficiently infer MRF model continuous label space using randomized search . Our method several advantage previous approach based fusion move belief propagation ; produce submodular move deriving subproblem optimality ; help find good smooth piecewise linear disparity map ; suitable parallelization ; use cost-volume filtering technique accelerating matching cost computation . Even using simple pairwise MRF method shown best performance Middlebury stereo benchmark V2 V3 .</td>\n",
       "      <td>2018</td>\n",
       "      <td>Computer Vision and Pattern Recognition</td>\n",
       "      <td>1</td>\n",
       "      <td>1</td>\n",
       "      <td>1</td>\n",
       "    </tr>\n",
       "    <tr>\n",
       "      <th>2</th>\n",
       "      <td>In work present novel approach 3D layout recovery indoor environment using non-central acquisition system . From non-central panorama full scaled 3D line independently recovered geometry reasoning without geometric scale assumption . However sensitivity noise complex geometric modeling led panorama little investigated . Our new pipeline aim extract boundary structural line indoor environment neural network exploit property non-central projection system new geometrical processing recover scaled 3D layout . The result experiment show improve state-of-the-art method layout reconstruction line extraction non-central projection system . We completely solve problem Manhattan Atlanta environment handling occlusion retrieving metric scale room without extra measurement . As far author knowledge go approach first work using deep learning non-central panorama recovering scaled layout single panorama .</td>\n",
       "      <td>2022</td>\n",
       "      <td>Computer Vision and Pattern Recognition</td>\n",
       "      <td>1</td>\n",
       "      <td>1</td>\n",
       "      <td>1</td>\n",
       "    </tr>\n",
       "    <tr>\n",
       "      <th>3</th>\n",
       "      <td>Real data often appear form multiple incomplete view . Incomplete multi-view clustering effective method integrate incomplete view . Previous method learn consistent information different view ignore unique information view limit clustering performance generalization . To overcome limitation propose novel View Variation View Heredity approach ( V3H ) . Inspired variation heredity genetics V3H first decomposes subspace variation matrix corresponding view heredity matrix view represent unique information consistent information respectively . Then aligning different view based cluster indicator matrix V3H integrates unique information different view improve clustering performance . Finally help adjustable low-rank representation based heredity matrix V3H recovers underlying true data structure reduce influence large incompleteness . More importantly V3H present possibly first work introduce genetics clustering algorithm learning simultaneously consistent information unique information incomplete multi-view data . Extensive experimental result fifteen benchmark datasets validate superiority state-of-the-arts .</td>\n",
       "      <td>2020</td>\n",
       "      <td>Machine Learning</td>\n",
       "      <td>4</td>\n",
       "      <td>4</td>\n",
       "      <td>4</td>\n",
       "    </tr>\n",
       "    <tr>\n",
       "      <th>4</th>\n",
       "      <td>This paper present tree-to-tree transduction method sentence compression . Our model based synchronous tree substitution grammar formalism allows local distortion tree topology thus naturally capture structural mismatch . We describe algorithm decoding framework show model trained discriminatively within large margin framework . Experimental result sentence compression bring significant improvement state-of-the-art model .</td>\n",
       "      <td>2009</td>\n",
       "      <td>Computation and Language</td>\n",
       "      <td>0</td>\n",
       "      <td>0</td>\n",
       "      <td>0</td>\n",
       "    </tr>\n",
       "    <tr>\n",
       "      <th>...</th>\n",
       "      <td>...</td>\n",
       "      <td>...</td>\n",
       "      <td>...</td>\n",
       "      <td>...</td>\n",
       "      <td>...</td>\n",
       "      <td>...</td>\n",
       "    </tr>\n",
       "    <tr>\n",
       "      <th>920</th>\n",
       "      <td>Recognizing emotional state people basic challenging task video understanding . In paper propose new task field named Pairwise Emotional Relationship Recognition ( PERR ) . This task aim recognize emotional relationship two interactive character given video clip . It different traditional emotion social relation recognition task . Varieties information consisting character appearance behavior facial emotion dialogue background music well subtitle contribute differently final result make task challenging meaningful developing advanced multi-modal model . To facilitate task develop new dataset called Emotional RelAtionship inTeractiOn ( ERATO ) based drama movie . ERATO large-scale multi-modal dataset PERR task 31182 video clip lasting 203 video hour . Different existing datasets ERATO contains interaction-centric video multi-shots varied video length multiple modality including visual audio text . As minor contribution propose baseline model composed Synchronous Modal-Temporal Attention ( SMTA ) unit fuse multi-modal information PERR task . In contrast prevailing attention mechanism proposed SMTA steadily improve performance 1\\ % . We expect ERATO well proposed SMTA open new way PERR task video understanding improve research multi-modal fusion methodology .</td>\n",
       "      <td>2021</td>\n",
       "      <td>Computer Vision and Pattern Recognition</td>\n",
       "      <td>1</td>\n",
       "      <td>1</td>\n",
       "      <td>1</td>\n",
       "    </tr>\n",
       "    <tr>\n",
       "      <th>921</th>\n",
       "      <td>Analysis spatial multivariate data i.e . measurement irregularly-spaced location challenging topic visualization statistic alike . Such data integral many domain e.g . indicator valuable mineral measured mine prospecting . Popular analysis method like PCA often design account spatial nature data . Thus together spatial variant must employed carefully . Clearly preferable use method specifically designed data like spatial blind source separation ( SBSS ) . However SBSS requires two tuning parameter complex spatial object . Setting parameter involves navigating two large interdependent parameter space also taking account prior knowledge physical reality represented data . To support analyst process developed visual analytics prototype . We evaluated expert visualization SBSS geochemistry . Our evaluation show interactive prototype allows define complex realistic parameter setting efficiently far impractical . Settings identified non-expert led remarkable surprising insight domain expert . Therefore paper present important first step enable use promising analysis method spatial multivariate data .</td>\n",
       "      <td>2022</td>\n",
       "      <td>Human-Computer Interaction</td>\n",
       "      <td>2</td>\n",
       "      <td>4</td>\n",
       "      <td>2</td>\n",
       "    </tr>\n",
       "    <tr>\n",
       "      <th>922</th>\n",
       "      <td>Deep neural network ( DNNs ) increasingly applied safety-critical domain self-driving car unmanned aircraft medical diagnosis . It fundamental importance certify safety DNNs i.e . comply formal safety specification . While safety certification tool exactly answer question help debugging unsafe DNNs requiring developer iteratively verify modify DNN safety eventually achieved . Hence repair technique need developed produce safe DNN automatically . To address need present SpecRepair tool efficiently eliminates counter-examples DNN produce provably safe DNN without harming classification accuracy . SpecRepair combine specification-based counter-example search resume training DNN penalizing counter-examples certifying resulting DNN . We evaluate SpecRepair 's effectiveness ACAS Xu benchmark DNN-based controller unmanned aircraft two image classification benchmark . The result show SpecRepair successful producing safe DNNs comparable method shorter runtime produce safe DNNs preserving classification accuracy .</td>\n",
       "      <td>2022</td>\n",
       "      <td>Machine Learning</td>\n",
       "      <td>4</td>\n",
       "      <td>4</td>\n",
       "      <td>4</td>\n",
       "    </tr>\n",
       "    <tr>\n",
       "      <th>923</th>\n",
       "      <td>Knowledge base ( KBs ) notable entity property important asset application search question answering dialogue . All popular KBs capture virtually positive statement abstain taking stance statement stored KB . This paper make case explicitly stating salient statement hold . Negative statement useful overcome limitation question answering system mainly geared positive question ; also contribute informative summary entity . Due abundance invalid statement effort compile need address ranking saliency . We present statisticalinference method compiling ranking negative statement based expectation positive statement related entity peer group . Experimental result variety datasets show method effectively discover notable negative statement extrinsic study underline usefulness entity summarization . Datasets code released resource research .</td>\n",
       "      <td>2021</td>\n",
       "      <td>Information Retrieval</td>\n",
       "      <td>3</td>\n",
       "      <td>0</td>\n",
       "      <td>0</td>\n",
       "    </tr>\n",
       "    <tr>\n",
       "      <th>924</th>\n",
       "      <td>A smart vehicle able understand human behavior predict action avoid hazardous situation . Specific trait human behavior automatically predicted help vehicle make decision increasing safety . One important aspect pertaining driving task driver 's visual attention . Predicting driver 's visual attention help vehicle understand awareness state driver providing important contextual information . While estimating exact gaze direction difficult car environment coarse estimation visual attention obtained tracking position orientation head . Since relation head pose gaze direction one-to-one paper proposes formulation based probabilistic model create salient region describing visual attention driver . The area predicted region small model high confidence prediction directly learned data . We use Gaussian process regression ( GPR ) implement framework comparing performance different regression formulation linear regression neural network based method . We evaluate framework studying tradeoff spatial resolution accuracy probability map using naturalistic recording collected UTDrive platform . We observe GPR method produce best result creating accurate prediction localized salient region . For example 95 % confidence region defined area cover 3.77 % region sphere surrounding driver .</td>\n",
       "      <td>2023</td>\n",
       "      <td>Computer Vision and Pattern Recognition</td>\n",
       "      <td>1</td>\n",
       "      <td>1</td>\n",
       "      <td>1</td>\n",
       "    </tr>\n",
       "  </tbody>\n",
       "</table>\n",
       "<p>925 rows × 6 columns</p>\n",
       "</div>"
      ],
      "text/plain": [
       "                                                                                                                                                                                                                                                                                                                                                                                                                                                                                                                                                                                                                                                                                                                                                                                                                                                                                                                                                                                                                                                                                                                                                                                                                                                                                                                                          Abstract  \\\n",
       "0                                                                                                                                                                                                                                                                                                                                                                                                                                                                                                                                                              Implementing existing federated learning massive Internet Things ( IoT ) network face critical challenge imbalanced statistically heterogeneous data device diversity . To end propose semi-federated learning ( SemiFL ) framework provide potential solution realization intelligent IoT . By seamlessly integrating centralized federated paradigm SemiFL framework show high scalability term number IoT device even presence computing-limited sensor . Furthermore compared traditional learning approach proposed SemiFL make better use distributed data computing resource due collaborative model training edge server local device . Simulation result show effectiveness SemiFL framework massive IoT network . The code found http : //github.com/niwanli/SemiFL_IoT .   \n",
       "1                                                                                             We present accurate stereo matching method using local expansion move based graph cut . This new move-making scheme used efficiently infer per-pixel 3D plane label pairwise Markov random field ( MRF ) effectively combine recently proposed slanted patch matching curvature regularization term . The local expansion move presented many alpha-expansions defined small grid region . The local expansion move extend traditional expansion move two way : localization spatial propagation . By localization use different candidate alpha-labels according location local alpha-expansions . By spatial propagation design local alpha-expansions propagate currently assigned label nearby region . With localization spatial propagation method efficiently infer MRF model continuous label space using randomized search . Our method several advantage previous approach based fusion move belief propagation ; produce submodular move deriving subproblem optimality ; help find good smooth piecewise linear disparity map ; suitable parallelization ; use cost-volume filtering technique accelerating matching cost computation . Even using simple pairwise MRF method shown best performance Middlebury stereo benchmark V2 V3 .   \n",
       "2                                                                                                                                                                                                                                                                                                                                                                                                         In work present novel approach 3D layout recovery indoor environment using non-central acquisition system . From non-central panorama full scaled 3D line independently recovered geometry reasoning without geometric scale assumption . However sensitivity noise complex geometric modeling led panorama little investigated . Our new pipeline aim extract boundary structural line indoor environment neural network exploit property non-central projection system new geometrical processing recover scaled 3D layout . The result experiment show improve state-of-the-art method layout reconstruction line extraction non-central projection system . We completely solve problem Manhattan Atlanta environment handling occlusion retrieving metric scale room without extra measurement . As far author knowledge go approach first work using deep learning non-central panorama recovering scaled layout single panorama .   \n",
       "3                                                                                                                                                                              Real data often appear form multiple incomplete view . Incomplete multi-view clustering effective method integrate incomplete view . Previous method learn consistent information different view ignore unique information view limit clustering performance generalization . To overcome limitation propose novel View Variation View Heredity approach ( V3H ) . Inspired variation heredity genetics V3H first decomposes subspace variation matrix corresponding view heredity matrix view represent unique information consistent information respectively . Then aligning different view based cluster indicator matrix V3H integrates unique information different view improve clustering performance . Finally help adjustable low-rank representation based heredity matrix V3H recovers underlying true data structure reduce influence large incompleteness . More importantly V3H present possibly first work introduce genetics clustering algorithm learning simultaneously consistent information unique information incomplete multi-view data . Extensive experimental result fifteen benchmark datasets validate superiority state-of-the-arts .   \n",
       "4                                                                                                                                                                                                                                                                                                                                                                                                                                                                                                                                                                                                                                                                                                                                                                                                                                                                                                       This paper present tree-to-tree transduction method sentence compression . Our model based synchronous tree substitution grammar formalism allows local distortion tree topology thus naturally capture structural mismatch . We describe algorithm decoding framework show model trained discriminatively within large margin framework . Experimental result sentence compression bring significant improvement state-of-the-art model .   \n",
       "..                                                                                                                                                                                                                                                                                                                                                                                                                                                                                                                                                                                                                                                                                                                                                                                                                                                                                                                                                                                                                                                                                                                                                                                                                                                                                                                                             ...   \n",
       "920                   Recognizing emotional state people basic challenging task video understanding . In paper propose new task field named Pairwise Emotional Relationship Recognition ( PERR ) . This task aim recognize emotional relationship two interactive character given video clip . It different traditional emotion social relation recognition task . Varieties information consisting character appearance behavior facial emotion dialogue background music well subtitle contribute differently final result make task challenging meaningful developing advanced multi-modal model . To facilitate task develop new dataset called Emotional RelAtionship inTeractiOn ( ERATO ) based drama movie . ERATO large-scale multi-modal dataset PERR task 31182 video clip lasting 203 video hour . Different existing datasets ERATO contains interaction-centric video multi-shots varied video length multiple modality including visual audio text . As minor contribution propose baseline model composed Synchronous Modal-Temporal Attention ( SMTA ) unit fuse multi-modal information PERR task . In contrast prevailing attention mechanism proposed SMTA steadily improve performance 1\\ % . We expect ERATO well proposed SMTA open new way PERR task video understanding improve research multi-modal fusion methodology .   \n",
       "921                                                                                                                                                                                        Analysis spatial multivariate data i.e . measurement irregularly-spaced location challenging topic visualization statistic alike . Such data integral many domain e.g . indicator valuable mineral measured mine prospecting . Popular analysis method like PCA often design account spatial nature data . Thus together spatial variant must employed carefully . Clearly preferable use method specifically designed data like spatial blind source separation ( SBSS ) . However SBSS requires two tuning parameter complex spatial object . Setting parameter involves navigating two large interdependent parameter space also taking account prior knowledge physical reality represented data . To support analyst process developed visual analytics prototype . We evaluated expert visualization SBSS geochemistry . Our evaluation show interactive prototype allows define complex realistic parameter setting efficiently far impractical . Settings identified non-expert led remarkable surprising insight domain expert . Therefore paper present important first step enable use promising analysis method spatial multivariate data .   \n",
       "922                                                                                                                                                                                                                                                                                    Deep neural network ( DNNs ) increasingly applied safety-critical domain self-driving car unmanned aircraft medical diagnosis . It fundamental importance certify safety DNNs i.e . comply formal safety specification . While safety certification tool exactly answer question help debugging unsafe DNNs requiring developer iteratively verify modify DNN safety eventually achieved . Hence repair technique need developed produce safe DNN automatically . To address need present SpecRepair tool efficiently eliminates counter-examples DNN produce provably safe DNN without harming classification accuracy . SpecRepair combine specification-based counter-example search resume training DNN penalizing counter-examples certifying resulting DNN . We evaluate SpecRepair 's effectiveness ACAS Xu benchmark DNN-based controller unmanned aircraft two image classification benchmark . The result show SpecRepair successful producing safe DNNs comparable method shorter runtime produce safe DNNs preserving classification accuracy .   \n",
       "923                                                                                                                                                                                                                                                                                                                                                                                                                                                                   Knowledge base ( KBs ) notable entity property important asset application search question answering dialogue . All popular KBs capture virtually positive statement abstain taking stance statement stored KB . This paper make case explicitly stating salient statement hold . Negative statement useful overcome limitation question answering system mainly geared positive question ; also contribute informative summary entity . Due abundance invalid statement effort compile need address ranking saliency . We present statisticalinference method compiling ranking negative statement based expectation positive statement related entity peer group . Experimental result variety datasets show method effectively discover notable negative statement extrinsic study underline usefulness entity summarization . Datasets code released resource research .   \n",
       "924  A smart vehicle able understand human behavior predict action avoid hazardous situation . Specific trait human behavior automatically predicted help vehicle make decision increasing safety . One important aspect pertaining driving task driver 's visual attention . Predicting driver 's visual attention help vehicle understand awareness state driver providing important contextual information . While estimating exact gaze direction difficult car environment coarse estimation visual attention obtained tracking position orientation head . Since relation head pose gaze direction one-to-one paper proposes formulation based probabilistic model create salient region describing visual attention driver . The area predicted region small model high confidence prediction directly learned data . We use Gaussian process regression ( GPR ) implement framework comparing performance different regression formulation linear regression neural network based method . We evaluate framework studying tradeoff spatial resolution accuracy probability map using naturalistic recording collected UTDrive platform . We observe GPR method produce best result creating accurate prediction localized salient region . For example 95 % confidence region defined area cover 3.77 % region sphere surrounding driver .   \n",
       "\n",
       "     Year                                 Category  label  LogisticRegression  \\\n",
       "0    2023                         Machine Learning      4                   4   \n",
       "1    2018  Computer Vision and Pattern Recognition      1                   1   \n",
       "2    2022  Computer Vision and Pattern Recognition      1                   1   \n",
       "3    2020                         Machine Learning      4                   4   \n",
       "4    2009                 Computation and Language      0                   0   \n",
       "..    ...                                      ...    ...                 ...   \n",
       "920  2021  Computer Vision and Pattern Recognition      1                   1   \n",
       "921  2022               Human-Computer Interaction      2                   4   \n",
       "922  2022                         Machine Learning      4                   4   \n",
       "923  2021                    Information Retrieval      3                   0   \n",
       "924  2023  Computer Vision and Pattern Recognition      1                   1   \n",
       "\n",
       "     allenai/scibert_scivocab_uncased  \n",
       "0                                   4  \n",
       "1                                   1  \n",
       "2                                   1  \n",
       "3                                   4  \n",
       "4                                   0  \n",
       "..                                ...  \n",
       "920                                 1  \n",
       "921                                 2  \n",
       "922                                 4  \n",
       "923                                 0  \n",
       "924                                 1  \n",
       "\n",
       "[925 rows x 6 columns]"
      ]
     },
     "execution_count": 25,
     "metadata": {},
     "output_type": "execute_result"
    }
   ],
   "source": [
    "df_test"
   ]
  },
  {
   "cell_type": "markdown",
   "id": "0dec7aa3",
   "metadata": {},
   "source": [
    "## 4. Evaluation"
   ]
  },
  {
   "cell_type": "markdown",
   "id": "498bce6a",
   "metadata": {},
   "source": [
    "In this section, we are going to use different evaluation metrics to report the performance in the test set. The following metrics will be used: \n",
    "\n",
    "* **Classification metrics** (precision, recall, f-score)."
   ]
  },
  {
   "cell_type": "code",
   "execution_count": 26,
   "id": "dd109698",
   "metadata": {},
   "outputs": [],
   "source": [
    "import numpy as np\n",
    "from sklearn.metrics import roc_curve, auc"
   ]
  },
  {
   "cell_type": "markdown",
   "id": "c6ea9254",
   "metadata": {},
   "source": [
    "### 4.1. Multiclass Classification\n",
    "\n",
    "In this section, we want to measure the performance of a classification setup. In this way, we want to predict the label in the test set by using the probability score provided by the model."
   ]
  },
  {
   "cell_type": "markdown",
   "id": "e6497bd4",
   "metadata": {},
   "source": [
    "#### 4.1.1. Classification Report"
   ]
  },
  {
   "cell_type": "markdown",
   "id": "f1f07603",
   "metadata": {},
   "source": [
    "For each one of the classification classes, we can mesure the following classification metrics:\n",
    "\n",
    "* **precision** - TP / (TP + FP) - the number of correcly classified in this class divided by the total number of elements labelled as belonging to the given class [[ref](https://en.wikipedia.org/wiki/Precision_and_recall#Definition_(classification_context))];\n",
    "* **recall** - TP / (TP + FN) - the number of correcly classified in this class divided by the total number of elements that actually belong to this class [[ref](https://en.wikipedia.org/wiki/Precision_and_recall#Definition_(classification_context))];\n",
    "* **f1** - 2*(precion+recall)/(precision+recall) - weighted average of the precision and recall.\n",
    "\n",
    "In addition, for each classifier, disregarding the class, we can measure the overall accuracy:\n",
    "\n",
    "* **accuracy** - the number of correctly classified over the number of all sentences, i.e, (TP+TN) / (TP+TN+FP+FN)"
   ]
  },
  {
   "cell_type": "code",
   "execution_count": 27,
   "id": "10a465b6",
   "metadata": {},
   "outputs": [],
   "source": [
    "from sklearn.metrics import classification_report"
   ]
  },
  {
   "cell_type": "code",
   "execution_count": 28,
   "id": "64eaf8f6-6f52-4f67-96fa-c86d548a280f",
   "metadata": {},
   "outputs": [],
   "source": [
    "y_true = df_test[\"label\"]"
   ]
  },
  {
   "cell_type": "code",
   "execution_count": 29,
   "id": "4f6c38bf",
   "metadata": {},
   "outputs": [
    {
     "name": "stdout",
     "output_type": "stream",
     "text": [
      "                                         precision    recall  f1-score   support\n",
      "\n",
      "               Computation and Language       0.93      0.92      0.92       121\n",
      "Computer Vision and Pattern Recognition       0.93      0.98      0.96       389\n",
      "             Human-Computer Interaction       0.98      0.73      0.84        79\n",
      "                  Information Retrieval       0.94      0.63      0.76        52\n",
      "                       Machine Learning       0.90      0.96      0.93       284\n",
      "\n",
      "                               accuracy                           0.92       925\n",
      "                              macro avg       0.94      0.84      0.88       925\n",
      "                           weighted avg       0.93      0.92      0.92       925\n",
      "\n"
     ]
    }
   ],
   "source": [
    "# performance baseline\n",
    "y_pred = df_test[BASELINE_MODEL]\n",
    "print(classification_report(y_true, y_pred, target_names=[\"Computation and Language\", \"Computer Vision and Pattern Recognition\", \"Human-Computer Interaction\", \"Information Retrieval\", \"Machine Learning\"]))"
   ]
  },
  {
   "cell_type": "code",
   "execution_count": 30,
   "id": "edfee8dd-1ffb-4fd7-a412-5ee12d1e8c4d",
   "metadata": {},
   "outputs": [
    {
     "name": "stdout",
     "output_type": "stream",
     "text": [
      "                                         precision    recall  f1-score   support\n",
      "\n",
      "               Computation and Language       0.90      0.97      0.93       121\n",
      "Computer Vision and Pattern Recognition       0.96      0.97      0.97       389\n",
      "             Human-Computer Interaction       0.96      0.86      0.91        79\n",
      "                  Information Retrieval       0.84      0.83      0.83        52\n",
      "                       Machine Learning       0.94      0.92      0.93       284\n",
      "\n",
      "                               accuracy                           0.94       925\n",
      "                              macro avg       0.92      0.91      0.91       925\n",
      "                           weighted avg       0.94      0.94      0.94       925\n",
      "\n"
     ]
    }
   ],
   "source": [
    "# performance my model\n",
    "y_pred = df_test[MY_MODEL]\n",
    "print(classification_report(y_true, y_pred, target_names=[\"Computation and Language\", \"Computer Vision and Pattern Recognition\", \"Human-Computer Interaction\", \"Information Retrieval\", \"Machine Learning\"]))"
   ]
  }
 ],
 "metadata": {
  "kernelspec": {
   "display_name": "Python 3 (ipykernel)",
   "language": "python",
   "name": "python3"
  },
  "language_info": {
   "codemirror_mode": {
    "name": "ipython",
    "version": 3
   },
   "file_extension": ".py",
   "mimetype": "text/x-python",
   "name": "python",
   "nbconvert_exporter": "python",
   "pygments_lexer": "ipython3",
   "version": "3.12.3"
  }
 },
 "nbformat": 4,
 "nbformat_minor": 5
}
