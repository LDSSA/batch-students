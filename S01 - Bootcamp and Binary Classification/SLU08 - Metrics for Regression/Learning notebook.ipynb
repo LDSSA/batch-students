{
 "cells": [
  {
   "attachments": {},
   "cell_type": "markdown",
   "metadata": {},
   "source": [
    "# SLU08 - Metrics for regression: Learning Notebook\n",
    "\n",
    "In this notebook, you will learn about:\n",
    "\n",
    "    - Loss functions vs. Evaluation Metrics\n",
    "    - Mean Squared Error (MSE)\n",
    "    - Root Mean Squared Error (RMSE)\n",
    "    - Mean Absolute Error (MAE)\n",
    "    - Coefficient of Determination (R²)\n",
    "    - Adjusted R²\n",
    "    - Scikitlearn metrics\n",
    "    - Using metrics"
   ]
  },
  {
   "cell_type": "code",
   "execution_count": 1,
   "metadata": {},
   "outputs": [],
   "source": [
    "import pandas as pd\n",
    "import numpy as np\n",
    "import matplotlib.pyplot as plt\n",
    "from sklearn.model_selection import train_test_split\n",
    "from sklearn.linear_model import LinearRegression, SGDRegressor"
   ]
  },
  {
   "cell_type": "markdown",
   "metadata": {},
   "source": [
    "## 1 - Loss functions vs. Evaluation metrics\n",
    "\n",
    "A big part of data science is translating customer business problems into machine learning problems. An important step in this process is defining the **key performance indicators (KPIs)**. These are basically measures of success. To obtain maximum success your model should optimise towards these KPIs. Unfortunately, this is not always possible. \n",
    "\n",
    "As you know, the learning process during model training requires a differentiable loss (also called cost) function, and you have no guarantees that the KPI you defined with your customer will be differentiable. This means you need a proxy metric that approximates the true KPI but is differentiable. \n",
    "\n",
    "In the literature the KPI is commonly called the evaluation metric, and the proxy metric you use to train the model is the loss (cost) function. Many times these are actually the same, but you should be aware that they mean different things. So, don't forget:\n",
    "\n",
    "* **Loss/cost function** is what is minimized when searching for the best model parameters;\n",
    "* **Evaluation metric** is what you will use to evaluate how good your model is.\n",
    "\n",
    "In a typical workflow you either receive or collaboratively define an evaluation metric. If this metric is differentiable, then you should most probably use it as your loss function. If it isn't, you should find an adequate proxy loss function.\n",
    "\n",
    "Next we'll cover several metrics for regression problems that can be used both as evaluation metrics and loss functions."
   ]
  },
  {
   "attachments": {},
   "cell_type": "markdown",
   "metadata": {},
   "source": [
    "## 2 - Metrics for regression\n",
    "\n",
    "Before getting deeper into the performance metrics, it is best to clarify the definition of error, despite its intuitive concept.\n",
    "\n",
    "When we predict a continuous variable, a common-sense definition of error is simple: we want the model predictions to be as close to actual values as possible.\n",
    "\n",
    "So, in terms of model performance, **error** refers to the difference between the observed target value and the predicted value. The lower the difference between the observed outcome $y$ and the predicted outcome $\\hat{y}$, the better the performance of the model. A higher difference means a worse performance of the model.\n",
    "\n",
    "Now that this is clear, let's take a look at some of the metrics we can use to measure the performance of regression models! "
   ]
  },
  {
   "attachments": {},
   "cell_type": "markdown",
   "metadata": {},
   "source": [
    "### 2.1 - Mean Absolute Error (MAE)\n",
    "\n",
    "The average of the absolute differences between predicted values and observed values\n",
    "\n",
    "$$MAE = \\frac{1}{N} \\sum_{n=1}^N \\left|y_n - \\hat{y}_n\\right|$$\n",
    "\n",
    "where $N$ is the number of observations in your dataset, $y_n$ is the target and $\\hat{y}_n$ is the prediction for the observation $x_n$."
   ]
  },
  {
   "cell_type": "code",
   "execution_count": 2,
   "metadata": {},
   "outputs": [],
   "source": [
    "mae = lambda y, y_hat: np.abs(y - y_hat).mean()"
   ]
  },
  {
   "cell_type": "markdown",
   "metadata": {},
   "source": [
    "* All the individual differences are weighted equally in the average, therefore it does not penalise larger errors more than smaller ones.\n",
    "* Can only assume non-negative values.\n",
    "* It's more robust to outliers than MSE (Mean Squared Error - see next section).\n",
    "* It's more interpretable than the MSE since its values are in the same units as the target.\n",
    "* The output can be interpreted as the expected error measured in the same units as the target. So, if you're predicting a price, the target is in \\\\$ unit and the evaluation metric has the same unit (\\\\$)."
   ]
  },
  {
   "attachments": {},
   "cell_type": "markdown",
   "metadata": {},
   "source": [
    "### 2.2 - Mean Squared Error (MSE)\n",
    "\n",
    "The average of the squared differences between predicted values and observed values\n",
    "\n",
    "$$MSE = \\frac{1}{N} \\sum_{n=1}^N (y_n - \\hat{y}_n)^2$$\n",
    "\n",
    "where $N$ is the number of observations in your dataset, $y_n$ is the target and $\\hat{y}_n$ is the prediction for the observation $x_n$."
   ]
  },
  {
   "cell_type": "code",
   "execution_count": 3,
   "metadata": {},
   "outputs": [],
   "source": [
    "mse = lambda y, y_hat: ((y - y_hat)**2).mean()"
   ]
  },
  {
   "cell_type": "markdown",
   "metadata": {},
   "source": [
    "* Can only assume non-negative values.\n",
    "* It is more sensitive to outliers than MAE because the values are squared.\n",
    "* Loses interpretability due to the squaring. So, if you're predicting a price, the labels have the unit \\\\$ but the evaluation metric has the unit \\\\$²."
   ]
  },
  {
   "attachments": {},
   "cell_type": "markdown",
   "metadata": {},
   "source": [
    "### 2.3 - Root Mean Squared Error (RMSE)\n",
    "\n",
    "The square root of the average of the squared errors across all samples, effectively the square root of MSE.\n",
    "\n",
    "$$RMSE = \\sqrt{MSE}$$"
   ]
  },
  {
   "cell_type": "code",
   "execution_count": 4,
   "metadata": {},
   "outputs": [],
   "source": [
    "rmse = lambda y, y_hat: np.sqrt(mse(y, y_hat))"
   ]
  },
  {
   "cell_type": "markdown",
   "metadata": {},
   "source": [
    "* Can only assume non-negative values.\n",
    "* It is quite sensitive to outliers.\n",
    "* Is more interpretable than the MSE since its values are in the same units as the target, so it is usually prefered to the MSE.\n",
    "* So, if you're predicting a price, the labels have the unit \\\\$ and the evaluation metric has the same unit (\\\\$)."
   ]
  },
  {
   "attachments": {},
   "cell_type": "markdown",
   "metadata": {},
   "source": [
    "### 2.4 - Coefficient of Determination (R²)\n",
    "\n",
    "R² compares how much better is your regression model compared to a predictor that outputs just the mean of the targets, which acts as a baseline. If the chosen model fits worse than that baseline model, the 𝑅² is negative.\n",
    "\n",
    "$$\\bar{y} = \\frac{1}{N} \\sum_{n=1}^N y_n$$\n",
    "\n",
    "$$R² = 1 - \\frac{MSE(y, \\hat{y})}{MSE(y, \\bar{y})} \n",
    "= 1 - \\frac{\\frac{1}{N} \\sum_{n=1}^N (y_n - \\hat{y}_n)^2}{\\frac{1}{N} \\sum_{n=1}^N (y_n - \\bar{y})^2}\n",
    "= 1 - \\frac{\\sum_{n=1}^N (y_n - \\hat{y}_n)^2}{\\sum_{n=1}^N (y_n - \\bar{y})^2}$$\n",
    "\n",
    "where $N$ is the number of observations in your dataset, $\\bar{y}$ is the mean of the target, $y_n$ is the target and $\\hat{y}_n$ is the prediction for the observation $x_n$."
   ]
  },
  {
   "cell_type": "code",
   "execution_count": 5,
   "metadata": {},
   "outputs": [],
   "source": [
    "r2 = lambda y, y_hat: 1 - (mse(y, y_hat) / mse(y, np.mean(y)))"
   ]
  },
  {
   "cell_type": "markdown",
   "metadata": {},
   "source": [
    "* R² can be interpreted as the proportion of the variance of the dependent variable $y$ that’s explained by the independent variable $x$. If you got an R² of 0.7, you can say that the set of features and the model you used are able to explain 70% of the target variable. \n",
    "* Also, when using R², there are some important [caveats](https://en.wikipedia.org/wiki/Coefficient_of_determination#Caveats) to take into account. One of the caveats is that, depending on the model, the more features are added to a model, the more the R² increases when, in fact, those features are not intrinsically predictive.\n",
    "* Another interpretation is that R² measures the linear correlation between the predictions and the target. \n",
    "* The R² has an upper bound of 1. Depending on your application this may be an advantage. An R² = 0 or below means that your model doesn't explain anything in the target by using the features you have selected."
   ]
  },
  {
   "attachments": {},
   "cell_type": "markdown",
   "metadata": {},
   "source": [
    "### 2.5 - Adjusted R²\n",
    "\n",
    "R² penalized by the number of features used in the model\n",
    "\n",
    "$$R_{adj}^2 = 1 - \\frac{N - 1}{N - K - 1} (1 - R^2)$$\n",
    "\n",
    "where $N$ is the number of observations in the dataset and K is the number of features your model is using."
   ]
  },
  {
   "cell_type": "code",
   "execution_count": 6,
   "metadata": {},
   "outputs": [],
   "source": [
    "adjusted_r2 = lambda y, y_hat, N, K: 1 - ((N - 1) / (N - K - 1)) * (1 - r2(y, y_hat))"
   ]
  },
  {
   "cell_type": "markdown",
   "metadata": {},
   "source": [
    "* Just like R², adjusted R² also represents the proportion of the variance for the dependent variable y that’s explained by the independent variables X, but adjusts for the number of features of the model. \n",
    "* So, in order to circumvent the caveat of adding non-predictive variables to the model, we can use the adjusted R² score.\n",
    "* The more predictive features are added to the model, the higher the Adjusted R². However, the more non-predictive features are added to the model, the lower the Adjusted R² value, differently from what would happen with R².\n",
    "* The adjusted R² is always less or equal the R² value."
   ]
  },
  {
   "attachments": {},
   "cell_type": "markdown",
   "metadata": {},
   "source": [
    "## 3 - Using the metrics\n",
    "\n",
    "### 3.1 - Hold out method\n",
    "\n",
    "In a typical workflow, you don't use all your data to train the model. You split the data in two parts, train the model on the first part, then evaluate the model on the second part. This is called the train-test split or the hold-out method and you will learn more about it in SLU13. \n",
    "\n",
    "The reason for splitting the data is to simulate the real life situation where you will use the model to predict for data with unknown outcome. You will not be able to say how good is the prediction because there is nothing to compare it with. We therefore keep part of our data apart (the test data), train the model on the other part (the train data), then make predictions for both the train and test data and compare it to the real outcomes by computing a metric.\n",
    "\n",
    "The error given by the metric computed from the train data is called the in-sample-error (ISE) and the error computed from the test data is called the out-of-sample error (OSE).\n",
    "\n",
    "Let's load some data, train some models on it, and compute a few metrics. "
   ]
  },
  {
   "cell_type": "code",
   "execution_count": 7,
   "metadata": {},
   "outputs": [
    {
     "data": {
      "image/png": "[encoded data removed]",
      "text/plain": [
       "<Figure size 640x480 with 1 Axes>"
      ]
     },
     "metadata": {},
     "output_type": "display_data"
    }
   ],
   "source": [
    "df = pd.read_csv('data/example_data.csv')\n",
    "x = df['LotArea'].values\n",
    "y = df['SalePrice'].values\n",
    "\n",
    "plt.plot(x, y, 'r.');"
   ]
  },
  {
   "cell_type": "markdown",
   "metadata": {},
   "source": [
    "We'll use the sklearn function to split the data into a train and test set. The `test_size` parameter indicates how much data is assigned to the test dataset."
   ]
  },
  {
   "cell_type": "code",
   "execution_count": 8,
   "metadata": {},
   "outputs": [
    {
     "name": "stdout",
     "output_type": "stream",
     "text": [
      "Number of observations:\n",
      "Train: 852 | Test: 569\n"
     ]
    }
   ],
   "source": [
    "x_train, x_test, y_train, y_test = train_test_split(x, y, test_size=0.4, random_state=10)\n",
    "print(\"Number of observations:\\nTrain: {} | Test: {}\".format(x_train.shape[0], x_test.shape[0]))"
   ]
  },
  {
   "cell_type": "markdown",
   "metadata": {},
   "source": [
    "We now want to train some models and make predictions for both the training data and the test data. Let's train three models:\n",
    "* **Linear Regression**: You have learned about this model in SLU07. It is the closed form solution for optimising towards the RMSE.\n",
    "* **SGDRegressor:** You have learned about this model in SLU07. It is an iterative solution for linear regression based on gradient descent. By default it optimises for the RMSE.\n",
    "* **SGDRegressor_MAE:** This is a slight variation of the SGDRegressor where we change the loss to *epsilon insensitive* and the epsilon to 0. In this way, the SGD converges to MAE instead of RMSE."
   ]
  },
  {
   "cell_type": "code",
   "execution_count": 9,
   "metadata": {},
   "outputs": [],
   "source": [
    "x_train_lr = x_train.reshape(-1, 1)\n",
    "x_test_lr = x_test.reshape(-1, 1)\n",
    "\n",
    "# define the models\n",
    "lr_1 = LinearRegression()\n",
    "lr_2 = SGDRegressor(random_state=10)\n",
    "lr_3 = SGDRegressor(loss='epsilon_insensitive', epsilon=0, random_state=10)\n",
    "\n",
    "# fit the models\n",
    "lr_1.fit(x_train_lr, y_train)\n",
    "lr_2.fit(x_train_lr, y_train)\n",
    "lr_3.fit(x_train_lr, y_train)\n",
    "\n",
    "# predict for the train data\n",
    "y_hat_train_1 = lr_1.predict(x_train_lr)\n",
    "y_hat_train_2 = lr_2.predict(x_train_lr)\n",
    "y_hat_train_3 = lr_3.predict(x_train_lr)\n",
    "\n",
    "# predict for the test data\n",
    "y_hat_test_1 = lr_1.predict(x_test_lr)\n",
    "y_hat_test_2 = lr_2.predict(x_test_lr)\n",
    "y_hat_test_3 = lr_3.predict(x_test_lr)"
   ]
  },
  {
   "cell_type": "markdown",
   "metadata": {},
   "source": [
    "Let's compare the metrics on train and test datasets:"
   ]
  },
  {
   "cell_type": "code",
   "execution_count": 10,
   "metadata": {},
   "outputs": [
    {
     "name": "stdout",
     "output_type": "stream",
     "text": [
      "Mean Squared Error (MAE)\n",
      "LinearRegression (Train): 0.10458696001870452\n",
      "SGDRegressor (Train): 0.10691756445904846\n",
      "SGDRegressor_MAE (Train): 0.10201551648216647\n",
      "LinearRegression (Test): 0.10231247228421318\n",
      "SGDRegressor (Test): 0.10676318525512477\n",
      "SGDRegressor_MAE (Test): 0.09976946697182527\n",
      "\n",
      "========================\n",
      "\n",
      "Root Mean Squared Error (RMSE)\n",
      "LinearRegression (Train): 0.13713041971628653\n",
      "SGDRegressor (Train): 0.14084638029623728\n",
      "SGDRegressor_MAE (Train): 0.1440540290850338\n",
      "LinearRegression (Test): 0.1308432078624148\n",
      "SGDRegressor (Test): 0.1369295525109932\n",
      "SGDRegressor_MAE (Test): 0.13724366451104927\n",
      "\n",
      "========================\n",
      "\n",
      "R Squared (R2)\n",
      "LinearRegression (Train): 0.1454781963155536\n",
      "SGDRegressor (Train): 0.09853904994075202\n",
      "SGDRegressor_MAE (Train): 0.057011584851018426\n",
      "LinearRegression (Test): 0.19233940791017634\n",
      "SGDRegressor (Test): 0.11545301906486449\n",
      "SGDRegressor_MAE (Test): 0.11139011953629918\n"
     ]
    }
   ],
   "source": [
    "print(\"Mean Squared Error (MAE)\")\n",
    "print(\"LinearRegression (Train): {}\".format(mae(y_train, y_hat_train_1)))\n",
    "print(\"SGDRegressor (Train): {}\".format(mae(y_train, y_hat_train_2)))\n",
    "print(\"SGDRegressor_MAE (Train): {}\".format(mae(y_train, y_hat_train_3)))\n",
    "print(\"LinearRegression (Test): {}\".format(mae(y_test, y_hat_test_1)))\n",
    "print(\"SGDRegressor (Test): {}\".format(mae(y_test, y_hat_test_2)))\n",
    "print(\"SGDRegressor_MAE (Test): {}\".format(mae(y_test, y_hat_test_3)))\n",
    "\n",
    "print(\"\\n========================\\n\")\n",
    "\n",
    "print(\"Root Mean Squared Error (RMSE)\")\n",
    "print(\"LinearRegression (Train): {}\".format(rmse(y_train, y_hat_train_1)))\n",
    "print(\"SGDRegressor (Train): {}\".format(rmse(y_train, y_hat_train_2)))\n",
    "print(\"SGDRegressor_MAE (Train): {}\".format(rmse(y_train, y_hat_train_3)))\n",
    "print(\"LinearRegression (Test): {}\".format(rmse(y_test, y_hat_test_1)))\n",
    "print(\"SGDRegressor (Test): {}\".format(rmse(y_test, y_hat_test_2)))\n",
    "print(\"SGDRegressor_MAE (Test): {}\".format(rmse(y_test, y_hat_test_3)))\n",
    "\n",
    "print(\"\\n========================\\n\")\n",
    "\n",
    "print(\"R Squared (R2)\")\n",
    "print(\"LinearRegression (Train): {}\".format(r2(y_train, y_hat_train_1)))\n",
    "print(\"SGDRegressor (Train): {}\".format(r2(y_train, y_hat_train_2)))\n",
    "print(\"SGDRegressor_MAE (Train): {}\".format(r2(y_train, y_hat_train_3)))\n",
    "print(\"LinearRegression (Test): {}\".format(r2(y_test, y_hat_test_1)))\n",
    "print(\"SGDRegressor (Test): {}\".format(r2(y_test, y_hat_test_2)))\n",
    "print(\"SGDRegressor_MAE (Test): {}\".format(r2(y_test, y_hat_test_3)))"
   ]
  },
  {
   "cell_type": "markdown",
   "metadata": {},
   "source": [
    "As you can observe, the models trained on RMSE (LR and SGDRegressor) obtain slightly better RMSE (lower values) than the model trained on MAE (SGDRegressor_MAE) and vice versa. The effect in the dataset is not very strong, but it in line with what we previously discussed - you should always use the loss function that best approximates your evaluation metric.\n",
    "\n",
    "Let's plot the test data to see the predictions."
   ]
  },
  {
   "cell_type": "code",
   "execution_count": 11,
   "metadata": {},
   "outputs": [
    {
     "data": {
      "image/png": "[encoded data removed]",
      "text/plain": [
       "<Figure size 640x480 with 1 Axes>"
      ]
     },
     "metadata": {},
     "output_type": "display_data"
    }
   ],
   "source": [
    "plt.plot(x_test, y_test, 'r.')\n",
    "plt.plot(x_test, y_hat_test_1, '.', color='blue', label='LinearRegression')\n",
    "plt.plot(x_test, y_hat_test_2, '.', color='green', label='SGDRegressor')\n",
    "plt.plot(x_test, y_hat_test_3, '.', color='gold', label='SGDRegressor_MAE')\n",
    "plt.legend();"
   ]
  },
  {
   "attachments": {},
   "cell_type": "markdown",
   "metadata": {},
   "source": [
    "This data does not have a clear linear trend and it kind of depends what you consider an outlier to decide which model you prefer. All models perform similarly. It is just interesting to see that the predictions of the MAE- and RMSE-trained models are different.\n",
    "\n",
    "Finally, to make a consistent analysis, you need to know if the chosen metric should be minimised (like RMSE) or maximised (like R2). If you want to normalize this you can simply impose that your metric should be maximised, for example, and just reverse metrics that don't fit this definition. This is more important if you are using automatic model selection (see SLU13), than if you just look at the numbers in a table.\n",
    "\n",
    "In this example, we use a negative RMSE and MAE to make an easier comparison. Now we know that a larger number is better for all the metrics employed here."
   ]
  },
  {
   "cell_type": "code",
   "execution_count": 12,
   "metadata": {},
   "outputs": [
    {
     "name": "stdout",
     "output_type": "stream",
     "text": [
      "Negative MAE\n",
      "LinearRegressor (Train): -0.10458696001870452\n",
      "LinearRegressor (Test): -0.10231247228421318\n",
      "SGDRegressor (Train): -0.10691756445904846\n",
      "SGDRegressor (Test): -0.10676318525512477\n",
      "SGDRegressor_MAE (Train): -0.10201551648216647\n",
      "SGDRegressor_MAE (Test): -0.09976946697182527\n",
      "\n",
      "Best model with Negative MAE: SGDRegressor_MAE\n",
      "\n",
      "========================\n",
      "\n",
      "Negative RMSE\n",
      "LinearRegressor (Train): -0.13713041971628653\n",
      "LinearRegressor (Test): -0.1308432078624148\n",
      "SGDRegressor (Train): -0.14084638029623728\n",
      "SGDRegressor (Test): -0.1369295525109932\n",
      "SGDRegressor_MAE (Train): -0.1440540290850338\n",
      "SGDRegressor_MAE (Test): -0.13724366451104927\n",
      "\n",
      "Best model with Negative RMSE: LinearRegressor\n",
      "\n",
      "========================\n",
      "\n",
      "R2\n",
      "LinearRegressor (Train): 0.1454781963155536\n",
      "LinearRegressor (Test): 0.19233940791017634\n",
      "SGDRegressor (Train): 0.09853904994075202\n",
      "SGDRegressor (Test): 0.11545301906486449\n",
      "SGDRegressor_MAE (Train): 0.057011584851018426\n",
      "SGDRegressor_MAE (Test): 0.11139011953629918\n",
      "\n",
      "Best model with R2: LinearRegressor\n",
      "\n",
      "========================\n",
      "\n"
     ]
    }
   ],
   "source": [
    "mae_mod = lambda y, y_hat: -mae(y, y_hat)\n",
    "mse_mod = lambda y, y_hat: -mse(y, y_hat)\n",
    "rmse_mod = lambda y, y_hat: -rmse(y, y_hat)\n",
    "\n",
    "metrics = {\n",
    "    'Negative MAE': mae_mod,\n",
    "    'Negative RMSE': rmse_mod,\n",
    "    'R2': r2\n",
    "}\n",
    "\n",
    "lrs = {\n",
    "    'LinearRegressor': lr_1,\n",
    "    'SGDRegressor': lr_2,\n",
    "    'SGDRegressor_MAE': lr_3\n",
    "}\n",
    "\n",
    "\n",
    "for key, lr in lrs.items():\n",
    "    lr.fit(x_train_lr, y_train)\n",
    "\n",
    "lst = []\n",
    "for metric, metric_f in metrics.items():  \n",
    "    best = None \n",
    "    best_model = None\n",
    "    lst_lst = []\n",
    "    print(\"{}\".format(metric))\n",
    "    for key, lr in lrs.items():\n",
    "        y_hat_train = lr.predict(x_train_lr)\n",
    "        y_hat_test = lr.predict(x_test_lr)\n",
    "\n",
    "        train_score = metric_f(y_train, y_hat_train)\n",
    "        test_score = metric_f(y_test, y_hat_test)\n",
    "        print(\"{} (Train): {}\".format(key, train_score))\n",
    "        print(\"{} (Test): {}\".format(key, test_score))\n",
    "        if not best or test_score > best:\n",
    "            best = test_score\n",
    "            best_model = key\n",
    "        lst_lst.append([train_score,test_score])\n",
    "    lst.append(lst_lst)\n",
    "    print(\"\\nBest model with {}: {}\".format(metric, best_model))\n",
    "    print(\"\\n========================\\n\")"
   ]
  },
  {
   "attachments": {},
   "cell_type": "markdown",
   "metadata": {},
   "source": [
    "### 3.2 - Choosing the right metric\n",
    "\n",
    "First, it is important to mention that you can use multiple metrics to evaluate the performace of your models, keeping in mind that when comparing two or more models, you need to use the same test dataset and evaluation metrics. Nevertheless, if you want to focus on optimizing a single evaluation metric, a very relevant question is:\n",
    "\n",
    "What is the right metric for our problem?\n",
    "\n",
    "Let's analyse the usefulness of each error metric depending on the objective and the problem we are trying to solve!"
   ]
  },
  {
   "cell_type": "markdown",
   "metadata": {},
   "source": [
    "#### If you want to penalize your bad predictions very much\n",
    "If you want to penalize your bad predictions very much, you can use **MSE** because it measures the average squared error of all the predictions. The bad predictions will have a large error which additionally will be squared, so they will weigh more.\n",
    "\n",
    "#### If you want to easily interpret the metric value\n",
    "If you want a metric that is interpretable, **MAE and RMSE** are your best choices since the two metrics are in the same units as our target values.\n",
    "\n",
    "#### If you want more robustness to outliers\n",
    "If your data has outliers you will probably need a metric that is more robust to it, so **MAE** is your best option. For more curious minds on why MAE is more robust to outliers, especially when compared to RMSE, the answer is quite simple: while minimizing the squared error over a set of numbers results in finding its mean, minimizing the absolute error results in finding its median. This is the reason why MAE is robust to outliers whereas RMSE is not.\n",
    "\n",
    "#### If your model has a high number of features\n",
    "In this case, when choosing between R² and Adjusted R², we should remember that the more features are added to a model, the more the R² increases even if some of those features are non-predictive. On the other hand, Adjusted R² improves just with the useful features and decreases if you add less useful features. For these reasons **Adjusted R²** is a better choice."
   ]
  },
  {
   "cell_type": "markdown",
   "metadata": {},
   "source": [
    "Wrapping up, the goal here is always to get a fair estimate of the distance between the predicted model and the actual values. Whichever metric you end up using, the critical point is to have a sound understanding of what the metric is telling you and choose a metric adequate to each problem. For now, move forward to the exercises and the next SLUs!\n",
    "\n",
    "![goodbye](media/goodbye.gif)"
   ]
  },
  {
   "attachments": {},
   "cell_type": "markdown",
   "metadata": {},
   "source": [
    "## 4 - For the more curious\n",
    "\n",
    "This notebook is not an exhaustive exploration of this topic. Here is some curated material if you want to learn more:\n",
    "* [Sklearn - Regression metrics](https://scikit-learn.org/stable/modules/model_evaluation.html#regression-metrics)\n",
    "* [H2O.ai - Regression metrics’ guide](https://www.h2o.ai/blog/regression-metrics-guide/)"
   ]
  }
 ],
 "metadata": {
  "kernelspec": {
   "display_name": "Python 3 (ipykernel)",
   "language": "python",
   "name": "python3"
  },
  "language_info": {
   "codemirror_mode": {
    "name": "ipython",
    "version": 3
   },
   "file_extension": ".py",
   "mimetype": "text/x-python",
   "name": "python",
   "nbconvert_exporter": "python",
   "pygments_lexer": "ipython3",
   "version": "3.12.11"
  },
  "widgets": {
   "application/vnd.jupyter.widget-state+json": {
    "state": {},
    "version_major": 2,
    "version_minor": 0
   }
  }
 },
 "nbformat": 4,
 "nbformat_minor": 4
}
