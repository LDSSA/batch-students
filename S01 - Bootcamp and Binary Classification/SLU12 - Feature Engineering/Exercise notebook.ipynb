{
 "cells": [
  {
   "cell_type": "markdown",
   "metadata": {
    "deletable": false,
    "editable": false,
    "nbgrader": {
     "grade": false,
     "grade_id": "cell-f16e3dd76b298ad4",
     "locked": true,
     "schema_version": 3,
     "solution": false
    },
    "slideshow": {
     "slide_type": ""
    },
    "tags": []
   },
   "source": [
    "# SLU12 - Feature Engineering: Exercises notebook"
   ]
  },
  {
   "cell_type": "markdown",
   "metadata": {
    "deletable": false,
    "editable": false,
    "nbgrader": {
     "grade": false,
     "grade_id": "cell-de4512a037d6b7ce",
     "locked": true,
     "schema_version": 3,
     "solution": false
    },
    "slideshow": {
     "slide_type": ""
    },
    "tags": []
   },
   "source": [
    "In this exercise notebook, we will be using a dataset from Zomato, adapted from [here](https://github.com/MehtaShruti/Zomato-Restaurants-Recommendations)."
   ]
  },
  {
   "cell_type": "code",
   "execution_count": null,
   "metadata": {
    "deletable": false,
    "editable": false,
    "nbgrader": {
     "grade": false,
     "grade_id": "cell-159bcb71f42e3691",
     "locked": true,
     "schema_version": 3,
     "solution": false
    },
    "slideshow": {
     "slide_type": ""
    },
    "tags": []
   },
   "outputs": [],
   "source": [
    "import pandas as pd\n",
    "import numpy as np\n",
    "import matplotlib.pyplot as plt\n",
    "from sklearn.preprocessing import KBinsDiscretizer, Binarizer, MinMaxScaler, StandardScaler, RobustScaler\n",
    "import category_encoders as ce\n",
    "import json\n",
    "import hashlib\n",
    "\n",
    "plt.rcParams[\"figure.figsize\"] = [5.6, 4.2]"
   ]
  },
  {
   "cell_type": "code",
   "execution_count": null,
   "metadata": {
    "deletable": false,
    "editable": false,
    "nbgrader": {
     "grade": false,
     "grade_id": "cell-a80fd7ba1d379084",
     "locked": true,
     "schema_version": 3,
     "solution": false,
     "task": false
    },
    "slideshow": {
     "slide_type": ""
    },
    "tags": []
   },
   "outputs": [],
   "source": [
    "data = pd.read_csv('data/zomato.csv').convert_dtypes()\n",
    "data.head()"
   ]
  },
  {
   "cell_type": "markdown",
   "metadata": {
    "deletable": false,
    "editable": false,
    "nbgrader": {
     "grade": false,
     "grade_id": "cell-bfbb70beb9c1e04b",
     "locked": true,
     "schema_version": 3,
     "solution": false,
     "task": false
    }
   },
   "source": [
    "These are the dataset's fields:\n",
    "\n",
    "- **Restaurant Name** - the name of the restaurant\n",
    "- **City** - the name of the city where the restaurant is located\n",
    "- **Cuisines** - the type of cuisine served in the restaurant\n",
    "- **Average Cost for two** - self explanatory (as when scraped)\n",
    "- **Has Table booking** - Yes or No\n",
    "- **Has Online delivery** - Yes or No\n",
    "- **Price Range** - prices range from 1 to 4\n",
    "- **Aggregate rating** - the overall user rating of from the app (as when scraped) from 0 to 5\n",
    "- **Rating color** - a rating according to color: White, Red, Orange, Yellow, Green, and Dark Green\n",
    "- **Rating text** - a rating in text values: Not Rated, Poor, Average, Good, Very Good, and Excellent\n",
    "- **Votes** - the number of user reviews for the restaurant (as when scraped)."
   ]
  },
  {
   "cell_type": "markdown",
   "metadata": {
    "deletable": false,
    "editable": false,
    "nbgrader": {
     "grade": false,
     "grade_id": "cell-5b226bc3bf62c0ed",
     "locked": true,
     "schema_version": 3,
     "solution": false
    }
   },
   "source": [
    "The first thing we want to do is to check the dtypes of our features."
   ]
  },
  {
   "cell_type": "code",
   "execution_count": null,
   "metadata": {
    "deletable": false,
    "editable": false,
    "nbgrader": {
     "grade": false,
     "grade_id": "cell-f632f5b88c090ec1",
     "locked": true,
     "schema_version": 3,
     "solution": false
    },
    "slideshow": {
     "slide_type": ""
    },
    "tags": []
   },
   "outputs": [],
   "source": [
    "data.dtypes"
   ]
  },
  {
   "cell_type": "markdown",
   "metadata": {
    "deletable": false,
    "editable": false,
    "nbgrader": {
     "grade": false,
     "grade_id": "cell-2539330ad7ffa6a7",
     "locked": true,
     "schema_version": 3,
     "solution": false
    },
    "slideshow": {
     "slide_type": ""
    },
    "tags": []
   },
   "source": [
    "### Exercise 1: Convert fields into category dtype\n",
    "\n",
    "The fields `Cuisines` and `Rating text` are of dtype `string` but can be converted into dtype `category` as explained in the Learning Notebook. Moreover:\n",
    "* `Cuisines` is a *nominal* categorical field, that is, without any meaningful order;\n",
    "* `Rating text` is an *ordinal* categorical field, as its values have a natural order.\n",
    "\n",
    "Implement a function that converts both fields into dtype `category`. For the field `Rating text`, assign a natural order (the order shown in the field description above) to its categories. "
   ]
  },
  {
   "cell_type": "code",
   "execution_count": null,
   "metadata": {
    "deletable": false,
    "editable": true,
    "nbgrader": {
     "grade": false,
     "grade_id": "cell-3e4465f2a536b366",
     "locked": false,
     "schema_version": 3,
     "solution": true
    },
    "slideshow": {
     "slide_type": ""
    },
    "tags": []
   },
   "outputs": [],
   "source": [
    "def convert_categorical_features(X, nominal_feat='Cuisines', ordinal_feat='Rating text'):\n",
    "    \"\"\"\n",
    "    Converts features to categoricals.\n",
    "\n",
    "    Args:\n",
    "        X (pd.Dataframe): dataframe containing the features\n",
    "        nominal_feat (string): name of the column to be converted to a nominal categorical\n",
    "        ordinal_feat (string): name of the column to be converted to an ordinal categorical\n",
    "    Returns:\n",
    "        X_s (pd.Dataframe): dataframe with converted features\n",
    "    \"\"\"\n",
    "\n",
    "    X_s = X.copy()\n",
    "      \n",
    "    # YOUR CODE HERE\n",
    "    raise NotImplementedError()\n",
    "    \n",
    "    return X_s"
   ]
  },
  {
   "cell_type": "code",
   "execution_count": null,
   "metadata": {
    "deletable": false,
    "editable": false,
    "nbgrader": {
     "grade": true,
     "grade_id": "cell-0c9076faa5559934",
     "locked": true,
     "points": 4,
     "schema_version": 3,
     "solution": false
    },
    "slideshow": {
     "slide_type": ""
    },
    "tags": []
   },
   "outputs": [],
   "source": [
    "data = pd.read_csv('data/zomato.csv').convert_dtypes()\n",
    "X_cat_conv = convert_categorical_features(data).sort_index()\n",
    "assert isinstance(X_cat_conv,pd.DataFrame), 'The output should be a pandas dataframe.'\n",
    "assert X_cat_conv.shape == data.shape, 'The shape of the resulting dataframe is not correct.'\n",
    "assert hashlib.sha256(json.dumps(''.join(X_cat_conv['Cuisines'].cat.categories)).encode()).hexdigest() == \\\n",
    "'875db838974d741147364c1ae990394a17f116f71a6416d7f18a963bb9c2f32e', 'The categories in the Cuisines column are not correct.'\n",
    "assert hashlib.sha256(json.dumps(''.join(X_cat_conv['Cuisines'])).encode()).hexdigest() == \\\n",
    "'91289e66b5cdfe2d43b27292b3aab447277b6b580347eb3c02f8fc5dc631beed', 'The column Cuisines is not converted correctly.'\n",
    "assert hashlib.sha256(json.dumps(''.join(X_cat_conv['Rating text'].cat.categories)).encode()).hexdigest() == \\\n",
    "'07b1f6b0b1036161f4a66541aaf088334abc844d809c1e8dbe12dd823a5c8ef2', 'The categories in the `Rating text` column are not correct.'\n",
    "assert hashlib.sha256(json.dumps(''.join(X_cat_conv['Rating text'])).encode()).hexdigest() == \\\n",
    "'4d5368da2c1a897e85fce3a6cf80c3d0feefefee8f6da916aecd0f9e2f7dca6b', 'The column Rating text is not converted correctly.'"
   ]
  },
  {
   "cell_type": "markdown",
   "metadata": {
    "deletable": false,
    "editable": false,
    "nbgrader": {
     "grade": false,
     "grade_id": "cell-f6205d6051af0550",
     "locked": true,
     "schema_version": 3,
     "solution": false,
     "task": false
    }
   },
   "source": [
    "### Exercise 2: Encode a binary field\n",
    "Implement a function that encodes the column `Has Table booking` to `1`, when a restaurant has a table booking; encode the column to `0`, when it doesn't. Use the `map` method for the encoding."
   ]
  },
  {
   "cell_type": "code",
   "execution_count": null,
   "metadata": {
    "deletable": false,
    "editable": true,
    "nbgrader": {
     "grade": false,
     "grade_id": "cell-ec7b5600256b7523",
     "locked": false,
     "schema_version": 3,
     "solution": true
    },
    "slideshow": {
     "slide_type": ""
    },
    "tags": []
   },
   "outputs": [],
   "source": [
    "def encode_binary_field(f):\n",
    "    \"\"\"\n",
    "    Binarizes the provides series.\n",
    "\n",
    "    Args:\n",
    "        f (pd.Series): series to be binarized\n",
    "    Returns:\n",
    "        f_e (pd.Series): binarized series\n",
    "    \"\"\"\n",
    "\n",
    "    f_e = f.copy()\n",
    "    \n",
    "    # YOUR CODE HERE\n",
    "    raise NotImplementedError()\n",
    "    \n",
    "    return f_e"
   ]
  },
  {
   "cell_type": "code",
   "execution_count": null,
   "metadata": {
    "deletable": false,
    "editable": false,
    "nbgrader": {
     "grade": true,
     "grade_id": "cell-a63ec6dac3b0a300",
     "locked": true,
     "points": 2,
     "schema_version": 3,
     "solution": false
    },
    "slideshow": {
     "slide_type": ""
    },
    "tags": []
   },
   "outputs": [],
   "source": [
    "data = pd.read_csv('data/zomato.csv').convert_dtypes()\n",
    "f_encoded = encode_binary_field(data['Has Table booking']).sort_index()\n",
    "assert isinstance(f_encoded,pd.Series), 'The output should be a pandas series.'\n",
    "assert f_encoded.shape == data['Has Table booking'].shape, 'The shape of the encoded series is not correct.'\n",
    "assert f_encoded.dtype==int, 'The data type of the converted column is not correct.'\n",
    "assert hashlib.sha256(json.dumps(''.join(f_encoded.astype(str))).encode()).hexdigest() == \\\n",
    "'f0d67268c35fdc5ae2780045cb6548bca5b45a4334291d57ad3238ed924f7bc6', 'The values in the converted column are not correct.'"
   ]
  },
  {
   "cell_type": "markdown",
   "metadata": {
    "deletable": false,
    "editable": false,
    "nbgrader": {
     "grade": false,
     "grade_id": "cell-1e0697ce8670cf79",
     "locked": true,
     "schema_version": 3,
     "solution": false
    }
   },
   "source": [
    "### Exercise 3: Discretize the `Votes` field\n",
    "\n",
    "The field `Votes` is an integer variable with a distribution which is, not surprisingly, very skewed to the left (remember *skewness* from SLU04?)."
   ]
  },
  {
   "cell_type": "code",
   "execution_count": null,
   "metadata": {
    "deletable": false,
    "editable": false,
    "nbgrader": {
     "grade": false,
     "grade_id": "cell-ada360e54d9bf9ea",
     "locked": true,
     "schema_version": 3,
     "solution": false
    },
    "slideshow": {
     "slide_type": ""
    },
    "tags": []
   },
   "outputs": [],
   "source": [
    "data['Votes'].plot.hist(bins=100, figsize=(10,4.2));\n",
    "plt.xlabel('Votes');\n",
    "print(\"The field 'Votes' ranges from\", data['Votes'].min(), \"to\", data['Votes'].max())"
   ]
  },
  {
   "cell_type": "markdown",
   "metadata": {
    "deletable": false,
    "editable": false,
    "nbgrader": {
     "grade": false,
     "grade_id": "cell-56a34dbfc823d4de",
     "locked": true,
     "schema_version": 3,
     "solution": false
    },
    "slideshow": {
     "slide_type": ""
    },
    "tags": []
   },
   "source": [
    "We will deal with the skewness in a bit. Let's first discretize this field in two ways:\n",
    "* create a new field called `discrete_votes` which is the discretization of the `Votes` field, such that the range is between 0 and 49 and the bins are of equal size;\n",
    "* create a new field called `binary_votes` which is the binarization of the `Votes` field, such that amounts up to `100` become `0` and amounts greater than `100` become 1.\n",
    "\n",
    "Implement it in the function below using the `sklearn` transformers."
   ]
  },
  {
   "cell_type": "code",
   "execution_count": null,
   "metadata": {
    "deletable": false,
    "editable": true,
    "nbgrader": {
     "grade": false,
     "grade_id": "cell-4720ba22be810107",
     "locked": false,
     "schema_version": 3,
     "solution": true,
     "task": false
    },
    "slideshow": {
     "slide_type": ""
    },
    "tags": []
   },
   "outputs": [],
   "source": [
    "def discretize_votes(X):\n",
    "    \"\"\"\n",
    "    Discretized the Votes column from the provided dataframe in two ways, \n",
    "    creating two new columns 'discrete_votes' and 'binary_votes'.\n",
    "    discrete_votes: discretization to 0-49 with equally sized bins\n",
    "    binary_votes: binarization with a cut off at 100\n",
    "\n",
    "    Args:\n",
    "        X (pd.DataFrame): dataframe with the data to be discretized\n",
    "    Returns:\n",
    "        X_a (pd.DataFrame): dataframe with the new discretized columns\n",
    "    \"\"\"\n",
    "\n",
    "    X_a = X.copy()\n",
    "    \n",
    "    # YOUR CODE HERE\n",
    "    raise NotImplementedError()\n",
    "    \n",
    "    return X_a"
   ]
  },
  {
   "cell_type": "code",
   "execution_count": null,
   "metadata": {
    "deletable": false,
    "editable": false,
    "nbgrader": {
     "grade": true,
     "grade_id": "cell-3857c30743a25a50",
     "locked": true,
     "points": 4,
     "schema_version": 3,
     "solution": false
    },
    "slideshow": {
     "slide_type": ""
    },
    "tags": []
   },
   "outputs": [],
   "source": [
    "data = pd.read_csv('data/zomato.csv').convert_dtypes()\n",
    "X_votes = discretize_votes(data)\n",
    "assert isinstance(X_votes,pd.DataFrame), 'The output should be a pandas dataframe.'\n",
    "assert X_votes.shape == (data.shape[0],data.shape[1]+2), 'The shape of the resulting dataframe is not correct.'\n",
    "assert 'discrete_votes' in X_votes.columns, 'The discrete_votes column is missing.'\n",
    "assert 'binary_votes' in X_votes.columns, 'The binary_votes column is missing.'\n",
    "assert hashlib.sha256(json.dumps(''.join(X_votes['binary_votes'].astype(str))).encode()).hexdigest() == \\\n",
    "'3968711c9ae79545ed0b26f8b95c590a0f9670f3bdf341b1f6ff654bf011095e', 'The binary_votes column is not encoded correctly.'\n",
    "assert hashlib.sha256(json.dumps(''.join(X_votes['discrete_votes'].astype(str))).encode()).hexdigest() == \\\n",
    "'75d872b9a4c7df92e760c8e1b02b7451c1797cfac1b1546ae9586699d08903a9', 'The discrete_votes column is not encoded correctly.'"
   ]
  },
  {
   "cell_type": "markdown",
   "metadata": {
    "deletable": false,
    "editable": false,
    "nbgrader": {
     "grade": false,
     "grade_id": "cell-4f4af6d4de3c102a",
     "locked": true,
     "schema_version": 3,
     "solution": false
    }
   },
   "source": [
    "Check the distribution of the two new fields you just calculated:"
   ]
  },
  {
   "cell_type": "code",
   "execution_count": null,
   "metadata": {
    "deletable": false,
    "editable": false,
    "nbgrader": {
     "grade": false,
     "grade_id": "cell-1f012f6fda3c3232",
     "locked": true,
     "schema_version": 3,
     "solution": false
    },
    "slideshow": {
     "slide_type": ""
    },
    "tags": []
   },
   "outputs": [],
   "source": [
    "X_votes.discrete_votes.plot.hist(bins=50, figsize=(10,4.2));\n",
    "plt.xlabel('discrete_votes');\n",
    "plt.title('Votes after discretization');"
   ]
  },
  {
   "cell_type": "code",
   "execution_count": null,
   "metadata": {
    "deletable": false,
    "editable": false,
    "nbgrader": {
     "grade": false,
     "grade_id": "cell-3db8e7b9b4ab0a02",
     "locked": true,
     "schema_version": 3,
     "solution": false
    },
    "slideshow": {
     "slide_type": ""
    },
    "tags": []
   },
   "outputs": [],
   "source": [
    "X_votes.binary_votes.plot.hist();\n",
    "plt.xlabel('binary_votes');\n",
    "plt.title('Votes after binarization');"
   ]
  },
  {
   "cell_type": "markdown",
   "metadata": {
    "deletable": false,
    "editable": false,
    "nbgrader": {
     "grade": false,
     "grade_id": "cell-c24bc27b2866af9d",
     "locked": true,
     "schema_version": 3,
     "solution": false
    },
    "slideshow": {
     "slide_type": ""
    },
    "tags": []
   },
   "source": [
    "### Exercise 4: Scale the `Votes` field\n",
    "\n",
    "In the Learning Notebook, you also learned that numerical data can be scaled. \n",
    "\n",
    "In the function below, implement the scaling of the field `Votes` in three different ways:\n",
    "* create a new field called `minmaxscaled_votes` which scales the `Votes` field to the range \\[0,1\\];\n",
    "* create a new field called `standardscaled_votes` which scales the `Votes` field such that the *mean* is 0 and the standard deviation is 1;\n",
    "* create a new field called `robustscaled_votes` which scales the `Votes` field such that the *median* is 0 and it is scaled according to the Interquartile Range."
   ]
  },
  {
   "cell_type": "code",
   "execution_count": null,
   "metadata": {
    "deletable": false,
    "editable": true,
    "nbgrader": {
     "grade": false,
     "grade_id": "cell-448ce1f0353e6cb8",
     "locked": false,
     "schema_version": 3,
     "solution": true
    },
    "slideshow": {
     "slide_type": ""
    },
    "tags": []
   },
   "outputs": [],
   "source": [
    "def scale_votes(X):\n",
    "    \"\"\"\n",
    "    Scales the Votes field from the provided dataframe in three different ways,\n",
    "    creating three new columns:\n",
    "    minmaxscaled_votes: scaled to range [0,1]\n",
    "    standardscaled_votes: scaled to mean 0 and stdev 1\n",
    "    robustscaled_votes: scaled to median 0 and according to the IQR\n",
    "\n",
    "    Args:\n",
    "        X (pd.DataFrame): dataframe with the data to be scaled\n",
    "    Returns:\n",
    "        X_s (pd.DataFrame): dataframe with the new scaled columns\n",
    "    \"\"\"\n",
    "    X_s = X.copy()\n",
    "    \n",
    "    # YOUR CODE HERE\n",
    "    raise NotImplementedError()\n",
    "    \n",
    "    return X_s"
   ]
  },
  {
   "cell_type": "code",
   "execution_count": null,
   "metadata": {
    "deletable": false,
    "editable": false,
    "nbgrader": {
     "grade": true,
     "grade_id": "cell-4d170aec616b4864",
     "locked": true,
     "points": 3,
     "schema_version": 3,
     "solution": false
    },
    "slideshow": {
     "slide_type": ""
    },
    "tags": []
   },
   "outputs": [],
   "source": [
    "data = pd.read_csv('data/zomato.csv').convert_dtypes()\n",
    "X_scaled = scale_votes(data)\n",
    "assert isinstance(X_scaled,pd.DataFrame), 'The output should be a pandas dataframe.'\n",
    "assert X_scaled.shape == (data.shape[0],data.shape[1]+3), 'The shape of the resulting dataframe is not correct.'\n",
    "assert 'minmaxscaled_votes' in X_scaled.columns, 'The minmaxscaled_votes column is missing.'\n",
    "assert 'standardscaled_votes' in X_scaled.columns, 'The standardscaled_votes column is missing.'\n",
    "assert 'robustscaled_votes' in X_scaled.columns, 'The robustscaled_votes column is missing.'\n",
    "assert X_scaled.minmaxscaled_votes.dtype==float, 'The data type of the minmaxscaled_votes column is not correct.'\n",
    "assert X_scaled.standardscaled_votes.dtype==float, 'The data type of the standardscaled_votes column is not correct.'\n",
    "assert X_scaled.robustscaled_votes.dtype==float, 'The data type of the robustscaled_votes column is not correct.'\n",
    "assert X_scaled.minmaxscaled_votes.min() == 0 , 'The minmaxscaled_votes column is not scaled properly.'\n",
    "assert X_scaled.minmaxscaled_votes.max() == 1, 'The minmaxscaled_votes column is not scaled properly.'\n",
    "np.testing.assert_almost_equal(X_scaled.minmaxscaled_votes.sum(), 108.57536125845985, decimal=3, \n",
    "                               err_msg='The minmaxscaled_votes column is not scaled properly.')\n",
    "np.testing.assert_almost_equal(X_scaled.standardscaled_votes.mean(), 0.0, \n",
    "                               err_msg='The standardscaled_votes column is not scaled properly.')\n",
    "np.testing.assert_almost_equal(X_scaled.standardscaled_votes.var(), 1.0, decimal=3, \n",
    "                               err_msg='The standardscaled_votes column is not scaled properly.')\n",
    "np.testing.assert_almost_equal(X_scaled.robustscaled_votes.median(), 0.0,\n",
    "                               err_msg='The robustscaled_votes column is not scaled properly.')\n",
    "np.testing.assert_almost_equal(X_scaled.robustscaled_votes.var(), 19.880, decimal=3,\n",
    "                               err_msg='The robustscaled_votes column is not scaled properly.')\n",
    "np.testing.assert_almost_equal(X_scaled.robustscaled_votes.sum(), 10203.281, decimal=3,\n",
    "                               err_msg='The robustscaled_votes column is not scaled properly.')"
   ]
  },
  {
   "cell_type": "markdown",
   "metadata": {
    "deletable": false,
    "editable": false,
    "nbgrader": {
     "grade": false,
     "grade_id": "cell-5edff988face2155",
     "locked": true,
     "schema_version": 3,
     "solution": false
    }
   },
   "source": [
    "Plot the distributions for the new fields you just calculated. We're using the log scale so that you can better see the less frequent bins."
   ]
  },
  {
   "cell_type": "code",
   "execution_count": null,
   "metadata": {
    "deletable": false,
    "editable": false,
    "nbgrader": {
     "grade": false,
     "grade_id": "cell-8f8b2b454c57ba3b",
     "locked": true,
     "schema_version": 3,
     "solution": false
    },
    "slideshow": {
     "slide_type": ""
    },
    "tags": []
   },
   "outputs": [],
   "source": [
    "X_scaled.minmaxscaled_votes.plot.hist(bins=50, figsize=(10,4.2), log=True);\n",
    "plt.xlabel('minmaxscaled_votes');\n",
    "plt.title('Votes after min-max scaling');"
   ]
  },
  {
   "cell_type": "code",
   "execution_count": null,
   "metadata": {
    "deletable": false,
    "editable": false,
    "nbgrader": {
     "grade": false,
     "grade_id": "cell-a6f75a8f36bac1f7",
     "locked": true,
     "schema_version": 3,
     "solution": false
    },
    "slideshow": {
     "slide_type": ""
    },
    "tags": []
   },
   "outputs": [],
   "source": [
    "X_scaled.standardscaled_votes.plot.hist(bins=50, figsize=(10,4.2), log=True);\n",
    "plt.xlabel('standardscaled_votes');\n",
    "plt.title('Votes after standard scaling');"
   ]
  },
  {
   "cell_type": "code",
   "execution_count": null,
   "metadata": {
    "deletable": false,
    "editable": false,
    "nbgrader": {
     "grade": false,
     "grade_id": "cell-de46ac280a117e0c",
     "locked": true,
     "schema_version": 3,
     "solution": false
    },
    "slideshow": {
     "slide_type": ""
    },
    "tags": []
   },
   "outputs": [],
   "source": [
    "X_scaled.robustscaled_votes.plot.hist(bins=50, figsize=(10,4.2), log=True);\n",
    "plt.xlabel('robustscaled_votes');\n",
    "plt.title('Votes after robust scaling');"
   ]
  },
  {
   "cell_type": "markdown",
   "metadata": {
    "deletable": false,
    "editable": false,
    "nbgrader": {
     "grade": false,
     "grade_id": "cell-50b3ebb9dc35d4ff",
     "locked": true,
     "schema_version": 3,
     "solution": false,
     "task": false
    }
   },
   "source": [
    "Compare to the original Votes distribution:"
   ]
  },
  {
   "cell_type": "code",
   "execution_count": null,
   "metadata": {
    "deletable": false,
    "editable": false,
    "nbgrader": {
     "grade": false,
     "grade_id": "cell-78d40b2b94c346dd",
     "locked": true,
     "schema_version": 3,
     "solution": false,
     "task": false
    },
    "slideshow": {
     "slide_type": ""
    },
    "tags": []
   },
   "outputs": [],
   "source": [
    "X_scaled.Votes.plot.hist(bins=30, figsize=(10,4.2), log=True);\n",
    "plt.xlabel('Votes');\n",
    "plt.title('Unscaled Votes');"
   ]
  },
  {
   "cell_type": "markdown",
   "metadata": {
    "deletable": false,
    "editable": false,
    "nbgrader": {
     "grade": false,
     "grade_id": "cell-99f58c18d48c5f61",
     "locked": true,
     "schema_version": 3,
     "solution": false
    },
    "slideshow": {
     "slide_type": ""
    },
    "tags": []
   },
   "source": [
    "### Exercise 5: Ordinal encode the `Rating text` feature\n",
    "\n",
    "Finally, let's deal with the categorical features.\n",
    "\n",
    "In the function below, create a new field called `rating_text_encoded` which is the result of ordinal encoding of the `Rating text` feature."
   ]
  },
  {
   "cell_type": "code",
   "execution_count": null,
   "metadata": {
    "deletable": false,
    "editable": true,
    "nbgrader": {
     "grade": false,
     "grade_id": "cell-19c253c171a6330a",
     "locked": false,
     "schema_version": 3,
     "solution": true
    },
    "slideshow": {
     "slide_type": ""
    },
    "tags": []
   },
   "outputs": [],
   "source": [
    "def encode_rating_text(X):\n",
    "    \"\"\"\n",
    "    Ordinal encodes the 'Rating text' column of the provided dataframe,\n",
    "    creating a new column rating_text_encoded\n",
    "\n",
    "    Args:\n",
    "        X (pd.DataFrame): dataframe with the data to be encoded\n",
    "    Returns:\n",
    "        X_r (pd.DataFrame): dataframe with the new encoded column\n",
    "    \"\"\"\n",
    "    X_r = X.copy()\n",
    "    \n",
    "    # YOUR CODE HERE\n",
    "    raise NotImplementedError()\n",
    "    \n",
    "    return X_r"
   ]
  },
  {
   "cell_type": "code",
   "execution_count": null,
   "metadata": {
    "deletable": false,
    "editable": false,
    "nbgrader": {
     "grade": true,
     "grade_id": "cell-1c3c0246ee35e543",
     "locked": true,
     "points": 3,
     "schema_version": 3,
     "solution": false
    },
    "slideshow": {
     "slide_type": ""
    },
    "tags": []
   },
   "outputs": [],
   "source": [
    "data = pd.read_csv('data/zomato.csv').convert_dtypes()\n",
    "X_rating_text = encode_rating_text(data)\n",
    "assert isinstance(X_rating_text,pd.DataFrame), 'The output should be a pandas dataframe.'\n",
    "assert X_rating_text.shape == (data.shape[0],data.shape[1]+1), 'The shape of the resulting dataframe is not correct.'\n",
    "assert 'rating_text_encoded' in X_rating_text.columns, 'The rating_text_encoded column is missing.'\n",
    "assert hashlib.sha256(json.dumps(''.join(X_rating_text.rating_text_encoded.astype(str))).encode()).hexdigest() == \\\n",
    "'5d490edf92c8fdc35e465f10e2cd80b1dcb912377503e04ba8f90fb4d9733fbd', 'The rating_text_encoded column is not encoded correctly.'"
   ]
  },
  {
   "cell_type": "markdown",
   "metadata": {
    "deletable": false,
    "editable": false,
    "nbgrader": {
     "grade": false,
     "grade_id": "cell-99f58c18d48c5f62",
     "locked": true,
     "schema_version": 3,
     "solution": false
    },
    "slideshow": {
     "slide_type": ""
    },
    "tags": []
   },
   "source": [
    "### Exercise 6: One-hot encode the `Cuisines` feature\n",
    "\n",
    "Finally, implement a one-hot encoding of the `Cuisines` feature in the function below. Pay attention to the following points:\n",
    "* return the original DataFrame `X` with the `Cuisines` feature replaced by the new ones resulting from the one-hot encoding;\n",
    "* the new features should be named as `Cuisines_category`, where `category` takes up the values of the categories of the `Cuisines` feature.\n",
    "* there should be an extra category for unknown features"
   ]
  },
  {
   "cell_type": "code",
   "execution_count": null,
   "metadata": {
    "deletable": false,
    "editable": true,
    "nbgrader": {
     "grade": false,
     "grade_id": "cell-19c253c171a6330b",
     "locked": false,
     "schema_version": 3,
     "solution": true
    },
    "slideshow": {
     "slide_type": ""
    },
    "tags": []
   },
   "outputs": [],
   "source": [
    "def encode_cuisines(X):\n",
    "    \"\"\"\n",
    "    One-hot encodes the Cuisines column of the provided dataframe,\n",
    "    creating a new columns for each category.\n",
    "\n",
    "    Args:\n",
    "        X (pd.DataFrame): dataframe with the data to be encoded\n",
    "    Returns:\n",
    "        X_t (pd.DataFrame): dataframe with the original column replaced by the new encoded columns\n",
    "    \"\"\"\n",
    "    X_t = X.copy()\n",
    "    \n",
    "    # YOUR CODE HERE\n",
    "    raise NotImplementedError()\n",
    "    \n",
    "    return X_t"
   ]
  },
  {
   "cell_type": "code",
   "execution_count": null,
   "metadata": {
    "deletable": false,
    "editable": false,
    "nbgrader": {
     "grade": true,
     "grade_id": "cell-1c3c0246ee35e543b",
     "locked": true,
     "points": 4,
     "schema_version": 3,
     "solution": false
    },
    "slideshow": {
     "slide_type": ""
    },
    "tags": []
   },
   "outputs": [],
   "source": [
    "data = pd.read_csv('data/zomato.csv').convert_dtypes()\n",
    "X_cuisines = encode_cuisines(data)\n",
    "assert isinstance(X_cuisines,pd.DataFrame), 'The output should be a pandas dataframe.'\n",
    "assert X_cuisines.shape == (data.shape[0],data.shape[1]+len(data.Cuisines.unique())), \\\n",
    "'The shape of the resulting dataframe is not correct.'\n",
    "assert sum([j in X_cuisines.columns for j in ['Cuisines_'+i for i in data.Cuisines.unique()]])==len(data.Cuisines.unique()), \\\n",
    "'Some of the expected new columns are missing.'\n",
    "assert 'Cuisines_-1' in X_cuisines.columns, 'The feature for unseen categories is missing.'\n",
    "assert X_cuisines[[i for i in X_cuisines.columns if i.startswith('Cuisines_')]].max(axis=None)==1, \\\n",
    "'The newly created columns are not encoded correctly.'\n",
    "assert X_cuisines[[i for i in X_cuisines.columns if i.startswith('Cuisines_')]].min(axis=None)==0, \\\n",
    "'The newly created columns are not encoded correctly.'\n",
    "assert X_cuisines[[i for i in X_cuisines.columns if i.startswith('Cuisines_')]].sum().sum()==8652, \\\n",
    "'The newly created columns are not encoded correctly.'"
   ]
  },
  {
   "cell_type": "markdown",
   "metadata": {
    "deletable": false,
    "editable": false,
    "nbgrader": {
     "grade": false,
     "grade_id": "cell-9dae224d1e9d267c",
     "locked": true,
     "schema_version": 3,
     "solution": false,
     "task": false
    },
    "slideshow": {
     "slide_type": ""
    },
    "tags": []
   },
   "source": [
    "Congratulations! You made it to the end of another exercise notebook. You win a Tesseract.\n",
    "\n",
    "<img src='media/8-cell-simple.gif' title='By JasonHise at English Wikipedia - Transferred from en.wikipedia to Commons., Public Domain, https://commons.wikimedia.org/w/index.php?curid=1724044'>"
   ]
  }
 ],
 "metadata": {
  "kernelspec": {
   "display_name": "Python 3 (ipykernel)",
   "language": "python",
   "name": "python3"
  },
  "language_info": {
   "codemirror_mode": {
    "name": "ipython",
    "version": 3
   },
   "file_extension": ".py",
   "mimetype": "text/x-python",
   "name": "python",
   "nbconvert_exporter": "python",
   "pygments_lexer": "ipython3",
   "version": "3.12.11"
  },
  "varInspector": {
   "cols": {
    "lenName": 16,
    "lenType": 16,
    "lenVar": 40
   },
   "kernels_config": {
    "python": {
     "delete_cmd_postfix": "",
     "delete_cmd_prefix": "del ",
     "library": "var_list.py",
     "varRefreshCmd": "print(var_dic_list())"
    },
    "r": {
     "delete_cmd_postfix": ") ",
     "delete_cmd_prefix": "rm(",
     "library": "var_list.r",
     "varRefreshCmd": "cat(var_dic_list()) "
    }
   },
   "types_to_exclude": [
    "module",
    "function",
    "builtin_function_or_method",
    "instance",
    "_Feature"
   ],
   "window_display": false
  },
  "widgets": {
   "application/vnd.jupyter.widget-state+json": {
    "state": {},
    "version_major": 2,
    "version_minor": 0
   }
  }
 },
 "nbformat": 4,
 "nbformat_minor": 4
}
