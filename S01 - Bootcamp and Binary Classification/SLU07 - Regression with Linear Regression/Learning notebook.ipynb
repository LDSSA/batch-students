{
 "cells": [
  {
   "cell_type": "markdown",
   "metadata": {},
   "source": [
    "# SLU7 - Regression with Linear Regression: Learning notebook\n",
    "\n",
    "In this notebook we will cover the following topics:\n",
    "\n",
    "    - What is regression\n",
    "    - Simple Linear Regression and Multiple Linear Regression\n",
    "    - Mean Squared Error and Error Measure\n",
    "    - Closed Form Solution - Ordinary Least Squares\n",
    "    - How to apply Linear Regression using Scikit-learn\n",
    "    - Gradient Descent\n",
    "\n",
    "Hopefully you still remember vectors, matrices, and NumPy from prep course units 12 and 13 😉."
   ]
  },
  {
   "cell_type": "code",
   "execution_count": 1,
   "metadata": {},
   "outputs": [],
   "source": [
    "import numpy as np\n",
    "import matplotlib.pyplot as plt\n",
    "import pandas as pd\n",
    "from ipywidgets import interact, interactive, fixed, interact_manual\n",
    "from ipywidgets import FloatSlider, Dropdown\n",
    "import ipywidgets as widgets\n",
    "from sklearn.datasets import load_diabetes\n",
    "\n",
    "plt.rcParams[\"figure.figsize\"]=(4.8, 3.6)"
   ]
  },
  {
   "cell_type": "markdown",
   "metadata": {},
   "source": [
    "## What is regression? \n",
    "\n",
    "Regression is a modeling task intended to create a (linear or non-linear) map between the **independent variables** (i.e. the columns in your pandas dataframe) and a set of **continuous dependent variables** (i.e. the variables you want to predict) by using a set of **parameters** (which will be estimated).\n",
    "\n",
    "**Examples of regression tasks:**\n",
    "\n",
    "* Predicting house prices (example range: \\[ 100k €; 500k € \\]);\n",
    "* Predicting the rating that a user would assign to a movie (example range: [1 star; 7 stars]); \n",
    "* Predicting the total sales for each day in each shop of a shopping mall;\n",
    "* Predicting emotional descriptors for a song;\n",
    "* Predicting the trajectory of a fighter jet.\n",
    "\n",
    "\n",
    "Let's consider the first 3 terms we mentioned through an example.\n",
    "\n",
    "When predicting house prices:\n",
    "* The **independent variables** are the features related to a house, such as the number of rooms, the total area available, the crime rate of the neighborhood, and the number of miles to the closest big city; \n",
    "* The **dependent variable** is the price of the house;\n",
    "* The **parameters** are a set of internal variables that will define how we map the independent and dependent variables together.\n",
    "\n",
    "In order to predict house prices, the regression model will take the independent variables and its internal parameters, perform a sequence of operations with them, and output the predicted prices of the houses.\n",
    "\n",
    "Nowadays, [we have *many* different algorithms we can use to solve this task](https://towardsdatascience.com/house-prices-prediction-using-deep-learning-dea265cc3154), but we'll focus on one of the easiest to understand: **linear regression**. It's one of the most popular regression methods in the world to this day, because it makes it easy (1) to interpret and implement a model and (3) extend the model to deal with datasets with only a few data points and minimal noise and outliers. Remember that noise refers to irrelevant data that obscures patterns in which we're interested and makes our models less accurate. \n",
    "\n",
    "Let's explore how **simple linear regression** works."
   ]
  },
  {
   "cell_type": "markdown",
   "metadata": {},
   "source": [
    "![easy](media/lets_do_it.gif)"
   ]
  },
  {
   "cell_type": "markdown",
   "metadata": {},
   "source": [
    "## 1 - Simple Linear Regression\n",
    "\n",
    "The simple linear regression model we're going to use here has only one feature. Consider this equation: \n",
    "\n",
    "$$\\hat{y} = \\beta_0 + \\beta_1 \\cdot x$$\n",
    "\n",
    "* $\\hat{y}$ are the values predicted by the model; \n",
    "* $x$ are the values of the input feature for each data point; \n",
    "* $\\beta_0$, usually called the *intercept*, is the y-axis value where $x=0$; \n",
    "* $\\beta_1$, usually called the *coefficient*, tells you how much $\\hat{y}$ changes when $x$ changes.\n",
    "\n",
    "Note that both $\\hat{y}$ and $x$ are vectors.\n",
    "\n",
    "The relationship between $x$ and $\\hat{y}$ can be stated as follows: _For each unit you increment in $x$, you increment $\\beta_1$ units in $\\hat{y}$._\n",
    "\n",
    "Let's see an example so we can better understand what all these symbols are about!\n",
    "\n",
    "### 1.1 - House pricing example:\n",
    "\n",
    "For example: \n",
    "\n",
    "$$HousePrice = 1.1 + 4 \\cdot NumberOfRooms$$\n",
    "\n",
    "This equation means that the **price of the house increments by 4 units (e.g. 1 unit = 10000€) each time I add a room to the house**, and that **a house with 0 rooms would have a base price of 1.1 units**."
   ]
  },
  {
   "cell_type": "markdown",
   "metadata": {},
   "source": [
    "### 1.2 - Implementing and visualizing a simple linear model\n",
    "\n",
    "In order to implement the simple linear regression model, we can create a lambda function:"
   ]
  },
  {
   "cell_type": "code",
   "execution_count": 2,
   "metadata": {},
   "outputs": [],
   "source": [
    "linear_regression = lambda x, b0, b1: b0 + b1 * x"
   ]
  },
  {
   "cell_type": "markdown",
   "metadata": {},
   "source": [
    "and then use it by passing some data and parameters into it:"
   ]
  },
  {
   "cell_type": "code",
   "execution_count": 3,
   "metadata": {},
   "outputs": [
    {
     "data": {
      "image/png": "[encoded data removed]",
      "text/plain": [
       "<Figure size 480x360 with 1 Axes>"
      ]
     },
     "metadata": {},
     "output_type": "display_data"
    }
   ],
   "source": [
    "def plot_regression_simple(x, y, xlim, ylim):\n",
    "    origin = (0, 0)\n",
    "\n",
    "    # Set the x-axis and y-axis limits\n",
    "    plt.xlim(xlim)\n",
    "    plt.ylim(ylim)\n",
    "\n",
    "    # Plot axis for better visualization\n",
    "    plt.plot(origin, ylim, 'g:', xlim, origin, 'g:', linewidth=0.4)\n",
    "\n",
    "    # Plot linear model\n",
    "    plt.plot(x, y, 'b')\n",
    "    plt.show()\n",
    "\n",
    "# Base independent data\n",
    "x_lin = np.arange(-10, 10)\n",
    "\n",
    "# Parameters\n",
    "intercept = 0\n",
    "coefficient = 2\n",
    "\n",
    "# Dependent variable\n",
    "y_lin = linear_regression(x_lin, intercept, coefficient)\n",
    "plot_regression_simple(x_lin, y_lin, (-12, 12), (-25, 25))"
   ]
  },
  {
   "cell_type": "markdown",
   "metadata": {},
   "source": [
    "Now, imagine that we want to try out data with noise. Let's load it and visualize its shape:"
   ]
  },
  {
   "cell_type": "code",
   "execution_count": 4,
   "metadata": {},
   "outputs": [
    {
     "data": {
      "image/png": "[encoded data removed]",
      "text/plain": [
       "<Figure size 480x360 with 1 Axes>"
      ]
     },
     "metadata": {},
     "output_type": "display_data"
    }
   ],
   "source": [
    "df = pd.read_csv('data/linear-learning-notebook.csv')\n",
    "df = df.sort_values('x')\n",
    "x_lin_df = df['x'].values\n",
    "y_lin_df = df['y'].values\n",
    "\n",
    "plt.plot(x_lin_df, y_lin_df, 'b.');"
   ]
  },
  {
   "cell_type": "markdown",
   "metadata": {},
   "source": [
    "Clearly, the data looks linear. You can easily see that just by looking at it, right?\n",
    "\n",
    "Use the interactive demo to try it out below:"
   ]
  },
  {
   "cell_type": "code",
   "execution_count": 5,
   "metadata": {},
   "outputs": [
    {
     "data": {
      "application/vnd.jupyter.widget-view+json": {
       "model_id": "8cf46d33e4c7416c964635d24b6cbf9b",
       "version_major": 2,
       "version_minor": 0
      },
      "text/plain": [
       "interactive(children=(FloatSlider(value=0.0, description='b0', max=10.0, min=-10.0, step=0.01), FloatSlider(va…"
      ]
     },
     "metadata": {},
     "output_type": "display_data"
    }
   ],
   "source": [
    "def plot_simple_regression(b0=0, b1=1, xlim=(-5, 5), ylim=(-5, 5)):\n",
    "    y_pred = linear_regression(x_lin_df, b0, b1)\n",
    "    plt.xlim(xlim)\n",
    "    plt.ylim(ylim)\n",
    "    plt.plot(x_lin_df, y_lin_df, 'b.')\n",
    "    plt.plot(x_lin_df, y_pred, 'r-')\n",
    "    plt.plot([0, 0], ylim, 'g-', xlim, [0, 0], 'g-', linewidth=0.4)\n",
    "\n",
    "def simple_linear_regression_manual_demo_1(): \n",
    "    interact(plot_simple_regression, \n",
    "         b0=FloatSlider(min=-10, max=10, step=0.01, value=0), \n",
    "         b1=FloatSlider(min=-3, max=3, step=0.01, value=1), \n",
    "         xlim=fixed((-10, 10)), \n",
    "         ylim=fixed((-10, 10)));\n",
    "\n",
    "simple_linear_regression_manual_demo_1()"
   ]
  },
  {
   "cell_type": "markdown",
   "metadata": {},
   "source": [
    "The green lines represent the x- and y-axis, and the red is the $\\hat{y}$ for each value of $x$. As you can see, if you decrease/increase $\\beta_0$, the value where the red line crosses the y-axis decreases/increases. If you increase/decrease $\\beta_1$, the slope of the line increases/decreases.\n",
    "\n",
    "If you were at all familiar with simple linear models before, this should look too easy to you.\n",
    "\n",
    "![easy](media/easy_peasy.gif)\n",
    "\n",
    "However, even though you've come up with a workable solution, you might notice that there's no way to know precisely how good your results are. You might have a few ideas to tweak this model, but how can you know how much of a difference your changes will actually make? Effectively, you're no better off than when you were just using your mouse in the interactive demo to line up a red line between blue dots. \n",
    "\n",
    "You must be wondering if there's a better way to evaluate your model."
   ]
  },
  {
   "cell_type": "markdown",
   "metadata": {},
   "source": [
    "### 1.3 - Error measure for Linear Regression\n",
    "\n",
    "Here is where error measures come in. By finding a way of measuring the error in our models, we can more easily find models that are less error prone. So, let's dive into it.\n",
    "\n",
    "The main goal is to build a model that generates estimates as close to the data points as possible. If, for each sample $x_i$, our model outputs a value $\\hat{y_i}$ and we know its true value is $y_i$, then we can calculate how much the model is wrong with the following equation:\n",
    "\n",
    "$$ e_i = y_i - \\hat{y_i} $$\n",
    "\n",
    "But this would only consider one sample and, as we know, the observations might contain noise. Therefore, we need to consider all of our observations together, as well as their level of error in aggregate. There are actually several ways of doing this, but the error we will present here is the **mean squared error**, which is a standard error metric used for linear regressions. It's defined as:\n",
    "\n",
    "$$MSE(y, \\hat{y}) = \\frac{1}{N} \\sum_{i=1}^N (y_i - \\hat{y}_i)^2 $$\n",
    "\n",
    "$\\hat{y}$ is the output of our linear model:\n",
    "\n",
    "$$\\hat{y} = \\beta_0 + \\beta_1 \\cdot x$$\n",
    "\n",
    "Basically, for each sample, we calculate the difference between the predicted value and the true value. We square the result (because the difference can be positive or negative) and then sum the squares across all of the samples."
   ]
  },
  {
   "cell_type": "markdown",
   "metadata": {},
   "source": [
    "This is what we usually call a **cost function** or **error function**, which represents the error between the true values of our samples and the predictions of our model. The better our model is, the lower this metric should be. We normally use the notation $J$ to refer to the cost function:\n",
    "\n",
    "$$J(y, \\hat{y}) = MSE = \\frac{1}{N} \\sum_{n=1}^N (y_n - \\hat{y}_n)^2 $$\n",
    "\n",
    "\n",
    "We can also implement this cost function with a lambda function:"
   ]
  },
  {
   "cell_type": "code",
   "execution_count": 6,
   "metadata": {},
   "outputs": [],
   "source": [
    "linear_regression_mse = lambda y, y_hat: ((y - y_hat)**2).mean()"
   ]
  },
  {
   "cell_type": "markdown",
   "metadata": {},
   "source": [
    "In the results of the code block below, see how the metric increases when our model estimate and sample values are farther apart, and how the metric decreases when they are closer together. In particular, if the prediction matches the true sample value, then the metric is equal to zero."
   ]
  },
  {
   "cell_type": "code",
   "execution_count": 7,
   "metadata": {},
   "outputs": [
    {
     "name": "stdout",
     "output_type": "stream",
     "text": [
      "Small error measure for close sample and estimate: 0.0024999999999999988\n",
      "Big error measure for distant sample and estimate: 93.62125000000002\n",
      "Null error measure for equal sample and estimate: 0.0\n"
     ]
    }
   ],
   "source": [
    "sample_values = np.array([0.2, 0.45])\n",
    "close_estimates = np.array([0.25, 0.5])\n",
    "far_estimates = np.array([10., 10.])\n",
    "\n",
    "print('Small error measure for close sample and estimate: {}'.format(linear_regression_mse(sample_values, close_estimates)))\n",
    "print('Big error measure for distant sample and estimate: {}'.format(linear_regression_mse(sample_values, far_estimates)))\n",
    "print('Null error measure for equal sample and estimate: {}'.format(linear_regression_mse(sample_values, sample_values)))"
   ]
  },
  {
   "cell_type": "markdown",
   "metadata": {},
   "source": [
    "At this point, it should make sense to you that decreasing this metric will lead to a better model. \n",
    "\n",
    "Try to use this metric in the following demo to find a linear model that fits our data the best. Notice how the value increases as you slide towards a worse model and decreases as you slide towards a better model."
   ]
  },
  {
   "cell_type": "code",
   "execution_count": 8,
   "metadata": {},
   "outputs": [
    {
     "data": {
      "application/vnd.jupyter.widget-view+json": {
       "model_id": "da1f7d3b22404d668182bed7b21dff40",
       "version_major": 2,
       "version_minor": 0
      },
      "text/plain": [
       "interactive(children=(FloatSlider(value=0.0, description='b0', max=10.0, min=-10.0, step=0.01), FloatSlider(va…"
      ]
     },
     "metadata": {},
     "output_type": "display_data"
    }
   ],
   "source": [
    "def plot_regression(b0=0, b1=1, xlim=(-5, 5), ylim=(-5, 5)):\n",
    "    y_pred = linear_regression(x_lin_df, b0, b1)\n",
    "    plt.xlim(xlim)\n",
    "    plt.ylim(ylim)\n",
    "    plt.plot(x_lin_df, y_lin_df, 'b.')\n",
    "    plt.plot(x_lin_df, y_pred, 'r-')\n",
    "    plt.plot([0, 0], ylim, 'g-', xlim, [0, 0], 'g-', linewidth=0.4)\n",
    "    return \"Mean Squared Error (MSE): {}\".format(linear_regression_mse(y_lin_df, y_pred))\n",
    "\n",
    "def simple_linear_regression_manual_demo_2(): \n",
    "    interact(plot_regression, \n",
    "         b0=FloatSlider(min=-10, max=10, step=0.01, value=0), \n",
    "         b1=FloatSlider(min=-3, max=3, step=0.01, value=1), \n",
    "         xlim=fixed((-10, 10)), \n",
    "         ylim=fixed((-10, 10)));\n",
    "\n",
    "simple_linear_regression_manual_demo_2()"
   ]
  },
  {
   "cell_type": "markdown",
   "metadata": {},
   "source": [
    "By now, you should be convinced that the cost function we have just defined works for optimizing this model.\n",
    "\n",
    "But ok. Doing this manually sucks. Fortunately, humans developed optimization algorithms to allow machines to adjust $\\beta_0$ and $\\beta_1$ for the provided samples (dataset). There are a few ways of doing this:\n",
    "\n",
    "1. A closed form solution through normal equations;\n",
    "2. Iterative methods using gradients;\n",
    "3. Evolutionary methods, like genetic algorithms or particle swarms; \n",
    "4. Bayesian optimization.\n",
    "\n",
    "We'll begin by exploring the first method, since it is the standard approach to solving simple regression problems. Then, we'll introduce the gradient descent method, which provides a surprisingly universal approach to optimization tasks and is straightforward to understand. Although we will use a simple version of it in this learning unit, you will learn more about it in the next SLU about classification."
   ]
  },
  {
   "cell_type": "markdown",
   "metadata": {},
   "source": [
    "### 1.4 -  Closed form solution of Simple Linear Regression models\n",
    "\n",
    "In any optimization problem, the goal is to minimize the error represented by the cost function. That is, if the cost function has a global minimum with respect to the parameters of the model, those are the parameters we want to find. Consider the following plot:\n",
    "\n",
    "![cost-function-decrease](media/cost-function-decrease.jpg)\n",
    "<center><em>Fig.1: Graphical illustration of a Cost Function and its Local Minimum</a></em></center>"
   ]
  },
  {
   "cell_type": "markdown",
   "metadata": {},
   "source": [
    "Assuming that our function is convex, the problem of minimizing errors can be solved by looking for the point where the derivative is zero. This is exactly what we will do in both the closed form solution and in the iterative methods. Depending on the error function we decide to use, we may need to find the derivative of each model's parameter in our error function equations. \n",
    "\n",
    "This might sound overwhelming, and, if you aren't familiar with these concepts, you might start to despair.\n",
    "\n",
    "![cost-function-decrease](media/derivative-panic.gif)\n",
    "\n",
    "Don't worry. We know this is a bootcamp. We're not gonna ask you to learn derivatives overnight. Just like we gave you the error measure earlier in this notebook, we'll give you the derivatives for this model's parameters."
   ]
  },
  {
   "cell_type": "markdown",
   "metadata": {},
   "source": [
    "#### 1.4.1 - Derivative of the cost function\n",
    "\n",
    "The derivatives of the cost function with respect to the model parameters are actually very simple expressions. If you are interested in learning about them, take a look at the deduction in section 1 of [this notebook](Appendix%20-%20optional%20notebook%20with%20formula%20derivations.ipynb). But, for now, just know that we are not tricking you :)\n",
    "\n",
    "In our simple linear model, we have the derivative with respect to the intercept:\n",
    "\n",
    "$$\\frac{d J}{d \\beta_0} = \\frac{1}{N} \\sum_{i=1}^N 2 (\\hat{y_i} - y_i) $$\n",
    "\n",
    "and then the derivative with respect to the coefficient:\n",
    "\n",
    "$$ \\frac{d J}{d \\beta_1} = \\frac{1}{N}\\sum_{i=1}^N 2(\\hat{y_i} - y_i)x_i $$\n",
    "\n",
    "We could also easily implement them as lambda functions"
   ]
  },
  {
   "cell_type": "code",
   "execution_count": 9,
   "metadata": {},
   "outputs": [],
   "source": [
    "mse_derivative_b0 = lambda y, y_hat: (2*(y - y_hat)).mean()\n",
    "mse_derivative_b1 = lambda y, y_hat, x: (2*(y - y_hat)*x).mean()"
   ]
  },
  {
   "cell_type": "markdown",
   "metadata": {},
   "source": [
    "#### 1.4.2 - Closed Form Solution\n",
    "\n",
    "Let's move on to the final part of this process. After all, the goal of all these equations is just to get a solution for our model, right? \n",
    "\n",
    "As we explained earlier, a closed form solution comes from looking for the point where the derivatives are zero. Once again, we will only show you the final result of doing that, but please look to section 1 of [this notebook](Appendix%20-%20optional%20notebook%20with%20formula%20derivations.ipynb) if you want to see how to get there, step by step. The solution for the simple linear regression is:\n",
    "\n",
    "$$ \\frac{d J}{d \\beta_0} = 0 \\rightarrow \\beta_0 = \\bar{y} - \\beta_1 \\bar{x} $$ \n",
    "\n",
    "$$ \\frac{d J}{d \\beta_1} = 0 \\rightarrow  \\beta_1 = \\frac{\\sum_{i}^{N}{(x_i - \\bar{x})(y_i - \\bar{y})}}{\\sum_{i}^{N}{(x_i - \\bar{x})^2}} = \\frac{cov(x, y)}{var(x)}$$\n",
    "\n",
    "with cov(x,y) and var(x) being, respectively, the covariance and variance of the samples, while $\\bar{y} = \\frac{1}{N}\\sum_{i}^{N}{y_i}$ and $\\bar{x} = \\frac{1}{N}\\sum_{i}^{N}{x_i}$ are the means of the sample.\n",
    "\n",
    "Let's try it out for our previous problem:"
   ]
  },
  {
   "cell_type": "code",
   "execution_count": 10,
   "metadata": {},
   "outputs": [],
   "source": [
    "df = pd.read_csv('data/linear-learning-notebook.csv')\n",
    "df = df.sort_values('x')\n",
    "x_lin_df = df['x'].values\n",
    "y_lin_df = df['y'].values"
   ]
  },
  {
   "cell_type": "markdown",
   "metadata": {},
   "source": [
    "Let's first compute the means of our sample:"
   ]
  },
  {
   "cell_type": "code",
   "execution_count": 11,
   "metadata": {},
   "outputs": [],
   "source": [
    "x_mean = x_lin_df.mean()\n",
    "y_mean = y_lin_df.mean()"
   ]
  },
  {
   "cell_type": "markdown",
   "metadata": {},
   "source": [
    "Now we can compute the coefficient, $\\beta_1$:"
   ]
  },
  {
   "cell_type": "code",
   "execution_count": 12,
   "metadata": {},
   "outputs": [
    {
     "name": "stdout",
     "output_type": "stream",
     "text": [
      "Coefficient: -1.1445925523992122\n"
     ]
    }
   ],
   "source": [
    "top = np.sum((x_lin_df - x_mean)*(y_lin_df - y_mean))\n",
    "bottom = np.sum((x_lin_df - x_mean)**2)\n",
    "beta_1 = top/bottom\n",
    "\n",
    "print('Coefficient: {}'.format(beta_1))"
   ]
  },
  {
   "cell_type": "markdown",
   "metadata": {},
   "source": [
    "and the intercept, $\\beta_0$:"
   ]
  },
  {
   "cell_type": "code",
   "execution_count": 13,
   "metadata": {},
   "outputs": [
    {
     "name": "stdout",
     "output_type": "stream",
     "text": [
      "Intercept: -0.4517184116834487\n"
     ]
    }
   ],
   "source": [
    "beta_0 = y_mean - beta_1 * x_mean\n",
    "\n",
    "print('Intercept: {}'.format(beta_0))"
   ]
  },
  {
   "cell_type": "markdown",
   "metadata": {},
   "source": [
    "We can now use these results to plot the data and the solution found, together with the error measure:"
   ]
  },
  {
   "cell_type": "code",
   "execution_count": 14,
   "metadata": {},
   "outputs": [
    {
     "name": "stdout",
     "output_type": "stream",
     "text": [
      "Mean Squared Error (MSE): 0.7232679595171865\n"
     ]
    },
    {
     "data": {
      "image/png": "[encoded data removed]",
      "text/plain": [
       "<Figure size 480x360 with 1 Axes>"
      ]
     },
     "metadata": {},
     "output_type": "display_data"
    }
   ],
   "source": [
    "y_pred = linear_regression(x_lin_df, beta_0, beta_1)\n",
    "plt.plot(x_lin_df, y_lin_df, 'b.')\n",
    "plt.plot(x_lin_df, y_pred, 'r-')\n",
    "plt.plot([0, 0], [-8, 8], 'g-', [-8, 8], [0, 0], 'g-', linewidth=0.4)\n",
    "\n",
    "print(\"Mean Squared Error (MSE): {}\".format(linear_regression_mse(y_lin_df, y_pred)))"
   ]
  },
  {
   "cell_type": "markdown",
   "metadata": {},
   "source": [
    "And that's it. We've implemented a closed form to solve a simple linear regression. This form can be extended for the **Multiple Linear Regression** problem that you are going to study below. It's also known as **Ordinary Least Squares**, since it minimizes the squared error, and it's actually what is implemented (with a bit more detail) inside scikit-learn."
   ]
  },
  {
   "cell_type": "markdown",
   "metadata": {},
   "source": [
    "## 2 - Multiple Linear Regression\n",
    "\n",
    "A simple linear regression is a good example to get you started, but most phenomena in our world are dependent on several factors. For example, house prices depend on things like (1) the number of rooms, (2) the distance to malls, (3) the distance to parks, (4) how old the house is, etc. It would be naive to create a univariate linear model to predict house prices, so let's expand our simple linear regression into *multiple* linear regression:\n",
    "\n",
    "$$\\hat{y} = \\beta_0 + \\beta_1 \\cdot x_1 + \\beta_2 \\cdot x_2 + \\beta_3 \\cdot x_3 + \\beta_4 \\cdot x_4 + \\beta_5 \\cdot x_5$$ \n",
    "\n",
    "which can also be written in a collapsed form:\n",
    "\n",
    "$$\\hat{y} = \\beta_0 + \\sum_{i=1}^{5} \\beta_i \\cdot x_i$$\n",
    "\n",
    "The model generalizes to the following:\n",
    "\n",
    "$$\\hat{y} = \\beta_0 + \\sum_{i=1}^{N} \\beta_i \\cdot x_i$$\n",
    "\n",
    "with an arbitrary number of parameters, one for each of the input features. We can also write the equations in matrix form:\n",
    "\n",
    "$$\\hat{y} = \\beta_0 + X' \\vec{\\beta'} $$\n",
    "\n",
    "Where $X'$ is a matrix with shape (num_samples, num_features) and $\\vec{\\beta'}$ the vector of coefficients with shape (num_features, 1). "
   ]
  },
  {
   "attachments": {},
   "cell_type": "markdown",
   "metadata": {},
   "source": [
    "### 2.1 - Implementing and visualizing a multiple linear model\n",
    "\n",
    "This is still a simple model, and we can, once again, implement it with a lambda function:"
   ]
  },
  {
   "cell_type": "code",
   "execution_count": 15,
   "metadata": {},
   "outputs": [],
   "source": [
    "multiple_linear_regression = lambda x, betas: betas[0] + np.matmul(x, betas[1:])"
   ]
  },
  {
   "cell_type": "markdown",
   "metadata": {},
   "source": [
    "Multiple linear regressions are a not as easy to visualize as a simple linear regression, due to the fact that they have multiple features that affect output, which, as a consequence, results in a **hyperplane** instead of a line (we'd have to plot it in 3D or in an even more complicated manner). However, polynomial regression is a way to model and visualize our output quite easily.\n",
    "\n",
    "Polynomial functions are defined as follows:\n",
    "\n",
    "$$\\hat{y} = \\beta_0 + \\beta_1 x +  \\beta_2 x^2 + ... +  \\beta_n x^n $$\n",
    "\n",
    "where $n$ is the order of our polynomial function. The equation depends on just one feature, x, which can easily be plotted in 2D.\n",
    "\n",
    "You might be wondering how we can model these functions, which are clearly not linear, with a linear model. The main thing you need to understand is that, even though the inputs are not linear, the model is linear with respect to the coefficients, and we can easily assume each power of $x$ as a different feature:\n",
    "\n",
    "$$ x = x_1 $$\n",
    "$$ x^2 = x_2 $$\n",
    "$$...$$\n",
    "$$ x^n = x_n $$\n",
    "\n",
    "Therefore, we have the same model similar to the one earlier in this notebook.\n",
    "\n",
    "$$\\hat{y} = \\beta_0 + \\sum_{i=1}^{N} \\beta_i \\cdot x_i$$\n",
    "\n",
    "Run the next cell to see how a polynomial model can be represented as a multiple linear model:"
   ]
  },
  {
   "cell_type": "code",
   "execution_count": 16,
   "metadata": {},
   "outputs": [
    {
     "data": {
      "image/png": "[encoded data removed]",
      "text/plain": [
       "<Figure size 480x360 with 1 Axes>"
      ]
     },
     "metadata": {},
     "output_type": "display_data"
    }
   ],
   "source": [
    "def plot_polynomial_regression_multiple(x, y, xlim, ylim):\n",
    "    origin = (0, 0)\n",
    "\n",
    "    plt.xlim(xlim)\n",
    "    plt.ylim(ylim)\n",
    "\n",
    "    # Plot axis for better visualization\n",
    "    plt.plot(origin, ylim, 'g:', xlim, origin, 'g:', linewidth=0.4)\n",
    "\n",
    "    # Plot linear model\n",
    "    plt.plot(x, y, 'b')\n",
    "    plt.show()\n",
    "\n",
    "# Base independent variables\n",
    "x_pln = np.arange(-10, 10, 0.1).reshape(-1, 1)\n",
    "x_pln_2 = x_pln ** 2\n",
    "x_pln_3 = x_pln ** 3\n",
    "\n",
    "# Organize input in a matrix\n",
    "X_pln = np.concatenate((x_pln, x_pln_2, x_pln_3), axis=1)\n",
    "\n",
    "# Parameters\n",
    "betas_pln = [1, -2, .025, .3]\n",
    "\n",
    "# Dependent variable\n",
    "y_pln = multiple_linear_regression(X_pln, np.array(betas_pln))\n",
    "plot_regression_simple(x_pln.flatten(), y_pln, [-10, 10], [-10, 10])"
   ]
  },
  {
   "cell_type": "markdown",
   "metadata": {},
   "source": [
    "Now, let's follow the same procedure we followed previously for the simple model and imagine that we have some data with noise that we want to use. Let's load it and visualize its shape:"
   ]
  },
  {
   "cell_type": "code",
   "execution_count": 17,
   "metadata": {},
   "outputs": [
    {
     "data": {
      "image/png": "[encoded data removed]",
      "text/plain": [
       "<Figure size 480x360 with 1 Axes>"
      ]
     },
     "metadata": {},
     "output_type": "display_data"
    }
   ],
   "source": [
    "df = pd.read_csv('data/polynomial-learning-notebook.csv')\n",
    "df = df.sort_values('x')\n",
    "\n",
    "x_pln_df = df['x'].values\n",
    "y_pln_df = df['y'].values\n",
    "X_pln_df = df.drop(columns='y').values\n",
    "\n",
    "plt.plot(x_pln_df, y_pln_df, 'b.');"
   ]
  },
  {
   "cell_type": "markdown",
   "metadata": {},
   "source": [
    "Try to adjust the weights manually, just like you did earlier in this notebook:"
   ]
  },
  {
   "cell_type": "code",
   "execution_count": 18,
   "metadata": {},
   "outputs": [
    {
     "data": {
      "application/vnd.jupyter.widget-view+json": {
       "model_id": "f80893e9157947b0bf7772f0180c5d03",
       "version_major": 2,
       "version_minor": 0
      },
      "text/plain": [
       "interactive(children=(FloatSlider(value=0.0, description='b0', max=10.0, min=-10.0, step=0.01), FloatSlider(va…"
      ]
     },
     "metadata": {},
     "output_type": "display_data"
    }
   ],
   "source": [
    "def plot_polynomial_regression(b0=0, b1=1, b2=0, b3=0, xlim=(-20, 20), ylim=(-20, 20)):\n",
    "    betas = np.array([b0, b1, b2, b3])\n",
    "    y_pred = multiple_linear_regression(X_pln_df, betas)\n",
    "    plt.xlim(xlim)\n",
    "    plt.ylim(ylim)\n",
    "    plt.plot(x_pln_df, y_pln_df, 'b.')\n",
    "    plt.plot(x_pln_df, y_pred, 'r-')\n",
    "    plt.plot([0, 0], ylim, 'g-', xlim, [0, 0], 'g-', linewidth=0.4)\n",
    "\n",
    "def polynomial_regression_manual_demo_1(): \n",
    "    interact(plot_polynomial_regression, \n",
    "         b0=FloatSlider(min=-10, max=10, step=0.01, value=0), \n",
    "         b1=FloatSlider(min=-5, max=5, step=0.01, value=1), \n",
    "         b2=FloatSlider(min=-1, max=1, step=0.01, value=0), \n",
    "         b3=FloatSlider(min=-1, max=1, step=0.01, value=0), \n",
    "         xlim=fixed((-20, 20)), \n",
    "         ylim=fixed((-20, 20)));\n",
    "\n",
    "polynomial_regression_manual_demo_1()"
   ]
  },
  {
   "cell_type": "markdown",
   "metadata": {},
   "source": [
    "As you can see, it's much harder now to find these features manually. Let's see if having an error measure this time helps."
   ]
  },
  {
   "cell_type": "markdown",
   "metadata": {},
   "source": [
    "### 2.2 - Error measure for Multiple Linear Regression\n",
    "\n",
    "Using the same logic as before, we still want a way to measure how well our model fits. Notice that, even though our model has several features and a corresponding increase in parameters, it still produces a single output. \n",
    "\n",
    "This means that we can define the error as the difference between the true and estimated output:\n",
    "\n",
    "$$ e_i = y - \\hat{y_i} $$\n",
    "\n",
    "So, we will use the same cost function as before:\n",
    "\n",
    "$$MSE(y, \\hat{y}) = \\frac{1}{N} \\sum_{n=1}^N (y_i - \\hat{y}_i)^2 $$\n",
    "\n",
    "The only difference now is how we produced the estimate $\\hat{y}$. Try it out in the interactive demo below:"
   ]
  },
  {
   "cell_type": "code",
   "execution_count": 19,
   "metadata": {},
   "outputs": [
    {
     "data": {
      "application/vnd.jupyter.widget-view+json": {
       "model_id": "025b99a76aa44be39c0958919c9095da",
       "version_major": 2,
       "version_minor": 0
      },
      "text/plain": [
       "interactive(children=(FloatSlider(value=0.0, description='b0', max=10.0, min=-10.0, step=0.01), FloatSlider(va…"
      ]
     },
     "metadata": {},
     "output_type": "display_data"
    }
   ],
   "source": [
    "def plot_polynomial_regression(b0=0, b1=1, b2=0, b3=0, xlim=(-20, 20), ylim=(-20, 20)):\n",
    "    betas = np.array([b0, b1, b2, b3])\n",
    "    y_pred = multiple_linear_regression(X_pln_df, betas)\n",
    "    plt.xlim(xlim)\n",
    "    plt.ylim(ylim)\n",
    "    plt.plot(x_pln_df, y_pln_df, 'b.')\n",
    "    plt.plot(x_pln_df, y_pred, 'r-')\n",
    "    plt.plot([0, 0], ylim, 'g-', xlim, [0, 0], 'g-', linewidth=0.4)\n",
    "    return \"Mean Squared Error (MSE): {}\".format(linear_regression_mse(y_pln_df, y_pred))\n",
    "\n",
    "def polynomial_regression_manual_demo_1(): \n",
    "    interact(plot_polynomial_regression, \n",
    "         b0=FloatSlider(min=-10, max=10, step=0.01, value=0), \n",
    "         b1=FloatSlider(min=-5, max=5, step=0.01, value=1), \n",
    "         b2=FloatSlider(min=-1, max=1, step=0.01, value=0), \n",
    "         b3=FloatSlider(min=-0.5, max=0.5, step=0.005, value=0), \n",
    "         xlim=fixed((-20, 20)), \n",
    "         ylim=fixed((-20, 20)));\n",
    "\n",
    "polynomial_regression_manual_demo_1()"
   ]
  },
  {
   "cell_type": "markdown",
   "metadata": {},
   "source": [
    "It is still very hard to have to handle so many levers. So, for the multiple linear regression, automatic methods are even more important. Let's try an extension of the closed form solution."
   ]
  },
  {
   "attachments": {},
   "cell_type": "markdown",
   "metadata": {},
   "source": [
    "### 2.3 - Closed form solution of Multiple Linear Regression models\n",
    "\n",
    "#### 2.3.1 - Derivative of error function\n",
    "\n",
    "Derivatives of the cost function with respect to the parameters are very similar to the ones in the simple linear regression scenario. In section 2 of [this notebook](Appendix%20-%20optional%20notebook%20with%20formula%20derivations.ipynb), you can see how to deduct them, so feel free to consult it if you are interested in that. \n",
    "\n",
    "The derivative of the cost function with respect to the intercept remains the same:\n",
    "\n",
    "$$\\frac{d J}{d \\beta_0} = \\frac{1}{N} \\sum_{i=1}^N [2 (\\hat{y_i} - y_i)] $$\n",
    "\n",
    "Then, for the derivative with respect to the coefficients, the expression is still very similar to previous one. The only detail you need to pay attention to is that the feature multiplied in the derivative is the feature belonging to the parameter:\n",
    "\n",
    "$$ \\frac{d J}{d \\beta_k} = \\frac{1}{N}\\sum_{i=1}^N [2(\\hat{y_i} - y_i)x_{k_i}] $$ \n",
    "\n",
    "for $ k \\in [1, K] $ , where K is the number of features of our model.\n",
    "\n",
    "Once again, we can implement them as lambda functions."
   ]
  },
  {
   "cell_type": "code",
   "execution_count": 20,
   "metadata": {},
   "outputs": [],
   "source": [
    "mse_derivative_b0 = lambda y, y_hat: -(2*(y - y_hat)).mean()\n",
    "mse_derivative_bk = lambda y, y_hat, x_k: -(2*(y - y_hat)*x_k).mean()"
   ]
  },
  {
   "cell_type": "markdown",
   "metadata": {},
   "source": [
    "#### 2.3.2 - Closed Form Solution\n",
    "\n",
    "For this closed form solution, matrix notation is useful. Let's try our initial model, as we define it below:\n",
    "\n",
    "$$\\hat{y} = \\beta_0 + X' \\vec{\\beta'} $$\n",
    "\n",
    "where each factor in this equation has the following shapes: \n",
    "\n",
    "shape( $\\hat{y}$ ) = (num\\_samples, 1)\n",
    "\n",
    "shape( $X'$ ) = (num\\_samples, num\\_features)\n",
    "\n",
    "shape( $\\vec{\\beta'}$ ) = (num\\_features, 1)."
   ]
  },
  {
   "cell_type": "markdown",
   "metadata": {},
   "source": [
    "We could even go a step further and re-write the above equation like this to 'hide' the intercept:\n",
    "\n",
    "$$\\hat{y} = X \\vec{\\beta}$$\n",
    "\n",
    "As a result, we created a matrix $X$ of features simply by adding a column of 1's to our previous matrix:\n",
    "\n",
    "$$ X = [\\vec{1} | X']$$\n",
    "\n",
    "and $\\vec{\\beta}$ is a concatenation of $\\beta_0$ and $\\vec{\\beta'}$. In this equation, the shapes of its factors are:\n",
    "\n",
    "shape( $X$ ) = (num\\_samples, num\\_features + 1)\n",
    "\n",
    "shape( $\\vec{\\beta}$ ) = (num\\_features + 1, 1)."
   ]
  },
  {
   "cell_type": "markdown",
   "metadata": {},
   "source": [
    "Once again, the closed form solution comes from looking for the point where the derivatives are zero, but we're only going to show you the final result of that process. Look at in section 2 of [this notebook](Appendix%20-%20optional%20notebook%20with%20formula%20derivations.ipynb) if you want to see how to get there, step by step. We'll find our solution for a multiple linear regression with the following equation, which is called the _Normal Equation_:\n",
    "\n",
    "$$ \\vec{\\beta} = (X^TX)^{-1}(X^T\\vec{y})$$\n",
    "\n",
    "\n",
    "Where, as mentioned above, $X$ is our matrix of samples extended by 1 for each sample: $X = [\\vec{1} | X'] $ to account for the intercept, $\\vec{y}$ is the output vector, and $\\vec{\\beta}$ the parameter vector with the parameters $\\beta_0$ - $\\beta_N$.\n",
    "\n",
    "Try it out for the previous example. Let's load the data again:"
   ]
  },
  {
   "cell_type": "code",
   "execution_count": 21,
   "metadata": {},
   "outputs": [],
   "source": [
    "df = pd.read_csv('data/polynomial-learning-notebook.csv')\n",
    "df = df.sort_values('x')\n",
    "\n",
    "x_pln_df = df['x'].values\n",
    "y_pln_df = df['y'].values\n",
    "X_pln_df = df.drop(columns='y').values"
   ]
  },
  {
   "cell_type": "markdown",
   "metadata": {},
   "source": [
    "First, let's extend our inputs to have a column of ones: \n",
    "\n",
    "$$ X = [\\vec{1} | X'] $$"
   ]
  },
  {
   "cell_type": "code",
   "execution_count": 22,
   "metadata": {},
   "outputs": [],
   "source": [
    "X_extended = np.concatenate((np.ones((X_pln_df.shape[0], 1)), X_pln_df), axis=1)"
   ]
  },
  {
   "cell_type": "markdown",
   "metadata": {},
   "source": [
    "Now, let's apply the closed form solution:"
   ]
  },
  {
   "cell_type": "code",
   "execution_count": 23,
   "metadata": {},
   "outputs": [
    {
     "name": "stdout",
     "output_type": "stream",
     "text": [
      "Coefficients: [-0.58366246 -2.95329261  0.01443483  0.01440652]\n"
     ]
    }
   ],
   "source": [
    "inv_xx = np.linalg.inv(np.matmul(X_extended.T, X_extended))\n",
    "xy = np.matmul(X_extended.T, y_pln_df)\n",
    "betas = np.matmul(inv_xx, xy)\n",
    "\n",
    "print('Coefficients: {}'.format(betas))"
   ]
  },
  {
   "cell_type": "markdown",
   "metadata": {},
   "source": [
    "Finally, let's plot the solution we achieved and the error associated with it:"
   ]
  },
  {
   "cell_type": "code",
   "execution_count": 24,
   "metadata": {},
   "outputs": [
    {
     "name": "stdout",
     "output_type": "stream",
     "text": [
      "Mean Squared Error (MSE): 7.2933131373365825\n"
     ]
    },
    {
     "data": {
      "image/png": "[encoded data removed]",
      "text/plain": [
       "<Figure size 480x360 with 1 Axes>"
      ]
     },
     "metadata": {},
     "output_type": "display_data"
    }
   ],
   "source": [
    "y_pred = multiple_linear_regression(X_pln_df, betas)\n",
    "plt.plot(x_pln_df, y_pln_df, 'b.')\n",
    "plt.plot(x_pln_df, y_pred, 'r-')\n",
    "plt.plot([0, 0], [-21, 21], 'g-', [-16, 16], [0, 0], 'g-', linewidth=0.4)\n",
    "\n",
    "print(\"Mean Squared Error (MSE): {}\".format(linear_regression_mse(y_pln_df, y_pred)))"
   ]
  },
  {
   "cell_type": "markdown",
   "metadata": {},
   "source": [
    "Let's do an extra example with a diabetes dataset. It contains patients' blood serum and other body measurements and a quantitative measure of their disease progression. Load the diabetes dataset below, read its description, and look into the data."
   ]
  },
  {
   "cell_type": "code",
   "execution_count": 25,
   "metadata": {},
   "outputs": [
    {
     "name": "stdout",
     "output_type": "stream",
     "text": [
      ".. _diabetes_dataset:\n",
      "\n",
      "Diabetes dataset\n",
      "----------------\n",
      "\n",
      "Ten baseline variables, age, sex, body mass index, average blood\n",
      "pressure, and six blood serum measurements were obtained for each of n =\n",
      "442 diabetes patients, as well as the response of interest, a\n",
      "quantitative measure of disease progression one year after baseline.\n",
      "\n",
      "**Data Set Characteristics:**\n",
      "\n",
      ":Number of Instances: 442\n",
      "\n",
      ":Number of Attributes: First 10 columns are numeric predictive values\n",
      "\n",
      ":Target: Column 11 is a quantitative measure of disease progression one year after baseline\n",
      "\n",
      ":Attribute Information:\n",
      "    - age     age in years\n",
      "    - sex\n",
      "    - bmi     body mass index\n",
      "    - bp      average blood pressure\n",
      "    - s1      tc, total serum cholesterol\n",
      "    - s2      ldl, low-density lipoproteins\n",
      "    - s3      hdl, high-density lipoproteins\n",
      "    - s4      tch, total cholesterol / HDL\n",
      "    - s5      ltg, possibly log of serum triglycerides level\n",
      "    - s6      glu, blood sugar level\n",
      "\n",
      "Note: Each of these 10 feature variables have been mean centered and scaled by the standard deviation times the square root of `n_samples` (i.e. the sum of squares of each column totals 1).\n",
      "\n",
      "Source URL:\n",
      "https://www4.stat.ncsu.edu/~boos/var.select/diabetes.html\n",
      "\n",
      "For more information see:\n",
      "Bradley Efron, Trevor Hastie, Iain Johnstone and Robert Tibshirani (2004) \"Least Angle Regression,\" Annals of Statistics (with discussion), 407-499.\n",
      "(https://web.stanford.edu/~hastie/Papers/LARS/LeastAngle_2002.pdf)\n",
      "\n"
     ]
    },
    {
     "data": {
      "text/html": [
       "<div>\n",
       "<style scoped>\n",
       "    .dataframe tbody tr th:only-of-type {\n",
       "        vertical-align: middle;\n",
       "    }\n",
       "\n",
       "    .dataframe tbody tr th {\n",
       "        vertical-align: top;\n",
       "    }\n",
       "\n",
       "    .dataframe thead th {\n",
       "        text-align: right;\n",
       "    }\n",
       "</style>\n",
       "<table border=\"1\" class=\"dataframe\">\n",
       "  <thead>\n",
       "    <tr style=\"text-align: right;\">\n",
       "      <th></th>\n",
       "      <th>age</th>\n",
       "      <th>sex</th>\n",
       "      <th>bmi</th>\n",
       "      <th>bp</th>\n",
       "      <th>s1</th>\n",
       "      <th>s2</th>\n",
       "      <th>s3</th>\n",
       "      <th>s4</th>\n",
       "      <th>s5</th>\n",
       "      <th>s6</th>\n",
       "      <th>medv</th>\n",
       "    </tr>\n",
       "  </thead>\n",
       "  <tbody>\n",
       "    <tr>\n",
       "      <th>0</th>\n",
       "      <td>0.038076</td>\n",
       "      <td>0.050680</td>\n",
       "      <td>0.061696</td>\n",
       "      <td>0.021872</td>\n",
       "      <td>-0.044223</td>\n",
       "      <td>-0.034821</td>\n",
       "      <td>-0.043401</td>\n",
       "      <td>-0.002592</td>\n",
       "      <td>0.019907</td>\n",
       "      <td>-0.017646</td>\n",
       "      <td>151.0</td>\n",
       "    </tr>\n",
       "    <tr>\n",
       "      <th>1</th>\n",
       "      <td>-0.001882</td>\n",
       "      <td>-0.044642</td>\n",
       "      <td>-0.051474</td>\n",
       "      <td>-0.026328</td>\n",
       "      <td>-0.008449</td>\n",
       "      <td>-0.019163</td>\n",
       "      <td>0.074412</td>\n",
       "      <td>-0.039493</td>\n",
       "      <td>-0.068332</td>\n",
       "      <td>-0.092204</td>\n",
       "      <td>75.0</td>\n",
       "    </tr>\n",
       "    <tr>\n",
       "      <th>2</th>\n",
       "      <td>0.085299</td>\n",
       "      <td>0.050680</td>\n",
       "      <td>0.044451</td>\n",
       "      <td>-0.005670</td>\n",
       "      <td>-0.045599</td>\n",
       "      <td>-0.034194</td>\n",
       "      <td>-0.032356</td>\n",
       "      <td>-0.002592</td>\n",
       "      <td>0.002861</td>\n",
       "      <td>-0.025930</td>\n",
       "      <td>141.0</td>\n",
       "    </tr>\n",
       "    <tr>\n",
       "      <th>3</th>\n",
       "      <td>-0.089063</td>\n",
       "      <td>-0.044642</td>\n",
       "      <td>-0.011595</td>\n",
       "      <td>-0.036656</td>\n",
       "      <td>0.012191</td>\n",
       "      <td>0.024991</td>\n",
       "      <td>-0.036038</td>\n",
       "      <td>0.034309</td>\n",
       "      <td>0.022688</td>\n",
       "      <td>-0.009362</td>\n",
       "      <td>206.0</td>\n",
       "    </tr>\n",
       "    <tr>\n",
       "      <th>4</th>\n",
       "      <td>0.005383</td>\n",
       "      <td>-0.044642</td>\n",
       "      <td>-0.036385</td>\n",
       "      <td>0.021872</td>\n",
       "      <td>0.003935</td>\n",
       "      <td>0.015596</td>\n",
       "      <td>0.008142</td>\n",
       "      <td>-0.002592</td>\n",
       "      <td>-0.031988</td>\n",
       "      <td>-0.046641</td>\n",
       "      <td>135.0</td>\n",
       "    </tr>\n",
       "  </tbody>\n",
       "</table>\n",
       "</div>"
      ],
      "text/plain": [
       "        age       sex       bmi        bp        s1        s2        s3  \\\n",
       "0  0.038076  0.050680  0.061696  0.021872 -0.044223 -0.034821 -0.043401   \n",
       "1 -0.001882 -0.044642 -0.051474 -0.026328 -0.008449 -0.019163  0.074412   \n",
       "2  0.085299  0.050680  0.044451 -0.005670 -0.045599 -0.034194 -0.032356   \n",
       "3 -0.089063 -0.044642 -0.011595 -0.036656  0.012191  0.024991 -0.036038   \n",
       "4  0.005383 -0.044642 -0.036385  0.021872  0.003935  0.015596  0.008142   \n",
       "\n",
       "         s4        s5        s6   medv  \n",
       "0 -0.002592  0.019907 -0.017646  151.0  \n",
       "1 -0.039493 -0.068332 -0.092204   75.0  \n",
       "2 -0.002592  0.002861 -0.025930  141.0  \n",
       "3  0.034309  0.022688 -0.009362  206.0  \n",
       "4 -0.002592 -0.031988 -0.046641  135.0  "
      ]
     },
     "execution_count": 25,
     "metadata": {},
     "output_type": "execute_result"
    }
   ],
   "source": [
    "data = load_diabetes()\n",
    "print(data['DESCR'])\n",
    "\n",
    "X_db = pd.DataFrame(data['data'], columns=data['feature_names'])\n",
    "y_db = pd.Series(data['target'], name='medv')\n",
    "\n",
    "pd.concat((X_db, y_db), axis=1).head(5)"
   ]
  },
  {
   "cell_type": "markdown",
   "metadata": {},
   "source": [
    "Let's apply our closed form solution and see what output and errors we get:"
   ]
  },
  {
   "cell_type": "code",
   "execution_count": 26,
   "metadata": {},
   "outputs": [
    {
     "name": "stdout",
     "output_type": "stream",
     "text": [
      "Feature coefficients: \n",
      "age    -10.009866\n",
      "sex   -239.815644\n",
      "bmi    519.845920\n",
      "bp     324.384646\n",
      "s1    -792.175639\n",
      "s2     476.739021\n",
      "s3     101.043268\n",
      "s4     177.063238\n",
      "s5     751.273700\n",
      "s6      67.626692\n",
      "dtype: float64\n",
      "\n",
      "\n",
      "Intercept: 152.13348416289597\n",
      "\n",
      "\n",
      "\n",
      "Targets for the first 5 rows: \n",
      "\n",
      " [151.  75. 141. 206. 135.]\n",
      "\n",
      "Predictions for the first 5 rows: \n",
      "\n",
      " [206.11667725  68.07103297 176.88279035 166.91445843 128.46225834]\n",
      "\n",
      "Mean Squared Error (MSE): 2859.6963475867506\n"
     ]
    }
   ],
   "source": [
    "X_extended = np.concatenate((np.ones((X_db.shape[0], 1)), X_db.to_numpy()), axis=1)\n",
    "\n",
    "inv_xx = np.linalg.inv(np.matmul(X_extended.T, X_extended))\n",
    "xy = np.matmul(X_extended.T, y_db.to_numpy())\n",
    "betas = np.matmul(inv_xx, xy)\n",
    "\n",
    "y_pred = multiple_linear_regression(X_db.to_numpy(), betas)\n",
    "\n",
    "print('Feature coefficients: ')\n",
    "print(pd.Series(betas[1:], X_db.columns))\n",
    "print('\\n')\n",
    "\n",
    "print('Intercept: {}'.format(betas[0]))\n",
    "print('\\n')\n",
    "\n",
    "print('\\nTargets for the first 5 rows: \\n\\n', y_db.head(5).to_numpy())\n",
    "print('\\nPredictions for the first 5 rows: \\n\\n', y_pred[:5])\n",
    "print(\"\\nMean Squared Error (MSE): {}\".format(linear_regression_mse(y_db.to_numpy(), y_pred)))"
   ]
  },
  {
   "cell_type": "markdown",
   "metadata": {},
   "source": [
    "Pretty simple, huh? The extended model is just an extension of the simpler model from earlier in this notebook. The more features you have, the more you have to include in the sum! And it still gives us a simple closed form solution!\n",
    "\n",
    "But there is a **very important assumption** that this model does: it reveals that there is no collinearity in data data. \n",
    " \"**What the hell does that even mean**\", you might ask. The term comes from linear algebra and means the following: \n",
    "\n",
    "_If you have a feature $x_i$ for which the values can be obtained through a **linear combination** of other features, then we have collinearity._\n",
    "\n",
    "Collinearity can happen for one or more features, in which case it can be referred to as multicollinearity.\n",
    "\n",
    "Let me give you some of the reasons why this is a problem: \n",
    "1. When people use linear regressions, after the parameter estimation phase, they use the coefficients as a way to measure **how important a feature is**. When you use collinear features, the magnitude of the parameters gets lowered for all features that are in that collinear relationship. That might be misleading, because collinear features are, essentially, one feature.\n",
    "2. Collinear features add no value to the model, as if you're cloning the same feature and concatenating it to the dataset.\n",
    "\n",
    "Datasets with collinear columns can be quite common. For example, if your dataset contains two columns related to weight, but one uses _kilograms_ as a unit of measure, while the other column uses _pounds_, then those two columns are colinear."
   ]
  },
  {
   "cell_type": "markdown",
   "metadata": {},
   "source": [
    "## 3 - Linear Regression with Scikit-learn\n",
    "After learning the basics of linear regression and how to implement closed form solutions, it is time to go one step further and learn how to use linear regression with the scikit-learn Python library.\n",
    "\n",
    "<img src=\"media/goku-sklearn.gif\" width=\"400\" title=\"sklearn-implementation\">"
   ]
  },
  {
   "cell_type": "markdown",
   "metadata": {},
   "source": [
    "[Scikit-Learn][sklearn] is an industry standard for data science and machine learning, and we'll be using it extensively throughout the academy. Scikit-learn has several implementations for linear regression:\n",
    "* [*sklearn.linear_model.LinearRegression*][LinearRegression] uses normal equations to estimate the best intercept and coefficients. Normal equations are the closed form solution for linear regression, which means you'll know exactly the number of steps your solution will take and exactly what that solution guarantees. If you want to know more about this, [read this blog post][normal_eq].\n",
    "* [*sklearn.linear_model.SGDRegressor*][SGDRegressor], or SGD Regressor, is a model that's optimized (trained) using SGD (Stochastic Gradient Descent) for regression tasks. It's basically a linear model that uses a decaying learning rate. (go to [Section 4](#4----Gradient-Descent) to learn more about it)\n",
    "\n",
    "[SGDRegressor]: http://scikit-learn.org/stable/modules/generated/sklearn.linear_model.SGDRegressor.html#sklearn.linear_model.SGDRegressor\n",
    "[LinearRegression]: http://scikit-learn.org/stable/modules/generated/sklearn.linear_model.LinearRegression.html#sklearn.linear_model.LinearRegression\n",
    "[sklearn]: http://scikit-learn.org\n",
    "[normal_eq]: https://eli.thegreenplace.net/2014/derivation-of-the-normal-equation-for-linear-regression\n",
    "\n",
    "For simplicity and because you're new to this world, let's try implementing the first one: *LinearRegression*.\n",
    "\n",
    "Let's start by applying this to the polynomial example from our previous examples:"
   ]
  },
  {
   "cell_type": "code",
   "execution_count": 27,
   "metadata": {},
   "outputs": [],
   "source": [
    "df = pd.read_csv('data/polynomial-learning-notebook.csv')\n",
    "df = df.sort_values('x')\n",
    "\n",
    "x_pln_df = df['x'].to_numpy()\n",
    "y_pln_df = df['y'].to_numpy()\n",
    "X_pln_df  = df.drop(columns='y').to_numpy()"
   ]
  },
  {
   "cell_type": "markdown",
   "metadata": {},
   "source": [
    "Now, let's use LinearRegression from scikit-learn:"
   ]
  },
  {
   "cell_type": "code",
   "execution_count": 28,
   "metadata": {},
   "outputs": [],
   "source": [
    "from sklearn.linear_model import LinearRegression\n",
    "\n",
    "lr = LinearRegression()\n",
    "lr.fit(X_pln_df, y_pln_df)\n",
    "coefficients = lr.coef_\n",
    "intercept = lr.intercept_\n",
    "betas = np.concatenate((np.array([intercept]), coefficients))"
   ]
  },
  {
   "cell_type": "markdown",
   "metadata": {},
   "source": [
    "and plot the solution as we did before:"
   ]
  },
  {
   "cell_type": "code",
   "execution_count": 29,
   "metadata": {},
   "outputs": [
    {
     "name": "stdout",
     "output_type": "stream",
     "text": [
      "Mean Squared Error (MSE): 7.293313137336586\n"
     ]
    },
    {
     "data": {
      "image/png": "[encoded data removed]",
      "text/plain": [
       "<Figure size 480x360 with 1 Axes>"
      ]
     },
     "metadata": {},
     "output_type": "display_data"
    }
   ],
   "source": [
    "y_pred = multiple_linear_regression(X_pln_df, betas)\n",
    "plt.plot(x_pln_df, y_pln_df, 'b.')\n",
    "plt.plot(x_pln_df, y_pred, 'r-')\n",
    "plt.plot([0, 0], [-21, 21], 'g-', [-16, 16], [0, 0], 'g-', linewidth=0.4)\n",
    "\n",
    "print(\"Mean Squared Error (MSE): {}\".format(linear_regression_mse(y_pln_df, y_pred)))"
   ]
  },
  {
   "cell_type": "markdown",
   "metadata": {},
   "source": [
    "Now let's do the same for the diabetes example:"
   ]
  },
  {
   "cell_type": "code",
   "execution_count": 30,
   "metadata": {},
   "outputs": [
    {
     "data": {
      "text/html": [
       "<div>\n",
       "<style scoped>\n",
       "    .dataframe tbody tr th:only-of-type {\n",
       "        vertical-align: middle;\n",
       "    }\n",
       "\n",
       "    .dataframe tbody tr th {\n",
       "        vertical-align: top;\n",
       "    }\n",
       "\n",
       "    .dataframe thead th {\n",
       "        text-align: right;\n",
       "    }\n",
       "</style>\n",
       "<table border=\"1\" class=\"dataframe\">\n",
       "  <thead>\n",
       "    <tr style=\"text-align: right;\">\n",
       "      <th></th>\n",
       "      <th>age</th>\n",
       "      <th>sex</th>\n",
       "      <th>bmi</th>\n",
       "      <th>bp</th>\n",
       "      <th>s1</th>\n",
       "      <th>s2</th>\n",
       "      <th>s3</th>\n",
       "      <th>s4</th>\n",
       "      <th>s5</th>\n",
       "      <th>s6</th>\n",
       "      <th>medv</th>\n",
       "    </tr>\n",
       "  </thead>\n",
       "  <tbody>\n",
       "    <tr>\n",
       "      <th>0</th>\n",
       "      <td>0.038076</td>\n",
       "      <td>0.050680</td>\n",
       "      <td>0.061696</td>\n",
       "      <td>0.021872</td>\n",
       "      <td>-0.044223</td>\n",
       "      <td>-0.034821</td>\n",
       "      <td>-0.043401</td>\n",
       "      <td>-0.002592</td>\n",
       "      <td>0.019907</td>\n",
       "      <td>-0.017646</td>\n",
       "      <td>151.0</td>\n",
       "    </tr>\n",
       "    <tr>\n",
       "      <th>1</th>\n",
       "      <td>-0.001882</td>\n",
       "      <td>-0.044642</td>\n",
       "      <td>-0.051474</td>\n",
       "      <td>-0.026328</td>\n",
       "      <td>-0.008449</td>\n",
       "      <td>-0.019163</td>\n",
       "      <td>0.074412</td>\n",
       "      <td>-0.039493</td>\n",
       "      <td>-0.068332</td>\n",
       "      <td>-0.092204</td>\n",
       "      <td>75.0</td>\n",
       "    </tr>\n",
       "    <tr>\n",
       "      <th>2</th>\n",
       "      <td>0.085299</td>\n",
       "      <td>0.050680</td>\n",
       "      <td>0.044451</td>\n",
       "      <td>-0.005670</td>\n",
       "      <td>-0.045599</td>\n",
       "      <td>-0.034194</td>\n",
       "      <td>-0.032356</td>\n",
       "      <td>-0.002592</td>\n",
       "      <td>0.002861</td>\n",
       "      <td>-0.025930</td>\n",
       "      <td>141.0</td>\n",
       "    </tr>\n",
       "    <tr>\n",
       "      <th>3</th>\n",
       "      <td>-0.089063</td>\n",
       "      <td>-0.044642</td>\n",
       "      <td>-0.011595</td>\n",
       "      <td>-0.036656</td>\n",
       "      <td>0.012191</td>\n",
       "      <td>0.024991</td>\n",
       "      <td>-0.036038</td>\n",
       "      <td>0.034309</td>\n",
       "      <td>0.022688</td>\n",
       "      <td>-0.009362</td>\n",
       "      <td>206.0</td>\n",
       "    </tr>\n",
       "    <tr>\n",
       "      <th>4</th>\n",
       "      <td>0.005383</td>\n",
       "      <td>-0.044642</td>\n",
       "      <td>-0.036385</td>\n",
       "      <td>0.021872</td>\n",
       "      <td>0.003935</td>\n",
       "      <td>0.015596</td>\n",
       "      <td>0.008142</td>\n",
       "      <td>-0.002592</td>\n",
       "      <td>-0.031988</td>\n",
       "      <td>-0.046641</td>\n",
       "      <td>135.0</td>\n",
       "    </tr>\n",
       "  </tbody>\n",
       "</table>\n",
       "</div>"
      ],
      "text/plain": [
       "        age       sex       bmi        bp        s1        s2        s3  \\\n",
       "0  0.038076  0.050680  0.061696  0.021872 -0.044223 -0.034821 -0.043401   \n",
       "1 -0.001882 -0.044642 -0.051474 -0.026328 -0.008449 -0.019163  0.074412   \n",
       "2  0.085299  0.050680  0.044451 -0.005670 -0.045599 -0.034194 -0.032356   \n",
       "3 -0.089063 -0.044642 -0.011595 -0.036656  0.012191  0.024991 -0.036038   \n",
       "4  0.005383 -0.044642 -0.036385  0.021872  0.003935  0.015596  0.008142   \n",
       "\n",
       "         s4        s5        s6   medv  \n",
       "0 -0.002592  0.019907 -0.017646  151.0  \n",
       "1 -0.039493 -0.068332 -0.092204   75.0  \n",
       "2 -0.002592  0.002861 -0.025930  141.0  \n",
       "3  0.034309  0.022688 -0.009362  206.0  \n",
       "4 -0.002592 -0.031988 -0.046641  135.0  "
      ]
     },
     "execution_count": 30,
     "metadata": {},
     "output_type": "execute_result"
    }
   ],
   "source": [
    "data = load_diabetes()\n",
    "\n",
    "X_db = pd.DataFrame(data['data'], columns=data['feature_names'])\n",
    "y_db = pd.Series(data['target'], name='medv')\n",
    "\n",
    "pd.concat((X_db, y_db), axis=1).head(5)"
   ]
  },
  {
   "cell_type": "markdown",
   "metadata": {},
   "source": [
    "Let's experiment with the first linear regression implementation:"
   ]
  },
  {
   "cell_type": "code",
   "execution_count": 31,
   "metadata": {},
   "outputs": [
    {
     "name": "stdout",
     "output_type": "stream",
     "text": [
      "Feature coefficients: \n",
      "age    -10.009866\n",
      "sex   -239.815644\n",
      "bmi    519.845920\n",
      "bp     324.384646\n",
      "s1    -792.175639\n",
      "s2     476.739021\n",
      "s3     101.043268\n",
      "s4     177.063238\n",
      "s5     751.273700\n",
      "s6      67.626692\n",
      "dtype: float64\n",
      "\n",
      "\n",
      "Intercept: 152.13348416289597\n",
      "\n",
      "\n",
      "\n",
      "Targets for the first 5 rows: \n",
      "\n",
      " [151.  75. 141. 206. 135.]\n",
      "\n",
      "Predictions for the first 5 rows: \n",
      "\n",
      " [206.11667725  68.07103297 176.88279035 166.91445843 128.46225834]\n",
      "\n",
      "Mean Squared Error (MSE): 2859.6963475867506\n"
     ]
    }
   ],
   "source": [
    "lr = LinearRegression()\n",
    "lr.fit(X_db, y_db)\n",
    "coefficients = lr.coef_\n",
    "intercept = lr.intercept_\n",
    "\n",
    "print('Feature coefficients: ')\n",
    "print(pd.Series(coefficients, X_db.columns))\n",
    "print('\\n')\n",
    "\n",
    "print('Intercept: {}'.format(intercept))\n",
    "print('\\n')\n",
    "\n",
    "print('\\nTargets for the first 5 rows: \\n\\n', y_db.head(5).values)\n",
    "print('\\nPredictions for the first 5 rows: \\n\\n', lr.predict(X_db.head(5)))\n",
    "print(\"\\nMean Squared Error (MSE): {}\".format(linear_regression_mse(y_db.values, lr.predict(X_db))))"
   ]
  },
  {
   "cell_type": "markdown",
   "metadata": {},
   "source": [
    "At this point, you've learned a lot about linear regression, and you might be wondering, <em>\"Where is the error component in the linear regression formula?\"</em>. Let's not answer that theoretical question right now. First, we need to approach our current subject from a practical standpoint.\n",
    "\n",
    "Also, we haven't addressed the assumptions made by the linear regression model. For a hands-on approach to those, check this [blog post by Selva Prabhakaran](http://r-statistics.co/Assumptions-of-Linear-Regression.html).\n",
    "\n",
    "![too-much-info](media/too-much-information.gif)"
   ]
  },
  {
   "cell_type": "markdown",
   "metadata": {},
   "source": [
    "Let's take a step back, then, and review what we've already covered:\n",
    "\n",
    "* How to implement a model for simple linear regression\n",
    "* How to implement a model for multiple linear regression\n",
    "* A simple error function we can use\n",
    "* A closed form solution for linear regression\n",
    "* The scikit-learn model for linear regression\n",
    "\n",
    "You're probably just trying to take it all in as fast as you can. \n",
    "\n",
    "Don't despair. We're almost at the end of the notebook. The last topic we'll introduce is the gradient descent method. It'll only be a brief introduction, because you'll learn more about it in other units."
   ]
  },
  {
   "attachments": {},
   "cell_type": "markdown",
   "metadata": {},
   "source": [
    "## 4 -  Gradient Descent \n",
    "\n",
    "In order to solve the linear regression problem and get the values of $\\vec{\\beta}$, we have, up to this point, studied closed form solutions, which resulted in a so-called _Normal Equation_. This equation allows us to obtain the optimum values of $\\vec{\\beta}$ through direct calculation.\n",
    "\n",
    "However, the _Normal Equation_ isn't the only way to accomplish this. Instead, we can use iterative processes, which rely on optimization algorithms. There are, of course, advantages and disadvantages to this approach in comparison with the _Normal Equation_, on which we'll expand later in this section, but we can already note an advantage of the former. Interative processes can be used for several Machine Learning models, as well as applications in other fields, for which we wouldn't use the _Normal Equation_. \n",
    "\n",
    "In what follows, we will explore one of these iterative processes, the gradient descent method:"
   ]
  },
  {
   "cell_type": "markdown",
   "metadata": {},
   "source": [
    "Gradient descent is a well known and popular iterative optimization for both linear and non-linear models. You can use it to estimate the parameters for linear regression, neural networks, probabilistic graphical models, k-means, and much more!\n",
    "\n",
    "The essential component of the gradient descent algorithm is the **update rule**:\n",
    "\n",
    "Let $f$ be a differentiable function and $\\omega$ be one of the parameters of $f$. Then, in order to minimize the value outputted by $f(\\omega)$, we iteratively use the following formula. In every step, we calculate the next value of $\\omega$ from the previous value, and we repeat this process until we get close to the minumum value of $f$.\n",
    "\n",
    "$$\\omega_k = \\omega_{k-1} - \\alpha \\frac{\\partial f(\\omega)}{\\partial \\omega}$$\n",
    "\n",
    "$\\frac{\\partial f}{\\partial \\omega}$ is the [partial derivative of $f$ with respect to $\\omega$](https://www.khanacademy.org/math/multivariable-calculus/multivariable-derivatives/partial-derivative-and-gradient-articles/a/introduction-to-partial-derivatives), and $\\alpha$ is the learning rate. \n",
    "Therefore, we can see that gradient descent uses a partial derivative as a _heuristic_ to identify the direction where the minimum is located, and multiplying the learning rate by the partial derivative gives you a _velocity_ factor, which you'll use to update $\\omega$. There are two ways to increase this _velocity_ : \n",
    "(1) higher learning rates and (2) big gradients (gradient is given by the derivative)."
   ]
  },
  {
   "cell_type": "markdown",
   "metadata": {},
   "source": [
    "Those derivatives we mentioned earlier in this lesson will come in handy now.\n",
    "\n",
    "$$\\frac{d J}{d \\beta_0} = -\\frac{1}{N} \\sum_{i=1}^N [2 (y_i - \\hat{y_i})] $$\n",
    "\n",
    "$$ \\frac{d J}{d \\beta_k} = -\\frac{1}{N}\\sum_{i=1}^N [2( y_i - \\hat{y_i})x_{k_i}] $$ \n",
    "\n",
    "Let's implement them as lambda functions:"
   ]
  },
  {
   "cell_type": "code",
   "execution_count": 32,
   "metadata": {},
   "outputs": [],
   "source": [
    "mse_derivative_b0 = lambda y, y_hat: -(2*(y - y_hat)).mean()\n",
    "mse_derivative_bk = lambda y, y_hat, x_k: -(2*(y - y_hat)*x_k).mean()"
   ]
  },
  {
   "cell_type": "markdown",
   "metadata": {},
   "source": [
    "Now, we can then use them to implement the update rule. Currently, we have:\n",
    "\n",
    "1. _For epoch in 1...epochs:_\n",
    "    1. $\\beta_0 = \\beta_0 - \\alpha \\frac{\\partial J}{\\partial \\beta_0} = \\beta_0 - \\alpha (-\\frac{1}{N} \\sum_{n=1}^N 2 (y_n - \\hat{y}_n))$ \n",
    "    2. _For i in 1..K:_\n",
    "        1. $\\beta_i = \\beta_i - \\alpha \\frac{\\partial J}{\\partial \\beta_i} = \\beta_i - \\alpha (-\\frac{1}{N} \\sum_{n=1}^N 2 (y_n - \\hat{y}_n) x_n)$"
   ]
  },
  {
   "cell_type": "code",
   "execution_count": 33,
   "metadata": {},
   "outputs": [],
   "source": [
    "def gradient_descent_multiple_linear_regression(x, y, betas, learning_rate, epochs, clip=False):\n",
    "    \n",
    "    betas_ = betas.copy().reshape(-1, 1)\n",
    "    for epoch in range(epochs): \n",
    "        y_hat = multiple_linear_regression(x, betas_.flatten())\n",
    "        dJ_dbetas = np.zeros((x.shape[1] + 1, 1))\n",
    "        dJ_dbetas[0] = mse_derivative_b0(y, y_hat)\n",
    "        \n",
    "        for col in range(x.shape[1]): \n",
    "            dJ_dbetas[col+1] = mse_derivative_bk(y, y_hat, x[:, col])\n",
    "        \n",
    "        # We add this to avoid increasingly bigger derivatives\n",
    "        if clip == True:\n",
    "            dJ_dbetas = np.clip(dJ_dbetas, -1, 1)\n",
    "            \n",
    "        betas_ = betas_ - learning_rate * dJ_dbetas\n",
    "\n",
    "    return betas_"
   ]
  },
  {
   "cell_type": "markdown",
   "metadata": {},
   "source": [
    "### 4.1 - Gradient Descent for simple linear regression\n",
    "\n",
    "Let's try to run the gradient descent for our linear example:"
   ]
  },
  {
   "cell_type": "code",
   "execution_count": 34,
   "metadata": {},
   "outputs": [],
   "source": [
    "np.random.seed(42)\n",
    "\n",
    "df = pd.read_csv('data/linear-learning-notebook.csv')\n",
    "df = df.sort_values('x')\n",
    "x_lin_df = df['x'].to_numpy()\n",
    "y_lin_df = df['y'].to_numpy()\n",
    "\n",
    "betas = gradient_descent_multiple_linear_regression(\n",
    "    x_lin_df.reshape(-1, 1), \n",
    "    y_lin_df, \n",
    "    np.random.rand(2), \n",
    "    0.01, \n",
    "    100)"
   ]
  },
  {
   "cell_type": "markdown",
   "metadata": {},
   "source": [
    "Now plot the solution:"
   ]
  },
  {
   "cell_type": "code",
   "execution_count": 35,
   "metadata": {},
   "outputs": [
    {
     "name": "stdout",
     "output_type": "stream",
     "text": [
      "Mean Squared Error (MSE): 0.7354602285661168\n"
     ]
    },
    {
     "data": {
      "image/png": "[encoded data removed]",
      "text/plain": [
       "<Figure size 480x360 with 1 Axes>"
      ]
     },
     "metadata": {},
     "output_type": "display_data"
    }
   ],
   "source": [
    "y_pred = linear_regression(x_lin_df, betas[0], betas[1])\n",
    "plt.plot(x_lin_df, y_lin_df, 'b.')\n",
    "plt.plot(x_lin_df, y_pred, 'r-')\n",
    "plt.plot([0, 0], [-8, 8], 'g-', [-8, 8], [0, 0], 'g-', linewidth=0.4)\n",
    "\n",
    "print(\"Mean Squared Error (MSE): {}\".format(linear_regression_mse(y_lin_df, y_pred)))"
   ]
  },
  {
   "cell_type": "markdown",
   "metadata": {},
   "source": [
    "### 4.2 - Gradient Descent for multiple linear regression"
   ]
  },
  {
   "cell_type": "code",
   "execution_count": 36,
   "metadata": {},
   "outputs": [],
   "source": [
    "np.random.seed(42)\n",
    "\n",
    "df = pd.read_csv('data/polynomial-learning-notebook.csv')\n",
    "df = df.sort_values('x')\n",
    "x_pln_df = df['x'].to_numpy()\n",
    "X_pln_df = df.drop(columns='y').to_numpy()\n",
    "y_pln_df = df['y'].to_numpy()\n",
    "\n",
    "betas = gradient_descent_multiple_linear_regression(\n",
    "    X_pln_df, \n",
    "    y_pln_df, \n",
    "    np.random.rand(4), \n",
    "    0.001, \n",
    "    5000, \n",
    "    clip=True)"
   ]
  },
  {
   "cell_type": "markdown",
   "metadata": {},
   "source": [
    "Plot the solution again:"
   ]
  },
  {
   "cell_type": "code",
   "execution_count": 37,
   "metadata": {},
   "outputs": [
    {
     "name": "stdout",
     "output_type": "stream",
     "text": [
      "Mean Squared Error (MSE): 14.943328536097281\n"
     ]
    },
    {
     "data": {
      "image/png": "[encoded data removed]",
      "text/plain": [
       "<Figure size 480x360 with 1 Axes>"
      ]
     },
     "metadata": {},
     "output_type": "display_data"
    }
   ],
   "source": [
    "y_pred = multiple_linear_regression(X_pln_df, betas.flatten())\n",
    "plt.plot(x_pln_df, y_pln_df, 'b.')\n",
    "plt.plot(x_pln_df, y_pred, 'r-')\n",
    "plt.plot([0, 0], [-20, 20], 'g-', [-20, 20], [0, 0], 'g-', linewidth=0.4)\n",
    "\n",
    "print(\"Mean Squared Error (MSE): {}\".format(linear_regression_mse(y_pln_df, y_pred)))"
   ]
  },
  {
   "cell_type": "markdown",
   "metadata": {},
   "source": [
    "### 4.3 - Gradient Descent for multiple linear regression: diabetes example\n",
    "\n",
    "Finally, let's run a Gradient Descent for the previous complex example:"
   ]
  },
  {
   "cell_type": "code",
   "execution_count": 38,
   "metadata": {},
   "outputs": [],
   "source": [
    "data = load_diabetes()\n",
    "\n",
    "X_db = pd.DataFrame(data['data'], columns=data['feature_names'])\n",
    "y_db = pd.Series(data['target'], name='medv')\n",
    "\n",
    "betas = gradient_descent_multiple_linear_regression(\n",
    "    X_db.to_numpy(), \n",
    "    y_db.to_numpy(), \n",
    "    np.random.rand(X_db.shape[1]+1), \n",
    "    0.1, \n",
    "    5000)\n"
   ]
  },
  {
   "cell_type": "markdown",
   "metadata": {},
   "source": [
    "Print the coefficients and the intercept and compare them and the error with the previous methods:"
   ]
  },
  {
   "cell_type": "code",
   "execution_count": 39,
   "metadata": {},
   "outputs": [
    {
     "name": "stdout",
     "output_type": "stream",
     "text": [
      "Feature coefficients: \n",
      "age      6.478293\n",
      "sex   -197.603432\n",
      "bmi    487.730386\n",
      "bp     302.660958\n",
      "s1     -41.672292\n",
      "s2    -106.718426\n",
      "s3    -206.725395\n",
      "s4     128.485856\n",
      "s5     407.328457\n",
      "s6     117.105207\n",
      "dtype: float64\n",
      "\n",
      "\n",
      "Intercept: 152.13348416289597\n",
      "\n",
      "\n",
      "\n",
      "Targets for the first 5 rows: \n",
      "\n",
      " [151.  75. 141. 206. 135.]\n",
      "\n",
      "Predictions for the first 5 rows: \n",
      "\n",
      " [199.31694936  71.17795405 172.66955412 160.45639725 127.52771582]\n",
      "\n",
      "Mean Squared Error (MSE): 2899.0901338141266\n"
     ]
    }
   ],
   "source": [
    "betas = betas.flatten()\n",
    "y_pred = multiple_linear_regression(X_db.to_numpy(), betas)\n",
    "\n",
    "print('Feature coefficients: ')\n",
    "print(pd.Series(betas[1:], X_db.columns))\n",
    "print('\\n')\n",
    "\n",
    "print('Intercept: {}'.format(betas[0]))\n",
    "print('\\n')\n",
    "\n",
    "print('\\nTargets for the first 5 rows: \\n\\n', y_db.head(5).to_numpy())\n",
    "print('\\nPredictions for the first 5 rows: \\n\\n', y_pred[:5])\n",
    "print(\"\\nMean Squared Error (MSE): {}\".format(linear_regression_mse(y_db.to_numpy(), y_pred)))"
   ]
  },
  {
   "cell_type": "markdown",
   "metadata": {},
   "source": [
    "### 4.4 - Gradient Descent vs Normal Equation\n",
    "\n",
    "As we have just seen, both the _Normal Equation_ and the iterative optimization methods, such as _gradient descent_, are suitable methods to solve the linear regression problem. So, at this point, you might be wondering: (1) how to choose one method over the other, and (2) what are their advantages and disadvantages:\n",
    "\n",
    "(1) To choose either the _Normal Equation_ or an iterative optimization, keep in mind that the _Normal Equation_ is specific for linear models and, therefore, should not be used to solve other type of models.\n",
    "\n",
    "However, we can also ask how to choose between methods when dealing with Linear models only. There are two options: (1) if you are going to use a scikit-learn `LinearRegression` model, then the choice is made for you. Scikit-learn will apply the _Normal Equation_ (together with other mathematical techniques that allow for computational requirements to be reduced). If you decide to go with your own hands-on implementation, then consider the positives and negatives of each method.\n",
    "\n",
    "(2) Regarding the advantages and disadvantages of each method in general, keep the following points in mind:\n",
    "\n",
    "The advantages of the _Normal Equation_ method over _Gradient Descent_:\n",
    "- The _Normal Equation_ method doesn't require any iterations to reach a result\n",
    "- It doesn't require the user to choose the value of a learning rate\n",
    "- And it doesn't require variables to be scaled or normalized\n",
    "\n",
    "The advantages of the _gradient descent_ method over _Normal Equation_:\n",
    "- The _gradient descent_ method works well when you have a large number of features, which will slow down the _Normal Equation_ method. \n",
    "- The _gradient descent_ method doesn't require computing the $(X^T X)^{-1}$ component, which can be problematic, because $X^T X$ may be a non-invertible quantity, which happens, for example, when two features are linearly dependent."
   ]
  },
  {
   "cell_type": "markdown",
   "metadata": {},
   "source": [
    "### 4.5 - Normalization\n",
    "\n",
    "You might have notice in the description of the diabetes dataset that it's normalized. Specifically, the description says:\n",
    ">Note: Each of these 10 feature variables have been mean centered and scaled by the standard deviation times the square root of `n_samples` (i.e. the sum of squares of each column totals 1).\n",
    "\n",
    "Run the cell below to see the dataset:"
   ]
  },
  {
   "cell_type": "code",
   "execution_count": 40,
   "metadata": {},
   "outputs": [
    {
     "data": {
      "text/html": [
       "<div>\n",
       "<style scoped>\n",
       "    .dataframe tbody tr th:only-of-type {\n",
       "        vertical-align: middle;\n",
       "    }\n",
       "\n",
       "    .dataframe tbody tr th {\n",
       "        vertical-align: top;\n",
       "    }\n",
       "\n",
       "    .dataframe thead th {\n",
       "        text-align: right;\n",
       "    }\n",
       "</style>\n",
       "<table border=\"1\" class=\"dataframe\">\n",
       "  <thead>\n",
       "    <tr style=\"text-align: right;\">\n",
       "      <th></th>\n",
       "      <th>age</th>\n",
       "      <th>sex</th>\n",
       "      <th>bmi</th>\n",
       "      <th>bp</th>\n",
       "      <th>s1</th>\n",
       "      <th>s2</th>\n",
       "      <th>s3</th>\n",
       "      <th>s4</th>\n",
       "      <th>s5</th>\n",
       "      <th>s6</th>\n",
       "    </tr>\n",
       "  </thead>\n",
       "  <tbody>\n",
       "    <tr>\n",
       "      <th>count</th>\n",
       "      <td>4.420000e+02</td>\n",
       "      <td>4.420000e+02</td>\n",
       "      <td>4.420000e+02</td>\n",
       "      <td>4.420000e+02</td>\n",
       "      <td>4.420000e+02</td>\n",
       "      <td>4.420000e+02</td>\n",
       "      <td>4.420000e+02</td>\n",
       "      <td>4.420000e+02</td>\n",
       "      <td>4.420000e+02</td>\n",
       "      <td>4.420000e+02</td>\n",
       "    </tr>\n",
       "    <tr>\n",
       "      <th>mean</th>\n",
       "      <td>-2.511817e-19</td>\n",
       "      <td>1.230790e-17</td>\n",
       "      <td>-2.245564e-16</td>\n",
       "      <td>-4.797570e-17</td>\n",
       "      <td>-1.381499e-17</td>\n",
       "      <td>3.918434e-17</td>\n",
       "      <td>-5.777179e-18</td>\n",
       "      <td>-9.042540e-18</td>\n",
       "      <td>9.293722e-17</td>\n",
       "      <td>1.130318e-17</td>\n",
       "    </tr>\n",
       "    <tr>\n",
       "      <th>std</th>\n",
       "      <td>4.761905e-02</td>\n",
       "      <td>4.761905e-02</td>\n",
       "      <td>4.761905e-02</td>\n",
       "      <td>4.761905e-02</td>\n",
       "      <td>4.761905e-02</td>\n",
       "      <td>4.761905e-02</td>\n",
       "      <td>4.761905e-02</td>\n",
       "      <td>4.761905e-02</td>\n",
       "      <td>4.761905e-02</td>\n",
       "      <td>4.761905e-02</td>\n",
       "    </tr>\n",
       "    <tr>\n",
       "      <th>min</th>\n",
       "      <td>-1.072256e-01</td>\n",
       "      <td>-4.464164e-02</td>\n",
       "      <td>-9.027530e-02</td>\n",
       "      <td>-1.123988e-01</td>\n",
       "      <td>-1.267807e-01</td>\n",
       "      <td>-1.156131e-01</td>\n",
       "      <td>-1.023071e-01</td>\n",
       "      <td>-7.639450e-02</td>\n",
       "      <td>-1.260971e-01</td>\n",
       "      <td>-1.377672e-01</td>\n",
       "    </tr>\n",
       "    <tr>\n",
       "      <th>25%</th>\n",
       "      <td>-3.729927e-02</td>\n",
       "      <td>-4.464164e-02</td>\n",
       "      <td>-3.422907e-02</td>\n",
       "      <td>-3.665608e-02</td>\n",
       "      <td>-3.424784e-02</td>\n",
       "      <td>-3.035840e-02</td>\n",
       "      <td>-3.511716e-02</td>\n",
       "      <td>-3.949338e-02</td>\n",
       "      <td>-3.324559e-02</td>\n",
       "      <td>-3.317903e-02</td>\n",
       "    </tr>\n",
       "    <tr>\n",
       "      <th>50%</th>\n",
       "      <td>5.383060e-03</td>\n",
       "      <td>-4.464164e-02</td>\n",
       "      <td>-7.283766e-03</td>\n",
       "      <td>-5.670422e-03</td>\n",
       "      <td>-4.320866e-03</td>\n",
       "      <td>-3.819065e-03</td>\n",
       "      <td>-6.584468e-03</td>\n",
       "      <td>-2.592262e-03</td>\n",
       "      <td>-1.947171e-03</td>\n",
       "      <td>-1.077698e-03</td>\n",
       "    </tr>\n",
       "    <tr>\n",
       "      <th>75%</th>\n",
       "      <td>3.807591e-02</td>\n",
       "      <td>5.068012e-02</td>\n",
       "      <td>3.124802e-02</td>\n",
       "      <td>3.564379e-02</td>\n",
       "      <td>2.835801e-02</td>\n",
       "      <td>2.984439e-02</td>\n",
       "      <td>2.931150e-02</td>\n",
       "      <td>3.430886e-02</td>\n",
       "      <td>3.243232e-02</td>\n",
       "      <td>2.791705e-02</td>\n",
       "    </tr>\n",
       "    <tr>\n",
       "      <th>max</th>\n",
       "      <td>1.107267e-01</td>\n",
       "      <td>5.068012e-02</td>\n",
       "      <td>1.705552e-01</td>\n",
       "      <td>1.320436e-01</td>\n",
       "      <td>1.539137e-01</td>\n",
       "      <td>1.987880e-01</td>\n",
       "      <td>1.811791e-01</td>\n",
       "      <td>1.852344e-01</td>\n",
       "      <td>1.335973e-01</td>\n",
       "      <td>1.356118e-01</td>\n",
       "    </tr>\n",
       "  </tbody>\n",
       "</table>\n",
       "</div>"
      ],
      "text/plain": [
       "                age           sex           bmi            bp            s1  \\\n",
       "count  4.420000e+02  4.420000e+02  4.420000e+02  4.420000e+02  4.420000e+02   \n",
       "mean  -2.511817e-19  1.230790e-17 -2.245564e-16 -4.797570e-17 -1.381499e-17   \n",
       "std    4.761905e-02  4.761905e-02  4.761905e-02  4.761905e-02  4.761905e-02   \n",
       "min   -1.072256e-01 -4.464164e-02 -9.027530e-02 -1.123988e-01 -1.267807e-01   \n",
       "25%   -3.729927e-02 -4.464164e-02 -3.422907e-02 -3.665608e-02 -3.424784e-02   \n",
       "50%    5.383060e-03 -4.464164e-02 -7.283766e-03 -5.670422e-03 -4.320866e-03   \n",
       "75%    3.807591e-02  5.068012e-02  3.124802e-02  3.564379e-02  2.835801e-02   \n",
       "max    1.107267e-01  5.068012e-02  1.705552e-01  1.320436e-01  1.539137e-01   \n",
       "\n",
       "                 s2            s3            s4            s5            s6  \n",
       "count  4.420000e+02  4.420000e+02  4.420000e+02  4.420000e+02  4.420000e+02  \n",
       "mean   3.918434e-17 -5.777179e-18 -9.042540e-18  9.293722e-17  1.130318e-17  \n",
       "std    4.761905e-02  4.761905e-02  4.761905e-02  4.761905e-02  4.761905e-02  \n",
       "min   -1.156131e-01 -1.023071e-01 -7.639450e-02 -1.260971e-01 -1.377672e-01  \n",
       "25%   -3.035840e-02 -3.511716e-02 -3.949338e-02 -3.324559e-02 -3.317903e-02  \n",
       "50%   -3.819065e-03 -6.584468e-03 -2.592262e-03 -1.947171e-03 -1.077698e-03  \n",
       "75%    2.984439e-02  2.931150e-02  3.430886e-02  3.243232e-02  2.791705e-02  \n",
       "max    1.987880e-01  1.811791e-01  1.852344e-01  1.335973e-01  1.356118e-01  "
      ]
     },
     "execution_count": 40,
     "metadata": {},
     "output_type": "execute_result"
    }
   ],
   "source": [
    "X_db.describe()"
   ]
  },
  {
   "cell_type": "markdown",
   "metadata": {},
   "source": [
    "This kind of normalization is called standardization and is achieved by using the scikit-learn [StandardScaler](https://scikit-learn.org/stable/modules/generated/sklearn.preprocessing.StandardScaler.html). Another common normalization technique is normalization to a certain range, e.g. between 0 and 1. This is done using the [MinMaxScaler](https://scikit-learn.org/stable/modules/generated/sklearn.preprocessing.MinMaxScaler.html#sklearn.preprocessing.MinMaxScaler). \n",
    "\n",
    "Generally, you should always check if your dataset is normalized or if the model you are planning to use requires normalization. If it does, you should ask what kind of normalization it needs. You'll learn more about normalization in later units, but for now let's just discuss its importance to linear regression."
   ]
  },
  {
   "cell_type": "markdown",
   "metadata": {},
   "source": [
    "To execute correctly, the `SGDRegressor` requires a standardization of features, and the `LinearRegression` model doesn't require normalization. Considering how limited computational precision during calculation, if features suffer a wide range of different values, you might not get your expected result.\n",
    "\n",
    "Two reasons for normalizing features are:\n",
    "\n",
    "1. Depending on what optimization algorithm you use, if feature $f_1$ has a range of [-4.1; 3] and feature $f_2$ has a range of [-1.1; 100000], your predictions won't give you accurate results. More technically speaking, the impact on the gradient calculation can lead to problems in the convergence to the global minimums. There are optimization algorithms that can avoid this issue, but still suffer from issue (2).\n",
    "4. If two features use different ranges, it will be hard to compare them in terms of their importance. For example, if feature ($f_1$)'s range is [-0.1; 0.1] and feature ($f_2$)'s range is [0; 1000], it doesn't make sense to understand the influence of features on prediction through the same lens as we used above, when we had our introduction to simple linear regression (i.e. an increase of 1 unit in $x$ increases $\\beta_1$ units in $\\hat{y}$). Therefore, we're left with two options:\n",
    "    1. Normalize the resulting coefficients according to the scale;\n",
    "    2. Normalize the inputs into the same scale."
   ]
  },
  {
   "attachments": {},
   "cell_type": "markdown",
   "metadata": {},
   "source": [
    "## 5 - Summary: Linear Regression Pros & Cons\n",
    "\n",
    "**PROS**\n",
    "* Really easy to understand\n",
    "* Fast optimization\n",
    "* Easy to extend the model: you haven't seen how this is true here, but there is a thing called the _Generalized Linear Model (GLM)_. Once you get a good grip on linear regression, you should visit the [scikit-learn page on GLMs](http://scikit-learn.org/stable/modules/linear_model.html) to learn more. \n",
    "\n",
    "**CONS**\n",
    "* Obviously, it only works for linear problems (linear dependence of output on features).\n",
    "* It's sensitive to outliers, even though there are ways, at least partially, to deal with this issue.\n",
    "* Linear regresion assumes that there is no collinearity.\n",
    "* So far, we've only addressed numerical features, but we shouldn't forget categorical features (see SLU12). Specifically, things might get tricky when the number of unique values is large, but some of those unique values occur infrequently."
   ]
  },
  {
   "cell_type": "markdown",
   "metadata": {},
   "source": [
    "## Next Step: Exercise Notebook\n",
    "And that is it! Congratulations! You've just learned your first predictive model. You've learned how to perform linear regressions with simple and multiple features models, and you're now able to solve them through closed form solutions and even through a simple iterative method. Now, go on and apply what you've learned to the exercises. Also, check out the examples notebook for practical code snippets. \n",
    "\n",
    "In the next units, you'll see other types of tasks and models and learn advanced topics.\n",
    "\n",
    "![im-ready](media/im-ready.gif)"
   ]
  }
 ],
 "metadata": {
  "kernelspec": {
   "display_name": "Python 3 (ipykernel)",
   "language": "python",
   "name": "python3"
  },
  "language_info": {
   "codemirror_mode": {
    "name": "ipython",
    "version": 3
   },
   "file_extension": ".py",
   "mimetype": "text/x-python",
   "name": "python",
   "nbconvert_exporter": "python",
   "pygments_lexer": "ipython3",
   "version": "3.12.11"
  },
  "toc": {
   "base_numbering": 1,
   "nav_menu": {},
   "number_sections": false,
   "sideBar": true,
   "skip_h1_title": false,
   "title_cell": "Table of Contents",
   "title_sidebar": "Contents",
   "toc_cell": false,
   "toc_position": {
    "height": "calc(100% - 180px)",
    "left": "10px",
    "top": "150px",
    "width": "288px"
   },
   "toc_section_display": true,
   "toc_window_display": true
  },
  "widgets": {
   "application/vnd.jupyter.widget-state+json": {
    "state": {
     "01be37a1ce7747b1b6d762b8ff015319": {
      "model_module": "@jupyter-widgets/base",
      "model_module_version": "2.0.0",
      "model_name": "LayoutModel",
      "state": {}
     },
     "025b99a76aa44be39c0958919c9095da": {
      "model_module": "@jupyter-widgets/controls",
      "model_module_version": "2.0.0",
      "model_name": "VBoxModel",
      "state": {
       "_dom_classes": [
        "widget-interact"
       ],
       "children": [
        "IPY_MODEL_3daf7bdee2144f4099dd36b94f5c112e",
        "IPY_MODEL_732d254529794a5c8de2659948230a85",
        "IPY_MODEL_e57e7c9c977b47d392e83643bf4765f2",
        "IPY_MODEL_55a5b3939401447688c8477478055c3f",
        "IPY_MODEL_7452666209284e39b844b8e07046c65a"
       ],
       "layout": "IPY_MODEL_3dd2df10f5da45f1b6e21bc7c056bc66"
      }
     },
     "05a8d22586144cac86f6149c6b6c4164": {
      "model_module": "@jupyter-widgets/base",
      "model_module_version": "2.0.0",
      "model_name": "LayoutModel",
      "state": {}
     },
     "0808679776754fd38aae8a5a2075fda9": {
      "model_module": "@jupyter-widgets/controls",
      "model_module_version": "2.0.0",
      "model_name": "FloatSliderModel",
      "state": {
       "behavior": "drag-tap",
       "description": "b0",
       "layout": "IPY_MODEL_854961f11240421e93bb045965fc7d9c",
       "max": 10,
       "min": -10,
       "step": 0.01,
       "style": "IPY_MODEL_5b5b1fc52ac8459eb594bb926d8643a1"
      }
     },
     "0c54bf2443aa480799e23e685b13349f": {
      "model_module": "@jupyter-widgets/output",
      "model_module_version": "1.0.0",
      "model_name": "OutputModel",
      "state": {
       "layout": "IPY_MODEL_273e3eb88ed04112a092950692acfd8b",
       "outputs": [
        {
         "data": {
          "image/png": "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",
          "text/plain": "<Figure size 480x360 with 1 Axes>"
         },
         "metadata": {},
         "output_type": "display_data"
        }
       ]
      }
     },
     "0ce504ed2dc6439fa2857efb101dcf41": {
      "model_module": "@jupyter-widgets/output",
      "model_module_version": "1.0.0",
      "model_name": "OutputModel",
      "state": {
       "layout": "IPY_MODEL_b3534104c1ba410ea681314adb791baf",
       "outputs": [
        {
         "data": {
          "image/png": "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",
          "text/plain": "<Figure size 480x360 with 1 Axes>"
         },
         "metadata": {},
         "output_type": "display_data"
        },
        {
         "data": {
          "text/plain": "'Mean Squared Error (MSE): 47.20916026219285'"
         },
         "metadata": {},
         "output_type": "display_data"
        }
       ]
      }
     },
     "0daf254ad9cf42f39ea383ad40a70408": {
      "model_module": "@jupyter-widgets/controls",
      "model_module_version": "2.0.0",
      "model_name": "FloatSliderModel",
      "state": {
       "behavior": "drag-tap",
       "description": "b0",
       "layout": "IPY_MODEL_894565e66831498f8a3749f9dc09faca",
       "max": 10,
       "min": -10,
       "step": 0.01,
       "style": "IPY_MODEL_12dfd5980f1d4688bc1ee403c3f4d8f4"
      }
     },
     "12dfd5980f1d4688bc1ee403c3f4d8f4": {
      "model_module": "@jupyter-widgets/controls",
      "model_module_version": "2.0.0",
      "model_name": "SliderStyleModel",
      "state": {
       "description_width": ""
      }
     },
     "1b36452d13f24ed39680cd9533d01482": {
      "model_module": "@jupyter-widgets/controls",
      "model_module_version": "2.0.0",
      "model_name": "SliderStyleModel",
      "state": {
       "description_width": ""
      }
     },
     "273e3eb88ed04112a092950692acfd8b": {
      "model_module": "@jupyter-widgets/base",
      "model_module_version": "2.0.0",
      "model_name": "LayoutModel",
      "state": {}
     },
     "35432057d1d541fb82152f7bc16427be": {
      "model_module": "@jupyter-widgets/controls",
      "model_module_version": "2.0.0",
      "model_name": "SliderStyleModel",
      "state": {
       "description_width": ""
      }
     },
     "360ec80850c54eaa80ee8c123a156ab8": {
      "model_module": "@jupyter-widgets/controls",
      "model_module_version": "2.0.0",
      "model_name": "FloatSliderModel",
      "state": {
       "behavior": "drag-tap",
       "description": "b0",
       "layout": "IPY_MODEL_05a8d22586144cac86f6149c6b6c4164",
       "max": 10,
       "min": -10,
       "step": 0.01,
       "style": "IPY_MODEL_e18dc3e1bd8e414aab8f7bee21b8a9b8"
      }
     },
     "3d2038a065fd442d99203f8d9b2427b3": {
      "model_module": "@jupyter-widgets/base",
      "model_module_version": "2.0.0",
      "model_name": "LayoutModel",
      "state": {}
     },
     "3daf7bdee2144f4099dd36b94f5c112e": {
      "model_module": "@jupyter-widgets/controls",
      "model_module_version": "2.0.0",
      "model_name": "FloatSliderModel",
      "state": {
       "behavior": "drag-tap",
       "description": "b0",
       "layout": "IPY_MODEL_a954d5806d8a47279be1316faf2f93fe",
       "max": 10,
       "min": -10,
       "step": 0.01,
       "style": "IPY_MODEL_767b500c7d6540c9b2f795bb89234ec4"
      }
     },
     "3dd2df10f5da45f1b6e21bc7c056bc66": {
      "model_module": "@jupyter-widgets/base",
      "model_module_version": "2.0.0",
      "model_name": "LayoutModel",
      "state": {}
     },
     "49767521107c46ee80d7a8fa016eeb8b": {
      "model_module": "@jupyter-widgets/base",
      "model_module_version": "2.0.0",
      "model_name": "LayoutModel",
      "state": {}
     },
     "4ecad069c4f44b0b879a02b5d90b850d": {
      "model_module": "@jupyter-widgets/controls",
      "model_module_version": "2.0.0",
      "model_name": "FloatSliderModel",
      "state": {
       "behavior": "drag-tap",
       "description": "b3",
       "layout": "IPY_MODEL_7da0f22558164028a6405896c690c927",
       "max": 1,
       "min": -1,
       "step": 0.01,
       "style": "IPY_MODEL_35432057d1d541fb82152f7bc16427be"
      }
     },
     "55a5b3939401447688c8477478055c3f": {
      "model_module": "@jupyter-widgets/controls",
      "model_module_version": "2.0.0",
      "model_name": "FloatSliderModel",
      "state": {
       "behavior": "drag-tap",
       "description": "b3",
       "layout": "IPY_MODEL_3d2038a065fd442d99203f8d9b2427b3",
       "max": 0.5,
       "min": -0.5,
       "step": 0.005,
       "style": "IPY_MODEL_8adb042cbd36490ab01d5880e938529c"
      }
     },
     "5b5b1fc52ac8459eb594bb926d8643a1": {
      "model_module": "@jupyter-widgets/controls",
      "model_module_version": "2.0.0",
      "model_name": "SliderStyleModel",
      "state": {
       "description_width": ""
      }
     },
     "60eecd59c2354590b2188055bb47e80f": {
      "model_module": "@jupyter-widgets/controls",
      "model_module_version": "2.0.0",
      "model_name": "SliderStyleModel",
      "state": {
       "description_width": ""
      }
     },
     "732a5dbda5b24d21868ab3170a079caa": {
      "model_module": "@jupyter-widgets/controls",
      "model_module_version": "2.0.0",
      "model_name": "FloatSliderModel",
      "state": {
       "behavior": "drag-tap",
       "description": "b1",
       "layout": "IPY_MODEL_c4b9de129b604f6690768888cfc16ae0",
       "max": 3,
       "min": -3,
       "step": 0.01,
       "style": "IPY_MODEL_60eecd59c2354590b2188055bb47e80f",
       "value": 0.9999999999999996
      }
     },
     "732d254529794a5c8de2659948230a85": {
      "model_module": "@jupyter-widgets/controls",
      "model_module_version": "2.0.0",
      "model_name": "FloatSliderModel",
      "state": {
       "behavior": "drag-tap",
       "description": "b1",
       "layout": "IPY_MODEL_f87ac6aefda04eaaae337c5e55214afc",
       "max": 5,
       "min": -5,
       "step": 0.01,
       "style": "IPY_MODEL_b3be587f8529404eb7a90291e3f69eaa",
       "value": 1
      }
     },
     "7452666209284e39b844b8e07046c65a": {
      "model_module": "@jupyter-widgets/output",
      "model_module_version": "1.0.0",
      "model_name": "OutputModel",
      "state": {
       "layout": "IPY_MODEL_a8559f117fd34730ab72918a74345328",
       "outputs": [
        {
         "data": {
          "image/png": "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",
          "text/plain": "<Figure size 480x360 with 1 Axes>"
         },
         "metadata": {},
         "output_type": "display_data"
        },
        {
         "data": {
          "text/plain": "'Mean Squared Error (MSE): 353.4367025876058'"
         },
         "metadata": {},
         "output_type": "display_data"
        }
       ]
      }
     },
     "74b115fb961543b6a955401c7ac9d40f": {
      "model_module": "@jupyter-widgets/controls",
      "model_module_version": "2.0.0",
      "model_name": "SliderStyleModel",
      "state": {
       "description_width": ""
      }
     },
     "7613c3a481944ac197f1339020a85707": {
      "model_module": "@jupyter-widgets/base",
      "model_module_version": "2.0.0",
      "model_name": "LayoutModel",
      "state": {}
     },
     "767b500c7d6540c9b2f795bb89234ec4": {
      "model_module": "@jupyter-widgets/controls",
      "model_module_version": "2.0.0",
      "model_name": "SliderStyleModel",
      "state": {
       "description_width": ""
      }
     },
     "7da0f22558164028a6405896c690c927": {
      "model_module": "@jupyter-widgets/base",
      "model_module_version": "2.0.0",
      "model_name": "LayoutModel",
      "state": {}
     },
     "854961f11240421e93bb045965fc7d9c": {
      "model_module": "@jupyter-widgets/base",
      "model_module_version": "2.0.0",
      "model_name": "LayoutModel",
      "state": {}
     },
     "876d6c7d06114ca99c405ea00cc02cff": {
      "model_module": "@jupyter-widgets/base",
      "model_module_version": "2.0.0",
      "model_name": "LayoutModel",
      "state": {}
     },
     "894565e66831498f8a3749f9dc09faca": {
      "model_module": "@jupyter-widgets/base",
      "model_module_version": "2.0.0",
      "model_name": "LayoutModel",
      "state": {}
     },
     "8adb042cbd36490ab01d5880e938529c": {
      "model_module": "@jupyter-widgets/controls",
      "model_module_version": "2.0.0",
      "model_name": "SliderStyleModel",
      "state": {
       "description_width": ""
      }
     },
     "8cf46d33e4c7416c964635d24b6cbf9b": {
      "model_module": "@jupyter-widgets/controls",
      "model_module_version": "2.0.0",
      "model_name": "VBoxModel",
      "state": {
       "_dom_classes": [
        "widget-interact"
       ],
       "children": [
        "IPY_MODEL_0daf254ad9cf42f39ea383ad40a70408",
        "IPY_MODEL_ed61fbda1b2041a290ecfdf26c81833d",
        "IPY_MODEL_0c54bf2443aa480799e23e685b13349f"
       ],
       "layout": "IPY_MODEL_876d6c7d06114ca99c405ea00cc02cff"
      }
     },
     "8f1153e765964ac385eac6c2ee7628b7": {
      "model_module": "@jupyter-widgets/base",
      "model_module_version": "2.0.0",
      "model_name": "LayoutModel",
      "state": {}
     },
     "9ee1085b5eb24251954ea425384f1422": {
      "model_module": "@jupyter-widgets/controls",
      "model_module_version": "2.0.0",
      "model_name": "FloatSliderModel",
      "state": {
       "behavior": "drag-tap",
       "description": "b1",
       "layout": "IPY_MODEL_8f1153e765964ac385eac6c2ee7628b7",
       "max": 5,
       "min": -5,
       "step": 0.01,
       "style": "IPY_MODEL_b5364e9ac026432fb27c2bbc0724b9fc",
       "value": 1
      }
     },
     "a8559f117fd34730ab72918a74345328": {
      "model_module": "@jupyter-widgets/base",
      "model_module_version": "2.0.0",
      "model_name": "LayoutModel",
      "state": {}
     },
     "a954d5806d8a47279be1316faf2f93fe": {
      "model_module": "@jupyter-widgets/base",
      "model_module_version": "2.0.0",
      "model_name": "LayoutModel",
      "state": {}
     },
     "b154941daaba487da776fb7541022793": {
      "model_module": "@jupyter-widgets/output",
      "model_module_version": "1.0.0",
      "model_name": "OutputModel",
      "state": {
       "layout": "IPY_MODEL_01be37a1ce7747b1b6d762b8ff015319",
       "outputs": [
        {
         "data": {
          "image/png": "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",
          "text/plain": "<Figure size 480x360 with 1 Axes>"
         },
         "metadata": {},
         "output_type": "display_data"
        }
       ]
      }
     },
     "b2216c565e9f4875912f3c78f45931a6": {
      "model_module": "@jupyter-widgets/controls",
      "model_module_version": "2.0.0",
      "model_name": "SliderStyleModel",
      "state": {
       "description_width": ""
      }
     },
     "b3534104c1ba410ea681314adb791baf": {
      "model_module": "@jupyter-widgets/base",
      "model_module_version": "2.0.0",
      "model_name": "LayoutModel",
      "state": {}
     },
     "b3be587f8529404eb7a90291e3f69eaa": {
      "model_module": "@jupyter-widgets/controls",
      "model_module_version": "2.0.0",
      "model_name": "SliderStyleModel",
      "state": {
       "description_width": ""
      }
     },
     "b5364e9ac026432fb27c2bbc0724b9fc": {
      "model_module": "@jupyter-widgets/controls",
      "model_module_version": "2.0.0",
      "model_name": "SliderStyleModel",
      "state": {
       "description_width": ""
      }
     },
     "b5576872247849ea97454ac6325d6166": {
      "model_module": "@jupyter-widgets/base",
      "model_module_version": "2.0.0",
      "model_name": "LayoutModel",
      "state": {}
     },
     "c4b9de129b604f6690768888cfc16ae0": {
      "model_module": "@jupyter-widgets/base",
      "model_module_version": "2.0.0",
      "model_name": "LayoutModel",
      "state": {}
     },
     "da1f7d3b22404d668182bed7b21dff40": {
      "model_module": "@jupyter-widgets/controls",
      "model_module_version": "2.0.0",
      "model_name": "VBoxModel",
      "state": {
       "_dom_classes": [
        "widget-interact"
       ],
       "children": [
        "IPY_MODEL_0808679776754fd38aae8a5a2075fda9",
        "IPY_MODEL_732a5dbda5b24d21868ab3170a079caa",
        "IPY_MODEL_0ce504ed2dc6439fa2857efb101dcf41"
       ],
       "layout": "IPY_MODEL_49767521107c46ee80d7a8fa016eeb8b"
      }
     },
     "e18dc3e1bd8e414aab8f7bee21b8a9b8": {
      "model_module": "@jupyter-widgets/controls",
      "model_module_version": "2.0.0",
      "model_name": "SliderStyleModel",
      "state": {
       "description_width": ""
      }
     },
     "e57e7c9c977b47d392e83643bf4765f2": {
      "model_module": "@jupyter-widgets/controls",
      "model_module_version": "2.0.0",
      "model_name": "FloatSliderModel",
      "state": {
       "behavior": "drag-tap",
       "description": "b2",
       "layout": "IPY_MODEL_ef41f70f4bca4b12916de354781aedbc",
       "max": 1,
       "min": -1,
       "step": 0.01,
       "style": "IPY_MODEL_74b115fb961543b6a955401c7ac9d40f"
      }
     },
     "ed61fbda1b2041a290ecfdf26c81833d": {
      "model_module": "@jupyter-widgets/controls",
      "model_module_version": "2.0.0",
      "model_name": "FloatSliderModel",
      "state": {
       "behavior": "drag-tap",
       "description": "b1",
       "layout": "IPY_MODEL_7613c3a481944ac197f1339020a85707",
       "max": 3,
       "min": -3,
       "step": 0.01,
       "style": "IPY_MODEL_1b36452d13f24ed39680cd9533d01482",
       "value": 0.9999999999999996
      }
     },
     "ef41f70f4bca4b12916de354781aedbc": {
      "model_module": "@jupyter-widgets/base",
      "model_module_version": "2.0.0",
      "model_name": "LayoutModel",
      "state": {}
     },
     "f4d82c9f81c64a8fbc0c58c4859a2e6f": {
      "model_module": "@jupyter-widgets/controls",
      "model_module_version": "2.0.0",
      "model_name": "FloatSliderModel",
      "state": {
       "behavior": "drag-tap",
       "description": "b2",
       "layout": "IPY_MODEL_f701195b0fda4b5da13d0ce1552dee62",
       "max": 1,
       "min": -1,
       "step": 0.01,
       "style": "IPY_MODEL_b2216c565e9f4875912f3c78f45931a6"
      }
     },
     "f701195b0fda4b5da13d0ce1552dee62": {
      "model_module": "@jupyter-widgets/base",
      "model_module_version": "2.0.0",
      "model_name": "LayoutModel",
      "state": {}
     },
     "f80893e9157947b0bf7772f0180c5d03": {
      "model_module": "@jupyter-widgets/controls",
      "model_module_version": "2.0.0",
      "model_name": "VBoxModel",
      "state": {
       "_dom_classes": [
        "widget-interact"
       ],
       "children": [
        "IPY_MODEL_360ec80850c54eaa80ee8c123a156ab8",
        "IPY_MODEL_9ee1085b5eb24251954ea425384f1422",
        "IPY_MODEL_f4d82c9f81c64a8fbc0c58c4859a2e6f",
        "IPY_MODEL_4ecad069c4f44b0b879a02b5d90b850d",
        "IPY_MODEL_b154941daaba487da776fb7541022793"
       ],
       "layout": "IPY_MODEL_b5576872247849ea97454ac6325d6166"
      }
     },
     "f87ac6aefda04eaaae337c5e55214afc": {
      "model_module": "@jupyter-widgets/base",
      "model_module_version": "2.0.0",
      "model_name": "LayoutModel",
      "state": {}
     }
    },
    "version_major": 2,
    "version_minor": 0
   }
  }
 },
 "nbformat": 4,
 "nbformat_minor": 4
}
