{
 "cells": [
  {
   "cell_type": "code",
   "execution_count": 1,
   "id": "3ba4c53e",
   "metadata": {},
   "outputs": [],
   "source": [
    "import pandas as pd\n",
    "import numpy as np\n",
    "import utils\n",
    "import matplotlib.pyplot as plt\n",
    "import utils\n",
    "\n",
    "plt.rcParams['figure.figsize'] = (12, 4.2)"
   ]
  },
  {
   "cell_type": "markdown",
   "id": "dbd808e3",
   "metadata": {},
   "source": [
    "This notebook is for the extra curious ones and intends to address the issue of calculating lagged correlations in timeseries with missing data.\n",
    "\n",
    "The aim here is for you to understand the problem at hand and propose a solution. However, this notebook does not provide you the tools to reproduce the exact same plots as the ones shown in the learning notebook (in terms of aesthetics and the information on uncertainty)."
   ]
  },
  {
   "cell_type": "markdown",
   "id": "d96ad4a3",
   "metadata": {},
   "source": [
    "<img src=\"media/curious_jack.jpg\">"
   ]
  },
  {
   "cell_type": "code",
   "execution_count": 2,
   "id": "5c631dc7",
   "metadata": {},
   "outputs": [],
   "source": [
    "# Loading the same data as in the learning notebooks\n",
    "airlines = utils.load_airlines_series()\n",
    "airlines_logged = np.log(airlines)\n",
    "\n",
    "train = airlines_logged.iloc[:-24]"
   ]
  },
  {
   "cell_type": "markdown",
   "id": "e5fd02a7",
   "metadata": {},
   "source": [
    "When you calculate the `diff()` of `train`, the first value is `nan` (since there is no value for 1948-12-01 to subtract from it)."
   ]
  },
  {
   "cell_type": "code",
   "execution_count": 3,
   "id": "15a22287",
   "metadata": {},
   "outputs": [
    {
     "data": {
      "text/plain": [
       "Month\n",
       "1949-01-01         NaN\n",
       "1949-02-01    0.052186\n",
       "1949-03-01    0.112117\n",
       "1949-04-01   -0.022990\n",
       "1949-05-01   -0.064022\n",
       "Name: thousands of passengers, dtype: float64"
      ]
     },
     "execution_count": 3,
     "metadata": {},
     "output_type": "execute_result"
    }
   ],
   "source": [
    "train.diff().head()"
   ]
  },
  {
   "cell_type": "markdown",
   "id": "5db586a8",
   "metadata": {},
   "source": [
    "We get a similar behaviour when applying `.shift()` (more info on this [here](https://pandas.pydata.org/docs/reference/api/pandas.DataFrame.shift.html))."
   ]
  },
  {
   "cell_type": "code",
   "execution_count": 4,
   "id": "2fe665ca",
   "metadata": {},
   "outputs": [
    {
     "data": {
      "text/plain": [
       "Month\n",
       "1949-01-01         NaN\n",
       "1949-02-01         NaN\n",
       "1949-03-01    4.718499\n",
       "1949-04-01    4.770685\n",
       "1949-05-01    4.882802\n",
       "Name: thousands of passengers, dtype: float64"
      ]
     },
     "execution_count": 4,
     "metadata": {},
     "output_type": "execute_result"
    }
   ],
   "source": [
    "train.shift(2).head()"
   ]
  },
  {
   "cell_type": "code",
   "execution_count": 5,
   "id": "15e9fdef",
   "metadata": {},
   "outputs": [
    {
     "data": {
      "text/plain": [
       "Month\n",
       "1958-08-01    5.736572\n",
       "1958-09-01    5.820083\n",
       "1958-10-01         NaN\n",
       "1958-11-01         NaN\n",
       "1958-12-01         NaN\n",
       "Name: thousands of passengers, dtype: float64"
      ]
     },
     "execution_count": 5,
     "metadata": {},
     "output_type": "execute_result"
    }
   ],
   "source": [
    "train.shift(-3).tail()"
   ]
  },
  {
   "cell_type": "markdown",
   "id": "05945e7a",
   "metadata": {},
   "source": [
    "Correlation calculations can't handle `nan` values and in the learning notebooks we handled this with a `dropna()`. But why did we stress that **this is okay only  when the `nan` values are in the beginning or end of the timeseries**?\n",
    "\n",
    "Because these calculations do not look at timestamps and assume that the time interval between consecutive values is always the same."
   ]
  },
  {
   "cell_type": "code",
   "execution_count": 6,
   "id": "fb434ca2",
   "metadata": {},
   "outputs": [
    {
     "data": {
      "text/plain": [
       "Month\n",
       "1949-01-01    4.718499\n",
       "1949-02-01    4.770685\n",
       "1949-03-01    4.882802\n",
       "1949-08-01    4.997212\n",
       "1949-09-01    4.912655\n",
       "Name: thousands of passengers, dtype: float64"
      ]
     },
     "execution_count": 6,
     "metadata": {},
     "output_type": "execute_result"
    }
   ],
   "source": [
    "# Meaning that if the data from April to July 1949 were missing\n",
    "train2 = train.copy()\n",
    "train2[3:7] = np.nan\n",
    "\n",
    "# If you calculate the ACF after doing a `.dropna()`, it will assume that the 3rd row is the 1st lagged term (1 month before)\n",
    "# of the 4th row, when in fact it is 5 months.\n",
    "train2.dropna().head()"
   ]
  },
  {
   "cell_type": "markdown",
   "id": "6d88dccd",
   "metadata": {},
   "source": [
    "This make the **temporal meaning of a lag inconsistent throughout the timeseries** (i.e. whenever there's a \"data hole\" the actual lag between two consecutive data points will be >1)."
   ]
  },
  {
   "cell_type": "markdown",
   "id": "2e973123",
   "metadata": {},
   "source": [
    "Now, a suggestion how to handle this:\n",
    "- create an explicit lagged column (using `.shift()`),\n",
    "- delete the rows where either the original or the lagged timeseries are `nan`\n",
    "- calculate the correlation between the two (which traditionally is called a cross-correlation)\n",
    "\n",
    "That way you effectively drop the `nan` values, but keep the correct original-lag term correspondence. The fact that we did the lag before dropping the `nan` ensures this.\n",
    "\n",
    "Find below a function aiming to do this."
   ]
  },
  {
   "cell_type": "code",
   "execution_count": 7,
   "id": "4a1dc404",
   "metadata": {},
   "outputs": [],
   "source": [
    "# Function receiving the pd.Series x and the maximum lag to be considered (default = 25)\n",
    "# Flow:\n",
    "# 1) a dataframe df is created containing x and its lagged terms (calculated using the .shift() from pandas)\n",
    "# 2) For each lag, the original timeseries and the lagged term are put side by side in df2\n",
    "# 3) Rows with nan values are dropped\n",
    "# 4) The autocorrelation is calculated using the corrcoef function from numpy\n",
    "\n",
    "def autocorrelation(x, max_lag = 25):\n",
    "    # to store the obtained acf values\n",
    "    acf_values = np.array([])\n",
    "    \n",
    "    # convert pd.Series to pd.DataFrame\n",
    "    df = pd.DataFrame(x)\n",
    "\n",
    "    # creates the lagged terms of x\n",
    "    for lag in range(0,max_lag):\n",
    "        # naming the columns\n",
    "        if lag<10:\n",
    "            col_name = 'lag_0' + str(lag)\n",
    "        else:\n",
    "            col_name = 'lag_' + str(lag)\n",
    "\n",
    "        df[col_name] = x.shift(-lag)\n",
    "    \n",
    "    # calculates the acf values\n",
    "    for lag in range(0,max_lag):\n",
    "        if lag<10:\n",
    "            col_name = 'lag_0' + str(lag)\n",
    "        else:\n",
    "            col_name = 'lag_' + str(lag)\n",
    "        \n",
    "        # stores the two columns of interest (the original timeseries and the lagged term under evaluation)\n",
    "        # drops rows with nan\n",
    "        df2 = df[[df.columns[0],col_name]].dropna()\n",
    "        \n",
    "        # calculates acf for a given lag\n",
    "        val = np.corrcoef(df2.iloc[:,0],df2.iloc[:,1])[0,1]\n",
    "        \n",
    "        # stores calculated acf value\n",
    "        acf_values = np.append(acf_values,val)\n",
    "    \n",
    "    return acf_values"
   ]
  },
  {
   "cell_type": "markdown",
   "id": "1e5814de",
   "metadata": {},
   "source": [
    "### Example 1: showing that `nan` in the beginning/end of the timeseries have no impact in the ACF"
   ]
  },
  {
   "cell_type": "code",
   "execution_count": 8,
   "id": "0bdd08ef",
   "metadata": {},
   "outputs": [],
   "source": [
    "# ACF of the diffed train (with 1 nan in the beginning) letting the function handle the nan values\n",
    "acf_values_1 = autocorrelation(x = train.diff())"
   ]
  },
  {
   "cell_type": "code",
   "execution_count": 9,
   "id": "ad91ef90",
   "metadata": {},
   "outputs": [
    {
     "data": {
      "image/png": "[encoded data removed]",
      "text/plain": [
       "<Figure size 1200x420 with 1 Axes>"
      ]
     },
     "metadata": {},
     "output_type": "display_data"
    }
   ],
   "source": [
    "plt.bar(x=list(range(0,len(acf_values_1))),height=acf_values_1, color = 'red', width=0.8)\n",
    "plt.xlabel('Lag')\n",
    "plt.ylabel('ACF');"
   ]
  },
  {
   "cell_type": "code",
   "execution_count": 10,
   "id": "eb302225",
   "metadata": {},
   "outputs": [],
   "source": [
    "# ACF of the same series, but handling the nan values with dropna in the raw diffed timeseries\n",
    "acf_values_2 = autocorrelation(x = train.diff().dropna())"
   ]
  },
  {
   "cell_type": "code",
   "execution_count": 11,
   "id": "ae396a81",
   "metadata": {},
   "outputs": [
    {
     "data": {
      "text/plain": [
       "array([0., 0., 0., 0., 0., 0., 0., 0., 0., 0., 0., 0., 0., 0., 0., 0., 0.,\n",
       "       0., 0., 0., 0., 0., 0., 0., 0.])"
      ]
     },
     "execution_count": 11,
     "metadata": {},
     "output_type": "execute_result"
    }
   ],
   "source": [
    "# difference between ACF values. as you can see, no difference whatsoever\n",
    "acf_values_1 - acf_values_2"
   ]
  },
  {
   "cell_type": "markdown",
   "id": "824a2487",
   "metadata": {},
   "source": [
    "### Example 2: showing that `nan` in the middle of the timeseries impact the ACF"
   ]
  },
  {
   "cell_type": "code",
   "execution_count": 12,
   "id": "20bd99cd",
   "metadata": {},
   "outputs": [],
   "source": [
    "train2 = train.copy()\n",
    "train2.iloc[[2,16,30,76,118]] = np.nan"
   ]
  },
  {
   "cell_type": "code",
   "execution_count": 13,
   "id": "4cb7cd8e",
   "metadata": {},
   "outputs": [],
   "source": [
    "# ACF of the diffed train (now also with a few nan in the middle) letting the function handle the nan values\n",
    "acf_values_3 = autocorrelation(x = train2.diff())"
   ]
  },
  {
   "cell_type": "code",
   "execution_count": 14,
   "id": "2c00a1e4",
   "metadata": {},
   "outputs": [],
   "source": [
    "# ACF of the same series, but handling the nan values with dropna in the raw diffed timeseries\n",
    "acf_values_4 = autocorrelation(x = train2.diff().dropna())"
   ]
  },
  {
   "cell_type": "code",
   "execution_count": 15,
   "id": "ac9e1f48",
   "metadata": {},
   "outputs": [
    {
     "data": {
      "text/plain": [
       "array([ 0.        ,  0.01347961, -0.03031757, -0.01911206,  0.01444697,\n",
       "        0.01274504,  0.1099722 ,  0.00183928, -0.12275707, -0.06985759,\n",
       "       -0.32298508, -0.01808211,  0.40271841,  0.10198756,  0.05393898,\n",
       "       -0.0327418 , -0.16911426,  0.0773975 ,  0.17460509, -0.04961625,\n",
       "       -0.21825526, -0.18075299, -0.36730495,  0.08438211,  0.5801035 ])"
      ]
     },
     "metadata": {},
     "output_type": "display_data"
    },
    {
     "data": {
      "text/plain": [
       "[-0.36730494854868995, 0.580103504995535]"
      ]
     },
     "metadata": {},
     "output_type": "display_data"
    }
   ],
   "source": [
    "display(acf_values_3 - acf_values_4)\n",
    "\n",
    "display([np.min(acf_values_3 - acf_values_4), np.max(acf_values_3 - acf_values_4)])"
   ]
  },
  {
   "cell_type": "code",
   "execution_count": 16,
   "id": "ab3af259",
   "metadata": {},
   "outputs": [
    {
     "data": {
      "image/png": "[encoded data removed]",
      "text/plain": [
       "<Figure size 1200x420 with 1 Axes>"
      ]
     },
     "metadata": {},
     "output_type": "display_data"
    }
   ],
   "source": [
    "plt.bar(x=list(range(0,len(acf_values_3))),height=acf_values_3-acf_values_4, color = 'red', width=0.8)\n",
    "plt.xlabel('Lag')\n",
    "plt.title('Difference in ACF values depending on how nans are treated')\n",
    "plt.ylim([-0.6,0.6]);"
   ]
  },
  {
   "cell_type": "markdown",
   "id": "c87b2c2d",
   "metadata": {},
   "source": [
    "<img src=\"media/looney.png\">"
   ]
  },
  {
   "cell_type": "markdown",
   "id": "c02ffb11",
   "metadata": {},
   "source": [
    "We know this was a bit too specific, but again... take it as a supplementary knowledge.\n",
    "Maybe for future reference, who knows :)"
   ]
  }
 ],
 "metadata": {
  "kernelspec": {
   "display_name": "Python 3 (ipykernel)",
   "language": "python",
   "name": "python3"
  },
  "language_info": {
   "codemirror_mode": {
    "name": "ipython",
    "version": 3
   },
   "file_extension": ".py",
   "mimetype": "text/x-python",
   "name": "python",
   "nbconvert_exporter": "python",
   "pygments_lexer": "ipython3",
   "version": "3.12.7"
  }
 },
 "nbformat": 4,
 "nbformat_minor": 5
}
