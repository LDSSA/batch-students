{
 "cells": [
  {
   "cell_type": "markdown",
   "id": "ce1a72b2",
   "metadata": {
    "deletable": false,
    "editable": false,
    "nbgrader": {
     "grade": false,
     "grade_id": "cell-dab527fc8f5f5b27",
     "locked": true,
     "schema_version": 3,
     "solution": false,
     "task": false
    }
   },
   "source": [
    "# SLU03 | Visualization with Pandas and Matplotlib: Exercise notebook\n",
    "***"
   ]
  },
  {
   "cell_type": "markdown",
   "id": "b86cfd73",
   "metadata": {
    "deletable": false,
    "editable": false,
    "nbgrader": {
     "grade": false,
     "grade_id": "cell-28a014a18a479972",
     "locked": true,
     "schema_version": 3,
     "solution": false,
     "task": false
    }
   },
   "source": [
    "## Start by importing these packages"
   ]
  },
  {
   "cell_type": "code",
   "execution_count": null,
   "id": "aeb267e9",
   "metadata": {
    "deletable": false,
    "editable": false,
    "nbgrader": {
     "grade": false,
     "grade_id": "cell-581a0becf5c78cb0",
     "locked": true,
     "schema_version": 3,
     "solution": false,
     "task": false
    }
   },
   "outputs": [],
   "source": [
    "# for evaluation purposes\n",
    "import hashlib\n",
    "\n",
    "import pandas as pd\n",
    "import numpy as np\n",
    "import plotchecker\n",
    "from plotchecker import PlotChecker\n",
    "import seaborn as sns\n",
    "\n",
    "def _hash(s):\n",
    "    \"\"\"Function used to hash the answers and compare with the right answer.\"\"\"\n",
    "    \n",
    "    return hashlib.blake2b(\n",
    "        bytes(str(s), encoding='utf8'),\n",
    "        digest_size=5\n",
    "    ).hexdigest()\n",
    "\n",
    "def get_data(p, ax=0):\n",
    "    \"\"\"Gets data from plot and concatenates it.\n",
    "    \n",
    "    This is required for hashing the plot results.\n",
    "    \"\"\"\n",
    "    all_x_data = []\n",
    "    lines = p.axis.get_lines()\n",
    "    collections = axis.collections\n",
    "    if len(lines) > 0:\n",
    "        all_x_data.append(np.concatenate([x.get_xydata()[:, ax] for x in lines]))\n",
    "    if len(collections) > 0:\n",
    "        all_x_data.append(np.concatenate([x.get_offsets()[:, ax] for x in collections]))\n",
    "    return np.concatenate(all_x_data, axis=0)"
   ]
  },
  {
   "cell_type": "markdown",
   "id": "48e0ff57",
   "metadata": {
    "deletable": false,
    "editable": false,
    "nbgrader": {
     "grade": false,
     "grade_id": "cell-1056bd66fb73306b",
     "locked": true,
     "schema_version": 3,
     "solution": false,
     "task": false
    }
   },
   "source": [
    "## Learning Objectives for Data Visualization\n",
    "\n",
    "In this exercise notebook, we will explore various data visualization techniques using the \"ds_salaries\" dataset from https://www.kaggle.com/datasets/ruchi798/data-science-job-salaries/. Our main objective is to gain insights if it is worth doing this data science course at all. Therefor we look at the factors that influence data science job salaries and understand the salary trends within the data science field. By working with a subset of the original dataset, we will cover the following learning objectives:\n",
    "\n",
    "**Basics of Data Visualization**\n",
    "   - Gain an understanding of the fundamental principles of data visualization and its importance in extracting insights from data.\n",
    "   \n",
    "**Salary by Geographic Location**\n",
    "   - Visualize salary disparities with a scatter plot based on the companies locations. We'll examine better plots on how to visualize compensation variation by geographic location. This will help give us insights into regional salary trends.\n",
    "   \n",
    "**Analyzing Salary by Job Title**\n",
    "   - Discover data visualization techniques to explore salary distributions across various job titles in data science. We want to see which roles are associated with higher or lower compensation, so we know for which we are going to apply after the LDSA Data Science course.\n",
    "\n",
    "**Exploring Salary vs. Experience**\n",
    "   - Visualize the relationship between salary and experience levels in the data science field. We will look for that trend and hope we find a line that keeps going up.\n",
    "\n",
    "**Identifying Outliers**\n",
    "   - Dive into visualization to identify potential outliers in the salary data, which may be individuals with exceptionally high or low salaries. It would be interesting to know if those exceptionally high salaries are just a typo in our dataset or .... we like to know more about this individuals. \n",
    "\n",
    "**Exploring Salary Distribution**\n",
    "   - Create visual representations of the overall distribution of salaries in the data science job market. This will help us understand the typical salary ranges.\n",
    "\n",
    "Now, let's embark on our journey into the world of data visualization with the \"ds_salaries\" dataset."
   ]
  },
  {
   "cell_type": "code",
   "execution_count": null,
   "id": "2435c5ad",
   "metadata": {
    "deletable": false,
    "editable": false,
    "nbgrader": {
     "grade": false,
     "grade_id": "cell-4cd998e47a0c235d",
     "locked": true,
     "schema_version": 3,
     "solution": false,
     "task": false
    }
   },
   "outputs": [],
   "source": [
    "# Load the dataset\n",
    "ds_salaries = pd.read_csv(\"data/ds_salaries.csv\")\n",
    "\n",
    "# Select the specific columns you want to display\n",
    "selected_columns = [\"work_year\", \"experience_level\", \"job_title\", \"salary_in_usd\", \"employee_residence\", \"company_location\", \"company_size\"]\n",
    "ds_salaries = ds_salaries[selected_columns]\n",
    "\n",
    "# Display the first few rows of the modified DataFrame\n",
    "rows, columns = ds_salaries.shape\n",
    "print(f'ds_salaries: {rows} records and {columns} fields.');\n",
    "ds_salaries.head()\n"
   ]
  },
  {
   "cell_type": "markdown",
   "id": "a8553b98",
   "metadata": {
    "deletable": false,
    "editable": false,
    "nbgrader": {
     "grade": false,
     "grade_id": "cell-b1e742a4d3bc5f15",
     "locked": true,
     "schema_version": 3,
     "solution": false,
     "task": false
    }
   },
   "source": [
    "For these exercises we will use `matplotlib.pyplot` module. We will start by importing it with some ✨magic✨."
   ]
  },
  {
   "cell_type": "code",
   "execution_count": null,
   "id": "8ff1b370",
   "metadata": {
    "deletable": false,
    "editable": false,
    "nbgrader": {
     "grade": false,
     "grade_id": "cell-b235d0752bffc0a6",
     "locked": true,
     "schema_version": 3,
     "solution": false,
     "task": false
    }
   },
   "outputs": [],
   "source": [
    "import matplotlib.pyplot as plt\n",
    "\n",
    "%matplotlib inline"
   ]
  },
  {
   "cell_type": "markdown",
   "id": "783706c0",
   "metadata": {
    "deletable": false,
    "editable": false,
    "nbgrader": {
     "grade": false,
     "grade_id": "cell-aea0fd8297ca9c09",
     "locked": true,
     "schema_version": 3,
     "solution": false,
     "task": false
    }
   },
   "source": [
    "## Exercise 1\n",
    "\n",
    "To start, you are going to change some default settings as follows in the next cell:\n",
    "* change the default pyplot chart size to 9 inches width and 9 inches height   \n",
    "* change 'lines.linewidth' to 5   \n",
    "* change 'lines.linestyle' to be a striped line '--'\n"
   ]
  },
  {
   "cell_type": "code",
   "execution_count": null,
   "id": "050365e7",
   "metadata": {
    "deletable": false,
    "nbgrader": {
     "grade": false,
     "grade_id": "cell-8f165ec5a450f25c",
     "locked": false,
     "schema_version": 3,
     "solution": true,
     "task": false
    }
   },
   "outputs": [],
   "source": [
    "# YOUR CODE HERE\n",
    "raise NotImplementedError()\n"
   ]
  },
  {
   "cell_type": "code",
   "execution_count": null,
   "id": "20e89057",
   "metadata": {
    "deletable": false,
    "editable": false,
    "nbgrader": {
     "grade": true,
     "grade_id": "cell-b946f716a3066c6f",
     "locked": true,
     "points": 1,
     "schema_version": 3,
     "solution": false,
     "task": false
    }
   },
   "outputs": [],
   "source": [
    "\n",
    "# Check the default figure size\n",
    "assert plt.rcParams['figure.figsize'] == [9.0, 9.0], 'Default figure size is incorrect'\n",
    "\n",
    "# Check the default line width\n",
    "assert plt.rcParams['lines.linewidth'] == 5, 'Default line width is incorrect'\n",
    "\n",
    "# Check the default line style\n",
    "assert plt.rcParams['lines.linestyle'] == '--', 'Default line style is incorrect'\n",
    "\n",
    "\n",
    "print('It seems to work! I am curious how it will look like. You too?')"
   ]
  },
  {
   "cell_type": "code",
   "execution_count": null,
   "id": "f62e8bf9",
   "metadata": {
    "deletable": false,
    "editable": false,
    "nbgrader": {
     "grade": false,
     "grade_id": "cell-5c85dbb2712ae357",
     "locked": true,
     "schema_version": 3,
     "solution": false,
     "task": false
    }
   },
   "outputs": [],
   "source": [
    "# lets see how those settings look like with the following dataset\n",
    "x = [1, 2, 3, 4, 5]\n",
    "y = [10, 15, 7, 12, 9]\n",
    "\n",
    "plt.plot(x,y); # ps.. do you remember the reason why we use \";\" ?"
   ]
  },
  {
   "cell_type": "markdown",
   "id": "cad0941e",
   "metadata": {
    "deletable": false,
    "editable": false,
    "nbgrader": {
     "grade": false,
     "grade_id": "cell-de1a80bd855c491f",
     "locked": true,
     "schema_version": 3,
     "solution": false,
     "task": false
    }
   },
   "source": [
    "## 🛑 Important note about the grading\n",
    "\n",
    "**Grading plots is difficult**, we are using `plotchecker` to grade the plots with `nbgrader`. \n",
    "For `plotchecker` to work with `nbgrader`, **we need to add on each cell**, the line\n",
    "\n",
    "> **`axis = plt.gca();`**\n",
    "\n",
    "**After the code required** to do the plot.\n",
    "\n",
    "<div class=\"alert alert-danger\">\n",
    "    ⚠️ <b>NOTE: </b>If you get the <b>ImportError</b>, <i>plotchecker not defined</i>, make sure you activate the right environment for this unit!\n",
    "</div>\n",
    "\n",
    "> **For example**, *if we want to plot a `scatter plot` showing the relationship between **`company_location`** and **`salary_in_usd`**  columns, we would do as follows:*"
   ]
  },
  {
   "cell_type": "code",
   "execution_count": null,
   "id": "8064135f",
   "metadata": {
    "deletable": false,
    "editable": false,
    "nbgrader": {
     "grade": false,
     "grade_id": "cell-e71ff192f35d8c46",
     "locked": true,
     "schema_version": 3,
     "solution": false,
     "task": false
    }
   },
   "outputs": [],
   "source": [
    "# Create a scatter plot\n",
    "scatter_plot = ds_salaries.plot.scatter(x='company_location', y='salary_in_usd', s=50)\n",
    "\n",
    "# Rotate x-axis labels vertically\n",
    "scatter_plot.set_xticklabels(ds_salaries['company_location'], rotation=90)\n",
    "\n",
    "# Set labels and title\n",
    "plt.xlabel('Company Location')\n",
    "plt.ylabel('Salary in USD')\n",
    "plt.title('Relationship between Company Location and Salary')\n",
    "\n",
    "# Last line in the cell required to \"capture\" the cell and grade it with nbgrader\n",
    "axis = plt.gca();\n",
    "\n",
    "# Don´t mind the UserWarning iF you got one. "
   ]
  },
  {
   "cell_type": "markdown",
   "id": "5760d03f",
   "metadata": {
    "deletable": false,
    "editable": false,
    "nbgrader": {
     "grade": false,
     "grade_id": "cell-8aee4e0a5e2c884e",
     "locked": true,
     "schema_version": 3,
     "solution": false,
     "task": false
    }
   },
   "source": [
    "## Exercise 2\n",
    "\n",
    "In the above scatter plot we see the salary by geographic location. But I bet there will be a much better way to visualise this data. \n",
    "\n",
    "A heatmap would be a beautiful way to visualize salary trends by region. But which plot can show best the average salaries for the different locations?\n",
    "\n",
    "    A. Scatter plot   \n",
    "    B. Bar plot   \n",
    "    C. Histogram   \n",
    "    D. Line plot   \n",
    "    \n",
    "Leave your answer below, assigned to the `exercise_2_plot_type` variable as a string. For example:\n",
    "```\n",
    "exercise_2_plot_type = 'E'\n",
    "```"
   ]
  },
  {
   "cell_type": "code",
   "execution_count": null,
   "id": "37ed3f32",
   "metadata": {
    "deletable": false,
    "nbgrader": {
     "grade": false,
     "grade_id": "cell-14df7b90e4e7b668",
     "locked": false,
     "schema_version": 3,
     "solution": true,
     "task": false
    }
   },
   "outputs": [],
   "source": [
    "# YOUR CODE HERE\n",
    "raise NotImplementedError()"
   ]
  },
  {
   "cell_type": "code",
   "execution_count": null,
   "id": "b0ab5e99",
   "metadata": {
    "deletable": false,
    "editable": false,
    "nbgrader": {
     "grade": true,
     "grade_id": "cell-3811365992d4e32e",
     "locked": true,
     "points": 1,
     "schema_version": 3,
     "solution": false,
     "task": false
    }
   },
   "outputs": [],
   "source": [
    "\n",
    "assert _hash(exercise_2_plot_type) == '90a8cbb480', 'Try again'\n",
    "\n",
    "if _hash(exercise_2_plot_type) == '90a8cbb480':\n",
    "    plot = ds_salaries.groupby('company_location')['salary_in_usd'].mean().plot(kind='bar', figsize=(12, 6))\n",
    "    plot.set_xlabel('Company Location')\n",
    "    plot.set_ylabel('Average Salary in USD')\n",
    "    plot.set_title('Average Salaries by Company Location')\n",
    "    plt.show()  # Display the plot to students\n",
    "    \n",
    "    print('That is correct. Great! Here you can see the an example of the plot')\n",
    "\n"
   ]
  },
  {
   "cell_type": "markdown",
   "id": "3a54b690",
   "metadata": {
    "deletable": false,
    "editable": false,
    "nbgrader": {
     "grade": false,
     "grade_id": "cell-1bc4b6bca2ce3730",
     "locked": true,
     "schema_version": 3,
     "solution": false,
     "task": false
    }
   },
   "source": [
    "Lets explore Salary vs. Experience. A scatter plot or a line plot is suitable for this purpose. A scatter plot can show the relationship between salary and experience levels for individual data points. A line plot can help visualize trends in how salaries vary with different levels of experience over time. \n",
    "\n",
    "The experience level in the job during the year does have the following possible values: EN Entry-level / Junior MI Mid-level / Intermediate SE Senior-level / Expert EX Executive-level / Director\n",
    "\n",
    "You are going to make a line plot with the following settings:\n",
    "\n",
    "- set the plot **title** to **`Salary vs Experience`**.\n",
    "- label the **x-axis** as **`experience_level`**.\n",
    "- label the **y-axis** as **`salary_in_usd`**.\n",
    "\n",
    "Before plotting, we will reset matplotlib's parameters to the default ones.\n"
   ]
  },
  {
   "cell_type": "code",
   "execution_count": null,
   "id": "9315a2bd",
   "metadata": {
    "deletable": false,
    "editable": false,
    "nbgrader": {
     "grade": false,
     "grade_id": "cell-3ed583cd7762fed6",
     "locked": true,
     "schema_version": 3,
     "solution": false,
     "task": false
    }
   },
   "outputs": [],
   "source": [
    "plt.style.use('default')"
   ]
  },
  {
   "cell_type": "markdown",
   "id": "52ecad78",
   "metadata": {
    "deletable": false,
    "editable": false,
    "nbgrader": {
     "grade": false,
     "grade_id": "cell-10bf4a916224e92f",
     "locked": true,
     "schema_version": 3,
     "solution": false,
     "task": false
    }
   },
   "source": [
    "<div class=\"alert alert-info\">\n",
    "    To have a more realistic idea of this relation we are going to group by the job title and therefor we need to perform a <b><a href='https://jakevdp.github.io/PythonDataScienceHandbook/03.08-aggregation-and-grouping.html'>aggregation</a></b>, pandas support this by doing a technique called <b>\n",
    "    <a href='https://pandas.pydata.org/pandas-docs/stable/user_guide/groupby.html'>Split-Apply-Combine</a></b>. <b>This will be explained in the Data Wrangling Specialization.</b> For now we will do the grouping for you:\n",
    "</div>"
   ]
  },
  {
   "cell_type": "code",
   "execution_count": null,
   "id": "d188c55f",
   "metadata": {
    "deletable": false,
    "editable": false,
    "nbgrader": {
     "grade": false,
     "grade_id": "cell-c18a0f880d093aa5",
     "locked": true,
     "schema_version": 3,
     "solution": false,
     "task": false
    }
   },
   "outputs": [],
   "source": [
    "# Groupby the experience level and get the mean of the salaries\n",
    "grouped_by_experience = ds_salaries.groupby('experience_level')['salary_in_usd'].mean().reset_index(); \n",
    "\n",
    "# Define the custom order of indices\n",
    "custom_order = [0, 2, 3, 1]\n",
    "\n",
    "# Reindex the DataFrame based on the custom order\n",
    "grouped_by_experience = grouped_by_experience.reindex(custom_order).reset_index(drop=True)\n",
    "\n",
    "\n",
    "grouped_by_experience.head()"
   ]
  },
  {
   "cell_type": "markdown",
   "id": "1034c2d8",
   "metadata": {
    "deletable": false,
    "editable": false,
    "nbgrader": {
     "grade": false,
     "grade_id": "cell-216c322fed7e881c",
     "locked": true,
     "schema_version": 3,
     "solution": false,
     "task": false
    }
   },
   "source": [
    "<div class=\"alert alert-warning\">\n",
    "⚠️ <b>NOTE: </b>Make sure you use the dataframe named <b>grouped_by_experience</b> for the exercise\n",
    "</div>"
   ]
  },
  {
   "cell_type": "code",
   "execution_count": null,
   "id": "0b33886d",
   "metadata": {
    "deletable": false,
    "nbgrader": {
     "grade": false,
     "grade_id": "cell-2352176342bcb1f5",
     "locked": false,
     "schema_version": 3,
     "solution": true,
     "task": false
    }
   },
   "outputs": [],
   "source": [
    "# YOUR CODE HERE\n",
    "raise NotImplementedError()\n",
    "\n",
    "axis = plt.gca();  "
   ]
  },
  {
   "cell_type": "code",
   "execution_count": null,
   "id": "895711cd",
   "metadata": {
    "deletable": false,
    "editable": false,
    "nbgrader": {
     "grade": true,
     "grade_id": "cell-7469072b8ebd79de",
     "locked": true,
     "points": 2,
     "schema_version": 3,
     "solution": false,
     "task": false
    }
   },
   "outputs": [],
   "source": [
    "pc = PlotChecker(axis)\n",
    "data = get_data(pc)\n",
    "l = [pc.xlabel] + [pc.ylabel]\n",
    "l.sort()\n",
    "\n",
    "assert _hash(len(data)) == '1450aa501b', \"Did you set the right variables for the plot axes?\"\n",
    "assert _hash(l) in ['f2af386122'], \"Did you set the right variables for the plot axes?\"\n",
    "assert _hash(get_data(pc,1)) in ['7b910ab896'], \"Did you set the right variables for the plot axes?\"\n",
    "\n",
    "\n",
    "print('This is such good news! It seems that after getting more experienced the salary accelerating going up.')\n"
   ]
  },
  {
   "cell_type": "markdown",
   "id": "65ecdc8e",
   "metadata": {
    "deletable": false,
    "editable": false,
    "nbgrader": {
     "grade": false,
     "grade_id": "cell-3832d6de1363696d",
     "locked": true,
     "schema_version": 3,
     "solution": false,
     "task": false
    }
   },
   "source": [
    "## Exercise 3\n",
    "\n",
    "For analyzing salary distributions by various job titles in data science, there are different ways we can plot this. Which plot provides the most detailed view of the salary distibutions?\n",
    "\n",
    "    A. Box plot  \n",
    "    B. Line plot   \n",
    "    C. Histogram   \n",
    "    D. Bar plot   "
   ]
  },
  {
   "cell_type": "code",
   "execution_count": null,
   "id": "979e144d",
   "metadata": {
    "deletable": false,
    "nbgrader": {
     "grade": false,
     "grade_id": "cell-50dd35f745ca79d0",
     "locked": false,
     "schema_version": 3,
     "solution": true,
     "task": false
    }
   },
   "outputs": [],
   "source": [
    "# YOUR CODE HERE\n",
    "raise NotImplementedError()"
   ]
  },
  {
   "cell_type": "code",
   "execution_count": null,
   "id": "c79bed71",
   "metadata": {
    "deletable": false,
    "editable": false,
    "nbgrader": {
     "grade": true,
     "grade_id": "cell-94a4281093974f30",
     "locked": true,
     "points": 1,
     "schema_version": 3,
     "solution": false,
     "task": false
    }
   },
   "outputs": [],
   "source": [
    "assert _hash(exercise_3_plot_type) == 'b685b2f862', 'Try again'\n",
    "\n",
    "print('YES! Indeed, those are great for this. Lets make one! ')\n"
   ]
  },
  {
   "cell_type": "markdown",
   "id": "bc88129e",
   "metadata": {
    "deletable": false,
    "editable": false,
    "nbgrader": {
     "grade": false,
     "grade_id": "cell-b92aca75a3fb6761",
     "locked": true,
     "schema_version": 3,
     "solution": false,
     "task": false
    }
   },
   "source": [
    "Lets visualize this plot that has the following instructions:\n",
    "\n",
    "* Use 'job_title' en 'salary_in_usd' from the ds_salaries dataset \n",
    "* set the figure to **figsize=(15, 10)**\n",
    "* create this specific plot with the following groupby:\n",
    "    - data.groupby('job_title')['salary_in_usd'].apply(list), vert=False)\n",
    "* use **plt.yticks(range(1, len(data['job_title'].unique()) + 1), data['job_title'].unique())**\n",
    "* label x as 'Salary in USD'\n",
    "* label y as 'Salary Distribution by Job Title'\n"
   ]
  },
  {
   "cell_type": "code",
   "execution_count": null,
   "id": "676b853e",
   "metadata": {
    "deletable": false,
    "nbgrader": {
     "grade": false,
     "grade_id": "cell-f92493388c9d87a3",
     "locked": false,
     "schema_version": 3,
     "solution": true,
     "task": false
    }
   },
   "outputs": [],
   "source": [
    "# YOUR CODE HERE\n",
    "raise NotImplementedError()\n",
    "\n",
    "axis = plt.gca(); "
   ]
  },
  {
   "cell_type": "code",
   "execution_count": null,
   "id": "10ec21ad",
   "metadata": {
    "deletable": false,
    "editable": false,
    "nbgrader": {
     "grade": true,
     "grade_id": "cell-5b5e999566dea367",
     "locked": true,
     "points": 2,
     "schema_version": 3,
     "solution": false,
     "task": false
    }
   },
   "outputs": [],
   "source": [
    "pc = PlotChecker(axis)\n",
    "\n",
    "assert _hash(data['job_title'].unique()) in ['411d8e6455'], \"Did you filter on job_title?\"\n",
    "\n",
    "pc.assert_xlabel_equal('Salary in USD'), \"The x label seems wrong\"\n",
    "pc.assert_title_equal('Salary Distribution by Job Title'), \"Did you put a title for your plot?\"\n",
    "\n",
    "\n",
    "print('That was AWESOME!! Did you already made up your mind for your new jobtitel? Please pay attention to those lost dots btw... what is happening there? interesting.. We call them outliers and will get back to that. ')\n"
   ]
  },
  {
   "cell_type": "markdown",
   "id": "bccc8e8c",
   "metadata": {
    "deletable": false,
    "editable": false,
    "nbgrader": {
     "grade": false,
     "grade_id": "cell-a94f8a58b0a97e64",
     "locked": true,
     "schema_version": 3,
     "solution": false,
     "task": false
    }
   },
   "source": [
    "## Exercise 4\n",
    "\n",
    "Often we want to check if our assumptions are true. We look at our variables and with some logic we assume they will be influenced by eachother or the same factors. Which plot is most usefull to help us understand the correlation between two different variables?\n",
    "\n",
    "    A. Box plot   \n",
    "    B. Scatter plot  \n",
    "    C. Histogram   \n",
    "    D. Pie plot"
   ]
  },
  {
   "cell_type": "code",
   "execution_count": null,
   "id": "3c5b50e5",
   "metadata": {
    "deletable": false,
    "nbgrader": {
     "grade": false,
     "grade_id": "cell-303cd7bff24cb1ae",
     "locked": false,
     "schema_version": 3,
     "solution": true,
     "task": false
    }
   },
   "outputs": [],
   "source": [
    "# YOUR CODE HERE\n",
    "raise NotImplementedError()"
   ]
  },
  {
   "cell_type": "code",
   "execution_count": null,
   "id": "7a736c56",
   "metadata": {
    "deletable": false,
    "editable": false,
    "nbgrader": {
     "grade": true,
     "grade_id": "cell-37416c5240aaa09c",
     "locked": true,
     "points": 1,
     "schema_version": 3,
     "solution": false,
     "task": false
    }
   },
   "outputs": [],
   "source": [
    "assert _hash(exercise_4_plot_type) == '90a8cbb480', 'Try again'\n",
    "\n",
    "print('Yes indeed! It is a great start to use those when you want to understand your variables. Here you see, for example, how a positive correlation will look like. But no worry if this is new to you, bc you are going to learn more about this subject later.')\n",
    "\n",
    "\n",
    "# Two variables with a positive correlation\n",
    "age = np.array([1, 2, 3, 4, 5, 6, 7, 8, 9, 10])\n",
    "nr_of_friends = np.array([2, 3, 4, 6, 5, 8, 9, 10, 12, 11])\n",
    "\n",
    "# Create the plot\n",
    "plt.figure(figsize=(8, 6))\n",
    "plt.scatter(age, nr_of_friends, color='b', marker='o')\n",
    "plt.xlabel('Age')\n",
    "plt.ylabel('nr_of_friends')\n",
    "plt.title('Plot with Positive Correlation');\n"
   ]
  },
  {
   "cell_type": "markdown",
   "id": "091a3b70",
   "metadata": {
    "deletable": false,
    "editable": false,
    "nbgrader": {
     "grade": false,
     "grade_id": "cell-d4cab4398b316903",
     "locked": true,
     "schema_version": 3,
     "solution": false,
     "task": false
    }
   },
   "source": [
    "<div class=\"alert alert-warning\">\n",
    "⚠️ <b>NOTE: </b>Make sure you use the dataframe named <b>grouped_by_experience</b> for the following exercise\n",
    "</div>"
   ]
  },
  {
   "cell_type": "markdown",
   "id": "b93d1e37",
   "metadata": {
    "deletable": false,
    "editable": false,
    "nbgrader": {
     "grade": false,
     "grade_id": "cell-e24573801a54af70",
     "locked": true,
     "schema_version": 3,
     "solution": false,
     "task": false
    }
   },
   "source": [
    "We already saw this correlation between ** `salaries `** and ** `experience level `**. <br> \n",
    " Lets make another visualization to show off your skills. Now we are going to make vertically bar plot using \"barh\" from the matplotlib.<br>\n",
    "\n",
    "Plot this visualization using the \"grouped_by_experience\" dataset again and add the following extra information:\n",
    "\n",
    "- label the **x-axis** as **`Salary (median)`**.\n",
    "- label the **y-axis** as **`Experience Level`**.\n",
    "- change the **plot color** to **`orange`**.\n",
    "- name the **titel** **`Median Salary by Experience Level`**\n",
    "\n"
   ]
  },
  {
   "cell_type": "code",
   "execution_count": null,
   "id": "507dedaf",
   "metadata": {
    "deletable": false,
    "nbgrader": {
     "grade": false,
     "grade_id": "cell-64f7e3aeb7369b0c",
     "locked": false,
     "schema_version": 3,
     "solution": true,
     "task": false
    }
   },
   "outputs": [],
   "source": [
    "# YOUR CODE HERE\n",
    "raise NotImplementedError()\n",
    "axis = plt.gca();"
   ]
  },
  {
   "cell_type": "code",
   "execution_count": null,
   "id": "b9691bc3",
   "metadata": {
    "deletable": false,
    "editable": false,
    "nbgrader": {
     "grade": true,
     "grade_id": "cell-1987021abc703484",
     "locked": true,
     "points": 3,
     "schema_version": 3,
     "solution": false,
     "task": false
    }
   },
   "outputs": [],
   "source": [
    "pc = PlotChecker(axis)\n",
    "bars = axis.patches  # Get the bar patches\n",
    "colors = [bar.get_facecolor() for bar in bars] # Get the face color of each bar\n",
    "\n",
    "expected_color = (1.0, 0.647, 0.0, 1.0)\n",
    "margin = 0.01 \n",
    "assert all(\n",
    "    all(abs(c - ec) < margin for c, ec in zip(color, expected_color))\n",
    "    for color in colors\n",
    "), \"The bar plot color should be 'orange'\"\n",
    "\n",
    "\n",
    "pc.assert_xlabel_equal('Salary (median)'), \"The x label seems wrong\"\n",
    "pc.assert_ylabel_equal('Experience Level'), \"The y label seems wrong\"\n",
    "pc.assert_title_equal('Median Salary by Experience Level'), \"Did you put a title for your plot?\"\n",
    "\n",
    "\n",
    "print('That looks beautifull. You are on a roll!')\n",
    "\n",
    "\n"
   ]
  },
  {
   "cell_type": "markdown",
   "id": "d2774b27",
   "metadata": {
    "deletable": false,
    "editable": false,
    "nbgrader": {
     "grade": false,
     "grade_id": "cell-d518954d8b916192",
     "locked": true,
     "schema_version": 3,
     "solution": false,
     "task": false
    }
   },
   "source": [
    "## Exercise  5\n",
    "\n",
    "YEP! Here we go talking a little bit more about outliers. Outliers are often an important subject before you want to do any analyses on your dataset. They can influence your results in a bad way mostly, so we can not ignore them. To find outliers in the ¨ds_salaries\" dataset, you can use statistical methods and visualization techniques. \n",
    "\n",
    "1. Which of the following visualization would help you identify outliers per variable?\n",
    "2. Which technique is best to use if you comparing two variables?\n",
    "\n",
    "    A. 1. Line plot, 2. Scatter plot \n",
    "\n",
    "    B. 1. Box plot, 2. Histogram   \n",
    "\n",
    "    C. 1. Line plot, 2. Histogram \n",
    "\n",
    "    D. 1. Box plot, 2. Scatter plot "
   ]
  },
  {
   "cell_type": "code",
   "execution_count": null,
   "id": "62e397e0",
   "metadata": {
    "deletable": false,
    "nbgrader": {
     "grade": false,
     "grade_id": "cell-4a1a5f6bda9dc4cc",
     "locked": false,
     "schema_version": 3,
     "solution": true,
     "task": false
    }
   },
   "outputs": [],
   "source": [
    "# YOUR CODE HERE\n",
    "raise NotImplementedError()"
   ]
  },
  {
   "cell_type": "code",
   "execution_count": null,
   "id": "3fa57b44",
   "metadata": {
    "deletable": false,
    "editable": false,
    "nbgrader": {
     "grade": true,
     "grade_id": "cell-b2fd94af1a929b68",
     "locked": true,
     "points": 1,
     "schema_version": 3,
     "solution": false,
     "task": false
    }
   },
   "outputs": [],
   "source": [
    "assert _hash(exercise_5_plot_type) == '23db524fe4', 'Try again'\n",
    "\n",
    "print('Yes indeed! Those show the distribution of data, highlighting any values that are significantly lower or higher than others. Outliers are represented as individual data points in your graph. And the other plots visualize outliers effectively, especially when comparing two variables. Data points that are far from the cluster can be considered outliers.')\n"
   ]
  },
  {
   "cell_type": "markdown",
   "id": "8ba60b13",
   "metadata": {
    "deletable": false,
    "editable": false,
    "nbgrader": {
     "grade": false,
     "grade_id": "cell-9008824a6a7313d4",
     "locked": true,
     "schema_version": 3,
     "solution": false,
     "task": false
    }
   },
   "source": [
    "I know, I know; You already made that beautifull orange boxplot, but you can do even better. Now you also want, just as in excercise 3, see the outliers if you plot \"Salary distributed by experience level\" \n",
    "\n",
    "- make a boxplot with the ds_salaries dataset that displays the variable **`salary_in_usd`** by **`experience_level`** that allows to check if there are outliers.\n",
    "- change the default **plot style** to **`ggplot`**.\n",
    "- set the plot argument **vert** to **`False`**.\n",
    "- set the plot argument **figsize** to **`9`** inches width and **`9`** inches height.\n",
    "- set the plot argument **grid** to **`False`**\n",
    "- set the plot argument **fontsize** to **`20`**"
   ]
  },
  {
   "cell_type": "code",
   "execution_count": null,
   "id": "07ff1345",
   "metadata": {
    "deletable": false,
    "nbgrader": {
     "grade": false,
     "grade_id": "cell-9855e6c0b66c1530",
     "locked": false,
     "schema_version": 3,
     "solution": true,
     "task": false
    }
   },
   "outputs": [],
   "source": [
    "# YOUR CODE HERE\n",
    "raise NotImplementedError()\n",
    "axis = plt.gca();"
   ]
  },
  {
   "cell_type": "code",
   "execution_count": null,
   "id": "044bda32",
   "metadata": {
    "deletable": false,
    "editable": false,
    "nbgrader": {
     "grade": true,
     "grade_id": "cell-9b4fb4918c8c68f1",
     "locked": true,
     "points": 3,
     "schema_version": 3,
     "solution": false,
     "task": false
    }
   },
   "outputs": [],
   "source": [
    "pc = PlotChecker(axis)\n",
    "pc._lines = pc.axis.get_lines()\n",
    "pc.colors = np.array([pc._color2rgb(x.get_color()) for x in pc._lines])\n",
    "\n",
    "assert _hash(ds_salaries['experience_level'].unique()) in ['269e35d1a3'], \"Did you filter by experience level?\"\n",
    "assert _hash(pc.colors[0]) in ['78183b94a9'], \"Did you set the right plot style?\"\n",
    "assert _hash(pc.yticklabels) in ['3b1ecfaee1'], \"Did you select the right categorical variable for the plot?\"\n",
    "assert _hash(pc.xticklabels) in ['fee1fd8744'], \"Did you select the right categorical variable for the plot?\"\n",
    "\n",
    "\n",
    "print(\"Great work! Lets go to the last exercise.\")"
   ]
  },
  {
   "cell_type": "markdown",
   "id": "7d284297",
   "metadata": {
    "deletable": false,
    "editable": false,
    "nbgrader": {
     "grade": false,
     "grade_id": "cell-8a09f45bfa732558",
     "locked": true,
     "schema_version": 3,
     "solution": false,
     "task": false
    }
   },
   "source": [
    "## Exercise 6\n",
    "\n",
    "There is another plot that can tell us a lot about the statistics of the data. These are normally plots that show us the distribution of variables. \n",
    "\n",
    "Which plot can we use to visualize exactly how the **`salary`** is distributed in the per country?\n",
    "\n",
    "    A. Box plot   \n",
    "    B. Bar plot  \n",
    "    C. Histogram   \n",
    "    D. Pie plot"
   ]
  },
  {
   "cell_type": "code",
   "execution_count": null,
   "id": "2da61c15",
   "metadata": {
    "deletable": false,
    "nbgrader": {
     "grade": false,
     "grade_id": "cell-fde09ea80e74af51",
     "locked": false,
     "schema_version": 3,
     "solution": true,
     "task": false
    }
   },
   "outputs": [],
   "source": [
    "# YOUR CODE HERE\n",
    "raise NotImplementedError()"
   ]
  },
  {
   "cell_type": "code",
   "execution_count": null,
   "id": "d8642ae6",
   "metadata": {
    "deletable": false,
    "editable": false,
    "nbgrader": {
     "grade": true,
     "grade_id": "cell-d201e0665e4c0bb5",
     "locked": true,
     "points": 1,
     "schema_version": 3,
     "solution": false,
     "task": false
    }
   },
   "outputs": [],
   "source": [
    "assert _hash(exercise_6_plot_type) == 'f72385315c', 'Try again'\n",
    "\n",
    "print('--- Success ---')"
   ]
  },
  {
   "cell_type": "markdown",
   "id": "e52ee72e",
   "metadata": {
    "deletable": false,
    "editable": false,
    "nbgrader": {
     "grade": false,
     "grade_id": "cell-ab0e29befd9e70c2",
     "locked": true,
     "schema_version": 3,
     "solution": false,
     "task": false
    }
   },
   "source": [
    "In this case, without using any kind of aggregation, we would like to know if in the US Data Scientists all have the same salaries or is there some equal distribution happening? To find this, follow these steps:\n",
    "\n",
    "- filter the ds_salaries dataset only on company_location == 'US\" \n",
    "- save the filtered dataset in a new variable named `us_salaries`\n",
    "- Define the bin edges by creating a list between 40000 usd and 160000 usd with steps of 10000 usd\n",
    "- Define colors for each experience level using ['b', 'g', 'r', 'c'] \n",
    "- When you are going to create your histogram, give it the following glow up:\n",
    "       -- give it the bin list you just created\n",
    "       -- set the edgecolor to black\n",
    "       -- set the opacity to 0.7\n",
    "       -- give it the colors you determined in the step one level above here\n",
    "       -- label it as 'experience_levels'\n",
    "- x label is 'Salary in USD'\n",
    "- y label is 'Number of Employees'\n",
    "- title of the plot is 'Salary Distribution in the US'\n",
    "- Add a legend to display the experience levels"
   ]
  },
  {
   "cell_type": "code",
   "execution_count": null,
   "id": "ec95636e",
   "metadata": {
    "deletable": false,
    "nbgrader": {
     "grade": false,
     "grade_id": "cell-5f8a6d68480cf471",
     "locked": false,
     "schema_version": 3,
     "solution": true,
     "task": false
    }
   },
   "outputs": [],
   "source": [
    "# YOUR CODE HERE\n",
    "raise NotImplementedError()\n",
    "axis = plt.gca();"
   ]
  },
  {
   "cell_type": "code",
   "execution_count": null,
   "id": "33aedf9c",
   "metadata": {
    "deletable": false,
    "editable": false,
    "nbgrader": {
     "grade": true,
     "grade_id": "cell-3f2e67dd2c0b4aaa",
     "locked": true,
     "points": 4,
     "schema_version": 3,
     "solution": false,
     "task": false
    }
   },
   "outputs": [],
   "source": [
    "pc = PlotChecker(axis)\n",
    "pc._patches = np.array(pc.axis.patches)\n",
    "pc._patches = pc._patches[np.argsort([p.get_x() for p in pc._patches])]\n",
    "pc.widths = np.array([p.get_width() for p in pc._patches])\n",
    "pc.heights = np.array([p.get_height() for p in pc._patches])\n",
    "l = [pc.xlabel] + [pc.ylabel]\n",
    "l.sort()\n",
    "\n",
    "assert _hash(pc.yticklabels) in ['d0384353d2'], 'Did you select the right categorical variable for the plot?'\n",
    "assert _hash(pc.xticklabels) in ['1148bf6f68'], 'Did you select the right numerical variable for the plot?'\n",
    "assert _hash(np.sort(pc.widths)) in ['4dcfd8bd6f'], \"Did you set the right plot type? You should not change the dataset.\"\n",
    "assert _hash(np.sort(pc.heights)) in ['fc5f0f0c70'], \"Did you set the right plot type? You should not change the dataset.\"\n",
    "assert _hash(pc.xlim[0]) == 'ebfc11d124', \"Did you set the right limit?\"\n",
    "assert _hash(pc.xlim[1]) == 'dbfbe1a27b', \"Did you set the right limit?\"\n",
    "assert _hash([pc._patches[i].get_facecolor() for i,n in enumerate(pc._patches)]) == '326d99a246', \"Did you change the plot color?\"\n",
    "assert _hash([pc._patches[i].get_edgecolor() for i,n in enumerate(pc._patches)]) == 'c07f99d056', 'Did you change the plot edgecolor?'\n",
    "assert _hash(len(pc._patches)) in ['8d8aadfa20'], 'Did you set the right variable and the right plot type?'\n",
    "assert _hash(pc.title) in ['2171b17949'], 'Did you set the right plot title?'\n",
    "assert _hash(l) in ['7e584dc21f'], 'Did you set the right plot axes?'\n",
    "assert _hash(ds_salaries['experience_level'].unique()) in ['269e35d1a3'], 'Did you filter by experience level?'\n",
    "\n",
    "\n",
    "\n",
    "print(\"          ------ YOU MADE IT !!! CONGRATS !!! WE ARE SUPER PROUD OF YOU !!! --------                                 Looking at the salary distribution from least to most experienced levels (EN, MI, SE, EX), we would expect that the median salary would follow a pattern from left to right, with EN having the lowest median salary, then MI, SE, and finally EX with the highest. This pattern is what we can visually observe.However, there is an interesting observation. There is a very high bar for 'SE' (Senior) at the highest salary bin. This suggests that there are many employees with 'SE' experience who are receiving salaries similar to those of 'EX' (Experienced) employees, even though they hold the 'SE' job title. There could be various explanations for this, but for now we only wanted to see the power of visualizing the distribution in a histogram.\")"
   ]
  },
  {
   "cell_type": "markdown",
   "id": "4ca692ae",
   "metadata": {
    "deletable": false,
    "editable": false,
    "nbgrader": {
     "grade": false,
     "grade_id": "cell-e4048c815b1718bc",
     "locked": true,
     "schema_version": 3,
     "solution": false,
     "task": false
    }
   },
   "source": [
    "\n",
    "# 🏁 Ungraded Exercise 🏁\n",
    "Load the file misterious_data.csv and use data visualization to answer the following questions:\n",
    "\n",
    "* How is the distribution of **x** in general?\n",
    "* Are there any **outlier** in any of the fields?\n",
    "* Which **2 charts** better represent the underlying data?\n",
    "* Change their **style** to **`bmh`**.\n",
    "* Add **titles** to each chart explaining them."
   ]
  }
 ],
 "metadata": {
  "kernelspec": {
   "display_name": "Python 3 (ipykernel)",
   "language": "python",
   "name": "python3"
  },
  "language_info": {
   "codemirror_mode": {
    "name": "ipython",
    "version": 3
   },
   "file_extension": ".py",
   "mimetype": "text/x-python",
   "name": "python",
   "nbconvert_exporter": "python",
   "pygments_lexer": "ipython3",
   "version": "3.10.13"
  },
  "vscode": {
   "interpreter": {
    "hash": "ef8de6841f8cf6fd3eee71cb00912e3991f4782c59566baf1038d40d283b6212"
   }
  }
 },
 "nbformat": 4,
 "nbformat_minor": 5
}
