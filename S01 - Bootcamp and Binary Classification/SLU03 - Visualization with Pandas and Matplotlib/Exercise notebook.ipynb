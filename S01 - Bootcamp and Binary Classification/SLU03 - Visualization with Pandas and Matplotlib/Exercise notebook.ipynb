{
 "cells": [
  {
   "cell_type": "markdown",
   "id": "ce1a72b2",
   "metadata": {
    "deletable": false,
    "editable": false,
    "nbgrader": {
     "grade": false,
     "grade_id": "cell-dab527fc8f5f5b27",
     "locked": true,
     "schema_version": 3,
     "solution": false,
     "task": false
    }
   },
   "source": [
    "# SLU03 | Visualization with Pandas and Matplotlib: Exercise notebook"
   ]
  },
  {
   "cell_type": "markdown",
   "id": "48e0ff57",
   "metadata": {
    "deletable": false,
    "editable": false,
    "nbgrader": {
     "grade": false,
     "grade_id": "cell-1056bd66fb73306b",
     "locked": true,
     "schema_version": 3,
     "solution": false,
     "task": false
    }
   },
   "source": [
    "## Learning Objectives for Data Visualization\n",
    "\n",
    "In this exercise notebook, we will explore various data visualization techniques using the \"ds_salaries\" dataset from https://www.kaggle.com/datasets/iamsouravbanerjee/data-science-salaries-2023. Our main objective is to gain insights if it is worth doing this data science course at all. ;) Therefore we look at the factors that influence data science job salaries and understand the salary trends in the field.\n",
    "\n",
    "Start by importing these packages:"
   ]
  },
  {
   "cell_type": "code",
   "execution_count": null,
   "id": "aeb267e9",
   "metadata": {
    "deletable": false,
    "editable": false,
    "nbgrader": {
     "grade": false,
     "grade_id": "cell-581a0becf5c78cb0",
     "locked": true,
     "schema_version": 3,
     "solution": false,
     "task": false
    }
   },
   "outputs": [],
   "source": [
    "# for evaluation purposes\n",
    "import hashlib\n",
    "import json\n",
    "import pandas as pd\n",
    "import numpy as np\n",
    "import plotchecker\n",
    "from plotchecker import PlotChecker\n",
    "import seaborn as sns\n",
    "import utils\n",
    "\n",
    "def _hash(s):\n",
    "    \"\"\"Function used to hash the answers.\"\"\"\n",
    "    return hashlib.sha256(json.dumps(s).encode()).hexdigest()\n",
    "\n",
    "def get_data(p, ax=0):\n",
    "    \"\"\"Gets data from a plot and concatenates it.\n",
    "    This is necessary for hashing the plot results.\n",
    "    \"\"\"\n",
    "    all_x_data = []\n",
    "    lines = p.axis.get_lines()\n",
    "    collections = axis.collections\n",
    "    if len(lines) > 0:\n",
    "        all_x_data.append(np.concatenate([x.get_xydata()[:, ax] for x in lines]))\n",
    "    if len(collections) > 0:\n",
    "        all_x_data.append(np.concatenate([x.get_offsets()[:, ax] for x in collections]))\n",
    "    return np.concatenate(all_x_data, axis=0)"
   ]
  },
  {
   "cell_type": "code",
   "execution_count": null,
   "id": "2435c5ad",
   "metadata": {
    "deletable": false,
    "editable": false,
    "nbgrader": {
     "grade": false,
     "grade_id": "cell-4cd998e47a0c235d",
     "locked": true,
     "schema_version": 3,
     "solution": false,
     "task": false
    }
   },
   "outputs": [],
   "source": [
    "# Load the dataset\n",
    "ds_salaries = pd.read_csv(\"data/Latest_Data_Science_Salaries.csv\")\n",
    "\n",
    "# Display the first few rows of the modified DataFrame\n",
    "rows, columns = ds_salaries.shape\n",
    "print(f'ds_salaries: {rows} records and {columns} fields.');\n",
    "ds_salaries.head()"
   ]
  },
  {
   "cell_type": "markdown",
   "id": "a8553b98",
   "metadata": {
    "deletable": false,
    "editable": false,
    "nbgrader": {
     "grade": false,
     "grade_id": "cell-b1e742a4d3bc5f15",
     "locked": true,
     "schema_version": 3,
     "solution": false,
     "task": false
    }
   },
   "source": [
    "For these exercises we will use the `matplotlib.pyplot` module. We will start by importing it."
   ]
  },
  {
   "cell_type": "code",
   "execution_count": null,
   "id": "8ff1b370",
   "metadata": {
    "deletable": false,
    "editable": false,
    "nbgrader": {
     "grade": false,
     "grade_id": "cell-b235d0752bffc0a6",
     "locked": true,
     "schema_version": 3,
     "solution": false,
     "task": false
    }
   },
   "outputs": [],
   "source": [
    "import matplotlib.pyplot as plt"
   ]
  },
  {
   "cell_type": "markdown",
   "id": "783706c0",
   "metadata": {
    "deletable": false,
    "editable": false,
    "nbgrader": {
     "grade": false,
     "grade_id": "cell-aea0fd8297ca9c09",
     "locked": true,
     "schema_version": 3,
     "solution": false,
     "task": false
    }
   },
   "source": [
    "## Exercise 1\n",
    "\n",
    "To start, you are going to change the default plot settings as follows:\n",
    "* change the default pyplot chart size to 5 inches width and 5 inches height   \n",
    "* change the linewidth to 4   \n",
    "* change the linestyle to be a dash-dot line '-.'"
   ]
  },
  {
   "cell_type": "code",
   "execution_count": null,
   "id": "050365e7",
   "metadata": {
    "deletable": false,
    "nbgrader": {
     "grade": false,
     "grade_id": "cell-8f165ec5a450f25c",
     "locked": false,
     "schema_version": 3,
     "solution": true,
     "task": false
    }
   },
   "outputs": [],
   "source": [
    "# YOUR CODE HERE\n",
    "raise NotImplementedError()"
   ]
  },
  {
   "cell_type": "code",
   "execution_count": null,
   "id": "20e89057",
   "metadata": {
    "deletable": false,
    "editable": false,
    "nbgrader": {
     "grade": true,
     "grade_id": "cell-b946f716a3066c6f",
     "locked": true,
     "points": 1,
     "schema_version": 3,
     "solution": false,
     "task": false
    }
   },
   "outputs": [],
   "source": [
    "# Check the default figure size\n",
    "assert plt.rcParams['figure.figsize'] == [5.0, 5.0], 'Default figure size is incorrect'\n",
    "\n",
    "# Check the default line width\n",
    "assert plt.rcParams['lines.linewidth'] == 4, 'Default line width is incorrect'\n",
    "\n",
    "# Check the default line style\n",
    "assert plt.rcParams['lines.linestyle'] == '-.', 'Default line style is incorrect'\n",
    "\n",
    "print('It seems to work! I am curious how it will look like. You too?')"
   ]
  },
  {
   "cell_type": "code",
   "execution_count": null,
   "id": "f62e8bf9",
   "metadata": {
    "deletable": false,
    "editable": false,
    "nbgrader": {
     "grade": false,
     "grade_id": "cell-5c85dbb2712ae357",
     "locked": true,
     "schema_version": 3,
     "solution": false,
     "task": false
    }
   },
   "outputs": [],
   "source": [
    "# lets see how those settings look like with the following dataset\n",
    "x = [1, 2, 3, 4, 5]\n",
    "y = [10, 15, 7, 12, 9]\n",
    "\n",
    "plt.plot(x,y); # ps.. do you remember the reason why we use \";\" ?"
   ]
  },
  {
   "cell_type": "markdown",
   "id": "cad0941e",
   "metadata": {
    "deletable": false,
    "editable": false,
    "nbgrader": {
     "grade": false,
     "grade_id": "cell-de1a80bd855c491f",
     "locked": true,
     "schema_version": 3,
     "solution": false,
     "task": false
    }
   },
   "source": [
    "## 🛑 Important note about the grading\n",
    "\n",
    "**Grading plots is difficult**. We are using `plotchecker` to grade the plots with `nbgrader`. For `plotchecker` to work with `nbgrader`, **we need to add in each cell** the line\n",
    "\n",
    "> **`axis = plt.gca();`**\n",
    "\n",
    "**after the code required** to do the plot.\n",
    "\n",
    "**For example**, *if we want to plot a `scatter plot` showing the relationship between **`Company Size`** and **`Salary`**  columns, we would do as follows:*"
   ]
  },
  {
   "cell_type": "code",
   "execution_count": null,
   "id": "8064135f",
   "metadata": {
    "deletable": false,
    "editable": false,
    "nbgrader": {
     "grade": false,
     "grade_id": "cell-e71ff192f35d8c46",
     "locked": true,
     "schema_version": 3,
     "solution": false,
     "task": false
    }
   },
   "outputs": [],
   "source": [
    "# Create a scatter plot\n",
    "scatter_plot = ds_salaries.plot.scatter(x='Company Location', y='Salary in USD', s=5, figsize=(12,4))\n",
    "\n",
    "# Rotate x-axis labels vertically\n",
    "scatter_plot.axes.tick_params(rotation=90)\n",
    "\n",
    "# Set labels and title\n",
    "plt.xlabel('Company Location')\n",
    "plt.ylabel('Salary in USD')\n",
    "plt.title('Relationship between Company Location and Salary')\n",
    "\n",
    "# Last line in the cell required to \"capture\" the cell and grade it with nbgrader\n",
    "axis = plt.gca();"
   ]
  },
  {
   "cell_type": "markdown",
   "id": "5760d03f",
   "metadata": {
    "deletable": false,
    "editable": false,
    "nbgrader": {
     "grade": false,
     "grade_id": "cell-8aee4e0a5e2c884e",
     "locked": true,
     "schema_version": 3,
     "solution": false,
     "task": false
    }
   },
   "source": [
    "## Exercise 2\n",
    "\n",
    "In the above scatter plot we see the salary by geographic location. But I bet there is a much better way to visualise this data. \n",
    "\n",
    "A heatmap would be a beautiful way to visualize salary trends by region. But which plot can show best the average salaries for the different locations?\n",
    "\n",
    "    A. Scatter plot   \n",
    "    B. Bar plot   \n",
    "    C. Histogram   \n",
    "    D. Line plot   \n",
    "    \n",
    "Leave your answer below, assigned to the `exercise_2_plot_type` variable as a string. For example:\n",
    "```\n",
    "exercise_2_plot_type = 'E'\n",
    "```"
   ]
  },
  {
   "cell_type": "code",
   "execution_count": null,
   "id": "37ed3f32",
   "metadata": {
    "deletable": false,
    "nbgrader": {
     "grade": false,
     "grade_id": "cell-14df7b90e4e7b668",
     "locked": false,
     "schema_version": 3,
     "solution": true,
     "task": false
    }
   },
   "outputs": [],
   "source": [
    "# exercise_2_plot_type =\n",
    "# YOUR CODE HERE\n",
    "raise NotImplementedError()"
   ]
  },
  {
   "cell_type": "code",
   "execution_count": null,
   "id": "b0ab5e99",
   "metadata": {
    "deletable": false,
    "editable": false,
    "nbgrader": {
     "grade": true,
     "grade_id": "cell-3811365992d4e32e",
     "locked": true,
     "points": 1,
     "schema_version": 3,
     "solution": false,
     "task": false
    }
   },
   "outputs": [],
   "source": [
    "assert _hash(exercise_2_plot_type) == '955cca1ceba45052d85984d3a2565f4ce25b7488602c60a165598bf80b26e472', 'Try again'\n",
    "\n",
    "plot = ds_salaries.groupby('Company Location')['Salary in USD'].mean().plot.barh(figsize=(6, 12))\n",
    "plot.set_xlabel('Company Location')\n",
    "plot.set_ylabel('Average Salary in USD')\n",
    "plot.set_title('Average Salaries by Company Location')\n",
    "plt.show()\n",
    "    \n",
    "print(\"That is correct. Great! Here you can see an example of the plot. We're choosing a horizontal bar plot because Location is a nominal categorical variable.\")"
   ]
  },
  {
   "cell_type": "markdown",
   "id": "0532c465-830b-4f4e-afd0-c8c103defe16",
   "metadata": {
    "deletable": false,
    "editable": false,
    "nbgrader": {
     "grade": false,
     "grade_id": "cell-d68cf378ade73b66",
     "locked": true,
     "schema_version": 3,
     "solution": false,
     "task": false
    }
   },
   "source": [
    "You can see that the salaries vary widely between countries. We also have very few data points for most countries. To make meaningful comparisons, we will use just data from United States in the following exercises."
   ]
  },
  {
   "cell_type": "code",
   "execution_count": null,
   "id": "edbe1e01-9176-446f-b15d-e827d37e1261",
   "metadata": {
    "deletable": false,
    "editable": false,
    "nbgrader": {
     "grade": false,
     "grade_id": "cell-dcbcaf692c4e10e2",
     "locked": true,
     "schema_version": 3,
     "solution": false,
     "task": false
    }
   },
   "outputs": [],
   "source": [
    "ds_salaries_us = ds_salaries[ds_salaries['Company Location']=='United States']\n",
    "f'The reduced dataset ds_salaries_us has {ds_salaries_us.shape[0]} rows.'"
   ]
  },
  {
   "cell_type": "markdown",
   "id": "3a54b690",
   "metadata": {
    "deletable": false,
    "editable": false,
    "nbgrader": {
     "grade": false,
     "grade_id": "cell-1bc4b6bca2ce3730",
     "locked": true,
     "schema_version": 3,
     "solution": false,
     "task": false
    }
   },
   "source": [
    "## Exercise 3\n",
    "\n",
    "Let's explore Salary vs. Expertise in the `ds_salaries_us` dataset. A scatter plot or a line plot is suitable for this purpose. A scatter plot can show the relationship between salary and expertise levels for individual data points. A line plot can help visualize trends in how salaries vary with different levels of expertise. \n",
    "\n",
    "The expertise level in the job during the years has the following possible values: 'Junior', 'Intermediate', 'Expert', 'Director'. \n",
    "\n",
    "Make a line plot with the following settings:\n",
    "\n",
    "- set the plot **title** to **`Salary vs Expertise`**.\n",
    "- label the **x-axis** as **`Expertise Level`**.\n",
    "- label the **y-axis** as **`Salary`**.\n",
    "\n",
    "Before plotting, we will reset matplotlib's parameters to the default ones."
   ]
  },
  {
   "cell_type": "code",
   "execution_count": null,
   "id": "9315a2bd",
   "metadata": {
    "deletable": false,
    "editable": false,
    "nbgrader": {
     "grade": false,
     "grade_id": "cell-3ed583cd7762fed6",
     "locked": true,
     "schema_version": 3,
     "solution": false,
     "task": false
    }
   },
   "outputs": [],
   "source": [
    "plt.style.use('default')"
   ]
  },
  {
   "cell_type": "markdown",
   "id": "b95a6686-e84c-4bf6-ad9a-2b1893af91f9",
   "metadata": {
    "deletable": false,
    "editable": false,
    "nbgrader": {
     "grade": false,
     "grade_id": "cell-7b5aaf0050aebaaf",
     "locked": true,
     "schema_version": 3,
     "solution": false,
     "task": false
    }
   },
   "source": [
    "We will calculate the mean salaries for each expertise level for you. The result is stored in the `grouped_by_expertise` dataframe. Use this dataframe for plotting."
   ]
  },
  {
   "cell_type": "code",
   "execution_count": null,
   "id": "d188c55f",
   "metadata": {
    "deletable": false,
    "editable": false,
    "nbgrader": {
     "grade": false,
     "grade_id": "cell-c18a0f880d093aa5",
     "locked": true,
     "schema_version": 3,
     "solution": false,
     "task": false
    }
   },
   "outputs": [],
   "source": [
    "grouped_by_expertise = utils.ex_3_dataset(ds_salaries_us)\n",
    "grouped_by_expertise"
   ]
  },
  {
   "cell_type": "code",
   "execution_count": null,
   "id": "0b33886d",
   "metadata": {
    "deletable": false,
    "nbgrader": {
     "grade": false,
     "grade_id": "cell-2352176342bcb1f5",
     "locked": false,
     "schema_version": 3,
     "solution": true,
     "task": false
    }
   },
   "outputs": [],
   "source": [
    "# Create a line plot from the grouped_by_expertise dataframe.\n",
    "\n",
    "# YOUR CODE HERE\n",
    "raise NotImplementedError()\n",
    "\n",
    "axis = plt.gca();  "
   ]
  },
  {
   "cell_type": "code",
   "execution_count": null,
   "id": "895711cd",
   "metadata": {
    "deletable": false,
    "editable": false,
    "nbgrader": {
     "grade": true,
     "grade_id": "cell-7469072b8ebd79de",
     "locked": true,
     "points": 2,
     "schema_version": 3,
     "solution": false,
     "task": false
    }
   },
   "outputs": [],
   "source": [
    "pc = PlotChecker(axis)\n",
    "\n",
    "assert pc.xlabel=='Expertise Level',  \"Did you set the correct variables for the plot axes?\"\n",
    "assert pc.ylabel=='Salary',  \"Did you set the correct variables for the plot axes?\"\n",
    "assert pc.title=='Salary vs Expertise', 'Did you use the correct plot title?'\n",
    "assert len([x for x in ['Junior','Intermediate','Expert','Director'] if x in pc.xticklabels])==4, 'Did you plot the correct data?'\n",
    "assert len(pc.axis.get_lines())==1, 'There should be just one line in the plot.'\n",
    "assert len([int(round(x,2)==round(p,2)) for x,p in zip(pc.axis.get_lines()[0].get_ydata(),grouped_by_expertise['Salary'])])==4, \\\n",
    "'The data points in the line are not correct.'\n",
    "assert pc.ylim[0]<=100384, 'Did you use the correct data to plot?'\n",
    "assert pc.ylim[1]>=203987, 'Did you use the correct data to plot?'\n",
    "print('Good news! Getting more expertise gets you a better salary.')"
   ]
  },
  {
   "cell_type": "markdown",
   "id": "65ecdc8e",
   "metadata": {
    "deletable": false,
    "editable": false,
    "nbgrader": {
     "grade": false,
     "grade_id": "cell-3832d6de1363696d",
     "locked": true,
     "schema_version": 3,
     "solution": false,
     "task": false
    }
   },
   "source": [
    "## Exercise 4\n",
    "\n",
    "Now we'd like to analyze the salaries by job title. We'd like to see the salary distribution for each job title. Which plot is the best to visualize this?\n",
    "\n",
    "    A. Box plot  \n",
    "    B. Line plot   \n",
    "    C. Histogram   \n",
    "    D. Bar plot   "
   ]
  },
  {
   "cell_type": "code",
   "execution_count": null,
   "id": "979e144d",
   "metadata": {
    "deletable": false,
    "nbgrader": {
     "grade": false,
     "grade_id": "cell-50dd35f745ca79d0",
     "locked": false,
     "schema_version": 3,
     "solution": true,
     "task": false
    }
   },
   "outputs": [],
   "source": [
    "#exercise_4_plot_type = ...\n",
    "# YOUR CODE HERE\n",
    "raise NotImplementedError()"
   ]
  },
  {
   "cell_type": "code",
   "execution_count": null,
   "id": "c79bed71",
   "metadata": {
    "deletable": false,
    "editable": false,
    "nbgrader": {
     "grade": true,
     "grade_id": "cell-94a4281093974f30",
     "locked": true,
     "points": 1,
     "schema_version": 3,
     "solution": false,
     "task": false
    }
   },
   "outputs": [],
   "source": [
    "assert _hash(exercise_4_plot_type) == '798640599597df7a8daa32b1132f07850a68b5e71bd295650399a38074f52804', 'Try again.'\n",
    "\n",
    "print('YES! Indeed, that one is great for this. Lets make one! ')"
   ]
  },
  {
   "cell_type": "markdown",
   "id": "b4df4491-54be-4447-9ba7-6901393c329a",
   "metadata": {
    "deletable": false,
    "editable": false,
    "nbgrader": {
     "grade": false,
     "grade_id": "cell-ec649857df63af0e",
     "locked": true,
     "schema_version": 3,
     "solution": false,
     "task": false
    }
   },
   "source": [
    "The dataset has 88 job titles, we will analyze just those with more than 10 data points. Here we prepare the dataframe for you:"
   ]
  },
  {
   "cell_type": "code",
   "execution_count": null,
   "id": "b34fc284-4260-4b48-a3ec-5e46804b9ecd",
   "metadata": {
    "deletable": false,
    "editable": false,
    "nbgrader": {
     "grade": false,
     "grade_id": "cell-88c1bc07a7719466",
     "locked": true,
     "schema_version": 3,
     "solution": false,
     "task": false
    }
   },
   "outputs": [],
   "source": [
    "job_titles = utils.ex_4_dataset(ds_salaries_us)\n",
    "job_titles.head()"
   ]
  },
  {
   "cell_type": "markdown",
   "id": "bc88129e",
   "metadata": {
    "deletable": false,
    "editable": false,
    "nbgrader": {
     "grade": false,
     "grade_id": "cell-b92aca75a3fb6761",
     "locked": true,
     "schema_version": 3,
     "solution": false,
     "task": false
    }
   },
   "source": [
    "Construct this plot with the following parameters:\n",
    "\n",
    "* Use 'Job Title' and 'Salary' from the `job_titles` dataframe\n",
    "* set the figure size to 12 inches wide and 6 inches tall\n",
    "* label x as 'Salary'\n",
    "* label y as 'Job Title'\n",
    "* use plot title as 'Salary Distribution by Job Title'\n",
    "* change the default plot style to ggplot\n",
    "* make the plot horizontal\n",
    "* make the figure 12 inches wide and 6 inches high\n",
    "* use fontsize 9"
   ]
  },
  {
   "cell_type": "code",
   "execution_count": null,
   "id": "676b853e",
   "metadata": {
    "deletable": false,
    "nbgrader": {
     "grade": false,
     "grade_id": "cell-f92493388c9d87a3",
     "locked": false,
     "schema_version": 3,
     "solution": true,
     "task": false
    }
   },
   "outputs": [],
   "source": [
    "# YOUR CODE HERE\n",
    "raise NotImplementedError()\n",
    "\n",
    "axis = plt.gca(); "
   ]
  },
  {
   "cell_type": "code",
   "execution_count": null,
   "id": "bdfd4b14-cb04-4b09-97ca-b1d577c6573c",
   "metadata": {
    "deletable": false,
    "editable": false,
    "nbgrader": {
     "grade": true,
     "grade_id": "cell-84a77a3a100349fc",
     "locked": true,
     "points": 3,
     "schema_version": 3,
     "solution": false,
     "task": false
    }
   },
   "outputs": [],
   "source": [
    "pc = PlotChecker(axis)\n",
    "assert pc.xlabel == 'Salary', 'Are the axis labels correct?'\n",
    "assert pc.ylabel == 'Job Title', 'Are the axis labels correct?'\n",
    "assert pc.title == 'Salary Distribution by Job Title', 'Did you put the correct title?'\n",
    "assert len([x for x in job_titles['Job Title'].unique() if x in pc.yticklabels])==20, 'Did you use the correct data to plot?'\n",
    "assert pc.xlim[0]<=job_titles['Salary'].min() and pc.xlim[1]>=job_titles['Salary'].max(), 'Did you use the correct data to plot?'\n",
    "print('That was AWESOME!! Did you already made up your mind about your jobtitle? Please pay attention to those lost dots btw. We call them outliers and we will get back to that. ')"
   ]
  },
  {
   "cell_type": "markdown",
   "id": "76d5c4f5-9fbb-4823-bc52-e4dad61f7603",
   "metadata": {
    "deletable": false,
    "editable": false,
    "nbgrader": {
     "grade": false,
     "grade_id": "cell-8c744f1a0775746b",
     "locked": true,
     "schema_version": 3,
     "solution": false,
     "task": false
    }
   },
   "source": [
    "Now answer the following questions **based on the plot** you just plotted.\n",
    "\n",
    "1. Which job titles have the two highest lying outliers? Assign the job titles to the list 'highest_outliers'.\n",
    "2. Which job title has the smallest interquartile range? Assign the job title to the variable 'smallest_IQR'."
   ]
  },
  {
   "cell_type": "code",
   "execution_count": null,
   "id": "ba8c5807-913c-4d2a-b240-9026a3d670c8",
   "metadata": {
    "deletable": false,
    "nbgrader": {
     "grade": false,
     "grade_id": "cell-e138079379d8a519",
     "locked": false,
     "schema_version": 3,
     "solution": true,
     "task": false
    }
   },
   "outputs": [],
   "source": [
    "#highest_outliers = [...]\n",
    "#smallest_IQR = ...\n",
    "\n",
    "# YOUR CODE HERE\n",
    "raise NotImplementedError()"
   ]
  },
  {
   "cell_type": "code",
   "execution_count": null,
   "id": "af362925-7f46-4ce4-86d6-e13be7175bf7",
   "metadata": {
    "deletable": false,
    "editable": false,
    "nbgrader": {
     "grade": true,
     "grade_id": "cell-f23c8f97604492ef",
     "locked": true,
     "points": 2,
     "schema_version": 3,
     "solution": false,
     "task": false
    }
   },
   "outputs": [],
   "source": [
    "assert _hash(''.join(sorted(highest_outliers)))=='fa7e400b5c3ebb007b055a7153f3ef9f3ce2b4db1025492269b620d6a2c74423', 'Check those outliers again.'\n",
    "assert _hash(smallest_IQR)=='cdad0c1a0fbac1f4cd00c40a562ce5f62f2a35189d285962c88e6cf6022b20cc', 'What was the interquartile range again? Maybe you should check. ;)'\n",
    "print('Perfect!')"
   ]
  },
  {
   "cell_type": "markdown",
   "id": "bccc8e8c",
   "metadata": {
    "deletable": false,
    "editable": false,
    "nbgrader": {
     "grade": false,
     "grade_id": "cell-a94f8a58b0a97e64",
     "locked": true,
     "schema_version": 3,
     "solution": false,
     "task": false
    }
   },
   "source": [
    "## Exercise 5\n",
    "\n",
    "Often we want to check if our assumptions are true. We imagine that some of our variables will be influenced by each other or by the same factors. Which plot is the most useful to help us understand the relationship between two variables?\n",
    "\n",
    "    A. Box plot   \n",
    "    B. Scatter plot  \n",
    "    C. Histogram   \n",
    "    D. Pie plot"
   ]
  },
  {
   "cell_type": "code",
   "execution_count": null,
   "id": "3c5b50e5",
   "metadata": {
    "deletable": false,
    "nbgrader": {
     "grade": false,
     "grade_id": "cell-303cd7bff24cb1ae",
     "locked": false,
     "schema_version": 3,
     "solution": true,
     "task": false
    }
   },
   "outputs": [],
   "source": [
    "#exercise_5_plot_type = ...\n",
    "# YOUR CODE HERE\n",
    "raise NotImplementedError()"
   ]
  },
  {
   "cell_type": "code",
   "execution_count": null,
   "id": "7a736c56",
   "metadata": {
    "deletable": false,
    "editable": false,
    "nbgrader": {
     "grade": true,
     "grade_id": "cell-37416c5240aaa09c",
     "locked": true,
     "points": 1,
     "schema_version": 3,
     "solution": false,
     "task": false
    }
   },
   "outputs": [],
   "source": [
    "assert _hash(exercise_5_plot_type) == '955cca1ceba45052d85984d3a2565f4ce25b7488602c60a165598bf80b26e472'\n",
    ", 'Try again'\n",
    "print('Yes indeed! It is a great start to use this plot when you want to understand your variables. Here you see how a positive correlation looks like. But no worry if this is new to you, you are going to learn more about this subject later.')\n",
    "\n",
    "# Two variables with a positive correlation\n",
    "age = np.array([1, 2, 3, 4, 5, 6, 7, 8, 9, 10])\n",
    "nr_of_friends = np.array([2, 3, 4, 6, 5, 8, 9, 10, 12, 11])\n",
    "\n",
    "# Create the plot\n",
    "plt.figure(figsize=(6, 4))\n",
    "plt.scatter(age, nr_of_friends, color='b', marker='o')\n",
    "plt.xlabel('Age')\n",
    "plt.ylabel('nr_of_friends')\n",
    "plt.title('Plot with Positive Correlation');\n"
   ]
  },
  {
   "cell_type": "markdown",
   "id": "9b382973-c550-4765-89af-bfa0f69edcb4",
   "metadata": {
    "deletable": false,
    "editable": false,
    "nbgrader": {
     "grade": false,
     "grade_id": "cell-a8d7c840bede7b8b",
     "locked": true,
     "schema_version": 3,
     "solution": false,
     "task": false
    }
   },
   "source": [
    "## Exercise 6\n",
    "\n",
    "We already saw the correlation between `Salary` and `Expertise Level`. Let's make another visualization to show off your skills. We're going to make another bar plot, this time exploring the relationship between `Salary` and `Company Size`.\n",
    "\n",
    "We will use this dataframe with salary information grouped by company size:"
   ]
  },
  {
   "cell_type": "code",
   "execution_count": null,
   "id": "af3c1689-ad54-468e-8983-dd2fa20021b3",
   "metadata": {
    "deletable": false,
    "editable": false,
    "nbgrader": {
     "grade": false,
     "grade_id": "cell-51184566520a66a7",
     "locked": true,
     "schema_version": 3,
     "solution": false,
     "task": false
    }
   },
   "outputs": [],
   "source": [
    "grouped_by_company_size = utils.ex_6_dataset(ds_salaries_us)\n",
    "grouped_by_company_size"
   ]
  },
  {
   "cell_type": "markdown",
   "id": "29a76398-8f24-4fb5-a8df-46c974944e36",
   "metadata": {
    "deletable": false,
    "editable": false,
    "nbgrader": {
     "grade": false,
     "grade_id": "cell-e24573801a54af70",
     "locked": true,
     "schema_version": 3,
     "solution": false,
     "task": false
    }
   },
   "source": [
    "Plot a bar plot using the \"grouped_by_company_size\" dataset and add the following extra information:\n",
    "\n",
    "- label the **x-axis** as **`Salary (median)`**.\n",
    "- label the **y-axis** as **`Company Size`**.\n",
    "- change the **plot color** to **`orange`**.\n",
    "- name the **title** **`Median Salary by Company Size`**\n",
    "\n",
    "Choose the appropriate bar plot type (horizontal or vertical) based on the variable type."
   ]
  },
  {
   "cell_type": "code",
   "execution_count": null,
   "id": "507dedaf",
   "metadata": {
    "deletable": false,
    "nbgrader": {
     "grade": false,
     "grade_id": "cell-64f7e3aeb7369b0c",
     "locked": false,
     "schema_version": 3,
     "solution": true,
     "task": false
    }
   },
   "outputs": [],
   "source": [
    "# YOUR CODE HERE\n",
    "raise NotImplementedError()\n",
    "axis = plt.gca();"
   ]
  },
  {
   "cell_type": "code",
   "execution_count": null,
   "id": "b9691bc3",
   "metadata": {
    "deletable": false,
    "editable": false,
    "nbgrader": {
     "grade": true,
     "grade_id": "cell-1987021abc703484",
     "locked": true,
     "points": 3,
     "schema_version": 3,
     "solution": false,
     "task": false
    }
   },
   "outputs": [],
   "source": [
    "pc = PlotChecker(axis)\n",
    "pc.assert_xlabel_equal('Salary (median)'), \"The x label seems wrong\"\n",
    "pc.assert_ylabel_equal('Company Size'), \"The y label seems wrong\"\n",
    "pc.assert_title_equal('Median Salary by Company Size'), \"Did you put a title for your plot?\"\n",
    "assert len(pc.axis.patches)==3, 'The number of bars in the plot is not correct.'\n",
    "assert len([int(x.get_width()==s) for x,s in zip(pc.axis.patches,grouped_by_company_size['Salary'])])==3, 'Did you plot the correct dataset in the correct orientation?'\n",
    "assert pc.axis.patches[0].get_facecolor()==(1.0, 0.6470588235294118, 0.0, 1.0), 'Did you use the correct color?'\n",
    "assert pc.xlim[0]<=0 and pc.xlim[1]>=grouped_by_company_size['Salary'].max(), 'Did you plot the correct dataset in the correct orientation?'\n",
    "assert len([x for x in pc.yticklabels if x in ['Small', 'Medium', 'Large']])==3, 'Did you plot the correct dataset in the correct orientation?'\n",
    "print('That looks beautiful. You are on a roll!')"
   ]
  },
  {
   "cell_type": "markdown",
   "id": "7d284297",
   "metadata": {
    "deletable": false,
    "editable": false,
    "nbgrader": {
     "grade": false,
     "grade_id": "cell-8a09f45bfa732558",
     "locked": true,
     "schema_version": 3,
     "solution": false,
     "task": false
    }
   },
   "source": [
    "## Exercise 7\n",
    "\n",
    "There is another plot that can tell us a lot about the statistics of the data. These are usually plots that show us the distribution of variables. \n",
    "\n",
    "Which plot can we use to visualize how the  **`Salary`** is distributed in a given country?\n",
    "\n",
    "    A. Box plot   \n",
    "    B. Bar plot  \n",
    "    C. Histogram   \n",
    "    D. Pie plot"
   ]
  },
  {
   "cell_type": "code",
   "execution_count": null,
   "id": "2da61c15",
   "metadata": {
    "deletable": false,
    "nbgrader": {
     "grade": false,
     "grade_id": "cell-fde09ea80e74af51",
     "locked": false,
     "schema_version": 3,
     "solution": true,
     "task": false
    }
   },
   "outputs": [],
   "source": [
    "#exercise_7_plot_type = ...\n",
    "# YOUR CODE HERE\n",
    "raise NotImplementedError()"
   ]
  },
  {
   "cell_type": "code",
   "execution_count": null,
   "id": "d8642ae6",
   "metadata": {
    "deletable": false,
    "editable": false,
    "nbgrader": {
     "grade": true,
     "grade_id": "cell-d201e0665e4c0bb5",
     "locked": true,
     "points": 1,
     "schema_version": 3,
     "solution": false,
     "task": false
    }
   },
   "outputs": [],
   "source": [
    "assert _hash(exercise_7_plot_type) == 'c2e8c0cc2e73b9bd1ba9ef1979e73169b471e25b0e9909efe98fde462c0bf55f', 'Try again'\n",
    "print('--- Success ---')"
   ]
  },
  {
   "cell_type": "markdown",
   "id": "e52ee72e",
   "metadata": {
    "deletable": false,
    "editable": false,
    "nbgrader": {
     "grade": false,
     "grade_id": "cell-ab0e29befd9e70c2",
     "locked": true,
     "schema_version": 3,
     "solution": false,
     "task": false
    }
   },
   "source": [
    "Now we're going to use this plot type to visualize the distribution of salaries for different experience levels. All in the same plot! Use the `ds_salaries_us` dataframe. You'll have to check the documentation or google around for this exercise.\n",
    "\n",
    "- Create a plot with a distribution for each `Experience Level` - sort them in a logical order\n",
    "- Make each distribution a different color, using the colors ['b', 'g', 'r', 'c']\n",
    "- Use bin width of 10000\n",
    "- Define the bin edges from 40000 to 150000\n",
    "- Normalize the histogram - set `density` to `True`\n",
    "- Use this formatting:   \n",
    "    - set the edgecolor to black   \n",
    "    - set the opacity to 0.7   \n",
    "- x label should be 'Salary'\n",
    "- y label should be 'Number of Employees'\n",
    "- title of the plot should be 'Salary Distribution by Experience Level'\n",
    "- Add a legend to display the experience levels"
   ]
  },
  {
   "cell_type": "code",
   "execution_count": null,
   "id": "ec95636e",
   "metadata": {
    "deletable": false,
    "nbgrader": {
     "grade": false,
     "grade_id": "cell-5f8a6d68480cf471",
     "locked": false,
     "schema_version": 3,
     "solution": true,
     "task": false
    }
   },
   "outputs": [],
   "source": [
    "# YOUR CODE HERE\n",
    "raise NotImplementedError()\n",
    "axis = plt.gca();"
   ]
  },
  {
   "cell_type": "code",
   "execution_count": null,
   "id": "33aedf9c",
   "metadata": {
    "deletable": false,
    "editable": false,
    "nbgrader": {
     "grade": true,
     "grade_id": "cell-3f2e67dd2c0b4aaa",
     "locked": true,
     "points": 4,
     "schema_version": 3,
     "solution": false,
     "task": false
    }
   },
   "outputs": [],
   "source": [
    "pc = PlotChecker(axis)\n",
    "_patches = np.array(pc.axis.patches)\n",
    "_patches = _patches[np.argsort([p.get_x() for p in _patches])]\n",
    "\n",
    "assert len(pc.axis.patches)==44, 'The plot does not have the correct number of bins.'\n",
    "assert pc.ylim[1]>=3e-5 and pc.ylim[1]<=4e-5, 'Did you normalize the plot?'\n",
    "edge_pos = sorted([(i+n*10)*1000 for i in [41,43,45,47] for n in range(0,11)])\n",
    "assert sum([int(x.get_x())==e for x,e in zip(_patches,edge_pos)]), 'The bin positions are not correct.'\n",
    "\n",
    "assert sum([int(x.get_edgecolor()==(0.,0.,0.,.7)) for x in pc.axis.patches])==44, 'The edgecolor or the opacity are not correct.'\n",
    "assert len([int(x.get_facecolor()==(0.,0.,1.,.7)) for x in _patches[0:44:4]])==11, 'Did you use the correct colors and opacity?'\n",
    "assert len([int(x.get_facecolor()==(0.,.5,0.,.7)) for x in _patches[1:44:4]])==11, 'Did you use the correct colors and opacity?'\n",
    "assert len([int(x.get_facecolor()==(1.,0.,0.,.7)) for x in _patches[2:44:4]])==11, 'Did you use the correct colors and opacity?'\n",
    "assert len([int(x.get_facecolor()==(0.,.75,.75,.7)) for x in _patches[3:44:4]])==11, 'Did you use the correct colors and opacity?'\n",
    "\n",
    "assert pc.title=='Salary Distribution in the US', 'Did you set the right plot title?'\n",
    "assert pc.xlabel=='Salary', 'Did you set the xlabel correctly?'\n",
    "assert pc.ylabel=='Number of Employees', 'Did you set the ylabel correctly?'\n",
    "\n",
    "print(\"\"\"          ------ YOU MADE IT !!! CONGRATS !!! WE ARE SUPER PROUD OF YOU !!! --------                                 \n",
    "Looking at the salary distribution from least to most experienced levels (EN, MI, SE, EX), we would expect that the median salary \n",
    "would follow a pattern from left to right, with EN having the lowest median salary, then MI, SE, and finally EX with the highest. \n",
    "This pattern is what we can visually observe.However, there is an interesting observation. There is a very high bar for 'SE' (Senior) \n",
    "at the highest salary bin. This suggests that there are many employees with 'SE' experience who are receiving salaries similar to those \n",
    "of 'EX' (Executive) employees. There are even some Entry and Mid level employees in this bin.\n",
    "There could be various explanations for this, but for now we only wanted to see the power of visualizing the distribution in a histogram.\"\"\")"
   ]
  },
  {
   "cell_type": "markdown",
   "id": "daf966ce-6025-4ca0-8f3e-8df9f868d51d",
   "metadata": {
    "deletable": false,
    "editable": false,
    "nbgrader": {
     "grade": false,
     "grade_id": "cell-28de52949071b06f",
     "locked": true,
     "schema_version": 3,
     "solution": false,
     "task": false
    }
   },
   "source": [
    "Now answer this question **based on the plot**:\n",
    "\n",
    "How many bins are visible in the `Executive` distribution?"
   ]
  },
  {
   "cell_type": "code",
   "execution_count": null,
   "id": "d4873f16-fbe4-417e-af9f-f400848f89c5",
   "metadata": {
    "deletable": false,
    "nbgrader": {
     "grade": false,
     "grade_id": "cell-6d742d23929602ec",
     "locked": false,
     "schema_version": 3,
     "solution": true,
     "task": false
    }
   },
   "outputs": [],
   "source": [
    "#exercise_7_executive_bins = ...\n",
    "# YOUR CODE HERE\n",
    "raise NotImplementedError()"
   ]
  },
  {
   "cell_type": "code",
   "execution_count": null,
   "id": "2220dbc0-71ba-4a86-8557-2e0d67ee402c",
   "metadata": {
    "deletable": false,
    "editable": false,
    "nbgrader": {
     "grade": true,
     "grade_id": "cell-061b2d78a7b60094",
     "locked": true,
     "points": 1,
     "schema_version": 3,
     "solution": false,
     "task": false
    }
   },
   "outputs": [],
   "source": [
    "assert _hash(exercise_7_executive_bins) == '7902699be42c8a8e46fbbb4501726517e86b22c56a189f7625a6da49081b2451'\n",
    ", 'Try again'\n",
    "print('--- Success ---')"
   ]
  },
  {
   "cell_type": "markdown",
   "id": "4ca692ae",
   "metadata": {
    "deletable": false,
    "editable": false,
    "nbgrader": {
     "grade": false,
     "grade_id": "cell-e4048c815b1718bc",
     "locked": true,
     "schema_version": 3,
     "solution": false,
     "task": false
    }
   },
   "source": [
    "\n",
    "# 🏁 Ungraded Exercise 🏁\n",
    "Load the file misterious_data.csv and use data visualization to answer the following questions:\n",
    "\n",
    "* How is the distribution of **x** in general?\n",
    "* Are there any **outlier** in any of the fields?\n",
    "* Which **2 charts** better represent the underlying data?\n",
    "* Change their **style** to **`bmh`**.\n",
    "* Add **titles** to each chart explaining them."
   ]
  }
 ],
 "metadata": {
  "kernelspec": {
   "display_name": "Python 3 (ipykernel)",
   "language": "python",
   "name": "python3"
  },
  "language_info": {
   "codemirror_mode": {
    "name": "ipython",
    "version": 3
   },
   "file_extension": ".py",
   "mimetype": "text/x-python",
   "name": "python",
   "nbconvert_exporter": "python",
   "pygments_lexer": "ipython3",
   "version": "3.12.4"
  },
  "vscode": {
   "interpreter": {
    "hash": "ef8de6841f8cf6fd3eee71cb00912e3991f4782c59566baf1038d40d283b6212"
   }
  }
 },
 "nbformat": 4,
 "nbformat_minor": 5
}
