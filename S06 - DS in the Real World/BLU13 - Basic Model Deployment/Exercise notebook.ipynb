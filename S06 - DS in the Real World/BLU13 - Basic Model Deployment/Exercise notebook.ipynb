{
 "cells": [
  {
   "cell_type": "code",
   "execution_count": null,
   "metadata": {
    "deletable": false,
    "editable": false,
    "nbgrader": {
     "grade": false,
     "grade_id": "cell-3b735b942b2009ce",
     "locked": true,
     "schema_version": 3,
     "solution": false,
     "task": false
    }
   },
   "outputs": [],
   "source": [
    "import os\n",
    "import pandas as pd\n",
    "import json\n",
    "import joblib\n",
    "import pickle\n",
    "import requests\n",
    "from sklearn.pipeline import make_pipeline, Pipeline\n",
    "from sklearn.model_selection import cross_val_score\n",
    "from sklearn.preprocessing import OneHotEncoder\n",
    "from sklearn.compose import ColumnTransformer\n",
    "from sklearn.ensemble import RandomForestClassifier\n",
    "from sklearn.linear_model import LogisticRegression"
   ]
  },
  {
   "cell_type": "markdown",
   "metadata": {
    "deletable": false,
    "editable": false,
    "nbgrader": {
     "grade": false,
     "grade_id": "cell-093ada1b8f5cf10b",
     "locked": true,
     "schema_version": 3,
     "solution": false,
     "task": false
    }
   },
   "source": [
    "The portuguese “Velho Banco”, wants to attract wealthier clients for one of its products. For this purpose, they want to predict the annual income of each person, based on the information those people provided to the bank.\n",
    "\n",
    "Your company has been hired to help with this situation, and you were assigned to create a service that should predict if a person's annual income is above 50k. The service should answer with a Yes or No answer.\n",
    "\n",
    "These exercises will guide you in your task, step by step."
   ]
  },
  {
   "cell_type": "markdown",
   "metadata": {
    "deletable": false,
    "editable": false,
    "nbgrader": {
     "grade": false,
     "grade_id": "cell-9dda3087fc177930",
     "locked": true,
     "schema_version": 3,
     "solution": false,
     "task": false
    }
   },
   "source": [
    "Start by getting familiar with the dataset in the file `salaries.csv`, adapted from [here](https://www.kaggle.com/wenruliu/adult-income-dataset).\n",
    "Each row in the dataset is about one client and has 4 features:\n",
    "\n",
    "- **age**: what is the age of the client\n",
    "- **education**: the school education of the client\n",
    "- **hours-per-week**: number of hours the person works per week\n",
    "- **native-country**: where the person is from\n",
    "\n",
    "And the target:\n",
    "- **salary**: if is above or below 50k\n",
    "\n",
    "We want to select clients with an annual income above 50k to offer them a financial product."
   ]
  },
  {
   "cell_type": "code",
   "execution_count": null,
   "metadata": {
    "deletable": false,
    "editable": false,
    "nbgrader": {
     "grade": false,
     "grade_id": "cell-6c73de8f632d9425",
     "locked": true,
     "schema_version": 3,
     "solution": false,
     "task": false
    }
   },
   "outputs": [],
   "source": [
    "df = pd.read_csv(os.path.join(\"data\", \"salaries.csv\"))\n",
    "df.head()"
   ]
  },
  {
   "cell_type": "markdown",
   "metadata": {
    "deletable": false,
    "editable": false,
    "nbgrader": {
     "grade": false,
     "grade_id": "cell-3bce691830716d5c",
     "locked": true,
     "schema_version": 3,
     "solution": false,
     "task": false
    }
   },
   "source": [
    "## Exercise 1 - Meet the data\n",
    "Separate the data into features and target. Features should be stored in a dataframe named `X` with the columns age, education, hours-per-week, native-country, in this order. The target should be stored in a series named `y`."
   ]
  },
  {
   "cell_type": "code",
   "execution_count": null,
   "metadata": {
    "deletable": false,
    "nbgrader": {
     "grade": false,
     "grade_id": "cell-07b7596b7c482937",
     "locked": false,
     "schema_version": 3,
     "solution": true,
     "task": false
    }
   },
   "outputs": [],
   "source": [
    "# X = ...\n",
    "# y = ...\n",
    "\n",
    "# YOUR CODE HERE\n",
    "raise NotImplementedError()"
   ]
  },
  {
   "cell_type": "code",
   "execution_count": null,
   "metadata": {
    "deletable": false,
    "editable": false,
    "nbgrader": {
     "grade": true,
     "grade_id": "cell-f5c67edf8e0decb5",
     "locked": true,
     "points": 1,
     "schema_version": 3,
     "solution": false,
     "task": false
    }
   },
   "outputs": [],
   "source": [
    "assert isinstance(X, pd.DataFrame)\n",
    "assert X.columns.tolist() == [\"age\", \"education\", \"hours-per-week\", \"native-country\"]\n",
    "assert isinstance(y, pd.Series)\n",
    "assert y[0]==' <=50K'"
   ]
  },
  {
   "cell_type": "markdown",
   "metadata": {
    "deletable": false,
    "editable": false,
    "nbgrader": {
     "grade": false,
     "grade_id": "cell-5ecc8001c4919b62",
     "locked": true,
     "schema_version": 3,
     "solution": false,
     "task": false
    }
   },
   "source": [
    "## Exercise 2 - Model\n",
    "\n",
    "### Exercise 2.1 - Set up the model\n",
    "\n",
    "Build a scikit model that predicts whether a person earns more than 50k, based on the features that you have available. Your model should be delivered as a scikit [Pipeline](https://scikit-learn.org/stable/modules/generated/sklearn.pipeline.Pipeline.html). Include any necessary preprocessing steps in the pipeline.\n",
    "\n",
    "Don't worry too much about the model's performance, anything better than random works! We'll focus on model performance in the next BLUs."
   ]
  },
  {
   "cell_type": "code",
   "execution_count": null,
   "metadata": {
    "deletable": false,
    "nbgrader": {
     "grade": false,
     "grade_id": "cell-41aff4c773d827da",
     "locked": false,
     "schema_version": 3,
     "solution": true,
     "task": false
    }
   },
   "outputs": [],
   "source": [
    "# pipeline = ...\n",
    "# YOUR CODE HERE\n",
    "raise NotImplementedError()"
   ]
  },
  {
   "cell_type": "code",
   "execution_count": null,
   "metadata": {
    "deletable": false,
    "editable": false,
    "nbgrader": {
     "grade": true,
     "grade_id": "cell-7f6385b594764da7",
     "locked": true,
     "points": 2,
     "schema_version": 3,
     "solution": false,
     "task": false
    }
   },
   "outputs": [],
   "source": [
    "assert isinstance(pipeline, Pipeline)"
   ]
  },
  {
   "cell_type": "markdown",
   "metadata": {
    "deletable": false,
    "editable": false,
    "nbgrader": {
     "grade": false,
     "grade_id": "cell-9fcd7c2eb7878f6d",
     "locked": true,
     "schema_version": 3,
     "solution": false,
     "task": false
    }
   },
   "source": [
    "### Exercise 2.2 - Cross-validation\n",
    "Use cross-validation with 5 folds and `ROC_AUC` as the metric to check your model's performance. Any result better than 0.5 is acceptable. If you don't reach 0.5, go back to the previous exercise and redefine your model."
   ]
  },
  {
   "cell_type": "code",
   "execution_count": null,
   "metadata": {
    "deletable": false,
    "nbgrader": {
     "grade": false,
     "grade_id": "cell-e076246fb29c9928",
     "locked": false,
     "schema_version": 3,
     "solution": true,
     "task": false
    }
   },
   "outputs": [],
   "source": [
    "# roc_aucs = cross_val_score(...)\n",
    "# YOUR CODE HERE\n",
    "raise NotImplementedError()"
   ]
  },
  {
   "cell_type": "code",
   "execution_count": null,
   "metadata": {
    "deletable": false,
    "editable": false,
    "nbgrader": {
     "grade": true,
     "grade_id": "cell-044b10bfe1c9f942",
     "locked": true,
     "points": 2,
     "schema_version": 3,
     "solution": false,
     "task": false
    }
   },
   "outputs": [],
   "source": [
    "assert roc_aucs.mean() > 0.5\n",
    "assert len(roc_aucs)==5"
   ]
  },
  {
   "cell_type": "markdown",
   "metadata": {
    "deletable": false,
    "editable": false,
    "nbgrader": {
     "grade": false,
     "grade_id": "cell-f19b71367b46fef1",
     "locked": true,
     "schema_version": 3,
     "solution": false,
     "task": false
    }
   },
   "source": [
    "### Exercise 2.3 - Fit the model\n",
    "Fit the pipeline to all the training data."
   ]
  },
  {
   "cell_type": "code",
   "execution_count": null,
   "metadata": {
    "deletable": false,
    "nbgrader": {
     "grade": false,
     "grade_id": "cell-2648bddb36617860",
     "locked": false,
     "schema_version": 3,
     "solution": true,
     "task": false
    }
   },
   "outputs": [],
   "source": [
    "# pipeline ...\n",
    "# YOUR CODE HERE\n",
    "raise NotImplementedError()"
   ]
  },
  {
   "cell_type": "code",
   "execution_count": null,
   "metadata": {
    "deletable": false,
    "editable": false,
    "nbgrader": {
     "grade": true,
     "grade_id": "cell-1253351ba8bae163",
     "locked": true,
     "points": 2,
     "schema_version": 3,
     "solution": false,
     "task": false
    }
   },
   "outputs": [],
   "source": [
    "assert pipeline.predict_proba(X.head(1)).shape == (1, 2)"
   ]
  },
  {
   "cell_type": "markdown",
   "metadata": {
    "deletable": false,
    "editable": false,
    "nbgrader": {
     "grade": false,
     "grade_id": "cell-8f3c2bb7e745d119",
     "locked": true,
     "schema_version": 3,
     "solution": false,
     "task": false
    }
   },
   "source": [
    "## Exercise 3 - Serialize everything\n",
    "\n",
    "Now we need to serialize the model to be able to use it in the app. You need to serialize three things:\n",
    "\n",
    "1. The column names in the correct order\n",
    "1. The fitted pipeline\n",
    "1. The dtypes of the columns of the training set"
   ]
  },
  {
   "cell_type": "code",
   "execution_count": null,
   "metadata": {},
   "outputs": [],
   "source": [
    "# This is a temporary directory where your serialized files will be saved\n",
    "# You can change it while working on the exercises locally,\n",
    "# but change it back to TMP_DIR = '/tmp' before submitting the exercises,\n",
    "# otherwise the grading will fail\n",
    "TMP_DIR = '/tmp'"
   ]
  },
  {
   "cell_type": "markdown",
   "metadata": {
    "deletable": false,
    "editable": false,
    "nbgrader": {
     "grade": false,
     "grade_id": "cell-c14d2c4af80d7f7f",
     "locked": true,
     "schema_version": 3,
     "solution": false,
     "task": false
    }
   },
   "source": [
    "### Exercise 3.1 - Serialize the column names\n",
    "Serialize the column names of the `X` dataframe into a file named `columns.json`."
   ]
  },
  {
   "cell_type": "code",
   "execution_count": null,
   "metadata": {
    "deletable": false,
    "nbgrader": {
     "grade": false,
     "grade_id": "cell-5c005f7797fa6539",
     "locked": false,
     "schema_version": 3,
     "solution": true,
     "task": false
    }
   },
   "outputs": [],
   "source": [
    "# YOUR CODE HERE\n",
    "raise NotImplementedError()"
   ]
  },
  {
   "cell_type": "code",
   "execution_count": null,
   "metadata": {
    "deletable": false,
    "editable": false,
    "nbgrader": {
     "grade": true,
     "grade_id": "cell-05b83e3ddf3da045",
     "locked": true,
     "points": 1,
     "schema_version": 3,
     "solution": false,
     "task": false
    }
   },
   "outputs": [],
   "source": [
    "with open(os.path.join(TMP_DIR, \"columns.json\"), 'r') as fh:\n",
    "    columns = json.load(fh)\n",
    "    \n",
    "assert columns == X.columns.tolist()"
   ]
  },
  {
   "cell_type": "markdown",
   "metadata": {
    "deletable": false,
    "editable": false,
    "nbgrader": {
     "grade": false,
     "grade_id": "cell-b38788d193a10785",
     "locked": true,
     "schema_version": 3,
     "solution": false,
     "task": false
    }
   },
   "source": [
    "### Exercise 3.2 - Pickle the dtypes\n",
    "Pickle the dtypes of the columns from the `X` dataframe into a file named `dtypes.pickle`."
   ]
  },
  {
   "cell_type": "code",
   "execution_count": null,
   "metadata": {
    "deletable": false,
    "nbgrader": {
     "grade": false,
     "grade_id": "cell-07af2c8ac79550f7",
     "locked": false,
     "schema_version": 3,
     "solution": true,
     "task": false
    }
   },
   "outputs": [],
   "source": [
    "# YOUR CODE HERE\n",
    "raise NotImplementedError()"
   ]
  },
  {
   "cell_type": "code",
   "execution_count": null,
   "metadata": {
    "deletable": false,
    "editable": false,
    "nbgrader": {
     "grade": true,
     "grade_id": "cell-47e4637e8d8e2a64",
     "locked": true,
     "points": 1,
     "schema_version": 3,
     "solution": false,
     "task": false
    }
   },
   "outputs": [],
   "source": [
    "with open(os.path.join(TMP_DIR, \"dtypes.pickle\"), 'rb') as fh:\n",
    "    dtypes = pickle.load(fh)\n",
    "    \n",
    "assert dtypes.equals(X.dtypes)"
   ]
  },
  {
   "cell_type": "markdown",
   "metadata": {
    "deletable": false,
    "editable": false,
    "nbgrader": {
     "grade": false,
     "grade_id": "cell-587cc6c8f29e7c41",
     "locked": true,
     "schema_version": 3,
     "solution": false,
     "task": false
    }
   },
   "source": [
    "### Exercise 3.3 - Pickle the model\n",
    "Pickle the fitted pipeline into a file named `pipeline.pickle`."
   ]
  },
  {
   "cell_type": "code",
   "execution_count": null,
   "metadata": {
    "deletable": false,
    "nbgrader": {
     "grade": false,
     "grade_id": "cell-83f3ebc142010e9f",
     "locked": false,
     "schema_version": 3,
     "solution": true,
     "task": false
    }
   },
   "outputs": [],
   "source": [
    "# YOUR CODE HERE\n",
    "raise NotImplementedError()"
   ]
  },
  {
   "cell_type": "code",
   "execution_count": null,
   "metadata": {
    "deletable": false,
    "editable": false,
    "nbgrader": {
     "grade": true,
     "grade_id": "cell-aacbc4873f79af3c",
     "locked": true,
     "points": 1,
     "schema_version": 3,
     "solution": false,
     "task": false
    }
   },
   "outputs": [],
   "source": [
    "pipeline_recovered = joblib.load(os.path.join(TMP_DIR, \"pipeline.pickle\"))\n",
    "\n",
    "assert isinstance(pipeline_recovered, Pipeline)\n",
    "assert pipeline_recovered.predict_proba(X.head(1)).shape == (1, 2)"
   ]
  },
  {
   "cell_type": "markdown",
   "metadata": {
    "deletable": false,
    "editable": false,
    "nbgrader": {
     "grade": false,
     "grade_id": "cell-842958da0ca18608",
     "locked": true,
     "schema_version": 3,
     "solution": false,
     "task": false
    }
   },
   "source": [
    "## Exercise 4 - Create a new repo for your service\n",
    "\n",
    "Now it's time to create a new repo for your service. Duplicate the [railway-model-deploy repository](https://github.com/LDSSA/railway-model-deploy) if you haven't done so yet.\n",
    "\n",
    "From this point on, you should code on the new repo. The remaining exercises in this notebook are questions meant to check if your service is working as expected.\n",
    "\n",
    "After you've setup your new repo, copy the following things over there:\n",
    "- `columns.json` file\n",
    "- `dtypes.pickle` file\n",
    "- `pipeline.pickle` file\n",
    "- any packages with custom code in your model (only if you've used it, of course!)."
   ]
  },
  {
   "cell_type": "markdown",
   "metadata": {
    "deletable": false,
    "editable": false,
    "nbgrader": {
     "grade": false,
     "grade_id": "cell-348c4399be9f23a8",
     "locked": true,
     "schema_version": 3,
     "solution": false,
     "task": false
    }
   },
   "source": [
    "## Exercise 5 - Build your flask app\n",
    "\n",
    "### Exercise 5.1 - /predict endpoint\n",
    "\n",
    "At this point, you can either edit the `app.py` file that's in the repo, or start a new file from scratch.\n",
    "My advice is that you start one from scratch, as it will probably be a better learning experience.\n",
    "\n",
    "Start by creating a `predict` endpoint, that should receive POST requests and a JSON payload with:\n",
    "- id\n",
    "- observation, which has 4 fields: age, education, hours-per-week, native-country.\n",
    "\n",
    "This endpoint should return the probability returned by your model for this observation.\n",
    "Make sure that each field is in the correct format before passing it to the scikit model. If you receive an observation with an invalid value, return an appropriate error message.\n",
    "\n",
    "When a request is received, you should update your local sqlite database with the following:\n",
    "- id\n",
    "- observation\n",
    "- proba\n",
    "- true_class (which is null for now)\n",
    "\n",
    "In case your app has received an observation with an id that it has seen before, it should return an error message, the correspondent probability, and not store anything.\n",
    "\n",
    "Use the following three commands to check that everything is working as expected."
   ]
  },
  {
   "cell_type": "markdown",
   "metadata": {
    "deletable": false,
    "editable": false,
    "nbgrader": {
     "grade": false,
     "grade_id": "cell-323d5162ea6c0008",
     "locked": true,
     "schema_version": 3,
     "solution": false,
     "task": false
    }
   },
   "source": [
    "**Command 1**\n",
    "\n",
    "```bash\n",
    "curl -X POST http://localhost:5000/predict -d '{\"id\": 0, \"observation\": {\"age\": 45, \"education\": \"Bachelors\", \"hours-per-week\": 45, \"native-country\": \"United-States\"}}' -H \"Content-Type:application/json\"\n",
    "```\n",
    "\n",
    "\n",
    "**Expected output 1**\n",
    "\n",
    "```json\n",
    "{\n",
    "  \"proba\": 0.11\n",
    "}\n",
    "```\n",
    "\n",
    "(any proba value works, it depends on your model, of course!)"
   ]
  },
  {
   "cell_type": "markdown",
   "metadata": {
    "deletable": false,
    "editable": false,
    "nbgrader": {
     "grade": false,
     "grade_id": "cell-255b3138647074b8",
     "locked": true,
     "schema_version": 3,
     "solution": false,
     "task": false
    }
   },
   "source": [
    "**Command 2**\n",
    "\n",
    "```bash\n",
    "curl -X POST http://localhost:5000/predict -d '{\"id\": 0, \"observation\": {\"age\": 45, \"education\": \"Bachelors\", \"hours-per-week\": 45, \"native-country\": \"United-States\"}}' -H \"Content-Type:application/json\"\n",
    "```\n",
    "\n",
    "\n",
    "**Expected output 2**\n",
    "\n",
    "```json\n",
    "{\n",
    "  \"error\": \"Observation ID: \\\"0\\\" already exists\",\n",
    "  \"proba\": 0.11\n",
    "}\n",
    "```"
   ]
  },
  {
   "cell_type": "markdown",
   "metadata": {
    "deletable": false,
    "editable": false,
    "nbgrader": {
     "grade": false,
     "grade_id": "cell-cd109fea5648a5cb",
     "locked": true,
     "schema_version": 3,
     "solution": false,
     "task": false
    }
   },
   "source": [
    "**Command 3**\n",
    "\n",
    "```bash\n",
    "curl -X POST http://localhost:5000/predict -d '{\"id\": 1, \"observation\": {\"age\": 45, \"education\": \"Bachelors\", \"hours-per-week\": \"45 hours\", \"native-country\": \"United-States\"}}' -H \"Content-Type:application/json\"\n",
    "```\n",
    "\n",
    "**Expected output 3**\n",
    "```json\n",
    "{\n",
    "  \"error\": \"Observation is invalid!\"\n",
    "}\n",
    "```"
   ]
  },
  {
   "cell_type": "markdown",
   "metadata": {
    "deletable": false,
    "editable": false,
    "nbgrader": {
     "grade": false,
     "grade_id": "cell-d30f7b6d5c859f21",
     "locked": true,
     "schema_version": 3,
     "solution": false,
     "task": false
    }
   },
   "source": [
    "This exercise notebook will not evaluate if your flask app is working as expected, so we will trust your judgement.\n",
    "To pass this exercise, simply set `predict_endpoint_working_fine = True`."
   ]
  },
  {
   "cell_type": "code",
   "execution_count": null,
   "metadata": {
    "deletable": false,
    "nbgrader": {
     "grade": false,
     "grade_id": "cell-c098b18fbb94dac2",
     "locked": false,
     "schema_version": 3,
     "solution": true,
     "task": false
    }
   },
   "outputs": [],
   "source": [
    "predict_endpoint_working_fine = False\n",
    "\n",
    "# YOUR CODE HERE\n",
    "raise NotImplementedError()"
   ]
  },
  {
   "cell_type": "code",
   "execution_count": null,
   "metadata": {
    "deletable": false,
    "editable": false,
    "nbgrader": {
     "grade": true,
     "grade_id": "cell-3e6dbbbbc93ef800",
     "locked": true,
     "points": 3,
     "schema_version": 3,
     "solution": false,
     "task": false
    }
   },
   "outputs": [],
   "source": [
    "assert predict_endpoint_working_fine"
   ]
  },
  {
   "cell_type": "markdown",
   "metadata": {
    "deletable": false,
    "editable": false,
    "nbgrader": {
     "grade": false,
     "grade_id": "cell-47acb752b1ba5730",
     "locked": true,
     "schema_version": 3,
     "solution": false,
     "task": false
    }
   },
   "source": [
    "### Exercise 5.2 - /update endpoint\n",
    "\n",
    "The update endpoint is for adding the true class to existing observations. It should receive POST requests and a JSON payload with:\n",
    "- id\n",
    "- true_class\n",
    "\n",
    "If there is an observation with `id` in your database, you should update the `true_class` value with the value in the request. The response should be the observation, with the updated `true_class` value.\n",
    "\n",
    "Otherwise, you should return an appropriate error message.\n",
    "\n",
    "Use the following two commands to check that everything is working as expected."
   ]
  },
  {
   "cell_type": "markdown",
   "metadata": {
    "deletable": false,
    "editable": false,
    "nbgrader": {
     "grade": false,
     "grade_id": "cell-36f99897d25c7dee",
     "locked": true,
     "schema_version": 3,
     "solution": false,
     "task": false
    }
   },
   "source": [
    "**Command 1**\n",
    "\n",
    "```bash\n",
    "curl -X POST http://localhost:5000/update -d '{\"id\": 0, \"true_class\": 1}'  -H \"Content-Type:application/json\"\n",
    "```\n",
    "\n",
    "\n",
    "**Expected output 1**\n",
    "\n",
    "```json\n",
    "{\n",
    "  \"id\": 1,\n",
    "  \"observation\": \"{\"age\": 45, \"education\": \"Bachelors\", \"hours-per-week\": 45, \"native-country\": \"United-States\"}\",\n",
    "  \"observation_id\": 0,\n",
    "  \"proba\": 0.3,\n",
    "  \"true_class\": 1\n",
    "}\n",
    "```"
   ]
  },
  {
   "cell_type": "markdown",
   "metadata": {
    "deletable": false,
    "editable": false,
    "nbgrader": {
     "grade": false,
     "grade_id": "cell-87df0f20c5b63b7a",
     "locked": true,
     "schema_version": 3,
     "solution": false,
     "task": false
    }
   },
   "source": [
    "**Command 2**\n",
    "\n",
    "```bash\n",
    "curl -X POST http://localhost:5000/update -d '{\"id\": 3, \"true_class\": 1}'  -H \"Content-Type:application/json\"\n",
    "```\n",
    "\n",
    "\n",
    "**Expected output 2**\n",
    "\n",
    "```json\n",
    "{\n",
    "  \"error\": \"Observation ID: \\\"3\\\" does not exist\"\n",
    "}\n",
    "```"
   ]
  },
  {
   "cell_type": "markdown",
   "metadata": {
    "deletable": false,
    "editable": false,
    "nbgrader": {
     "grade": false,
     "grade_id": "cell-ddd395b5759e8de3",
     "locked": true,
     "schema_version": 3,
     "solution": false,
     "task": false
    }
   },
   "source": [
    "When the predict endpoint of your flask app is working as expected, set variable `update_endpoint_working_fine` to `True`."
   ]
  },
  {
   "cell_type": "code",
   "execution_count": null,
   "metadata": {
    "deletable": false,
    "nbgrader": {
     "grade": false,
     "grade_id": "cell-40d6ee7431c34db9",
     "locked": false,
     "schema_version": 3,
     "solution": true,
     "task": false
    }
   },
   "outputs": [],
   "source": [
    "update_endpoint_working_fine = False\n",
    "\n",
    "# YOUR CODE HERE\n",
    "raise NotImplementedError()"
   ]
  },
  {
   "cell_type": "code",
   "execution_count": null,
   "metadata": {
    "deletable": false,
    "editable": false,
    "nbgrader": {
     "grade": true,
     "grade_id": "cell-589e67c22bb96a5b",
     "locked": true,
     "points": 2,
     "schema_version": 3,
     "solution": false,
     "task": false
    }
   },
   "outputs": [],
   "source": [
    "assert update_endpoint_working_fine"
   ]
  },
  {
   "cell_type": "markdown",
   "metadata": {
    "deletable": false,
    "editable": false,
    "nbgrader": {
     "grade": false,
     "grade_id": "cell-a91cf9c4b3b38661",
     "locked": true,
     "schema_version": 3,
     "solution": false,
     "task": false
    }
   },
   "source": [
    "## Exercise 6 - Deploy your app to railway\n",
    "\n",
    "Follow the instructions in the learning part of this BLU to deploy your app to railway.\n",
    "\n",
    "In order to check that your app is working correctly in railway, re-run the commands from the previous two exercises, but replace the `localhost` with the URL of your railway app (like `https://<your-app-name>.up.railway.app`). For instance, the first command would be:\n",
    "\n",
    "\n",
    "**Command**\n",
    "\n",
    "```bash\n",
    "curl -X POST https://<your-app-name>.up.railway.app/predict -d '{\"id\": 0, \"observation\": {\"age\": 45, \"education\": \"Bachelors\", \"hours-per-week\": 45, \"native-country\": \"United-States\"}}' -H \"Content-Type:application/json\"\n",
    "```\n",
    "\n",
    "\n",
    "**Expected output**\n",
    "\n",
    "```json\n",
    "{\n",
    "  \"proba\": 0.3\n",
    "}\n",
    "```"
   ]
  },
  {
   "cell_type": "markdown",
   "metadata": {
    "deletable": false,
    "editable": false,
    "nbgrader": {
     "grade": false,
     "grade_id": "cell-b4eb379e93d926d1",
     "locked": true,
     "schema_version": 3,
     "solution": false,
     "task": false
    }
   },
   "source": [
    "In the following test, we will call your app to check if it's working as expected. Set the variable `APP_NAME` to the name of your railway app."
   ]
  },
  {
   "cell_type": "code",
   "execution_count": null,
   "metadata": {
    "deletable": false,
    "nbgrader": {
     "grade": false,
     "grade_id": "cell-711322a2c161a32a",
     "locked": false,
     "schema_version": 3,
     "solution": true,
     "task": false
    }
   },
   "outputs": [],
   "source": [
    "# APP_NAME = ...\n",
    "\n",
    "# YOUR CODE HERE\n",
    "raise NotImplementedError()"
   ]
  },
  {
   "cell_type": "code",
   "execution_count": null,
   "metadata": {
    "deletable": false,
    "editable": false,
    "nbgrader": {
     "grade": true,
     "grade_id": "cell-011a2a3474c01346",
     "locked": true,
     "points": 3,
     "schema_version": 3,
     "solution": false,
     "task": false
    }
   },
   "outputs": [],
   "source": [
    "# Testing the /predict endpoint\n",
    "\n",
    "url = f\"https://{APP_NAME}/predict\"\n",
    "payload = {\n",
    "    \"id\": 0,\n",
    "    \"observation\": {\"age\": 45,\n",
    "                    \"education\": \"Bachelors\",\n",
    "                    \"hours-per-week\": 45,\n",
    "                    \"native-country\": \"United-States\"}\n",
    "}\n",
    "\n",
    "r = requests.post(url, json=payload)\n",
    "\n",
    "assert isinstance(r, requests.Response)\n",
    "assert r.ok\n",
    "assert \"proba\" in r.json()\n",
    "assert isinstance(r.json()[\"proba\"], float)\n",
    "assert 0 <= r.json()[\"proba\"] <= 1"
   ]
  },
  {
   "cell_type": "code",
   "execution_count": null,
   "metadata": {
    "deletable": false,
    "editable": false,
    "nbgrader": {
     "grade": true,
     "grade_id": "cell-b88d9b0ab2bf644e",
     "locked": true,
     "points": 2,
     "schema_version": 3,
     "solution": false,
     "task": false
    }
   },
   "outputs": [],
   "source": [
    "# Testing the /update endpoint\n",
    "\n",
    "url = f\"https://{APP_NAME}/update\"\n",
    "payload = {\n",
    "    \"id\": 0,\n",
    "    \"true_class\": 1\n",
    "}\n",
    "\n",
    "r = requests.post(url, json=payload)\n",
    "\n",
    "assert isinstance(r, requests.Response)\n",
    "assert r.ok\n",
    "assert \"observation\" in r.json()\n",
    "assert \"proba\" in r.json()\n",
    "assert \"true_class\" in r.json()\n",
    "assert r.json()[\"true_class\"] == 1"
   ]
  }
 ],
 "metadata": {
  "kernelspec": {
   "display_name": "Python 3 (ipykernel)",
   "language": "python",
   "name": "python3"
  },
  "language_info": {
   "codemirror_mode": {
    "name": "ipython",
    "version": 3
   },
   "file_extension": ".py",
   "mimetype": "text/x-python",
   "name": "python",
   "nbconvert_exporter": "python",
   "pygments_lexer": "ipython3",
   "version": "3.12.9"
  }
 },
 "nbformat": 4,
 "nbformat_minor": 4
}
