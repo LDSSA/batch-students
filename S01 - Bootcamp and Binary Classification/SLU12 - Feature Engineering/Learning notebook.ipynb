{
 "cells": [
  {
   "attachments": {},
   "cell_type": "markdown",
   "metadata": {},
   "source": [
    "# SLU12 - Feature Engineering\n",
    "\n",
    "This SLU introduces you to basic feature engineering of numerical and categorical data. We'll look at scaling and binning for numerical data and encoding for categorical data. The choice of feature engineering mostly depends on the requirements of the model you're planning to use. Sometimes it also simplifies the data representation or creates a new feature from the features you already have (this last option is not covered here).\n",
    "\n",
    "We will be using a preprocessed version of the `avengers` dataset, by [FiveThirtyEight](https://github.com/fivethirtyeight/data/tree/master/avengers).\n",
    "\n",
    "<img src=\"https://ichef.bbci.co.uk/news/800/cpsprodpb/BF0D/production/_106090984_2e39b218-c369-452e-b5be-d2476f9d8728.jpg\" width=\"400\">)"
   ]
  },
  {
   "cell_type": "code",
   "execution_count": 1,
   "metadata": {
    "execution": {
     "iopub.execute_input": "2024-09-14T21:40:03.118143Z",
     "iopub.status.busy": "2024-09-14T21:40:03.117962Z",
     "iopub.status.idle": "2024-09-14T21:40:03.421853Z",
     "shell.execute_reply": "2024-09-14T21:40:03.421586Z",
     "shell.execute_reply.started": "2024-09-14T21:40:03.118122Z"
    }
   },
   "outputs": [],
   "source": [
    "import numpy as np\n",
    "import pandas as pd\n",
    "import matplotlib.pyplot as plt\n",
    "\n",
    "plt.rcParams[\"figure.figsize\"] = [5.6, 4.2]"
   ]
  },
  {
   "cell_type": "code",
   "execution_count": 2,
   "metadata": {
    "execution": {
     "iopub.execute_input": "2024-09-14T21:40:03.422414Z",
     "iopub.status.busy": "2024-09-14T21:40:03.422302Z",
     "iopub.status.idle": "2024-09-14T21:40:03.428194Z",
     "shell.execute_reply": "2024-09-14T21:40:03.427959Z",
     "shell.execute_reply.started": "2024-09-14T21:40:03.422406Z"
    }
   },
   "outputs": [
    {
     "data": {
      "text/html": [
       "<div>\n",
       "<style scoped>\n",
       "    .dataframe tbody tr th:only-of-type {\n",
       "        vertical-align: middle;\n",
       "    }\n",
       "\n",
       "    .dataframe tbody tr th {\n",
       "        vertical-align: top;\n",
       "    }\n",
       "\n",
       "    .dataframe thead th {\n",
       "        text-align: right;\n",
       "    }\n",
       "</style>\n",
       "<table border=\"1\" class=\"dataframe\">\n",
       "  <thead>\n",
       "    <tr style=\"text-align: right;\">\n",
       "      <th></th>\n",
       "      <th>Name</th>\n",
       "      <th>Active</th>\n",
       "      <th>Gender</th>\n",
       "      <th>Membership</th>\n",
       "      <th>Universe</th>\n",
       "      <th>Appearances</th>\n",
       "      <th>TotalDeaths</th>\n",
       "      <th>TotalReturns</th>\n",
       "    </tr>\n",
       "  </thead>\n",
       "  <tbody>\n",
       "    <tr>\n",
       "      <th>0</th>\n",
       "      <td>Henry Jonathan \"Hank\" Pym</td>\n",
       "      <td>YES</td>\n",
       "      <td>MALE</td>\n",
       "      <td>Full</td>\n",
       "      <td>Earth-616</td>\n",
       "      <td>1269</td>\n",
       "      <td>1</td>\n",
       "      <td>0</td>\n",
       "    </tr>\n",
       "    <tr>\n",
       "      <th>1</th>\n",
       "      <td>Janet van Dyne</td>\n",
       "      <td>YES</td>\n",
       "      <td>FEMALE</td>\n",
       "      <td>Full</td>\n",
       "      <td>Earth-616</td>\n",
       "      <td>1165</td>\n",
       "      <td>1</td>\n",
       "      <td>1</td>\n",
       "    </tr>\n",
       "    <tr>\n",
       "      <th>2</th>\n",
       "      <td>Anthony Edward \"Tony\" Stark</td>\n",
       "      <td>YES</td>\n",
       "      <td>MALE</td>\n",
       "      <td>Full</td>\n",
       "      <td>Earth-616</td>\n",
       "      <td>3068</td>\n",
       "      <td>1</td>\n",
       "      <td>1</td>\n",
       "    </tr>\n",
       "    <tr>\n",
       "      <th>3</th>\n",
       "      <td>Robert Bruce Banner</td>\n",
       "      <td>YES</td>\n",
       "      <td>MALE</td>\n",
       "      <td>Full</td>\n",
       "      <td>Earth-616</td>\n",
       "      <td>2089</td>\n",
       "      <td>1</td>\n",
       "      <td>1</td>\n",
       "    </tr>\n",
       "    <tr>\n",
       "      <th>4</th>\n",
       "      <td>Thor Odinson</td>\n",
       "      <td>YES</td>\n",
       "      <td>MALE</td>\n",
       "      <td>Full</td>\n",
       "      <td>Earth-616</td>\n",
       "      <td>2402</td>\n",
       "      <td>2</td>\n",
       "      <td>1</td>\n",
       "    </tr>\n",
       "  </tbody>\n",
       "</table>\n",
       "</div>"
      ],
      "text/plain": [
       "                          Name Active  Gender Membership   Universe  \\\n",
       "0    Henry Jonathan \"Hank\" Pym    YES    MALE       Full  Earth-616   \n",
       "1               Janet van Dyne    YES  FEMALE       Full  Earth-616   \n",
       "2  Anthony Edward \"Tony\" Stark    YES    MALE       Full  Earth-616   \n",
       "3          Robert Bruce Banner    YES    MALE       Full  Earth-616   \n",
       "4                 Thor Odinson    YES    MALE       Full  Earth-616   \n",
       "\n",
       "   Appearances  TotalDeaths  TotalReturns  \n",
       "0         1269            1             0  \n",
       "1         1165            1             1  \n",
       "2         3068            1             1  \n",
       "3         2089            1             1  \n",
       "4         2402            2             1  "
      ]
     },
     "execution_count": 2,
     "metadata": {},
     "output_type": "execute_result"
    }
   ],
   "source": [
    "avengers = pd.read_csv('data/avengers.csv', )\n",
    "avengers.head()"
   ]
  },
  {
   "cell_type": "markdown",
   "metadata": {},
   "source": [
    "## 1. Types of data in Pandas <a class=\"anchor\" id=\"types-data\"></a>\n",
    "\n",
    "The feature engineering you can choose from depends on the data type, so let's first review the pandas datatypes.\n",
    "\n",
    "A dataset is a collection of values, usually either numbers or strings. When reading data from a file, pandas usually recognizes the numerical types and considers everything else an `object`."
   ]
  },
  {
   "cell_type": "code",
   "execution_count": 3,
   "metadata": {
    "execution": {
     "iopub.execute_input": "2024-09-14T21:40:03.428738Z",
     "iopub.status.busy": "2024-09-14T21:40:03.428618Z",
     "iopub.status.idle": "2024-09-14T21:40:03.430976Z",
     "shell.execute_reply": "2024-09-14T21:40:03.430747Z",
     "shell.execute_reply.started": "2024-09-14T21:40:03.428730Z"
    }
   },
   "outputs": [
    {
     "data": {
      "text/plain": [
       "Name            object\n",
       "Active          object\n",
       "Gender          object\n",
       "Membership      object\n",
       "Universe        object\n",
       "Appearances      int64\n",
       "TotalDeaths      int64\n",
       "TotalReturns     int64\n",
       "dtype: object"
      ]
     },
     "execution_count": 3,
     "metadata": {},
     "output_type": "execute_result"
    }
   ],
   "source": [
    "avengers.dtypes"
   ]
  },
  {
   "cell_type": "markdown",
   "metadata": {},
   "source": [
    "We can use the `convert_dtypes` method to improve the type definition. It will convert the variables to the best possible dtypes using data types supporting the pandas null value `pd.NA`."
   ]
  },
  {
   "cell_type": "code",
   "execution_count": 4,
   "metadata": {
    "execution": {
     "iopub.execute_input": "2024-09-14T21:40:03.431324Z",
     "iopub.status.busy": "2024-09-14T21:40:03.431259Z",
     "iopub.status.idle": "2024-09-14T21:40:03.434039Z",
     "shell.execute_reply": "2024-09-14T21:40:03.433837Z",
     "shell.execute_reply.started": "2024-09-14T21:40:03.431317Z"
    }
   },
   "outputs": [
    {
     "data": {
      "text/plain": [
       "Name            string[python]\n",
       "Active          string[python]\n",
       "Gender          string[python]\n",
       "Membership      string[python]\n",
       "Universe        string[python]\n",
       "Appearances              Int64\n",
       "TotalDeaths              Int64\n",
       "TotalReturns             Int64\n",
       "dtype: object"
      ]
     },
     "execution_count": 4,
     "metadata": {},
     "output_type": "execute_result"
    }
   ],
   "source": [
    "avengers = avengers.convert_dtypes()\n",
    "avengers.dtypes"
   ]
  },
  {
   "cell_type": "markdown",
   "metadata": {},
   "source": [
    "Using these more specific data types is better because it allows you to use data type specific operations. For instance, there is a whole set of operations for strings, starting with the `str.` prefix. It also allows to select columns by data types in a more specific way.\n",
    "\n",
    "The convenient `select_dtypes` method allows us to select variables (columns in our dataframe) by data type."
   ]
  },
  {
   "cell_type": "code",
   "execution_count": 5,
   "metadata": {
    "execution": {
     "iopub.execute_input": "2024-09-14T21:40:03.434386Z",
     "iopub.status.busy": "2024-09-14T21:40:03.434295Z",
     "iopub.status.idle": "2024-09-14T21:40:03.437965Z",
     "shell.execute_reply": "2024-09-14T21:40:03.437744Z",
     "shell.execute_reply.started": "2024-09-14T21:40:03.434374Z"
    }
   },
   "outputs": [
    {
     "data": {
      "text/html": [
       "<div>\n",
       "<style scoped>\n",
       "    .dataframe tbody tr th:only-of-type {\n",
       "        vertical-align: middle;\n",
       "    }\n",
       "\n",
       "    .dataframe tbody tr th {\n",
       "        vertical-align: top;\n",
       "    }\n",
       "\n",
       "    .dataframe thead th {\n",
       "        text-align: right;\n",
       "    }\n",
       "</style>\n",
       "<table border=\"1\" class=\"dataframe\">\n",
       "  <thead>\n",
       "    <tr style=\"text-align: right;\">\n",
       "      <th></th>\n",
       "      <th>Name</th>\n",
       "      <th>Active</th>\n",
       "      <th>Gender</th>\n",
       "      <th>Membership</th>\n",
       "      <th>Universe</th>\n",
       "    </tr>\n",
       "  </thead>\n",
       "  <tbody>\n",
       "    <tr>\n",
       "      <th>0</th>\n",
       "      <td>Henry Jonathan \"Hank\" Pym</td>\n",
       "      <td>YES</td>\n",
       "      <td>MALE</td>\n",
       "      <td>Full</td>\n",
       "      <td>Earth-616</td>\n",
       "    </tr>\n",
       "    <tr>\n",
       "      <th>1</th>\n",
       "      <td>Janet van Dyne</td>\n",
       "      <td>YES</td>\n",
       "      <td>FEMALE</td>\n",
       "      <td>Full</td>\n",
       "      <td>Earth-616</td>\n",
       "    </tr>\n",
       "    <tr>\n",
       "      <th>2</th>\n",
       "      <td>Anthony Edward \"Tony\" Stark</td>\n",
       "      <td>YES</td>\n",
       "      <td>MALE</td>\n",
       "      <td>Full</td>\n",
       "      <td>Earth-616</td>\n",
       "    </tr>\n",
       "  </tbody>\n",
       "</table>\n",
       "</div>"
      ],
      "text/plain": [
       "                          Name Active  Gender Membership   Universe\n",
       "0    Henry Jonathan \"Hank\" Pym    YES    MALE       Full  Earth-616\n",
       "1               Janet van Dyne    YES  FEMALE       Full  Earth-616\n",
       "2  Anthony Edward \"Tony\" Stark    YES    MALE       Full  Earth-616"
      ]
     },
     "execution_count": 5,
     "metadata": {},
     "output_type": "execute_result"
    }
   ],
   "source": [
    "(avengers.select_dtypes(include='string')\n",
    "         .head(3))"
   ]
  },
  {
   "cell_type": "markdown",
   "metadata": {},
   "source": [
    "Pandas is based on NumPy and so recognizes the NumPy data types. It also has its own types, called extension types. We can roughly divide the pandas data types into\n",
    "- basic numeric types such as integers and floats\n",
    "- boolean types\n",
    "- time related types such as datetime, timedelta, interval, period\n",
    "- strings\n",
    "- categorical type which can be represented by integers, strings or booleans\n",
    "\n",
    "Here is a complete list of [pandas data types](https://pandas.pydata.org/docs/reference/arrays.html). Depending on the data type, we can divide features into numerical and categorical. So far, you have worked with numerical data with linear regression and logistic regression models and with categorical data with tree models. You already know numerical data pretty well, so we'll explain just categorical data in the next section."
   ]
  },
  {
   "cell_type": "markdown",
   "metadata": {},
   "source": [
    "### 1.1 Categorical data\n",
    "\n",
    "Categorical data represents categories (e.g., gender, marital status, hometown). Categorical variables can take on a limited, and usually fixed, number of possible values.\n",
    "\n",
    "The categories can also take on numerical values (e.g. ids), but those numbers have no mathematical meaning:\n",
    "* You can't do mathematical operations, even if the computer says yes.\n",
    "* Nor sort them in ascending or descending order.\n",
    "\n",
    "Pandas provides us with a `CategoryDtype` data type for [categorical data](https://pandas.pydata.org/pandas-docs/stable/user_guide/categorical.html). \n",
    "* It allows to easily identify categorical columns and apply category-specific methods to them;\n",
    "* Transforming a string column that contains only a few unique values into a categorical data type reduces memory usage;\n",
    "* By converting to a categorical we can specify an order for the categories;\n",
    "* It has a null value `np.nan`.\n",
    "\n",
    "Let's consider the categorical feature `Universe`. It is currently of the string type. We'll convert it to the categorical type."
   ]
  },
  {
   "cell_type": "code",
   "execution_count": 6,
   "metadata": {
    "execution": {
     "iopub.execute_input": "2024-09-14T21:40:03.439533Z",
     "iopub.status.busy": "2024-09-14T21:40:03.439430Z",
     "iopub.status.idle": "2024-09-14T21:40:03.442504Z",
     "shell.execute_reply": "2024-09-14T21:40:03.442265Z",
     "shell.execute_reply.started": "2024-09-14T21:40:03.439525Z"
    }
   },
   "outputs": [],
   "source": [
    "avengers_cat = avengers.copy()\n",
    "avengers_cat['Universe'] = avengers_cat['Universe'].astype('category')"
   ]
  },
  {
   "cell_type": "markdown",
   "metadata": {},
   "source": [
    "The `describe` method can give us specific information about categorical variables. It shows the value count, number of categories, the most frequent category and its value count."
   ]
  },
  {
   "cell_type": "code",
   "execution_count": 7,
   "metadata": {
    "execution": {
     "iopub.execute_input": "2024-09-14T21:40:03.442994Z",
     "iopub.status.busy": "2024-09-14T21:40:03.442899Z",
     "iopub.status.idle": "2024-09-14T21:40:03.447279Z",
     "shell.execute_reply": "2024-09-14T21:40:03.447025Z",
     "shell.execute_reply.started": "2024-09-14T21:40:03.442987Z"
    }
   },
   "outputs": [
    {
     "data": {
      "text/html": [
       "<div>\n",
       "<style scoped>\n",
       "    .dataframe tbody tr th:only-of-type {\n",
       "        vertical-align: middle;\n",
       "    }\n",
       "\n",
       "    .dataframe tbody tr th {\n",
       "        vertical-align: top;\n",
       "    }\n",
       "\n",
       "    .dataframe thead th {\n",
       "        text-align: right;\n",
       "    }\n",
       "</style>\n",
       "<table border=\"1\" class=\"dataframe\">\n",
       "  <thead>\n",
       "    <tr style=\"text-align: right;\">\n",
       "      <th></th>\n",
       "      <th>Universe</th>\n",
       "    </tr>\n",
       "  </thead>\n",
       "  <tbody>\n",
       "    <tr>\n",
       "      <th>count</th>\n",
       "      <td>155</td>\n",
       "    </tr>\n",
       "    <tr>\n",
       "      <th>unique</th>\n",
       "      <td>7</td>\n",
       "    </tr>\n",
       "    <tr>\n",
       "      <th>top</th>\n",
       "      <td>Earth-616</td>\n",
       "    </tr>\n",
       "    <tr>\n",
       "      <th>freq</th>\n",
       "      <td>144</td>\n",
       "    </tr>\n",
       "  </tbody>\n",
       "</table>\n",
       "</div>"
      ],
      "text/plain": [
       "         Universe\n",
       "count         155\n",
       "unique          7\n",
       "top     Earth-616\n",
       "freq          144"
      ]
     },
     "execution_count": 7,
     "metadata": {},
     "output_type": "execute_result"
    }
   ],
   "source": [
    "avengers_cat.describe(include='category')"
   ]
  },
  {
   "cell_type": "markdown",
   "metadata": {},
   "source": [
    "[The categorical data type](https://pandas.pydata.org/docs/reference/api/pandas.CategoricalDtype.html#pandas.CategoricalDtype) has a `categories` and an `ordered` property. You can define them when converting your variable.\n",
    "* `Series.cat.categories` prints all the possible values (levels) of the variable;\n",
    "* `Series.cat.ordered` prints whether the categories are ordered."
   ]
  },
  {
   "cell_type": "code",
   "execution_count": 8,
   "metadata": {
    "execution": {
     "iopub.execute_input": "2024-09-14T21:40:03.447781Z",
     "iopub.status.busy": "2024-09-14T21:40:03.447715Z",
     "iopub.status.idle": "2024-09-14T21:40:03.450028Z",
     "shell.execute_reply": "2024-09-14T21:40:03.449800Z",
     "shell.execute_reply.started": "2024-09-14T21:40:03.447774Z"
    }
   },
   "outputs": [
    {
     "data": {
      "text/plain": [
       "Index(['Earth-13034', 'Earth-616', 'Earth-6311', 'Earth-691', 'Earth-8009',\n",
       "       'Earth-921', 'Earth-96020'],\n",
       "      dtype='string')"
      ]
     },
     "execution_count": 8,
     "metadata": {},
     "output_type": "execute_result"
    }
   ],
   "source": [
    "avengers_cat['Universe'].cat.categories"
   ]
  },
  {
   "cell_type": "markdown",
   "metadata": {},
   "source": [
    "In our case, the values of `Universe` don't have a natural order. They could be ordered alphabetically, but that does not make sense in the context of the variable. This kind of categorical variables are called **nominal**."
   ]
  },
  {
   "cell_type": "code",
   "execution_count": 9,
   "metadata": {
    "execution": {
     "iopub.execute_input": "2024-09-14T21:40:03.450535Z",
     "iopub.status.busy": "2024-09-14T21:40:03.450420Z",
     "iopub.status.idle": "2024-09-14T21:40:03.452286Z",
     "shell.execute_reply": "2024-09-14T21:40:03.452077Z",
     "shell.execute_reply.started": "2024-09-14T21:40:03.450528Z"
    }
   },
   "outputs": [
    {
     "data": {
      "text/plain": [
       "False"
      ]
     },
     "execution_count": 9,
     "metadata": {},
     "output_type": "execute_result"
    }
   ],
   "source": [
    "avengers_cat['Universe'].cat.ordered"
   ]
  },
  {
   "cell_type": "markdown",
   "metadata": {},
   "source": [
    "There is another kind of categorical variables called **ordinal** which have a natural order, but the distance between the values is not known.\n",
    "\n",
    "An example in our data is the `Membership` variable. It is the degree of commitment of the avengers.\n",
    "\n",
    "The existing categories are the following:"
   ]
  },
  {
   "cell_type": "code",
   "execution_count": 10,
   "metadata": {
    "execution": {
     "iopub.execute_input": "2024-09-14T21:40:03.452669Z",
     "iopub.status.busy": "2024-09-14T21:40:03.452606Z",
     "iopub.status.idle": "2024-09-14T21:40:03.454858Z",
     "shell.execute_reply": "2024-09-14T21:40:03.454599Z",
     "shell.execute_reply.started": "2024-09-14T21:40:03.452662Z"
    }
   },
   "outputs": [
    {
     "data": {
      "text/plain": [
       "<StringArray>\n",
       "['Full', 'Honorary', 'Probationary', 'Academy']\n",
       "Length: 4, dtype: string"
      ]
     },
     "execution_count": 10,
     "metadata": {},
     "output_type": "execute_result"
    }
   ],
   "source": [
    "avengers['Membership'].unique()"
   ]
  },
  {
   "cell_type": "markdown",
   "metadata": {},
   "source": [
    "A natural order for the categories is this one, ordered from the least to the most commitment:"
   ]
  },
  {
   "cell_type": "code",
   "execution_count": 11,
   "metadata": {
    "execution": {
     "iopub.execute_input": "2024-09-14T21:40:03.455410Z",
     "iopub.status.busy": "2024-09-14T21:40:03.455259Z",
     "iopub.status.idle": "2024-09-14T21:40:03.456866Z",
     "shell.execute_reply": "2024-09-14T21:40:03.456667Z",
     "shell.execute_reply.started": "2024-09-14T21:40:03.455401Z"
    }
   },
   "outputs": [],
   "source": [
    "ordered_cats = ['Honorary', 'Academy', 'Probationary', 'Full']"
   ]
  },
  {
   "cell_type": "markdown",
   "metadata": {},
   "source": [
    "Let's convert the variable and set the order of the categories in the process."
   ]
  },
  {
   "cell_type": "code",
   "execution_count": 12,
   "metadata": {
    "execution": {
     "iopub.execute_input": "2024-09-14T21:40:03.457291Z",
     "iopub.status.busy": "2024-09-14T21:40:03.457219Z",
     "iopub.status.idle": "2024-09-14T21:40:03.459906Z",
     "shell.execute_reply": "2024-09-14T21:40:03.459688Z",
     "shell.execute_reply.started": "2024-09-14T21:40:03.457285Z"
    }
   },
   "outputs": [],
   "source": [
    "avengers_ord = avengers.copy()\n",
    "avengers_ord['Membership'] = avengers_ord['Membership'].astype('category').cat.set_categories(ordered_cats, ordered=True)"
   ]
  },
  {
   "cell_type": "markdown",
   "metadata": {},
   "source": [
    "We can now apply operations refering to ordered variables, such as minimum and maximum:"
   ]
  },
  {
   "cell_type": "code",
   "execution_count": 13,
   "metadata": {
    "execution": {
     "iopub.execute_input": "2024-09-14T21:40:03.460325Z",
     "iopub.status.busy": "2024-09-14T21:40:03.460258Z",
     "iopub.status.idle": "2024-09-14T21:40:03.462464Z",
     "shell.execute_reply": "2024-09-14T21:40:03.462241Z",
     "shell.execute_reply.started": "2024-09-14T21:40:03.460318Z"
    }
   },
   "outputs": [
    {
     "data": {
      "text/plain": [
       "('Honorary', 'Full')"
      ]
     },
     "execution_count": 13,
     "metadata": {},
     "output_type": "execute_result"
    }
   ],
   "source": [
    "avengers_ord['Membership'].min(), avengers_ord['Membership'].max()"
   ]
  },
  {
   "cell_type": "markdown",
   "metadata": {},
   "source": [
    "Again, remember that most models need variables in numeric form, in order to be able to make sense of them. Behind the scenes, the values of the categories are represented as integers. We can see this coding through the `codes` attribute."
   ]
  },
  {
   "cell_type": "code",
   "execution_count": 14,
   "metadata": {
    "execution": {
     "iopub.execute_input": "2024-09-14T21:40:03.462801Z",
     "iopub.status.busy": "2024-09-14T21:40:03.462740Z",
     "iopub.status.idle": "2024-09-14T21:40:03.465295Z",
     "shell.execute_reply": "2024-09-14T21:40:03.465078Z",
     "shell.execute_reply.started": "2024-09-14T21:40:03.462794Z"
    }
   },
   "outputs": [
    {
     "data": {
      "text/plain": [
       "76     3\n",
       "25     0\n",
       "92     3\n",
       "151    3\n",
       "19     3\n",
       "dtype: int8"
      ]
     },
     "execution_count": 14,
     "metadata": {},
     "output_type": "execute_result"
    }
   ],
   "source": [
    "avengers_ord['Membership'].sample(n=5).cat.codes"
   ]
  },
  {
   "cell_type": "markdown",
   "metadata": {},
   "source": [
    "However, as usual, there is a trade-off here:\n",
    "* If we assign integer values to the ordinal categories we are assuming that they are equally spaced;\n",
    "* If we convert them to dummy variables (see section 3), we will lose information about their order."
   ]
  },
  {
   "cell_type": "markdown",
   "metadata": {},
   "source": [
    "## 2. Dealing with numerical data\n",
    "\n",
    "Numerical data is information that is measurable. It's always collected in number form, although not all data in number form is numerical.\n",
    "\n",
    "Some of the things we can do with numerical data:\n",
    "* Mathematical operations (e.g., addition, calculate distances, normalization);\n",
    "* Sort it in ascending or descending order.\n",
    "\n",
    "Numerical data can be discrete or continuous.\n",
    "\n",
    "**Discrete data**\n",
    "\n",
    "Discrete data take on values from a set that can be mapped onto the set of integers. There is always a gap between two consecutive values. Generally, this kind of variables is obtained by counting. \n",
    "\n",
    "Variables of integer type are discrete variables. In our data, `Appearances`, `TotalDeaths` and `TotalReturns` are discrete variables.\n",
    "\n",
    "**Continuous data**\n",
    "\n",
    "Continuous data can take on an infinite set of values. Variables of the float type are continuous variables. Generally, this kind of variables is obtained by measuring.\n",
    "\n",
    "Our data does not have a continuous variable. An example would be avengers' height."
   ]
  },
  {
   "cell_type": "markdown",
   "metadata": {},
   "source": [
    "### 2.1 Introducing sklearn-like transformers\n",
    "\n",
    "In a typical data science workflow, after cleaning your training data, you will preprocess (feature engineer) it to turn it into a form that can be fed into the model. You have already encountered some of these preprocessing transformations: for example, imputing the missing values in a column (using the pandas `fillna` method).\n",
    "\n",
    "After your model is trained, you are going to apply it to a separate dataset to make predictions. But what about the preprocessing? How are you going to feature engineer this new dataset?\n",
    "\n",
    "If, for example, you are filling the missing values of a numerical feature with a fixed value (say `0`), then it is trivial to apply the same transformation to new, unseen data. But imagine that you are instead filling the missing values with the median value of that feature. How do you apply that transformation in practice?\n",
    "\n",
    "The only correct way to do it is to apply **exactly the same transformation** that you used for the training data. That means to:\n",
    "* compute the median of that feature for the *training data*;\n",
    "* use this value to impute the *new unseen data* (e.g. the test set).\n",
    "\n",
    "This process is greatly facilitated by using `sklearn` **transformers**, which have two standard methods:\n",
    "* The `.fit()` method goes through the data and creates a mapping;\n",
    "* Then`.transform()` method transforms the data using this mapping, failing gracefully when strange things happen (e.g., unseen values or categories).\n",
    "\n",
    "Also, they can be used in very convenient ways with other `sklearn` utilities in a typical workflow, a pipeline, which we'll see in SLU16.\n",
    "\n",
    "For numerical data, we will introduce the following transformers, from `sklearn.preprocessing`:"
   ]
  },
  {
   "cell_type": "code",
   "execution_count": 15,
   "metadata": {
    "execution": {
     "iopub.execute_input": "2024-09-14T21:40:03.465836Z",
     "iopub.status.busy": "2024-09-14T21:40:03.465755Z",
     "iopub.status.idle": "2024-09-14T21:40:05.262072Z",
     "shell.execute_reply": "2024-09-14T21:40:05.260880Z",
     "shell.execute_reply.started": "2024-09-14T21:40:03.465830Z"
    }
   },
   "outputs": [],
   "source": [
    "from sklearn.preprocessing import KBinsDiscretizer\n",
    "from sklearn.preprocessing import Binarizer\n",
    "from sklearn.preprocessing import MinMaxScaler\n",
    "from sklearn.preprocessing import Normalizer\n",
    "from sklearn.preprocessing import StandardScaler\n",
    "from sklearn.preprocessing import RobustScaler"
   ]
  },
  {
   "cell_type": "markdown",
   "metadata": {},
   "source": [
    "### 2.2 Discretization of numerical data\n",
    "\n",
    "#### 2.2.1 Binning\n",
    "\n",
    "Binning means that we map all values from an interval or *bin* onto one value. You already know binning from histograms where it is used to plot the data in a convenient way. We can apply binning to continuous or discrete data.\n",
    "\n",
    "Let's try it in the `Appearances` field, which has the following distribution:"
   ]
  },
  {
   "cell_type": "code",
   "execution_count": 16,
   "metadata": {
    "execution": {
     "iopub.execute_input": "2024-09-14T21:40:05.265640Z",
     "iopub.status.busy": "2024-09-14T21:40:05.264657Z",
     "iopub.status.idle": "2024-09-14T21:40:05.363056Z",
     "shell.execute_reply": "2024-09-14T21:40:05.362836Z",
     "shell.execute_reply.started": "2024-09-14T21:40:05.265501Z"
    }
   },
   "outputs": [
    {
     "data": {
      "image/png": "[encoded data removed]",
      "text/plain": [
       "<Figure size 560x420 with 1 Axes>"
      ]
     },
     "metadata": {},
     "output_type": "display_data"
    }
   ],
   "source": [
    "avengers['Appearances'].plot.hist(bins=10);\n",
    "plt.xlim(0);\n",
    "plt.xlabel('Number of appearances');\n",
    "plt.title('Histogram of number of appearances');"
   ]
  },
  {
   "cell_type": "markdown",
   "metadata": {},
   "source": [
    "The histogram above shows the distribution of values of this variable by splitting the instances into 10 bins, for the purpose of the plot. The [`KBinsDiscretizer` transformer](https://scikit-learn.org/stable/modules/generated/sklearn.preprocessing.KBinsDiscretizer.html#sklearn.preprocessing.KBinsDiscretizer) will do the same thing, but instead of plotting the bins, it creates a new variable.\n",
    "\n",
    "In the following, we will create a new feature called `Appearances_bins` containing 10 bins, from 0 to 9, with equally sized bin intervals. Notice that we need to feed the data to the transformer as a dataframe, therefore the two sets of brackets. We choose the `ordinal` encoding to encode the bins as integers and the `uniform` strategy for equal bin width."
   ]
  },
  {
   "cell_type": "code",
   "execution_count": 17,
   "metadata": {
    "execution": {
     "iopub.execute_input": "2024-09-14T21:40:05.363458Z",
     "iopub.status.busy": "2024-09-14T21:40:05.363384Z",
     "iopub.status.idle": "2024-09-14T21:40:05.366832Z",
     "shell.execute_reply": "2024-09-14T21:40:05.366629Z",
     "shell.execute_reply.started": "2024-09-14T21:40:05.363450Z"
    }
   },
   "outputs": [],
   "source": [
    "# initialize the transformer with the desired options\n",
    "binner = KBinsDiscretizer(n_bins=10, encode='ordinal', strategy='uniform')\n",
    "\n",
    "# fit transformer to data\n",
    "binner.fit(avengers[['Appearances']])\n",
    "\n",
    "# create a new feature by transforming the data\n",
    "avengers['Appearances_bins'] = binner.transform(avengers[['Appearances']])"
   ]
  },
  {
   "cell_type": "markdown",
   "metadata": {},
   "source": [
    "The histogram will look the same as above, but the feature values will range from 0 to 9."
   ]
  },
  {
   "cell_type": "code",
   "execution_count": 18,
   "metadata": {
    "execution": {
     "iopub.execute_input": "2024-09-14T21:40:05.367201Z",
     "iopub.status.busy": "2024-09-14T21:40:05.367141Z",
     "iopub.status.idle": "2024-09-14T21:40:05.411493Z",
     "shell.execute_reply": "2024-09-14T21:40:05.411292Z",
     "shell.execute_reply.started": "2024-09-14T21:40:05.367195Z"
    }
   },
   "outputs": [
    {
     "data": {
      "image/png": "[encoded data removed]",
      "text/plain": [
       "<Figure size 560x420 with 1 Axes>"
      ]
     },
     "metadata": {},
     "output_type": "display_data"
    }
   ],
   "source": [
    "avengers['Appearances_bins'].plot.hist();\n",
    "plt.xlim(0);\n",
    "plt.xlabel('Number of appearances');\n",
    "plt.title('Number of appearances after discretization');"
   ]
  },
  {
   "cell_type": "markdown",
   "metadata": {},
   "source": [
    "If you want to know the values for the edges of each bin, call:"
   ]
  },
  {
   "cell_type": "code",
   "execution_count": 19,
   "metadata": {
    "execution": {
     "iopub.execute_input": "2024-09-14T21:40:05.411931Z",
     "iopub.status.busy": "2024-09-14T21:40:05.411861Z",
     "iopub.status.idle": "2024-09-14T21:40:05.413837Z",
     "shell.execute_reply": "2024-09-14T21:40:05.413662Z",
     "shell.execute_reply.started": "2024-09-14T21:40:05.411923Z"
    }
   },
   "outputs": [
    {
     "data": {
      "text/plain": [
       "array([array([2.0000e+00, 4.3510e+02, 8.6820e+02, 1.3013e+03, 1.7344e+03,\n",
       "              2.1675e+03, 2.6006e+03, 3.0337e+03, 3.4668e+03, 3.8999e+03,\n",
       "              4.3330e+03])                                               ],\n",
       "      dtype=object)"
      ]
     },
     "execution_count": 19,
     "metadata": {},
     "output_type": "execute_result"
    }
   ],
   "source": [
    "binner.bin_edges_"
   ]
  },
  {
   "cell_type": "markdown",
   "metadata": {},
   "source": [
    "You can play with the options of the transformer to obtain different results. Here we choose the `quantile` strategy so that all bins have the same number of data points."
   ]
  },
  {
   "cell_type": "code",
   "execution_count": 20,
   "metadata": {
    "execution": {
     "iopub.execute_input": "2024-09-14T21:40:05.414178Z",
     "iopub.status.busy": "2024-09-14T21:40:05.414108Z",
     "iopub.status.idle": "2024-09-14T21:40:05.417241Z",
     "shell.execute_reply": "2024-09-14T21:40:05.417067Z",
     "shell.execute_reply.started": "2024-09-14T21:40:05.414171Z"
    }
   },
   "outputs": [],
   "source": [
    "# initialize the transformer with the desired options\n",
    "binner = KBinsDiscretizer(n_bins=5, encode='ordinal', strategy='quantile')\n",
    "\n",
    "# fit transformer to data\n",
    "binner.fit(avengers[['Appearances']])\n",
    "\n",
    "# create new feature by transforming the data\n",
    "avengers['Appearances_bins_quartiles'] = binner.transform(avengers[['Appearances']])"
   ]
  },
  {
   "cell_type": "code",
   "execution_count": 21,
   "metadata": {
    "execution": {
     "iopub.execute_input": "2024-09-14T21:40:05.419565Z",
     "iopub.status.busy": "2024-09-14T21:40:05.419483Z",
     "iopub.status.idle": "2024-09-14T21:40:05.471617Z",
     "shell.execute_reply": "2024-09-14T21:40:05.471210Z",
     "shell.execute_reply.started": "2024-09-14T21:40:05.419558Z"
    }
   },
   "outputs": [
    {
     "data": {
      "image/png": "[encoded data removed]",
      "text/plain": [
       "<Figure size 560x420 with 1 Axes>"
      ]
     },
     "metadata": {},
     "output_type": "display_data"
    }
   ],
   "source": [
    "# plot histogram\n",
    "avengers['Appearances_bins_quartiles'].plot.hist();\n",
    "plt.xlim(0,4);\n",
    "plt.xlabel('Number of appearances');\n",
    "plt.title('Number of appearances after discretization');"
   ]
  },
  {
   "cell_type": "markdown",
   "metadata": {},
   "source": [
    "#### 2.2.2 Binarization\n",
    "\n",
    "Binarization is binning with 2 bins. Say you want all the Avengers with up to 1000 appearances to be in bin 0 and all the Avengers with more than 1000 appearances to be in bin 1. For that, you can use the [`Binarizer` transformer](https://scikit-learn.org/stable/modules/generated/sklearn.preprocessing.Binarizer.html#sklearn.preprocessing.Binarizer) and set the `threshold` to 1000:"
   ]
  },
  {
   "cell_type": "code",
   "execution_count": 22,
   "metadata": {
    "execution": {
     "iopub.execute_input": "2024-09-14T21:40:05.472226Z",
     "iopub.status.busy": "2024-09-14T21:40:05.472121Z",
     "iopub.status.idle": "2024-09-14T21:40:05.475536Z",
     "shell.execute_reply": "2024-09-14T21:40:05.475278Z",
     "shell.execute_reply.started": "2024-09-14T21:40:05.472216Z"
    }
   },
   "outputs": [],
   "source": [
    "# initialize the transformer with the desired options\n",
    "binarizer = Binarizer(threshold = 1000)\n",
    "\n",
    "# fit transformer to data\n",
    "binarizer.fit(avengers[['Appearances']])\n",
    "\n",
    "# create new feature by transforming the data\n",
    "avengers['Appearances_binary'] = binarizer.transform(avengers[['Appearances']])"
   ]
  },
  {
   "cell_type": "code",
   "execution_count": 23,
   "metadata": {
    "execution": {
     "iopub.execute_input": "2024-09-14T21:40:05.476076Z",
     "iopub.status.busy": "2024-09-14T21:40:05.476000Z",
     "iopub.status.idle": "2024-09-14T21:40:05.527705Z",
     "shell.execute_reply": "2024-09-14T21:40:05.527487Z",
     "shell.execute_reply.started": "2024-09-14T21:40:05.476069Z"
    }
   },
   "outputs": [
    {
     "data": {
      "image/png": "[encoded data removed]",
      "text/plain": [
       "<Figure size 560x420 with 1 Axes>"
      ]
     },
     "metadata": {},
     "output_type": "display_data"
    }
   ],
   "source": [
    "# plot histogram\n",
    "avengers['Appearances_binary'].plot.hist();\n",
    "plt.xlim(0,1);\n",
    "plt.xlabel('Number of appearances');\n",
    "plt.title('Number of appearances after binarization');"
   ]
  },
  {
   "cell_type": "markdown",
   "metadata": {},
   "source": [
    "### 2.3 Scaling of numerical data\n",
    "\n",
    "Often, the numeric variables in the dataset have very different scales, that is, take on different ranges of values.\n",
    "\n",
    "It's usually a good practice to **scale** them during the preprocessing of our data. These transformations change the data itself, but not the distribution. Why is it important to scale the data?\n",
    "* When the features have different ranges, some features can dominate the algorithm (e.g. think [Euclidean distance](https://en.wikipedia.org/wiki/Euclidean_distance));\n",
    "* Different scales can make the models unable to learn correctly from the features with smaller values;\n",
    "* You don't want your feature to rely on the scale of the measurement because its choice is rather arbitrary;\n",
    "* Optimization methods (e.g. gradient descent) will converge faster, and otherwise may not converge at all.\n",
    "\n",
    "A notable exception are *decision tree-based* models that are robust to arbitrary scaling of the data.\n",
    "\n",
    "Here, we present four examples of scaling transformers.\n",
    "\n",
    "#### 2.3.1 [MinMaxScaler](https://scikit-learn.org/stable/modules/generated/sklearn.preprocessing.MinMaxScaler.html#sklearn.preprocessing.MinMaxScaler)\n",
    "\n",
    "This transforms all variables so that the minimum and the maximum of the transformed data take certain values $[a,b]$, say, [0, 1]. The general formula to scale $x_i$ from a range $[x_{\\min}, x_{\\max}] \\to [a,b]$ is:\n",
    "\n",
    "$$ x_i' = \\frac{x_i - x_{\\min}}{x_{\\max} - x_{\\min}} \\cdot (b-a) + a $$\n",
    "\n",
    "This scaling preserves zero entries in sparse data. It is also robust to very small standard deviations of features (standard deviation plays a role in the standard scaler explained below)."
   ]
  },
  {
   "cell_type": "code",
   "execution_count": 24,
   "metadata": {
    "execution": {
     "iopub.execute_input": "2024-09-14T21:40:05.528272Z",
     "iopub.status.busy": "2024-09-14T21:40:05.528184Z",
     "iopub.status.idle": "2024-09-14T21:40:05.531057Z",
     "shell.execute_reply": "2024-09-14T21:40:05.530858Z",
     "shell.execute_reply.started": "2024-09-14T21:40:05.528262Z"
    }
   },
   "outputs": [],
   "source": [
    "# initialize the transformer with the desired options\n",
    "minmaxscaler = MinMaxScaler(feature_range=(0,1))\n",
    "\n",
    "# fit transformer to data\n",
    "minmaxscaler.fit(avengers[['Appearances']])\n",
    "\n",
    "# create new feature by transforming the data\n",
    "avengers['Appearances_minmax'] = minmaxscaler.transform(avengers[['Appearances']])"
   ]
  },
  {
   "cell_type": "code",
   "execution_count": 25,
   "metadata": {
    "execution": {
     "iopub.execute_input": "2024-09-14T21:40:05.531433Z",
     "iopub.status.busy": "2024-09-14T21:40:05.531365Z",
     "iopub.status.idle": "2024-09-14T21:40:05.577067Z",
     "shell.execute_reply": "2024-09-14T21:40:05.576859Z",
     "shell.execute_reply.started": "2024-09-14T21:40:05.531425Z"
    }
   },
   "outputs": [
    {
     "data": {
      "image/png": "[encoded data removed]",
      "text/plain": [
       "<Figure size 560x420 with 1 Axes>"
      ]
     },
     "metadata": {},
     "output_type": "display_data"
    }
   ],
   "source": [
    "# plot histogram\n",
    "avengers['Appearances_minmax'].plot.hist();\n",
    "plt.xlim(0, 1);\n",
    "plt.xlabel('Number of appearances');\n",
    "plt.title('Number of appearances after min-max scaling');"
   ]
  },
  {
   "cell_type": "markdown",
   "metadata": {},
   "source": [
    "#### 2.3.1 [Normalizer](https://scikit-learn.org/stable/modules/generated/sklearn.preprocessing.Normalizer.html)\n",
    "\n",
    "This normalizes each ***row*** of the dataset *individually* to unit norm, independently of the other rows. You can choose between $\\ell_2$ (Euclidean distance - default), $\\ell_1$ (absolute value of the vector) and $\\max$ norms. It is used in models based on distances between features as in clustering or text processing.\n",
    "\n",
    "The normalizer only makes sense if it is applied to several columns, otherwise you can't compute distances. We're going to use three variables with an initial distribution as below."
   ]
  },
  {
   "cell_type": "code",
   "execution_count": 26,
   "metadata": {
    "execution": {
     "iopub.execute_input": "2024-09-14T21:40:05.577496Z",
     "iopub.status.busy": "2024-09-14T21:40:05.577412Z",
     "iopub.status.idle": "2024-09-14T21:40:05.640350Z",
     "shell.execute_reply": "2024-09-14T21:40:05.640139Z",
     "shell.execute_reply.started": "2024-09-14T21:40:05.577487Z"
    }
   },
   "outputs": [
    {
     "data": {
      "image/png": "[encoded data removed]",
      "text/plain": [
       "<Figure size 560x420 with 1 Axes>"
      ]
     },
     "metadata": {},
     "output_type": "display_data"
    }
   ],
   "source": [
    "# plot histogram before normalization\n",
    "# we are using a stacked histogram so that you see all the features\n",
    "avengers[['Appearances','TotalDeaths','TotalReturns']].plot.hist(stacked=True);\n",
    "plt.xlabel('Number of occurences');\n",
    "plt.title('Before normalization');"
   ]
  },
  {
   "cell_type": "code",
   "execution_count": 27,
   "metadata": {
    "execution": {
     "iopub.execute_input": "2024-09-14T21:40:05.640868Z",
     "iopub.status.busy": "2024-09-14T21:40:05.640795Z",
     "iopub.status.idle": "2024-09-14T21:40:05.644285Z",
     "shell.execute_reply": "2024-09-14T21:40:05.644092Z",
     "shell.execute_reply.started": "2024-09-14T21:40:05.640859Z"
    }
   },
   "outputs": [],
   "source": [
    "# initialize the transformer with the desired options\n",
    "normalizer = Normalizer(norm='l2')\n",
    "\n",
    "# fit transformer to data\n",
    "normalizer.fit(avengers[['Appearances', 'TotalDeaths', 'TotalReturns']])\n",
    "\n",
    "# create new features by transforming the data\n",
    "X_normalized = normalizer.transform(avengers[['Appearances', 'TotalDeaths', 'TotalReturns']])  # recall that output is a numpy array\n",
    "avengers['Appearances_normalized'] = X_normalized[:, 0]\n",
    "avengers['TotalDeaths_normalized'] = X_normalized[:, 1]\n",
    "avengers['TotalReturns_normalized'] = X_normalized[:, 2]"
   ]
  },
  {
   "cell_type": "code",
   "execution_count": 28,
   "metadata": {
    "execution": {
     "iopub.execute_input": "2024-09-14T21:40:05.644708Z",
     "iopub.status.busy": "2024-09-14T21:40:05.644634Z",
     "iopub.status.idle": "2024-09-14T21:40:05.707517Z",
     "shell.execute_reply": "2024-09-14T21:40:05.707297Z",
     "shell.execute_reply.started": "2024-09-14T21:40:05.644699Z"
    }
   },
   "outputs": [
    {
     "data": {
      "image/png": "[encoded data removed]",
      "text/plain": [
       "<Figure size 560x420 with 1 Axes>"
      ]
     },
     "metadata": {},
     "output_type": "display_data"
    }
   ],
   "source": [
    "# plot histogram of normalized variables\n",
    "# we are using a stacked histogram so that you see all the features\n",
    "avengers[['Appearances_normalized','TotalDeaths_normalized','TotalReturns_normalized']].plot.hist(stacked=True);\n",
    "plt.xlabel('Number of occurences');\n",
    "plt.title('After normalization');"
   ]
  },
  {
   "cell_type": "markdown",
   "metadata": {},
   "source": [
    "#### 2.3.2 [StandardScaler](https://scikit-learn.org/stable/modules/generated/sklearn.preprocessing.StandardScaler.html#sklearn.preprocessing.StandardScaler)\n",
    "\n",
    "Standardization means both centering the data around 0 (by removing the mean) and scaling it to unit variance:\n",
    "\n",
    "$$ z_i =  \\frac{x_i - \\mu}{\\sigma}$$\n",
    "\n",
    "Most machine learning models need standardization of features. You have already seen in SLU07 and SLU09 that it is important in gradient descent based models so that they converge properly."
   ]
  },
  {
   "cell_type": "code",
   "execution_count": 29,
   "metadata": {
    "execution": {
     "iopub.execute_input": "2024-09-14T21:40:05.707975Z",
     "iopub.status.busy": "2024-09-14T21:40:05.707900Z",
     "iopub.status.idle": "2024-09-14T21:40:05.710689Z",
     "shell.execute_reply": "2024-09-14T21:40:05.710494Z",
     "shell.execute_reply.started": "2024-09-14T21:40:05.707966Z"
    },
    "scrolled": true
   },
   "outputs": [],
   "source": [
    "# initialize the transformer with the desired options\n",
    "standardscaler = StandardScaler()\n",
    "\n",
    "# fit transformer to data\n",
    "standardscaler.fit(avengers[['Appearances']])\n",
    "\n",
    "# create new feature by transforming the data\n",
    "avengers['Appearances_standard_scaled'] = standardscaler.transform(avengers[['Appearances']])"
   ]
  },
  {
   "cell_type": "code",
   "execution_count": 30,
   "metadata": {
    "execution": {
     "iopub.execute_input": "2024-09-14T21:40:05.711052Z",
     "iopub.status.busy": "2024-09-14T21:40:05.710983Z",
     "iopub.status.idle": "2024-09-14T21:40:05.755525Z",
     "shell.execute_reply": "2024-09-14T21:40:05.755323Z",
     "shell.execute_reply.started": "2024-09-14T21:40:05.711044Z"
    }
   },
   "outputs": [
    {
     "data": {
      "image/png": "[encoded data removed]",
      "text/plain": [
       "<Figure size 560x420 with 1 Axes>"
      ]
     },
     "metadata": {},
     "output_type": "display_data"
    }
   ],
   "source": [
    "# plot histogram\n",
    "avengers['Appearances_standard_scaled'].plot.hist();\n",
    "plt.xlabel('Number of appearances');\n",
    "\n",
    "plt.title('Number of appearances after standard scaling');"
   ]
  },
  {
   "cell_type": "markdown",
   "metadata": {},
   "source": [
    "Note that there are also negative values now."
   ]
  },
  {
   "cell_type": "markdown",
   "metadata": {},
   "source": [
    "#### 2.3.3 [RobustScaler](https://scikit-learn.org/stable/modules/generated/sklearn.preprocessing.RobustScaler.html#sklearn.preprocessing.RobustScaler)\n",
    "\n",
    "Scalers differ from each other in the way they estimate the parameters used to shift and scale each feature. In the presence of very large ***outliers***, using the scalers presented above leads to the compression of inliers. Since outliers have an influence on the minimum, maximum, mean and standard deviation, these scalers will shrink the range of the feature values.\n",
    "\n",
    "The alternative is to scale the features in a way that is robust to outliers. `The RobustScaler` is an alternative to `StandardScaler` using the *median* and the *Interquartile Range* (remember SLU04?) instead of the mean and the standard deviation."
   ]
  },
  {
   "cell_type": "code",
   "execution_count": 31,
   "metadata": {
    "execution": {
     "iopub.execute_input": "2024-09-14T21:40:05.755970Z",
     "iopub.status.busy": "2024-09-14T21:40:05.755891Z",
     "iopub.status.idle": "2024-09-14T21:40:05.759104Z",
     "shell.execute_reply": "2024-09-14T21:40:05.758889Z",
     "shell.execute_reply.started": "2024-09-14T21:40:05.755961Z"
    }
   },
   "outputs": [],
   "source": [
    "# initialize the transformer with the desired options\n",
    "robustscaler = RobustScaler()\n",
    "\n",
    "# fit transformer to data\n",
    "robustscaler.fit(avengers[['Appearances']])\n",
    "\n",
    "# create new feature by transforming the data\n",
    "avengers['Appearances_robust_scaled'] = robustscaler.transform(avengers[['Appearances']])"
   ]
  },
  {
   "cell_type": "code",
   "execution_count": 32,
   "metadata": {
    "execution": {
     "iopub.execute_input": "2024-09-14T21:40:05.759506Z",
     "iopub.status.busy": "2024-09-14T21:40:05.759440Z",
     "iopub.status.idle": "2024-09-14T21:40:05.802182Z",
     "shell.execute_reply": "2024-09-14T21:40:05.801989Z",
     "shell.execute_reply.started": "2024-09-14T21:40:05.759499Z"
    }
   },
   "outputs": [
    {
     "data": {
      "image/png": "[encoded data removed]",
      "text/plain": [
       "<Figure size 560x420 with 1 Axes>"
      ]
     },
     "metadata": {},
     "output_type": "display_data"
    }
   ],
   "source": [
    "# plot histogram\n",
    "avengers['Appearances_robust_scaled'].plot.hist();\n",
    "plt.xlabel('Number of appearances');\n",
    "plt.title('Number of appearances after robust scaling');"
   ]
  },
  {
   "cell_type": "markdown",
   "metadata": {},
   "source": [
    "## 3. Dealing with categorical data\n",
    "A limitation of categorical data is that it usually comes in the form of strings that ML models, in general, don't know how to deal with. We can work around this limitation by encoding categorical variables either as numbers or as dummy variables. Both options have their pros and cons.\n",
    "\n",
    "The encoding is done with transformers for categorical features. Even though `sklearn` contains such transformers, there is a much better library which you should use instead, [`category_encoders`](http://contrib.scikit-learn.org/category_encoders/). Category encoders take any array-like data, no need to transform it to a dataframe."
   ]
  },
  {
   "cell_type": "code",
   "execution_count": 33,
   "metadata": {
    "execution": {
     "iopub.execute_input": "2024-09-14T21:40:05.802575Z",
     "iopub.status.busy": "2024-09-14T21:40:05.802495Z",
     "iopub.status.idle": "2024-09-14T21:40:06.201991Z",
     "shell.execute_reply": "2024-09-14T21:40:06.201377Z",
     "shell.execute_reply.started": "2024-09-14T21:40:05.802566Z"
    }
   },
   "outputs": [],
   "source": [
    "import category_encoders as ce"
   ]
  },
  {
   "cell_type": "markdown",
   "metadata": {},
   "source": [
    "### 3.1 Binary data\n",
    "\n",
    "A binary variable is a variable with only two possible values, like `Active` and `Gender` in our `avengers` dataset.\n",
    "\n",
    "Since our models can't deal with data in the form of strings, we need to transform such variables to a numerical form.\n",
    "\n",
    "The method `Series.map`, mapping inputs to outputs, can be used for simple encodings. Let's use it to convert both columns to 0s and 1s."
   ]
  },
  {
   "cell_type": "code",
   "execution_count": 34,
   "metadata": {
    "execution": {
     "iopub.execute_input": "2024-09-14T21:40:06.203157Z",
     "iopub.status.busy": "2024-09-14T21:40:06.202772Z",
     "iopub.status.idle": "2024-09-14T21:40:06.212951Z",
     "shell.execute_reply": "2024-09-14T21:40:06.212583Z",
     "shell.execute_reply.started": "2024-09-14T21:40:06.203138Z"
    }
   },
   "outputs": [
    {
     "data": {
      "text/html": [
       "<div>\n",
       "<style scoped>\n",
       "    .dataframe tbody tr th:only-of-type {\n",
       "        vertical-align: middle;\n",
       "    }\n",
       "\n",
       "    .dataframe tbody tr th {\n",
       "        vertical-align: top;\n",
       "    }\n",
       "\n",
       "    .dataframe thead th {\n",
       "        text-align: right;\n",
       "    }\n",
       "</style>\n",
       "<table border=\"1\" class=\"dataframe\">\n",
       "  <thead>\n",
       "    <tr style=\"text-align: right;\">\n",
       "      <th></th>\n",
       "      <th>Active_mapped</th>\n",
       "      <th>Gender_mapped</th>\n",
       "    </tr>\n",
       "  </thead>\n",
       "  <tbody>\n",
       "    <tr>\n",
       "      <th>49</th>\n",
       "      <td>0</td>\n",
       "      <td>1</td>\n",
       "    </tr>\n",
       "    <tr>\n",
       "      <th>56</th>\n",
       "      <td>0</td>\n",
       "      <td>1</td>\n",
       "    </tr>\n",
       "    <tr>\n",
       "      <th>37</th>\n",
       "      <td>0</td>\n",
       "      <td>0</td>\n",
       "    </tr>\n",
       "    <tr>\n",
       "      <th>47</th>\n",
       "      <td>0</td>\n",
       "      <td>1</td>\n",
       "    </tr>\n",
       "    <tr>\n",
       "      <th>5</th>\n",
       "      <td>1</td>\n",
       "      <td>1</td>\n",
       "    </tr>\n",
       "  </tbody>\n",
       "</table>\n",
       "</div>"
      ],
      "text/plain": [
       "    Active_mapped  Gender_mapped\n",
       "49              0              1\n",
       "56              0              1\n",
       "37              0              0\n",
       "47              0              1\n",
       "5               1              1"
      ]
     },
     "execution_count": 34,
     "metadata": {},
     "output_type": "execute_result"
    }
   ],
   "source": [
    "avengers = pd.read_csv('data/avengers.csv')\n",
    "\n",
    "avengers['Active_mapped'] = avengers['Active'].map({'YES': 1, 'NO': 0})\n",
    "avengers['Gender_mapped'] = avengers['Gender'].map({'MALE': 1, 'FEMALE': 0})\n",
    "avengers[['Active_mapped','Gender_mapped']].sample(5)"
   ]
  },
  {
   "cell_type": "markdown",
   "metadata": {},
   "source": [
    "### 3.2 Ordinal encoding\n",
    "\n",
    "The [`OrdinalEncoder` transformer](http://contrib.scikit-learn.org/category_encoders/ordinal.html) encodes categorical features as integers. It is similar to the `map` method we used above. It uses a sequence of consecutive integers to represent the classes. The class assignment is random. If our variable has an intrinsic order, we can define a mapping in the form of a dictionary to preserve the order.\n",
    "\n",
    "For example, the `Universe` field has 7 possible values without an intrinsic order."
   ]
  },
  {
   "cell_type": "code",
   "execution_count": 35,
   "metadata": {
    "execution": {
     "iopub.execute_input": "2024-09-14T21:40:06.213717Z",
     "iopub.status.busy": "2024-09-14T21:40:06.213576Z",
     "iopub.status.idle": "2024-09-14T21:40:06.220192Z",
     "shell.execute_reply": "2024-09-14T21:40:06.219903Z",
     "shell.execute_reply.started": "2024-09-14T21:40:06.213706Z"
    }
   },
   "outputs": [
    {
     "data": {
      "text/html": [
       "<div>\n",
       "<style scoped>\n",
       "    .dataframe tbody tr th:only-of-type {\n",
       "        vertical-align: middle;\n",
       "    }\n",
       "\n",
       "    .dataframe tbody tr th {\n",
       "        vertical-align: top;\n",
       "    }\n",
       "\n",
       "    .dataframe thead th {\n",
       "        text-align: right;\n",
       "    }\n",
       "</style>\n",
       "<table border=\"1\" class=\"dataframe\">\n",
       "  <thead>\n",
       "    <tr style=\"text-align: right;\">\n",
       "      <th></th>\n",
       "      <th>Name</th>\n",
       "      <th>Active</th>\n",
       "      <th>Gender</th>\n",
       "      <th>Membership</th>\n",
       "      <th>Universe</th>\n",
       "      <th>Appearances</th>\n",
       "      <th>TotalDeaths</th>\n",
       "      <th>TotalReturns</th>\n",
       "      <th>Active_mapped</th>\n",
       "      <th>Gender_mapped</th>\n",
       "    </tr>\n",
       "  </thead>\n",
       "  <tbody>\n",
       "    <tr>\n",
       "      <th>73</th>\n",
       "      <td>Phillip Javert</td>\n",
       "      <td>NO</td>\n",
       "      <td>MALE</td>\n",
       "      <td>Honorary</td>\n",
       "      <td>Earth-921</td>\n",
       "      <td>31</td>\n",
       "      <td>0</td>\n",
       "      <td>0</td>\n",
       "      <td>0</td>\n",
       "      <td>1</td>\n",
       "    </tr>\n",
       "    <tr>\n",
       "      <th>51</th>\n",
       "      <td>Ravonna Lexus Renslayer</td>\n",
       "      <td>NO</td>\n",
       "      <td>FEMALE</td>\n",
       "      <td>Full</td>\n",
       "      <td>Earth-6311</td>\n",
       "      <td>41</td>\n",
       "      <td>2</td>\n",
       "      <td>1</td>\n",
       "      <td>0</td>\n",
       "      <td>0</td>\n",
       "    </tr>\n",
       "    <tr>\n",
       "      <th>89</th>\n",
       "      <td>Cassie Lang</td>\n",
       "      <td>NO</td>\n",
       "      <td>FEMALE</td>\n",
       "      <td>Full</td>\n",
       "      <td>Earth-616</td>\n",
       "      <td>160</td>\n",
       "      <td>1</td>\n",
       "      <td>1</td>\n",
       "      <td>0</td>\n",
       "      <td>0</td>\n",
       "    </tr>\n",
       "    <tr>\n",
       "      <th>122</th>\n",
       "      <td>Anya Corazon</td>\n",
       "      <td>YES</td>\n",
       "      <td>FEMALE</td>\n",
       "      <td>Academy</td>\n",
       "      <td>Earth-616</td>\n",
       "      <td>108</td>\n",
       "      <td>0</td>\n",
       "      <td>0</td>\n",
       "      <td>1</td>\n",
       "      <td>0</td>\n",
       "    </tr>\n",
       "    <tr>\n",
       "      <th>26</th>\n",
       "      <td>Stakar</td>\n",
       "      <td>NO</td>\n",
       "      <td>MALE</td>\n",
       "      <td>Honorary</td>\n",
       "      <td>Earth-691</td>\n",
       "      <td>100</td>\n",
       "      <td>0</td>\n",
       "      <td>0</td>\n",
       "      <td>0</td>\n",
       "      <td>1</td>\n",
       "    </tr>\n",
       "  </tbody>\n",
       "</table>\n",
       "</div>"
      ],
      "text/plain": [
       "                        Name Active  Gender Membership    Universe  \\\n",
       "73            Phillip Javert     NO    MALE   Honorary   Earth-921   \n",
       "51   Ravonna Lexus Renslayer     NO  FEMALE       Full  Earth-6311   \n",
       "89               Cassie Lang     NO  FEMALE       Full   Earth-616   \n",
       "122             Anya Corazon    YES  FEMALE    Academy   Earth-616   \n",
       "26                    Stakar     NO    MALE   Honorary   Earth-691   \n",
       "\n",
       "     Appearances  TotalDeaths  TotalReturns  Active_mapped  Gender_mapped  \n",
       "73            31            0             0              0              1  \n",
       "51            41            2             1              0              0  \n",
       "89           160            1             1              0              0  \n",
       "122          108            0             0              1              0  \n",
       "26           100            0             0              0              1  "
      ]
     },
     "execution_count": 35,
     "metadata": {},
     "output_type": "execute_result"
    }
   ],
   "source": [
    "avengers.sample(5, random_state=9)"
   ]
  },
  {
   "cell_type": "code",
   "execution_count": 36,
   "metadata": {
    "execution": {
     "iopub.execute_input": "2024-09-14T21:40:06.220790Z",
     "iopub.status.busy": "2024-09-14T21:40:06.220695Z",
     "iopub.status.idle": "2024-09-14T21:40:06.223272Z",
     "shell.execute_reply": "2024-09-14T21:40:06.222987Z",
     "shell.execute_reply.started": "2024-09-14T21:40:06.220780Z"
    }
   },
   "outputs": [
    {
     "data": {
      "text/plain": [
       "array(['Earth-616', 'Earth-691', 'Earth-6311', 'Earth-921', 'Earth-96020',\n",
       "       'Earth-8009', 'Earth-13034'], dtype=object)"
      ]
     },
     "execution_count": 36,
     "metadata": {},
     "output_type": "execute_result"
    }
   ],
   "source": [
    "avengers['Universe'].unique()"
   ]
  },
  {
   "cell_type": "markdown",
   "metadata": {},
   "source": [
    "We encode with the `OrdinalEncoder` with default settings."
   ]
  },
  {
   "cell_type": "code",
   "execution_count": 37,
   "metadata": {
    "execution": {
     "iopub.execute_input": "2024-09-14T21:40:06.223925Z",
     "iopub.status.busy": "2024-09-14T21:40:06.223829Z",
     "iopub.status.idle": "2024-09-14T21:40:06.230357Z",
     "shell.execute_reply": "2024-09-14T21:40:06.230100Z",
     "shell.execute_reply.started": "2024-09-14T21:40:06.223915Z"
    }
   },
   "outputs": [
    {
     "data": {
      "text/html": [
       "<div>\n",
       "<style scoped>\n",
       "    .dataframe tbody tr th:only-of-type {\n",
       "        vertical-align: middle;\n",
       "    }\n",
       "\n",
       "    .dataframe tbody tr th {\n",
       "        vertical-align: top;\n",
       "    }\n",
       "\n",
       "    .dataframe thead th {\n",
       "        text-align: right;\n",
       "    }\n",
       "</style>\n",
       "<table border=\"1\" class=\"dataframe\">\n",
       "  <thead>\n",
       "    <tr style=\"text-align: right;\">\n",
       "      <th></th>\n",
       "      <th>Universe</th>\n",
       "    </tr>\n",
       "  </thead>\n",
       "  <tbody>\n",
       "    <tr>\n",
       "      <th>73</th>\n",
       "      <td>4</td>\n",
       "    </tr>\n",
       "    <tr>\n",
       "      <th>51</th>\n",
       "      <td>3</td>\n",
       "    </tr>\n",
       "    <tr>\n",
       "      <th>89</th>\n",
       "      <td>1</td>\n",
       "    </tr>\n",
       "    <tr>\n",
       "      <th>122</th>\n",
       "      <td>1</td>\n",
       "    </tr>\n",
       "    <tr>\n",
       "      <th>26</th>\n",
       "      <td>2</td>\n",
       "    </tr>\n",
       "  </tbody>\n",
       "</table>\n",
       "</div>"
      ],
      "text/plain": [
       "     Universe\n",
       "73          4\n",
       "51          3\n",
       "89          1\n",
       "122         1\n",
       "26          2"
      ]
     },
     "execution_count": 37,
     "metadata": {},
     "output_type": "execute_result"
    }
   ],
   "source": [
    "# initialize the transformer with the desired options\n",
    "ordinalencoder = ce.ordinal.OrdinalEncoder()\n",
    "\n",
    "# fit transformer to data\n",
    "ordinalencoder.fit(avengers['Universe'])\n",
    "\n",
    "# create new feature by transforming the data\n",
    "X_encoded = ordinalencoder.transform(avengers['Universe'])\n",
    "X_encoded.sample(5, random_state=9)"
   ]
  },
  {
   "cell_type": "markdown",
   "metadata": {},
   "source": [
    "This is the mapping of the categories to the integer values:"
   ]
  },
  {
   "cell_type": "code",
   "execution_count": 38,
   "metadata": {
    "execution": {
     "iopub.execute_input": "2024-09-14T21:40:06.230854Z",
     "iopub.status.busy": "2024-09-14T21:40:06.230757Z",
     "iopub.status.idle": "2024-09-14T21:40:06.233574Z",
     "shell.execute_reply": "2024-09-14T21:40:06.233327Z",
     "shell.execute_reply.started": "2024-09-14T21:40:06.230843Z"
    }
   },
   "outputs": [
    {
     "data": {
      "text/plain": [
       "[{'col': 'Universe',\n",
       "  'mapping': Earth-616      1\n",
       "  Earth-691      2\n",
       "  Earth-6311     3\n",
       "  Earth-921      4\n",
       "  Earth-96020    5\n",
       "  Earth-8009     6\n",
       "  Earth-13034    7\n",
       "  NaN           -2\n",
       "  dtype: int64,\n",
       "  'data_type': dtype('O')}]"
      ]
     },
     "execution_count": 38,
     "metadata": {},
     "output_type": "execute_result"
    }
   ],
   "source": [
    "ordinalencoder.category_mapping"
   ]
  },
  {
   "cell_type": "markdown",
   "metadata": {},
   "source": [
    "We fitted the encoder to data with seven categories. What happens if we try to transform data with an **unseen category**, say `Earth-123` or `Earth-999`?"
   ]
  },
  {
   "cell_type": "code",
   "execution_count": 39,
   "metadata": {
    "execution": {
     "iopub.execute_input": "2024-09-14T21:40:06.234130Z",
     "iopub.status.busy": "2024-09-14T21:40:06.234041Z",
     "iopub.status.idle": "2024-09-14T21:40:06.238079Z",
     "shell.execute_reply": "2024-09-14T21:40:06.237802Z",
     "shell.execute_reply.started": "2024-09-14T21:40:06.234121Z"
    }
   },
   "outputs": [
    {
     "data": {
      "text/html": [
       "<div>\n",
       "<style scoped>\n",
       "    .dataframe tbody tr th:only-of-type {\n",
       "        vertical-align: middle;\n",
       "    }\n",
       "\n",
       "    .dataframe tbody tr th {\n",
       "        vertical-align: top;\n",
       "    }\n",
       "\n",
       "    .dataframe thead th {\n",
       "        text-align: right;\n",
       "    }\n",
       "</style>\n",
       "<table border=\"1\" class=\"dataframe\">\n",
       "  <thead>\n",
       "    <tr style=\"text-align: right;\">\n",
       "      <th></th>\n",
       "      <th>Universe</th>\n",
       "    </tr>\n",
       "  </thead>\n",
       "  <tbody>\n",
       "    <tr>\n",
       "      <th>0</th>\n",
       "      <td>3.0</td>\n",
       "    </tr>\n",
       "    <tr>\n",
       "      <th>1</th>\n",
       "      <td>-1.0</td>\n",
       "    </tr>\n",
       "    <tr>\n",
       "      <th>2</th>\n",
       "      <td>-1.0</td>\n",
       "    </tr>\n",
       "  </tbody>\n",
       "</table>\n",
       "</div>"
      ],
      "text/plain": [
       "   Universe\n",
       "0       3.0\n",
       "1      -1.0\n",
       "2      -1.0"
      ]
     },
     "execution_count": 39,
     "metadata": {},
     "output_type": "execute_result"
    }
   ],
   "source": [
    "ordinalencoder.transform(pd.DataFrame({'Universe': ['Earth-6311', 'Earth-123', 'Earth-999']}))"
   ]
  },
  {
   "cell_type": "markdown",
   "metadata": {},
   "source": [
    "The encoder automatically imputed the value `-1`. This is because, by default, the option `handle_unknown` is set to `value`. The transformers in the `category_encoders` library take care of unseen categories by themselves! You can also choose to set unseen categories to null values or ask the encoder to return an error."
   ]
  },
  {
   "cell_type": "markdown",
   "metadata": {},
   "source": [
    "### 3.3 One-hot encoding\n",
    "\n",
    "Ordinal encoding creates one new feature with integer values for each categorical feature. Even though the values of the integers generally have no meaning, a Machine Learning algorithm might think otherwise and decide that, for example, a category whose encoding is `8` is more important than one with `2`!\n",
    "\n",
    "To avoid this, we can use one-hot encoding, which, for each categorical feature, creates one new feature for *each category*. This can be implemented with the [`OneHotEncoder` transformer](http://contrib.scikit-learn.org/category_encoders/onehot.html)."
   ]
  },
  {
   "cell_type": "code",
   "execution_count": 40,
   "metadata": {
    "execution": {
     "iopub.execute_input": "2024-09-14T21:40:06.238632Z",
     "iopub.status.busy": "2024-09-14T21:40:06.238537Z",
     "iopub.status.idle": "2024-09-14T21:40:06.290870Z",
     "shell.execute_reply": "2024-09-14T21:40:06.290630Z",
     "shell.execute_reply.started": "2024-09-14T21:40:06.238622Z"
    }
   },
   "outputs": [
    {
     "data": {
      "text/html": [
       "<div>\n",
       "<style scoped>\n",
       "    .dataframe tbody tr th:only-of-type {\n",
       "        vertical-align: middle;\n",
       "    }\n",
       "\n",
       "    .dataframe tbody tr th {\n",
       "        vertical-align: top;\n",
       "    }\n",
       "\n",
       "    .dataframe thead th {\n",
       "        text-align: right;\n",
       "    }\n",
       "</style>\n",
       "<table border=\"1\" class=\"dataframe\">\n",
       "  <thead>\n",
       "    <tr style=\"text-align: right;\">\n",
       "      <th></th>\n",
       "      <th>Universe_Earth-616</th>\n",
       "      <th>Universe_Earth-691</th>\n",
       "      <th>Universe_Earth-6311</th>\n",
       "      <th>Universe_Earth-921</th>\n",
       "      <th>Universe_Earth-96020</th>\n",
       "      <th>Universe_Earth-8009</th>\n",
       "      <th>Universe_Earth-13034</th>\n",
       "      <th>Universe_-1</th>\n",
       "    </tr>\n",
       "  </thead>\n",
       "  <tbody>\n",
       "    <tr>\n",
       "      <th>73</th>\n",
       "      <td>0</td>\n",
       "      <td>0</td>\n",
       "      <td>0</td>\n",
       "      <td>1</td>\n",
       "      <td>0</td>\n",
       "      <td>0</td>\n",
       "      <td>0</td>\n",
       "      <td>0</td>\n",
       "    </tr>\n",
       "    <tr>\n",
       "      <th>51</th>\n",
       "      <td>0</td>\n",
       "      <td>0</td>\n",
       "      <td>1</td>\n",
       "      <td>0</td>\n",
       "      <td>0</td>\n",
       "      <td>0</td>\n",
       "      <td>0</td>\n",
       "      <td>0</td>\n",
       "    </tr>\n",
       "    <tr>\n",
       "      <th>89</th>\n",
       "      <td>1</td>\n",
       "      <td>0</td>\n",
       "      <td>0</td>\n",
       "      <td>0</td>\n",
       "      <td>0</td>\n",
       "      <td>0</td>\n",
       "      <td>0</td>\n",
       "      <td>0</td>\n",
       "    </tr>\n",
       "    <tr>\n",
       "      <th>122</th>\n",
       "      <td>1</td>\n",
       "      <td>0</td>\n",
       "      <td>0</td>\n",
       "      <td>0</td>\n",
       "      <td>0</td>\n",
       "      <td>0</td>\n",
       "      <td>0</td>\n",
       "      <td>0</td>\n",
       "    </tr>\n",
       "    <tr>\n",
       "      <th>26</th>\n",
       "      <td>0</td>\n",
       "      <td>1</td>\n",
       "      <td>0</td>\n",
       "      <td>0</td>\n",
       "      <td>0</td>\n",
       "      <td>0</td>\n",
       "      <td>0</td>\n",
       "      <td>0</td>\n",
       "    </tr>\n",
       "  </tbody>\n",
       "</table>\n",
       "</div>"
      ],
      "text/plain": [
       "     Universe_Earth-616  Universe_Earth-691  Universe_Earth-6311  \\\n",
       "73                    0                   0                    0   \n",
       "51                    0                   0                    1   \n",
       "89                    1                   0                    0   \n",
       "122                   1                   0                    0   \n",
       "26                    0                   1                    0   \n",
       "\n",
       "     Universe_Earth-921  Universe_Earth-96020  Universe_Earth-8009  \\\n",
       "73                    1                     0                    0   \n",
       "51                    0                     0                    0   \n",
       "89                    0                     0                    0   \n",
       "122                   0                     0                    0   \n",
       "26                    0                     0                    0   \n",
       "\n",
       "     Universe_Earth-13034  Universe_-1  \n",
       "73                      0            0  \n",
       "51                      0            0  \n",
       "89                      0            0  \n",
       "122                     0            0  \n",
       "26                      0            0  "
      ]
     },
     "execution_count": 40,
     "metadata": {},
     "output_type": "execute_result"
    }
   ],
   "source": [
    "# initialize the transformer with the desired options\n",
    "ohe = ce.one_hot.OneHotEncoder(use_cat_names=True, handle_unknown='indicator')\n",
    "\n",
    "# fit transformer to data\n",
    "ohe.fit(avengers[['Universe']])\n",
    "\n",
    "# create new feature by transforming the data\n",
    "X_ohe = ohe.transform(avengers[['Universe']])\n",
    "X_ohe.sample(5, random_state=9)"
   ]
  },
  {
   "cell_type": "markdown",
   "metadata": {},
   "source": [
    "Note how the names of the new features were automatically created (by using the option `use_cat_names`) and how an extra feature (`Universe_-1`) was created for unseen categories (due to the option `handle_unknown='indicator'`).\n",
    "\n",
    "The `Category Encoders` library contains many more encoders that we will not cover here. Check out the [documentation](http://contrib.scikit-learn.org/category_encoders/index.html) if you like."
   ]
  },
  {
   "cell_type": "markdown",
   "metadata": {},
   "source": [
    "## 4. Conclusion\n",
    "\n",
    "You now know the types of data that you will find in the real world and the options you have to transform it to more convenient forms for the ML models.\n",
    "\n",
    "Make sure to review this notebook well, and when you're ready, go solve the exercises. Good luck!"
   ]
  }
 ],
 "metadata": {
  "kernelspec": {
   "display_name": "Python 3 (ipykernel)",
   "language": "python",
   "name": "python3"
  },
  "language_info": {
   "codemirror_mode": {
    "name": "ipython",
    "version": 3
   },
   "file_extension": ".py",
   "mimetype": "text/x-python",
   "name": "python",
   "nbconvert_exporter": "python",
   "pygments_lexer": "ipython3",
   "version": "3.12.2"
  },
  "varInspector": {
   "cols": {
    "lenName": 16,
    "lenType": 16,
    "lenVar": 40
   },
   "kernels_config": {
    "python": {
     "delete_cmd_postfix": "",
     "delete_cmd_prefix": "del ",
     "library": "var_list.py",
     "varRefreshCmd": "print(var_dic_list())"
    },
    "r": {
     "delete_cmd_postfix": ") ",
     "delete_cmd_prefix": "rm(",
     "library": "var_list.r",
     "varRefreshCmd": "cat(var_dic_list()) "
    }
   },
   "types_to_exclude": [
    "module",
    "function",
    "builtin_function_or_method",
    "instance",
    "_Feature"
   ],
   "window_display": false
  }
 },
 "nbformat": 4,
 "nbformat_minor": 4
}
