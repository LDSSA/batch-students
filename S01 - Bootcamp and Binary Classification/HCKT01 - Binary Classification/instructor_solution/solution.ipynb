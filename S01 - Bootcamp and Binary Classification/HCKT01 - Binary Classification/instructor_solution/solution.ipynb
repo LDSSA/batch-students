{
 "cells": [
  {
   "cell_type": "code",
   "execution_count": 1,
   "id": "50df3eed",
   "metadata": {},
   "outputs": [],
   "source": [
    "import os\n",
    "import base64\n",
    "import joblib\n",
    "import pandas as pd\n",
    "import numpy as np\n",
    "import category_encoders\n",
    "\n",
    "import math\n",
    "\n",
    "import seaborn as sns\n",
    "\n",
    "from sklearn.model_selection import train_test_split\n",
    "from sklearn.pipeline import make_pipeline, Pipeline\n",
    "from sklearn.model_selection import cross_val_score\n",
    "from category_encoders import OneHotEncoder\n",
    "from sklearn.impute import SimpleImputer\n",
    "from sklearn.preprocessing import StandardScaler, OneHotEncoder\n",
    "from sklearn.compose import ColumnTransformer\n",
    "from sklearn.model_selection import cross_val_score\n",
    "from sklearn.ensemble import RandomForestClassifier\n",
    "from sklearn.metrics import precision_score, recall_score, f1_score, accuracy_score, roc_auc_score, confusion_matrix, pairwise, precision_recall_curve, roc_curve\n",
    "from imblearn.under_sampling import RandomUnderSampler\n",
    "from imblearn.over_sampling import RandomOverSampler\n",
    "from sklearn.base import BaseEstimator, TransformerMixin\n",
    "\n",
    "import matplotlib.pyplot as plt\n",
    "import matplotlib.image as mpimg\n",
    "%matplotlib inline"
   ]
  },
  {
   "cell_type": "code",
   "execution_count": 2,
   "id": "ea4831f3",
   "metadata": {},
   "outputs": [],
   "source": [
    "def make_confmat_pretty(confmat):\n",
    "    # Plot the confusion matrix\n",
    "    fig, ax = plt.subplots(figsize=(4, 4))\n",
    "    ax.matshow(confmat, cmap=plt.cm.Blues, alpha=0.4)\n",
    "    for i in range(confmat.shape[0]):\n",
    "        for j in range(confmat.shape[1]):\n",
    "            ax.text(x=j, y=i,\n",
    "                    s=confmat[i, j],\n",
    "                    va='center', ha='center')\n",
    "    plt.xlabel('predicted label')\n",
    "    plt.ylabel('true label')\n",
    "    plt.title('Confusion Matrix')\n",
    "    plt.show()\n",
    "    \n",
    "#Function to separate categorical and numerical features to insert in pipeline\n",
    "def separate_cat_num_feat(df, columns_drop=None):\n",
    "    if columns_drop:\n",
    "        features = df.drop(columns=columns_drop).columns.tolist()\n",
    "    else:\n",
    "        features = df.columns.tolist()\n",
    "    \n",
    "    categorical_features = [i for i in features if df[i].dtype == 'object' or df[i].dtype == 'bool']\n",
    "    numerical_features = [i for i in features if df[i].dtype == 'int64' or df[i].dtype == 'float']\n",
    "    \n",
    "    if len(features) != len(categorical_features) + len(numerical_features):\n",
    "        print('Warning, there are missing categories in the separation procedure')\n",
    "        print('Features length: {}, categorical_features length: {}, numerical_features length: {}'.format(len(features),\n",
    "                                                                                                           len(categorical_features),\n",
    "                                                                                                           len(numerical_features)))\n",
    "        print(df.dtypes)\n",
    "    return categorical_features, numerical_features"
   ]
  },
  {
   "cell_type": "markdown",
   "id": "386e6c1a",
   "metadata": {},
   "source": [
    "# Extracting Data"
   ]
  },
  {
   "cell_type": "code",
   "execution_count": 3,
   "id": "ed34389d",
   "metadata": {
    "scrolled": true
   },
   "outputs": [
    {
     "name": "stdout",
     "output_type": "stream",
     "text": [
      "(223856, 19)\n",
      "(95939, 19)\n"
     ]
    }
   ],
   "source": [
    "df_train = pd.read_csv(\"train.csv\").set_index('id')\n",
    "df_test = pd.read_csv(\"test.csv\").set_index('id')\n",
    "features = df_train.columns.to_list()\n",
    "print(df_train.shape)\n",
    "print(df_test.shape)"
   ]
  },
  {
   "cell_type": "code",
   "execution_count": 4,
   "id": "e6885295",
   "metadata": {
    "scrolled": true
   },
   "outputs": [
    {
     "data": {
      "text/html": [
       "<div>\n",
       "<style scoped>\n",
       "    .dataframe tbody tr th:only-of-type {\n",
       "        vertical-align: middle;\n",
       "    }\n",
       "\n",
       "    .dataframe tbody tr th {\n",
       "        vertical-align: top;\n",
       "    }\n",
       "\n",
       "    .dataframe thead th {\n",
       "        text-align: right;\n",
       "    }\n",
       "</style>\n",
       "<table border=\"1\" class=\"dataframe\">\n",
       "  <thead>\n",
       "    <tr style=\"text-align: right;\">\n",
       "      <th></th>\n",
       "      <th>BMI</th>\n",
       "      <th>Smoking</th>\n",
       "      <th>AlcoholDrinking</th>\n",
       "      <th>Stroke</th>\n",
       "      <th>PhysicalHealth</th>\n",
       "      <th>MentalHealth</th>\n",
       "      <th>DiffWalking</th>\n",
       "      <th>Sex</th>\n",
       "      <th>Age</th>\n",
       "      <th>Race</th>\n",
       "      <th>Diabetic</th>\n",
       "      <th>GenHealth</th>\n",
       "      <th>SleepTime</th>\n",
       "      <th>Asthma</th>\n",
       "      <th>KidneyDisease</th>\n",
       "      <th>SkinCancer</th>\n",
       "      <th>External Heart Test Score</th>\n",
       "      <th>Weekly PhysicalActivity (H)</th>\n",
       "      <th>HeartDisease</th>\n",
       "    </tr>\n",
       "    <tr>\n",
       "      <th>id</th>\n",
       "      <th></th>\n",
       "      <th></th>\n",
       "      <th></th>\n",
       "      <th></th>\n",
       "      <th></th>\n",
       "      <th></th>\n",
       "      <th></th>\n",
       "      <th></th>\n",
       "      <th></th>\n",
       "      <th></th>\n",
       "      <th></th>\n",
       "      <th></th>\n",
       "      <th></th>\n",
       "      <th></th>\n",
       "      <th></th>\n",
       "      <th></th>\n",
       "      <th></th>\n",
       "      <th></th>\n",
       "      <th></th>\n",
       "    </tr>\n",
       "  </thead>\n",
       "  <tbody>\n",
       "    <tr>\n",
       "      <th>392260</th>\n",
       "      <td>20.51</td>\n",
       "      <td>No</td>\n",
       "      <td>No</td>\n",
       "      <td>No</td>\n",
       "      <td>4.0</td>\n",
       "      <td>0.0</td>\n",
       "      <td>No</td>\n",
       "      <td>Female</td>\n",
       "      <td>48</td>\n",
       "      <td>White</td>\n",
       "      <td>No</td>\n",
       "      <td>NaN</td>\n",
       "      <td>8.0</td>\n",
       "      <td>No</td>\n",
       "      <td>No</td>\n",
       "      <td>No</td>\n",
       "      <td>-0.087426</td>\n",
       "      <td>9.0</td>\n",
       "      <td>0</td>\n",
       "    </tr>\n",
       "    <tr>\n",
       "      <th>240472</th>\n",
       "      <td>30.82</td>\n",
       "      <td>No</td>\n",
       "      <td>No</td>\n",
       "      <td>No</td>\n",
       "      <td>0.0</td>\n",
       "      <td>0.0</td>\n",
       "      <td>No</td>\n",
       "      <td>Female</td>\n",
       "      <td>71</td>\n",
       "      <td>Other</td>\n",
       "      <td>Yes</td>\n",
       "      <td>Very good</td>\n",
       "      <td>7.0</td>\n",
       "      <td>No</td>\n",
       "      <td>Yes</td>\n",
       "      <td>No</td>\n",
       "      <td>-0.243885</td>\n",
       "      <td>12.0</td>\n",
       "      <td>0</td>\n",
       "    </tr>\n",
       "    <tr>\n",
       "      <th>212573</th>\n",
       "      <td>33.91</td>\n",
       "      <td>No</td>\n",
       "      <td>No</td>\n",
       "      <td>No</td>\n",
       "      <td>0.0</td>\n",
       "      <td>0.0</td>\n",
       "      <td>No</td>\n",
       "      <td>Male</td>\n",
       "      <td>54</td>\n",
       "      <td>White</td>\n",
       "      <td>Yes</td>\n",
       "      <td>Good</td>\n",
       "      <td>6.0</td>\n",
       "      <td>No</td>\n",
       "      <td>No</td>\n",
       "      <td>No</td>\n",
       "      <td>-0.010218</td>\n",
       "      <td>1.0</td>\n",
       "      <td>0</td>\n",
       "    </tr>\n",
       "    <tr>\n",
       "      <th>233946</th>\n",
       "      <td>21.59</td>\n",
       "      <td>Yes</td>\n",
       "      <td>No</td>\n",
       "      <td>No</td>\n",
       "      <td>0.0</td>\n",
       "      <td>0.0</td>\n",
       "      <td>No</td>\n",
       "      <td>Male</td>\n",
       "      <td>84</td>\n",
       "      <td>White</td>\n",
       "      <td>No</td>\n",
       "      <td>Very good</td>\n",
       "      <td>8.0</td>\n",
       "      <td>No</td>\n",
       "      <td>No</td>\n",
       "      <td>No</td>\n",
       "      <td>-0.076278</td>\n",
       "      <td>11.0</td>\n",
       "      <td>0</td>\n",
       "    </tr>\n",
       "    <tr>\n",
       "      <th>427190</th>\n",
       "      <td>25.75</td>\n",
       "      <td>No</td>\n",
       "      <td>No</td>\n",
       "      <td>No</td>\n",
       "      <td>0.0</td>\n",
       "      <td>0.0</td>\n",
       "      <td>No</td>\n",
       "      <td>Female</td>\n",
       "      <td>77</td>\n",
       "      <td>White</td>\n",
       "      <td>No</td>\n",
       "      <td>Very good</td>\n",
       "      <td>7.0</td>\n",
       "      <td>Yes</td>\n",
       "      <td>No</td>\n",
       "      <td>No</td>\n",
       "      <td>-0.063184</td>\n",
       "      <td>10.0</td>\n",
       "      <td>0</td>\n",
       "    </tr>\n",
       "  </tbody>\n",
       "</table>\n",
       "</div>"
      ],
      "text/plain": [
       "          BMI Smoking AlcoholDrinking Stroke  PhysicalHealth  MentalHealth  \\\n",
       "id                                                                           \n",
       "392260  20.51      No              No     No             4.0           0.0   \n",
       "240472  30.82      No              No     No             0.0           0.0   \n",
       "212573  33.91      No              No     No             0.0           0.0   \n",
       "233946  21.59     Yes              No     No             0.0           0.0   \n",
       "427190  25.75      No              No     No             0.0           0.0   \n",
       "\n",
       "       DiffWalking     Sex  Age   Race Diabetic  GenHealth  SleepTime Asthma  \\\n",
       "id                                                                             \n",
       "392260          No  Female   48  White       No        NaN        8.0     No   \n",
       "240472          No  Female   71  Other      Yes  Very good        7.0     No   \n",
       "212573          No    Male   54  White      Yes       Good        6.0     No   \n",
       "233946          No    Male   84  White       No  Very good        8.0     No   \n",
       "427190          No  Female   77  White       No  Very good        7.0    Yes   \n",
       "\n",
       "       KidneyDisease SkinCancer  External Heart Test Score  \\\n",
       "id                                                           \n",
       "392260            No         No                  -0.087426   \n",
       "240472           Yes         No                  -0.243885   \n",
       "212573            No         No                  -0.010218   \n",
       "233946            No         No                  -0.076278   \n",
       "427190            No         No                  -0.063184   \n",
       "\n",
       "        Weekly PhysicalActivity (H)  HeartDisease  \n",
       "id                                                 \n",
       "392260                          9.0             0  \n",
       "240472                         12.0             0  \n",
       "212573                          1.0             0  \n",
       "233946                         11.0             0  \n",
       "427190                         10.0             0  "
      ]
     },
     "execution_count": 4,
     "metadata": {},
     "output_type": "execute_result"
    }
   ],
   "source": [
    "df_train.head()"
   ]
  },
  {
   "cell_type": "markdown",
   "id": "6a0b43c5",
   "metadata": {},
   "source": [
    "# EDA"
   ]
  },
  {
   "cell_type": "code",
   "execution_count": 5,
   "id": "034f7011",
   "metadata": {},
   "outputs": [
    {
     "data": {
      "text/plain": [
       "BMI                            float64\n",
       "Smoking                         object\n",
       "AlcoholDrinking                 object\n",
       "Stroke                          object\n",
       "PhysicalHealth                 float64\n",
       "MentalHealth                   float64\n",
       "DiffWalking                     object\n",
       "Sex                             object\n",
       "Age                              int64\n",
       "Race                            object\n",
       "Diabetic                        object\n",
       "GenHealth                       object\n",
       "SleepTime                      float64\n",
       "Asthma                          object\n",
       "KidneyDisease                   object\n",
       "SkinCancer                      object\n",
       "External Heart Test Score      float64\n",
       "Weekly PhysicalActivity (H)    float64\n",
       "HeartDisease                     int64\n",
       "dtype: object"
      ]
     },
     "execution_count": 5,
     "metadata": {},
     "output_type": "execute_result"
    }
   ],
   "source": [
    "df_train.dtypes"
   ]
  },
  {
   "cell_type": "code",
   "execution_count": 6,
   "id": "075f22b4",
   "metadata": {},
   "outputs": [
    {
     "data": {
      "text/plain": [
       "BMI                              3355\n",
       "Smoking                             2\n",
       "AlcoholDrinking                     2\n",
       "Stroke                              2\n",
       "PhysicalHealth                     31\n",
       "MentalHealth                       31\n",
       "DiffWalking                         2\n",
       "Sex                                12\n",
       "Age                                82\n",
       "Race                                6\n",
       "Diabetic                            4\n",
       "GenHealth                           5\n",
       "SleepTime                          27\n",
       "Asthma                              2\n",
       "KidneyDisease                       2\n",
       "SkinCancer                          2\n",
       "External Heart Test Score      223856\n",
       "Weekly PhysicalActivity (H)        15\n",
       "HeartDisease                        2\n",
       "dtype: int64"
      ]
     },
     "execution_count": 6,
     "metadata": {},
     "output_type": "execute_result"
    }
   ],
   "source": [
    "df_train.nunique()"
   ]
  },
  {
   "cell_type": "code",
   "execution_count": 7,
   "id": "952f9131",
   "metadata": {},
   "outputs": [
    {
     "data": {
      "text/plain": [
       "BMI                                0\n",
       "Smoking                            0\n",
       "AlcoholDrinking                    0\n",
       "Stroke                             0\n",
       "PhysicalHealth                     0\n",
       "MentalHealth                       0\n",
       "DiffWalking                        0\n",
       "Sex                             1900\n",
       "Age                                0\n",
       "Race                            4032\n",
       "Diabetic                           0\n",
       "GenHealth                      35000\n",
       "SleepTime                       2024\n",
       "Asthma                             0\n",
       "KidneyDisease                      0\n",
       "SkinCancer                      2205\n",
       "External Heart Test Score          0\n",
       "Weekly PhysicalActivity (H)        0\n",
       "HeartDisease                       0\n",
       "dtype: int64"
      ]
     },
     "execution_count": 7,
     "metadata": {},
     "output_type": "execute_result"
    }
   ],
   "source": [
    "df_train.isnull().sum()"
   ]
  },
  {
   "cell_type": "code",
   "execution_count": 8,
   "id": "d8e5cfc0",
   "metadata": {},
   "outputs": [
    {
     "data": {
      "text/html": [
       "<div>\n",
       "<style scoped>\n",
       "    .dataframe tbody tr th:only-of-type {\n",
       "        vertical-align: middle;\n",
       "    }\n",
       "\n",
       "    .dataframe tbody tr th {\n",
       "        vertical-align: top;\n",
       "    }\n",
       "\n",
       "    .dataframe thead th {\n",
       "        text-align: right;\n",
       "    }\n",
       "</style>\n",
       "<table border=\"1\" class=\"dataframe\">\n",
       "  <thead>\n",
       "    <tr style=\"text-align: right;\">\n",
       "      <th></th>\n",
       "      <th>BMI</th>\n",
       "      <th>PhysicalHealth</th>\n",
       "      <th>MentalHealth</th>\n",
       "      <th>Age</th>\n",
       "      <th>SleepTime</th>\n",
       "      <th>External Heart Test Score</th>\n",
       "      <th>Weekly PhysicalActivity (H)</th>\n",
       "      <th>HeartDisease</th>\n",
       "    </tr>\n",
       "  </thead>\n",
       "  <tbody>\n",
       "    <tr>\n",
       "      <th>count</th>\n",
       "      <td>223856.000000</td>\n",
       "      <td>223856.000000</td>\n",
       "      <td>223856.000000</td>\n",
       "      <td>223856.000000</td>\n",
       "      <td>221832.000000</td>\n",
       "      <td>223856.000000</td>\n",
       "      <td>223856.000000</td>\n",
       "      <td>223856.000000</td>\n",
       "    </tr>\n",
       "    <tr>\n",
       "      <th>mean</th>\n",
       "      <td>28.330314</td>\n",
       "      <td>3.362152</td>\n",
       "      <td>3.899708</td>\n",
       "      <td>55.074244</td>\n",
       "      <td>7.096578</td>\n",
       "      <td>0.085433</td>\n",
       "      <td>6.857699</td>\n",
       "      <td>0.085247</td>\n",
       "    </tr>\n",
       "    <tr>\n",
       "      <th>std</th>\n",
       "      <td>6.360185</td>\n",
       "      <td>7.934836</td>\n",
       "      <td>7.958319</td>\n",
       "      <td>19.025598</td>\n",
       "      <td>1.440473</td>\n",
       "      <td>0.303383</td>\n",
       "      <td>4.651937</td>\n",
       "      <td>0.279249</td>\n",
       "    </tr>\n",
       "    <tr>\n",
       "      <th>min</th>\n",
       "      <td>12.020000</td>\n",
       "      <td>0.000000</td>\n",
       "      <td>0.000000</td>\n",
       "      <td>18.000000</td>\n",
       "      <td>-3.000000</td>\n",
       "      <td>-0.563692</td>\n",
       "      <td>0.000000</td>\n",
       "      <td>0.000000</td>\n",
       "    </tr>\n",
       "    <tr>\n",
       "      <th>25%</th>\n",
       "      <td>24.030000</td>\n",
       "      <td>0.000000</td>\n",
       "      <td>0.000000</td>\n",
       "      <td>40.000000</td>\n",
       "      <td>6.000000</td>\n",
       "      <td>-0.071873</td>\n",
       "      <td>2.000000</td>\n",
       "      <td>0.000000</td>\n",
       "    </tr>\n",
       "    <tr>\n",
       "      <th>50%</th>\n",
       "      <td>27.340000</td>\n",
       "      <td>0.000000</td>\n",
       "      <td>0.000000</td>\n",
       "      <td>57.000000</td>\n",
       "      <td>7.000000</td>\n",
       "      <td>0.014665</td>\n",
       "      <td>9.000000</td>\n",
       "      <td>0.000000</td>\n",
       "    </tr>\n",
       "    <tr>\n",
       "      <th>75%</th>\n",
       "      <td>31.450000</td>\n",
       "      <td>2.000000</td>\n",
       "      <td>3.000000</td>\n",
       "      <td>69.000000</td>\n",
       "      <td>8.000000</td>\n",
       "      <td>0.110031</td>\n",
       "      <td>11.000000</td>\n",
       "      <td>0.000000</td>\n",
       "    </tr>\n",
       "    <tr>\n",
       "      <th>max</th>\n",
       "      <td>93.970000</td>\n",
       "      <td>30.000000</td>\n",
       "      <td>30.000000</td>\n",
       "      <td>99.000000</td>\n",
       "      <td>48.000000</td>\n",
       "      <td>1.461253</td>\n",
       "      <td>14.000000</td>\n",
       "      <td>1.000000</td>\n",
       "    </tr>\n",
       "  </tbody>\n",
       "</table>\n",
       "</div>"
      ],
      "text/plain": [
       "                 BMI  PhysicalHealth   MentalHealth            Age  \\\n",
       "count  223856.000000   223856.000000  223856.000000  223856.000000   \n",
       "mean       28.330314        3.362152       3.899708      55.074244   \n",
       "std         6.360185        7.934836       7.958319      19.025598   \n",
       "min        12.020000        0.000000       0.000000      18.000000   \n",
       "25%        24.030000        0.000000       0.000000      40.000000   \n",
       "50%        27.340000        0.000000       0.000000      57.000000   \n",
       "75%        31.450000        2.000000       3.000000      69.000000   \n",
       "max        93.970000       30.000000      30.000000      99.000000   \n",
       "\n",
       "           SleepTime  External Heart Test Score  Weekly PhysicalActivity (H)  \\\n",
       "count  221832.000000              223856.000000                223856.000000   \n",
       "mean        7.096578                   0.085433                     6.857699   \n",
       "std         1.440473                   0.303383                     4.651937   \n",
       "min        -3.000000                  -0.563692                     0.000000   \n",
       "25%         6.000000                  -0.071873                     2.000000   \n",
       "50%         7.000000                   0.014665                     9.000000   \n",
       "75%         8.000000                   0.110031                    11.000000   \n",
       "max        48.000000                   1.461253                    14.000000   \n",
       "\n",
       "        HeartDisease  \n",
       "count  223856.000000  \n",
       "mean        0.085247  \n",
       "std         0.279249  \n",
       "min         0.000000  \n",
       "25%         0.000000  \n",
       "50%         0.000000  \n",
       "75%         0.000000  \n",
       "max         1.000000  "
      ]
     },
     "execution_count": 8,
     "metadata": {},
     "output_type": "execute_result"
    }
   ],
   "source": [
    "df_train.describe()"
   ]
  },
  {
   "cell_type": "code",
   "execution_count": 9,
   "id": "5b63cc1c",
   "metadata": {},
   "outputs": [
    {
     "data": {
      "text/plain": [
       "0"
      ]
     },
     "execution_count": 9,
     "metadata": {},
     "output_type": "execute_result"
    }
   ],
   "source": [
    "df_train.duplicated().sum()"
   ]
  },
  {
   "cell_type": "code",
   "execution_count": 10,
   "id": "23fdbd12",
   "metadata": {},
   "outputs": [
    {
     "data": {
      "text/plain": [
       "0"
      ]
     },
     "execution_count": 10,
     "metadata": {},
     "output_type": "execute_result"
    }
   ],
   "source": [
    "df_train.index.duplicated().sum()"
   ]
  },
  {
   "cell_type": "code",
   "execution_count": 11,
   "id": "ea1e8fef",
   "metadata": {},
   "outputs": [
    {
     "data": {
      "image/png": "[encoded data removed]",
      "text/plain": [
       "<Figure size 600x400 with 2 Axes>"
      ]
     },
     "metadata": {},
     "output_type": "display_data"
    }
   ],
   "source": [
    "categorical_features, numerical_features = separate_cat_num_feat(df_train)\n",
    "\n",
    "cor_mat = df_train[numerical_features].corr() \n",
    "lower_triangle_mask = np.triu(np.ones(cor_mat.shape)).astype(bool)\n",
    "cor_mat_lower = cor_mat.mask(lower_triangle_mask)\n",
    "\n",
    "plt.figure(figsize = (6,4)) \n",
    "\n",
    "sns.heatmap(cor_mat_lower, \n",
    "            annot=True, \n",
    "            cmap='RdBu_r');"
   ]
  },
  {
   "cell_type": "code",
   "execution_count": 12,
   "id": "2eef2a48",
   "metadata": {},
   "outputs": [
    {
     "data": {
      "image/png": "[encoded data removed]",
      "text/plain": [
       "<Figure size 640x480 with 1 Axes>"
      ]
     },
     "metadata": {},
     "output_type": "display_data"
    }
   ],
   "source": [
    "df_train.HeartDisease.value_counts(normalize=True).plot(kind=\"bar\");\n",
    "plt.xlabel('HearDisease Label');\n",
    "plt.ylabel('Number of cases');"
   ]
  },
  {
   "cell_type": "markdown",
   "id": "f6608fe6",
   "metadata": {},
   "source": [
    "# Data Cleaning"
   ]
  },
  {
   "cell_type": "code",
   "execution_count": 13,
   "id": "a27f65a0",
   "metadata": {},
   "outputs": [
    {
     "name": "stdout",
     "output_type": "stream",
     "text": [
      "Nbr of obs: 216757, (96.83%)\n",
      "Nbr of obs: 95693, (99.74%)\n"
     ]
    }
   ],
   "source": [
    "def data_cleaner(df):\n",
    "    df_ = df.copy()\n",
    "    \n",
    "    # Drop specific columns\n",
    "    df_ = df_.drop(columns=['External Heart Test Score', 'Race', 'MentalHealth', 'Asthma'])\n",
    "    \n",
    "    # Fill missing values for 'GenHealth'\n",
    "    df_['GenHealth'] = df_['GenHealth'].fillna('Excellent')\n",
    "    \n",
    "    # Drop duplicates and rows with any missing values\n",
    "    df_ = df_.drop_duplicates()\n",
    "    df_ = df_.dropna()\n",
    "    \n",
    "    # Clean 'Sex' column values and filter only 'Male' and 'Female'\n",
    "    df_['Sex'] = df_['Sex'].replace({'M':'Male',\n",
    "                          'm': 'Male',\n",
    "                          'male': 'Male',\n",
    "                          'F':'Female',\n",
    "                          'f': 'Female',\n",
    "                          'female': 'Female'\n",
    "                        })\n",
    "    df_ = df_[(df_['Sex'] == 'Male') | (df_['Sex'] == 'Female')]\n",
    "    \n",
    "    # Keep rows with valid 'SleepTime' values between 0 and 24\n",
    "    df_ = df_[(df_['SleepTime'] >= 0) & (df_['SleepTime'] <= 24)]\n",
    "    \n",
    "    # Convert 'SleepTime' and 'BMI' columns to integer\n",
    "    df_['SleepTime'] = df_['SleepTime'].astype(int)\n",
    "    df_['BMI'] = df_['BMI'].astype(int)\n",
    "    \n",
    "    print('Nbr of obs: {}, ({}%)'.format(df_.shape[0], round(df_.shape[0]/df.shape[0]*100, 2)))\n",
    "    return df_\n",
    "\n",
    "df_train_clean = data_cleaner(df_train)\n",
    "df_test_clean = data_cleaner(df_test)"
   ]
  },
  {
   "cell_type": "markdown",
   "id": "0b131906",
   "metadata": {},
   "source": [
    "# Feature Engineering"
   ]
  },
  {
   "cell_type": "code",
   "execution_count": 14,
   "id": "d22382f1",
   "metadata": {},
   "outputs": [],
   "source": [
    "class CatPhysicalActiv(BaseEstimator, TransformerMixin):\n",
    "    def __init__(self):\n",
    "        pass\n",
    "    def fit(self, X=None, y=None, **fit_params):\n",
    "        return self\n",
    "    def transform(self, data):\n",
    "        X = data.copy()\n",
    "        X.loc[X['Weekly PhysicalActivity (H)'] == 0, 'PhysicalActivity'] = 'No'\n",
    "        X.loc[X['Weekly PhysicalActivity (H)'] > 0, 'PhysicalActivity'] = 'Yes'\n",
    "        \n",
    "        return X "
   ]
  },
  {
   "cell_type": "code",
   "execution_count": 15,
   "id": "48258b7e",
   "metadata": {},
   "outputs": [],
   "source": [
    "class CatHealthyLifestyle(BaseEstimator, TransformerMixin):\n",
    "    def __init__(self):\n",
    "        pass\n",
    "    def fit(self, X=None, y=None, **fit_params):\n",
    "        return self\n",
    "    def transform(self, data):\n",
    "        X = data.copy()\n",
    "        X['HealthyLifestyle'] = 'No'\n",
    "    \n",
    "        X.loc[(X['PhysicalActivity'] == 'Yes') &\n",
    "                (X['Smoking'] == 'No') &\n",
    "                (X['AlcoholDrinking'] == 'No') &\n",
    "                (X['Diabetic'] == 'No') &\n",
    "                (X['SleepTime'] >= 6) &\n",
    "                (X['BMI'] > 18) &\n",
    "                (X['BMI'] < 30), 'HealthyLifestyle'] = 'Yes'\n",
    "    \n",
    "        return X "
   ]
  },
  {
   "cell_type": "markdown",
   "id": "2bd382da",
   "metadata": {},
   "source": [
    "# Creating the Model"
   ]
  },
  {
   "cell_type": "code",
   "execution_count": 16,
   "id": "78ea24a3",
   "metadata": {},
   "outputs": [
    {
     "name": "stdout",
     "output_type": "stream",
     "text": [
      "216757\n",
      "216757\n",
      "297309\n",
      "297309\n"
     ]
    },
    {
     "name": "stderr",
     "output_type": "stream",
     "text": [
      "/tmp/ipykernel_400/2593556377.py:8: FutureWarning: Setting an item of incompatible dtype is deprecated and will raise in a future error of pandas. Value 'No' has dtype incompatible with float64, please explicitly cast to a compatible dtype first.\n",
      "  X.loc[X['Weekly PhysicalActivity (H)'] == 0, 'PhysicalActivity'] = 'No'\n",
      "/tmp/ipykernel_400/2593556377.py:8: FutureWarning: Setting an item of incompatible dtype is deprecated and will raise in a future error of pandas. Value 'No' has dtype incompatible with float64, please explicitly cast to a compatible dtype first.\n",
      "  X.loc[X['Weekly PhysicalActivity (H)'] == 0, 'PhysicalActivity'] = 'No'\n"
     ]
    },
    {
     "name": "stdout",
     "output_type": "stream",
     "text": [
      "General\n",
      "ROCAUC score:0.8859466758187673\n",
      "f1_score:0.5818979266347687\n",
      "precision:0.4345262907163699\n",
      "recall:0.8805357789308556\n",
      "\n"
     ]
    },
    {
     "data": {
      "image/png": "[encoded data removed]",
      "text/plain": [
       "<Figure size 400x400 with 1 Axes>"
      ]
     },
     "metadata": {},
     "output_type": "display_data"
    }
   ],
   "source": [
    "target = 'HeartDisease'\n",
    "categorical_features, numerical_features = separate_cat_num_feat(df_train_clean, [target])\n",
    "\n",
    "categorical_transformer = Pipeline(steps=[('onehot', OneHotEncoder(handle_unknown='ignore'))])\n",
    "\n",
    "numerical_transformer = Pipeline(steps=[\n",
    "                                       ('scaler', StandardScaler())])\n",
    "\n",
    "                                   \n",
    "                                   \n",
    "preprocessor = ColumnTransformer(\n",
    "    transformers=[(\"cat\", categorical_transformer, categorical_features),\n",
    "                  (\"num\", numerical_transformer, numerical_features)]\n",
    ")\n",
    "\n",
    "pipeline = Pipeline([\n",
    "    (\"feat_engineering_1\", CatPhysicalActiv()),\n",
    "    (\"feat_engineering_2\", CatHealthyLifestyle()),\n",
    "    (\"preprocessor\", preprocessor),\n",
    "    ('model', RandomForestClassifier(max_depth=6, random_state=42, n_jobs=-1))\n",
    "])\n",
    "\n",
    "\n",
    "X_train = df_train_clean.drop(columns=[target])\n",
    "y_train = df_train_clean[target]\n",
    "\n",
    "X_test = df_test_clean.drop(columns=[target])\n",
    "y_test = df_test_clean[target]\n",
    "print(X_train.shape[0])\n",
    "print(y_train.shape[0])\n",
    "#Performing oversampling (sampling_strategy coeff. chosen for scoring purposes)\n",
    "ros_sampler = RandomOverSampler(sampling_strategy=0.5, random_state=42)\n",
    "X_train, y_train = ros_sampler.fit_resample(X_train, y_train)\n",
    "print(X_train.shape[0])\n",
    "print(y_train.shape[0])\n",
    "\n",
    "pipeline.fit(X_train, y_train)\n",
    "\n",
    "y_pred = pipeline.predict(X_test)\n",
    "\n",
    "\n",
    "print('General')\n",
    "print('ROCAUC score:{}'.format(roc_auc_score(y_test, y_pred)))\n",
    "print('f1_score:{}'.format(f1_score(y_test, y_pred)))\n",
    "print('precision:{}'.format(precision_score(y_test, y_pred)))\n",
    "print('recall:{}\\n'.format(recall_score(y_test, y_pred)))\n",
    "\n",
    "confmat = confusion_matrix(y_true=y_test, \n",
    "                           y_pred=y_pred)\n",
    "make_confmat_pretty(confmat)"
   ]
  },
  {
   "cell_type": "markdown",
   "id": "d1d5d60f",
   "metadata": {},
   "source": [
    "### ROC-AUC Score"
   ]
  },
  {
   "cell_type": "code",
   "execution_count": 17,
   "id": "157f818b",
   "metadata": {
    "scrolled": false
   },
   "outputs": [
    {
     "name": "stderr",
     "output_type": "stream",
     "text": [
      "/tmp/ipykernel_400/2593556377.py:8: FutureWarning: Setting an item of incompatible dtype is deprecated and will raise in a future error of pandas. Value 'No' has dtype incompatible with float64, please explicitly cast to a compatible dtype first.\n",
      "  X.loc[X['Weekly PhysicalActivity (H)'] == 0, 'PhysicalActivity'] = 'No'\n"
     ]
    },
    {
     "data": {
      "image/png": "[encoded data removed]",
      "text/plain": [
       "<Figure size 800x600 with 1 Axes>"
      ]
     },
     "metadata": {},
     "output_type": "display_data"
    }
   ],
   "source": [
    "roc_auc = roc_auc_score(y_test, y_pred)\n",
    "fpr, tpr, thresholds = roc_curve(y_score=pipeline.predict_proba(X_test)[:,1], y_true=y_test)\n",
    "def plot_roc_curve(roc_auc, fpr, tpr):\n",
    "    \n",
    "    plt.figure(figsize=(8,6))\n",
    "    lw = 2\n",
    "    plt.plot(fpr, tpr, color='orange', lw=lw, label='ROC curve (AUROC = %0.2f)' % roc_auc)\n",
    "    plt.plot([0, 1], [0, 1], color='navy', lw=lw, linestyle='--', label='random')\n",
    "    plt.xlim([-0.05, 1.0])\n",
    "    plt.ylim([0.0, 1.05])\n",
    "    plt.grid()\n",
    "    plt.xlabel('False Positive Rate')\n",
    "    plt.ylabel('True Positive Rate')\n",
    "    plt.title('Receiver operating characteristic example')\n",
    "    plt.legend(loc=\"lower right\")\n",
    "    plt.show()\n",
    "plot_roc_curve(roc_auc, fpr, tpr)"
   ]
  },
  {
   "cell_type": "markdown",
   "id": "b73b16f9",
   "metadata": {},
   "source": [
    "##### Load the test set"
   ]
  },
  {
   "cell_type": "code",
   "execution_count": 14,
   "id": "fb3671af",
   "metadata": {},
   "outputs": [],
   "source": [
    "test = pd.read_csv('test.csv').set_index(\"id\")"
   ]
  },
  {
   "cell_type": "markdown",
   "id": "c08dd8ac",
   "metadata": {},
   "source": [
    "##### Use the pipeline to get predictions (very simple!)"
   ]
  },
  {
   "cell_type": "code",
   "execution_count": null,
   "id": "927cbd5e",
   "metadata": {},
   "outputs": [],
   "source": [
    "y_scores_final = pipeline.predict_proba(test)[:,1]"
   ]
  },
  {
   "cell_type": "markdown",
   "id": "35759dd6",
   "metadata": {},
   "source": [
    "##### Prepare the submissions file"
   ]
  },
  {
   "cell_type": "code",
   "execution_count": null,
   "id": "4d9b3b4b",
   "metadata": {},
   "outputs": [],
   "source": [
    "submission = pd.Series(y_scores_final,index=test.index, name='order_id')\n",
    "submission.to_csv(\"submission.csv\")"
   ]
  }
 ],
 "metadata": {
  "kernelspec": {
   "display_name": "Python 3 (ipykernel)",
   "language": "python",
   "name": "python3"
  },
  "language_info": {
   "codemirror_mode": {
    "name": "ipython",
    "version": 3
   },
   "file_extension": ".py",
   "mimetype": "text/x-python",
   "name": "python",
   "nbconvert_exporter": "python",
   "pygments_lexer": "ipython3",
   "version": "3.10.14"
  }
 },
 "nbformat": 4,
 "nbformat_minor": 5
}
