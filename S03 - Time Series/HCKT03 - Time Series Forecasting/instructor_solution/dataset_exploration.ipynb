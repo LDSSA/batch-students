{
 "cells": [
  {
   "cell_type": "markdown",
   "id": "7ce874f2",
   "metadata": {},
   "source": [
    "## Setup"
   ]
  },
  {
   "cell_type": "code",
   "execution_count": null,
   "id": "922103c8",
   "metadata": {},
   "outputs": [],
   "source": [
    "import pandas as pd \n",
    "from matplotlib import pyplot as plt \n",
    "import numpy as np \n",
    "import matplotlib\n",
    "from statsmodels.tsa.stattools import acf, adfuller\n",
    "from statsmodels.graphics.tsaplots import plot_acf, plot_pacf\n",
    "from statsmodels.tsa.seasonal import seasonal_decompose\n",
    "\n",
    "plt.rcParams['figure.figsize'] = [16, 4]\n",
    "\n",
    "np.random.seed(1000)"
   ]
  },
  {
   "cell_type": "markdown",
   "id": "7d9c6fbc",
   "metadata": {},
   "source": [
    "## Config"
   ]
  },
  {
   "cell_type": "code",
   "execution_count": null,
   "id": "55caa759",
   "metadata": {},
   "outputs": [],
   "source": [
    "path_data = \"../data\""
   ]
  },
  {
   "cell_type": "markdown",
   "id": "5f87b912",
   "metadata": {},
   "source": [
    "## Fetch dataset"
   ]
  },
  {
   "cell_type": "code",
   "execution_count": null,
   "id": "50ad6734",
   "metadata": {},
   "outputs": [],
   "source": [
    "df_ref = pd.read_csv(f'{path_data}/train.csv')\n",
    "df_ref"
   ]
  },
  {
   "cell_type": "code",
   "execution_count": null,
   "id": "e4ff9db9",
   "metadata": {},
   "outputs": [],
   "source": [
    "df = df_ref.copy()\n",
    "df.datetime = pd.to_datetime(df.datetime)\n",
    "df = df.set_index(['datetime','site_id'], drop=True).sort_index()\n",
    "\n",
    "sites = df.index.get_level_values('site_id').unique()\n",
    "sensors = df.columns\n",
    "\n",
    "df.head()"
   ]
  },
  {
   "cell_type": "code",
   "execution_count": null,
   "id": "acacc91b",
   "metadata": {},
   "outputs": [],
   "source": [
    "df_forecast = pd.read_csv(f'{path_data}/nox_forecast.csv')\n",
    "df_forecast.datetime = pd.to_datetime(df_forecast.datetime)\n",
    "df_forecast = df_forecast.set_index('datetime', drop=True).sort_index()\n",
    "df_forecast.head()"
   ]
  },
  {
   "cell_type": "markdown",
   "id": "2b753688",
   "metadata": {},
   "source": [
    "## Visualize sensors and sites"
   ]
  },
  {
   "cell_type": "code",
   "execution_count": null,
   "id": "dd922be8",
   "metadata": {
    "scrolled": true
   },
   "outputs": [],
   "source": [
    "for sensor in sensors:\n",
    "    for loc in sites:\n",
    "        df.loc[pd.IndexSlice[:, loc], sensor].plot(title=f\"{sensor} at {loc}\")\n",
    "        plt.show()"
   ]
  },
  {
   "cell_type": "markdown",
   "id": "c705e8ec",
   "metadata": {},
   "source": [
    "## 1) Data clean-up - Handle extreme values\n",
    "\n",
    "Monitor station vendor states `pm25` values range from `0` to `125`"
   ]
  },
  {
   "cell_type": "code",
   "execution_count": null,
   "id": "0f18efac",
   "metadata": {},
   "outputs": [],
   "source": [
    "for sensor in sensors:\n",
    "    for loc in sites:\n",
    "        my_min = df.loc[pd.IndexSlice[:, loc], sensor].min()\n",
    "        my_max = df.loc[pd.IndexSlice[:, loc], sensor].max()\n",
    "        print(f\"{sensor} at {loc}: Min: {my_min} Max: {my_max}\")"
   ]
  },
  {
   "cell_type": "code",
   "execution_count": null,
   "id": "592d16bf",
   "metadata": {},
   "outputs": [],
   "source": [
    "upper_threshold = 165\n",
    "\n",
    "df.pm25.plot()\n",
    "plt.axhline(upper_threshold, color='red', linestyle='--', label='Upper Threshold')\n",
    "plt.show()\n",
    "\n",
    "df = df[df['pm25'] <= upper_threshold]\n",
    "\n",
    "df.pm25.plot()\n",
    "plt.axhline(upper_threshold, color='red', linestyle='--', label='Upper Threshold')\n",
    "plt.show()"
   ]
  },
  {
   "cell_type": "markdown",
   "id": "ba1fc3cb",
   "metadata": {},
   "source": [
    "## 2a) Visualize sensors and sites - Daily view"
   ]
  },
  {
   "cell_type": "code",
   "execution_count": null,
   "id": "03d13fb9",
   "metadata": {
    "scrolled": false
   },
   "outputs": [],
   "source": [
    "df_freq_d = df.groupby('site_id').resample('d', level=0).mean()\n",
    "\n",
    "for sensor in sensors:\n",
    "    for loc in sites:\n",
    "        \n",
    "        df_freq_d.loc[pd.IndexSlice[loc, :], sensor].plot(title=f\"Daily Average {sensor}\", label=loc)\n",
    "        plt.legend()\n",
    "        \n",
    "    plt.show()"
   ]
  },
  {
   "cell_type": "markdown",
   "id": "10167fc2",
   "metadata": {},
   "source": [
    "## 2b) Spatial aggregation"
   ]
  },
  {
   "cell_type": "code",
   "execution_count": null,
   "id": "6d19c14a",
   "metadata": {},
   "outputs": [],
   "source": [
    "df_spatial = df.groupby('datetime').mean()\n",
    "\n",
    "for sensor in sensors:\n",
    "    df_spatial[sensor].plot(title=f\"Spatial Average {sensor}\")\n",
    "    plt.show()"
   ]
  },
  {
   "cell_type": "markdown",
   "id": "0a4d1cfa",
   "metadata": {},
   "source": [
    "## 2c) Spatial aggregation - Daily view"
   ]
  },
  {
   "cell_type": "code",
   "execution_count": null,
   "id": "825160da",
   "metadata": {},
   "outputs": [],
   "source": [
    "df_spatial_d = df_freq_d.groupby('datetime').mean()\n",
    "\n",
    "for sensor in sensors:\n",
    "    df_spatial_d[sensor].plot(title=f\"Spatial & Daily Average {sensor}\", label=sensor)\n",
    "    if sensor=='nox':\n",
    "        plt.plot(df_forecast.resample('d').mean(), label='forecast')\n",
    "        \n",
    "    plt.legend()    \n",
    "    plt.show()"
   ]
  },
  {
   "cell_type": "markdown",
   "id": "f2414946",
   "metadata": {},
   "source": [
    "## `nox` as exogenous candidate"
   ]
  },
  {
   "cell_type": "code",
   "execution_count": null,
   "id": "11f1f3a3",
   "metadata": {},
   "outputs": [],
   "source": [
    "sensor1 = 'pm25'\n",
    "sensor2 = 'nox'\n",
    "\n",
    "sensor1_norm = (df_spatial[sensor1]-df_spatial[sensor1].mean())/df_spatial[sensor1].std()\n",
    "sensor2_norm = (df_spatial[sensor2]-df_spatial[sensor2].mean())/df_spatial[sensor2].std()\n",
    "\n",
    "plt.title(f'{sensor1} vs {sensor2}')\n",
    "sensor1_norm.loc['2023-12-01':].plot(label=sensor1)\n",
    "sensor2_norm.loc['2023-12-01':].plot(label=sensor2)\n",
    "plt.legend()    \n",
    "plt.show()"
   ]
  },
  {
   "cell_type": "code",
   "execution_count": null,
   "id": "e30cdbdf",
   "metadata": {},
   "outputs": [],
   "source": [
    "sensor1 = 'pm25'\n",
    "sensor2 = 'nox'\n",
    "\n",
    "sensor1_norm = (df_spatial_d[sensor1]-df_spatial_d[sensor1].mean())/df_spatial_d[sensor1].std()\n",
    "sensor2_norm = (df_spatial_d[sensor2]-df_spatial_d[sensor2].mean())/df_spatial_d[sensor2].std()\n",
    "\n",
    "plt.title(f'{sensor1} vs {sensor2}')\n",
    "sensor1_norm.plot(label=sensor1)\n",
    "sensor2_norm.plot(label=sensor2)\n",
    "plt.legend()    \n",
    "plt.show()"
   ]
  },
  {
   "cell_type": "markdown",
   "id": "18471006",
   "metadata": {},
   "source": [
    "## 2d) Spatial aggregation - Time of day"
   ]
  },
  {
   "cell_type": "code",
   "execution_count": null,
   "id": "4a8b9af0",
   "metadata": {},
   "outputs": [],
   "source": [
    "df_spatial['hour'] = df_spatial.index.hour\n",
    "\n",
    "for sensor in sensors:\n",
    "    hourly_avg = df_spatial.groupby('hour')[sensor].mean()\n",
    "    hourly_avg.plot(kind='bar')\n",
    "    plt.title(f'Spatial Average {sensor} by Time of Day')\n",
    "    plt.ylabel(sensor)\n",
    "    plt.xlabel('Hour of Day')\n",
    "    plt.xticks(range(0, 24))\n",
    "    plt.show()"
   ]
  },
  {
   "cell_type": "markdown",
   "id": "76e24201",
   "metadata": {},
   "source": [
    "## 2e) Spatial aggregation - Day of week"
   ]
  },
  {
   "cell_type": "code",
   "execution_count": null,
   "id": "931d1d30",
   "metadata": {},
   "outputs": [],
   "source": [
    "for sensor in sensors:\n",
    "    weekday_avg = df_spatial_d.groupby(df_spatial_d.index.dayofweek)[sensor].mean()\n",
    "    weekday_avg.index = ['Mon', 'Tue', 'Wed', 'Thu', 'Fri', 'Sat', 'Sun']\n",
    "\n",
    "    weekday_avg.plot(kind='bar')\n",
    "    plt.title(f'Average {sensor} by Day of week')\n",
    "    plt.ylabel(sensor)\n",
    "    plt.xlabel('Day of week')\n",
    "    plt.show()"
   ]
  },
  {
   "cell_type": "markdown",
   "id": "567805d6",
   "metadata": {},
   "source": [
    "## 3a) Autocorrelation"
   ]
  },
  {
   "cell_type": "code",
   "execution_count": null,
   "id": "034e147d",
   "metadata": {},
   "outputs": [],
   "source": [
    "lags = range(1, 48)\n",
    "for sensor in sensors:\n",
    "    \n",
    "    data = df_spatial[sensor].dropna()\n",
    "    \n",
    "    plot_acf(data, lags=lags)\n",
    "    plt.xlabel('Lag (h)')\n",
    "    plt.ylabel('Autocorrelation')\n",
    "    plt.title(f'Autocorrelation of {sensor}')\n",
    "    plt.ylim([-0.25,1])\n",
    "    plt.show()\n",
    "    \n",
    "    plot_pacf(data, lags=lags)\n",
    "    plt.xlabel('Lag (h)')\n",
    "    plt.ylabel('Partial Autocorrelation')\n",
    "    plt.title(f'Partial Autocorrelation of {sensor}')\n",
    "    plt.ylim([-0.25,1])\n",
    "    plt.show()"
   ]
  },
  {
   "cell_type": "code",
   "execution_count": null,
   "id": "09fdee21",
   "metadata": {},
   "outputs": [],
   "source": [
    "lags = range(1, 30)\n",
    "for sensor in sensors:\n",
    "    \n",
    "    data = df_spatial_d[sensor].dropna()\n",
    "    \n",
    "    plot_acf(data, lags=lags)\n",
    "    plt.xlabel('Lag (d)')\n",
    "    plt.ylabel('Autocorrelation')\n",
    "    plt.title(f'Autocorrelation of {sensor}')\n",
    "    plt.ylim([-0.75,0.75])\n",
    "    plt.show()\n",
    "    \n",
    "    plot_pacf(data, lags=lags)\n",
    "    plt.xlabel('Lag (d)')\n",
    "    plt.ylabel('Partial Autocorrelation')\n",
    "    plt.title(f'Partial Autocorrelation of {sensor}')\n",
    "    plt.ylim([-0.75,0.75])\n",
    "    plt.show()"
   ]
  },
  {
   "cell_type": "markdown",
   "id": "d1d76428",
   "metadata": {},
   "source": [
    "## 3b) Cross-Correlation"
   ]
  },
  {
   "cell_type": "code",
   "execution_count": null,
   "id": "7f09b019",
   "metadata": {},
   "outputs": [],
   "source": [
    "sensor1 = 'pm25'\n",
    "sensor2 = 'nox'"
   ]
  },
  {
   "cell_type": "code",
   "execution_count": null,
   "id": "a065a597",
   "metadata": {},
   "outputs": [],
   "source": [
    "lags = range(-47, 48)\n",
    "cross_corr_values = [\n",
    "    df_spatial[sensor1].dropna().corr(df_spatial[sensor2].dropna().shift(lag))\n",
    "    for lag in lags\n",
    "]\n",
    "\n",
    "plt.bar(lags, cross_corr_values)\n",
    "plt.xlabel('Lag (h)')\n",
    "plt.ylabel('Cross-Correlation')\n",
    "plt.title(f'Cross-Correlation {sensor1} - {sensor2}')\n",
    "plt.show()\n",
    "\n",
    "plot_acf(cross_corr_values, lags=lags)\n",
    "plt.xlabel('Lag (h)')\n",
    "plt.ylabel('Cross-Correlation')\n",
    "plt.title(f'Cross-Correlation {sensor1} - {sensor2}')\n",
    "plt.show()\n",
    "\n",
    "plot_pacf(cross_corr_values, lags=lags)\n",
    "plt.xlabel('Lag (h)')\n",
    "plt.ylabel('Partial Cross-Correlation')\n",
    "plt.title(f'Partial Cross-Correlation {sensor1} - {sensor2}')\n",
    "plt.show()"
   ]
  },
  {
   "cell_type": "code",
   "execution_count": null,
   "id": "e643c106",
   "metadata": {},
   "outputs": [],
   "source": [
    "lags = range(-29, 30)\n",
    "cross_corr_values = [\n",
    "    df_spatial_d[sensor1].dropna().corr(df_spatial_d[sensor2].dropna().shift(lag))\n",
    "    for lag in lags\n",
    "]\n",
    "\n",
    "plt.bar(lags, cross_corr_values)\n",
    "plt.xlabel('Lag (d)')\n",
    "plt.ylabel('Cross-Correlation')\n",
    "plt.title(f'Cross-Correlation {sensor1} - {sensor2}')\n",
    "plt.show()\n",
    "\n",
    "plot_acf(cross_corr_values, lags=lags)\n",
    "plt.xlabel('Lag (d)')\n",
    "plt.ylabel('Cross-Correlation')\n",
    "plt.title(f'Cross-Correlation {sensor1} - {sensor2}')\n",
    "plt.show()\n",
    "\n",
    "plot_pacf(cross_corr_values, lags=lags)\n",
    "plt.xlabel('Lag (h)')\n",
    "plt.ylabel('Partial Cross-Correlation')\n",
    "plt.title(f'Partial Cross-Correlation {sensor1} - {sensor2}')\n",
    "plt.show()"
   ]
  },
  {
   "cell_type": "markdown",
   "id": "04aadc95",
   "metadata": {},
   "source": [
    "## Stationarity - Visual estimation"
   ]
  },
  {
   "cell_type": "code",
   "execution_count": null,
   "id": "2fcf21d5",
   "metadata": {},
   "outputs": [],
   "source": [
    "days = 7\n",
    "for sensor in sensors:\n",
    "    df_spatial_d[sensor].rolling(days).mean().plot()\n",
    "    plt.title(f'Rolling Average {days}d {sensor}')\n",
    "    plt.show()"
   ]
  },
  {
   "cell_type": "code",
   "execution_count": null,
   "id": "a1111c76",
   "metadata": {},
   "outputs": [],
   "source": [
    "for sensor in sensors:\n",
    "    df_spatial_d[sensor].rolling(days).std().plot()\n",
    "    plt.title(f'Rolling Standard Deviation {days}d {sensor}')\n",
    "    plt.show()"
   ]
  },
  {
   "cell_type": "markdown",
   "id": "49b3f475",
   "metadata": {},
   "source": [
    "## Seasonal decomposition - `multiplicative`"
   ]
  },
  {
   "cell_type": "code",
   "execution_count": null,
   "id": "6c19784f",
   "metadata": {},
   "outputs": [],
   "source": [
    "from statsmodels.tsa.seasonal import seasonal_decompose\n",
    "\n",
    "for sensor in sensors:\n",
    "    decomposition = seasonal_decompose(df_spatial_d[sensor], model='multiplicative')\n",
    "\n",
    "    fig = decomposition.plot()\n",
    "    fig.axes[0].set_ylabel('Original')\n",
    "    fig.axes[3].lines[0].set_markersize(3)\n",
    "    fig.axes[3].set_xlabel('Time')"
   ]
  },
  {
   "cell_type": "markdown",
   "id": "441110de",
   "metadata": {},
   "source": [
    "## Seasonal decomposition - `additive`"
   ]
  },
  {
   "cell_type": "code",
   "execution_count": null,
   "id": "1410fc30",
   "metadata": {},
   "outputs": [],
   "source": [
    "for sensor in sensors:\n",
    "    decomposition = seasonal_decompose(df_spatial_d[sensor], model='additive')\n",
    "\n",
    "    fig = decomposition.plot()\n",
    "    fig.axes[0].set_ylabel('Original')\n",
    "    fig.axes[3].lines[0].set_markersize(3)\n",
    "    fig.axes[3].set_xlabel('Time')"
   ]
  },
  {
   "cell_type": "markdown",
   "id": "cdae7b96",
   "metadata": {},
   "source": [
    "## Weather seasonality - split 1st November"
   ]
  },
  {
   "cell_type": "code",
   "execution_count": null,
   "id": "d7bfd45f",
   "metadata": {},
   "outputs": [],
   "source": [
    "day = '2023-11-01'\n",
    "\n",
    "df_spatial_d_summer = df_spatial_d.loc[:day]\n",
    "df_spatial_d_winter = df_spatial_d.loc[day:]"
   ]
  },
  {
   "cell_type": "code",
   "execution_count": null,
   "id": "27ff15e7",
   "metadata": {},
   "outputs": [],
   "source": [
    "for sensor in sensors:\n",
    "    decomposition = seasonal_decompose(df_spatial_d_summer[sensor], model='additive')\n",
    "\n",
    "    fig = decomposition.plot()\n",
    "    fig.axes[0].set_title(f'Summer {sensor}')\n",
    "    fig.axes[0].set_ylabel('Original')\n",
    "    fig.axes[3].lines[0].set_markersize(3)\n",
    "    fig.axes[3].set_xlabel('Time')"
   ]
  },
  {
   "cell_type": "code",
   "execution_count": null,
   "id": "a8ba65f1",
   "metadata": {},
   "outputs": [],
   "source": [
    "for sensor in sensors:\n",
    "    decomposition = seasonal_decompose(df_spatial_d_winter[sensor], model='additive')\n",
    "\n",
    "    fig = decomposition.plot()\n",
    "    fig.axes[0].set_title(f'Winter {sensor}')\n",
    "    fig.axes[0].set_ylabel('Original')\n",
    "    fig.axes[3].lines[0].set_markersize(3)\n",
    "    fig.axes[3].set_xlabel('Time')"
   ]
  },
  {
   "cell_type": "code",
   "execution_count": null,
   "id": "671c0683",
   "metadata": {},
   "outputs": [],
   "source": [
    "for sensor in sensors:\n",
    "    \n",
    "    adfstat, pvalue, usedlag, nobs, critvalues, icbest = adfuller(df_spatial[sensor].dropna())\n",
    "\n",
    "    print(sensor)\n",
    "    print('Statistic: %0.02f' % adfstat)\n",
    "    print('pvalue:    %0.03f' % pvalue, '\\n')"
   ]
  },
  {
   "cell_type": "code",
   "execution_count": null,
   "id": "ccdd07d6",
   "metadata": {},
   "outputs": [],
   "source": [
    "for sensor in sensors:\n",
    "    \n",
    "    adfstat, pvalue, usedlag, nobs, critvalues, icbest = adfuller(df_spatial_d[sensor].dropna())\n",
    "\n",
    "    print(sensor)\n",
    "    print('Statistic: %0.02f' % adfstat)\n",
    "    print('pvalue:    %0.03f' % pvalue, '\\n')"
   ]
  },
  {
   "cell_type": "code",
   "execution_count": null,
   "id": "af2e80c6",
   "metadata": {},
   "outputs": [],
   "source": [
    "for sensor in sensors:\n",
    "    \n",
    "    adfstat, pvalue, usedlag, nobs, critvalues, icbest = adfuller(df_spatial_d_summer[sensor].dropna())\n",
    "\n",
    "    print(sensor)\n",
    "    print('Statistic: %0.02f' % adfstat)\n",
    "    print('pvalue:    %0.03f' % pvalue, '\\n')"
   ]
  },
  {
   "cell_type": "code",
   "execution_count": null,
   "id": "7f8fa9be",
   "metadata": {},
   "outputs": [],
   "source": [
    "for sensor in sensors:\n",
    "    \n",
    "    adfstat, pvalue, usedlag, nobs, critvalues, icbest = adfuller(df_spatial_d_winter[sensor].dropna())\n",
    "\n",
    "    print(sensor)\n",
    "    print('Statistic: %0.02f' % adfstat)\n",
    "    print('pvalue:    %0.03f' % pvalue, '\\n')"
   ]
  }
 ],
 "metadata": {
  "kernelspec": {
   "display_name": "Python 3 (ipykernel)",
   "language": "python",
   "name": "python3"
  },
  "language_info": {
   "codemirror_mode": {
    "name": "ipython",
    "version": 3
   },
   "file_extension": ".py",
   "mimetype": "text/x-python",
   "name": "python",
   "nbconvert_exporter": "python",
   "pygments_lexer": "ipython3",
   "version": "3.10.16"
  }
 },
 "nbformat": 4,
 "nbformat_minor": 5
}
