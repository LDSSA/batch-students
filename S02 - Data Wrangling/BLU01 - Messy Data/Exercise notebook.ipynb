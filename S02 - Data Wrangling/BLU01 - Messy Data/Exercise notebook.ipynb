{
 "cells": [
  {
   "cell_type": "markdown",
   "metadata": {
    "deletable": false,
    "editable": false,
    "nbgrader": {
     "grade": false,
     "grade_id": "cell-1b6b75485105e36c",
     "locked": true,
     "schema_version": 3,
     "solution": false
    }
   },
   "source": [
    "# BLU01 - Exercises Notebook"
   ]
  },
  {
   "cell_type": "markdown",
   "metadata": {},
   "source": [
    "**Important Note**\n",
    "\n",
    "Attention Windows users: The grader will run on Linux, and using power shell statements will not work."
   ]
  },
  {
   "cell_type": "code",
   "execution_count": null,
   "metadata": {
    "deletable": false,
    "editable": false,
    "nbgrader": {
     "grade": false,
     "grade_id": "cell-0240afddd4fae69d",
     "locked": true,
     "schema_version": 3,
     "solution": false
    }
   },
   "outputs": [],
   "source": [
    "import chardet\n",
    "import hashlib # for grading purposes\n",
    "import math\n",
    "import numpy as np\n",
    "import csv\n",
    "import pandas as pd\n",
    "import random"
   ]
  },
  {
   "cell_type": "markdown",
   "metadata": {
    "deletable": false,
    "editable": false,
    "nbgrader": {
     "grade": false,
     "grade_id": "cell-93e0b4e1a40ebaaa",
     "locked": true,
     "schema_version": 3,
     "solution": false
    }
   },
   "source": [
    "## Q1: Use a shell command to count lines\n",
    "\n",
    "Count the total number of lines of files data/exercises/dog.txt and data/exercises/dog_intelligence.txt and store the result in variable called count_total.  \n",
    "There is more than one way to do this. Hint: concatenate both files.\n",
    "\n",
    "\n",
    "\n"
   ]
  },
  {
   "cell_type": "code",
   "execution_count": null,
   "metadata": {
    "deletable": false,
    "nbgrader": {
     "grade": false,
     "grade_id": "cell-05a3d2245d57305d",
     "locked": false,
     "schema_version": 3,
     "solution": true
    }
   },
   "outputs": [],
   "source": [
    "# count_total = ...\n",
    "# YOUR CODE HERE\n",
    "raise NotImplementedError()"
   ]
  },
  {
   "cell_type": "code",
   "execution_count": null,
   "metadata": {
    "deletable": false,
    "editable": false,
    "nbgrader": {
     "grade": true,
     "grade_id": "cell-2e69c6137e73d90c",
     "locked": true,
     "points": 2,
     "schema_version": 3,
     "solution": false
    }
   },
   "outputs": [],
   "source": [
    "expected_hash = '2c624232cdd221771294dfbb310aca000a0df6ac8b66b696d90ef06fdefb64a3'\n",
    "assert hashlib.sha256(str(count_total).encode()).hexdigest() == expected_hash, \"count_total is wrong\""
   ]
  },
  {
   "cell_type": "markdown",
   "metadata": {},
   "source": [
    "![title](./media/dog_1.jpeg)\n",
    "\n",
    "\n",
    "Now store in 2 variables the first fourth and the last fourth of the lines of the file data/exercises/dog.txt."
   ]
  },
  {
   "cell_type": "code",
   "execution_count": null,
   "metadata": {
    "deletable": false,
    "nbgrader": {
     "grade": false,
     "grade_id": "cell-14cf2619322a8763",
     "locked": false,
     "schema_version": 3,
     "solution": true
    }
   },
   "outputs": [],
   "source": [
    "# NOT GRADED optional exercise!!\n",
    "# Add the first and last fourth of the lines to the variables first_third and last_third. \n",
    "# Make it work to any files using count_total_dog / 4 for instance in the bash commands\n",
    "# count_total_dog = \n",
    "# first_fourth = ...\n",
    "# last_fourth = ...\n",
    "# YOUR CODE HERE\n",
    "raise NotImplementedError()"
   ]
  },
  {
   "cell_type": "code",
   "execution_count": null,
   "metadata": {
    "deletable": false,
    "editable": false,
    "nbgrader": {
     "grade": true,
     "grade_id": "cell-20d96111430874d4",
     "locked": true,
     "points": 0,
     "schema_version": 3,
     "solution": false,
     "task": false
    }
   },
   "outputs": [],
   "source": [
    "# Test the first_fourth and last_fourth exercise by running the following (ungraded) asserts.\n",
    "assert first_fourth[-1][0] == 'T'\n",
    "assert last_fourth[0][0] == 'S'"
   ]
  },
  {
   "cell_type": "markdown",
   "metadata": {
    "deletable": false,
    "editable": false,
    "nbgrader": {
     "grade": false,
     "grade_id": "cell-e27cb8588bb5fd40",
     "locked": true,
     "schema_version": 3,
     "solution": false
    }
   },
   "source": [
    "## Q2: Read a file with specific delimiter\n",
    "\n",
    "Read file **data/exercises/breed_info.csv** into a pandas DataFrame. This file contains information about dog breeds, including minimum and maximum heights and weights.\n",
    "\n",
    "First, you should preview the file using a shell command in order to find out the used delimiter, and other properties of this file.\n",
    "\n",
    "Then, you should use the function read_csv to read the data into a DataFrame. The resulting DataFrame should have the first column as index."
   ]
  },
  {
   "cell_type": "code",
   "execution_count": null,
   "metadata": {
    "deletable": false,
    "nbgrader": {
     "grade": false,
     "grade_id": "cell-942e0590467e20d9",
     "locked": false,
     "schema_version": 3,
     "solution": true
    },
    "tags": []
   },
   "outputs": [],
   "source": [
    "# Use a shell command to preview the data\n",
    "# ! ...\n",
    "# YOUR CODE HERE\n",
    "raise NotImplementedError()\n",
    "\n",
    "# Use function read_csv to read the data into a DataFrame\n",
    "# df2 = pd.read_csv(...)\n",
    "# YOUR CODE HERE\n",
    "raise NotImplementedError()"
   ]
  },
  {
   "cell_type": "code",
   "execution_count": null,
   "metadata": {
    "deletable": false,
    "editable": false,
    "nbgrader": {
     "grade": true,
     "grade_id": "cell-0c275c9acaa9c74d",
     "locked": true,
     "points": 2,
     "schema_version": 3,
     "solution": false
    }
   },
   "outputs": [],
   "source": [
    "assert df2.loc['Bernese Mountain Dog', 'height_low_inches'] == 23.0, \"df2 data is wrong, the lower range of the height of the Bernese Mountain Dog is incorrect.\"\n",
    "assert len(df2.columns) == 5, \"df2 data is wrong, the number of columns does not match what is expected.\"\n",
    "assert len(df2) == 148, \"df2 data is wrong, the length is different than expected.\"\n",
    "assert df2.index[34] == 'English Setter', \"df2 data is wrong, the positions are wrong.\"\n",
    "\n",
    "expected_hash = 'd1ac8a80937c65bd103bb3aab437b45ee947eff75901f671d68f895e35eb09d2'\n",
    "assert hashlib.sha256(df2.index.name.encode()).hexdigest() == expected_hash"
   ]
  },
  {
   "cell_type": "markdown",
   "metadata": {
    "deletable": false,
    "editable": false,
    "nbgrader": {
     "grade": false,
     "grade_id": "cell-f6f9efef818e4a83",
     "locked": true,
     "schema_version": 3,
     "solution": false
    }
   },
   "source": [
    "## Q3: Read a csv file with problems\n",
    "\n",
    "Read file **data/exercises/breed_info_w_problems.csv** using function `read_csv`. Pay attention to the following:\n",
    "* use the first column as index\n",
    "* there are some inputs in the file that should be interpreted as NaN, make sure you select the right one when reading the file!"
   ]
  },
  {
   "cell_type": "code",
   "execution_count": null,
   "metadata": {
    "deletable": false,
    "nbgrader": {
     "grade": false,
     "grade_id": "cell-2771b707556c08d2",
     "locked": false,
     "schema_version": 3,
     "solution": true
    }
   },
   "outputs": [],
   "source": [
    "# Read file data/exercises/breed_info_w_problems.csv with read_csv\n",
    "# df3 = pd.read_csv(...)\n",
    "# YOUR CODE HERE\n",
    "raise NotImplementedError()"
   ]
  },
  {
   "cell_type": "code",
   "execution_count": null,
   "metadata": {
    "deletable": false,
    "editable": false,
    "nbgrader": {
     "grade": true,
     "grade_id": "cell-601b354802964776",
     "locked": true,
     "points": 2,
     "schema_version": 3,
     "solution": false
    }
   },
   "outputs": [],
   "source": [
    "assert np.isnan(df3.loc['Poodle Standard','weight_high_lbs']), \"df3 data is wrong, there seems to be inputs that were not interpreted as NaN.\"\n",
    "assert df3.loc['Kuvasz', 'weight_low_lbs'] == 70, \"df3  data is wrong, the lower range of the weight of the Kuvasz cannot be found.\"\n",
    "assert df3.index[3] == 'Bloodhound', \"df3 data is wrong, the positions of the object are wrong.\"\n",
    "\n",
    "expected_hash = 'd1ac8a80937c65bd103bb3aab437b45ee947eff75901f671d68f895e35eb09d2'\n",
    "assert hashlib.sha256(df3.index.name.encode()).hexdigest() == expected_hash"
   ]
  },
  {
   "cell_type": "markdown",
   "metadata": {
    "deletable": false,
    "editable": false,
    "nbgrader": {
     "grade": false,
     "grade_id": "cell-5cfd5a97b1c49a0e",
     "locked": true,
     "schema_version": 3,
     "solution": false
    }
   },
   "source": [
    "## Q4: Repair a csv file after importing\n",
    "Read a new file **data/exercises/pet_stats.csv** using the function `csv.reader()`. This file includes information about the different pet populations. Be sure you don't miss any lines with relevant information! \n",
    "\n",
    "* use the csv module to import everything to a list of lists\n",
    "* create a df with information from the first four columns (countries)\n",
    "* format the columns with the right type (don't forget to change the date from a string)\n",
    "* set the index of the df to the `country`"
   ]
  },
  {
   "cell_type": "code",
   "execution_count": null,
   "metadata": {
    "deletable": false,
    "nbgrader": {
     "grade": false,
     "grade_id": "cell-119041388e17fb72",
     "locked": false,
     "schema_version": 3,
     "solution": true
    }
   },
   "outputs": [],
   "source": [
    "# Read file data/exercises/microsoft_info_w_problems.csv using csv.reader() and add result to\n",
    "# lines = ...\n",
    "# YOUR CODE HERE\n",
    "raise NotImplementedError()\n",
    "# create a dataframe using the line list with only 7 columns (country and pet types)\n",
    "# df4 = pd.DataFrame(...\n",
    "# YOUR CODE HERE\n",
    "raise NotImplementedError()\n",
    "# replace empty values with nan (np.nan)\n",
    "# YOUR CODE HERE\n",
    "raise NotImplementedError()\n",
    "# set types per dataframe column, including the country. Always use float64 when floats are needed.\n",
    "# YOUR CODE HERE\n",
    "raise NotImplementedError()\n",
    "# set country as the new index of the dataframe\n",
    "# YOUR CODE HERE\n",
    "raise NotImplementedError()"
   ]
  },
  {
   "cell_type": "code",
   "execution_count": null,
   "metadata": {
    "deletable": false,
    "editable": false,
    "nbgrader": {
     "grade": true,
     "grade_id": "cell-a42299f9047590d5",
     "locked": true,
     "points": 2,
     "schema_version": 3,
     "solution": false
    }
   },
   "outputs": [],
   "source": [
    "assert np.isnan(df4.loc['Estonia', 'bird_pop']), \"df4 content is wrong\"\n",
    "assert df4.loc['Slovakia', 'cat_pop'] == 32000, \"df4 content is wrong\"\n",
    "\n",
    "mean_cat_pop = df4['cat_pop'].mean()\n",
    "assert math.isclose(6915800.0, mean_cat_pop, rel_tol=1e-3), \"df4 content is wrong\"\n",
    "\n",
    "assert df4['bird_pop'].dtype == np.float64, \"df4 types are wrong\"\n",
    "assert df4.index.dtype == np.dtype('object'), \"df4 types are wrong\"\n",
    "\n",
    "expected_hash = 'aff64e4fd520bd185cb01adab98d2d20060f621c62d5cad5204712cfa2294ef7'\n",
    "assert hashlib.sha256(df4.index.name.encode()).hexdigest() == expected_hash"
   ]
  },
  {
   "cell_type": "markdown",
   "metadata": {
    "deletable": false,
    "editable": false,
    "nbgrader": {
     "grade": false,
     "grade_id": "cell-389bc42fe462c70e",
     "locked": true,
     "schema_version": 3,
     "solution": false
    }
   },
   "source": [
    "## Q5: Read a JSON file\n",
    "\n",
    "Read the file **data/exercises/dog_pop_country_2023.json**."
   ]
  },
  {
   "cell_type": "code",
   "execution_count": null,
   "metadata": {
    "deletable": false,
    "nbgrader": {
     "grade": false,
     "grade_id": "cell-5c2125479f7e50e5",
     "locked": false,
     "schema_version": 3,
     "solution": true
    }
   },
   "outputs": [],
   "source": [
    "# Read file data/exercises/dog_pop_country_2023.json with read_json\n",
    "# df5 = read_json(...)\n",
    "# YOUR CODE HERE\n",
    "raise NotImplementedError()"
   ]
  },
  {
   "cell_type": "code",
   "execution_count": null,
   "metadata": {
    "deletable": false,
    "editable": false,
    "nbgrader": {
     "grade": true,
     "grade_id": "cell-3f085fa2cdad9319",
     "locked": true,
     "points": 2,
     "schema_version": 3,
     "solution": false
    }
   },
   "outputs": [],
   "source": [
    "assert len(df5) == 37\n",
    "assert set(df5.columns) == {'EstimatedDogPopulation', 'dogsPerPerson'}, \"df5 columns are wrong\"\n",
    "\n",
    "expected_hash = 'fab1d9dc541cefd3541a1ca75af65d04d5eb3e035369c8ef7d50c4b12282d121'\n",
    "assert hashlib.sha256(str(df5.loc[:,'dogsPerPerson'].sum()).encode()).hexdigest() == expected_hash, \"df5 content is wrong\""
   ]
  },
  {
   "cell_type": "markdown",
   "metadata": {
    "deletable": false,
    "editable": false,
    "nbgrader": {
     "grade": false,
     "grade_id": "cell-4d4b970f55b3e427",
     "locked": true,
     "schema_version": 3,
     "solution": false
    }
   },
   "source": [
    "## Q6: Read an Excel file\n",
    "\n",
    "Read file **data/exercises/dog_breeds.xlsx** using function read_excel. This file has info on different dog breeds, namely behavioural and size characteristics. In this exercise, please do the following:\n",
    "\n",
    "* you should grab the dat in sheet \"breed_info\"\n",
    "* use column 'Name' as index\n",
    "* make sure you keep only the rows and columns with data\n",
    "* set the variable best_dogs_w_children with the number of dogs with the maximum score for 'good_with_children'"
   ]
  },
  {
   "cell_type": "code",
   "execution_count": null,
   "metadata": {
    "deletable": false,
    "nbgrader": {
     "grade": false,
     "grade_id": "cell-017a7c31b0ddc38e",
     "locked": false,
     "schema_version": 3,
     "solution": true
    }
   },
   "outputs": [],
   "source": [
    "# Read file data/exercises/dog_breeds.xlsx with read_excel\n",
    "# df6 = read_excel(...)\n",
    "# YOUR CODE HERE\n",
    "raise NotImplementedError()\n",
    "\n",
    "# best_dogs_w_children = ...\n",
    "# YOUR CODE HERE\n",
    "raise NotImplementedError()"
   ]
  },
  {
   "cell_type": "code",
   "execution_count": null,
   "metadata": {
    "deletable": false,
    "editable": false,
    "nbgrader": {
     "grade": true,
     "grade_id": "cell-91d5f07e40585680",
     "locked": true,
     "points": 2,
     "schema_version": 3,
     "solution": false
    }
   },
   "outputs": [],
   "source": [
    "assert best_dogs_w_children == 42\n",
    "assert isinstance(df6, pd.DataFrame)\n",
    "expected_hash = 'f0a0278e4372459cca6159cd5e71cfee638302a7b9ca9b05c34181ac0a65ac5d'\n",
    "assert hashlib.sha256(\n",
    "        df6.loc['Hovawart', 'good_with_strangers']\n",
    "    ).hexdigest() == expected_hash, \"df6 is wrong\""
   ]
  },
  {
   "cell_type": "markdown",
   "metadata": {
    "deletable": false,
    "editable": false,
    "nbgrader": {
     "grade": false,
     "grade_id": "cell-4a7407517d4d92c3",
     "locked": true,
     "schema_version": 3,
     "solution": false
    }
   },
   "source": [
    "## Q7: Find the encoding of a file\n",
    "\n",
    "Find the encoding used in file **data/exercises/dogs_intelligence_sample.csv**, using the method that was shown in the Learning Units.\n",
    "\n",
    "Then, read the data into a DataFrame, using the read_csv method and find the `Breed` with an upper limit of repetitions to understand new commands (`reps_upper`) of 15."
   ]
  },
  {
   "cell_type": "code",
   "execution_count": null,
   "metadata": {
    "deletable": false,
    "nbgrader": {
     "grade": false,
     "grade_id": "cell-bd6944fd63bb38d8",
     "locked": false,
     "schema_version": 3,
     "solution": true
    }
   },
   "outputs": [],
   "source": [
    "# Find the encoding of file data/exercises/dogs_intelligence_sample.csv\n",
    "# encoding = ...\n",
    "# YOUR CODE HERE\n",
    "raise NotImplementedError()\n",
    "# Read the file into a DataFrame\n",
    "# df7 = ...\n",
    "# YOUR CODE HERE\n",
    "raise NotImplementedError()\n",
    "\n",
    "# Breed with reps_upper equal to 15\n",
    "# city_found = .... (assign a string)\n",
    "# YOUR CODE HERE\n",
    "raise NotImplementedError()"
   ]
  },
  {
   "cell_type": "code",
   "execution_count": null,
   "metadata": {
    "deletable": false,
    "editable": false,
    "nbgrader": {
     "grade": true,
     "grade_id": "cell-687fb83c97e03355",
     "locked": true,
     "points": 2,
     "schema_version": 3,
     "solution": false
    }
   },
   "outputs": [],
   "source": [
    "assert isinstance(df7, pd.DataFrame)\n",
    "\n",
    "expected_hash_1 = 'c543ece81605c7d202121c62080a0db4020fc2c75bfac35d101d7f3e93c93949'\n",
    "assert hashlib.sha256(encoding.encode()).hexdigest() == expected_hash_1, \"encoding is wrong\"\n",
    "\n",
    "expected_hash_2 = '0d9abf1f6b31fb0cdc875d352b47751ce91ca57075087365502ea648b3329a19'\n",
    "assert hashlib.sha256(breed_found.encode()).hexdigest() == expected_hash_2, \"breed_found is wrong\""
   ]
  },
  {
   "cell_type": "markdown",
   "metadata": {
    "deletable": false,
    "editable": false,
    "nbgrader": {
     "grade": false,
     "grade_id": "cell-d103dfae3d5e11fe",
     "locked": true,
     "schema_version": 3,
     "solution": false
    }
   },
   "source": [
    "## Q8: Import a Random Sample of a Big File\n",
    "\n",
    "Consider the file **data/exercises/dog_intelligence.tsv**. Let's imagine this file is really huge, with a lot of rows!  Read the file using a random sample of 10 rows. Count the actual lines with `wc` "
   ]
  },
  {
   "cell_type": "code",
   "execution_count": null,
   "metadata": {
    "deletable": false,
    "nbgrader": {
     "grade": false,
     "grade_id": "cell-fb39107093dd73fb",
     "locked": false,
     "schema_version": 3,
     "solution": true
    }
   },
   "outputs": [],
   "source": [
    "# Read file data/exercises/dog_intelligence.tsv with wc and save the number of lines\n",
    "# in lines_in_file (as an integer), using \n",
    "# lines_in_file = ...\n",
    "# Notice that the header is not a line..\n",
    "\n",
    "# YOUR CODE HERE\n",
    "raise NotImplementedError()\n",
    "\n",
    "# make parameter rows_to_skip equal to the lines you want to skip loading \n",
    "# don't forget: 10 rows should be fetched\n",
    "# rows_to_skip = ...\n",
    "# YOUR CODE HERE\n",
    "raise NotImplementedError()\n",
    "# Create a df8 dataframe with the sampled values\n",
    "# don't forget: you want to keep the header plus 10 rows in the new dataframe.\n",
    "# YOUR CODE HERE\n",
    "raise NotImplementedError()"
   ]
  },
  {
   "cell_type": "code",
   "execution_count": null,
   "metadata": {
    "deletable": false,
    "editable": false,
    "nbgrader": {
     "grade": true,
     "grade_id": "cell-ec15a8be42137a01",
     "locked": true,
     "points": 2,
     "schema_version": 3,
     "solution": false
    }
   },
   "outputs": [],
   "source": [
    "# getting remaining list of dog breeds, removing rows_to_skip from the file\n",
    "df_helper = pd.read_csv( \n",
    "    'data/exercises/dog_intelligence.tsv', \n",
    "    sep='\\t',\n",
    "    header=0 \n",
    ")\n",
    "\n",
    "total_indexes = list(df_helper.index)\n",
    "for s in rows_to_skip:\n",
    "    total_indexes.remove(s-1)\n",
    "\n",
    "expected_hash = '13671077b66a29874a2578b5240319092ef2a1043228e433e9b006b5e53e7513'\n",
    "assert hashlib.sha256(str(lines_in_file).encode()).hexdigest() == expected_hash, \"lines_in_file are wrong\"\n",
    "assert isinstance(df8, pd.DataFrame)\n",
    "assert list(df8['Breed'])==list(df_helper.iloc[total_indexes]['Breed'])\n",
    "assert df8.shape[0]==11, \"df8 size is wrong\"\n",
    "\n",
    "expected_hash = 'e7f6c011776e8db7cd330b54174fd76f7d0216b612387a5ffcfb81e6f0919683'\n",
    "assert  hashlib.sha256(str(df8.shape[1]).encode()).hexdigest() == expected_hash\n"
   ]
  },
  {
   "cell_type": "markdown",
   "metadata": {
    "deletable": false,
    "editable": false,
    "nbgrader": {
     "grade": false,
     "grade_id": "cell-f87e07a7b2cacd9d",
     "locked": true,
     "schema_version": 3,
     "solution": false
    }
   },
   "source": [
    "## Q9: Loading a Big File\n",
    "\n",
    "Read file **data/exercises/dog_intelligence.tsv** using chunks keep only the columns `Breed`, `Classification`, and `obey`.\n",
    "\n",
    "Note that:\n",
    "* the file should be read in chunks of 20 breeds\n",
    "* the missing values for `Classification` should be removed (filtered in each chunk)\n",
    "* the `obey` should be converted to type float (in each chunk)\n",
    "* the index should be incremental starting from 0 (i.e, you don't need to read any column as the index)\n",
    "\n",
    "At the end, calculate the average `obey`\n",
    "\n",
    "Tip: Be sure you investigate the data you are about to load before doing any code."
   ]
  },
  {
   "cell_type": "code",
   "execution_count": null,
   "metadata": {
    "deletable": false,
    "nbgrader": {
     "grade": false,
     "grade_id": "cell-5106c25a705296e8",
     "locked": false,
     "schema_version": 3,
     "solution": true
    }
   },
   "outputs": [],
   "source": [
    "# Read file data/exercises/dog_intelligence.tsv\n",
    "# the chunks should be appended in a list called chunk_arr\n",
    "# YOUR CODE HERE\n",
    "raise NotImplementedError()\n",
    "\n",
    "# df9 should be the final dataframe with concatenated chunks\n",
    "# Resulting average should go on lit_avg variable\n",
    "# YOUR CODE HERE\n",
    "raise NotImplementedError()"
   ]
  },
  {
   "cell_type": "code",
   "execution_count": null,
   "metadata": {
    "deletable": false,
    "editable": false,
    "nbgrader": {
     "grade": true,
     "grade_id": "cell-f60a22c3465d5b83",
     "locked": true,
     "points": 2,
     "schema_version": 3,
     "solution": false
    }
   },
   "outputs": [],
   "source": [
    "expected_hash = 'f66229d92035c72b54407f3bc882eaadff7e3b97969f785c4b5caf4bca46e84f'\n",
    "assert hashlib.sha256(str([len(c) for c in chunk_arr]).encode()).hexdigest() == expected_hash, \"error on chunk_arr sizes, did you correctly remove the missing values?\"\n",
    "\n",
    "assert df9.loc[df9['Breed']=='Basenji', 'obey'].values[0] == 10.0, \"df9 data is wrong\"\n",
    "assert df9.dtypes['Breed'] == object, \"df9 structure is wrong, check data types\"\n",
    "assert df9.dtypes['obey'] == float, \"df9 structure is wrong, check data types\" \n",
    "\n",
    "assert math.isclose(56.43, lit_avg, rel_tol=1e-3), \"lit_avg is wrong\""
   ]
  },
  {
   "cell_type": "markdown",
   "metadata": {
    "deletable": false,
    "editable": false,
    "nbgrader": {
     "grade": false,
     "grade_id": "cell-e990312f7cddd0b2",
     "locked": true,
     "schema_version": 3,
     "solution": false
    }
   },
   "source": [
    "## Q10: Calculate average values of `reps_lower` using chunks and avoiding a complete data frame in memory.\n",
    "\n",
    "Using chunks, read file **data/exercises/dog_intelligence.tsv**, avoid incomplete rows within `reps_lower` and calculate the average of `reps_lower` without loading all data simultaneously. \n",
    "\n",
    "Use a similar approach of the previous question but don't create any dataframe neither any list with chunks; ***Hint: Use the average definition***\n",
    "\n"
   ]
  },
  {
   "cell_type": "code",
   "execution_count": null,
   "metadata": {
    "deletable": false,
    "nbgrader": {
     "grade": false,
     "grade_id": "cell-57fd7700885246eb",
     "locked": false,
     "schema_version": 3,
     "solution": true
    }
   },
   "outputs": [],
   "source": [
    "# Read file data/exercises/dog_intelligence.tsv\n",
    "# the final average should be in the variable final_avg\n",
    "# You should increment 2 variables in each chunk and use them at the end to calculate final_avg, call them rep_a, rep_b\n",
    "# YOUR CODE HERE\n",
    "raise NotImplementedError()\n"
   ]
  },
  {
   "cell_type": "code",
   "execution_count": null,
   "metadata": {
    "deletable": false,
    "editable": false,
    "nbgrader": {
     "grade": true,
     "grade_id": "cell-0edcf1260d7886c9",
     "locked": true,
     "points": 2,
     "schema_version": 3,
     "solution": false
    }
   },
   "outputs": [],
   "source": [
    "assert math.isclose(25.58823529411765, final_avg, rel_tol=1e-1), \"final_avg is wrong\"\n",
    "assert int(rep_b) == 3480 or int(rep_a)==136, \"rep_a or rep_b is wrong is wrong\""
   ]
  },
  {
   "cell_type": "markdown",
   "metadata": {},
   "source": [
    "Congrats, you were able to deal with all the messy data of this notebook!\n",
    "\n",
    "![title](./media/dog_2.jpeg)"
   ]
  }
 ],
 "metadata": {
  "kernelspec": {
   "display_name": "Python 3 (ipykernel)",
   "language": "python",
   "name": "python3"
  },
  "language_info": {
   "codemirror_mode": {
    "name": "ipython",
    "version": 3
   },
   "file_extension": ".py",
   "mimetype": "text/x-python",
   "name": "python",
   "nbconvert_exporter": "python",
   "pygments_lexer": "ipython3",
   "version": "3.10.1"
  }
 },
 "nbformat": 4,
 "nbformat_minor": 4
}
