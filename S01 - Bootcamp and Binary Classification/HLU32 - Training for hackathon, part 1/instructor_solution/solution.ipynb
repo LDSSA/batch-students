{
 "cells": [
  {
   "cell_type": "code",
   "execution_count": 1,
   "id": "50df3eed",
   "metadata": {},
   "outputs": [],
   "source": [
    "import os\n",
    "import base64\n",
    "import joblib\n",
    "import pandas as pd\n",
    "import numpy as np\n",
    "import category_encoders\n",
    "\n",
    "import math\n",
    "\n",
    "import seaborn as sns\n",
    "\n",
    "from sklearn.model_selection import train_test_split\n",
    "from sklearn.pipeline import make_pipeline, Pipeline\n",
    "from sklearn.model_selection import cross_val_score\n",
    "from category_encoders import OneHotEncoder\n",
    "from sklearn.impute import SimpleImputer\n",
    "from sklearn.preprocessing import StandardScaler, OneHotEncoder\n",
    "from sklearn.compose import ColumnTransformer\n",
    "from sklearn.model_selection import cross_val_score\n",
    "from sklearn.ensemble import RandomForestClassifier\n",
    "from sklearn.metrics import precision_score, recall_score, f1_score, accuracy_score, roc_auc_score, confusion_matrix, pairwise, precision_recall_curve, roc_curve\n",
    "from imblearn.under_sampling import RandomUnderSampler\n",
    "from imblearn.over_sampling import RandomOverSampler\n",
    "from sklearn.base import BaseEstimator, TransformerMixin\n",
    "\n",
    "import matplotlib.pyplot as plt\n",
    "import matplotlib.image as mpimg\n",
    "%matplotlib inline"
   ]
  },
  {
   "cell_type": "code",
   "execution_count": 2,
   "id": "ea4831f3",
   "metadata": {},
   "outputs": [],
   "source": [
    "def get_unique_values(s):\n",
    "    values_list = s.replace(' ', '').split(';')\n",
    "    \n",
    "    values_list = [i for i in values_list if i in ['E', 'S', 'N']]\n",
    "    \n",
    "    unique_values = set(values_list)\n",
    "    unique_values_str = ', '.join(unique_values)\n",
    "    \n",
    "    if unique_values_str == '':\n",
    "        return 'unknown'\n",
    "    else:\n",
    "        return unique_values_str\n",
    "\n",
    "def make_confmat_pretty(confmat):\n",
    "    # Plot the confusion matrix\n",
    "    fig, ax = plt.subplots(figsize=(4, 4))\n",
    "    ax.matshow(confmat, cmap=plt.cm.Blues, alpha=0.4)\n",
    "    for i in range(confmat.shape[0]):\n",
    "        for j in range(confmat.shape[1]):\n",
    "            ax.text(x=j, y=i,\n",
    "                    s=confmat[i, j],\n",
    "                    va='center', ha='center')\n",
    "    plt.xlabel('predicted label')\n",
    "    plt.ylabel('true label')\n",
    "    plt.title('Confusion Matrix')\n",
    "    plt.show()\n",
    "    \n",
    "#Function to separate categorical and numerical features to insert in pipeline\n",
    "def separate_cat_num_feat(df, columns_drop=None):\n",
    "    if columns_drop:\n",
    "        features = df.drop(columns=columns_drop).columns.tolist()\n",
    "    else:\n",
    "        features = df.columns.tolist()\n",
    "    \n",
    "    categorical_features = [i for i in features if df[i].dtype == 'object' or df[i].dtype == 'bool']\n",
    "    numerical_features = [i for i in features if df[i].dtype == 'int64' or df[i].dtype == 'float']\n",
    "    \n",
    "    if len(features) != len(categorical_features) + len(numerical_features):\n",
    "        print('Warning, there are missing categories in the separation procedure')\n",
    "        print('Features length: {}, categorical_features length: {}, numerical_features length: {}'.format(len(features),\n",
    "                                                                                                           len(categorical_features),\n",
    "                                                                                                           len(numerical_features)))\n",
    "        print(df.dtypes)\n",
    "    return categorical_features, numerical_features\n",
    "\n",
    "def calc_amount_metrics(df, y_pred):\n",
    "    df['prediction'] = y_pred\n",
    "    \n",
    "    fpa = df[(df['label'] == 0) & (df['prediction'] == 1)]['amount_usd'].sum()\n",
    "    tpa = df[(df['label'] == 1) & (df['prediction'] == 1)]['amount_usd'].sum()\n",
    "    \n",
    "    fp = df[(df['label'] == 0) & (df['prediction'] == 1)].shape[0]\n",
    "    tn = df[(df['label'] == 0) & (df['prediction'] == 0)].shape[0]\n",
    "\n",
    "    fpa = df[(df['label'] == 0) & (df['prediction'] == 1)]['amount_usd'].sum()\n",
    "    tna = df[(df['label'] == 0) & (df['prediction'] == 0)]['amount_usd'].sum()\n",
    "    \n",
    "    tpa = tpa/(tpa+fpa)\n",
    "    fpr = fp/(fp+tn)\n",
    "    fpa = fpa/(fpa+tna)\n",
    "    \n",
    "    return round(tpa*100, 2), round(fpr*100, 2), round(fpa*100, 2)"
   ]
  },
  {
   "cell_type": "markdown",
   "id": "386e6c1a",
   "metadata": {},
   "source": [
    "# Extracting Data"
   ]
  },
  {
   "cell_type": "code",
   "execution_count": 3,
   "id": "ed34389d",
   "metadata": {
    "scrolled": true
   },
   "outputs": [
    {
     "name": "stdout",
     "output_type": "stream",
     "text": [
      "(195401, 15)\n"
     ]
    }
   ],
   "source": [
    "df_test = pd.read_csv(\"complete_test.csv\").set_index('order_id')\n",
    "df_train = pd.read_csv(\"train.csv\").set_index('order_id')\n",
    "features = df_train.columns.to_list()\n",
    "print(df_train.shape)"
   ]
  },
  {
   "cell_type": "code",
   "execution_count": 4,
   "id": "e6885295",
   "metadata": {
    "scrolled": true
   },
   "outputs": [
    {
     "data": {
      "text/html": [
       "<div>\n",
       "<style scoped>\n",
       "    .dataframe tbody tr th:only-of-type {\n",
       "        vertical-align: middle;\n",
       "    }\n",
       "\n",
       "    .dataframe tbody tr th {\n",
       "        vertical-align: top;\n",
       "    }\n",
       "\n",
       "    .dataframe thead th {\n",
       "        text-align: right;\n",
       "    }\n",
       "</style>\n",
       "<table border=\"1\" class=\"dataframe\">\n",
       "  <thead>\n",
       "    <tr style=\"text-align: right;\">\n",
       "      <th></th>\n",
       "      <th>order_date</th>\n",
       "      <th>amount_usd</th>\n",
       "      <th>payment_method</th>\n",
       "      <th>billing_address_country_code</th>\n",
       "      <th>shipping_address_country_code</th>\n",
       "      <th>avs_code</th>\n",
       "      <th>email_amount_spent_avg_180d</th>\n",
       "      <th>email_orders_count_180d</th>\n",
       "      <th>session_visitor_type</th>\n",
       "      <th>shipping_method_type</th>\n",
       "      <th>card_expiration_date</th>\n",
       "      <th>bin_brand</th>\n",
       "      <th>bin_type</th>\n",
       "      <th>label</th>\n",
       "      <th>suspicious_activity_score</th>\n",
       "    </tr>\n",
       "    <tr>\n",
       "      <th>order_id</th>\n",
       "      <th></th>\n",
       "      <th></th>\n",
       "      <th></th>\n",
       "      <th></th>\n",
       "      <th></th>\n",
       "      <th></th>\n",
       "      <th></th>\n",
       "      <th></th>\n",
       "      <th></th>\n",
       "      <th></th>\n",
       "      <th></th>\n",
       "      <th></th>\n",
       "      <th></th>\n",
       "      <th></th>\n",
       "      <th></th>\n",
       "    </tr>\n",
       "  </thead>\n",
       "  <tbody>\n",
       "    <tr>\n",
       "      <th>181852054</th>\n",
       "      <td>2022-06-02 15:28:13</td>\n",
       "      <td>611.03</td>\n",
       "      <td>payment_method_2</td>\n",
       "      <td>SA</td>\n",
       "      <td>SA</td>\n",
       "      <td>avs_code_8</td>\n",
       "      <td>NaN</td>\n",
       "      <td>NaN</td>\n",
       "      <td>returning</td>\n",
       "      <td>E</td>\n",
       "      <td>05/2025</td>\n",
       "      <td>mastercard</td>\n",
       "      <td>credit</td>\n",
       "      <td>0.0</td>\n",
       "      <td>7.801596</td>\n",
       "    </tr>\n",
       "    <tr>\n",
       "      <th>181265052</th>\n",
       "      <td>2022-05-21 15:53:20</td>\n",
       "      <td>334.44</td>\n",
       "      <td>payment_method_1</td>\n",
       "      <td>FR</td>\n",
       "      <td>FR</td>\n",
       "      <td>avs_code_1</td>\n",
       "      <td>591.141667</td>\n",
       "      <td>6.0</td>\n",
       "      <td>returning</td>\n",
       "      <td>S</td>\n",
       "      <td>NaN</td>\n",
       "      <td>NaN</td>\n",
       "      <td>NaN</td>\n",
       "      <td>0.0</td>\n",
       "      <td>8.117476</td>\n",
       "    </tr>\n",
       "    <tr>\n",
       "      <th>149633145</th>\n",
       "      <td>2021-09-30 09:05:06</td>\n",
       "      <td>611.85</td>\n",
       "      <td>payment_method_1</td>\n",
       "      <td>HK</td>\n",
       "      <td>HK</td>\n",
       "      <td>avs_code_1</td>\n",
       "      <td>NaN</td>\n",
       "      <td>NaN</td>\n",
       "      <td>returning</td>\n",
       "      <td>E;E</td>\n",
       "      <td>NaN</td>\n",
       "      <td>NaN</td>\n",
       "      <td>NaN</td>\n",
       "      <td>0.0</td>\n",
       "      <td>6.240885</td>\n",
       "    </tr>\n",
       "    <tr>\n",
       "      <th>149158895</th>\n",
       "      <td>2021-09-22 15:19:15</td>\n",
       "      <td>198.18</td>\n",
       "      <td>payment_method_2</td>\n",
       "      <td>RU</td>\n",
       "      <td>RU</td>\n",
       "      <td>avs_code_5</td>\n",
       "      <td>473.027368</td>\n",
       "      <td>38.0</td>\n",
       "      <td>returning</td>\n",
       "      <td>E</td>\n",
       "      <td>03/2023</td>\n",
       "      <td>visa</td>\n",
       "      <td>debit</td>\n",
       "      <td>0.0</td>\n",
       "      <td>5.188745</td>\n",
       "    </tr>\n",
       "    <tr>\n",
       "      <th>169664695</th>\n",
       "      <td>2022-02-18 08:59:32</td>\n",
       "      <td>434.71</td>\n",
       "      <td>payment_method_3</td>\n",
       "      <td>HK</td>\n",
       "      <td>HK</td>\n",
       "      <td>avs_code_5</td>\n",
       "      <td>NaN</td>\n",
       "      <td>NaN</td>\n",
       "      <td>returning</td>\n",
       "      <td>E</td>\n",
       "      <td>NaN</td>\n",
       "      <td>NaN</td>\n",
       "      <td>NaN</td>\n",
       "      <td>0.0</td>\n",
       "      <td>5.738602</td>\n",
       "    </tr>\n",
       "  </tbody>\n",
       "</table>\n",
       "</div>"
      ],
      "text/plain": [
       "                    order_date  amount_usd    payment_method  \\\n",
       "order_id                                                       \n",
       "181852054  2022-06-02 15:28:13      611.03  payment_method_2   \n",
       "181265052  2022-05-21 15:53:20      334.44  payment_method_1   \n",
       "149633145  2021-09-30 09:05:06      611.85  payment_method_1   \n",
       "149158895  2021-09-22 15:19:15      198.18  payment_method_2   \n",
       "169664695  2022-02-18 08:59:32      434.71  payment_method_3   \n",
       "\n",
       "          billing_address_country_code shipping_address_country_code  \\\n",
       "order_id                                                               \n",
       "181852054                           SA                            SA   \n",
       "181265052                           FR                            FR   \n",
       "149633145                           HK                            HK   \n",
       "149158895                           RU                            RU   \n",
       "169664695                           HK                            HK   \n",
       "\n",
       "             avs_code  email_amount_spent_avg_180d  email_orders_count_180d  \\\n",
       "order_id                                                                      \n",
       "181852054  avs_code_8                          NaN                      NaN   \n",
       "181265052  avs_code_1                   591.141667                      6.0   \n",
       "149633145  avs_code_1                          NaN                      NaN   \n",
       "149158895  avs_code_5                   473.027368                     38.0   \n",
       "169664695  avs_code_5                          NaN                      NaN   \n",
       "\n",
       "          session_visitor_type shipping_method_type card_expiration_date  \\\n",
       "order_id                                                                   \n",
       "181852054            returning                    E              05/2025   \n",
       "181265052            returning                    S                  NaN   \n",
       "149633145            returning                  E;E                  NaN   \n",
       "149158895            returning                    E              03/2023   \n",
       "169664695            returning                    E                  NaN   \n",
       "\n",
       "            bin_brand bin_type  label  suspicious_activity_score  \n",
       "order_id                                                          \n",
       "181852054  mastercard   credit    0.0                   7.801596  \n",
       "181265052         NaN      NaN    0.0                   8.117476  \n",
       "149633145         NaN      NaN    0.0                   6.240885  \n",
       "149158895        visa    debit    0.0                   5.188745  \n",
       "169664695         NaN      NaN    0.0                   5.738602  "
      ]
     },
     "execution_count": 4,
     "metadata": {},
     "output_type": "execute_result"
    }
   ],
   "source": [
    "df_train.head()"
   ]
  },
  {
   "cell_type": "markdown",
   "id": "6a0b43c5",
   "metadata": {},
   "source": [
    "# EDA"
   ]
  },
  {
   "cell_type": "code",
   "execution_count": 4,
   "id": "034f7011",
   "metadata": {},
   "outputs": [
    {
     "data": {
      "text/plain": [
       "order_date                        object\n",
       "amount_usd                       float64\n",
       "payment_method                    object\n",
       "billing_address_country_code      object\n",
       "shipping_address_country_code     object\n",
       "avs_code                          object\n",
       "email_amount_spent_avg_180d      float64\n",
       "email_orders_count_180d          float64\n",
       "session_visitor_type              object\n",
       "shipping_method_type              object\n",
       "card_expiration_date              object\n",
       "bin_brand                         object\n",
       "bin_type                          object\n",
       "label                            float64\n",
       "suspicious_activity_score        float64\n",
       "dtype: object"
      ]
     },
     "execution_count": 4,
     "metadata": {},
     "output_type": "execute_result"
    }
   ],
   "source": [
    "df_train.dtypes"
   ]
  },
  {
   "cell_type": "code",
   "execution_count": 7,
   "id": "075f22b4",
   "metadata": {},
   "outputs": [
    {
     "data": {
      "text/plain": [
       "order_date                       174799\n",
       "amount_usd                        83602\n",
       "payment_method                        8\n",
       "billing_address_country_code        166\n",
       "shipping_address_country_code       166\n",
       "avs_code                             24\n",
       "email_amount_spent_avg_180d       82105\n",
       "email_orders_count_180d             665\n",
       "session_visitor_type                  2\n",
       "shipping_method_type                156\n",
       "card_expiration_date                187\n",
       "bin_brand                            10\n",
       "bin_type                              3\n",
       "label                                 2\n",
       "suspicious_activity_score        190343\n",
       "dtype: int64"
      ]
     },
     "execution_count": 7,
     "metadata": {},
     "output_type": "execute_result"
    }
   ],
   "source": [
    "df_train.nunique()"
   ]
  },
  {
   "cell_type": "code",
   "execution_count": 6,
   "id": "952f9131",
   "metadata": {},
   "outputs": [
    {
     "data": {
      "text/plain": [
       "order_date                           0\n",
       "amount_usd                           0\n",
       "payment_method                     622\n",
       "billing_address_country_code        21\n",
       "shipping_address_country_code       17\n",
       "avs_code                          3467\n",
       "email_amount_spent_avg_180d      95444\n",
       "email_orders_count_180d          96131\n",
       "session_visitor_type             35812\n",
       "shipping_method_type                 0\n",
       "card_expiration_date             60605\n",
       "bin_brand                        61685\n",
       "bin_type                         62099\n",
       "label                               10\n",
       "suspicious_activity_score            0\n",
       "dtype: int64"
      ]
     },
     "execution_count": 6,
     "metadata": {},
     "output_type": "execute_result"
    }
   ],
   "source": [
    "df_train.isnull().sum()"
   ]
  },
  {
   "cell_type": "code",
   "execution_count": 14,
   "id": "d8e5cfc0",
   "metadata": {},
   "outputs": [
    {
     "data": {
      "text/html": [
       "<div>\n",
       "<style scoped>\n",
       "    .dataframe tbody tr th:only-of-type {\n",
       "        vertical-align: middle;\n",
       "    }\n",
       "\n",
       "    .dataframe tbody tr th {\n",
       "        vertical-align: top;\n",
       "    }\n",
       "\n",
       "    .dataframe thead th {\n",
       "        text-align: right;\n",
       "    }\n",
       "</style>\n",
       "<table border=\"1\" class=\"dataframe\">\n",
       "  <thead>\n",
       "    <tr style=\"text-align: right;\">\n",
       "      <th></th>\n",
       "      <th>amount_usd</th>\n",
       "      <th>email_amount_spent_avg_180d</th>\n",
       "      <th>email_orders_count_180d</th>\n",
       "      <th>label</th>\n",
       "      <th>suspicious_activity_score</th>\n",
       "    </tr>\n",
       "  </thead>\n",
       "  <tbody>\n",
       "    <tr>\n",
       "      <th>count</th>\n",
       "      <td>195401.000000</td>\n",
       "      <td>99957.000000</td>\n",
       "      <td>99270.000000</td>\n",
       "      <td>195391.000000</td>\n",
       "      <td>195401.000000</td>\n",
       "    </tr>\n",
       "    <tr>\n",
       "      <th>mean</th>\n",
       "      <td>416.202721</td>\n",
       "      <td>601.548982</td>\n",
       "      <td>16.563957</td>\n",
       "      <td>0.090178</td>\n",
       "      <td>11.172787</td>\n",
       "    </tr>\n",
       "    <tr>\n",
       "      <th>std</th>\n",
       "      <td>303.273803</td>\n",
       "      <td>613.567228</td>\n",
       "      <td>59.119859</td>\n",
       "      <td>0.286438</td>\n",
       "      <td>14.892533</td>\n",
       "    </tr>\n",
       "    <tr>\n",
       "      <th>min</th>\n",
       "      <td>0.770000</td>\n",
       "      <td>1.480000</td>\n",
       "      <td>1.000000</td>\n",
       "      <td>0.000000</td>\n",
       "      <td>0.177196</td>\n",
       "    </tr>\n",
       "    <tr>\n",
       "      <th>25%</th>\n",
       "      <td>192.480000</td>\n",
       "      <td>290.130000</td>\n",
       "      <td>1.000000</td>\n",
       "      <td>0.000000</td>\n",
       "      <td>4.409769</td>\n",
       "    </tr>\n",
       "    <tr>\n",
       "      <th>50%</th>\n",
       "      <td>320.490000</td>\n",
       "      <td>459.960000</td>\n",
       "      <td>4.000000</td>\n",
       "      <td>0.000000</td>\n",
       "      <td>6.317762</td>\n",
       "    </tr>\n",
       "    <tr>\n",
       "      <th>75%</th>\n",
       "      <td>551.780000</td>\n",
       "      <td>729.470000</td>\n",
       "      <td>10.000000</td>\n",
       "      <td>0.000000</td>\n",
       "      <td>9.452618</td>\n",
       "    </tr>\n",
       "    <tr>\n",
       "      <th>max</th>\n",
       "      <td>1499.780000</td>\n",
       "      <td>50585.300000</td>\n",
       "      <td>1355.000000</td>\n",
       "      <td>1.000000</td>\n",
       "      <td>69.523928</td>\n",
       "    </tr>\n",
       "  </tbody>\n",
       "</table>\n",
       "</div>"
      ],
      "text/plain": [
       "          amount_usd  email_amount_spent_avg_180d  email_orders_count_180d  \\\n",
       "count  195401.000000                 99957.000000             99270.000000   \n",
       "mean      416.202721                   601.548982                16.563957   \n",
       "std       303.273803                   613.567228                59.119859   \n",
       "min         0.770000                     1.480000                 1.000000   \n",
       "25%       192.480000                   290.130000                 1.000000   \n",
       "50%       320.490000                   459.960000                 4.000000   \n",
       "75%       551.780000                   729.470000                10.000000   \n",
       "max      1499.780000                 50585.300000              1355.000000   \n",
       "\n",
       "               label  suspicious_activity_score  \n",
       "count  195391.000000              195401.000000  \n",
       "mean        0.090178                  11.172787  \n",
       "std         0.286438                  14.892533  \n",
       "min         0.000000                   0.177196  \n",
       "25%         0.000000                   4.409769  \n",
       "50%         0.000000                   6.317762  \n",
       "75%         0.000000                   9.452618  \n",
       "max         1.000000                  69.523928  "
      ]
     },
     "execution_count": 14,
     "metadata": {},
     "output_type": "execute_result"
    }
   ],
   "source": [
    "df_train.describe()"
   ]
  },
  {
   "cell_type": "code",
   "execution_count": 7,
   "id": "5b63cc1c",
   "metadata": {},
   "outputs": [
    {
     "data": {
      "text/plain": [
       "5053"
      ]
     },
     "execution_count": 7,
     "metadata": {},
     "output_type": "execute_result"
    }
   ],
   "source": [
    "df_train.duplicated().sum()"
   ]
  },
  {
   "cell_type": "code",
   "execution_count": 9,
   "id": "23fdbd12",
   "metadata": {},
   "outputs": [
    {
     "data": {
      "text/plain": [
       "5135"
      ]
     },
     "execution_count": 9,
     "metadata": {},
     "output_type": "execute_result"
    }
   ],
   "source": [
    "df_train.index.duplicated().sum()"
   ]
  },
  {
   "cell_type": "code",
   "execution_count": 4,
   "id": "ea1e8fef",
   "metadata": {},
   "outputs": [
    {
     "data": {
      "image/png": "[encoded data removed]",
      "text/plain": [
       "<Figure size 500x300 with 2 Axes>"
      ]
     },
     "metadata": {},
     "output_type": "display_data"
    }
   ],
   "source": [
    "categorical_features, numerical_features = separate_cat_num_feat(df_train)\n",
    "\n",
    "cor_mat = df_train[numerical_features].corr() \n",
    "lower_triangle_mask = np.triu(np.ones(cor_mat.shape)).astype(bool)\n",
    "cor_mat_lower = cor_mat.mask(lower_triangle_mask)\n",
    "\n",
    "plt.figure(figsize = (5,3)) \n",
    "\n",
    "sns.heatmap(cor_mat_lower, \n",
    "            annot=True, \n",
    "            cmap='RdBu_r');"
   ]
  },
  {
   "cell_type": "code",
   "execution_count": 6,
   "id": "2eef2a48",
   "metadata": {},
   "outputs": [
    {
     "data": {
      "image/png": "[encoded data removed]",
      "text/plain": [
       "<Figure size 640x480 with 1 Axes>"
      ]
     },
     "metadata": {},
     "output_type": "display_data"
    }
   ],
   "source": [
    "df_train.label.value_counts(normalize=True).plot(kind=\"bar\");\n",
    "plt.xlabel('Fraud Label');\n",
    "plt.ylabel('Number of cases');"
   ]
  },
  {
   "cell_type": "markdown",
   "id": "f6608fe6",
   "metadata": {},
   "source": [
    "# Data Cleaning"
   ]
  },
  {
   "cell_type": "code",
   "execution_count": 4,
   "id": "a27f65a0",
   "metadata": {},
   "outputs": [
    {
     "name": "stdout",
     "output_type": "stream",
     "text": [
      "Nbr of obs: 186329, (95.36%)\n",
      "Nbr of obs: 57937, (99.52%)\n"
     ]
    }
   ],
   "source": [
    "def data_cleaner(df):\n",
    "    df_ = df.copy()\n",
    "    \n",
    "    df_['email_amount_spent_avg_180d'].fillna(0, inplace=True) #NaN assumed that there is no prior amount spent\n",
    "    df_['email_orders_count_180d'].fillna(0, inplace=True) #NaN assumed that there are no prior orders onde\n",
    "    df_['session_visitor_type'].fillna('unknown', inplace=True)\n",
    "    \n",
    "    df_['bin_brand'].fillna('unknown', inplace=True)\n",
    "    df_['bin_type'].fillna('unknown', inplace=True)\n",
    "    df_['card_expiration_date'].fillna('unknown', inplace=True)\n",
    "    \n",
    "    df_['shipping_method_type'] = df_['shipping_method_type'].apply(get_unique_values) #cleaning values of this feature\n",
    "    df_= df_.drop(columns=['suspicious_activity_score'])\n",
    "    \n",
    "    df_ = df_.drop_duplicates()\n",
    "    df_ = df_.dropna()\n",
    "    \n",
    "    print('Nbr of obs: {}, ({}%)'.format(df_.shape[0], round(df_.shape[0]/df.shape[0]*100, 2)))\n",
    "    return df_\n",
    "\n",
    "df_train_clean = data_cleaner(df_train)\n",
    "df_test_clean = data_cleaner(df_test)"
   ]
  },
  {
   "cell_type": "markdown",
   "id": "0b131906",
   "metadata": {},
   "source": [
    "# Feature Engineering"
   ]
  },
  {
   "cell_type": "code",
   "execution_count": 5,
   "id": "d22382f1",
   "metadata": {},
   "outputs": [],
   "source": [
    "class Daytime(BaseEstimator, TransformerMixin):\n",
    "    def __init__(self):\n",
    "        pass\n",
    "    def fit(self, X=None, y=None, **fit_params):\n",
    "        return self\n",
    "    def transform(self, data):\n",
    "        X = data.copy()\n",
    "        X['order_date'] = pd.to_datetime(X['order_date'], infer_datetime_format=True)\n",
    "        X['day_of_week'] = X['order_date'].dt.strftime('%A')\n",
    "        X['time_of_day'] = X['order_date'].dt.hour.apply(lambda x: 'morning' if x < 12 else ('afternoon' if x < 20 else 'evening'))\n",
    "\n",
    "        return X "
   ]
  },
  {
   "cell_type": "code",
   "execution_count": 6,
   "id": "48258b7e",
   "metadata": {},
   "outputs": [],
   "source": [
    "class MaxAvg180Ratio(BaseEstimator, TransformerMixin):\n",
    "    def __init__(self):\n",
    "        pass\n",
    "    def fit(self, X=None, y=None, **fit_params):\n",
    "        return self\n",
    "    def transform(self, data):\n",
    "        X = data.copy()\n",
    "        X['avg_180_max_ratio'] = X['email_amount_spent_avg_180d']/X['amount_usd']\n",
    "        \n",
    "        return X "
   ]
  },
  {
   "cell_type": "code",
   "execution_count": 7,
   "id": "6530d076",
   "metadata": {},
   "outputs": [],
   "source": [
    "class SameCountryAdress(BaseEstimator, TransformerMixin):\n",
    "    def __init__(self):\n",
    "        pass\n",
    "    def fit(self, X=None, y=None, **fit_params):\n",
    "        return self\n",
    "    def transform(self, data):\n",
    "        X = data.copy()\n",
    "        X['same_country_address'] = np.where(X['billing_address_country_code'] == X['shipping_address_country_code'], True, False)\n",
    "        return X "
   ]
  },
  {
   "cell_type": "code",
   "execution_count": 8,
   "id": "89302289",
   "metadata": {},
   "outputs": [],
   "source": [
    "class YearMonth(BaseEstimator, TransformerMixin):\n",
    "    def __init__(self):\n",
    "        pass\n",
    "    def fit(self, X=None, y=None, **fit_params):\n",
    "        return self\n",
    "    def transform(self, data):\n",
    "        X = data.copy()\n",
    "        X['year_month'] = X['order_date'].astype(str).str[:7]\n",
    "        X = X.drop(columns=['order_date'])\n",
    "        return X "
   ]
  },
  {
   "cell_type": "markdown",
   "id": "2bd382da",
   "metadata": {},
   "source": [
    "# Creating the Model"
   ]
  },
  {
   "cell_type": "code",
   "execution_count": 11,
   "id": "78ea24a3",
   "metadata": {},
   "outputs": [
    {
     "name": "stderr",
     "output_type": "stream",
     "text": [
      "/tmp/ipykernel_835/1706677285.py:8: UserWarning: The argument 'infer_datetime_format' is deprecated and will be removed in a future version. A strict version of it is now the default, see https://pandas.pydata.org/pdeps/0004-consistent-to-datetime-parsing.html. You can safely remove this argument.\n",
      "  X['order_date'] = pd.to_datetime(X['order_date'], infer_datetime_format=True)\n",
      "/tmp/ipykernel_835/1706677285.py:8: UserWarning: The argument 'infer_datetime_format' is deprecated and will be removed in a future version. A strict version of it is now the default, see https://pandas.pydata.org/pdeps/0004-consistent-to-datetime-parsing.html. You can safely remove this argument.\n",
      "  X['order_date'] = pd.to_datetime(X['order_date'], infer_datetime_format=True)\n"
     ]
    },
    {
     "name": "stdout",
     "output_type": "stream",
     "text": [
      "General\n",
      "ROCAUC score:0.822134957797958\n",
      "f1_score:0.3847510286338064\n",
      "precision:0.24373636895579553\n",
      "recall:0.9129308627216577\n",
      "\n",
      "True Positive Amount: 27.09%\n",
      "False Positive Rate: 26.87%\n",
      "False Positive Amount: 29.43%\n"
     ]
    },
    {
     "data": {
      "image/png": "[encoded data removed]",
      "text/plain": [
       "<Figure size 400x400 with 1 Axes>"
      ]
     },
     "metadata": {},
     "output_type": "display_data"
    }
   ],
   "source": [
    "categorical_features, numerical_features = separate_cat_num_feat(df_train_clean, ['label', 'order_date'])\n",
    "target = 'label'\n",
    "\n",
    "categorical_transformer = Pipeline(steps=[('onehot', OneHotEncoder(handle_unknown='ignore'))])\n",
    "\n",
    "numerical_transformer = Pipeline(steps=[\n",
    "                                       ('scaler', StandardScaler())])\n",
    "\n",
    "                                   \n",
    "                                   \n",
    "preprocessor = ColumnTransformer(\n",
    "    transformers=[(\"cat\", categorical_transformer, categorical_features),\n",
    "                  (\"num\", numerical_transformer, numerical_features)]\n",
    ")\n",
    "\n",
    "pipeline = Pipeline([\n",
    "    (\"feat_engineering_1\", Daytime()),\n",
    "    (\"feat_engineering_2\", MaxAvg180Ratio()),\n",
    "    (\"feat_engineering_3\", SameCountryAdress()),\n",
    "    (\"feat_engineering_4\", YearMonth()),\n",
    "    (\"preprocessor\", preprocessor),\n",
    "    ('model', RandomForestClassifier(max_depth=10, random_state=42, n_jobs=-1))\n",
    "])\n",
    "\n",
    "\n",
    "X_train = df_train_clean.drop(columns=['label'])\n",
    "y_train = df_train_clean[target]\n",
    "\n",
    "X_test = df_test_clean.drop(columns=['label'])\n",
    "y_test = df_test_clean[target]\n",
    "\n",
    "#Performing oversampling (sampling_strategy coeff. chosen for scoring purposes)\n",
    "ros_sampler = RandomOverSampler(sampling_strategy=1, random_state=42)\n",
    "X_train, y_train = ros_sampler.fit_resample(X_train, y_train)\n",
    "\n",
    "\n",
    "pipeline.fit(X_train, y_train)\n",
    "\n",
    "y_pred = pipeline.predict(X_test)\n",
    "\n",
    "\n",
    "print('General')\n",
    "print('ROCAUC score:{}'.format(roc_auc_score(y_test, y_pred)))\n",
    "print('f1_score:{}'.format(f1_score(y_test, y_pred)))\n",
    "print('precision:{}'.format(precision_score(y_test, y_pred)))\n",
    "print('recall:{}\\n'.format(recall_score(y_test, y_pred)))\n",
    "\n",
    "tpa, fpr, fpa = calc_amount_metrics(df_test_clean, y_pred)                          \n",
    "print('True Positive Amount: {}%'.format(tpa))\n",
    "print('False Positive Rate: {}%'.format(fpr))\n",
    "print('False Positive Amount: {}%'.format(fpa))\n",
    "\n",
    "confmat = confusion_matrix(y_true=y_test, \n",
    "                           y_pred=y_pred)\n",
    "make_confmat_pretty(confmat)"
   ]
  },
  {
   "cell_type": "markdown",
   "id": "d1d5d60f",
   "metadata": {},
   "source": [
    "### ROC-AUC Score"
   ]
  },
  {
   "cell_type": "code",
   "execution_count": 16,
   "id": "157f818b",
   "metadata": {
    "scrolled": false
   },
   "outputs": [
    {
     "name": "stderr",
     "output_type": "stream",
     "text": [
      "/tmp/ipykernel_186/1706677285.py:8: UserWarning: The argument 'infer_datetime_format' is deprecated and will be removed in a future version. A strict version of it is now the default, see https://pandas.pydata.org/pdeps/0004-consistent-to-datetime-parsing.html. You can safely remove this argument.\n",
      "  X['order_date'] = pd.to_datetime(X['order_date'], infer_datetime_format=True)\n"
     ]
    },
    {
     "data": {
      "image/png": "[encoded data removed]",
      "text/plain": [
       "<Figure size 800x600 with 1 Axes>"
      ]
     },
     "metadata": {},
     "output_type": "display_data"
    }
   ],
   "source": [
    "roc_auc = roc_auc_score(y_test, y_pred)\n",
    "fpr, tpr, thresholds = roc_curve(y_score=pipeline.predict_proba(X_test)[:,1], y_true=y_test)\n",
    "def plot_roc_curve(roc_auc, fpr, tpr):\n",
    "    \n",
    "    plt.figure(figsize=(8,6))\n",
    "    lw = 2\n",
    "    plt.plot(fpr, tpr, color='orange', lw=lw, label='ROC curve (AUROC = %0.2f)' % roc_auc)\n",
    "    plt.plot([0, 1], [0, 1], color='navy', lw=lw, linestyle='--', label='random')\n",
    "    plt.xlim([-0.05, 1.0])\n",
    "    plt.ylim([0.0, 1.05])\n",
    "    plt.grid()\n",
    "    plt.xlabel('False Positive Rate')\n",
    "    plt.ylabel('True Positive Rate')\n",
    "    plt.title('Receiver operating characteristic example')\n",
    "    plt.legend(loc=\"lower right\")\n",
    "    plt.show()\n",
    "plot_roc_curve(roc_auc, fpr, tpr)"
   ]
  },
  {
   "cell_type": "markdown",
   "id": "b73b16f9",
   "metadata": {},
   "source": [
    "##### Load the test set"
   ]
  },
  {
   "cell_type": "code",
   "execution_count": 14,
   "id": "fb3671af",
   "metadata": {},
   "outputs": [],
   "source": [
    "test = pd.read_csv('test.csv').set_index(\"order_id\")"
   ]
  },
  {
   "cell_type": "markdown",
   "id": "c08dd8ac",
   "metadata": {},
   "source": [
    "##### Use the pipeline to get predictions (very simple!)"
   ]
  },
  {
   "cell_type": "code",
   "execution_count": null,
   "id": "927cbd5e",
   "metadata": {},
   "outputs": [],
   "source": [
    "y_scores_final = pipeline.predict_proba(test)[:,1]"
   ]
  },
  {
   "cell_type": "markdown",
   "id": "35759dd6",
   "metadata": {},
   "source": [
    "##### Prepare the submissions file"
   ]
  },
  {
   "cell_type": "code",
   "execution_count": null,
   "id": "4d9b3b4b",
   "metadata": {},
   "outputs": [],
   "source": [
    "submission = pd.Series(y_scores_final,index=test.index, name='order_id')\n",
    "submission.to_csv(\"submission.csv\")"
   ]
  }
 ],
 "metadata": {
  "kernelspec": {
   "display_name": "Python 3 (ipykernel)",
   "language": "python",
   "name": "python3"
  },
  "language_info": {
   "codemirror_mode": {
    "name": "ipython",
    "version": 3
   },
   "file_extension": ".py",
   "mimetype": "text/x-python",
   "name": "python",
   "nbconvert_exporter": "python",
   "pygments_lexer": "ipython3",
   "version": "3.10.13"
  }
 },
 "nbformat": 4,
 "nbformat_minor": 5
}
